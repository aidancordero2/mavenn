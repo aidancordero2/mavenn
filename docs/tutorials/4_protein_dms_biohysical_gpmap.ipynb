{
 "cells": [
  {
   "cell_type": "markdown",
   "metadata": {},
   "source": [
    "# Tutorial 4: Protein DMS modeling using a biophysical G-P map"
   ]
  },
  {
   "cell_type": "code",
   "execution_count": 1,
   "metadata": {
    "ExecuteTime": {
     "end_time": "2021-12-28T18:00:35.488053Z",
     "start_time": "2021-12-28T18:00:33.630213Z"
    },
    "jupyter": {
     "outputs_hidden": false
    },
    "pycharm": {
     "name": "#%%\n"
    }
   },
   "outputs": [],
   "source": [
    "# Standard imports\n",
    "import numpy as np\n",
    "import pandas as pd\n",
    "import matplotlib.pyplot as plt\n",
    "\n",
    "# Special imports\n",
    "import mavenn"
   ]
  },
  {
   "cell_type": "markdown",
   "metadata": {},
   "source": [
    "Here we show how to train and visualize a thermodynamic model  describing the folding and IgG-binding of protein GB1 variants. This model was first proposed by Otwinowski (2018), who trained it on the DMS data of Olson et al. (2014). Here we repeat this exercise within the MAVE-NN framework, thus obtaining a model similar to the one featured in Figs. 6a and 6b of Tareen et al. (2021). The mathematical form of this G-P map is explianed in the supplemental material of Tareen et al. (2021); see in particular  Fig. S4a."
   ]
  },
  {
   "cell_type": "markdown",
   "metadata": {},
   "source": [
    "## Defining a custom G-P map\n",
    "\n",
    "First we define a custom G-P map that represents our biophysical model. We do this by subclassing `CustomGPMapLayer` to get a custom G-P map class called `OtwinowskiGPMapLayer`. This subclassing procedure requires that we fill in the bodies of two specific methods.\n",
    "- `__init__()`: This constructor must first call the superclass constructor, which sets the attributes `L`, `C`, and `regularizer`. The the derived class constructor then defines all of the trainable parameters of the G-P map: `theta_f_0`, `theta_b_0`, `theta_f_lc`, and `theta_b_lc` in this case.  \n",
    "- `call()`: This is the meat of the custom G-P map. The input `x_lc` is a one-hot encoding of all sequences in a minimatch. It has size `[-1, L, C]`, where the first index runs over minibatch examples. The G-P map parameters are then used to compute and return a vector `phi` of latent phenotype values, one for each input sequence in the minibatch."
   ]
  },
  {
   "cell_type": "code",
   "execution_count": 2,
   "metadata": {
    "ExecuteTime": {
     "end_time": "2021-12-28T18:00:35.497266Z",
     "start_time": "2021-12-28T18:00:35.493335Z"
    }
   },
   "outputs": [],
   "source": [
    "# Standard TensorFlow imports\n",
    "import tensorflow as tf\n",
    "import tensorflow.keras.backend as K\n",
    "from tensorflow.keras.initializers import Constant\n",
    "\n",
    "# Import base class\n",
    "from mavenn.src.layers.gpmap import GPMapLayer\n",
    "\n",
    "# Define custom G-P map layer\n",
    "class OtwinowskiGPMapLayer(GPMapLayer):\n",
    "    \"\"\"\n",
    "    A G-P map representing the thermodynamic model described by\n",
    "    Otwinowski (2018).\n",
    "    \"\"\"\n",
    "\n",
    "    def __init__(self, *args, **kwargs):\n",
    "        \"\"\"Construct layer instance.\"\"\"\n",
    "\n",
    "        # Call superclass constructor\n",
    "        # Sets self.L, self.C, and self.regularizer\n",
    "        super().__init__(*args, **kwargs)\n",
    "        \n",
    "        # Initialize constant parameter for folding energy\n",
    "        self.theta_f_0 = self.add_weight(name='theta_f_0',\n",
    "                                         shape=(1,),\n",
    "                                         trainable=True,\n",
    "                                         regularizer=self.regularizer)\n",
    "\n",
    "        # Initialize constant parameter for binding energy\n",
    "        self.theta_b_0 = self.add_weight(name='theta_b_0',\n",
    "                                         shape=(1,),\n",
    "                                         trainable=True,\n",
    "                                         regularizer=self.regularizer)\n",
    "\n",
    "        # Initialize additive parameter for folding energy\n",
    "        self.theta_f_lc = self.add_weight(name='theta_f_lc',\n",
    "                                          shape=(1, self.L, self.C),\n",
    "                                          trainable=True,\n",
    "                                          regularizer=self.regularizer)\n",
    "\n",
    "        # Initialize additive parameter for binding energy\n",
    "        self.theta_b_lc = self.add_weight(name='theta_b_lc',\n",
    "                                          shape=(1, self.L, self.C),\n",
    "                                          trainable=True,\n",
    "                                          regularizer=self.regularizer)\n",
    "\n",
    "    def call(self, x_lc):\n",
    "        \"\"\"Compute phi given x.\"\"\"\n",
    "\n",
    "        # 1kT = 0.582 kcal/mol at room temperature\n",
    "        kT = 0.582\n",
    "\n",
    "        # Reshape input to samples x length x characters\n",
    "        x_lc = tf.reshape(x_lc, [-1, self.L, self.C])\n",
    "        \n",
    "        # Compute Delta G for binding\n",
    "        Delta_G_b = self.theta_b_0 + \\\n",
    "                    tf.reshape(K.sum(self.theta_b_lc * x_lc, axis=[1, 2]),\n",
    "                               shape=[-1, 1])\n",
    "            \n",
    "        # Compute Delta G for folding\n",
    "        Delta_G_f = self.theta_f_0 + \\\n",
    "                    tf.reshape(K.sum(self.theta_f_lc * x_lc, axis=[1, 2]),\n",
    "                               shape=[-1, 1])\n",
    "        \n",
    "        # Compute and return fraction folded and bound\n",
    "        Z = 1+K.exp(-Delta_G_f/kT)+K.exp(-(Delta_G_f+Delta_G_b)/kT)\n",
    "        p_bf = (K.exp(-(Delta_G_f+Delta_G_b)/kT))/Z\n",
    "        phi = p_bf #K.log(p_bf)/np.log(2)\n",
    "        return phi"
   ]
  },
  {
   "cell_type": "markdown",
   "metadata": {
    "pycharm": {
     "name": "#%% md\n"
    }
   },
   "source": [
    "## Training a model with a custom G-P map\n",
    "\n",
    "Next we load the `'gb1'` dataset, compute sequence length, and split the data into a test set and a training+validation set."
   ]
  },
  {
   "cell_type": "code",
   "execution_count": 3,
   "metadata": {
    "ExecuteTime": {
     "end_time": "2021-12-28T18:00:42.266957Z",
     "start_time": "2021-12-28T18:00:41.577553Z"
    },
    "pycharm": {
     "name": "#%%\n"
    }
   },
   "outputs": [
    {
     "name": "stdout",
     "output_type": "stream",
     "text": [
      "Loading dataset 'gb1' \n",
      "Sequence length: 55 amino acids\n",
      "Training set   :  477,854 observations (  90.04%)\n",
      "Validation set :   26,519 observations (   5.00%)\n",
      "Test set       :   26,364 observations (   4.97%)\n",
      "-------------------------------------------------\n",
      "Total dataset  :  530,737 observations ( 100.00%)\n",
      "\n",
      "trainval_df:\n"
     ]
    },
    {
     "data": {
      "text/html": [
       "<div>\n",
       "<style scoped>\n",
       "    .dataframe tbody tr th:only-of-type {\n",
       "        vertical-align: middle;\n",
       "    }\n",
       "\n",
       "    .dataframe tbody tr th {\n",
       "        vertical-align: top;\n",
       "    }\n",
       "\n",
       "    .dataframe thead th {\n",
       "        text-align: right;\n",
       "    }\n",
       "</style>\n",
       "<table border=\"1\" class=\"dataframe\">\n",
       "  <thead>\n",
       "    <tr style=\"text-align: right;\">\n",
       "      <th></th>\n",
       "      <th>validation</th>\n",
       "      <th>dist</th>\n",
       "      <th>input_ct</th>\n",
       "      <th>selected_ct</th>\n",
       "      <th>y</th>\n",
       "      <th>x</th>\n",
       "    </tr>\n",
       "  </thead>\n",
       "  <tbody>\n",
       "    <tr>\n",
       "      <th>0</th>\n",
       "      <td>False</td>\n",
       "      <td>2</td>\n",
       "      <td>173</td>\n",
       "      <td>33</td>\n",
       "      <td>-3.145154</td>\n",
       "      <td>AAKLILNGKTLKGETTTEAVDAATAEKVFKQYANDNGVDGEWTYDD...</td>\n",
       "    </tr>\n",
       "    <tr>\n",
       "      <th>1</th>\n",
       "      <td>False</td>\n",
       "      <td>2</td>\n",
       "      <td>18</td>\n",
       "      <td>8</td>\n",
       "      <td>-1.867676</td>\n",
       "      <td>ACKLILNGKTLKGETTTEAVDAATAEKVFKQYANDNGVDGEWTYDD...</td>\n",
       "    </tr>\n",
       "    <tr>\n",
       "      <th>2</th>\n",
       "      <td>False</td>\n",
       "      <td>2</td>\n",
       "      <td>66</td>\n",
       "      <td>2</td>\n",
       "      <td>-5.270800</td>\n",
       "      <td>ADKLILNGKTLKGETTTEAVDAATAEKVFKQYANDNGVDGEWTYDD...</td>\n",
       "    </tr>\n",
       "    <tr>\n",
       "      <th>3</th>\n",
       "      <td>False</td>\n",
       "      <td>2</td>\n",
       "      <td>72</td>\n",
       "      <td>1</td>\n",
       "      <td>-5.979498</td>\n",
       "      <td>AEKLILNGKTLKGETTTEAVDAATAEKVFKQYANDNGVDGEWTYDD...</td>\n",
       "    </tr>\n",
       "    <tr>\n",
       "      <th>4</th>\n",
       "      <td>False</td>\n",
       "      <td>2</td>\n",
       "      <td>69</td>\n",
       "      <td>168</td>\n",
       "      <td>0.481923</td>\n",
       "      <td>AFKLILNGKTLKGETTTEAVDAATAEKVFKQYANDNGVDGEWTYDD...</td>\n",
       "    </tr>\n",
       "    <tr>\n",
       "      <th>...</th>\n",
       "      <td>...</td>\n",
       "      <td>...</td>\n",
       "      <td>...</td>\n",
       "      <td>...</td>\n",
       "      <td>...</td>\n",
       "      <td>...</td>\n",
       "    </tr>\n",
       "    <tr>\n",
       "      <th>504368</th>\n",
       "      <td>False</td>\n",
       "      <td>2</td>\n",
       "      <td>462</td>\n",
       "      <td>139</td>\n",
       "      <td>-2.515259</td>\n",
       "      <td>QYKLILNGKTLKGETTTEAVDAATAEKVFKQYANDNGVDGEWTYDD...</td>\n",
       "    </tr>\n",
       "    <tr>\n",
       "      <th>504369</th>\n",
       "      <td>False</td>\n",
       "      <td>2</td>\n",
       "      <td>317</td>\n",
       "      <td>84</td>\n",
       "      <td>-2.693165</td>\n",
       "      <td>QYKLILNGKTLKGETTTEAVDAATAEKVFKQYANDNGVDGEWTYDD...</td>\n",
       "    </tr>\n",
       "    <tr>\n",
       "      <th>504370</th>\n",
       "      <td>False</td>\n",
       "      <td>2</td>\n",
       "      <td>335</td>\n",
       "      <td>77</td>\n",
       "      <td>-2.896589</td>\n",
       "      <td>QYKLILNGKTLKGETTTEAVDAATAEKVFKQYANDNGVDGEWTYDD...</td>\n",
       "    </tr>\n",
       "    <tr>\n",
       "      <th>504371</th>\n",
       "      <td>False</td>\n",
       "      <td>2</td>\n",
       "      <td>148</td>\n",
       "      <td>28</td>\n",
       "      <td>-3.150861</td>\n",
       "      <td>QYKLILNGKTLKGETTTEAVDAATAEKVFKQYANDNGVDGEWTYDD...</td>\n",
       "    </tr>\n",
       "    <tr>\n",
       "      <th>504372</th>\n",
       "      <td>False</td>\n",
       "      <td>2</td>\n",
       "      <td>95</td>\n",
       "      <td>16</td>\n",
       "      <td>-3.287173</td>\n",
       "      <td>QYKLILNGKTLKGETTTEAVDAATAEKVFKQYANDNGVDGEWTYDD...</td>\n",
       "    </tr>\n",
       "  </tbody>\n",
       "</table>\n",
       "<p>504373 rows × 6 columns</p>\n",
       "</div>"
      ],
      "text/plain": [
       "        validation  dist  input_ct  selected_ct         y  \\\n",
       "0            False     2       173           33 -3.145154   \n",
       "1            False     2        18            8 -1.867676   \n",
       "2            False     2        66            2 -5.270800   \n",
       "3            False     2        72            1 -5.979498   \n",
       "4            False     2        69          168  0.481923   \n",
       "...            ...   ...       ...          ...       ...   \n",
       "504368       False     2       462          139 -2.515259   \n",
       "504369       False     2       317           84 -2.693165   \n",
       "504370       False     2       335           77 -2.896589   \n",
       "504371       False     2       148           28 -3.150861   \n",
       "504372       False     2        95           16 -3.287173   \n",
       "\n",
       "                                                        x  \n",
       "0       AAKLILNGKTLKGETTTEAVDAATAEKVFKQYANDNGVDGEWTYDD...  \n",
       "1       ACKLILNGKTLKGETTTEAVDAATAEKVFKQYANDNGVDGEWTYDD...  \n",
       "2       ADKLILNGKTLKGETTTEAVDAATAEKVFKQYANDNGVDGEWTYDD...  \n",
       "3       AEKLILNGKTLKGETTTEAVDAATAEKVFKQYANDNGVDGEWTYDD...  \n",
       "4       AFKLILNGKTLKGETTTEAVDAATAEKVFKQYANDNGVDGEWTYDD...  \n",
       "...                                                   ...  \n",
       "504368  QYKLILNGKTLKGETTTEAVDAATAEKVFKQYANDNGVDGEWTYDD...  \n",
       "504369  QYKLILNGKTLKGETTTEAVDAATAEKVFKQYANDNGVDGEWTYDD...  \n",
       "504370  QYKLILNGKTLKGETTTEAVDAATAEKVFKQYANDNGVDGEWTYDD...  \n",
       "504371  QYKLILNGKTLKGETTTEAVDAATAEKVFKQYANDNGVDGEWTYDD...  \n",
       "504372  QYKLILNGKTLKGETTTEAVDAATAEKVFKQYANDNGVDGEWTYDD...  \n",
       "\n",
       "[504373 rows x 6 columns]"
      ]
     },
     "execution_count": 3,
     "metadata": {},
     "output_type": "execute_result"
    }
   ],
   "source": [
    "# Choose dataset\n",
    "data_name = 'gb1'\n",
    "print(f\"Loading dataset '{data_name}' \")\n",
    "\n",
    "# Load datset\n",
    "data_df = mavenn.load_example_dataset(data_name)\n",
    "\n",
    "# Get and report sequence length\n",
    "L = len(data_df.loc[0,'x'])\n",
    "print(f'Sequence length: {L:d} amino acids')\n",
    "\n",
    "# Split dataset\n",
    "trainval_df, test_df = mavenn.split_dataset(data_df)\n",
    "\n",
    "# Preview trainval_df\n",
    "print('trainval_df:')\n",
    "trainval_df"
   ]
  },
  {
   "cell_type": "markdown",
   "metadata": {},
   "source": [
    "Next we create an instance of the `mavenn.Model` class. In addition to standard keyword arguments for GE regression, we pass keyword arguments specific to the use of our custom G-P map:\n",
    "\n",
    "- `gpmap_type='custom'`: Alerts the `mavenn.Model()` constructor that we wish to use a custom G-P map.\n",
    "- `custom_gpmap=OtwinowskiGPMapLayer`: Specifies the specific class to use for the custom G-P map layer.\n",
    "- `gpmap_kwargs=gpmap_kwargs`: Provides a dictionary of arguments to be passed to the constructor of the custom G-P map."
   ]
  },
  {
   "cell_type": "code",
   "execution_count": null,
   "metadata": {
    "ExecuteTime": {
     "end_time": "2021-12-16T01:22:05.186235Z",
     "start_time": "2021-12-16T01:22:04.760444Z"
    },
    "pycharm": {
     "name": "#%%\n"
    }
   },
   "outputs": [],
   "source": [
    "# Order the alphabet to match Otwinowski (2018)\n",
    "alphabet = np.array(list('KRHEDNQTSCGAVLIMPYFW'))\n",
    "C = len(alphabet)\n",
    "\n",
    "# define custom gp_map parameters dictionary\n",
    "gpmap_kwargs = {'L':L,\n",
    "                'C':C,\n",
    "                'theta_regularization': 0.0005}\n",
    "\n",
    "# Create model instance\n",
    "model = mavenn.Model(L=L,\n",
    "                     alphabet=alphabet,\n",
    "                     regression_type='GE',\n",
    "                     ge_nonlinearity_type='nonlinear',\n",
    "                     ge_nonlinearity_monotonic=False,\n",
    "                     ge_noise_model_type='SkewedT',\n",
    "                     ge_heteroskedasticity_order=2,\n",
    "                     ge_nonlinearity_hidden_nodes=100,\n",
    "                     eta_regularization=0.0001,\n",
    "                     gpmap_type='custom',\n",
    "                     normalize_phi=False,\n",
    "                     custom_gpmap=OtwinowskiGPMapLayer,\n",
    "                     gpmap_kwargs=gpmap_kwargs)"
   ]
  },
  {
   "cell_type": "markdown",
   "metadata": {},
   "source": [
    "As in previous tutorials, we then set the training data using `model.set_data()` and then train the model using `model.fit()`."
   ]
  },
  {
   "cell_type": "code",
   "execution_count": null,
   "metadata": {
    "ExecuteTime": {
     "end_time": "2021-12-16T01:32:33.593948Z",
     "start_time": "2021-12-16T01:22:05.186960Z"
    },
    "jupyter": {
     "outputs_hidden": false
    },
    "pycharm": {
     "name": "#%%\n"
    }
   },
   "outputs": [],
   "source": [
    "# Set False->True to train model\n",
    "if True:\n",
    "\n",
    "    # Set training data\n",
    "    model.set_data(x=trainval_df['x'],\n",
    "                   y=trainval_df['y'],\n",
    "                   validation_flags=trainval_df['validation'])\n",
    "\n",
    "    # Train model\n",
    "    model.fit(learning_rate=.0005,\n",
    "              epochs=1000,\n",
    "              batch_size=300,\n",
    "              early_stopping=True,\n",
    "              early_stopping_patience=50,\n",
    "              linear_initialization=False,\n",
    "              verbose=False);\n",
    "\n",
    "    # Save model to file\n",
    "    model_name = f'{data_name}_thermodynamic_model'\n",
    "    model.save(model_name)"
   ]
  },
  {
   "cell_type": "markdown",
   "metadata": {},
   "source": [
    "Next we evaluate the performance of the model on test data and save the model to disk."
   ]
  },
  {
   "cell_type": "markdown",
   "metadata": {},
   "source": [
    "## Visualizing models with custom G-P maps\n",
    "\n",
    "One can load the custom G-P map model and analyze its training history / performance in the same way as with built-in G-P map, e.g.:"
   ]
  },
  {
   "cell_type": "code",
   "execution_count": null,
   "metadata": {
    "ExecuteTime": {
     "end_time": "2021-12-16T01:32:35.473550Z",
     "start_time": "2021-12-16T01:32:33.595052Z"
    },
    "jupyter": {
     "outputs_hidden": false
    },
    "pycharm": {
     "name": "#%%\n"
    }
   },
   "outputs": [],
   "source": [
    "\n",
    "# Load model from file\n",
    "model_name = f'{data_name}_thermodynamic_model'\n",
    "model = mavenn.load(model_name)\n",
    "\n",
    "# Compute variational information on test data\n",
    "I_var, dI_var =  model.I_variational(x=test_df['x'], y=test_df['y'])\n",
    "print(f'test_I_var: {I_var:.3f} +- {dI_var:.3f} bits')\n",
    "\n",
    "# Compute predictive information on test data\n",
    "I_pred, dI_pred = model.I_predictive(x=test_df['x'], y=test_df['y'])\n",
    "print(f'test_I_pred: {I_pred:.3f} +- {dI_pred:.3f} bits')"
   ]
  },
  {
   "cell_type": "code",
   "execution_count": null,
   "metadata": {
    "ExecuteTime": {
     "end_time": "2021-12-16T01:32:36.299446Z",
     "start_time": "2021-12-16T01:32:35.475395Z"
    },
    "jupyter": {
     "outputs_hidden": false
    },
    "pycharm": {
     "name": "#%%\n"
    }
   },
   "outputs": [],
   "source": [
    "# Get quantities to plot\n",
    "y_test = test_df['y']\n",
    "N_test = len(y_test)\n",
    "yhat_test = model.x_to_yhat(test_df['x'])\n",
    "phi_test = model.x_to_phi(test_df['x'])\n",
    "phi_lim = [0, 1]\n",
    "phi_grid = np.linspace(phi_lim[0], phi_lim[1], 1000)\n",
    "yhat_grid = model.phi_to_yhat(phi_grid)\n",
    "q = [0.025, 0.975]\n",
    "yqs_grid = model.yhat_to_yq(yhat_grid, q=q)\n",
    "ix = np.random.choice(a=N_test, size=5000, replace=False)\n",
    "Rsq = np.corrcoef(yhat_test.ravel(), test_df['y'])[0, 1]**2\n",
    "\n",
    "# Create figure and axes for plotting\n",
    "fig, axs = plt.subplots(1,3,figsize=[15,5])\n",
    "\n",
    "# Plot panel 1: Training history\n",
    "ax = axs[0]\n",
    "ax.plot(model.history['I_var'],\n",
    "        label=r'I_var_train')\n",
    "ax.plot(model.history['val_I_var'],\n",
    "        label=r'val_I_var')\n",
    "ax.axhline(I_pred, color='C3', linestyle=':',\n",
    "           label=r'test_I_pred')\n",
    "ax.set_xlabel('epochs')\n",
    "ax.set_ylabel('bits')\n",
    "ax.set_title('Training history')\n",
    "ax.legend()\n",
    "\n",
    "## Panel 2: R^2 model performance\n",
    "ax = axs[1]\n",
    "ax.scatter(yhat_test[ix], y_test[ix], color='C0', s=10, alpha=.3,\n",
    "           label='test data')\n",
    "#xlim = [min(yhat_test), max(yhat_test)]\n",
    "#ax.plot(xlim, xlim, '--', color='k', label='diagonal', zorder=100)\n",
    "ax.fill_between(yhat_grid, yqs_grid[:, 0], yqs_grid[:, 1],\n",
    "                alpha=0.2, color='C1', lw=0, label='95% CI of $p(y|\\hat{y})$')\n",
    "ax.plot(yhat_grid, yhat_grid,\n",
    "        linewidth=3, color='C1', label='diagonal')\n",
    "ax.set_xlabel('model prediction ($\\hat{y}$)')\n",
    "ax.set_ylabel('measurement ($y$)')\n",
    "ax.set_title(f'Model performance: $R^2$={Rsq:.3}');\n",
    "ax.legend()\n",
    "\n",
    "## Panel 3: GE plot\n",
    "ax = axs[2]\n",
    "ax.scatter(phi_test[ix], y_test[ix],\n",
    "           color='C0', s=10, alpha=.3, label='test data')\n",
    "ax.fill_between(phi_grid, yqs_grid[:, 0], yqs_grid[:, 1],\n",
    "                alpha=0.2, color='C1', lw=0, label='95% CI of $p(y|\\phi)$')\n",
    "ax.plot(phi_grid, yhat_grid,\n",
    "        linewidth=3, color='C1', label='nonlinearity')\n",
    "ax.set_ylim([min(y_test), max(y_test)])\n",
    "ax.set_xlim(phi_lim)\n",
    "ax.set_xlabel('latent phenotype ($\\phi$)')\n",
    "ax.set_ylabel('measurement ($y$)')\n",
    "ax.set_title('GE measurement process')\n",
    "ax.legend()\n",
    "fig.tight_layout()"
   ]
  },
  {
   "cell_type": "markdown",
   "metadata": {},
   "source": [
    "To retrieve the parameters of our custom G-P map, we again use the method `model.get_theta()`. This returns the dictionary provided by our custom G-P map via the method `get_params()`:"
   ]
  },
  {
   "cell_type": "code",
   "execution_count": null,
   "metadata": {
    "ExecuteTime": {
     "end_time": "2021-12-16T01:32:36.303007Z",
     "start_time": "2021-12-16T01:32:36.300753Z"
    },
    "jupyter": {
     "outputs_hidden": false
    },
    "pycharm": {
     "name": "#%%\n"
    }
   },
   "outputs": [],
   "source": [
    "# Retrieve G-P map parameter dict and view dict keys\n",
    "theta_dict = model.layer_gpmap.get_params()\n",
    "theta_dict.keys()"
   ]
  },
  {
   "cell_type": "markdown",
   "metadata": {},
   "source": [
    "Next we visualize the additive parameters that determine both folding energy(`theta_b_lc`) and binding energy (`theta_r_lc`). Note that we visualize these as parameters as changes (`ddG_f` and `ddG_b`) with respect to the wild-type sequence. It is also worth comparing these $\\Delta \\Delta G$ values to those inferred by Otwinowski (2019).\n"
   ]
  },
  {
   "cell_type": "code",
   "execution_count": null,
   "metadata": {
    "ExecuteTime": {
     "end_time": "2021-12-16T01:32:36.753027Z",
     "start_time": "2021-12-16T01:32:36.303659Z"
    },
    "jupyter": {
     "outputs_hidden": false
    },
    "pycharm": {
     "name": "#%%\n"
    }
   },
   "outputs": [],
   "source": [
    "# Get the wild-type GB1 sequence\n",
    "wt_seq = model.x_stats['consensus_seq']\n",
    "\n",
    "# Convert this to a one-hot encoded matrix of size LxC\n",
    "from mavenn.src.utils import _x_to_mat\n",
    "x_lc_wt = _x_to_mat(wt_seq, model.alphabet)\n",
    "\n",
    "# Subtract wild-type character value from parameters at each position\n",
    "ddG_b_mat_mavenn = theta_dict['theta_b_lc'] - np.sum(x_lc_wt*theta_dict['theta_b_lc'], axis=1)[:,np.newaxis]\n",
    "ddG_f_mat_mavenn = theta_dict['theta_f_lc'] - np.sum(x_lc_wt*theta_dict['theta_f_lc'], axis=1)[:,np.newaxis]\n",
    "\n",
    "# Load Otwinowski parameters form file\n",
    "dG_b_otwinowski_df = pd.read_csv('../../mavenn/examples/datasets/raw/otwinowski_gb_data.csv.gz', index_col=[0]).T.reset_index(drop=True)[model.alphabet]\n",
    "dG_f_otwinowski_df = pd.read_csv('../../mavenn/examples/datasets/raw/otwinowski_gf_data.csv.gz', index_col=[0]).T.reset_index(drop=True)[model.alphabet]\n",
    "\n",
    "# Compute ddG matrices for Otwinowski\n",
    "ddG_b_mat_otwinowski = dG_b_otwinowski_df.values - \\\n",
    "                       np.sum(x_lc_wt*dG_b_otwinowski_df.values, axis=1)[:,np.newaxis]\n",
    "ddG_f_mat_otwinowski = dG_f_otwinowski_df.values - \\\n",
    "                       np.sum(x_lc_wt*dG_f_otwinowski_df.values, axis=1)[:,np.newaxis]\n",
    "\n",
    "# Set shared keyword arguments for heatmap\n",
    "heatmap_kwargs = {\n",
    "    'alphabet':model.alphabet,\n",
    "    'seq':wt_seq,\n",
    "    'seq_kwargs':{'c':'gray', 's':25},\n",
    "    'cmap':'PiYG',\n",
    "    'cbar':True,\n",
    "    'cmap_size':'2%',\n",
    "    'cmap_pad':.3,\n",
    "    'ccenter':0\n",
    "}\n",
    "\n",
    "# Set plotting routine\n",
    "def draw(ax, ddG_mat, title, clim):\n",
    "        # Draw binding energy heatmap\n",
    "        heatmap_ax, cb = mavenn.heatmap(ax=ax,\n",
    "                                        values=ddG_mat,\n",
    "                                        clim=clim,\n",
    "                                        **heatmap_kwargs)\n",
    "        heatmap_ax.tick_params(axis='y', which='major', pad=10)\n",
    "        heatmap_ax.set_xlabel('position ($l$)')\n",
    "        heatmap_ax.set_ylabel('amino acid ($c$)')\n",
    "        heatmap_ax.set_title(title)\n",
    "        cb.outline.set_visible(False)\n",
    "        cb.ax.tick_params(direction='in', size=20, color='white')\n",
    "        cb.set_label('$\\Delta \\Delta G$ (kcal/mol)',\n",
    "                     labelpad=5, rotation=-90, ha='center', va='center')\n",
    "\n",
    "# Create figure and make plots\n",
    "fig, axs = plt.subplots(2,2, figsize=(12,8))\n",
    "draw(ax=axs[0,0],\n",
    "     ddG_mat=ddG_b_mat_mavenn,\n",
    "     title='Binding energy, MAVE-NN',\n",
    "     clim=(-3, 3))\n",
    "draw(ax=axs[0,1],\n",
    "     ddG_mat=ddG_f_mat_mavenn,\n",
    "     title='Folding energy, MAVE-NN',\n",
    "     clim=(-3, 3))\n",
    "draw(ax=axs[1,0],\n",
    "     ddG_mat=ddG_b_mat_otwinowski,\n",
    "     title='Binding energy, Otwinowski',\n",
    "     clim=(-10, 10))\n",
    "draw(ax=axs[1,1],\n",
    "     ddG_mat=ddG_f_mat_otwinowski,\n",
    "     title='Folding energy, Otwinowski',\n",
    "     clim=(-10, 10))\n",
    "\n",
    "# Adjust figure and show\n",
    "fig.tight_layout(w_pad=5);"
   ]
  },
  {
   "cell_type": "code",
   "execution_count": null,
   "metadata": {
    "ExecuteTime": {
     "end_time": "2021-12-16T01:32:36.875425Z",
     "start_time": "2021-12-16T01:32:36.753805Z"
    },
    "pycharm": {
     "name": "#%%\n"
    }
   },
   "outputs": [],
   "source": [
    "# Set plotting routine\n",
    "def draw(ax, x, y, ddG_var, title):\n",
    "    ax.scatter(x, y, alpha=.2)\n",
    "    xlim = ax.get_xlim()\n",
    "    ax.autoscale(False)\n",
    "    ax.plot(0,0,'ok', label='origin')\n",
    "    ax.plot(xlim, xlim, '-k', alpha=.5, label='diagonal')\n",
    "    ax.set_xlabel(f'{ddG_var} (kcal/mol), Otwinowski')\n",
    "    ax.set_ylabel(f'{ddG_var} (kcal/mol), MAVE-NN')\n",
    "    ax.set_title(title)\n",
    "    ax.legend()\n",
    "\n",
    "# Create figure and make plots\n",
    "fig, axs = plt.subplots(1,2, figsize=(10,5))\n",
    "draw(ax=axs[0],\n",
    "     x=ddG_b_mat_otwinowski.ravel(),\n",
    "     y=ddG_b_mat_mavenn.ravel(),\n",
    "     ddG_var='$\\Delta \\Delta G_B$',\n",
    "     title='Binding energy parameters')\n",
    "draw(ax=axs[1],\n",
    "     x=ddG_f_mat_otwinowski.ravel(),\n",
    "     y=ddG_f_mat_mavenn.ravel(),\n",
    "     ddG_var='$\\Delta \\Delta G_F$',\n",
    "     title='Folding energy parameters')\n"
   ]
  },
  {
   "cell_type": "markdown",
   "metadata": {
    "pycharm": {
     "name": "#%% md\n"
    }
   },
   "source": [
    "Finally, we compare our thermodynamic model's folding energy predictions to the $\\Delta \\Delta G_F$ measurements of Nisthal et al. (2019)."
   ]
  },
  {
   "cell_type": "code",
   "execution_count": null,
   "metadata": {
    "ExecuteTime": {
     "end_time": "2021-12-16T01:32:37.042980Z",
     "start_time": "2021-12-16T01:32:36.876164Z"
    },
    "pycharm": {
     "name": "#%%\n"
    }
   },
   "outputs": [],
   "source": [
    "# Load Nisthal data\n",
    "nisthal_df = mavenn.load_example_dataset('nisthal')\n",
    "nisthal_df.set_index('x', inplace=True)\n",
    "\n",
    "# Get Nisthal folding energies relative to WT\n",
    "dG_f_nisthal = nisthal_df['y']\n",
    "dG_f_wt_nisthal = dG_f_nisthal[wt_seq]\n",
    "ddG_f_nisthal = dG_f_nisthal - dG_f_wt_nisthal\n",
    "\n",
    "# Get MAVE-NN folding energies relative to WT\n",
    "x_nisthal = nisthal_df.index.values\n",
    "x_nisthal_ohe = mavenn.src.utils.x_to_ohe(x=x_nisthal,\n",
    "                                          alphabet=model.alphabet)\n",
    "ddG_f_vec = ddG_f_mat_mavenn.ravel().reshape([1,-1])\n",
    "ddG_f_mavenn = np.sum(ddG_f_vec*x_nisthal_ohe, axis=1)\n",
    "\n",
    "# Get Otwinowski folding energies relative to WT\n",
    "ddG_f_vec_otwinowski = ddG_f_mat_otwinowski.ravel().reshape([1,-1])\n",
    "ddG_f_otwinowski = np.sum(ddG_f_vec_otwinowski*x_nisthal_ohe, axis=1)\n",
    "\n",
    "# Define plotting routine\n",
    "def draw(ax, y, model_name):\n",
    "    Rsq = np.corrcoef(ddG_f_nisthal, y)[0, 1]**2\n",
    "    ax.scatter(ddG_f_nisthal, y, alpha=.2, label='data')\n",
    "    ax.scatter(0,0, label='WT sequence')\n",
    "    xlim = [-3,5]\n",
    "    ax.set_xlim(xlim)\n",
    "    ax.set_ylim([-4,8])\n",
    "    ax.plot(xlim, xlim, color='k', alpha=.5, label='diagonal')\n",
    "    ax.set_xlabel(f'Nisthal $\\Delta \\Delta G_F$ (kcal/mol)')\n",
    "    ax.set_ylabel(f'{model_name} $\\Delta \\Delta G_F$ (kcal/mol)')\n",
    "    ax.set_title(f'$R^2$ = {Rsq:.3f}')\n",
    "    ax.legend()\n",
    "\n",
    "# Make figure\n",
    "fig, axs = plt.subplots(1,2,figsize=[10,5])\n",
    "draw(ax=axs[0],\n",
    "     y=ddG_f_otwinowski,\n",
    "     model_name='Otwinowski')\n",
    "draw(ax=axs[1],\n",
    "     y=ddG_f_mavenn,\n",
    "     model_name='MAVE-NN')\n",
    "\n",
    "fig.tight_layout(w_pad=5)"
   ]
  },
  {
   "cell_type": "markdown",
   "metadata": {},
   "source": [
    "## References\n",
    "\n",
    "1. Otwinowski J. Biophysical inference of epistasis and the effects of mutations on protein stability and function. Mol Biol Evol 35:2345–2354 (2018).\n",
    "\n",
    "2. Olson CA, Wu NC, Sun R. A comprehensive biophysical description of pairwise epistasis throughout an entire protein domain. Curr Biol 24:2643–2651 (2014).\n",
    "\n",
    "3. Tareen A, Posfai A, Ireland WT, McCandlish DM, Kinney JB. MAVE-NN: learning genotype-phenotype maps from multiplex assays of variant effect. bioRxiv doi:10.1101/2020.07.14.201475 (2020).\n",
    "\n",
    "4. Nisthal A, Wang CY, Ary ML, Mayo SL. Protein stability engineering insights revealed by domain-wide comprehensive mutagenesis. Proc Natl Acad Sci 116:16367–16377 (2019)."
   ]
  },
  {
   "cell_type": "code",
   "execution_count": null,
   "metadata": {
    "pycharm": {
     "name": "#%%\n"
    }
   },
   "outputs": [],
   "source": []
  }
 ],
 "metadata": {
  "kernelspec": {
   "display_name": "Python 3",
   "language": "python",
   "name": "python3"
  },
  "language_info": {
   "codemirror_mode": {
    "name": "ipython",
    "version": 3
   },
   "file_extension": ".py",
   "mimetype": "text/x-python",
   "name": "python",
   "nbconvert_exporter": "python",
   "pygments_lexer": "ipython3",
   "version": "3.9.2"
  },
  "varInspector": {
   "cols": {
    "lenName": 16,
    "lenType": 16,
    "lenVar": 40
   },
   "kernels_config": {
    "python": {
     "delete_cmd_postfix": "",
     "delete_cmd_prefix": "del ",
     "library": "var_list.py",
     "varRefreshCmd": "print(var_dic_list())"
    },
    "r": {
     "delete_cmd_postfix": ") ",
     "delete_cmd_prefix": "rm(",
     "library": "var_list.r",
     "varRefreshCmd": "cat(var_dic_list()) "
    }
   },
   "types_to_exclude": [
    "module",
    "function",
    "builtin_function_or_method",
    "instance",
    "_Feature"
   ],
   "window_display": false
  }
 },
 "nbformat": 4,
 "nbformat_minor": 4
}
