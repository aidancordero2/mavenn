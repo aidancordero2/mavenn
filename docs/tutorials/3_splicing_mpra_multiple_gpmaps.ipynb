{
 "cells": [
  {
   "cell_type": "markdown",
   "metadata": {},
   "source": [
    "# Tutorial 3: Splicing MPRA modeling using multiple built-in G-P maps"
   ]
  },
  {
   "cell_type": "code",
   "execution_count": 1,
   "metadata": {
    "ExecuteTime": {
     "end_time": "2021-12-16T01:07:19.140753Z",
     "start_time": "2021-12-16T01:07:17.016587Z"
    },
    "pycharm": {
     "name": "#%%\n"
    }
   },
   "outputs": [
    {
     "ename": "ModuleNotFoundError",
     "evalue": "No module named 'src'",
     "output_type": "error",
     "traceback": [
      "\u001b[0;31m---------------------------------------------------------------------------\u001b[0m",
      "\u001b[0;31mModuleNotFoundError\u001b[0m                       Traceback (most recent call last)",
      "Cell \u001b[0;32mIn[1], line 8\u001b[0m\n\u001b[1;32m      5\u001b[0m \u001b[38;5;28;01mimport\u001b[39;00m\u001b[38;5;250m \u001b[39m\u001b[38;5;21;01mmatplotlib\u001b[39;00m\u001b[38;5;21;01m.\u001b[39;00m\u001b[38;5;21;01mpyplot\u001b[39;00m\u001b[38;5;250m \u001b[39m\u001b[38;5;28;01mas\u001b[39;00m\u001b[38;5;250m \u001b[39m\u001b[38;5;21;01mplt\u001b[39;00m\n\u001b[1;32m      7\u001b[0m \u001b[38;5;66;03m# Import MAVE-NN\u001b[39;00m\n\u001b[0;32m----> 8\u001b[0m \u001b[38;5;28;01mimport\u001b[39;00m\u001b[38;5;250m \u001b[39m\u001b[38;5;21;01msrc\u001b[39;00m\n\u001b[1;32m      9\u001b[0m src\u001b[38;5;241m.\u001b[39mpath\u001b[38;5;241m.\u001b[39minsert(\u001b[38;5;241m0\u001b[39m, \u001b[38;5;124m'\u001b[39m\u001b[38;5;124m/Users/jkinney/github/mavenn\u001b[39m\u001b[38;5;124m'\u001b[39m)\n\u001b[1;32m     10\u001b[0m \u001b[38;5;28;01mimport\u001b[39;00m\u001b[38;5;250m \u001b[39m\u001b[38;5;21;01mmavenn\u001b[39;00m\n",
      "\u001b[0;31mModuleNotFoundError\u001b[0m: No module named 'src'"
     ]
    }
   ],
   "source": [
    "# Standard imports\n",
    "import numpy as np\n",
    "import pandas as pd\n",
    "import seaborn as sns\n",
    "import matplotlib.pyplot as plt\n",
    "\n",
    "# Import MAVE-NN\n",
    "import sys\n",
    "sys.path.insert(0, '/Users/jkinney/github/mavenn')\n",
    "import mavenn\n",
    "\n",
    "# Import Logomaker for visualization\n",
    "import logomaker"
   ]
  },
  {
   "cell_type": "markdown",
   "metadata": {},
   "source": [
    "In this tutorial we show how to train multiple models with different G-P maps on the same dataset. To this end we use the built-in `'mpsa'` dataset, which contains data from the splicing MPRA of Wong et al. (2018). Next we show how to to compare the performance of these models, as in Figs. 5a-5d of Tareen et al. (2020). Finally, we demonstrate how to visualize the parameters of the `'pairwise'` G-P map trained on these data; similar visualizations are shown in Figs. 5e and 5f of Tareen et al. (2020).\n",
    "\n",
    "## Training multiple models\n",
    "\n",
    "The models that we train each have a  GE measurement process and one of four different types of G-P map: additive, neighbor, pairwise, or blackbox. The  trained models are similar (though not identical) to the following built-in models, which  can be loaded with `mavenn.load_example_model()`:\n",
    "\n",
    "- `'mpsa_additive_ge'`\n",
    "- `'mpsa_neighbor_ge'`\n",
    "- `'mpsa_pairwise_ge'`\n",
    "- `'mpsa_blackbox_ge'`\n",
    "\n",
    "First we load, split, and preview the built-in `'mpsa'` dataset. We also compute the length of sequences in this dataset."
   ]
  },
  {
   "cell_type": "code",
   "execution_count": null,
   "metadata": {
    "ExecuteTime": {
     "end_time": "2021-12-16T01:07:19.183751Z",
     "start_time": "2021-12-16T01:07:19.143355Z"
    },
    "pycharm": {
     "name": "#%%\n"
    }
   },
   "outputs": [],
   "source": [
    "# Load amyloid dataset\n",
    "data_df = mavenn.load_example_dataset('mpsa')\n",
    "\n",
    "# Get and report sequence length\n",
    "L = len(data_df.loc[0,'x'])\n",
    "print(f'Sequence length: {L:d} RNA nucleotides')\n",
    "\n",
    "# Split dataset\n",
    "trainval_df, test_df = mavenn.split_dataset(data_df)\n",
    "\n",
    "# Preview trainval_df\n",
    "print('\\ntrainval_df:')\n",
    "trainval_df"
   ]
  },
  {
   "cell_type": "markdown",
   "metadata": {},
   "source": [
    "Next we instantiate and train our models. In order to train multiple different models in a consistent manner, we use dictionaries to specify default keyword arguments for `model.Model()`  and `model.fit()`. Then for each type of G-P map we do the following:\n",
    "1. Modify the hyperparameter dictionaries as desired.\n",
    "2. Instantiate a model using these hyperparameters.\n",
    "3. Set that model's training data.\n",
    "4. Train the parameters of that model.\n",
    "5. Evaluate that model's performance.\n",
    "6. Save that model to disk."
   ]
  },
  {
   "cell_type": "code",
   "execution_count": null,
   "metadata": {
    "ExecuteTime": {
     "end_time": "2021-12-16T01:07:29.995834Z",
     "start_time": "2021-12-16T01:07:19.184571Z"
    },
    "pycharm": {
     "name": "#%%\n"
    }
   },
   "outputs": [],
   "source": [
    "# Set default keyword arguments for model.Model()\n",
    "default_model_kwargs = {\n",
    "    'L':L,\n",
    "    'alphabet':'rna',\n",
    "    'regression_type':'GE',\n",
    "    'ge_noise_model_type':'SkewedT',\n",
    "    'ge_heteroskedasticity_order':2\n",
    "}\n",
    "\n",
    "# Set default keyword arguments for model.fit()\n",
    "default_fit_kwargs = {\n",
    "    'learning_rate':.001,\n",
    "    'epochs':1000,\n",
    "    'batch_size':200,\n",
    "    'early_stopping':True,\n",
    "    'early_stopping_patience':10,\n",
    "    'linear_initialization':False,\n",
    "    'verbose':False\n",
    "}\n",
    "\n",
    "# Iterate over types of G-P maps\n",
    "#gpmap_types = ['additive','neighbor','pairwise','blackbox']\n",
    "gpmap_types = ['blackbox']\n",
    "\n",
    "print(f'Training {len(gpmap_types)} models: {gpmap_types}')\n",
    "for gpmap_type in gpmap_types:\n",
    "\n",
    "    # Set model name\n",
    "    model_name = f'mpsa_{gpmap_type}_ge'\n",
    "    print('-----------------------------')\n",
    "    print(f\"Training '{model_name}' model...\\n\")\n",
    "\n",
    "    # Copy keyword arguments\n",
    "    model_kwargs = default_model_kwargs.copy()\n",
    "    fit_kwargs = default_fit_kwargs.copy()\n",
    "\n",
    "    # Modify keyword arguments based on G-P map being trained\n",
    "    # Note: the need for different hyperparameters, such as batch_size\n",
    "    # and learning_rate, was found by trial and error.\n",
    "    if gpmap_type=='additive': pass;\n",
    "    elif gpmap_type=='neighbor': pass;\n",
    "    elif gpmap_type=='pairwise':\n",
    "        fit_kwargs['batch_size'] = 50\n",
    "    elif gpmap_type=='blackbox':\n",
    "        model_kwargs['gpmap_kwargs'] = {'hidden_layer_sizes':[10]*5,\n",
    "                                        'features':'pairwise'}\n",
    "        fit_kwargs['learning_rate'] = 0.0005\n",
    "        fit_kwargs['batch_size'] = 50\n",
    "        fit_kwargs['early_stopping_patience'] = 10\n",
    "\n",
    "    # Instantiate model using the keyword arguments in model_kwargs dict\n",
    "    model = mavenn.Model(gpmap_type=gpmap_type, **model_kwargs)\n",
    "\n",
    "    # Set training data\n",
    "    model.set_data(x=trainval_df['x'],\n",
    "                   y=trainval_df['y'],\n",
    "                   validation_flags=trainval_df['validation'])\n",
    "\n",
    "    # Train model using the keyword arguments in fig_kwargs dict\n",
    "    model.fit(**fit_kwargs)\n",
    "\n",
    "    # Compute variational information on test data\n",
    "    I_var, dI_var =  model.I_variational(x=test_df['x'], y=test_df['y'])\n",
    "    print(f'test_I_var: {I_var:.3f} +- {dI_var:.3f} bits')\n",
    "\n",
    "    # Compute predictive information on test data\n",
    "    I_pred, dI_pred = model.I_predictive(x=test_df['x'], y=test_df['y'])\n",
    "    print(f'test_I_pred: {I_pred:.3f} +- {dI_pred:.3f} bits')\n",
    "\n",
    "    # Save model to file\n",
    "    model.save(model_name)\n",
    "\n",
    "print('Done!')"
   ]
  },
  {
   "cell_type": "markdown",
   "metadata": {},
   "source": [
    "## Visualizing model performance\n",
    "\n",
    "To compare these models side-by-side, we first load them into a dictionary."
   ]
  },
  {
   "cell_type": "code",
   "execution_count": null,
   "metadata": {
    "ExecuteTime": {
     "end_time": "2021-12-16T01:07:30.192445Z",
     "start_time": "2021-12-16T01:07:29.996569Z"
    },
    "pycharm": {
     "name": "#%%\n"
    }
   },
   "outputs": [],
   "source": [
    "# Iterate over types of G-P maps\n",
    "gpmap_types = ['additive','neighbor','pairwise','blackbox']\n",
    "\n",
    "# Create list of model names\n",
    "model_names = [f'mpsa_{gpmap_type}_ge' for gpmap_type in gpmap_types]\n",
    "\n",
    "# Load models into a dictionary indexed by model name\n",
    "model_dict = {name:mavenn.load(name) for name in model_names}"
   ]
  },
  {
   "cell_type": "markdown",
   "metadata": {
    "pycharm": {
     "name": "#%% md\n"
    }
   },
   "source": [
    "To compare the performance of these models, we plot variational and predictive\n",
    "information in the form of a bar chart similar to that shown in Fig. 5a of\n",
    "Tareen et al., (2021)."
   ]
  },
  {
   "cell_type": "code",
   "execution_count": null,
   "metadata": {
    "ExecuteTime": {
     "end_time": "2021-12-16T01:07:31.530411Z",
     "start_time": "2021-12-16T01:07:30.193170Z"
    },
    "pycharm": {
     "name": "#%%\n"
    }
   },
   "outputs": [],
   "source": [
    "# Fill out dataframe containing values to plot\n",
    "# This dataframe will then be used by seaborn's barplot() function\n",
    "info_df = pd.DataFrame(columns=['name', 'gpmap', 'metric', 'I', 'dI'])\n",
    "row_list = []\n",
    "for gpmap_type in gpmap_types:\n",
    "\n",
    "    # Get model\n",
    "    name = f'mpsa_{gpmap_type}_ge'\n",
    "    model = model_dict[name]\n",
    "\n",
    "    # Compute variational information on test data\n",
    "    I_var, dI_var =  model.I_variational(x=test_df['x'], y=test_df['y'])\n",
    "    row = {'name':name,\n",
    "           'gpmap':gpmap_type,\n",
    "           'metric':'I_var',\n",
    "           'I':I_var,\n",
    "           'dI':dI_var}\n",
    "    row_list.append(row)\n",
    "\n",
    "    # Compute predictive information on test data\n",
    "    I_pred, dI_pred = model.I_predictive(x=test_df['x'], y=test_df['y'])\n",
    "    row = {'name':name,\n",
    "           'gpmap':gpmap_type,\n",
    "           'metric':'I_pred',\n",
    "           'I':I_pred,\n",
    "           'dI':dI_pred}\n",
    "    row_list.append(row)\n",
    "\n",
    "# Convert row_list to DataFrame\n",
    "info_df = pd.DataFrame(row_list)\n",
    "\n",
    "# Print dataframe\n",
    "print('Contents of info_df:', info_df, sep='\\n')\n",
    "\n",
    "# Create figure\n",
    "fig, ax = plt.subplots(figsize=[8, 4])\n",
    "\n",
    "# Plot bars\n",
    "sns.barplot(ax=ax,\n",
    "            data=info_df,\n",
    "            hue='metric',\n",
    "            x='gpmap',\n",
    "            y='I')\n",
    "\n",
    "# Plot errorbars\n",
    "x = np.array([[x-.2,x+.2] for x in range(4)]).ravel()\n",
    "ax.errorbar(x=x,\n",
    "            y=info_df['I'].values,\n",
    "            yerr=info_df['dI'].values,\n",
    "            color='k', capsize=3, linestyle='none',\n",
    "            elinewidth=1, capthick=1, solid_capstyle='round')\n",
    "\n",
    "ax.set_ylabel('information (bits)')\n",
    "ax.set_xlabel('')\n",
    "ax.set_xlim([-.5, 3.5])\n",
    "ax.set_ylim([0, 0.6])\n",
    "ax.legend(loc='upper left')"
   ]
  },
  {
   "cell_type": "markdown",
   "metadata": {
    "pycharm": {
     "name": "#%% md\n"
    }
   },
   "source": [
    "It can also be useful to observe the training history of each model in relation to performance metrics on the test set."
   ]
  },
  {
   "cell_type": "code",
   "execution_count": null,
   "metadata": {
    "ExecuteTime": {
     "end_time": "2021-12-16T01:07:31.747830Z",
     "start_time": "2021-12-16T01:07:31.532055Z"
    },
    "pycharm": {
     "name": "#%%\n"
    }
   },
   "outputs": [],
   "source": [
    "# Create figure and axes for plotting\n",
    "fig, axs = plt.subplots(2,2,figsize=[10,10])\n",
    "axs = axs.ravel()\n",
    "\n",
    "# Loop over models\n",
    "for ax, name in zip(axs, model_names):\n",
    "\n",
    "    # Get model\n",
    "    model = model_dict[name]\n",
    "\n",
    "    # Plot I_var_train, the variational information on training data as a function of epoch\n",
    "    ax.plot(model.history['I_var'],\n",
    "            label=r'train_I_var')\n",
    "\n",
    "    # Plot I_var_val, the variational information on validation data as a function of epoch\n",
    "    ax.plot(model.history['val_I_var'],\n",
    "            label=r'val_I_var')\n",
    "\n",
    "    # Get part of info_df referring to this model and index by metric\n",
    "    ix = (info_df['name']==name)\n",
    "    sub_df = info_df[ix].set_index('metric')\n",
    "\n",
    "    # Show I_var_test, the variational information of the final model on test data\n",
    "    ax.axhline(sub_df.loc['I_var','I'], color='C2', linestyle=':',\n",
    "               label=r'test_I_var')\n",
    "\n",
    "    # Show I_pred_test, the predictive information of the final model on test data\n",
    "    ax.axhline(sub_df.loc['I_pred','I'], color='C3', linestyle=':',\n",
    "               label=r'test_I_pred')\n",
    "\n",
    "    # Style plot\n",
    "    ax.set_xlabel('epochs')\n",
    "    ax.set_ylabel('bits')\n",
    "    ax.set_title(f'Training history: {name}')\n",
    "    ax.set_ylim([0, 1.2*I_pred])\n",
    "    ax.legend()\n",
    "\n",
    "# Clean up figure\n",
    "fig.tight_layout()\n",
    "\n"
   ]
  },
  {
   "cell_type": "markdown",
   "metadata": {},
   "source": [
    "Next we visualize the GE measurement process inferred as part of our each\n",
    "latent phenotype model, comparing it to the test data."
   ]
  },
  {
   "cell_type": "code",
   "execution_count": null,
   "metadata": {
    "ExecuteTime": {
     "end_time": "2021-12-16T01:07:32.273230Z",
     "start_time": "2021-12-16T01:07:31.749241Z"
    },
    "pycharm": {
     "name": "#%%\n"
    }
   },
   "outputs": [],
   "source": [
    "# Create figure and axes for plotting\n",
    "fig, axs = plt.subplots(2,2,figsize=[10,10])\n",
    "axs = axs.ravel()\n",
    "\n",
    "# Loop over models\n",
    "for ax, name in zip(axs, model_names):\n",
    "\n",
    "    # Get model\n",
    "    model = model_dict[name]\n",
    "\n",
    "    # Get test data y values\n",
    "    y_test = test_df['y']\n",
    "    \n",
    "    # Compute phi on test data\n",
    "    phi_test = model.x_to_phi(test_df['x'])\n",
    "\n",
    "    ## Set phi lims and create a grid in phi space\n",
    "    phi_lim = [min(phi_test)-.5, max(phi_test)+.5]\n",
    "    phi_grid = np.linspace(phi_lim[0], phi_lim[1], 1000)\n",
    "\n",
    "    # Compute yhat for each phi gridpoint\n",
    "    yhat_grid = model.phi_to_yhat(phi_grid)\n",
    "\n",
    "    # Compute 95% CI for each yhat\n",
    "    q = [0.025, 0.975]\n",
    "    yqs_grid = model.yhat_to_yq(yhat_grid, q=q)\n",
    "\n",
    "    # Plote 95% confidence interval\n",
    "    ax.fill_between(phi_grid, yqs_grid[:, 0], yqs_grid[:, 1],\n",
    "                    alpha=0.2, color='C1', lw=0, label='95% CI')\n",
    "\n",
    "    # Plot GE nonlinearity\n",
    "    ax.plot(phi_grid, yhat_grid,\n",
    "            linewidth=3, color='C1', label='nonlinearity')\n",
    "\n",
    "    # Plot scatter of phi and y values.\n",
    "    ax.scatter(phi_test, y_test,\n",
    "               color='C0', s=10, alpha=.3, label=r'test data', zorder=-100)\n",
    "\n",
    "    # Style plot\n",
    "    ax.set_xlim(phi_lim)\n",
    "    ax.set_xlabel(r'latent phenotype ($\\phi$)')\n",
    "    ax.set_ylim([-1.5,2.5])\n",
    "    ax.set_ylabel(r'measurement ($y$)')\n",
    "    ax.set_title(rf'Measurement process: {name}')\n",
    "    ax.legend(loc='lower right')\n",
    "\n",
    "fig.tight_layout()"
   ]
  },
  {
   "cell_type": "markdown",
   "metadata": {},
   "source": [
    "Note that the measurement processes for all of the linear models (`'additive'`, `'neighbor'`, `'pairwise'`) are similar, while that of the `'blackbox'` model is quite different. This distinct behavior is due to the presence of nonlinearities in the `'blackbox'` G-P map that are not present in the other three.\n",
    "\n",
    "## Visualizing pairwise model parameters\n",
    "\n",
    "We now focus on visualizing the pairwise model. The mathematical formula for the pairwise G-P map is:\n",
    "\n",
    "$$\\phi_\\mathrm{pairwise} (x;\\theta) = \\theta_0 + \\sum_{l} \\sum_{c} \\theta_{l:c} x_{l:c} + \\sum_{l < l'} \\sum_{c,c'}  \\theta_{l:c,l':c'} x_{l:c} x_{l':c'}.$$\n",
    "\n",
    "To retrieve the values of each model's G-P map parameters, we use the method `model.get_theta()`, which returns a dictionary listing the various model parameter values. Because the sequence library spans nearly all possible 9nt 5' splice sites, rather than being clustered around a single wild-type sequence, we choose to insect the parameters using the \"uniform\" gauge."
   ]
  },
  {
   "cell_type": "code",
   "execution_count": null,
   "metadata": {
    "ExecuteTime": {
     "end_time": "2021-12-16T01:07:32.277039Z",
     "start_time": "2021-12-16T01:07:32.273984Z"
    },
    "pycharm": {
     "name": "#%%\n"
    }
   },
   "outputs": [],
   "source": [
    "# Focus on pairwise model\n",
    "model = model_dict['mpsa_pairwise_ge']\n",
    "\n",
    "# Retrieve G-P map parameter dict and view dict keys\n",
    "theta_dict = model.get_theta(gauge=\"uniform\")\n",
    "theta_dict.keys()"
   ]
  },
  {
   "cell_type": "markdown",
   "metadata": {},
   "source": [
    "Among the keys of the `dict` returned by `model.get_theta()`:\n",
    "\n",
    "- `'theta_0'`: a single number representing the constant component, $\\theta_0$, of a linear model.\n",
    "- `'theta_lc'`: an $L$ x $C$ matrix representing the additive parameters, $\\theta_{l:c}$, of a linear model.\n",
    "- `'logomaker_df'`: An $L$ x $C$ dataframe containing the additive parameters in a dataframe that facilitates visualization using `logomaker`.\n",
    "- `'theta_lclc'`: an $L$ x $C$ x $L$ x $C$ tensor representing the pairwise parameters, $\\theta_{l:c,l':c'}$, of a linear model; is nonzero only for neighbor and pairwise models.\n",
    "- `'theta_mlp'`: a dictionary containing the parameters of the blackbox MLP model, if indeed this is the model that is fit."
   ]
  },
  {
   "cell_type": "markdown",
   "metadata": {
    "pycharm": {
     "name": "#%% md\n"
    }
   },
   "source": [
    "We first visualize the additive component of this model using a sequence logo, which we render using Logomaker (Tareen & Kinney, 2019). Note that the characters at positions +1 and +2 (corresponding to logo indices 3 and 4) are illustrated in a special manner due to library sequences having only a `'G'` at position +1 and a `'C'` or '`U'` at position +2."
   ]
  },
  {
   "cell_type": "code",
   "execution_count": null,
   "metadata": {
    "ExecuteTime": {
     "end_time": "2021-12-16T01:07:32.687738Z",
     "start_time": "2021-12-16T01:07:32.277783Z"
    },
    "pycharm": {
     "name": "#%%\n"
    }
   },
   "outputs": [],
   "source": [
    "# Get logo dataframe\n",
    "logo_df = theta_dict['logomaker_df']\n",
    "\n",
    "# Set NaN parameters to zero\n",
    "logo_df.fillna(0, inplace=True)\n",
    "\n",
    "# Create figure\n",
    "fig, ax = plt.subplots(figsize=[10,2])\n",
    "\n",
    "# Draw logo\n",
    "logo = logomaker.Logo(df=logo_df,\n",
    "                      ax=ax,\n",
    "                      fade_below=.5,\n",
    "                      shade_below=.5,\n",
    "                      width=.9,\n",
    "                      font_name='Arial Rounded MT Bold')\n",
    "ylim = ax.get_ylim()\n",
    "\n",
    "# Highlight positions +1 and +2 to gray to indicate incomplete mutagenesis at these positions\n",
    "logo.highlight_position_range(pmin=3, pmax=4, color='w', alpha=1, zorder=10)\n",
    "logo.highlight_position_range(pmin=3, pmax=4, color='gray', alpha=.1, zorder=11)\n",
    "\n",
    "# Create a large `G` at position +1 to indicate that only this base was present in the sequences under consideration\n",
    "logo.style_single_glyph(p=3,\n",
    "                        c='G',\n",
    "                        flip=False,\n",
    "                        floor=ylim[0],\n",
    "                        ceiling=ylim[1],\n",
    "                        color='gray',\n",
    "                        zorder=30,\n",
    "                        alpha=.5)\n",
    "\n",
    "# Make 'C' and 'U' at position +2 black\n",
    "logo.style_single_glyph(p=4, c='U', color='k', zorder=30, alpha=1)\n",
    "logo.style_single_glyph(p=4, c='C', color='k', zorder=30, alpha=.5)\n",
    "\n",
    "# Style logo\n",
    "logo.style_spines(visible=False)\n",
    "ax.axvline(2.5, linestyle=':', color='k', zorder=30)\n",
    "ax.set_ylabel(r'additive effect ($\\Delta \\phi$)', labelpad=-1)\n",
    "ax.set_xticks([0,1,2,3,4,5,6,7,8])\n",
    "ax.set_xticklabels([f'{x:+d}' for x in range(-3,7) if x!=0])\n",
    "ax.set_xlabel(r'nucleotide position', labelpad=5);"
   ]
  },
  {
   "cell_type": "markdown",
   "metadata": {
    "pycharm": {
     "name": "#%% md\n"
    }
   },
   "source": [
    "To visualize the pariwise parameters, we use the built-in function `mavenn.heatmap_pariwise()`."
   ]
  },
  {
   "cell_type": "code",
   "execution_count": null,
   "metadata": {
    "ExecuteTime": {
     "end_time": "2021-12-16T01:07:32.765632Z",
     "start_time": "2021-12-16T01:07:32.688578Z"
    },
    "pycharm": {
     "name": "#%%\n"
    }
   },
   "outputs": [],
   "source": [
    "# Get pairwise parameters from theta_dict\n",
    "theta_lclc = theta_dict['theta_lclc']\n",
    "\n",
    "# Create fig and ax objects\n",
    "fig, ax = plt.subplots(figsize=[10,5])\n",
    "\n",
    "# Draw heatmap\n",
    "ax, cb = mavenn.heatmap_pairwise(values=theta_lclc,\n",
    "                                 alphabet='rna',\n",
    "                                 ax=ax,\n",
    "                                 gpmap_type='pairwise',\n",
    "                                 cmap_size='3%')\n",
    "\n",
    "# Style heatmap\n",
    "ax.set_xticks([0,1,2,3,4,5,6,7,8])\n",
    "ax.set_xticklabels([f'{x:+d}' for x in range(-3,7) if x!=0])\n",
    "ax.set_xlabel('nucleotide position', labelpad=5)\n",
    "\n",
    "# Style colorbar\n",
    "cb.set_label('pairwise effect ($\\Delta \\Delta \\phi$)',\n",
    "             labelpad=5, ha='center', va='center', rotation=-90)\n",
    "cb.outline.set_visible(False)\n",
    "cb.ax.tick_params(direction='in', size=20, color='white')"
   ]
  },
  {
   "cell_type": "markdown",
   "metadata": {
    "pycharm": {
     "name": "#%% md\n"
    }
   },
   "source": [
    "## References\n",
    "1. Wong MS, Kinney JB, Krainer AR. Quantitative activity profile and context dependence of all human 5’ splice sites. Mol Cell 71:1012-1026.e3 (2018).\n",
    "2. Tareen A, Kooshkbaghi M, Posfai A, Ireland WT, McCandlish DM, Kinney JB. MAVE-NN: learning genotype-phenotype maps from multiplex assays of variant effect. bioRxiv doi:10.1101/2020.07.14.201475 (2020).\n",
    "3. Tareen A, Kinney JB. Logomaker: beautiful sequence logos in Python. Bioinformatics 36:2272–2274 (2019).\n"
   ]
  },
  {
   "cell_type": "code",
   "execution_count": null,
   "metadata": {},
   "outputs": [],
   "source": []
  }
 ],
 "metadata": {
  "kernelspec": {
   "display_name": "Python 3",
   "language": "python",
   "name": "python3"
  },
  "language_info": {
   "codemirror_mode": {
    "name": "ipython",
    "version": 3
   },
   "file_extension": ".py",
   "mimetype": "text/x-python",
   "name": "python",
   "nbconvert_exporter": "python",
   "pygments_lexer": "ipython3",
   "version": "3.12.8"
  },
  "varInspector": {
   "cols": {
    "lenName": 16,
    "lenType": 16,
    "lenVar": 40
   },
   "kernels_config": {
    "python": {
     "delete_cmd_postfix": "",
     "delete_cmd_prefix": "del ",
     "library": "var_list.py",
     "varRefreshCmd": "print(var_dic_list())"
    },
    "r": {
     "delete_cmd_postfix": ") ",
     "delete_cmd_prefix": "rm(",
     "library": "var_list.r",
     "varRefreshCmd": "cat(var_dic_list()) "
    }
   },
   "types_to_exclude": [
    "module",
    "function",
    "builtin_function_or_method",
    "instance",
    "_Feature"
   ],
   "window_display": false
  }
 },
 "nbformat": 4,
 "nbformat_minor": 1
}
