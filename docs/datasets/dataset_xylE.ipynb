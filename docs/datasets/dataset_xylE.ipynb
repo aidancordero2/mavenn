{
 "cells": [
  {
   "cell_type": "markdown",
   "metadata": {},
   "source": [
    "# xylE dataset"
   ]
  },
  {
   "cell_type": "code",
   "execution_count": 1,
   "metadata": {
    "collapsed": true
   },
   "outputs": [],
   "source": [
    "import numpy as np\n",
    "import pandas as pd\n",
    "import matplotlib.pyplot as plt\n",
    "import sys\n",
    "sys.path.insert(0, '/Users/tareen/Desktop/Research_Projects/2020_mavenn_github/mavenn_git_ssh')\n",
    "\n",
    "import mavenn\n",
    "import logomaker\n",
    "import seaborn as sns\n",
    "import re\n",
    "import urllib\n",
    "\n",
    "#%matplotlib inline"
   ]
  },
  {
   "cell_type": "markdown",
   "metadata": {},
   "source": [
    "# Summary \n",
    "\n",
    "Sort-seq MPRA data from Belliveau et. al., 2018. The authors used fluoresence-activated cell sorting of *E. coli* cells, followed by deep sequencing, to assay gene expression levels from variant  *xylE* promoters. Specifically, the authors created three libraries of variant *xylE* promoters driving GFP expression. For each library, promoters were mutagenized within a 60 bp window, after which cells were sorted into 4 bins using FACS. These 60 bp windows partially overlap and cover a total of 150 bp spanning from positions -X to +X from the xylE transcription start site.\n",
    "\n",
    "Below we format data provided by Belliveau et al. into a format suitable for analysis in MAVE-NN using MPA regression. In the final formatted dataset, column `'x'` lists variant 150 bp DNA sequences (each containing a 60 bp variable region embedded within 150 bp of wild-type sequence), and columns `'ct_0'` to `'ct_11'` list the number of reads obtained for each sequence in each of the 12 FACS bins (4 bins per library). The `'set'` column in final_df indicates whether each sequence is to assigned to the training set, the validation set, or the test set.\n",
    "\n",
    "**Names**: ``'xylE'``\n",
    "\n",
    "**Reference**: Belliveau NM, Barnes SL, Ireland WT, Jones DL, Sweredoski MJ, Moradian A, Hess S, Kinney JB, Phillips R. Systematic approach for dissecting the molecular mechanisms of transcriptional regulation in bacteria. [Proc Natl Acad Sci USA 115:E4796–E4805 (2018).](https://doi.org/10.1073/pnas.1722055115)"
   ]
  },
  {
   "cell_type": "markdown",
   "source": [
    "# Preprocessing\n",
    "\n",
    "*xylE* is transcribed in the reverse direction starting from a  position 4,242,291 in the *E. coli* genome. The coordinates of each library's mutagenized regions are as follows:\n",
    "- Library 1 variant region: [4,242,269:4,242,321], i.e.\n",
    "- Library 2 variant region: [4,424,314:4,242,367]\n",
    "- Library 3 variant region: [4,242,359:4,242,418]\n",
    "- Full variant region: [4,242,269:4,242,418]\n",
    "\n",
    "The total region\n"
   ],
   "metadata": {
    "collapsed": false,
    "pycharm": {
     "name": "#%% md\n"
    }
   }
  },
  {
   "cell_type": "markdown",
   "metadata": {},
   "source": [
    "# Download raw data\n",
    "The following cell downloads each of the mutagenized regions into 3 pandas dataframes. Note that the urls will have to be updated to replace development to master after mavenn has been released to PyPI."
   ]
  },
  {
   "cell_type": "code",
   "execution_count": 2,
   "metadata": {},
   "outputs": [
    {
     "name": "stderr",
     "output_type": "stream",
     "text": [
      "/Users/jkinney/miniforge3_arm64/lib/python3.9/site-packages/numpy/lib/arraysetops.py:580: FutureWarning: elementwise comparison failed; returning scalar instead, but in the future will perform elementwise comparison\n",
      "  mask |= (ar1 == a)\n"
     ]
    }
   ],
   "source": [
    "# Download 3 mutagenized regions of datset into pandas dataframes\n",
    "\n",
    "# region 1 (library 1)\n",
    "file_name = '20160710_xylE_MG1655_M9xylose_na_mut1_4bins_pymc.csv.gz'\n",
    "url = f'https://github.com/jbkinney/mavenn/blob/development/mavenn/examples/datasets/raw/{file_name}?raw=true'\n",
    "\n",
    "data_df_mut1 = pd.read_csv(url,  \n",
    "                           compression='gzip',\n",
    "                           index_col=[0])\n",
    "\n",
    "# region 2 (library 2)\n",
    "file_name = '20160710_xylE_MG1655_M9xylose_na_mut2_4bins_pymc.csv.gz'\n",
    "url = f'https://github.com/jbkinney/mavenn/blob/development/mavenn/examples/datasets/raw/{file_name}?raw=true'\n",
    "\n",
    "data_df_mut2 = pd.read_csv(url,  \n",
    "                           compression='gzip',\n",
    "                           index_col=[0])\n",
    "\n",
    "\n",
    "# region 3 (library 3)\n",
    "file_name = '20160710_xylE_MG1655_M9xylose_na_mut3_4bins_pymc.csv.gz'\n",
    "url = f'https://github.com/jbkinney/mavenn/blob/development/mavenn/examples/datasets/raw/{file_name}?raw=true'\n",
    "\n",
    "data_df_mut3 = pd.read_csv(url,  \n",
    "                           compression='gzip',\n",
    "                           index_col=[0])"
   ]
  },
  {
   "cell_type": "markdown",
   "metadata": {},
   "source": [
    "Escherichia coli str. K-12 substr. MG1655, complete genome donwloaded from: https://www.ncbi.nlm.nih.gov/nuccore/U00096.3?report=fasta"
   ]
  },
  {
   "cell_type": "code",
   "execution_count": 3,
   "metadata": {},
   "outputs": [],
   "source": [
    "# read the E. Coli\n",
    "with open('e_coli_genome.fasta') as f:\n",
    "    raw_ecoli_genome = f.readlines()    "
   ]
  },
  {
   "cell_type": "code",
   "execution_count": 4,
   "metadata": {},
   "outputs": [
    {
     "data": {
      "text/plain": "['>U00096.3 Escherichia coli str. K-12 substr. MG1655, complete genome\\n',\n 'AGCTTTTCATTCTGACTGCAACGGGCAATATGTCTCTGTGTGGATTAAAAAAAGAGTGTCTGATAGCAGC\\n',\n 'TTCTGAACTGGTTACCTGCCGTGAGTAAATTAAAATTTTATTGACTTAGGTCACTAAATACTTTAACCAA\\n',\n 'TATAGGCATAGCGCACAGACAGATAAAAATTACAGAGTACACAACATCCATGAAACGCATTAGCACCACC\\n',\n 'ATTACCACCACCATCACCATTACCACAGGTAACGGTGCGGGCTGACGCGTACAGGAAACACAGAAAAAAG\\n']"
     },
     "execution_count": 4,
     "metadata": {},
     "output_type": "execute_result"
    }
   ],
   "source": [
    "# preview the E. Coli genome\n",
    "raw_ecoli_genome[0:5]"
   ]
  },
  {
   "cell_type": "code",
   "execution_count": 5,
   "metadata": {},
   "outputs": [],
   "source": [
    "# remove >'s and newline characters\n",
    "genome = [line.strip() for line in raw_ecoli_genome if ('>') not in line]"
   ]
  },
  {
   "cell_type": "code",
   "execution_count": 6,
   "metadata": {},
   "outputs": [
    {
     "data": {
      "text/plain": "['AGCTTTTCATTCTGACTGCAACGGGCAATATGTCTCTGTGTGGATTAAAAAAAGAGTGTCTGATAGCAGC',\n 'TTCTGAACTGGTTACCTGCCGTGAGTAAATTAAAATTTTATTGACTTAGGTCACTAAATACTTTAACCAA',\n 'TATAGGCATAGCGCACAGACAGATAAAAATTACAGAGTACACAACATCCATGAAACGCATTAGCACCACC',\n 'ATTACCACCACCATCACCATTACCACAGGTAACGGTGCGGGCTGACGCGTACAGGAAACACAGAAAAAAG',\n 'CCCGCACCTGACAGTGCGGGCTTTTTTTTTCGACCAAAGGTAACGAGGTAACAACCATGCGAGTGTTGAA']"
     },
     "execution_count": 6,
     "metadata": {},
     "output_type": "execute_result"
    }
   ],
   "source": [
    "# preview the genome\n",
    "genome[0:5]"
   ]
  },
  {
   "cell_type": "markdown",
   "metadata": {},
   "source": [
    "We note that the absolute Position of Transcription Start Site: **4242291** base pairs (https://biocyc.org/ECOLI/NEW-IMAGE?type=OPERON-IN-CHROM-BROWSER&object=TU0-14113&chromosome=COLI-K12)\n",
    "\n",
    "We use this number to determine which index of the genome list variable corresponding to WT sequence in our region of interest."
   ]
  },
  {
   "cell_type": "code",
   "execution_count": 7,
   "metadata": {},
   "outputs": [
    {
     "data": {
      "text/plain": "60604"
     },
     "execution_count": 7,
     "metadata": {},
     "output_type": "execute_result"
    }
   ],
   "source": [
    "int(4242291/(len(genome[0])))"
   ]
  },
  {
   "cell_type": "markdown",
   "metadata": {},
   "source": [
    "Since the entire promoter region mutagenized in the assay was 150 bp (greater than the length of the single sequence stored in the genome variable), we should look +/- 1 index around the line index 60605 to ensure we get the correct sequence. Thus our WT sequence of interest is given by the following sub-sequence from the E. Coli genome"
   ]
  },
  {
   "cell_type": "code",
   "execution_count": 8,
   "metadata": {},
   "outputs": [
    {
     "name": "stdout",
     "output_type": "stream",
     "text": [
      "AAGGTAATCGAAAATATATAACTGGAATTATACTGGGTATTCATTCAGACCTGCCTTAGACCATTCTGAT\n",
      "CTTTTATCAGTGCATTGATGTTGGAATTGTCAGGCAGTTAAGGCAATTATCATTTTTTACAATGCGTTTA\n",
      "CGTAATGTCTTTTCTGTGATCTTAATTGTGATAATTATCCAAAATTGATAAAAACAATACTATTGCCGTG\n"
     ]
    }
   ],
   "source": [
    "print(genome[60603])\n",
    "print(genome[60604])\n",
    "print(genome[60605])"
   ]
  },
  {
   "cell_type": "markdown",
   "metadata": {},
   "source": [
    "## Verification of E. Coli genomic region location\n",
    "\n",
    "To double check whether we have the correct region of the E. Coli, we can do the following simple test: we can construct a consensus sequence from our variant promoter sequences; if we have the correct genomic region, then that consensus sequence should match the genomic region. "
   ]
  },
  {
   "cell_type": "code",
   "execution_count": null,
   "metadata": {},
   "outputs": [],
   "source": [
    "# the following snippet shows how these probability matrices were generated\n",
    "prob_mat_mut_3 = logomaker.alignment_to_matrix(sequences=data_df_mut3['x'].values,to_type='probability')\n",
    "prob_mat_mut_2 = logomaker.alignment_to_matrix(sequences=data_df_mut2['x'].values,to_type='probability')\n",
    "prob_mat_mut_1 = logomaker.alignment_to_matrix(sequences=data_df_mut1['x'].values,to_type='probability')\n"
   ]
  },
  {
   "cell_type": "code",
   "execution_count": null,
   "metadata": {},
   "outputs": [],
   "source": [
    "# We will use these probability matrices to construct a consensus\n",
    "# from data and match to the WT sequence from the E. Coli genome.\n",
    "logo_mut_3 = logomaker.Logo(prob_mat_mut_3)\n",
    "logo_mut_2 = logomaker.Logo(prob_mat_mut_2)\n",
    "logo_mut_1 = logomaker.Logo(prob_mat_mut_1)"
   ]
  },
  {
   "cell_type": "markdown",
   "metadata": {},
   "source": [
    "The following logos visualize the consensus sequences in each of the 3 libraries. The yellow highlighted regions will help with the formation of the consensus sequence string 2 cells below."
   ]
  },
  {
   "cell_type": "code",
   "execution_count": null,
   "metadata": {},
   "outputs": [],
   "source": [
    "cons_seq_mut_3, _ = mavenn.src.utils.vec_data_to_mat_data(np.argmax(logo_mut_3.df.values,axis=1))\n",
    "cons_mut_3_logo = logomaker.Logo(pd.DataFrame(cons_seq_mut_3,columns=['A','C','G','T']),figsize=(10,2))\n",
    "cons_mut_3_logo.highlight_position_range(51,59)\n",
    "\n",
    "\n",
    "cons_seq_mut_2, _ = mavenn.src.utils.vec_data_to_mat_data(np.argmax(logo_mut_2.df.values,axis=1))\n",
    "cons_mut_2_logo = logomaker.Logo(pd.DataFrame(cons_seq_mut_2,columns=['A','C','G','T']),figsize=(10,2))\n",
    "cons_mut_2_logo.highlight_position_range(0,8)\n",
    "cons_mut_2_logo.highlight_position_range(46,53)\n",
    "\n",
    "# one is closest to xylE gene (left most)\n",
    "cons_seq_mut_1, _ = mavenn.src.utils.vec_data_to_mat_data(np.argmax(logo_mut_1.df.values,axis=1))\n",
    "cons_mut_1_logo = logomaker.Logo(pd.DataFrame(cons_seq_mut_1,columns=['A','C','G','T']),figsize=(10,2))\n",
    "cons_mut_1_logo.highlight_position_range(0,7)\n"
   ]
  },
  {
   "cell_type": "markdown",
   "metadata": {},
   "source": [
    "Form consensues sequence string"
   ]
  },
  {
   "cell_type": "code",
   "execution_count": null,
   "metadata": {},
   "outputs": [],
   "source": [
    "\n",
    "bp_dict = {0:'A',1:'C',2:'G',3:'T'}\n",
    "cons_mut_3 = ''\n",
    "cons_mut_2 = ''\n",
    "cons_mut_1 = ''\n",
    "\n",
    "for idx,value in cons_mut_3_logo.df.iterrows():\n",
    "    cons_mut_3+=bp_dict[np.argmax(value)]\n",
    "\n",
    "for idx,value in cons_mut_2_logo.df.iterrows():\n",
    "    cons_mut_2+=bp_dict[np.argmax(value)]\n",
    "\n",
    "for idx,value in cons_mut_1_logo.df.iterrows():\n",
    "    cons_mut_1+=bp_dict[np.argmax(value)]\n",
    "\n",
    "\n",
    "# The full consensus sequence is as follows and is 150 bp in length. \n",
    "# Note that the values of indices 9:46 were obtained by looking at \n",
    "# the highlighted areas in the consensus logos above    \n",
    "consensus_seq_from_data = cons_mut_3+cons_mut_2[9:46]+cons_mut_1 "
   ]
  },
  {
   "cell_type": "code",
   "execution_count": null,
   "metadata": {
    "collapsed": true
   },
   "outputs": [],
   "source": [
    "# method to reverse complement sequences\n",
    "def reverse_complement(seq):\n",
    "    complement = str.maketrans('ATCGN', 'TAGCN')\n",
    "    return str(seq).upper().translate(complement)[::-1]\n",
    "\n",
    "consensus_seq_from_data_rc = reverse_complement(consensus_seq_from_data)"
   ]
  },
  {
   "cell_type": "code",
   "execution_count": null,
   "metadata": {},
   "outputs": [],
   "source": [
    "print(consensus_seq_from_data,'\\n') \n",
    "print(consensus_seq_from_data_rc)"
   ]
  },
  {
   "cell_type": "markdown",
   "metadata": {},
   "source": [
    "Now that we have the consensus sequence from data, we can match to the WT sequence that we obtained from the E. Coli genome"
   ]
  },
  {
   "cell_type": "code",
   "execution_count": null,
   "metadata": {},
   "outputs": [],
   "source": [
    "print('Consensus sequences from data matches xylE location in E. Coli genome: ',consensus_seq_from_data in genome[60603]+genome[60604]+genome[60605])\n",
    "print('Consensus sequences from data matches xylE location in E. Coli genome: ',consensus_seq_from_data_rc in genome[60603]+genome[60604]+genome[60605])\n"
   ]
  },
  {
   "cell_type": "markdown",
   "metadata": {},
   "source": [
    "We note that the reverse complement of the consensus sequence matches the xylE gene location exactly. We can now construct full length sequences using the reverse complement of the xylE WT sequence from the genome."
   ]
  },
  {
   "cell_type": "code",
   "execution_count": null,
   "metadata": {},
   "outputs": [],
   "source": [
    "genome[60603]+genome[60604]+genome[60605]"
   ]
  },
  {
   "cell_type": "markdown",
   "metadata": {},
   "source": [
    "The above string is 210 bp long. The exact 150 bp sequence can be found by matching the sequence of the xylE promoter provided on https://biocyc.org/ECOLI/NEW-IMAGE?type=OPERON&object=TU0-14113"
   ]
  },
  {
   "cell_type": "code",
   "execution_count": null,
   "metadata": {},
   "outputs": [],
   "source": [
    "WT_sequence = reverse_complement(genome[60603]+genome[60604]+genome[60605])[2:152]"
   ]
  },
  {
   "cell_type": "code",
   "execution_count": null,
   "metadata": {},
   "outputs": [],
   "source": [
    "# We can also check whether this WT sequence matches our consensus from data \n",
    "WT_sequence == consensus_seq_from_data"
   ]
  },
  {
   "cell_type": "markdown",
   "metadata": {},
   "source": [
    "# Form full length sequences"
   ]
  },
  {
   "cell_type": "markdown",
   "metadata": {},
   "source": [
    "Since the sequences in library 3 are 60 bp in length, the full length sequences for library will be `data_df_mut3['x'] + WT_sequence[60:]`"
   ]
  },
  {
   "cell_type": "code",
   "execution_count": null,
   "metadata": {},
   "outputs": [],
   "source": [
    "WT_sequence[60:]"
   ]
  },
  {
   "cell_type": "code",
   "execution_count": null,
   "metadata": {},
   "outputs": [],
   "source": [
    "# full library_3_sequences \n",
    "data_df_mut3['x_full'] = data_df_mut3.x+WT_sequence[60:]\n",
    "data_df_mut3.head()"
   ]
  },
  {
   "cell_type": "code",
   "execution_count": null,
   "metadata": {},
   "outputs": [],
   "source": [
    "data_df_mut2.head()"
   ]
  },
  {
   "cell_type": "markdown",
   "metadata": {},
   "source": [
    "The sequences in library 2 are in the middle of the promoter, and by looking at the logos above, they will be form as `WT_sequence[0:50]+data_df_mut2.x+WT_sequence[104:]`"
   ]
  },
  {
   "cell_type": "code",
   "execution_count": null,
   "metadata": {
    "collapsed": true
   },
   "outputs": [],
   "source": [
    "data_df_mut2['x_full'] = WT_sequence[0:50]+data_df_mut2.x+WT_sequence[104:]"
   ]
  },
  {
   "cell_type": "code",
   "execution_count": null,
   "metadata": {},
   "outputs": [],
   "source": [
    "data_df_mut2.head()"
   ]
  },
  {
   "cell_type": "markdown",
   "metadata": {},
   "source": [
    "Finally, the length of sequences in library 1 is 53, so the full sequences will be `WT_sequence[0:97]+data_df_mut1.x`, where the 93 is from 150 - 53"
   ]
  },
  {
   "cell_type": "code",
   "execution_count": null,
   "metadata": {
    "collapsed": true
   },
   "outputs": [],
   "source": [
    "data_df_mut1['x_full'] = WT_sequence[0:97]+data_df_mut1.x"
   ]
  },
  {
   "cell_type": "code",
   "execution_count": null,
   "metadata": {},
   "outputs": [],
   "source": [
    "data_df_mut1.head()"
   ]
  },
  {
   "cell_type": "markdown",
   "metadata": {},
   "source": [
    "Transform vector format bin data into matrix from data using mavenn's vec_data_to_mat_data utility function"
   ]
  },
  {
   "cell_type": "code",
   "execution_count": null,
   "metadata": {
    "collapsed": true
   },
   "outputs": [],
   "source": [
    "cts_mut_1 = mavenn.src.utils.vec_data_to_mat_data(data_df_mut1['bin'].values)\n",
    "cts_mut_2 = mavenn.src.utils.vec_data_to_mat_data(data_df_mut2['bin'].values)\n",
    "cts_mut_3 = mavenn.src.utils.vec_data_to_mat_data(data_df_mut3['bin'].values)"
   ]
  },
  {
   "cell_type": "code",
   "execution_count": null,
   "metadata": {},
   "outputs": [],
   "source": [
    "# this what the transform counts matrix data looks like from region 1. \n",
    "cts_mut_1"
   ]
  },
  {
   "cell_type": "code",
   "execution_count": null,
   "metadata": {
    "collapsed": true
   },
   "outputs": [],
   "source": [
    "# form counts dataframes\n",
    "cts_mut_3_df = pd.DataFrame(cts_mut_3[0],columns=['ct_0','ct_1','ct_2','ct_3'])\n",
    "cts_mut_2_df = pd.DataFrame(cts_mut_2[0],columns=['ct_4','ct_5','ct_6','ct_7'])\n",
    "cts_mut_1_df = pd.DataFrame(cts_mut_1[0],columns=['ct_8','ct_9','ct_10','ct_11'])\n"
   ]
  },
  {
   "cell_type": "markdown",
   "metadata": {},
   "source": [
    "Initially, the counts dataframe for library 3 looks like the following matrix, with only four columns. Columns ct_4 through ct_11 will be append to this containing all zeros"
   ]
  },
  {
   "cell_type": "code",
   "execution_count": null,
   "metadata": {},
   "outputs": [],
   "source": [
    "cts_mut_3_df.head()"
   ]
  },
  {
   "cell_type": "markdown",
   "metadata": {},
   "source": [
    "The updated counts dataframe looks like"
   ]
  },
  {
   "cell_type": "code",
   "execution_count": null,
   "metadata": {},
   "outputs": [],
   "source": [
    "# Add bins ct_4 through ct_11 containing all 0 counts\n",
    "cts_mut_3_df[['ct_4','ct_5','ct_6','ct_7','ct_8','ct_9','ct_10','ct_11']] = [0,0,0,0,0,0,0,0]\n",
    "cts_mut_3_df.head(10)"
   ]
  },
  {
   "cell_type": "markdown",
   "metadata": {},
   "source": [
    "Now do the same thing for libraries 2 and 1, respectively."
   ]
  },
  {
   "cell_type": "code",
   "execution_count": null,
   "metadata": {
    "collapsed": true
   },
   "outputs": [],
   "source": [
    "cts_mut_2_df.insert(0,'ct_0',0)\n",
    "cts_mut_2_df.insert(1,'ct_1',0)\n",
    "cts_mut_2_df.insert(2,'ct_2',0)\n",
    "cts_mut_2_df.insert(3,'ct_3',0)\n",
    "cts_mut_2_df[['ct_8','ct_9','ct_10','ct_11']] = [0,0,0,0]"
   ]
  },
  {
   "cell_type": "code",
   "execution_count": null,
   "metadata": {},
   "outputs": [],
   "source": [
    "cts_mut_2_df.head()"
   ]
  },
  {
   "cell_type": "code",
   "execution_count": null,
   "metadata": {},
   "outputs": [],
   "source": [
    "for idx in range(8):\n",
    "    cts_mut_1_df.insert(idx,f'ct_{idx}',0)\n",
    "cts_mut_1_df.head()    "
   ]
  },
  {
   "cell_type": "markdown",
   "metadata": {},
   "source": [
    "Now merge the sequence dataframe and their associated counts dataframes together"
   ]
  },
  {
   "cell_type": "code",
   "execution_count": null,
   "metadata": {
    "collapsed": true
   },
   "outputs": [],
   "source": [
    "data_df_mut1 = data_df_mut1.merge(cts_mut_1_df,how='outer', left_index=True, right_index=True)\n",
    "data_df_mut2 = data_df_mut2.merge(cts_mut_2_df,how='outer', left_index=True, right_index=True)\n",
    "data_df_mut3 = data_df_mut3.merge(cts_mut_3_df,how='outer', left_index=True, right_index=True)"
   ]
  },
  {
   "cell_type": "markdown",
   "metadata": {},
   "source": [
    "Finally, put together the dataframe of all sequences and their associated counts"
   ]
  },
  {
   "cell_type": "code",
   "execution_count": null,
   "metadata": {
    "collapsed": true
   },
   "outputs": [],
   "source": [
    "data_df = pd.concat([data_df_mut3, data_df_mut2, data_df_mut1],ignore_index=True)"
   ]
  },
  {
   "cell_type": "markdown",
   "metadata": {},
   "source": [
    "The combined dataset is shown below"
   ]
  },
  {
   "cell_type": "code",
   "execution_count": null,
   "metadata": {},
   "outputs": [],
   "source": [
    "data_df"
   ]
  },
  {
   "cell_type": "code",
   "execution_count": null,
   "metadata": {
    "collapsed": true
   },
   "outputs": [],
   "source": [
    "# do some clean of dataframe\n",
    "del data_df['x']\n",
    "del data_df['bin']"
   ]
  },
  {
   "cell_type": "code",
   "execution_count": null,
   "metadata": {
    "collapsed": true
   },
   "outputs": [],
   "source": [
    "# rename x_full to x\n",
    "data_df.rename(columns={'x_full':'x'}, inplace=True)"
   ]
  },
  {
   "cell_type": "markdown",
   "metadata": {},
   "source": [
    "This dataframe now only contains counts across all 12 bins."
   ]
  },
  {
   "cell_type": "code",
   "execution_count": null,
   "metadata": {},
   "outputs": [],
   "source": [
    "data_df"
   ]
  },
  {
   "cell_type": "code",
   "execution_count": null,
   "metadata": {
    "collapsed": true
   },
   "outputs": [],
   "source": [
    "# Randomly assign sequences to training, validation, and test sets\n",
    "final_df = data_df.copy()\n",
    "np.random.seed(0)\n",
    "final_df['set'] = np.random.choice(a=['training','test','validation'], \n",
    "                                   p=[.6,.2,.2], \n",
    "                                   size=len(final_df))"
   ]
  },
  {
   "cell_type": "markdown",
   "metadata": {},
   "source": [
    "The final dataset"
   ]
  },
  {
   "cell_type": "code",
   "execution_count": null,
   "metadata": {},
   "outputs": [],
   "source": [
    "final_df "
   ]
  },
  {
   "cell_type": "code",
   "execution_count": null,
   "metadata": {
    "collapsed": true
   },
   "outputs": [],
   "source": [
    "# save data\n",
    "final_df.to_csv('xylE_data.csv.gz',index=False, compression='gzip')"
   ]
  }
 ],
 "metadata": {
  "kernelspec": {
   "display_name": "Python 3",
   "language": "python",
   "name": "python3"
  },
  "language_info": {
   "codemirror_mode": {
    "name": "ipython",
    "version": 3
   },
   "file_extension": ".py",
   "mimetype": "text/x-python",
   "name": "python",
   "nbconvert_exporter": "python",
   "pygments_lexer": "ipython3",
   "version": "3.6.7"
  }
 },
 "nbformat": 4,
 "nbformat_minor": 2
}