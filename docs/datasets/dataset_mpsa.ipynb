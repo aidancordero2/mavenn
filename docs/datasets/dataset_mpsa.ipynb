{
 "cells": [
  {
   "cell_type": "markdown",
   "id": "dca40d3f",
   "metadata": {},
   "source": [
    "# `'mpsa'`"
   ]
  },
  {
   "cell_type": "code",
   "execution_count": 1,
   "id": "43acb29b",
   "metadata": {
    "ExecuteTime": {
     "end_time": "2021-11-11T17:58:53.393311Z",
     "start_time": "2021-11-11T17:58:51.481434Z"
    }
   },
   "outputs": [],
   "source": [
    "# Standard imports\n",
    "import pandas as pd\n",
    "import numpy as np\n",
    "import matplotlib.pyplot as plt\n",
    "%matplotlib inline\n",
    "\n",
    "# Special imports\n",
    "import mavenn"
   ]
  },
  {
   "cell_type": "markdown",
   "id": "5336886a",
   "metadata": {
    "ExecuteTime": {
     "end_time": "2021-11-11T17:26:47.608641Z",
     "start_time": "2021-11-11T17:26:47.392567Z"
    }
   },
   "source": [
    "## Summary"
   ]
  },
  {
   "cell_type": "markdown",
   "id": "030ff69a",
   "metadata": {
    "ExecuteTime": {
     "end_time": "2021-11-11T17:27:24.538136Z",
     "start_time": "2021-11-11T17:27:24.529622Z"
    }
   },
   "source": [
    "The massively parallel splicing assay (MPSA) dataset of Wong et al., 2018. The authors used 3-exon minigenes to assay how inclusion of the middle exon varies with the sequence of that exon's 5' splice site. Nearly all 5' splice site variants of the form NNN/GYNNNN were measured, where the slash demarcates the exon/intron boundary. The authors performed experiments on multiple replicates of multiple libraries in three different minigene contexts: *IKBKAP* exons 19-21, *SMN1* exons 6-8, and *BRCA2* exons 17-19. The dataset ``'mpsa'`` is from library 1 replicate 1 in the *BRCA2* context, while ``'mpsa_replicate'`` is from library 2 replicate 1 in the same context. \n",
    "\n",
    "In these dataframes, the ``'tot_ct'`` column reports the number of reads obtained for each splice site from total processed mRNA transcripts, the ``'ex_ct'`` column reports the number of reads obtained from processed mRNA transcripts containing the central exon, ``'y'`` is the $\\log_{10}$ percent-spliced-in (PSI) value measured for each sequence, and ``'x'`` is the variant 5' splice site. Note that some sequences have $y > 2.0$, corresponding to PSI > 100, due to experimental noise.\n",
    "\n",
    "**Names**: ``'mpsa'``\n",
    "\n",
    "**Associated dataset**: ``'mpsa_replicate'``\n",
    "\n",
    "**Reference**: Wong MS, Kinney JB, Krainer AR (2018). Quantitative activity profile and context dependence of all human 5' splice sites. [Mol Cell. 71(6):1012-1026.e3.](https://doi.org/10.1016/j.molcel.2018.07.033)"
   ]
  },
  {
   "cell_type": "code",
   "execution_count": 2,
   "id": "3072cf25",
   "metadata": {
    "ExecuteTime": {
     "end_time": "2021-11-11T17:58:53.419905Z",
     "start_time": "2021-11-11T17:58:53.394360Z"
    }
   },
   "outputs": [
    {
     "data": {
      "text/html": [
       "<div>\n",
       "<style scoped>\n",
       "    .dataframe tbody tr th:only-of-type {\n",
       "        vertical-align: middle;\n",
       "    }\n",
       "\n",
       "    .dataframe tbody tr th {\n",
       "        vertical-align: top;\n",
       "    }\n",
       "\n",
       "    .dataframe thead th {\n",
       "        text-align: right;\n",
       "    }\n",
       "</style>\n",
       "<table border=\"1\" class=\"dataframe\">\n",
       "  <thead>\n",
       "    <tr style=\"text-align: right;\">\n",
       "      <th></th>\n",
       "      <th>set</th>\n",
       "      <th>tot_ct</th>\n",
       "      <th>ex_ct</th>\n",
       "      <th>y</th>\n",
       "      <th>x</th>\n",
       "    </tr>\n",
       "  </thead>\n",
       "  <tbody>\n",
       "    <tr>\n",
       "      <th>0</th>\n",
       "      <td>training</td>\n",
       "      <td>28</td>\n",
       "      <td>2</td>\n",
       "      <td>0.023406</td>\n",
       "      <td>GGAGUGAUG</td>\n",
       "    </tr>\n",
       "    <tr>\n",
       "      <th>1</th>\n",
       "      <td>training</td>\n",
       "      <td>315</td>\n",
       "      <td>7</td>\n",
       "      <td>-0.587914</td>\n",
       "      <td>AGUGUGCAA</td>\n",
       "    </tr>\n",
       "    <tr>\n",
       "      <th>2</th>\n",
       "      <td>test</td>\n",
       "      <td>193</td>\n",
       "      <td>15</td>\n",
       "      <td>-0.074999</td>\n",
       "      <td>UUCGCGCCA</td>\n",
       "    </tr>\n",
       "    <tr>\n",
       "      <th>3</th>\n",
       "      <td>validation</td>\n",
       "      <td>27</td>\n",
       "      <td>0</td>\n",
       "      <td>-0.438475</td>\n",
       "      <td>UAAGCUUUU</td>\n",
       "    </tr>\n",
       "    <tr>\n",
       "      <th>4</th>\n",
       "      <td>training</td>\n",
       "      <td>130</td>\n",
       "      <td>2</td>\n",
       "      <td>-0.631467</td>\n",
       "      <td>AUGGUCGGG</td>\n",
       "    </tr>\n",
       "    <tr>\n",
       "      <th>...</th>\n",
       "      <td>...</td>\n",
       "      <td>...</td>\n",
       "      <td>...</td>\n",
       "      <td>...</td>\n",
       "      <td>...</td>\n",
       "    </tr>\n",
       "    <tr>\n",
       "      <th>30478</th>\n",
       "      <td>validation</td>\n",
       "      <td>190</td>\n",
       "      <td>17</td>\n",
       "      <td>-0.017078</td>\n",
       "      <td>CUGGUUGCA</td>\n",
       "    </tr>\n",
       "    <tr>\n",
       "      <th>30479</th>\n",
       "      <td>training</td>\n",
       "      <td>154</td>\n",
       "      <td>10</td>\n",
       "      <td>-0.140256</td>\n",
       "      <td>CGCGCACAA</td>\n",
       "    </tr>\n",
       "    <tr>\n",
       "      <th>30480</th>\n",
       "      <td>training</td>\n",
       "      <td>407</td>\n",
       "      <td>16</td>\n",
       "      <td>-0.371528</td>\n",
       "      <td>ACUGCUCAC</td>\n",
       "    </tr>\n",
       "    <tr>\n",
       "      <th>30481</th>\n",
       "      <td>test</td>\n",
       "      <td>265</td>\n",
       "      <td>6</td>\n",
       "      <td>-0.571100</td>\n",
       "      <td>AUAGUCUAA</td>\n",
       "    </tr>\n",
       "    <tr>\n",
       "      <th>30482</th>\n",
       "      <td>training</td>\n",
       "      <td>26</td>\n",
       "      <td>22</td>\n",
       "      <td>0.939047</td>\n",
       "      <td>GUGGUAACU</td>\n",
       "    </tr>\n",
       "  </tbody>\n",
       "</table>\n",
       "<p>30483 rows × 5 columns</p>\n",
       "</div>"
      ],
      "text/plain": [
       "              set  tot_ct  ex_ct         y          x\n",
       "0        training      28      2  0.023406  GGAGUGAUG\n",
       "1        training     315      7 -0.587914  AGUGUGCAA\n",
       "2            test     193     15 -0.074999  UUCGCGCCA\n",
       "3      validation      27      0 -0.438475  UAAGCUUUU\n",
       "4        training     130      2 -0.631467  AUGGUCGGG\n",
       "...           ...     ...    ...       ...        ...\n",
       "30478  validation     190     17 -0.017078  CUGGUUGCA\n",
       "30479    training     154     10 -0.140256  CGCGCACAA\n",
       "30480    training     407     16 -0.371528  ACUGCUCAC\n",
       "30481        test     265      6 -0.571100  AUAGUCUAA\n",
       "30482    training      26     22  0.939047  GUGGUAACU\n",
       "\n",
       "[30483 rows x 5 columns]"
      ]
     },
     "execution_count": 2,
     "metadata": {},
     "output_type": "execute_result"
    }
   ],
   "source": [
    "mavenn.load_example_dataset('mpsa')"
   ]
  },
  {
   "cell_type": "markdown",
   "id": "6fe018cb",
   "metadata": {},
   "source": [
    "## Preprocessing"
   ]
  },
  {
   "cell_type": "markdown",
   "id": "ecccf7df",
   "metadata": {
    "ExecuteTime": {
     "end_time": "2021-11-11T17:34:28.129865Z",
     "start_time": "2021-11-11T17:34:28.124430Z"
    }
   },
   "source": [
    "<span style=\"color:red\">DOCUMENTATION UNDER CONSTRUCTION</span>"
   ]
  }
 ],
 "metadata": {
  "kernelspec": {
   "display_name": "Python 3",
   "language": "python",
   "name": "python3"
  },
  "language_info": {
   "codemirror_mode": {
    "name": "ipython",
    "version": 3
   },
   "file_extension": ".py",
   "mimetype": "text/x-python",
   "name": "python",
   "nbconvert_exporter": "python",
   "pygments_lexer": "ipython3",
   "version": "3.9.2"
  },
  "varInspector": {
   "cols": {
    "lenName": 16,
    "lenType": 16,
    "lenVar": 40
   },
   "kernels_config": {
    "python": {
     "delete_cmd_postfix": "",
     "delete_cmd_prefix": "del ",
     "library": "var_list.py",
     "varRefreshCmd": "print(var_dic_list())"
    },
    "r": {
     "delete_cmd_postfix": ") ",
     "delete_cmd_prefix": "rm(",
     "library": "var_list.r",
     "varRefreshCmd": "cat(var_dic_list()) "
    }
   },
   "types_to_exclude": [
    "module",
    "function",
    "builtin_function_or_method",
    "instance",
    "_Feature"
   ],
   "window_display": false
  }
 },
 "nbformat": 4,
 "nbformat_minor": 5
}
