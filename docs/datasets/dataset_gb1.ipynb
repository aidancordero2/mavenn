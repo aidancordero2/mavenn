{
 "cells": [
  {
   "cell_type": "markdown",
   "id": "dca40d3f",
   "metadata": {},
   "source": [
    "# `'gb1'` dataset"
   ]
  },
  {
   "cell_type": "code",
   "execution_count": 1,
   "id": "43acb29b",
   "metadata": {
    "ExecuteTime": {
     "end_time": "2021-11-11T22:23:27.743043Z",
     "start_time": "2021-11-11T22:23:25.875662Z"
    }
   },
   "outputs": [],
   "source": [
    "# Standard imports\n",
    "import pandas as pd\n",
    "import numpy as np\n",
    "import matplotlib.pyplot as plt\n",
    "%matplotlib inline\n",
    "\n",
    "# Special imports\n",
    "import mavenn\n",
    "import os\n",
    "import urllib"
   ]
  },
  {
   "cell_type": "markdown",
   "id": "5336886a",
   "metadata": {
    "ExecuteTime": {
     "end_time": "2021-11-11T17:26:47.608641Z",
     "start_time": "2021-11-11T17:26:47.392567Z"
    }
   },
   "source": [
    "## Summary"
   ]
  },
  {
   "cell_type": "markdown",
   "id": "030ff69a",
   "metadata": {
    "ExecuteTime": {
     "end_time": "2021-11-11T17:27:24.538136Z",
     "start_time": "2021-11-11T17:27:24.529622Z"
    }
   },
   "source": [
    "The DMS dataset from Olson et al., 2014. The authors used an RNA display selection experiment to assay the binding of over half a million protein GB1 variants to IgG. These variants included all 1-point and 2-point mutations within the 55 residue GB1 sequence. Only the 2-point variants, however, are included in this dataset. \n",
    "\n",
    "**Name:** ``'gb1'``\n",
    "\n",
    "**Reference**: Olson C, Wu N, Sun R. (2014). A comprehensive biophysical description of pairwise epistasis throughout an entire protein domain. [Curr Biol. 24(22):2643-2651.](https://pubmed.ncbi.nlm.nih.gov/25455030/)"
   ]
  },
  {
   "cell_type": "code",
   "execution_count": 2,
   "id": "3072cf25",
   "metadata": {
    "ExecuteTime": {
     "end_time": "2021-11-11T22:23:28.280522Z",
     "start_time": "2021-11-11T22:23:27.744157Z"
    }
   },
   "outputs": [
    {
     "data": {
      "text/plain": "               set  dist  input_ct  selected_ct         y  \\\n0         training     2       173           33 -3.145154   \n1       validation     2        18            8 -1.867676   \n2       validation     2        66            2 -5.270800   \n3         training     2        72            1 -5.979498   \n4         training     2        69          168  0.481923   \n...            ...   ...       ...          ...       ...   \n530732    training     2       462          139 -2.515259   \n530733    training     2       317           84 -2.693165   \n530734    training     2       335           77 -2.896589   \n530735        test     2       148           28 -3.150861   \n530736    training     2        95           16 -3.287173   \n\n                                                        x  \n0       AAKLILNGKTLKGETTTEAVDAATAEKVFKQYANDNGVDGEWTYDD...  \n1       ACKLILNGKTLKGETTTEAVDAATAEKVFKQYANDNGVDGEWTYDD...  \n2       ADKLILNGKTLKGETTTEAVDAATAEKVFKQYANDNGVDGEWTYDD...  \n3       AEKLILNGKTLKGETTTEAVDAATAEKVFKQYANDNGVDGEWTYDD...  \n4       AFKLILNGKTLKGETTTEAVDAATAEKVFKQYANDNGVDGEWTYDD...  \n...                                                   ...  \n530732  QYKLILNGKTLKGETTTEAVDAATAEKVFKQYANDNGVDGEWTYDD...  \n530733  QYKLILNGKTLKGETTTEAVDAATAEKVFKQYANDNGVDGEWTYDD...  \n530734  QYKLILNGKTLKGETTTEAVDAATAEKVFKQYANDNGVDGEWTYDD...  \n530735  QYKLILNGKTLKGETTTEAVDAATAEKVFKQYANDNGVDGEWTYDD...  \n530736  QYKLILNGKTLKGETTTEAVDAATAEKVFKQYANDNGVDGEWTYDD...  \n\n[530737 rows x 6 columns]",
      "text/html": "<div>\n<style scoped>\n    .dataframe tbody tr th:only-of-type {\n        vertical-align: middle;\n    }\n\n    .dataframe tbody tr th {\n        vertical-align: top;\n    }\n\n    .dataframe thead th {\n        text-align: right;\n    }\n</style>\n<table border=\"1\" class=\"dataframe\">\n  <thead>\n    <tr style=\"text-align: right;\">\n      <th></th>\n      <th>set</th>\n      <th>dist</th>\n      <th>input_ct</th>\n      <th>selected_ct</th>\n      <th>y</th>\n      <th>x</th>\n    </tr>\n  </thead>\n  <tbody>\n    <tr>\n      <th>0</th>\n      <td>training</td>\n      <td>2</td>\n      <td>173</td>\n      <td>33</td>\n      <td>-3.145154</td>\n      <td>AAKLILNGKTLKGETTTEAVDAATAEKVFKQYANDNGVDGEWTYDD...</td>\n    </tr>\n    <tr>\n      <th>1</th>\n      <td>validation</td>\n      <td>2</td>\n      <td>18</td>\n      <td>8</td>\n      <td>-1.867676</td>\n      <td>ACKLILNGKTLKGETTTEAVDAATAEKVFKQYANDNGVDGEWTYDD...</td>\n    </tr>\n    <tr>\n      <th>2</th>\n      <td>validation</td>\n      <td>2</td>\n      <td>66</td>\n      <td>2</td>\n      <td>-5.270800</td>\n      <td>ADKLILNGKTLKGETTTEAVDAATAEKVFKQYANDNGVDGEWTYDD...</td>\n    </tr>\n    <tr>\n      <th>3</th>\n      <td>training</td>\n      <td>2</td>\n      <td>72</td>\n      <td>1</td>\n      <td>-5.979498</td>\n      <td>AEKLILNGKTLKGETTTEAVDAATAEKVFKQYANDNGVDGEWTYDD...</td>\n    </tr>\n    <tr>\n      <th>4</th>\n      <td>training</td>\n      <td>2</td>\n      <td>69</td>\n      <td>168</td>\n      <td>0.481923</td>\n      <td>AFKLILNGKTLKGETTTEAVDAATAEKVFKQYANDNGVDGEWTYDD...</td>\n    </tr>\n    <tr>\n      <th>...</th>\n      <td>...</td>\n      <td>...</td>\n      <td>...</td>\n      <td>...</td>\n      <td>...</td>\n      <td>...</td>\n    </tr>\n    <tr>\n      <th>530732</th>\n      <td>training</td>\n      <td>2</td>\n      <td>462</td>\n      <td>139</td>\n      <td>-2.515259</td>\n      <td>QYKLILNGKTLKGETTTEAVDAATAEKVFKQYANDNGVDGEWTYDD...</td>\n    </tr>\n    <tr>\n      <th>530733</th>\n      <td>training</td>\n      <td>2</td>\n      <td>317</td>\n      <td>84</td>\n      <td>-2.693165</td>\n      <td>QYKLILNGKTLKGETTTEAVDAATAEKVFKQYANDNGVDGEWTYDD...</td>\n    </tr>\n    <tr>\n      <th>530734</th>\n      <td>training</td>\n      <td>2</td>\n      <td>335</td>\n      <td>77</td>\n      <td>-2.896589</td>\n      <td>QYKLILNGKTLKGETTTEAVDAATAEKVFKQYANDNGVDGEWTYDD...</td>\n    </tr>\n    <tr>\n      <th>530735</th>\n      <td>test</td>\n      <td>2</td>\n      <td>148</td>\n      <td>28</td>\n      <td>-3.150861</td>\n      <td>QYKLILNGKTLKGETTTEAVDAATAEKVFKQYANDNGVDGEWTYDD...</td>\n    </tr>\n    <tr>\n      <th>530736</th>\n      <td>training</td>\n      <td>2</td>\n      <td>95</td>\n      <td>16</td>\n      <td>-3.287173</td>\n      <td>QYKLILNGKTLKGETTTEAVDAATAEKVFKQYANDNGVDGEWTYDD...</td>\n    </tr>\n  </tbody>\n</table>\n<p>530737 rows × 6 columns</p>\n</div>"
     },
     "execution_count": 2,
     "metadata": {},
     "output_type": "execute_result"
    }
   ],
   "source": [
    "mavenn.load_example_dataset('gb1')"
   ]
  },
  {
   "cell_type": "markdown",
   "id": "6fe018cb",
   "metadata": {},
   "source": [
    "## Preprocessing"
   ]
  },
  {
   "cell_type": "markdown",
   "id": "ecccf7df",
   "metadata": {
    "ExecuteTime": {
     "end_time": "2021-11-11T17:34:28.129865Z",
     "start_time": "2021-11-11T17:34:28.124430Z"
    }
   },
   "source": [
    "<span style=\"color:red\">DOCUMENTATION UNDER CONSTRUCTION</span>"
   ]
  },
  {
   "cell_type": "code",
   "execution_count": 4,
   "id": "cb458379",
   "metadata": {
    "ExecuteTime": {
     "end_time": "2021-11-11T22:23:57.114688Z",
     "start_time": "2021-11-11T22:23:28.281450Z"
    }
   },
   "outputs": [
    {
     "data": {
      "text/plain": "  Mut1 WT amino acid  Mut1 Position Mut1 Mutation Mut2 WT amino acid  \\\n0                  Q              2             A                  Y   \n1                  Q              2             A                  Y   \n2                  Q              2             A                  Y   \n3                  Q              2             A                  Y   \n4                  Q              2             A                  Y   \n\n   Mut2 Position Mut2 Mutation  Input Count  Selection Count  Mut1 Fitness  \\\n0              3             A          173               33         1.518   \n1              3             C           18                8         1.518   \n2              3             D           66                2         1.518   \n3              3             E           72                1         1.518   \n4              3             F           69              168         1.518   \n\n   Mut2 Fitness  \n0         0.579  \n1         0.616  \n2         0.010  \n3         0.009  \n4         1.054  ",
      "text/html": "<div>\n<style scoped>\n    .dataframe tbody tr th:only-of-type {\n        vertical-align: middle;\n    }\n\n    .dataframe tbody tr th {\n        vertical-align: top;\n    }\n\n    .dataframe thead th {\n        text-align: right;\n    }\n</style>\n<table border=\"1\" class=\"dataframe\">\n  <thead>\n    <tr style=\"text-align: right;\">\n      <th></th>\n      <th>Mut1 WT amino acid</th>\n      <th>Mut1 Position</th>\n      <th>Mut1 Mutation</th>\n      <th>Mut2 WT amino acid</th>\n      <th>Mut2 Position</th>\n      <th>Mut2 Mutation</th>\n      <th>Input Count</th>\n      <th>Selection Count</th>\n      <th>Mut1 Fitness</th>\n      <th>Mut2 Fitness</th>\n    </tr>\n  </thead>\n  <tbody>\n    <tr>\n      <th>0</th>\n      <td>Q</td>\n      <td>2</td>\n      <td>A</td>\n      <td>Y</td>\n      <td>3</td>\n      <td>A</td>\n      <td>173</td>\n      <td>33</td>\n      <td>1.518</td>\n      <td>0.579</td>\n    </tr>\n    <tr>\n      <th>1</th>\n      <td>Q</td>\n      <td>2</td>\n      <td>A</td>\n      <td>Y</td>\n      <td>3</td>\n      <td>C</td>\n      <td>18</td>\n      <td>8</td>\n      <td>1.518</td>\n      <td>0.616</td>\n    </tr>\n    <tr>\n      <th>2</th>\n      <td>Q</td>\n      <td>2</td>\n      <td>A</td>\n      <td>Y</td>\n      <td>3</td>\n      <td>D</td>\n      <td>66</td>\n      <td>2</td>\n      <td>1.518</td>\n      <td>0.010</td>\n    </tr>\n    <tr>\n      <th>3</th>\n      <td>Q</td>\n      <td>2</td>\n      <td>A</td>\n      <td>Y</td>\n      <td>3</td>\n      <td>E</td>\n      <td>72</td>\n      <td>1</td>\n      <td>1.518</td>\n      <td>0.009</td>\n    </tr>\n    <tr>\n      <th>4</th>\n      <td>Q</td>\n      <td>2</td>\n      <td>A</td>\n      <td>Y</td>\n      <td>3</td>\n      <td>F</td>\n      <td>69</td>\n      <td>168</td>\n      <td>1.518</td>\n      <td>1.054</td>\n    </tr>\n  </tbody>\n</table>\n</div>"
     },
     "execution_count": 4,
     "metadata": {},
     "output_type": "execute_result"
    }
   ],
   "source": [
    "# Dataset is is at this URL:\n",
    "# url = 'https://ars.els-cdn.com/content/image/1-s2.0-S0960982214012688-mmc2.xlsx'\n",
    "\n",
    "# We have downloaded this Excel file and reformatted it into a more parseable form\n",
    "raw_data_file = '../../mavenn/examples/datasets/raw/gb1_raw.xlsx'\n",
    "\n",
    "# GB1 WT sequence\n",
    "wt_seq = 'QYKLILNGKTLKGETTTEAVDAATAEKVFKQYANDNGVDGEWTYDDATKTFTVTE'\n",
    "\n",
    "# Load data (takes a while)\n",
    "double_mut_df = pd.read_excel(raw_data_file, sheet_name='double_mutants')\n",
    "double_mut_df.head()"
   ]
  },
  {
   "cell_type": "code",
   "execution_count": 9,
   "id": "adac1d2d",
   "metadata": {
    "ExecuteTime": {
     "end_time": "2021-11-11T22:23:57.928708Z",
     "start_time": "2021-11-11T22:23:57.115529Z"
    }
   },
   "outputs": [
    {
     "data": {
      "text/plain": "             set  dist  input_ct  selected_ct         y  \\\n0       training     2       173           33 -3.145154   \n1       training     2        18            8 -1.867676   \n2       training     2        66            2 -5.270800   \n3       training     2        72            1 -5.979498   \n4       training     2        69          168  0.481923   \n...          ...   ...       ...          ...       ...   \n530732  training     2       462          139 -2.515259   \n530733  training     2       317           84 -2.693165   \n530734  training     2       335           77 -2.896589   \n530735  training     2       148           28 -3.150861   \n530736  training     2        95           16 -3.287173   \n\n                                                        x  \n0       AAKLILNGKTLKGETTTEAVDAATAEKVFKQYANDNGVDGEWTYDD...  \n1       ACKLILNGKTLKGETTTEAVDAATAEKVFKQYANDNGVDGEWTYDD...  \n2       ADKLILNGKTLKGETTTEAVDAATAEKVFKQYANDNGVDGEWTYDD...  \n3       AEKLILNGKTLKGETTTEAVDAATAEKVFKQYANDNGVDGEWTYDD...  \n4       AFKLILNGKTLKGETTTEAVDAATAEKVFKQYANDNGVDGEWTYDD...  \n...                                                   ...  \n530732  QYKLILNGKTLKGETTTEAVDAATAEKVFKQYANDNGVDGEWTYDD...  \n530733  QYKLILNGKTLKGETTTEAVDAATAEKVFKQYANDNGVDGEWTYDD...  \n530734  QYKLILNGKTLKGETTTEAVDAATAEKVFKQYANDNGVDGEWTYDD...  \n530735  QYKLILNGKTLKGETTTEAVDAATAEKVFKQYANDNGVDGEWTYDD...  \n530736  QYKLILNGKTLKGETTTEAVDAATAEKVFKQYANDNGVDGEWTYDD...  \n\n[530737 rows x 6 columns]",
      "text/html": "<div>\n<style scoped>\n    .dataframe tbody tr th:only-of-type {\n        vertical-align: middle;\n    }\n\n    .dataframe tbody tr th {\n        vertical-align: top;\n    }\n\n    .dataframe thead th {\n        text-align: right;\n    }\n</style>\n<table border=\"1\" class=\"dataframe\">\n  <thead>\n    <tr style=\"text-align: right;\">\n      <th></th>\n      <th>set</th>\n      <th>dist</th>\n      <th>input_ct</th>\n      <th>selected_ct</th>\n      <th>y</th>\n      <th>x</th>\n    </tr>\n  </thead>\n  <tbody>\n    <tr>\n      <th>0</th>\n      <td>training</td>\n      <td>2</td>\n      <td>173</td>\n      <td>33</td>\n      <td>-3.145154</td>\n      <td>AAKLILNGKTLKGETTTEAVDAATAEKVFKQYANDNGVDGEWTYDD...</td>\n    </tr>\n    <tr>\n      <th>1</th>\n      <td>training</td>\n      <td>2</td>\n      <td>18</td>\n      <td>8</td>\n      <td>-1.867676</td>\n      <td>ACKLILNGKTLKGETTTEAVDAATAEKVFKQYANDNGVDGEWTYDD...</td>\n    </tr>\n    <tr>\n      <th>2</th>\n      <td>training</td>\n      <td>2</td>\n      <td>66</td>\n      <td>2</td>\n      <td>-5.270800</td>\n      <td>ADKLILNGKTLKGETTTEAVDAATAEKVFKQYANDNGVDGEWTYDD...</td>\n    </tr>\n    <tr>\n      <th>3</th>\n      <td>training</td>\n      <td>2</td>\n      <td>72</td>\n      <td>1</td>\n      <td>-5.979498</td>\n      <td>AEKLILNGKTLKGETTTEAVDAATAEKVFKQYANDNGVDGEWTYDD...</td>\n    </tr>\n    <tr>\n      <th>4</th>\n      <td>training</td>\n      <td>2</td>\n      <td>69</td>\n      <td>168</td>\n      <td>0.481923</td>\n      <td>AFKLILNGKTLKGETTTEAVDAATAEKVFKQYANDNGVDGEWTYDD...</td>\n    </tr>\n    <tr>\n      <th>...</th>\n      <td>...</td>\n      <td>...</td>\n      <td>...</td>\n      <td>...</td>\n      <td>...</td>\n      <td>...</td>\n    </tr>\n    <tr>\n      <th>530732</th>\n      <td>training</td>\n      <td>2</td>\n      <td>462</td>\n      <td>139</td>\n      <td>-2.515259</td>\n      <td>QYKLILNGKTLKGETTTEAVDAATAEKVFKQYANDNGVDGEWTYDD...</td>\n    </tr>\n    <tr>\n      <th>530733</th>\n      <td>training</td>\n      <td>2</td>\n      <td>317</td>\n      <td>84</td>\n      <td>-2.693165</td>\n      <td>QYKLILNGKTLKGETTTEAVDAATAEKVFKQYANDNGVDGEWTYDD...</td>\n    </tr>\n    <tr>\n      <th>530734</th>\n      <td>training</td>\n      <td>2</td>\n      <td>335</td>\n      <td>77</td>\n      <td>-2.896589</td>\n      <td>QYKLILNGKTLKGETTTEAVDAATAEKVFKQYANDNGVDGEWTYDD...</td>\n    </tr>\n    <tr>\n      <th>530735</th>\n      <td>training</td>\n      <td>2</td>\n      <td>148</td>\n      <td>28</td>\n      <td>-3.150861</td>\n      <td>QYKLILNGKTLKGETTTEAVDAATAEKVFKQYANDNGVDGEWTYDD...</td>\n    </tr>\n    <tr>\n      <th>530736</th>\n      <td>training</td>\n      <td>2</td>\n      <td>95</td>\n      <td>16</td>\n      <td>-3.287173</td>\n      <td>QYKLILNGKTLKGETTTEAVDAATAEKVFKQYANDNGVDGEWTYDD...</td>\n    </tr>\n  </tbody>\n</table>\n<p>530737 rows × 6 columns</p>\n</div>"
     },
     "execution_count": 9,
     "metadata": {},
     "output_type": "execute_result"
    }
   ],
   "source": [
    "# Introduce double mutations into wt sequence and append to list\n",
    "double_mut_list = []\n",
    "for mut1_pos, mut1_char, mut2_pos, mut2_char in zip(double_mut_df['Mut1 Position'].values,\n",
    "                                                    double_mut_df['Mut1 Mutation'].values,\n",
    "                                                    double_mut_df['Mut2 Position'].values,\n",
    "                                                    double_mut_df['Mut2 Mutation'].values):\n",
    "    mut_seq = list(wt_seq)\n",
    "    mut_seq[mut1_pos-2] = mut1_char\n",
    "    mut_seq[mut2_pos-2] = mut2_char\n",
    "    double_mut_list.append(''.join(mut_seq))\n",
    "\n",
    "# Stack single-mutant and double-mutant sequences\n",
    "x = np.array(double_mut_list)\n",
    "\n",
    "# Read in wt data and compute baseline for y\n",
    "wt_df = pd.read_excel(raw_data_file, sheet_name='wild_type')\n",
    "wt_in_ct = wt_df['Input Count'][0]\n",
    "wt_out_ct = wt_df['Selection Count'][0]\n",
    "y_baseline = np.log2((wt_out_ct+1)/(wt_in_ct+1))\n",
    "\n",
    "# Extract input and output counts\n",
    "in_ct = double_mut_df['Input Count'].values\n",
    "out_ct = double_mut_df['Selection Count'].values\n",
    "\n",
    "# Compute log2 enrichment values relative to wt\n",
    "y = np.log2((out_ct+1)/(in_ct+1)) - y_baseline\n",
    "\n",
    "# List hamming distances\n",
    "dists = np.full(shape=len(x), fill_value=2, dtype=int)\n",
    "\n",
    "# Assign each sequence to training, validation, or test set\n",
    "np.random.seed(0)\n",
    "sets = np.random.choice(a=['training', 'validation', 'test'], \n",
    "                        p=[.90,.05,.05],\n",
    "                        size=len(x))\n",
    "\n",
    "# Assemble into dataframe\n",
    "final_df = pd.DataFrame({'set':sets, 'dist':dists, 'input_ct':in_ct, 'selected_ct':out_ct, 'y':y, 'x':x})\n",
    "\n",
    "# Keep only sequences with input_ct >= 10\n",
    "final_df = final_df[final_df['input_ct']>=10].reset_index(drop=True)\n",
    "\n",
    "# Save to file (uncomment to execute)\n",
    "final_df.to_csv('gb1_data.csv.gz', index=False, compression='gzip')\n",
    "\n",
    "# Preview dataframe\n",
    "final_df"
   ]
  },
  {
   "cell_type": "code",
   "execution_count": 10,
   "outputs": [
    {
     "name": "stdout",
     "output_type": "stream",
     "text": [
      "Training set   :  477,854 observations (  90.04%)\n",
      "Validation set :   26,519 observations (   5.00%)\n",
      "Test set       :   26,364 observations (   4.97%)\n",
      "-------------------------------------------------\n",
      "Total dataset  :  530,737 observations ( 100.00%)\n",
      "\n"
     ]
    }
   ],
   "source": [
    "trainval_df, test_df = mavenn.split_dataset(final_df)\n"
   ],
   "metadata": {
    "collapsed": false,
    "pycharm": {
     "name": "#%%\n"
    }
   }
  },
  {
   "cell_type": "code",
   "execution_count": null,
   "outputs": [],
   "source": [],
   "metadata": {
    "collapsed": false,
    "pycharm": {
     "name": "#%%\n"
    }
   }
  }
 ],
 "metadata": {
  "kernelspec": {
   "display_name": "Python 3",
   "language": "python",
   "name": "python3"
  },
  "language_info": {
   "codemirror_mode": {
    "name": "ipython",
    "version": 3
   },
   "file_extension": ".py",
   "mimetype": "text/x-python",
   "name": "python",
   "nbconvert_exporter": "python",
   "pygments_lexer": "ipython3",
   "version": "3.9.2"
  },
  "varInspector": {
   "cols": {
    "lenName": 16,
    "lenType": 16,
    "lenVar": 40
   },
   "kernels_config": {
    "python": {
     "delete_cmd_postfix": "",
     "delete_cmd_prefix": "del ",
     "library": "var_list.py",
     "varRefreshCmd": "print(var_dic_list())"
    },
    "r": {
     "delete_cmd_postfix": ") ",
     "delete_cmd_prefix": "rm(",
     "library": "var_list.r",
     "varRefreshCmd": "cat(var_dic_list()) "
    }
   },
   "types_to_exclude": [
    "module",
    "function",
    "builtin_function_or_method",
    "instance",
    "_Feature"
   ],
   "window_display": false
  }
 },
 "nbformat": 4,
 "nbformat_minor": 5
}