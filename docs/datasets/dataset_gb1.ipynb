{
 "cells": [
  {
   "cell_type": "markdown",
   "id": "dca40d3f",
   "metadata": {},
   "source": [
    "# `'gb1'`"
   ]
  },
  {
   "cell_type": "code",
   "execution_count": 1,
   "id": "43acb29b",
   "metadata": {
    "ExecuteTime": {
     "end_time": "2021-11-11T17:42:36.162531Z",
     "start_time": "2021-11-11T17:42:34.251061Z"
    }
   },
   "outputs": [],
   "source": [
    "# Standard imports\n",
    "import pandas as pd\n",
    "import numpy as np\n",
    "import matplotlib.pyplot as plt\n",
    "%matplotlib inline\n",
    "\n",
    "# Special imports\n",
    "import mavenn"
   ]
  },
  {
   "cell_type": "markdown",
   "id": "5336886a",
   "metadata": {
    "ExecuteTime": {
     "end_time": "2021-11-11T17:26:47.608641Z",
     "start_time": "2021-11-11T17:26:47.392567Z"
    }
   },
   "source": [
    "## Summary"
   ]
  },
  {
   "cell_type": "markdown",
   "id": "030ff69a",
   "metadata": {
    "ExecuteTime": {
     "end_time": "2021-11-11T17:27:24.538136Z",
     "start_time": "2021-11-11T17:27:24.529622Z"
    }
   },
   "source": [
    "The DMS dataset from Olson et al., 2014. The authors used an RNA display selection experiment to assay the binding of over half a million protein GB1 variants to IgG. These variants included all 1-point and 2-point mutations within the 55 residue GB1 sequence. Only the 2-point variants, however, are included in this dataset. \n",
    "\n",
    "**Name:** ``'gb1'``\n",
    "\n",
    "**Reference**: Olson C, Wu N, Sun R. (2014). A comprehensive biophysical description of pairwise epistasis throughout an entire protein domain. [Curr Biol. 24(22):2643-2651.](https://pubmed.ncbi.nlm.nih.gov/25455030/)"
   ]
  },
  {
   "cell_type": "code",
   "execution_count": 2,
   "id": "3072cf25",
   "metadata": {
    "ExecuteTime": {
     "end_time": "2021-11-11T17:42:36.742760Z",
     "start_time": "2021-11-11T17:42:36.163613Z"
    }
   },
   "outputs": [
    {
     "data": {
      "text/html": [
       "<div>\n",
       "<style scoped>\n",
       "    .dataframe tbody tr th:only-of-type {\n",
       "        vertical-align: middle;\n",
       "    }\n",
       "\n",
       "    .dataframe tbody tr th {\n",
       "        vertical-align: top;\n",
       "    }\n",
       "\n",
       "    .dataframe thead th {\n",
       "        text-align: right;\n",
       "    }\n",
       "</style>\n",
       "<table border=\"1\" class=\"dataframe\">\n",
       "  <thead>\n",
       "    <tr style=\"text-align: right;\">\n",
       "      <th></th>\n",
       "      <th>x</th>\n",
       "      <th>input_ct</th>\n",
       "      <th>selected_ct</th>\n",
       "      <th>y</th>\n",
       "      <th>set</th>\n",
       "    </tr>\n",
       "  </thead>\n",
       "  <tbody>\n",
       "    <tr>\n",
       "      <th>0</th>\n",
       "      <td>QYKLILNGKTLKGETTTEAVDAATAEKVFKQYANDNGVDGEWTYDD...</td>\n",
       "      <td>1759616.0</td>\n",
       "      <td>3041819.0</td>\n",
       "      <td>0.000000</td>\n",
       "      <td>training</td>\n",
       "    </tr>\n",
       "    <tr>\n",
       "      <th>1</th>\n",
       "      <td>AYKLILNGKTLKGETTTEAVDAATAEKVFKQYANDNGVDGEWTYDD...</td>\n",
       "      <td>14663.0</td>\n",
       "      <td>38476.0</td>\n",
       "      <td>0.602044</td>\n",
       "      <td>training</td>\n",
       "    </tr>\n",
       "    <tr>\n",
       "      <th>2</th>\n",
       "      <td>CYKLILNGKTLKGETTTEAVDAATAEKVFKQYANDNGVDGEWTYDD...</td>\n",
       "      <td>13001.0</td>\n",
       "      <td>23023.0</td>\n",
       "      <td>0.034731</td>\n",
       "      <td>training</td>\n",
       "    </tr>\n",
       "    <tr>\n",
       "      <th>3</th>\n",
       "      <td>DYKLILNGKTLKGETTTEAVDAATAEKVFKQYANDNGVDGEWTYDD...</td>\n",
       "      <td>11488.0</td>\n",
       "      <td>18085.0</td>\n",
       "      <td>-0.135054</td>\n",
       "      <td>training</td>\n",
       "    </tr>\n",
       "    <tr>\n",
       "      <th>4</th>\n",
       "      <td>EYKLILNGKTLKGETTTEAVDAATAEKVFKQYANDNGVDGEWTYDD...</td>\n",
       "      <td>9501.0</td>\n",
       "      <td>15629.0</td>\n",
       "      <td>-0.071659</td>\n",
       "      <td>training</td>\n",
       "    </tr>\n",
       "    <tr>\n",
       "      <th>...</th>\n",
       "      <td>...</td>\n",
       "      <td>...</td>\n",
       "      <td>...</td>\n",
       "      <td>...</td>\n",
       "      <td>...</td>\n",
       "    </tr>\n",
       "    <tr>\n",
       "      <th>531778</th>\n",
       "      <td>QYKLILNGKTAKGETTTEAVDAATAEKVFKQYAADNGVDGEWTYDD...</td>\n",
       "      <td>3955.0</td>\n",
       "      <td>11.0</td>\n",
       "      <td>-9.154538</td>\n",
       "      <td>test</td>\n",
       "    </tr>\n",
       "    <tr>\n",
       "      <th>531779</th>\n",
       "      <td>QYKLILNGKTLKGETTTEAVDAATAEKVFKQYYNQNGVDGEWTYDD...</td>\n",
       "      <td>191.0</td>\n",
       "      <td>3.0</td>\n",
       "      <td>-6.374636</td>\n",
       "      <td>validation</td>\n",
       "    </tr>\n",
       "    <tr>\n",
       "      <th>531780</th>\n",
       "      <td>QYKLILNGKTLKGETTTEAIDAATAEKVFAQYANDNGVDGEWTYDD...</td>\n",
       "      <td>1308.0</td>\n",
       "      <td>9.0</td>\n",
       "      <td>-7.821995</td>\n",
       "      <td>training</td>\n",
       "    </tr>\n",
       "    <tr>\n",
       "      <th>531781</th>\n",
       "      <td>QYKLILNGITLKGERTTEAVDAATAEKVFKQYANDNGVDGEWTYDD...</td>\n",
       "      <td>798.0</td>\n",
       "      <td>1146.0</td>\n",
       "      <td>-0.268075</td>\n",
       "      <td>test</td>\n",
       "    </tr>\n",
       "    <tr>\n",
       "      <th>531782</th>\n",
       "      <td>QYKLILNGKTLKPETTTEAVDAATAEKVFKQYANDNGVDGEWTYDD...</td>\n",
       "      <td>2039.0</td>\n",
       "      <td>364.0</td>\n",
       "      <td>-3.272274</td>\n",
       "      <td>training</td>\n",
       "    </tr>\n",
       "  </tbody>\n",
       "</table>\n",
       "<p>531783 rows × 5 columns</p>\n",
       "</div>"
      ],
      "text/plain": [
       "                                                        x   input_ct  \\\n",
       "0       QYKLILNGKTLKGETTTEAVDAATAEKVFKQYANDNGVDGEWTYDD...  1759616.0   \n",
       "1       AYKLILNGKTLKGETTTEAVDAATAEKVFKQYANDNGVDGEWTYDD...    14663.0   \n",
       "2       CYKLILNGKTLKGETTTEAVDAATAEKVFKQYANDNGVDGEWTYDD...    13001.0   \n",
       "3       DYKLILNGKTLKGETTTEAVDAATAEKVFKQYANDNGVDGEWTYDD...    11488.0   \n",
       "4       EYKLILNGKTLKGETTTEAVDAATAEKVFKQYANDNGVDGEWTYDD...     9501.0   \n",
       "...                                                   ...        ...   \n",
       "531778  QYKLILNGKTAKGETTTEAVDAATAEKVFKQYAADNGVDGEWTYDD...     3955.0   \n",
       "531779  QYKLILNGKTLKGETTTEAVDAATAEKVFKQYYNQNGVDGEWTYDD...      191.0   \n",
       "531780  QYKLILNGKTLKGETTTEAIDAATAEKVFAQYANDNGVDGEWTYDD...     1308.0   \n",
       "531781  QYKLILNGITLKGERTTEAVDAATAEKVFKQYANDNGVDGEWTYDD...      798.0   \n",
       "531782  QYKLILNGKTLKPETTTEAVDAATAEKVFKQYANDNGVDGEWTYDD...     2039.0   \n",
       "\n",
       "        selected_ct         y         set  \n",
       "0         3041819.0  0.000000    training  \n",
       "1           38476.0  0.602044    training  \n",
       "2           23023.0  0.034731    training  \n",
       "3           18085.0 -0.135054    training  \n",
       "4           15629.0 -0.071659    training  \n",
       "...             ...       ...         ...  \n",
       "531778         11.0 -9.154538        test  \n",
       "531779          3.0 -6.374636  validation  \n",
       "531780          9.0 -7.821995    training  \n",
       "531781       1146.0 -0.268075        test  \n",
       "531782        364.0 -3.272274    training  \n",
       "\n",
       "[531783 rows x 5 columns]"
      ]
     },
     "execution_count": 2,
     "metadata": {},
     "output_type": "execute_result"
    }
   ],
   "source": [
    "mavenn.load_example_dataset('gb1')"
   ]
  },
  {
   "cell_type": "markdown",
   "id": "6fe018cb",
   "metadata": {},
   "source": [
    "## Preprocessing"
   ]
  },
  {
   "cell_type": "markdown",
   "id": "ecccf7df",
   "metadata": {
    "ExecuteTime": {
     "end_time": "2021-11-11T17:34:28.129865Z",
     "start_time": "2021-11-11T17:34:28.124430Z"
    }
   },
   "source": [
    "<span style=\"color:red\">DOCUMENTATION UNDER CONSTRUCTION</span>"
   ]
  }
 ],
 "metadata": {
  "kernelspec": {
   "display_name": "Python 3",
   "language": "python",
   "name": "python3"
  },
  "language_info": {
   "codemirror_mode": {
    "name": "ipython",
    "version": 3
   },
   "file_extension": ".py",
   "mimetype": "text/x-python",
   "name": "python",
   "nbconvert_exporter": "python",
   "pygments_lexer": "ipython3",
   "version": "3.9.2"
  },
  "varInspector": {
   "cols": {
    "lenName": 16,
    "lenType": 16,
    "lenVar": 40
   },
   "kernels_config": {
    "python": {
     "delete_cmd_postfix": "",
     "delete_cmd_prefix": "del ",
     "library": "var_list.py",
     "varRefreshCmd": "print(var_dic_list())"
    },
    "r": {
     "delete_cmd_postfix": ") ",
     "delete_cmd_prefix": "rm(",
     "library": "var_list.r",
     "varRefreshCmd": "cat(var_dic_list()) "
    }
   },
   "types_to_exclude": [
    "module",
    "function",
    "builtin_function_or_method",
    "instance",
    "_Feature"
   ],
   "window_display": false
  }
 },
 "nbformat": 4,
 "nbformat_minor": 5
}
