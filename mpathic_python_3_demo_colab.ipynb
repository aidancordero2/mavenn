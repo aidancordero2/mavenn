{
  "nbformat": 4,
  "nbformat_minor": 0,
  "metadata": {
    "colab": {
      "name": "mpathic_python_3_demo_colab.ipynb",
      "version": "0.3.2",
      "provenance": [],
      "include_colab_link": true
    },
    "kernelspec": {
      "name": "python3",
      "display_name": "Python 3"
    }
  },
  "cells": [
    {
      "cell_type": "markdown",
      "metadata": {
        "id": "view-in-github",
        "colab_type": "text"
      },
      "source": [
        "<a href=\"https://colab.research.google.com/github/jbkinney/mpathic/blob/master/mpathic_python_3_demo_colab.ipynb\" target=\"_parent\"><img src=\"https://colab.research.google.com/assets/colab-badge.svg\" alt=\"Open In Colab\"/></a>"
      ]
    },
    {
      "metadata": {
        "id": "PeHEb7ipRRcT",
        "colab_type": "text"
      },
      "cell_type": "markdown",
      "source": [
        "# pip install mpathic (Python 3)"
      ]
    },
    {
      "metadata": {
        "id": "BWMXwziCQjmd",
        "colab_type": "code",
        "colab": {
          "base_uri": "https://localhost:8080/",
          "height": 1908
        },
        "outputId": "496f25d0-ccf0-44e0-887d-33878551a359"
      },
      "cell_type": "code",
      "source": [
        "!pip install mpathic --user"
      ],
      "execution_count": 1,
      "outputs": [
        {
          "output_type": "stream",
          "text": [
            "Collecting mpathic\n",
            "  Using cached https://files.pythonhosted.org/packages/75/21/892d5f87ac7766bb4d7c1eb4736551eb96f1e2cd93fcbfef878321812a8e/mpathic-0.6.tar.gz\n",
            "Collecting alabaster==0.7.10 (from mpathic)\n",
            "  Using cached https://files.pythonhosted.org/packages/2e/c3/9b7dcd8548cf2c00531763ba154e524af575e8f36701bacfe5bcadc67440/alabaster-0.7.10-py2.py3-none-any.whl\n",
            "Collecting Babel==2.5.3 (from mpathic)\n",
            "  Using cached https://files.pythonhosted.org/packages/94/03/14e68ad12e771a79cf96792f7158d68a7b3d8c7b2badf39e9ef1f65b57d6/Babel-2.5.3-py2.py3-none-any.whl\n",
            "Collecting backports.functools-lru-cache==1.5 (from mpathic)\n",
            "  Downloading https://files.pythonhosted.org/packages/03/8e/2424c0e65c4a066e28f539364deee49b6451f8fcd4f718fefa50cc3dcf48/backports.functools_lru_cache-1.5-py2.py3-none-any.whl\n",
            "Collecting biopython==1.71 (from mpathic)\n",
            "\u001b[?25l  Downloading https://files.pythonhosted.org/packages/55/5c/85a92ad60b984f84ab9fac6cb1418ebe36df811c047888cded9917a0da03/biopython-1.71-cp36-cp36m-manylinux1_x86_64.whl (2.0MB)\n",
            "\u001b[K    100% |████████████████████████████████| 2.0MB 16.4MB/s \n",
            "\u001b[?25hCollecting certifi==2018.4.16 (from mpathic)\n",
            "  Using cached https://files.pythonhosted.org/packages/7c/e6/92ad559b7192d846975fc916b65f667c7b8c3a32bea7372340bfe9a15fa5/certifi-2018.4.16-py2.py3-none-any.whl\n",
            "Requirement already satisfied: chardet==3.0.4 in /usr/local/lib/python3.6/dist-packages (from mpathic) (3.0.4)\n",
            "Collecting cvxopt==1.1.9 (from mpathic)\n",
            "\u001b[?25l  Downloading https://files.pythonhosted.org/packages/91/2f/eed1cedf02cc83c7fcab357dbda76237f8f3ba881186cfa33dcdfdc153e8/cvxopt-1.1.9-cp36-cp36m-manylinux1_x86_64.whl (16.1MB)\n",
            "\u001b[K    100% |████████████████████████████████| 16.1MB 2.9MB/s \n",
            "\u001b[?25hRequirement already satisfied: cycler==0.10.0 in /usr/local/lib/python3.6/dist-packages (from mpathic) (0.10.0)\n",
            "Collecting Cython==0.28.1 (from mpathic)\n",
            "\u001b[?25l  Downloading https://files.pythonhosted.org/packages/40/be/4a1a4eaa46cab956cadb2c13d4a52a7795bb4dd62cc17b153c65a30dea0b/Cython-0.28.1-cp36-cp36m-manylinux1_x86_64.whl (3.4MB)\n",
            "\u001b[K    100% |████████████████████████████████| 3.4MB 5.7MB/s \n",
            "\u001b[?25hRequirement already satisfied: docutils==0.14 in /usr/local/lib/python3.6/dist-packages (from mpathic) (0.14)\n",
            "Requirement already satisfied: idna==2.6 in /usr/local/lib/python3.6/dist-packages (from mpathic) (2.6)\n",
            "Collecting imagesize==1.0.0 (from mpathic)\n",
            "  Using cached https://files.pythonhosted.org/packages/e9/79/31cc1c2e0daf575f8fd2b581e2975e6a6938bd439581f766b79c50479521/imagesize-1.0.0-py2.py3-none-any.whl\n",
            "Requirement already satisfied: Jinja2==2.10 in /usr/local/lib/python3.6/dist-packages (from mpathic) (2.10)\n",
            "Requirement already satisfied: kiwisolver==1.0.1 in /usr/local/lib/python3.6/dist-packages (from mpathic) (1.0.1)\n",
            "Collecting MarkupSafe==1.0 (from mpathic)\n",
            "  Using cached https://files.pythonhosted.org/packages/4d/de/32d741db316d8fdb7680822dd37001ef7a448255de9699ab4bfcbdf4172b/MarkupSafe-1.0.tar.gz\n",
            "Collecting matplotlib==2.2.2 (from mpathic)\n",
            "\u001b[?25l  Downloading https://files.pythonhosted.org/packages/49/b8/89dbd27f2fb171ce753bb56220d4d4f6dbc5fe32b95d8edc4415782ef07f/matplotlib-2.2.2-cp36-cp36m-manylinux1_x86_64.whl (12.6MB)\n",
            "\u001b[K    100% |████████████████████████████████| 12.6MB 2.7MB/s \n",
            "\u001b[?25hCollecting mpmath==1.0.0 (from mpathic)\n",
            "  Using cached https://files.pythonhosted.org/packages/7a/05/b3d1472885d8dc0606936ea5da0ccb1b4785682e78ab15e34ada24aea8d5/mpmath-1.0.0.tar.gz\n",
            "Collecting numpy==1.14.2 (from mpathic)\n",
            "\u001b[?25l  Downloading https://files.pythonhosted.org/packages/6e/dc/92c0f670e7b986829fc92c4c0208edb9d72908149da38ecda50d816ea057/numpy-1.14.2-cp36-cp36m-manylinux1_x86_64.whl (12.2MB)\n",
            "\u001b[K    100% |████████████████████████████████| 12.2MB 4.4MB/s \n",
            "\u001b[?25hCollecting packaging==17.1 (from mpathic)\n",
            "  Using cached https://files.pythonhosted.org/packages/ad/c2/b500ea05d5f9f361a562f089fc91f77ed3b4783e13a08a3daf82069b1224/packaging-17.1-py2.py3-none-any.whl\n",
            "Requirement already satisfied: pandas==0.22.0 in /usr/local/lib/python3.6/dist-packages (from mpathic) (0.22.0)\n",
            "Collecting Pygments==2.2.0 (from mpathic)\n",
            "  Using cached https://files.pythonhosted.org/packages/02/ee/b6e02dc6529e82b75bb06823ff7d005b141037cb1416b10c6f00fc419dca/Pygments-2.2.0-py2.py3-none-any.whl\n",
            "Collecting pymc==2.3.6 (from mpathic)\n",
            "  Using cached https://files.pythonhosted.org/packages/0c/1c/2eb7016284e04ccf401fdcf11b817b160629cf8cf230240ceb348311ac2e/pymc-2.3.6.tar.gz\n",
            "Collecting pyparsing==2.2.0 (from mpathic)\n",
            "  Using cached https://files.pythonhosted.org/packages/6a/8a/718fd7d3458f9fab8e67186b00abdd345b639976bc7fb3ae722e1b026a50/pyparsing-2.2.0-py2.py3-none-any.whl\n",
            "Collecting python-dateutil==2.7.2 (from mpathic)\n",
            "  Using cached https://files.pythonhosted.org/packages/0c/57/19f3a65bcf6d5be570ee8c35a5398496e10a0ddcbc95393b2d17f86aaaf8/python_dateutil-2.7.2-py2.py3-none-any.whl\n",
            "Collecting pytz==2018.4 (from mpathic)\n",
            "  Using cached https://files.pythonhosted.org/packages/dc/83/15f7833b70d3e067ca91467ca245bae0f6fe56ddc7451aa0dc5606b120f2/pytz-2018.4-py2.py3-none-any.whl\n",
            "Requirement already satisfied: requests==2.18.4 in /usr/local/lib/python3.6/dist-packages (from mpathic) (2.18.4)\n",
            "Collecting scikit-learn==0.19.1 (from mpathic)\n",
            "\u001b[?25l  Downloading https://files.pythonhosted.org/packages/3d/2d/9fbc7baa5f44bc9e88ffb7ed32721b879bfa416573e85031e16f52569bc9/scikit_learn-0.19.1-cp36-cp36m-manylinux1_x86_64.whl (12.4MB)\n",
            "\u001b[K    100% |████████████████████████████████| 12.4MB 1.7MB/s \n",
            "\u001b[?25hCollecting scipy==1.0.1 (from mpathic)\n",
            "\u001b[?25l  Downloading https://files.pythonhosted.org/packages/2c/13/eb888fcc83f14d114dee794c3491477ce156caa9f456b7bef1112dde36b5/scipy-1.0.1-cp36-cp36m-manylinux1_x86_64.whl (50.0MB)\n",
            "\u001b[K    100% |████████████████████████████████| 50.0MB 576kB/s \n",
            "\u001b[?25hRequirement already satisfied: six==1.11.0 in /usr/local/lib/python3.6/dist-packages (from mpathic) (1.11.0)\n",
            "Requirement already satisfied: sklearn==0.0 in /usr/local/lib/python3.6/dist-packages (from mpathic) (0.0)\n",
            "Requirement already satisfied: snowballstemmer==1.2.1 in /usr/local/lib/python3.6/dist-packages (from mpathic) (1.2.1)\n",
            "Collecting Sphinx==1.7.3 (from mpathic)\n",
            "  Using cached https://files.pythonhosted.org/packages/24/0f/09869a479c626e860451a8b2cc7ed516abd93681b414e3aa9cddbe75f44b/Sphinx-1.7.3-py2.py3-none-any.whl\n",
            "Collecting sphinxcontrib-websupport==1.0.1 (from mpathic)\n",
            "  Using cached https://files.pythonhosted.org/packages/56/0f/3ee19ca5e5a1d9751cf4bbeb372d40a46421c4321fe55a4703ba66d0bafb/sphinxcontrib_websupport-1.0.1-py2.py3-none-any.whl\n",
            "Collecting typing==3.6.4 (from mpathic)\n",
            "  Downloading https://files.pythonhosted.org/packages/05/2b/2b05bf1d5a9dd450447c9a5df3e118a465e5d3cb12b73b7220a5064a403f/typing-3.6.4-py3-none-any.whl\n",
            "Requirement already satisfied: urllib3==1.22 in /usr/local/lib/python3.6/dist-packages (from mpathic) (1.22)\n",
            "Collecting weblogo==3.6.0 (from mpathic)\n",
            "  Using cached https://files.pythonhosted.org/packages/cc/8d/f432e268f451d1a154d6cca3b6967a6d7b6e0266f35db223347028ded7fc/weblogo-3.6.0.tar.gz\n",
            "Collecting seaborn==0.9.0 (from mpathic)\n",
            "\u001b[?25l  Downloading https://files.pythonhosted.org/packages/a8/76/220ba4420459d9c4c9c9587c6ce607bf56c25b3d3d2de62056efe482dadc/seaborn-0.9.0-py3-none-any.whl (208kB)\n",
            "\u001b[K    100% |████████████████████████████████| 215kB 2.4MB/s \n",
            "\u001b[?25hRequirement already satisfied: setuptools in /usr/local/lib/python3.6/dist-packages (from kiwisolver==1.0.1->mpathic) (40.7.1)\n",
            "Building wheels for collected packages: mpathic, MarkupSafe, mpmath, pymc, weblogo\n",
            "  Building wheel for mpathic (setup.py) ... \u001b[?25ldone\n",
            "\u001b[?25h  Stored in directory: /root/.cache/pip/wheels/8e/9b/e8/ba4dc22cd99f6ba1f1bf020c9721309ef602fddaa0b5819526\n",
            "  Building wheel for MarkupSafe (setup.py) ... \u001b[?25ldone\n",
            "\u001b[?25h  Stored in directory: /root/.cache/pip/wheels/33/56/20/ebe49a5c612fffe1c5a632146b16596f9e64676768661e4e46\n",
            "  Building wheel for mpmath (setup.py) ... \u001b[?25ldone\n",
            "\u001b[?25h  Stored in directory: /root/.cache/pip/wheels/33/15/0f/9ca5f2ad88a5456803098daa189f382408a81556aa209e97ff\n",
            "  Building wheel for pymc (setup.py) ... \u001b[?25ldone\n",
            "\u001b[?25h  Stored in directory: /root/.cache/pip/wheels/e4/6d/cf/3c408a39cf0f43e3b8abcace9758575f29c6aa860e17e9222d\n",
            "  Building wheel for weblogo (setup.py) ... \u001b[?25ldone\n",
            "\u001b[?25h  Stored in directory: /root/.cache/pip/wheels/a9/d4/6e/dd6eda620ce64bc1ae0c02b70f1b1ef04fe2f97f06db8f65c9\n",
            "Successfully built mpathic MarkupSafe mpmath pymc weblogo\n",
            "\u001b[31myellowbrick 0.9 has requirement scikit-learn>=0.20, but you'll have scikit-learn 0.19.1 which is incompatible.\u001b[0m\n",
            "\u001b[31mtorchvision 0.2.1 has requirement pillow>=4.1.1, but you'll have pillow 4.0.0 which is incompatible.\u001b[0m\n",
            "\u001b[31mthinc 6.12.1 has requirement wrapt<1.11.0,>=1.10.0, but you'll have wrapt 1.11.1 which is incompatible.\u001b[0m\n",
            "\u001b[31mspacy 2.0.18 has requirement numpy>=1.15.0, but you'll have numpy 1.14.2 which is incompatible.\u001b[0m\n",
            "\u001b[31mpymc3 3.6 has requirement joblib<0.13.0, but you'll have joblib 0.13.1 which is incompatible.\u001b[0m\n",
            "\u001b[31mjupyter-console 6.0.0 has requirement prompt-toolkit<2.1.0,>=2.0.0, but you'll have prompt-toolkit 1.0.15 which is incompatible.\u001b[0m\n",
            "\u001b[31mimbalanced-learn 0.4.3 has requirement scikit-learn>=0.20, but you'll have scikit-learn 0.19.1 which is incompatible.\u001b[0m\n",
            "\u001b[31mfeaturetools 0.4.1 has requirement pandas>=0.23.0, but you'll have pandas 0.22.0 which is incompatible.\u001b[0m\n",
            "\u001b[31mcvxpy 1.0.14 has requirement scipy>=1.1.0, but you'll have scipy 1.0.1 which is incompatible.\u001b[0m\n",
            "\u001b[31mcufflinks 0.14.6 has requirement plotly>=3.0.0, but you'll have plotly 1.12.12 which is incompatible.\u001b[0m\n",
            "Installing collected packages: alabaster, pytz, Babel, backports.functools-lru-cache, numpy, biopython, certifi, cvxopt, Cython, imagesize, MarkupSafe, python-dateutil, pyparsing, matplotlib, mpmath, packaging, Pygments, pymc, scikit-learn, scipy, sphinxcontrib-websupport, Sphinx, typing, weblogo, seaborn, mpathic\n",
            "\u001b[33m  The script pybabel is installed in '/root/.local/bin' which is not on PATH.\n",
            "  Consider adding this directory to PATH or, if you prefer to suppress this warning, use --no-warn-script-location.\u001b[0m\n",
            "\u001b[33m  The scripts cygdb, cython and cythonize are installed in '/root/.local/bin' which is not on PATH.\n",
            "  Consider adding this directory to PATH or, if you prefer to suppress this warning, use --no-warn-script-location.\u001b[0m\n",
            "\u001b[33m  The script pygmentize is installed in '/root/.local/bin' which is not on PATH.\n",
            "  Consider adding this directory to PATH or, if you prefer to suppress this warning, use --no-warn-script-location.\u001b[0m\n",
            "\u001b[33m  The scripts sphinx-apidoc, sphinx-autogen, sphinx-build and sphinx-quickstart are installed in '/root/.local/bin' which is not on PATH.\n",
            "  Consider adding this directory to PATH or, if you prefer to suppress this warning, use --no-warn-script-location.\u001b[0m\n",
            "Successfully installed Babel-2.5.3 Cython-0.28.1 MarkupSafe-1.0 Pygments-2.2.0 Sphinx-1.7.3 alabaster-0.7.10 backports.functools-lru-cache-1.5 biopython-1.71 certifi-2018.4.16 cvxopt-1.1.9 imagesize-1.0.0 matplotlib-2.2.2 mpathic-0.6 mpmath-1.0.0 numpy-1.14.2 packaging-17.1 pymc-2.3.6 pyparsing-2.2.0 python-dateutil-2.7.2 pytz-2018.4 scikit-learn-0.19.1 scipy-1.0.1 seaborn-0.9.0 sphinxcontrib-websupport-1.0.1 typing-3.6.4 weblogo-3.6.0\n"
          ],
          "name": "stdout"
        },
        {
          "output_type": "display_data",
          "data": {
            "application/vnd.colab-display-data+json": {
              "pip_warning": {
                "packages": [
                  "certifi",
                  "dateutil",
                  "matplotlib",
                  "mpl_toolkits",
                  "numpy",
                  "pygments",
                  "pyparsing",
                  "pytz",
                  "scipy",
                  "seaborn",
                  "sphinxcontrib",
                  "typing"
                ]
              }
            }
          },
          "metadata": {
            "tags": []
          }
        }
      ]
    },
    {
      "metadata": {
        "id": "n3QoWe1CRWeT",
        "colab_type": "text"
      },
      "cell_type": "markdown",
      "source": [
        "## import mpathic"
      ]
    },
    {
      "metadata": {
        "id": "yIZyn3QEQlGB",
        "colab_type": "code",
        "colab": {}
      },
      "cell_type": "code",
      "source": [
        "import mpathic as mpa"
      ],
      "execution_count": 0,
      "outputs": []
    },
    {
      "metadata": {
        "id": "qQbyVAAGRX26",
        "colab_type": "text"
      },
      "cell_type": "markdown",
      "source": [
        "## run mpathic demo"
      ]
    },
    {
      "metadata": {
        "id": "VF7vZWt0RF77",
        "colab_type": "code",
        "colab": {
          "base_uri": "https://localhost:8080/",
          "height": 3306
        },
        "outputId": "8f721996-e0c1-4515-d34d-8db3211e6297"
      },
      "cell_type": "code",
      "source": [
        "mpa.demo()"
      ],
      "execution_count": 2,
      "outputs": [
        {
          "output_type": "stream",
          "text": [
            "Running /root/.local/lib/python3.6/site-packages/mpathic/docs/source/modeling.py:\n",
            "-------------------------------------------------------------\n",
            "import mpathic as mpa\n",
            "loader = mpa.io\n",
            "\n",
            "##############################\n",
            "## load dataframe and model ##\n",
            "##############################\n",
            "\n",
            "dataset_df = loader.load_dataset(mpa.__path__[0] + '/data/sortseq/full-0/library.txt')\n",
            "mp_df = loader.load_model(mpa.__path__[0] + '/examples/true_model.txt')\n",
            "\n",
            "ss = mpa.SimulateSort(df=dataset_df, mp=mp_df)\n",
            "\n",
            "print('Library: \\n')\n",
            "print(dataset_df.head(), '\\n')\n",
            "\n",
            "print('Model: \\n')\n",
            "print(mp_df.head(),'\\n')\n",
            "\n",
            "#############################\n",
            "## simulate sort dataframe ##\n",
            "#############################\n",
            "\n",
            "temp_ss = ss.output_df\n",
            "cols = ['ct', 'ct_0', 'ct_1', 'ct_2', 'ct_3','seq']\n",
            "temp_ss = temp_ss[cols]\n",
            "\n",
            "print('Simulate Sort Dataset: \\n')\n",
            "print(temp_ss.head(),'\\n')\n",
            "\n",
            "#################\n",
            "## learn model ##\n",
            "#################\n",
            "\n",
            "lm = mpa.LearnModel(df=temp_ss, lm='LS', alpha=0.001, modeltype='NBR')\n",
            "\n",
            "print('Learned model: \\n')\n",
            "print(lm.output_df.head(),'\\n')\n",
            "\n",
            "df = lm.output_df\n",
            "normed_df = (df - df.mean()) / (df.max() - df.min())\n",
            "\n",
            "import matplotlib.pyplot as plt\n",
            "import seaborn as sns\n",
            "\n",
            "heatmap_columns_list = []\n",
            "for column in normed_df:\n",
            "    if 'val' in column:\n",
            "        heatmap_columns_list.append(column)\n",
            "\n",
            "ax = sns.heatmap(normed_df[heatmap_columns_list],cmap='coolwarm')\n",
            "\n",
            "####################\n",
            "## evaluate model ##\n",
            "####################\n",
            "\n",
            "em = mpa.EvaluateModel(dataset_df = temp_ss, model_df = mp_df)\n",
            "\n",
            "print('Evaluated Model: \\n')\n",
            "print(em.out_df.head(),'\\n')\n",
            "\n",
            "################\n",
            "## scan model ##\n",
            "################\n",
            "\n",
            "fastafile = mpa.__path__[0] + \"/examples/genome_ecoli_1000lines.fa\"\n",
            "contig = mpa.io.load_contigs_from_fasta(fastafile, mp_df)\n",
            "sm = mpa.ScanModel(model_df = mp_df, contig_list = contig)\n",
            "\n",
            "print('Scanned Model: \\n')\n",
            "print(sm.sitelist_df, '\\n')\n",
            "\n",
            "############################\n",
            "## predictive information ##\n",
            "############################\n",
            "\n",
            "pi = mpa.PredictiveInfo(data_df = temp_ss, model_df = mp_df, start=0)\n",
            "\n",
            "print('Mutual Information: \\n')\n",
            "print(pi.out_MI)\n",
            "\n",
            "# plot learned model\n",
            "\n",
            "plt.tight_layout()\n",
            "plt.show()\n",
            "-------------------------------------------------------------\n",
            "Library: \n",
            "\n",
            "   ct                                                seq\n",
            "0  23  ACTTAAGGTGAGTTAGTTCACTGATTAGGCCCCCCAGCCTTTACAC...\n",
            "1   9  AATTACCGTGTGTCAGCTAACTGATTAGCCGCCCCAGACTTTACAC...\n",
            "2   8  AATTAACGTGAGTTAGATCACTCCTTAGGCACCGCAGGCCTTCCAA...\n",
            "3   7  AATTAATGTGAGTTAGCTCACTCATGTGGCACCACAGGCTTTCCAC...\n",
            "4   7  AATTAATGGGACGTAGCTCAGTCATATCGCAACCCGCGCTTTACAT... \n",
            "\n",
            "Model: \n",
            "\n",
            "   pos    val_AA    val_AC    val_AG    val_AT    val_CA    val_CC    val_CG  \\\n",
            "0    0  0.081588 -0.019021  0.007188  0.042818 -0.048443 -0.015712 -0.053949   \n",
            "1    1  0.033288 -0.005410  0.014198  0.018246 -0.033583 -0.001761 -0.020431   \n",
            "2    2 -0.026142  0.008002 -0.029641  0.036698 -0.001028 -0.008025 -0.022645   \n",
            "3    3 -0.046159 -0.006071 -0.001542  0.028109 -0.020442 -0.024574  0.056595   \n",
            "4    4 -0.025599 -0.043215 -0.001139 -0.000524 -0.027854 -0.003763 -0.002405   \n",
            "\n",
            "     val_CT    val_GA    val_GC    val_GG    val_GT    val_TA    val_TC  \\\n",
            "0 -0.024360 -0.025149 -0.030791 -0.022920 -0.026910  0.052324  0.002189   \n",
            "1 -0.007561 -0.018550 -0.025738 -0.028961 -0.010787  0.007764  0.024888   \n",
            "2  0.023678  0.006907 -0.016295 -0.054918  0.028913 -0.005400  0.003121   \n",
            "3 -0.024776 -0.005172 -0.055010 -0.029327 -0.016699  0.001295 -0.016304   \n",
            "4 -0.067938  0.036354  0.025424 -0.004574  0.096634  0.054191  0.008413   \n",
            "\n",
            "     val_TG    val_TT  \n",
            "0 -0.014354  0.095505  \n",
            "1 -0.000199  0.054599  \n",
            "2  0.000996  0.055780  \n",
            "3  0.128112  0.031967  \n",
            "4 -0.042354 -0.001649   \n",
            "\n",
            "Simulate Sort Dataset: \n",
            "\n",
            "   ct  ct_0  ct_1  ct_2  ct_3                     seq\n",
            "0  28     5    23     0     0  ACTTAAGGTGAGTTAGTTCACT\n",
            "1  11     2     0     0     9  AATTACCGTGTGTCAGCTAACT\n",
            "2   9     1     8     0     0  AATTAACGTGAGTTAGATCACT\n",
            "3  11     4     0     7     0  AATTAATGTGAGTTAGCTCACT\n",
            "4   7     0     0     0     7  AATTAATGGGACGTAGCTCAGT \n",
            "\n",
            "Learned model: \n",
            "\n",
            "   pos    val_AA    val_AC    val_AG    val_AT    val_CA    val_CC    val_CG  \\\n",
            "0    0  1.200428 -0.238859  0.206871  0.381490 -0.671777  0.455528 -0.772050   \n",
            "1    1 -0.008520 -0.142016  0.332350  0.289049 -0.329423  0.503948 -1.094513   \n",
            "2    2 -0.078514 -0.479182 -1.165449  0.862027  0.227369  0.341847  0.400851   \n",
            "3    3 -0.770925 -0.582044  1.288576  0.228500 -0.798456 -1.046066  2.216028   \n",
            "4    4 -0.615658 -0.808275 -0.010448 -0.280789 -0.689977 -2.261097  1.558036   \n",
            "\n",
            "     val_CT    val_GA    val_GC    val_GG    val_GT    val_TA    val_TC  \\\n",
            "0 -0.425612 -0.677273 -0.646057 -0.010047 -0.807825  0.619485 -0.604715   \n",
            "1 -0.114116 -0.171705 -0.255730  0.604996 -0.664237 -0.351470  1.020046   \n",
            "2  0.156180  0.192014 -0.991789 -0.554317  0.349461 -0.176763  0.211042   \n",
            "3 -1.289588 -0.185305 -0.369468 -0.828388 -0.053550  0.039517  0.110286   \n",
            "4 -0.494255 -0.243232  2.253575  1.683592  0.530778  0.962553  0.102299   \n",
            "\n",
            "     val_TG    val_TT  \n",
            "0  0.088548  1.901866  \n",
            "1 -0.847464  1.228807  \n",
            "2 -0.117795  0.823017  \n",
            "3  1.548496  0.492386  \n",
            "4 -0.086200 -1.600904   \n",
            "\n",
            "Evaluated Model: \n",
            "\n",
            "   ct  ct_0  ct_1  ct_2  ct_3                     seq       val\n",
            "0  28     5    23     0     0  ACTTAAGGTGAGTTAGTTCACT -0.215728\n",
            "1  11     2     0     0     9  AATTACCGTGTGTCAGCTAACT  0.069745\n",
            "2   9     1     8     0     0  AATTAACGTGAGTTAGATCACT -0.129967\n",
            "3  11     4     0     7     0  AATTAATGTGAGTTAGCTCACT -0.055353\n",
            "4   7     0     0     0     7  AATTAATGGGACGTAGCTCAGT  0.061147 \n",
            "\n",
            "Scanned Model: \n",
            "\n",
            "        val                     seq   left  right ori     contig\n",
            "0  1.455496  TTCTGTGATTGGTATCACATTT  42067  42088   +  MG1655.fa\n",
            "1  1.389791  AAATGTGATACCAATCACAGAA  42067  42088   -  MG1655.fa\n",
            "2  1.385766  AAGAGTGACGTAAATCACACTT  49633  49654   +  MG1655.fa\n",
            "3  1.277632  AAGTGTGATTTACGTCACTCTT  49633  49654   -  MG1655.fa\n",
            "4  1.261712  TATTGTGATACACATTGAGGTA  20563  20584   -  MG1655.fa\n",
            "5  1.207550  CATTGTGAATTAATATGCAAAT  29598  29619   +  MG1655.fa\n",
            "6  1.121232  AAGCAGGATTTAGCTCACACTT  34165  34186   +  MG1655.fa\n",
            "7  1.103291  TTATTTGCACGGCGTCACACTT  70157  70178   -  MG1655.fa\n",
            "8  1.088533  TTTATTGACTTAGGTCACTAAA    106    127   +  MG1655.fa\n",
            "9  1.083919  AGTTGTGATTACTCCTGCGAAA   6520   6541   +  MG1655.fa \n",
            "\n",
            "Mutual Information: \n",
            "\n",
            "0.879470887673893\n"
          ],
          "name": "stdout"
        },
        {
          "output_type": "display_data",
          "data": {
            "image/png": "[encoded data removed]",
            "text/plain": [
              "<Figure size 432x288 with 2 Axes>"
            ]
          },
          "metadata": {
            "tags": []
          }
        }
      ]
    },
    {
      "metadata": {
        "id": "tUMsc9I0RHEP",
        "colab_type": "code",
        "colab": {}
      },
      "cell_type": "code",
      "source": [
        ""
      ],
      "execution_count": 0,
      "outputs": []
    }
  ]
}