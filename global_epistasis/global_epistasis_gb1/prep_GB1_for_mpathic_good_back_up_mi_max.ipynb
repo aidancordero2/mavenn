{
 "cells": [
  {
   "cell_type": "markdown",
   "metadata": {},
   "source": [
    "## Notes\n",
    "\n",
    "Just load the csv file gb1_10k_seq_vals_percentiles, it has both additive trait and vals"
   ]
  },
  {
   "cell_type": "markdown",
   "metadata": {},
   "source": [
    "### Import libraries and read data"
   ]
  },
  {
   "cell_type": "code",
   "execution_count": 1,
   "metadata": {
    "collapsed": true
   },
   "outputs": [],
   "source": [
    "import pandas as pd\n",
    "import numpy as np\n",
    "import numpy as np\n",
    "import pandas as pd\n",
    "import matplotlib.pyplot as plt\n",
    "import sys\n",
    "\n",
    "#input_data_ordered_raw =  pd.read_csv('rnap_scanned_over_ecoli_genome200k.csv')\n",
    "input_data_ordered_raw = pd.read_csv('GB1.csv')\n",
    "#sequences = input_data_ordered_raw['seq'].tolist()"
   ]
  },
  {
   "cell_type": "code",
   "execution_count": 2,
   "metadata": {},
   "outputs": [
    {
     "data": {
      "text/html": [
       "<div>\n",
       "<style scoped>\n",
       "    .dataframe tbody tr th:only-of-type {\n",
       "        vertical-align: middle;\n",
       "    }\n",
       "\n",
       "    .dataframe tbody tr th {\n",
       "        vertical-align: top;\n",
       "    }\n",
       "\n",
       "    .dataframe thead th {\n",
       "        text-align: right;\n",
       "    }\n",
       "</style>\n",
       "<table border=\"1\" class=\"dataframe\">\n",
       "  <thead>\n",
       "    <tr style=\"text-align: right;\">\n",
       "      <th></th>\n",
       "      <th>seq</th>\n",
       "      <th>val</th>\n",
       "    </tr>\n",
       "  </thead>\n",
       "  <tbody>\n",
       "    <tr>\n",
       "      <th>0</th>\n",
       "      <td>VDGV</td>\n",
       "      <td>0.000000</td>\n",
       "    </tr>\n",
       "    <tr>\n",
       "      <th>1</th>\n",
       "      <td>ADGV</td>\n",
       "      <td>-1.062518</td>\n",
       "    </tr>\n",
       "    <tr>\n",
       "      <th>2</th>\n",
       "      <td>CDGV</td>\n",
       "      <td>-1.576334</td>\n",
       "    </tr>\n",
       "    <tr>\n",
       "      <th>3</th>\n",
       "      <td>DDGV</td>\n",
       "      <td>-1.294319</td>\n",
       "    </tr>\n",
       "    <tr>\n",
       "      <th>4</th>\n",
       "      <td>EDGV</td>\n",
       "      <td>-2.779853</td>\n",
       "    </tr>\n",
       "  </tbody>\n",
       "</table>\n",
       "</div>"
      ],
      "text/plain": [
       "    seq       val\n",
       "0  VDGV  0.000000\n",
       "1  ADGV -1.062518\n",
       "2  CDGV -1.576334\n",
       "3  DDGV -1.294319\n",
       "4  EDGV -2.779853"
      ]
     },
     "execution_count": 2,
     "metadata": {},
     "output_type": "execute_result"
    }
   ],
   "source": [
    "input_data_ordered_raw.head()"
   ]
  },
  {
   "cell_type": "code",
   "execution_count": 3,
   "metadata": {},
   "outputs": [
    {
     "data": {
      "text/plain": [
       "149361"
      ]
     },
     "execution_count": 3,
     "metadata": {},
     "output_type": "execute_result"
    }
   ],
   "source": [
    "len(input_data_ordered_raw)"
   ]
  },
  {
   "cell_type": "code",
   "execution_count": 4,
   "metadata": {},
   "outputs": [
    {
     "data": {
      "text/plain": [
       "'/Users/tareen/Desktop/Desktop_Tests/MPathic3/mpathic/data/rnap_convnet/ANN_Logisitc_Regression'"
      ]
     },
     "execution_count": 4,
     "metadata": {},
     "output_type": "execute_result"
    }
   ],
   "source": [
    "import os\n",
    "os.getcwd()"
   ]
  },
  {
   "cell_type": "markdown",
   "metadata": {},
   "source": [
    "## Gauge Fixed learned model"
   ]
  },
  {
   "cell_type": "code",
   "execution_count": 7,
   "metadata": {},
   "outputs": [
    {
     "data": {
      "text/html": [
       "<div>\n",
       "<style scoped>\n",
       "    .dataframe tbody tr th:only-of-type {\n",
       "        vertical-align: middle;\n",
       "    }\n",
       "\n",
       "    .dataframe tbody tr th {\n",
       "        vertical-align: top;\n",
       "    }\n",
       "\n",
       "    .dataframe thead th {\n",
       "        text-align: right;\n",
       "    }\n",
       "</style>\n",
       "<table border=\"1\" class=\"dataframe\">\n",
       "  <thead>\n",
       "    <tr style=\"text-align: right;\">\n",
       "      <th></th>\n",
       "      <th>val_A</th>\n",
       "      <th>val_C</th>\n",
       "      <th>val_D</th>\n",
       "      <th>val_E</th>\n",
       "      <th>val_F</th>\n",
       "      <th>val_G</th>\n",
       "      <th>val_H</th>\n",
       "      <th>val_I</th>\n",
       "      <th>val_K</th>\n",
       "      <th>val_L</th>\n",
       "      <th>val_M</th>\n",
       "      <th>val_N</th>\n",
       "      <th>val_P</th>\n",
       "      <th>val_Q</th>\n",
       "      <th>val_R</th>\n",
       "      <th>val_S</th>\n",
       "      <th>val_T</th>\n",
       "      <th>val_V</th>\n",
       "      <th>val_W</th>\n",
       "      <th>val_Y</th>\n",
       "    </tr>\n",
       "  </thead>\n",
       "  <tbody>\n",
       "    <tr>\n",
       "      <th>0</th>\n",
       "      <td>3.072540e-14</td>\n",
       "      <td>6.372680e-14</td>\n",
       "      <td>-6.727950e-14</td>\n",
       "      <td>-3.227970e-14</td>\n",
       "      <td>7.371880e-14</td>\n",
       "      <td>-1.462720e-13</td>\n",
       "      <td>-1.326720e-14</td>\n",
       "      <td>6.972200e-14</td>\n",
       "      <td>-4.027330e-14</td>\n",
       "      <td>1.177110e-13</td>\n",
       "      <td>9.872660e-14</td>\n",
       "      <td>-1.092740e-13</td>\n",
       "      <td>-1.352810e-13</td>\n",
       "      <td>-1.126880e-14</td>\n",
       "      <td>-4.027330e-14</td>\n",
       "      <td>-5.226370e-14</td>\n",
       "      <td>6.172840e-14</td>\n",
       "      <td>8.071320e-14</td>\n",
       "      <td>7.716050e-15</td>\n",
       "      <td>4.371500e-14</td>\n",
       "    </tr>\n",
       "    <tr>\n",
       "      <th>1</th>\n",
       "      <td>8.820000e-15</td>\n",
       "      <td>5.810000e-14</td>\n",
       "      <td>5.290000e-15</td>\n",
       "      <td>-6.600000e-14</td>\n",
       "      <td>4.690000e-14</td>\n",
       "      <td>-4.190000e-14</td>\n",
       "      <td>6.930000e-14</td>\n",
       "      <td>1.270000e-14</td>\n",
       "      <td>-1.510000e-14</td>\n",
       "      <td>-6.480000e-14</td>\n",
       "      <td>-4.110000e-14</td>\n",
       "      <td>2.230000e-15</td>\n",
       "      <td>-1.270000e-13</td>\n",
       "      <td>-1.450000e-14</td>\n",
       "      <td>1.380000e-14</td>\n",
       "      <td>1.180000e-14</td>\n",
       "      <td>-3.930000e-14</td>\n",
       "      <td>1.400000e-14</td>\n",
       "      <td>8.200000e-14</td>\n",
       "      <td>8.510000e-14</td>\n",
       "    </tr>\n",
       "    <tr>\n",
       "      <th>2</th>\n",
       "      <td>7.338570e-14</td>\n",
       "      <td>1.194040e-13</td>\n",
       "      <td>-7.260860e-14</td>\n",
       "      <td>-6.161740e-14</td>\n",
       "      <td>1.393890e-13</td>\n",
       "      <td>2.223780e-13</td>\n",
       "      <td>-5.462300e-14</td>\n",
       "      <td>-6.861180e-14</td>\n",
       "      <td>-5.861980e-14</td>\n",
       "      <td>7.238650e-14</td>\n",
       "      <td>1.842970e-14</td>\n",
       "      <td>-5.462300e-14</td>\n",
       "      <td>-6.861180e-14</td>\n",
       "      <td>-3.458340e-14</td>\n",
       "      <td>-6.561420e-14</td>\n",
       "      <td>-2.359220e-14</td>\n",
       "      <td>-7.360780e-14</td>\n",
       "      <td>-3.758100e-14</td>\n",
       "      <td>2.386980e-15</td>\n",
       "      <td>2.642330e-14</td>\n",
       "    </tr>\n",
       "    <tr>\n",
       "      <th>3</th>\n",
       "      <td>1.280000e-13</td>\n",
       "      <td>1.560000e-13</td>\n",
       "      <td>-5.280000e-14</td>\n",
       "      <td>-1.110000e-13</td>\n",
       "      <td>7.020000e-14</td>\n",
       "      <td>6.210000e-14</td>\n",
       "      <td>-8.050000e-14</td>\n",
       "      <td>3.020000e-14</td>\n",
       "      <td>-1.330000e-13</td>\n",
       "      <td>7.300000e-14</td>\n",
       "      <td>1.290000e-13</td>\n",
       "      <td>-5.520000e-15</td>\n",
       "      <td>-1.160000e-13</td>\n",
       "      <td>-7.700000e-14</td>\n",
       "      <td>-1.650000e-13</td>\n",
       "      <td>4.380000e-14</td>\n",
       "      <td>6.730000e-14</td>\n",
       "      <td>4.820000e-14</td>\n",
       "      <td>-1.010000e-14</td>\n",
       "      <td>-5.750000e-14</td>\n",
       "    </tr>\n",
       "  </tbody>\n",
       "</table>\n",
       "</div>"
      ],
      "text/plain": [
       "          val_A         val_C         val_D         val_E         val_F  \\\n",
       "0  3.072540e-14  6.372680e-14 -6.727950e-14 -3.227970e-14  7.371880e-14   \n",
       "1  8.820000e-15  5.810000e-14  5.290000e-15 -6.600000e-14  4.690000e-14   \n",
       "2  7.338570e-14  1.194040e-13 -7.260860e-14 -6.161740e-14  1.393890e-13   \n",
       "3  1.280000e-13  1.560000e-13 -5.280000e-14 -1.110000e-13  7.020000e-14   \n",
       "\n",
       "          val_G         val_H         val_I         val_K         val_L  \\\n",
       "0 -1.462720e-13 -1.326720e-14  6.972200e-14 -4.027330e-14  1.177110e-13   \n",
       "1 -4.190000e-14  6.930000e-14  1.270000e-14 -1.510000e-14 -6.480000e-14   \n",
       "2  2.223780e-13 -5.462300e-14 -6.861180e-14 -5.861980e-14  7.238650e-14   \n",
       "3  6.210000e-14 -8.050000e-14  3.020000e-14 -1.330000e-13  7.300000e-14   \n",
       "\n",
       "          val_M         val_N         val_P         val_Q         val_R  \\\n",
       "0  9.872660e-14 -1.092740e-13 -1.352810e-13 -1.126880e-14 -4.027330e-14   \n",
       "1 -4.110000e-14  2.230000e-15 -1.270000e-13 -1.450000e-14  1.380000e-14   \n",
       "2  1.842970e-14 -5.462300e-14 -6.861180e-14 -3.458340e-14 -6.561420e-14   \n",
       "3  1.290000e-13 -5.520000e-15 -1.160000e-13 -7.700000e-14 -1.650000e-13   \n",
       "\n",
       "          val_S         val_T         val_V         val_W         val_Y  \n",
       "0 -5.226370e-14  6.172840e-14  8.071320e-14  7.716050e-15  4.371500e-14  \n",
       "1  1.180000e-14 -3.930000e-14  1.400000e-14  8.200000e-14  8.510000e-14  \n",
       "2 -2.359220e-14 -7.360780e-14 -3.758100e-14  2.386980e-15  2.642330e-14  \n",
       "3  4.380000e-14  6.730000e-14  4.820000e-14 -1.010000e-14 -5.750000e-14  "
      ]
     },
     "execution_count": 7,
     "metadata": {},
     "output_type": "execute_result"
    }
   ],
   "source": [
    "learned_model_im = pd.read_csv('/Users/tareen/Desktop/Desktop_Tests/MPathic3/learned_and_evaluated_models/GB1_learned_model_IM_full.csv')\n",
    "#learned_model_im = pd.read_csv('/Users/tareen/Desktop/Desktop_Tests/MPathic3/sort_seq_IM_model.csv',sep='\\t')\n",
    "#learned_model_im = pd.read_csv('/Users/tareen/Desktop/Desktop_Tests/MPathic3/sort_seq_LS_model.csv',sep='\\t')\n",
    "#del learned_model_im['Unnamed: 0']\n",
    "#learned_model_im = learned_model_im[[ 'val_A', 'val_C', 'val_G', 'val_T']]\n",
    "learned_model_im = learned_model_im[['val_A', 'val_C', 'val_D', 'val_E', 'val_F', 'val_G','val_H', 'val_I', 'val_K', 'val_L', 'val_M', 'val_N', 'val_P', 'val_Q','val_R', 'val_S', 'val_T', 'val_V', 'val_W', 'val_Y']]\n",
    "learned_model_im.head()"
   ]
  },
  {
   "cell_type": "code",
   "execution_count": 8,
   "metadata": {},
   "outputs": [
    {
     "data": {
      "text/plain": [
       "Index(['val_A', 'val_C', 'val_D', 'val_E', 'val_F', 'val_G', 'val_H', 'val_I',\n",
       "       'val_K', 'val_L', 'val_M', 'val_N', 'val_P', 'val_Q', 'val_R', 'val_S',\n",
       "       'val_T', 'val_V', 'val_W', 'val_Y'],\n",
       "      dtype='object')"
      ]
     },
     "execution_count": 8,
     "metadata": {},
     "output_type": "execute_result"
    }
   ],
   "source": [
    "learned_model_im.columns"
   ]
  },
  {
   "cell_type": "code",
   "execution_count": 9,
   "metadata": {},
   "outputs": [
    {
     "data": {
      "image/png": "[encoded data removed]",
      "text/plain": [
       "<Figure size 1440x216 with 2 Axes>"
      ]
     },
     "metadata": {},
     "output_type": "display_data"
    }
   ],
   "source": [
    "import seaborn as sns\n",
    "plt.figure(figsize=[20,3])\n",
    "sns.heatmap(learned_model_im,cmap='rainbow')\n",
    "plt.show()"
   ]
  },
  {
   "cell_type": "code",
   "execution_count": 10,
   "metadata": {},
   "outputs": [],
   "source": [
    "learn_model_copy = learned_model_im.copy()"
   ]
  },
  {
   "cell_type": "markdown",
   "metadata": {},
   "source": [
    "## reweight model\n",
    "\n",
    "Divided all weights by square root of the sum of the squares of all weights"
   ]
  },
  {
   "cell_type": "code",
   "execution_count": 23,
   "metadata": {},
   "outputs": [],
   "source": [
    "rescale_weight = np.sum(np.sum(np.square(learn_model_copy)))**0.5\n",
    "learn_model_copy = learn_model_copy.copy()/rescale_weight"
   ]
  },
  {
   "cell_type": "code",
   "execution_count": 24,
   "metadata": {},
   "outputs": [
    {
     "data": {
      "image/png": "[encoded data removed]",
      "text/plain": [
       "<Figure size 1440x216 with 2 Axes>"
      ]
     },
     "metadata": {},
     "output_type": "display_data"
    }
   ],
   "source": [
    "import seaborn as sns\n",
    "plt.figure(figsize=[20,3])\n",
    "sns.heatmap(learn_model_copy,cmap='rainbow')\n",
    "plt.show()"
   ]
  },
  {
   "cell_type": "code",
   "execution_count": 27,
   "metadata": {},
   "outputs": [],
   "source": [
    "# set termination signal to 0\n",
    "learn_model_copy['val_*'] = [0,0,0,0]"
   ]
  },
  {
   "cell_type": "code",
   "execution_count": 30,
   "metadata": {},
   "outputs": [
    {
     "data": {
      "text/plain": [
       "pandas.core.series.Series"
      ]
     },
     "execution_count": 30,
     "metadata": {},
     "output_type": "execute_result"
    }
   ],
   "source": [
    "type(learn_model_copy['val_*'])"
   ]
  },
  {
   "cell_type": "markdown",
   "metadata": {},
   "source": [
    "## output model "
   ]
  },
  {
   "cell_type": "code",
   "execution_count": 31,
   "metadata": {},
   "outputs": [],
   "source": [
    "learn_model_copy.to_csv('learn_model_gb1_gauge_fixed_rescaled.csv',sep='\\t')"
   ]
  },
  {
   "cell_type": "code",
   "execution_count": 32,
   "metadata": {},
   "outputs": [
    {
     "data": {
      "text/plain": [
       "'/Users/tareen/Desktop/Desktop_Tests/MPathic3/mpathic/data/rnap_convnet/ANN_Logisitc_Regression'"
      ]
     },
     "execution_count": 32,
     "metadata": {},
     "output_type": "execute_result"
    }
   ],
   "source": [
    "import os\n",
    "os.getcwd()"
   ]
  },
  {
   "cell_type": "code",
   "execution_count": null,
   "metadata": {
    "collapsed": true
   },
   "outputs": [],
   "source": []
  },
  {
   "cell_type": "code",
   "execution_count": 33,
   "metadata": {
    "collapsed": true
   },
   "outputs": [],
   "source": [
    "#len_of_data_to_use = 1000\n",
    "sequences = input_data_ordered_raw['seq']\n",
    "val = input_data_ordered_raw['val']"
   ]
  },
  {
   "cell_type": "code",
   "execution_count": 6,
   "metadata": {
    "collapsed": true
   },
   "outputs": [],
   "source": [
    "gb1_df_10k = pd.DataFrame({'seq':sequences,'val':val})\n",
    "#gb1_df_10k.to_csv('gb1_10k.csv',sep='\\t')"
   ]
  },
  {
   "cell_type": "code",
   "execution_count": null,
   "metadata": {
    "collapsed": true
   },
   "outputs": [],
   "source": [
    "from scipy.stats import percentileofscore\n",
    "\n",
    "# generate example data\n",
    "arr = gb1_df_10k['val']\n",
    "\n",
    "# pre-sort array\n",
    "arr_sorted =  sorted(arr)\n",
    "\n",
    "# calculate percentiles using scipy func percentileofscore on each array element\n",
    "s = pd.Series(arr)\n",
    "percentiles = s.apply(lambda x: percentileofscore(arr_sorted, x))"
   ]
  },
  {
   "cell_type": "code",
   "execution_count": null,
   "metadata": {
    "collapsed": true
   },
   "outputs": [],
   "source": [
    "#plt.hist(arr,bins=50)\n",
    "\n",
    "plt.hist(percentiles,bins=150)\n",
    "plt.show()"
   ]
  },
  {
   "cell_type": "code",
   "execution_count": null,
   "metadata": {
    "collapsed": true
   },
   "outputs": [],
   "source": [
    "gb1_df_10k.head()"
   ]
  },
  {
   "cell_type": "code",
   "execution_count": null,
   "metadata": {
    "collapsed": true
   },
   "outputs": [],
   "source": [
    "len(gb1_df_10k)"
   ]
  },
  {
   "cell_type": "code",
   "execution_count": null,
   "metadata": {
    "collapsed": true
   },
   "outputs": [],
   "source": [
    "gb1_df_10k['percentiles'] = percentiles"
   ]
  },
  {
   "cell_type": "code",
   "execution_count": null,
   "metadata": {
    "collapsed": true
   },
   "outputs": [],
   "source": [
    "gb1_df_10k.head()"
   ]
  },
  {
   "cell_type": "code",
   "execution_count": null,
   "metadata": {
    "collapsed": true
   },
   "outputs": [],
   "source": [
    "#gb1_df_10k.to_csv('global_epistasis_gb1/gb1_10k_seq_vals_percentiles.csv',sep='\\t')"
   ]
  },
  {
   "cell_type": "markdown",
   "metadata": {},
   "source": [
    "## Load dataframe with percentiles"
   ]
  },
  {
   "cell_type": "code",
   "execution_count": 88,
   "metadata": {},
   "outputs": [
    {
     "data": {
      "text/html": [
       "<div>\n",
       "<style scoped>\n",
       "    .dataframe tbody tr th:only-of-type {\n",
       "        vertical-align: middle;\n",
       "    }\n",
       "\n",
       "    .dataframe tbody tr th {\n",
       "        vertical-align: top;\n",
       "    }\n",
       "\n",
       "    .dataframe thead th {\n",
       "        text-align: right;\n",
       "    }\n",
       "</style>\n",
       "<table border=\"1\" class=\"dataframe\">\n",
       "  <thead>\n",
       "    <tr style=\"text-align: right;\">\n",
       "      <th></th>\n",
       "      <th>seq</th>\n",
       "      <th>val</th>\n",
       "      <th>val_scaled</th>\n",
       "      <th>percentiles</th>\n",
       "      <th>seq_pro</th>\n",
       "      <th>additive_trait</th>\n",
       "    </tr>\n",
       "  </thead>\n",
       "  <tbody>\n",
       "    <tr>\n",
       "      <th>0</th>\n",
       "      <td>VDGV</td>\n",
       "      <td>0.000000</td>\n",
       "      <td>0.975696</td>\n",
       "      <td>97.569647</td>\n",
       "      <td>VDGV</td>\n",
       "      <td>0.516837</td>\n",
       "    </tr>\n",
       "    <tr>\n",
       "      <th>1</th>\n",
       "      <td>ADGV</td>\n",
       "      <td>-1.062518</td>\n",
       "      <td>0.952933</td>\n",
       "      <td>95.293283</td>\n",
       "      <td>ADGV</td>\n",
       "      <td>0.444383</td>\n",
       "    </tr>\n",
       "    <tr>\n",
       "      <th>2</th>\n",
       "      <td>CDGV</td>\n",
       "      <td>-1.576334</td>\n",
       "      <td>0.940419</td>\n",
       "      <td>94.041952</td>\n",
       "      <td>CDGV</td>\n",
       "      <td>0.492216</td>\n",
       "    </tr>\n",
       "    <tr>\n",
       "      <th>3</th>\n",
       "      <td>DDGV</td>\n",
       "      <td>-1.294319</td>\n",
       "      <td>0.947369</td>\n",
       "      <td>94.736913</td>\n",
       "      <td>DDGV</td>\n",
       "      <td>0.302333</td>\n",
       "    </tr>\n",
       "    <tr>\n",
       "      <th>4</th>\n",
       "      <td>EDGV</td>\n",
       "      <td>-2.779853</td>\n",
       "      <td>0.909179</td>\n",
       "      <td>90.917977</td>\n",
       "      <td>EDGV</td>\n",
       "      <td>0.353062</td>\n",
       "    </tr>\n",
       "  </tbody>\n",
       "</table>\n",
       "</div>"
      ],
      "text/plain": [
       "    seq       val  val_scaled  percentiles seq_pro  additive_trait\n",
       "0  VDGV  0.000000    0.975696    97.569647    VDGV        0.516837\n",
       "1  ADGV -1.062518    0.952933    95.293283    ADGV        0.444383\n",
       "2  CDGV -1.576334    0.940419    94.041952    CDGV        0.492216\n",
       "3  DDGV -1.294319    0.947369    94.736913    DDGV        0.302333\n",
       "4  EDGV -2.779853    0.909179    90.917977    EDGV        0.353062"
      ]
     },
     "execution_count": 88,
     "metadata": {},
     "output_type": "execute_result"
    }
   ],
   "source": [
    "gb1_df_percentiles = pd.read_csv('global_epistasis_gb1/gb1_10k_seq_vals_percentiles.csv')\n",
    "del gb1_df_percentiles['Unnamed: 0']\n",
    "gb1_df_percentiles.head()"
   ]
  },
  {
   "cell_type": "code",
   "execution_count": 107,
   "metadata": {},
   "outputs": [
    {
     "data": {
      "image/png": "[encoded data removed]",
      "text/plain": [
       "<Figure size 720x720 with 1 Axes>"
      ]
     },
     "metadata": {},
     "output_type": "display_data"
    }
   ],
   "source": [
    "plt.figure(figsize=[10,10])\n",
    "plt.scatter(gb1_df_percentiles['additive_trait'],gb1_df_percentiles['val'],s=0.5,color='red',alpha=0.25)\n",
    "plt.xlabel('Additive Trait',fontsize=16)\n",
    "plt.ylabel('Measured Values',fontsize=16)\n",
    "plt.title('Protein GB1 Global Epistasis using Information Maximization',fontsize=16)\n",
    "plt.tick_params(labelsize=16)\n",
    "plt.savefig('GB1_global_epistasis_MI_max_full_data.png')\n",
    "plt.show()"
   ]
  },
  {
   "cell_type": "code",
   "execution_count": 155,
   "metadata": {},
   "outputs": [
    {
     "data": {
      "text/plain": [
       "seq               EVGE\n",
       "val           -4.73382\n",
       "val_scaled         0.7\n",
       "percentiles    70.0002\n",
       "Name: 5782, dtype: object"
      ]
     },
     "execution_count": 155,
     "metadata": {},
     "output_type": "execute_result"
    }
   ],
   "source": [
    "gb1_df_percentiles.loc[5782]"
   ]
  },
  {
   "cell_type": "code",
   "execution_count": 35,
   "metadata": {},
   "outputs": [
    {
     "data": {
      "text/plain": [
       "149361"
      ]
     },
     "execution_count": 35,
     "metadata": {},
     "output_type": "execute_result"
    }
   ],
   "source": [
    "len(gb1_df_percentiles)"
   ]
  },
  {
   "cell_type": "code",
   "execution_count": 78,
   "metadata": {
    "collapsed": true
   },
   "outputs": [],
   "source": [
    "val_scaled = gb1_df_percentiles['val_scaled']\n",
    "#val_scaled = (val_scaled-min(val_scaled))/(max(val_scaled)-min(val_scaled))"
   ]
  },
  {
   "cell_type": "code",
   "execution_count": 37,
   "metadata": {
    "collapsed": true
   },
   "outputs": [],
   "source": [
    "bins_to_use = 20\n",
    "#counts,bins = np.histogram(gb1_df_10k['val'],bins=bins_to_use)\n",
    "counts,bins = np.histogram(val_scaled,bins=bins_to_use)"
   ]
  },
  {
   "cell_type": "code",
   "execution_count": 38,
   "metadata": {},
   "outputs": [
    {
     "data": {
      "text/plain": [
       "array([0.  , 0.05, 0.1 , 0.15, 0.2 , 0.25, 0.3 , 0.35, 0.4 , 0.45, 0.5 ,\n",
       "       0.55, 0.6 , 0.65, 0.7 , 0.75, 0.8 , 0.85, 0.9 , 0.95, 1.  ])"
      ]
     },
     "execution_count": 38,
     "metadata": {},
     "output_type": "execute_result"
    }
   ],
   "source": [
    "bins"
   ]
  },
  {
   "cell_type": "code",
   "execution_count": 39,
   "metadata": {},
   "outputs": [],
   "source": [
    "#temp_df = gb1_df_10k[].copy()\n",
    "temp_df = gb1_df_percentiles.copy()"
   ]
  },
  {
   "cell_type": "code",
   "execution_count": 239,
   "metadata": {},
   "outputs": [
    {
     "data": {
      "text/plain": [
       "10000"
      ]
     },
     "execution_count": 239,
     "metadata": {},
     "output_type": "execute_result"
    }
   ],
   "source": [
    "len(temp_df['val_scaled'][0:10000])"
   ]
  },
  {
   "cell_type": "code",
   "execution_count": 40,
   "metadata": {},
   "outputs": [
    {
     "data": {
      "text/plain": [
       "149361"
      ]
     },
     "execution_count": 40,
     "metadata": {},
     "output_type": "execute_result"
    }
   ],
   "source": [
    "len(temp_df)"
   ]
  },
  {
   "cell_type": "code",
   "execution_count": 41,
   "metadata": {},
   "outputs": [
    {
     "name": "stdout",
     "output_type": "stream",
     "text": [
      "0 0.0 0.05\n",
      "1 0.05 0.1\n",
      "2 0.1 0.15000000000000002\n",
      "3 0.15000000000000002 0.2\n",
      "4 0.2 0.25\n",
      "5 0.25 0.30000000000000004\n",
      "6 0.30000000000000004 0.35000000000000003\n",
      "7 0.35000000000000003 0.4\n",
      "8 0.4 0.45\n",
      "9 0.45 0.5\n",
      "10 0.5 0.55\n",
      "11 0.55 0.6000000000000001\n",
      "12 0.6000000000000001 0.65\n",
      "13 0.65 0.7000000000000001\n",
      "14 0.7000000000000001 0.75\n",
      "15 0.75 0.8\n",
      "16 0.8 0.8500000000000001\n",
      "17 0.8500000000000001 0.9\n",
      "18 0.9 0.9500000000000001\n",
      "19 0.9500000000000001 1.0\n"
     ]
    }
   ],
   "source": [
    "for bin_index in range(len(bins)):\n",
    "    if(bin_index<len(bins)-1):\n",
    "        print(bin_index,bins[bin_index],bins[bin_index+1])     "
   ]
  },
  {
   "cell_type": "markdown",
   "metadata": {},
   "source": [
    "## Get sequences and bin numbers"
   ]
  },
  {
   "cell_type": "code",
   "execution_count": 42,
   "metadata": {},
   "outputs": [],
   "source": [
    "sequence_bins_list = []\n",
    "# loop over every sequence\n",
    "for index, row in temp_df.iterrows():\n",
    "    # for each row, put sequences in the correct bin based on comparing values to bins\n",
    "    #print(index,row['seq'], row['val'])\n",
    "    for bin_index in range(len(bins)):\n",
    "        if(bin_index<len(bins)-1): # do go out of bounds\n",
    "            if((row['val_scaled']>= bins[bin_index]) and (row['val_scaled']<=bins[bin_index+1])):\n",
    "                #print('Seq: ',row['seq'],' going in bin: ',bin_index)\n",
    "                sequence_bins_list.append([row['seq'],bin_index])\n",
    "                \n",
    "                "
   ]
  },
  {
   "cell_type": "code",
   "execution_count": 43,
   "metadata": {
    "collapsed": true
   },
   "outputs": [],
   "source": [
    "sequence_counts_array = np.array(sequence_bins_list)"
   ]
  },
  {
   "cell_type": "markdown",
   "metadata": {},
   "source": [
    "## deal with some weird duplicated sequences"
   ]
  },
  {
   "cell_type": "code",
   "execution_count": 44,
   "metadata": {},
   "outputs": [
    {
     "name": "stdout",
     "output_type": "stream",
     "text": [
      "['EVGE', 'CMCR', 'CSEL', 'IEAP', 'IYVN', 'MWTR', 'WAPG', 'YNVI']\n"
     ]
    }
   ],
   "source": [
    "import collections\n",
    "print( [item for item, count in collections.Counter(sequence_counts_array[:,0]).items() if count > 1])\n",
    "sequences_with_extra_counts = [item for item, count in collections.Counter(sequence_counts_array[:,0]).items() if count > 1]"
   ]
  },
  {
   "cell_type": "code",
   "execution_count": 132,
   "metadata": {},
   "outputs": [
    {
     "data": {
      "text/plain": [
       "True"
      ]
     },
     "execution_count": 132,
     "metadata": {},
     "output_type": "execute_result"
    }
   ],
   "source": [
    "#gb1_df_percentiles.loc[gb1_df_percentiles['seq']=='YNVI']\n",
    "'YNVI' in set(list(sequence_counts_array[:,0]))"
   ]
  },
  {
   "cell_type": "code",
   "execution_count": 45,
   "metadata": {},
   "outputs": [
    {
     "name": "stdout",
     "output_type": "stream",
     "text": [
      "5782\n",
      "35547\n",
      "37305\n",
      "71385\n",
      "77219\n",
      "96665\n",
      "136256\n",
      "146539\n"
     ]
    }
   ],
   "source": [
    "#len(set(list(sequence_counts_array[:,0])))\n",
    "duplicate_seq_indexes_list = []\n",
    "for duplicate_index in range(len(sequences_with_extra_counts)):\n",
    "    print(list(sequence_counts_array[:,0]).index(sequences_with_extra_counts[duplicate_index]))\n",
    "    duplicate_seq_indexes_list.append(list(sequence_counts_array[:,0]).index(sequences_with_extra_counts[duplicate_index]))"
   ]
  },
  {
   "cell_type": "code",
   "execution_count": 143,
   "metadata": {},
   "outputs": [
    {
     "data": {
      "text/plain": [
       "149361"
      ]
     },
     "execution_count": 143,
     "metadata": {},
     "output_type": "execute_result"
    }
   ],
   "source": [
    "len(pd.unique(sequence_counts_array[:,0]))"
   ]
  },
  {
   "cell_type": "code",
   "execution_count": 46,
   "metadata": {},
   "outputs": [],
   "source": [
    "sequence_counts_array = np.delete(sequence_counts_array, duplicate_seq_indexes_list, axis=0).copy()"
   ]
  },
  {
   "cell_type": "code",
   "execution_count": 47,
   "metadata": {},
   "outputs": [
    {
     "data": {
      "text/plain": [
       "149361"
      ]
     },
     "execution_count": 47,
     "metadata": {},
     "output_type": "execute_result"
    }
   ],
   "source": [
    "len(sequence_counts_array)"
   ]
  },
  {
   "cell_type": "code",
   "execution_count": null,
   "metadata": {
    "collapsed": true
   },
   "outputs": [],
   "source": []
  },
  {
   "cell_type": "code",
   "execution_count": 48,
   "metadata": {},
   "outputs": [
    {
     "data": {
      "text/plain": [
       "149361"
      ]
     },
     "execution_count": 48,
     "metadata": {},
     "output_type": "execute_result"
    }
   ],
   "source": [
    "len(sequence_counts_array[:,1])"
   ]
  },
  {
   "cell_type": "code",
   "execution_count": 49,
   "metadata": {},
   "outputs": [
    {
     "data": {
      "text/html": [
       "<div>\n",
       "<style scoped>\n",
       "    .dataframe tbody tr th:only-of-type {\n",
       "        vertical-align: middle;\n",
       "    }\n",
       "\n",
       "    .dataframe tbody tr th {\n",
       "        vertical-align: top;\n",
       "    }\n",
       "\n",
       "    .dataframe thead th {\n",
       "        text-align: right;\n",
       "    }\n",
       "</style>\n",
       "<table border=\"1\" class=\"dataframe\">\n",
       "  <thead>\n",
       "    <tr style=\"text-align: right;\">\n",
       "      <th></th>\n",
       "      <th>bin</th>\n",
       "      <th>seq</th>\n",
       "    </tr>\n",
       "  </thead>\n",
       "  <tbody>\n",
       "    <tr>\n",
       "      <th>0</th>\n",
       "      <td>19</td>\n",
       "      <td>VDGV</td>\n",
       "    </tr>\n",
       "    <tr>\n",
       "      <th>1</th>\n",
       "      <td>19</td>\n",
       "      <td>ADGV</td>\n",
       "    </tr>\n",
       "    <tr>\n",
       "      <th>2</th>\n",
       "      <td>18</td>\n",
       "      <td>CDGV</td>\n",
       "    </tr>\n",
       "    <tr>\n",
       "      <th>3</th>\n",
       "      <td>18</td>\n",
       "      <td>DDGV</td>\n",
       "    </tr>\n",
       "    <tr>\n",
       "      <th>4</th>\n",
       "      <td>18</td>\n",
       "      <td>EDGV</td>\n",
       "    </tr>\n",
       "  </tbody>\n",
       "</table>\n",
       "</div>"
      ],
      "text/plain": [
       "  bin   seq\n",
       "0  19  VDGV\n",
       "1  19  ADGV\n",
       "2  18  CDGV\n",
       "3  18  DDGV\n",
       "4  18  EDGV"
      ]
     },
     "execution_count": 49,
     "metadata": {},
     "output_type": "execute_result"
    }
   ],
   "source": [
    "sequence_counts_array[:,1]\n",
    "seq_bin_df = pd.DataFrame({'seq':sequence_counts_array[:,0],'bin':sequence_counts_array[:,1]})\n",
    "seq_bin_df.head()"
   ]
  },
  {
   "cell_type": "code",
   "execution_count": 50,
   "metadata": {},
   "outputs": [
    {
     "data": {
      "text/plain": [
       "149361"
      ]
     },
     "execution_count": 50,
     "metadata": {},
     "output_type": "execute_result"
    }
   ],
   "source": [
    "len(seq_bin_df)"
   ]
  },
  {
   "cell_type": "markdown",
   "metadata": {},
   "source": [
    "#### Un-comment to train on subset of data"
   ]
  },
  {
   "cell_type": "code",
   "execution_count": 54,
   "metadata": {},
   "outputs": [],
   "source": [
    "#seq_bin_df = seq_bin_df.sample(10000).copy()"
   ]
  },
  {
   "cell_type": "code",
   "execution_count": 55,
   "metadata": {},
   "outputs": [
    {
     "name": "stdout",
     "output_type": "stream",
     "text": [
      "0\n",
      "19\n"
     ]
    }
   ],
   "source": [
    "print(min(sequence_counts_array[:,1].astype('int')))\n",
    "print(max(sequence_counts_array[:,1].astype('int')))"
   ]
  },
  {
   "cell_type": "code",
   "execution_count": 56,
   "metadata": {
    "collapsed": true
   },
   "outputs": [],
   "source": [
    "count_cols = []\n",
    "for bin_index in range(len(bins)-1):\n",
    "    count_cols.append('ct_'+str(bin_index))"
   ]
  },
  {
   "cell_type": "code",
   "execution_count": 57,
   "metadata": {},
   "outputs": [
    {
     "data": {
      "text/plain": [
       "['ct_0',\n",
       " 'ct_1',\n",
       " 'ct_2',\n",
       " 'ct_3',\n",
       " 'ct_4',\n",
       " 'ct_5',\n",
       " 'ct_6',\n",
       " 'ct_7',\n",
       " 'ct_8',\n",
       " 'ct_9',\n",
       " 'ct_10',\n",
       " 'ct_11',\n",
       " 'ct_12',\n",
       " 'ct_13',\n",
       " 'ct_14',\n",
       " 'ct_15',\n",
       " 'ct_16',\n",
       " 'ct_17',\n",
       " 'ct_18',\n",
       " 'ct_19']"
      ]
     },
     "execution_count": 57,
     "metadata": {},
     "output_type": "execute_result"
    }
   ],
   "source": [
    "count_cols"
   ]
  },
  {
   "cell_type": "code",
   "execution_count": 58,
   "metadata": {
    "collapsed": true
   },
   "outputs": [],
   "source": [
    "# append count columns to the dataframe\n",
    "#c ount_cols are ['ct_0','ct_1','ct_2','ct_3','ct_4','ct_5','ct_6','ct_7','ct_8','ct_9'] for bins = 10\n",
    "d = dict.fromkeys(count_cols, 0)\n",
    "seq_counts_df = seq_bin_df.assign(**d).copy()"
   ]
  },
  {
   "cell_type": "code",
   "execution_count": 59,
   "metadata": {},
   "outputs": [
    {
     "data": {
      "text/html": [
       "<div>\n",
       "<style scoped>\n",
       "    .dataframe tbody tr th:only-of-type {\n",
       "        vertical-align: middle;\n",
       "    }\n",
       "\n",
       "    .dataframe tbody tr th {\n",
       "        vertical-align: top;\n",
       "    }\n",
       "\n",
       "    .dataframe thead th {\n",
       "        text-align: right;\n",
       "    }\n",
       "</style>\n",
       "<table border=\"1\" class=\"dataframe\">\n",
       "  <thead>\n",
       "    <tr style=\"text-align: right;\">\n",
       "      <th></th>\n",
       "      <th>bin</th>\n",
       "      <th>seq</th>\n",
       "      <th>ct_0</th>\n",
       "      <th>ct_1</th>\n",
       "      <th>ct_2</th>\n",
       "      <th>ct_3</th>\n",
       "      <th>ct_4</th>\n",
       "      <th>ct_5</th>\n",
       "      <th>ct_6</th>\n",
       "      <th>ct_7</th>\n",
       "      <th>...</th>\n",
       "      <th>ct_10</th>\n",
       "      <th>ct_11</th>\n",
       "      <th>ct_12</th>\n",
       "      <th>ct_13</th>\n",
       "      <th>ct_14</th>\n",
       "      <th>ct_15</th>\n",
       "      <th>ct_16</th>\n",
       "      <th>ct_17</th>\n",
       "      <th>ct_18</th>\n",
       "      <th>ct_19</th>\n",
       "    </tr>\n",
       "  </thead>\n",
       "  <tbody>\n",
       "    <tr>\n",
       "      <th>0</th>\n",
       "      <td>19</td>\n",
       "      <td>VDGV</td>\n",
       "      <td>0</td>\n",
       "      <td>0</td>\n",
       "      <td>0</td>\n",
       "      <td>0</td>\n",
       "      <td>0</td>\n",
       "      <td>0</td>\n",
       "      <td>0</td>\n",
       "      <td>0</td>\n",
       "      <td>...</td>\n",
       "      <td>0</td>\n",
       "      <td>0</td>\n",
       "      <td>0</td>\n",
       "      <td>0</td>\n",
       "      <td>0</td>\n",
       "      <td>0</td>\n",
       "      <td>0</td>\n",
       "      <td>0</td>\n",
       "      <td>0</td>\n",
       "      <td>0</td>\n",
       "    </tr>\n",
       "    <tr>\n",
       "      <th>1</th>\n",
       "      <td>19</td>\n",
       "      <td>ADGV</td>\n",
       "      <td>0</td>\n",
       "      <td>0</td>\n",
       "      <td>0</td>\n",
       "      <td>0</td>\n",
       "      <td>0</td>\n",
       "      <td>0</td>\n",
       "      <td>0</td>\n",
       "      <td>0</td>\n",
       "      <td>...</td>\n",
       "      <td>0</td>\n",
       "      <td>0</td>\n",
       "      <td>0</td>\n",
       "      <td>0</td>\n",
       "      <td>0</td>\n",
       "      <td>0</td>\n",
       "      <td>0</td>\n",
       "      <td>0</td>\n",
       "      <td>0</td>\n",
       "      <td>0</td>\n",
       "    </tr>\n",
       "    <tr>\n",
       "      <th>2</th>\n",
       "      <td>18</td>\n",
       "      <td>CDGV</td>\n",
       "      <td>0</td>\n",
       "      <td>0</td>\n",
       "      <td>0</td>\n",
       "      <td>0</td>\n",
       "      <td>0</td>\n",
       "      <td>0</td>\n",
       "      <td>0</td>\n",
       "      <td>0</td>\n",
       "      <td>...</td>\n",
       "      <td>0</td>\n",
       "      <td>0</td>\n",
       "      <td>0</td>\n",
       "      <td>0</td>\n",
       "      <td>0</td>\n",
       "      <td>0</td>\n",
       "      <td>0</td>\n",
       "      <td>0</td>\n",
       "      <td>0</td>\n",
       "      <td>0</td>\n",
       "    </tr>\n",
       "    <tr>\n",
       "      <th>3</th>\n",
       "      <td>18</td>\n",
       "      <td>DDGV</td>\n",
       "      <td>0</td>\n",
       "      <td>0</td>\n",
       "      <td>0</td>\n",
       "      <td>0</td>\n",
       "      <td>0</td>\n",
       "      <td>0</td>\n",
       "      <td>0</td>\n",
       "      <td>0</td>\n",
       "      <td>...</td>\n",
       "      <td>0</td>\n",
       "      <td>0</td>\n",
       "      <td>0</td>\n",
       "      <td>0</td>\n",
       "      <td>0</td>\n",
       "      <td>0</td>\n",
       "      <td>0</td>\n",
       "      <td>0</td>\n",
       "      <td>0</td>\n",
       "      <td>0</td>\n",
       "    </tr>\n",
       "    <tr>\n",
       "      <th>4</th>\n",
       "      <td>18</td>\n",
       "      <td>EDGV</td>\n",
       "      <td>0</td>\n",
       "      <td>0</td>\n",
       "      <td>0</td>\n",
       "      <td>0</td>\n",
       "      <td>0</td>\n",
       "      <td>0</td>\n",
       "      <td>0</td>\n",
       "      <td>0</td>\n",
       "      <td>...</td>\n",
       "      <td>0</td>\n",
       "      <td>0</td>\n",
       "      <td>0</td>\n",
       "      <td>0</td>\n",
       "      <td>0</td>\n",
       "      <td>0</td>\n",
       "      <td>0</td>\n",
       "      <td>0</td>\n",
       "      <td>0</td>\n",
       "      <td>0</td>\n",
       "    </tr>\n",
       "  </tbody>\n",
       "</table>\n",
       "<p>5 rows × 22 columns</p>\n",
       "</div>"
      ],
      "text/plain": [
       "  bin   seq  ct_0  ct_1  ct_2  ct_3  ct_4  ct_5  ct_6  ct_7  ...    ct_10  \\\n",
       "0  19  VDGV     0     0     0     0     0     0     0     0  ...        0   \n",
       "1  19  ADGV     0     0     0     0     0     0     0     0  ...        0   \n",
       "2  18  CDGV     0     0     0     0     0     0     0     0  ...        0   \n",
       "3  18  DDGV     0     0     0     0     0     0     0     0  ...        0   \n",
       "4  18  EDGV     0     0     0     0     0     0     0     0  ...        0   \n",
       "\n",
       "   ct_11  ct_12  ct_13  ct_14  ct_15  ct_16  ct_17  ct_18  ct_19  \n",
       "0      0      0      0      0      0      0      0      0      0  \n",
       "1      0      0      0      0      0      0      0      0      0  \n",
       "2      0      0      0      0      0      0      0      0      0  \n",
       "3      0      0      0      0      0      0      0      0      0  \n",
       "4      0      0      0      0      0      0      0      0      0  \n",
       "\n",
       "[5 rows x 22 columns]"
      ]
     },
     "execution_count": 59,
     "metadata": {},
     "output_type": "execute_result"
    }
   ],
   "source": [
    "seq_counts_df.head()"
   ]
  },
  {
   "cell_type": "code",
   "execution_count": 61,
   "metadata": {},
   "outputs": [
    {
     "data": {
      "text/html": [
       "<div>\n",
       "<style scoped>\n",
       "    .dataframe tbody tr th:only-of-type {\n",
       "        vertical-align: middle;\n",
       "    }\n",
       "\n",
       "    .dataframe tbody tr th {\n",
       "        vertical-align: top;\n",
       "    }\n",
       "\n",
       "    .dataframe thead th {\n",
       "        text-align: right;\n",
       "    }\n",
       "</style>\n",
       "<table border=\"1\" class=\"dataframe\">\n",
       "  <thead>\n",
       "    <tr style=\"text-align: right;\">\n",
       "      <th></th>\n",
       "      <th>bin</th>\n",
       "      <th>seq</th>\n",
       "      <th>ct_0</th>\n",
       "      <th>ct_1</th>\n",
       "      <th>ct_2</th>\n",
       "      <th>ct_3</th>\n",
       "      <th>ct_4</th>\n",
       "      <th>ct_5</th>\n",
       "      <th>ct_6</th>\n",
       "      <th>ct_7</th>\n",
       "      <th>...</th>\n",
       "      <th>ct_10</th>\n",
       "      <th>ct_11</th>\n",
       "      <th>ct_12</th>\n",
       "      <th>ct_13</th>\n",
       "      <th>ct_14</th>\n",
       "      <th>ct_15</th>\n",
       "      <th>ct_16</th>\n",
       "      <th>ct_17</th>\n",
       "      <th>ct_18</th>\n",
       "      <th>ct_19</th>\n",
       "    </tr>\n",
       "  </thead>\n",
       "  <tbody>\n",
       "    <tr>\n",
       "      <th>0</th>\n",
       "      <td>19</td>\n",
       "      <td>VDGV</td>\n",
       "      <td>0</td>\n",
       "      <td>0</td>\n",
       "      <td>0</td>\n",
       "      <td>0</td>\n",
       "      <td>0</td>\n",
       "      <td>0</td>\n",
       "      <td>0</td>\n",
       "      <td>0</td>\n",
       "      <td>...</td>\n",
       "      <td>0</td>\n",
       "      <td>0</td>\n",
       "      <td>0</td>\n",
       "      <td>0</td>\n",
       "      <td>0</td>\n",
       "      <td>0</td>\n",
       "      <td>0</td>\n",
       "      <td>0</td>\n",
       "      <td>0</td>\n",
       "      <td>0</td>\n",
       "    </tr>\n",
       "    <tr>\n",
       "      <th>1</th>\n",
       "      <td>19</td>\n",
       "      <td>ADGV</td>\n",
       "      <td>0</td>\n",
       "      <td>0</td>\n",
       "      <td>0</td>\n",
       "      <td>0</td>\n",
       "      <td>0</td>\n",
       "      <td>0</td>\n",
       "      <td>0</td>\n",
       "      <td>0</td>\n",
       "      <td>...</td>\n",
       "      <td>0</td>\n",
       "      <td>0</td>\n",
       "      <td>0</td>\n",
       "      <td>0</td>\n",
       "      <td>0</td>\n",
       "      <td>0</td>\n",
       "      <td>0</td>\n",
       "      <td>0</td>\n",
       "      <td>0</td>\n",
       "      <td>0</td>\n",
       "    </tr>\n",
       "    <tr>\n",
       "      <th>2</th>\n",
       "      <td>18</td>\n",
       "      <td>CDGV</td>\n",
       "      <td>0</td>\n",
       "      <td>0</td>\n",
       "      <td>0</td>\n",
       "      <td>0</td>\n",
       "      <td>0</td>\n",
       "      <td>0</td>\n",
       "      <td>0</td>\n",
       "      <td>0</td>\n",
       "      <td>...</td>\n",
       "      <td>0</td>\n",
       "      <td>0</td>\n",
       "      <td>0</td>\n",
       "      <td>0</td>\n",
       "      <td>0</td>\n",
       "      <td>0</td>\n",
       "      <td>0</td>\n",
       "      <td>0</td>\n",
       "      <td>0</td>\n",
       "      <td>0</td>\n",
       "    </tr>\n",
       "    <tr>\n",
       "      <th>3</th>\n",
       "      <td>18</td>\n",
       "      <td>DDGV</td>\n",
       "      <td>0</td>\n",
       "      <td>0</td>\n",
       "      <td>0</td>\n",
       "      <td>0</td>\n",
       "      <td>0</td>\n",
       "      <td>0</td>\n",
       "      <td>0</td>\n",
       "      <td>0</td>\n",
       "      <td>...</td>\n",
       "      <td>0</td>\n",
       "      <td>0</td>\n",
       "      <td>0</td>\n",
       "      <td>0</td>\n",
       "      <td>0</td>\n",
       "      <td>0</td>\n",
       "      <td>0</td>\n",
       "      <td>0</td>\n",
       "      <td>0</td>\n",
       "      <td>0</td>\n",
       "    </tr>\n",
       "    <tr>\n",
       "      <th>4</th>\n",
       "      <td>18</td>\n",
       "      <td>EDGV</td>\n",
       "      <td>0</td>\n",
       "      <td>0</td>\n",
       "      <td>0</td>\n",
       "      <td>0</td>\n",
       "      <td>0</td>\n",
       "      <td>0</td>\n",
       "      <td>0</td>\n",
       "      <td>0</td>\n",
       "      <td>...</td>\n",
       "      <td>0</td>\n",
       "      <td>0</td>\n",
       "      <td>0</td>\n",
       "      <td>0</td>\n",
       "      <td>0</td>\n",
       "      <td>0</td>\n",
       "      <td>0</td>\n",
       "      <td>0</td>\n",
       "      <td>0</td>\n",
       "      <td>0</td>\n",
       "    </tr>\n",
       "  </tbody>\n",
       "</table>\n",
       "<p>5 rows × 22 columns</p>\n",
       "</div>"
      ],
      "text/plain": [
       "  bin   seq  ct_0  ct_1  ct_2  ct_3  ct_4  ct_5  ct_6  ct_7  ...    ct_10  \\\n",
       "0  19  VDGV     0     0     0     0     0     0     0     0  ...        0   \n",
       "1  19  ADGV     0     0     0     0     0     0     0     0  ...        0   \n",
       "2  18  CDGV     0     0     0     0     0     0     0     0  ...        0   \n",
       "3  18  DDGV     0     0     0     0     0     0     0     0  ...        0   \n",
       "4  18  EDGV     0     0     0     0     0     0     0     0  ...        0   \n",
       "\n",
       "   ct_11  ct_12  ct_13  ct_14  ct_15  ct_16  ct_17  ct_18  ct_19  \n",
       "0      0      0      0      0      0      0      0      0      0  \n",
       "1      0      0      0      0      0      0      0      0      0  \n",
       "2      0      0      0      0      0      0      0      0      0  \n",
       "3      0      0      0      0      0      0      0      0      0  \n",
       "4      0      0      0      0      0      0      0      0      0  \n",
       "\n",
       "[5 rows x 22 columns]"
      ]
     },
     "execution_count": 61,
     "metadata": {},
     "output_type": "execute_result"
    }
   ],
   "source": [
    "seq_counts_df = seq_counts_df.copy()\n",
    "seq_counts_df.reset_index(inplace=True)\n",
    "del seq_counts_df['index']\n",
    "seq_counts_df.head()"
   ]
  },
  {
   "cell_type": "code",
   "execution_count": 62,
   "metadata": {},
   "outputs": [
    {
     "data": {
      "text/plain": [
       "149361"
      ]
     },
     "execution_count": 62,
     "metadata": {},
     "output_type": "execute_result"
    }
   ],
   "source": [
    "len(seq_counts_df)"
   ]
  },
  {
   "cell_type": "markdown",
   "metadata": {},
   "source": [
    "## populate counts columns"
   ]
  },
  {
   "cell_type": "code",
   "execution_count": 63,
   "metadata": {},
   "outputs": [],
   "source": [
    "number_cols_to_displace = 2\n",
    "\n",
    "for row_index in range(len(seq_counts_df['bin'])):\n",
    "    count_col = seq_counts_df.columns[int(seq_counts_df['bin'][row_index])+number_cols_to_displace]\n",
    "    seq_counts_df.loc[row_index,count_col] = 1\n",
    "\n",
    "    "
   ]
  },
  {
   "cell_type": "code",
   "execution_count": 64,
   "metadata": {},
   "outputs": [
    {
     "data": {
      "text/html": [
       "<div>\n",
       "<style scoped>\n",
       "    .dataframe tbody tr th:only-of-type {\n",
       "        vertical-align: middle;\n",
       "    }\n",
       "\n",
       "    .dataframe tbody tr th {\n",
       "        vertical-align: top;\n",
       "    }\n",
       "\n",
       "    .dataframe thead th {\n",
       "        text-align: right;\n",
       "    }\n",
       "</style>\n",
       "<table border=\"1\" class=\"dataframe\">\n",
       "  <thead>\n",
       "    <tr style=\"text-align: right;\">\n",
       "      <th></th>\n",
       "      <th>bin</th>\n",
       "      <th>seq</th>\n",
       "      <th>ct_0</th>\n",
       "      <th>ct_1</th>\n",
       "      <th>ct_2</th>\n",
       "      <th>ct_3</th>\n",
       "      <th>ct_4</th>\n",
       "      <th>ct_5</th>\n",
       "      <th>ct_6</th>\n",
       "      <th>ct_7</th>\n",
       "      <th>...</th>\n",
       "      <th>ct_10</th>\n",
       "      <th>ct_11</th>\n",
       "      <th>ct_12</th>\n",
       "      <th>ct_13</th>\n",
       "      <th>ct_14</th>\n",
       "      <th>ct_15</th>\n",
       "      <th>ct_16</th>\n",
       "      <th>ct_17</th>\n",
       "      <th>ct_18</th>\n",
       "      <th>ct_19</th>\n",
       "    </tr>\n",
       "  </thead>\n",
       "  <tbody>\n",
       "    <tr>\n",
       "      <th>0</th>\n",
       "      <td>19</td>\n",
       "      <td>VDGV</td>\n",
       "      <td>0</td>\n",
       "      <td>0</td>\n",
       "      <td>0</td>\n",
       "      <td>0</td>\n",
       "      <td>0</td>\n",
       "      <td>0</td>\n",
       "      <td>0</td>\n",
       "      <td>0</td>\n",
       "      <td>...</td>\n",
       "      <td>0</td>\n",
       "      <td>0</td>\n",
       "      <td>0</td>\n",
       "      <td>0</td>\n",
       "      <td>0</td>\n",
       "      <td>0</td>\n",
       "      <td>0</td>\n",
       "      <td>0</td>\n",
       "      <td>0</td>\n",
       "      <td>1</td>\n",
       "    </tr>\n",
       "    <tr>\n",
       "      <th>1</th>\n",
       "      <td>19</td>\n",
       "      <td>ADGV</td>\n",
       "      <td>0</td>\n",
       "      <td>0</td>\n",
       "      <td>0</td>\n",
       "      <td>0</td>\n",
       "      <td>0</td>\n",
       "      <td>0</td>\n",
       "      <td>0</td>\n",
       "      <td>0</td>\n",
       "      <td>...</td>\n",
       "      <td>0</td>\n",
       "      <td>0</td>\n",
       "      <td>0</td>\n",
       "      <td>0</td>\n",
       "      <td>0</td>\n",
       "      <td>0</td>\n",
       "      <td>0</td>\n",
       "      <td>0</td>\n",
       "      <td>0</td>\n",
       "      <td>1</td>\n",
       "    </tr>\n",
       "    <tr>\n",
       "      <th>2</th>\n",
       "      <td>18</td>\n",
       "      <td>CDGV</td>\n",
       "      <td>0</td>\n",
       "      <td>0</td>\n",
       "      <td>0</td>\n",
       "      <td>0</td>\n",
       "      <td>0</td>\n",
       "      <td>0</td>\n",
       "      <td>0</td>\n",
       "      <td>0</td>\n",
       "      <td>...</td>\n",
       "      <td>0</td>\n",
       "      <td>0</td>\n",
       "      <td>0</td>\n",
       "      <td>0</td>\n",
       "      <td>0</td>\n",
       "      <td>0</td>\n",
       "      <td>0</td>\n",
       "      <td>0</td>\n",
       "      <td>1</td>\n",
       "      <td>0</td>\n",
       "    </tr>\n",
       "    <tr>\n",
       "      <th>3</th>\n",
       "      <td>18</td>\n",
       "      <td>DDGV</td>\n",
       "      <td>0</td>\n",
       "      <td>0</td>\n",
       "      <td>0</td>\n",
       "      <td>0</td>\n",
       "      <td>0</td>\n",
       "      <td>0</td>\n",
       "      <td>0</td>\n",
       "      <td>0</td>\n",
       "      <td>...</td>\n",
       "      <td>0</td>\n",
       "      <td>0</td>\n",
       "      <td>0</td>\n",
       "      <td>0</td>\n",
       "      <td>0</td>\n",
       "      <td>0</td>\n",
       "      <td>0</td>\n",
       "      <td>0</td>\n",
       "      <td>1</td>\n",
       "      <td>0</td>\n",
       "    </tr>\n",
       "    <tr>\n",
       "      <th>4</th>\n",
       "      <td>18</td>\n",
       "      <td>EDGV</td>\n",
       "      <td>0</td>\n",
       "      <td>0</td>\n",
       "      <td>0</td>\n",
       "      <td>0</td>\n",
       "      <td>0</td>\n",
       "      <td>0</td>\n",
       "      <td>0</td>\n",
       "      <td>0</td>\n",
       "      <td>...</td>\n",
       "      <td>0</td>\n",
       "      <td>0</td>\n",
       "      <td>0</td>\n",
       "      <td>0</td>\n",
       "      <td>0</td>\n",
       "      <td>0</td>\n",
       "      <td>0</td>\n",
       "      <td>0</td>\n",
       "      <td>1</td>\n",
       "      <td>0</td>\n",
       "    </tr>\n",
       "    <tr>\n",
       "      <th>5</th>\n",
       "      <td>19</td>\n",
       "      <td>FDGV</td>\n",
       "      <td>0</td>\n",
       "      <td>0</td>\n",
       "      <td>0</td>\n",
       "      <td>0</td>\n",
       "      <td>0</td>\n",
       "      <td>0</td>\n",
       "      <td>0</td>\n",
       "      <td>0</td>\n",
       "      <td>...</td>\n",
       "      <td>0</td>\n",
       "      <td>0</td>\n",
       "      <td>0</td>\n",
       "      <td>0</td>\n",
       "      <td>0</td>\n",
       "      <td>0</td>\n",
       "      <td>0</td>\n",
       "      <td>0</td>\n",
       "      <td>0</td>\n",
       "      <td>1</td>\n",
       "    </tr>\n",
       "    <tr>\n",
       "      <th>6</th>\n",
       "      <td>18</td>\n",
       "      <td>GDGV</td>\n",
       "      <td>0</td>\n",
       "      <td>0</td>\n",
       "      <td>0</td>\n",
       "      <td>0</td>\n",
       "      <td>0</td>\n",
       "      <td>0</td>\n",
       "      <td>0</td>\n",
       "      <td>0</td>\n",
       "      <td>...</td>\n",
       "      <td>0</td>\n",
       "      <td>0</td>\n",
       "      <td>0</td>\n",
       "      <td>0</td>\n",
       "      <td>0</td>\n",
       "      <td>0</td>\n",
       "      <td>0</td>\n",
       "      <td>0</td>\n",
       "      <td>1</td>\n",
       "      <td>0</td>\n",
       "    </tr>\n",
       "    <tr>\n",
       "      <th>7</th>\n",
       "      <td>17</td>\n",
       "      <td>HDGV</td>\n",
       "      <td>0</td>\n",
       "      <td>0</td>\n",
       "      <td>0</td>\n",
       "      <td>0</td>\n",
       "      <td>0</td>\n",
       "      <td>0</td>\n",
       "      <td>0</td>\n",
       "      <td>0</td>\n",
       "      <td>...</td>\n",
       "      <td>0</td>\n",
       "      <td>0</td>\n",
       "      <td>0</td>\n",
       "      <td>0</td>\n",
       "      <td>0</td>\n",
       "      <td>0</td>\n",
       "      <td>0</td>\n",
       "      <td>1</td>\n",
       "      <td>0</td>\n",
       "      <td>0</td>\n",
       "    </tr>\n",
       "    <tr>\n",
       "      <th>8</th>\n",
       "      <td>19</td>\n",
       "      <td>IDGV</td>\n",
       "      <td>0</td>\n",
       "      <td>0</td>\n",
       "      <td>0</td>\n",
       "      <td>0</td>\n",
       "      <td>0</td>\n",
       "      <td>0</td>\n",
       "      <td>0</td>\n",
       "      <td>0</td>\n",
       "      <td>...</td>\n",
       "      <td>0</td>\n",
       "      <td>0</td>\n",
       "      <td>0</td>\n",
       "      <td>0</td>\n",
       "      <td>0</td>\n",
       "      <td>0</td>\n",
       "      <td>0</td>\n",
       "      <td>0</td>\n",
       "      <td>0</td>\n",
       "      <td>1</td>\n",
       "    </tr>\n",
       "    <tr>\n",
       "      <th>9</th>\n",
       "      <td>17</td>\n",
       "      <td>KDGV</td>\n",
       "      <td>0</td>\n",
       "      <td>0</td>\n",
       "      <td>0</td>\n",
       "      <td>0</td>\n",
       "      <td>0</td>\n",
       "      <td>0</td>\n",
       "      <td>0</td>\n",
       "      <td>0</td>\n",
       "      <td>...</td>\n",
       "      <td>0</td>\n",
       "      <td>0</td>\n",
       "      <td>0</td>\n",
       "      <td>0</td>\n",
       "      <td>0</td>\n",
       "      <td>0</td>\n",
       "      <td>0</td>\n",
       "      <td>1</td>\n",
       "      <td>0</td>\n",
       "      <td>0</td>\n",
       "    </tr>\n",
       "  </tbody>\n",
       "</table>\n",
       "<p>10 rows × 22 columns</p>\n",
       "</div>"
      ],
      "text/plain": [
       "  bin   seq  ct_0  ct_1  ct_2  ct_3  ct_4  ct_5  ct_6  ct_7  ...    ct_10  \\\n",
       "0  19  VDGV     0     0     0     0     0     0     0     0  ...        0   \n",
       "1  19  ADGV     0     0     0     0     0     0     0     0  ...        0   \n",
       "2  18  CDGV     0     0     0     0     0     0     0     0  ...        0   \n",
       "3  18  DDGV     0     0     0     0     0     0     0     0  ...        0   \n",
       "4  18  EDGV     0     0     0     0     0     0     0     0  ...        0   \n",
       "5  19  FDGV     0     0     0     0     0     0     0     0  ...        0   \n",
       "6  18  GDGV     0     0     0     0     0     0     0     0  ...        0   \n",
       "7  17  HDGV     0     0     0     0     0     0     0     0  ...        0   \n",
       "8  19  IDGV     0     0     0     0     0     0     0     0  ...        0   \n",
       "9  17  KDGV     0     0     0     0     0     0     0     0  ...        0   \n",
       "\n",
       "   ct_11  ct_12  ct_13  ct_14  ct_15  ct_16  ct_17  ct_18  ct_19  \n",
       "0      0      0      0      0      0      0      0      0      1  \n",
       "1      0      0      0      0      0      0      0      0      1  \n",
       "2      0      0      0      0      0      0      0      1      0  \n",
       "3      0      0      0      0      0      0      0      1      0  \n",
       "4      0      0      0      0      0      0      0      1      0  \n",
       "5      0      0      0      0      0      0      0      0      1  \n",
       "6      0      0      0      0      0      0      0      1      0  \n",
       "7      0      0      0      0      0      0      1      0      0  \n",
       "8      0      0      0      0      0      0      0      0      1  \n",
       "9      0      0      0      0      0      0      1      0      0  \n",
       "\n",
       "[10 rows x 22 columns]"
      ]
     },
     "execution_count": 64,
     "metadata": {},
     "output_type": "execute_result"
    }
   ],
   "source": [
    "seq_counts_df.head(10)"
   ]
  },
  {
   "cell_type": "code",
   "execution_count": 66,
   "metadata": {},
   "outputs": [
    {
     "data": {
      "text/plain": [
       "149361"
      ]
     },
     "execution_count": 66,
     "metadata": {},
     "output_type": "execute_result"
    }
   ],
   "source": [
    "len(seq_counts_df)"
   ]
  },
  {
   "cell_type": "code",
   "execution_count": 67,
   "metadata": {
    "collapsed": true
   },
   "outputs": [],
   "source": [
    "seq_counts_df.to_csv('global_epistasis_gb1/GB1_mpathic_format_full.csv',sep='\\t')"
   ]
  },
  {
   "cell_type": "code",
   "execution_count": null,
   "metadata": {
    "collapsed": true
   },
   "outputs": [],
   "source": []
  },
  {
   "cell_type": "code",
   "execution_count": 72,
   "metadata": {},
   "outputs": [
    {
     "data": {
      "text/html": [
       "<div>\n",
       "<style scoped>\n",
       "    .dataframe tbody tr th:only-of-type {\n",
       "        vertical-align: middle;\n",
       "    }\n",
       "\n",
       "    .dataframe tbody tr th {\n",
       "        vertical-align: top;\n",
       "    }\n",
       "\n",
       "    .dataframe thead th {\n",
       "        text-align: right;\n",
       "    }\n",
       "</style>\n",
       "<table border=\"1\" class=\"dataframe\">\n",
       "  <thead>\n",
       "    <tr style=\"text-align: right;\">\n",
       "      <th></th>\n",
       "      <th>ct</th>\n",
       "      <th>ct_0</th>\n",
       "      <th>ct_1</th>\n",
       "      <th>ct_2</th>\n",
       "      <th>ct_3</th>\n",
       "      <th>ct_4</th>\n",
       "      <th>ct_5</th>\n",
       "      <th>ct_6</th>\n",
       "      <th>ct_7</th>\n",
       "      <th>ct_8</th>\n",
       "      <th>ct_9</th>\n",
       "      <th>seq_pro</th>\n",
       "      <th>val</th>\n",
       "    </tr>\n",
       "  </thead>\n",
       "  <tbody>\n",
       "    <tr>\n",
       "      <th>0</th>\n",
       "      <td>1</td>\n",
       "      <td>0</td>\n",
       "      <td>0</td>\n",
       "      <td>0</td>\n",
       "      <td>0</td>\n",
       "      <td>0</td>\n",
       "      <td>0</td>\n",
       "      <td>0</td>\n",
       "      <td>0</td>\n",
       "      <td>1</td>\n",
       "      <td>0</td>\n",
       "      <td>VDGV</td>\n",
       "      <td>0.045543</td>\n",
       "    </tr>\n",
       "    <tr>\n",
       "      <th>1</th>\n",
       "      <td>1</td>\n",
       "      <td>0</td>\n",
       "      <td>0</td>\n",
       "      <td>0</td>\n",
       "      <td>0</td>\n",
       "      <td>0</td>\n",
       "      <td>0</td>\n",
       "      <td>0</td>\n",
       "      <td>1</td>\n",
       "      <td>0</td>\n",
       "      <td>0</td>\n",
       "      <td>ADGV</td>\n",
       "      <td>0.045543</td>\n",
       "    </tr>\n",
       "    <tr>\n",
       "      <th>2</th>\n",
       "      <td>1</td>\n",
       "      <td>0</td>\n",
       "      <td>0</td>\n",
       "      <td>0</td>\n",
       "      <td>0</td>\n",
       "      <td>0</td>\n",
       "      <td>0</td>\n",
       "      <td>1</td>\n",
       "      <td>0</td>\n",
       "      <td>0</td>\n",
       "      <td>0</td>\n",
       "      <td>CDGV</td>\n",
       "      <td>0.045543</td>\n",
       "    </tr>\n",
       "    <tr>\n",
       "      <th>3</th>\n",
       "      <td>1</td>\n",
       "      <td>0</td>\n",
       "      <td>0</td>\n",
       "      <td>0</td>\n",
       "      <td>0</td>\n",
       "      <td>0</td>\n",
       "      <td>0</td>\n",
       "      <td>1</td>\n",
       "      <td>0</td>\n",
       "      <td>0</td>\n",
       "      <td>0</td>\n",
       "      <td>DDGV</td>\n",
       "      <td>0.045543</td>\n",
       "    </tr>\n",
       "    <tr>\n",
       "      <th>4</th>\n",
       "      <td>1</td>\n",
       "      <td>0</td>\n",
       "      <td>0</td>\n",
       "      <td>0</td>\n",
       "      <td>0</td>\n",
       "      <td>0</td>\n",
       "      <td>1</td>\n",
       "      <td>0</td>\n",
       "      <td>0</td>\n",
       "      <td>0</td>\n",
       "      <td>0</td>\n",
       "      <td>EDGV</td>\n",
       "      <td>0.045543</td>\n",
       "    </tr>\n",
       "  </tbody>\n",
       "</table>\n",
       "</div>"
      ],
      "text/plain": [
       "   ct  ct_0  ct_1  ct_2  ct_3  ct_4  ct_5  ct_6  ct_7  ct_8  ct_9 seq_pro  \\\n",
       "0   1     0     0     0     0     0     0     0     0     1     0    VDGV   \n",
       "1   1     0     0     0     0     0     0     0     1     0     0    ADGV   \n",
       "2   1     0     0     0     0     0     0     1     0     0     0    CDGV   \n",
       "3   1     0     0     0     0     0     0     1     0     0     0    DDGV   \n",
       "4   1     0     0     0     0     0     1     0     0     0     0    EDGV   \n",
       "\n",
       "        val  \n",
       "0  0.045543  \n",
       "1  0.045543  \n",
       "2  0.045543  \n",
       "3  0.045543  \n",
       "4  0.045543  "
      ]
     },
     "execution_count": 72,
     "metadata": {},
     "output_type": "execute_result"
    }
   ],
   "source": [
    "#temp_df['val_scaled'][0:10000]\n",
    "additive_trait_df = pd.read_csv('evaluated_model_full.csv',sep='\\t')\n",
    "del additive_trait_df['Unnamed: 0']\n",
    "additive_trait_df.head()"
   ]
  },
  {
   "cell_type": "code",
   "execution_count": 84,
   "metadata": {},
   "outputs": [
    {
     "data": {
      "text/plain": [
       "149359"
      ]
     },
     "execution_count": 84,
     "metadata": {},
     "output_type": "execute_result"
    }
   ],
   "source": [
    "len(additive_trait_df['val'])"
   ]
  },
  {
   "cell_type": "code",
   "execution_count": 80,
   "metadata": {},
   "outputs": [],
   "source": [
    "additive_trait = additive_trait_df['val']\n",
    "additive_trait_scaled = (additive_trait-min(additive_trait))/(max(additive_trait)-min(additive_trait))"
   ]
  },
  {
   "cell_type": "code",
   "execution_count": 81,
   "metadata": {},
   "outputs": [
    {
     "data": {
      "text/plain": [
       "149359"
      ]
     },
     "execution_count": 81,
     "metadata": {},
     "output_type": "execute_result"
    }
   ],
   "source": [
    "len(additive_trait_scaled)"
   ]
  },
  {
   "cell_type": "code",
   "execution_count": 83,
   "metadata": {},
   "outputs": [
    {
     "data": {
      "text/plain": [
       "149361"
      ]
     },
     "execution_count": 83,
     "metadata": {},
     "output_type": "execute_result"
    }
   ],
   "source": [
    "len(val_scaled)"
   ]
  },
  {
   "cell_type": "code",
   "execution_count": 247,
   "metadata": {},
   "outputs": [
    {
     "data": {
      "image/png": "[encoded data removed]",
      "text/plain": [
       "<Figure size 432x288 with 1 Axes>"
      ]
     },
     "metadata": {},
     "output_type": "display_data"
    }
   ],
   "source": [
    "plt.scatter(temp_df['val_scaled'][0:10000],additive_trait_df['val'])\n",
    "plt.show()"
   ]
  },
  {
   "cell_type": "code",
   "execution_count": null,
   "metadata": {
    "collapsed": true
   },
   "outputs": [],
   "source": []
  }
 ],
 "metadata": {
  "colab": {
   "collapsed_sections": [],
   "name": "motif_learn_convnet.ipynb",
   "provenance": [],
   "version": "0.3.2"
  },
  "kernelspec": {
   "display_name": "Python 3",
   "language": "python",
   "name": "python3"
  },
  "language_info": {
   "codemirror_mode": {
    "name": "ipython",
    "version": 3
   },
   "file_extension": ".py",
   "mimetype": "text/x-python",
   "name": "python",
   "nbconvert_exporter": "python",
   "pygments_lexer": "ipython3",
   "version": "3.6.2"
  }
 },
 "nbformat": 4,
 "nbformat_minor": 1
}
