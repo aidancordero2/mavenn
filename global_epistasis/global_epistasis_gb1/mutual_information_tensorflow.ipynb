{
 "cells": [
  {
   "cell_type": "code",
   "execution_count": 47,
   "metadata": {},
   "outputs": [
    {
     "name": "stdout",
     "output_type": "stream",
     "text": [
      "x: \n",
      "Tensor(\"random_uniform_18:0\", shape=(100, 784), dtype=float32)\n",
      "X:\n",
      "Tensor(\"Reshape_66:0\", shape=(100, 1, 784), dtype=float32)\n",
      "GX:\n",
      "Tensor(\"Reshape_67:0\", shape=(1, 20, 1), dtype=float32)\n",
      "x: \n",
      "Tensor(\"random_uniform_19:0\", shape=(100, 10), dtype=float32)\n",
      "X:\n",
      "Tensor(\"Reshape_68:0\", shape=(100, 1, 10), dtype=float32)\n",
      "GX:\n",
      "Tensor(\"Reshape_69:0\", shape=(1, 20, 1), dtype=float32)\n",
      "249.52713\n"
     ]
    }
   ],
   "source": [
    "import tensorflow as tf\n",
    "\n",
    "x = tf.random_uniform([100, 784], minval=0, maxval=1.0)\n",
    "y = tf.random_uniform([100, 10], minval=0, maxval=1.0)\n",
    "\n",
    "GRIDS = 20\n",
    "def core_function1d(x, y, grids = GRIDS):\n",
    "    return tf.maximum((1/(grids - 1)) - tf.abs(tf.subtract(x, y)), 0)\n",
    "\n",
    "def core_function2d(x1, x2, y1, y2, grids1 = GRIDS, grids2 = GRIDS):\n",
    "    return core_function1d(x1, y1, grids1) + core_function1d(x2, y2, grids1)\n",
    "\n",
    "def entropy1d(x, grids = GRIDS):\n",
    "    shape1 = [x.get_shape().as_list()[0], 1, x.get_shape().as_list()[1]]\n",
    "    shape2 = [1, grids, 1]\n",
    "\n",
    "    gx = tf.linspace(0.0, 1.0, grids)\n",
    "    print('x: ')\n",
    "    print(x)\n",
    "    X = tf.reshape(x, shape1)\n",
    "    GX = tf.reshape(gx, shape2)\n",
    "    print('X:')\n",
    "    print(X)\n",
    "    print('GX:')\n",
    "    print(GX)\n",
    "    mapping = core_function1d(GX, X, grids)\n",
    "    #print(mapping)\n",
    "    mapping = tf.reduce_sum(mapping, 0)\n",
    "    mapping = tf.add(mapping, 1e-10)\n",
    "    mapping_normalized = tf.divide(mapping, tf.reduce_sum(mapping, 0, keepdims = True))\n",
    "\n",
    "    entropy = tf.negative(tf.reduce_sum(tf.reduce_sum(tf.multiply(mapping_normalized, tf.log(mapping_normalized * grids)), 0)))\n",
    "\n",
    "    return entropy\n",
    "\n",
    "def entropy2d(x, y, gridsx = GRIDS, gridsy = GRIDS):\n",
    "    batch_size = x.get_shape().as_list()[0]\n",
    "    x_szie = x.get_shape().as_list()[1]\n",
    "    y_size = y.get_shape().as_list()[1]\n",
    "\n",
    "    gx = tf.linspace(0.0, 1.0, gridsx)\n",
    "    gy = tf.linspace(0.0, 1.0, gridsy)\n",
    "\n",
    "    X = tf.reshape(x, [batch_size, 1, 1, x_szie, 1])\n",
    "    Y = tf.reshape(y, [batch_size, 1, 1, 1, y_size])\n",
    "\n",
    "    GX = tf.reshape(gx, [1, gridsx, 1, 1, 1])\n",
    "    GY = tf.reshape(gy, [1, 1, gridsy, 1, 1])\n",
    "\n",
    "    mapping = core_function2d(GX, GY, X, Y, gridsx, gridsy)\n",
    "    mapping = tf.reduce_sum(mapping, 0)\n",
    "    mapping = tf.add(mapping, 1e-10)\n",
    "    mapping_normalized = tf.divide(mapping, tf.reduce_sum(mapping, [0, 1], keepdims = True))\n",
    "\n",
    "    entropy = tf.negative(tf.reduce_sum(tf.reduce_sum(tf.multiply(mapping_normalized, tf.log(mapping_normalized * (gridsx *gridsy))), [0, 1])))\n",
    "\n",
    "    return entropy\n",
    "\n",
    "def matul_info(x, y):\n",
    "    ex = entropy1d(x)\n",
    "    ey = entropy1d(y)\n",
    "    exy = entropy2d(x, y)\n",
    "    return ex + ey - exy\n",
    "\n",
    "multi_info = entropy1d(x) + entropy1d(y) - entropy2d(x, y)\n",
    "with tf.Session():\n",
    "    #print(x.eval())\n",
    "    print(multi_info.eval())"
   ]
  },
  {
   "cell_type": "code",
   "execution_count": 13,
   "metadata": {},
   "outputs": [
    {
     "data": {
      "text/plain": [
       "[100, 1, 784]"
      ]
     },
     "execution_count": 13,
     "metadata": {},
     "output_type": "execute_result"
    }
   ],
   "source": [
    "[x.get_shape().as_list()[0], 1, x.get_shape().as_list()[1]]"
   ]
  },
  {
   "cell_type": "code",
   "execution_count": 33,
   "metadata": {},
   "outputs": [],
   "source": [
    "import numpy as np\n",
    "x_py = np.random.randn(100,784)\n",
    "y_py = np.random.randn(100,10)\n"
   ]
  },
  {
   "cell_type": "code",
   "execution_count": 36,
   "metadata": {},
   "outputs": [],
   "source": [
    "GRIDS = 20\n",
    "def core_function1d_py(x, y, grids = GRIDS):\n",
    "    return np.max((1/(grids - 1)) - abs(x-y), 0)"
   ]
  },
  {
   "cell_type": "code",
   "execution_count": 49,
   "metadata": {},
   "outputs": [
    {
     "data": {
      "text/plain": [
       "['OVERLOADABLE_OPERATORS',\n",
       " '__abs__',\n",
       " '__add__',\n",
       " '__and__',\n",
       " '__array_priority__',\n",
       " '__bool__',\n",
       " '__class__',\n",
       " '__copy__',\n",
       " '__delattr__',\n",
       " '__dict__',\n",
       " '__dir__',\n",
       " '__div__',\n",
       " '__doc__',\n",
       " '__eq__',\n",
       " '__floordiv__',\n",
       " '__format__',\n",
       " '__ge__',\n",
       " '__getattribute__',\n",
       " '__getitem__',\n",
       " '__gt__',\n",
       " '__hash__',\n",
       " '__init__',\n",
       " '__init_subclass__',\n",
       " '__invert__',\n",
       " '__iter__',\n",
       " '__le__',\n",
       " '__lt__',\n",
       " '__matmul__',\n",
       " '__mod__',\n",
       " '__module__',\n",
       " '__mul__',\n",
       " '__ne__',\n",
       " '__neg__',\n",
       " '__new__',\n",
       " '__nonzero__',\n",
       " '__or__',\n",
       " '__pow__',\n",
       " '__radd__',\n",
       " '__rand__',\n",
       " '__rdiv__',\n",
       " '__reduce__',\n",
       " '__reduce_ex__',\n",
       " '__repr__',\n",
       " '__rfloordiv__',\n",
       " '__rmatmul__',\n",
       " '__rmod__',\n",
       " '__rmul__',\n",
       " '__ror__',\n",
       " '__rpow__',\n",
       " '__rsub__',\n",
       " '__rtruediv__',\n",
       " '__rxor__',\n",
       " '__setattr__',\n",
       " '__sizeof__',\n",
       " '__str__',\n",
       " '__sub__',\n",
       " '__subclasshook__',\n",
       " '__truediv__',\n",
       " '__weakref__',\n",
       " '__xor__',\n",
       " '_as_node_def_input',\n",
       " '_as_tf_output',\n",
       " '_c_api_shape',\n",
       " '_consumers',\n",
       " '_dtype',\n",
       " '_get_input_ops_without_shapes',\n",
       " '_id',\n",
       " '_op',\n",
       " '_override_operator',\n",
       " '_rank',\n",
       " '_shape',\n",
       " '_shape_as_list',\n",
       " '_shape_tuple',\n",
       " '_shape_val',\n",
       " '_tf_api_names',\n",
       " '_tf_api_names_v1',\n",
       " '_value_index',\n",
       " 'consumers',\n",
       " 'device',\n",
       " 'dtype',\n",
       " 'eval',\n",
       " 'get_shape',\n",
       " 'graph',\n",
       " 'name',\n",
       " 'op',\n",
       " 'set_shape',\n",
       " 'shape',\n",
       " 'value_index']"
      ]
     },
     "execution_count": 49,
     "metadata": {},
     "output_type": "execute_result"
    }
   ],
   "source": [
    "dir(x)"
   ]
  },
  {
   "cell_type": "code",
   "execution_count": 43,
   "metadata": {},
   "outputs": [
    {
     "data": {
      "text/plain": [
       "(784,)"
      ]
     },
     "execution_count": 43,
     "metadata": {},
     "output_type": "execute_result"
    }
   ],
   "source": [
    "np.shape(x_py[0])"
   ]
  },
  {
   "cell_type": "code",
   "execution_count": null,
   "metadata": {
    "collapsed": true
   },
   "outputs": [],
   "source": []
  }
 ],
 "metadata": {
  "colab": {
   "collapsed_sections": [],
   "name": "motif_learn_convnet.ipynb",
   "provenance": [],
   "version": "0.3.2"
  },
  "kernelspec": {
   "display_name": "Python 3",
   "language": "python",
   "name": "python3"
  },
  "language_info": {
   "codemirror_mode": {
    "name": "ipython",
    "version": 3
   },
   "file_extension": ".py",
   "mimetype": "text/x-python",
   "name": "python",
   "nbconvert_exporter": "python",
   "pygments_lexer": "ipython3",
   "version": "3.6.2"
  }
 },
 "nbformat": 4,
 "nbformat_minor": 1
}
