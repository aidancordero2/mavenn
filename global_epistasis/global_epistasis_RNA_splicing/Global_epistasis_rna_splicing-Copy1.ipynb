{
 "cells": [
  {
   "cell_type": "markdown",
   "metadata": {},
   "source": [
    "### Import libraries and read data"
   ]
  },
  {
   "cell_type": "code",
   "execution_count": 1,
   "metadata": {
    "collapsed": true
   },
   "outputs": [],
   "source": [
    "import pandas as pd\n",
    "import numpy as np\n",
    "import numpy as np\n",
    "import pandas as pd\n",
    "import matplotlib.pyplot as plt\n",
    "\n",
    "#input_data_ordered_raw =  pd.read_csv('rnap_scanned_over_ecoli_genome200k.csv')\n",
    "input_data_ordered_raw = pd.read_csv('psi_9nt.csv')\n",
    "#sequences = input_data_ordered_raw['seq'].tolist()"
   ]
  },
  {
   "cell_type": "code",
   "execution_count": 2,
   "metadata": {},
   "outputs": [
    {
     "data": {
      "text/html": [
       "<div>\n",
       "<style scoped>\n",
       "    .dataframe tbody tr th:only-of-type {\n",
       "        vertical-align: middle;\n",
       "    }\n",
       "\n",
       "    .dataframe tbody tr th {\n",
       "        vertical-align: top;\n",
       "    }\n",
       "\n",
       "    .dataframe thead th {\n",
       "        text-align: right;\n",
       "    }\n",
       "</style>\n",
       "<table border=\"1\" class=\"dataframe\">\n",
       "  <thead>\n",
       "    <tr style=\"text-align: right;\">\n",
       "      <th></th>\n",
       "      <th>seq</th>\n",
       "      <th>brca2_9nt</th>\n",
       "      <th>brca2_9nt_stderr</th>\n",
       "      <th>ikbkap_9nt</th>\n",
       "      <th>ikbkap_9nt_stderr</th>\n",
       "      <th>smn1_9nt</th>\n",
       "      <th>smn1_9nt_stderr</th>\n",
       "    </tr>\n",
       "  </thead>\n",
       "  <tbody>\n",
       "    <tr>\n",
       "      <th>0</th>\n",
       "      <td>AAAGCAAAA</td>\n",
       "      <td>0.373522</td>\n",
       "      <td>0.095217</td>\n",
       "      <td>0.080039</td>\n",
       "      <td>0.081333</td>\n",
       "      <td>0.227001</td>\n",
       "      <td>0.082164</td>\n",
       "    </tr>\n",
       "    <tr>\n",
       "      <th>1</th>\n",
       "      <td>AAAGCAAAC</td>\n",
       "      <td>0.688386</td>\n",
       "      <td>0.063575</td>\n",
       "      <td>0.061021</td>\n",
       "      <td>0.018316</td>\n",
       "      <td>0.522138</td>\n",
       "      <td>0.017503</td>\n",
       "    </tr>\n",
       "    <tr>\n",
       "      <th>2</th>\n",
       "      <td>AAAGCAAAG</td>\n",
       "      <td>0.756357</td>\n",
       "      <td>0.481555</td>\n",
       "      <td>0.045032</td>\n",
       "      <td>0.023374</td>\n",
       "      <td>0.210907</td>\n",
       "      <td>0.170688</td>\n",
       "    </tr>\n",
       "    <tr>\n",
       "      <th>3</th>\n",
       "      <td>AAAGCAAAU</td>\n",
       "      <td>0.443014</td>\n",
       "      <td>0.127961</td>\n",
       "      <td>0.071423</td>\n",
       "      <td>0.028762</td>\n",
       "      <td>0.232645</td>\n",
       "      <td>0.044371</td>\n",
       "    </tr>\n",
       "    <tr>\n",
       "      <th>4</th>\n",
       "      <td>AAAGCAACA</td>\n",
       "      <td>0.548363</td>\n",
       "      <td>0.140963</td>\n",
       "      <td>0.100128</td>\n",
       "      <td>0.071551</td>\n",
       "      <td>0.362139</td>\n",
       "      <td>0.127696</td>\n",
       "    </tr>\n",
       "  </tbody>\n",
       "</table>\n",
       "</div>"
      ],
      "text/plain": [
       "         seq  brca2_9nt  brca2_9nt_stderr  ikbkap_9nt  ikbkap_9nt_stderr  \\\n",
       "0  AAAGCAAAA   0.373522          0.095217    0.080039           0.081333   \n",
       "1  AAAGCAAAC   0.688386          0.063575    0.061021           0.018316   \n",
       "2  AAAGCAAAG   0.756357          0.481555    0.045032           0.023374   \n",
       "3  AAAGCAAAU   0.443014          0.127961    0.071423           0.028762   \n",
       "4  AAAGCAACA   0.548363          0.140963    0.100128           0.071551   \n",
       "\n",
       "   smn1_9nt  smn1_9nt_stderr  \n",
       "0  0.227001         0.082164  \n",
       "1  0.522138         0.017503  \n",
       "2  0.210907         0.170688  \n",
       "3  0.232645         0.044371  \n",
       "4  0.362139         0.127696  "
      ]
     },
     "execution_count": 2,
     "metadata": {},
     "output_type": "execute_result"
    }
   ],
   "source": [
    "input_data_ordered_raw.head()"
   ]
  },
  {
   "cell_type": "code",
   "execution_count": 3,
   "metadata": {},
   "outputs": [
    {
     "data": {
      "text/plain": [
       "32768"
      ]
     },
     "execution_count": 3,
     "metadata": {},
     "output_type": "execute_result"
    }
   ],
   "source": [
    "len(input_data_ordered_raw)"
   ]
  },
  {
   "cell_type": "markdown",
   "metadata": {},
   "source": [
    "## Remove nan rows from dataframe"
   ]
  },
  {
   "cell_type": "code",
   "execution_count": 4,
   "metadata": {
    "collapsed": true
   },
   "outputs": [],
   "source": [
    "input_data_ordered_raw = input_data_ordered_raw.dropna()"
   ]
  },
  {
   "cell_type": "code",
   "execution_count": 5,
   "metadata": {
    "collapsed": true
   },
   "outputs": [],
   "source": [
    "sequences = input_data_ordered_raw['seq']\n",
    "#val = input_data_ordered_raw['brca2_9nt']\n",
    "val = input_data_ordered_raw['smn1_9nt']"
   ]
  },
  {
   "cell_type": "code",
   "execution_count": 6,
   "metadata": {},
   "outputs": [
    {
     "data": {
      "image/png": "[encoded data removed]",
      "text/plain": [
       "<Figure size 432x288 with 1 Axes>"
      ]
     },
     "metadata": {},
     "output_type": "display_data"
    }
   ],
   "source": [
    "val_norm = (val-min(val))/(max(val)-min(val))\n",
    "plt.hist(np.log(val_norm+1e-10),bins=100)\n",
    "#plt.hist(val,bins=40)\n",
    "plt.show()"
   ]
  },
  {
   "cell_type": "code",
   "execution_count": 7,
   "metadata": {},
   "outputs": [
    {
     "data": {
      "text/plain": [
       "24831"
      ]
     },
     "execution_count": 7,
     "metadata": {},
     "output_type": "execute_result"
    }
   ],
   "source": [
    "len(sequences)"
   ]
  },
  {
   "cell_type": "code",
   "execution_count": 8,
   "metadata": {
    "collapsed": true
   },
   "outputs": [],
   "source": [
    "#np.random.seed(0)"
   ]
  },
  {
   "cell_type": "code",
   "execution_count": 9,
   "metadata": {
    "collapsed": true
   },
   "outputs": [],
   "source": [
    "T = 300\n",
    "t_max = 15\n",
    "t_bg = 0.01\n",
    "\n",
    "size_of_data = 10000\n",
    "#size_of_data = len(sequences)\n",
    "\n",
    "input_data_ordered_raw_copy = input_data_ordered_raw[0:size_of_data].copy()\n",
    "\n",
    "#temp = np.exp(-(np.array(input_data_ordered_raw['val'][0:size_of_data]))/T)/(1+np.exp(-(np.array(input_data_ordered_raw['val'][0:size_of_data]))/T))\n",
    "#plt.hist(t_max*temp+t_bg,bins=100)\n",
    "#plt.show()\n",
    "#np.array(input_data_ordered_raw['val'][0:100000])\n"
   ]
  },
  {
   "cell_type": "markdown",
   "metadata": {},
   "source": [
    "### Add transcription column to dataframe"
   ]
  },
  {
   "cell_type": "code",
   "execution_count": 10,
   "metadata": {
    "collapsed": true
   },
   "outputs": [],
   "source": [
    "#input_data_ordered_raw_copy['t'] = t_max*temp+t_bg"
   ]
  },
  {
   "cell_type": "code",
   "execution_count": 11,
   "metadata": {},
   "outputs": [
    {
     "data": {
      "text/html": [
       "<div>\n",
       "<style scoped>\n",
       "    .dataframe tbody tr th:only-of-type {\n",
       "        vertical-align: middle;\n",
       "    }\n",
       "\n",
       "    .dataframe tbody tr th {\n",
       "        vertical-align: top;\n",
       "    }\n",
       "\n",
       "    .dataframe thead th {\n",
       "        text-align: right;\n",
       "    }\n",
       "</style>\n",
       "<table border=\"1\" class=\"dataframe\">\n",
       "  <thead>\n",
       "    <tr style=\"text-align: right;\">\n",
       "      <th></th>\n",
       "      <th>seq</th>\n",
       "      <th>brca2_9nt</th>\n",
       "      <th>brca2_9nt_stderr</th>\n",
       "      <th>ikbkap_9nt</th>\n",
       "      <th>ikbkap_9nt_stderr</th>\n",
       "      <th>smn1_9nt</th>\n",
       "      <th>smn1_9nt_stderr</th>\n",
       "    </tr>\n",
       "  </thead>\n",
       "  <tbody>\n",
       "    <tr>\n",
       "      <th>0</th>\n",
       "      <td>AAAGCAAAA</td>\n",
       "      <td>0.373522</td>\n",
       "      <td>0.095217</td>\n",
       "      <td>0.080039</td>\n",
       "      <td>0.081333</td>\n",
       "      <td>0.227001</td>\n",
       "      <td>0.082164</td>\n",
       "    </tr>\n",
       "    <tr>\n",
       "      <th>1</th>\n",
       "      <td>AAAGCAAAC</td>\n",
       "      <td>0.688386</td>\n",
       "      <td>0.063575</td>\n",
       "      <td>0.061021</td>\n",
       "      <td>0.018316</td>\n",
       "      <td>0.522138</td>\n",
       "      <td>0.017503</td>\n",
       "    </tr>\n",
       "    <tr>\n",
       "      <th>2</th>\n",
       "      <td>AAAGCAAAG</td>\n",
       "      <td>0.756357</td>\n",
       "      <td>0.481555</td>\n",
       "      <td>0.045032</td>\n",
       "      <td>0.023374</td>\n",
       "      <td>0.210907</td>\n",
       "      <td>0.170688</td>\n",
       "    </tr>\n",
       "    <tr>\n",
       "      <th>3</th>\n",
       "      <td>AAAGCAAAU</td>\n",
       "      <td>0.443014</td>\n",
       "      <td>0.127961</td>\n",
       "      <td>0.071423</td>\n",
       "      <td>0.028762</td>\n",
       "      <td>0.232645</td>\n",
       "      <td>0.044371</td>\n",
       "    </tr>\n",
       "    <tr>\n",
       "      <th>4</th>\n",
       "      <td>AAAGCAACA</td>\n",
       "      <td>0.548363</td>\n",
       "      <td>0.140963</td>\n",
       "      <td>0.100128</td>\n",
       "      <td>0.071551</td>\n",
       "      <td>0.362139</td>\n",
       "      <td>0.127696</td>\n",
       "    </tr>\n",
       "  </tbody>\n",
       "</table>\n",
       "</div>"
      ],
      "text/plain": [
       "         seq  brca2_9nt  brca2_9nt_stderr  ikbkap_9nt  ikbkap_9nt_stderr  \\\n",
       "0  AAAGCAAAA   0.373522          0.095217    0.080039           0.081333   \n",
       "1  AAAGCAAAC   0.688386          0.063575    0.061021           0.018316   \n",
       "2  AAAGCAAAG   0.756357          0.481555    0.045032           0.023374   \n",
       "3  AAAGCAAAU   0.443014          0.127961    0.071423           0.028762   \n",
       "4  AAAGCAACA   0.548363          0.140963    0.100128           0.071551   \n",
       "\n",
       "   smn1_9nt  smn1_9nt_stderr  \n",
       "0  0.227001         0.082164  \n",
       "1  0.522138         0.017503  \n",
       "2  0.210907         0.170688  \n",
       "3  0.232645         0.044371  \n",
       "4  0.362139         0.127696  "
      ]
     },
     "execution_count": 11,
     "metadata": {},
     "output_type": "execute_result"
    }
   ],
   "source": [
    "input_data_ordered_raw_copy.head()"
   ]
  },
  {
   "cell_type": "code",
   "execution_count": 12,
   "metadata": {},
   "outputs": [
    {
     "data": {
      "text/html": [
       "<div>\n",
       "<style scoped>\n",
       "    .dataframe tbody tr th:only-of-type {\n",
       "        vertical-align: middle;\n",
       "    }\n",
       "\n",
       "    .dataframe tbody tr th {\n",
       "        vertical-align: top;\n",
       "    }\n",
       "\n",
       "    .dataframe thead th {\n",
       "        text-align: right;\n",
       "    }\n",
       "</style>\n",
       "<table border=\"1\" class=\"dataframe\">\n",
       "  <thead>\n",
       "    <tr style=\"text-align: right;\">\n",
       "      <th></th>\n",
       "      <th>seq</th>\n",
       "      <th>brca2_9nt</th>\n",
       "      <th>brca2_9nt_stderr</th>\n",
       "      <th>ikbkap_9nt</th>\n",
       "      <th>ikbkap_9nt_stderr</th>\n",
       "      <th>smn1_9nt</th>\n",
       "      <th>smn1_9nt_stderr</th>\n",
       "    </tr>\n",
       "  </thead>\n",
       "  <tbody>\n",
       "    <tr>\n",
       "      <th>0</th>\n",
       "      <td>AAAGCAAAA</td>\n",
       "      <td>0.373522</td>\n",
       "      <td>0.095217</td>\n",
       "      <td>0.080039</td>\n",
       "      <td>0.081333</td>\n",
       "      <td>0.227001</td>\n",
       "      <td>0.082164</td>\n",
       "    </tr>\n",
       "    <tr>\n",
       "      <th>1</th>\n",
       "      <td>AAAGCAAAC</td>\n",
       "      <td>0.688386</td>\n",
       "      <td>0.063575</td>\n",
       "      <td>0.061021</td>\n",
       "      <td>0.018316</td>\n",
       "      <td>0.522138</td>\n",
       "      <td>0.017503</td>\n",
       "    </tr>\n",
       "    <tr>\n",
       "      <th>2</th>\n",
       "      <td>AAAGCAAAG</td>\n",
       "      <td>0.756357</td>\n",
       "      <td>0.481555</td>\n",
       "      <td>0.045032</td>\n",
       "      <td>0.023374</td>\n",
       "      <td>0.210907</td>\n",
       "      <td>0.170688</td>\n",
       "    </tr>\n",
       "    <tr>\n",
       "      <th>3</th>\n",
       "      <td>AAAGCAAAU</td>\n",
       "      <td>0.443014</td>\n",
       "      <td>0.127961</td>\n",
       "      <td>0.071423</td>\n",
       "      <td>0.028762</td>\n",
       "      <td>0.232645</td>\n",
       "      <td>0.044371</td>\n",
       "    </tr>\n",
       "    <tr>\n",
       "      <th>4</th>\n",
       "      <td>AAAGCAACA</td>\n",
       "      <td>0.548363</td>\n",
       "      <td>0.140963</td>\n",
       "      <td>0.100128</td>\n",
       "      <td>0.071551</td>\n",
       "      <td>0.362139</td>\n",
       "      <td>0.127696</td>\n",
       "    </tr>\n",
       "    <tr>\n",
       "      <th>5</th>\n",
       "      <td>AAAGCAACC</td>\n",
       "      <td>0.591136</td>\n",
       "      <td>0.114070</td>\n",
       "      <td>0.027130</td>\n",
       "      <td>0.033875</td>\n",
       "      <td>0.238895</td>\n",
       "      <td>0.038632</td>\n",
       "    </tr>\n",
       "    <tr>\n",
       "      <th>6</th>\n",
       "      <td>AAAGCAACG</td>\n",
       "      <td>17.174981</td>\n",
       "      <td>18.820321</td>\n",
       "      <td>0.113262</td>\n",
       "      <td>0.051988</td>\n",
       "      <td>5.151112</td>\n",
       "      <td>3.780424</td>\n",
       "    </tr>\n",
       "    <tr>\n",
       "      <th>7</th>\n",
       "      <td>AAAGCAACU</td>\n",
       "      <td>0.692794</td>\n",
       "      <td>0.236551</td>\n",
       "      <td>0.028119</td>\n",
       "      <td>0.140126</td>\n",
       "      <td>0.551798</td>\n",
       "      <td>0.044548</td>\n",
       "    </tr>\n",
       "    <tr>\n",
       "      <th>8</th>\n",
       "      <td>AAAGCAAGA</td>\n",
       "      <td>0.495872</td>\n",
       "      <td>0.087332</td>\n",
       "      <td>0.044701</td>\n",
       "      <td>0.047041</td>\n",
       "      <td>3.465294</td>\n",
       "      <td>0.934357</td>\n",
       "    </tr>\n",
       "    <tr>\n",
       "      <th>9</th>\n",
       "      <td>AAAGCAAGC</td>\n",
       "      <td>0.344958</td>\n",
       "      <td>0.047195</td>\n",
       "      <td>0.000000</td>\n",
       "      <td>0.088926</td>\n",
       "      <td>0.872352</td>\n",
       "      <td>0.457953</td>\n",
       "    </tr>\n",
       "  </tbody>\n",
       "</table>\n",
       "</div>"
      ],
      "text/plain": [
       "         seq  brca2_9nt  brca2_9nt_stderr  ikbkap_9nt  ikbkap_9nt_stderr  \\\n",
       "0  AAAGCAAAA   0.373522          0.095217    0.080039           0.081333   \n",
       "1  AAAGCAAAC   0.688386          0.063575    0.061021           0.018316   \n",
       "2  AAAGCAAAG   0.756357          0.481555    0.045032           0.023374   \n",
       "3  AAAGCAAAU   0.443014          0.127961    0.071423           0.028762   \n",
       "4  AAAGCAACA   0.548363          0.140963    0.100128           0.071551   \n",
       "5  AAAGCAACC   0.591136          0.114070    0.027130           0.033875   \n",
       "6  AAAGCAACG  17.174981         18.820321    0.113262           0.051988   \n",
       "7  AAAGCAACU   0.692794          0.236551    0.028119           0.140126   \n",
       "8  AAAGCAAGA   0.495872          0.087332    0.044701           0.047041   \n",
       "9  AAAGCAAGC   0.344958          0.047195    0.000000           0.088926   \n",
       "\n",
       "   smn1_9nt  smn1_9nt_stderr  \n",
       "0  0.227001         0.082164  \n",
       "1  0.522138         0.017503  \n",
       "2  0.210907         0.170688  \n",
       "3  0.232645         0.044371  \n",
       "4  0.362139         0.127696  \n",
       "5  0.238895         0.038632  \n",
       "6  5.151112         3.780424  \n",
       "7  0.551798         0.044548  \n",
       "8  3.465294         0.934357  \n",
       "9  0.872352         0.457953  "
      ]
     },
     "execution_count": 12,
     "metadata": {},
     "output_type": "execute_result"
    }
   ],
   "source": [
    "input_data_ordered_raw_copy.head(10)"
   ]
  },
  {
   "cell_type": "markdown",
   "metadata": {},
   "source": [
    "## Split the data into test and train"
   ]
  },
  {
   "cell_type": "code",
   "execution_count": 13,
   "metadata": {
    "collapsed": true
   },
   "outputs": [],
   "source": [
    "from sklearn.model_selection import train_test_split"
   ]
  },
  {
   "cell_type": "code",
   "execution_count": 14,
   "metadata": {
    "collapsed": true
   },
   "outputs": [],
   "source": [
    "x_train, x_test, y_train, y_test = train_test_split(sequences,val_norm,test_size=0.2)\n",
    "#x_train, x_test, y_train, y_test = train_test_split(sequences,val,test_size=0.2)\n",
    "\n"
   ]
  },
  {
   "cell_type": "code",
   "execution_count": 15,
   "metadata": {},
   "outputs": [
    {
     "data": {
      "image/png": "[encoded data removed]",
      "text/plain": [
       "<Figure size 432x288 with 1 Axes>"
      ]
     },
     "metadata": {},
     "output_type": "display_data"
    }
   ],
   "source": [
    "plt.hist(y_train,bins=100,color='r',density=True,alpha=0.5)\n",
    "plt.hist(y_test,bins=100,color='b',density=True,alpha=0.5)\n",
    "plt.show()"
   ]
  },
  {
   "cell_type": "markdown",
   "metadata": {},
   "source": [
    "## One-hot encode the data ... this takes a few minutes"
   ]
  },
  {
   "cell_type": "code",
   "execution_count": 16,
   "metadata": {
    "collapsed": true
   },
   "outputs": [],
   "source": [
    "temp_x_train = []\n",
    "temp_x_test = []\n",
    "\n",
    "for reshape_index in range(len(x_train)):\n",
    "    temp_x_train.append(list(np.array(x_train)[reshape_index]))\n",
    "\n",
    "for reshape_test_index in range(len(x_test)):\n",
    "    temp_x_test.append(list(np.array(x_test)[reshape_test_index]))\n",
    "    \n",
    "x_train = temp_x_train\n",
    "x_test = temp_x_test\n",
    "\n",
    "x_train = np.array(x_train)\n",
    "x_test = np.array(x_test)"
   ]
  },
  {
   "cell_type": "code",
   "execution_count": 17,
   "metadata": {},
   "outputs": [
    {
     "data": {
      "text/plain": [
       "array(['U', 'G', 'C', 'G', 'C', 'G', 'C', 'C', 'G'], dtype='<U1')"
      ]
     },
     "execution_count": 17,
     "metadata": {},
     "output_type": "execute_result"
    }
   ],
   "source": [
    "x_train[0]"
   ]
  },
  {
   "cell_type": "code",
   "execution_count": 18,
   "metadata": {
    "collapsed": true
   },
   "outputs": [],
   "source": [
    "#base_dict = {\"K\":0, \"R\":1, \"H\":2, \"E\":3, \"D\":4, \"N\":5, \"Q\":6, \"T\":7, \"S\":8, \"C\":9, \"G\":10, \"A\":11, \"V\":12, \"L\":13, \"I\":14, \"M\":15, \"P\":16, \"Y\":17, \"F\":18, \"W\":19}\n",
    "base_dict = {'A': 0, 'C': 1, 'G': 2, 'U': 3}"
   ]
  },
  {
   "cell_type": "code",
   "execution_count": 19,
   "metadata": {
    "collapsed": true
   },
   "outputs": [],
   "source": [
    "test_size = len(y_test)"
   ]
  },
  {
   "cell_type": "code",
   "execution_count": 20,
   "metadata": {},
   "outputs": [
    {
     "data": {
      "text/plain": [
       "4967"
      ]
     },
     "execution_count": 20,
     "metadata": {},
     "output_type": "execute_result"
    }
   ],
   "source": [
    "test_size"
   ]
  },
  {
   "cell_type": "code",
   "execution_count": 21,
   "metadata": {
    "collapsed": true
   },
   "outputs": [],
   "source": [
    "x_train_tensor = np.zeros(list(x_train.shape) + [4])    # shape: (batch_size, 4)\n",
    "x_test_tensor = np.zeros(list(x_test.shape) + [4])    # shape: (batch_size, 4)\n",
    "#base_dict = {\"K\":0, \"R\":1, \"H\":2, \"E\":3, \"D\":4, \"N\":5, \"Q\":6, \"T\":7, \"S\":8, \"C\":9, \"G\":10, \"A\":11, \"V\":12, \"L\":13, \"I\":14, \"M\":15, \"P\":16, \"Y\":17, \"F\":18, \"W\":19}\n",
    "base_dict = {'A': 0, 'C': 1, 'G': 2, 'U': 3}\n",
    "\n",
    "#base_dict = {'A': 0, 'C': 1, 'G': 2, 'T': 3}\n",
    "num_sample = len(x_train_tensor)\n",
    "seq_length = len(x_train[0])\n",
    "test_size = len(x_test)\n",
    "\n",
    "\n",
    "#naive one-hot encoding\n",
    "for row in range(num_sample):\n",
    "    for col in range(seq_length):\n",
    "        x_train_tensor[row,col,base_dict[x_train[row,col]]] = 1\n",
    "        if(row<test_size):\n",
    "            x_test_tensor[row,col,base_dict[x_test[row,col]]] = 1\n"
   ]
  },
  {
   "cell_type": "code",
   "execution_count": 22,
   "metadata": {},
   "outputs": [
    {
     "name": "stdout",
     "output_type": "stream",
     "text": [
      "Training set shape: (19864, 9, 4)\n",
      "Training set label shape: (19864,)\n",
      "Test set shape: (4967, 9, 4)\n",
      "Test set label shape: (4967,)\n"
     ]
    }
   ],
   "source": [
    "print('Training set shape: {}'.format(x_train_tensor.shape))\n",
    "print('Training set label shape: {}'.format(y_train.shape))\n",
    "\n",
    "print('Test set shape: {}'.format(x_test_tensor.shape))\n",
    "print('Test set label shape: {}'.format(y_test.shape))"
   ]
  },
  {
   "cell_type": "code",
   "execution_count": 23,
   "metadata": {},
   "outputs": [
    {
     "data": {
      "text/plain": [
       "array([0., 0., 1., 0.])"
      ]
     },
     "execution_count": 23,
     "metadata": {},
     "output_type": "execute_result"
    }
   ],
   "source": [
    "#REGG\n",
    "x_train_tensor[0][3]\n"
   ]
  },
  {
   "cell_type": "code",
   "execution_count": 24,
   "metadata": {},
   "outputs": [
    {
     "data": {
      "text/plain": [
       "(19864,)"
      ]
     },
     "execution_count": 24,
     "metadata": {},
     "output_type": "execute_result"
    }
   ],
   "source": [
    "y_train.shape"
   ]
  },
  {
   "cell_type": "code",
   "execution_count": 25,
   "metadata": {
    "collapsed": true
   },
   "outputs": [],
   "source": [
    "y_train = np.array(y_train).reshape(y_train.shape[0],1)"
   ]
  },
  {
   "cell_type": "markdown",
   "metadata": {},
   "source": [
    "## Custom error metric"
   ]
  },
  {
   "cell_type": "code",
   "execution_count": 46,
   "metadata": {
    "collapsed": true
   },
   "outputs": [],
   "source": [
    "# coefficient of determination (R^2) for regression\n",
    "def r_square(y_true, y_pred):\n",
    "    from keras import backend as K\n",
    "    SS_res =  K.sum(K.square(y_true - y_pred)) \n",
    "    SS_tot = K.sum(K.square(y_true - K.mean(y_true))) \n",
    "    return (1 - SS_res/(SS_tot + K.epsilon()))"
   ]
  },
  {
   "cell_type": "markdown",
   "metadata": {},
   "source": [
    "## Custom Loss"
   ]
  },
  {
   "cell_type": "code",
   "execution_count": 47,
   "metadata": {
    "collapsed": true
   },
   "outputs": [],
   "source": [
    "import keras.backend as K\n",
    "import tensorflow as tf\n",
    "\n",
    "K.clear_session()"
   ]
  },
  {
   "cell_type": "code",
   "execution_count": 48,
   "metadata": {
    "collapsed": true
   },
   "outputs": [],
   "source": [
    "from keras.models import Sequential \n",
    "from keras.layers import Dense, Activation, Flatten, Dropout \n",
    "from keras import regularizers\n",
    "from keras.optimizers import SGD, Adam, RMSprop\n",
    "\n",
    "model = Sequential() \n",
    "model.add(Flatten())\n",
    "model.add(Dense(1, activation='linear'))\n",
    "model.add(Dense(3, activation='sigmoid'))\n",
    "#model.add(Dense(50, activation='relu'))\n",
    "model.add(Dense(1, activation='linear'))\n",
    "\n",
    "sgd = SGD(lr=0.0001, momentum=0.0, decay=0.0, nesterov=False)"
   ]
  },
  {
   "cell_type": "code",
   "execution_count": 49,
   "metadata": {
    "collapsed": true
   },
   "outputs": [],
   "source": [
    "#model.compile(loss='mean_squared_error',optimizer=sgd, metrics=['mean_absolute_error'])\n",
    "model.compile(loss='mean_squared_error',optimizer=Adam(lr=0.0001), metrics=['mean_absolute_error'])"
   ]
  },
  {
   "cell_type": "code",
   "execution_count": 50,
   "metadata": {},
   "outputs": [
    {
     "name": "stdout",
     "output_type": "stream",
     "text": [
      "Train on 15891 samples, validate on 3973 samples\n",
      "Epoch 1/60\n",
      "15891/15891 [==============================] - 1s 40us/step - loss: 0.9367 - mean_absolute_error: 0.9561 - val_loss: 0.7648 - val_mean_absolute_error: 0.8645\n",
      "Epoch 2/60\n",
      "15891/15891 [==============================] - 0s 31us/step - loss: 0.6210 - mean_absolute_error: 0.7750 - val_loss: 0.4966 - val_mean_absolute_error: 0.6929\n",
      "Epoch 3/60\n",
      "15891/15891 [==============================] - 0s 28us/step - loss: 0.3890 - mean_absolute_error: 0.6098 - val_loss: 0.2994 - val_mean_absolute_error: 0.5363\n",
      "Epoch 4/60\n",
      "15891/15891 [==============================] - 0s 27us/step - loss: 0.2286 - mean_absolute_error: 0.4666 - val_loss: 0.1720 - val_mean_absolute_error: 0.4063\n",
      "Epoch 5/60\n",
      "15891/15891 [==============================] - 0s 26us/step - loss: 0.1295 - mean_absolute_error: 0.3508 - val_loss: 0.0961 - val_mean_absolute_error: 0.3027\n",
      "Epoch 6/60\n",
      "15891/15891 [==============================] - 0s 27us/step - loss: 0.0722 - mean_absolute_error: 0.2595 - val_loss: 0.0536 - val_mean_absolute_error: 0.2219\n",
      "Epoch 7/60\n",
      "15891/15891 [==============================] - 0s 30us/step - loss: 0.0410 - mean_absolute_error: 0.1891 - val_loss: 0.0311 - val_mean_absolute_error: 0.1603\n",
      "Epoch 8/60\n",
      "15891/15891 [==============================] - 0s 27us/step - loss: 0.0253 - mean_absolute_error: 0.1370 - val_loss: 0.0203 - val_mean_absolute_error: 0.1163\n",
      "Epoch 9/60\n",
      "15891/15891 [==============================] - 0s 26us/step - loss: 0.0182 - mean_absolute_error: 0.1015 - val_loss: 0.0157 - val_mean_absolute_error: 0.0875\n",
      "Epoch 10/60\n",
      "15891/15891 [==============================] - 0s 26us/step - loss: 0.0154 - mean_absolute_error: 0.0793 - val_loss: 0.0140 - val_mean_absolute_error: 0.0704\n",
      "Epoch 11/60\n",
      "15891/15891 [==============================] - 0s 27us/step - loss: 0.0145 - mean_absolute_error: 0.0668 - val_loss: 0.0134 - val_mean_absolute_error: 0.0620\n",
      "Epoch 12/60\n",
      "15891/15891 [==============================] - 0s 27us/step - loss: 0.0141 - mean_absolute_error: 0.0610 - val_loss: 0.0131 - val_mean_absolute_error: 0.0583\n",
      "Epoch 13/60\n",
      "15891/15891 [==============================] - 0s 26us/step - loss: 0.0139 - mean_absolute_error: 0.0584 - val_loss: 0.0129 - val_mean_absolute_error: 0.0569\n",
      "Epoch 14/60\n",
      "15891/15891 [==============================] - 0s 26us/step - loss: 0.0137 - mean_absolute_error: 0.0577 - val_loss: 0.0127 - val_mean_absolute_error: 0.0558\n",
      "Epoch 15/60\n",
      "15891/15891 [==============================] - 0s 26us/step - loss: 0.0135 - mean_absolute_error: 0.0571 - val_loss: 0.0125 - val_mean_absolute_error: 0.0552\n",
      "Epoch 16/60\n",
      "15891/15891 [==============================] - 0s 27us/step - loss: 0.0133 - mean_absolute_error: 0.0566 - val_loss: 0.0123 - val_mean_absolute_error: 0.0543\n",
      "Epoch 17/60\n",
      "15891/15891 [==============================] - 0s 26us/step - loss: 0.0131 - mean_absolute_error: 0.0558 - val_loss: 0.0121 - val_mean_absolute_error: 0.0546\n",
      "Epoch 18/60\n",
      "15891/15891 [==============================] - 0s 26us/step - loss: 0.0130 - mean_absolute_error: 0.0560 - val_loss: 0.0120 - val_mean_absolute_error: 0.0536\n",
      "Epoch 19/60\n",
      "15891/15891 [==============================] - 0s 26us/step - loss: 0.0128 - mean_absolute_error: 0.0554 - val_loss: 0.0119 - val_mean_absolute_error: 0.0538\n",
      "Epoch 20/60\n",
      "15891/15891 [==============================] - 0s 26us/step - loss: 0.0127 - mean_absolute_error: 0.0552 - val_loss: 0.0118 - val_mean_absolute_error: 0.0533\n",
      "Epoch 21/60\n",
      "15891/15891 [==============================] - 0s 26us/step - loss: 0.0126 - mean_absolute_error: 0.0548 - val_loss: 0.0117 - val_mean_absolute_error: 0.0538\n",
      "Epoch 22/60\n",
      "15891/15891 [==============================] - 0s 26us/step - loss: 0.0125 - mean_absolute_error: 0.0547 - val_loss: 0.0116 - val_mean_absolute_error: 0.0536\n",
      "Epoch 23/60\n",
      "15891/15891 [==============================] - 0s 26us/step - loss: 0.0124 - mean_absolute_error: 0.0546 - val_loss: 0.0115 - val_mean_absolute_error: 0.0531\n",
      "Epoch 24/60\n",
      "15891/15891 [==============================] - 0s 26us/step - loss: 0.0123 - mean_absolute_error: 0.0543 - val_loss: 0.0114 - val_mean_absolute_error: 0.0529\n",
      "Epoch 25/60\n",
      "15891/15891 [==============================] - 0s 27us/step - loss: 0.0122 - mean_absolute_error: 0.0540 - val_loss: 0.0113 - val_mean_absolute_error: 0.0531\n",
      "Epoch 26/60\n",
      "15891/15891 [==============================] - 0s 26us/step - loss: 0.0121 - mean_absolute_error: 0.0542 - val_loss: 0.0112 - val_mean_absolute_error: 0.0514\n",
      "Epoch 27/60\n",
      "15891/15891 [==============================] - 0s 26us/step - loss: 0.0120 - mean_absolute_error: 0.0535 - val_loss: 0.0110 - val_mean_absolute_error: 0.0505\n",
      "Epoch 28/60\n",
      "15891/15891 [==============================] - 0s 26us/step - loss: 0.0117 - mean_absolute_error: 0.0530 - val_loss: 0.0108 - val_mean_absolute_error: 0.0509\n",
      "Epoch 29/60\n",
      "15891/15891 [==============================] - 0s 31us/step - loss: 0.0115 - mean_absolute_error: 0.0522 - val_loss: 0.0106 - val_mean_absolute_error: 0.0531\n",
      "Epoch 30/60\n",
      "15891/15891 [==============================] - 1s 35us/step - loss: 0.0112 - mean_absolute_error: 0.0523 - val_loss: 0.0103 - val_mean_absolute_error: 0.0492\n",
      "Epoch 31/60\n",
      "15891/15891 [==============================] - 0s 28us/step - loss: 0.0109 - mean_absolute_error: 0.0509 - val_loss: 0.0101 - val_mean_absolute_error: 0.0503\n",
      "Epoch 32/60\n",
      "15891/15891 [==============================] - 0s 29us/step - loss: 0.0106 - mean_absolute_error: 0.0510 - val_loss: 0.0098 - val_mean_absolute_error: 0.0482\n",
      "Epoch 33/60\n",
      "15891/15891 [==============================] - 0s 27us/step - loss: 0.0103 - mean_absolute_error: 0.0503 - val_loss: 0.0096 - val_mean_absolute_error: 0.0507\n",
      "Epoch 34/60\n",
      "15891/15891 [==============================] - 0s 26us/step - loss: 0.0100 - mean_absolute_error: 0.0511 - val_loss: 0.0094 - val_mean_absolute_error: 0.0489\n",
      "Epoch 35/60\n",
      "15891/15891 [==============================] - 0s 29us/step - loss: 0.0098 - mean_absolute_error: 0.0508 - val_loss: 0.0092 - val_mean_absolute_error: 0.0502\n",
      "Epoch 36/60\n",
      "15891/15891 [==============================] - 0s 30us/step - loss: 0.0097 - mean_absolute_error: 0.0515 - val_loss: 0.0091 - val_mean_absolute_error: 0.0497\n",
      "Epoch 37/60\n",
      "15891/15891 [==============================] - 0s 27us/step - loss: 0.0095 - mean_absolute_error: 0.0515 - val_loss: 0.0089 - val_mean_absolute_error: 0.0501\n",
      "Epoch 38/60\n",
      "15891/15891 [==============================] - 1s 31us/step - loss: 0.0094 - mean_absolute_error: 0.0516 - val_loss: 0.0088 - val_mean_absolute_error: 0.0511\n",
      "Epoch 39/60\n",
      "15891/15891 [==============================] - 0s 31us/step - loss: 0.0092 - mean_absolute_error: 0.0519 - val_loss: 0.0087 - val_mean_absolute_error: 0.0503\n",
      "Epoch 40/60\n",
      "15891/15891 [==============================] - 0s 31us/step - loss: 0.0091 - mean_absolute_error: 0.0517 - val_loss: 0.0086 - val_mean_absolute_error: 0.0505\n",
      "Epoch 41/60\n",
      "15891/15891 [==============================] - 0s 27us/step - loss: 0.0090 - mean_absolute_error: 0.0516 - val_loss: 0.0085 - val_mean_absolute_error: 0.0502\n",
      "Epoch 42/60\n",
      "15891/15891 [==============================] - 0s 27us/step - loss: 0.0089 - mean_absolute_error: 0.0512 - val_loss: 0.0084 - val_mean_absolute_error: 0.0498\n",
      "Epoch 43/60\n",
      "15891/15891 [==============================] - 0s 27us/step - loss: 0.0088 - mean_absolute_error: 0.0509 - val_loss: 0.0082 - val_mean_absolute_error: 0.0493\n",
      "Epoch 44/60\n",
      "15891/15891 [==============================] - 0s 26us/step - loss: 0.0087 - mean_absolute_error: 0.0503 - val_loss: 0.0081 - val_mean_absolute_error: 0.0489\n",
      "Epoch 45/60\n",
      "15891/15891 [==============================] - 0s 27us/step - loss: 0.0085 - mean_absolute_error: 0.0499 - val_loss: 0.0080 - val_mean_absolute_error: 0.0483\n",
      "Epoch 46/60\n",
      "15891/15891 [==============================] - 0s 27us/step - loss: 0.0084 - mean_absolute_error: 0.0493 - val_loss: 0.0079 - val_mean_absolute_error: 0.0480\n",
      "Epoch 47/60\n",
      "15891/15891 [==============================] - 0s 26us/step - loss: 0.0083 - mean_absolute_error: 0.0487 - val_loss: 0.0078 - val_mean_absolute_error: 0.0474\n",
      "Epoch 48/60\n",
      "15891/15891 [==============================] - 0s 27us/step - loss: 0.0082 - mean_absolute_error: 0.0481 - val_loss: 0.0076 - val_mean_absolute_error: 0.0465\n"
     ]
    },
    {
     "name": "stdout",
     "output_type": "stream",
     "text": [
      "Epoch 49/60\n",
      "15891/15891 [==============================] - 0s 26us/step - loss: 0.0080 - mean_absolute_error: 0.0473 - val_loss: 0.0075 - val_mean_absolute_error: 0.0461\n",
      "Epoch 50/60\n",
      "15891/15891 [==============================] - 0s 25us/step - loss: 0.0079 - mean_absolute_error: 0.0466 - val_loss: 0.0074 - val_mean_absolute_error: 0.0450\n",
      "Epoch 51/60\n",
      "15891/15891 [==============================] - 0s 26us/step - loss: 0.0078 - mean_absolute_error: 0.0457 - val_loss: 0.0072 - val_mean_absolute_error: 0.0442\n",
      "Epoch 52/60\n",
      "15891/15891 [==============================] - 0s 26us/step - loss: 0.0076 - mean_absolute_error: 0.0450 - val_loss: 0.0071 - val_mean_absolute_error: 0.0428\n",
      "Epoch 53/60\n",
      "15891/15891 [==============================] - 0s 25us/step - loss: 0.0075 - mean_absolute_error: 0.0440 - val_loss: 0.0069 - val_mean_absolute_error: 0.0418\n",
      "Epoch 54/60\n",
      "15891/15891 [==============================] - 0s 25us/step - loss: 0.0074 - mean_absolute_error: 0.0431 - val_loss: 0.0068 - val_mean_absolute_error: 0.0412\n",
      "Epoch 55/60\n",
      "15891/15891 [==============================] - 0s 26us/step - loss: 0.0072 - mean_absolute_error: 0.0425 - val_loss: 0.0067 - val_mean_absolute_error: 0.0401\n",
      "Epoch 56/60\n",
      "15891/15891 [==============================] - 0s 26us/step - loss: 0.0071 - mean_absolute_error: 0.0418 - val_loss: 0.0065 - val_mean_absolute_error: 0.0411\n",
      "Epoch 57/60\n",
      "15891/15891 [==============================] - 0s 26us/step - loss: 0.0070 - mean_absolute_error: 0.0415 - val_loss: 0.0064 - val_mean_absolute_error: 0.0405\n",
      "Epoch 58/60\n",
      "15891/15891 [==============================] - 0s 25us/step - loss: 0.0068 - mean_absolute_error: 0.0410 - val_loss: 0.0063 - val_mean_absolute_error: 0.0395\n",
      "Epoch 59/60\n",
      "15891/15891 [==============================] - 0s 26us/step - loss: 0.0067 - mean_absolute_error: 0.0406 - val_loss: 0.0062 - val_mean_absolute_error: 0.0387\n",
      "Epoch 60/60\n",
      "15891/15891 [==============================] - 0s 26us/step - loss: 0.0066 - mean_absolute_error: 0.0402 - val_loss: 0.0060 - val_mean_absolute_error: 0.0376\n"
     ]
    }
   ],
   "source": [
    "#history = model.fit(x_train_flat, y_train, validation_split=0.2, epochs=25)  # starts training\n",
    "history = model.fit(x_train_tensor, y_train, validation_split=0.2, epochs=60)  # starts training"
   ]
  },
  {
   "cell_type": "code",
   "execution_count": 51,
   "metadata": {},
   "outputs": [
    {
     "data": {
      "image/png": "[encoded data removed]",
      "text/plain": [
       "<Figure size 432x288 with 1 Axes>"
      ]
     },
     "metadata": {},
     "output_type": "display_data"
    }
   ],
   "source": [
    "plt.figure()\n",
    "plt.plot(history.history['loss'],color='blue')\n",
    "plt.plot(history.history['val_loss'],color='orange')\n",
    "plt.title('Model loss',fontsize=12)\n",
    "plt.ylabel('loss',fontsize=12)\n",
    "plt.xlabel('epoch',fontsize=12)\n",
    "plt.legend(['train', 'validation'])\n",
    "#plt.savefig('Write_up/model_loss.png')\n",
    "plt.show()"
   ]
  },
  {
   "cell_type": "code",
   "execution_count": 52,
   "metadata": {},
   "outputs": [
    {
     "data": {
      "image/png": "[encoded data removed]",
      "text/plain": [
       "<Figure size 432x288 with 1 Axes>"
      ]
     },
     "metadata": {},
     "output_type": "display_data"
    }
   ],
   "source": [
    "plt.figure()\n",
    "plt.plot(history.history['mean_absolute_error'],color='blue')\n",
    "plt.plot(history.history['val_mean_absolute_error'],color='orange')\n",
    "#plt.title('Model loss',fontsize=12)\n",
    "#plt.ylabel('loss',fontsize=12)\n",
    "plt.xlabel('epoch',fontsize=12)\n",
    "plt.legend(['train', 'validation'])\n",
    "#plt.savefig('Write_up/model_loss.png')\n",
    "plt.show()"
   ]
  },
  {
   "cell_type": "code",
   "execution_count": 53,
   "metadata": {},
   "outputs": [
    {
     "data": {
      "text/plain": [
       "\"\\nplt.figure()\\nplt.plot(history.history['r_square'],color='blue')\\nplt.plot(history.history['val_r_square'],color='orange')\\n#plt.title('Model loss',fontsize=12)\\n#plt.ylabel('loss',fontsize=12)\\nplt.xlabel('epoch',fontsize=12)\\nplt.legend(['train', 'validation'])\\n#plt.savefig('Write_up/model_loss.png')\\nplt.show()\\n\""
      ]
     },
     "execution_count": 53,
     "metadata": {},
     "output_type": "execute_result"
    }
   ],
   "source": [
    "'''\n",
    "plt.figure()\n",
    "plt.plot(history.history['r_square'],color='blue')\n",
    "plt.plot(history.history['val_r_square'],color='orange')\n",
    "#plt.title('Model loss',fontsize=12)\n",
    "#plt.ylabel('loss',fontsize=12)\n",
    "plt.xlabel('epoch',fontsize=12)\n",
    "plt.legend(['train', 'validation'])\n",
    "#plt.savefig('Write_up/model_loss.png')\n",
    "plt.show()\n",
    "'''"
   ]
  },
  {
   "cell_type": "code",
   "execution_count": 54,
   "metadata": {
    "collapsed": true
   },
   "outputs": [],
   "source": [
    "#model_prediction = model.predict(x_test_flat)\n",
    "model_prediction = model.predict(x_test_tensor)"
   ]
  },
  {
   "cell_type": "code",
   "execution_count": 55,
   "metadata": {},
   "outputs": [
    {
     "name": "stdout",
     "output_type": "stream",
     "text": [
      "_________________________________________________________________\n",
      "Layer (type)                 Output Shape              Param #   \n",
      "=================================================================\n",
      "flatten_1 (Flatten)          (None, 36)                0         \n",
      "_________________________________________________________________\n",
      "dense_1 (Dense)              (None, 1)                 37        \n",
      "_________________________________________________________________\n",
      "dense_2 (Dense)              (None, 3)                 6         \n",
      "_________________________________________________________________\n",
      "dense_3 (Dense)              (None, 1)                 4         \n",
      "=================================================================\n",
      "Total params: 47\n",
      "Trainable params: 47\n",
      "Non-trainable params: 0\n",
      "_________________________________________________________________\n"
     ]
    }
   ],
   "source": [
    "model.summary()"
   ]
  },
  {
   "cell_type": "code",
   "execution_count": 56,
   "metadata": {
    "collapsed": true
   },
   "outputs": [],
   "source": [
    "model.layers\n",
    "get_1st_layer_output = K.function([model.layers[0].input],[model.layers[1].output])\n",
    "layer_output = get_1st_layer_output([x_test_tensor])"
   ]
  },
  {
   "cell_type": "code",
   "execution_count": null,
   "metadata": {
    "collapsed": true
   },
   "outputs": [],
   "source": []
  },
  {
   "cell_type": "code",
   "execution_count": 57,
   "metadata": {},
   "outputs": [
    {
     "data": {
      "text/plain": [
       "(4967, 1)"
      ]
     },
     "execution_count": 57,
     "metadata": {},
     "output_type": "execute_result"
    }
   ],
   "source": [
    "layer_output = np.array(layer_output)\n",
    "layer_output = layer_output.reshape(np.shape(layer_output)[1],1)\n",
    "np.shape(layer_output)"
   ]
  },
  {
   "cell_type": "code",
   "execution_count": 58,
   "metadata": {},
   "outputs": [
    {
     "data": {
      "image/png": "[encoded data removed]",
      "text/plain": [
       "<Figure size 432x288 with 1 Axes>"
      ]
     },
     "metadata": {},
     "output_type": "display_data"
    }
   ],
   "source": [
    "plt.scatter(layer_output,model_prediction,alpha=1.0,s=1.5,color='black')\n",
    "plt.xlabel('Linear trait')\n",
    "plt.ylabel('NN Output')\n",
    "#plt.plot([0,1],color='black',linewidth=3,alpha=0.75)\n",
    "plt.show()"
   ]
  },
  {
   "cell_type": "code",
   "execution_count": 59,
   "metadata": {
    "collapsed": true
   },
   "outputs": [],
   "source": [
    "y_test = np.array(y_test).reshape(-1,1)"
   ]
  },
  {
   "cell_type": "code",
   "execution_count": 66,
   "metadata": {},
   "outputs": [
    {
     "data": {
      "image/png": "[encoded data removed]",
      "text/plain": [
       "<Figure size 576x432 with 1 Axes>"
      ]
     },
     "metadata": {},
     "output_type": "display_data"
    }
   ],
   "source": [
    "plt.figure\n",
    "figure_size = [8,6]\n",
    "plt.figure(figsize=figure_size)\n",
    "plt.title('RNA Splicing data: RNA sequences vs. PSI: smn1_9nt ', fontsize=12)\n",
    "plt.scatter(-layer_output,y_test,alpha=0.5,s=3,color='gray', label='True values vs. additive trait')\n",
    "plt.scatter(-layer_output,model_prediction,alpha=1,s=7.5,color='black', label='NN output vs. additive trait')\n",
    "plt.xlabel('Additive trait',fontsize=12)\n",
    "plt.ylabel('Neural Network Prediction',fontsize=12)\n",
    "plt.tick_params(labelsize=12)\n",
    "plt.legend(fontsize=12)\n",
    "\n",
    "plt.show()"
   ]
  },
  {
   "cell_type": "code",
   "execution_count": 61,
   "metadata": {
    "collapsed": true
   },
   "outputs": [],
   "source": [
    "#np.savetxt('hidden_layer_out.txt',layer_output)\n",
    "#np.savetxt('test_labels.txt',y_test)\n",
    "#np.savetxt('NN_out.txt',model_prediction)"
   ]
  },
  {
   "cell_type": "code",
   "execution_count": 74,
   "metadata": {},
   "outputs": [
    {
     "data": {
      "image/png": "[encoded data removed]",
      "text/plain": [
       "<Figure size 432x288 with 1 Axes>"
      ]
     },
     "metadata": {},
     "output_type": "display_data"
    }
   ],
   "source": [
    "plt.hist(model_prediction,color='r',alpha=0.5,density=True,bins=50)\n",
    "plt.hist(y_test,color='b',alpha=0.5,density=True,bins=50)\n",
    "#plt.hist(model_prediction,bins=100,color='b',alpha=0.5)\n",
    "plt.show()"
   ]
  },
  {
   "cell_type": "code",
   "execution_count": 63,
   "metadata": {},
   "outputs": [
    {
     "data": {
      "image/png": "[encoded data removed]",
      "text/plain": [
       "<Figure size 432x288 with 1 Axes>"
      ]
     },
     "metadata": {},
     "output_type": "display_data"
    }
   ],
   "source": [
    "#plt.scatter(y_test,model_prediction,alpha=0.5)\n",
    "plt.scatter(model_prediction,y_test,alpha=1.0,s=1.5,color='red')\n",
    "plt.xlabel('Test Label')\n",
    "plt.ylabel('NN Prediction')\n",
    "#plt.plot([0,1],color='black',linewidth=3,alpha=0.75)\n",
    "#plt.xlim([0.3,0.8])\n",
    "plt.show()"
   ]
  },
  {
   "cell_type": "code",
   "execution_count": 64,
   "metadata": {},
   "outputs": [
    {
     "name": "stdout",
     "output_type": "stream",
     "text": [
      "_________________________________________________________________\n",
      "Layer (type)                 Output Shape              Param #   \n",
      "=================================================================\n",
      "flatten_1 (Flatten)          (None, 36)                0         \n",
      "_________________________________________________________________\n",
      "dense_1 (Dense)              (None, 1)                 37        \n",
      "_________________________________________________________________\n",
      "dense_2 (Dense)              (None, 3)                 6         \n",
      "_________________________________________________________________\n",
      "dense_3 (Dense)              (None, 1)                 4         \n",
      "=================================================================\n",
      "Total params: 47\n",
      "Trainable params: 47\n",
      "Non-trainable params: 0\n",
      "_________________________________________________________________\n"
     ]
    }
   ],
   "source": [
    "model.summary()"
   ]
  },
  {
   "cell_type": "code",
   "execution_count": 65,
   "metadata": {
    "collapsed": true
   },
   "outputs": [],
   "source": [
    "from keras.models import load_model\n",
    "\n",
    "#model.save('ann_rna_splicing_brca.h5')  # creates a HDF5 file 'my_model.h5'\n",
    "#del model  # deletes the existing model\n",
    "\n",
    "# returns a compiled model\n",
    "# identical to the previous one\n",
    "#model = load_model('ann_delta_g_regression_40k_trian.h5')\n",
    "#model = load_model('train_90k_test_5k_10_filters_1Convlayer.h5')"
   ]
  },
  {
   "cell_type": "code",
   "execution_count": null,
   "metadata": {
    "collapsed": true
   },
   "outputs": [],
   "source": []
  }
 ],
 "metadata": {
  "colab": {
   "collapsed_sections": [],
   "name": "motif_learn_convnet.ipynb",
   "provenance": [],
   "version": "0.3.2"
  },
  "kernelspec": {
   "display_name": "Python 3",
   "language": "python",
   "name": "python3"
  },
  "language_info": {
   "codemirror_mode": {
    "name": "ipython",
    "version": 3
   },
   "file_extension": ".py",
   "mimetype": "text/x-python",
   "name": "python",
   "nbconvert_exporter": "python",
   "pygments_lexer": "ipython3",
   "version": "3.6.2"
  }
 },
 "nbformat": 4,
 "nbformat_minor": 1
}
