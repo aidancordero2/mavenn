{
 "cells": [
  {
   "cell_type": "code",
   "execution_count": null,
   "metadata": {
    "collapsed": true
   },
   "outputs": [],
   "source": []
  },
  {
   "cell_type": "markdown",
   "metadata": {},
   "source": [
    "### Import libraries and read data"
   ]
  },
  {
   "cell_type": "code",
   "execution_count": 1,
   "metadata": {},
   "outputs": [
    {
     "ename": "FileNotFoundError",
     "evalue": "File b'global_epistasis_RNA_splicing/psi_9nt.csv' does not exist",
     "output_type": "error",
     "traceback": [
      "\u001b[0;31m---------------------------------------------------------------------------\u001b[0m",
      "\u001b[0;31mFileNotFoundError\u001b[0m                         Traceback (most recent call last)",
      "\u001b[0;32m<ipython-input-1-300e7a1e8d45>\u001b[0m in \u001b[0;36m<module>\u001b[0;34m()\u001b[0m\n\u001b[1;32m      8\u001b[0m \u001b[0;34m\u001b[0m\u001b[0m\n\u001b[1;32m      9\u001b[0m \u001b[0;31m#input_data_ordered_raw =  pd.read_csv('rnap_scanned_over_ecoli_genome200k.csv')\u001b[0m\u001b[0;34m\u001b[0m\u001b[0;34m\u001b[0m\u001b[0m\n\u001b[0;32m---> 10\u001b[0;31m \u001b[0minput_data_ordered_raw\u001b[0m \u001b[0;34m=\u001b[0m \u001b[0mpd\u001b[0m\u001b[0;34m.\u001b[0m\u001b[0mread_csv\u001b[0m\u001b[0;34m(\u001b[0m\u001b[0;34m'global_epistasis_RNA_splicing/psi_9nt.csv'\u001b[0m\u001b[0;34m)\u001b[0m\u001b[0;34m\u001b[0m\u001b[0m\n\u001b[0m\u001b[1;32m     11\u001b[0m \u001b[0;31m# remove nan's\u001b[0m\u001b[0;34m\u001b[0m\u001b[0;34m\u001b[0m\u001b[0m\n\u001b[1;32m     12\u001b[0m \u001b[0minput_data_ordered_raw\u001b[0m \u001b[0;34m=\u001b[0m \u001b[0minput_data_ordered_raw\u001b[0m\u001b[0;34m.\u001b[0m\u001b[0mdropna\u001b[0m\u001b[0;34m(\u001b[0m\u001b[0;34m)\u001b[0m\u001b[0;34m\u001b[0m\u001b[0m\n",
      "\u001b[0;32m/usr/local/Cellar/python3/3.6.2/Frameworks/Python.framework/Versions/3.6/lib/python3.6/site-packages/pandas/io/parsers.py\u001b[0m in \u001b[0;36mparser_f\u001b[0;34m(filepath_or_buffer, sep, delimiter, header, names, index_col, usecols, squeeze, prefix, mangle_dupe_cols, dtype, engine, converters, true_values, false_values, skipinitialspace, skiprows, nrows, na_values, keep_default_na, na_filter, verbose, skip_blank_lines, parse_dates, infer_datetime_format, keep_date_col, date_parser, dayfirst, iterator, chunksize, compression, thousands, decimal, lineterminator, quotechar, quoting, escapechar, comment, encoding, dialect, tupleize_cols, error_bad_lines, warn_bad_lines, skipfooter, skip_footer, doublequote, delim_whitespace, as_recarray, compact_ints, use_unsigned, low_memory, buffer_lines, memory_map, float_precision)\u001b[0m\n\u001b[1;32m    707\u001b[0m                     skip_blank_lines=skip_blank_lines)\n\u001b[1;32m    708\u001b[0m \u001b[0;34m\u001b[0m\u001b[0m\n\u001b[0;32m--> 709\u001b[0;31m         \u001b[0;32mreturn\u001b[0m \u001b[0m_read\u001b[0m\u001b[0;34m(\u001b[0m\u001b[0mfilepath_or_buffer\u001b[0m\u001b[0;34m,\u001b[0m \u001b[0mkwds\u001b[0m\u001b[0;34m)\u001b[0m\u001b[0;34m\u001b[0m\u001b[0m\n\u001b[0m\u001b[1;32m    710\u001b[0m \u001b[0;34m\u001b[0m\u001b[0m\n\u001b[1;32m    711\u001b[0m     \u001b[0mparser_f\u001b[0m\u001b[0;34m.\u001b[0m\u001b[0m__name__\u001b[0m \u001b[0;34m=\u001b[0m \u001b[0mname\u001b[0m\u001b[0;34m\u001b[0m\u001b[0m\n",
      "\u001b[0;32m/usr/local/Cellar/python3/3.6.2/Frameworks/Python.framework/Versions/3.6/lib/python3.6/site-packages/pandas/io/parsers.py\u001b[0m in \u001b[0;36m_read\u001b[0;34m(filepath_or_buffer, kwds)\u001b[0m\n\u001b[1;32m    447\u001b[0m \u001b[0;34m\u001b[0m\u001b[0m\n\u001b[1;32m    448\u001b[0m     \u001b[0;31m# Create the parser.\u001b[0m\u001b[0;34m\u001b[0m\u001b[0;34m\u001b[0m\u001b[0m\n\u001b[0;32m--> 449\u001b[0;31m     \u001b[0mparser\u001b[0m \u001b[0;34m=\u001b[0m \u001b[0mTextFileReader\u001b[0m\u001b[0;34m(\u001b[0m\u001b[0mfilepath_or_buffer\u001b[0m\u001b[0;34m,\u001b[0m \u001b[0;34m**\u001b[0m\u001b[0mkwds\u001b[0m\u001b[0;34m)\u001b[0m\u001b[0;34m\u001b[0m\u001b[0m\n\u001b[0m\u001b[1;32m    450\u001b[0m \u001b[0;34m\u001b[0m\u001b[0m\n\u001b[1;32m    451\u001b[0m     \u001b[0;32mif\u001b[0m \u001b[0mchunksize\u001b[0m \u001b[0;32mor\u001b[0m \u001b[0miterator\u001b[0m\u001b[0;34m:\u001b[0m\u001b[0;34m\u001b[0m\u001b[0m\n",
      "\u001b[0;32m/usr/local/Cellar/python3/3.6.2/Frameworks/Python.framework/Versions/3.6/lib/python3.6/site-packages/pandas/io/parsers.py\u001b[0m in \u001b[0;36m__init__\u001b[0;34m(self, f, engine, **kwds)\u001b[0m\n\u001b[1;32m    816\u001b[0m             \u001b[0mself\u001b[0m\u001b[0;34m.\u001b[0m\u001b[0moptions\u001b[0m\u001b[0;34m[\u001b[0m\u001b[0;34m'has_index_names'\u001b[0m\u001b[0;34m]\u001b[0m \u001b[0;34m=\u001b[0m \u001b[0mkwds\u001b[0m\u001b[0;34m[\u001b[0m\u001b[0;34m'has_index_names'\u001b[0m\u001b[0;34m]\u001b[0m\u001b[0;34m\u001b[0m\u001b[0m\n\u001b[1;32m    817\u001b[0m \u001b[0;34m\u001b[0m\u001b[0m\n\u001b[0;32m--> 818\u001b[0;31m         \u001b[0mself\u001b[0m\u001b[0;34m.\u001b[0m\u001b[0m_make_engine\u001b[0m\u001b[0;34m(\u001b[0m\u001b[0mself\u001b[0m\u001b[0;34m.\u001b[0m\u001b[0mengine\u001b[0m\u001b[0;34m)\u001b[0m\u001b[0;34m\u001b[0m\u001b[0m\n\u001b[0m\u001b[1;32m    819\u001b[0m \u001b[0;34m\u001b[0m\u001b[0m\n\u001b[1;32m    820\u001b[0m     \u001b[0;32mdef\u001b[0m \u001b[0mclose\u001b[0m\u001b[0;34m(\u001b[0m\u001b[0mself\u001b[0m\u001b[0;34m)\u001b[0m\u001b[0;34m:\u001b[0m\u001b[0;34m\u001b[0m\u001b[0m\n",
      "\u001b[0;32m/usr/local/Cellar/python3/3.6.2/Frameworks/Python.framework/Versions/3.6/lib/python3.6/site-packages/pandas/io/parsers.py\u001b[0m in \u001b[0;36m_make_engine\u001b[0;34m(self, engine)\u001b[0m\n\u001b[1;32m   1047\u001b[0m     \u001b[0;32mdef\u001b[0m \u001b[0m_make_engine\u001b[0m\u001b[0;34m(\u001b[0m\u001b[0mself\u001b[0m\u001b[0;34m,\u001b[0m \u001b[0mengine\u001b[0m\u001b[0;34m=\u001b[0m\u001b[0;34m'c'\u001b[0m\u001b[0;34m)\u001b[0m\u001b[0;34m:\u001b[0m\u001b[0;34m\u001b[0m\u001b[0m\n\u001b[1;32m   1048\u001b[0m         \u001b[0;32mif\u001b[0m \u001b[0mengine\u001b[0m \u001b[0;34m==\u001b[0m \u001b[0;34m'c'\u001b[0m\u001b[0;34m:\u001b[0m\u001b[0;34m\u001b[0m\u001b[0m\n\u001b[0;32m-> 1049\u001b[0;31m             \u001b[0mself\u001b[0m\u001b[0;34m.\u001b[0m\u001b[0m_engine\u001b[0m \u001b[0;34m=\u001b[0m \u001b[0mCParserWrapper\u001b[0m\u001b[0;34m(\u001b[0m\u001b[0mself\u001b[0m\u001b[0;34m.\u001b[0m\u001b[0mf\u001b[0m\u001b[0;34m,\u001b[0m \u001b[0;34m**\u001b[0m\u001b[0mself\u001b[0m\u001b[0;34m.\u001b[0m\u001b[0moptions\u001b[0m\u001b[0;34m)\u001b[0m\u001b[0;34m\u001b[0m\u001b[0m\n\u001b[0m\u001b[1;32m   1050\u001b[0m         \u001b[0;32melse\u001b[0m\u001b[0;34m:\u001b[0m\u001b[0;34m\u001b[0m\u001b[0m\n\u001b[1;32m   1051\u001b[0m             \u001b[0;32mif\u001b[0m \u001b[0mengine\u001b[0m \u001b[0;34m==\u001b[0m \u001b[0;34m'python'\u001b[0m\u001b[0;34m:\u001b[0m\u001b[0;34m\u001b[0m\u001b[0m\n",
      "\u001b[0;32m/usr/local/Cellar/python3/3.6.2/Frameworks/Python.framework/Versions/3.6/lib/python3.6/site-packages/pandas/io/parsers.py\u001b[0m in \u001b[0;36m__init__\u001b[0;34m(self, src, **kwds)\u001b[0m\n\u001b[1;32m   1693\u001b[0m         \u001b[0mkwds\u001b[0m\u001b[0;34m[\u001b[0m\u001b[0;34m'allow_leading_cols'\u001b[0m\u001b[0;34m]\u001b[0m \u001b[0;34m=\u001b[0m \u001b[0mself\u001b[0m\u001b[0;34m.\u001b[0m\u001b[0mindex_col\u001b[0m \u001b[0;32mis\u001b[0m \u001b[0;32mnot\u001b[0m \u001b[0;32mFalse\u001b[0m\u001b[0;34m\u001b[0m\u001b[0m\n\u001b[1;32m   1694\u001b[0m \u001b[0;34m\u001b[0m\u001b[0m\n\u001b[0;32m-> 1695\u001b[0;31m         \u001b[0mself\u001b[0m\u001b[0;34m.\u001b[0m\u001b[0m_reader\u001b[0m \u001b[0;34m=\u001b[0m \u001b[0mparsers\u001b[0m\u001b[0;34m.\u001b[0m\u001b[0mTextReader\u001b[0m\u001b[0;34m(\u001b[0m\u001b[0msrc\u001b[0m\u001b[0;34m,\u001b[0m \u001b[0;34m**\u001b[0m\u001b[0mkwds\u001b[0m\u001b[0;34m)\u001b[0m\u001b[0;34m\u001b[0m\u001b[0m\n\u001b[0m\u001b[1;32m   1696\u001b[0m \u001b[0;34m\u001b[0m\u001b[0m\n\u001b[1;32m   1697\u001b[0m         \u001b[0;31m# XXX\u001b[0m\u001b[0;34m\u001b[0m\u001b[0;34m\u001b[0m\u001b[0m\n",
      "\u001b[0;32mpandas/_libs/parsers.pyx\u001b[0m in \u001b[0;36mpandas._libs.parsers.TextReader.__cinit__\u001b[0;34m()\u001b[0m\n",
      "\u001b[0;32mpandas/_libs/parsers.pyx\u001b[0m in \u001b[0;36mpandas._libs.parsers.TextReader._setup_parser_source\u001b[0;34m()\u001b[0m\n",
      "\u001b[0;31mFileNotFoundError\u001b[0m: File b'global_epistasis_RNA_splicing/psi_9nt.csv' does not exist"
     ]
    }
   ],
   "source": [
    "import pandas as pd\n",
    "import numpy as np\n",
    "import numpy as np\n",
    "import pandas as pd\n",
    "import matplotlib.pyplot as plt\n",
    "%matplotlib inline\n",
    "import sys\n",
    "\n",
    "#input_data_ordered_raw =  pd.read_csv('rnap_scanned_over_ecoli_genome200k.csv')\n",
    "input_data_ordered_raw = pd.read_csv('global_epistasis_RNA_splicing/psi_9nt.csv')\n",
    "# remove nan's\n",
    "input_data_ordered_raw = input_data_ordered_raw.dropna()"
   ]
  },
  {
   "cell_type": "code",
   "execution_count": 2,
   "metadata": {},
   "outputs": [
    {
     "data": {
      "text/html": [
       "<div>\n",
       "<style scoped>\n",
       "    .dataframe tbody tr th:only-of-type {\n",
       "        vertical-align: middle;\n",
       "    }\n",
       "\n",
       "    .dataframe tbody tr th {\n",
       "        vertical-align: top;\n",
       "    }\n",
       "\n",
       "    .dataframe thead th {\n",
       "        text-align: right;\n",
       "    }\n",
       "</style>\n",
       "<table border=\"1\" class=\"dataframe\">\n",
       "  <thead>\n",
       "    <tr style=\"text-align: right;\">\n",
       "      <th></th>\n",
       "      <th>seq</th>\n",
       "      <th>brca2_9nt</th>\n",
       "      <th>brca2_9nt_stderr</th>\n",
       "      <th>ikbkap_9nt</th>\n",
       "      <th>ikbkap_9nt_stderr</th>\n",
       "      <th>smn1_9nt</th>\n",
       "      <th>smn1_9nt_stderr</th>\n",
       "    </tr>\n",
       "  </thead>\n",
       "  <tbody>\n",
       "    <tr>\n",
       "      <th>0</th>\n",
       "      <td>AAAGCAAAA</td>\n",
       "      <td>0.373522</td>\n",
       "      <td>0.095217</td>\n",
       "      <td>0.080039</td>\n",
       "      <td>0.081333</td>\n",
       "      <td>0.227001</td>\n",
       "      <td>0.082164</td>\n",
       "    </tr>\n",
       "    <tr>\n",
       "      <th>1</th>\n",
       "      <td>AAAGCAAAC</td>\n",
       "      <td>0.688386</td>\n",
       "      <td>0.063575</td>\n",
       "      <td>0.061021</td>\n",
       "      <td>0.018316</td>\n",
       "      <td>0.522138</td>\n",
       "      <td>0.017503</td>\n",
       "    </tr>\n",
       "    <tr>\n",
       "      <th>2</th>\n",
       "      <td>AAAGCAAAG</td>\n",
       "      <td>0.756357</td>\n",
       "      <td>0.481555</td>\n",
       "      <td>0.045032</td>\n",
       "      <td>0.023374</td>\n",
       "      <td>0.210907</td>\n",
       "      <td>0.170688</td>\n",
       "    </tr>\n",
       "    <tr>\n",
       "      <th>3</th>\n",
       "      <td>AAAGCAAAU</td>\n",
       "      <td>0.443014</td>\n",
       "      <td>0.127961</td>\n",
       "      <td>0.071423</td>\n",
       "      <td>0.028762</td>\n",
       "      <td>0.232645</td>\n",
       "      <td>0.044371</td>\n",
       "    </tr>\n",
       "    <tr>\n",
       "      <th>4</th>\n",
       "      <td>AAAGCAACA</td>\n",
       "      <td>0.548363</td>\n",
       "      <td>0.140963</td>\n",
       "      <td>0.100128</td>\n",
       "      <td>0.071551</td>\n",
       "      <td>0.362139</td>\n",
       "      <td>0.127696</td>\n",
       "    </tr>\n",
       "  </tbody>\n",
       "</table>\n",
       "</div>"
      ],
      "text/plain": [
       "         seq  brca2_9nt  brca2_9nt_stderr  ikbkap_9nt  ikbkap_9nt_stderr  \\\n",
       "0  AAAGCAAAA   0.373522          0.095217    0.080039           0.081333   \n",
       "1  AAAGCAAAC   0.688386          0.063575    0.061021           0.018316   \n",
       "2  AAAGCAAAG   0.756357          0.481555    0.045032           0.023374   \n",
       "3  AAAGCAAAU   0.443014          0.127961    0.071423           0.028762   \n",
       "4  AAAGCAACA   0.548363          0.140963    0.100128           0.071551   \n",
       "\n",
       "   smn1_9nt  smn1_9nt_stderr  \n",
       "0  0.227001         0.082164  \n",
       "1  0.522138         0.017503  \n",
       "2  0.210907         0.170688  \n",
       "3  0.232645         0.044371  \n",
       "4  0.362139         0.127696  "
      ]
     },
     "execution_count": 2,
     "metadata": {},
     "output_type": "execute_result"
    }
   ],
   "source": [
    "input_data_ordered_raw.head()"
   ]
  },
  {
   "cell_type": "markdown",
   "metadata": {},
   "source": [
    "## Read replicates File"
   ]
  },
  {
   "cell_type": "code",
   "execution_count": 27,
   "metadata": {},
   "outputs": [
    {
     "data": {
      "text/html": [
       "<div>\n",
       "<style scoped>\n",
       "    .dataframe tbody tr th:only-of-type {\n",
       "        vertical-align: middle;\n",
       "    }\n",
       "\n",
       "    .dataframe tbody tr th {\n",
       "        vertical-align: top;\n",
       "    }\n",
       "\n",
       "    .dataframe thead th {\n",
       "        text-align: right;\n",
       "    }\n",
       "</style>\n",
       "<table border=\"1\" class=\"dataframe\">\n",
       "  <thead>\n",
       "    <tr style=\"text-align: right;\">\n",
       "      <th></th>\n",
       "      <th>seq_rna</th>\n",
       "      <th>replicates</th>\n",
       "    </tr>\n",
       "  </thead>\n",
       "  <tbody>\n",
       "    <tr>\n",
       "      <th>0</th>\n",
       "      <td>AAAGCAAAA</td>\n",
       "      <td>7</td>\n",
       "    </tr>\n",
       "    <tr>\n",
       "      <th>1</th>\n",
       "      <td>AAAGCAAAC</td>\n",
       "      <td>7</td>\n",
       "    </tr>\n",
       "    <tr>\n",
       "      <th>2</th>\n",
       "      <td>AAAGCAAAG</td>\n",
       "      <td>7</td>\n",
       "    </tr>\n",
       "    <tr>\n",
       "      <th>3</th>\n",
       "      <td>AAAGCAAAU</td>\n",
       "      <td>7</td>\n",
       "    </tr>\n",
       "    <tr>\n",
       "      <th>4</th>\n",
       "      <td>AAAGCAACA</td>\n",
       "      <td>7</td>\n",
       "    </tr>\n",
       "  </tbody>\n",
       "</table>\n",
       "</div>"
      ],
      "text/plain": [
       "     seq_rna  replicates\n",
       "0  AAAGCAAAA           7\n",
       "1  AAAGCAAAC           7\n",
       "2  AAAGCAAAG           7\n",
       "3  AAAGCAAAU           7\n",
       "4  AAAGCAACA           7"
      ]
     },
     "execution_count": 27,
     "metadata": {},
     "output_type": "execute_result"
    }
   ],
   "source": [
    "replicates_df = pd.read_csv('global_epistasis_RNA_splicing/Smn1Nreps.csv',names=['seq_rna','replicates'])\n",
    "replicates_df.head()"
   ]
  },
  {
   "cell_type": "code",
   "execution_count": 28,
   "metadata": {},
   "outputs": [
    {
     "data": {
      "text/plain": [
       "30732"
      ]
     },
     "execution_count": 28,
     "metadata": {},
     "output_type": "execute_result"
    }
   ],
   "source": [
    "len(replicates_df)"
   ]
  },
  {
   "cell_type": "code",
   "execution_count": 29,
   "metadata": {
    "collapsed": true
   },
   "outputs": [],
   "source": [
    "# sequences with 7 replicates\n",
    "seqs_with_7_replicates = replicates_df.loc[replicates_df['replicates']==7]"
   ]
  },
  {
   "cell_type": "code",
   "execution_count": 6,
   "metadata": {
    "collapsed": true
   },
   "outputs": [],
   "source": [
    "#len_of_data_to_use = 10000\n",
    "#sequences = input_data_ordered_raw['seq'][0:len_of_data_to_use]\n",
    "#val = input_data_ordered_raw['val'][0:len_of_data_to_use]\n",
    "\n",
    "sequences = input_data_ordered_raw['seq']\n",
    "val = input_data_ordered_raw['smn1_9nt']"
   ]
  },
  {
   "cell_type": "code",
   "execution_count": 22,
   "metadata": {},
   "outputs": [
    {
     "data": {
      "text/plain": [
       "24831"
      ]
     },
     "execution_count": 22,
     "metadata": {},
     "output_type": "execute_result"
    }
   ],
   "source": [
    "len(sequences)"
   ]
  },
  {
   "cell_type": "code",
   "execution_count": 23,
   "metadata": {},
   "outputs": [
    {
     "data": {
      "text/plain": [
       "30732"
      ]
     },
     "execution_count": 23,
     "metadata": {},
     "output_type": "execute_result"
    }
   ],
   "source": [
    "len(replicates_df)"
   ]
  },
  {
   "cell_type": "code",
   "execution_count": 20,
   "metadata": {
    "collapsed": true
   },
   "outputs": [],
   "source": [
    "rna_splice_df = pd.DataFrame({'seq_rna':sequences,'val':val})\n",
    "#gb1_df_10k.to_csv('gb1_10k.csv',sep='\\t')"
   ]
  },
  {
   "cell_type": "code",
   "execution_count": 21,
   "metadata": {},
   "outputs": [
    {
     "data": {
      "text/html": [
       "<div>\n",
       "<style scoped>\n",
       "    .dataframe tbody tr th:only-of-type {\n",
       "        vertical-align: middle;\n",
       "    }\n",
       "\n",
       "    .dataframe tbody tr th {\n",
       "        vertical-align: top;\n",
       "    }\n",
       "\n",
       "    .dataframe thead th {\n",
       "        text-align: right;\n",
       "    }\n",
       "</style>\n",
       "<table border=\"1\" class=\"dataframe\">\n",
       "  <thead>\n",
       "    <tr style=\"text-align: right;\">\n",
       "      <th></th>\n",
       "      <th>seq_rna</th>\n",
       "      <th>val</th>\n",
       "    </tr>\n",
       "  </thead>\n",
       "  <tbody>\n",
       "    <tr>\n",
       "      <th>0</th>\n",
       "      <td>AAAGCAAAA</td>\n",
       "      <td>0.227001</td>\n",
       "    </tr>\n",
       "    <tr>\n",
       "      <th>1</th>\n",
       "      <td>AAAGCAAAC</td>\n",
       "      <td>0.522138</td>\n",
       "    </tr>\n",
       "    <tr>\n",
       "      <th>2</th>\n",
       "      <td>AAAGCAAAG</td>\n",
       "      <td>0.210907</td>\n",
       "    </tr>\n",
       "    <tr>\n",
       "      <th>3</th>\n",
       "      <td>AAAGCAAAU</td>\n",
       "      <td>0.232645</td>\n",
       "    </tr>\n",
       "    <tr>\n",
       "      <th>4</th>\n",
       "      <td>AAAGCAACA</td>\n",
       "      <td>0.362139</td>\n",
       "    </tr>\n",
       "  </tbody>\n",
       "</table>\n",
       "</div>"
      ],
      "text/plain": [
       "     seq_rna       val\n",
       "0  AAAGCAAAA  0.227001\n",
       "1  AAAGCAAAC  0.522138\n",
       "2  AAAGCAAAG  0.210907\n",
       "3  AAAGCAAAU  0.232645\n",
       "4  AAAGCAACA  0.362139"
      ]
     },
     "execution_count": 21,
     "metadata": {},
     "output_type": "execute_result"
    }
   ],
   "source": [
    "rna_splice_df.head()"
   ]
  },
  {
   "cell_type": "code",
   "execution_count": 34,
   "metadata": {
    "collapsed": true
   },
   "outputs": [],
   "source": [
    "rna_splice_df = pd.merge(rna_splice_df,seqs_with_7_replicates,how='inner',on='seq_rna')"
   ]
  },
  {
   "cell_type": "code",
   "execution_count": 35,
   "metadata": {},
   "outputs": [
    {
     "data": {
      "text/html": [
       "<div>\n",
       "<style scoped>\n",
       "    .dataframe tbody tr th:only-of-type {\n",
       "        vertical-align: middle;\n",
       "    }\n",
       "\n",
       "    .dataframe tbody tr th {\n",
       "        vertical-align: top;\n",
       "    }\n",
       "\n",
       "    .dataframe thead th {\n",
       "        text-align: right;\n",
       "    }\n",
       "</style>\n",
       "<table border=\"1\" class=\"dataframe\">\n",
       "  <thead>\n",
       "    <tr style=\"text-align: right;\">\n",
       "      <th></th>\n",
       "      <th>seq_rna</th>\n",
       "      <th>val</th>\n",
       "      <th>replicates</th>\n",
       "    </tr>\n",
       "  </thead>\n",
       "  <tbody>\n",
       "    <tr>\n",
       "      <th>0</th>\n",
       "      <td>AAAGCAAAA</td>\n",
       "      <td>0.227001</td>\n",
       "      <td>7</td>\n",
       "    </tr>\n",
       "    <tr>\n",
       "      <th>1</th>\n",
       "      <td>AAAGCAAAC</td>\n",
       "      <td>0.522138</td>\n",
       "      <td>7</td>\n",
       "    </tr>\n",
       "    <tr>\n",
       "      <th>2</th>\n",
       "      <td>AAAGCAAAG</td>\n",
       "      <td>0.210907</td>\n",
       "      <td>7</td>\n",
       "    </tr>\n",
       "    <tr>\n",
       "      <th>3</th>\n",
       "      <td>AAAGCAAAU</td>\n",
       "      <td>0.232645</td>\n",
       "      <td>7</td>\n",
       "    </tr>\n",
       "    <tr>\n",
       "      <th>4</th>\n",
       "      <td>AAAGCAACA</td>\n",
       "      <td>0.362139</td>\n",
       "      <td>7</td>\n",
       "    </tr>\n",
       "  </tbody>\n",
       "</table>\n",
       "</div>"
      ],
      "text/plain": [
       "     seq_rna       val  replicates\n",
       "0  AAAGCAAAA  0.227001           7\n",
       "1  AAAGCAAAC  0.522138           7\n",
       "2  AAAGCAAAG  0.210907           7\n",
       "3  AAAGCAAAU  0.232645           7\n",
       "4  AAAGCAACA  0.362139           7"
      ]
     },
     "execution_count": 35,
     "metadata": {},
     "output_type": "execute_result"
    }
   ],
   "source": [
    "rna_splice_df.head()"
   ]
  },
  {
   "cell_type": "code",
   "execution_count": 37,
   "metadata": {
    "collapsed": true
   },
   "outputs": [],
   "source": [
    "#rna_splice_df.to_csv('rna_splice_df.csv',sep='\\t')\n",
    "rna_splice_df.to_csv('global_epistasis_RNA_splicing/rna_splice_df_7_replicates.csv',sep='\\t')"
   ]
  },
  {
   "cell_type": "markdown",
   "metadata": {},
   "source": [
    "## Get percentiles column from values"
   ]
  },
  {
   "cell_type": "code",
   "execution_count": 36,
   "metadata": {},
   "outputs": [
    {
     "name": "stderr",
     "output_type": "stream",
     "text": [
      "/Users/tareen/Library/Python/3.6/lib/python/site-packages/scipy/stats/stats.py:1792: FutureWarning: Using a non-tuple sequence for multidimensional indexing is deprecated; use `arr[tuple(seq)]` instead of `arr[seq]`. In the future this will be interpreted as an array index, `arr[np.array(seq)]`, which will result either in an error or a different result.\n",
      "  pct = (np.mean(a_len[idx]) / n) * 100.0\n"
     ]
    }
   ],
   "source": [
    "from scipy.stats import percentileofscore\n",
    "\n",
    "# generate example data\n",
    "arr = rna_splice_df['val']\n",
    "\n",
    "# pre-sort array\n",
    "arr_sorted =  sorted(arr)\n",
    "\n",
    "# calculate percentiles using scipy func percentileofscore on each array element\n",
    "s = pd.Series(arr)\n",
    "percentiles = s.apply(lambda x: percentileofscore(arr_sorted, x))"
   ]
  },
  {
   "cell_type": "code",
   "execution_count": 38,
   "metadata": {
    "collapsed": true
   },
   "outputs": [],
   "source": [
    "val_scaled = percentiles\n",
    "val_scaled = (val_scaled-min(val_scaled))/(max(val_scaled)-min(val_scaled))\n",
    "rna_splice_df['val_scaled'] = val_scaled"
   ]
  },
  {
   "cell_type": "code",
   "execution_count": 39,
   "metadata": {
    "collapsed": true
   },
   "outputs": [],
   "source": [
    "bins_to_use = 20\n",
    "#counts,bins = np.histogram(gb1_df_10k['val'],bins=bins_to_use)\n",
    "counts,bins = np.histogram(val_scaled,bins=bins_to_use)"
   ]
  },
  {
   "cell_type": "code",
   "execution_count": 40,
   "metadata": {},
   "outputs": [
    {
     "data": {
      "text/plain": [
       "array([0.  , 0.05, 0.1 , 0.15, 0.2 , 0.25, 0.3 , 0.35, 0.4 , 0.45, 0.5 ,\n",
       "       0.55, 0.6 , 0.65, 0.7 , 0.75, 0.8 , 0.85, 0.9 , 0.95, 1.  ])"
      ]
     },
     "execution_count": 40,
     "metadata": {},
     "output_type": "execute_result"
    }
   ],
   "source": [
    "bins"
   ]
  },
  {
   "cell_type": "code",
   "execution_count": 41,
   "metadata": {
    "collapsed": true
   },
   "outputs": [],
   "source": [
    "temp_df = rna_splice_df.copy()"
   ]
  },
  {
   "cell_type": "code",
   "execution_count": 42,
   "metadata": {},
   "outputs": [
    {
     "data": {
      "text/html": [
       "<div>\n",
       "<style scoped>\n",
       "    .dataframe tbody tr th:only-of-type {\n",
       "        vertical-align: middle;\n",
       "    }\n",
       "\n",
       "    .dataframe tbody tr th {\n",
       "        vertical-align: top;\n",
       "    }\n",
       "\n",
       "    .dataframe thead th {\n",
       "        text-align: right;\n",
       "    }\n",
       "</style>\n",
       "<table border=\"1\" class=\"dataframe\">\n",
       "  <thead>\n",
       "    <tr style=\"text-align: right;\">\n",
       "      <th></th>\n",
       "      <th>seq_rna</th>\n",
       "      <th>val</th>\n",
       "      <th>replicates</th>\n",
       "      <th>val_scaled</th>\n",
       "    </tr>\n",
       "  </thead>\n",
       "  <tbody>\n",
       "    <tr>\n",
       "      <th>0</th>\n",
       "      <td>AAAGCAAAA</td>\n",
       "      <td>0.227001</td>\n",
       "      <td>7</td>\n",
       "      <td>0.274933</td>\n",
       "    </tr>\n",
       "    <tr>\n",
       "      <th>1</th>\n",
       "      <td>AAAGCAAAC</td>\n",
       "      <td>0.522138</td>\n",
       "      <td>7</td>\n",
       "      <td>0.600490</td>\n",
       "    </tr>\n",
       "    <tr>\n",
       "      <th>2</th>\n",
       "      <td>AAAGCAAAG</td>\n",
       "      <td>0.210907</td>\n",
       "      <td>7</td>\n",
       "      <td>0.243934</td>\n",
       "    </tr>\n",
       "    <tr>\n",
       "      <th>3</th>\n",
       "      <td>AAAGCAAAU</td>\n",
       "      <td>0.232645</td>\n",
       "      <td>7</td>\n",
       "      <td>0.284632</td>\n",
       "    </tr>\n",
       "    <tr>\n",
       "      <th>4</th>\n",
       "      <td>AAAGCAACA</td>\n",
       "      <td>0.362139</td>\n",
       "      <td>7</td>\n",
       "      <td>0.476718</td>\n",
       "    </tr>\n",
       "  </tbody>\n",
       "</table>\n",
       "</div>"
      ],
      "text/plain": [
       "     seq_rna       val  replicates  val_scaled\n",
       "0  AAAGCAAAA  0.227001           7    0.274933\n",
       "1  AAAGCAAAC  0.522138           7    0.600490\n",
       "2  AAAGCAAAG  0.210907           7    0.243934\n",
       "3  AAAGCAAAU  0.232645           7    0.284632\n",
       "4  AAAGCAACA  0.362139           7    0.476718"
      ]
     },
     "execution_count": 42,
     "metadata": {},
     "output_type": "execute_result"
    }
   ],
   "source": [
    "temp_df.head()"
   ]
  },
  {
   "cell_type": "code",
   "execution_count": 43,
   "metadata": {},
   "outputs": [
    {
     "name": "stdout",
     "output_type": "stream",
     "text": [
      "0 0.0 0.05\n",
      "1 0.05 0.1\n",
      "2 0.1 0.15000000000000002\n",
      "3 0.15000000000000002 0.2\n",
      "4 0.2 0.25\n",
      "5 0.25 0.30000000000000004\n",
      "6 0.30000000000000004 0.35000000000000003\n",
      "7 0.35000000000000003 0.4\n",
      "8 0.4 0.45\n",
      "9 0.45 0.5\n",
      "10 0.5 0.55\n",
      "11 0.55 0.6000000000000001\n",
      "12 0.6000000000000001 0.65\n",
      "13 0.65 0.7000000000000001\n",
      "14 0.7000000000000001 0.75\n",
      "15 0.75 0.8\n",
      "16 0.8 0.8500000000000001\n",
      "17 0.8500000000000001 0.9\n",
      "18 0.9 0.9500000000000001\n",
      "19 0.9500000000000001 1.0\n"
     ]
    }
   ],
   "source": [
    "for bin_index in range(len(bins)):\n",
    "    if(bin_index<len(bins)-1):\n",
    "        print(bin_index,bins[bin_index],bins[bin_index+1]) "
   ]
  },
  {
   "cell_type": "markdown",
   "metadata": {},
   "source": [
    "## Get sequences and bin numbers"
   ]
  },
  {
   "cell_type": "code",
   "execution_count": 44,
   "metadata": {
    "collapsed": true
   },
   "outputs": [],
   "source": [
    "sequence_bins_list = []\n",
    "# loop over every sequence\n",
    "for index, row in temp_df.iterrows():\n",
    "    # for each row, put sequences in the correct bin based on comparing values to bins\n",
    "    #print(index,row['seq'], row['val'])\n",
    "    for bin_index in range(len(bins)):\n",
    "        if(bin_index<len(bins)-1): # do go out of bounds\n",
    "            if((row['val_scaled']>= bins[bin_index]) and (row['val_scaled']<=bins[bin_index+1])):\n",
    "                #print('Seq: ',row['seq'],' going in bin: ',bin_index)\n",
    "                sequence_bins_list.append([row['seq_rna'],bin_index])\n"
   ]
  },
  {
   "cell_type": "code",
   "execution_count": 45,
   "metadata": {
    "collapsed": true
   },
   "outputs": [],
   "source": [
    "sequence_counts_array = np.array(sequence_bins_list)"
   ]
  },
  {
   "cell_type": "code",
   "execution_count": 46,
   "metadata": {},
   "outputs": [
    {
     "data": {
      "text/plain": [
       "16298"
      ]
     },
     "execution_count": 46,
     "metadata": {},
     "output_type": "execute_result"
    }
   ],
   "source": [
    "len(sequence_counts_array)"
   ]
  },
  {
   "cell_type": "code",
   "execution_count": 47,
   "metadata": {},
   "outputs": [
    {
     "data": {
      "text/html": [
       "<div>\n",
       "<style scoped>\n",
       "    .dataframe tbody tr th:only-of-type {\n",
       "        vertical-align: middle;\n",
       "    }\n",
       "\n",
       "    .dataframe tbody tr th {\n",
       "        vertical-align: top;\n",
       "    }\n",
       "\n",
       "    .dataframe thead th {\n",
       "        text-align: right;\n",
       "    }\n",
       "</style>\n",
       "<table border=\"1\" class=\"dataframe\">\n",
       "  <thead>\n",
       "    <tr style=\"text-align: right;\">\n",
       "      <th></th>\n",
       "      <th>bin</th>\n",
       "      <th>seq_rna</th>\n",
       "    </tr>\n",
       "  </thead>\n",
       "  <tbody>\n",
       "    <tr>\n",
       "      <th>0</th>\n",
       "      <td>5</td>\n",
       "      <td>AAAGCAAAA</td>\n",
       "    </tr>\n",
       "    <tr>\n",
       "      <th>1</th>\n",
       "      <td>12</td>\n",
       "      <td>AAAGCAAAC</td>\n",
       "    </tr>\n",
       "    <tr>\n",
       "      <th>2</th>\n",
       "      <td>4</td>\n",
       "      <td>AAAGCAAAG</td>\n",
       "    </tr>\n",
       "    <tr>\n",
       "      <th>3</th>\n",
       "      <td>5</td>\n",
       "      <td>AAAGCAAAU</td>\n",
       "    </tr>\n",
       "    <tr>\n",
       "      <th>4</th>\n",
       "      <td>9</td>\n",
       "      <td>AAAGCAACA</td>\n",
       "    </tr>\n",
       "  </tbody>\n",
       "</table>\n",
       "</div>"
      ],
      "text/plain": [
       "  bin    seq_rna\n",
       "0   5  AAAGCAAAA\n",
       "1  12  AAAGCAAAC\n",
       "2   4  AAAGCAAAG\n",
       "3   5  AAAGCAAAU\n",
       "4   9  AAAGCAACA"
      ]
     },
     "execution_count": 47,
     "metadata": {},
     "output_type": "execute_result"
    }
   ],
   "source": [
    "sequence_counts_array[:,1]\n",
    "seq_bin_df = pd.DataFrame({'seq_rna':sequence_counts_array[:,0],'bin':sequence_counts_array[:,1]})\n",
    "seq_bin_df.head()"
   ]
  },
  {
   "cell_type": "code",
   "execution_count": 48,
   "metadata": {},
   "outputs": [
    {
     "name": "stdout",
     "output_type": "stream",
     "text": [
      "0\n",
      "19\n"
     ]
    }
   ],
   "source": [
    "print(min(sequence_counts_array[:,1].astype('int')))\n",
    "print(max(sequence_counts_array[:,1].astype('int')))"
   ]
  },
  {
   "cell_type": "code",
   "execution_count": 49,
   "metadata": {
    "collapsed": true
   },
   "outputs": [],
   "source": [
    "count_cols = []\n",
    "for bin_index in range(len(bins)-1):\n",
    "    count_cols.append('ct_'+str(bin_index))"
   ]
  },
  {
   "cell_type": "code",
   "execution_count": 50,
   "metadata": {},
   "outputs": [
    {
     "data": {
      "text/plain": [
       "['ct_0',\n",
       " 'ct_1',\n",
       " 'ct_2',\n",
       " 'ct_3',\n",
       " 'ct_4',\n",
       " 'ct_5',\n",
       " 'ct_6',\n",
       " 'ct_7',\n",
       " 'ct_8',\n",
       " 'ct_9',\n",
       " 'ct_10',\n",
       " 'ct_11',\n",
       " 'ct_12',\n",
       " 'ct_13',\n",
       " 'ct_14',\n",
       " 'ct_15',\n",
       " 'ct_16',\n",
       " 'ct_17',\n",
       " 'ct_18',\n",
       " 'ct_19']"
      ]
     },
     "execution_count": 50,
     "metadata": {},
     "output_type": "execute_result"
    }
   ],
   "source": [
    "count_cols"
   ]
  },
  {
   "cell_type": "code",
   "execution_count": 51,
   "metadata": {
    "collapsed": true
   },
   "outputs": [],
   "source": [
    "# append count columns to the dataframe\n",
    "#c ount_cols are ['ct_0','ct_1','ct_2','ct_3','ct_4','ct_5','ct_6','ct_7','ct_8','ct_9'] for bins = 10\n",
    "d = dict.fromkeys(count_cols, 0)\n",
    "seq_counts_df = seq_bin_df.assign(**d).copy()"
   ]
  },
  {
   "cell_type": "code",
   "execution_count": 52,
   "metadata": {},
   "outputs": [
    {
     "data": {
      "text/html": [
       "<div>\n",
       "<style scoped>\n",
       "    .dataframe tbody tr th:only-of-type {\n",
       "        vertical-align: middle;\n",
       "    }\n",
       "\n",
       "    .dataframe tbody tr th {\n",
       "        vertical-align: top;\n",
       "    }\n",
       "\n",
       "    .dataframe thead th {\n",
       "        text-align: right;\n",
       "    }\n",
       "</style>\n",
       "<table border=\"1\" class=\"dataframe\">\n",
       "  <thead>\n",
       "    <tr style=\"text-align: right;\">\n",
       "      <th></th>\n",
       "      <th>bin</th>\n",
       "      <th>seq_rna</th>\n",
       "      <th>ct_0</th>\n",
       "      <th>ct_1</th>\n",
       "      <th>ct_2</th>\n",
       "      <th>ct_3</th>\n",
       "      <th>ct_4</th>\n",
       "      <th>ct_5</th>\n",
       "      <th>ct_6</th>\n",
       "      <th>ct_7</th>\n",
       "      <th>...</th>\n",
       "      <th>ct_10</th>\n",
       "      <th>ct_11</th>\n",
       "      <th>ct_12</th>\n",
       "      <th>ct_13</th>\n",
       "      <th>ct_14</th>\n",
       "      <th>ct_15</th>\n",
       "      <th>ct_16</th>\n",
       "      <th>ct_17</th>\n",
       "      <th>ct_18</th>\n",
       "      <th>ct_19</th>\n",
       "    </tr>\n",
       "  </thead>\n",
       "  <tbody>\n",
       "    <tr>\n",
       "      <th>0</th>\n",
       "      <td>5</td>\n",
       "      <td>AAAGCAAAA</td>\n",
       "      <td>0</td>\n",
       "      <td>0</td>\n",
       "      <td>0</td>\n",
       "      <td>0</td>\n",
       "      <td>0</td>\n",
       "      <td>0</td>\n",
       "      <td>0</td>\n",
       "      <td>0</td>\n",
       "      <td>...</td>\n",
       "      <td>0</td>\n",
       "      <td>0</td>\n",
       "      <td>0</td>\n",
       "      <td>0</td>\n",
       "      <td>0</td>\n",
       "      <td>0</td>\n",
       "      <td>0</td>\n",
       "      <td>0</td>\n",
       "      <td>0</td>\n",
       "      <td>0</td>\n",
       "    </tr>\n",
       "    <tr>\n",
       "      <th>1</th>\n",
       "      <td>12</td>\n",
       "      <td>AAAGCAAAC</td>\n",
       "      <td>0</td>\n",
       "      <td>0</td>\n",
       "      <td>0</td>\n",
       "      <td>0</td>\n",
       "      <td>0</td>\n",
       "      <td>0</td>\n",
       "      <td>0</td>\n",
       "      <td>0</td>\n",
       "      <td>...</td>\n",
       "      <td>0</td>\n",
       "      <td>0</td>\n",
       "      <td>0</td>\n",
       "      <td>0</td>\n",
       "      <td>0</td>\n",
       "      <td>0</td>\n",
       "      <td>0</td>\n",
       "      <td>0</td>\n",
       "      <td>0</td>\n",
       "      <td>0</td>\n",
       "    </tr>\n",
       "    <tr>\n",
       "      <th>2</th>\n",
       "      <td>4</td>\n",
       "      <td>AAAGCAAAG</td>\n",
       "      <td>0</td>\n",
       "      <td>0</td>\n",
       "      <td>0</td>\n",
       "      <td>0</td>\n",
       "      <td>0</td>\n",
       "      <td>0</td>\n",
       "      <td>0</td>\n",
       "      <td>0</td>\n",
       "      <td>...</td>\n",
       "      <td>0</td>\n",
       "      <td>0</td>\n",
       "      <td>0</td>\n",
       "      <td>0</td>\n",
       "      <td>0</td>\n",
       "      <td>0</td>\n",
       "      <td>0</td>\n",
       "      <td>0</td>\n",
       "      <td>0</td>\n",
       "      <td>0</td>\n",
       "    </tr>\n",
       "    <tr>\n",
       "      <th>3</th>\n",
       "      <td>5</td>\n",
       "      <td>AAAGCAAAU</td>\n",
       "      <td>0</td>\n",
       "      <td>0</td>\n",
       "      <td>0</td>\n",
       "      <td>0</td>\n",
       "      <td>0</td>\n",
       "      <td>0</td>\n",
       "      <td>0</td>\n",
       "      <td>0</td>\n",
       "      <td>...</td>\n",
       "      <td>0</td>\n",
       "      <td>0</td>\n",
       "      <td>0</td>\n",
       "      <td>0</td>\n",
       "      <td>0</td>\n",
       "      <td>0</td>\n",
       "      <td>0</td>\n",
       "      <td>0</td>\n",
       "      <td>0</td>\n",
       "      <td>0</td>\n",
       "    </tr>\n",
       "    <tr>\n",
       "      <th>4</th>\n",
       "      <td>9</td>\n",
       "      <td>AAAGCAACA</td>\n",
       "      <td>0</td>\n",
       "      <td>0</td>\n",
       "      <td>0</td>\n",
       "      <td>0</td>\n",
       "      <td>0</td>\n",
       "      <td>0</td>\n",
       "      <td>0</td>\n",
       "      <td>0</td>\n",
       "      <td>...</td>\n",
       "      <td>0</td>\n",
       "      <td>0</td>\n",
       "      <td>0</td>\n",
       "      <td>0</td>\n",
       "      <td>0</td>\n",
       "      <td>0</td>\n",
       "      <td>0</td>\n",
       "      <td>0</td>\n",
       "      <td>0</td>\n",
       "      <td>0</td>\n",
       "    </tr>\n",
       "    <tr>\n",
       "      <th>5</th>\n",
       "      <td>5</td>\n",
       "      <td>AAAGCAACC</td>\n",
       "      <td>0</td>\n",
       "      <td>0</td>\n",
       "      <td>0</td>\n",
       "      <td>0</td>\n",
       "      <td>0</td>\n",
       "      <td>0</td>\n",
       "      <td>0</td>\n",
       "      <td>0</td>\n",
       "      <td>...</td>\n",
       "      <td>0</td>\n",
       "      <td>0</td>\n",
       "      <td>0</td>\n",
       "      <td>0</td>\n",
       "      <td>0</td>\n",
       "      <td>0</td>\n",
       "      <td>0</td>\n",
       "      <td>0</td>\n",
       "      <td>0</td>\n",
       "      <td>0</td>\n",
       "    </tr>\n",
       "    <tr>\n",
       "      <th>6</th>\n",
       "      <td>17</td>\n",
       "      <td>AAAGCAACG</td>\n",
       "      <td>0</td>\n",
       "      <td>0</td>\n",
       "      <td>0</td>\n",
       "      <td>0</td>\n",
       "      <td>0</td>\n",
       "      <td>0</td>\n",
       "      <td>0</td>\n",
       "      <td>0</td>\n",
       "      <td>...</td>\n",
       "      <td>0</td>\n",
       "      <td>0</td>\n",
       "      <td>0</td>\n",
       "      <td>0</td>\n",
       "      <td>0</td>\n",
       "      <td>0</td>\n",
       "      <td>0</td>\n",
       "      <td>0</td>\n",
       "      <td>0</td>\n",
       "      <td>0</td>\n",
       "    </tr>\n",
       "    <tr>\n",
       "      <th>7</th>\n",
       "      <td>12</td>\n",
       "      <td>AAAGCAACU</td>\n",
       "      <td>0</td>\n",
       "      <td>0</td>\n",
       "      <td>0</td>\n",
       "      <td>0</td>\n",
       "      <td>0</td>\n",
       "      <td>0</td>\n",
       "      <td>0</td>\n",
       "      <td>0</td>\n",
       "      <td>...</td>\n",
       "      <td>0</td>\n",
       "      <td>0</td>\n",
       "      <td>0</td>\n",
       "      <td>0</td>\n",
       "      <td>0</td>\n",
       "      <td>0</td>\n",
       "      <td>0</td>\n",
       "      <td>0</td>\n",
       "      <td>0</td>\n",
       "      <td>0</td>\n",
       "    </tr>\n",
       "    <tr>\n",
       "      <th>8</th>\n",
       "      <td>17</td>\n",
       "      <td>AAAGCAAGA</td>\n",
       "      <td>0</td>\n",
       "      <td>0</td>\n",
       "      <td>0</td>\n",
       "      <td>0</td>\n",
       "      <td>0</td>\n",
       "      <td>0</td>\n",
       "      <td>0</td>\n",
       "      <td>0</td>\n",
       "      <td>...</td>\n",
       "      <td>0</td>\n",
       "      <td>0</td>\n",
       "      <td>0</td>\n",
       "      <td>0</td>\n",
       "      <td>0</td>\n",
       "      <td>0</td>\n",
       "      <td>0</td>\n",
       "      <td>0</td>\n",
       "      <td>0</td>\n",
       "      <td>0</td>\n",
       "    </tr>\n",
       "    <tr>\n",
       "      <th>9</th>\n",
       "      <td>14</td>\n",
       "      <td>AAAGCAAGC</td>\n",
       "      <td>0</td>\n",
       "      <td>0</td>\n",
       "      <td>0</td>\n",
       "      <td>0</td>\n",
       "      <td>0</td>\n",
       "      <td>0</td>\n",
       "      <td>0</td>\n",
       "      <td>0</td>\n",
       "      <td>...</td>\n",
       "      <td>0</td>\n",
       "      <td>0</td>\n",
       "      <td>0</td>\n",
       "      <td>0</td>\n",
       "      <td>0</td>\n",
       "      <td>0</td>\n",
       "      <td>0</td>\n",
       "      <td>0</td>\n",
       "      <td>0</td>\n",
       "      <td>0</td>\n",
       "    </tr>\n",
       "  </tbody>\n",
       "</table>\n",
       "<p>10 rows × 22 columns</p>\n",
       "</div>"
      ],
      "text/plain": [
       "  bin    seq_rna  ct_0  ct_1  ct_2  ct_3  ct_4  ct_5  ct_6  ct_7  ...    \\\n",
       "0   5  AAAGCAAAA     0     0     0     0     0     0     0     0  ...     \n",
       "1  12  AAAGCAAAC     0     0     0     0     0     0     0     0  ...     \n",
       "2   4  AAAGCAAAG     0     0     0     0     0     0     0     0  ...     \n",
       "3   5  AAAGCAAAU     0     0     0     0     0     0     0     0  ...     \n",
       "4   9  AAAGCAACA     0     0     0     0     0     0     0     0  ...     \n",
       "5   5  AAAGCAACC     0     0     0     0     0     0     0     0  ...     \n",
       "6  17  AAAGCAACG     0     0     0     0     0     0     0     0  ...     \n",
       "7  12  AAAGCAACU     0     0     0     0     0     0     0     0  ...     \n",
       "8  17  AAAGCAAGA     0     0     0     0     0     0     0     0  ...     \n",
       "9  14  AAAGCAAGC     0     0     0     0     0     0     0     0  ...     \n",
       "\n",
       "   ct_10  ct_11  ct_12  ct_13  ct_14  ct_15  ct_16  ct_17  ct_18  ct_19  \n",
       "0      0      0      0      0      0      0      0      0      0      0  \n",
       "1      0      0      0      0      0      0      0      0      0      0  \n",
       "2      0      0      0      0      0      0      0      0      0      0  \n",
       "3      0      0      0      0      0      0      0      0      0      0  \n",
       "4      0      0      0      0      0      0      0      0      0      0  \n",
       "5      0      0      0      0      0      0      0      0      0      0  \n",
       "6      0      0      0      0      0      0      0      0      0      0  \n",
       "7      0      0      0      0      0      0      0      0      0      0  \n",
       "8      0      0      0      0      0      0      0      0      0      0  \n",
       "9      0      0      0      0      0      0      0      0      0      0  \n",
       "\n",
       "[10 rows x 22 columns]"
      ]
     },
     "execution_count": 52,
     "metadata": {},
     "output_type": "execute_result"
    }
   ],
   "source": [
    "seq_counts_df.head(10)"
   ]
  },
  {
   "cell_type": "markdown",
   "metadata": {},
   "source": [
    "## populate counts columns"
   ]
  },
  {
   "cell_type": "code",
   "execution_count": 53,
   "metadata": {
    "collapsed": true
   },
   "outputs": [],
   "source": [
    "number_cols_to_displace = 2\n",
    "\n",
    "for row_index in range(len(seq_counts_df['bin'])):\n",
    "    count_col = seq_counts_df.columns[int(seq_counts_df['bin'][row_index])+number_cols_to_displace]\n",
    "    seq_counts_df.loc[row_index,count_col] = 1\n",
    "\n",
    "    "
   ]
  },
  {
   "cell_type": "code",
   "execution_count": 54,
   "metadata": {},
   "outputs": [
    {
     "data": {
      "text/html": [
       "<div>\n",
       "<style scoped>\n",
       "    .dataframe tbody tr th:only-of-type {\n",
       "        vertical-align: middle;\n",
       "    }\n",
       "\n",
       "    .dataframe tbody tr th {\n",
       "        vertical-align: top;\n",
       "    }\n",
       "\n",
       "    .dataframe thead th {\n",
       "        text-align: right;\n",
       "    }\n",
       "</style>\n",
       "<table border=\"1\" class=\"dataframe\">\n",
       "  <thead>\n",
       "    <tr style=\"text-align: right;\">\n",
       "      <th></th>\n",
       "      <th>bin</th>\n",
       "      <th>seq_rna</th>\n",
       "      <th>ct_0</th>\n",
       "      <th>ct_1</th>\n",
       "      <th>ct_2</th>\n",
       "      <th>ct_3</th>\n",
       "      <th>ct_4</th>\n",
       "      <th>ct_5</th>\n",
       "      <th>ct_6</th>\n",
       "      <th>ct_7</th>\n",
       "      <th>...</th>\n",
       "      <th>ct_10</th>\n",
       "      <th>ct_11</th>\n",
       "      <th>ct_12</th>\n",
       "      <th>ct_13</th>\n",
       "      <th>ct_14</th>\n",
       "      <th>ct_15</th>\n",
       "      <th>ct_16</th>\n",
       "      <th>ct_17</th>\n",
       "      <th>ct_18</th>\n",
       "      <th>ct_19</th>\n",
       "    </tr>\n",
       "  </thead>\n",
       "  <tbody>\n",
       "    <tr>\n",
       "      <th>0</th>\n",
       "      <td>5</td>\n",
       "      <td>AAAGCAAAA</td>\n",
       "      <td>0</td>\n",
       "      <td>0</td>\n",
       "      <td>0</td>\n",
       "      <td>0</td>\n",
       "      <td>0</td>\n",
       "      <td>1</td>\n",
       "      <td>0</td>\n",
       "      <td>0</td>\n",
       "      <td>...</td>\n",
       "      <td>0</td>\n",
       "      <td>0</td>\n",
       "      <td>0</td>\n",
       "      <td>0</td>\n",
       "      <td>0</td>\n",
       "      <td>0</td>\n",
       "      <td>0</td>\n",
       "      <td>0</td>\n",
       "      <td>0</td>\n",
       "      <td>0</td>\n",
       "    </tr>\n",
       "    <tr>\n",
       "      <th>1</th>\n",
       "      <td>12</td>\n",
       "      <td>AAAGCAAAC</td>\n",
       "      <td>0</td>\n",
       "      <td>0</td>\n",
       "      <td>0</td>\n",
       "      <td>0</td>\n",
       "      <td>0</td>\n",
       "      <td>0</td>\n",
       "      <td>0</td>\n",
       "      <td>0</td>\n",
       "      <td>...</td>\n",
       "      <td>0</td>\n",
       "      <td>0</td>\n",
       "      <td>1</td>\n",
       "      <td>0</td>\n",
       "      <td>0</td>\n",
       "      <td>0</td>\n",
       "      <td>0</td>\n",
       "      <td>0</td>\n",
       "      <td>0</td>\n",
       "      <td>0</td>\n",
       "    </tr>\n",
       "    <tr>\n",
       "      <th>2</th>\n",
       "      <td>4</td>\n",
       "      <td>AAAGCAAAG</td>\n",
       "      <td>0</td>\n",
       "      <td>0</td>\n",
       "      <td>0</td>\n",
       "      <td>0</td>\n",
       "      <td>1</td>\n",
       "      <td>0</td>\n",
       "      <td>0</td>\n",
       "      <td>0</td>\n",
       "      <td>...</td>\n",
       "      <td>0</td>\n",
       "      <td>0</td>\n",
       "      <td>0</td>\n",
       "      <td>0</td>\n",
       "      <td>0</td>\n",
       "      <td>0</td>\n",
       "      <td>0</td>\n",
       "      <td>0</td>\n",
       "      <td>0</td>\n",
       "      <td>0</td>\n",
       "    </tr>\n",
       "    <tr>\n",
       "      <th>3</th>\n",
       "      <td>5</td>\n",
       "      <td>AAAGCAAAU</td>\n",
       "      <td>0</td>\n",
       "      <td>0</td>\n",
       "      <td>0</td>\n",
       "      <td>0</td>\n",
       "      <td>0</td>\n",
       "      <td>1</td>\n",
       "      <td>0</td>\n",
       "      <td>0</td>\n",
       "      <td>...</td>\n",
       "      <td>0</td>\n",
       "      <td>0</td>\n",
       "      <td>0</td>\n",
       "      <td>0</td>\n",
       "      <td>0</td>\n",
       "      <td>0</td>\n",
       "      <td>0</td>\n",
       "      <td>0</td>\n",
       "      <td>0</td>\n",
       "      <td>0</td>\n",
       "    </tr>\n",
       "    <tr>\n",
       "      <th>4</th>\n",
       "      <td>9</td>\n",
       "      <td>AAAGCAACA</td>\n",
       "      <td>0</td>\n",
       "      <td>0</td>\n",
       "      <td>0</td>\n",
       "      <td>0</td>\n",
       "      <td>0</td>\n",
       "      <td>0</td>\n",
       "      <td>0</td>\n",
       "      <td>0</td>\n",
       "      <td>...</td>\n",
       "      <td>0</td>\n",
       "      <td>0</td>\n",
       "      <td>0</td>\n",
       "      <td>0</td>\n",
       "      <td>0</td>\n",
       "      <td>0</td>\n",
       "      <td>0</td>\n",
       "      <td>0</td>\n",
       "      <td>0</td>\n",
       "      <td>0</td>\n",
       "    </tr>\n",
       "    <tr>\n",
       "      <th>5</th>\n",
       "      <td>5</td>\n",
       "      <td>AAAGCAACC</td>\n",
       "      <td>0</td>\n",
       "      <td>0</td>\n",
       "      <td>0</td>\n",
       "      <td>0</td>\n",
       "      <td>0</td>\n",
       "      <td>1</td>\n",
       "      <td>0</td>\n",
       "      <td>0</td>\n",
       "      <td>...</td>\n",
       "      <td>0</td>\n",
       "      <td>0</td>\n",
       "      <td>0</td>\n",
       "      <td>0</td>\n",
       "      <td>0</td>\n",
       "      <td>0</td>\n",
       "      <td>0</td>\n",
       "      <td>0</td>\n",
       "      <td>0</td>\n",
       "      <td>0</td>\n",
       "    </tr>\n",
       "    <tr>\n",
       "      <th>6</th>\n",
       "      <td>17</td>\n",
       "      <td>AAAGCAACG</td>\n",
       "      <td>0</td>\n",
       "      <td>0</td>\n",
       "      <td>0</td>\n",
       "      <td>0</td>\n",
       "      <td>0</td>\n",
       "      <td>0</td>\n",
       "      <td>0</td>\n",
       "      <td>0</td>\n",
       "      <td>...</td>\n",
       "      <td>0</td>\n",
       "      <td>0</td>\n",
       "      <td>0</td>\n",
       "      <td>0</td>\n",
       "      <td>0</td>\n",
       "      <td>0</td>\n",
       "      <td>0</td>\n",
       "      <td>1</td>\n",
       "      <td>0</td>\n",
       "      <td>0</td>\n",
       "    </tr>\n",
       "    <tr>\n",
       "      <th>7</th>\n",
       "      <td>12</td>\n",
       "      <td>AAAGCAACU</td>\n",
       "      <td>0</td>\n",
       "      <td>0</td>\n",
       "      <td>0</td>\n",
       "      <td>0</td>\n",
       "      <td>0</td>\n",
       "      <td>0</td>\n",
       "      <td>0</td>\n",
       "      <td>0</td>\n",
       "      <td>...</td>\n",
       "      <td>0</td>\n",
       "      <td>0</td>\n",
       "      <td>1</td>\n",
       "      <td>0</td>\n",
       "      <td>0</td>\n",
       "      <td>0</td>\n",
       "      <td>0</td>\n",
       "      <td>0</td>\n",
       "      <td>0</td>\n",
       "      <td>0</td>\n",
       "    </tr>\n",
       "    <tr>\n",
       "      <th>8</th>\n",
       "      <td>17</td>\n",
       "      <td>AAAGCAAGA</td>\n",
       "      <td>0</td>\n",
       "      <td>0</td>\n",
       "      <td>0</td>\n",
       "      <td>0</td>\n",
       "      <td>0</td>\n",
       "      <td>0</td>\n",
       "      <td>0</td>\n",
       "      <td>0</td>\n",
       "      <td>...</td>\n",
       "      <td>0</td>\n",
       "      <td>0</td>\n",
       "      <td>0</td>\n",
       "      <td>0</td>\n",
       "      <td>0</td>\n",
       "      <td>0</td>\n",
       "      <td>0</td>\n",
       "      <td>1</td>\n",
       "      <td>0</td>\n",
       "      <td>0</td>\n",
       "    </tr>\n",
       "    <tr>\n",
       "      <th>9</th>\n",
       "      <td>14</td>\n",
       "      <td>AAAGCAAGC</td>\n",
       "      <td>0</td>\n",
       "      <td>0</td>\n",
       "      <td>0</td>\n",
       "      <td>0</td>\n",
       "      <td>0</td>\n",
       "      <td>0</td>\n",
       "      <td>0</td>\n",
       "      <td>0</td>\n",
       "      <td>...</td>\n",
       "      <td>0</td>\n",
       "      <td>0</td>\n",
       "      <td>0</td>\n",
       "      <td>0</td>\n",
       "      <td>1</td>\n",
       "      <td>0</td>\n",
       "      <td>0</td>\n",
       "      <td>0</td>\n",
       "      <td>0</td>\n",
       "      <td>0</td>\n",
       "    </tr>\n",
       "  </tbody>\n",
       "</table>\n",
       "<p>10 rows × 22 columns</p>\n",
       "</div>"
      ],
      "text/plain": [
       "  bin    seq_rna  ct_0  ct_1  ct_2  ct_3  ct_4  ct_5  ct_6  ct_7  ...    \\\n",
       "0   5  AAAGCAAAA     0     0     0     0     0     1     0     0  ...     \n",
       "1  12  AAAGCAAAC     0     0     0     0     0     0     0     0  ...     \n",
       "2   4  AAAGCAAAG     0     0     0     0     1     0     0     0  ...     \n",
       "3   5  AAAGCAAAU     0     0     0     0     0     1     0     0  ...     \n",
       "4   9  AAAGCAACA     0     0     0     0     0     0     0     0  ...     \n",
       "5   5  AAAGCAACC     0     0     0     0     0     1     0     0  ...     \n",
       "6  17  AAAGCAACG     0     0     0     0     0     0     0     0  ...     \n",
       "7  12  AAAGCAACU     0     0     0     0     0     0     0     0  ...     \n",
       "8  17  AAAGCAAGA     0     0     0     0     0     0     0     0  ...     \n",
       "9  14  AAAGCAAGC     0     0     0     0     0     0     0     0  ...     \n",
       "\n",
       "   ct_10  ct_11  ct_12  ct_13  ct_14  ct_15  ct_16  ct_17  ct_18  ct_19  \n",
       "0      0      0      0      0      0      0      0      0      0      0  \n",
       "1      0      0      1      0      0      0      0      0      0      0  \n",
       "2      0      0      0      0      0      0      0      0      0      0  \n",
       "3      0      0      0      0      0      0      0      0      0      0  \n",
       "4      0      0      0      0      0      0      0      0      0      0  \n",
       "5      0      0      0      0      0      0      0      0      0      0  \n",
       "6      0      0      0      0      0      0      0      1      0      0  \n",
       "7      0      0      1      0      0      0      0      0      0      0  \n",
       "8      0      0      0      0      0      0      0      1      0      0  \n",
       "9      0      0      0      0      1      0      0      0      0      0  \n",
       "\n",
       "[10 rows x 22 columns]"
      ]
     },
     "execution_count": 54,
     "metadata": {},
     "output_type": "execute_result"
    }
   ],
   "source": [
    "seq_counts_df.head(10)"
   ]
  },
  {
   "cell_type": "code",
   "execution_count": 55,
   "metadata": {},
   "outputs": [
    {
     "data": {
      "text/plain": [
       "16298"
      ]
     },
     "execution_count": 55,
     "metadata": {},
     "output_type": "execute_result"
    }
   ],
   "source": [
    "len(temp_df['val_scaled'])"
   ]
  },
  {
   "cell_type": "markdown",
   "metadata": {},
   "source": [
    "## Write dataframe to file to be evaluated by mpathic"
   ]
  },
  {
   "cell_type": "code",
   "execution_count": 56,
   "metadata": {
    "collapsed": true
   },
   "outputs": [],
   "source": [
    "seq_counts_df.to_csv('global_epistasis_RNA_splicing/rna_mpathic_7_replicates_format_20_ct.csv',sep='\\t')"
   ]
  },
  {
   "cell_type": "code",
   "execution_count": null,
   "metadata": {
    "collapsed": true
   },
   "outputs": [],
   "source": []
  },
  {
   "cell_type": "code",
   "execution_count": null,
   "metadata": {
    "collapsed": true
   },
   "outputs": [],
   "source": []
  },
  {
   "cell_type": "code",
   "execution_count": 57,
   "metadata": {},
   "outputs": [
    {
     "data": {
      "text/plain": [
       "'/Users/tareen/Desktop/Desktop_Tests/MPathic3/mpathic/data/rnap_convnet/ANN_Logisitc_Regression'"
      ]
     },
     "execution_count": 57,
     "metadata": {},
     "output_type": "execute_result"
    }
   ],
   "source": [
    "import os\n",
    "os.getcwd()"
   ]
  },
  {
   "cell_type": "code",
   "execution_count": 58,
   "metadata": {
    "collapsed": true
   },
   "outputs": [],
   "source": [
    "# rna_splice_df_7_replicates\n",
    "eval_model_df = pd.read_csv('global_epistasis_RNA_splicing/evaluated_rna_model_7_replicates_val_20_ct.csv',sep='\\t')"
   ]
  },
  {
   "cell_type": "code",
   "execution_count": 59,
   "metadata": {
    "collapsed": true
   },
   "outputs": [],
   "source": [
    "del eval_model_df['Unnamed: 0']"
   ]
  },
  {
   "cell_type": "code",
   "execution_count": 60,
   "metadata": {},
   "outputs": [
    {
     "data": {
      "text/html": [
       "<div>\n",
       "<style scoped>\n",
       "    .dataframe tbody tr th:only-of-type {\n",
       "        vertical-align: middle;\n",
       "    }\n",
       "\n",
       "    .dataframe tbody tr th {\n",
       "        vertical-align: top;\n",
       "    }\n",
       "\n",
       "    .dataframe thead th {\n",
       "        text-align: right;\n",
       "    }\n",
       "</style>\n",
       "<table border=\"1\" class=\"dataframe\">\n",
       "  <thead>\n",
       "    <tr style=\"text-align: right;\">\n",
       "      <th></th>\n",
       "      <th>ct</th>\n",
       "      <th>ct_0</th>\n",
       "      <th>ct_1</th>\n",
       "      <th>ct_10</th>\n",
       "      <th>ct_11</th>\n",
       "      <th>ct_12</th>\n",
       "      <th>ct_13</th>\n",
       "      <th>ct_14</th>\n",
       "      <th>ct_15</th>\n",
       "      <th>ct_16</th>\n",
       "      <th>...</th>\n",
       "      <th>ct_3</th>\n",
       "      <th>ct_4</th>\n",
       "      <th>ct_5</th>\n",
       "      <th>ct_6</th>\n",
       "      <th>ct_7</th>\n",
       "      <th>ct_8</th>\n",
       "      <th>ct_9</th>\n",
       "      <th>seq_rna</th>\n",
       "      <th>val</th>\n",
       "      <th>val_scaled</th>\n",
       "    </tr>\n",
       "  </thead>\n",
       "  <tbody>\n",
       "    <tr>\n",
       "      <th>0</th>\n",
       "      <td>1</td>\n",
       "      <td>0</td>\n",
       "      <td>0</td>\n",
       "      <td>0</td>\n",
       "      <td>0</td>\n",
       "      <td>0</td>\n",
       "      <td>0</td>\n",
       "      <td>0</td>\n",
       "      <td>0</td>\n",
       "      <td>0</td>\n",
       "      <td>...</td>\n",
       "      <td>0</td>\n",
       "      <td>0</td>\n",
       "      <td>1</td>\n",
       "      <td>0</td>\n",
       "      <td>0</td>\n",
       "      <td>0</td>\n",
       "      <td>0</td>\n",
       "      <td>AAAGCAAAA</td>\n",
       "      <td>1.220459</td>\n",
       "      <td>0.675439</td>\n",
       "    </tr>\n",
       "    <tr>\n",
       "      <th>1</th>\n",
       "      <td>1</td>\n",
       "      <td>0</td>\n",
       "      <td>0</td>\n",
       "      <td>0</td>\n",
       "      <td>0</td>\n",
       "      <td>1</td>\n",
       "      <td>0</td>\n",
       "      <td>0</td>\n",
       "      <td>0</td>\n",
       "      <td>0</td>\n",
       "      <td>...</td>\n",
       "      <td>0</td>\n",
       "      <td>0</td>\n",
       "      <td>0</td>\n",
       "      <td>0</td>\n",
       "      <td>0</td>\n",
       "      <td>0</td>\n",
       "      <td>0</td>\n",
       "      <td>AAAGCAAAC</td>\n",
       "      <td>1.220459</td>\n",
       "      <td>0.605263</td>\n",
       "    </tr>\n",
       "    <tr>\n",
       "      <th>2</th>\n",
       "      <td>1</td>\n",
       "      <td>0</td>\n",
       "      <td>0</td>\n",
       "      <td>0</td>\n",
       "      <td>0</td>\n",
       "      <td>0</td>\n",
       "      <td>0</td>\n",
       "      <td>0</td>\n",
       "      <td>0</td>\n",
       "      <td>0</td>\n",
       "      <td>...</td>\n",
       "      <td>0</td>\n",
       "      <td>1</td>\n",
       "      <td>0</td>\n",
       "      <td>0</td>\n",
       "      <td>0</td>\n",
       "      <td>0</td>\n",
       "      <td>0</td>\n",
       "      <td>AAAGCAAAG</td>\n",
       "      <td>1.220459</td>\n",
       "      <td>0.605263</td>\n",
       "    </tr>\n",
       "    <tr>\n",
       "      <th>3</th>\n",
       "      <td>1</td>\n",
       "      <td>0</td>\n",
       "      <td>0</td>\n",
       "      <td>0</td>\n",
       "      <td>0</td>\n",
       "      <td>0</td>\n",
       "      <td>0</td>\n",
       "      <td>0</td>\n",
       "      <td>0</td>\n",
       "      <td>0</td>\n",
       "      <td>...</td>\n",
       "      <td>0</td>\n",
       "      <td>0</td>\n",
       "      <td>1</td>\n",
       "      <td>0</td>\n",
       "      <td>0</td>\n",
       "      <td>0</td>\n",
       "      <td>0</td>\n",
       "      <td>AAAGCAAAU</td>\n",
       "      <td>1.220459</td>\n",
       "      <td>0.728070</td>\n",
       "    </tr>\n",
       "    <tr>\n",
       "      <th>4</th>\n",
       "      <td>1</td>\n",
       "      <td>0</td>\n",
       "      <td>0</td>\n",
       "      <td>0</td>\n",
       "      <td>0</td>\n",
       "      <td>0</td>\n",
       "      <td>0</td>\n",
       "      <td>0</td>\n",
       "      <td>0</td>\n",
       "      <td>0</td>\n",
       "      <td>...</td>\n",
       "      <td>0</td>\n",
       "      <td>0</td>\n",
       "      <td>0</td>\n",
       "      <td>0</td>\n",
       "      <td>0</td>\n",
       "      <td>0</td>\n",
       "      <td>1</td>\n",
       "      <td>AAAGCAACA</td>\n",
       "      <td>1.220459</td>\n",
       "      <td>0.619883</td>\n",
       "    </tr>\n",
       "  </tbody>\n",
       "</table>\n",
       "<p>5 rows × 24 columns</p>\n",
       "</div>"
      ],
      "text/plain": [
       "   ct  ct_0  ct_1  ct_10  ct_11  ct_12  ct_13  ct_14  ct_15  ct_16  \\\n",
       "0   1     0     0      0      0      0      0      0      0      0   \n",
       "1   1     0     0      0      0      1      0      0      0      0   \n",
       "2   1     0     0      0      0      0      0      0      0      0   \n",
       "3   1     0     0      0      0      0      0      0      0      0   \n",
       "4   1     0     0      0      0      0      0      0      0      0   \n",
       "\n",
       "      ...      ct_3  ct_4  ct_5  ct_6  ct_7  ct_8  ct_9    seq_rna       val  \\\n",
       "0     ...         0     0     1     0     0     0     0  AAAGCAAAA  1.220459   \n",
       "1     ...         0     0     0     0     0     0     0  AAAGCAAAC  1.220459   \n",
       "2     ...         0     1     0     0     0     0     0  AAAGCAAAG  1.220459   \n",
       "3     ...         0     0     1     0     0     0     0  AAAGCAAAU  1.220459   \n",
       "4     ...         0     0     0     0     0     0     1  AAAGCAACA  1.220459   \n",
       "\n",
       "   val_scaled  \n",
       "0    0.675439  \n",
       "1    0.605263  \n",
       "2    0.605263  \n",
       "3    0.728070  \n",
       "4    0.619883  \n",
       "\n",
       "[5 rows x 24 columns]"
      ]
     },
     "execution_count": 60,
     "metadata": {},
     "output_type": "execute_result"
    }
   ],
   "source": [
    "# scale predicted value between 0 and 1\n",
    "val_scaled_eval = eval_model_df['val']\n",
    "val_scaled_eval = (val_scaled_eval-min(val_scaled_eval))/(max(val_scaled_eval)-min(val_scaled_eval))\n",
    "eval_model_df['val_scaled'] = val_scaled_eval\n",
    "\n",
    "eval_model_df.head()"
   ]
  },
  {
   "cell_type": "code",
   "execution_count": 61,
   "metadata": {},
   "outputs": [
    {
     "data": {
      "text/plain": [
       "Text(0.06,0.5,'Bin Number')"
      ]
     },
     "execution_count": 61,
     "metadata": {},
     "output_type": "execute_result"
    },
    {
     "data": {
      "image/png": "[encoded data removed]",
      "text/plain": [
       "<Figure size 648x432 with 20 Axes>"
      ]
     },
     "metadata": {},
     "output_type": "display_data"
    }
   ],
   "source": [
    "#plt.figure(figsize=[5,6])\n",
    "\n",
    "# gather counts/ticks vs. predictions data\n",
    "list_of_counts_lists = []\n",
    "medians_vs_bin = []\n",
    "\n",
    "# loop over ct_# columns\n",
    "for ct_col_index in range(len(bins)-1):        \n",
    "    \n",
    "    # create temporary list and append it to list of lists\n",
    "    temp_list = []\n",
    "    # loop over all rows the current column\n",
    "    for line_index in range(len(eval_model_df)):\n",
    "        \n",
    "        if(eval_model_df['ct_'+str(ct_col_index)][line_index]==1):\n",
    "            \n",
    "            temp_list.append(eval_model_df['val_scaled'][line_index])\n",
    "    \n",
    "    list_of_counts_lists.append(temp_list)\n",
    "    \n",
    "fig, ax = plt.subplots(nrows=len(bins)-1,sharex=True, ncols=1,figsize=(9,6))    \n",
    "\n",
    "ax[0].set_title('RNA splice data')\n",
    "\n",
    "# make subplots\n",
    "for ct_col_index in range(len(bins)-1):\n",
    "\n",
    "    for xc in list_of_counts_lists[len(bins)-2-ct_col_index]:\n",
    "        \n",
    "        ax[ct_col_index].axvline(x=xc,alpha=0.25,linewidth=1)\n",
    "        \n",
    "    ax[ct_col_index].axvline(x=np.mean(list_of_counts_lists[len(bins)-2-ct_col_index]),linewidth=3,color='red')    \n",
    "    #ax[ct_col_index].set_ylabel('ct_'+str(len(bins)-2-ct_col_index))\n",
    "    ax[ct_col_index].set_ylabel(str(len(bins)-2-ct_col_index))\n",
    "    ax[ct_col_index].set_yticks([])\n",
    "    medians_vs_bin.append(np.median(list_of_counts_lists[len(bins)-2-ct_col_index]))\n",
    "\n",
    "# put x label under last panel\n",
    "ax[ct_col_index].set_xlabel('Model Prediction (scaled to [0-1])')    \n",
    "fig.text(0.06, 0.5, 'Bin Number', ha='center', va='center', rotation='vertical')\n",
    "\n",
    "#plt.tight_layout() \n"
   ]
  },
  {
   "cell_type": "code",
   "execution_count": 90,
   "metadata": {
    "collapsed": true
   },
   "outputs": [],
   "source": [
    "#plt.plot(medians_vs_bin,'ro')\n",
    "temp_list = medians_vs_bin.copy()"
   ]
  },
  {
   "cell_type": "code",
   "execution_count": 91,
   "metadata": {
    "collapsed": true
   },
   "outputs": [],
   "source": [
    "temp_list = np.array(temp_list)\n",
    "temp_list = (temp_list-min(temp_list))/(max(temp_list)-min(temp_list))"
   ]
  },
  {
   "cell_type": "code",
   "execution_count": 92,
   "metadata": {
    "collapsed": true
   },
   "outputs": [],
   "source": [
    "list_of_temp_list = []\n",
    "list_of_temp_list.append(np.linspace(0,1,20))\n",
    "list_of_temp_list.append(temp_list)"
   ]
  },
  {
   "cell_type": "code",
   "execution_count": 93,
   "metadata": {},
   "outputs": [
    {
     "data": {
      "text/plain": [
       "[<matplotlib.lines.Line2D at 0x12e50a390>]"
      ]
     },
     "execution_count": 93,
     "metadata": {},
     "output_type": "execute_result"
    },
    {
     "data": {
      "image/png": "[encoded data removed]",
      "text/plain": [
       "<Figure size 432x288 with 1 Axes>"
      ]
     },
     "metadata": {},
     "output_type": "display_data"
    }
   ],
   "source": [
    "plt.plot(temp_list,'o')"
   ]
  },
  {
   "cell_type": "markdown",
   "metadata": {},
   "source": [
    "## Learned Model"
   ]
  },
  {
   "cell_type": "code",
   "execution_count": null,
   "metadata": {
    "collapsed": true
   },
   "outputs": [],
   "source": []
  },
  {
   "cell_type": "code",
   "execution_count": 44,
   "metadata": {},
   "outputs": [
    {
     "data": {
      "text/html": [
       "<div>\n",
       "<style scoped>\n",
       "    .dataframe tbody tr th:only-of-type {\n",
       "        vertical-align: middle;\n",
       "    }\n",
       "\n",
       "    .dataframe tbody tr th {\n",
       "        vertical-align: top;\n",
       "    }\n",
       "\n",
       "    .dataframe thead th {\n",
       "        text-align: right;\n",
       "    }\n",
       "</style>\n",
       "<table border=\"1\" class=\"dataframe\">\n",
       "  <thead>\n",
       "    <tr style=\"text-align: right;\">\n",
       "      <th></th>\n",
       "      <th>pos</th>\n",
       "      <th>val_A</th>\n",
       "      <th>val_C</th>\n",
       "      <th>val_G</th>\n",
       "      <th>val_U</th>\n",
       "    </tr>\n",
       "  </thead>\n",
       "  <tbody>\n",
       "    <tr>\n",
       "      <th>0</th>\n",
       "      <td>0</td>\n",
       "      <td>-0.000183</td>\n",
       "      <td>0.000114</td>\n",
       "      <td>0.000479</td>\n",
       "      <td>-0.000410</td>\n",
       "    </tr>\n",
       "    <tr>\n",
       "      <th>1</th>\n",
       "      <td>1</td>\n",
       "      <td>0.000038</td>\n",
       "      <td>0.000332</td>\n",
       "      <td>0.000176</td>\n",
       "      <td>-0.000546</td>\n",
       "    </tr>\n",
       "    <tr>\n",
       "      <th>2</th>\n",
       "      <td>2</td>\n",
       "      <td>-0.000060</td>\n",
       "      <td>0.000382</td>\n",
       "      <td>-0.000122</td>\n",
       "      <td>-0.000199</td>\n",
       "    </tr>\n",
       "    <tr>\n",
       "      <th>3</th>\n",
       "      <td>3</td>\n",
       "      <td>1.055889</td>\n",
       "      <td>0.286051</td>\n",
       "      <td>-0.931117</td>\n",
       "      <td>-0.410823</td>\n",
       "    </tr>\n",
       "    <tr>\n",
       "      <th>4</th>\n",
       "      <td>4</td>\n",
       "      <td>-0.966718</td>\n",
       "      <td>0.622794</td>\n",
       "      <td>-0.278694</td>\n",
       "      <td>0.622618</td>\n",
       "    </tr>\n",
       "    <tr>\n",
       "      <th>5</th>\n",
       "      <td>5</td>\n",
       "      <td>-0.000215</td>\n",
       "      <td>0.000279</td>\n",
       "      <td>0.000362</td>\n",
       "      <td>-0.000426</td>\n",
       "    </tr>\n",
       "    <tr>\n",
       "      <th>6</th>\n",
       "      <td>6</td>\n",
       "      <td>-0.000071</td>\n",
       "      <td>0.000266</td>\n",
       "      <td>0.000152</td>\n",
       "      <td>-0.000346</td>\n",
       "    </tr>\n",
       "    <tr>\n",
       "      <th>7</th>\n",
       "      <td>7</td>\n",
       "      <td>-0.000056</td>\n",
       "      <td>-0.000053</td>\n",
       "      <td>0.000325</td>\n",
       "      <td>-0.000216</td>\n",
       "    </tr>\n",
       "    <tr>\n",
       "      <th>8</th>\n",
       "      <td>8</td>\n",
       "      <td>-0.000159</td>\n",
       "      <td>0.000181</td>\n",
       "      <td>0.000232</td>\n",
       "      <td>-0.000255</td>\n",
       "    </tr>\n",
       "  </tbody>\n",
       "</table>\n",
       "</div>"
      ],
      "text/plain": [
       "   pos     val_A     val_C     val_G     val_U\n",
       "0    0 -0.000183  0.000114  0.000479 -0.000410\n",
       "1    1  0.000038  0.000332  0.000176 -0.000546\n",
       "2    2 -0.000060  0.000382 -0.000122 -0.000199\n",
       "3    3  1.055889  0.286051 -0.931117 -0.410823\n",
       "4    4 -0.966718  0.622794 -0.278694  0.622618\n",
       "5    5 -0.000215  0.000279  0.000362 -0.000426\n",
       "6    6 -0.000071  0.000266  0.000152 -0.000346\n",
       "7    7 -0.000056 -0.000053  0.000325 -0.000216\n",
       "8    8 -0.000159  0.000181  0.000232 -0.000255"
      ]
     },
     "execution_count": 44,
     "metadata": {},
     "output_type": "execute_result"
    }
   ],
   "source": [
    "#learned_model_im = pd.read_csv('/Users/tareen/Desktop/Desktop_Tests/MPathic3/learn_model_via_im.csv',sep='\\t',header='infer')\n",
    "#learned_model_im = pd.read_csv('/Users/tareen/Desktop/Desktop_Tests/MPathic3/sort_seq_IM_model.csv',sep='\\t')\n",
    "learned_model_IM = pd.read_csv('/Users/tareen/Desktop/Desktop_Tests/MPathic3/RNA_learned_model_IM_good.csv',sep='\\t')\n",
    "#learned_model_im = pd.read_csv('/Users/tareen/Desktop/Desktop_Tests/MPathic3/sort_seq_LS_model.csv',sep='\\t')\n",
    "del learned_model_IM['Unnamed: 0']\n",
    "#learned_model_IM = learned_model_IM[[ 'val_A', 'val_C', 'val_G', 'val_U']]\n",
    "# learned_model_im.columns\n",
    "#learned_model_im = learned_model_im[['val_A', 'val_C', 'val_D', 'val_E', 'val_F', 'val_G','val_H', 'val_I', 'val_K', 'val_L', 'val_M', 'val_N', 'val_P', 'val_Q','val_R', 'val_S', 'val_T', 'val_V', 'val_W', 'val_Y']]\n",
    "learned_model_IM"
   ]
  },
  {
   "cell_type": "markdown",
   "metadata": {},
   "source": [
    "## Fix Gauge"
   ]
  },
  {
   "cell_type": "code",
   "execution_count": 46,
   "metadata": {
    "collapsed": true
   },
   "outputs": [],
   "source": [
    "# fix the gauge of the learned model\n",
    "\n",
    "#row_means_list = []\n",
    "#for mean_index in range(len(learned_model_IM)):\n",
    "#    row_means_list.append(np.mean(learned_model_IM.loc[mean_index,:]))\n",
    "#    learned_model_IM.loc[mean_index,:] = learned_model_IM.loc[mean_index,:]-row_means_list[mean_index]"
   ]
  },
  {
   "cell_type": "code",
   "execution_count": 60,
   "metadata": {},
   "outputs": [
    {
     "data": {
      "image/png": "[encoded data removed]",
      "text/plain": [
       "<Figure size 576x144 with 2 Axes>"
      ]
     },
     "metadata": {},
     "output_type": "display_data"
    }
   ],
   "source": [
    "import seaborn as sns\n",
    "plt.figure(figsize=[8,2])\n",
    "sns.heatmap(learned_model_IM[[ 'val_A', 'val_C', 'val_G', 'val_U']].T,cmap='RdBu',linewidths=.5)\n",
    "plt.savefig('RNA_splice_learned_model_IM.pdf')\n",
    "plt.show()"
   ]
  },
  {
   "cell_type": "code",
   "execution_count": 62,
   "metadata": {
    "collapsed": true
   },
   "outputs": [],
   "source": [
    "#rna_splice_df_measurement_vs_pred = pd.read_csv('rna_splice_df_linear_trait_vs_measurements.csv')\n",
    "rna_splice_df_measurement_vs_pred = pd.read_csv('global_epistasis_RNA_splicing/rna_splice_df_7_replicates.csv')\n",
    "\n",
    "del rna_splice_df_measurement_vs_pred['Unnamed: 0']"
   ]
  },
  {
   "cell_type": "code",
   "execution_count": 63,
   "metadata": {},
   "outputs": [
    {
     "data": {
      "text/html": [
       "<div>\n",
       "<style scoped>\n",
       "    .dataframe tbody tr th:only-of-type {\n",
       "        vertical-align: middle;\n",
       "    }\n",
       "\n",
       "    .dataframe tbody tr th {\n",
       "        vertical-align: top;\n",
       "    }\n",
       "\n",
       "    .dataframe thead th {\n",
       "        text-align: right;\n",
       "    }\n",
       "</style>\n",
       "<table border=\"1\" class=\"dataframe\">\n",
       "  <thead>\n",
       "    <tr style=\"text-align: right;\">\n",
       "      <th></th>\n",
       "      <th>seq_rna</th>\n",
       "      <th>measurements</th>\n",
       "      <th>replicates</th>\n",
       "      <th>prediction</th>\n",
       "    </tr>\n",
       "  </thead>\n",
       "  <tbody>\n",
       "    <tr>\n",
       "      <th>0</th>\n",
       "      <td>AAAGCAAAA</td>\n",
       "      <td>0.227001</td>\n",
       "      <td>7</td>\n",
       "      <td>1.220459</td>\n",
       "    </tr>\n",
       "    <tr>\n",
       "      <th>1</th>\n",
       "      <td>AAAGCAAAC</td>\n",
       "      <td>0.522138</td>\n",
       "      <td>7</td>\n",
       "      <td>1.220459</td>\n",
       "    </tr>\n",
       "    <tr>\n",
       "      <th>2</th>\n",
       "      <td>AAAGCAAAG</td>\n",
       "      <td>0.210907</td>\n",
       "      <td>7</td>\n",
       "      <td>1.220459</td>\n",
       "    </tr>\n",
       "    <tr>\n",
       "      <th>3</th>\n",
       "      <td>AAAGCAAAU</td>\n",
       "      <td>0.232645</td>\n",
       "      <td>7</td>\n",
       "      <td>1.220459</td>\n",
       "    </tr>\n",
       "    <tr>\n",
       "      <th>4</th>\n",
       "      <td>AAAGCAACA</td>\n",
       "      <td>0.362139</td>\n",
       "      <td>7</td>\n",
       "      <td>1.220459</td>\n",
       "    </tr>\n",
       "  </tbody>\n",
       "</table>\n",
       "</div>"
      ],
      "text/plain": [
       "     seq_rna  measurements  replicates  prediction\n",
       "0  AAAGCAAAA      0.227001           7    1.220459\n",
       "1  AAAGCAAAC      0.522138           7    1.220459\n",
       "2  AAAGCAAAG      0.210907           7    1.220459\n",
       "3  AAAGCAAAU      0.232645           7    1.220459\n",
       "4  AAAGCAACA      0.362139           7    1.220459"
      ]
     },
     "execution_count": 63,
     "metadata": {},
     "output_type": "execute_result"
    }
   ],
   "source": [
    "rna_splice_df_measurement_vs_pred.head()"
   ]
  },
  {
   "cell_type": "code",
   "execution_count": 73,
   "metadata": {
    "collapsed": true
   },
   "outputs": [],
   "source": [
    "#rna_linear_trait = rna_splice_df_measurement_vs_pred['prediction']\n",
    "rna_linear_trait = val_scaled_eval\n",
    "rna_true_labels = rna_splice_df_measurement_vs_pred['measurements']\n",
    "\n",
    "\n",
    "#max(rna_linear_trait)\n",
    "#rna_linear_trait_scaled = rna_linear_trait.values\n",
    "#rna_linear_trait_scaled = (rna_linear_trait_scaled-min(rna_linear_trait_scaled))/(max(rna_linear_trait_scaled)-min(rna_linear_trait_scaled))"
   ]
  },
  {
   "cell_type": "code",
   "execution_count": 87,
   "metadata": {},
   "outputs": [
    {
     "data": {
      "image/png": "[encoded data removed]",
      "text/plain": [
       "<Figure size 720x576 with 1 Axes>"
      ]
     },
     "metadata": {},
     "output_type": "display_data"
    }
   ],
   "source": [
    "\n",
    "\n",
    "figure_size = [10,8]\n",
    "plt.figure(figsize=figure_size)\n",
    "#plt.xlim([-0.311,-0.306])\n",
    "plt.ylim([-4,6])\n",
    "\n",
    "#plt.scatter(-(np.array(list_of_temp_list[1])),np.log(np.array(list_of_temp_list[0])[::-1]/1.3+1e-10),color='black',s=30,zorder=0,label='Measurment bins vs. prediction medians')\n",
    "\n",
    "#plt.scatter(-rna_linear_trait_scaled,rna_true_labels,s=10,alpha=0.75,color='gray', label='True values vs. additive trait',zorder=1)\n",
    "plt.scatter(-rna_linear_trait,np.log(rna_true_labels+1e-10),s=10,alpha=0.75,color='gray', label='True values vs. additive trait',zorder=1)\n",
    "#plt.plot(medians_vs_bin)\n",
    "plt.xlabel('Additive trait (MPAthic)',fontsize=14)\n",
    "plt.ylabel('Measured Values',fontsize=14)\n",
    "plt.tick_params(labelsize=14)\n",
    "plt.legend(fontsize=14)\n",
    "plt.title('Information Maximization',fontsize=14)\n",
    "#plt.savefig('RNA_splice_measured_vs_additive_IM.pdf')\n",
    "#plt.savefig('RNA_splice_measured_vs_additive_IM_with_mpathic_pred.png')\n",
    "plt.tight_layout()\n",
    "plt.show()"
   ]
  },
  {
   "cell_type": "code",
   "execution_count": 94,
   "metadata": {},
   "outputs": [
    {
     "name": "stderr",
     "output_type": "stream",
     "text": [
      "/Users/tareen/Library/Python/3.6/lib/python/site-packages/scipy/stats/stats.py:1706: FutureWarning: Using a non-tuple sequence for multidimensional indexing is deprecated; use `arr[tuple(seq)]` instead of `arr[seq]`. In the future this will be interpreted as an array index, `arr[np.array(seq)]`, which will result either in an error or a different result.\n",
      "  return np.add.reduce(sorted[indexer] * weights, axis=axis) / sumval\n",
      "/Users/tareen/Library/Python/3.6/lib/python/site-packages/matplotlib/contour.py:960: UserWarning: The following kwargs were not used by contour: 'figsize'\n",
      "  s)\n"
     ]
    },
    {
     "data": {
      "image/png": "[encoded data removed]",
      "text/plain": [
       "<Figure size 720x576 with 2 Axes>"
      ]
     },
     "metadata": {},
     "output_type": "display_data"
    }
   ],
   "source": [
    "import matplotlib.pyplot as pl\n",
    "import seaborn as sns\n",
    "\n",
    "figure_size = [10,8]\n",
    "pl.figure(figsize=figure_size)\n",
    "\n",
    "ax = sns.kdeplot(-rna_linear_trait, np.log(rna_true_labels+1e-10),figsize=[10,8],gridsize=200, shade = True, cmap = \"rainbow\",cbar=True)\n",
    "#ax.patch.set_facecolor('white')\n",
    "ax.collections[0].set_alpha(0.0)\n",
    "ax.set_xlabel('Additive Trait', fontsize = 13)\n",
    "ax.set_ylabel('Log[Measured Values]', fontsize = 13)\n",
    "ax.set_title('Kernel Density Plot')\n",
    "#pl.xlim(-0.7, -0.2)\n",
    "#figure_size = [10,8]\n",
    "#pl.figure(figsize=figure_size)\n",
    "pl.ylim([-4, 6])\n",
    "#pl.scatter(-rna_linear_trait_scaled,np.log(rna_true_labels),s=1,alpha=0.25,color='gray', zorder=1)\n",
    "#pl.plot([-3, 3], [-3, 3], color = \"black\", linewidth = 1)\n",
    "pl.show()\n",
    "\n"
   ]
  },
  {
   "cell_type": "markdown",
   "metadata": {},
   "source": [
    "## Sequences Logos"
   ]
  },
  {
   "cell_type": "code",
   "execution_count": 427,
   "metadata": {
    "collapsed": true
   },
   "outputs": [],
   "source": [
    "import sys\n",
    "sys.path.insert(0,'/Users/tareen/Desktop/Desktop_Tests/logomaker3')\n",
    "import logomaker"
   ]
  },
  {
   "cell_type": "code",
   "execution_count": 428,
   "metadata": {},
   "outputs": [
    {
     "data": {
      "text/plain": [
       "Index(['seq_rna', 'val_predicted', 'evaluated_mpathic_linear_trait',\n",
       "       'measurments', 'measurements_scaled_0_1'],\n",
       "      dtype='object')"
      ]
     },
     "execution_count": 428,
     "metadata": {},
     "output_type": "execute_result"
    }
   ],
   "source": [
    "rna_splice_df_measurement_vs_pred.columns"
   ]
  },
  {
   "cell_type": "code",
   "execution_count": 435,
   "metadata": {
    "collapsed": true
   },
   "outputs": [],
   "source": [
    "seq_measurments = rna_splice_df_measurement_vs_pred[['measurements_scaled_0_1','seq_rna']].copy()"
   ]
  },
  {
   "cell_type": "code",
   "execution_count": 635,
   "metadata": {
    "collapsed": true
   },
   "outputs": [],
   "source": [
    "# sequences with value greater than some number\n",
    "high_value_seqs = seq_measurments.loc[seq_measurments['measurements_scaled_0_1']>=0.5]['seq_rna']\n",
    "low_value_seqs = seq_measurments.loc[seq_measurments['measurements_scaled_0_1']<0.5]['seq_rna']"
   ]
  },
  {
   "cell_type": "code",
   "execution_count": null,
   "metadata": {
    "collapsed": true
   },
   "outputs": [],
   "source": []
  },
  {
   "cell_type": "code",
   "execution_count": 636,
   "metadata": {},
   "outputs": [
    {
     "data": {
      "image/png": "[encoded data removed]",
      "text/plain": [
       "<Figure size 864x576 with 3 Axes>"
      ]
     },
     "metadata": {},
     "output_type": "display_data"
    }
   ],
   "source": [
    "all_seqs = pd.DataFrame({'seqs':seq_measurments['seq_rna']})\n",
    "loaded_alignment_all_seqs = logomaker.load_alignment(sequences = all_seqs['seqs'])\n",
    "\n",
    "high_value_seqs_df = pd.DataFrame({'seqs':high_value_seqs.values})\n",
    "loaded_alignment_high_val_seqs = logomaker.load_alignment(sequences = high_value_seqs_df['seqs'])\n",
    "\n",
    "\n",
    "\n",
    "low_value_seqs_df = pd.DataFrame({'seqs':low_value_seqs.values})\n",
    "loaded_alignment_low_val_seqs = logomaker.load_alignment(sequences = low_value_seqs_df['seqs'])\n",
    "\n",
    "logo_low_val = logomaker.make_logo(\n",
    "                            dataframe=loaded_alignment_low_val_seqs,\n",
    "                            matrix_type='probability',\n",
    "                            sequence_type='RNA',\n",
    "                            ytick_format='%0.1f',\n",
    "                            draw_now=False,\n",
    "                            figsize=[12,3],\n",
    "                            #ylim=[0,0.5]\n",
    "                    )\n",
    "\n",
    "\n",
    "logo_high_val = logomaker.make_logo(\n",
    "                            dataframe=loaded_alignment_high_val_seqs,\n",
    "                            matrix_type='probability',\n",
    "                            sequence_type='RNA',\n",
    "                            ytick_format='%0.1f',\n",
    "                            draw_now=False,\n",
    "                            figsize=[12,3],\n",
    "                            #ylim=[0,0.5]\n",
    "                    )\n",
    "\n",
    "logo_all_seqs = logomaker.make_logo(\n",
    "                            dataframe=loaded_alignment_all_seqs,\n",
    "                            matrix_type='probability',\n",
    "                            sequence_type='RNA',\n",
    "                            ytick_format='%0.1f',\n",
    "                            draw_now=False,\n",
    "                            figsize=[12,3],\n",
    "                            #ylim=[0,0.5]\n",
    "                    )\n",
    "\n",
    "\n",
    "# Draw logos\n",
    "fig, ax_list = plt.subplots(3, figsize=[12,8])\n",
    "ax_list[0].set_title('Low values Logo')\n",
    "logo_low_val.draw(ax_list[0])\n",
    "ax_list[1].set_title('High Values Logo')\n",
    "ax_list[1].set_xlabel('position')\n",
    "logo_high_val.draw(ax_list[1])\n",
    "#fig.text(-0.015, 0.55, 'Infomration [Bits]', ha='center', va='center', rotation='vertical',fontsize=14)\n",
    "fig.text(-0.015, 0.55, 'Probability', ha='center', va='center', rotation='vertical',fontsize=14)\n",
    "ax_list[2].set_title('All Values Logo')\n",
    "logo_all_seqs.draw(ax_list[2])"
   ]
  },
  {
   "cell_type": "code",
   "execution_count": 652,
   "metadata": {},
   "outputs": [
    {
     "data": {
      "text/plain": [
       "Text(-0.015,0.55,'Information [bits]')"
      ]
     },
     "execution_count": 652,
     "metadata": {},
     "output_type": "execute_result"
    },
    {
     "data": {
      "image/png": "[encoded data removed]",
      "text/plain": [
       "<Figure size 864x360 with 2 Axes>"
      ]
     },
     "metadata": {},
     "output_type": "display_data"
    }
   ],
   "source": [
    "all_seqs = pd.DataFrame({'seqs':seq_measurments['seq_rna']})\n",
    "loaded_alignment_all_seqs = logomaker.load_alignment(sequences = all_seqs['seqs'])\n",
    "\n",
    "high_value_seqs_df = pd.DataFrame({'seqs':high_value_seqs.values})\n",
    "loaded_alignment_high_val_seqs = logomaker.load_alignment(sequences = high_value_seqs_df['seqs'])\n",
    "\n",
    "\n",
    "\n",
    "low_value_seqs_df = pd.DataFrame({'seqs':low_value_seqs.values})\n",
    "loaded_alignment_low_val_seqs = logomaker.load_alignment(sequences = low_value_seqs_df['seqs'])\n",
    "\n",
    "logo_low_val = logomaker.make_logo(\n",
    "                            dataframe=loaded_alignment_low_val_seqs,\n",
    "                            matrix_type='information',\n",
    "                            sequence_type='RNA',\n",
    "                            ytick_format='%0.1f',\n",
    "                            draw_now=False,\n",
    "                            figsize=[12,3],\n",
    "                            #ylim=[0,0.5]\n",
    "                    )\n",
    "\n",
    "\n",
    "logo_high_val = logomaker.make_logo(\n",
    "                            dataframe=loaded_alignment_high_val_seqs,\n",
    "                            matrix_type='information',\n",
    "                            sequence_type='RNA',\n",
    "                            ytick_format='%0.1f',\n",
    "                            draw_now=False,\n",
    "                            figsize=[12,3],\n",
    "                            #ylim=[0,0.5]\n",
    "                    )\n",
    "\n",
    "logo_all_seqs = logomaker.make_logo(\n",
    "                            dataframe=loaded_alignment_all_seqs,\n",
    "                            matrix_type='information',\n",
    "                            sequence_type='RNA',\n",
    "                            ytick_format='%0.1f',\n",
    "                            draw_now=False,\n",
    "                            figsize=[12,3],\n",
    "                            #ylim=[0,0.5]\n",
    "                    )\n",
    "\n",
    "\n",
    "# Draw logos\n",
    "fig, ax_list = plt.subplots(2, figsize=[12,5])\n",
    "ax_list[0].set_title('Low values Logo')\n",
    "logo_low_val.draw(ax_list[0])\n",
    "ax_list[1].set_title('High Values Logo')\n",
    "ax_list[1].set_xlabel('position')\n",
    "logo_high_val.draw(ax_list[1])\n",
    "#fig.text(-0.015, 0.55, 'Infomration [Bits]', ha='center', va='center', rotation='vertical',fontsize=14)\n",
    "fig.text(-0.015, 0.55, 'Information [bits]', ha='center', va='center', rotation='vertical',fontsize=14)\n",
    "#ax_list[2].set_title('All Values Logo')\n",
    "#logo_all_seqs.draw(ax_list[2])"
   ]
  },
  {
   "cell_type": "code",
   "execution_count": 574,
   "metadata": {
    "collapsed": true
   },
   "outputs": [],
   "source": [
    "#loaded_alignment_low_val_seqs.loc[3:4,:]\n",
    "temp_low_val = loaded_alignment_low_val_seqs[loaded_alignment_low_val_seqs.index != 3].copy()\n",
    "temp_low_val = temp_low_val[temp_low_val.index !=4]                      \n",
    "\n",
    "temp_high_val = loaded_alignment_high_val_seqs[loaded_alignment_high_val_seqs.index != 3].copy()\n",
    "temp_high_val = temp_high_val[temp_high_val.index !=4]                      "
   ]
  },
  {
   "cell_type": "code",
   "execution_count": 588,
   "metadata": {},
   "outputs": [
    {
     "data": {
      "text/plain": [
       "Text(-0.015,0.55,'Infomration [Bits]')"
      ]
     },
     "execution_count": 588,
     "metadata": {},
     "output_type": "execute_result"
    },
    {
     "data": {
      "image/png": "[encoded data removed]",
      "text/plain": [
       "<Figure size 864x360 with 2 Axes>"
      ]
     },
     "metadata": {},
     "output_type": "display_data"
    }
   ],
   "source": [
    "high_value_seqs_df = pd.DataFrame({'seqs':high_value_seqs.values})\n",
    "loaded_alignment_high_val_seqs = logomaker.load_alignment(sequences = high_value_seqs_df['seqs'])\n",
    "\n",
    "low_value_seqs_df = pd.DataFrame({'seqs':low_value_seqs.values})\n",
    "loaded_alignment_low_val_seqs = logomaker.load_alignment(sequences = low_value_seqs_df['seqs'])\n",
    "\n",
    "logo_low_val = logomaker.make_logo(\n",
    "                            dataframe=temp_low_val,\n",
    "                            matrix_type='information',\n",
    "                            remove_flattened_characters=False,\n",
    "                            ytick_format='%0.1f',\n",
    "                            sequence_type='RNA',\n",
    "                            draw_now=False,\n",
    "                            figsize=[12,3],\n",
    "                            ylim=[0,0.7]\n",
    "                    )\n",
    "\n",
    "\n",
    "logo_high_val = logomaker.make_logo(\n",
    "                            dataframe=temp_high_val,\n",
    "                            matrix_type='information',\n",
    "                            remove_flattened_characters=False,\n",
    "                            ytick_format='%0.1f',\n",
    "                            draw_now=False,\n",
    "                            figsize=[12,3],\n",
    "                            sequence_type='RNA',\n",
    "                            ylim=[0,0.7]\n",
    "                    )\n",
    "\n",
    "#highlight_style_param_dict = {\n",
    "#                              'highlight_sequence':'ATTAATGTGAGTTAGCTCACTCATTA',   \n",
    "#                              'highlight_colors':'gist_rainbow'\n",
    "#                               }\n",
    "\n",
    "\n",
    "\n",
    "# Draw logos\n",
    "fig, ax_list = plt.subplots(2, figsize=[12,5])\n",
    "ax_list[0].set_title('Low values Logo')\n",
    "logo_low_val.draw(ax_list[0])\n",
    "ax_list[1].set_title('High Values Logo')\n",
    "logo_high_val.draw(ax_list[1])\n",
    "fig.text(-0.015, 0.55, 'Infomration [Bits]', ha='center', va='center', rotation='vertical',fontsize=14)"
   ]
  },
  {
   "cell_type": "markdown",
   "metadata": {},
   "source": [
    "## Save high value sequences to be fed into mpathic"
   ]
  },
  {
   "cell_type": "code",
   "execution_count": 675,
   "metadata": {
    "collapsed": true
   },
   "outputs": [],
   "source": [
    "high_value_seqs = seq_measurments.loc[seq_measurments['measurements_scaled_0_1']>=0.2]"
   ]
  },
  {
   "cell_type": "code",
   "execution_count": 662,
   "metadata": {},
   "outputs": [
    {
     "data": {
      "text/plain": [
       "pandas.core.frame.DataFrame"
      ]
     },
     "execution_count": 662,
     "metadata": {},
     "output_type": "execute_result"
    }
   ],
   "source": [
    "type(high_value_seqs)"
   ]
  },
  {
   "cell_type": "code",
   "execution_count": 663,
   "metadata": {
    "collapsed": true
   },
   "outputs": [],
   "source": [
    "high_value_seqs.to_csv('high_val_rna_seq_measurments.csv')"
   ]
  },
  {
   "cell_type": "markdown",
   "metadata": {},
   "source": [
    "## Sample for low value sequences, such that len low val samples == high vals samples"
   ]
  },
  {
   "cell_type": "code",
   "execution_count": 664,
   "metadata": {},
   "outputs": [
    {
     "data": {
      "text/plain": [
       "1120"
      ]
     },
     "execution_count": 664,
     "metadata": {},
     "output_type": "execute_result"
    }
   ],
   "source": [
    "len(high_value_seqs)"
   ]
  },
  {
   "cell_type": "code",
   "execution_count": 666,
   "metadata": {
    "collapsed": true
   },
   "outputs": [],
   "source": [
    "low_value_seqs = seq_measurments.loc[seq_measurments['measurements_scaled_0_1']<0.2]"
   ]
  },
  {
   "cell_type": "code",
   "execution_count": 669,
   "metadata": {
    "collapsed": true
   },
   "outputs": [],
   "source": [
    "max_index_to_sample = len(low_value_seqs)\n",
    "size_of_random_samples_from_low_val_seqs = len(high_value_seqs)\n",
    "random_low_val_samples = np.random.randint(max_index_to_sample, size=size_of_random_samples_from_low_val_seqs)"
   ]
  },
  {
   "cell_type": "code",
   "execution_count": 670,
   "metadata": {},
   "outputs": [
    {
     "data": {
      "text/plain": [
       "array([10456, 15469, 17651, ...,   526,  3142,  5342])"
      ]
     },
     "execution_count": 670,
     "metadata": {},
     "output_type": "execute_result"
    }
   ],
   "source": [
    "random_low_val_samples"
   ]
  },
  {
   "cell_type": "code",
   "execution_count": 674,
   "metadata": {
    "collapsed": true
   },
   "outputs": [],
   "source": [
    "down_sampled_low_val_seqs = low_value_seqs.loc[random_low_val_samples].copy()"
   ]
  },
  {
   "cell_type": "code",
   "execution_count": 677,
   "metadata": {},
   "outputs": [
    {
     "data": {
      "text/html": [
       "<div>\n",
       "<style scoped>\n",
       "    .dataframe tbody tr th:only-of-type {\n",
       "        vertical-align: middle;\n",
       "    }\n",
       "\n",
       "    .dataframe tbody tr th {\n",
       "        vertical-align: top;\n",
       "    }\n",
       "\n",
       "    .dataframe thead th {\n",
       "        text-align: right;\n",
       "    }\n",
       "</style>\n",
       "<table border=\"1\" class=\"dataframe\">\n",
       "  <thead>\n",
       "    <tr style=\"text-align: right;\">\n",
       "      <th></th>\n",
       "      <th>measurements_scaled_0_1</th>\n",
       "      <th>seq_rna</th>\n",
       "    </tr>\n",
       "  </thead>\n",
       "  <tbody>\n",
       "    <tr>\n",
       "      <th>233</th>\n",
       "      <td>0.737186</td>\n",
       "      <td>AAAGUAAGA</td>\n",
       "    </tr>\n",
       "    <tr>\n",
       "      <th>234</th>\n",
       "      <td>0.738149</td>\n",
       "      <td>AAAGUAAGC</td>\n",
       "    </tr>\n",
       "    <tr>\n",
       "      <th>235</th>\n",
       "      <td>0.699324</td>\n",
       "      <td>AAAGUAAGG</td>\n",
       "    </tr>\n",
       "    <tr>\n",
       "      <th>236</th>\n",
       "      <td>0.523931</td>\n",
       "      <td>AAAGUAAGU</td>\n",
       "    </tr>\n",
       "    <tr>\n",
       "      <th>247</th>\n",
       "      <td>0.250872</td>\n",
       "      <td>AAAGUACGA</td>\n",
       "    </tr>\n",
       "  </tbody>\n",
       "</table>\n",
       "</div>"
      ],
      "text/plain": [
       "     measurements_scaled_0_1    seq_rna\n",
       "233                 0.737186  AAAGUAAGA\n",
       "234                 0.738149  AAAGUAAGC\n",
       "235                 0.699324  AAAGUAAGG\n",
       "236                 0.523931  AAAGUAAGU\n",
       "247                 0.250872  AAAGUACGA"
      ]
     },
     "execution_count": 677,
     "metadata": {},
     "output_type": "execute_result"
    }
   ],
   "source": [
    "high_value_seqs.head()"
   ]
  },
  {
   "cell_type": "code",
   "execution_count": 679,
   "metadata": {
    "collapsed": true
   },
   "outputs": [],
   "source": [
    "balanced_rna_splice_df = pd.concat([high_value_seqs,down_sampled_low_val_seqs])"
   ]
  },
  {
   "cell_type": "code",
   "execution_count": 688,
   "metadata": {
    "collapsed": true
   },
   "outputs": [],
   "source": [
    "balanced_rna_splice_df = balanced_rna_splice_df.dropna()"
   ]
  },
  {
   "cell_type": "code",
   "execution_count": 689,
   "metadata": {
    "collapsed": true
   },
   "outputs": [],
   "source": [
    "balanced_rna_splice_df.to_csv('balanced_rna_splice_df.csv')"
   ]
  },
  {
   "cell_type": "code",
   "execution_count": null,
   "metadata": {
    "collapsed": true
   },
   "outputs": [],
   "source": []
  }
 ],
 "metadata": {
  "colab": {
   "collapsed_sections": [],
   "name": "motif_learn_convnet.ipynb",
   "provenance": [],
   "version": "0.3.2"
  },
  "kernelspec": {
   "display_name": "Python 3",
   "language": "python",
   "name": "python3"
  },
  "language_info": {
   "codemirror_mode": {
    "name": "ipython",
    "version": 3
   },
   "file_extension": ".py",
   "mimetype": "text/x-python",
   "name": "python",
   "nbconvert_exporter": "python",
   "pygments_lexer": "ipython3",
   "version": "3.6.2"
  }
 },
 "nbformat": 4,
 "nbformat_minor": 1
}
