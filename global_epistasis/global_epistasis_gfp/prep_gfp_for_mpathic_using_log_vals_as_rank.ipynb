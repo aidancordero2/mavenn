{
 "cells": [
  {
   "cell_type": "markdown",
   "metadata": {},
   "source": [
    "## Notes"
   ]
  },
  {
   "cell_type": "markdown",
   "metadata": {},
   "source": [
    "### Import libraries and read data"
   ]
  },
  {
   "cell_type": "code",
   "execution_count": 1,
   "metadata": {
    "collapsed": true
   },
   "outputs": [],
   "source": [
    "import pandas as pd\n",
    "import numpy as np\n",
    "import numpy as np\n",
    "import pandas as pd\n",
    "import matplotlib.pyplot as plt\n",
    "import sys\n",
    "\n",
    "#input_data_ordered_raw =  pd.read_csv('rnap_scanned_over_ecoli_genome200k.csv')\n",
    "input_data_ordered_raw = pd.read_csv('GFPdata.tsv',sep='\\t')\n",
    "#sequences = input_data_ordered_raw['seq'].tolist()"
   ]
  },
  {
   "cell_type": "code",
   "execution_count": 2,
   "metadata": {},
   "outputs": [
    {
     "data": {
      "text/html": [
       "<div>\n",
       "<style scoped>\n",
       "    .dataframe tbody tr th:only-of-type {\n",
       "        vertical-align: middle;\n",
       "    }\n",
       "\n",
       "    .dataframe tbody tr th {\n",
       "        vertical-align: top;\n",
       "    }\n",
       "\n",
       "    .dataframe thead th {\n",
       "        text-align: right;\n",
       "    }\n",
       "</style>\n",
       "<table border=\"1\" class=\"dataframe\">\n",
       "  <thead>\n",
       "    <tr style=\"text-align: right;\">\n",
       "      <th></th>\n",
       "      <th>AAsequence</th>\n",
       "      <th>HammingDistance</th>\n",
       "      <th>aaMutations</th>\n",
       "      <th>medianBrightness</th>\n",
       "      <th>std</th>\n",
       "    </tr>\n",
       "  </thead>\n",
       "  <tbody>\n",
       "    <tr>\n",
       "      <th>0</th>\n",
       "      <td>KGEELFTGVVPILVELDGDVNGHKFSVSGEGEGDATYGKLTLKFIC...</td>\n",
       "      <td>0</td>\n",
       "      <td>NaN</td>\n",
       "      <td>3.719212</td>\n",
       "      <td>0.106992</td>\n",
       "    </tr>\n",
       "    <tr>\n",
       "      <th>1</th>\n",
       "      <td>KGEELFTGVVPILVELDGDVNGHKFSVSGEGEGDATYGKLTLKFIC...</td>\n",
       "      <td>1</td>\n",
       "      <td>SA108D</td>\n",
       "      <td>1.301030</td>\n",
       "      <td>NaN</td>\n",
       "    </tr>\n",
       "    <tr>\n",
       "      <th>2</th>\n",
       "      <td>KGEELFTGVVPILVELDGDVNGHKFSVSGEGEGDATYGKLTLKFIC...</td>\n",
       "      <td>5</td>\n",
       "      <td>SA108D:SN144D:SI186V:SM231T:SL234P</td>\n",
       "      <td>1.301031</td>\n",
       "      <td>NaN</td>\n",
       "    </tr>\n",
       "    <tr>\n",
       "      <th>3</th>\n",
       "      <td>KGEELFTGVVPILVELDGDVNGHKFSVSGEGEGDATYGKLTLKFIC...</td>\n",
       "      <td>4</td>\n",
       "      <td>SA108D:SY141N:SH146L:SE220G</td>\n",
       "      <td>1.301189</td>\n",
       "      <td>NaN</td>\n",
       "    </tr>\n",
       "    <tr>\n",
       "      <th>4</th>\n",
       "      <td>KGEELFTGVVPILVELDGDVNGHKFSVSGEGEGDATYGKLTLKFIC...</td>\n",
       "      <td>1</td>\n",
       "      <td>SA108G</td>\n",
       "      <td>3.708478</td>\n",
       "      <td>0.020613</td>\n",
       "    </tr>\n",
       "  </tbody>\n",
       "</table>\n",
       "</div>"
      ],
      "text/plain": [
       "                                          AAsequence  HammingDistance  \\\n",
       "0  KGEELFTGVVPILVELDGDVNGHKFSVSGEGEGDATYGKLTLKFIC...                0   \n",
       "1  KGEELFTGVVPILVELDGDVNGHKFSVSGEGEGDATYGKLTLKFIC...                1   \n",
       "2  KGEELFTGVVPILVELDGDVNGHKFSVSGEGEGDATYGKLTLKFIC...                5   \n",
       "3  KGEELFTGVVPILVELDGDVNGHKFSVSGEGEGDATYGKLTLKFIC...                4   \n",
       "4  KGEELFTGVVPILVELDGDVNGHKFSVSGEGEGDATYGKLTLKFIC...                1   \n",
       "\n",
       "                          aaMutations  medianBrightness       std  \n",
       "0                                 NaN          3.719212  0.106992  \n",
       "1                              SA108D          1.301030       NaN  \n",
       "2  SA108D:SN144D:SI186V:SM231T:SL234P          1.301031       NaN  \n",
       "3         SA108D:SY141N:SH146L:SE220G          1.301189       NaN  \n",
       "4                              SA108G          3.708478  0.020613  "
      ]
     },
     "execution_count": 2,
     "metadata": {},
     "output_type": "execute_result"
    }
   ],
   "source": [
    "input_data_ordered_raw.head()"
   ]
  },
  {
   "cell_type": "code",
   "execution_count": 3,
   "metadata": {},
   "outputs": [
    {
     "data": {
      "text/plain": [
       "54025"
      ]
     },
     "execution_count": 3,
     "metadata": {},
     "output_type": "execute_result"
    }
   ],
   "source": [
    "# sequence length = 233\n",
    "len(input_data_ordered_raw)"
   ]
  },
  {
   "cell_type": "code",
   "execution_count": 4,
   "metadata": {},
   "outputs": [
    {
     "data": {
      "text/plain": [
       "'/Users/tareen/Desktop/Desktop_Tests/MPathic3/mpathic/data/rnap_convnet/ANN_Logisitc_Regression/global_epistasis_gfp'"
      ]
     },
     "execution_count": 4,
     "metadata": {},
     "output_type": "execute_result"
    }
   ],
   "source": [
    "import os\n",
    "os.getcwd()"
   ]
  },
  {
   "cell_type": "markdown",
   "metadata": {},
   "source": [
    "## Start model visualization"
   ]
  },
  {
   "cell_type": "markdown",
   "metadata": {},
   "source": [
    "### Gauge Fixed learned model"
   ]
  },
  {
   "cell_type": "code",
   "execution_count": 195,
   "metadata": {},
   "outputs": [
    {
     "data": {
      "text/html": [
       "<div>\n",
       "<style scoped>\n",
       "    .dataframe tbody tr th:only-of-type {\n",
       "        vertical-align: middle;\n",
       "    }\n",
       "\n",
       "    .dataframe tbody tr th {\n",
       "        vertical-align: top;\n",
       "    }\n",
       "\n",
       "    .dataframe thead th {\n",
       "        text-align: right;\n",
       "    }\n",
       "</style>\n",
       "<table border=\"1\" class=\"dataframe\">\n",
       "  <thead>\n",
       "    <tr style=\"text-align: right;\">\n",
       "      <th></th>\n",
       "      <th>val_*</th>\n",
       "      <th>val_A</th>\n",
       "      <th>val_C</th>\n",
       "      <th>val_D</th>\n",
       "      <th>val_E</th>\n",
       "      <th>val_F</th>\n",
       "      <th>val_G</th>\n",
       "      <th>val_H</th>\n",
       "      <th>val_I</th>\n",
       "      <th>val_K</th>\n",
       "      <th>...</th>\n",
       "      <th>val_M</th>\n",
       "      <th>val_N</th>\n",
       "      <th>val_P</th>\n",
       "      <th>val_Q</th>\n",
       "      <th>val_R</th>\n",
       "      <th>val_S</th>\n",
       "      <th>val_T</th>\n",
       "      <th>val_V</th>\n",
       "      <th>val_W</th>\n",
       "      <th>val_Y</th>\n",
       "    </tr>\n",
       "  </thead>\n",
       "  <tbody>\n",
       "    <tr>\n",
       "      <th>0</th>\n",
       "      <td>0.079593</td>\n",
       "      <td>0.354082</td>\n",
       "      <td>-0.871821</td>\n",
       "      <td>-0.224570</td>\n",
       "      <td>0.079593</td>\n",
       "      <td>0.249965</td>\n",
       "      <td>-0.071553</td>\n",
       "      <td>0.693647</td>\n",
       "      <td>0.443850</td>\n",
       "      <td>0.079593</td>\n",
       "      <td>...</td>\n",
       "      <td>0.079593</td>\n",
       "      <td>0.079593</td>\n",
       "      <td>-0.820558</td>\n",
       "      <td>0.079593</td>\n",
       "      <td>0.079593</td>\n",
       "      <td>-0.207272</td>\n",
       "      <td>0.079593</td>\n",
       "      <td>-0.155657</td>\n",
       "      <td>0.264648</td>\n",
       "      <td>0.079525</td>\n",
       "    </tr>\n",
       "    <tr>\n",
       "      <th>1</th>\n",
       "      <td>-0.406579</td>\n",
       "      <td>0.052410</td>\n",
       "      <td>0.052410</td>\n",
       "      <td>0.052410</td>\n",
       "      <td>0.738855</td>\n",
       "      <td>-0.264712</td>\n",
       "      <td>0.052410</td>\n",
       "      <td>0.044157</td>\n",
       "      <td>0.727726</td>\n",
       "      <td>0.208253</td>\n",
       "      <td>...</td>\n",
       "      <td>-0.490917</td>\n",
       "      <td>0.052410</td>\n",
       "      <td>-1.076783</td>\n",
       "      <td>-0.125079</td>\n",
       "      <td>0.055155</td>\n",
       "      <td>0.052410</td>\n",
       "      <td>-0.053454</td>\n",
       "      <td>0.052410</td>\n",
       "      <td>-0.323084</td>\n",
       "      <td>0.053294</td>\n",
       "    </tr>\n",
       "    <tr>\n",
       "      <th>2</th>\n",
       "      <td>-0.125839</td>\n",
       "      <td>-0.125839</td>\n",
       "      <td>-0.149358</td>\n",
       "      <td>-0.125839</td>\n",
       "      <td>-0.125839</td>\n",
       "      <td>-0.052105</td>\n",
       "      <td>-0.125839</td>\n",
       "      <td>-0.870204</td>\n",
       "      <td>-0.292620</td>\n",
       "      <td>-0.125839</td>\n",
       "      <td>...</td>\n",
       "      <td>0.065144</td>\n",
       "      <td>0.365795</td>\n",
       "      <td>0.143709</td>\n",
       "      <td>-0.125839</td>\n",
       "      <td>-0.125839</td>\n",
       "      <td>1.224494</td>\n",
       "      <td>0.169812</td>\n",
       "      <td>-0.125839</td>\n",
       "      <td>0.852866</td>\n",
       "      <td>-0.126541</td>\n",
       "    </tr>\n",
       "    <tr>\n",
       "      <th>3</th>\n",
       "      <td>0.113023</td>\n",
       "      <td>0.113023</td>\n",
       "      <td>0.799074</td>\n",
       "      <td>0.113023</td>\n",
       "      <td>0.113023</td>\n",
       "      <td>-0.034057</td>\n",
       "      <td>0.113023</td>\n",
       "      <td>0.057948</td>\n",
       "      <td>-0.739945</td>\n",
       "      <td>0.113023</td>\n",
       "      <td>...</td>\n",
       "      <td>-0.238425</td>\n",
       "      <td>-0.842181</td>\n",
       "      <td>-0.154680</td>\n",
       "      <td>0.113023</td>\n",
       "      <td>0.113023</td>\n",
       "      <td>0.369037</td>\n",
       "      <td>-0.654067</td>\n",
       "      <td>0.113023</td>\n",
       "      <td>0.047117</td>\n",
       "      <td>0.113166</td>\n",
       "    </tr>\n",
       "    <tr>\n",
       "      <th>4</th>\n",
       "      <td>0.808456</td>\n",
       "      <td>-1.042736</td>\n",
       "      <td>0.253991</td>\n",
       "      <td>0.192216</td>\n",
       "      <td>-0.282475</td>\n",
       "      <td>-0.153037</td>\n",
       "      <td>-0.428066</td>\n",
       "      <td>0.193667</td>\n",
       "      <td>0.050763</td>\n",
       "      <td>-0.096310</td>\n",
       "      <td>...</td>\n",
       "      <td>0.095229</td>\n",
       "      <td>-0.466739</td>\n",
       "      <td>0.095229</td>\n",
       "      <td>0.095229</td>\n",
       "      <td>0.095229</td>\n",
       "      <td>0.095229</td>\n",
       "      <td>0.038821</td>\n",
       "      <td>0.095229</td>\n",
       "      <td>0.169293</td>\n",
       "      <td>0.095554</td>\n",
       "    </tr>\n",
       "  </tbody>\n",
       "</table>\n",
       "<p>5 rows × 21 columns</p>\n",
       "</div>"
      ],
      "text/plain": [
       "      val_*     val_A     val_C     val_D     val_E     val_F     val_G  \\\n",
       "0  0.079593  0.354082 -0.871821 -0.224570  0.079593  0.249965 -0.071553   \n",
       "1 -0.406579  0.052410  0.052410  0.052410  0.738855 -0.264712  0.052410   \n",
       "2 -0.125839 -0.125839 -0.149358 -0.125839 -0.125839 -0.052105 -0.125839   \n",
       "3  0.113023  0.113023  0.799074  0.113023  0.113023 -0.034057  0.113023   \n",
       "4  0.808456 -1.042736  0.253991  0.192216 -0.282475 -0.153037 -0.428066   \n",
       "\n",
       "      val_H     val_I     val_K    ...        val_M     val_N     val_P  \\\n",
       "0  0.693647  0.443850  0.079593    ...     0.079593  0.079593 -0.820558   \n",
       "1  0.044157  0.727726  0.208253    ...    -0.490917  0.052410 -1.076783   \n",
       "2 -0.870204 -0.292620 -0.125839    ...     0.065144  0.365795  0.143709   \n",
       "3  0.057948 -0.739945  0.113023    ...    -0.238425 -0.842181 -0.154680   \n",
       "4  0.193667  0.050763 -0.096310    ...     0.095229 -0.466739  0.095229   \n",
       "\n",
       "      val_Q     val_R     val_S     val_T     val_V     val_W     val_Y  \n",
       "0  0.079593  0.079593 -0.207272  0.079593 -0.155657  0.264648  0.079525  \n",
       "1 -0.125079  0.055155  0.052410 -0.053454  0.052410 -0.323084  0.053294  \n",
       "2 -0.125839 -0.125839  1.224494  0.169812 -0.125839  0.852866 -0.126541  \n",
       "3  0.113023  0.113023  0.369037 -0.654067  0.113023  0.047117  0.113166  \n",
       "4  0.095229  0.095229  0.095229  0.038821  0.095229  0.169293  0.095554  \n",
       "\n",
       "[5 rows x 21 columns]"
      ]
     },
     "execution_count": 195,
     "metadata": {},
     "output_type": "execute_result"
    }
   ],
   "source": [
    "#learned_model_im = pd.read_csv('learn_gfp_model.csv',sep='\\t')\n",
    "learned_model_im = pd.read_csv('learn_gfp_model_no_spurious_seqs.csv',sep='\\t')\n",
    "del learned_model_im['Unnamed: 0']\n",
    "learned_model_im = learned_model_im[['val_*', 'val_A', 'val_C', 'val_D', 'val_E', 'val_F', 'val_G',\n",
    "       'val_H', 'val_I', 'val_K', 'val_L', 'val_M', 'val_N', 'val_P', 'val_Q',\n",
    "       'val_R', 'val_S', 'val_T', 'val_V', 'val_W', 'val_Y']]\n",
    "learned_model_im.head()"
   ]
  },
  {
   "cell_type": "code",
   "execution_count": 196,
   "metadata": {},
   "outputs": [
    {
     "data": {
      "text/plain": [
       "Index(['val_*', 'val_A', 'val_C', 'val_D', 'val_E', 'val_F', 'val_G', 'val_H',\n",
       "       'val_I', 'val_K', 'val_L', 'val_M', 'val_N', 'val_P', 'val_Q', 'val_R',\n",
       "       'val_S', 'val_T', 'val_V', 'val_W', 'val_Y'],\n",
       "      dtype='object')"
      ]
     },
     "execution_count": 196,
     "metadata": {},
     "output_type": "execute_result"
    }
   ],
   "source": [
    "learned_model_im.columns"
   ]
  },
  {
   "cell_type": "code",
   "execution_count": 197,
   "metadata": {},
   "outputs": [
    {
     "data": {
      "image/png": "[encoded data removed]",
      "text/plain": [
       "<Figure size 864x864 with 2 Axes>"
      ]
     },
     "metadata": {},
     "output_type": "display_data"
    }
   ],
   "source": [
    "import seaborn as sns\n",
    "plt.figure(figsize=[12,12])\n",
    "sns.heatmap(learned_model_im,cmap='rainbow')\n",
    "plt.show()"
   ]
  },
  {
   "cell_type": "code",
   "execution_count": 198,
   "metadata": {
    "collapsed": true
   },
   "outputs": [],
   "source": [
    "row_means_list = []\n",
    "for mean_index in range(len(learned_model_im)):\n",
    "    row_means_list.append(np.mean(learned_model_im.loc[mean_index,:]))"
   ]
  },
  {
   "cell_type": "code",
   "execution_count": 199,
   "metadata": {
    "collapsed": true
   },
   "outputs": [],
   "source": [
    "for mean_index in range(len(learned_model_im)):\n",
    "    learned_model_im.loc[mean_index,:] -= row_means_list[mean_index]"
   ]
  },
  {
   "cell_type": "code",
   "execution_count": 200,
   "metadata": {
    "collapsed": true
   },
   "outputs": [],
   "source": [
    "learn_model_copy = learned_model_im.copy()"
   ]
  },
  {
   "cell_type": "code",
   "execution_count": null,
   "metadata": {
    "collapsed": true
   },
   "outputs": [],
   "source": []
  },
  {
   "cell_type": "markdown",
   "metadata": {},
   "source": [
    "## reweight model\n",
    "\n",
    "~~Divided all weights by square root of the sum of the squares of all weights~~"
   ]
  },
  {
   "cell_type": "code",
   "execution_count": 193,
   "metadata": {
    "collapsed": true
   },
   "outputs": [],
   "source": [
    "rescale_weight = np.sum(np.sum(np.square(learn_model_copy)))**0.5\n",
    "learn_model_copy = learn_model_copy.copy()/rescale_weight"
   ]
  },
  {
   "cell_type": "code",
   "execution_count": 201,
   "metadata": {},
   "outputs": [
    {
     "data": {
      "image/png": "[encoded data removed]",
      "text/plain": [
       "<Figure size 1440x720 with 2 Axes>"
      ]
     },
     "metadata": {},
     "output_type": "display_data"
    }
   ],
   "source": [
    "import seaborn as sns\n",
    "plt.figure(figsize=[20,10])\n",
    "sns.heatmap(learn_model_copy.T,cmap='RdBu_r')\n",
    "plt.tick_params(labelsize=13)\n",
    "plt.show()"
   ]
  },
  {
   "cell_type": "markdown",
   "metadata": {},
   "source": [
    "## output model "
   ]
  },
  {
   "cell_type": "code",
   "execution_count": 202,
   "metadata": {
    "collapsed": true
   },
   "outputs": [],
   "source": [
    "learn_model_copy.to_csv('learn_gfp_model_no_spurious_seqs_gf.csv',sep='\\t')"
   ]
  },
  {
   "cell_type": "markdown",
   "metadata": {},
   "source": [
    "## end model visualization"
   ]
  },
  {
   "cell_type": "code",
   "execution_count": 5,
   "metadata": {
    "collapsed": true
   },
   "outputs": [],
   "source": [
    "sequences = input_data_ordered_raw['AAsequence']\n",
    "val = input_data_ordered_raw['medianBrightness']"
   ]
  },
  {
   "cell_type": "code",
   "execution_count": null,
   "metadata": {
    "collapsed": true
   },
   "outputs": [],
   "source": []
  },
  {
   "cell_type": "code",
   "execution_count": 6,
   "metadata": {},
   "outputs": [
    {
     "data": {
      "image/png": "[encoded data removed]",
      "text/plain": [
       "<Figure size 720x576 with 1 Axes>"
      ]
     },
     "metadata": {},
     "output_type": "display_data"
    }
   ],
   "source": [
    "plt.figure(figsize=[10,8])\n",
    "plt.hist(val,bins=100)\n",
    "plt.title('Histogram of median brightness: GFP')\n",
    "plt.xlabel('Median Brightness',fontsize=14)\n",
    "#plt.xlim([1.2,1.4])\n",
    "plt.ylabel('Counts',fontsize=14)\n",
    "plt.tick_params(labelsize=16)\n",
    "plt.savefig('median_brightness_histogram_gfp.png')\n",
    "plt.show()"
   ]
  },
  {
   "cell_type": "markdown",
   "metadata": {},
   "source": [
    "## Check which sequences are clustered around 1.3"
   ]
  },
  {
   "cell_type": "code",
   "execution_count": 64,
   "metadata": {},
   "outputs": [
    {
     "data": {
      "image/png": "[encoded data removed]",
      "text/plain": [
       "<Figure size 432x288 with 1 Axes>"
      ]
     },
     "metadata": {},
     "output_type": "display_data"
    }
   ],
   "source": [
    "plt.hist(input_data_ordered_raw.loc[(input_data_ordered_raw['medianBrightness']<2.5) & (input_data_ordered_raw['medianBrightness']>1.31)]['medianBrightness'],bins=100)\n",
    "plt.show()"
   ]
  },
  {
   "cell_type": "markdown",
   "metadata": {},
   "source": [
    "## make dataframe which excludes sequences below value (some value)\n",
    "\n",
    "### there are about ~ 10000 of these with the same value around 1.3"
   ]
  },
  {
   "cell_type": "code",
   "execution_count": 65,
   "metadata": {},
   "outputs": [
    {
     "data": {
      "text/plain": [
       "11459"
      ]
     },
     "execution_count": 65,
     "metadata": {},
     "output_type": "execute_result"
    }
   ],
   "source": [
    "#len(input_data_ordered_raw.loc[input_data_ordered_raw['medianBrightness']>2.5])\n",
    "len(input_data_ordered_raw.loc[(input_data_ordered_raw['medianBrightness']<2.5) & (input_data_ordered_raw['medianBrightness']>1.31)]['medianBrightness'])"
   ]
  },
  {
   "cell_type": "code",
   "execution_count": 68,
   "metadata": {
    "collapsed": true
   },
   "outputs": [],
   "source": [
    "#input_df_without_spurious_seqs = input_data_ordered_raw.loc[input_data_ordered_raw['medianBrightness']>2.5].copy()\n",
    "input_df_without_spurious_seqs = input_data_ordered_raw.loc[(input_data_ordered_raw['medianBrightness']<2.5) & (input_data_ordered_raw['medianBrightness']>1.31)].copy()"
   ]
  },
  {
   "cell_type": "code",
   "execution_count": 69,
   "metadata": {},
   "outputs": [
    {
     "data": {
      "text/html": [
       "<div>\n",
       "<style scoped>\n",
       "    .dataframe tbody tr th:only-of-type {\n",
       "        vertical-align: middle;\n",
       "    }\n",
       "\n",
       "    .dataframe tbody tr th {\n",
       "        vertical-align: top;\n",
       "    }\n",
       "\n",
       "    .dataframe thead th {\n",
       "        text-align: right;\n",
       "    }\n",
       "</style>\n",
       "<table border=\"1\" class=\"dataframe\">\n",
       "  <thead>\n",
       "    <tr style=\"text-align: right;\">\n",
       "      <th></th>\n",
       "      <th>AAsequence</th>\n",
       "      <th>HammingDistance</th>\n",
       "      <th>aaMutations</th>\n",
       "      <th>medianBrightness</th>\n",
       "      <th>std</th>\n",
       "    </tr>\n",
       "  </thead>\n",
       "  <tbody>\n",
       "    <tr>\n",
       "      <th>6</th>\n",
       "      <td>KGEELFTGVVPILVELDGDVNGHKFSVSGEGEGDATYGKLTLKFIC...</td>\n",
       "      <td>5</td>\n",
       "      <td>SA108G:SK154E:SF163S:SL192Q:SL193P</td>\n",
       "      <td>1.499573</td>\n",
       "      <td>NaN</td>\n",
       "    </tr>\n",
       "    <tr>\n",
       "      <th>19</th>\n",
       "      <td>KGEELFTGVVPILVELDGDVNGHKFSVSGEGEGDATYGKLTLKFIC...</td>\n",
       "      <td>5</td>\n",
       "      <td>SA108T:SK129E:SS145C:SE170G:ST184S</td>\n",
       "      <td>1.318630</td>\n",
       "      <td>NaN</td>\n",
       "    </tr>\n",
       "    <tr>\n",
       "      <th>22</th>\n",
       "      <td>KGEELFTGVVPILVELDGDVNGHKFSVSGEGEGDATYGKLTLKFIC...</td>\n",
       "      <td>4</td>\n",
       "      <td>SA108T:SV110G:SE140G:SK207N</td>\n",
       "      <td>1.383828</td>\n",
       "      <td>NaN</td>\n",
       "    </tr>\n",
       "    <tr>\n",
       "      <th>23</th>\n",
       "      <td>KGEELFTGVVPILVELDGDVNGHKFSVSGEGEGDATYGKLTLKFIC...</td>\n",
       "      <td>4</td>\n",
       "      <td>SA108V:SE109D:SN210S:SD232N</td>\n",
       "      <td>1.661894</td>\n",
       "      <td>NaN</td>\n",
       "    </tr>\n",
       "    <tr>\n",
       "      <th>25</th>\n",
       "      <td>KGEELFTGVVPILVELDGDVNGHKFSVSGEGEGDATYGKLTLKFIC...</td>\n",
       "      <td>2</td>\n",
       "      <td>SA108V:SI150V</td>\n",
       "      <td>1.450932</td>\n",
       "      <td>NaN</td>\n",
       "    </tr>\n",
       "  </tbody>\n",
       "</table>\n",
       "</div>"
      ],
      "text/plain": [
       "                                           AAsequence  HammingDistance  \\\n",
       "6   KGEELFTGVVPILVELDGDVNGHKFSVSGEGEGDATYGKLTLKFIC...                5   \n",
       "19  KGEELFTGVVPILVELDGDVNGHKFSVSGEGEGDATYGKLTLKFIC...                5   \n",
       "22  KGEELFTGVVPILVELDGDVNGHKFSVSGEGEGDATYGKLTLKFIC...                4   \n",
       "23  KGEELFTGVVPILVELDGDVNGHKFSVSGEGEGDATYGKLTLKFIC...                4   \n",
       "25  KGEELFTGVVPILVELDGDVNGHKFSVSGEGEGDATYGKLTLKFIC...                2   \n",
       "\n",
       "                           aaMutations  medianBrightness  std  \n",
       "6   SA108G:SK154E:SF163S:SL192Q:SL193P          1.499573  NaN  \n",
       "19  SA108T:SK129E:SS145C:SE170G:ST184S          1.318630  NaN  \n",
       "22         SA108T:SV110G:SE140G:SK207N          1.383828  NaN  \n",
       "23         SA108V:SE109D:SN210S:SD232N          1.661894  NaN  \n",
       "25                       SA108V:SI150V          1.450932  NaN  "
      ]
     },
     "execution_count": 69,
     "metadata": {},
     "output_type": "execute_result"
    }
   ],
   "source": [
    "input_df_without_spurious_seqs.head()"
   ]
  },
  {
   "cell_type": "code",
   "execution_count": 70,
   "metadata": {},
   "outputs": [
    {
     "data": {
      "image/png": "[encoded data removed]",
      "text/plain": [
       "<Figure size 720x576 with 1 Axes>"
      ]
     },
     "metadata": {},
     "output_type": "display_data"
    }
   ],
   "source": [
    "plt.figure(figsize=[10,8])\n",
    "#plt.hist(input_data_ordered_raw['medianBrightness'],bins=100)\n",
    "plt.hist(input_df_without_spurious_seqs['medianBrightness'],bins=100)\n",
    "plt.title('Raw Data Histogram of median brightness: GFP')\n",
    "plt.xlabel('Median Brightness',fontsize=14)\n",
    "#plt.xlim([1.2,1.4])\n",
    "plt.ylabel('Counts',fontsize=14)\n",
    "plt.tick_params(labelsize=16)\n",
    "#plt.savefig('raw_median_brightness_histogram_gfp.png')\n",
    "plt.show()"
   ]
  },
  {
   "cell_type": "code",
   "execution_count": 71,
   "metadata": {},
   "outputs": [],
   "source": [
    "sequences = input_df_without_spurious_seqs['AAsequence']\n",
    "val = input_df_without_spurious_seqs['medianBrightness']"
   ]
  },
  {
   "cell_type": "code",
   "execution_count": null,
   "metadata": {
    "collapsed": true
   },
   "outputs": [],
   "source": []
  },
  {
   "cell_type": "code",
   "execution_count": 72,
   "metadata": {},
   "outputs": [
    {
     "data": {
      "text/plain": [
       "11459"
      ]
     },
     "execution_count": 72,
     "metadata": {},
     "output_type": "execute_result"
    }
   ],
   "source": [
    "len(val)"
   ]
  },
  {
   "cell_type": "code",
   "execution_count": 73,
   "metadata": {
    "collapsed": true
   },
   "outputs": [],
   "source": [
    "gfp_df = pd.DataFrame({'seq':sequences,'val':val})"
   ]
  },
  {
   "cell_type": "code",
   "execution_count": 74,
   "metadata": {},
   "outputs": [
    {
     "name": "stderr",
     "output_type": "stream",
     "text": [
      "/Users/tareen/Library/Python/3.6/lib/python/site-packages/scipy/stats/stats.py:1792: FutureWarning: Using a non-tuple sequence for multidimensional indexing is deprecated; use `arr[tuple(seq)]` instead of `arr[seq]`. In the future this will be interpreted as an array index, `arr[np.array(seq)]`, which will result either in an error or a different result.\n",
      "  pct = (np.mean(a_len[idx]) / n) * 100.0\n"
     ]
    }
   ],
   "source": [
    "from scipy.stats import percentileofscore\n",
    "\n",
    "# generate example data\n",
    "arr = gfp_df['val']\n",
    "\n",
    "# pre-sort array\n",
    "arr_sorted =  sorted(arr)\n",
    "\n",
    "# calculate percentiles using scipy func percentileofscore on each array element\n",
    "s = pd.Series(arr)\n",
    "percentiles = s.apply(lambda x: percentileofscore(arr_sorted, x))"
   ]
  },
  {
   "cell_type": "code",
   "execution_count": 16,
   "metadata": {},
   "outputs": [
    {
     "data": {
      "image/png": "[encoded data removed]",
      "text/plain": [
       "<Figure size 1440x216 with 1 Axes>"
      ]
     },
     "metadata": {},
     "output_type": "display_data"
    }
   ],
   "source": [
    "#plt.hist(arr,bins=50)\n",
    "plt.figure(figsize=[20,3])\n",
    "plt.hist(percentiles,bins=100)\n",
    "plt.show()"
   ]
  },
  {
   "cell_type": "code",
   "execution_count": 17,
   "metadata": {},
   "outputs": [
    {
     "data": {
      "text/html": [
       "<div>\n",
       "<style scoped>\n",
       "    .dataframe tbody tr th:only-of-type {\n",
       "        vertical-align: middle;\n",
       "    }\n",
       "\n",
       "    .dataframe tbody tr th {\n",
       "        vertical-align: top;\n",
       "    }\n",
       "\n",
       "    .dataframe thead th {\n",
       "        text-align: right;\n",
       "    }\n",
       "</style>\n",
       "<table border=\"1\" class=\"dataframe\">\n",
       "  <thead>\n",
       "    <tr style=\"text-align: right;\">\n",
       "      <th></th>\n",
       "      <th>seq</th>\n",
       "      <th>val</th>\n",
       "    </tr>\n",
       "  </thead>\n",
       "  <tbody>\n",
       "    <tr>\n",
       "      <th>0</th>\n",
       "      <td>KGEELFTGVVPILVELDGDVNGHKFSVSGEGEGDATYGKLTLKFIC...</td>\n",
       "      <td>3.719212</td>\n",
       "    </tr>\n",
       "    <tr>\n",
       "      <th>4</th>\n",
       "      <td>KGEELFTGVVPILVELDGDVNGHKFSVSGEGEGDATYGKLTLKFIC...</td>\n",
       "      <td>3.708478</td>\n",
       "    </tr>\n",
       "    <tr>\n",
       "      <th>5</th>\n",
       "      <td>KGEELFTGVVPILVELDGDVNGHKFSVSGEGEGDATYGKLTLKFIC...</td>\n",
       "      <td>3.582764</td>\n",
       "    </tr>\n",
       "    <tr>\n",
       "      <th>7</th>\n",
       "      <td>KGEELFTGVVPILVELDGDVNGHKFSVSGEGEGDATYGKLTLKFIC...</td>\n",
       "      <td>3.659013</td>\n",
       "    </tr>\n",
       "    <tr>\n",
       "      <th>8</th>\n",
       "      <td>KGEELFTGVVPILVELDGDVNGHKFSVSGEGEGDATYGKLTLKFIC...</td>\n",
       "      <td>3.573855</td>\n",
       "    </tr>\n",
       "  </tbody>\n",
       "</table>\n",
       "</div>"
      ],
      "text/plain": [
       "                                                 seq       val\n",
       "0  KGEELFTGVVPILVELDGDVNGHKFSVSGEGEGDATYGKLTLKFIC...  3.719212\n",
       "4  KGEELFTGVVPILVELDGDVNGHKFSVSGEGEGDATYGKLTLKFIC...  3.708478\n",
       "5  KGEELFTGVVPILVELDGDVNGHKFSVSGEGEGDATYGKLTLKFIC...  3.582764\n",
       "7  KGEELFTGVVPILVELDGDVNGHKFSVSGEGEGDATYGKLTLKFIC...  3.659013\n",
       "8  KGEELFTGVVPILVELDGDVNGHKFSVSGEGEGDATYGKLTLKFIC...  3.573855"
      ]
     },
     "execution_count": 17,
     "metadata": {},
     "output_type": "execute_result"
    }
   ],
   "source": [
    "gfp_df.head()"
   ]
  },
  {
   "cell_type": "code",
   "execution_count": 18,
   "metadata": {},
   "outputs": [
    {
     "data": {
      "text/plain": [
       "30691"
      ]
     },
     "execution_count": 18,
     "metadata": {},
     "output_type": "execute_result"
    }
   ],
   "source": [
    "len(gfp_df)"
   ]
  },
  {
   "cell_type": "code",
   "execution_count": 20,
   "metadata": {},
   "outputs": [
    {
     "data": {
      "image/png": "[encoded data removed]",
      "text/plain": [
       "<Figure size 432x288 with 1 Axes>"
      ]
     },
     "metadata": {},
     "output_type": "display_data"
    }
   ],
   "source": [
    "plt.hist(percentiles,bins=100)\n",
    "plt.show()"
   ]
  },
  {
   "cell_type": "code",
   "execution_count": 21,
   "metadata": {
    "collapsed": true
   },
   "outputs": [],
   "source": [
    "#gfp_df['percentiles'] = percentiles\n",
    "gfp_df['percentiles'] = percentiles"
   ]
  },
  {
   "cell_type": "code",
   "execution_count": 57,
   "metadata": {},
   "outputs": [
    {
     "data": {
      "text/plain": [
       "30691"
      ]
     },
     "execution_count": 57,
     "metadata": {},
     "output_type": "execute_result"
    }
   ],
   "source": [
    "len(gfp_df)"
   ]
  },
  {
   "cell_type": "code",
   "execution_count": 56,
   "metadata": {},
   "outputs": [
    {
     "data": {
      "text/html": [
       "<div>\n",
       "<style scoped>\n",
       "    .dataframe tbody tr th:only-of-type {\n",
       "        vertical-align: middle;\n",
       "    }\n",
       "\n",
       "    .dataframe tbody tr th {\n",
       "        vertical-align: top;\n",
       "    }\n",
       "\n",
       "    .dataframe thead th {\n",
       "        text-align: right;\n",
       "    }\n",
       "</style>\n",
       "<table border=\"1\" class=\"dataframe\">\n",
       "  <thead>\n",
       "    <tr style=\"text-align: right;\">\n",
       "      <th></th>\n",
       "      <th>seq</th>\n",
       "      <th>val</th>\n",
       "      <th>percentiles</th>\n",
       "    </tr>\n",
       "  </thead>\n",
       "  <tbody>\n",
       "    <tr>\n",
       "      <th>0</th>\n",
       "      <td>KGEELFTGVVPILVELDGDVNGHKFSVSGEGEGDATYGKLTLKFIC...</td>\n",
       "      <td>3.719212</td>\n",
       "      <td>83.565215</td>\n",
       "    </tr>\n",
       "    <tr>\n",
       "      <th>4</th>\n",
       "      <td>KGEELFTGVVPILVELDGDVNGHKFSVSGEGEGDATYGKLTLKFIC...</td>\n",
       "      <td>3.708478</td>\n",
       "      <td>81.303965</td>\n",
       "    </tr>\n",
       "    <tr>\n",
       "      <th>5</th>\n",
       "      <td>KGEELFTGVVPILVELDGDVNGHKFSVSGEGEGDATYGKLTLKFIC...</td>\n",
       "      <td>3.582764</td>\n",
       "      <td>50.399140</td>\n",
       "    </tr>\n",
       "    <tr>\n",
       "      <th>7</th>\n",
       "      <td>KGEELFTGVVPILVELDGDVNGHKFSVSGEGEGDATYGKLTLKFIC...</td>\n",
       "      <td>3.659013</td>\n",
       "      <td>68.463067</td>\n",
       "    </tr>\n",
       "    <tr>\n",
       "      <th>8</th>\n",
       "      <td>KGEELFTGVVPILVELDGDVNGHKFSVSGEGEGDATYGKLTLKFIC...</td>\n",
       "      <td>3.573855</td>\n",
       "      <td>48.489785</td>\n",
       "    </tr>\n",
       "  </tbody>\n",
       "</table>\n",
       "</div>"
      ],
      "text/plain": [
       "                                                 seq       val  percentiles\n",
       "0  KGEELFTGVVPILVELDGDVNGHKFSVSGEGEGDATYGKLTLKFIC...  3.719212    83.565215\n",
       "4  KGEELFTGVVPILVELDGDVNGHKFSVSGEGEGDATYGKLTLKFIC...  3.708478    81.303965\n",
       "5  KGEELFTGVVPILVELDGDVNGHKFSVSGEGEGDATYGKLTLKFIC...  3.582764    50.399140\n",
       "7  KGEELFTGVVPILVELDGDVNGHKFSVSGEGEGDATYGKLTLKFIC...  3.659013    68.463067\n",
       "8  KGEELFTGVVPILVELDGDVNGHKFSVSGEGEGDATYGKLTLKFIC...  3.573855    48.489785"
      ]
     },
     "execution_count": 56,
     "metadata": {},
     "output_type": "execute_result"
    }
   ],
   "source": [
    "gfp_df.head()"
   ]
  },
  {
   "cell_type": "code",
   "execution_count": 58,
   "metadata": {
    "collapsed": true
   },
   "outputs": [],
   "source": [
    "gfp_df.to_csv('gfp_seq_val_percentiles_high_val_seqs.csv',sep='\\t')"
   ]
  },
  {
   "cell_type": "code",
   "execution_count": 23,
   "metadata": {
    "collapsed": true
   },
   "outputs": [],
   "source": [
    "gfp_df_percentiles = gfp_df.copy()"
   ]
  },
  {
   "cell_type": "markdown",
   "metadata": {},
   "source": [
    "## Load dataframe with percentiles"
   ]
  },
  {
   "cell_type": "code",
   "execution_count": 214,
   "metadata": {},
   "outputs": [
    {
     "data": {
      "text/html": [
       "<div>\n",
       "<style scoped>\n",
       "    .dataframe tbody tr th:only-of-type {\n",
       "        vertical-align: middle;\n",
       "    }\n",
       "\n",
       "    .dataframe tbody tr th {\n",
       "        vertical-align: top;\n",
       "    }\n",
       "\n",
       "    .dataframe thead th {\n",
       "        text-align: right;\n",
       "    }\n",
       "</style>\n",
       "<table border=\"1\" class=\"dataframe\">\n",
       "  <thead>\n",
       "    <tr style=\"text-align: right;\">\n",
       "      <th></th>\n",
       "      <th>seq</th>\n",
       "      <th>val</th>\n",
       "      <th>percentiles</th>\n",
       "      <th>additive_trait</th>\n",
       "    </tr>\n",
       "  </thead>\n",
       "  <tbody>\n",
       "    <tr>\n",
       "      <th>0</th>\n",
       "      <td>KGEELFTGVVPILVELDGDVNGHKFSVSGEGEGDATYGKLTLKFIC...</td>\n",
       "      <td>3.719212</td>\n",
       "      <td>88.033215</td>\n",
       "      <td>-0.825169</td>\n",
       "    </tr>\n",
       "    <tr>\n",
       "      <th>1</th>\n",
       "      <td>KGEELFTGVVPILVELDGDVNGHKFSVSGEGEGDATYGKLTLKFIC...</td>\n",
       "      <td>3.708478</td>\n",
       "      <td>86.386714</td>\n",
       "      <td>-0.825169</td>\n",
       "    </tr>\n",
       "    <tr>\n",
       "      <th>2</th>\n",
       "      <td>KGEELFTGVVPILVELDGDVNGHKFSVSGEGEGDATYGKLTLKFIC...</td>\n",
       "      <td>3.582764</td>\n",
       "      <td>63.883749</td>\n",
       "      <td>-0.825169</td>\n",
       "    </tr>\n",
       "    <tr>\n",
       "      <th>3</th>\n",
       "      <td>KGEELFTGVVPILVELDGDVNGHKFSVSGEGEGDATYGKLTLKFIC...</td>\n",
       "      <td>1.499573</td>\n",
       "      <td>9.933571</td>\n",
       "      <td>-0.825169</td>\n",
       "    </tr>\n",
       "    <tr>\n",
       "      <th>4</th>\n",
       "      <td>KGEELFTGVVPILVELDGDVNGHKFSVSGEGEGDATYGKLTLKFIC...</td>\n",
       "      <td>3.659013</td>\n",
       "      <td>77.036773</td>\n",
       "      <td>-0.825169</td>\n",
       "    </tr>\n",
       "  </tbody>\n",
       "</table>\n",
       "</div>"
      ],
      "text/plain": [
       "                                                 seq       val  percentiles  \\\n",
       "0  KGEELFTGVVPILVELDGDVNGHKFSVSGEGEGDATYGKLTLKFIC...  3.719212    88.033215   \n",
       "1  KGEELFTGVVPILVELDGDVNGHKFSVSGEGEGDATYGKLTLKFIC...  3.708478    86.386714   \n",
       "2  KGEELFTGVVPILVELDGDVNGHKFSVSGEGEGDATYGKLTLKFIC...  3.582764    63.883749   \n",
       "3  KGEELFTGVVPILVELDGDVNGHKFSVSGEGEGDATYGKLTLKFIC...  1.499573     9.933571   \n",
       "4  KGEELFTGVVPILVELDGDVNGHKFSVSGEGEGDATYGKLTLKFIC...  3.659013    77.036773   \n",
       "\n",
       "   additive_trait  \n",
       "0       -0.825169  \n",
       "1       -0.825169  \n",
       "2       -0.825169  \n",
       "3       -0.825169  \n",
       "4       -0.825169  "
      ]
     },
     "execution_count": 214,
     "metadata": {},
     "output_type": "execute_result"
    }
   ],
   "source": [
    "gfp_df_percentiles = pd.read_csv('gfp_seq_val_percentiles_no_spurious_seqs.csv')\n",
    "#gfp_df_percentiles = pd.read_csv('gfp_seq_val_percentiles.csv')\n",
    "del gfp_df_percentiles['Unnamed: 0']\n",
    "\n",
    "gfp_df_percentiles.head()"
   ]
  },
  {
   "cell_type": "code",
   "execution_count": 173,
   "metadata": {
    "collapsed": true
   },
   "outputs": [],
   "source": [
    "gfp_df_percentiles = gfp_df_percentiles.dropna()"
   ]
  },
  {
   "cell_type": "code",
   "execution_count": 215,
   "metadata": {},
   "outputs": [
    {
     "data": {
      "image/png": "[encoded data removed]",
      "text/plain": [
       "<Figure size 432x288 with 1 Axes>"
      ]
     },
     "metadata": {},
     "output_type": "display_data"
    }
   ],
   "source": [
    "plt.hist(gfp_df_percentiles['val'],bins=200,density=True)\n",
    "plt.show()"
   ]
  },
  {
   "cell_type": "code",
   "execution_count": 217,
   "metadata": {},
   "outputs": [
    {
     "data": {
      "image/png": "[encoded data removed]",
      "text/plain": [
       "<Figure size 432x288 with 1 Axes>"
      ]
     },
     "metadata": {},
     "output_type": "display_data"
    }
   ],
   "source": [
    "#plt.scatter(gfp_df_percentiles.loc[gfp_df_percentiles['additive_trait']<0.825169]['additive_trait'],gfp_df_percentiles.loc[gfp_df_percentiles['additive_trait']<0.825169]['val'])\n",
    "#plt.scatter(gfp_df_percentiles.loc[gfp_df_percentiles['val']>1.31]['additive_trait'],gfp_df_percentiles.loc[gfp_df_percentiles['val']>1.31]['val'])\n",
    "plt.scatter(gfp_df_percentiles['additive_trait'],gfp_df_percentiles['val'])\n",
    "#plt.ylim([1.2,1.4])\n",
    "plt.show()"
   ]
  },
  {
   "cell_type": "code",
   "execution_count": 156,
   "metadata": {},
   "outputs": [
    {
     "data": {
      "text/plain": [
       "54025"
      ]
     },
     "execution_count": 156,
     "metadata": {},
     "output_type": "execute_result"
    }
   ],
   "source": [
    "len(gfp_df_percentiles['val'])"
   ]
  },
  {
   "cell_type": "code",
   "execution_count": 94,
   "metadata": {},
   "outputs": [
    {
     "data": {
      "text/plain": [
       "54016"
      ]
     },
     "execution_count": 94,
     "metadata": {},
     "output_type": "execute_result"
    }
   ],
   "source": [
    "len(gfp_df_percentiles.loc[gfp_df_percentiles['additive_trait']<0.825169])"
   ]
  },
  {
   "cell_type": "markdown",
   "metadata": {},
   "source": [
    "## Load/visualize global episistasis"
   ]
  },
  {
   "cell_type": "code",
   "execution_count": 208,
   "metadata": {},
   "outputs": [
    {
     "data": {
      "image/png": "[encoded data removed]",
      "text/plain": [
       "<Figure size 720x576 with 1 Axes>"
      ]
     },
     "metadata": {},
     "output_type": "display_data"
    }
   ],
   "source": [
    "plt.figure(figsize=[10,8])\n",
    "#plt.scatter(gfp_df_percentiles['additive_trait'],gfp_df_percentiles['val'],s=0.5,color='red',alpha=0.25)\n",
    "#plt.scatter(gfp_df_percentiles.loc[gfp_df_percentiles['additive_trait']<0.825169]['additive_trait'],gfp_df_percentiles.loc[gfp_df_percentiles['additive_trait']<0.825169]['val'],s=20.0,color='red')\n",
    "plt.scatter(gfp_df_percentiles['additive_trait'].dropna(),gfp_df_percentiles['val'],color='red')\n",
    "plt.xlabel('Additive Trait',fontsize=16)\n",
    "plt.ylabel('Measured Values',fontsize=16)\n",
    "plt.title('GFP Global Epistasis using Information Maximization',fontsize=16)\n",
    "plt.tick_params(labelsize=16)\n",
    "plt.savefig('GFP_global_epistasis_MI_max_no_spurious_seqs.png')\n",
    "plt.show()"
   ]
  },
  {
   "cell_type": "code",
   "execution_count": null,
   "metadata": {
    "collapsed": true
   },
   "outputs": [],
   "source": []
  },
  {
   "cell_type": "markdown",
   "metadata": {},
   "source": [
    "## end load/visualize global episistasis"
   ]
  },
  {
   "cell_type": "code",
   "execution_count": 29,
   "metadata": {},
   "outputs": [
    {
     "data": {
      "text/plain": [
       "30691"
      ]
     },
     "execution_count": 29,
     "metadata": {},
     "output_type": "execute_result"
    }
   ],
   "source": [
    "len(gfp_df_percentiles)"
   ]
  },
  {
   "cell_type": "code",
   "execution_count": 30,
   "metadata": {
    "collapsed": true
   },
   "outputs": [],
   "source": [
    "val_scaled = gfp_df_percentiles['val']\n",
    "#val_scaled = (val_scaled-min(val_scaled))/(max(val_scaled)-min(val_scaled))\n",
    "gfp_df_percentiles['val_scaled'] = val_scaled"
   ]
  },
  {
   "cell_type": "code",
   "execution_count": 31,
   "metadata": {
    "collapsed": true
   },
   "outputs": [],
   "source": [
    "bins_to_use = 20\n",
    "#counts,bins = np.histogram(gb1_df_10k['val'],bins=bins_to_use)\n",
    "counts,bins = np.histogram(val_scaled,bins=bins_to_use)"
   ]
  },
  {
   "cell_type": "code",
   "execution_count": 32,
   "metadata": {},
   "outputs": [
    {
     "data": {
      "text/plain": [
       "array([2.50058396, 2.58171022, 2.66283647, 2.74396273, 2.82508898,\n",
       "       2.90621524, 2.98734149, 3.06846775, 3.149594  , 3.23072026,\n",
       "       3.31184651, 3.39297277, 3.47409902, 3.55522528, 3.63635153,\n",
       "       3.71747779, 3.79860404, 3.8797303 , 3.96085655, 4.04198281,\n",
       "       4.12310906])"
      ]
     },
     "execution_count": 32,
     "metadata": {},
     "output_type": "execute_result"
    }
   ],
   "source": [
    "bins"
   ]
  },
  {
   "cell_type": "code",
   "execution_count": 33,
   "metadata": {
    "collapsed": true
   },
   "outputs": [],
   "source": [
    "#temp_df = gb1_df_10k[].copy()\n",
    "temp_df = gfp_df_percentiles.copy()"
   ]
  },
  {
   "cell_type": "code",
   "execution_count": 34,
   "metadata": {},
   "outputs": [
    {
     "data": {
      "text/plain": [
       "30691"
      ]
     },
     "execution_count": 34,
     "metadata": {},
     "output_type": "execute_result"
    }
   ],
   "source": [
    "len(temp_df['val_scaled'])"
   ]
  },
  {
   "cell_type": "code",
   "execution_count": 35,
   "metadata": {},
   "outputs": [
    {
     "name": "stdout",
     "output_type": "stream",
     "text": [
      "0 2.5005839606299998 2.5817102157674996\n",
      "1 2.5817102157674996 2.662836470905\n",
      "2 2.662836470905 2.7439627260424997\n",
      "3 2.7439627260424997 2.82508898118\n",
      "4 2.82508898118 2.9062152363175\n",
      "5 2.9062152363175 2.987341491455\n",
      "6 2.987341491455 3.0684677465925\n",
      "7 3.0684677465925 3.1495940017299997\n",
      "8 3.1495940017299997 3.2307202568675\n",
      "9 3.2307202568675 3.3118465120050002\n",
      "10 3.3118465120050002 3.3929727671425\n",
      "11 3.3929727671425 3.47409902228\n",
      "12 3.47409902228 3.5552252774174997\n",
      "13 3.5552252774174997 3.636351532555\n",
      "14 3.636351532555 3.7174777876925003\n",
      "15 3.7174777876925003 3.79860404283\n",
      "16 3.79860404283 3.8797302979675\n",
      "17 3.8797302979675 3.960856553105\n",
      "18 3.960856553105 4.0419828082425004\n",
      "19 4.0419828082425004 4.12310906338\n"
     ]
    }
   ],
   "source": [
    "for bin_index in range(len(bins)):\n",
    "    if(bin_index<len(bins)-1):\n",
    "        print(bin_index,bins[bin_index],bins[bin_index+1])     "
   ]
  },
  {
   "cell_type": "markdown",
   "metadata": {},
   "source": [
    "## Get sequences and bin numbers"
   ]
  },
  {
   "cell_type": "code",
   "execution_count": 36,
   "metadata": {
    "collapsed": true
   },
   "outputs": [],
   "source": [
    "sequence_bins_list = []\n",
    "# loop over every sequence\n",
    "for index, row in temp_df.iterrows():\n",
    "    # for each row, put sequences in the correct bin based on comparing values to bins\n",
    "    #print(index,row['seq'], row['val'])\n",
    "    for bin_index in range(len(bins)):\n",
    "        if(bin_index<len(bins)-1): # do go out of bounds\n",
    "            if((row['val_scaled']>= bins[bin_index]) and (row['val_scaled']<=bins[bin_index+1])):\n",
    "                #print('Seq: ',row['seq'],' going in bin: ',bin_index)\n",
    "                sequence_bins_list.append([row['seq'],bin_index])\n",
    "                \n",
    "                "
   ]
  },
  {
   "cell_type": "code",
   "execution_count": 37,
   "metadata": {
    "collapsed": true
   },
   "outputs": [],
   "source": [
    "sequence_counts_array = np.array(sequence_bins_list)"
   ]
  },
  {
   "cell_type": "code",
   "execution_count": 38,
   "metadata": {},
   "outputs": [
    {
     "data": {
      "text/plain": [
       "30691"
      ]
     },
     "execution_count": 38,
     "metadata": {},
     "output_type": "execute_result"
    }
   ],
   "source": [
    "len(sequence_counts_array)"
   ]
  },
  {
   "cell_type": "code",
   "execution_count": 39,
   "metadata": {},
   "outputs": [
    {
     "data": {
      "text/html": [
       "<div>\n",
       "<style scoped>\n",
       "    .dataframe tbody tr th:only-of-type {\n",
       "        vertical-align: middle;\n",
       "    }\n",
       "\n",
       "    .dataframe tbody tr th {\n",
       "        vertical-align: top;\n",
       "    }\n",
       "\n",
       "    .dataframe thead th {\n",
       "        text-align: right;\n",
       "    }\n",
       "</style>\n",
       "<table border=\"1\" class=\"dataframe\">\n",
       "  <thead>\n",
       "    <tr style=\"text-align: right;\">\n",
       "      <th></th>\n",
       "      <th>bin</th>\n",
       "      <th>seq</th>\n",
       "    </tr>\n",
       "  </thead>\n",
       "  <tbody>\n",
       "    <tr>\n",
       "      <th>0</th>\n",
       "      <td>15</td>\n",
       "      <td>KGEELFTGVVPILVELDGDVNGHKFSVSGEGEGDATYGKLTLKFIC...</td>\n",
       "    </tr>\n",
       "    <tr>\n",
       "      <th>1</th>\n",
       "      <td>14</td>\n",
       "      <td>KGEELFTGVVPILVELDGDVNGHKFSVSGEGEGDATYGKLTLKFIC...</td>\n",
       "    </tr>\n",
       "    <tr>\n",
       "      <th>2</th>\n",
       "      <td>13</td>\n",
       "      <td>KGEELFTGVVPILVELDGDVNGHKFSVSGEGEGDATYGKLTLKFIC...</td>\n",
       "    </tr>\n",
       "    <tr>\n",
       "      <th>3</th>\n",
       "      <td>14</td>\n",
       "      <td>KGEELFTGVVPILVELDGDVNGHKFSVSGEGEGDATYGKLTLKFIC...</td>\n",
       "    </tr>\n",
       "    <tr>\n",
       "      <th>4</th>\n",
       "      <td>13</td>\n",
       "      <td>KGEELFTGVVPILVELDGDVNGHKFSVSGEGEGDATYGKLTLKFIC...</td>\n",
       "    </tr>\n",
       "  </tbody>\n",
       "</table>\n",
       "</div>"
      ],
      "text/plain": [
       "  bin                                                seq\n",
       "0  15  KGEELFTGVVPILVELDGDVNGHKFSVSGEGEGDATYGKLTLKFIC...\n",
       "1  14  KGEELFTGVVPILVELDGDVNGHKFSVSGEGEGDATYGKLTLKFIC...\n",
       "2  13  KGEELFTGVVPILVELDGDVNGHKFSVSGEGEGDATYGKLTLKFIC...\n",
       "3  14  KGEELFTGVVPILVELDGDVNGHKFSVSGEGEGDATYGKLTLKFIC...\n",
       "4  13  KGEELFTGVVPILVELDGDVNGHKFSVSGEGEGDATYGKLTLKFIC..."
      ]
     },
     "execution_count": 39,
     "metadata": {},
     "output_type": "execute_result"
    }
   ],
   "source": [
    "sequence_counts_array[:,1]\n",
    "seq_bin_df = pd.DataFrame({'seq':sequence_counts_array[:,0],'bin':sequence_counts_array[:,1]})\n",
    "seq_bin_df.head()"
   ]
  },
  {
   "cell_type": "code",
   "execution_count": 40,
   "metadata": {},
   "outputs": [
    {
     "data": {
      "text/plain": [
       "30691"
      ]
     },
     "execution_count": 40,
     "metadata": {},
     "output_type": "execute_result"
    }
   ],
   "source": [
    "len(seq_bin_df)"
   ]
  },
  {
   "cell_type": "code",
   "execution_count": 41,
   "metadata": {},
   "outputs": [
    {
     "name": "stdout",
     "output_type": "stream",
     "text": [
      "0\n",
      "19\n"
     ]
    }
   ],
   "source": [
    "print(min(sequence_counts_array[:,1].astype('int')))\n",
    "print(max(sequence_counts_array[:,1].astype('int')))"
   ]
  },
  {
   "cell_type": "code",
   "execution_count": 42,
   "metadata": {
    "collapsed": true
   },
   "outputs": [],
   "source": [
    "count_cols = []\n",
    "for bin_index in range(len(bins)-1):\n",
    "    count_cols.append('ct_'+str(bin_index))"
   ]
  },
  {
   "cell_type": "code",
   "execution_count": 43,
   "metadata": {},
   "outputs": [
    {
     "data": {
      "text/plain": [
       "['ct_0',\n",
       " 'ct_1',\n",
       " 'ct_2',\n",
       " 'ct_3',\n",
       " 'ct_4',\n",
       " 'ct_5',\n",
       " 'ct_6',\n",
       " 'ct_7',\n",
       " 'ct_8',\n",
       " 'ct_9',\n",
       " 'ct_10',\n",
       " 'ct_11',\n",
       " 'ct_12',\n",
       " 'ct_13',\n",
       " 'ct_14',\n",
       " 'ct_15',\n",
       " 'ct_16',\n",
       " 'ct_17',\n",
       " 'ct_18',\n",
       " 'ct_19']"
      ]
     },
     "execution_count": 43,
     "metadata": {},
     "output_type": "execute_result"
    }
   ],
   "source": [
    "count_cols"
   ]
  },
  {
   "cell_type": "code",
   "execution_count": 44,
   "metadata": {
    "collapsed": true
   },
   "outputs": [],
   "source": [
    "# append count columns to the dataframe\n",
    "#c ount_cols are ['ct_0','ct_1','ct_2','ct_3','ct_4','ct_5','ct_6','ct_7','ct_8','ct_9'] for bins = 10\n",
    "d = dict.fromkeys(count_cols, 0)\n",
    "seq_counts_df = seq_bin_df.assign(**d).copy()"
   ]
  },
  {
   "cell_type": "code",
   "execution_count": 45,
   "metadata": {},
   "outputs": [
    {
     "data": {
      "text/html": [
       "<div>\n",
       "<style scoped>\n",
       "    .dataframe tbody tr th:only-of-type {\n",
       "        vertical-align: middle;\n",
       "    }\n",
       "\n",
       "    .dataframe tbody tr th {\n",
       "        vertical-align: top;\n",
       "    }\n",
       "\n",
       "    .dataframe thead th {\n",
       "        text-align: right;\n",
       "    }\n",
       "</style>\n",
       "<table border=\"1\" class=\"dataframe\">\n",
       "  <thead>\n",
       "    <tr style=\"text-align: right;\">\n",
       "      <th></th>\n",
       "      <th>bin</th>\n",
       "      <th>seq</th>\n",
       "      <th>ct_0</th>\n",
       "      <th>ct_1</th>\n",
       "      <th>ct_2</th>\n",
       "      <th>ct_3</th>\n",
       "      <th>ct_4</th>\n",
       "      <th>ct_5</th>\n",
       "      <th>ct_6</th>\n",
       "      <th>ct_7</th>\n",
       "      <th>...</th>\n",
       "      <th>ct_10</th>\n",
       "      <th>ct_11</th>\n",
       "      <th>ct_12</th>\n",
       "      <th>ct_13</th>\n",
       "      <th>ct_14</th>\n",
       "      <th>ct_15</th>\n",
       "      <th>ct_16</th>\n",
       "      <th>ct_17</th>\n",
       "      <th>ct_18</th>\n",
       "      <th>ct_19</th>\n",
       "    </tr>\n",
       "  </thead>\n",
       "  <tbody>\n",
       "    <tr>\n",
       "      <th>0</th>\n",
       "      <td>15</td>\n",
       "      <td>KGEELFTGVVPILVELDGDVNGHKFSVSGEGEGDATYGKLTLKFIC...</td>\n",
       "      <td>0</td>\n",
       "      <td>0</td>\n",
       "      <td>0</td>\n",
       "      <td>0</td>\n",
       "      <td>0</td>\n",
       "      <td>0</td>\n",
       "      <td>0</td>\n",
       "      <td>0</td>\n",
       "      <td>...</td>\n",
       "      <td>0</td>\n",
       "      <td>0</td>\n",
       "      <td>0</td>\n",
       "      <td>0</td>\n",
       "      <td>0</td>\n",
       "      <td>0</td>\n",
       "      <td>0</td>\n",
       "      <td>0</td>\n",
       "      <td>0</td>\n",
       "      <td>0</td>\n",
       "    </tr>\n",
       "    <tr>\n",
       "      <th>1</th>\n",
       "      <td>14</td>\n",
       "      <td>KGEELFTGVVPILVELDGDVNGHKFSVSGEGEGDATYGKLTLKFIC...</td>\n",
       "      <td>0</td>\n",
       "      <td>0</td>\n",
       "      <td>0</td>\n",
       "      <td>0</td>\n",
       "      <td>0</td>\n",
       "      <td>0</td>\n",
       "      <td>0</td>\n",
       "      <td>0</td>\n",
       "      <td>...</td>\n",
       "      <td>0</td>\n",
       "      <td>0</td>\n",
       "      <td>0</td>\n",
       "      <td>0</td>\n",
       "      <td>0</td>\n",
       "      <td>0</td>\n",
       "      <td>0</td>\n",
       "      <td>0</td>\n",
       "      <td>0</td>\n",
       "      <td>0</td>\n",
       "    </tr>\n",
       "    <tr>\n",
       "      <th>2</th>\n",
       "      <td>13</td>\n",
       "      <td>KGEELFTGVVPILVELDGDVNGHKFSVSGEGEGDATYGKLTLKFIC...</td>\n",
       "      <td>0</td>\n",
       "      <td>0</td>\n",
       "      <td>0</td>\n",
       "      <td>0</td>\n",
       "      <td>0</td>\n",
       "      <td>0</td>\n",
       "      <td>0</td>\n",
       "      <td>0</td>\n",
       "      <td>...</td>\n",
       "      <td>0</td>\n",
       "      <td>0</td>\n",
       "      <td>0</td>\n",
       "      <td>0</td>\n",
       "      <td>0</td>\n",
       "      <td>0</td>\n",
       "      <td>0</td>\n",
       "      <td>0</td>\n",
       "      <td>0</td>\n",
       "      <td>0</td>\n",
       "    </tr>\n",
       "    <tr>\n",
       "      <th>3</th>\n",
       "      <td>14</td>\n",
       "      <td>KGEELFTGVVPILVELDGDVNGHKFSVSGEGEGDATYGKLTLKFIC...</td>\n",
       "      <td>0</td>\n",
       "      <td>0</td>\n",
       "      <td>0</td>\n",
       "      <td>0</td>\n",
       "      <td>0</td>\n",
       "      <td>0</td>\n",
       "      <td>0</td>\n",
       "      <td>0</td>\n",
       "      <td>...</td>\n",
       "      <td>0</td>\n",
       "      <td>0</td>\n",
       "      <td>0</td>\n",
       "      <td>0</td>\n",
       "      <td>0</td>\n",
       "      <td>0</td>\n",
       "      <td>0</td>\n",
       "      <td>0</td>\n",
       "      <td>0</td>\n",
       "      <td>0</td>\n",
       "    </tr>\n",
       "    <tr>\n",
       "      <th>4</th>\n",
       "      <td>13</td>\n",
       "      <td>KGEELFTGVVPILVELDGDVNGHKFSVSGEGEGDATYGKLTLKFIC...</td>\n",
       "      <td>0</td>\n",
       "      <td>0</td>\n",
       "      <td>0</td>\n",
       "      <td>0</td>\n",
       "      <td>0</td>\n",
       "      <td>0</td>\n",
       "      <td>0</td>\n",
       "      <td>0</td>\n",
       "      <td>...</td>\n",
       "      <td>0</td>\n",
       "      <td>0</td>\n",
       "      <td>0</td>\n",
       "      <td>0</td>\n",
       "      <td>0</td>\n",
       "      <td>0</td>\n",
       "      <td>0</td>\n",
       "      <td>0</td>\n",
       "      <td>0</td>\n",
       "      <td>0</td>\n",
       "    </tr>\n",
       "  </tbody>\n",
       "</table>\n",
       "<p>5 rows × 22 columns</p>\n",
       "</div>"
      ],
      "text/plain": [
       "  bin                                                seq  ct_0  ct_1  ct_2  \\\n",
       "0  15  KGEELFTGVVPILVELDGDVNGHKFSVSGEGEGDATYGKLTLKFIC...     0     0     0   \n",
       "1  14  KGEELFTGVVPILVELDGDVNGHKFSVSGEGEGDATYGKLTLKFIC...     0     0     0   \n",
       "2  13  KGEELFTGVVPILVELDGDVNGHKFSVSGEGEGDATYGKLTLKFIC...     0     0     0   \n",
       "3  14  KGEELFTGVVPILVELDGDVNGHKFSVSGEGEGDATYGKLTLKFIC...     0     0     0   \n",
       "4  13  KGEELFTGVVPILVELDGDVNGHKFSVSGEGEGDATYGKLTLKFIC...     0     0     0   \n",
       "\n",
       "   ct_3  ct_4  ct_5  ct_6  ct_7  ...    ct_10  ct_11  ct_12  ct_13  ct_14  \\\n",
       "0     0     0     0     0     0  ...        0      0      0      0      0   \n",
       "1     0     0     0     0     0  ...        0      0      0      0      0   \n",
       "2     0     0     0     0     0  ...        0      0      0      0      0   \n",
       "3     0     0     0     0     0  ...        0      0      0      0      0   \n",
       "4     0     0     0     0     0  ...        0      0      0      0      0   \n",
       "\n",
       "   ct_15  ct_16  ct_17  ct_18  ct_19  \n",
       "0      0      0      0      0      0  \n",
       "1      0      0      0      0      0  \n",
       "2      0      0      0      0      0  \n",
       "3      0      0      0      0      0  \n",
       "4      0      0      0      0      0  \n",
       "\n",
       "[5 rows x 22 columns]"
      ]
     },
     "execution_count": 45,
     "metadata": {},
     "output_type": "execute_result"
    }
   ],
   "source": [
    "seq_counts_df.head()"
   ]
  },
  {
   "cell_type": "code",
   "execution_count": 46,
   "metadata": {},
   "outputs": [
    {
     "data": {
      "text/html": [
       "<div>\n",
       "<style scoped>\n",
       "    .dataframe tbody tr th:only-of-type {\n",
       "        vertical-align: middle;\n",
       "    }\n",
       "\n",
       "    .dataframe tbody tr th {\n",
       "        vertical-align: top;\n",
       "    }\n",
       "\n",
       "    .dataframe thead th {\n",
       "        text-align: right;\n",
       "    }\n",
       "</style>\n",
       "<table border=\"1\" class=\"dataframe\">\n",
       "  <thead>\n",
       "    <tr style=\"text-align: right;\">\n",
       "      <th></th>\n",
       "      <th>bin</th>\n",
       "      <th>seq</th>\n",
       "      <th>ct_0</th>\n",
       "      <th>ct_1</th>\n",
       "      <th>ct_2</th>\n",
       "      <th>ct_3</th>\n",
       "      <th>ct_4</th>\n",
       "      <th>ct_5</th>\n",
       "      <th>ct_6</th>\n",
       "      <th>ct_7</th>\n",
       "      <th>...</th>\n",
       "      <th>ct_10</th>\n",
       "      <th>ct_11</th>\n",
       "      <th>ct_12</th>\n",
       "      <th>ct_13</th>\n",
       "      <th>ct_14</th>\n",
       "      <th>ct_15</th>\n",
       "      <th>ct_16</th>\n",
       "      <th>ct_17</th>\n",
       "      <th>ct_18</th>\n",
       "      <th>ct_19</th>\n",
       "    </tr>\n",
       "  </thead>\n",
       "  <tbody>\n",
       "    <tr>\n",
       "      <th>0</th>\n",
       "      <td>15</td>\n",
       "      <td>KGEELFTGVVPILVELDGDVNGHKFSVSGEGEGDATYGKLTLKFIC...</td>\n",
       "      <td>0</td>\n",
       "      <td>0</td>\n",
       "      <td>0</td>\n",
       "      <td>0</td>\n",
       "      <td>0</td>\n",
       "      <td>0</td>\n",
       "      <td>0</td>\n",
       "      <td>0</td>\n",
       "      <td>...</td>\n",
       "      <td>0</td>\n",
       "      <td>0</td>\n",
       "      <td>0</td>\n",
       "      <td>0</td>\n",
       "      <td>0</td>\n",
       "      <td>0</td>\n",
       "      <td>0</td>\n",
       "      <td>0</td>\n",
       "      <td>0</td>\n",
       "      <td>0</td>\n",
       "    </tr>\n",
       "    <tr>\n",
       "      <th>1</th>\n",
       "      <td>14</td>\n",
       "      <td>KGEELFTGVVPILVELDGDVNGHKFSVSGEGEGDATYGKLTLKFIC...</td>\n",
       "      <td>0</td>\n",
       "      <td>0</td>\n",
       "      <td>0</td>\n",
       "      <td>0</td>\n",
       "      <td>0</td>\n",
       "      <td>0</td>\n",
       "      <td>0</td>\n",
       "      <td>0</td>\n",
       "      <td>...</td>\n",
       "      <td>0</td>\n",
       "      <td>0</td>\n",
       "      <td>0</td>\n",
       "      <td>0</td>\n",
       "      <td>0</td>\n",
       "      <td>0</td>\n",
       "      <td>0</td>\n",
       "      <td>0</td>\n",
       "      <td>0</td>\n",
       "      <td>0</td>\n",
       "    </tr>\n",
       "    <tr>\n",
       "      <th>2</th>\n",
       "      <td>13</td>\n",
       "      <td>KGEELFTGVVPILVELDGDVNGHKFSVSGEGEGDATYGKLTLKFIC...</td>\n",
       "      <td>0</td>\n",
       "      <td>0</td>\n",
       "      <td>0</td>\n",
       "      <td>0</td>\n",
       "      <td>0</td>\n",
       "      <td>0</td>\n",
       "      <td>0</td>\n",
       "      <td>0</td>\n",
       "      <td>...</td>\n",
       "      <td>0</td>\n",
       "      <td>0</td>\n",
       "      <td>0</td>\n",
       "      <td>0</td>\n",
       "      <td>0</td>\n",
       "      <td>0</td>\n",
       "      <td>0</td>\n",
       "      <td>0</td>\n",
       "      <td>0</td>\n",
       "      <td>0</td>\n",
       "    </tr>\n",
       "    <tr>\n",
       "      <th>3</th>\n",
       "      <td>14</td>\n",
       "      <td>KGEELFTGVVPILVELDGDVNGHKFSVSGEGEGDATYGKLTLKFIC...</td>\n",
       "      <td>0</td>\n",
       "      <td>0</td>\n",
       "      <td>0</td>\n",
       "      <td>0</td>\n",
       "      <td>0</td>\n",
       "      <td>0</td>\n",
       "      <td>0</td>\n",
       "      <td>0</td>\n",
       "      <td>...</td>\n",
       "      <td>0</td>\n",
       "      <td>0</td>\n",
       "      <td>0</td>\n",
       "      <td>0</td>\n",
       "      <td>0</td>\n",
       "      <td>0</td>\n",
       "      <td>0</td>\n",
       "      <td>0</td>\n",
       "      <td>0</td>\n",
       "      <td>0</td>\n",
       "    </tr>\n",
       "    <tr>\n",
       "      <th>4</th>\n",
       "      <td>13</td>\n",
       "      <td>KGEELFTGVVPILVELDGDVNGHKFSVSGEGEGDATYGKLTLKFIC...</td>\n",
       "      <td>0</td>\n",
       "      <td>0</td>\n",
       "      <td>0</td>\n",
       "      <td>0</td>\n",
       "      <td>0</td>\n",
       "      <td>0</td>\n",
       "      <td>0</td>\n",
       "      <td>0</td>\n",
       "      <td>...</td>\n",
       "      <td>0</td>\n",
       "      <td>0</td>\n",
       "      <td>0</td>\n",
       "      <td>0</td>\n",
       "      <td>0</td>\n",
       "      <td>0</td>\n",
       "      <td>0</td>\n",
       "      <td>0</td>\n",
       "      <td>0</td>\n",
       "      <td>0</td>\n",
       "    </tr>\n",
       "  </tbody>\n",
       "</table>\n",
       "<p>5 rows × 22 columns</p>\n",
       "</div>"
      ],
      "text/plain": [
       "  bin                                                seq  ct_0  ct_1  ct_2  \\\n",
       "0  15  KGEELFTGVVPILVELDGDVNGHKFSVSGEGEGDATYGKLTLKFIC...     0     0     0   \n",
       "1  14  KGEELFTGVVPILVELDGDVNGHKFSVSGEGEGDATYGKLTLKFIC...     0     0     0   \n",
       "2  13  KGEELFTGVVPILVELDGDVNGHKFSVSGEGEGDATYGKLTLKFIC...     0     0     0   \n",
       "3  14  KGEELFTGVVPILVELDGDVNGHKFSVSGEGEGDATYGKLTLKFIC...     0     0     0   \n",
       "4  13  KGEELFTGVVPILVELDGDVNGHKFSVSGEGEGDATYGKLTLKFIC...     0     0     0   \n",
       "\n",
       "   ct_3  ct_4  ct_5  ct_6  ct_7  ...    ct_10  ct_11  ct_12  ct_13  ct_14  \\\n",
       "0     0     0     0     0     0  ...        0      0      0      0      0   \n",
       "1     0     0     0     0     0  ...        0      0      0      0      0   \n",
       "2     0     0     0     0     0  ...        0      0      0      0      0   \n",
       "3     0     0     0     0     0  ...        0      0      0      0      0   \n",
       "4     0     0     0     0     0  ...        0      0      0      0      0   \n",
       "\n",
       "   ct_15  ct_16  ct_17  ct_18  ct_19  \n",
       "0      0      0      0      0      0  \n",
       "1      0      0      0      0      0  \n",
       "2      0      0      0      0      0  \n",
       "3      0      0      0      0      0  \n",
       "4      0      0      0      0      0  \n",
       "\n",
       "[5 rows x 22 columns]"
      ]
     },
     "execution_count": 46,
     "metadata": {},
     "output_type": "execute_result"
    }
   ],
   "source": [
    "seq_counts_df = seq_counts_df.copy()\n",
    "seq_counts_df.reset_index(inplace=True)\n",
    "del seq_counts_df['index']\n",
    "seq_counts_df.head()"
   ]
  },
  {
   "cell_type": "code",
   "execution_count": 47,
   "metadata": {},
   "outputs": [
    {
     "data": {
      "text/plain": [
       "30691"
      ]
     },
     "execution_count": 47,
     "metadata": {},
     "output_type": "execute_result"
    }
   ],
   "source": [
    "len(seq_counts_df)"
   ]
  },
  {
   "cell_type": "markdown",
   "metadata": {},
   "source": [
    "## populate counts columns"
   ]
  },
  {
   "cell_type": "code",
   "execution_count": 48,
   "metadata": {
    "collapsed": true
   },
   "outputs": [],
   "source": [
    "number_cols_to_displace = 2\n",
    "\n",
    "for row_index in range(len(seq_counts_df['bin'])):\n",
    "    count_col = seq_counts_df.columns[int(seq_counts_df['bin'][row_index])+number_cols_to_displace]\n",
    "    seq_counts_df.loc[row_index,count_col] = 1\n",
    "\n",
    "    "
   ]
  },
  {
   "cell_type": "code",
   "execution_count": 49,
   "metadata": {},
   "outputs": [
    {
     "data": {
      "text/html": [
       "<div>\n",
       "<style scoped>\n",
       "    .dataframe tbody tr th:only-of-type {\n",
       "        vertical-align: middle;\n",
       "    }\n",
       "\n",
       "    .dataframe tbody tr th {\n",
       "        vertical-align: top;\n",
       "    }\n",
       "\n",
       "    .dataframe thead th {\n",
       "        text-align: right;\n",
       "    }\n",
       "</style>\n",
       "<table border=\"1\" class=\"dataframe\">\n",
       "  <thead>\n",
       "    <tr style=\"text-align: right;\">\n",
       "      <th></th>\n",
       "      <th>bin</th>\n",
       "      <th>seq</th>\n",
       "      <th>ct_0</th>\n",
       "      <th>ct_1</th>\n",
       "      <th>ct_2</th>\n",
       "      <th>ct_3</th>\n",
       "      <th>ct_4</th>\n",
       "      <th>ct_5</th>\n",
       "      <th>ct_6</th>\n",
       "      <th>ct_7</th>\n",
       "      <th>...</th>\n",
       "      <th>ct_10</th>\n",
       "      <th>ct_11</th>\n",
       "      <th>ct_12</th>\n",
       "      <th>ct_13</th>\n",
       "      <th>ct_14</th>\n",
       "      <th>ct_15</th>\n",
       "      <th>ct_16</th>\n",
       "      <th>ct_17</th>\n",
       "      <th>ct_18</th>\n",
       "      <th>ct_19</th>\n",
       "    </tr>\n",
       "  </thead>\n",
       "  <tbody>\n",
       "    <tr>\n",
       "      <th>0</th>\n",
       "      <td>15</td>\n",
       "      <td>KGEELFTGVVPILVELDGDVNGHKFSVSGEGEGDATYGKLTLKFIC...</td>\n",
       "      <td>0</td>\n",
       "      <td>0</td>\n",
       "      <td>0</td>\n",
       "      <td>0</td>\n",
       "      <td>0</td>\n",
       "      <td>0</td>\n",
       "      <td>0</td>\n",
       "      <td>0</td>\n",
       "      <td>...</td>\n",
       "      <td>0</td>\n",
       "      <td>0</td>\n",
       "      <td>0</td>\n",
       "      <td>0</td>\n",
       "      <td>0</td>\n",
       "      <td>1</td>\n",
       "      <td>0</td>\n",
       "      <td>0</td>\n",
       "      <td>0</td>\n",
       "      <td>0</td>\n",
       "    </tr>\n",
       "    <tr>\n",
       "      <th>1</th>\n",
       "      <td>14</td>\n",
       "      <td>KGEELFTGVVPILVELDGDVNGHKFSVSGEGEGDATYGKLTLKFIC...</td>\n",
       "      <td>0</td>\n",
       "      <td>0</td>\n",
       "      <td>0</td>\n",
       "      <td>0</td>\n",
       "      <td>0</td>\n",
       "      <td>0</td>\n",
       "      <td>0</td>\n",
       "      <td>0</td>\n",
       "      <td>...</td>\n",
       "      <td>0</td>\n",
       "      <td>0</td>\n",
       "      <td>0</td>\n",
       "      <td>0</td>\n",
       "      <td>1</td>\n",
       "      <td>0</td>\n",
       "      <td>0</td>\n",
       "      <td>0</td>\n",
       "      <td>0</td>\n",
       "      <td>0</td>\n",
       "    </tr>\n",
       "    <tr>\n",
       "      <th>2</th>\n",
       "      <td>13</td>\n",
       "      <td>KGEELFTGVVPILVELDGDVNGHKFSVSGEGEGDATYGKLTLKFIC...</td>\n",
       "      <td>0</td>\n",
       "      <td>0</td>\n",
       "      <td>0</td>\n",
       "      <td>0</td>\n",
       "      <td>0</td>\n",
       "      <td>0</td>\n",
       "      <td>0</td>\n",
       "      <td>0</td>\n",
       "      <td>...</td>\n",
       "      <td>0</td>\n",
       "      <td>0</td>\n",
       "      <td>0</td>\n",
       "      <td>1</td>\n",
       "      <td>0</td>\n",
       "      <td>0</td>\n",
       "      <td>0</td>\n",
       "      <td>0</td>\n",
       "      <td>0</td>\n",
       "      <td>0</td>\n",
       "    </tr>\n",
       "    <tr>\n",
       "      <th>3</th>\n",
       "      <td>14</td>\n",
       "      <td>KGEELFTGVVPILVELDGDVNGHKFSVSGEGEGDATYGKLTLKFIC...</td>\n",
       "      <td>0</td>\n",
       "      <td>0</td>\n",
       "      <td>0</td>\n",
       "      <td>0</td>\n",
       "      <td>0</td>\n",
       "      <td>0</td>\n",
       "      <td>0</td>\n",
       "      <td>0</td>\n",
       "      <td>...</td>\n",
       "      <td>0</td>\n",
       "      <td>0</td>\n",
       "      <td>0</td>\n",
       "      <td>0</td>\n",
       "      <td>1</td>\n",
       "      <td>0</td>\n",
       "      <td>0</td>\n",
       "      <td>0</td>\n",
       "      <td>0</td>\n",
       "      <td>0</td>\n",
       "    </tr>\n",
       "    <tr>\n",
       "      <th>4</th>\n",
       "      <td>13</td>\n",
       "      <td>KGEELFTGVVPILVELDGDVNGHKFSVSGEGEGDATYGKLTLKFIC...</td>\n",
       "      <td>0</td>\n",
       "      <td>0</td>\n",
       "      <td>0</td>\n",
       "      <td>0</td>\n",
       "      <td>0</td>\n",
       "      <td>0</td>\n",
       "      <td>0</td>\n",
       "      <td>0</td>\n",
       "      <td>...</td>\n",
       "      <td>0</td>\n",
       "      <td>0</td>\n",
       "      <td>0</td>\n",
       "      <td>1</td>\n",
       "      <td>0</td>\n",
       "      <td>0</td>\n",
       "      <td>0</td>\n",
       "      <td>0</td>\n",
       "      <td>0</td>\n",
       "      <td>0</td>\n",
       "    </tr>\n",
       "    <tr>\n",
       "      <th>5</th>\n",
       "      <td>16</td>\n",
       "      <td>KGEELFTGVVPILVELDGDVNGHKFSVSGEGEGDATYGKLTLKFIC...</td>\n",
       "      <td>0</td>\n",
       "      <td>0</td>\n",
       "      <td>0</td>\n",
       "      <td>0</td>\n",
       "      <td>0</td>\n",
       "      <td>0</td>\n",
       "      <td>0</td>\n",
       "      <td>0</td>\n",
       "      <td>...</td>\n",
       "      <td>0</td>\n",
       "      <td>0</td>\n",
       "      <td>0</td>\n",
       "      <td>0</td>\n",
       "      <td>0</td>\n",
       "      <td>0</td>\n",
       "      <td>1</td>\n",
       "      <td>0</td>\n",
       "      <td>0</td>\n",
       "      <td>0</td>\n",
       "    </tr>\n",
       "    <tr>\n",
       "      <th>6</th>\n",
       "      <td>15</td>\n",
       "      <td>KGEELFTGVVPILVELDGDVNGHKFSVSGEGEGDATYGKLTLKFIC...</td>\n",
       "      <td>0</td>\n",
       "      <td>0</td>\n",
       "      <td>0</td>\n",
       "      <td>0</td>\n",
       "      <td>0</td>\n",
       "      <td>0</td>\n",
       "      <td>0</td>\n",
       "      <td>0</td>\n",
       "      <td>...</td>\n",
       "      <td>0</td>\n",
       "      <td>0</td>\n",
       "      <td>0</td>\n",
       "      <td>0</td>\n",
       "      <td>0</td>\n",
       "      <td>1</td>\n",
       "      <td>0</td>\n",
       "      <td>0</td>\n",
       "      <td>0</td>\n",
       "      <td>0</td>\n",
       "    </tr>\n",
       "    <tr>\n",
       "      <th>7</th>\n",
       "      <td>5</td>\n",
       "      <td>KGEELFTGVVPILVELDGDVNGHKFSVSGEGEGDATYGKLTLKFIC...</td>\n",
       "      <td>0</td>\n",
       "      <td>0</td>\n",
       "      <td>0</td>\n",
       "      <td>0</td>\n",
       "      <td>0</td>\n",
       "      <td>1</td>\n",
       "      <td>0</td>\n",
       "      <td>0</td>\n",
       "      <td>...</td>\n",
       "      <td>0</td>\n",
       "      <td>0</td>\n",
       "      <td>0</td>\n",
       "      <td>0</td>\n",
       "      <td>0</td>\n",
       "      <td>0</td>\n",
       "      <td>0</td>\n",
       "      <td>0</td>\n",
       "      <td>0</td>\n",
       "      <td>0</td>\n",
       "    </tr>\n",
       "    <tr>\n",
       "      <th>8</th>\n",
       "      <td>13</td>\n",
       "      <td>KGEELFTGVVPILVELDGDVNGHKFSVSGEGEGDATYGKLTLKFIC...</td>\n",
       "      <td>0</td>\n",
       "      <td>0</td>\n",
       "      <td>0</td>\n",
       "      <td>0</td>\n",
       "      <td>0</td>\n",
       "      <td>0</td>\n",
       "      <td>0</td>\n",
       "      <td>0</td>\n",
       "      <td>...</td>\n",
       "      <td>0</td>\n",
       "      <td>0</td>\n",
       "      <td>0</td>\n",
       "      <td>1</td>\n",
       "      <td>0</td>\n",
       "      <td>0</td>\n",
       "      <td>0</td>\n",
       "      <td>0</td>\n",
       "      <td>0</td>\n",
       "      <td>0</td>\n",
       "    </tr>\n",
       "    <tr>\n",
       "      <th>9</th>\n",
       "      <td>15</td>\n",
       "      <td>KGEELFTGVVPILVELDGDVNGHKFSVSGEGEGDATYGKLTLKFIC...</td>\n",
       "      <td>0</td>\n",
       "      <td>0</td>\n",
       "      <td>0</td>\n",
       "      <td>0</td>\n",
       "      <td>0</td>\n",
       "      <td>0</td>\n",
       "      <td>0</td>\n",
       "      <td>0</td>\n",
       "      <td>...</td>\n",
       "      <td>0</td>\n",
       "      <td>0</td>\n",
       "      <td>0</td>\n",
       "      <td>0</td>\n",
       "      <td>0</td>\n",
       "      <td>1</td>\n",
       "      <td>0</td>\n",
       "      <td>0</td>\n",
       "      <td>0</td>\n",
       "      <td>0</td>\n",
       "    </tr>\n",
       "  </tbody>\n",
       "</table>\n",
       "<p>10 rows × 22 columns</p>\n",
       "</div>"
      ],
      "text/plain": [
       "  bin                                                seq  ct_0  ct_1  ct_2  \\\n",
       "0  15  KGEELFTGVVPILVELDGDVNGHKFSVSGEGEGDATYGKLTLKFIC...     0     0     0   \n",
       "1  14  KGEELFTGVVPILVELDGDVNGHKFSVSGEGEGDATYGKLTLKFIC...     0     0     0   \n",
       "2  13  KGEELFTGVVPILVELDGDVNGHKFSVSGEGEGDATYGKLTLKFIC...     0     0     0   \n",
       "3  14  KGEELFTGVVPILVELDGDVNGHKFSVSGEGEGDATYGKLTLKFIC...     0     0     0   \n",
       "4  13  KGEELFTGVVPILVELDGDVNGHKFSVSGEGEGDATYGKLTLKFIC...     0     0     0   \n",
       "5  16  KGEELFTGVVPILVELDGDVNGHKFSVSGEGEGDATYGKLTLKFIC...     0     0     0   \n",
       "6  15  KGEELFTGVVPILVELDGDVNGHKFSVSGEGEGDATYGKLTLKFIC...     0     0     0   \n",
       "7   5  KGEELFTGVVPILVELDGDVNGHKFSVSGEGEGDATYGKLTLKFIC...     0     0     0   \n",
       "8  13  KGEELFTGVVPILVELDGDVNGHKFSVSGEGEGDATYGKLTLKFIC...     0     0     0   \n",
       "9  15  KGEELFTGVVPILVELDGDVNGHKFSVSGEGEGDATYGKLTLKFIC...     0     0     0   \n",
       "\n",
       "   ct_3  ct_4  ct_5  ct_6  ct_7  ...    ct_10  ct_11  ct_12  ct_13  ct_14  \\\n",
       "0     0     0     0     0     0  ...        0      0      0      0      0   \n",
       "1     0     0     0     0     0  ...        0      0      0      0      1   \n",
       "2     0     0     0     0     0  ...        0      0      0      1      0   \n",
       "3     0     0     0     0     0  ...        0      0      0      0      1   \n",
       "4     0     0     0     0     0  ...        0      0      0      1      0   \n",
       "5     0     0     0     0     0  ...        0      0      0      0      0   \n",
       "6     0     0     0     0     0  ...        0      0      0      0      0   \n",
       "7     0     0     1     0     0  ...        0      0      0      0      0   \n",
       "8     0     0     0     0     0  ...        0      0      0      1      0   \n",
       "9     0     0     0     0     0  ...        0      0      0      0      0   \n",
       "\n",
       "   ct_15  ct_16  ct_17  ct_18  ct_19  \n",
       "0      1      0      0      0      0  \n",
       "1      0      0      0      0      0  \n",
       "2      0      0      0      0      0  \n",
       "3      0      0      0      0      0  \n",
       "4      0      0      0      0      0  \n",
       "5      0      1      0      0      0  \n",
       "6      1      0      0      0      0  \n",
       "7      0      0      0      0      0  \n",
       "8      0      0      0      0      0  \n",
       "9      1      0      0      0      0  \n",
       "\n",
       "[10 rows x 22 columns]"
      ]
     },
     "execution_count": 49,
     "metadata": {},
     "output_type": "execute_result"
    }
   ],
   "source": [
    "seq_counts_df.head(10)"
   ]
  },
  {
   "cell_type": "code",
   "execution_count": 50,
   "metadata": {},
   "outputs": [
    {
     "data": {
      "text/plain": [
       "30691"
      ]
     },
     "execution_count": 50,
     "metadata": {},
     "output_type": "execute_result"
    }
   ],
   "source": [
    "len(seq_counts_df)"
   ]
  },
  {
   "cell_type": "code",
   "execution_count": 51,
   "metadata": {
    "collapsed": true
   },
   "outputs": [],
   "source": [
    "seq_counts_df.to_csv('gfp_input_to_mpathic_no_spurious_seqs.csv',sep='\\t')"
   ]
  },
  {
   "cell_type": "code",
   "execution_count": null,
   "metadata": {
    "collapsed": true
   },
   "outputs": [],
   "source": []
  },
  {
   "cell_type": "code",
   "execution_count": 72,
   "metadata": {},
   "outputs": [
    {
     "data": {
      "text/html": [
       "<div>\n",
       "<style scoped>\n",
       "    .dataframe tbody tr th:only-of-type {\n",
       "        vertical-align: middle;\n",
       "    }\n",
       "\n",
       "    .dataframe tbody tr th {\n",
       "        vertical-align: top;\n",
       "    }\n",
       "\n",
       "    .dataframe thead th {\n",
       "        text-align: right;\n",
       "    }\n",
       "</style>\n",
       "<table border=\"1\" class=\"dataframe\">\n",
       "  <thead>\n",
       "    <tr style=\"text-align: right;\">\n",
       "      <th></th>\n",
       "      <th>ct</th>\n",
       "      <th>ct_0</th>\n",
       "      <th>ct_1</th>\n",
       "      <th>ct_2</th>\n",
       "      <th>ct_3</th>\n",
       "      <th>ct_4</th>\n",
       "      <th>ct_5</th>\n",
       "      <th>ct_6</th>\n",
       "      <th>ct_7</th>\n",
       "      <th>ct_8</th>\n",
       "      <th>ct_9</th>\n",
       "      <th>seq_pro</th>\n",
       "      <th>val</th>\n",
       "    </tr>\n",
       "  </thead>\n",
       "  <tbody>\n",
       "    <tr>\n",
       "      <th>0</th>\n",
       "      <td>1</td>\n",
       "      <td>0</td>\n",
       "      <td>0</td>\n",
       "      <td>0</td>\n",
       "      <td>0</td>\n",
       "      <td>0</td>\n",
       "      <td>0</td>\n",
       "      <td>0</td>\n",
       "      <td>0</td>\n",
       "      <td>1</td>\n",
       "      <td>0</td>\n",
       "      <td>VDGV</td>\n",
       "      <td>0.045543</td>\n",
       "    </tr>\n",
       "    <tr>\n",
       "      <th>1</th>\n",
       "      <td>1</td>\n",
       "      <td>0</td>\n",
       "      <td>0</td>\n",
       "      <td>0</td>\n",
       "      <td>0</td>\n",
       "      <td>0</td>\n",
       "      <td>0</td>\n",
       "      <td>0</td>\n",
       "      <td>1</td>\n",
       "      <td>0</td>\n",
       "      <td>0</td>\n",
       "      <td>ADGV</td>\n",
       "      <td>0.045543</td>\n",
       "    </tr>\n",
       "    <tr>\n",
       "      <th>2</th>\n",
       "      <td>1</td>\n",
       "      <td>0</td>\n",
       "      <td>0</td>\n",
       "      <td>0</td>\n",
       "      <td>0</td>\n",
       "      <td>0</td>\n",
       "      <td>0</td>\n",
       "      <td>1</td>\n",
       "      <td>0</td>\n",
       "      <td>0</td>\n",
       "      <td>0</td>\n",
       "      <td>CDGV</td>\n",
       "      <td>0.045543</td>\n",
       "    </tr>\n",
       "    <tr>\n",
       "      <th>3</th>\n",
       "      <td>1</td>\n",
       "      <td>0</td>\n",
       "      <td>0</td>\n",
       "      <td>0</td>\n",
       "      <td>0</td>\n",
       "      <td>0</td>\n",
       "      <td>0</td>\n",
       "      <td>1</td>\n",
       "      <td>0</td>\n",
       "      <td>0</td>\n",
       "      <td>0</td>\n",
       "      <td>DDGV</td>\n",
       "      <td>0.045543</td>\n",
       "    </tr>\n",
       "    <tr>\n",
       "      <th>4</th>\n",
       "      <td>1</td>\n",
       "      <td>0</td>\n",
       "      <td>0</td>\n",
       "      <td>0</td>\n",
       "      <td>0</td>\n",
       "      <td>0</td>\n",
       "      <td>1</td>\n",
       "      <td>0</td>\n",
       "      <td>0</td>\n",
       "      <td>0</td>\n",
       "      <td>0</td>\n",
       "      <td>EDGV</td>\n",
       "      <td>0.045543</td>\n",
       "    </tr>\n",
       "  </tbody>\n",
       "</table>\n",
       "</div>"
      ],
      "text/plain": [
       "   ct  ct_0  ct_1  ct_2  ct_3  ct_4  ct_5  ct_6  ct_7  ct_8  ct_9 seq_pro  \\\n",
       "0   1     0     0     0     0     0     0     0     0     1     0    VDGV   \n",
       "1   1     0     0     0     0     0     0     0     1     0     0    ADGV   \n",
       "2   1     0     0     0     0     0     0     1     0     0     0    CDGV   \n",
       "3   1     0     0     0     0     0     0     1     0     0     0    DDGV   \n",
       "4   1     0     0     0     0     0     1     0     0     0     0    EDGV   \n",
       "\n",
       "        val  \n",
       "0  0.045543  \n",
       "1  0.045543  \n",
       "2  0.045543  \n",
       "3  0.045543  \n",
       "4  0.045543  "
      ]
     },
     "execution_count": 72,
     "metadata": {},
     "output_type": "execute_result"
    }
   ],
   "source": [
    "#temp_df['val_scaled'][0:10000]\n",
    "additive_trait_df = pd.read_csv('evaluated_model_full.csv',sep='\\t')\n",
    "del additive_trait_df['Unnamed: 0']\n",
    "additive_trait_df.head()"
   ]
  },
  {
   "cell_type": "code",
   "execution_count": 84,
   "metadata": {},
   "outputs": [
    {
     "data": {
      "text/plain": [
       "149359"
      ]
     },
     "execution_count": 84,
     "metadata": {},
     "output_type": "execute_result"
    }
   ],
   "source": [
    "len(additive_trait_df['val'])"
   ]
  },
  {
   "cell_type": "code",
   "execution_count": 80,
   "metadata": {
    "collapsed": true
   },
   "outputs": [],
   "source": [
    "additive_trait = additive_trait_df['val']\n",
    "additive_trait_scaled = (additive_trait-min(additive_trait))/(max(additive_trait)-min(additive_trait))"
   ]
  },
  {
   "cell_type": "code",
   "execution_count": 81,
   "metadata": {},
   "outputs": [
    {
     "data": {
      "text/plain": [
       "149359"
      ]
     },
     "execution_count": 81,
     "metadata": {},
     "output_type": "execute_result"
    }
   ],
   "source": [
    "len(additive_trait_scaled)"
   ]
  },
  {
   "cell_type": "code",
   "execution_count": 83,
   "metadata": {},
   "outputs": [
    {
     "data": {
      "text/plain": [
       "149361"
      ]
     },
     "execution_count": 83,
     "metadata": {},
     "output_type": "execute_result"
    }
   ],
   "source": [
    "len(val_scaled)"
   ]
  },
  {
   "cell_type": "code",
   "execution_count": 247,
   "metadata": {},
   "outputs": [
    {
     "data": {
      "image/png": "[encoded data removed]",
      "text/plain": [
       "<Figure size 432x288 with 1 Axes>"
      ]
     },
     "metadata": {},
     "output_type": "display_data"
    }
   ],
   "source": [
    "plt.scatter(temp_df['val_scaled'][0:10000],additive_trait_df['val'])\n",
    "plt.show()"
   ]
  },
  {
   "cell_type": "code",
   "execution_count": null,
   "metadata": {
    "collapsed": true
   },
   "outputs": [],
   "source": []
  }
 ],
 "metadata": {
  "colab": {
   "collapsed_sections": [],
   "name": "motif_learn_convnet.ipynb",
   "provenance": [],
   "version": "0.3.2"
  },
  "kernelspec": {
   "display_name": "Python 3",
   "language": "python",
   "name": "python3"
  },
  "language_info": {
   "codemirror_mode": {
    "name": "ipython",
    "version": 3
   },
   "file_extension": ".py",
   "mimetype": "text/x-python",
   "name": "python",
   "nbconvert_exporter": "python",
   "pygments_lexer": "ipython3",
   "version": "3.6.2"
  }
 },
 "nbformat": 4,
 "nbformat_minor": 1
}
