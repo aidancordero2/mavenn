{
 "cells": [
  {
   "cell_type": "markdown",
   "metadata": {},
   "source": [
    "### Import libraries and read data"
   ]
  },
  {
   "cell_type": "code",
   "execution_count": 1,
   "metadata": {
    "collapsed": true
   },
   "outputs": [],
   "source": [
    "import pandas as pd\n",
    "import numpy as np\n",
    "import numpy as np\n",
    "import pandas as pd\n",
    "import matplotlib.pyplot as plt\n",
    "import sys\n",
    "\n",
    "#input_data_ordered_raw =  pd.read_csv('rnap_scanned_over_ecoli_genome200k.csv')\n",
    "input_data_ordered_raw = pd.read_csv('GFPdata.tsv',sep='\\t')\n",
    "#sequences = input_data_ordered_raw['seq'].tolist()"
   ]
  },
  {
   "cell_type": "code",
   "execution_count": 2,
   "metadata": {},
   "outputs": [
    {
     "data": {
      "text/html": [
       "<div>\n",
       "<style scoped>\n",
       "    .dataframe tbody tr th:only-of-type {\n",
       "        vertical-align: middle;\n",
       "    }\n",
       "\n",
       "    .dataframe tbody tr th {\n",
       "        vertical-align: top;\n",
       "    }\n",
       "\n",
       "    .dataframe thead th {\n",
       "        text-align: right;\n",
       "    }\n",
       "</style>\n",
       "<table border=\"1\" class=\"dataframe\">\n",
       "  <thead>\n",
       "    <tr style=\"text-align: right;\">\n",
       "      <th></th>\n",
       "      <th>AAsequence</th>\n",
       "      <th>HammingDistance</th>\n",
       "      <th>aaMutations</th>\n",
       "      <th>medianBrightness</th>\n",
       "      <th>std</th>\n",
       "    </tr>\n",
       "  </thead>\n",
       "  <tbody>\n",
       "    <tr>\n",
       "      <th>0</th>\n",
       "      <td>KGEELFTGVVPILVELDGDVNGHKFSVSGEGEGDATYGKLTLKFIC...</td>\n",
       "      <td>0</td>\n",
       "      <td>NaN</td>\n",
       "      <td>3.719212</td>\n",
       "      <td>0.106992</td>\n",
       "    </tr>\n",
       "    <tr>\n",
       "      <th>1</th>\n",
       "      <td>KGEELFTGVVPILVELDGDVNGHKFSVSGEGEGDATYGKLTLKFIC...</td>\n",
       "      <td>1</td>\n",
       "      <td>SA108D</td>\n",
       "      <td>1.301030</td>\n",
       "      <td>NaN</td>\n",
       "    </tr>\n",
       "    <tr>\n",
       "      <th>2</th>\n",
       "      <td>KGEELFTGVVPILVELDGDVNGHKFSVSGEGEGDATYGKLTLKFIC...</td>\n",
       "      <td>5</td>\n",
       "      <td>SA108D:SN144D:SI186V:SM231T:SL234P</td>\n",
       "      <td>1.301031</td>\n",
       "      <td>NaN</td>\n",
       "    </tr>\n",
       "    <tr>\n",
       "      <th>3</th>\n",
       "      <td>KGEELFTGVVPILVELDGDVNGHKFSVSGEGEGDATYGKLTLKFIC...</td>\n",
       "      <td>4</td>\n",
       "      <td>SA108D:SY141N:SH146L:SE220G</td>\n",
       "      <td>1.301189</td>\n",
       "      <td>NaN</td>\n",
       "    </tr>\n",
       "    <tr>\n",
       "      <th>4</th>\n",
       "      <td>KGEELFTGVVPILVELDGDVNGHKFSVSGEGEGDATYGKLTLKFIC...</td>\n",
       "      <td>1</td>\n",
       "      <td>SA108G</td>\n",
       "      <td>3.708478</td>\n",
       "      <td>0.020613</td>\n",
       "    </tr>\n",
       "  </tbody>\n",
       "</table>\n",
       "</div>"
      ],
      "text/plain": [
       "                                          AAsequence  HammingDistance  \\\n",
       "0  KGEELFTGVVPILVELDGDVNGHKFSVSGEGEGDATYGKLTLKFIC...                0   \n",
       "1  KGEELFTGVVPILVELDGDVNGHKFSVSGEGEGDATYGKLTLKFIC...                1   \n",
       "2  KGEELFTGVVPILVELDGDVNGHKFSVSGEGEGDATYGKLTLKFIC...                5   \n",
       "3  KGEELFTGVVPILVELDGDVNGHKFSVSGEGEGDATYGKLTLKFIC...                4   \n",
       "4  KGEELFTGVVPILVELDGDVNGHKFSVSGEGEGDATYGKLTLKFIC...                1   \n",
       "\n",
       "                          aaMutations  medianBrightness       std  \n",
       "0                                 NaN          3.719212  0.106992  \n",
       "1                              SA108D          1.301030       NaN  \n",
       "2  SA108D:SN144D:SI186V:SM231T:SL234P          1.301031       NaN  \n",
       "3         SA108D:SY141N:SH146L:SE220G          1.301189       NaN  \n",
       "4                              SA108G          3.708478  0.020613  "
      ]
     },
     "execution_count": 2,
     "metadata": {},
     "output_type": "execute_result"
    }
   ],
   "source": [
    "input_data_ordered_raw.head()"
   ]
  },
  {
   "cell_type": "code",
   "execution_count": 3,
   "metadata": {
    "collapsed": true
   },
   "outputs": [],
   "source": [
    "sequences = input_data_ordered_raw['AAsequence']\n",
    "val = input_data_ordered_raw['medianBrightness']"
   ]
  },
  {
   "cell_type": "code",
   "execution_count": 4,
   "metadata": {},
   "outputs": [
    {
     "data": {
      "image/png": "[encoded data removed]",
      "text/plain": [
       "<Figure size 432x288 with 1 Axes>"
      ]
     },
     "metadata": {},
     "output_type": "display_data"
    }
   ],
   "source": [
    "val_norm = (val-min(val))/(max(val)-min(val))\n",
    "plt.hist(val_norm,bins=100)\n",
    "plt.show()"
   ]
  },
  {
   "cell_type": "code",
   "execution_count": 5,
   "metadata": {},
   "outputs": [
    {
     "data": {
      "text/plain": [
       "54025"
      ]
     },
     "execution_count": 5,
     "metadata": {},
     "output_type": "execute_result"
    }
   ],
   "source": [
    "len(sequences)"
   ]
  },
  {
   "cell_type": "code",
   "execution_count": 6,
   "metadata": {
    "collapsed": true
   },
   "outputs": [],
   "source": [
    "np.random.seed(0)"
   ]
  },
  {
   "cell_type": "code",
   "execution_count": 7,
   "metadata": {
    "collapsed": true
   },
   "outputs": [],
   "source": [
    "T = 300\n",
    "t_max = 15\n",
    "t_bg = 0.01\n",
    "\n",
    "size_of_data = 10000\n",
    "#size_of_data = len(sequences)\n",
    "\n",
    "#input_data_ordered_raw_copy = input_data_ordered_raw[0:size_of_data].copy()\n",
    "input_data_ordered_raw_copy = input_data_ordered_raw.copy()\n",
    "\n",
    "#temp = np.exp(-(np.array(input_data_ordered_raw['val'][0:size_of_data]))/T)/(1+np.exp(-(np.array(input_data_ordered_raw['val'][0:size_of_data]))/T))\n",
    "#plt.hist(t_max*temp+t_bg,bins=100)\n",
    "#plt.show()\n",
    "#np.array(input_data_ordered_raw['val'][0:100000])\n"
   ]
  },
  {
   "cell_type": "markdown",
   "metadata": {},
   "source": [
    "### Add transcription column to dataframe"
   ]
  },
  {
   "cell_type": "code",
   "execution_count": 8,
   "metadata": {
    "collapsed": true
   },
   "outputs": [],
   "source": [
    "#input_data_ordered_raw_copy['t'] = t_max*temp+t_bg"
   ]
  },
  {
   "cell_type": "code",
   "execution_count": 9,
   "metadata": {},
   "outputs": [
    {
     "data": {
      "text/html": [
       "<div>\n",
       "<style scoped>\n",
       "    .dataframe tbody tr th:only-of-type {\n",
       "        vertical-align: middle;\n",
       "    }\n",
       "\n",
       "    .dataframe tbody tr th {\n",
       "        vertical-align: top;\n",
       "    }\n",
       "\n",
       "    .dataframe thead th {\n",
       "        text-align: right;\n",
       "    }\n",
       "</style>\n",
       "<table border=\"1\" class=\"dataframe\">\n",
       "  <thead>\n",
       "    <tr style=\"text-align: right;\">\n",
       "      <th></th>\n",
       "      <th>AAsequence</th>\n",
       "      <th>HammingDistance</th>\n",
       "      <th>aaMutations</th>\n",
       "      <th>medianBrightness</th>\n",
       "      <th>std</th>\n",
       "    </tr>\n",
       "  </thead>\n",
       "  <tbody>\n",
       "    <tr>\n",
       "      <th>0</th>\n",
       "      <td>KGEELFTGVVPILVELDGDVNGHKFSVSGEGEGDATYGKLTLKFIC...</td>\n",
       "      <td>0</td>\n",
       "      <td>NaN</td>\n",
       "      <td>3.719212</td>\n",
       "      <td>0.106992</td>\n",
       "    </tr>\n",
       "    <tr>\n",
       "      <th>1</th>\n",
       "      <td>KGEELFTGVVPILVELDGDVNGHKFSVSGEGEGDATYGKLTLKFIC...</td>\n",
       "      <td>1</td>\n",
       "      <td>SA108D</td>\n",
       "      <td>1.301030</td>\n",
       "      <td>NaN</td>\n",
       "    </tr>\n",
       "    <tr>\n",
       "      <th>2</th>\n",
       "      <td>KGEELFTGVVPILVELDGDVNGHKFSVSGEGEGDATYGKLTLKFIC...</td>\n",
       "      <td>5</td>\n",
       "      <td>SA108D:SN144D:SI186V:SM231T:SL234P</td>\n",
       "      <td>1.301031</td>\n",
       "      <td>NaN</td>\n",
       "    </tr>\n",
       "    <tr>\n",
       "      <th>3</th>\n",
       "      <td>KGEELFTGVVPILVELDGDVNGHKFSVSGEGEGDATYGKLTLKFIC...</td>\n",
       "      <td>4</td>\n",
       "      <td>SA108D:SY141N:SH146L:SE220G</td>\n",
       "      <td>1.301189</td>\n",
       "      <td>NaN</td>\n",
       "    </tr>\n",
       "    <tr>\n",
       "      <th>4</th>\n",
       "      <td>KGEELFTGVVPILVELDGDVNGHKFSVSGEGEGDATYGKLTLKFIC...</td>\n",
       "      <td>1</td>\n",
       "      <td>SA108G</td>\n",
       "      <td>3.708478</td>\n",
       "      <td>0.020613</td>\n",
       "    </tr>\n",
       "  </tbody>\n",
       "</table>\n",
       "</div>"
      ],
      "text/plain": [
       "                                          AAsequence  HammingDistance  \\\n",
       "0  KGEELFTGVVPILVELDGDVNGHKFSVSGEGEGDATYGKLTLKFIC...                0   \n",
       "1  KGEELFTGVVPILVELDGDVNGHKFSVSGEGEGDATYGKLTLKFIC...                1   \n",
       "2  KGEELFTGVVPILVELDGDVNGHKFSVSGEGEGDATYGKLTLKFIC...                5   \n",
       "3  KGEELFTGVVPILVELDGDVNGHKFSVSGEGEGDATYGKLTLKFIC...                4   \n",
       "4  KGEELFTGVVPILVELDGDVNGHKFSVSGEGEGDATYGKLTLKFIC...                1   \n",
       "\n",
       "                          aaMutations  medianBrightness       std  \n",
       "0                                 NaN          3.719212  0.106992  \n",
       "1                              SA108D          1.301030       NaN  \n",
       "2  SA108D:SN144D:SI186V:SM231T:SL234P          1.301031       NaN  \n",
       "3         SA108D:SY141N:SH146L:SE220G          1.301189       NaN  \n",
       "4                              SA108G          3.708478  0.020613  "
      ]
     },
     "execution_count": 9,
     "metadata": {},
     "output_type": "execute_result"
    }
   ],
   "source": [
    "input_data_ordered_raw_copy.head()"
   ]
  },
  {
   "cell_type": "markdown",
   "metadata": {},
   "source": [
    "### Draw read counts according to poission distribution and add to dataframe"
   ]
  },
  {
   "cell_type": "code",
   "execution_count": 10,
   "metadata": {},
   "outputs": [
    {
     "data": {
      "text/html": [
       "<div>\n",
       "<style scoped>\n",
       "    .dataframe tbody tr th:only-of-type {\n",
       "        vertical-align: middle;\n",
       "    }\n",
       "\n",
       "    .dataframe tbody tr th {\n",
       "        vertical-align: top;\n",
       "    }\n",
       "\n",
       "    .dataframe thead th {\n",
       "        text-align: right;\n",
       "    }\n",
       "</style>\n",
       "<table border=\"1\" class=\"dataframe\">\n",
       "  <thead>\n",
       "    <tr style=\"text-align: right;\">\n",
       "      <th></th>\n",
       "      <th>AAsequence</th>\n",
       "      <th>HammingDistance</th>\n",
       "      <th>aaMutations</th>\n",
       "      <th>medianBrightness</th>\n",
       "      <th>std</th>\n",
       "    </tr>\n",
       "  </thead>\n",
       "  <tbody>\n",
       "    <tr>\n",
       "      <th>0</th>\n",
       "      <td>KGEELFTGVVPILVELDGDVNGHKFSVSGEGEGDATYGKLTLKFIC...</td>\n",
       "      <td>0</td>\n",
       "      <td>NaN</td>\n",
       "      <td>3.719212</td>\n",
       "      <td>0.106992</td>\n",
       "    </tr>\n",
       "    <tr>\n",
       "      <th>1</th>\n",
       "      <td>KGEELFTGVVPILVELDGDVNGHKFSVSGEGEGDATYGKLTLKFIC...</td>\n",
       "      <td>1</td>\n",
       "      <td>SA108D</td>\n",
       "      <td>1.301030</td>\n",
       "      <td>NaN</td>\n",
       "    </tr>\n",
       "    <tr>\n",
       "      <th>2</th>\n",
       "      <td>KGEELFTGVVPILVELDGDVNGHKFSVSGEGEGDATYGKLTLKFIC...</td>\n",
       "      <td>5</td>\n",
       "      <td>SA108D:SN144D:SI186V:SM231T:SL234P</td>\n",
       "      <td>1.301031</td>\n",
       "      <td>NaN</td>\n",
       "    </tr>\n",
       "    <tr>\n",
       "      <th>3</th>\n",
       "      <td>KGEELFTGVVPILVELDGDVNGHKFSVSGEGEGDATYGKLTLKFIC...</td>\n",
       "      <td>4</td>\n",
       "      <td>SA108D:SY141N:SH146L:SE220G</td>\n",
       "      <td>1.301189</td>\n",
       "      <td>NaN</td>\n",
       "    </tr>\n",
       "    <tr>\n",
       "      <th>4</th>\n",
       "      <td>KGEELFTGVVPILVELDGDVNGHKFSVSGEGEGDATYGKLTLKFIC...</td>\n",
       "      <td>1</td>\n",
       "      <td>SA108G</td>\n",
       "      <td>3.708478</td>\n",
       "      <td>0.020613</td>\n",
       "    </tr>\n",
       "    <tr>\n",
       "      <th>5</th>\n",
       "      <td>KGEELFTGVVPILVELDGDVNGHKFSVSGEGEGDATYGKLTLKFIC...</td>\n",
       "      <td>4</td>\n",
       "      <td>SA108G:SK138M:SR166C:SL234P</td>\n",
       "      <td>3.582764</td>\n",
       "      <td>NaN</td>\n",
       "    </tr>\n",
       "    <tr>\n",
       "      <th>6</th>\n",
       "      <td>KGEELFTGVVPILVELDGDVNGHKFSVSGEGEGDATYGKLTLKFIC...</td>\n",
       "      <td>5</td>\n",
       "      <td>SA108G:SK154E:SF163S:SL192Q:SL193P</td>\n",
       "      <td>1.499573</td>\n",
       "      <td>NaN</td>\n",
       "    </tr>\n",
       "    <tr>\n",
       "      <th>7</th>\n",
       "      <td>KGEELFTGVVPILVELDGDVNGHKFSVSGEGEGDATYGKLTLKFIC...</td>\n",
       "      <td>2</td>\n",
       "      <td>SA108G:SK156R</td>\n",
       "      <td>3.659013</td>\n",
       "      <td>NaN</td>\n",
       "    </tr>\n",
       "    <tr>\n",
       "      <th>8</th>\n",
       "      <td>KGEELFTGVVPILVELDGDVNGHKFSVSGEGEGDATYGKLTLKFIC...</td>\n",
       "      <td>5</td>\n",
       "      <td>SA108G:SK156R:SI159V:SI186V:ST223S</td>\n",
       "      <td>3.573855</td>\n",
       "      <td>NaN</td>\n",
       "    </tr>\n",
       "    <tr>\n",
       "      <th>9</th>\n",
       "      <td>KGEELFTGVVPILVELDGDVNGHKFSVSGEGEGDATYGKLTLKFIC...</td>\n",
       "      <td>5</td>\n",
       "      <td>SA108P:SK111R:SG172S:SL176P:SS200G</td>\n",
       "      <td>1.301031</td>\n",
       "      <td>NaN</td>\n",
       "    </tr>\n",
       "  </tbody>\n",
       "</table>\n",
       "</div>"
      ],
      "text/plain": [
       "                                          AAsequence  HammingDistance  \\\n",
       "0  KGEELFTGVVPILVELDGDVNGHKFSVSGEGEGDATYGKLTLKFIC...                0   \n",
       "1  KGEELFTGVVPILVELDGDVNGHKFSVSGEGEGDATYGKLTLKFIC...                1   \n",
       "2  KGEELFTGVVPILVELDGDVNGHKFSVSGEGEGDATYGKLTLKFIC...                5   \n",
       "3  KGEELFTGVVPILVELDGDVNGHKFSVSGEGEGDATYGKLTLKFIC...                4   \n",
       "4  KGEELFTGVVPILVELDGDVNGHKFSVSGEGEGDATYGKLTLKFIC...                1   \n",
       "5  KGEELFTGVVPILVELDGDVNGHKFSVSGEGEGDATYGKLTLKFIC...                4   \n",
       "6  KGEELFTGVVPILVELDGDVNGHKFSVSGEGEGDATYGKLTLKFIC...                5   \n",
       "7  KGEELFTGVVPILVELDGDVNGHKFSVSGEGEGDATYGKLTLKFIC...                2   \n",
       "8  KGEELFTGVVPILVELDGDVNGHKFSVSGEGEGDATYGKLTLKFIC...                5   \n",
       "9  KGEELFTGVVPILVELDGDVNGHKFSVSGEGEGDATYGKLTLKFIC...                5   \n",
       "\n",
       "                          aaMutations  medianBrightness       std  \n",
       "0                                 NaN          3.719212  0.106992  \n",
       "1                              SA108D          1.301030       NaN  \n",
       "2  SA108D:SN144D:SI186V:SM231T:SL234P          1.301031       NaN  \n",
       "3         SA108D:SY141N:SH146L:SE220G          1.301189       NaN  \n",
       "4                              SA108G          3.708478  0.020613  \n",
       "5         SA108G:SK138M:SR166C:SL234P          3.582764       NaN  \n",
       "6  SA108G:SK154E:SF163S:SL192Q:SL193P          1.499573       NaN  \n",
       "7                       SA108G:SK156R          3.659013       NaN  \n",
       "8  SA108G:SK156R:SI159V:SI186V:ST223S          3.573855       NaN  \n",
       "9  SA108P:SK111R:SG172S:SL176P:SS200G          1.301031       NaN  "
      ]
     },
     "execution_count": 10,
     "metadata": {},
     "output_type": "execute_result"
    }
   ],
   "source": [
    "input_data_ordered_raw_copy.head(10)"
   ]
  },
  {
   "cell_type": "markdown",
   "metadata": {},
   "source": [
    "## Split the data into test and train"
   ]
  },
  {
   "cell_type": "code",
   "execution_count": 11,
   "metadata": {
    "collapsed": true
   },
   "outputs": [],
   "source": [
    "from sklearn.model_selection import train_test_split"
   ]
  },
  {
   "cell_type": "code",
   "execution_count": 12,
   "metadata": {
    "collapsed": true
   },
   "outputs": [],
   "source": [
    "#x_train, x_test, y_train, y_test = train_test_split(input_data_ordered_raw_copy['seq'],input_data_ordered_raw_copy['t_norm'],test_size=0.2,random_state=4)\n",
    "#x_train, x_test, y_train, y_test = train_test_split(input_data_ordered_raw_copy['seq'],input_data_ordered_raw_copy['C'],test_size=0.2)\n",
    "#x_train, x_test, y_train, y_test = train_test_split(input_data_ordered_raw_copy['seq'],input_data_ordered_raw_copy['val_norm'],test_size=0.2)\n",
    "x_train, x_test, y_train, y_test = train_test_split(sequences,val_norm,test_size=0.2)\n",
    "\n"
   ]
  },
  {
   "cell_type": "code",
   "execution_count": 13,
   "metadata": {},
   "outputs": [
    {
     "data": {
      "image/png": "[encoded data removed]",
      "text/plain": [
       "<Figure size 432x288 with 1 Axes>"
      ]
     },
     "metadata": {},
     "output_type": "display_data"
    }
   ],
   "source": [
    "plt.hist(y_train,bins=100,color='r',density=True,alpha=0.5)\n",
    "plt.hist(y_test,bins=100,color='b',density=True,alpha=0.5)\n",
    "plt.show()"
   ]
  },
  {
   "cell_type": "markdown",
   "metadata": {},
   "source": [
    "## One-hot encode the data ... this takes a few minutes"
   ]
  },
  {
   "cell_type": "code",
   "execution_count": 14,
   "metadata": {
    "collapsed": true
   },
   "outputs": [],
   "source": [
    "temp_x_train = []\n",
    "temp_x_test = []\n",
    "\n",
    "for reshape_index in range(len(x_train)):\n",
    "    temp_x_train.append(list(np.array(x_train)[reshape_index]))\n",
    "\n",
    "for reshape_test_index in range(len(x_test)):\n",
    "    temp_x_test.append(list(np.array(x_test)[reshape_test_index]))\n",
    "    \n",
    "x_train = temp_x_train\n",
    "x_test = temp_x_test\n",
    "\n",
    "x_train = np.array(x_train)\n",
    "x_test = np.array(x_test)"
   ]
  },
  {
   "cell_type": "code",
   "execution_count": 15,
   "metadata": {},
   "outputs": [
    {
     "data": {
      "text/plain": [
       "array(['K', 'G', 'E', 'E', 'L', 'F', 'T', 'G', 'V', 'V', 'P', 'I', 'L',\n",
       "       'V', 'E', 'L', 'D', 'G', 'D', 'V', 'N', 'G', 'H', 'K', 'F', 'S',\n",
       "       'V', 'S', 'G', 'E', 'G', 'E', 'G', 'D', 'A', 'T', 'Y', 'G', 'K',\n",
       "       'L', 'T', 'L', 'E', 'F', 'I', 'C', 'T', 'T', 'G', 'K', 'L', 'P',\n",
       "       'V', 'P', 'W', 'P', 'A', 'L', 'V', 'T', 'T', 'L', 'S', 'Y', 'G',\n",
       "       'V', 'Q', 'C', 'F', 'S', 'R', 'F', 'P', 'D', 'H', 'M', 'K', 'Q',\n",
       "       'H', 'D', 'F', 'F', 'K', 'S', 'A', 'M', 'P', 'E', 'G', 'Y', 'V',\n",
       "       'Q', 'E', 'R', 'T', 'I', 'F', 'F', 'K', 'D', 'D', 'G', 'N', 'Y',\n",
       "       'K', 'T', 'R', 'A', 'E', 'V', 'K', 'F', 'E', 'G', 'D', 'T', 'N',\n",
       "       'R', 'I', 'E', 'L', 'K', 'G', 'I', 'D', 'F', 'K', 'E', 'D', 'G',\n",
       "       'N', 'I', 'L', 'G', 'H', 'K', 'L', 'E', 'Y', 'N', 'Y', 'N', 'S',\n",
       "       'H', 'N', 'V', 'Y', 'I', 'M', 'A', 'D', 'K', 'Q', 'K', 'N', 'G',\n",
       "       'I', 'K', 'V', 'N', 'F', 'K', 'I', 'R', 'H', 'N', 'V', 'E', 'D',\n",
       "       'G', 'S', 'V', 'Q', 'L', 'A', 'D', 'H', 'Y', 'Q', 'Q', 'N', 'T',\n",
       "       'P', 'I', 'G', 'D', 'G', 'P', 'V', 'L', 'L', 'P', 'D', 'N', 'H',\n",
       "       'Y', 'L', 'S', 'T', 'Q', 'S', 'A', 'L', 'S', 'K', 'D', 'P', 'N',\n",
       "       'E', 'K', 'R', 'D', 'H', 'M', 'V', 'L', 'L', 'E', 'F', 'V', 'T',\n",
       "       'A', 'A', 'G', 'I', 'T', 'H', 'G', 'M', 'D', 'E', 'L', 'Y'],\n",
       "      dtype='<U1')"
      ]
     },
     "execution_count": 15,
     "metadata": {},
     "output_type": "execute_result"
    }
   ],
   "source": [
    "x_train[0]"
   ]
  },
  {
   "cell_type": "code",
   "execution_count": 16,
   "metadata": {
    "collapsed": true
   },
   "outputs": [],
   "source": [
    "base_dict = {\"K\":0, \"R\":1, \"H\":2, \"E\":3, \"D\":4, \"N\":5, \"Q\":6, \"T\":7, \"S\":8, \"C\":9, \"G\":10, \"A\":11, \"V\":12, \"L\":13, \"I\":14, \"M\":15, \"P\":16, \"Y\":17, \"F\":18, \"W\":19, \"*\":20}   "
   ]
  },
  {
   "cell_type": "code",
   "execution_count": 17,
   "metadata": {
    "collapsed": true
   },
   "outputs": [],
   "source": [
    "test_size = len(y_test)"
   ]
  },
  {
   "cell_type": "code",
   "execution_count": 18,
   "metadata": {
    "collapsed": true
   },
   "outputs": [],
   "source": [
    "x_train_tensor = np.zeros(list(x_train.shape) + [21])    # shape: (batch_size, 4)\n",
    "x_test_tensor = np.zeros(list(x_test.shape) + [21])    # shape: (batch_size, 4)\n",
    "base_dict = {\"K\":0, \"R\":1, \"H\":2, \"E\":3, \"D\":4, \"N\":5, \"Q\":6, \"T\":7, \"S\":8, \"C\":9, \"G\":10, \"A\":11, \"V\":12, \"L\":13, \"I\":14, \"M\":15, \"P\":16, \"Y\":17, \"F\":18, \"W\":19, \"*\":20}   \n",
    "\n",
    "num_sample = len(x_train_tensor)\n",
    "seq_length = len(x_train[0])\n",
    "test_size = len(x_test)\n",
    "\n",
    "#naive one-hot encoding\n",
    "for row in range(num_sample):\n",
    "    for col in range(seq_length):\n",
    "        x_train_tensor[row,col,base_dict[x_train[row,col]]] = 1\n",
    "        if(row<test_size):\n",
    "            x_test_tensor[row,col,base_dict[x_test[row,col]]] = 1"
   ]
  },
  {
   "cell_type": "code",
   "execution_count": 19,
   "metadata": {},
   "outputs": [
    {
     "name": "stdout",
     "output_type": "stream",
     "text": [
      "Training set shape: (43220, 233, 21)\n",
      "Training set label shape: (43220,)\n",
      "Test set shape: (10805, 233, 21)\n",
      "Test set label shape: (10805,)\n"
     ]
    }
   ],
   "source": [
    "print('Training set shape: {}'.format(x_train_tensor.shape))\n",
    "print('Training set label shape: {}'.format(y_train.shape))\n",
    "\n",
    "print('Test set shape: {}'.format(x_test_tensor.shape))\n",
    "print('Test set label shape: {}'.format(y_test.shape))"
   ]
  },
  {
   "cell_type": "code",
   "execution_count": 20,
   "metadata": {},
   "outputs": [
    {
     "data": {
      "text/plain": [
       "(233, 21)"
      ]
     },
     "execution_count": 20,
     "metadata": {},
     "output_type": "execute_result"
    }
   ],
   "source": [
    "np.shape(x_train_tensor[0])"
   ]
  },
  {
   "cell_type": "code",
   "execution_count": 21,
   "metadata": {},
   "outputs": [
    {
     "data": {
      "text/plain": [
       "(43220,)"
      ]
     },
     "execution_count": 21,
     "metadata": {},
     "output_type": "execute_result"
    }
   ],
   "source": [
    "y_train.shape"
   ]
  },
  {
   "cell_type": "code",
   "execution_count": 22,
   "metadata": {
    "collapsed": true
   },
   "outputs": [],
   "source": [
    "y_train = np.array(y_train).reshape(y_train.shape[0],1)"
   ]
  },
  {
   "cell_type": "markdown",
   "metadata": {},
   "source": [
    "## Custom error metric"
   ]
  },
  {
   "cell_type": "code",
   "execution_count": 168,
   "metadata": {
    "collapsed": true
   },
   "outputs": [],
   "source": [
    "# coefficient of determination (R^2) for regression\n",
    "def r_square(y_true, y_pred):\n",
    "    from keras import backend as K\n",
    "    SS_res =  K.sum(K.square(y_true - y_pred)) \n",
    "    SS_tot = K.sum(K.square(y_true - K.mean(y_true))) \n",
    "    return (1 - SS_res/(SS_tot + K.epsilon()))"
   ]
  },
  {
   "cell_type": "markdown",
   "metadata": {},
   "source": [
    "## Custom Loss"
   ]
  },
  {
   "cell_type": "code",
   "execution_count": 169,
   "metadata": {},
   "outputs": [],
   "source": [
    "import keras.backend as K\n",
    "import tensorflow as tf\n",
    "\n",
    "K.clear_session()\n",
    "\n",
    "def kullback_leibler_divergence_ammar(y_true, y_pred):\n",
    "    tf.print(y_true,'tui')\n",
    "    y_true = K.clip(y_true, K.epsilon(), 1)\n",
    "    y_pred = K.clip(y_pred, K.epsilon(), 1)\n",
    "    return K.sum(y_true * K.log(y_true / y_pred), axis=-1)"
   ]
  },
  {
   "cell_type": "code",
   "execution_count": 170,
   "metadata": {
    "collapsed": true
   },
   "outputs": [],
   "source": [
    "from keras.models import Sequential \n",
    "from keras.layers import Dense, Activation, Flatten, Dropout \n",
    "from keras import regularizers\n",
    "from keras.optimizers import SGD, Adam, RMSprop\n",
    "\n",
    "#output_dim = nb_classes = 15 \n",
    "#input_dim = seq_length\n",
    "model = Sequential() \n",
    "model.add(Flatten())\n",
    "#model.add(Dense(100, activation='relu',input_shape=(41,4)))\n",
    "#model.add(Dropout(0.25))\n",
    "#model.add(Dense(41, activation='relu'))\n",
    "#model.add(Dropout(0.25))\n",
    "#model.add(Dense(4, activation='relu'))\n",
    "#model.add(Dropout(0.25))\n",
    "#model.add(Dense(20, activation='linear'))\n",
    "model.add(Dense(1, activation='linear'))\n",
    "#model.add(Dense(20, activation='tanh'))\n",
    "model.add(Dense(20, activation='sigmoid'))\n",
    "#model.add(Dense(20, activation='relu'))\n",
    "model.add(Dense(1, activation='linear'))\n",
    "#model.add(Dense(1, activation='tanh'))\n",
    "\n",
    "#batch_size = 10000 \n",
    "#nb_epoch = 20"
   ]
  },
  {
   "cell_type": "code",
   "execution_count": 171,
   "metadata": {
    "collapsed": true
   },
   "outputs": [],
   "source": [
    "#model.compile(loss='mean_absolute_error',optimizer=Adam(lr=0.00001), metrics=['accuracy'])\n",
    "#model.compile(loss='mean_squared_error',optimizer=Adam(lr=0.0001), metrics=['mean_absolute_error'])\n",
    "#model.compile(loss=kullback_leibler_divergence_ammar,optimizer=Adam(lr=0.0001), metrics=['mean_absolute_error'])\n",
    "model.compile(loss='mean_squared_error',optimizer=Adam(lr=0.0005), metrics=['mean_absolute_error'])"
   ]
  },
  {
   "cell_type": "code",
   "execution_count": 172,
   "metadata": {},
   "outputs": [
    {
     "name": "stdout",
     "output_type": "stream",
     "text": [
      "Train on 34576 samples, validate on 8644 samples\n",
      "Epoch 1/50\n",
      "34576/34576 [==============================] - 2s 50us/step - loss: 0.1278 - mean_absolute_error: 0.3440 - val_loss: 0.0909 - val_mean_absolute_error: 0.2881\n",
      "Epoch 2/50\n",
      "34576/34576 [==============================] - 2s 44us/step - loss: 0.0605 - mean_absolute_error: 0.2117 - val_loss: 0.0475 - val_mean_absolute_error: 0.1750\n",
      "Epoch 3/50\n",
      "34576/34576 [==============================] - 2s 45us/step - loss: 0.0447 - mean_absolute_error: 0.1674 - val_loss: 0.0448 - val_mean_absolute_error: 0.1794\n",
      "Epoch 4/50\n",
      "34576/34576 [==============================] - 2s 44us/step - loss: 0.0396 - mean_absolute_error: 0.1561 - val_loss: 0.0382 - val_mean_absolute_error: 0.1466\n",
      "Epoch 5/50\n",
      "34576/34576 [==============================] - 1s 42us/step - loss: 0.0344 - mean_absolute_error: 0.1441 - val_loss: 0.0349 - val_mean_absolute_error: 0.1549\n",
      "Epoch 6/50\n",
      "34576/34576 [==============================] - 2s 47us/step - loss: 0.0299 - mean_absolute_error: 0.1340 - val_loss: 0.0293 - val_mean_absolute_error: 0.1267\n",
      "Epoch 7/50\n",
      "34576/34576 [==============================] - 2s 44us/step - loss: 0.0258 - mean_absolute_error: 0.1240 - val_loss: 0.0248 - val_mean_absolute_error: 0.1225\n",
      "Epoch 8/50\n",
      "34576/34576 [==============================] - 1s 41us/step - loss: 0.0222 - mean_absolute_error: 0.1147 - val_loss: 0.0213 - val_mean_absolute_error: 0.1105\n",
      "Epoch 9/50\n",
      "34576/34576 [==============================] - 1s 43us/step - loss: 0.0193 - mean_absolute_error: 0.1058 - val_loss: 0.0194 - val_mean_absolute_error: 0.1057\n",
      "Epoch 10/50\n",
      "34576/34576 [==============================] - 2s 52us/step - loss: 0.0174 - mean_absolute_error: 0.0986 - val_loss: 0.0175 - val_mean_absolute_error: 0.0971\n",
      "Epoch 11/50\n",
      "34576/34576 [==============================] - 2s 50us/step - loss: 0.0164 - mean_absolute_error: 0.0942 - val_loss: 0.0174 - val_mean_absolute_error: 0.0951\n",
      "Epoch 12/50\n",
      "34576/34576 [==============================] - 2s 53us/step - loss: 0.0155 - mean_absolute_error: 0.0909 - val_loss: 0.0168 - val_mean_absolute_error: 0.0923\n",
      "Epoch 13/50\n",
      "34576/34576 [==============================] - 2s 50us/step - loss: 0.0153 - mean_absolute_error: 0.0901 - val_loss: 0.0164 - val_mean_absolute_error: 0.0939\n",
      "Epoch 14/50\n",
      "34576/34576 [==============================] - 2s 44us/step - loss: 0.0150 - mean_absolute_error: 0.0890 - val_loss: 0.0161 - val_mean_absolute_error: 0.0924\n",
      "Epoch 15/50\n",
      "34576/34576 [==============================] - 2s 48us/step - loss: 0.0146 - mean_absolute_error: 0.0874 - val_loss: 0.0153 - val_mean_absolute_error: 0.0878\n",
      "Epoch 16/50\n",
      "34576/34576 [==============================] - 1s 41us/step - loss: 0.0145 - mean_absolute_error: 0.0871 - val_loss: 0.0161 - val_mean_absolute_error: 0.0927\n",
      "Epoch 17/50\n",
      "34576/34576 [==============================] - 1s 41us/step - loss: 0.0142 - mean_absolute_error: 0.0861 - val_loss: 0.0157 - val_mean_absolute_error: 0.0913\n",
      "Epoch 18/50\n",
      "34576/34576 [==============================] - 2s 49us/step - loss: 0.0140 - mean_absolute_error: 0.0853 - val_loss: 0.0149 - val_mean_absolute_error: 0.0856\n",
      "Epoch 19/50\n",
      "34576/34576 [==============================] - 2s 46us/step - loss: 0.0138 - mean_absolute_error: 0.0846 - val_loss: 0.0193 - val_mean_absolute_error: 0.1066\n",
      "Epoch 20/50\n",
      "34576/34576 [==============================] - 2s 48us/step - loss: 0.0133 - mean_absolute_error: 0.0829 - val_loss: 0.0142 - val_mean_absolute_error: 0.0843\n",
      "Epoch 21/50\n",
      "34576/34576 [==============================] - 1s 40us/step - loss: 0.0128 - mean_absolute_error: 0.0809 - val_loss: 0.0137 - val_mean_absolute_error: 0.0817\n",
      "Epoch 22/50\n",
      "34576/34576 [==============================] - 1s 40us/step - loss: 0.0121 - mean_absolute_error: 0.0778 - val_loss: 0.0139 - val_mean_absolute_error: 0.0846\n",
      "Epoch 23/50\n",
      "34576/34576 [==============================] - 1s 42us/step - loss: 0.0114 - mean_absolute_error: 0.0744 - val_loss: 0.0121 - val_mean_absolute_error: 0.0749\n",
      "Epoch 24/50\n",
      "34576/34576 [==============================] - 1s 43us/step - loss: 0.0105 - mean_absolute_error: 0.0704 - val_loss: 0.0114 - val_mean_absolute_error: 0.0709\n",
      "Epoch 25/50\n",
      "34576/34576 [==============================] - 1s 41us/step - loss: 0.0095 - mean_absolute_error: 0.0659 - val_loss: 0.0104 - val_mean_absolute_error: 0.0661\n",
      "Epoch 26/50\n",
      "34576/34576 [==============================] - 1s 40us/step - loss: 0.0087 - mean_absolute_error: 0.0617 - val_loss: 0.0097 - val_mean_absolute_error: 0.0648\n",
      "Epoch 27/50\n",
      "34576/34576 [==============================] - 1s 43us/step - loss: 0.0080 - mean_absolute_error: 0.0585 - val_loss: 0.0091 - val_mean_absolute_error: 0.0603\n",
      "Epoch 28/50\n",
      "34576/34576 [==============================] - 1s 39us/step - loss: 0.0077 - mean_absolute_error: 0.0569 - val_loss: 0.0089 - val_mean_absolute_error: 0.0594\n",
      "Epoch 29/50\n",
      "34576/34576 [==============================] - 1s 39us/step - loss: 0.0072 - mean_absolute_error: 0.0552 - val_loss: 0.0100 - val_mean_absolute_error: 0.0606\n",
      "Epoch 30/50\n",
      "34576/34576 [==============================] - 2s 45us/step - loss: 0.0069 - mean_absolute_error: 0.0542 - val_loss: 0.0093 - val_mean_absolute_error: 0.0601\n",
      "Epoch 31/50\n",
      "34576/34576 [==============================] - 2s 45us/step - loss: 0.0071 - mean_absolute_error: 0.0550 - val_loss: 0.0101 - val_mean_absolute_error: 0.0616\n",
      "Epoch 32/50\n",
      "34576/34576 [==============================] - 1s 40us/step - loss: 0.0067 - mean_absolute_error: 0.0539 - val_loss: 0.0094 - val_mean_absolute_error: 0.0596\n",
      "Epoch 33/50\n",
      "34576/34576 [==============================] - 2s 46us/step - loss: 0.0066 - mean_absolute_error: 0.0535 - val_loss: 0.0085 - val_mean_absolute_error: 0.0571\n",
      "Epoch 34/50\n",
      "34576/34576 [==============================] - 2s 53us/step - loss: 0.0066 - mean_absolute_error: 0.0536 - val_loss: 0.0082 - val_mean_absolute_error: 0.0570\n",
      "Epoch 35/50\n",
      "34576/34576 [==============================] - 2s 49us/step - loss: 0.0065 - mean_absolute_error: 0.0531 - val_loss: 0.0086 - val_mean_absolute_error: 0.0579\n",
      "Epoch 36/50\n",
      "34576/34576 [==============================] - 2s 44us/step - loss: 0.0064 - mean_absolute_error: 0.0528 - val_loss: 0.0090 - val_mean_absolute_error: 0.0607\n",
      "Epoch 37/50\n",
      "34576/34576 [==============================] - 2s 44us/step - loss: 0.0064 - mean_absolute_error: 0.0529 - val_loss: 0.0115 - val_mean_absolute_error: 0.0692\n",
      "Epoch 38/50\n",
      "34576/34576 [==============================] - 2s 46us/step - loss: 0.0064 - mean_absolute_error: 0.0527 - val_loss: 0.0084 - val_mean_absolute_error: 0.0580\n",
      "Epoch 39/50\n",
      "34576/34576 [==============================] - 1s 43us/step - loss: 0.0062 - mean_absolute_error: 0.0520 - val_loss: 0.0080 - val_mean_absolute_error: 0.0562\n",
      "Epoch 40/50\n",
      "34576/34576 [==============================] - 1s 43us/step - loss: 0.0061 - mean_absolute_error: 0.0517 - val_loss: 0.0079 - val_mean_absolute_error: 0.0552\n",
      "Epoch 41/50\n",
      "34576/34576 [==============================] - 1s 43us/step - loss: 0.0061 - mean_absolute_error: 0.0518 - val_loss: 0.0080 - val_mean_absolute_error: 0.0555\n",
      "Epoch 42/50\n",
      "34576/34576 [==============================] - 2s 49us/step - loss: 0.0061 - mean_absolute_error: 0.0515 - val_loss: 0.0078 - val_mean_absolute_error: 0.0555\n",
      "Epoch 43/50\n",
      "34576/34576 [==============================] - 1s 43us/step - loss: 0.0061 - mean_absolute_error: 0.0513 - val_loss: 0.0090 - val_mean_absolute_error: 0.0614\n",
      "Epoch 44/50\n",
      "34576/34576 [==============================] - 1s 40us/step - loss: 0.0059 - mean_absolute_error: 0.0506 - val_loss: 0.0078 - val_mean_absolute_error: 0.0544\n",
      "Epoch 45/50\n",
      "34576/34576 [==============================] - 2s 44us/step - loss: 0.0058 - mean_absolute_error: 0.0500 - val_loss: 0.0083 - val_mean_absolute_error: 0.0583\n",
      "Epoch 46/50\n",
      "34576/34576 [==============================] - 1s 40us/step - loss: 0.0057 - mean_absolute_error: 0.0496 - val_loss: 0.0078 - val_mean_absolute_error: 0.0550\n",
      "Epoch 47/50\n",
      "34576/34576 [==============================] - 1s 40us/step - loss: 0.0059 - mean_absolute_error: 0.0507 - val_loss: 0.0082 - val_mean_absolute_error: 0.0549\n",
      "Epoch 48/50\n",
      "34576/34576 [==============================] - 1s 40us/step - loss: 0.0056 - mean_absolute_error: 0.0494 - val_loss: 0.0079 - val_mean_absolute_error: 0.0545\n"
     ]
    },
    {
     "name": "stdout",
     "output_type": "stream",
     "text": [
      "Epoch 49/50\n",
      "34576/34576 [==============================] - 1s 39us/step - loss: 0.0056 - mean_absolute_error: 0.0493 - val_loss: 0.0091 - val_mean_absolute_error: 0.0574\n",
      "Epoch 50/50\n",
      "34576/34576 [==============================] - 1s 40us/step - loss: 0.0056 - mean_absolute_error: 0.0494 - val_loss: 0.0076 - val_mean_absolute_error: 0.0529\n"
     ]
    }
   ],
   "source": [
    "#history = model.fit(x_train_flat, y_train, validation_split=0.2, epochs=25)  # starts training\n",
    "history = model.fit(x_train_tensor, y_train, validation_split=0.2, epochs=50)  # starts training"
   ]
  },
  {
   "cell_type": "code",
   "execution_count": 173,
   "metadata": {},
   "outputs": [
    {
     "data": {
      "image/png": "[encoded data removed]",
      "text/plain": [
       "<Figure size 432x288 with 1 Axes>"
      ]
     },
     "metadata": {},
     "output_type": "display_data"
    }
   ],
   "source": [
    "plt.figure()\n",
    "plt.plot(history.history['loss'],color='blue')\n",
    "plt.plot(history.history['val_loss'],color='orange')\n",
    "plt.title('Model loss',fontsize=12)\n",
    "plt.ylabel('loss',fontsize=12)\n",
    "plt.xlabel('epoch',fontsize=12)\n",
    "plt.legend(['train', 'validation'])\n",
    "#plt.savefig('Write_up/model_loss.png')\n",
    "plt.show()"
   ]
  },
  {
   "cell_type": "code",
   "execution_count": 174,
   "metadata": {},
   "outputs": [
    {
     "data": {
      "image/png": "[encoded data removed]",
      "text/plain": [
       "<Figure size 432x288 with 1 Axes>"
      ]
     },
     "metadata": {},
     "output_type": "display_data"
    }
   ],
   "source": [
    "plt.figure()\n",
    "plt.plot(history.history['mean_absolute_error'],color='blue')\n",
    "plt.plot(history.history['val_mean_absolute_error'],color='orange')\n",
    "#plt.title('Model loss',fontsize=12)\n",
    "#plt.ylabel('loss',fontsize=12)\n",
    "plt.xlabel('epoch',fontsize=12)\n",
    "plt.legend(['train', 'validation'])\n",
    "#plt.savefig('Write_up/model_loss.png')\n",
    "plt.show()"
   ]
  },
  {
   "cell_type": "code",
   "execution_count": 175,
   "metadata": {
    "collapsed": true
   },
   "outputs": [],
   "source": [
    "#model_prediction = model.predict(x_test_flat)\n",
    "model_prediction = model.predict(x_test_tensor)"
   ]
  },
  {
   "cell_type": "code",
   "execution_count": 176,
   "metadata": {
    "collapsed": true
   },
   "outputs": [],
   "source": [
    "model_prediction_train = model.predict(x_train_tensor)"
   ]
  },
  {
   "cell_type": "code",
   "execution_count": 177,
   "metadata": {},
   "outputs": [
    {
     "name": "stdout",
     "output_type": "stream",
     "text": [
      "_________________________________________________________________\n",
      "Layer (type)                 Output Shape              Param #   \n",
      "=================================================================\n",
      "flatten_1 (Flatten)          (None, 4893)              0         \n",
      "_________________________________________________________________\n",
      "dense_1 (Dense)              (None, 1)                 4894      \n",
      "_________________________________________________________________\n",
      "dense_2 (Dense)              (None, 20)                40        \n",
      "_________________________________________________________________\n",
      "dense_3 (Dense)              (None, 1)                 21        \n",
      "=================================================================\n",
      "Total params: 4,955\n",
      "Trainable params: 4,955\n",
      "Non-trainable params: 0\n",
      "_________________________________________________________________\n"
     ]
    }
   ],
   "source": [
    "model.summary()"
   ]
  },
  {
   "cell_type": "code",
   "execution_count": 178,
   "metadata": {
    "collapsed": true
   },
   "outputs": [],
   "source": [
    "model.layers\n",
    "get_1st_layer_output = K.function([model.layers[0].input],[model.layers[1].output])\n",
    "layer_output = get_1st_layer_output([x_test_tensor])\n",
    "layer_output_train = get_1st_layer_output([x_train_tensor])"
   ]
  },
  {
   "cell_type": "code",
   "execution_count": 179,
   "metadata": {},
   "outputs": [
    {
     "data": {
      "text/plain": [
       "(10805, 1)"
      ]
     },
     "execution_count": 179,
     "metadata": {},
     "output_type": "execute_result"
    }
   ],
   "source": [
    "layer_output = np.array(layer_output)\n",
    "layer_output = layer_output.reshape(y_test.shape[0],1)\n",
    "np.shape(layer_output)"
   ]
  },
  {
   "cell_type": "code",
   "execution_count": 180,
   "metadata": {},
   "outputs": [
    {
     "data": {
      "text/plain": [
       "(43220, 1)"
      ]
     },
     "execution_count": 180,
     "metadata": {},
     "output_type": "execute_result"
    }
   ],
   "source": [
    "layer_output_train = np.array(layer_output_train)\n",
    "layer_output_train = layer_output_train.reshape(y_train.shape[0],1)\n",
    "np.shape(layer_output_train)"
   ]
  },
  {
   "cell_type": "code",
   "execution_count": 181,
   "metadata": {},
   "outputs": [
    {
     "data": {
      "image/png": "[encoded data removed]",
      "text/plain": [
       "<Figure size 432x288 with 1 Axes>"
      ]
     },
     "metadata": {},
     "output_type": "display_data"
    }
   ],
   "source": [
    "plt.scatter(-layer_output_train,model_prediction_train,alpha=1.0,s=1.5,color='black')\n",
    "plt.xlabel('Linear trait')\n",
    "plt.ylabel('NN Output')\n",
    "#plt.plot([0,1],color='black',linewidth=3,alpha=0.75)\n",
    "plt.show()"
   ]
  },
  {
   "cell_type": "code",
   "execution_count": 182,
   "metadata": {},
   "outputs": [
    {
     "data": {
      "image/png": "[encoded data removed]",
      "text/plain": [
       "<Figure size 432x288 with 1 Axes>"
      ]
     },
     "metadata": {},
     "output_type": "display_data"
    }
   ],
   "source": [
    "plt.scatter(layer_output,model_prediction,alpha=1.0,s=1.5,color='black')\n",
    "plt.xlabel('Linear trait')\n",
    "plt.ylabel('NN Output')\n",
    "#plt.plot([0,1],color='black',linewidth=3,alpha=0.75)\n",
    "plt.show()"
   ]
  },
  {
   "cell_type": "code",
   "execution_count": 183,
   "metadata": {
    "collapsed": true
   },
   "outputs": [],
   "source": [
    "y_test = np.array(y_test).reshape(-1,1)\n",
    "y_train = np.array(y_train).reshape(-1,1)"
   ]
  },
  {
   "cell_type": "code",
   "execution_count": 185,
   "metadata": {},
   "outputs": [
    {
     "data": {
      "image/png": "[encoded data removed]",
      "text/plain": [
       "<Figure size 864x720 with 1 Axes>"
      ]
     },
     "metadata": {},
     "output_type": "display_data"
    }
   ],
   "source": [
    "plt.figure\n",
    "figure_size = [12,10]\n",
    "plt.figure(figsize=figure_size)\n",
    "#plt.title('GFP data: Amino-acid sequences vs. fluorescence. ', fontsize=14)\n",
    "\n",
    "#plt.scatter(layer_output,y_test,alpha=0.25,s=1.5,color='gray', label='Fluorescence Labels vs. additive trait')\n",
    "#plt.scatter(layer_output,model_prediction,alpha=1.0,s=1.5,color='black', label='NN output vs. additive trait')\n",
    "layer_output_train_scaled = (layer_output_train-min(layer_output_train))/(max(layer_output_train)-min(layer_output_train))\n",
    "\n",
    "plt.scatter(layer_output_train_scaled,y_train,alpha=0.25,s=1.5,color='gray', label='Fluorescence Labels vs. additive trait')\n",
    "plt.scatter(layer_output_train_scaled,model_prediction_train,alpha=1.0,s=1.5,color='black', label='NN output vs. additive trait')\n",
    "plt.xlabel('Additive trait',fontsize=25)\n",
    "#plt.ylabel('Neural Network Prediction',fontsize=16)\n",
    "plt.ylabel('Measured Values',fontsize=25)\n",
    "plt.tick_params(labelsize=25)\n",
    "#plt.legend(fontsize=16)\n",
    "#plt.savefig('global_epistasis_gfp_20_sigmoid_hidden_neurons_scaled_for_talk.png')\n",
    "plt.show()"
   ]
  },
  {
   "cell_type": "code",
   "execution_count": 80,
   "metadata": {
    "collapsed": true
   },
   "outputs": [],
   "source": [
    "#np.savetxt('hidden_layer_out.txt',layer_output)\n",
    "#np.savetxt('test_labels.txt',y_test)\n",
    "#np.savetxt('NN_out.txt',model_prediction)"
   ]
  },
  {
   "cell_type": "code",
   "execution_count": 81,
   "metadata": {},
   "outputs": [
    {
     "data": {
      "image/png": "[encoded data removed]",
      "text/plain": [
       "<Figure size 432x288 with 1 Axes>"
      ]
     },
     "metadata": {},
     "output_type": "display_data"
    }
   ],
   "source": [
    "plt.hist(model_prediction,color='r',alpha=0.5,density=True,bins=50)\n",
    "plt.hist(y_test,color='b',alpha=0.5,density=True,bins=50)\n",
    "#plt.hist(model_prediction,bins=100,color='b',alpha=0.5)\n",
    "plt.show()"
   ]
  },
  {
   "cell_type": "code",
   "execution_count": 82,
   "metadata": {},
   "outputs": [
    {
     "data": {
      "image/png": "[encoded data removed]",
      "text/plain": [
       "<Figure size 432x288 with 1 Axes>"
      ]
     },
     "metadata": {},
     "output_type": "display_data"
    }
   ],
   "source": [
    "#plt.scatter(y_test,model_prediction,alpha=0.5)\n",
    "plt.scatter(model_prediction,y_test,alpha=1.0,s=1.5,color='red')\n",
    "plt.xlabel('Test Label')\n",
    "plt.ylabel('NN Prediction')\n",
    "plt.plot([0,1],color='black',linewidth=3,alpha=0.75)\n",
    "plt.xlim([0.3,0.8])\n",
    "plt.show()"
   ]
  },
  {
   "cell_type": "code",
   "execution_count": 83,
   "metadata": {},
   "outputs": [
    {
     "name": "stdout",
     "output_type": "stream",
     "text": [
      "_________________________________________________________________\n",
      "Layer (type)                 Output Shape              Param #   \n",
      "=================================================================\n",
      "flatten_1 (Flatten)          (None, 4893)              0         \n",
      "_________________________________________________________________\n",
      "dense_1 (Dense)              (None, 1)                 4894      \n",
      "_________________________________________________________________\n",
      "dense_2 (Dense)              (None, 20)                40        \n",
      "_________________________________________________________________\n",
      "dense_3 (Dense)              (None, 1)                 21        \n",
      "=================================================================\n",
      "Total params: 4,955\n",
      "Trainable params: 4,955\n",
      "Non-trainable params: 0\n",
      "_________________________________________________________________\n"
     ]
    }
   ],
   "source": [
    "model.summary()"
   ]
  },
  {
   "cell_type": "code",
   "execution_count": 99,
   "metadata": {
    "collapsed": true
   },
   "outputs": [],
   "source": [
    "from keras.models import load_model\n",
    "\n",
    "#model.save('NN_GB1.h5')  # creates a HDF5 file 'my_model.h5'\n",
    "#del model  # deletes the existing model\n",
    "\n",
    "# returns a compiled model\n",
    "# identical to the previous one\n",
    "#model = load_model('ann_delta_g_regression_40k_trian.h5')\n",
    "#model = load_model('train_90k_test_5k_10_filters_1Convlayer.h5')"
   ]
  },
  {
   "cell_type": "code",
   "execution_count": 91,
   "metadata": {
    "collapsed": true
   },
   "outputs": [],
   "source": [
    "np.shape(model.layers[1].get_weights()[0].reshape(233,21))\n",
    "#np.savetxt(\"NN_dense_layer_weights.csv\", model.layers[1].get_weights()[0].reshape(21,233), delimiter=\",\")"
   ]
  },
  {
   "cell_type": "code",
   "execution_count": null,
   "metadata": {
    "collapsed": true
   },
   "outputs": [],
   "source": []
  },
  {
   "cell_type": "code",
   "execution_count": 104,
   "metadata": {},
   "outputs": [
    {
     "name": "stdout",
     "output_type": "stream",
     "text": [
      "val_K\n",
      "val_R\n",
      "val_H\n",
      "val_E\n",
      "val_D\n",
      "val_N\n",
      "val_Q\n",
      "val_T\n",
      "val_S\n",
      "val_C\n",
      "val_G\n",
      "val_A\n",
      "val_V\n",
      "val_L\n",
      "val_I\n",
      "val_M\n",
      "val_P\n",
      "val_Y\n",
      "val_F\n",
      "val_W\n",
      "val_*\n"
     ]
    }
   ],
   "source": [
    "for key in list(base_dict.keys()):\n",
    "    print('val_'+key)"
   ]
  },
  {
   "cell_type": "code",
   "execution_count": null,
   "metadata": {
    "collapsed": true
   },
   "outputs": [],
   "source": []
  },
  {
   "cell_type": "code",
   "execution_count": null,
   "metadata": {
    "collapsed": true
   },
   "outputs": [],
   "source": [
    "model_prediction"
   ]
  },
  {
   "cell_type": "code",
   "execution_count": null,
   "metadata": {
    "collapsed": true
   },
   "outputs": [],
   "source": [
    "predicted_expression = np.exp((-(model_prediction))/T)/(1+np.exp((-(model_prediction))/T))\n"
   ]
  },
  {
   "cell_type": "code",
   "execution_count": null,
   "metadata": {
    "collapsed": true
   },
   "outputs": [],
   "source": [
    "predicted_counts = np.random.poisson(7*predicted_expression)\n",
    "predicted_counts_normed = (predicted_counts-min(predicted_counts))/(max(predicted_counts)-min(predicted_counts))"
   ]
  },
  {
   "cell_type": "code",
   "execution_count": null,
   "metadata": {
    "collapsed": true
   },
   "outputs": [],
   "source": [
    "plt.hist(predicted_counts,bins=40,color='blue',alpha=0.5,density=True)\n",
    "plt.hist(C[0:7677],bins=40,color='red',alpha=0.4,density=True)\n",
    "plt.show()"
   ]
  },
  {
   "cell_type": "code",
   "execution_count": null,
   "metadata": {
    "collapsed": true
   },
   "outputs": [],
   "source": [
    "np.sum(C[0:7677])"
   ]
  },
  {
   "cell_type": "code",
   "execution_count": null,
   "metadata": {
    "collapsed": true
   },
   "outputs": [],
   "source": [
    "np.sum(predicted_counts)"
   ]
  },
  {
   "cell_type": "code",
   "execution_count": null,
   "metadata": {
    "collapsed": true
   },
   "outputs": [],
   "source": [
    "#np.shape(model.layers[1].get_weights()[0])\n",
    "weights = model.layers[1].get_weights()[0]"
   ]
  },
  {
   "cell_type": "code",
   "execution_count": null,
   "metadata": {
    "collapsed": true
   },
   "outputs": [],
   "source": [
    "weights = weights.reshape(4,20)"
   ]
  },
  {
   "cell_type": "code",
   "execution_count": null,
   "metadata": {
    "collapsed": true
   },
   "outputs": [],
   "source": [
    "\n",
    "import seaborn as sns\n",
    "\n",
    "fig_size = (20, 3)\n",
    "fig, ax = plt.subplots(figsize=fig_size)\n",
    "sns.heatmap(weights.T,cmap='RdBu_r')\n",
    "plt.show()\n"
   ]
  },
  {
   "cell_type": "code",
   "execution_count": null,
   "metadata": {
    "collapsed": true
   },
   "outputs": [],
   "source": [
    "import sys\n",
    "sys.path.insert(0,'/Users/tareen/Desktop/Desktop_Tests/logomaker3')\n",
    "import logomaker"
   ]
  },
  {
   "cell_type": "code",
   "execution_count": null,
   "metadata": {
    "collapsed": true
   },
   "outputs": [],
   "source": [
    "base_dict.keys()"
   ]
  },
  {
   "cell_type": "code",
   "execution_count": null,
   "metadata": {
    "collapsed": true
   },
   "outputs": [],
   "source": [
    "#import matplotlib as mpl\n",
    "#mpl.rcParams.update(mpl.rcParamsDefault)\n",
    "#learned_filter = pd.DataFrame(weights,columns = ['A','C','G','T'])\n",
    "learned_filter = pd.DataFrame(weights,columns = ['K', 'R', 'H', 'E', 'D', 'N', 'Q', 'T', 'S', 'C', 'G', 'A', 'V', 'L', 'I', 'M', 'P', 'Y', 'F', 'W'])\n",
    "\n",
    "\n",
    "import warnings\n",
    "warnings.filterwarnings(\"ignore\")\n",
    "\n",
    "baseline_param_dict = {\n",
    "                          'baseline_width':1.0,\n",
    "                      }\n",
    "\n",
    "logo = logomaker.make_logo(\n",
    "                            #dataframe=learned_filter,\n",
    "                            dataframe=learned_filter.sub(learned_filter.mean(axis=1), axis=0),\n",
    "                            #matrix_type='information',\n",
    "                            remove_flattened_characters=False,\n",
    "                            ytick_format='%0.1f',\n",
    "                            draw_now=True,\n",
    "                            figsize=[12,3],\n",
    "                            baseline_param_dict = baseline_param_dict,\n",
    "                            #ylim=[0,0.04]\n",
    "                    )\n",
    "print(logo)\n",
    "plt.xlabel('Position',fontsize=12)\n",
    "plt.title('NN weights visualized as sequence logo',fontsize=12)\n",
    "#plt.ylabel('Information (bits)',fontsize=12)\n",
    "plt.tight_layout()\n",
    "#plt.savefig('convolution_visualization2.png')\n",
    "plt.show()\n"
   ]
  },
  {
   "cell_type": "code",
   "execution_count": null,
   "metadata": {
    "collapsed": true
   },
   "outputs": [],
   "source": [
    "test_temp = learned_filter-learned_filter.T.values.mean(axis=1)"
   ]
  },
  {
   "cell_type": "code",
   "execution_count": null,
   "metadata": {
    "collapsed": true
   },
   "outputs": [],
   "source": [
    "learned_filter.values.mean(axis=1)[0]"
   ]
  },
  {
   "cell_type": "code",
   "execution_count": null,
   "metadata": {
    "collapsed": true
   },
   "outputs": [],
   "source": [
    "learned_filter.loc[0,]"
   ]
  },
  {
   "cell_type": "code",
   "execution_count": null,
   "metadata": {
    "collapsed": true
   },
   "outputs": [],
   "source": [
    "learned_filter.sub(learned_filter.mean(axis=1), axis=0)"
   ]
  },
  {
   "cell_type": "code",
   "execution_count": null,
   "metadata": {
    "collapsed": true
   },
   "outputs": [],
   "source": [
    "0.113424-0.1013713"
   ]
  },
  {
   "cell_type": "code",
   "execution_count": null,
   "metadata": {
    "collapsed": true
   },
   "outputs": [],
   "source": [
    "type(model_prediction)"
   ]
  },
  {
   "cell_type": "code",
   "execution_count": null,
   "metadata": {
    "collapsed": true
   },
   "outputs": [],
   "source": [
    "model_prediction.shape"
   ]
  },
  {
   "cell_type": "code",
   "execution_count": null,
   "metadata": {
    "collapsed": true
   },
   "outputs": [],
   "source": []
  },
  {
   "cell_type": "code",
   "execution_count": 91,
   "metadata": {},
   "outputs": [
    {
     "data": {
      "text/plain": [
       "'/Users/tareen/Desktop/Desktop_Tests/MPathic3/mpathic/data/rnap_convnet/ANN_Logisitc_Regression'"
      ]
     },
     "execution_count": 91,
     "metadata": {},
     "output_type": "execute_result"
    }
   ],
   "source": [
    "import os\n",
    "os.getcwd()"
   ]
  },
  {
   "cell_type": "code",
   "execution_count": null,
   "metadata": {
    "collapsed": true
   },
   "outputs": [],
   "source": [
    "#ge =  pd.read_csv('y_gb1.csv')"
   ]
  },
  {
   "cell_type": "code",
   "execution_count": null,
   "metadata": {
    "collapsed": true
   },
   "outputs": [],
   "source": [
    "ge.head()"
   ]
  },
  {
   "cell_type": "code",
   "execution_count": null,
   "metadata": {
    "collapsed": true
   },
   "outputs": [],
   "source": [
    "plt.scatter(ge['y'],ge['z_10'],alpha=0.5,s=1)\n",
    "plt.scatter(ge['y'],ge['z_20'],alpha=0.5,s=1)\n",
    "#plt.scatter(ge['y'],ge['z_20_relu'],alpha=0.5)\n",
    "plt.scatter(ge['y'],ge['z_41'],alpha=0.5,s=1)\n",
    "plt.xlabel('Linear Prediction')\n",
    "plt.ylabel('NN Prediction')\n",
    "plt.show()"
   ]
  },
  {
   "cell_type": "code",
   "execution_count": null,
   "metadata": {
    "collapsed": true
   },
   "outputs": [],
   "source": [
    "y_test.shape"
   ]
  },
  {
   "cell_type": "code",
   "execution_count": null,
   "metadata": {
    "collapsed": true
   },
   "outputs": [],
   "source": [
    "#np.savetxt(\"linear_model_jellybean_gb1.csv\", model_prediction, delimiter=\",\")"
   ]
  },
  {
   "cell_type": "code",
   "execution_count": null,
   "metadata": {
    "collapsed": true
   },
   "outputs": [],
   "source": [
    "#np.savetxt(\"full_model_jellybean_gb1.csv\", model_prediction, delimiter=\",\")"
   ]
  },
  {
   "cell_type": "code",
   "execution_count": null,
   "metadata": {
    "collapsed": true
   },
   "outputs": [],
   "source": [
    "#np.savetxt(\"true_y_full.csv\", y_test, delimiter=\",\")"
   ]
  },
  {
   "cell_type": "code",
   "execution_count": null,
   "metadata": {
    "collapsed": true
   },
   "outputs": [],
   "source": [
    "#np.savetxt(\"z_gb1_full.csv\", model_prediction, delimiter=\",\")"
   ]
  },
  {
   "cell_type": "code",
   "execution_count": 92,
   "metadata": {},
   "outputs": [
    {
     "data": {
      "text/plain": [
       "<keras.engine.sequential.Sequential at 0x13288fc50>"
      ]
     },
     "execution_count": 92,
     "metadata": {},
     "output_type": "execute_result"
    }
   ],
   "source": [
    "model"
   ]
  },
  {
   "cell_type": "code",
   "execution_count": 97,
   "metadata": {},
   "outputs": [
    {
     "data": {
      "text/plain": [
       "(80, 1)"
      ]
     },
     "execution_count": 97,
     "metadata": {},
     "output_type": "execute_result"
    }
   ],
   "source": [
    "np.shape(model.layers[1].get_weights()[0])"
   ]
  },
  {
   "cell_type": "code",
   "execution_count": null,
   "metadata": {
    "collapsed": true
   },
   "outputs": [],
   "source": []
  }
 ],
 "metadata": {
  "colab": {
   "collapsed_sections": [],
   "name": "motif_learn_convnet.ipynb",
   "provenance": [],
   "version": "0.3.2"
  },
  "kernelspec": {
   "display_name": "Python 3",
   "language": "python",
   "name": "python3"
  },
  "language_info": {
   "codemirror_mode": {
    "name": "ipython",
    "version": 3
   },
   "file_extension": ".py",
   "mimetype": "text/x-python",
   "name": "python",
   "nbconvert_exporter": "python",
   "pygments_lexer": "ipython3",
   "version": "3.6.2"
  }
 },
 "nbformat": 4,
 "nbformat_minor": 1
}
