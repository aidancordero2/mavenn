{
 "cells": [
  {
   "cell_type": "markdown",
   "metadata": {},
   "source": [
    "## Notes"
   ]
  },
  {
   "cell_type": "markdown",
   "metadata": {},
   "source": [
    "### Import libraries and read data"
   ]
  },
  {
   "cell_type": "code",
   "execution_count": 1,
   "metadata": {
    "collapsed": true
   },
   "outputs": [],
   "source": [
    "import pandas as pd\n",
    "import numpy as np\n",
    "import numpy as np\n",
    "import pandas as pd\n",
    "import matplotlib.pyplot as plt\n",
    "import sys\n",
    "\n",
    "#input_data_ordered_raw =  pd.read_csv('rnap_scanned_over_ecoli_genome200k.csv')\n",
    "input_data_ordered_raw = pd.read_csv('GFPdata.tsv',sep='\\t')\n",
    "#sequences = input_data_ordered_raw['seq'].tolist()"
   ]
  },
  {
   "cell_type": "code",
   "execution_count": 2,
   "metadata": {},
   "outputs": [
    {
     "data": {
      "text/html": [
       "<div>\n",
       "<style scoped>\n",
       "    .dataframe tbody tr th:only-of-type {\n",
       "        vertical-align: middle;\n",
       "    }\n",
       "\n",
       "    .dataframe tbody tr th {\n",
       "        vertical-align: top;\n",
       "    }\n",
       "\n",
       "    .dataframe thead th {\n",
       "        text-align: right;\n",
       "    }\n",
       "</style>\n",
       "<table border=\"1\" class=\"dataframe\">\n",
       "  <thead>\n",
       "    <tr style=\"text-align: right;\">\n",
       "      <th></th>\n",
       "      <th>AAsequence</th>\n",
       "      <th>HammingDistance</th>\n",
       "      <th>aaMutations</th>\n",
       "      <th>medianBrightness</th>\n",
       "      <th>std</th>\n",
       "    </tr>\n",
       "  </thead>\n",
       "  <tbody>\n",
       "    <tr>\n",
       "      <th>0</th>\n",
       "      <td>KGEELFTGVVPILVELDGDVNGHKFSVSGEGEGDATYGKLTLKFIC...</td>\n",
       "      <td>0</td>\n",
       "      <td>NaN</td>\n",
       "      <td>3.719212</td>\n",
       "      <td>0.106992</td>\n",
       "    </tr>\n",
       "    <tr>\n",
       "      <th>1</th>\n",
       "      <td>KGEELFTGVVPILVELDGDVNGHKFSVSGEGEGDATYGKLTLKFIC...</td>\n",
       "      <td>1</td>\n",
       "      <td>SA108D</td>\n",
       "      <td>1.301030</td>\n",
       "      <td>NaN</td>\n",
       "    </tr>\n",
       "    <tr>\n",
       "      <th>2</th>\n",
       "      <td>KGEELFTGVVPILVELDGDVNGHKFSVSGEGEGDATYGKLTLKFIC...</td>\n",
       "      <td>5</td>\n",
       "      <td>SA108D:SN144D:SI186V:SM231T:SL234P</td>\n",
       "      <td>1.301031</td>\n",
       "      <td>NaN</td>\n",
       "    </tr>\n",
       "    <tr>\n",
       "      <th>3</th>\n",
       "      <td>KGEELFTGVVPILVELDGDVNGHKFSVSGEGEGDATYGKLTLKFIC...</td>\n",
       "      <td>4</td>\n",
       "      <td>SA108D:SY141N:SH146L:SE220G</td>\n",
       "      <td>1.301189</td>\n",
       "      <td>NaN</td>\n",
       "    </tr>\n",
       "    <tr>\n",
       "      <th>4</th>\n",
       "      <td>KGEELFTGVVPILVELDGDVNGHKFSVSGEGEGDATYGKLTLKFIC...</td>\n",
       "      <td>1</td>\n",
       "      <td>SA108G</td>\n",
       "      <td>3.708478</td>\n",
       "      <td>0.020613</td>\n",
       "    </tr>\n",
       "  </tbody>\n",
       "</table>\n",
       "</div>"
      ],
      "text/plain": [
       "                                          AAsequence  HammingDistance  \\\n",
       "0  KGEELFTGVVPILVELDGDVNGHKFSVSGEGEGDATYGKLTLKFIC...                0   \n",
       "1  KGEELFTGVVPILVELDGDVNGHKFSVSGEGEGDATYGKLTLKFIC...                1   \n",
       "2  KGEELFTGVVPILVELDGDVNGHKFSVSGEGEGDATYGKLTLKFIC...                5   \n",
       "3  KGEELFTGVVPILVELDGDVNGHKFSVSGEGEGDATYGKLTLKFIC...                4   \n",
       "4  KGEELFTGVVPILVELDGDVNGHKFSVSGEGEGDATYGKLTLKFIC...                1   \n",
       "\n",
       "                          aaMutations  medianBrightness       std  \n",
       "0                                 NaN          3.719212  0.106992  \n",
       "1                              SA108D          1.301030       NaN  \n",
       "2  SA108D:SN144D:SI186V:SM231T:SL234P          1.301031       NaN  \n",
       "3         SA108D:SY141N:SH146L:SE220G          1.301189       NaN  \n",
       "4                              SA108G          3.708478  0.020613  "
      ]
     },
     "execution_count": 2,
     "metadata": {},
     "output_type": "execute_result"
    }
   ],
   "source": [
    "input_data_ordered_raw.head()"
   ]
  },
  {
   "cell_type": "code",
   "execution_count": 3,
   "metadata": {},
   "outputs": [
    {
     "data": {
      "text/plain": [
       "54025"
      ]
     },
     "execution_count": 3,
     "metadata": {},
     "output_type": "execute_result"
    }
   ],
   "source": [
    "# sequence length = 233\n",
    "len(input_data_ordered_raw)"
   ]
  },
  {
   "cell_type": "code",
   "execution_count": 4,
   "metadata": {},
   "outputs": [
    {
     "data": {
      "text/plain": [
       "'/Users/tareen/Desktop/Desktop_Tests/MPathic3/mpathic/data/rnap_convnet/ANN_Logisitc_Regression/global_epistasis_gfp'"
      ]
     },
     "execution_count": 4,
     "metadata": {},
     "output_type": "execute_result"
    }
   ],
   "source": [
    "import os\n",
    "os.getcwd()"
   ]
  },
  {
   "cell_type": "markdown",
   "metadata": {},
   "source": [
    "## Start model visualization"
   ]
  },
  {
   "cell_type": "markdown",
   "metadata": {},
   "source": [
    "### Gauge Fixed learned model"
   ]
  },
  {
   "cell_type": "code",
   "execution_count": 61,
   "metadata": {},
   "outputs": [
    {
     "data": {
      "text/html": [
       "<div>\n",
       "<style scoped>\n",
       "    .dataframe tbody tr th:only-of-type {\n",
       "        vertical-align: middle;\n",
       "    }\n",
       "\n",
       "    .dataframe tbody tr th {\n",
       "        vertical-align: top;\n",
       "    }\n",
       "\n",
       "    .dataframe thead th {\n",
       "        text-align: right;\n",
       "    }\n",
       "</style>\n",
       "<table border=\"1\" class=\"dataframe\">\n",
       "  <thead>\n",
       "    <tr style=\"text-align: right;\">\n",
       "      <th></th>\n",
       "      <th>val_*</th>\n",
       "      <th>val_A</th>\n",
       "      <th>val_C</th>\n",
       "      <th>val_D</th>\n",
       "      <th>val_E</th>\n",
       "      <th>val_F</th>\n",
       "      <th>val_G</th>\n",
       "      <th>val_H</th>\n",
       "      <th>val_I</th>\n",
       "      <th>val_K</th>\n",
       "      <th>...</th>\n",
       "      <th>val_M</th>\n",
       "      <th>val_N</th>\n",
       "      <th>val_P</th>\n",
       "      <th>val_Q</th>\n",
       "      <th>val_R</th>\n",
       "      <th>val_S</th>\n",
       "      <th>val_T</th>\n",
       "      <th>val_V</th>\n",
       "      <th>val_W</th>\n",
       "      <th>val_Y</th>\n",
       "    </tr>\n",
       "  </thead>\n",
       "  <tbody>\n",
       "    <tr>\n",
       "      <th>0</th>\n",
       "      <td>-0.001688</td>\n",
       "      <td>-0.020717</td>\n",
       "      <td>-0.032677</td>\n",
       "      <td>-0.006758</td>\n",
       "      <td>-0.001688</td>\n",
       "      <td>0.006047</td>\n",
       "      <td>0.029733</td>\n",
       "      <td>0.028747</td>\n",
       "      <td>-0.023740</td>\n",
       "      <td>-0.001688</td>\n",
       "      <td>...</td>\n",
       "      <td>-0.001688</td>\n",
       "      <td>-0.001688</td>\n",
       "      <td>-0.035835</td>\n",
       "      <td>-0.001688</td>\n",
       "      <td>-0.001688</td>\n",
       "      <td>-0.015004</td>\n",
       "      <td>-0.001688</td>\n",
       "      <td>0.051960</td>\n",
       "      <td>0.052292</td>\n",
       "      <td>-0.001715</td>\n",
       "    </tr>\n",
       "    <tr>\n",
       "      <th>1</th>\n",
       "      <td>-0.023080</td>\n",
       "      <td>0.000818</td>\n",
       "      <td>0.000818</td>\n",
       "      <td>0.000818</td>\n",
       "      <td>0.022720</td>\n",
       "      <td>0.008476</td>\n",
       "      <td>0.000818</td>\n",
       "      <td>-0.017971</td>\n",
       "      <td>-0.006949</td>\n",
       "      <td>-0.005715</td>\n",
       "      <td>...</td>\n",
       "      <td>0.018564</td>\n",
       "      <td>0.000818</td>\n",
       "      <td>0.025494</td>\n",
       "      <td>0.005466</td>\n",
       "      <td>-0.015738</td>\n",
       "      <td>0.000818</td>\n",
       "      <td>-0.020899</td>\n",
       "      <td>0.000818</td>\n",
       "      <td>0.055893</td>\n",
       "      <td>0.000815</td>\n",
       "    </tr>\n",
       "    <tr>\n",
       "      <th>2</th>\n",
       "      <td>-0.007734</td>\n",
       "      <td>-0.007734</td>\n",
       "      <td>0.016565</td>\n",
       "      <td>-0.007734</td>\n",
       "      <td>-0.007734</td>\n",
       "      <td>0.040458</td>\n",
       "      <td>-0.007734</td>\n",
       "      <td>-0.019499</td>\n",
       "      <td>-0.038449</td>\n",
       "      <td>-0.007734</td>\n",
       "      <td>...</td>\n",
       "      <td>0.040132</td>\n",
       "      <td>0.007224</td>\n",
       "      <td>0.047501</td>\n",
       "      <td>-0.007734</td>\n",
       "      <td>-0.007734</td>\n",
       "      <td>0.051351</td>\n",
       "      <td>-0.015933</td>\n",
       "      <td>-0.007734</td>\n",
       "      <td>-0.044767</td>\n",
       "      <td>-0.007721</td>\n",
       "    </tr>\n",
       "    <tr>\n",
       "      <th>3</th>\n",
       "      <td>0.003752</td>\n",
       "      <td>0.003752</td>\n",
       "      <td>0.012902</td>\n",
       "      <td>0.003752</td>\n",
       "      <td>0.003752</td>\n",
       "      <td>-0.025193</td>\n",
       "      <td>0.003752</td>\n",
       "      <td>-0.029089</td>\n",
       "      <td>0.023488</td>\n",
       "      <td>0.003752</td>\n",
       "      <td>...</td>\n",
       "      <td>-0.017203</td>\n",
       "      <td>0.033198</td>\n",
       "      <td>0.000437</td>\n",
       "      <td>0.003752</td>\n",
       "      <td>0.003752</td>\n",
       "      <td>-0.024014</td>\n",
       "      <td>0.004520</td>\n",
       "      <td>0.003752</td>\n",
       "      <td>-0.029304</td>\n",
       "      <td>0.003721</td>\n",
       "    </tr>\n",
       "    <tr>\n",
       "      <th>4</th>\n",
       "      <td>0.052761</td>\n",
       "      <td>-0.007048</td>\n",
       "      <td>0.013122</td>\n",
       "      <td>0.053241</td>\n",
       "      <td>-0.067051</td>\n",
       "      <td>-0.036680</td>\n",
       "      <td>-0.059749</td>\n",
       "      <td>0.009907</td>\n",
       "      <td>-0.001322</td>\n",
       "      <td>0.059565</td>\n",
       "      <td>...</td>\n",
       "      <td>-0.001322</td>\n",
       "      <td>0.003270</td>\n",
       "      <td>-0.001322</td>\n",
       "      <td>-0.001322</td>\n",
       "      <td>-0.001322</td>\n",
       "      <td>-0.001322</td>\n",
       "      <td>-0.031746</td>\n",
       "      <td>-0.001322</td>\n",
       "      <td>0.022321</td>\n",
       "      <td>-0.001336</td>\n",
       "    </tr>\n",
       "  </tbody>\n",
       "</table>\n",
       "<p>5 rows × 21 columns</p>\n",
       "</div>"
      ],
      "text/plain": [
       "      val_*     val_A     val_C     val_D     val_E     val_F     val_G  \\\n",
       "0 -0.001688 -0.020717 -0.032677 -0.006758 -0.001688  0.006047  0.029733   \n",
       "1 -0.023080  0.000818  0.000818  0.000818  0.022720  0.008476  0.000818   \n",
       "2 -0.007734 -0.007734  0.016565 -0.007734 -0.007734  0.040458 -0.007734   \n",
       "3  0.003752  0.003752  0.012902  0.003752  0.003752 -0.025193  0.003752   \n",
       "4  0.052761 -0.007048  0.013122  0.053241 -0.067051 -0.036680 -0.059749   \n",
       "\n",
       "      val_H     val_I     val_K    ...        val_M     val_N     val_P  \\\n",
       "0  0.028747 -0.023740 -0.001688    ...    -0.001688 -0.001688 -0.035835   \n",
       "1 -0.017971 -0.006949 -0.005715    ...     0.018564  0.000818  0.025494   \n",
       "2 -0.019499 -0.038449 -0.007734    ...     0.040132  0.007224  0.047501   \n",
       "3 -0.029089  0.023488  0.003752    ...    -0.017203  0.033198  0.000437   \n",
       "4  0.009907 -0.001322  0.059565    ...    -0.001322  0.003270 -0.001322   \n",
       "\n",
       "      val_Q     val_R     val_S     val_T     val_V     val_W     val_Y  \n",
       "0 -0.001688 -0.001688 -0.015004 -0.001688  0.051960  0.052292 -0.001715  \n",
       "1  0.005466 -0.015738  0.000818 -0.020899  0.000818  0.055893  0.000815  \n",
       "2 -0.007734 -0.007734  0.051351 -0.015933 -0.007734 -0.044767 -0.007721  \n",
       "3  0.003752  0.003752 -0.024014  0.004520  0.003752 -0.029304  0.003721  \n",
       "4 -0.001322 -0.001322 -0.001322 -0.031746 -0.001322  0.022321 -0.001336  \n",
       "\n",
       "[5 rows x 21 columns]"
      ]
     },
     "execution_count": 61,
     "metadata": {},
     "output_type": "execute_result"
    }
   ],
   "source": [
    "learned_model_im = pd.read_csv('learn_gfp_model.csv',sep='\\t')\n",
    "del learned_model_im['Unnamed: 0']\n",
    "learned_model_im = learned_model_im[['val_*', 'val_A', 'val_C', 'val_D', 'val_E', 'val_F', 'val_G',\n",
    "       'val_H', 'val_I', 'val_K', 'val_L', 'val_M', 'val_N', 'val_P', 'val_Q',\n",
    "       'val_R', 'val_S', 'val_T', 'val_V', 'val_W', 'val_Y']]\n",
    "learned_model_im.head()"
   ]
  },
  {
   "cell_type": "code",
   "execution_count": 62,
   "metadata": {},
   "outputs": [
    {
     "data": {
      "text/plain": [
       "Index(['val_*', 'val_A', 'val_C', 'val_D', 'val_E', 'val_F', 'val_G', 'val_H',\n",
       "       'val_I', 'val_K', 'val_L', 'val_M', 'val_N', 'val_P', 'val_Q', 'val_R',\n",
       "       'val_S', 'val_T', 'val_V', 'val_W', 'val_Y'],\n",
       "      dtype='object')"
      ]
     },
     "execution_count": 62,
     "metadata": {},
     "output_type": "execute_result"
    }
   ],
   "source": [
    "learned_model_im.columns"
   ]
  },
  {
   "cell_type": "code",
   "execution_count": 63,
   "metadata": {},
   "outputs": [
    {
     "data": {
      "image/png": "[encoded data removed]",
      "text/plain": [
       "<Figure size 864x864 with 2 Axes>"
      ]
     },
     "metadata": {},
     "output_type": "display_data"
    }
   ],
   "source": [
    "import seaborn as sns\n",
    "plt.figure(figsize=[12,12])\n",
    "sns.heatmap(learned_model_im,cmap='rainbow')\n",
    "plt.show()"
   ]
  },
  {
   "cell_type": "code",
   "execution_count": 64,
   "metadata": {
    "collapsed": true
   },
   "outputs": [],
   "source": [
    "row_means_list = []\n",
    "for mean_index in range(len(learned_model_im)):\n",
    "    row_means_list.append(np.mean(learned_model_im.loc[mean_index,:]))"
   ]
  },
  {
   "cell_type": "code",
   "execution_count": 65,
   "metadata": {
    "collapsed": true
   },
   "outputs": [],
   "source": [
    "for mean_index in range(len(learned_model_im)):\n",
    "    learned_model_im.loc[mean_index,:] -= row_means_list[mean_index]"
   ]
  },
  {
   "cell_type": "code",
   "execution_count": 66,
   "metadata": {
    "collapsed": true
   },
   "outputs": [],
   "source": [
    "learn_model_copy = learned_model_im.copy()"
   ]
  },
  {
   "cell_type": "code",
   "execution_count": null,
   "metadata": {
    "collapsed": true
   },
   "outputs": [],
   "source": []
  },
  {
   "cell_type": "markdown",
   "metadata": {},
   "source": [
    "## reweight model\n",
    "\n",
    "~~Divided all weights by square root of the sum of the squares of all weights~~"
   ]
  },
  {
   "cell_type": "code",
   "execution_count": 58,
   "metadata": {
    "collapsed": true
   },
   "outputs": [],
   "source": [
    "rescale_weight = np.sum(np.sum(np.square(learn_model_copy)))**0.5\n",
    "learn_model_copy = learn_model_copy.copy()/rescale_weight"
   ]
  },
  {
   "cell_type": "code",
   "execution_count": 67,
   "metadata": {},
   "outputs": [
    {
     "data": {
      "image/png": "[encoded data removed]",
      "text/plain": [
       "<Figure size 720x720 with 2 Axes>"
      ]
     },
     "metadata": {},
     "output_type": "display_data"
    }
   ],
   "source": [
    "import seaborn as sns\n",
    "plt.figure(figsize=[10,10])\n",
    "sns.heatmap(learn_model_copy,cmap='rainbow')\n",
    "plt.show()"
   ]
  },
  {
   "cell_type": "markdown",
   "metadata": {},
   "source": [
    "## output model "
   ]
  },
  {
   "cell_type": "code",
   "execution_count": 69,
   "metadata": {
    "collapsed": true
   },
   "outputs": [],
   "source": [
    "learn_model_copy.to_csv('learn_model_gfpXX.csv',sep='\\t')"
   ]
  },
  {
   "cell_type": "markdown",
   "metadata": {},
   "source": [
    "## end model visualization"
   ]
  },
  {
   "cell_type": "code",
   "execution_count": 5,
   "metadata": {
    "collapsed": true
   },
   "outputs": [],
   "source": [
    "sequences = input_data_ordered_raw['AAsequence']\n",
    "val = input_data_ordered_raw['medianBrightness']"
   ]
  },
  {
   "cell_type": "code",
   "execution_count": 75,
   "metadata": {},
   "outputs": [
    {
     "data": {
      "image/png": "[encoded data removed]",
      "text/plain": [
       "<Figure size 576x576 with 1 Axes>"
      ]
     },
     "metadata": {},
     "output_type": "display_data"
    }
   ],
   "source": [
    "plt.figure(figsize=[8,8])\n",
    "plt.hist(val,bins=50)\n",
    "plt.title('Histogram of median brightness: GFP')\n",
    "plt.xlabel('Median Brightness')\n",
    "plt.ylabel('Counts')\n",
    "plt.savefig('median_brightness_histogram_gfp.png')\n",
    "plt.show()"
   ]
  },
  {
   "cell_type": "code",
   "execution_count": 6,
   "metadata": {},
   "outputs": [
    {
     "data": {
      "text/plain": [
       "54025"
      ]
     },
     "execution_count": 6,
     "metadata": {},
     "output_type": "execute_result"
    }
   ],
   "source": [
    "len(val)"
   ]
  },
  {
   "cell_type": "code",
   "execution_count": 7,
   "metadata": {
    "collapsed": true
   },
   "outputs": [],
   "source": [
    "gfp_df = pd.DataFrame({'seq':sequences,'val':val})"
   ]
  },
  {
   "cell_type": "code",
   "execution_count": 8,
   "metadata": {},
   "outputs": [
    {
     "name": "stderr",
     "output_type": "stream",
     "text": [
      "/Users/tareen/Library/Python/3.6/lib/python/site-packages/scipy/stats/stats.py:1792: FutureWarning: Using a non-tuple sequence for multidimensional indexing is deprecated; use `arr[tuple(seq)]` instead of `arr[seq]`. In the future this will be interpreted as an array index, `arr[np.array(seq)]`, which will result either in an error or a different result.\n",
      "  pct = (np.mean(a_len[idx]) / n) * 100.0\n"
     ]
    }
   ],
   "source": [
    "from scipy.stats import percentileofscore\n",
    "\n",
    "# generate example data\n",
    "arr = gfp_df['val']\n",
    "\n",
    "# pre-sort array\n",
    "arr_sorted =  sorted(arr)\n",
    "\n",
    "# calculate percentiles using scipy func percentileofscore on each array element\n",
    "s = pd.Series(arr)\n",
    "percentiles = s.apply(lambda x: percentileofscore(arr_sorted, x))"
   ]
  },
  {
   "cell_type": "code",
   "execution_count": 14,
   "metadata": {},
   "outputs": [
    {
     "data": {
      "image/png": "[encoded data removed]",
      "text/plain": [
       "<Figure size 1440x216 with 1 Axes>"
      ]
     },
     "metadata": {},
     "output_type": "display_data"
    }
   ],
   "source": [
    "#plt.hist(arr,bins=50)\n",
    "plt.figure(figsize=[20,3])\n",
    "plt.hist(percentiles,bins=300)\n",
    "plt.show()"
   ]
  },
  {
   "cell_type": "code",
   "execution_count": 30,
   "metadata": {},
   "outputs": [
    {
     "data": {
      "text/html": [
       "<div>\n",
       "<style scoped>\n",
       "    .dataframe tbody tr th:only-of-type {\n",
       "        vertical-align: middle;\n",
       "    }\n",
       "\n",
       "    .dataframe tbody tr th {\n",
       "        vertical-align: top;\n",
       "    }\n",
       "\n",
       "    .dataframe thead th {\n",
       "        text-align: right;\n",
       "    }\n",
       "</style>\n",
       "<table border=\"1\" class=\"dataframe\">\n",
       "  <thead>\n",
       "    <tr style=\"text-align: right;\">\n",
       "      <th></th>\n",
       "      <th>seq</th>\n",
       "      <th>val</th>\n",
       "    </tr>\n",
       "  </thead>\n",
       "  <tbody>\n",
       "    <tr>\n",
       "      <th>0</th>\n",
       "      <td>KGEELFTGVVPILVELDGDVNGHKFSVSGEGEGDATYGKLTLKFIC...</td>\n",
       "      <td>3.719212</td>\n",
       "    </tr>\n",
       "    <tr>\n",
       "      <th>1</th>\n",
       "      <td>KGEELFTGVVPILVELDGDVNGHKFSVSGEGEGDATYGKLTLKFIC...</td>\n",
       "      <td>1.301030</td>\n",
       "    </tr>\n",
       "    <tr>\n",
       "      <th>2</th>\n",
       "      <td>KGEELFTGVVPILVELDGDVNGHKFSVSGEGEGDATYGKLTLKFIC...</td>\n",
       "      <td>1.301031</td>\n",
       "    </tr>\n",
       "    <tr>\n",
       "      <th>3</th>\n",
       "      <td>KGEELFTGVVPILVELDGDVNGHKFSVSGEGEGDATYGKLTLKFIC...</td>\n",
       "      <td>1.301189</td>\n",
       "    </tr>\n",
       "    <tr>\n",
       "      <th>4</th>\n",
       "      <td>KGEELFTGVVPILVELDGDVNGHKFSVSGEGEGDATYGKLTLKFIC...</td>\n",
       "      <td>3.708478</td>\n",
       "    </tr>\n",
       "  </tbody>\n",
       "</table>\n",
       "</div>"
      ],
      "text/plain": [
       "                                                 seq       val\n",
       "0  KGEELFTGVVPILVELDGDVNGHKFSVSGEGEGDATYGKLTLKFIC...  3.719212\n",
       "1  KGEELFTGVVPILVELDGDVNGHKFSVSGEGEGDATYGKLTLKFIC...  1.301030\n",
       "2  KGEELFTGVVPILVELDGDVNGHKFSVSGEGEGDATYGKLTLKFIC...  1.301031\n",
       "3  KGEELFTGVVPILVELDGDVNGHKFSVSGEGEGDATYGKLTLKFIC...  1.301189\n",
       "4  KGEELFTGVVPILVELDGDVNGHKFSVSGEGEGDATYGKLTLKFIC...  3.708478"
      ]
     },
     "execution_count": 30,
     "metadata": {},
     "output_type": "execute_result"
    }
   ],
   "source": [
    "gfp_df.head()"
   ]
  },
  {
   "cell_type": "code",
   "execution_count": 15,
   "metadata": {},
   "outputs": [
    {
     "data": {
      "text/plain": [
       "54025"
      ]
     },
     "execution_count": 15,
     "metadata": {},
     "output_type": "execute_result"
    }
   ],
   "source": [
    "len(gfp_df)"
   ]
  },
  {
   "cell_type": "code",
   "execution_count": 16,
   "metadata": {
    "collapsed": true
   },
   "outputs": [],
   "source": [
    "gfp_df['percentiles'] = percentiles"
   ]
  },
  {
   "cell_type": "code",
   "execution_count": 17,
   "metadata": {},
   "outputs": [
    {
     "data": {
      "text/html": [
       "<div>\n",
       "<style scoped>\n",
       "    .dataframe tbody tr th:only-of-type {\n",
       "        vertical-align: middle;\n",
       "    }\n",
       "\n",
       "    .dataframe tbody tr th {\n",
       "        vertical-align: top;\n",
       "    }\n",
       "\n",
       "    .dataframe thead th {\n",
       "        text-align: right;\n",
       "    }\n",
       "</style>\n",
       "<table border=\"1\" class=\"dataframe\">\n",
       "  <thead>\n",
       "    <tr style=\"text-align: right;\">\n",
       "      <th></th>\n",
       "      <th>seq</th>\n",
       "      <th>val</th>\n",
       "      <th>percentiles</th>\n",
       "    </tr>\n",
       "  </thead>\n",
       "  <tbody>\n",
       "    <tr>\n",
       "      <th>0</th>\n",
       "      <td>KGEELFTGVVPILVELDGDVNGHKFSVSGEGEGDATYGKLTLKFIC...</td>\n",
       "      <td>3.719212</td>\n",
       "      <td>90.663582</td>\n",
       "    </tr>\n",
       "    <tr>\n",
       "      <th>1</th>\n",
       "      <td>KGEELFTGVVPILVELDGDVNGHKFSVSGEGEGDATYGKLTLKFIC...</td>\n",
       "      <td>1.301030</td>\n",
       "      <td>6.906062</td>\n",
       "    </tr>\n",
       "    <tr>\n",
       "      <th>2</th>\n",
       "      <td>KGEELFTGVVPILVELDGDVNGHKFSVSGEGEGDATYGKLTLKFIC...</td>\n",
       "      <td>1.301031</td>\n",
       "      <td>13.227210</td>\n",
       "    </tr>\n",
       "    <tr>\n",
       "      <th>3</th>\n",
       "      <td>KGEELFTGVVPILVELDGDVNGHKFSVSGEGEGDATYGKLTLKFIC...</td>\n",
       "      <td>1.301189</td>\n",
       "      <td>16.908839</td>\n",
       "    </tr>\n",
       "    <tr>\n",
       "      <th>4</th>\n",
       "      <td>KGEELFTGVVPILVELDGDVNGHKFSVSGEGEGDATYGKLTLKFIC...</td>\n",
       "      <td>3.708478</td>\n",
       "      <td>89.378991</td>\n",
       "    </tr>\n",
       "  </tbody>\n",
       "</table>\n",
       "</div>"
      ],
      "text/plain": [
       "                                                 seq       val  percentiles\n",
       "0  KGEELFTGVVPILVELDGDVNGHKFSVSGEGEGDATYGKLTLKFIC...  3.719212    90.663582\n",
       "1  KGEELFTGVVPILVELDGDVNGHKFSVSGEGEGDATYGKLTLKFIC...  1.301030     6.906062\n",
       "2  KGEELFTGVVPILVELDGDVNGHKFSVSGEGEGDATYGKLTLKFIC...  1.301031    13.227210\n",
       "3  KGEELFTGVVPILVELDGDVNGHKFSVSGEGEGDATYGKLTLKFIC...  1.301189    16.908839\n",
       "4  KGEELFTGVVPILVELDGDVNGHKFSVSGEGEGDATYGKLTLKFIC...  3.708478    89.378991"
      ]
     },
     "execution_count": 17,
     "metadata": {},
     "output_type": "execute_result"
    }
   ],
   "source": [
    "gfp_df.head()"
   ]
  },
  {
   "cell_type": "code",
   "execution_count": 37,
   "metadata": {
    "collapsed": true
   },
   "outputs": [],
   "source": [
    "#gfp_df.to_csv('gfp_seq_val_percentiles.csv',sep='\\t')"
   ]
  },
  {
   "cell_type": "markdown",
   "metadata": {},
   "source": [
    "## Load dataframe with percentiles"
   ]
  },
  {
   "cell_type": "code",
   "execution_count": 22,
   "metadata": {},
   "outputs": [
    {
     "data": {
      "text/html": [
       "<div>\n",
       "<style scoped>\n",
       "    .dataframe tbody tr th:only-of-type {\n",
       "        vertical-align: middle;\n",
       "    }\n",
       "\n",
       "    .dataframe tbody tr th {\n",
       "        vertical-align: top;\n",
       "    }\n",
       "\n",
       "    .dataframe thead th {\n",
       "        text-align: right;\n",
       "    }\n",
       "</style>\n",
       "<table border=\"1\" class=\"dataframe\">\n",
       "  <thead>\n",
       "    <tr style=\"text-align: right;\">\n",
       "      <th></th>\n",
       "      <th>seq</th>\n",
       "      <th>val</th>\n",
       "      <th>percentiles</th>\n",
       "      <th>additive_trait</th>\n",
       "    </tr>\n",
       "  </thead>\n",
       "  <tbody>\n",
       "    <tr>\n",
       "      <th>0</th>\n",
       "      <td>KGEELFTGVVPILVELDGDVNGHKFSVSGEGEGDATYGKLTLKFIC...</td>\n",
       "      <td>3.719212</td>\n",
       "      <td>90.663582</td>\n",
       "      <td>-0.051897</td>\n",
       "    </tr>\n",
       "    <tr>\n",
       "      <th>1</th>\n",
       "      <td>KGEELFTGVVPILVELDGDVNGHKFSVSGEGEGDATYGKLTLKFIC...</td>\n",
       "      <td>1.301030</td>\n",
       "      <td>6.906062</td>\n",
       "      <td>-0.051897</td>\n",
       "    </tr>\n",
       "    <tr>\n",
       "      <th>2</th>\n",
       "      <td>KGEELFTGVVPILVELDGDVNGHKFSVSGEGEGDATYGKLTLKFIC...</td>\n",
       "      <td>1.301031</td>\n",
       "      <td>13.227210</td>\n",
       "      <td>-0.051897</td>\n",
       "    </tr>\n",
       "    <tr>\n",
       "      <th>3</th>\n",
       "      <td>KGEELFTGVVPILVELDGDVNGHKFSVSGEGEGDATYGKLTLKFIC...</td>\n",
       "      <td>1.301189</td>\n",
       "      <td>16.908839</td>\n",
       "      <td>-0.051897</td>\n",
       "    </tr>\n",
       "    <tr>\n",
       "      <th>4</th>\n",
       "      <td>KGEELFTGVVPILVELDGDVNGHKFSVSGEGEGDATYGKLTLKFIC...</td>\n",
       "      <td>3.708478</td>\n",
       "      <td>89.378991</td>\n",
       "      <td>-0.051897</td>\n",
       "    </tr>\n",
       "  </tbody>\n",
       "</table>\n",
       "</div>"
      ],
      "text/plain": [
       "                                                 seq       val  percentiles  \\\n",
       "0  KGEELFTGVVPILVELDGDVNGHKFSVSGEGEGDATYGKLTLKFIC...  3.719212    90.663582   \n",
       "1  KGEELFTGVVPILVELDGDVNGHKFSVSGEGEGDATYGKLTLKFIC...  1.301030     6.906062   \n",
       "2  KGEELFTGVVPILVELDGDVNGHKFSVSGEGEGDATYGKLTLKFIC...  1.301031    13.227210   \n",
       "3  KGEELFTGVVPILVELDGDVNGHKFSVSGEGEGDATYGKLTLKFIC...  1.301189    16.908839   \n",
       "4  KGEELFTGVVPILVELDGDVNGHKFSVSGEGEGDATYGKLTLKFIC...  3.708478    89.378991   \n",
       "\n",
       "   additive_trait  \n",
       "0       -0.051897  \n",
       "1       -0.051897  \n",
       "2       -0.051897  \n",
       "3       -0.051897  \n",
       "4       -0.051897  "
      ]
     },
     "execution_count": 22,
     "metadata": {},
     "output_type": "execute_result"
    }
   ],
   "source": [
    "gfp_df_percentiles = pd.read_csv('gfp_seq_val_percentiles.csv')\n",
    "del gfp_df_percentiles['Unnamed: 0']\n",
    "gfp_df_percentiles.head()"
   ]
  },
  {
   "cell_type": "code",
   "execution_count": 19,
   "metadata": {
    "collapsed": true
   },
   "outputs": [],
   "source": [
    "plt.hist(np.log(gfp_df_percentiles['val']),bins=30)\n",
    "plt.show()"
   ]
  },
  {
   "cell_type": "code",
   "execution_count": null,
   "metadata": {
    "collapsed": true
   },
   "outputs": [],
   "source": []
  },
  {
   "cell_type": "code",
   "execution_count": 122,
   "metadata": {},
   "outputs": [
    {
     "data": {
      "image/png": "[encoded data removed]",
      "text/plain": [
       "<Figure size 720x720 with 1 Axes>"
      ]
     },
     "metadata": {},
     "output_type": "display_data"
    }
   ],
   "source": [
    "plt.figure(figsize=[10,10])\n",
    "plt.scatter(gfp_df_percentiles['additive_trait'],gfp_df_percentiles['val'],s=0.5,color='red',alpha=0.25)\n",
    "plt.xlabel('Additive Trait',fontsize=16)\n",
    "plt.ylabel('Measured Values',fontsize=16)\n",
    "plt.title('Protein GB1 Global Epistasis using Information Maximization',fontsize=16)\n",
    "plt.tick_params(labelsize=16)\n",
    "#plt.savefig('GB1_global_epistasis_MI_max_full_data.png')\n",
    "plt.show()"
   ]
  },
  {
   "cell_type": "code",
   "execution_count": 155,
   "metadata": {},
   "outputs": [
    {
     "data": {
      "text/plain": [
       "seq               EVGE\n",
       "val           -4.73382\n",
       "val_scaled         0.7\n",
       "percentiles    70.0002\n",
       "Name: 5782, dtype: object"
      ]
     },
     "execution_count": 155,
     "metadata": {},
     "output_type": "execute_result"
    }
   ],
   "source": [
    "gfp_df_percentiles.loc[5782]"
   ]
  },
  {
   "cell_type": "code",
   "execution_count": 47,
   "metadata": {},
   "outputs": [
    {
     "data": {
      "text/plain": [
       "54025"
      ]
     },
     "execution_count": 47,
     "metadata": {},
     "output_type": "execute_result"
    }
   ],
   "source": [
    "len(gfp_df_percentiles)"
   ]
  },
  {
   "cell_type": "code",
   "execution_count": 23,
   "metadata": {
    "collapsed": true
   },
   "outputs": [],
   "source": [
    "val_scaled = gfp_df_percentiles['val']\n",
    "val_scaled = (val_scaled-min(val_scaled))/(max(val_scaled)-min(val_scaled))\n",
    "gfp_df_percentiles['val_scaled'] = val_scaled"
   ]
  },
  {
   "cell_type": "code",
   "execution_count": 24,
   "metadata": {
    "collapsed": true
   },
   "outputs": [],
   "source": [
    "bins_to_use = 100\n",
    "#counts,bins = np.histogram(gb1_df_10k['val'],bins=bins_to_use)\n",
    "counts,bins = np.histogram(val_scaled,bins=bins_to_use)"
   ]
  },
  {
   "cell_type": "code",
   "execution_count": 25,
   "metadata": {},
   "outputs": [
    {
     "data": {
      "text/plain": [
       "array([0.  , 0.01, 0.02, 0.03, 0.04, 0.05, 0.06, 0.07, 0.08, 0.09, 0.1 ,\n",
       "       0.11, 0.12, 0.13, 0.14, 0.15, 0.16, 0.17, 0.18, 0.19, 0.2 , 0.21,\n",
       "       0.22, 0.23, 0.24, 0.25, 0.26, 0.27, 0.28, 0.29, 0.3 , 0.31, 0.32,\n",
       "       0.33, 0.34, 0.35, 0.36, 0.37, 0.38, 0.39, 0.4 , 0.41, 0.42, 0.43,\n",
       "       0.44, 0.45, 0.46, 0.47, 0.48, 0.49, 0.5 , 0.51, 0.52, 0.53, 0.54,\n",
       "       0.55, 0.56, 0.57, 0.58, 0.59, 0.6 , 0.61, 0.62, 0.63, 0.64, 0.65,\n",
       "       0.66, 0.67, 0.68, 0.69, 0.7 , 0.71, 0.72, 0.73, 0.74, 0.75, 0.76,\n",
       "       0.77, 0.78, 0.79, 0.8 , 0.81, 0.82, 0.83, 0.84, 0.85, 0.86, 0.87,\n",
       "       0.88, 0.89, 0.9 , 0.91, 0.92, 0.93, 0.94, 0.95, 0.96, 0.97, 0.98,\n",
       "       0.99, 1.  ])"
      ]
     },
     "execution_count": 25,
     "metadata": {},
     "output_type": "execute_result"
    }
   ],
   "source": [
    "bins"
   ]
  },
  {
   "cell_type": "code",
   "execution_count": 26,
   "metadata": {
    "collapsed": true
   },
   "outputs": [],
   "source": [
    "#temp_df = gb1_df_10k[].copy()\n",
    "temp_df = gfp_df_percentiles.copy()"
   ]
  },
  {
   "cell_type": "code",
   "execution_count": 27,
   "metadata": {},
   "outputs": [
    {
     "data": {
      "text/plain": [
       "54025"
      ]
     },
     "execution_count": 27,
     "metadata": {},
     "output_type": "execute_result"
    }
   ],
   "source": [
    "len(temp_df['val_scaled'])"
   ]
  },
  {
   "cell_type": "code",
   "execution_count": 28,
   "metadata": {},
   "outputs": [
    {
     "name": "stdout",
     "output_type": "stream",
     "text": [
      "0 0.0 0.01\n",
      "1 0.01 0.02\n",
      "2 0.02 0.03\n",
      "3 0.03 0.04\n",
      "4 0.04 0.05\n",
      "5 0.05 0.06\n",
      "6 0.06 0.07\n",
      "7 0.07 0.08\n",
      "8 0.08 0.09\n",
      "9 0.09 0.1\n",
      "10 0.1 0.11\n",
      "11 0.11 0.12\n",
      "12 0.12 0.13\n",
      "13 0.13 0.14\n",
      "14 0.14 0.15\n",
      "15 0.15 0.16\n",
      "16 0.16 0.17\n",
      "17 0.17 0.18\n",
      "18 0.18 0.19\n",
      "19 0.19 0.2\n",
      "20 0.2 0.21\n",
      "21 0.21 0.22\n",
      "22 0.22 0.23\n",
      "23 0.23 0.24\n",
      "24 0.24 0.25\n",
      "25 0.25 0.26\n",
      "26 0.26 0.27\n",
      "27 0.27 0.28\n",
      "28 0.28 0.29\n",
      "29 0.29 0.3\n",
      "30 0.3 0.31\n",
      "31 0.31 0.32\n",
      "32 0.32 0.33\n",
      "33 0.33 0.34\n",
      "34 0.34 0.35000000000000003\n",
      "35 0.35000000000000003 0.36\n",
      "36 0.36 0.37\n",
      "37 0.37 0.38\n",
      "38 0.38 0.39\n",
      "39 0.39 0.4\n",
      "40 0.4 0.41000000000000003\n",
      "41 0.41000000000000003 0.42\n",
      "42 0.42 0.43\n",
      "43 0.43 0.44\n",
      "44 0.44 0.45\n",
      "45 0.45 0.46\n",
      "46 0.46 0.47000000000000003\n",
      "47 0.47000000000000003 0.48\n",
      "48 0.48 0.49\n",
      "49 0.49 0.5\n",
      "50 0.5 0.51\n",
      "51 0.51 0.52\n",
      "52 0.52 0.53\n",
      "53 0.53 0.54\n",
      "54 0.54 0.55\n",
      "55 0.55 0.56\n",
      "56 0.56 0.5700000000000001\n",
      "57 0.5700000000000001 0.58\n",
      "58 0.58 0.59\n",
      "59 0.59 0.6\n",
      "60 0.6 0.61\n",
      "61 0.61 0.62\n",
      "62 0.62 0.63\n",
      "63 0.63 0.64\n",
      "64 0.64 0.65\n",
      "65 0.65 0.66\n",
      "66 0.66 0.67\n",
      "67 0.67 0.68\n",
      "68 0.68 0.6900000000000001\n",
      "69 0.6900000000000001 0.7000000000000001\n",
      "70 0.7000000000000001 0.71\n",
      "71 0.71 0.72\n",
      "72 0.72 0.73\n",
      "73 0.73 0.74\n",
      "74 0.74 0.75\n",
      "75 0.75 0.76\n",
      "76 0.76 0.77\n",
      "77 0.77 0.78\n",
      "78 0.78 0.79\n",
      "79 0.79 0.8\n",
      "80 0.8 0.81\n",
      "81 0.81 0.8200000000000001\n",
      "82 0.8200000000000001 0.8300000000000001\n",
      "83 0.8300000000000001 0.84\n",
      "84 0.84 0.85\n",
      "85 0.85 0.86\n",
      "86 0.86 0.87\n",
      "87 0.87 0.88\n",
      "88 0.88 0.89\n",
      "89 0.89 0.9\n",
      "90 0.9 0.91\n",
      "91 0.91 0.92\n",
      "92 0.92 0.93\n",
      "93 0.93 0.9400000000000001\n",
      "94 0.9400000000000001 0.9500000000000001\n",
      "95 0.9500000000000001 0.96\n",
      "96 0.96 0.97\n",
      "97 0.97 0.98\n",
      "98 0.98 0.99\n",
      "99 0.99 1.0\n"
     ]
    }
   ],
   "source": [
    "for bin_index in range(len(bins)):\n",
    "    if(bin_index<len(bins)-1):\n",
    "        print(bin_index,bins[bin_index],bins[bin_index+1])     "
   ]
  },
  {
   "cell_type": "markdown",
   "metadata": {},
   "source": [
    "## Get sequences and bin numbers"
   ]
  },
  {
   "cell_type": "code",
   "execution_count": 29,
   "metadata": {
    "collapsed": true
   },
   "outputs": [],
   "source": [
    "sequence_bins_list = []\n",
    "# loop over every sequence\n",
    "for index, row in temp_df.iterrows():\n",
    "    # for each row, put sequences in the correct bin based on comparing values to bins\n",
    "    #print(index,row['seq'], row['val'])\n",
    "    for bin_index in range(len(bins)):\n",
    "        if(bin_index<len(bins)-1): # do go out of bounds\n",
    "            if((row['val_scaled']>= bins[bin_index]) and (row['val_scaled']<=bins[bin_index+1])):\n",
    "                #print('Seq: ',row['seq'],' going in bin: ',bin_index)\n",
    "                sequence_bins_list.append([row['seq'],bin_index])\n",
    "                \n",
    "                "
   ]
  },
  {
   "cell_type": "code",
   "execution_count": 30,
   "metadata": {
    "collapsed": true
   },
   "outputs": [],
   "source": [
    "sequence_counts_array = np.array(sequence_bins_list)"
   ]
  },
  {
   "cell_type": "code",
   "execution_count": 31,
   "metadata": {},
   "outputs": [
    {
     "data": {
      "text/plain": [
       "54025"
      ]
     },
     "execution_count": 31,
     "metadata": {},
     "output_type": "execute_result"
    }
   ],
   "source": [
    "len(sequence_counts_array)"
   ]
  },
  {
   "cell_type": "code",
   "execution_count": 32,
   "metadata": {},
   "outputs": [
    {
     "data": {
      "text/html": [
       "<div>\n",
       "<style scoped>\n",
       "    .dataframe tbody tr th:only-of-type {\n",
       "        vertical-align: middle;\n",
       "    }\n",
       "\n",
       "    .dataframe tbody tr th {\n",
       "        vertical-align: top;\n",
       "    }\n",
       "\n",
       "    .dataframe thead th {\n",
       "        text-align: right;\n",
       "    }\n",
       "</style>\n",
       "<table border=\"1\" class=\"dataframe\">\n",
       "  <thead>\n",
       "    <tr style=\"text-align: right;\">\n",
       "      <th></th>\n",
       "      <th>bin</th>\n",
       "      <th>seq</th>\n",
       "    </tr>\n",
       "  </thead>\n",
       "  <tbody>\n",
       "    <tr>\n",
       "      <th>0</th>\n",
       "      <td>85</td>\n",
       "      <td>KGEELFTGVVPILVELDGDVNGHKFSVSGEGEGDATYGKLTLKFIC...</td>\n",
       "    </tr>\n",
       "    <tr>\n",
       "      <th>1</th>\n",
       "      <td>0</td>\n",
       "      <td>KGEELFTGVVPILVELDGDVNGHKFSVSGEGEGDATYGKLTLKFIC...</td>\n",
       "    </tr>\n",
       "    <tr>\n",
       "      <th>2</th>\n",
       "      <td>0</td>\n",
       "      <td>KGEELFTGVVPILVELDGDVNGHKFSVSGEGEGDATYGKLTLKFIC...</td>\n",
       "    </tr>\n",
       "    <tr>\n",
       "      <th>3</th>\n",
       "      <td>0</td>\n",
       "      <td>KGEELFTGVVPILVELDGDVNGHKFSVSGEGEGDATYGKLTLKFIC...</td>\n",
       "    </tr>\n",
       "    <tr>\n",
       "      <th>4</th>\n",
       "      <td>85</td>\n",
       "      <td>KGEELFTGVVPILVELDGDVNGHKFSVSGEGEGDATYGKLTLKFIC...</td>\n",
       "    </tr>\n",
       "  </tbody>\n",
       "</table>\n",
       "</div>"
      ],
      "text/plain": [
       "  bin                                                seq\n",
       "0  85  KGEELFTGVVPILVELDGDVNGHKFSVSGEGEGDATYGKLTLKFIC...\n",
       "1   0  KGEELFTGVVPILVELDGDVNGHKFSVSGEGEGDATYGKLTLKFIC...\n",
       "2   0  KGEELFTGVVPILVELDGDVNGHKFSVSGEGEGDATYGKLTLKFIC...\n",
       "3   0  KGEELFTGVVPILVELDGDVNGHKFSVSGEGEGDATYGKLTLKFIC...\n",
       "4  85  KGEELFTGVVPILVELDGDVNGHKFSVSGEGEGDATYGKLTLKFIC..."
      ]
     },
     "execution_count": 32,
     "metadata": {},
     "output_type": "execute_result"
    }
   ],
   "source": [
    "sequence_counts_array[:,1]\n",
    "seq_bin_df = pd.DataFrame({'seq':sequence_counts_array[:,0],'bin':sequence_counts_array[:,1]})\n",
    "seq_bin_df.head()"
   ]
  },
  {
   "cell_type": "code",
   "execution_count": 33,
   "metadata": {},
   "outputs": [
    {
     "data": {
      "text/plain": [
       "54025"
      ]
     },
     "execution_count": 33,
     "metadata": {},
     "output_type": "execute_result"
    }
   ],
   "source": [
    "len(seq_bin_df)"
   ]
  },
  {
   "cell_type": "markdown",
   "metadata": {},
   "source": [
    "#### Un-comment to train on subset of data"
   ]
  },
  {
   "cell_type": "code",
   "execution_count": 54,
   "metadata": {
    "collapsed": true
   },
   "outputs": [],
   "source": [
    "#seq_bin_df = seq_bin_df.sample(10000).copy()"
   ]
  },
  {
   "cell_type": "code",
   "execution_count": 34,
   "metadata": {},
   "outputs": [
    {
     "name": "stdout",
     "output_type": "stream",
     "text": [
      "0\n",
      "99\n"
     ]
    }
   ],
   "source": [
    "print(min(sequence_counts_array[:,1].astype('int')))\n",
    "print(max(sequence_counts_array[:,1].astype('int')))"
   ]
  },
  {
   "cell_type": "code",
   "execution_count": 35,
   "metadata": {
    "collapsed": true
   },
   "outputs": [],
   "source": [
    "count_cols = []\n",
    "for bin_index in range(len(bins)-1):\n",
    "    count_cols.append('ct_'+str(bin_index))"
   ]
  },
  {
   "cell_type": "code",
   "execution_count": 36,
   "metadata": {},
   "outputs": [
    {
     "data": {
      "text/plain": [
       "['ct_0',\n",
       " 'ct_1',\n",
       " 'ct_2',\n",
       " 'ct_3',\n",
       " 'ct_4',\n",
       " 'ct_5',\n",
       " 'ct_6',\n",
       " 'ct_7',\n",
       " 'ct_8',\n",
       " 'ct_9',\n",
       " 'ct_10',\n",
       " 'ct_11',\n",
       " 'ct_12',\n",
       " 'ct_13',\n",
       " 'ct_14',\n",
       " 'ct_15',\n",
       " 'ct_16',\n",
       " 'ct_17',\n",
       " 'ct_18',\n",
       " 'ct_19',\n",
       " 'ct_20',\n",
       " 'ct_21',\n",
       " 'ct_22',\n",
       " 'ct_23',\n",
       " 'ct_24',\n",
       " 'ct_25',\n",
       " 'ct_26',\n",
       " 'ct_27',\n",
       " 'ct_28',\n",
       " 'ct_29',\n",
       " 'ct_30',\n",
       " 'ct_31',\n",
       " 'ct_32',\n",
       " 'ct_33',\n",
       " 'ct_34',\n",
       " 'ct_35',\n",
       " 'ct_36',\n",
       " 'ct_37',\n",
       " 'ct_38',\n",
       " 'ct_39',\n",
       " 'ct_40',\n",
       " 'ct_41',\n",
       " 'ct_42',\n",
       " 'ct_43',\n",
       " 'ct_44',\n",
       " 'ct_45',\n",
       " 'ct_46',\n",
       " 'ct_47',\n",
       " 'ct_48',\n",
       " 'ct_49',\n",
       " 'ct_50',\n",
       " 'ct_51',\n",
       " 'ct_52',\n",
       " 'ct_53',\n",
       " 'ct_54',\n",
       " 'ct_55',\n",
       " 'ct_56',\n",
       " 'ct_57',\n",
       " 'ct_58',\n",
       " 'ct_59',\n",
       " 'ct_60',\n",
       " 'ct_61',\n",
       " 'ct_62',\n",
       " 'ct_63',\n",
       " 'ct_64',\n",
       " 'ct_65',\n",
       " 'ct_66',\n",
       " 'ct_67',\n",
       " 'ct_68',\n",
       " 'ct_69',\n",
       " 'ct_70',\n",
       " 'ct_71',\n",
       " 'ct_72',\n",
       " 'ct_73',\n",
       " 'ct_74',\n",
       " 'ct_75',\n",
       " 'ct_76',\n",
       " 'ct_77',\n",
       " 'ct_78',\n",
       " 'ct_79',\n",
       " 'ct_80',\n",
       " 'ct_81',\n",
       " 'ct_82',\n",
       " 'ct_83',\n",
       " 'ct_84',\n",
       " 'ct_85',\n",
       " 'ct_86',\n",
       " 'ct_87',\n",
       " 'ct_88',\n",
       " 'ct_89',\n",
       " 'ct_90',\n",
       " 'ct_91',\n",
       " 'ct_92',\n",
       " 'ct_93',\n",
       " 'ct_94',\n",
       " 'ct_95',\n",
       " 'ct_96',\n",
       " 'ct_97',\n",
       " 'ct_98',\n",
       " 'ct_99']"
      ]
     },
     "execution_count": 36,
     "metadata": {},
     "output_type": "execute_result"
    }
   ],
   "source": [
    "count_cols"
   ]
  },
  {
   "cell_type": "code",
   "execution_count": 37,
   "metadata": {
    "collapsed": true
   },
   "outputs": [],
   "source": [
    "# append count columns to the dataframe\n",
    "#c ount_cols are ['ct_0','ct_1','ct_2','ct_3','ct_4','ct_5','ct_6','ct_7','ct_8','ct_9'] for bins = 10\n",
    "d = dict.fromkeys(count_cols, 0)\n",
    "seq_counts_df = seq_bin_df.assign(**d).copy()"
   ]
  },
  {
   "cell_type": "code",
   "execution_count": 38,
   "metadata": {},
   "outputs": [
    {
     "data": {
      "text/html": [
       "<div>\n",
       "<style scoped>\n",
       "    .dataframe tbody tr th:only-of-type {\n",
       "        vertical-align: middle;\n",
       "    }\n",
       "\n",
       "    .dataframe tbody tr th {\n",
       "        vertical-align: top;\n",
       "    }\n",
       "\n",
       "    .dataframe thead th {\n",
       "        text-align: right;\n",
       "    }\n",
       "</style>\n",
       "<table border=\"1\" class=\"dataframe\">\n",
       "  <thead>\n",
       "    <tr style=\"text-align: right;\">\n",
       "      <th></th>\n",
       "      <th>bin</th>\n",
       "      <th>seq</th>\n",
       "      <th>ct_0</th>\n",
       "      <th>ct_1</th>\n",
       "      <th>ct_2</th>\n",
       "      <th>ct_3</th>\n",
       "      <th>ct_4</th>\n",
       "      <th>ct_5</th>\n",
       "      <th>ct_6</th>\n",
       "      <th>ct_7</th>\n",
       "      <th>...</th>\n",
       "      <th>ct_90</th>\n",
       "      <th>ct_91</th>\n",
       "      <th>ct_92</th>\n",
       "      <th>ct_93</th>\n",
       "      <th>ct_94</th>\n",
       "      <th>ct_95</th>\n",
       "      <th>ct_96</th>\n",
       "      <th>ct_97</th>\n",
       "      <th>ct_98</th>\n",
       "      <th>ct_99</th>\n",
       "    </tr>\n",
       "  </thead>\n",
       "  <tbody>\n",
       "    <tr>\n",
       "      <th>0</th>\n",
       "      <td>85</td>\n",
       "      <td>KGEELFTGVVPILVELDGDVNGHKFSVSGEGEGDATYGKLTLKFIC...</td>\n",
       "      <td>0</td>\n",
       "      <td>0</td>\n",
       "      <td>0</td>\n",
       "      <td>0</td>\n",
       "      <td>0</td>\n",
       "      <td>0</td>\n",
       "      <td>0</td>\n",
       "      <td>0</td>\n",
       "      <td>...</td>\n",
       "      <td>0</td>\n",
       "      <td>0</td>\n",
       "      <td>0</td>\n",
       "      <td>0</td>\n",
       "      <td>0</td>\n",
       "      <td>0</td>\n",
       "      <td>0</td>\n",
       "      <td>0</td>\n",
       "      <td>0</td>\n",
       "      <td>0</td>\n",
       "    </tr>\n",
       "    <tr>\n",
       "      <th>1</th>\n",
       "      <td>0</td>\n",
       "      <td>KGEELFTGVVPILVELDGDVNGHKFSVSGEGEGDATYGKLTLKFIC...</td>\n",
       "      <td>0</td>\n",
       "      <td>0</td>\n",
       "      <td>0</td>\n",
       "      <td>0</td>\n",
       "      <td>0</td>\n",
       "      <td>0</td>\n",
       "      <td>0</td>\n",
       "      <td>0</td>\n",
       "      <td>...</td>\n",
       "      <td>0</td>\n",
       "      <td>0</td>\n",
       "      <td>0</td>\n",
       "      <td>0</td>\n",
       "      <td>0</td>\n",
       "      <td>0</td>\n",
       "      <td>0</td>\n",
       "      <td>0</td>\n",
       "      <td>0</td>\n",
       "      <td>0</td>\n",
       "    </tr>\n",
       "    <tr>\n",
       "      <th>2</th>\n",
       "      <td>0</td>\n",
       "      <td>KGEELFTGVVPILVELDGDVNGHKFSVSGEGEGDATYGKLTLKFIC...</td>\n",
       "      <td>0</td>\n",
       "      <td>0</td>\n",
       "      <td>0</td>\n",
       "      <td>0</td>\n",
       "      <td>0</td>\n",
       "      <td>0</td>\n",
       "      <td>0</td>\n",
       "      <td>0</td>\n",
       "      <td>...</td>\n",
       "      <td>0</td>\n",
       "      <td>0</td>\n",
       "      <td>0</td>\n",
       "      <td>0</td>\n",
       "      <td>0</td>\n",
       "      <td>0</td>\n",
       "      <td>0</td>\n",
       "      <td>0</td>\n",
       "      <td>0</td>\n",
       "      <td>0</td>\n",
       "    </tr>\n",
       "    <tr>\n",
       "      <th>3</th>\n",
       "      <td>0</td>\n",
       "      <td>KGEELFTGVVPILVELDGDVNGHKFSVSGEGEGDATYGKLTLKFIC...</td>\n",
       "      <td>0</td>\n",
       "      <td>0</td>\n",
       "      <td>0</td>\n",
       "      <td>0</td>\n",
       "      <td>0</td>\n",
       "      <td>0</td>\n",
       "      <td>0</td>\n",
       "      <td>0</td>\n",
       "      <td>...</td>\n",
       "      <td>0</td>\n",
       "      <td>0</td>\n",
       "      <td>0</td>\n",
       "      <td>0</td>\n",
       "      <td>0</td>\n",
       "      <td>0</td>\n",
       "      <td>0</td>\n",
       "      <td>0</td>\n",
       "      <td>0</td>\n",
       "      <td>0</td>\n",
       "    </tr>\n",
       "    <tr>\n",
       "      <th>4</th>\n",
       "      <td>85</td>\n",
       "      <td>KGEELFTGVVPILVELDGDVNGHKFSVSGEGEGDATYGKLTLKFIC...</td>\n",
       "      <td>0</td>\n",
       "      <td>0</td>\n",
       "      <td>0</td>\n",
       "      <td>0</td>\n",
       "      <td>0</td>\n",
       "      <td>0</td>\n",
       "      <td>0</td>\n",
       "      <td>0</td>\n",
       "      <td>...</td>\n",
       "      <td>0</td>\n",
       "      <td>0</td>\n",
       "      <td>0</td>\n",
       "      <td>0</td>\n",
       "      <td>0</td>\n",
       "      <td>0</td>\n",
       "      <td>0</td>\n",
       "      <td>0</td>\n",
       "      <td>0</td>\n",
       "      <td>0</td>\n",
       "    </tr>\n",
       "  </tbody>\n",
       "</table>\n",
       "<p>5 rows × 102 columns</p>\n",
       "</div>"
      ],
      "text/plain": [
       "  bin                                                seq  ct_0  ct_1  ct_2  \\\n",
       "0  85  KGEELFTGVVPILVELDGDVNGHKFSVSGEGEGDATYGKLTLKFIC...     0     0     0   \n",
       "1   0  KGEELFTGVVPILVELDGDVNGHKFSVSGEGEGDATYGKLTLKFIC...     0     0     0   \n",
       "2   0  KGEELFTGVVPILVELDGDVNGHKFSVSGEGEGDATYGKLTLKFIC...     0     0     0   \n",
       "3   0  KGEELFTGVVPILVELDGDVNGHKFSVSGEGEGDATYGKLTLKFIC...     0     0     0   \n",
       "4  85  KGEELFTGVVPILVELDGDVNGHKFSVSGEGEGDATYGKLTLKFIC...     0     0     0   \n",
       "\n",
       "   ct_3  ct_4  ct_5  ct_6  ct_7  ...    ct_90  ct_91  ct_92  ct_93  ct_94  \\\n",
       "0     0     0     0     0     0  ...        0      0      0      0      0   \n",
       "1     0     0     0     0     0  ...        0      0      0      0      0   \n",
       "2     0     0     0     0     0  ...        0      0      0      0      0   \n",
       "3     0     0     0     0     0  ...        0      0      0      0      0   \n",
       "4     0     0     0     0     0  ...        0      0      0      0      0   \n",
       "\n",
       "   ct_95  ct_96  ct_97  ct_98  ct_99  \n",
       "0      0      0      0      0      0  \n",
       "1      0      0      0      0      0  \n",
       "2      0      0      0      0      0  \n",
       "3      0      0      0      0      0  \n",
       "4      0      0      0      0      0  \n",
       "\n",
       "[5 rows x 102 columns]"
      ]
     },
     "execution_count": 38,
     "metadata": {},
     "output_type": "execute_result"
    }
   ],
   "source": [
    "seq_counts_df.head()"
   ]
  },
  {
   "cell_type": "code",
   "execution_count": 39,
   "metadata": {},
   "outputs": [
    {
     "data": {
      "text/html": [
       "<div>\n",
       "<style scoped>\n",
       "    .dataframe tbody tr th:only-of-type {\n",
       "        vertical-align: middle;\n",
       "    }\n",
       "\n",
       "    .dataframe tbody tr th {\n",
       "        vertical-align: top;\n",
       "    }\n",
       "\n",
       "    .dataframe thead th {\n",
       "        text-align: right;\n",
       "    }\n",
       "</style>\n",
       "<table border=\"1\" class=\"dataframe\">\n",
       "  <thead>\n",
       "    <tr style=\"text-align: right;\">\n",
       "      <th></th>\n",
       "      <th>bin</th>\n",
       "      <th>seq</th>\n",
       "      <th>ct_0</th>\n",
       "      <th>ct_1</th>\n",
       "      <th>ct_2</th>\n",
       "      <th>ct_3</th>\n",
       "      <th>ct_4</th>\n",
       "      <th>ct_5</th>\n",
       "      <th>ct_6</th>\n",
       "      <th>ct_7</th>\n",
       "      <th>...</th>\n",
       "      <th>ct_90</th>\n",
       "      <th>ct_91</th>\n",
       "      <th>ct_92</th>\n",
       "      <th>ct_93</th>\n",
       "      <th>ct_94</th>\n",
       "      <th>ct_95</th>\n",
       "      <th>ct_96</th>\n",
       "      <th>ct_97</th>\n",
       "      <th>ct_98</th>\n",
       "      <th>ct_99</th>\n",
       "    </tr>\n",
       "  </thead>\n",
       "  <tbody>\n",
       "    <tr>\n",
       "      <th>0</th>\n",
       "      <td>85</td>\n",
       "      <td>KGEELFTGVVPILVELDGDVNGHKFSVSGEGEGDATYGKLTLKFIC...</td>\n",
       "      <td>0</td>\n",
       "      <td>0</td>\n",
       "      <td>0</td>\n",
       "      <td>0</td>\n",
       "      <td>0</td>\n",
       "      <td>0</td>\n",
       "      <td>0</td>\n",
       "      <td>0</td>\n",
       "      <td>...</td>\n",
       "      <td>0</td>\n",
       "      <td>0</td>\n",
       "      <td>0</td>\n",
       "      <td>0</td>\n",
       "      <td>0</td>\n",
       "      <td>0</td>\n",
       "      <td>0</td>\n",
       "      <td>0</td>\n",
       "      <td>0</td>\n",
       "      <td>0</td>\n",
       "    </tr>\n",
       "    <tr>\n",
       "      <th>1</th>\n",
       "      <td>0</td>\n",
       "      <td>KGEELFTGVVPILVELDGDVNGHKFSVSGEGEGDATYGKLTLKFIC...</td>\n",
       "      <td>0</td>\n",
       "      <td>0</td>\n",
       "      <td>0</td>\n",
       "      <td>0</td>\n",
       "      <td>0</td>\n",
       "      <td>0</td>\n",
       "      <td>0</td>\n",
       "      <td>0</td>\n",
       "      <td>...</td>\n",
       "      <td>0</td>\n",
       "      <td>0</td>\n",
       "      <td>0</td>\n",
       "      <td>0</td>\n",
       "      <td>0</td>\n",
       "      <td>0</td>\n",
       "      <td>0</td>\n",
       "      <td>0</td>\n",
       "      <td>0</td>\n",
       "      <td>0</td>\n",
       "    </tr>\n",
       "    <tr>\n",
       "      <th>2</th>\n",
       "      <td>0</td>\n",
       "      <td>KGEELFTGVVPILVELDGDVNGHKFSVSGEGEGDATYGKLTLKFIC...</td>\n",
       "      <td>0</td>\n",
       "      <td>0</td>\n",
       "      <td>0</td>\n",
       "      <td>0</td>\n",
       "      <td>0</td>\n",
       "      <td>0</td>\n",
       "      <td>0</td>\n",
       "      <td>0</td>\n",
       "      <td>...</td>\n",
       "      <td>0</td>\n",
       "      <td>0</td>\n",
       "      <td>0</td>\n",
       "      <td>0</td>\n",
       "      <td>0</td>\n",
       "      <td>0</td>\n",
       "      <td>0</td>\n",
       "      <td>0</td>\n",
       "      <td>0</td>\n",
       "      <td>0</td>\n",
       "    </tr>\n",
       "    <tr>\n",
       "      <th>3</th>\n",
       "      <td>0</td>\n",
       "      <td>KGEELFTGVVPILVELDGDVNGHKFSVSGEGEGDATYGKLTLKFIC...</td>\n",
       "      <td>0</td>\n",
       "      <td>0</td>\n",
       "      <td>0</td>\n",
       "      <td>0</td>\n",
       "      <td>0</td>\n",
       "      <td>0</td>\n",
       "      <td>0</td>\n",
       "      <td>0</td>\n",
       "      <td>...</td>\n",
       "      <td>0</td>\n",
       "      <td>0</td>\n",
       "      <td>0</td>\n",
       "      <td>0</td>\n",
       "      <td>0</td>\n",
       "      <td>0</td>\n",
       "      <td>0</td>\n",
       "      <td>0</td>\n",
       "      <td>0</td>\n",
       "      <td>0</td>\n",
       "    </tr>\n",
       "    <tr>\n",
       "      <th>4</th>\n",
       "      <td>85</td>\n",
       "      <td>KGEELFTGVVPILVELDGDVNGHKFSVSGEGEGDATYGKLTLKFIC...</td>\n",
       "      <td>0</td>\n",
       "      <td>0</td>\n",
       "      <td>0</td>\n",
       "      <td>0</td>\n",
       "      <td>0</td>\n",
       "      <td>0</td>\n",
       "      <td>0</td>\n",
       "      <td>0</td>\n",
       "      <td>...</td>\n",
       "      <td>0</td>\n",
       "      <td>0</td>\n",
       "      <td>0</td>\n",
       "      <td>0</td>\n",
       "      <td>0</td>\n",
       "      <td>0</td>\n",
       "      <td>0</td>\n",
       "      <td>0</td>\n",
       "      <td>0</td>\n",
       "      <td>0</td>\n",
       "    </tr>\n",
       "  </tbody>\n",
       "</table>\n",
       "<p>5 rows × 102 columns</p>\n",
       "</div>"
      ],
      "text/plain": [
       "  bin                                                seq  ct_0  ct_1  ct_2  \\\n",
       "0  85  KGEELFTGVVPILVELDGDVNGHKFSVSGEGEGDATYGKLTLKFIC...     0     0     0   \n",
       "1   0  KGEELFTGVVPILVELDGDVNGHKFSVSGEGEGDATYGKLTLKFIC...     0     0     0   \n",
       "2   0  KGEELFTGVVPILVELDGDVNGHKFSVSGEGEGDATYGKLTLKFIC...     0     0     0   \n",
       "3   0  KGEELFTGVVPILVELDGDVNGHKFSVSGEGEGDATYGKLTLKFIC...     0     0     0   \n",
       "4  85  KGEELFTGVVPILVELDGDVNGHKFSVSGEGEGDATYGKLTLKFIC...     0     0     0   \n",
       "\n",
       "   ct_3  ct_4  ct_5  ct_6  ct_7  ...    ct_90  ct_91  ct_92  ct_93  ct_94  \\\n",
       "0     0     0     0     0     0  ...        0      0      0      0      0   \n",
       "1     0     0     0     0     0  ...        0      0      0      0      0   \n",
       "2     0     0     0     0     0  ...        0      0      0      0      0   \n",
       "3     0     0     0     0     0  ...        0      0      0      0      0   \n",
       "4     0     0     0     0     0  ...        0      0      0      0      0   \n",
       "\n",
       "   ct_95  ct_96  ct_97  ct_98  ct_99  \n",
       "0      0      0      0      0      0  \n",
       "1      0      0      0      0      0  \n",
       "2      0      0      0      0      0  \n",
       "3      0      0      0      0      0  \n",
       "4      0      0      0      0      0  \n",
       "\n",
       "[5 rows x 102 columns]"
      ]
     },
     "execution_count": 39,
     "metadata": {},
     "output_type": "execute_result"
    }
   ],
   "source": [
    "seq_counts_df = seq_counts_df.copy()\n",
    "seq_counts_df.reset_index(inplace=True)\n",
    "del seq_counts_df['index']\n",
    "seq_counts_df.head()"
   ]
  },
  {
   "cell_type": "code",
   "execution_count": 43,
   "metadata": {},
   "outputs": [
    {
     "data": {
      "text/plain": [
       "54025"
      ]
     },
     "execution_count": 43,
     "metadata": {},
     "output_type": "execute_result"
    }
   ],
   "source": [
    "len(seq_counts_df)"
   ]
  },
  {
   "cell_type": "markdown",
   "metadata": {},
   "source": [
    "## populate counts columns"
   ]
  },
  {
   "cell_type": "code",
   "execution_count": 41,
   "metadata": {
    "collapsed": true
   },
   "outputs": [],
   "source": [
    "number_cols_to_displace = 2\n",
    "\n",
    "for row_index in range(len(seq_counts_df['bin'])):\n",
    "    count_col = seq_counts_df.columns[int(seq_counts_df['bin'][row_index])+number_cols_to_displace]\n",
    "    seq_counts_df.loc[row_index,count_col] = 1\n",
    "\n",
    "    "
   ]
  },
  {
   "cell_type": "code",
   "execution_count": 42,
   "metadata": {},
   "outputs": [
    {
     "data": {
      "text/html": [
       "<div>\n",
       "<style scoped>\n",
       "    .dataframe tbody tr th:only-of-type {\n",
       "        vertical-align: middle;\n",
       "    }\n",
       "\n",
       "    .dataframe tbody tr th {\n",
       "        vertical-align: top;\n",
       "    }\n",
       "\n",
       "    .dataframe thead th {\n",
       "        text-align: right;\n",
       "    }\n",
       "</style>\n",
       "<table border=\"1\" class=\"dataframe\">\n",
       "  <thead>\n",
       "    <tr style=\"text-align: right;\">\n",
       "      <th></th>\n",
       "      <th>bin</th>\n",
       "      <th>seq</th>\n",
       "      <th>ct_0</th>\n",
       "      <th>ct_1</th>\n",
       "      <th>ct_2</th>\n",
       "      <th>ct_3</th>\n",
       "      <th>ct_4</th>\n",
       "      <th>ct_5</th>\n",
       "      <th>ct_6</th>\n",
       "      <th>ct_7</th>\n",
       "      <th>...</th>\n",
       "      <th>ct_90</th>\n",
       "      <th>ct_91</th>\n",
       "      <th>ct_92</th>\n",
       "      <th>ct_93</th>\n",
       "      <th>ct_94</th>\n",
       "      <th>ct_95</th>\n",
       "      <th>ct_96</th>\n",
       "      <th>ct_97</th>\n",
       "      <th>ct_98</th>\n",
       "      <th>ct_99</th>\n",
       "    </tr>\n",
       "  </thead>\n",
       "  <tbody>\n",
       "    <tr>\n",
       "      <th>0</th>\n",
       "      <td>85</td>\n",
       "      <td>KGEELFTGVVPILVELDGDVNGHKFSVSGEGEGDATYGKLTLKFIC...</td>\n",
       "      <td>0</td>\n",
       "      <td>0</td>\n",
       "      <td>0</td>\n",
       "      <td>0</td>\n",
       "      <td>0</td>\n",
       "      <td>0</td>\n",
       "      <td>0</td>\n",
       "      <td>0</td>\n",
       "      <td>...</td>\n",
       "      <td>0</td>\n",
       "      <td>0</td>\n",
       "      <td>0</td>\n",
       "      <td>0</td>\n",
       "      <td>0</td>\n",
       "      <td>0</td>\n",
       "      <td>0</td>\n",
       "      <td>0</td>\n",
       "      <td>0</td>\n",
       "      <td>0</td>\n",
       "    </tr>\n",
       "    <tr>\n",
       "      <th>1</th>\n",
       "      <td>0</td>\n",
       "      <td>KGEELFTGVVPILVELDGDVNGHKFSVSGEGEGDATYGKLTLKFIC...</td>\n",
       "      <td>1</td>\n",
       "      <td>0</td>\n",
       "      <td>0</td>\n",
       "      <td>0</td>\n",
       "      <td>0</td>\n",
       "      <td>0</td>\n",
       "      <td>0</td>\n",
       "      <td>0</td>\n",
       "      <td>...</td>\n",
       "      <td>0</td>\n",
       "      <td>0</td>\n",
       "      <td>0</td>\n",
       "      <td>0</td>\n",
       "      <td>0</td>\n",
       "      <td>0</td>\n",
       "      <td>0</td>\n",
       "      <td>0</td>\n",
       "      <td>0</td>\n",
       "      <td>0</td>\n",
       "    </tr>\n",
       "    <tr>\n",
       "      <th>2</th>\n",
       "      <td>0</td>\n",
       "      <td>KGEELFTGVVPILVELDGDVNGHKFSVSGEGEGDATYGKLTLKFIC...</td>\n",
       "      <td>1</td>\n",
       "      <td>0</td>\n",
       "      <td>0</td>\n",
       "      <td>0</td>\n",
       "      <td>0</td>\n",
       "      <td>0</td>\n",
       "      <td>0</td>\n",
       "      <td>0</td>\n",
       "      <td>...</td>\n",
       "      <td>0</td>\n",
       "      <td>0</td>\n",
       "      <td>0</td>\n",
       "      <td>0</td>\n",
       "      <td>0</td>\n",
       "      <td>0</td>\n",
       "      <td>0</td>\n",
       "      <td>0</td>\n",
       "      <td>0</td>\n",
       "      <td>0</td>\n",
       "    </tr>\n",
       "    <tr>\n",
       "      <th>3</th>\n",
       "      <td>0</td>\n",
       "      <td>KGEELFTGVVPILVELDGDVNGHKFSVSGEGEGDATYGKLTLKFIC...</td>\n",
       "      <td>1</td>\n",
       "      <td>0</td>\n",
       "      <td>0</td>\n",
       "      <td>0</td>\n",
       "      <td>0</td>\n",
       "      <td>0</td>\n",
       "      <td>0</td>\n",
       "      <td>0</td>\n",
       "      <td>...</td>\n",
       "      <td>0</td>\n",
       "      <td>0</td>\n",
       "      <td>0</td>\n",
       "      <td>0</td>\n",
       "      <td>0</td>\n",
       "      <td>0</td>\n",
       "      <td>0</td>\n",
       "      <td>0</td>\n",
       "      <td>0</td>\n",
       "      <td>0</td>\n",
       "    </tr>\n",
       "    <tr>\n",
       "      <th>4</th>\n",
       "      <td>85</td>\n",
       "      <td>KGEELFTGVVPILVELDGDVNGHKFSVSGEGEGDATYGKLTLKFIC...</td>\n",
       "      <td>0</td>\n",
       "      <td>0</td>\n",
       "      <td>0</td>\n",
       "      <td>0</td>\n",
       "      <td>0</td>\n",
       "      <td>0</td>\n",
       "      <td>0</td>\n",
       "      <td>0</td>\n",
       "      <td>...</td>\n",
       "      <td>0</td>\n",
       "      <td>0</td>\n",
       "      <td>0</td>\n",
       "      <td>0</td>\n",
       "      <td>0</td>\n",
       "      <td>0</td>\n",
       "      <td>0</td>\n",
       "      <td>0</td>\n",
       "      <td>0</td>\n",
       "      <td>0</td>\n",
       "    </tr>\n",
       "    <tr>\n",
       "      <th>5</th>\n",
       "      <td>80</td>\n",
       "      <td>KGEELFTGVVPILVELDGDVNGHKFSVSGEGEGDATYGKLTLKFIC...</td>\n",
       "      <td>0</td>\n",
       "      <td>0</td>\n",
       "      <td>0</td>\n",
       "      <td>0</td>\n",
       "      <td>0</td>\n",
       "      <td>0</td>\n",
       "      <td>0</td>\n",
       "      <td>0</td>\n",
       "      <td>...</td>\n",
       "      <td>0</td>\n",
       "      <td>0</td>\n",
       "      <td>0</td>\n",
       "      <td>0</td>\n",
       "      <td>0</td>\n",
       "      <td>0</td>\n",
       "      <td>0</td>\n",
       "      <td>0</td>\n",
       "      <td>0</td>\n",
       "      <td>0</td>\n",
       "    </tr>\n",
       "    <tr>\n",
       "      <th>6</th>\n",
       "      <td>7</td>\n",
       "      <td>KGEELFTGVVPILVELDGDVNGHKFSVSGEGEGDATYGKLTLKFIC...</td>\n",
       "      <td>0</td>\n",
       "      <td>0</td>\n",
       "      <td>0</td>\n",
       "      <td>0</td>\n",
       "      <td>0</td>\n",
       "      <td>0</td>\n",
       "      <td>0</td>\n",
       "      <td>1</td>\n",
       "      <td>...</td>\n",
       "      <td>0</td>\n",
       "      <td>0</td>\n",
       "      <td>0</td>\n",
       "      <td>0</td>\n",
       "      <td>0</td>\n",
       "      <td>0</td>\n",
       "      <td>0</td>\n",
       "      <td>0</td>\n",
       "      <td>0</td>\n",
       "      <td>0</td>\n",
       "    </tr>\n",
       "    <tr>\n",
       "      <th>7</th>\n",
       "      <td>83</td>\n",
       "      <td>KGEELFTGVVPILVELDGDVNGHKFSVSGEGEGDATYGKLTLKFIC...</td>\n",
       "      <td>0</td>\n",
       "      <td>0</td>\n",
       "      <td>0</td>\n",
       "      <td>0</td>\n",
       "      <td>0</td>\n",
       "      <td>0</td>\n",
       "      <td>0</td>\n",
       "      <td>0</td>\n",
       "      <td>...</td>\n",
       "      <td>0</td>\n",
       "      <td>0</td>\n",
       "      <td>0</td>\n",
       "      <td>0</td>\n",
       "      <td>0</td>\n",
       "      <td>0</td>\n",
       "      <td>0</td>\n",
       "      <td>0</td>\n",
       "      <td>0</td>\n",
       "      <td>0</td>\n",
       "    </tr>\n",
       "    <tr>\n",
       "      <th>8</th>\n",
       "      <td>80</td>\n",
       "      <td>KGEELFTGVVPILVELDGDVNGHKFSVSGEGEGDATYGKLTLKFIC...</td>\n",
       "      <td>0</td>\n",
       "      <td>0</td>\n",
       "      <td>0</td>\n",
       "      <td>0</td>\n",
       "      <td>0</td>\n",
       "      <td>0</td>\n",
       "      <td>0</td>\n",
       "      <td>0</td>\n",
       "      <td>...</td>\n",
       "      <td>0</td>\n",
       "      <td>0</td>\n",
       "      <td>0</td>\n",
       "      <td>0</td>\n",
       "      <td>0</td>\n",
       "      <td>0</td>\n",
       "      <td>0</td>\n",
       "      <td>0</td>\n",
       "      <td>0</td>\n",
       "      <td>0</td>\n",
       "    </tr>\n",
       "    <tr>\n",
       "      <th>9</th>\n",
       "      <td>0</td>\n",
       "      <td>KGEELFTGVVPILVELDGDVNGHKFSVSGEGEGDATYGKLTLKFIC...</td>\n",
       "      <td>1</td>\n",
       "      <td>0</td>\n",
       "      <td>0</td>\n",
       "      <td>0</td>\n",
       "      <td>0</td>\n",
       "      <td>0</td>\n",
       "      <td>0</td>\n",
       "      <td>0</td>\n",
       "      <td>...</td>\n",
       "      <td>0</td>\n",
       "      <td>0</td>\n",
       "      <td>0</td>\n",
       "      <td>0</td>\n",
       "      <td>0</td>\n",
       "      <td>0</td>\n",
       "      <td>0</td>\n",
       "      <td>0</td>\n",
       "      <td>0</td>\n",
       "      <td>0</td>\n",
       "    </tr>\n",
       "  </tbody>\n",
       "</table>\n",
       "<p>10 rows × 102 columns</p>\n",
       "</div>"
      ],
      "text/plain": [
       "  bin                                                seq  ct_0  ct_1  ct_2  \\\n",
       "0  85  KGEELFTGVVPILVELDGDVNGHKFSVSGEGEGDATYGKLTLKFIC...     0     0     0   \n",
       "1   0  KGEELFTGVVPILVELDGDVNGHKFSVSGEGEGDATYGKLTLKFIC...     1     0     0   \n",
       "2   0  KGEELFTGVVPILVELDGDVNGHKFSVSGEGEGDATYGKLTLKFIC...     1     0     0   \n",
       "3   0  KGEELFTGVVPILVELDGDVNGHKFSVSGEGEGDATYGKLTLKFIC...     1     0     0   \n",
       "4  85  KGEELFTGVVPILVELDGDVNGHKFSVSGEGEGDATYGKLTLKFIC...     0     0     0   \n",
       "5  80  KGEELFTGVVPILVELDGDVNGHKFSVSGEGEGDATYGKLTLKFIC...     0     0     0   \n",
       "6   7  KGEELFTGVVPILVELDGDVNGHKFSVSGEGEGDATYGKLTLKFIC...     0     0     0   \n",
       "7  83  KGEELFTGVVPILVELDGDVNGHKFSVSGEGEGDATYGKLTLKFIC...     0     0     0   \n",
       "8  80  KGEELFTGVVPILVELDGDVNGHKFSVSGEGEGDATYGKLTLKFIC...     0     0     0   \n",
       "9   0  KGEELFTGVVPILVELDGDVNGHKFSVSGEGEGDATYGKLTLKFIC...     1     0     0   \n",
       "\n",
       "   ct_3  ct_4  ct_5  ct_6  ct_7  ...    ct_90  ct_91  ct_92  ct_93  ct_94  \\\n",
       "0     0     0     0     0     0  ...        0      0      0      0      0   \n",
       "1     0     0     0     0     0  ...        0      0      0      0      0   \n",
       "2     0     0     0     0     0  ...        0      0      0      0      0   \n",
       "3     0     0     0     0     0  ...        0      0      0      0      0   \n",
       "4     0     0     0     0     0  ...        0      0      0      0      0   \n",
       "5     0     0     0     0     0  ...        0      0      0      0      0   \n",
       "6     0     0     0     0     1  ...        0      0      0      0      0   \n",
       "7     0     0     0     0     0  ...        0      0      0      0      0   \n",
       "8     0     0     0     0     0  ...        0      0      0      0      0   \n",
       "9     0     0     0     0     0  ...        0      0      0      0      0   \n",
       "\n",
       "   ct_95  ct_96  ct_97  ct_98  ct_99  \n",
       "0      0      0      0      0      0  \n",
       "1      0      0      0      0      0  \n",
       "2      0      0      0      0      0  \n",
       "3      0      0      0      0      0  \n",
       "4      0      0      0      0      0  \n",
       "5      0      0      0      0      0  \n",
       "6      0      0      0      0      0  \n",
       "7      0      0      0      0      0  \n",
       "8      0      0      0      0      0  \n",
       "9      0      0      0      0      0  \n",
       "\n",
       "[10 rows x 102 columns]"
      ]
     },
     "execution_count": 42,
     "metadata": {},
     "output_type": "execute_result"
    }
   ],
   "source": [
    "seq_counts_df.head(10)"
   ]
  },
  {
   "cell_type": "code",
   "execution_count": 44,
   "metadata": {},
   "outputs": [
    {
     "data": {
      "text/plain": [
       "54025"
      ]
     },
     "execution_count": 44,
     "metadata": {},
     "output_type": "execute_result"
    }
   ],
   "source": [
    "len(seq_counts_df)"
   ]
  },
  {
   "cell_type": "code",
   "execution_count": 45,
   "metadata": {
    "collapsed": true
   },
   "outputs": [],
   "source": [
    "#seq_counts_df.to_csv('gfp_input_to_mpathic_full_100_bins.csv',sep='\\t')"
   ]
  },
  {
   "cell_type": "code",
   "execution_count": null,
   "metadata": {
    "collapsed": true
   },
   "outputs": [],
   "source": []
  },
  {
   "cell_type": "code",
   "execution_count": 72,
   "metadata": {},
   "outputs": [
    {
     "data": {
      "text/html": [
       "<div>\n",
       "<style scoped>\n",
       "    .dataframe tbody tr th:only-of-type {\n",
       "        vertical-align: middle;\n",
       "    }\n",
       "\n",
       "    .dataframe tbody tr th {\n",
       "        vertical-align: top;\n",
       "    }\n",
       "\n",
       "    .dataframe thead th {\n",
       "        text-align: right;\n",
       "    }\n",
       "</style>\n",
       "<table border=\"1\" class=\"dataframe\">\n",
       "  <thead>\n",
       "    <tr style=\"text-align: right;\">\n",
       "      <th></th>\n",
       "      <th>ct</th>\n",
       "      <th>ct_0</th>\n",
       "      <th>ct_1</th>\n",
       "      <th>ct_2</th>\n",
       "      <th>ct_3</th>\n",
       "      <th>ct_4</th>\n",
       "      <th>ct_5</th>\n",
       "      <th>ct_6</th>\n",
       "      <th>ct_7</th>\n",
       "      <th>ct_8</th>\n",
       "      <th>ct_9</th>\n",
       "      <th>seq_pro</th>\n",
       "      <th>val</th>\n",
       "    </tr>\n",
       "  </thead>\n",
       "  <tbody>\n",
       "    <tr>\n",
       "      <th>0</th>\n",
       "      <td>1</td>\n",
       "      <td>0</td>\n",
       "      <td>0</td>\n",
       "      <td>0</td>\n",
       "      <td>0</td>\n",
       "      <td>0</td>\n",
       "      <td>0</td>\n",
       "      <td>0</td>\n",
       "      <td>0</td>\n",
       "      <td>1</td>\n",
       "      <td>0</td>\n",
       "      <td>VDGV</td>\n",
       "      <td>0.045543</td>\n",
       "    </tr>\n",
       "    <tr>\n",
       "      <th>1</th>\n",
       "      <td>1</td>\n",
       "      <td>0</td>\n",
       "      <td>0</td>\n",
       "      <td>0</td>\n",
       "      <td>0</td>\n",
       "      <td>0</td>\n",
       "      <td>0</td>\n",
       "      <td>0</td>\n",
       "      <td>1</td>\n",
       "      <td>0</td>\n",
       "      <td>0</td>\n",
       "      <td>ADGV</td>\n",
       "      <td>0.045543</td>\n",
       "    </tr>\n",
       "    <tr>\n",
       "      <th>2</th>\n",
       "      <td>1</td>\n",
       "      <td>0</td>\n",
       "      <td>0</td>\n",
       "      <td>0</td>\n",
       "      <td>0</td>\n",
       "      <td>0</td>\n",
       "      <td>0</td>\n",
       "      <td>1</td>\n",
       "      <td>0</td>\n",
       "      <td>0</td>\n",
       "      <td>0</td>\n",
       "      <td>CDGV</td>\n",
       "      <td>0.045543</td>\n",
       "    </tr>\n",
       "    <tr>\n",
       "      <th>3</th>\n",
       "      <td>1</td>\n",
       "      <td>0</td>\n",
       "      <td>0</td>\n",
       "      <td>0</td>\n",
       "      <td>0</td>\n",
       "      <td>0</td>\n",
       "      <td>0</td>\n",
       "      <td>1</td>\n",
       "      <td>0</td>\n",
       "      <td>0</td>\n",
       "      <td>0</td>\n",
       "      <td>DDGV</td>\n",
       "      <td>0.045543</td>\n",
       "    </tr>\n",
       "    <tr>\n",
       "      <th>4</th>\n",
       "      <td>1</td>\n",
       "      <td>0</td>\n",
       "      <td>0</td>\n",
       "      <td>0</td>\n",
       "      <td>0</td>\n",
       "      <td>0</td>\n",
       "      <td>1</td>\n",
       "      <td>0</td>\n",
       "      <td>0</td>\n",
       "      <td>0</td>\n",
       "      <td>0</td>\n",
       "      <td>EDGV</td>\n",
       "      <td>0.045543</td>\n",
       "    </tr>\n",
       "  </tbody>\n",
       "</table>\n",
       "</div>"
      ],
      "text/plain": [
       "   ct  ct_0  ct_1  ct_2  ct_3  ct_4  ct_5  ct_6  ct_7  ct_8  ct_9 seq_pro  \\\n",
       "0   1     0     0     0     0     0     0     0     0     1     0    VDGV   \n",
       "1   1     0     0     0     0     0     0     0     1     0     0    ADGV   \n",
       "2   1     0     0     0     0     0     0     1     0     0     0    CDGV   \n",
       "3   1     0     0     0     0     0     0     1     0     0     0    DDGV   \n",
       "4   1     0     0     0     0     0     1     0     0     0     0    EDGV   \n",
       "\n",
       "        val  \n",
       "0  0.045543  \n",
       "1  0.045543  \n",
       "2  0.045543  \n",
       "3  0.045543  \n",
       "4  0.045543  "
      ]
     },
     "execution_count": 72,
     "metadata": {},
     "output_type": "execute_result"
    }
   ],
   "source": [
    "#temp_df['val_scaled'][0:10000]\n",
    "additive_trait_df = pd.read_csv('evaluated_model_full.csv',sep='\\t')\n",
    "del additive_trait_df['Unnamed: 0']\n",
    "additive_trait_df.head()"
   ]
  },
  {
   "cell_type": "code",
   "execution_count": 84,
   "metadata": {},
   "outputs": [
    {
     "data": {
      "text/plain": [
       "149359"
      ]
     },
     "execution_count": 84,
     "metadata": {},
     "output_type": "execute_result"
    }
   ],
   "source": [
    "len(additive_trait_df['val'])"
   ]
  },
  {
   "cell_type": "code",
   "execution_count": 80,
   "metadata": {
    "collapsed": true
   },
   "outputs": [],
   "source": [
    "additive_trait = additive_trait_df['val']\n",
    "additive_trait_scaled = (additive_trait-min(additive_trait))/(max(additive_trait)-min(additive_trait))"
   ]
  },
  {
   "cell_type": "code",
   "execution_count": 81,
   "metadata": {},
   "outputs": [
    {
     "data": {
      "text/plain": [
       "149359"
      ]
     },
     "execution_count": 81,
     "metadata": {},
     "output_type": "execute_result"
    }
   ],
   "source": [
    "len(additive_trait_scaled)"
   ]
  },
  {
   "cell_type": "code",
   "execution_count": 83,
   "metadata": {},
   "outputs": [
    {
     "data": {
      "text/plain": [
       "149361"
      ]
     },
     "execution_count": 83,
     "metadata": {},
     "output_type": "execute_result"
    }
   ],
   "source": [
    "len(val_scaled)"
   ]
  },
  {
   "cell_type": "code",
   "execution_count": 247,
   "metadata": {},
   "outputs": [
    {
     "data": {
      "image/png": "[encoded data removed]",
      "text/plain": [
       "<Figure size 432x288 with 1 Axes>"
      ]
     },
     "metadata": {},
     "output_type": "display_data"
    }
   ],
   "source": [
    "plt.scatter(temp_df['val_scaled'][0:10000],additive_trait_df['val'])\n",
    "plt.show()"
   ]
  },
  {
   "cell_type": "code",
   "execution_count": null,
   "metadata": {
    "collapsed": true
   },
   "outputs": [],
   "source": []
  }
 ],
 "metadata": {
  "colab": {
   "collapsed_sections": [],
   "name": "motif_learn_convnet.ipynb",
   "provenance": [],
   "version": "0.3.2"
  },
  "kernelspec": {
   "display_name": "Python 3",
   "language": "python",
   "name": "python3"
  },
  "language_info": {
   "codemirror_mode": {
    "name": "ipython",
    "version": 3
   },
   "file_extension": ".py",
   "mimetype": "text/x-python",
   "name": "python",
   "nbconvert_exporter": "python",
   "pygments_lexer": "ipython3",
   "version": "3.6.2"
  }
 },
 "nbformat": 4,
 "nbformat_minor": 1
}
