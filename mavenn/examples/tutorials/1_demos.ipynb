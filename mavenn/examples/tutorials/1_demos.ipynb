{
 "cells": [
  {
   "cell_type": "markdown",
   "metadata": {},
   "source": [
    "# Tutorial 1: Built-in demonstration scripts"
   ]
  },
  {
   "cell_type": "markdown",
   "metadata": {},
   "source": [
    "MAVE-NN provides built-in demonstration scripts, or \"demos\", to help users quickly get started training and visualizing models. Demos are self-contained Python scripts that can be executed by calling `mavenn.run_demo`. To get a list of demo names, execute this function without passing any arguments:"
   ]
  },
  {
   "cell_type": "code",
   "execution_count": 2,
   "metadata": {
    "ExecuteTime": {
     "end_time": "2021-12-16T01:42:13.929182Z",
     "start_time": "2021-12-16T01:42:12.073648Z"
    }
   },
   "outputs": [
    {
     "name": "stdout",
     "output_type": "stream",
     "text": [
      "/opt/miniconda3/envs/test_mavenn/lib/python3.12/site-packages/mavenn\n",
      "To run a demo, execute\n",
      "\n",
      "\t>>> mavenn.run_demo(name)\n",
      "\n",
      "where 'name' is one of the following strings:\n",
      "\n",
      "\n",
      "Python code for each demo is located in\n",
      "\n",
      "\t/opt/miniconda3/envs/test_mavenn/lib/python3.12/site-packages/mavenn/examples/demos/\n",
      "\n"
     ]
    },
    {
     "data": {
      "text/plain": [
       "[]"
      ]
     },
     "execution_count": 2,
     "metadata": {},
     "output_type": "execute_result"
    }
   ],
   "source": [
    "# Import MAVE-NN\n",
    "import mavenn\n",
    "print(mavenn.__path__[0])\n",
    "\n",
    "# Get list of demos\n",
    "mavenn.run_demo()"
   ]
  },
  {
   "cell_type": "markdown",
   "metadata": {},
   "source": [
    "To see the Python code for any one of these demos, pass the keyword argument `print_code=True` to `mavenn.run_demo()`. Alternatively, navigate to the folder that is printed when executing `mavenn.run_demo()` on your machine and open the corresponding `*.py` file."
   ]
  },
  {
   "cell_type": "markdown",
   "metadata": {},
   "source": [
    "## Evaluating a GE regression model"
   ]
  },
  {
   "cell_type": "markdown",
   "metadata": {},
   "source": [
    "The `'gb1_ge_evaluation'` demo illustrates an additive G-P map and GE measurement process fit to data from a deep mutational scanning (DMS) experiment performed on protein GB1 by Olson et al., 2014. "
   ]
  },
  {
   "cell_type": "code",
   "execution_count": null,
   "metadata": {
    "ExecuteTime": {
     "end_time": "2021-12-16T01:42:15.260691Z",
     "start_time": "2021-12-16T01:42:13.930349Z"
    }
   },
   "outputs": [],
   "source": [
    "mavenn.run_demo('gb1_ge_evaluation', print_code=False)"
   ]
  },
  {
   "cell_type": "markdown",
   "metadata": {},
   "source": [
    "## Visualizing an MPA regression model"
   ]
  },
  {
   "cell_type": "markdown",
   "metadata": {},
   "source": [
    "The `'sortseq_mpa_visualization'` demo illustrates an additive G-P map, along with an MPA measurement process, fit to data from a sort-seq MPRA performed by Kinney et al., 2010. "
   ]
  },
  {
   "cell_type": "code",
   "execution_count": null,
   "metadata": {
    "ExecuteTime": {
     "end_time": "2021-12-16T01:42:17.056737Z",
     "start_time": "2021-12-16T01:42:15.261712Z"
    }
   },
   "outputs": [],
   "source": [
    "mavenn.run_demo('sortseq_mpa_visualization', print_code=False)"
   ]
  },
  {
   "cell_type": "markdown",
   "metadata": {},
   "source": [
    "## Training a GE regression model"
   ]
  },
  {
   "cell_type": "markdown",
   "metadata": {},
   "source": [
    "The `'mpsa_ge_training'` demo uses GE regression to train a pairwise G-P map on data from a massively parallel splicing assay (MPSA) reported by Wong et al., 2018. This training process usually takes under a minute on a standard laptop."
   ]
  },
  {
   "cell_type": "code",
   "execution_count": null,
   "metadata": {
    "ExecuteTime": {
     "end_time": "2021-12-16T01:42:27.101964Z",
     "start_time": "2021-12-16T01:42:17.057450Z"
    },
    "scrolled": false
   },
   "outputs": [],
   "source": [
    "mavenn.run_demo('mpsa_ge_training', print_code=False)"
   ]
  },
  {
   "cell_type": "markdown",
   "metadata": {
    "pycharm": {
     "name": "#%% md\n"
    }
   },
   "source": [
    "## References\n",
    "\n",
    "1. Kinney J, Murugan A, Callan C, Cox E. Using deep sequencing to characterize the biophysical mechanism of a transcriptional regulatory sequence. Proc Natl Acad Sci USA. 107:9158-9163 (2010).\n",
    "\n",
    "2. Olson CA, Wu NC, Sun R. A comprehensive biophysical description of pairwise epistasis throughout an entire protein domain. Curr Biol 24:2643–2651 (2014).\n",
    "\n",
    "3. Wong M, Kinney J, Krainer A. Quantitative activity profile and context dependence of all human 5' splice sites. Mol Cell 71:1012-1026.e3 (2018).\n"
   ]
  },
  {
   "cell_type": "code",
   "execution_count": null,
   "metadata": {},
   "outputs": [],
   "source": []
  }
 ],
 "metadata": {
  "kernelspec": {
   "display_name": "Python 3",
   "language": "python",
   "name": "python3"
  },
  "language_info": {
   "codemirror_mode": {
    "name": "ipython",
    "version": 3
   },
   "file_extension": ".py",
   "mimetype": "text/x-python",
   "name": "python",
   "nbconvert_exporter": "python",
   "pygments_lexer": "ipython3",
   "version": "3.12.8"
  },
  "toc": {
   "base_numbering": 1,
   "nav_menu": {},
   "number_sections": true,
   "sideBar": true,
   "skip_h1_title": false,
   "title_cell": "Table of Contents",
   "title_sidebar": "Contents",
   "toc_cell": false,
   "toc_position": {},
   "toc_section_display": true,
   "toc_window_display": true
  },
  "varInspector": {
   "cols": {
    "lenName": 16,
    "lenType": 16,
    "lenVar": 40
   },
   "kernels_config": {
    "python": {
     "delete_cmd_postfix": "",
     "delete_cmd_prefix": "del ",
     "library": "var_list.py",
     "varRefreshCmd": "print(var_dic_list())"
    },
    "r": {
     "delete_cmd_postfix": ") ",
     "delete_cmd_prefix": "rm(",
     "library": "var_list.r",
     "varRefreshCmd": "cat(var_dic_list()) "
    }
   },
   "types_to_exclude": [
    "module",
    "function",
    "builtin_function_or_method",
    "instance",
    "_Feature"
   ],
   "window_display": false
  }
 },
 "nbformat": 4,
 "nbformat_minor": 2
}
