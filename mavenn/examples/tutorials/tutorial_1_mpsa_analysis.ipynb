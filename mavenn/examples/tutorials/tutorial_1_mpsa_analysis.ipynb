{
 "cells": [
  {
   "cell_type": "markdown",
   "metadata": {},
   "source": [
    "# Tutorial 1: Training a pairwise genotype-phenotype map on splicing data."
   ]
  },
  {
   "cell_type": "code",
   "execution_count": 1,
   "metadata": {
    "collapsed": true
   },
   "outputs": [],
   "source": [
    "# Standard imports\n",
    "import pandas as pd\n",
    "import matplotlib.pyplot as plt\n",
    "import numpy as np\n",
    "%matplotlib inline\n",
    "\n",
    "# For showing images\n",
    "from IPython.display import Image\n",
    "\n",
    "# Insert path to mavenn beginning of path\n",
    "import sys\n",
    "sys.path.insert(0, '../../../')\n",
    "\n",
    "# Load mavenn\n",
    "import mavenn"
   ]
  },
  {
   "cell_type": "markdown",
   "metadata": {},
   "source": [
    "In this tutorial we will train a genotype-phenotype (G-P) map on data from a massivley parallel splicing assay (MPSA) performed by Wong et al., 2018. Wong et al. mesured splicing activity for nearly all 5' splice sites of the form 'NNN/GYNNNN', where 'Y' denotes any pyrimidine ('C' or 'U'), and '/' denotes the exon/intron boundary.  This was accomplished using the experimental setup illustrated in the following figure. \n",
    "\n",
    "<img src=\"fig_tutorial1_fig1.png\" alt=\"MPSA experiment\" style=\"width: 600px;\"/>\n",
    "\n",
    "Specifically, the authors used a minigene expression system where each variant 5' splice site was tagged with a 20 nucleotide barcode. Constructs were transfected into cell culture, and the fraction of processed transcripts containing the central exon (which the variant 5' splice sites flank). The resulting dataset conisted of a list of assayed splice sites, each assigned a percent-spliced-in (PSI) value. Our goal is to model log PSI values as a function of sequence. \n",
    "\n",
    "We begin by loading data from this assay. This is provided as an example dataset within MAVE-NN, and can be loaded as follows."
   ]
  },
  {
   "cell_type": "code",
   "execution_count": 2,
   "metadata": {},
   "outputs": [
    {
     "name": "stdout",
     "output_type": "stream",
     "text": [
      "Number of splice sites assayed: 21,929.\n"
     ]
    },
    {
     "data": {
      "text/html": [
       "<div>\n",
       "<style scoped>\n",
       "    .dataframe tbody tr th:only-of-type {\n",
       "        vertical-align: middle;\n",
       "    }\n",
       "\n",
       "    .dataframe tbody tr th {\n",
       "        vertical-align: top;\n",
       "    }\n",
       "\n",
       "    .dataframe thead th {\n",
       "        text-align: right;\n",
       "    }\n",
       "</style>\n",
       "<table border=\"1\" class=\"dataframe\">\n",
       "  <thead>\n",
       "    <tr style=\"text-align: right;\">\n",
       "      <th></th>\n",
       "      <th>y</th>\n",
       "      <th>x</th>\n",
       "    </tr>\n",
       "  </thead>\n",
       "  <tbody>\n",
       "    <tr>\n",
       "      <th>0</th>\n",
       "      <td>-3.751854</td>\n",
       "      <td>AAAGCAAAA</td>\n",
       "    </tr>\n",
       "    <tr>\n",
       "      <th>1</th>\n",
       "      <td>-2.697741</td>\n",
       "      <td>AAAGCAAAC</td>\n",
       "    </tr>\n",
       "    <tr>\n",
       "      <th>2</th>\n",
       "      <td>-2.242947</td>\n",
       "      <td>AAAGCAAAG</td>\n",
       "    </tr>\n",
       "    <tr>\n",
       "      <th>3</th>\n",
       "      <td>-3.067251</td>\n",
       "      <td>AAAGCAAAT</td>\n",
       "    </tr>\n",
       "    <tr>\n",
       "      <th>4</th>\n",
       "      <td>-2.987074</td>\n",
       "      <td>AAAGCAACA</td>\n",
       "    </tr>\n",
       "  </tbody>\n",
       "</table>\n",
       "</div>"
      ],
      "text/plain": [
       "          y          x\n",
       "0 -3.751854  AAAGCAAAA\n",
       "1 -2.697741  AAAGCAAAC\n",
       "2 -2.242947  AAAGCAAAG\n",
       "3 -3.067251  AAAGCAAAT\n",
       "4 -2.987074  AAAGCAACA"
      ]
     },
     "execution_count": 2,
     "metadata": {},
     "output_type": "execute_result"
    }
   ],
   "source": [
    "# Load data as a pandas DataFrame\n",
    "data_df = mavenn.load_example_dataset('mpsa')\n",
    "\n",
    "# Show dataset size\n",
    "print(f'Number of splice sites assayed: {len(data_df):,d}.')\n",
    "\n",
    "# Preview dataset\n",
    "data_df.head()"
   ]
  },
  {
   "cell_type": "markdown",
   "metadata": {},
   "source": [
    "In this dataset, $x$ denotes splice site sequences and $y$ denotes log PSI values (which the experiment determins up to an uncertain additive shift). We next extract the data from this dataframe and split into training and test sets. "
   ]
  },
  {
   "cell_type": "code",
   "execution_count": 3,
   "metadata": {},
   "outputs": [
    {
     "name": "stdout",
     "output_type": "stream",
     "text": [
      "Training set size: 17,543 observations\n",
      "Test set size    :  4,386 observations\n"
     ]
    }
   ],
   "source": [
    "# Extract x and y as Numpy arrays\n",
    "x = data_df['x'].values\n",
    "y = data_df['y'].values\n",
    "\n",
    "# Split data 80/20 into training / test sets. \n",
    "from sklearn.model_selection import train_test_split\n",
    "x_train, x_test, y_train, y_test = train_test_split(x, y, test_size=.20)\n",
    "\n",
    "# Show dataset sizes\n",
    "print(f'Training set size: {len(x_train):6,d} observations')\n",
    "print(f'Test set size    : {len(x_test):6,d} observations')"
   ]
  },
  {
   "cell_type": "markdown",
   "metadata": {},
   "source": [
    "Next we define a MAVE-NN model.\n"
   ]
  },
  {
   "cell_type": "code",
   "execution_count": 4,
   "metadata": {},
   "outputs": [
    {
     "data": {
      "text/plain": [
       "<mavenn.src.model.Model at 0x1441c1278>"
      ]
     },
     "execution_count": 4,
     "metadata": {},
     "output_type": "execute_result"
    }
   ],
   "source": [
    "# Define model and set training data\n",
    "model = mavenn.Model(regression_type='GE',\n",
    "                     sequence_length=len(x[0]),\n",
    "                     alphabet='dna',\n",
    "                     gpmap_type='pairwise',                     \n",
    "                     ge_noise_model_type='Gaussian',\n",
    "                     ge_heteroskedasticity_order=0)\n",
    "model"
   ]
  },
  {
   "cell_type": "markdown",
   "metadata": {},
   "source": [
    "The overall form of this model is schematized in the following figure.\n",
    "\n",
    "<img src=\"fig_tutorial1_fig2.png\" alt=\"Modeling assumptions\" style=\"width: 600px;\"/>\n",
    "\n",
    "In addition to specifying the training inputs (`x=x_train`) and training labels (`y=y_train`), five additional parameters are set. \n",
    "\n",
    "`alphabet='rna'`: This indicates that sequences are made up of the characters 'A', 'C', 'G', 'U'. \n",
    "\n",
    "`gpmap_type='pairwise'`: This indicates that we want to fit a pairwise model for the latent phenotype $\\phi$, i.e. a model of the mathematical form\n",
    "\n",
    "$$ \\phi(x) = \\theta_0 + \\sum_{l,c} \\theta_{l:c} x_{l:c} + \\sum_{l,l'>l} \\sum_{c,c'} \\theta_{l:c,l':c'} x_{l:c} x_{l':c'}$$\n",
    "\n",
    "where $l$ indexes positions in the sequence, $c$ indexes characters from the alphabet, and $x_{l:c}$ is an indicator variable equal to 1 when $c$ occurs at position $l$, and equal to 0 otherwise. The parameters of this model $\\theta_0, \\theta_{l:c}, \\theta_{l:c,l':c'}$ are to be learned from data. \n",
    "\n",
    "`regression_type='GE'`: This indicates that we want to perform global epistasis (GE) regression. The key assumption of GE regression is that each measurement $y$ is a noisy readout of a predicte mesurement $\\hat{y}$, which itself is a nonlinear function $g$ of the latent phenotype $\\phi$. Thus,\n",
    "\n",
    "$$ p(y | \\phi) = p(y|\\hat{y})~~\\mathrm{where}~~\\hat{y} = g(\\phi).$$\n",
    "\n",
    "The nonlinear function $g(\\phi)$ is to be learned from data using a two-layer neural network having a default value of `ge_nonlinearity_hidden_nodes=50` hidden nodes. \n",
    "\n",
    "`ge_noise_model_type='Gaussian'`: This indicates that we wish for our noise model, $p(y|\\hat{y})$, to be a Gaussian distribution. \n",
    "\n",
    "`ge_heteroskedasticitiy_order=2`: This indicates that we are using a heteroskedastic model. Specifically, we model the standard deviation $s$ of $p(y|\\hat{y})$  an expoentiated quadratic polynomial in $\\hat{y}$,\n",
    "\n",
    "$$ s(\\hat{y}) = \\exp \\left[ a_0 + a_1 \\hat{y} + a_2 \\hat{y}^2 \\right], $$\n",
    "\n",
    "where the coefficients $a_0, a_1, a_2$ are to be learned from data. \n",
    "\n",
    "To fit this model to training data, we do the following."
   ]
  },
  {
   "cell_type": "code",
   "execution_count": 5,
   "metadata": {
    "collapsed": true
   },
   "outputs": [],
   "source": [
    "# set data\n",
    "model.set_data(x=data_df['x'],\n",
    "               y=data_df['y'])"
   ]
  },
  {
   "cell_type": "code",
   "execution_count": 6,
   "metadata": {},
   "outputs": [
    {
     "name": "stdout",
     "output_type": "stream",
     "text": [
      " \n",
      "LSMR            Least-squares solution of  Ax = b\n",
      "\n",
      "The matrix A has    21929 rows  and      612 cols\n",
      "damp = 0.00000000000000e+00\n",
      "\n",
      "atol = 1.00e-06                 conlim = 1.00e+08\n",
      "\n",
      "btol = 1.00e-06             maxiter =      612\n",
      "\n",
      " \n",
      "   itn      x(1)       norm r    norm Ar  compatible   LS      norm A   cond A\n",
      "     0  0.00000e+00  1.481e+02  1.140e+04   1.0e+00  5.2e-01\n",
      "     1  5.61927e-03  1.306e+02  4.723e+03   8.8e-01  2.2e-01  1.6e+02  1.0e+00\n",
      "     2  6.66902e-03  1.255e+02  3.258e+03   8.5e-01  1.2e-01  2.2e+02  1.5e+00\n",
      "     3  7.17375e-03  1.241e+02  3.136e+03   8.4e-01  9.4e-02  2.7e+02  2.4e+00\n",
      "     4  6.63525e-03  1.144e+02  2.381e+03   7.7e-01  4.3e-02  4.8e+02  3.2e+00\n",
      "     5  7.51967e-03  1.066e+02  1.102e+03   7.2e-01  2.0e-02  5.1e+02  2.9e+00\n",
      "     6  6.90511e-03  1.057e+02  8.107e+02   7.1e-01  1.5e-02  5.2e+02  3.2e+00\n",
      "     7  5.66045e-03  1.046e+02  5.867e+02   7.1e-01  1.0e-02  5.4e+02  5.2e+00\n",
      "     8  6.70064e-03  1.040e+02  3.053e+02   7.0e-01  5.3e-03  5.5e+02  3.6e+00\n",
      "     9  6.68959e-03  1.039e+02  2.197e+02   7.0e-01  3.7e-03  5.7e+02  3.6e+00\n",
      "    10  6.03457e-03  1.038e+02  1.672e+02   7.0e-01  2.8e-03  5.8e+02  5.3e+00\n",
      "    20  6.36640e-03  1.038e+02  6.263e+00   7.0e-01  7.5e-05  8.0e+02  4.6e+00\n",
      "    30  6.34603e-03  1.038e+02  1.445e+00   7.0e-01  1.5e-05  9.6e+02  9.4e+00\n",
      "    40  6.31533e-03  1.038e+02  1.817e-01   7.0e-01  1.6e-06  1.1e+03  8.8e+00\n",
      "    42  6.31458e-03  1.038e+02  8.081e-02   7.0e-01  7.0e-07  1.1e+03  8.5e+00\n",
      " \n",
      "LSMR finished\n",
      "The least-squares solution is good enough, given atol     \n",
      "istop =       2    normr = 1.0e+02\n",
      "    normA = 1.1e+03    normAr = 8.1e-02\n",
      "itn   =      42    condA = 8.5e+00\n",
      "    normx = 2.0e+00\n",
      "    42  6.31458e-03   1.038e+02  8.081e-02\n",
      "   7.0e-01  7.0e-07   1.1e+03  8.5e+00\n",
      "Linear regression time: 0.5704 sec\n",
      "Epoch 1/50\n",
      "351/351 [==============================] - 1s 2ms/step - loss: 66.5008 - val_loss: 60.4054\n",
      "Epoch 2/50\n",
      "351/351 [==============================] - 0s 1ms/step - loss: 61.5772 - val_loss: 58.7955\n",
      "Epoch 3/50\n",
      "351/351 [==============================] - 0s 998us/step - loss: 58.4428 - val_loss: 58.3657\n",
      "Epoch 4/50\n",
      "351/351 [==============================] - 0s 1ms/step - loss: 56.7811 - val_loss: 58.6713\n",
      "Epoch 5/50\n",
      "351/351 [==============================] - 0s 1ms/step - loss: 55.8774 - val_loss: 58.5830\n",
      "Epoch 6/50\n",
      "351/351 [==============================] - 0s 1ms/step - loss: 55.3851 - val_loss: 57.5779\n",
      "Epoch 7/50\n",
      "351/351 [==============================] - 0s 1ms/step - loss: 55.1545 - val_loss: 58.2281\n",
      "Epoch 8/50\n",
      "351/351 [==============================] - 0s 1ms/step - loss: 55.0330 - val_loss: 57.9002\n",
      "Epoch 9/50\n",
      "351/351 [==============================] - 0s 1ms/step - loss: 54.8638 - val_loss: 57.7779\n",
      "Epoch 10/50\n",
      "351/351 [==============================] - 0s 999us/step - loss: 54.7823 - val_loss: 57.7975\n",
      "Epoch 11/50\n",
      "351/351 [==============================] - 0s 995us/step - loss: 54.6880 - val_loss: 57.6816\n",
      "Epoch 12/50\n",
      "351/351 [==============================] - 0s 1ms/step - loss: 54.6194 - val_loss: 57.7003\n",
      "Epoch 13/50\n",
      "351/351 [==============================] - 0s 1ms/step - loss: 54.6497 - val_loss: 57.4951\n",
      "Epoch 14/50\n",
      "351/351 [==============================] - 0s 1ms/step - loss: 54.6398 - val_loss: 57.3108\n",
      "Epoch 15/50\n",
      "351/351 [==============================] - 0s 1ms/step - loss: 54.5987 - val_loss: 57.5945\n",
      "Epoch 16/50\n",
      "351/351 [==============================] - 0s 1ms/step - loss: 54.5555 - val_loss: 57.5213\n",
      "Epoch 17/50\n",
      "351/351 [==============================] - 0s 1ms/step - loss: 54.5356 - val_loss: 57.7124\n",
      "Epoch 18/50\n",
      "351/351 [==============================] - 0s 1ms/step - loss: 54.5097 - val_loss: 57.7659\n",
      "Epoch 19/50\n",
      "351/351 [==============================] - 0s 1ms/step - loss: 54.4886 - val_loss: 58.0485\n",
      "Epoch 20/50\n",
      "351/351 [==============================] - 0s 1ms/step - loss: 54.4672 - val_loss: 57.7946\n",
      "Epoch 21/50\n",
      "351/351 [==============================] - 0s 1ms/step - loss: 54.4709 - val_loss: 57.5715\n",
      "Epoch 22/50\n",
      "351/351 [==============================] - 0s 1ms/step - loss: 54.4208 - val_loss: 57.7316\n",
      "Epoch 23/50\n",
      "351/351 [==============================] - 0s 1ms/step - loss: 54.4210 - val_loss: 56.8374\n",
      "Epoch 24/50\n",
      "351/351 [==============================] - 0s 1ms/step - loss: 54.2906 - val_loss: 58.2864\n",
      "Epoch 25/50\n",
      "351/351 [==============================] - 0s 1ms/step - loss: 54.2630 - val_loss: 58.4509\n",
      "Epoch 26/50\n",
      "351/351 [==============================] - 0s 1ms/step - loss: 54.2027 - val_loss: 57.4414\n",
      "Epoch 27/50\n",
      "351/351 [==============================] - 0s 1ms/step - loss: 54.0014 - val_loss: 56.3035\n",
      "Epoch 28/50\n",
      "351/351 [==============================] - 0s 1ms/step - loss: 53.6896 - val_loss: 55.9541\n",
      "Epoch 29/50\n",
      "351/351 [==============================] - 0s 1ms/step - loss: 53.1827 - val_loss: 55.3407\n",
      "Epoch 30/50\n",
      "351/351 [==============================] - 0s 1ms/step - loss: 52.2347 - val_loss: 53.7968\n",
      "Epoch 31/50\n",
      "351/351 [==============================] - 0s 1ms/step - loss: 50.8347 - val_loss: 51.7644\n",
      "Epoch 32/50\n",
      "351/351 [==============================] - 0s 1ms/step - loss: 48.7815 - val_loss: 49.9292\n",
      "Epoch 33/50\n",
      "351/351 [==============================] - 0s 1ms/step - loss: 46.4844 - val_loss: 47.9635\n",
      "Epoch 34/50\n",
      "351/351 [==============================] - 0s 1ms/step - loss: 44.4475 - val_loss: 46.1232\n",
      "Epoch 35/50\n",
      "351/351 [==============================] - 0s 1ms/step - loss: 42.9502 - val_loss: 46.8307\n",
      "Epoch 36/50\n",
      "351/351 [==============================] - 0s 1ms/step - loss: 41.9831 - val_loss: 46.7229\n",
      "Epoch 37/50\n",
      "351/351 [==============================] - 0s 1ms/step - loss: 41.3168 - val_loss: 46.3725\n",
      "Epoch 38/50\n",
      "351/351 [==============================] - 0s 1ms/step - loss: 40.9109 - val_loss: 47.6809\n",
      "Epoch 39/50\n",
      "351/351 [==============================] - 0s 1ms/step - loss: 40.6344 - val_loss: 47.6206\n",
      "Epoch 40/50\n",
      "351/351 [==============================] - 0s 1ms/step - loss: 40.4047 - val_loss: 47.0501\n",
      "Epoch 41/50\n",
      "351/351 [==============================] - 0s 1ms/step - loss: 40.2849 - val_loss: 47.0780\n",
      "Epoch 42/50\n",
      "351/351 [==============================] - 0s 1ms/step - loss: 40.0962 - val_loss: 47.5283\n",
      "Epoch 43/50\n",
      "351/351 [==============================] - 0s 1ms/step - loss: 39.9848 - val_loss: 47.4874\n",
      "Epoch 44/50\n",
      "351/351 [==============================] - 0s 1ms/step - loss: 39.8805 - val_loss: 47.5012\n",
      "Epoch 45/50\n",
      "351/351 [==============================] - 0s 1ms/step - loss: 39.8699 - val_loss: 47.2483\n",
      "Epoch 46/50\n",
      "351/351 [==============================] - 0s 1ms/step - loss: 39.7307 - val_loss: 47.0032\n",
      "Epoch 47/50\n",
      "351/351 [==============================] - 0s 1ms/step - loss: 39.7130 - val_loss: 47.7741\n",
      "Epoch 48/50\n",
      "351/351 [==============================] - 0s 1ms/step - loss: 39.6237 - val_loss: 46.9315\n",
      "Epoch 49/50\n",
      "351/351 [==============================] - 0s 1ms/step - loss: 39.6101 - val_loss: 46.2305\n",
      "Epoch 50/50\n",
      "351/351 [==============================] - 0s 1ms/step - loss: 39.5895 - val_loss: 47.7711\n",
      "training time: 20.8 seconds\n",
      "Inference time: 20.80 seconds\n"
     ]
    }
   ],
   "source": [
    "# Start timer\n",
    "import time\n",
    "start_time = time.time()\n",
    "\n",
    "# Fit model to training data. Takes ~30 seconds.\n",
    "history = model.fit(epochs=50, learning_rate=.0005, verbose=True, early_stopping=False)\n",
    "\n",
    "# Report fitting time\n",
    "training_time = time.time()-start_time\n",
    "print(f'Inference time: {training_time:.2f} seconds')"
   ]
  },
  {
   "cell_type": "markdown",
   "metadata": {},
   "source": [
    "The variable `history` is the standard history object returned by TensorFlow. It contains the training loss and validation loss values as a function of training epoch, which can be visualized as follows:"
   ]
  },
  {
   "cell_type": "code",
   "execution_count": 7,
   "metadata": {},
   "outputs": [
    {
     "data": {
      "text/plain": [
       "<matplotlib.legend.Legend at 0x143cc9be0>"
      ]
     },
     "execution_count": 7,
     "metadata": {},
     "output_type": "execute_result"
    },
    {
     "data": {
      "image/png": "[encoded data removed]",
      "text/plain": [
       "<Figure size 432x288 with 1 Axes>"
      ]
     },
     "metadata": {
      "needs_background": "light"
     },
     "output_type": "display_data"
    }
   ],
   "source": [
    "# Extract training loss and validation loss\n",
    "loss_training = history.history['loss']\n",
    "loss_validation = history.history['val_loss']\n",
    "\n",
    "# Plot training history\n",
    "fig, ax = plt.subplots(1,1)\n",
    "ax.plot(loss_training, color='C2', label='training')\n",
    "ax.plot(loss_validation, color='C3', label='validation')\n",
    "ax.set_ylabel('loss')\n",
    "ax.set_xlabel('epoch')\n",
    "ax.set_title(f\"training history\")\n",
    "ax.legend()"
   ]
  },
  {
   "cell_type": "markdown",
   "metadata": {},
   "source": [
    "To assess model performance, we compute the correlation between $\\hat{y}$ and $y$ on training data. To get values for $\\hat{y}$, we use the method `model.x_to_yhat()`, which returns a numpy array the same shape as its input."
   ]
  },
  {
   "cell_type": "code",
   "execution_count": 8,
   "metadata": {},
   "outputs": [
    {
     "name": "stdout",
     "output_type": "stream",
     "text": [
      "yhat_test: array([-3.1386707, -3.1569922, -3.152613 , ..., -3.1072218, -3.1579547,\n",
      "       -3.157292 ], dtype=float32)\n"
     ]
    }
   ],
   "source": [
    "# Predict measurement values (yhat) from sequence (x)\n",
    "yhat_test = model.x_to_yhat(x_test)\n",
    "print(f'yhat_test: {repr(yhat_test)}')"
   ]
  },
  {
   "cell_type": "markdown",
   "metadata": {},
   "source": [
    "Next we plot $y$ against $\\hat{y}$ and compute the corresponding $R^2$ value."
   ]
  },
  {
   "cell_type": "code",
   "execution_count": 9,
   "metadata": {},
   "outputs": [
    {
     "data": {
      "text/plain": [
       "Text(0.5, 1.0, 'performance ($R^2$=0.723)')"
      ]
     },
     "execution_count": 9,
     "metadata": {},
     "output_type": "execute_result"
    },
    {
     "data": {
      "image/png": "[encoded data removed]",
      "text/plain": [
       "<Figure size 432x288 with 1 Axes>"
      ]
     },
     "metadata": {
      "needs_background": "light"
     },
     "output_type": "display_data"
    }
   ],
   "source": [
    "# Compute R^2 between yhat and y_test\n",
    "Rsq = np.corrcoef(yhat_test.ravel(), y_test)[0, 1]**2\n",
    "\n",
    "# Plot y_test vs. yhat_test\n",
    "fig, ax = plt.subplots(1,1)\n",
    "ax.scatter(yhat_test, y_test, color='C0', s=5, alpha=.5, label='test data')\n",
    "ax.set_xlabel('model prediction ($\\hat{y}$)')\n",
    "ax.set_ylabel('measurement ($y$)')\n",
    "ax.set_title(f'performance ($R^2$={Rsq:.3})')"
   ]
  },
  {
   "cell_type": "markdown",
   "metadata": {},
   "source": [
    "Note that instead of using `model.x_to_yhat()`, we can alternatively use `model.x_to_phi()` to first predict latent phenotype values $\\phi$ from input sequences $x$, then use these $\\phi$ to compute $\\hat{y}$ values via `model.phi_to_yhat()`:"
   ]
  },
  {
   "cell_type": "code",
   "execution_count": 10,
   "metadata": {},
   "outputs": [
    {
     "name": "stdout",
     "output_type": "stream",
     "text": [
      "phi_test: array([ 0.4349043 , -0.27822846,  0.10960022, ...,  0.6831508 ,\n",
      "       -0.6148602 , -0.34597775], dtype=float32)\n",
      "yhat_test: array([-3.1386707, -3.1569922, -3.152613 , ..., -3.1072218, -3.1579547,\n",
      "       -3.157292 ], dtype=float32)\n"
     ]
    }
   ],
   "source": [
    "# Predict latent phenotype values (phi) from sequence (x)\n",
    "phi_test = model.x_to_phi(x_test)\n",
    "print(f'phi_test: {repr(phi_test)}')\n",
    "\n",
    "# Predict measurement values (yhat) from latent phenotype (phi)\n",
    "yhat_test = model.phi_to_yhat(phi_test)\n",
    "print(f'yhat_test: {repr(yhat_test)}')"
   ]
  },
  {
   "cell_type": "markdown",
   "metadata": {},
   "source": [
    "It is worth plotting measurements $y$ against the predicted latent phenotypes $\\phi$. On the same plot we can show the nonlineairty $g(\\phi)$ by creating a grid of $\\phi$ values and mapping these to $\\hat{y}$ values using `model.phi_to_yhat()`. When doing this, it often makes sense to further plot confidence intervals of $p(y|\\hat{y})$ using the function `model.yhat_to_yq()`."
   ]
  },
  {
   "cell_type": "code",
   "execution_count": 11,
   "metadata": {},
   "outputs": [
    {
     "data": {
      "text/plain": [
       "<matplotlib.legend.Legend at 0x1560d4828>"
      ]
     },
     "execution_count": 11,
     "metadata": {},
     "output_type": "execute_result"
    },
    {
     "data": {
      "image/png": "[encoded data removed]",
      "text/plain": [
       "<Figure size 432x288 with 1 Axes>"
      ]
     },
     "metadata": {
      "needs_background": "light"
     },
     "output_type": "display_data"
    }
   ],
   "source": [
    "# Create a grid of phi values for plotting the GE nonlinearity\n",
    "phi_lim = [min(phi_test)-.5, max(phi_test)+.5]\n",
    "phi_grid = np.linspace(phi_lim[0], phi_lim[1], 1000)\n",
    "\n",
    "# Compute yhat for each phi gridpoint\n",
    "yhat_grid = model.phi_to_yhat(phi_grid)\n",
    "\n",
    "# Compute 68% confidence interval in y for each value of yhat\n",
    "yqs_grid = model.yhat_to_yq(yhat_grid, q=[0.16, 0.84])\n",
    "\n",
    "# Create figure and axes\n",
    "fig, ax = plt.subplots(1, 1)\n",
    "ax.scatter(phi_test, y_test, color='C0', s=5, alpha=.2, label='test data')\n",
    "ax.plot(phi_grid, yhat_grid, linewidth=2, color='C1',\n",
    "        label='$\\hat{y} = g(\\phi)$')\n",
    "ax.plot(phi_grid, yqs_grid[:,0], linestyle='--', color='C1', label='68% CI')\n",
    "ax.plot(phi_grid, yqs_grid[:,1], linestyle='--', color='C1')\n",
    "ax.set_xlim(phi_lim)\n",
    "ax.set_xlabel('latent phenotype ($\\phi$)')\n",
    "ax.set_ylabel('measurement ($y$)')\n",
    "ax.set_title('measurement process')\n",
    "ax.legend()"
   ]
  },
  {
   "cell_type": "markdown",
   "metadata": {},
   "source": [
    "Strong sigmoidal nonlinearities like the one we find here are very common on MAVE experiments and it is critically important that one account for them when trying to model G-P maps. Note also that, in this case, we find that the standard deviation of $y$ about $\\hat{y}$ decreases at larger $\\hat{y}$ values. This illustrates the utility of infering a heteroskedastic noise model. \n",
    "\n",
    "Ultimately we want to view the parameters of the G-P map. MAVE-NN provides two methods to support such visualization, `mavenn.heatmap()` and `mavenn.pairwise_heatmap()`. First we retrieve the additive parameters $\\theta_{l:c}$ in dataframe format using `get_additive_parameters()`:"
   ]
  },
  {
   "cell_type": "code",
   "execution_count": 12,
   "metadata": {},
   "outputs": [
    {
     "data": {
      "text/html": [
       "<div>\n",
       "<style scoped>\n",
       "    .dataframe tbody tr th:only-of-type {\n",
       "        vertical-align: middle;\n",
       "    }\n",
       "\n",
       "    .dataframe tbody tr th {\n",
       "        vertical-align: top;\n",
       "    }\n",
       "\n",
       "    .dataframe thead th {\n",
       "        text-align: right;\n",
       "    }\n",
       "</style>\n",
       "<table border=\"1\" class=\"dataframe\">\n",
       "  <thead>\n",
       "    <tr style=\"text-align: right;\">\n",
       "      <th></th>\n",
       "      <th>name</th>\n",
       "      <th>value</th>\n",
       "      <th>l</th>\n",
       "      <th>c</th>\n",
       "    </tr>\n",
       "  </thead>\n",
       "  <tbody>\n",
       "    <tr>\n",
       "      <th>0</th>\n",
       "      <td>theta_0:A</td>\n",
       "      <td>0.017460</td>\n",
       "      <td>0</td>\n",
       "      <td>A</td>\n",
       "    </tr>\n",
       "    <tr>\n",
       "      <th>1</th>\n",
       "      <td>theta_0:C</td>\n",
       "      <td>0.056565</td>\n",
       "      <td>0</td>\n",
       "      <td>C</td>\n",
       "    </tr>\n",
       "    <tr>\n",
       "      <th>2</th>\n",
       "      <td>theta_0:G</td>\n",
       "      <td>0.034397</td>\n",
       "      <td>0</td>\n",
       "      <td>G</td>\n",
       "    </tr>\n",
       "    <tr>\n",
       "      <th>3</th>\n",
       "      <td>theta_0:T</td>\n",
       "      <td>-0.108421</td>\n",
       "      <td>0</td>\n",
       "      <td>T</td>\n",
       "    </tr>\n",
       "    <tr>\n",
       "      <th>4</th>\n",
       "      <td>theta_1:A</td>\n",
       "      <td>0.135574</td>\n",
       "      <td>1</td>\n",
       "      <td>A</td>\n",
       "    </tr>\n",
       "  </tbody>\n",
       "</table>\n",
       "</div>"
      ],
      "text/plain": [
       "        name     value  l  c\n",
       "0  theta_0:A  0.017460  0  A\n",
       "1  theta_0:C  0.056565  0  C\n",
       "2  theta_0:G  0.034397  0  G\n",
       "3  theta_0:T -0.108421  0  T\n",
       "4  theta_1:A  0.135574  1  A"
      ]
     },
     "execution_count": 12,
     "metadata": {},
     "output_type": "execute_result"
    }
   ],
   "source": [
    "# Get values of additive parameters\n",
    "additive_df = model.get_gpmap_parameters(which=\"additive\")\n",
    "additive_df.head()"
   ]
  },
  {
   "cell_type": "markdown",
   "metadata": {},
   "source": [
    "Next we draw these using `mavenn.heatmap()`. Since all assayed sequences were of the form NNNGYNNNN, we additionally mask the parameters for 'A','C','T' at position 3 and for 'A','G' at position 4. "
   ]
  },
  {
   "cell_type": "code",
   "execution_count": 13,
   "metadata": {},
   "outputs": [
    {
     "data": {
      "image/png": "[encoded data removed]",
      "text/plain": [
       "<Figure size 432x288 with 2 Axes>"
      ]
     },
     "metadata": {
      "needs_background": "light"
     },
     "output_type": "display_data"
    }
   ],
   "source": [
    "# Illustrate additive parameters as a heatmap\n",
    "fig, ax = plt.subplots(1,1)\n",
    "mask_dict = {3:'ACT',4:'AG'}\n",
    "ax, cb = mavenn.heatmap(df=additive_df,\n",
    "                        mask_dict=mask_dict, \n",
    "                        ax=ax)"
   ]
  },
  {
   "cell_type": "markdown",
   "metadata": {},
   "source": [
    "Note that `mask_dict` can also be determined computationally from the training sequences using `model.get_mask_dict()`. "
   ]
  },
  {
   "cell_type": "code",
   "execution_count": 14,
   "metadata": {},
   "outputs": [
    {
     "data": {
      "text/plain": [
       "{3: 'ACT', 4: 'AG'}"
      ]
     },
     "execution_count": 14,
     "metadata": {},
     "output_type": "execute_result"
    }
   ],
   "source": [
    "# Compute mask_dict from trainig data\n",
    "mask_dict = mavenn.get_mask_dict(x_train, alphabet='dna')\n",
    "mask_dict"
   ]
  },
  {
   "cell_type": "markdown",
   "metadata": {},
   "source": [
    "Similarly, we retrieve the additive parameters $\\theta_{l:c,l':c'}$ in dataframe format using `get_pairwise_parameters()`:"
   ]
  },
  {
   "cell_type": "code",
   "execution_count": 15,
   "metadata": {},
   "outputs": [
    {
     "data": {
      "text/html": [
       "<div>\n",
       "<style scoped>\n",
       "    .dataframe tbody tr th:only-of-type {\n",
       "        vertical-align: middle;\n",
       "    }\n",
       "\n",
       "    .dataframe tbody tr th {\n",
       "        vertical-align: top;\n",
       "    }\n",
       "\n",
       "    .dataframe thead th {\n",
       "        text-align: right;\n",
       "    }\n",
       "</style>\n",
       "<table border=\"1\" class=\"dataframe\">\n",
       "  <thead>\n",
       "    <tr style=\"text-align: right;\">\n",
       "      <th></th>\n",
       "      <th>name</th>\n",
       "      <th>value</th>\n",
       "      <th>l1</th>\n",
       "      <th>c1</th>\n",
       "      <th>l2</th>\n",
       "      <th>c2</th>\n",
       "    </tr>\n",
       "  </thead>\n",
       "  <tbody>\n",
       "    <tr>\n",
       "      <th>0</th>\n",
       "      <td>theta_0:A,1:A</td>\n",
       "      <td>0.018412</td>\n",
       "      <td>0</td>\n",
       "      <td>A</td>\n",
       "      <td>1</td>\n",
       "      <td>A</td>\n",
       "    </tr>\n",
       "    <tr>\n",
       "      <th>1</th>\n",
       "      <td>theta_0:A,1:C</td>\n",
       "      <td>0.085818</td>\n",
       "      <td>0</td>\n",
       "      <td>A</td>\n",
       "      <td>1</td>\n",
       "      <td>C</td>\n",
       "    </tr>\n",
       "    <tr>\n",
       "      <th>2</th>\n",
       "      <td>theta_0:A,1:G</td>\n",
       "      <td>-0.163402</td>\n",
       "      <td>0</td>\n",
       "      <td>A</td>\n",
       "      <td>1</td>\n",
       "      <td>G</td>\n",
       "    </tr>\n",
       "    <tr>\n",
       "      <th>3</th>\n",
       "      <td>theta_0:A,1:T</td>\n",
       "      <td>0.059172</td>\n",
       "      <td>0</td>\n",
       "      <td>A</td>\n",
       "      <td>1</td>\n",
       "      <td>T</td>\n",
       "    </tr>\n",
       "    <tr>\n",
       "      <th>4</th>\n",
       "      <td>theta_0:A,2:A</td>\n",
       "      <td>-0.089759</td>\n",
       "      <td>0</td>\n",
       "      <td>A</td>\n",
       "      <td>2</td>\n",
       "      <td>A</td>\n",
       "    </tr>\n",
       "  </tbody>\n",
       "</table>\n",
       "</div>"
      ],
      "text/plain": [
       "            name     value  l1 c1  l2 c2\n",
       "0  theta_0:A,1:A  0.018412   0  A   1  A\n",
       "1  theta_0:A,1:C  0.085818   0  A   1  C\n",
       "2  theta_0:A,1:G -0.163402   0  A   1  G\n",
       "3  theta_0:A,1:T  0.059172   0  A   1  T\n",
       "4  theta_0:A,2:A -0.089759   0  A   2  A"
      ]
     },
     "execution_count": 15,
     "metadata": {},
     "output_type": "execute_result"
    }
   ],
   "source": [
    "# Get values of all model parameters, including pairwise parameters\n",
    "pairwise_df = model.get_gpmap_parameters(which=\"pairwise\")\n",
    "pairwise_df.head()"
   ]
  },
  {
   "cell_type": "markdown",
   "metadata": {},
   "source": [
    "We then draw thse using `mavenn.pairwise_heatmap()`, again with the specified mask in place. "
   ]
  },
  {
   "cell_type": "code",
   "execution_count": 16,
   "metadata": {},
   "outputs": [
    {
     "name": "stdout",
     "output_type": "stream",
     "text": [
      "Automatically determined gpmap_type=pairwise.\n"
     ]
    },
    {
     "data": {
      "image/png": "[encoded data removed]",
      "text/plain": [
       "<Figure size 648x360 with 2 Axes>"
      ]
     },
     "metadata": {
      "needs_background": "light"
     },
     "output_type": "display_data"
    }
   ],
   "source": [
    "# Illustrate pairwise parameters\n",
    "fig, ax = plt.subplots(1,1, figsize=[9,5])\n",
    "ax, cb = mavenn.heatmap_pairwise(pairwise_df, \n",
    "                                 mask_dict=mask_dict, \n",
    "                                 ax=ax)"
   ]
  },
  {
   "cell_type": "markdown",
   "metadata": {},
   "source": [
    "An alternative way of interrogating model parameters is to compute the effects of mutations from a specific wild-type sequence of interest. In this case we will use the consensus splice site `\"CAGGUAAGU\"` as the wild-type sequence. The function `mavenn.get_1pt_effects()` provides a quick way to do this computation. "
   ]
  },
  {
   "cell_type": "code",
   "execution_count": 17,
   "metadata": {},
   "outputs": [
    {
     "data": {
      "text/html": [
       "<div>\n",
       "<style scoped>\n",
       "    .dataframe tbody tr th:only-of-type {\n",
       "        vertical-align: middle;\n",
       "    }\n",
       "\n",
       "    .dataframe tbody tr th {\n",
       "        vertical-align: top;\n",
       "    }\n",
       "\n",
       "    .dataframe thead th {\n",
       "        text-align: right;\n",
       "    }\n",
       "</style>\n",
       "<table border=\"1\" class=\"dataframe\">\n",
       "  <thead>\n",
       "    <tr style=\"text-align: right;\">\n",
       "      <th></th>\n",
       "      <th>l</th>\n",
       "      <th>c_wt</th>\n",
       "      <th>c_mut</th>\n",
       "      <th>phi</th>\n",
       "      <th>phi_wt</th>\n",
       "      <th>dphi</th>\n",
       "      <th>seq</th>\n",
       "    </tr>\n",
       "    <tr>\n",
       "      <th>name</th>\n",
       "      <th></th>\n",
       "      <th></th>\n",
       "      <th></th>\n",
       "      <th></th>\n",
       "      <th></th>\n",
       "      <th></th>\n",
       "      <th></th>\n",
       "    </tr>\n",
       "  </thead>\n",
       "  <tbody>\n",
       "    <tr>\n",
       "      <th>C0A</th>\n",
       "      <td>0</td>\n",
       "      <td>C</td>\n",
       "      <td>A</td>\n",
       "      <td>6.445588</td>\n",
       "      <td>6.68238</td>\n",
       "      <td>-0.236793</td>\n",
       "      <td>AAGGTAAGT</td>\n",
       "    </tr>\n",
       "    <tr>\n",
       "      <th>C0G</th>\n",
       "      <td>0</td>\n",
       "      <td>C</td>\n",
       "      <td>G</td>\n",
       "      <td>5.402607</td>\n",
       "      <td>6.68238</td>\n",
       "      <td>-1.279773</td>\n",
       "      <td>GAGGTAAGT</td>\n",
       "    </tr>\n",
       "    <tr>\n",
       "      <th>C0T</th>\n",
       "      <td>0</td>\n",
       "      <td>C</td>\n",
       "      <td>T</td>\n",
       "      <td>5.309470</td>\n",
       "      <td>6.68238</td>\n",
       "      <td>-1.372910</td>\n",
       "      <td>TAGGTAAGT</td>\n",
       "    </tr>\n",
       "    <tr>\n",
       "      <th>A1C</th>\n",
       "      <td>1</td>\n",
       "      <td>A</td>\n",
       "      <td>C</td>\n",
       "      <td>5.484972</td>\n",
       "      <td>6.68238</td>\n",
       "      <td>-1.197408</td>\n",
       "      <td>CCGGTAAGT</td>\n",
       "    </tr>\n",
       "    <tr>\n",
       "      <th>A1G</th>\n",
       "      <td>1</td>\n",
       "      <td>A</td>\n",
       "      <td>G</td>\n",
       "      <td>4.862184</td>\n",
       "      <td>6.68238</td>\n",
       "      <td>-1.820196</td>\n",
       "      <td>CGGGTAAGT</td>\n",
       "    </tr>\n",
       "  </tbody>\n",
       "</table>\n",
       "</div>"
      ],
      "text/plain": [
       "      l c_wt c_mut       phi   phi_wt      dphi        seq\n",
       "name                                                      \n",
       "C0A   0    C     A  6.445588  6.68238 -0.236793  AAGGTAAGT\n",
       "C0G   0    C     G  5.402607  6.68238 -1.279773  GAGGTAAGT\n",
       "C0T   0    C     T  5.309470  6.68238 -1.372910  TAGGTAAGT\n",
       "A1C   1    A     C  5.484972  6.68238 -1.197408  CCGGTAAGT\n",
       "A1G   1    A     G  4.862184  6.68238 -1.820196  CGGGTAAGT"
      ]
     },
     "execution_count": 17,
     "metadata": {},
     "output_type": "execute_result"
    }
   ],
   "source": [
    "cons_ss = \"CAGGTAAGT\"\n",
    "\n",
    "effects_df = mavenn.get_1pt_effects(func=model.x_to_phi, wt_seq=cons_ss, alphabet=\"dna\")\n",
    "effects_df.head()"
   ]
  },
  {
   "cell_type": "markdown",
   "metadata": {},
   "source": [
    "The first argument `func=model.x_to_phi` specifies a function that maps sequences to values that we want to study. In our case, we use the $x \\to \\phi$ mapping component of our inferred model. \n",
    "\n",
    "The output from `mavenn.get_1pt_effects()` can be plotted as a heatmap as well, with dots to inidicate contributions to the specified wild-type sequence."
   ]
  },
  {
   "cell_type": "code",
   "execution_count": 18,
   "metadata": {},
   "outputs": [
    {
     "data": {
      "text/plain": [
       "Text(0.5, 1.0, 'consus sequence: CAGGTAAGT')"
      ]
     },
     "execution_count": 18,
     "metadata": {},
     "output_type": "execute_result"
    },
    {
     "data": {
      "image/png": "[encoded data removed]",
      "text/plain": [
       "<Figure size 432x288 with 2 Axes>"
      ]
     },
     "metadata": {
      "needs_background": "light"
     },
     "output_type": "display_data"
    }
   ],
   "source": [
    "ax, cb = mavenn.heatmap(df=effects_df,\n",
    "                        seq=cons_ss,\n",
    "                        seq_kwargs={'s':100, 'marker':'o', 'color':'k'},\n",
    "                        l_col=\"l\",\n",
    "                        c_col=\"c_mut\",\n",
    "                        value_col=\"dphi\",\n",
    "                        missing_values=0,\n",
    "                        clim=[-2.5,1],\n",
    "                        ccenter=0,\n",
    "                        mask_dict=mask_dict)\n",
    "ax.set_title(f'consus sequence: {cons_ss}')"
   ]
  },
  {
   "cell_type": "markdown",
   "metadata": {},
   "source": [
    "As expected, all mutations away from the consensus sequence reduce $\\phi$, which quantifies splice site strength.\n",
    "\n",
    "The effects of pairwise mutations can be computed similarly, using `maven.get_2pt_effects()`..."
   ]
  },
  {
   "cell_type": "code",
   "execution_count": 19,
   "metadata": {},
   "outputs": [
    {
     "data": {
      "text/html": [
       "<div>\n",
       "<style scoped>\n",
       "    .dataframe tbody tr th:only-of-type {\n",
       "        vertical-align: middle;\n",
       "    }\n",
       "\n",
       "    .dataframe tbody tr th {\n",
       "        vertical-align: top;\n",
       "    }\n",
       "\n",
       "    .dataframe thead th {\n",
       "        text-align: right;\n",
       "    }\n",
       "</style>\n",
       "<table border=\"1\" class=\"dataframe\">\n",
       "  <thead>\n",
       "    <tr style=\"text-align: right;\">\n",
       "      <th></th>\n",
       "      <th>l1</th>\n",
       "      <th>c1_wt</th>\n",
       "      <th>c1_mut</th>\n",
       "      <th>l2</th>\n",
       "      <th>c2_wt</th>\n",
       "      <th>c2_mut</th>\n",
       "      <th>phi_12</th>\n",
       "      <th>phi_1</th>\n",
       "      <th>phi_2</th>\n",
       "      <th>phi_wt</th>\n",
       "      <th>ddphi</th>\n",
       "      <th>seq</th>\n",
       "    </tr>\n",
       "    <tr>\n",
       "      <th>name</th>\n",
       "      <th></th>\n",
       "      <th></th>\n",
       "      <th></th>\n",
       "      <th></th>\n",
       "      <th></th>\n",
       "      <th></th>\n",
       "      <th></th>\n",
       "      <th></th>\n",
       "      <th></th>\n",
       "      <th></th>\n",
       "      <th></th>\n",
       "      <th></th>\n",
       "    </tr>\n",
       "  </thead>\n",
       "  <tbody>\n",
       "    <tr>\n",
       "      <th>C0A,A1C</th>\n",
       "      <td>0</td>\n",
       "      <td>C</td>\n",
       "      <td>A</td>\n",
       "      <td>1</td>\n",
       "      <td>A</td>\n",
       "      <td>C</td>\n",
       "      <td>5.536503</td>\n",
       "      <td>6.445588</td>\n",
       "      <td>5.484972</td>\n",
       "      <td>6.68238</td>\n",
       "      <td>0.288324</td>\n",
       "      <td>ACGGTAAGT</td>\n",
       "    </tr>\n",
       "    <tr>\n",
       "      <th>C0A,A1G</th>\n",
       "      <td>0</td>\n",
       "      <td>C</td>\n",
       "      <td>A</td>\n",
       "      <td>1</td>\n",
       "      <td>A</td>\n",
       "      <td>G</td>\n",
       "      <td>4.533135</td>\n",
       "      <td>6.445588</td>\n",
       "      <td>4.862184</td>\n",
       "      <td>6.68238</td>\n",
       "      <td>-0.092257</td>\n",
       "      <td>AGGGTAAGT</td>\n",
       "    </tr>\n",
       "    <tr>\n",
       "      <th>C0A,A1T</th>\n",
       "      <td>0</td>\n",
       "      <td>C</td>\n",
       "      <td>A</td>\n",
       "      <td>1</td>\n",
       "      <td>A</td>\n",
       "      <td>T</td>\n",
       "      <td>5.142301</td>\n",
       "      <td>6.445588</td>\n",
       "      <td>5.188154</td>\n",
       "      <td>6.68238</td>\n",
       "      <td>0.190939</td>\n",
       "      <td>ATGGTAAGT</td>\n",
       "    </tr>\n",
       "    <tr>\n",
       "      <th>C0A,G2A</th>\n",
       "      <td>0</td>\n",
       "      <td>C</td>\n",
       "      <td>A</td>\n",
       "      <td>2</td>\n",
       "      <td>G</td>\n",
       "      <td>A</td>\n",
       "      <td>3.715124</td>\n",
       "      <td>6.445588</td>\n",
       "      <td>4.036037</td>\n",
       "      <td>6.68238</td>\n",
       "      <td>-0.084121</td>\n",
       "      <td>AAAGTAAGT</td>\n",
       "    </tr>\n",
       "    <tr>\n",
       "      <th>C0A,G2C</th>\n",
       "      <td>0</td>\n",
       "      <td>C</td>\n",
       "      <td>A</td>\n",
       "      <td>2</td>\n",
       "      <td>G</td>\n",
       "      <td>C</td>\n",
       "      <td>3.702095</td>\n",
       "      <td>6.445588</td>\n",
       "      <td>3.898595</td>\n",
       "      <td>6.68238</td>\n",
       "      <td>0.040293</td>\n",
       "      <td>AACGTAAGT</td>\n",
       "    </tr>\n",
       "  </tbody>\n",
       "</table>\n",
       "</div>"
      ],
      "text/plain": [
       "         l1 c1_wt c1_mut  l2 c2_wt c2_mut    phi_12     phi_1     phi_2  \\\n",
       "name                                                                      \n",
       "C0A,A1C   0     C      A   1     A      C  5.536503  6.445588  5.484972   \n",
       "C0A,A1G   0     C      A   1     A      G  4.533135  6.445588  4.862184   \n",
       "C0A,A1T   0     C      A   1     A      T  5.142301  6.445588  5.188154   \n",
       "C0A,G2A   0     C      A   2     G      A  3.715124  6.445588  4.036037   \n",
       "C0A,G2C   0     C      A   2     G      C  3.702095  6.445588  3.898595   \n",
       "\n",
       "          phi_wt     ddphi        seq  \n",
       "name                                   \n",
       "C0A,A1C  6.68238  0.288324  ACGGTAAGT  \n",
       "C0A,A1G  6.68238 -0.092257  AGGGTAAGT  \n",
       "C0A,A1T  6.68238  0.190939  ATGGTAAGT  \n",
       "C0A,G2A  6.68238 -0.084121  AAAGTAAGT  \n",
       "C0A,G2C  6.68238  0.040293  AACGTAAGT  "
      ]
     },
     "execution_count": 19,
     "metadata": {},
     "output_type": "execute_result"
    }
   ],
   "source": [
    "effects_df = mavenn.get_2pt_effects(model.x_to_phi, wt_seq=cons_ss, alphabet=\"dna\")\n",
    "effects_df.head()"
   ]
  },
  {
   "cell_type": "markdown",
   "metadata": {},
   "source": [
    "...and visualized using `mavenn.heatmap_pairwise()`."
   ]
  },
  {
   "cell_type": "code",
   "execution_count": 20,
   "metadata": {},
   "outputs": [
    {
     "name": "stdout",
     "output_type": "stream",
     "text": [
      "Automatically determined gpmap_type=pairwise.\n"
     ]
    },
    {
     "data": {
      "image/png": "[encoded data removed]",
      "text/plain": [
       "<Figure size 648x360 with 2 Axes>"
      ]
     },
     "metadata": {
      "needs_background": "light"
     },
     "output_type": "display_data"
    }
   ],
   "source": [
    "# Illustrate pairwise parameters\n",
    "fig, ax = plt.subplots(1,1, figsize=[9,5])\n",
    "ax, cb = mavenn.heatmap_pairwise(effects_df, \n",
    "                                 l1_col=\"l1\",\n",
    "                                 l2_col=\"l2\",\n",
    "                                 c1_col=\"c1_mut\",\n",
    "                                 c2_col=\"c2_mut\",\n",
    "                                 value_col=\"ddphi\",\n",
    "                                 mask_dict=mask_dict,\n",
    "                                 missing_values=0,\n",
    "                                 seq=cons_ss,\n",
    "                                 ccenter=0,\n",
    "                                 seq_kwargs={'s':10, 'marker':'o', 'color':'k'},\n",
    "                                 ax=ax)"
   ]
  },
  {
   "cell_type": "markdown",
   "metadata": {},
   "source": [
    "Finally, we can save the model for later analysis or use:"
   ]
  },
  {
   "cell_type": "code",
   "execution_count": 21,
   "metadata": {},
   "outputs": [
    {
     "name": "stdout",
     "output_type": "stream",
     "text": [
      "Model saved to these files:\n",
      "\ttutorial_1_mpsa_ge_pairwise.pickle\n",
      "\ttutorial_1_mpsa_ge_pairwise.h5\n"
     ]
    }
   ],
   "source": [
    "# Save model\n",
    "model.save('tutorial_1_mpsa_ge_pairwise')"
   ]
  },
  {
   "cell_type": "code",
   "execution_count": null,
   "metadata": {
    "collapsed": true
   },
   "outputs": [],
   "source": []
  }
 ],
 "metadata": {
  "kernelspec": {
   "display_name": "Python 3",
   "language": "python",
   "name": "python3"
  },
  "language_info": {
   "codemirror_mode": {
    "name": "ipython",
    "version": 3
   },
   "file_extension": ".py",
   "mimetype": "text/x-python",
   "name": "python",
   "nbconvert_exporter": "python",
   "pygments_lexer": "ipython3",
   "version": "3.6.7"
  }
 },
 "nbformat": 4,
 "nbformat_minor": 2
}
