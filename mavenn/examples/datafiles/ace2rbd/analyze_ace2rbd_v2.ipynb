{
 "cells": [
  {
   "cell_type": "code",
   "execution_count": null,
   "metadata": {},
   "outputs": [],
   "source": [
    "# Standard imports\n",
    "import pandas as pd\n",
    "import matplotlib.pyplot as plt\n",
    "import numpy as np\n",
    "import re\n",
    "import seaborn as sns\n",
    "import time\n",
    "%matplotlib inline\n",
    "\n",
    "# Insert mavenn at beginning of path\n",
    "import sys\n",
    "path_to_mavenn_local = '../../../../'\n",
    "sys.path.insert(0, path_to_mavenn_local)\n",
    "\n",
    "#Load mavenn and check path\n",
    "import mavenn\n",
    "print(mavenn.__path__)\n",
    "\n",
    "# MAVE-NN utilities\n",
    "from mavenn.src.dev import mutations_to_dataset"
   ]
  },
  {
   "cell_type": "code",
   "execution_count": null,
   "metadata": {},
   "outputs": [],
   "source": [
    "# Protein sequence determined from the wt coding DNA sequence in Snapgene\n",
    "# 'AATATTACAAACTTGTGCCCTTTTGGTGAAGTTTTTAACGCCACCAGATTTGCATCTGTTTATGCTTGGAACAGGAAGAGAATCAGCAACTGTGTTGCTGATTATTCTGTCCTATATAATTCCGCATCATTTTCCACTTTTAAGTGTTATGGAGTGTCTCCTACTAAATTAAATGATCTCTGCTTTACTAATGTCTATGCAGATTCATTTGTAATTAGAGGTGATGAAGTCAGACAAATCGCTCCAGGGCAAACTGGAAAGATTGCTGATTATAATTATAAATTACCAGATGATTTTACAGGCTGCGTTATAGCTTGGAATTCTAACAATCTTGATTCTAAGGTTGGTGGTAATTATAATTACCTGTATAGATTGTTTAGGAAGTCTAATCTCAAACCTTTTGAGAGAGATATTTCAACTGAAATCTATCAGGCCGGTAGCACACCTTGTAATGGTGTTGAAGGTTTTAATTGTTACTTTCCTTTACAATCATATGGTTTCCAACCCACTAATGGTGTTGGTTACCAACCATACAGAGTAGTAGTACTTTCTTTTGAACTTCTACATGCACCAGCAACTGTTTGTGGACCTAAAAAGTCTACT'\n",
    "wt_seq = 'NITNLCPFGEVFNATRFASVYAWNRKRISNCVADYSVLYNSASFSTFKCYGVSPTKLNDLCFTNVYADSFVIRGDEVRQIAPGQTGKIADYNYKLPDDFTGCVIAWNSNNLDSKVGGNYNYLYRLFRKSNLKPFERDISTEIYQAGSTPCNGVEGFNCYFPLQSYGFQPTNGVGYQPYRVVVLSFELLHAPATVCGPKKST'\n",
    "len(wt_seq)"
   ]
  },
  {
   "cell_type": "code",
   "execution_count": null,
   "metadata": {},
   "outputs": [],
   "source": [
    "# Save data_df\n",
    "file_name = '../ace2rbd_data.csv.gz'\n",
    "data_df = pd.read_csv(file_name, compression='gzip')"
   ]
  },
  {
   "cell_type": "code",
   "execution_count": null,
   "metadata": {},
   "outputs": [],
   "source": [
    "# Histogram hamming distances\n",
    "print(f\"Hamming dists: {data_df['hamming_dist'].mean():.2f} +- {data_df['hamming_dist'].std():.2f}\")\n",
    "sns.distplot(data_df['hamming_dist'], kde=False, bins=np.arange(10)-.5)"
   ]
  },
  {
   "cell_type": "code",
   "execution_count": null,
   "metadata": {},
   "outputs": [],
   "source": [
    "# # Get mask, if any. Will show which amino acids were not assayed\n",
    "# mask_dict = mavenn.get_mask_dict(data_df['x'], alphabet='protein')\n",
    "# print(mask_dict)"
   ]
  },
  {
   "cell_type": "code",
   "execution_count": null,
   "metadata": {},
   "outputs": [],
   "source": [
    "# Split into training and test sets\n",
    "ix = data_df['training_set']\n",
    "training_df = data_df[ix].copy()\n",
    "test_df = data_df[~ix].copy"
   ]
  },
  {
   "cell_type": "code",
   "execution_count": null,
   "metadata": {},
   "outputs": [],
   "source": [
    "# # Subsample training data\n",
    "# ix = np.random.rand(len(training_df)) < 1.1\n",
    "# training_df = training_df[ix]"
   ]
  },
  {
   "cell_type": "code",
   "execution_count": null,
   "metadata": {},
   "outputs": [],
   "source": [
    "# Infer additive model\n",
    "model = mavenn.Model(x=training_df['x'].values, \n",
    "                     y=training_df['y'].values,\n",
    "                     theta_regularization=.1,\n",
    "                     eta_regularization=.1,\n",
    "                     alphabet='protein',\n",
    "                     gpmap_type='additive',\n",
    "                     regression_type='GE',\n",
    "                     ge_noise_model_type='Cauchy',\n",
    "                     ge_heteroskedasticity_order=2)"
   ]
  },
  {
   "cell_type": "code",
   "execution_count": null,
   "metadata": {},
   "outputs": [],
   "source": [
    "# Note: Inference success is rather sensitive to the hyperparameters\n",
    "start_time = time.time()\n",
    "np.random.seed(0)\n",
    "history = model.fit(epochs=1000, \n",
    "                    early_stopping=True, \n",
    "                    early_stopping_patience=20, \n",
    "                    learning_rate=.0005, \n",
    "                    batch_size=50)\n",
    "                    #optimizer_kwargs={'clipvalue':0.5})\n",
    "training_time = time.time()-start_time\n",
    "print(f'training time: {training_time:.1f} seconds')"
   ]
  },
  {
   "cell_type": "code",
   "execution_count": null,
   "metadata": {},
   "outputs": [],
   "source": [
    "ll_layer = model.model.model._layers[-1]\n",
    "ll_layer.__dict__"
   ]
  },
  {
   "cell_type": "code",
   "execution_count": null,
   "metadata": {},
   "outputs": [],
   "source": [
    "## Diagnostics\n",
    "nn = model.get_nn()\n",
    "nn.trainable_weights"
   ]
  },
  {
   "cell_type": "code",
   "execution_count": null,
   "metadata": {},
   "outputs": [],
   "source": [
    "# Extract training loss and validation loss\n",
    "history_dict = history.history\n",
    "loss_training = history_dict['loss']\n",
    "loss_validation = history_dict['val_loss']\n",
    "\n",
    "# Plot model training history\n",
    "fig, ax = plt.subplots()\n",
    "ax.plot(loss_training, color='C2', label='training')\n",
    "ax.plot(loss_validation, color='C3', label='validation')\n",
    "ax.set_ylabel('loss')\n",
    "ax.set_xlabel('epoch')\n",
    "ax.set_title(f\"training history ({training_time:.2f} sec)\")\n",
    "ax.legend()"
   ]
  },
  {
   "cell_type": "code",
   "execution_count": null,
   "metadata": {},
   "outputs": [],
   "source": [
    "# Set wild-type sequence\n",
    "wt_seq = 'NITNLCPFGEVFNATRFASVYAWNRKRISNCVADYSVLYNSASFSTFKCYGVSPTKLNDLCFTNVYADSFVIRGDEVRQIAPGQTGKIADYNYKLPDDFTGCVIAWNSNNLDSKVGGNYNYLYRLFRKSNLKPFERDISTEIYQAGSTPCNGVEGFNCYFPLQSYGFQPTNGVGYQPYRVVVLSFELLHAPATVCGPKKST'\n",
    "\n",
    "# Get effects of all single-point mutations on phi\n",
    "dphi_df = mavenn.get_1pt_effects(func=model.x_to_phi,\n",
    "                                 wt_seq=wt_seq,\n",
    "                                 alphabet='protein')\n",
    "# Draw heatmap\n",
    "fig, ax = plt.subplots(figsize=[15,5])\n",
    "ax, cb = mavenn.heatmap(dphi_df,\n",
    "                        ccenter=0,\n",
    "                        clim_quantile=.99,\n",
    "                        #clim=[-1,.2],\n",
    "                        c_col='c_mut',\n",
    "                        l_col='l',\n",
    "                        value_col='dphi',\n",
    "                        seq=wt_seq,\n",
    "                        cmap='PiYG',\n",
    "                        ax=ax)\n",
    "ax.set_xlabel('position ($l$)')\n",
    "ax.set_ylabel('amino acid ($c$)')\n",
    "cb.set_label('effect ($\\Delta\\phi$)', rotation=-90, va=\"bottom\")\n",
    "ax.set_title('mutation effects')"
   ]
  },
  {
   "cell_type": "code",
   "execution_count": null,
   "metadata": {},
   "outputs": [],
   "source": [
    "# Extract data into np.arrays\n",
    "x = test_df['x'].values\n",
    "y = test_df['y'].values\n",
    "\n",
    "# Compute phi and yhat values\n",
    "phi = model.x_to_phi(x)\n",
    "yhat = model.phi_to_yhat(phi)\n",
    "\n",
    "# Create grid for plotting yhat and yqs\n",
    "phi_lim = [-5, 2.5]\n",
    "phi_grid = np.linspace(phi_lim[0], phi_lim[1], 1000)\n",
    "yhat_grid = model.phi_to_yhat(phi_grid)\n",
    "yqs_grid = model.yhat_to_yq(yhat_grid, q=[.16,.84])"
   ]
  },
  {
   "cell_type": "code",
   "execution_count": null,
   "metadata": {},
   "outputs": [],
   "source": [
    "fig, ax = plt.subplots()\n",
    "\n",
    "ax.scatter(phi, y, color='C0', s=5, alpha=.2, label='test data')\n",
    "ax.plot(phi_grid, yhat_grid, linewidth=2, color='C1',\n",
    "        label='$\\hat{y} = g(\\phi)$')\n",
    "ax.plot(phi_grid, yqs_grid[:, 0], linestyle='--', color='C1',\n",
    "        label='68% CI')\n",
    "ax.plot(phi_grid, yqs_grid[:, 1], linestyle='--', color='C1')\n",
    "ax.set_xlim(phi_lim)\n",
    "ax.set_xlabel('latent phenotype ($\\phi$)')\n",
    "ax.set_ylabel('measurement ($y$)')"
   ]
  },
  {
   "cell_type": "code",
   "execution_count": null,
   "metadata": {},
   "outputs": [],
   "source": [
    "# # Save model\n",
    "# model.save('ace2rbd_model_v2')\n",
    "# !ls"
   ]
  },
  {
   "cell_type": "code",
   "execution_count": null,
   "metadata": {},
   "outputs": [],
   "source": []
  },
  {
   "cell_type": "code",
   "execution_count": null,
   "metadata": {},
   "outputs": [],
   "source": []
  },
  {
   "cell_type": "code",
   "execution_count": null,
   "metadata": {},
   "outputs": [],
   "source": []
  }
 ],
 "metadata": {
  "kernelspec": {
   "display_name": "Python 3",
   "language": "python",
   "name": "python3"
  },
  "language_info": {
   "codemirror_mode": {
    "name": "ipython",
    "version": 3
   },
   "file_extension": ".py",
   "mimetype": "text/x-python",
   "name": "python",
   "nbconvert_exporter": "python",
   "pygments_lexer": "ipython3",
   "version": "3.7.4"
  }
 },
 "nbformat": 4,
 "nbformat_minor": 2
}
