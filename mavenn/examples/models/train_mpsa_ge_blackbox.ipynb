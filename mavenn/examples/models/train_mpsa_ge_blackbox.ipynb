{
 "cells": [
  {
   "cell_type": "code",
   "execution_count": 1,
   "metadata": {
    "ExecuteTime": {
     "end_time": "2020-11-17T18:10:22.716127Z",
     "start_time": "2020-11-17T18:10:19.740757Z"
    }
   },
   "outputs": [
    {
     "name": "stdout",
     "output_type": "stream",
     "text": [
      "['/Users/tareen/Desktop/Research_Projects/2020_mavenn_github/mavenn_git_ssh/mavenn']\n"
     ]
    }
   ],
   "source": [
    "# Standard imports\n",
    "import pandas as pd\n",
    "import matplotlib.pyplot as plt\n",
    "import numpy as np\n",
    "\n",
    "# Insert path to mavenn beginning of path\n",
    "import os\n",
    "import sys\n",
    "import sys\n",
    "path_to_mavenn = '/Users/tareen/Desktop/Research_Projects/2020_mavenn_github/mavenn_git_ssh/'\n",
    "sys.path.insert(0, path_to_mavenn)\n",
    "\n",
    "# Load mavenn\n",
    "import mavenn\n",
    "print(mavenn.__path__)"
   ]
  },
  {
   "cell_type": "code",
   "execution_count": 2,
   "metadata": {
    "ExecuteTime": {
     "end_time": "2020-11-17T18:10:22.822155Z",
     "start_time": "2020-11-17T18:10:22.719308Z"
    }
   },
   "outputs": [
    {
     "name": "stdout",
     "output_type": "stream",
     "text": [
      "test N: 6,249\n",
      "training + validation N: 24,234\n"
     ]
    },
    {
     "data": {
      "text/html": [
       "<div>\n",
       "<style scoped>\n",
       "    .dataframe tbody tr th:only-of-type {\n",
       "        vertical-align: middle;\n",
       "    }\n",
       "\n",
       "    .dataframe tbody tr th {\n",
       "        vertical-align: top;\n",
       "    }\n",
       "\n",
       "    .dataframe thead th {\n",
       "        text-align: right;\n",
       "    }\n",
       "</style>\n",
       "<table border=\"1\" class=\"dataframe\">\n",
       "  <thead>\n",
       "    <tr style=\"text-align: right;\">\n",
       "      <th></th>\n",
       "      <th>set</th>\n",
       "      <th>tot_ct</th>\n",
       "      <th>ex_ct</th>\n",
       "      <th>y</th>\n",
       "      <th>x</th>\n",
       "    </tr>\n",
       "  </thead>\n",
       "  <tbody>\n",
       "    <tr>\n",
       "      <th>0</th>\n",
       "      <td>training</td>\n",
       "      <td>28</td>\n",
       "      <td>2</td>\n",
       "      <td>0.023406</td>\n",
       "      <td>GGAGUGAUG</td>\n",
       "    </tr>\n",
       "    <tr>\n",
       "      <th>1</th>\n",
       "      <td>training</td>\n",
       "      <td>315</td>\n",
       "      <td>7</td>\n",
       "      <td>-0.587914</td>\n",
       "      <td>AGUGUGCAA</td>\n",
       "    </tr>\n",
       "    <tr>\n",
       "      <th>2</th>\n",
       "      <td>validation</td>\n",
       "      <td>27</td>\n",
       "      <td>0</td>\n",
       "      <td>-0.438475</td>\n",
       "      <td>UAAGCUUUU</td>\n",
       "    </tr>\n",
       "    <tr>\n",
       "      <th>3</th>\n",
       "      <td>training</td>\n",
       "      <td>130</td>\n",
       "      <td>2</td>\n",
       "      <td>-0.631467</td>\n",
       "      <td>AUGGUCGGG</td>\n",
       "    </tr>\n",
       "    <tr>\n",
       "      <th>4</th>\n",
       "      <td>training</td>\n",
       "      <td>552</td>\n",
       "      <td>19</td>\n",
       "      <td>-0.433012</td>\n",
       "      <td>AGGGCAGGA</td>\n",
       "    </tr>\n",
       "    <tr>\n",
       "      <th>5</th>\n",
       "      <td>training</td>\n",
       "      <td>151</td>\n",
       "      <td>184</td>\n",
       "      <td>1.094011</td>\n",
       "      <td>AAGGUCCGC</td>\n",
       "    </tr>\n",
       "    <tr>\n",
       "      <th>6</th>\n",
       "      <td>training</td>\n",
       "      <td>88</td>\n",
       "      <td>4</td>\n",
       "      <td>-0.241737</td>\n",
       "      <td>CAGGCAAAC</td>\n",
       "    </tr>\n",
       "    <tr>\n",
       "      <th>7</th>\n",
       "      <td>training</td>\n",
       "      <td>105</td>\n",
       "      <td>5</td>\n",
       "      <td>-0.238471</td>\n",
       "      <td>GUGGCAAAU</td>\n",
       "    </tr>\n",
       "    <tr>\n",
       "      <th>8</th>\n",
       "      <td>validation</td>\n",
       "      <td>14</td>\n",
       "      <td>0</td>\n",
       "      <td>-0.167408</td>\n",
       "      <td>CAUGCAGCU</td>\n",
       "    </tr>\n",
       "    <tr>\n",
       "      <th>9</th>\n",
       "      <td>training</td>\n",
       "      <td>170</td>\n",
       "      <td>14</td>\n",
       "      <td>-0.048222</td>\n",
       "      <td>CAAGUCACU</td>\n",
       "    </tr>\n",
       "  </tbody>\n",
       "</table>\n",
       "</div>"
      ],
      "text/plain": [
       "          set  tot_ct  ex_ct         y          x\n",
       "0    training      28      2  0.023406  GGAGUGAUG\n",
       "1    training     315      7 -0.587914  AGUGUGCAA\n",
       "2  validation      27      0 -0.438475  UAAGCUUUU\n",
       "3    training     130      2 -0.631467  AUGGUCGGG\n",
       "4    training     552     19 -0.433012  AGGGCAGGA\n",
       "5    training     151    184  1.094011  AAGGUCCGC\n",
       "6    training      88      4 -0.241737  CAGGCAAAC\n",
       "7    training     105      5 -0.238471  GUGGCAAAU\n",
       "8  validation      14      0 -0.167408  CAUGCAGCU\n",
       "9    training     170     14 -0.048222  CAAGUCACU"
      ]
     },
     "execution_count": 2,
     "metadata": {},
     "output_type": "execute_result"
    }
   ],
   "source": [
    "# Download mpsa dataset from master branch\n",
    "url = 'https://github.com/jbkinney/mavenn/blob/master/mavenn/examples/datasets/mpsa_data.csv.gz?raw=true'\n",
    "\n",
    "data_df = pd.read_csv(url,  \n",
    "                      compression='gzip',\n",
    "                      index_col=[0])\n",
    "\n",
    "data_df = data_df.reset_index().copy()\n",
    "\n",
    "# Separate test from data_df\n",
    "ix_test = data_df['set']=='test'\n",
    "test_df = data_df[ix_test].reset_index(drop=True)\n",
    "print(f'test N: {len(test_df):,}')\n",
    "\n",
    "# Remove test data from data_df\n",
    "data_df = data_df[~ix_test].reset_index(drop=True)\n",
    "print(f'training + validation N: {len(data_df):,}')\n",
    "data_df.head(10)"
   ]
  },
  {
   "cell_type": "code",
   "execution_count": 3,
   "metadata": {
    "ExecuteTime": {
     "end_time": "2020-11-17T18:11:01.626553Z",
     "start_time": "2020-11-17T18:10:22.824808Z"
    }
   },
   "outputs": [
    {
     "name": "stdout",
     "output_type": "stream",
     "text": [
      "N = 24,234 observations set as training data.\n",
      "Using 24.8% for validation.\n",
      "Data shuffled.\n",
      "Time to set data: 0.398 sec.\n",
      "Epoch 1/1000\n"
     ]
    },
    {
     "name": "stderr",
     "output_type": "stream",
     "text": [
      "Using TensorFlow backend.\n",
      "Exception ignored in: <bound method tqdm.__del__ of <tqdm.auto.tqdm object at 0x7fcbf23695f8>>\n",
      "Traceback (most recent call last):\n",
      "  File \"/Users/tareen/miniconda3/lib/python3.6/site-packages/tqdm/std.py\", line 1147, in __del__\n",
      "    self.close()\n",
      "  File \"/Users/tareen/miniconda3/lib/python3.6/site-packages/tqdm/notebook.py\", line 289, in close\n",
      "    self.disp(bar_style='success', check_delay=False)\n",
      "AttributeError: 'tqdm' object has no attribute 'disp'\n"
     ]
    },
    {
     "name": "stdout",
     "output_type": "stream",
     "text": [
      "365/365 [==============================] - 4s 5ms/step - loss: 66.6946 - I_var: -0.2891 - val_loss: 49.5484 - val_I_var: -0.0080\n",
      "Epoch 2/1000\n",
      "365/365 [==============================] - 1s 3ms/step - loss: 46.6237 - I_var: 0.1162 - val_loss: 40.1948 - val_I_var: 0.2310\n",
      "Epoch 3/1000\n",
      "365/365 [==============================] - 1s 3ms/step - loss: 39.2987 - I_var: 0.2710 - val_loss: 36.7376 - val_I_var: 0.3234\n",
      "Epoch 4/1000\n",
      "365/365 [==============================] - 1s 3ms/step - loss: 36.9852 - I_var: 0.3292 - val_loss: 35.6029 - val_I_var: 0.3522\n",
      "Epoch 5/1000\n",
      "365/365 [==============================] - 1s 3ms/step - loss: 35.0373 - I_var: 0.3706 - val_loss: 34.5428 - val_I_var: 0.3816\n",
      "Epoch 6/1000\n",
      "365/365 [==============================] - 1s 3ms/step - loss: 34.5737 - I_var: 0.3917 - val_loss: 34.6173 - val_I_var: 0.3784\n",
      "Epoch 7/1000\n",
      "365/365 [==============================] - 1s 3ms/step - loss: 33.8843 - I_var: 0.3907 - val_loss: 33.3646 - val_I_var: 0.4127\n",
      "Epoch 8/1000\n",
      "365/365 [==============================] - 1s 3ms/step - loss: 32.7019 - I_var: 0.4259 - val_loss: 33.3309 - val_I_var: 0.4134\n",
      "Epoch 9/1000\n",
      "365/365 [==============================] - 1s 3ms/step - loss: 32.1613 - I_var: 0.4315 - val_loss: 34.2930 - val_I_var: 0.3845\n",
      "Epoch 10/1000\n",
      "365/365 [==============================] - 1s 3ms/step - loss: 31.8179 - I_var: 0.4429 - val_loss: 33.7373 - val_I_var: 0.4004\n",
      "Epoch 11/1000\n",
      "365/365 [==============================] - 1s 3ms/step - loss: 32.2211 - I_var: 0.4411 - val_loss: 33.2789 - val_I_var: 0.4126\n",
      "Epoch 12/1000\n",
      "365/365 [==============================] - 1s 3ms/step - loss: 31.6497 - I_var: 0.4544 - val_loss: 33.3670 - val_I_var: 0.4100\n",
      "Epoch 13/1000\n",
      "365/365 [==============================] - 1s 3ms/step - loss: 31.3318 - I_var: 0.4578 - val_loss: 33.2659 - val_I_var: 0.4124\n",
      "Epoch 14/1000\n",
      "365/365 [==============================] - 1s 3ms/step - loss: 31.4540 - I_var: 0.4607 - val_loss: 33.1044 - val_I_var: 0.4165\n",
      "Epoch 15/1000\n",
      "365/365 [==============================] - 1s 3ms/step - loss: 31.7455 - I_var: 0.4606 - val_loss: 32.8365 - val_I_var: 0.4244\n",
      "Epoch 16/1000\n",
      "365/365 [==============================] - 1s 3ms/step - loss: 30.4720 - I_var: 0.4683 - val_loss: 33.7930 - val_I_var: 0.3967\n",
      "Epoch 17/1000\n",
      "365/365 [==============================] - 1s 3ms/step - loss: 30.9970 - I_var: 0.4619 - val_loss: 32.8887 - val_I_var: 0.4224\n",
      "Epoch 18/1000\n",
      "365/365 [==============================] - 1s 3ms/step - loss: 30.6927 - I_var: 0.4718 - val_loss: 33.5585 - val_I_var: 0.4034\n",
      "Epoch 19/1000\n",
      "365/365 [==============================] - 1s 3ms/step - loss: 30.6940 - I_var: 0.4784 - val_loss: 33.1408 - val_I_var: 0.4153\n",
      "Epoch 20/1000\n",
      "365/365 [==============================] - 1s 3ms/step - loss: 30.6467 - I_var: 0.4764 - val_loss: 34.2945 - val_I_var: 0.3818\n",
      "Epoch 21/1000\n",
      "365/365 [==============================] - 1s 3ms/step - loss: 31.2722 - I_var: 0.4804 - val_loss: 33.2774 - val_I_var: 0.4106\n",
      "Epoch 22/1000\n",
      "365/365 [==============================] - 1s 3ms/step - loss: 30.7188 - I_var: 0.4850 - val_loss: 33.4058 - val_I_var: 0.4070\n",
      "Epoch 23/1000\n",
      "365/365 [==============================] - 1s 3ms/step - loss: 31.5617 - I_var: 0.4855 - val_loss: 33.0474 - val_I_var: 0.4179\n",
      "Epoch 24/1000\n",
      "365/365 [==============================] - 1s 3ms/step - loss: 29.6567 - I_var: 0.4881 - val_loss: 33.5719 - val_I_var: 0.4015\n",
      "Epoch 25/1000\n",
      "365/365 [==============================] - 1s 3ms/step - loss: 30.4372 - I_var: 0.4844 - val_loss: 34.0201 - val_I_var: 0.3890\n",
      "Training time: 29.4 seconds\n",
      "Model saved to these files:\n",
      "\tmpsa_ge_blackbox.pickle\n",
      "\tmpsa_ge_blackbox.h5\n"
     ]
    }
   ],
   "source": [
    "# Get sequence length\n",
    "L = len(data_df['x'][0])\n",
    "\n",
    "# Set filename\n",
    "name = 'mpsa_ge_blackbox'\n",
    "\n",
    "# Define model\n",
    "model = mavenn.Model(regression_type='GE',\n",
    "                     L=L,\n",
    "                     alphabet='rna',\n",
    "                     #theta_regularization=0.1,\n",
    "                     gpmap_type='blackbox',\n",
    "                     gpmap_kwargs={\n",
    "                         'hidden_layer_sizes':[10]*5,\n",
    "                         'features':'pairwise'\n",
    "                     },\n",
    "                     ge_noise_model_type='SkewedT',\n",
    "                     ge_heteroskedasticity_order=2)\n",
    "\n",
    "# Set training data\n",
    "model.set_data(x=data_df['x'],\n",
    "               y=data_df['y'],\n",
    "               validation_flags=(data_df['set']=='validation'),\n",
    "               shuffle=True)\n",
    "\n",
    "# Fit model to data\n",
    "model.fit(learning_rate=.001,\n",
    "          epochs=1000,\n",
    "          batch_size=50,\n",
    "          early_stopping=True,\n",
    "          early_stopping_patience=10,\n",
    "          linear_initialization=False)\n",
    "\n"
   ]
  },
  {
   "cell_type": "code",
   "execution_count": 10,
   "metadata": {},
   "outputs": [
    {
     "name": "stdout",
     "output_type": "stream",
     "text": [
      "Model saved to these files:\n",
      "\tmpsa_ge_blackbox.pickle\n",
      "\tmpsa_ge_blackbox.h5\n"
     ]
    }
   ],
   "source": [
    "# Save models\n",
    "model.save(name)"
   ]
  },
  {
   "cell_type": "code",
   "execution_count": 4,
   "metadata": {
    "ExecuteTime": {
     "end_time": "2020-11-17T18:11:01.843791Z",
     "start_time": "2020-11-17T18:11:01.631030Z"
    }
   },
   "outputs": [
    {
     "name": "stdout",
     "output_type": "stream",
     "text": [
      "Model loaded from these files:\n",
      "\tmpsa_ge_blackbox.pickle\n",
      "\tmpsa_ge_blackbox.h5\n"
     ]
    }
   ],
   "source": [
    "# Load model\n",
    "model = mavenn.load(name)"
   ]
  },
  {
   "cell_type": "code",
   "execution_count": 5,
   "metadata": {
    "ExecuteTime": {
     "end_time": "2020-11-17T18:11:01.984438Z",
     "start_time": "2020-11-17T18:11:01.848808Z"
    }
   },
   "outputs": [
    {
     "name": "stdout",
     "output_type": "stream",
     "text": [
      "56\tmpsa_ge_blackbox.h5\r\n",
      "4\tmpsa_ge_blackbox.pickle\r\n"
     ]
    }
   ],
   "source": [
    "!du -k $name*"
   ]
  },
  {
   "cell_type": "code",
   "execution_count": 6,
   "metadata": {
    "ExecuteTime": {
     "end_time": "2020-11-17T18:11:01.991607Z",
     "start_time": "2020-11-17T18:11:01.986662Z"
    },
    "collapsed": true
   },
   "outputs": [],
   "source": [
    "# Get x and y\n",
    "x = test_df['x']\n",
    "y = test_df['y']"
   ]
  },
  {
   "cell_type": "code",
   "execution_count": 9,
   "metadata": {
    "ExecuteTime": {
     "end_time": "2020-11-17T18:11:03.074231Z",
     "start_time": "2020-11-17T18:11:01.999738Z"
    }
   },
   "outputs": [
    {
     "name": "stdout",
     "output_type": "stream",
     "text": [
      "On test data:\n",
      "I_var_test: 0.391 +- 0.027 bits\n",
      "I_pred_test: 0.460 +- 0.014 bits\n"
     ]
    },
    {
     "data": {
      "image/png": "[encoded data removed]",
      "text/plain": [
       "<Figure size 288x288 with 1 Axes>"
      ]
     },
     "metadata": {
      "needs_background": "light"
     },
     "output_type": "display_data"
    }
   ],
   "source": [
    "# Show training history\n",
    "print('On test data:')\n",
    "\n",
    "# Compute variational information\n",
    "I_var, dI_var =  model.I_variational(x=x, y=y)\n",
    "print(f'I_var_test: {I_var:.3f} +- {dI_var:.3f} bits') \n",
    "\n",
    "# Compute predictive information\n",
    "I_pred, dI_pred = model.I_predictive(x=x, y=y)\n",
    "print(f'I_pred_test: {I_pred:.3f} +- {dI_pred:.3f} bits')\n",
    "\n",
    "I_var_hist = model.history['I_var']\n",
    "val_I_var_hist = model.history['val_I_var']\n",
    "\n",
    "fig, ax = plt.subplots(1,1,figsize=[4,4])\n",
    "ax.plot(I_var_hist, label='I_var_train')\n",
    "ax.plot(val_I_var_hist, label='I_var_val')\n",
    "ax.axhline(I_var, color='C2', linestyle=':', label='I_var_test')\n",
    "ax.axhline(I_pred, color='C3', linestyle=':', label='I_pred_test')\n",
    "ax.legend()\n",
    "ax.set_xlabel('epochs')\n",
    "ax.set_ylabel('bits')\n",
    "ax.set_title('training hisotry')\n",
    "ax.set_ylim([0, I_pred*1.2]);"
   ]
  },
  {
   "cell_type": "code",
   "execution_count": 8,
   "metadata": {
    "ExecuteTime": {
     "end_time": "2020-11-17T18:11:03.845720Z",
     "start_time": "2020-11-17T18:11:03.077818Z"
    }
   },
   "outputs": [
    {
     "data": {
      "image/png": "[encoded data removed]",
      "text/plain": [
       "<Figure size 288x288 with 1 Axes>"
      ]
     },
     "metadata": {
      "needs_background": "light"
     },
     "output_type": "display_data"
    }
   ],
   "source": [
    "# Compute phi and yhat values\n",
    "phi = model.x_to_phi(x)\n",
    "yhat = model.phi_to_yhat(phi)\n",
    "\n",
    "# Create grid for plotting yhat and yqs\n",
    "phi_lim = [min(phi), max(phi)]\n",
    "phi_grid = np.linspace(phi_lim[0], phi_lim[1], 1000)\n",
    "yhat_grid = model.phi_to_yhat(phi_grid)\n",
    "yqs_grid = model.yhat_to_yq(yhat_grid, q=[.16,.84])\n",
    "\n",
    "# Create two panels\n",
    "fig, ax = plt.subplots(1, 1, figsize=[4, 4])\n",
    "\n",
    "# Illustrate measurement process with GE curve\n",
    "ax.scatter(phi, y, color='C0', s=5, alpha=.2, label='test data')\n",
    "ax.plot(phi_grid, yhat_grid, linewidth=2, color='C1',\n",
    "        label='$\\hat{y} = g(\\phi)$')\n",
    "ax.plot(phi_grid, yqs_grid[:, 0], linestyle='--', color='C1',\n",
    "        label='68% CI')\n",
    "ax.plot(phi_grid, yqs_grid[:, 1], linestyle='--', color='C1')\n",
    "ax.set_xlim(phi_lim)\n",
    "ax.set_xlabel('latent phenotype ($\\phi$)')\n",
    "ax.set_ylabel('measurement ($y$)')\n",
    "ax.set_title('measurement process')\n",
    "ax.legend()\n",
    "\n",
    "# Fix up plot\n",
    "fig.tight_layout()\n",
    "plt.show()"
   ]
  },
  {
   "cell_type": "code",
   "execution_count": null,
   "metadata": {
    "collapsed": true
   },
   "outputs": [],
   "source": []
  }
 ],
 "metadata": {
  "kernelspec": {
   "display_name": "Python 3",
   "language": "python",
   "name": "python3"
  },
  "language_info": {
   "codemirror_mode": {
    "name": "ipython",
    "version": 3
   },
   "file_extension": ".py",
   "mimetype": "text/x-python",
   "name": "python",
   "nbconvert_exporter": "python",
   "pygments_lexer": "ipython3",
   "version": "3.6.7"
  },
  "toc": {
   "base_numbering": 1,
   "nav_menu": {},
   "number_sections": true,
   "sideBar": true,
   "skip_h1_title": false,
   "title_cell": "Table of Contents",
   "title_sidebar": "Contents",
   "toc_cell": false,
   "toc_position": {},
   "toc_section_display": true,
   "toc_window_display": false
  },
  "varInspector": {
   "cols": {
    "lenName": 16,
    "lenType": 16,
    "lenVar": 40
   },
   "kernels_config": {
    "python": {
     "delete_cmd_postfix": "",
     "delete_cmd_prefix": "del ",
     "library": "var_list.py",
     "varRefreshCmd": "print(var_dic_list())"
    },
    "r": {
     "delete_cmd_postfix": ") ",
     "delete_cmd_prefix": "rm(",
     "library": "var_list.r",
     "varRefreshCmd": "cat(var_dic_list()) "
    }
   },
   "types_to_exclude": [
    "module",
    "function",
    "builtin_function_or_method",
    "instance",
    "_Feature"
   ],
   "window_display": false
  }
 },
 "nbformat": 4,
 "nbformat_minor": 2
}
