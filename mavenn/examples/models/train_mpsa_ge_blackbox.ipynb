{
 "cells": [
  {
   "cell_type": "code",
   "execution_count": 1,
   "metadata": {},
   "outputs": [
    {
     "name": "stdout",
     "output_type": "stream",
     "text": [
      "['/Users/jkinney/github/mavenn/mavenn']\n"
     ]
    }
   ],
   "source": [
    "# Standard imports\n",
    "import pandas as pd\n",
    "import matplotlib.pyplot as plt\n",
    "import numpy as np\n",
    "\n",
    "# Insert path to mavenn beginning of path\n",
    "import os\n",
    "import sys\n",
    "abs_path_to_mavenn = os.path.abspath('../../../')\n",
    "sys.path.insert(0, abs_path_to_mavenn)\n",
    "\n",
    "# Load mavenn\n",
    "import mavenn\n",
    "print(mavenn.__path__)"
   ]
  },
  {
   "cell_type": "code",
   "execution_count": 2,
   "metadata": {},
   "outputs": [
    {
     "data": {
      "text/html": [
       "<div>\n",
       "<style scoped>\n",
       "    .dataframe tbody tr th:only-of-type {\n",
       "        vertical-align: middle;\n",
       "    }\n",
       "\n",
       "    .dataframe tbody tr th {\n",
       "        vertical-align: top;\n",
       "    }\n",
       "\n",
       "    .dataframe thead th {\n",
       "        text-align: right;\n",
       "    }\n",
       "</style>\n",
       "<table border=\"1\" class=\"dataframe\">\n",
       "  <thead>\n",
       "    <tr style=\"text-align: right;\">\n",
       "      <th></th>\n",
       "      <th>training_set</th>\n",
       "      <th>tot_ct</th>\n",
       "      <th>ex_ct</th>\n",
       "      <th>y</th>\n",
       "      <th>x</th>\n",
       "    </tr>\n",
       "  </thead>\n",
       "  <tbody>\n",
       "    <tr>\n",
       "      <th>0</th>\n",
       "      <td>True</td>\n",
       "      <td>1588</td>\n",
       "      <td>66</td>\n",
       "      <td>-4.568430</td>\n",
       "      <td>ACGGUCCAU</td>\n",
       "    </tr>\n",
       "    <tr>\n",
       "      <th>1</th>\n",
       "      <td>True</td>\n",
       "      <td>1533</td>\n",
       "      <td>118</td>\n",
       "      <td>-3.683342</td>\n",
       "      <td>AUUGCCAGG</td>\n",
       "    </tr>\n",
       "    <tr>\n",
       "      <th>2</th>\n",
       "      <td>True</td>\n",
       "      <td>1459</td>\n",
       "      <td>399</td>\n",
       "      <td>-1.868565</td>\n",
       "      <td>ACAGCGGUA</td>\n",
       "    </tr>\n",
       "    <tr>\n",
       "      <th>3</th>\n",
       "      <td>True</td>\n",
       "      <td>1414</td>\n",
       "      <td>246</td>\n",
       "      <td>-2.516214</td>\n",
       "      <td>AACGCCAGG</td>\n",
       "    </tr>\n",
       "    <tr>\n",
       "      <th>4</th>\n",
       "      <td>True</td>\n",
       "      <td>1412</td>\n",
       "      <td>60</td>\n",
       "      <td>-4.535831</td>\n",
       "      <td>ACGGCUUGG</td>\n",
       "    </tr>\n",
       "  </tbody>\n",
       "</table>\n",
       "</div>"
      ],
      "text/plain": [
       "   training_set  tot_ct  ex_ct         y          x\n",
       "0          True    1588     66 -4.568430  ACGGUCCAU\n",
       "1          True    1533    118 -3.683342  AUUGCCAGG\n",
       "2          True    1459    399 -1.868565  ACAGCGGUA\n",
       "3          True    1414    246 -2.516214  AACGCCAGG\n",
       "4          True    1412     60 -4.535831  ACGGCUUGG"
      ]
     },
     "execution_count": 2,
     "metadata": {},
     "output_type": "execute_result"
    }
   ],
   "source": [
    "# Load example data\n",
    "data_df = mavenn.load_example_dataset('mpsa')\n",
    "data_df.head()"
   ]
  },
  {
   "cell_type": "code",
   "execution_count": 3,
   "metadata": {},
   "outputs": [
    {
     "name": "stdout",
     "output_type": "stream",
     "text": [
      "training N: 24,411\n",
      "testing N: 6,079\n"
     ]
    }
   ],
   "source": [
    "# Split into trianing and test data\n",
    "ix = data_df['training_set']\n",
    "L = len(data_df['x'][0])\n",
    "train_df = data_df[ix]\n",
    "print(f'training N: {len(train_df):,}')\n",
    "test_df = data_df[~ix]\n",
    "print(f'testing N: {len(test_df):,}')"
   ]
  },
  {
   "cell_type": "code",
   "execution_count": 4,
   "metadata": {},
   "outputs": [
    {
     "name": "stdout",
     "output_type": "stream",
     "text": [
      "N = 24,411 observations set as training data.\n",
      "Data shuffled.\n",
      "Time to set data: 0.37 sec.\n",
      "Epoch 1/1000\n",
      "196/196 [==============================] - 1s 5ms/step - loss: 138.4182 - I_like: -0.5157 - val_loss: 126.3704 - val_I_like: -0.3555\n",
      "Epoch 2/1000\n",
      "196/196 [==============================] - 1s 3ms/step - loss: 118.7909 - I_like: -0.2491 - val_loss: 113.2471 - val_I_like: -0.1771\n",
      "Epoch 3/1000\n",
      "196/196 [==============================] - 1s 3ms/step - loss: 109.4875 - I_like: -0.1216 - val_loss: 106.3765 - val_I_like: -0.0807\n",
      "Epoch 4/1000\n",
      "196/196 [==============================] - 1s 3ms/step - loss: 102.5493 - I_like: -0.0242 - val_loss: 100.3252 - val_I_like: 0.0047\n",
      "Epoch 5/1000\n",
      "196/196 [==============================] - 1s 3ms/step - loss: 97.0350 - I_like: 0.0524 - val_loss: 95.2679 - val_I_like: 0.0758\n",
      "Epoch 6/1000\n",
      "196/196 [==============================] - 1s 4ms/step - loss: 91.7039 - I_like: 0.1298 - val_loss: 90.9920 - val_I_like: 0.1365\n",
      "Epoch 7/1000\n",
      "196/196 [==============================] - 1s 3ms/step - loss: 87.4440 - I_like: 0.1912 - val_loss: 87.5170 - val_I_like: 0.1858\n",
      "Epoch 8/1000\n",
      "196/196 [==============================] - 1s 3ms/step - loss: 83.7602 - I_like: 0.2415 - val_loss: 84.7109 - val_I_like: 0.2255\n",
      "Epoch 9/1000\n",
      "196/196 [==============================] - 1s 3ms/step - loss: 81.1641 - I_like: 0.2789 - val_loss: 82.1372 - val_I_like: 0.2622\n",
      "Epoch 10/1000\n",
      "196/196 [==============================] - 1s 3ms/step - loss: 78.8727 - I_like: 0.3122 - val_loss: 80.8161 - val_I_like: 0.2808\n",
      "Epoch 11/1000\n",
      "196/196 [==============================] - 1s 4ms/step - loss: 77.1436 - I_like: 0.3354 - val_loss: 79.3077 - val_I_like: 0.3018\n",
      "Epoch 12/1000\n",
      "196/196 [==============================] - 1s 3ms/step - loss: 75.6009 - I_like: 0.3586 - val_loss: 78.3282 - val_I_like: 0.3154\n",
      "Epoch 13/1000\n",
      "196/196 [==============================] - 1s 3ms/step - loss: 75.0597 - I_like: 0.3661 - val_loss: 79.1820 - val_I_like: 0.3023\n",
      "Epoch 14/1000\n",
      "196/196 [==============================] - 1s 3ms/step - loss: 74.2561 - I_like: 0.3755 - val_loss: 77.4840 - val_I_like: 0.3261\n",
      "Epoch 15/1000\n",
      "196/196 [==============================] - 1s 3ms/step - loss: 73.3941 - I_like: 0.3880 - val_loss: 78.2006 - val_I_like: 0.3153\n",
      "Epoch 16/1000\n",
      "196/196 [==============================] - 1s 3ms/step - loss: 72.6875 - I_like: 0.3971 - val_loss: 78.2441 - val_I_like: 0.3136\n",
      "Epoch 17/1000\n",
      "196/196 [==============================] - 1s 3ms/step - loss: 72.3071 - I_like: 0.3990 - val_loss: 77.6457 - val_I_like: 0.3216\n",
      "Epoch 18/1000\n",
      "196/196 [==============================] - 1s 3ms/step - loss: 71.8214 - I_like: 0.4061 - val_loss: 77.7544 - val_I_like: 0.3193\n",
      "Epoch 19/1000\n",
      "196/196 [==============================] - 1s 4ms/step - loss: 71.4966 - I_like: 0.4115 - val_loss: 78.6378 - val_I_like: 0.3054\n",
      "Epoch 20/1000\n",
      "196/196 [==============================] - 1s 4ms/step - loss: 71.1497 - I_like: 0.4152 - val_loss: 76.8229 - val_I_like: 0.3311\n",
      "Epoch 21/1000\n",
      "196/196 [==============================] - 1s 3ms/step - loss: 70.7446 - I_like: 0.4206 - val_loss: 78.7703 - val_I_like: 0.3021\n",
      "Epoch 22/1000\n",
      "196/196 [==============================] - 1s 3ms/step - loss: 70.7746 - I_like: 0.4171 - val_loss: 78.0448 - val_I_like: 0.3116\n",
      "Epoch 23/1000\n",
      "196/196 [==============================] - 1s 3ms/step - loss: 70.2988 - I_like: 0.4242 - val_loss: 75.6158 - val_I_like: 0.3463\n",
      "Epoch 24/1000\n",
      "196/196 [==============================] - 1s 3ms/step - loss: 69.8432 - I_like: 0.4312 - val_loss: 76.3002 - val_I_like: 0.3358\n",
      "Epoch 25/1000\n",
      "196/196 [==============================] - 1s 3ms/step - loss: 69.5867 - I_like: 0.4358 - val_loss: 75.7996 - val_I_like: 0.3427\n",
      "Epoch 26/1000\n",
      "196/196 [==============================] - 1s 3ms/step - loss: 69.2892 - I_like: 0.4377 - val_loss: 75.4260 - val_I_like: 0.3474\n",
      "Epoch 27/1000\n",
      "196/196 [==============================] - 1s 3ms/step - loss: 69.2432 - I_like: 0.4371 - val_loss: 75.4152 - val_I_like: 0.3470\n",
      "Epoch 28/1000\n",
      "196/196 [==============================] - 1s 3ms/step - loss: 69.1228 - I_like: 0.4401 - val_loss: 78.2437 - val_I_like: 0.3056\n",
      "Epoch 29/1000\n",
      "196/196 [==============================] - 1s 3ms/step - loss: 68.7795 - I_like: 0.4444 - val_loss: 77.7653 - val_I_like: 0.3120\n",
      "Epoch 30/1000\n",
      "196/196 [==============================] - 1s 3ms/step - loss: 68.7445 - I_like: 0.4421 - val_loss: 76.1572 - val_I_like: 0.3349\n",
      "Epoch 31/1000\n",
      "196/196 [==============================] - 1s 3ms/step - loss: 68.9016 - I_like: 0.4417 - val_loss: 75.1463 - val_I_like: 0.3489\n",
      "Epoch 32/1000\n",
      "196/196 [==============================] - 1s 3ms/step - loss: 68.4637 - I_like: 0.4483 - val_loss: 75.7944 - val_I_like: 0.3391\n",
      "Epoch 33/1000\n",
      "196/196 [==============================] - 1s 3ms/step - loss: 68.2243 - I_like: 0.4505 - val_loss: 76.4617 - val_I_like: 0.3295\n",
      "Epoch 34/1000\n",
      "196/196 [==============================] - 1s 3ms/step - loss: 68.1487 - I_like: 0.4510 - val_loss: 76.1887 - val_I_like: 0.3332\n",
      "Epoch 35/1000\n",
      "196/196 [==============================] - 1s 3ms/step - loss: 68.0447 - I_like: 0.4511 - val_loss: 75.4861 - val_I_like: 0.3429\n",
      "Epoch 36/1000\n",
      "196/196 [==============================] - 1s 3ms/step - loss: 67.8860 - I_like: 0.4558 - val_loss: 76.9657 - val_I_like: 0.3214\n",
      "Epoch 37/1000\n",
      "196/196 [==============================] - 1s 3ms/step - loss: 68.0139 - I_like: 0.4510 - val_loss: 79.3760 - val_I_like: 0.2863\n",
      "Epoch 38/1000\n",
      "196/196 [==============================] - 1s 4ms/step - loss: 67.7978 - I_like: 0.4552 - val_loss: 78.1945 - val_I_like: 0.3029\n",
      "Epoch 39/1000\n",
      "196/196 [==============================] - 1s 3ms/step - loss: 67.5170 - I_like: 0.4603 - val_loss: 75.9715 - val_I_like: 0.3350\n",
      "Epoch 40/1000\n",
      "196/196 [==============================] - 1s 4ms/step - loss: 67.7982 - I_like: 0.4542 - val_loss: 75.7649 - val_I_like: 0.3376\n",
      "Epoch 41/1000\n",
      "196/196 [==============================] - 1s 3ms/step - loss: 67.5859 - I_like: 0.4575 - val_loss: 75.3991 - val_I_like: 0.3425\n",
      "Epoch 42/1000\n",
      "196/196 [==============================] - 1s 3ms/step - loss: 67.2987 - I_like: 0.4629 - val_loss: 74.9074 - val_I_like: 0.3495\n",
      "Epoch 43/1000\n",
      "196/196 [==============================] - 1s 3ms/step - loss: 67.2324 - I_like: 0.4624 - val_loss: 78.2502 - val_I_like: 0.3011\n",
      "Epoch 44/1000\n",
      "196/196 [==============================] - 1s 3ms/step - loss: 67.2680 - I_like: 0.4632 - val_loss: 76.8315 - val_I_like: 0.3213\n",
      "Epoch 45/1000\n",
      "196/196 [==============================] - 1s 3ms/step - loss: 67.1406 - I_like: 0.4623 - val_loss: 76.3460 - val_I_like: 0.3279\n",
      "Epoch 46/1000\n",
      "196/196 [==============================] - 1s 3ms/step - loss: 67.1067 - I_like: 0.4623 - val_loss: 74.7795 - val_I_like: 0.3507\n",
      "Epoch 47/1000\n",
      "196/196 [==============================] - 1s 3ms/step - loss: 67.0840 - I_like: 0.4649 - val_loss: 77.5019 - val_I_like: 0.3110\n",
      "Epoch 48/1000\n",
      "196/196 [==============================] - 1s 3ms/step - loss: 66.9163 - I_like: 0.4646 - val_loss: 76.0127 - val_I_like: 0.3324\n",
      "Epoch 49/1000\n",
      "196/196 [==============================] - 1s 3ms/step - loss: 67.0752 - I_like: 0.4645 - val_loss: 75.8831 - val_I_like: 0.3341\n",
      "Epoch 50/1000\n",
      "196/196 [==============================] - 1s 3ms/step - loss: 66.6922 - I_like: 0.4682 - val_loss: 77.3527 - val_I_like: 0.3126\n",
      "Epoch 51/1000\n",
      "196/196 [==============================] - 1s 3ms/step - loss: 66.6638 - I_like: 0.4711 - val_loss: 76.6144 - val_I_like: 0.3234\n",
      "Epoch 52/1000\n",
      "196/196 [==============================] - 1s 3ms/step - loss: 67.0931 - I_like: 0.4619 - val_loss: 75.7416 - val_I_like: 0.3357\n",
      "Epoch 53/1000\n",
      "196/196 [==============================] - 1s 3ms/step - loss: 66.6812 - I_like: 0.4676 - val_loss: 77.0047 - val_I_like: 0.3172\n",
      "Epoch 54/1000\n",
      "196/196 [==============================] - 1s 3ms/step - loss: 66.4390 - I_like: 0.4715 - val_loss: 77.0615 - val_I_like: 0.3163\n",
      "Epoch 55/1000\n",
      "196/196 [==============================] - 1s 3ms/step - loss: 66.8014 - I_like: 0.4654 - val_loss: 75.2527 - val_I_like: 0.3422\n",
      "Epoch 56/1000\n",
      "196/196 [==============================] - 1s 3ms/step - loss: 66.3362 - I_like: 0.4741 - val_loss: 76.1856 - val_I_like: 0.3288\n",
      "Epoch 57/1000\n"
     ]
    },
    {
     "name": "stdout",
     "output_type": "stream",
     "text": [
      "196/196 [==============================] - 1s 3ms/step - loss: 66.5841 - I_like: 0.4706 - val_loss: 75.2574 - val_I_like: 0.3422\n",
      "Epoch 58/1000\n",
      "196/196 [==============================] - 1s 3ms/step - loss: 66.4435 - I_like: 0.4724 - val_loss: 76.3274 - val_I_like: 0.3265\n",
      "Epoch 59/1000\n",
      "196/196 [==============================] - 1s 3ms/step - loss: 66.6021 - I_like: 0.4685 - val_loss: 77.9098 - val_I_like: 0.3036\n",
      "Epoch 60/1000\n",
      "196/196 [==============================] - 1s 3ms/step - loss: 66.5787 - I_like: 0.4696 - val_loss: 76.5615 - val_I_like: 0.3230\n",
      "Epoch 61/1000\n",
      "196/196 [==============================] - 1s 3ms/step - loss: 66.2512 - I_like: 0.4729 - val_loss: 76.8593 - val_I_like: 0.3186\n",
      "Epoch 62/1000\n",
      "196/196 [==============================] - 1s 3ms/step - loss: 66.3401 - I_like: 0.4699 - val_loss: 75.6506 - val_I_like: 0.3359\n",
      "Epoch 63/1000\n",
      "196/196 [==============================] - 1s 3ms/step - loss: 66.2321 - I_like: 0.4752 - val_loss: 77.8609 - val_I_like: 0.3041\n",
      "Epoch 64/1000\n",
      "196/196 [==============================] - 1s 3ms/step - loss: 66.3671 - I_like: 0.4731 - val_loss: 76.6938 - val_I_like: 0.3206\n",
      "Epoch 65/1000\n",
      "196/196 [==============================] - 1s 3ms/step - loss: 66.2354 - I_like: 0.4743 - val_loss: 76.1435 - val_I_like: 0.3284\n",
      "Epoch 66/1000\n",
      "196/196 [==============================] - 1s 3ms/step - loss: 66.1155 - I_like: 0.4729 - val_loss: 78.8256 - val_I_like: 0.2896\n",
      "Epoch 67/1000\n",
      "196/196 [==============================] - 1s 3ms/step - loss: 66.0837 - I_like: 0.4770 - val_loss: 78.0490 - val_I_like: 0.3008\n",
      "Epoch 68/1000\n",
      "196/196 [==============================] - 1s 3ms/step - loss: 66.5775 - I_like: 0.4690 - val_loss: 76.7495 - val_I_like: 0.3192\n",
      "Epoch 69/1000\n",
      "196/196 [==============================] - 1s 3ms/step - loss: 66.2572 - I_like: 0.4718 - val_loss: 78.6171 - val_I_like: 0.2924\n",
      "Epoch 70/1000\n",
      "196/196 [==============================] - 1s 3ms/step - loss: 66.0531 - I_like: 0.4757 - val_loss: 77.1710 - val_I_like: 0.3131\n",
      "Epoch 71/1000\n",
      "196/196 [==============================] - 1s 3ms/step - loss: 66.1804 - I_like: 0.4737 - val_loss: 77.2975 - val_I_like: 0.3113\n",
      "Epoch 72/1000\n",
      "196/196 [==============================] - 1s 3ms/step - loss: 65.9538 - I_like: 0.4759 - val_loss: 75.2983 - val_I_like: 0.3397\n",
      "Epoch 73/1000\n",
      "196/196 [==============================] - 1s 3ms/step - loss: 65.8536 - I_like: 0.4768 - val_loss: 75.8946 - val_I_like: 0.3311\n",
      "Epoch 74/1000\n",
      "196/196 [==============================] - 1s 3ms/step - loss: 65.9642 - I_like: 0.4767 - val_loss: 75.2246 - val_I_like: 0.3408\n",
      "Epoch 75/1000\n",
      "196/196 [==============================] - 1s 3ms/step - loss: 66.1648 - I_like: 0.4747 - val_loss: 76.3352 - val_I_like: 0.3246\n",
      "Epoch 76/1000\n",
      "196/196 [==============================] - 1s 3ms/step - loss: 66.0987 - I_like: 0.4744 - val_loss: 75.5805 - val_I_like: 0.3355\n",
      "Training time: 52.2 seconds\n",
      "Model saved to these files:\n",
      "\tmpsa_ge_blackbox.pickle\n",
      "\tmpsa_ge_blackbox.h5\n"
     ]
    }
   ],
   "source": [
    "# Set filename\n",
    "name = 'mpsa_ge_blackbox'\n",
    "\n",
    "if True:\n",
    "    \n",
    "    # Set seeed\n",
    "    mavenn.set_seed(0)\n",
    "\n",
    "    # Define model\n",
    "    model = mavenn.Model(regression_type='GE',\n",
    "                         L=L,\n",
    "                         alphabet='rna',\n",
    "                         gpmap_type='mlp',\n",
    "                         gpmap_kwargs={\n",
    "                             'hidden_layer_sizes':[5]*5,\n",
    "                             'features':'pairwise'\n",
    "                         },\n",
    "                         ge_noise_model_type='SkewedT',\n",
    "                         ge_heteroskedasticity_order=2)\n",
    "\n",
    "    # Set training data\n",
    "    model.set_data(x=train_df['x'],\n",
    "                   y=train_df['y'])\n",
    "\n",
    "    # Fit model to data\n",
    "    model.fit(learning_rate=.0005,\n",
    "              epochs=1000,\n",
    "              batch_size=100,\n",
    "              early_stopping=True,\n",
    "              early_stopping_patience=30,\n",
    "              linear_initialization=False)\n",
    "\n",
    "    # Save model\n",
    "    model.save(name)"
   ]
  },
  {
   "cell_type": "code",
   "execution_count": 5,
   "metadata": {},
   "outputs": [
    {
     "name": "stdout",
     "output_type": "stream",
     "text": [
      "Model loaded from these files:\n",
      "\tmpsa_ge_blackbox.pickle\n",
      "\tmpsa_ge_blackbox.h5\n"
     ]
    }
   ],
   "source": [
    "# Load model\n",
    "model = mavenn.load(name)"
   ]
  },
  {
   "cell_type": "code",
   "execution_count": 6,
   "metadata": {},
   "outputs": [
    {
     "name": "stdout",
     "output_type": "stream",
     "text": [
      "44\tmpsa_ge_blackbox.h5\r\n",
      "8\tmpsa_ge_blackbox.pickle\r\n"
     ]
    }
   ],
   "source": [
    "!du -k $name*"
   ]
  },
  {
   "cell_type": "code",
   "execution_count": 7,
   "metadata": {},
   "outputs": [],
   "source": [
    "# Get x and y\n",
    "x = test_df['x']\n",
    "y = test_df['y']"
   ]
  },
  {
   "cell_type": "code",
   "execution_count": 8,
   "metadata": {},
   "outputs": [
    {
     "name": "stdout",
     "output_type": "stream",
     "text": [
      "On test data:\n",
      "I_like_test: 0.373 +- 0.030 bits\n",
      "I_pred_test: 0.430 +- 0.016 bits\n"
     ]
    },
    {
     "data": {
      "image/png": "[encoded data removed]",
      "text/plain": [
       "<Figure size 288x288 with 1 Axes>"
      ]
     },
     "metadata": {
      "needs_background": "light"
     },
     "output_type": "display_data"
    }
   ],
   "source": [
    "# Show training history\n",
    "print('On test data:')\n",
    "\n",
    "# Compute likelihood information\n",
    "I_like, dI_like =  model.I_likelihood(x=x, y=y)\n",
    "print(f'I_like_test: {I_like:.3f} +- {dI_like:.3f} bits') \n",
    "\n",
    "# Compute predictive information\n",
    "I_pred, dI_pred = model.I_predictive(x=x, y=y)\n",
    "print(f'I_pred_test: {I_pred:.3f} +- {dI_pred:.3f} bits')\n",
    "\n",
    "I_like_hist = model.history['I_like']\n",
    "val_I_like_hist = model.history['val_I_like']\n",
    "\n",
    "fig, ax = plt.subplots(1,1,figsize=[4,4])\n",
    "ax.plot(I_like_hist, label='I_like_train')\n",
    "ax.plot(val_I_like_hist, label='I_like_val')\n",
    "ax.axhline(I_like, color='C2', linestyle=':', label='I_like_test')\n",
    "ax.axhline(I_pred, color='C3', linestyle=':', label='I_pred_test')\n",
    "ax.legend()\n",
    "ax.set_xlabel('epochs')\n",
    "ax.set_ylabel('bits')\n",
    "ax.set_title('training hisotry')\n",
    "ax.set_ylim([0, I_pred*1.2]);"
   ]
  },
  {
   "cell_type": "code",
   "execution_count": 9,
   "metadata": {},
   "outputs": [
    {
     "data": {
      "image/png": "[encoded data removed]",
      "text/plain": [
       "<Figure size 288x288 with 1 Axes>"
      ]
     },
     "metadata": {
      "needs_background": "light"
     },
     "output_type": "display_data"
    }
   ],
   "source": [
    "# Compute phi and yhat values\n",
    "phi = model.x_to_phi(x)\n",
    "yhat = model.phi_to_yhat(phi)\n",
    "\n",
    "# Create grid for plotting yhat and yqs\n",
    "phi_lim = [min(phi), max(phi)]\n",
    "phi_grid = np.linspace(phi_lim[0], phi_lim[1], 1000)\n",
    "yhat_grid = model.phi_to_yhat(phi_grid)\n",
    "yqs_grid = model.yhat_to_yq(yhat_grid, q=[.16,.84])\n",
    "\n",
    "# Create two panels\n",
    "fig, ax = plt.subplots(1, 1, figsize=[4, 4])\n",
    "\n",
    "# Illustrate measurement process with GE curve\n",
    "ax.scatter(phi, y, color='C0', s=5, alpha=.2, label='test data')\n",
    "ax.plot(phi_grid, yhat_grid, linewidth=2, color='C1',\n",
    "        label='$\\hat{y} = g(\\phi)$')\n",
    "ax.plot(phi_grid, yqs_grid[:, 0], linestyle='--', color='C1',\n",
    "        label='68% CI')\n",
    "ax.plot(phi_grid, yqs_grid[:, 1], linestyle='--', color='C1')\n",
    "ax.set_xlim(phi_lim)\n",
    "ax.set_xlabel('latent phenotype ($\\phi$)')\n",
    "ax.set_ylabel('measurement ($y$)')\n",
    "ax.set_title('measurement process')\n",
    "ax.legend()\n",
    "\n",
    "# Fix up plot\n",
    "fig.tight_layout()\n",
    "plt.show()"
   ]
  },
  {
   "cell_type": "code",
   "execution_count": 10,
   "metadata": {},
   "outputs": [
    {
     "data": {
      "text/html": [
       "<div>\n",
       "<style scoped>\n",
       "    .dataframe tbody tr th:only-of-type {\n",
       "        vertical-align: middle;\n",
       "    }\n",
       "\n",
       "    .dataframe tbody tr th {\n",
       "        vertical-align: top;\n",
       "    }\n",
       "\n",
       "    .dataframe thead th {\n",
       "        text-align: right;\n",
       "    }\n",
       "</style>\n",
       "<table border=\"1\" class=\"dataframe\">\n",
       "  <thead>\n",
       "    <tr style=\"text-align: right;\">\n",
       "      <th></th>\n",
       "      <th>training_set</th>\n",
       "      <th>yhat</th>\n",
       "      <th>phi</th>\n",
       "      <th>y</th>\n",
       "      <th>x</th>\n",
       "    </tr>\n",
       "  </thead>\n",
       "  <tbody>\n",
       "    <tr>\n",
       "      <th>0</th>\n",
       "      <td>False</td>\n",
       "      <td>-2.640533</td>\n",
       "      <td>0.741541</td>\n",
       "      <td>-5.929444</td>\n",
       "      <td>UGUGCGAGC</td>\n",
       "    </tr>\n",
       "    <tr>\n",
       "      <th>1</th>\n",
       "      <td>True</td>\n",
       "      <td>-4.299058</td>\n",
       "      <td>-0.287224</td>\n",
       "      <td>-3.984273</td>\n",
       "      <td>UCAGUAUAA</td>\n",
       "    </tr>\n",
       "    <tr>\n",
       "      <th>2</th>\n",
       "      <td>True</td>\n",
       "      <td>-3.711865</td>\n",
       "      <td>0.075995</td>\n",
       "      <td>-2.514680</td>\n",
       "      <td>CUGGUCUCG</td>\n",
       "    </tr>\n",
       "    <tr>\n",
       "      <th>3</th>\n",
       "      <td>True</td>\n",
       "      <td>-4.100646</td>\n",
       "      <td>-0.164478</td>\n",
       "      <td>-3.734348</td>\n",
       "      <td>UCGGUUACC</td>\n",
       "    </tr>\n",
       "    <tr>\n",
       "      <th>4</th>\n",
       "      <td>True</td>\n",
       "      <td>-0.765439</td>\n",
       "      <td>1.940447</td>\n",
       "      <td>-0.708898</td>\n",
       "      <td>CGGGUCAGA</td>\n",
       "    </tr>\n",
       "  </tbody>\n",
       "</table>\n",
       "</div>"
      ],
      "text/plain": [
       "   training_set      yhat       phi         y          x\n",
       "0         False -2.640533  0.741541 -5.929444  UGUGCGAGC\n",
       "1          True -4.299058 -0.287224 -3.984273  UCAGUAUAA\n",
       "2          True -3.711865  0.075995 -2.514680  CUGGUCUCG\n",
       "3          True -4.100646 -0.164478 -3.734348  UCGGUUACC\n",
       "4          True -0.765439  1.940447 -0.708898  CGGGUCAGA"
      ]
     },
     "execution_count": 10,
     "metadata": {},
     "output_type": "execute_result"
    }
   ],
   "source": [
    "# Test simulate_data\n",
    "sim_df = model.simulate_dataset(N=1000)\n",
    "sim_df.head()"
   ]
  },
  {
   "cell_type": "code",
   "execution_count": null,
   "metadata": {},
   "outputs": [],
   "source": []
  }
 ],
 "metadata": {
  "kernelspec": {
   "display_name": "Python 3",
   "language": "python",
   "name": "python3"
  },
  "language_info": {
   "codemirror_mode": {
    "name": "ipython",
    "version": 3
   },
   "file_extension": ".py",
   "mimetype": "text/x-python",
   "name": "python",
   "nbconvert_exporter": "python",
   "pygments_lexer": "ipython3",
   "version": "3.7.4"
  }
 },
 "nbformat": 4,
 "nbformat_minor": 2
}
