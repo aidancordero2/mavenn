{
 "cells": [
  {
   "cell_type": "code",
   "execution_count": 1,
   "metadata": {},
   "outputs": [
    {
     "name": "stdout",
     "output_type": "stream",
     "text": [
      "['/Users/jkinney/github/mavenn/mavenn']\n"
     ]
    }
   ],
   "source": [
    "# Standard imports\n",
    "import pandas as pd\n",
    "import matplotlib.pyplot as plt\n",
    "import numpy as np\n",
    "\n",
    "# Insert path to mavenn beginning of path\n",
    "import os\n",
    "import sys\n",
    "abs_path_to_mavenn = os.path.abspath('../../../')\n",
    "sys.path.insert(0, abs_path_to_mavenn)\n",
    "\n",
    "# Load mavenn\n",
    "import mavenn\n",
    "print(mavenn.__path__)"
   ]
  },
  {
   "cell_type": "code",
   "execution_count": 2,
   "metadata": {},
   "outputs": [
    {
     "data": {
      "text/html": [
       "<div>\n",
       "<style scoped>\n",
       "    .dataframe tbody tr th:only-of-type {\n",
       "        vertical-align: middle;\n",
       "    }\n",
       "\n",
       "    .dataframe tbody tr th {\n",
       "        vertical-align: top;\n",
       "    }\n",
       "\n",
       "    .dataframe thead th {\n",
       "        text-align: right;\n",
       "    }\n",
       "</style>\n",
       "<table border=\"1\" class=\"dataframe\">\n",
       "  <thead>\n",
       "    <tr style=\"text-align: right;\">\n",
       "      <th></th>\n",
       "      <th>training_set</th>\n",
       "      <th>tot_ct</th>\n",
       "      <th>ex_ct</th>\n",
       "      <th>y</th>\n",
       "      <th>x</th>\n",
       "    </tr>\n",
       "  </thead>\n",
       "  <tbody>\n",
       "    <tr>\n",
       "      <th>0</th>\n",
       "      <td>True</td>\n",
       "      <td>1588</td>\n",
       "      <td>66</td>\n",
       "      <td>-4.567814</td>\n",
       "      <td>ACGGUCCAU</td>\n",
       "    </tr>\n",
       "    <tr>\n",
       "      <th>1</th>\n",
       "      <td>True</td>\n",
       "      <td>1533</td>\n",
       "      <td>118</td>\n",
       "      <td>-3.688265</td>\n",
       "      <td>AUUGCCAGG</td>\n",
       "    </tr>\n",
       "    <tr>\n",
       "      <th>2</th>\n",
       "      <td>True</td>\n",
       "      <td>1459</td>\n",
       "      <td>399</td>\n",
       "      <td>-1.867896</td>\n",
       "      <td>ACAGCGGUA</td>\n",
       "    </tr>\n",
       "    <tr>\n",
       "      <th>3</th>\n",
       "      <td>True</td>\n",
       "      <td>1414</td>\n",
       "      <td>246</td>\n",
       "      <td>-2.518219</td>\n",
       "      <td>AACGCCAGG</td>\n",
       "    </tr>\n",
       "    <tr>\n",
       "      <th>4</th>\n",
       "      <td>True</td>\n",
       "      <td>1412</td>\n",
       "      <td>60</td>\n",
       "      <td>-4.533808</td>\n",
       "      <td>ACGGCUUGG</td>\n",
       "    </tr>\n",
       "  </tbody>\n",
       "</table>\n",
       "</div>"
      ],
      "text/plain": [
       "   training_set  tot_ct  ex_ct         y          x\n",
       "0          True    1588     66 -4.567814  ACGGUCCAU\n",
       "1          True    1533    118 -3.688265  AUUGCCAGG\n",
       "2          True    1459    399 -1.867896  ACAGCGGUA\n",
       "3          True    1414    246 -2.518219  AACGCCAGG\n",
       "4          True    1412     60 -4.533808  ACGGCUUGG"
      ]
     },
     "execution_count": 2,
     "metadata": {},
     "output_type": "execute_result"
    }
   ],
   "source": [
    "# Load example data\n",
    "data_df = mavenn.load_example_dataset('mpsa')\n",
    "data_df.head()"
   ]
  },
  {
   "cell_type": "code",
   "execution_count": 3,
   "metadata": {},
   "outputs": [
    {
     "name": "stdout",
     "output_type": "stream",
     "text": [
      "training N: 24,411\n",
      "testing N: 6,079\n"
     ]
    }
   ],
   "source": [
    "# Split into trianing and test data\n",
    "ix = data_df['training_set']\n",
    "L = len(data_df['x'][0])\n",
    "train_df = data_df[ix]\n",
    "print(f'training N: {len(train_df):,}')\n",
    "test_df = data_df[~ix]\n",
    "print(f'testing N: {len(test_df):,}')"
   ]
  },
  {
   "cell_type": "code",
   "execution_count": 4,
   "metadata": {},
   "outputs": [
    {
     "name": "stdout",
     "output_type": "stream",
     "text": [
      "N = 24,411 observations set as training data.\n",
      "Data shuffled.\n",
      "Time to set data: 0.393 sec.\n",
      "Epoch 1/1000\n",
      "196/196 [==============================] - 1s 5ms/step - loss: 127.5248 - I_like: -0.3806 - val_loss: 103.0387 - val_I_like: -0.0640\n",
      "Epoch 2/1000\n",
      "196/196 [==============================] - 1s 3ms/step - loss: 91.8140 - I_like: 0.0988 - val_loss: 83.6399 - val_I_like: 0.2135\n",
      "Epoch 3/1000\n",
      "196/196 [==============================] - 1s 4ms/step - loss: 82.5646 - I_like: 0.2309 - val_loss: 84.1427 - val_I_like: 0.2002\n",
      "Epoch 4/1000\n",
      "196/196 [==============================] - 1s 3ms/step - loss: 81.2973 - I_like: 0.2443 - val_loss: 78.7901 - val_I_like: 0.2804\n",
      "Epoch 5/1000\n",
      "196/196 [==============================] - 1s 4ms/step - loss: 78.5366 - I_like: 0.2872 - val_loss: 76.9615 - val_I_like: 0.3101\n",
      "Epoch 6/1000\n",
      "196/196 [==============================] - 1s 4ms/step - loss: 76.2259 - I_like: 0.3266 - val_loss: 76.5918 - val_I_like: 0.3207\n",
      "Epoch 7/1000\n",
      "196/196 [==============================] - 1s 4ms/step - loss: 74.0213 - I_like: 0.3638 - val_loss: 72.3799 - val_I_like: 0.3842\n",
      "Epoch 8/1000\n",
      "196/196 [==============================] - 1s 4ms/step - loss: 72.6824 - I_like: 0.3819 - val_loss: 73.0754 - val_I_like: 0.3749\n",
      "Epoch 9/1000\n",
      "196/196 [==============================] - 1s 4ms/step - loss: 71.4399 - I_like: 0.4012 - val_loss: 71.1998 - val_I_like: 0.4034\n",
      "Epoch 10/1000\n",
      "196/196 [==============================] - 1s 4ms/step - loss: 70.0163 - I_like: 0.4231 - val_loss: 71.9625 - val_I_like: 0.3921\n",
      "Epoch 11/1000\n",
      "196/196 [==============================] - 1s 4ms/step - loss: 70.1067 - I_like: 0.4213 - val_loss: 70.7846 - val_I_like: 0.4092\n",
      "Epoch 12/1000\n",
      "196/196 [==============================] - 1s 3ms/step - loss: 69.0733 - I_like: 0.4372 - val_loss: 70.2186 - val_I_like: 0.4174\n",
      "Epoch 13/1000\n",
      "196/196 [==============================] - 1s 4ms/step - loss: 68.6733 - I_like: 0.4443 - val_loss: 70.4624 - val_I_like: 0.4143\n",
      "Epoch 14/1000\n",
      "196/196 [==============================] - 1s 3ms/step - loss: 68.3177 - I_like: 0.4475 - val_loss: 74.0590 - val_I_like: 0.3621\n",
      "Epoch 15/1000\n",
      "196/196 [==============================] - 1s 3ms/step - loss: 68.7714 - I_like: 0.4422 - val_loss: 70.5160 - val_I_like: 0.4144\n",
      "Epoch 16/1000\n",
      "196/196 [==============================] - 1s 4ms/step - loss: 67.6600 - I_like: 0.4583 - val_loss: 70.1382 - val_I_like: 0.4196\n",
      "Epoch 17/1000\n",
      "196/196 [==============================] - 1s 4ms/step - loss: 67.7203 - I_like: 0.4558 - val_loss: 71.5972 - val_I_like: 0.3983\n",
      "Epoch 18/1000\n",
      "196/196 [==============================] - 1s 4ms/step - loss: 67.0868 - I_like: 0.4649 - val_loss: 70.3539 - val_I_like: 0.4169\n",
      "Epoch 19/1000\n",
      "196/196 [==============================] - 1s 3ms/step - loss: 68.0018 - I_like: 0.4532 - val_loss: 69.4415 - val_I_like: 0.4301\n",
      "Epoch 20/1000\n",
      "196/196 [==============================] - 1s 4ms/step - loss: 66.7290 - I_like: 0.4705 - val_loss: 70.6404 - val_I_like: 0.4127\n",
      "Epoch 21/1000\n",
      "196/196 [==============================] - 1s 4ms/step - loss: 66.8098 - I_like: 0.4702 - val_loss: 69.8433 - val_I_like: 0.4247\n",
      "Epoch 22/1000\n",
      "196/196 [==============================] - 1s 4ms/step - loss: 66.7785 - I_like: 0.4694 - val_loss: 69.6677 - val_I_like: 0.4272\n",
      "Epoch 23/1000\n",
      "196/196 [==============================] - 1s 4ms/step - loss: 66.3586 - I_like: 0.4759 - val_loss: 70.3899 - val_I_like: 0.4165\n",
      "Epoch 24/1000\n",
      "196/196 [==============================] - 1s 3ms/step - loss: 66.5136 - I_like: 0.4743 - val_loss: 70.0879 - val_I_like: 0.4207\n",
      "Epoch 25/1000\n",
      "196/196 [==============================] - 1s 4ms/step - loss: 66.2575 - I_like: 0.4785 - val_loss: 69.8552 - val_I_like: 0.4245\n",
      "Epoch 26/1000\n",
      "196/196 [==============================] - 1s 4ms/step - loss: 65.9644 - I_like: 0.4826 - val_loss: 71.1183 - val_I_like: 0.4056\n",
      "Epoch 27/1000\n",
      "196/196 [==============================] - 1s 4ms/step - loss: 66.0565 - I_like: 0.4800 - val_loss: 75.3482 - val_I_like: 0.3447\n",
      "Epoch 28/1000\n",
      "196/196 [==============================] - 1s 5ms/step - loss: 66.3258 - I_like: 0.4769 - val_loss: 70.2231 - val_I_like: 0.4194\n",
      "Epoch 29/1000\n",
      "196/196 [==============================] - 1s 5ms/step - loss: 65.8504 - I_like: 0.4836 - val_loss: 69.2496 - val_I_like: 0.4337\n",
      "Epoch 30/1000\n",
      "196/196 [==============================] - 1s 4ms/step - loss: 65.9644 - I_like: 0.4815 - val_loss: 70.3048 - val_I_like: 0.4186\n",
      "Epoch 31/1000\n",
      "196/196 [==============================] - 1s 7ms/step - loss: 66.1601 - I_like: 0.4803 - val_loss: 69.6957 - val_I_like: 0.4274\n",
      "Epoch 32/1000\n",
      "196/196 [==============================] - 1s 7ms/step - loss: 65.7131 - I_like: 0.4885 - val_loss: 69.3523 - val_I_like: 0.4333\n",
      "Epoch 33/1000\n",
      "196/196 [==============================] - 1s 6ms/step - loss: 65.8883 - I_like: 0.4842 - val_loss: 69.8378 - val_I_like: 0.4259\n",
      "Epoch 34/1000\n",
      "196/196 [==============================] - 1s 6ms/step - loss: 66.0590 - I_like: 0.4818 - val_loss: 70.2005 - val_I_like: 0.4215\n",
      "Epoch 35/1000\n",
      "196/196 [==============================] - 1s 5ms/step - loss: 66.2384 - I_like: 0.4790 - val_loss: 70.9047 - val_I_like: 0.4110\n",
      "Epoch 36/1000\n",
      "196/196 [==============================] - 1s 5ms/step - loss: 65.6563 - I_like: 0.4895 - val_loss: 70.4824 - val_I_like: 0.4171\n",
      "Epoch 37/1000\n",
      "196/196 [==============================] - 2s 8ms/step - loss: 65.6241 - I_like: 0.4874 - val_loss: 70.3936 - val_I_like: 0.4183\n",
      "Epoch 38/1000\n",
      "196/196 [==============================] - 1s 7ms/step - loss: 65.4280 - I_like: 0.4913 - val_loss: 71.0506 - val_I_like: 0.4084\n",
      "Epoch 39/1000\n",
      "196/196 [==============================] - 1s 7ms/step - loss: 65.6223 - I_like: 0.4895 - val_loss: 71.7029 - val_I_like: 0.4001\n",
      "Training time: 36.7 seconds\n",
      "Model saved to these files:\n",
      "\tmpsa_ge_blackbox.pickle\n",
      "\tmpsa_ge_blackbox.h5\n"
     ]
    }
   ],
   "source": [
    "# Set filename\n",
    "name = 'mpsa_ge_blackbox'\n",
    "    \n",
    "# Set seeed\n",
    "mavenn.set_seed(0)\n",
    "\n",
    "# Define model\n",
    "model = mavenn.Model(regression_type='GE',\n",
    "                     L=L,\n",
    "                     alphabet='rna',\n",
    "                     gpmap_type='blackbox',\n",
    "                     gpmap_kwargs={\n",
    "                         'hidden_layer_sizes':[10]*6,\n",
    "                         'features':'pairwise'\n",
    "                     },\n",
    "                     ge_noise_model_type='SkewedT',\n",
    "                     ge_heteroskedasticity_order=2)\n",
    "\n",
    "# Set training data\n",
    "model.set_data(x=train_df['x'],\n",
    "               y=train_df['y'])\n",
    "\n",
    "# Fit model to data\n",
    "model.fit(learning_rate=.002,\n",
    "          epochs=1000,\n",
    "          batch_size=100,\n",
    "          early_stopping=True,\n",
    "          early_stopping_patience=10,\n",
    "          linear_initialization=False)\n",
    "\n",
    "# Save models\n",
    "model.save(name)"
   ]
  },
  {
   "cell_type": "code",
   "execution_count": 5,
   "metadata": {},
   "outputs": [
    {
     "name": "stdout",
     "output_type": "stream",
     "text": [
      "Model loaded from these files:\n",
      "\tmpsa_ge_blackbox.pickle\n",
      "\tmpsa_ge_blackbox.h5\n"
     ]
    }
   ],
   "source": [
    "# Load model\n",
    "model = mavenn.load(name)"
   ]
  },
  {
   "cell_type": "code",
   "execution_count": 6,
   "metadata": {},
   "outputs": [
    {
     "name": "stdout",
     "output_type": "stream",
     "text": [
      "60\tmpsa_ge_blackbox.h5\r\n",
      "4\tmpsa_ge_blackbox.pickle\r\n"
     ]
    }
   ],
   "source": [
    "!du -k $name*"
   ]
  },
  {
   "cell_type": "code",
   "execution_count": 7,
   "metadata": {},
   "outputs": [],
   "source": [
    "# Get x and y\n",
    "x = test_df['x']\n",
    "y = test_df['y']"
   ]
  },
  {
   "cell_type": "code",
   "execution_count": 8,
   "metadata": {},
   "outputs": [
    {
     "name": "stdout",
     "output_type": "stream",
     "text": [
      "On test data:\n",
      "I_like_test: 0.411 +- 0.027 bits\n",
      "I_pred_test: 0.513 +- 0.016 bits\n"
     ]
    },
    {
     "data": {
      "image/png": "[encoded data removed]",
      "text/plain": [
       "<Figure size 288x288 with 1 Axes>"
      ]
     },
     "metadata": {
      "needs_background": "light"
     },
     "output_type": "display_data"
    }
   ],
   "source": [
    "# Show training history\n",
    "print('On test data:')\n",
    "\n",
    "# Compute likelihood information\n",
    "I_like, dI_like =  model.I_likelihood(x=x, y=y)\n",
    "print(f'I_like_test: {I_like:.3f} +- {dI_like:.3f} bits') \n",
    "\n",
    "# Compute predictive information\n",
    "I_pred, dI_pred = model.I_predictive(x=x, y=y)\n",
    "print(f'I_pred_test: {I_pred:.3f} +- {dI_pred:.3f} bits')\n",
    "\n",
    "I_like_hist = model.history['I_like']\n",
    "val_I_like_hist = model.history['val_I_like']\n",
    "\n",
    "fig, ax = plt.subplots(1,1,figsize=[4,4])\n",
    "ax.plot(I_like_hist, label='I_like_train')\n",
    "ax.plot(val_I_like_hist, label='I_like_val')\n",
    "ax.axhline(I_like, color='C2', linestyle=':', label='I_like_test')\n",
    "ax.axhline(I_pred, color='C3', linestyle=':', label='I_pred_test')\n",
    "ax.legend()\n",
    "ax.set_xlabel('epochs')\n",
    "ax.set_ylabel('bits')\n",
    "ax.set_title('training hisotry')\n",
    "ax.set_ylim([0, I_pred*1.2]);"
   ]
  },
  {
   "cell_type": "code",
   "execution_count": 9,
   "metadata": {},
   "outputs": [
    {
     "data": {
      "image/png": "[encoded data removed]",
      "text/plain": [
       "<Figure size 288x288 with 1 Axes>"
      ]
     },
     "metadata": {
      "needs_background": "light"
     },
     "output_type": "display_data"
    }
   ],
   "source": [
    "# Compute phi and yhat values\n",
    "phi = model.x_to_phi(x)\n",
    "yhat = model.phi_to_yhat(phi)\n",
    "\n",
    "# Create grid for plotting yhat and yqs\n",
    "phi_lim = [min(phi), max(phi)]\n",
    "phi_grid = np.linspace(phi_lim[0], phi_lim[1], 1000)\n",
    "yhat_grid = model.phi_to_yhat(phi_grid)\n",
    "yqs_grid = model.yhat_to_yq(yhat_grid, q=[.16,.84])\n",
    "\n",
    "# Create two panels\n",
    "fig, ax = plt.subplots(1, 1, figsize=[4, 4])\n",
    "\n",
    "# Illustrate measurement process with GE curve\n",
    "ax.scatter(phi, y, color='C0', s=5, alpha=.2, label='test data')\n",
    "ax.plot(phi_grid, yhat_grid, linewidth=2, color='C1',\n",
    "        label='$\\hat{y} = g(\\phi)$')\n",
    "ax.plot(phi_grid, yqs_grid[:, 0], linestyle='--', color='C1',\n",
    "        label='68% CI')\n",
    "ax.plot(phi_grid, yqs_grid[:, 1], linestyle='--', color='C1')\n",
    "ax.set_xlim(phi_lim)\n",
    "ax.set_xlabel('latent phenotype ($\\phi$)')\n",
    "ax.set_ylabel('measurement ($y$)')\n",
    "ax.set_title('measurement process')\n",
    "ax.legend()\n",
    "\n",
    "# Fix up plot\n",
    "fig.tight_layout()\n",
    "plt.show()"
   ]
  },
  {
   "cell_type": "code",
   "execution_count": 10,
   "metadata": {},
   "outputs": [
    {
     "data": {
      "text/html": [
       "<div>\n",
       "<style scoped>\n",
       "    .dataframe tbody tr th:only-of-type {\n",
       "        vertical-align: middle;\n",
       "    }\n",
       "\n",
       "    .dataframe tbody tr th {\n",
       "        vertical-align: top;\n",
       "    }\n",
       "\n",
       "    .dataframe thead th {\n",
       "        text-align: right;\n",
       "    }\n",
       "</style>\n",
       "<table border=\"1\" class=\"dataframe\">\n",
       "  <thead>\n",
       "    <tr style=\"text-align: right;\">\n",
       "      <th></th>\n",
       "      <th>training_set</th>\n",
       "      <th>yhat</th>\n",
       "      <th>phi</th>\n",
       "      <th>y</th>\n",
       "      <th>x</th>\n",
       "    </tr>\n",
       "  </thead>\n",
       "  <tbody>\n",
       "    <tr>\n",
       "      <th>0</th>\n",
       "      <td>True</td>\n",
       "      <td>-4.592768</td>\n",
       "      <td>-0.324814</td>\n",
       "      <td>-4.276056</td>\n",
       "      <td>UCAGCAAUA</td>\n",
       "    </tr>\n",
       "    <tr>\n",
       "      <th>1</th>\n",
       "      <td>False</td>\n",
       "      <td>-4.449738</td>\n",
       "      <td>-0.281893</td>\n",
       "      <td>-4.151493</td>\n",
       "      <td>GCUGUCUGA</td>\n",
       "    </tr>\n",
       "    <tr>\n",
       "      <th>2</th>\n",
       "      <td>True</td>\n",
       "      <td>-4.298047</td>\n",
       "      <td>-0.236504</td>\n",
       "      <td>-4.234406</td>\n",
       "      <td>CGAGCGUGU</td>\n",
       "    </tr>\n",
       "    <tr>\n",
       "      <th>3</th>\n",
       "      <td>True</td>\n",
       "      <td>-4.350917</td>\n",
       "      <td>-0.252312</td>\n",
       "      <td>-3.965990</td>\n",
       "      <td>GUCGCCUGU</td>\n",
       "    </tr>\n",
       "    <tr>\n",
       "      <th>4</th>\n",
       "      <td>True</td>\n",
       "      <td>-4.305970</td>\n",
       "      <td>-0.238873</td>\n",
       "      <td>-3.747747</td>\n",
       "      <td>UACGUGAAG</td>\n",
       "    </tr>\n",
       "  </tbody>\n",
       "</table>\n",
       "</div>"
      ],
      "text/plain": [
       "   training_set      yhat       phi         y          x\n",
       "0          True -4.592768 -0.324814 -4.276056  UCAGCAAUA\n",
       "1         False -4.449738 -0.281893 -4.151493  GCUGUCUGA\n",
       "2          True -4.298047 -0.236504 -4.234406  CGAGCGUGU\n",
       "3          True -4.350917 -0.252312 -3.965990  GUCGCCUGU\n",
       "4          True -4.305970 -0.238873 -3.747747  UACGUGAAG"
      ]
     },
     "execution_count": 10,
     "metadata": {},
     "output_type": "execute_result"
    }
   ],
   "source": [
    "# Test simulate_data\n",
    "sim_df = model.simulate_dataset(N=1000)\n",
    "sim_df.head()"
   ]
  },
  {
   "cell_type": "code",
   "execution_count": null,
   "metadata": {},
   "outputs": [],
   "source": []
  }
 ],
 "metadata": {
  "kernelspec": {
   "display_name": "Python 3",
   "language": "python",
   "name": "python3"
  },
  "language_info": {
   "codemirror_mode": {
    "name": "ipython",
    "version": 3
   },
   "file_extension": ".py",
   "mimetype": "text/x-python",
   "name": "python",
   "nbconvert_exporter": "python",
   "pygments_lexer": "ipython3",
   "version": "3.7.4"
  }
 },
 "nbformat": 4,
 "nbformat_minor": 2
}
