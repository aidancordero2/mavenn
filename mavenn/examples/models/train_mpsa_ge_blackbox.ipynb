{
 "cells": [
  {
   "cell_type": "code",
   "execution_count": 1,
   "metadata": {},
   "outputs": [
    {
     "name": "stdout",
     "output_type": "stream",
     "text": [
      "['/Users/jkinney/github/mavenn/mavenn']\n"
     ]
    }
   ],
   "source": [
    "# Standard imports\n",
    "import pandas as pd\n",
    "import matplotlib.pyplot as plt\n",
    "import numpy as np\n",
    "\n",
    "# Insert path to mavenn beginning of path\n",
    "import os\n",
    "import sys\n",
    "abs_path_to_mavenn = os.path.abspath('../../../')\n",
    "sys.path.insert(0, abs_path_to_mavenn)\n",
    "\n",
    "# Load mavenn\n",
    "import mavenn\n",
    "print(mavenn.__path__)"
   ]
  },
  {
   "cell_type": "code",
   "execution_count": 2,
   "metadata": {},
   "outputs": [
    {
     "data": {
      "text/html": [
       "<div>\n",
       "<style scoped>\n",
       "    .dataframe tbody tr th:only-of-type {\n",
       "        vertical-align: middle;\n",
       "    }\n",
       "\n",
       "    .dataframe tbody tr th {\n",
       "        vertical-align: top;\n",
       "    }\n",
       "\n",
       "    .dataframe thead th {\n",
       "        text-align: right;\n",
       "    }\n",
       "</style>\n",
       "<table border=\"1\" class=\"dataframe\">\n",
       "  <thead>\n",
       "    <tr style=\"text-align: right;\">\n",
       "      <th></th>\n",
       "      <th>training_set</th>\n",
       "      <th>tot_ct</th>\n",
       "      <th>ex_ct</th>\n",
       "      <th>y</th>\n",
       "      <th>x</th>\n",
       "    </tr>\n",
       "  </thead>\n",
       "  <tbody>\n",
       "    <tr>\n",
       "      <th>0</th>\n",
       "      <td>True</td>\n",
       "      <td>1588</td>\n",
       "      <td>66</td>\n",
       "      <td>-4.567814</td>\n",
       "      <td>ACGGUCCAU</td>\n",
       "    </tr>\n",
       "    <tr>\n",
       "      <th>1</th>\n",
       "      <td>True</td>\n",
       "      <td>1533</td>\n",
       "      <td>118</td>\n",
       "      <td>-3.688265</td>\n",
       "      <td>AUUGCCAGG</td>\n",
       "    </tr>\n",
       "    <tr>\n",
       "      <th>2</th>\n",
       "      <td>True</td>\n",
       "      <td>1459</td>\n",
       "      <td>399</td>\n",
       "      <td>-1.867896</td>\n",
       "      <td>ACAGCGGUA</td>\n",
       "    </tr>\n",
       "    <tr>\n",
       "      <th>3</th>\n",
       "      <td>True</td>\n",
       "      <td>1414</td>\n",
       "      <td>246</td>\n",
       "      <td>-2.518219</td>\n",
       "      <td>AACGCCAGG</td>\n",
       "    </tr>\n",
       "    <tr>\n",
       "      <th>4</th>\n",
       "      <td>True</td>\n",
       "      <td>1412</td>\n",
       "      <td>60</td>\n",
       "      <td>-4.533808</td>\n",
       "      <td>ACGGCUUGG</td>\n",
       "    </tr>\n",
       "  </tbody>\n",
       "</table>\n",
       "</div>"
      ],
      "text/plain": [
       "   training_set  tot_ct  ex_ct         y          x\n",
       "0          True    1588     66 -4.567814  ACGGUCCAU\n",
       "1          True    1533    118 -3.688265  AUUGCCAGG\n",
       "2          True    1459    399 -1.867896  ACAGCGGUA\n",
       "3          True    1414    246 -2.518219  AACGCCAGG\n",
       "4          True    1412     60 -4.533808  ACGGCUUGG"
      ]
     },
     "execution_count": 2,
     "metadata": {},
     "output_type": "execute_result"
    }
   ],
   "source": [
    "# Load example data\n",
    "data_df = mavenn.load_example_dataset('mpsa')\n",
    "data_df.head()"
   ]
  },
  {
   "cell_type": "code",
   "execution_count": 3,
   "metadata": {},
   "outputs": [
    {
     "name": "stdout",
     "output_type": "stream",
     "text": [
      "training N: 24,411\n",
      "testing N: 6,079\n"
     ]
    }
   ],
   "source": [
    "# Split into trianing and test data\n",
    "ix = data_df['training_set']\n",
    "L = len(data_df['x'][0])\n",
    "train_df = data_df[ix]\n",
    "print(f'training N: {len(train_df):,}')\n",
    "test_df = data_df[~ix]\n",
    "print(f'testing N: {len(test_df):,}')"
   ]
  },
  {
   "cell_type": "code",
   "execution_count": 4,
   "metadata": {},
   "outputs": [
    {
     "name": "stdout",
     "output_type": "stream",
     "text": [
      "N = 24,411 observations set as training data.\n",
      "Data shuffled.\n",
      "Time to set data: 0.49 sec.\n",
      "Epoch 1/1000\n",
      "196/196 [==============================] - 1s 8ms/step - loss: 122.8488 - I_like: -0.3262 - val_loss: 96.7741 - val_I_like: 0.0192\n",
      "Epoch 2/1000\n",
      "196/196 [==============================] - 1s 5ms/step - loss: 92.3244 - I_like: 0.0811 - val_loss: 89.5814 - val_I_like: 0.1164\n",
      "Epoch 3/1000\n",
      "196/196 [==============================] - 2s 8ms/step - loss: 80.7002 - I_like: 0.2489 - val_loss: 80.5159 - val_I_like: 0.2522\n",
      "Epoch 4/1000\n",
      "196/196 [==============================] - 1s 5ms/step - loss: 75.2471 - I_like: 0.3307 - val_loss: 79.1122 - val_I_like: 0.2747\n",
      "Epoch 5/1000\n",
      "196/196 [==============================] - 1s 5ms/step - loss: 73.1904 - I_like: 0.3610 - val_loss: 76.4163 - val_I_like: 0.3135\n",
      "Epoch 6/1000\n",
      "196/196 [==============================] - 1s 5ms/step - loss: 71.5329 - I_like: 0.3864 - val_loss: 75.9100 - val_I_like: 0.3210\n",
      "Epoch 7/1000\n",
      "196/196 [==============================] - 1s 5ms/step - loss: 70.3663 - I_like: 0.4025 - val_loss: 72.2596 - val_I_like: 0.3732\n",
      "Epoch 8/1000\n",
      "196/196 [==============================] - 1s 5ms/step - loss: 69.2494 - I_like: 0.4187 - val_loss: 72.5574 - val_I_like: 0.3685\n",
      "Epoch 9/1000\n",
      "196/196 [==============================] - 1s 5ms/step - loss: 69.0257 - I_like: 0.4221 - val_loss: 70.8518 - val_I_like: 0.3933\n",
      "Epoch 10/1000\n",
      "196/196 [==============================] - 1s 5ms/step - loss: 68.3074 - I_like: 0.4327 - val_loss: 74.3486 - val_I_like: 0.3416\n",
      "Epoch 11/1000\n",
      "196/196 [==============================] - 1s 5ms/step - loss: 68.3589 - I_like: 0.4310 - val_loss: 70.2217 - val_I_like: 0.4012\n",
      "Epoch 12/1000\n",
      "196/196 [==============================] - 1s 5ms/step - loss: 68.2191 - I_like: 0.4304 - val_loss: 70.5511 - val_I_like: 0.3960\n",
      "Epoch 13/1000\n",
      "196/196 [==============================] - 1s 5ms/step - loss: 67.5948 - I_like: 0.4415 - val_loss: 72.3519 - val_I_like: 0.3698\n",
      "Epoch 14/1000\n",
      "196/196 [==============================] - 1s 5ms/step - loss: 67.7723 - I_like: 0.4372 - val_loss: 71.9985 - val_I_like: 0.3747\n",
      "Epoch 15/1000\n",
      "196/196 [==============================] - 1s 5ms/step - loss: 67.4643 - I_like: 0.4410 - val_loss: 71.7528 - val_I_like: 0.3777\n",
      "Epoch 16/1000\n",
      "196/196 [==============================] - 1s 5ms/step - loss: 67.5156 - I_like: 0.4430 - val_loss: 70.0890 - val_I_like: 0.4019\n",
      "Epoch 17/1000\n",
      "196/196 [==============================] - 1s 5ms/step - loss: 67.0964 - I_like: 0.4473 - val_loss: 71.8721 - val_I_like: 0.3764\n",
      "Epoch 18/1000\n",
      "196/196 [==============================] - 1s 5ms/step - loss: 66.9324 - I_like: 0.4501 - val_loss: 70.2394 - val_I_like: 0.3998\n",
      "Epoch 19/1000\n",
      "196/196 [==============================] - 1s 5ms/step - loss: 67.0109 - I_like: 0.4486 - val_loss: 73.8411 - val_I_like: 0.3475\n",
      "Epoch 20/1000\n",
      "196/196 [==============================] - 1s 5ms/step - loss: 66.9098 - I_like: 0.4487 - val_loss: 70.4828 - val_I_like: 0.3966\n",
      "Epoch 21/1000\n",
      "196/196 [==============================] - 1s 5ms/step - loss: 66.7735 - I_like: 0.4503 - val_loss: 70.0820 - val_I_like: 0.4028\n",
      "Epoch 22/1000\n",
      "196/196 [==============================] - 1s 5ms/step - loss: 66.4722 - I_like: 0.4576 - val_loss: 70.2169 - val_I_like: 0.4014\n",
      "Epoch 23/1000\n",
      "196/196 [==============================] - 1s 5ms/step - loss: 66.6649 - I_like: 0.4548 - val_loss: 71.6267 - val_I_like: 0.3806\n",
      "Epoch 24/1000\n",
      "196/196 [==============================] - 1s 5ms/step - loss: 67.3605 - I_like: 0.4452 - val_loss: 70.2506 - val_I_like: 0.4011\n",
      "Epoch 25/1000\n",
      "196/196 [==============================] - 1s 5ms/step - loss: 66.4621 - I_like: 0.4571 - val_loss: 71.6763 - val_I_like: 0.3803\n",
      "Epoch 26/1000\n",
      "196/196 [==============================] - 1s 5ms/step - loss: 66.9456 - I_like: 0.4510 - val_loss: 71.0120 - val_I_like: 0.3907\n",
      "Epoch 27/1000\n",
      "196/196 [==============================] - 1s 5ms/step - loss: 66.5771 - I_like: 0.4565 - val_loss: 72.0524 - val_I_like: 0.3763\n",
      "Epoch 28/1000\n",
      "196/196 [==============================] - 1s 5ms/step - loss: 66.2740 - I_like: 0.4601 - val_loss: 71.5327 - val_I_like: 0.3828\n",
      "Epoch 29/1000\n",
      "196/196 [==============================] - 1s 5ms/step - loss: 66.1433 - I_like: 0.4634 - val_loss: 70.1700 - val_I_like: 0.4036\n",
      "Epoch 30/1000\n",
      "196/196 [==============================] - 1s 5ms/step - loss: 66.5038 - I_like: 0.4594 - val_loss: 71.0462 - val_I_like: 0.3898\n",
      "Epoch 31/1000\n",
      "196/196 [==============================] - 1s 5ms/step - loss: 66.2989 - I_like: 0.4582 - val_loss: 69.9393 - val_I_like: 0.4066\n",
      "Epoch 32/1000\n",
      "196/196 [==============================] - 1s 5ms/step - loss: 65.9324 - I_like: 0.4666 - val_loss: 70.9217 - val_I_like: 0.3927\n",
      "Epoch 33/1000\n",
      "196/196 [==============================] - 1s 5ms/step - loss: 65.6549 - I_like: 0.4694 - val_loss: 71.3323 - val_I_like: 0.3864\n",
      "Epoch 34/1000\n",
      "196/196 [==============================] - 1s 5ms/step - loss: 65.7352 - I_like: 0.4692 - val_loss: 72.5556 - val_I_like: 0.3690\n",
      "Epoch 35/1000\n",
      "196/196 [==============================] - 1s 5ms/step - loss: 66.2738 - I_like: 0.4614 - val_loss: 71.4384 - val_I_like: 0.3854\n",
      "Epoch 36/1000\n",
      "196/196 [==============================] - 1s 6ms/step - loss: 65.8916 - I_like: 0.4651 - val_loss: 71.0542 - val_I_like: 0.3913\n",
      "Epoch 37/1000\n",
      "196/196 [==============================] - 1s 7ms/step - loss: 66.3185 - I_like: 0.4604 - val_loss: 71.1225 - val_I_like: 0.3901\n",
      "Epoch 38/1000\n",
      "196/196 [==============================] - 1s 6ms/step - loss: 66.1448 - I_like: 0.4646 - val_loss: 72.5019 - val_I_like: 0.3702\n",
      "Epoch 39/1000\n",
      "196/196 [==============================] - 1s 6ms/step - loss: 65.4201 - I_like: 0.4715 - val_loss: 72.7801 - val_I_like: 0.3662\n",
      "Epoch 40/1000\n",
      "196/196 [==============================] - 1s 5ms/step - loss: 65.3806 - I_like: 0.4756 - val_loss: 69.6255 - val_I_like: 0.4124\n",
      "Epoch 41/1000\n",
      "196/196 [==============================] - 1s 5ms/step - loss: 65.3534 - I_like: 0.4757 - val_loss: 71.1205 - val_I_like: 0.3905\n",
      "Epoch 42/1000\n",
      "196/196 [==============================] - 1s 5ms/step - loss: 65.4824 - I_like: 0.4759 - val_loss: 72.5215 - val_I_like: 0.3710\n",
      "Epoch 43/1000\n",
      "196/196 [==============================] - 1s 5ms/step - loss: 65.3049 - I_like: 0.4771 - val_loss: 72.0873 - val_I_like: 0.3771\n",
      "Epoch 44/1000\n",
      "196/196 [==============================] - 1s 5ms/step - loss: 65.7154 - I_like: 0.4696 - val_loss: 71.4513 - val_I_like: 0.3866\n",
      "Epoch 45/1000\n",
      "196/196 [==============================] - 1s 5ms/step - loss: 65.3504 - I_like: 0.4755 - val_loss: 71.7093 - val_I_like: 0.3829\n",
      "Epoch 46/1000\n",
      "196/196 [==============================] - 1s 5ms/step - loss: 65.4279 - I_like: 0.4759 - val_loss: 71.2750 - val_I_like: 0.3898\n",
      "Epoch 47/1000\n",
      "196/196 [==============================] - 1s 5ms/step - loss: 65.2519 - I_like: 0.4782 - val_loss: 70.8010 - val_I_like: 0.3967\n",
      "Epoch 48/1000\n",
      "196/196 [==============================] - 1s 5ms/step - loss: 65.0259 - I_like: 0.4825 - val_loss: 70.9529 - val_I_like: 0.3949\n",
      "Epoch 49/1000\n",
      "196/196 [==============================] - 1s 5ms/step - loss: 65.3988 - I_like: 0.4766 - val_loss: 69.9525 - val_I_like: 0.4088\n",
      "Epoch 50/1000\n",
      "196/196 [==============================] - 1s 5ms/step - loss: 65.1589 - I_like: 0.4805 - val_loss: 71.8871 - val_I_like: 0.3815\n",
      "Training time: 53.3 seconds\n",
      "Model saved to these files:\n",
      "\tmpsa_ge_blackbox.pickle\n",
      "\tmpsa_ge_blackbox.h5\n"
     ]
    }
   ],
   "source": [
    "# Set filename\n",
    "name = 'mpsa_ge_blackbox'\n",
    "\n",
    "# Define model\n",
    "model = mavenn.Model(regression_type='GE',\n",
    "                     L=L,\n",
    "                     alphabet='rna',\n",
    "                     gpmap_type='blackbox',\n",
    "                     gpmap_kwargs={\n",
    "                         'hidden_layer_sizes':[10]*6,\n",
    "                         'features':'pairwise'\n",
    "                     },\n",
    "                     ge_noise_model_type='SkewedT',\n",
    "                     ge_heteroskedasticity_order=2)\n",
    "\n",
    "# Set training data\n",
    "model.set_data(x=train_df['x'],\n",
    "               y=train_df['y'])\n",
    "\n",
    "# Fit model to data\n",
    "model.fit(learning_rate=.002,\n",
    "          epochs=1000,\n",
    "          batch_size=100,\n",
    "          early_stopping=True,\n",
    "          early_stopping_patience=10,\n",
    "          linear_initialization=False)\n",
    "\n",
    "# Save models\n",
    "model.save(name)"
   ]
  },
  {
   "cell_type": "code",
   "execution_count": 5,
   "metadata": {},
   "outputs": [
    {
     "name": "stdout",
     "output_type": "stream",
     "text": [
      "Model loaded from these files:\n",
      "\tmpsa_ge_blackbox.pickle\n",
      "\tmpsa_ge_blackbox.h5\n"
     ]
    }
   ],
   "source": [
    "# Load model\n",
    "model = mavenn.load(name)"
   ]
  },
  {
   "cell_type": "code",
   "execution_count": 6,
   "metadata": {},
   "outputs": [
    {
     "name": "stdout",
     "output_type": "stream",
     "text": [
      "60\tmpsa_ge_blackbox.h5\r\n",
      "8\tmpsa_ge_blackbox.pickle\r\n"
     ]
    }
   ],
   "source": [
    "!du -k $name*"
   ]
  },
  {
   "cell_type": "code",
   "execution_count": 7,
   "metadata": {},
   "outputs": [],
   "source": [
    "# Get x and y\n",
    "x = test_df['x']\n",
    "y = test_df['y']"
   ]
  },
  {
   "cell_type": "code",
   "execution_count": 8,
   "metadata": {},
   "outputs": [
    {
     "name": "stdout",
     "output_type": "stream",
     "text": [
      "On test data:\n",
      "I_like_test: 0.407 +- 0.023 bits\n",
      "I_pred_test: 0.531 +- 0.014 bits\n"
     ]
    },
    {
     "data": {
      "image/png": "[encoded data removed]",
      "text/plain": [
       "<Figure size 288x288 with 1 Axes>"
      ]
     },
     "metadata": {
      "needs_background": "light"
     },
     "output_type": "display_data"
    }
   ],
   "source": [
    "# Show training history\n",
    "print('On test data:')\n",
    "\n",
    "# Compute likelihood information\n",
    "I_like, dI_like =  model.I_likelihood(x=x, y=y)\n",
    "print(f'I_like_test: {I_like:.3f} +- {dI_like:.3f} bits') \n",
    "\n",
    "# Compute predictive information\n",
    "I_pred, dI_pred = model.I_predictive(x=x, y=y)\n",
    "print(f'I_pred_test: {I_pred:.3f} +- {dI_pred:.3f} bits')\n",
    "\n",
    "I_like_hist = model.history['I_like']\n",
    "val_I_like_hist = model.history['val_I_like']\n",
    "\n",
    "fig, ax = plt.subplots(1,1,figsize=[4,4])\n",
    "ax.plot(I_like_hist, label='I_like_train')\n",
    "ax.plot(val_I_like_hist, label='I_like_val')\n",
    "ax.axhline(I_like, color='C2', linestyle=':', label='I_like_test')\n",
    "ax.axhline(I_pred, color='C3', linestyle=':', label='I_pred_test')\n",
    "ax.legend()\n",
    "ax.set_xlabel('epochs')\n",
    "ax.set_ylabel('bits')\n",
    "ax.set_title('training hisotry')\n",
    "ax.set_ylim([0, I_pred*1.2]);"
   ]
  },
  {
   "cell_type": "code",
   "execution_count": 9,
   "metadata": {},
   "outputs": [
    {
     "data": {
      "image/png": "[encoded data removed]",
      "text/plain": [
       "<Figure size 288x288 with 1 Axes>"
      ]
     },
     "metadata": {
      "needs_background": "light"
     },
     "output_type": "display_data"
    }
   ],
   "source": [
    "# Compute phi and yhat values\n",
    "phi = model.x_to_phi(x)\n",
    "yhat = model.phi_to_yhat(phi)\n",
    "\n",
    "# Create grid for plotting yhat and yqs\n",
    "phi_lim = [min(phi), max(phi)]\n",
    "phi_grid = np.linspace(phi_lim[0], phi_lim[1], 1000)\n",
    "yhat_grid = model.phi_to_yhat(phi_grid)\n",
    "yqs_grid = model.yhat_to_yq(yhat_grid, q=[.16,.84])\n",
    "\n",
    "# Create two panels\n",
    "fig, ax = plt.subplots(1, 1, figsize=[4, 4])\n",
    "\n",
    "# Illustrate measurement process with GE curve\n",
    "ax.scatter(phi, y, color='C0', s=5, alpha=.2, label='test data')\n",
    "ax.plot(phi_grid, yhat_grid, linewidth=2, color='C1',\n",
    "        label='$\\hat{y} = g(\\phi)$')\n",
    "ax.plot(phi_grid, yqs_grid[:, 0], linestyle='--', color='C1',\n",
    "        label='68% CI')\n",
    "ax.plot(phi_grid, yqs_grid[:, 1], linestyle='--', color='C1')\n",
    "ax.set_xlim(phi_lim)\n",
    "ax.set_xlabel('latent phenotype ($\\phi$)')\n",
    "ax.set_ylabel('measurement ($y$)')\n",
    "ax.set_title('measurement process')\n",
    "ax.legend()\n",
    "\n",
    "# Fix up plot\n",
    "fig.tight_layout()\n",
    "plt.show()"
   ]
  },
  {
   "cell_type": "code",
   "execution_count": 10,
   "metadata": {},
   "outputs": [
    {
     "data": {
      "text/html": [
       "<div>\n",
       "<style scoped>\n",
       "    .dataframe tbody tr th:only-of-type {\n",
       "        vertical-align: middle;\n",
       "    }\n",
       "\n",
       "    .dataframe tbody tr th {\n",
       "        vertical-align: top;\n",
       "    }\n",
       "\n",
       "    .dataframe thead th {\n",
       "        text-align: right;\n",
       "    }\n",
       "</style>\n",
       "<table border=\"1\" class=\"dataframe\">\n",
       "  <thead>\n",
       "    <tr style=\"text-align: right;\">\n",
       "      <th></th>\n",
       "      <th>training_set</th>\n",
       "      <th>yhat</th>\n",
       "      <th>phi</th>\n",
       "      <th>y</th>\n",
       "      <th>x</th>\n",
       "    </tr>\n",
       "  </thead>\n",
       "  <tbody>\n",
       "    <tr>\n",
       "      <th>0</th>\n",
       "      <td>True</td>\n",
       "      <td>-4.407708</td>\n",
       "      <td>-0.261042</td>\n",
       "      <td>-4.302938</td>\n",
       "      <td>AGCGUCCGG</td>\n",
       "    </tr>\n",
       "    <tr>\n",
       "      <th>1</th>\n",
       "      <td>True</td>\n",
       "      <td>-4.526562</td>\n",
       "      <td>-0.296453</td>\n",
       "      <td>-4.838003</td>\n",
       "      <td>UAAGCGCUA</td>\n",
       "    </tr>\n",
       "    <tr>\n",
       "      <th>2</th>\n",
       "      <td>True</td>\n",
       "      <td>-3.942746</td>\n",
       "      <td>-0.122930</td>\n",
       "      <td>-3.125519</td>\n",
       "      <td>UAGGUGCCC</td>\n",
       "    </tr>\n",
       "    <tr>\n",
       "      <th>3</th>\n",
       "      <td>True</td>\n",
       "      <td>-4.541843</td>\n",
       "      <td>-0.301010</td>\n",
       "      <td>-5.053051</td>\n",
       "      <td>CCAGCAUAA</td>\n",
       "    </tr>\n",
       "    <tr>\n",
       "      <th>4</th>\n",
       "      <td>True</td>\n",
       "      <td>-4.490823</td>\n",
       "      <td>-0.285797</td>\n",
       "      <td>-4.058565</td>\n",
       "      <td>CACGCCUAA</td>\n",
       "    </tr>\n",
       "  </tbody>\n",
       "</table>\n",
       "</div>"
      ],
      "text/plain": [
       "   training_set      yhat       phi         y          x\n",
       "0          True -4.407708 -0.261042 -4.302938  AGCGUCCGG\n",
       "1          True -4.526562 -0.296453 -4.838003  UAAGCGCUA\n",
       "2          True -3.942746 -0.122930 -3.125519  UAGGUGCCC\n",
       "3          True -4.541843 -0.301010 -5.053051  CCAGCAUAA\n",
       "4          True -4.490823 -0.285797 -4.058565  CACGCCUAA"
      ]
     },
     "execution_count": 10,
     "metadata": {},
     "output_type": "execute_result"
    }
   ],
   "source": [
    "# Test simulate_data\n",
    "sim_df = model.simulate_dataset(N=1000)\n",
    "sim_df.head()"
   ]
  },
  {
   "cell_type": "code",
   "execution_count": 11,
   "metadata": {},
   "outputs": [
    {
     "data": {
      "text/plain": [
       "[<matplotlib.lines.Line2D at 0x14e10de90>]"
      ]
     },
     "execution_count": 11,
     "metadata": {},
     "output_type": "execute_result"
    },
    {
     "data": {
      "image/png": "[encoded data removed]",
      "text/plain": [
       "<Figure size 1080x360 with 3 Axes>"
      ]
     },
     "metadata": {
      "needs_background": "light"
     },
     "output_type": "display_data"
    }
   ],
   "source": [
    "# Is clip by value causing a problem?\n",
    "yhat_fixed = (yhat_grid - model.y_mean)/model.y_std\n",
    "a, b, s = model.layer_noise_model.compute_params(yhat_fixed)\n",
    "\n",
    "fig, axs = plt.subplots(1,3,figsize=[15,5])\n",
    "\n",
    "axs[0].plot(yhat_fixed, a)\n",
    "axs[1].plot(yhat_fixed, b)\n",
    "axs[2].plot(yhat_fixed, s)"
   ]
  },
  {
   "cell_type": "code",
   "execution_count": null,
   "metadata": {},
   "outputs": [],
   "source": []
  }
 ],
 "metadata": {
  "kernelspec": {
   "display_name": "Python 3",
   "language": "python",
   "name": "python3"
  },
  "language_info": {
   "codemirror_mode": {
    "name": "ipython",
    "version": 3
   },
   "file_extension": ".py",
   "mimetype": "text/x-python",
   "name": "python",
   "nbconvert_exporter": "python",
   "pygments_lexer": "ipython3",
   "version": "3.7.4"
  }
 },
 "nbformat": 4,
 "nbformat_minor": 2
}
