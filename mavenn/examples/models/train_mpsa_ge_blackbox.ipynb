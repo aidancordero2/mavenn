{
 "cells": [
  {
   "cell_type": "code",
   "execution_count": 1,
   "metadata": {},
   "outputs": [
    {
     "name": "stdout",
     "output_type": "stream",
     "text": [
      "['/Users/jkinney/github/mavenn/mavenn']\n"
     ]
    }
   ],
   "source": [
    "# Standard imports\n",
    "import pandas as pd\n",
    "import matplotlib.pyplot as plt\n",
    "import numpy as np\n",
    "\n",
    "# Insert path to mavenn beginning of path\n",
    "import os\n",
    "import sys\n",
    "abs_path_to_mavenn = os.path.abspath('../../../')\n",
    "sys.path.insert(0, abs_path_to_mavenn)\n",
    "\n",
    "# Load mavenn\n",
    "import mavenn\n",
    "print(mavenn.__path__)"
   ]
  },
  {
   "cell_type": "code",
   "execution_count": 2,
   "metadata": {},
   "outputs": [
    {
     "data": {
      "text/html": [
       "<div>\n",
       "<style scoped>\n",
       "    .dataframe tbody tr th:only-of-type {\n",
       "        vertical-align: middle;\n",
       "    }\n",
       "\n",
       "    .dataframe tbody tr th {\n",
       "        vertical-align: top;\n",
       "    }\n",
       "\n",
       "    .dataframe thead th {\n",
       "        text-align: right;\n",
       "    }\n",
       "</style>\n",
       "<table border=\"1\" class=\"dataframe\">\n",
       "  <thead>\n",
       "    <tr style=\"text-align: right;\">\n",
       "      <th></th>\n",
       "      <th>training_set</th>\n",
       "      <th>tot_ct</th>\n",
       "      <th>ex_ct</th>\n",
       "      <th>y</th>\n",
       "      <th>x</th>\n",
       "    </tr>\n",
       "  </thead>\n",
       "  <tbody>\n",
       "    <tr>\n",
       "      <th>0</th>\n",
       "      <td>True</td>\n",
       "      <td>1588</td>\n",
       "      <td>66</td>\n",
       "      <td>-4.567814</td>\n",
       "      <td>ACGGUCCAU</td>\n",
       "    </tr>\n",
       "    <tr>\n",
       "      <th>1</th>\n",
       "      <td>True</td>\n",
       "      <td>1533</td>\n",
       "      <td>118</td>\n",
       "      <td>-3.688265</td>\n",
       "      <td>AUUGCCAGG</td>\n",
       "    </tr>\n",
       "    <tr>\n",
       "      <th>2</th>\n",
       "      <td>True</td>\n",
       "      <td>1459</td>\n",
       "      <td>399</td>\n",
       "      <td>-1.867896</td>\n",
       "      <td>ACAGCGGUA</td>\n",
       "    </tr>\n",
       "    <tr>\n",
       "      <th>3</th>\n",
       "      <td>True</td>\n",
       "      <td>1414</td>\n",
       "      <td>246</td>\n",
       "      <td>-2.518219</td>\n",
       "      <td>AACGCCAGG</td>\n",
       "    </tr>\n",
       "    <tr>\n",
       "      <th>4</th>\n",
       "      <td>True</td>\n",
       "      <td>1412</td>\n",
       "      <td>60</td>\n",
       "      <td>-4.533808</td>\n",
       "      <td>ACGGCUUGG</td>\n",
       "    </tr>\n",
       "  </tbody>\n",
       "</table>\n",
       "</div>"
      ],
      "text/plain": [
       "   training_set  tot_ct  ex_ct         y          x\n",
       "0          True    1588     66 -4.567814  ACGGUCCAU\n",
       "1          True    1533    118 -3.688265  AUUGCCAGG\n",
       "2          True    1459    399 -1.867896  ACAGCGGUA\n",
       "3          True    1414    246 -2.518219  AACGCCAGG\n",
       "4          True    1412     60 -4.533808  ACGGCUUGG"
      ]
     },
     "execution_count": 2,
     "metadata": {},
     "output_type": "execute_result"
    }
   ],
   "source": [
    "# Load example data\n",
    "data_df = mavenn.load_example_dataset('mpsa')\n",
    "data_df.head()"
   ]
  },
  {
   "cell_type": "code",
   "execution_count": 3,
   "metadata": {},
   "outputs": [
    {
     "name": "stdout",
     "output_type": "stream",
     "text": [
      "training N: 24,411\n",
      "testing N: 6,079\n"
     ]
    }
   ],
   "source": [
    "# Split into trianing and test data\n",
    "ix = data_df['training_set']\n",
    "L = len(data_df['x'][0])\n",
    "train_df = data_df[ix]\n",
    "print(f'training N: {len(train_df):,}')\n",
    "test_df = data_df[~ix]\n",
    "print(f'testing N: {len(test_df):,}')"
   ]
  },
  {
   "cell_type": "code",
   "execution_count": 4,
   "metadata": {},
   "outputs": [
    {
     "name": "stdout",
     "output_type": "stream",
     "text": [
      "N = 24,411 observations set as training data.\n",
      "Data shuffled.\n",
      "Time to set data: 0.46 sec.\n",
      "Epoch 1/1000\n",
      "196/196 [==============================] - 1s 7ms/step - loss: 127.5248 - I_like: -0.3806 - val_loss: 103.0387 - val_I_like: -0.0640\n",
      "Epoch 2/1000\n",
      "196/196 [==============================] - 1s 4ms/step - loss: 92.5169 - I_like: 0.0893 - val_loss: 84.6107 - val_I_like: 0.2020\n",
      "Epoch 3/1000\n",
      "196/196 [==============================] - 1s 4ms/step - loss: 82.0726 - I_like: 0.2399 - val_loss: 78.4550 - val_I_like: 0.2891\n",
      "Epoch 4/1000\n",
      "196/196 [==============================] - 1s 4ms/step - loss: 76.7375 - I_like: 0.3172 - val_loss: 77.8070 - val_I_like: 0.3029\n",
      "Epoch 5/1000\n",
      "196/196 [==============================] - 1s 4ms/step - loss: 74.1858 - I_like: 0.3582 - val_loss: 73.8795 - val_I_like: 0.3621\n",
      "Epoch 6/1000\n",
      "196/196 [==============================] - 1s 5ms/step - loss: 71.8579 - I_like: 0.3958 - val_loss: 73.4480 - val_I_like: 0.3702\n",
      "Epoch 7/1000\n",
      "196/196 [==============================] - 1s 5ms/step - loss: 70.8249 - I_like: 0.4127 - val_loss: 70.7649 - val_I_like: 0.4095\n",
      "Epoch 8/1000\n",
      "196/196 [==============================] - 1s 4ms/step - loss: 70.6298 - I_like: 0.4134 - val_loss: 72.1136 - val_I_like: 0.3901\n",
      "Epoch 9/1000\n",
      "196/196 [==============================] - 1s 4ms/step - loss: 69.9890 - I_like: 0.4224 - val_loss: 70.5943 - val_I_like: 0.4121\n",
      "Epoch 10/1000\n",
      "196/196 [==============================] - 1s 5ms/step - loss: 69.8469 - I_like: 0.4252 - val_loss: 70.5143 - val_I_like: 0.4127\n",
      "Epoch 11/1000\n",
      "196/196 [==============================] - 1s 6ms/step - loss: 70.0642 - I_like: 0.4201 - val_loss: 75.4440 - val_I_like: 0.3400\n",
      "Epoch 12/1000\n",
      "196/196 [==============================] - 1s 6ms/step - loss: 69.5747 - I_like: 0.4301 - val_loss: 72.0728 - val_I_like: 0.3901\n",
      "Epoch 13/1000\n",
      "196/196 [==============================] - 1s 5ms/step - loss: 68.9466 - I_like: 0.4397 - val_loss: 70.3889 - val_I_like: 0.4144\n",
      "Epoch 14/1000\n",
      "196/196 [==============================] - 1s 5ms/step - loss: 68.3526 - I_like: 0.4459 - val_loss: 72.2254 - val_I_like: 0.3874\n",
      "Epoch 15/1000\n",
      "196/196 [==============================] - 1s 6ms/step - loss: 68.1685 - I_like: 0.4493 - val_loss: 69.1285 - val_I_like: 0.4325\n",
      "Epoch 16/1000\n",
      "196/196 [==============================] - 1s 5ms/step - loss: 67.7426 - I_like: 0.4551 - val_loss: 71.4626 - val_I_like: 0.3986\n",
      "Epoch 17/1000\n",
      "196/196 [==============================] - 1s 5ms/step - loss: 67.7369 - I_like: 0.4533 - val_loss: 69.9131 - val_I_like: 0.4210\n",
      "Epoch 18/1000\n",
      "196/196 [==============================] - 1s 5ms/step - loss: 67.8806 - I_like: 0.4514 - val_loss: 71.7215 - val_I_like: 0.3956\n",
      "Epoch 19/1000\n",
      "196/196 [==============================] - 1s 5ms/step - loss: 68.1183 - I_like: 0.4497 - val_loss: 69.2453 - val_I_like: 0.4312\n",
      "Epoch 20/1000\n",
      "196/196 [==============================] - 1s 5ms/step - loss: 66.9073 - I_like: 0.4663 - val_loss: 70.0986 - val_I_like: 0.4192\n",
      "Epoch 21/1000\n",
      "196/196 [==============================] - 1s 5ms/step - loss: 67.4849 - I_like: 0.4592 - val_loss: 70.5325 - val_I_like: 0.4135\n",
      "Epoch 22/1000\n",
      "196/196 [==============================] - 1s 6ms/step - loss: 66.7968 - I_like: 0.4688 - val_loss: 69.8629 - val_I_like: 0.4237\n",
      "Epoch 23/1000\n",
      "196/196 [==============================] - 1s 5ms/step - loss: 67.3244 - I_like: 0.4608 - val_loss: 68.8050 - val_I_like: 0.4388\n",
      "Epoch 24/1000\n",
      "196/196 [==============================] - 1s 5ms/step - loss: 66.7959 - I_like: 0.4692 - val_loss: 73.4934 - val_I_like: 0.3701\n",
      "Epoch 25/1000\n",
      "196/196 [==============================] - 1s 5ms/step - loss: 67.2405 - I_like: 0.4641 - val_loss: 69.2667 - val_I_like: 0.4338\n",
      "Epoch 26/1000\n",
      "196/196 [==============================] - 1s 5ms/step - loss: 66.6450 - I_like: 0.4735 - val_loss: 70.5774 - val_I_like: 0.4137\n",
      "Epoch 27/1000\n",
      "196/196 [==============================] - 1s 5ms/step - loss: 66.4466 - I_like: 0.4749 - val_loss: 69.8826 - val_I_like: 0.4244\n",
      "Epoch 28/1000\n",
      "196/196 [==============================] - 1s 5ms/step - loss: 65.9928 - I_like: 0.4828 - val_loss: 69.4732 - val_I_like: 0.4307\n",
      "Epoch 29/1000\n",
      "196/196 [==============================] - 1s 6ms/step - loss: 66.2930 - I_like: 0.4775 - val_loss: 72.0292 - val_I_like: 0.3940\n",
      "Epoch 30/1000\n",
      "196/196 [==============================] - 1s 5ms/step - loss: 66.3939 - I_like: 0.4752 - val_loss: 69.3630 - val_I_like: 0.4328\n",
      "Epoch 31/1000\n",
      "196/196 [==============================] - 1s 5ms/step - loss: 66.1790 - I_like: 0.4803 - val_loss: 69.3523 - val_I_like: 0.4331\n",
      "Epoch 32/1000\n",
      "196/196 [==============================] - 1s 5ms/step - loss: 65.8238 - I_like: 0.4866 - val_loss: 68.7269 - val_I_like: 0.4425\n",
      "Epoch 33/1000\n",
      "196/196 [==============================] - 1s 5ms/step - loss: 65.3835 - I_like: 0.4917 - val_loss: 69.3714 - val_I_like: 0.4334\n",
      "Epoch 34/1000\n",
      "196/196 [==============================] - 1s 6ms/step - loss: 65.9171 - I_like: 0.4846 - val_loss: 69.8614 - val_I_like: 0.4269\n",
      "Epoch 35/1000\n",
      "196/196 [==============================] - 1s 5ms/step - loss: 65.9091 - I_like: 0.4844 - val_loss: 70.6018 - val_I_like: 0.4158\n",
      "Epoch 36/1000\n",
      "196/196 [==============================] - 1s 5ms/step - loss: 66.6398 - I_like: 0.4761 - val_loss: 68.1828 - val_I_like: 0.4513\n",
      "Epoch 37/1000\n",
      "196/196 [==============================] - 1s 4ms/step - loss: 65.5446 - I_like: 0.4889 - val_loss: 69.0181 - val_I_like: 0.4391\n",
      "Epoch 38/1000\n",
      "196/196 [==============================] - 1s 4ms/step - loss: 65.7123 - I_like: 0.4885 - val_loss: 70.9785 - val_I_like: 0.4108\n",
      "Epoch 39/1000\n",
      "196/196 [==============================] - 1s 5ms/step - loss: 65.4965 - I_like: 0.4923 - val_loss: 69.6449 - val_I_like: 0.4304\n",
      "Epoch 40/1000\n",
      "196/196 [==============================] - 1s 6ms/step - loss: 66.1658 - I_like: 0.4821 - val_loss: 68.9653 - val_I_like: 0.4406\n",
      "Epoch 41/1000\n",
      "196/196 [==============================] - 1s 5ms/step - loss: 65.6335 - I_like: 0.4903 - val_loss: 70.6507 - val_I_like: 0.4156\n",
      "Epoch 42/1000\n",
      "196/196 [==============================] - 1s 5ms/step - loss: 65.1040 - I_like: 0.4984 - val_loss: 69.1456 - val_I_like: 0.4377\n",
      "Epoch 43/1000\n",
      "196/196 [==============================] - 1s 5ms/step - loss: 66.0673 - I_like: 0.4830 - val_loss: 69.1856 - val_I_like: 0.4379\n",
      "Epoch 44/1000\n",
      "196/196 [==============================] - 1s 5ms/step - loss: 65.8566 - I_like: 0.4897 - val_loss: 71.5360 - val_I_like: 0.4040\n",
      "Epoch 45/1000\n",
      "196/196 [==============================] - 1s 5ms/step - loss: 65.5484 - I_like: 0.4914 - val_loss: 70.2824 - val_I_like: 0.4225\n",
      "Epoch 46/1000\n",
      "196/196 [==============================] - 1s 4ms/step - loss: 65.9816 - I_like: 0.4859 - val_loss: 69.6209 - val_I_like: 0.4319\n",
      "Training time: 48.4 seconds\n",
      "Model saved to these files:\n",
      "\tmpsa_ge_blackbox.pickle\n",
      "\tmpsa_ge_blackbox.h5\n"
     ]
    }
   ],
   "source": [
    "# Set filename\n",
    "name = 'mpsa_ge_blackbox'\n",
    "\n",
    "if True:\n",
    "    \n",
    "    # Set seeed\n",
    "    mavenn.set_seed(0)\n",
    "\n",
    "    # Define model\n",
    "    model = mavenn.Model(regression_type='GE',\n",
    "                         L=L,\n",
    "                         alphabet='rna',\n",
    "                         gpmap_type='mlp',\n",
    "                         gpmap_kwargs={\n",
    "                             'hidden_layer_sizes':[10]*6,\n",
    "                             'features':'pairwise'\n",
    "                         },\n",
    "                         ge_noise_model_type='SkewedT',\n",
    "                         ge_heteroskedasticity_order=2)\n",
    "\n",
    "    # Set training data\n",
    "    model.set_data(x=train_df['x'],\n",
    "                   y=train_df['y'])\n",
    "\n",
    "    # Fit model to data\n",
    "    model.fit(learning_rate=.002,\n",
    "              epochs=1000,\n",
    "              batch_size=100,\n",
    "              early_stopping=True,\n",
    "              early_stopping_patience=10,\n",
    "              linear_initialization=False)\n",
    "\n",
    "    # Save models\n",
    "    model.save(name)"
   ]
  },
  {
   "cell_type": "code",
   "execution_count": 5,
   "metadata": {},
   "outputs": [
    {
     "name": "stdout",
     "output_type": "stream",
     "text": [
      "Model loaded from these files:\n",
      "\tmpsa_ge_blackbox.pickle\n",
      "\tmpsa_ge_blackbox.h5\n"
     ]
    }
   ],
   "source": [
    "# Load model\n",
    "model = mavenn.load(name)"
   ]
  },
  {
   "cell_type": "code",
   "execution_count": 6,
   "metadata": {},
   "outputs": [
    {
     "name": "stdout",
     "output_type": "stream",
     "text": [
      "60\tmpsa_ge_blackbox.h5\r\n",
      "4\tmpsa_ge_blackbox.pickle\r\n"
     ]
    }
   ],
   "source": [
    "!du -k $name*"
   ]
  },
  {
   "cell_type": "code",
   "execution_count": 7,
   "metadata": {},
   "outputs": [],
   "source": [
    "# Get x and y\n",
    "x = test_df['x']\n",
    "y = test_df['y']"
   ]
  },
  {
   "cell_type": "code",
   "execution_count": 8,
   "metadata": {},
   "outputs": [
    {
     "name": "stdout",
     "output_type": "stream",
     "text": [
      "On test data:\n",
      "I_like_test: 0.440 +- 0.025 bits\n",
      "I_pred_test: 0.510 +- 0.017 bits\n"
     ]
    },
    {
     "data": {
      "image/png": "[encoded data removed]",
      "text/plain": [
       "<Figure size 288x288 with 1 Axes>"
      ]
     },
     "metadata": {
      "needs_background": "light"
     },
     "output_type": "display_data"
    }
   ],
   "source": [
    "# Show training history\n",
    "print('On test data:')\n",
    "\n",
    "# Compute likelihood information\n",
    "I_like, dI_like =  model.I_likelihood(x=x, y=y)\n",
    "print(f'I_like_test: {I_like:.3f} +- {dI_like:.3f} bits') \n",
    "\n",
    "# Compute predictive information\n",
    "I_pred, dI_pred = model.I_predictive(x=x, y=y)\n",
    "print(f'I_pred_test: {I_pred:.3f} +- {dI_pred:.3f} bits')\n",
    "\n",
    "I_like_hist = model.history['I_like']\n",
    "val_I_like_hist = model.history['val_I_like']\n",
    "\n",
    "fig, ax = plt.subplots(1,1,figsize=[4,4])\n",
    "ax.plot(I_like_hist, label='I_like_train')\n",
    "ax.plot(val_I_like_hist, label='I_like_val')\n",
    "ax.axhline(I_like, color='C2', linestyle=':', label='I_like_test')\n",
    "ax.axhline(I_pred, color='C3', linestyle=':', label='I_pred_test')\n",
    "ax.legend()\n",
    "ax.set_xlabel('epochs')\n",
    "ax.set_ylabel('bits')\n",
    "ax.set_title('training hisotry')\n",
    "ax.set_ylim([0, I_pred*1.2]);"
   ]
  },
  {
   "cell_type": "code",
   "execution_count": 9,
   "metadata": {},
   "outputs": [
    {
     "data": {
      "image/png": "[encoded data removed]",
      "text/plain": [
       "<Figure size 288x288 with 1 Axes>"
      ]
     },
     "metadata": {
      "needs_background": "light"
     },
     "output_type": "display_data"
    }
   ],
   "source": [
    "# Compute phi and yhat values\n",
    "phi = model.x_to_phi(x)\n",
    "yhat = model.phi_to_yhat(phi)\n",
    "\n",
    "# Create grid for plotting yhat and yqs\n",
    "phi_lim = [min(phi), max(phi)]\n",
    "phi_grid = np.linspace(phi_lim[0], phi_lim[1], 1000)\n",
    "yhat_grid = model.phi_to_yhat(phi_grid)\n",
    "yqs_grid = model.yhat_to_yq(yhat_grid, q=[.16,.84])\n",
    "\n",
    "# Create two panels\n",
    "fig, ax = plt.subplots(1, 1, figsize=[4, 4])\n",
    "\n",
    "# Illustrate measurement process with GE curve\n",
    "ax.scatter(phi, y, color='C0', s=5, alpha=.2, label='test data')\n",
    "ax.plot(phi_grid, yhat_grid, linewidth=2, color='C1',\n",
    "        label='$\\hat{y} = g(\\phi)$')\n",
    "ax.plot(phi_grid, yqs_grid[:, 0], linestyle='--', color='C1',\n",
    "        label='68% CI')\n",
    "ax.plot(phi_grid, yqs_grid[:, 1], linestyle='--', color='C1')\n",
    "ax.set_xlim(phi_lim)\n",
    "ax.set_xlabel('latent phenotype ($\\phi$)')\n",
    "ax.set_ylabel('measurement ($y$)')\n",
    "ax.set_title('measurement process')\n",
    "ax.legend()\n",
    "\n",
    "# Fix up plot\n",
    "fig.tight_layout()\n",
    "plt.show()"
   ]
  },
  {
   "cell_type": "code",
   "execution_count": 10,
   "metadata": {},
   "outputs": [
    {
     "data": {
      "text/html": [
       "<div>\n",
       "<style scoped>\n",
       "    .dataframe tbody tr th:only-of-type {\n",
       "        vertical-align: middle;\n",
       "    }\n",
       "\n",
       "    .dataframe tbody tr th {\n",
       "        vertical-align: top;\n",
       "    }\n",
       "\n",
       "    .dataframe thead th {\n",
       "        text-align: right;\n",
       "    }\n",
       "</style>\n",
       "<table border=\"1\" class=\"dataframe\">\n",
       "  <thead>\n",
       "    <tr style=\"text-align: right;\">\n",
       "      <th></th>\n",
       "      <th>training_set</th>\n",
       "      <th>yhat</th>\n",
       "      <th>phi</th>\n",
       "      <th>y</th>\n",
       "      <th>x</th>\n",
       "    </tr>\n",
       "  </thead>\n",
       "  <tbody>\n",
       "    <tr>\n",
       "      <th>0</th>\n",
       "      <td>True</td>\n",
       "      <td>-4.551858</td>\n",
       "      <td>-0.312502</td>\n",
       "      <td>-4.237032</td>\n",
       "      <td>UCAGCAAUA</td>\n",
       "    </tr>\n",
       "    <tr>\n",
       "      <th>1</th>\n",
       "      <td>False</td>\n",
       "      <td>-4.384414</td>\n",
       "      <td>-0.258007</td>\n",
       "      <td>-4.075044</td>\n",
       "      <td>GCUGUCUGA</td>\n",
       "    </tr>\n",
       "    <tr>\n",
       "      <th>2</th>\n",
       "      <td>True</td>\n",
       "      <td>-4.438131</td>\n",
       "      <td>-0.275471</td>\n",
       "      <td>-4.382092</td>\n",
       "      <td>CGAGCGUGU</td>\n",
       "    </tr>\n",
       "    <tr>\n",
       "      <th>3</th>\n",
       "      <td>True</td>\n",
       "      <td>-4.338864</td>\n",
       "      <td>-0.243210</td>\n",
       "      <td>-3.950707</td>\n",
       "      <td>GUCGCCUGU</td>\n",
       "    </tr>\n",
       "    <tr>\n",
       "      <th>4</th>\n",
       "      <td>True</td>\n",
       "      <td>-4.342008</td>\n",
       "      <td>-0.244231</td>\n",
       "      <td>-3.796587</td>\n",
       "      <td>UACGUGAAG</td>\n",
       "    </tr>\n",
       "  </tbody>\n",
       "</table>\n",
       "</div>"
      ],
      "text/plain": [
       "   training_set      yhat       phi         y          x\n",
       "0          True -4.551858 -0.312502 -4.237032  UCAGCAAUA\n",
       "1         False -4.384414 -0.258007 -4.075044  GCUGUCUGA\n",
       "2          True -4.438131 -0.275471 -4.382092  CGAGCGUGU\n",
       "3          True -4.338864 -0.243210 -3.950707  GUCGCCUGU\n",
       "4          True -4.342008 -0.244231 -3.796587  UACGUGAAG"
      ]
     },
     "execution_count": 10,
     "metadata": {},
     "output_type": "execute_result"
    }
   ],
   "source": [
    "# Test simulate_data\n",
    "sim_df = model.simulate_dataset(N=1000)\n",
    "sim_df.head()"
   ]
  },
  {
   "cell_type": "code",
   "execution_count": null,
   "metadata": {},
   "outputs": [],
   "source": []
  }
 ],
 "metadata": {
  "kernelspec": {
   "display_name": "Python 3",
   "language": "python",
   "name": "python3"
  },
  "language_info": {
   "codemirror_mode": {
    "name": "ipython",
    "version": 3
   },
   "file_extension": ".py",
   "mimetype": "text/x-python",
   "name": "python",
   "nbconvert_exporter": "python",
   "pygments_lexer": "ipython3",
   "version": "3.7.4"
  }
 },
 "nbformat": 4,
 "nbformat_minor": 2
}
