{
 "cells": [
  {
   "cell_type": "code",
   "execution_count": 1,
   "metadata": {},
   "outputs": [
    {
     "name": "stdout",
     "output_type": "stream",
     "text": [
      "['/Users/jkinney/github/mavenn/mavenn']\n"
     ]
    }
   ],
   "source": [
    "# Standard imports\n",
    "import pandas as pd\n",
    "import matplotlib.pyplot as plt\n",
    "import numpy as np\n",
    "import time\n",
    "import logomaker\n",
    "\n",
    "# Insert path to mavenn beginning of path\n",
    "import os\n",
    "import sys\n",
    "abs_path_to_mavenn = os.path.abspath('../../../')\n",
    "sys.path.insert(0, abs_path_to_mavenn)\n",
    "\n",
    "# Load mavenn\n",
    "import mavenn\n",
    "print(mavenn.__path__)"
   ]
  },
  {
   "cell_type": "code",
   "execution_count": 2,
   "metadata": {},
   "outputs": [
    {
     "name": "stdout",
     "output_type": "stream",
     "text": [
      "training N: 34333\n"
     ]
    },
    {
     "data": {
      "text/html": [
       "<div>\n",
       "<style scoped>\n",
       "    .dataframe tbody tr th:only-of-type {\n",
       "        vertical-align: middle;\n",
       "    }\n",
       "\n",
       "    .dataframe tbody tr th {\n",
       "        vertical-align: top;\n",
       "    }\n",
       "\n",
       "    .dataframe thead th {\n",
       "        text-align: right;\n",
       "    }\n",
       "</style>\n",
       "<table border=\"1\" class=\"dataframe\">\n",
       "  <thead>\n",
       "    <tr style=\"text-align: right;\">\n",
       "      <th></th>\n",
       "      <th>x</th>\n",
       "      <th>y</th>\n",
       "    </tr>\n",
       "  </thead>\n",
       "  <tbody>\n",
       "    <tr>\n",
       "      <td>0</td>\n",
       "      <td>CGGTTTACACTTTATGCTTCCCGATCGTATGTTGTGTGG</td>\n",
       "      <td>9</td>\n",
       "    </tr>\n",
       "    <tr>\n",
       "      <td>1</td>\n",
       "      <td>GGCTTTACACTTTATGCTTACGGCTTGTTTGTTGTGTGG</td>\n",
       "      <td>4</td>\n",
       "    </tr>\n",
       "    <tr>\n",
       "      <td>2</td>\n",
       "      <td>GGCTTTTCAATTTTTGCTTCCGGCTCGTATGTCGTGTGG</td>\n",
       "      <td>0</td>\n",
       "    </tr>\n",
       "    <tr>\n",
       "      <td>3</td>\n",
       "      <td>GGCTTAACACTTGATGCGTCCAGCTCGTATGTTTTGTGT</td>\n",
       "      <td>0</td>\n",
       "    </tr>\n",
       "    <tr>\n",
       "      <td>4</td>\n",
       "      <td>GCCTTTACACGTTTTGCTTCCGGCTCGTATGTTGCGTGG</td>\n",
       "      <td>8</td>\n",
       "    </tr>\n",
       "  </tbody>\n",
       "</table>\n",
       "</div>"
      ],
      "text/plain": [
       "                                         x  y\n",
       "0  CGGTTTACACTTTATGCTTCCCGATCGTATGTTGTGTGG  9\n",
       "1  GGCTTTACACTTTATGCTTACGGCTTGTTTGTTGTGTGG  4\n",
       "2  GGCTTTTCAATTTTTGCTTCCGGCTCGTATGTCGTGTGG  0\n",
       "3  GGCTTAACACTTGATGCGTCCAGCTCGTATGTTTTGTGT  0\n",
       "4  GCCTTTACACGTTTTGCTTCCGGCTCGTATGTTGCGTGG  8"
      ]
     },
     "execution_count": 2,
     "metadata": {},
     "output_type": "execute_result"
    }
   ],
   "source": [
    "# Load example data\n",
    "data_df = mavenn.load_example(which='training_data', name='sortseq')\n",
    "print(f'training N: {len(data_df)}')\n",
    "data_df.head()"
   ]
  },
  {
   "cell_type": "code",
   "execution_count": 3,
   "metadata": {},
   "outputs": [
    {
     "name": "stdout",
     "output_type": "stream",
     "text": [
      "Epoch 1/1000\n",
      "550/550 [==============================] - 1s 2ms/step - loss: 108.8503 - val_loss: 107.0765\n",
      "Epoch 2/1000\n",
      "550/550 [==============================] - 1s 2ms/step - loss: 104.6421 - val_loss: 105.4895\n",
      "Epoch 3/1000\n",
      "550/550 [==============================] - 1s 2ms/step - loss: 104.3684 - val_loss: 105.4899\n",
      "Epoch 4/1000\n",
      "550/550 [==============================] - 1s 2ms/step - loss: 104.3864 - val_loss: 105.5043\n",
      "Epoch 5/1000\n",
      "550/550 [==============================] - 1s 2ms/step - loss: 104.1826 - val_loss: 104.9224\n",
      "Epoch 6/1000\n",
      "550/550 [==============================] - 1s 1ms/step - loss: 104.1677 - val_loss: 105.3615\n",
      "Epoch 7/1000\n",
      "550/550 [==============================] - 1s 1ms/step - loss: 104.1100 - val_loss: 105.0187\n",
      "Epoch 8/1000\n",
      "550/550 [==============================] - 1s 1ms/step - loss: 103.9419 - val_loss: 105.0389\n",
      "Epoch 9/1000\n",
      "550/550 [==============================] - 1s 1ms/step - loss: 103.9575 - val_loss: 105.1987\n",
      "Epoch 10/1000\n",
      "550/550 [==============================] - 1s 2ms/step - loss: 103.9396 - val_loss: 105.4217\n",
      "Epoch 11/1000\n",
      "550/550 [==============================] - 1s 2ms/step - loss: 103.9132 - val_loss: 104.7535\n",
      "Epoch 12/1000\n",
      "550/550 [==============================] - 1s 1ms/step - loss: 103.9503 - val_loss: 104.9733\n",
      "Epoch 13/1000\n",
      "550/550 [==============================] - 1s 1ms/step - loss: 103.8375 - val_loss: 105.7125\n",
      "Epoch 14/1000\n",
      "550/550 [==============================] - 1s 1ms/step - loss: 103.8903 - val_loss: 105.2920\n",
      "Epoch 15/1000\n",
      "550/550 [==============================] - 1s 1ms/step - loss: 103.8479 - val_loss: 105.0724\n",
      "Epoch 16/1000\n",
      "550/550 [==============================] - 1s 1ms/step - loss: 103.9176 - val_loss: 104.9080\n",
      "Epoch 17/1000\n",
      "550/550 [==============================] - 1s 1ms/step - loss: 103.7956 - val_loss: 104.7535\n",
      "Epoch 18/1000\n",
      "550/550 [==============================] - 1s 2ms/step - loss: 103.7265 - val_loss: 104.6640\n",
      "Epoch 19/1000\n",
      "550/550 [==============================] - 1s 1ms/step - loss: 103.7916 - val_loss: 104.6070\n",
      "Epoch 20/1000\n",
      "550/550 [==============================] - 1s 2ms/step - loss: 103.6691 - val_loss: 104.8028\n",
      "Epoch 21/1000\n",
      "550/550 [==============================] - 1s 2ms/step - loss: 103.6972 - val_loss: 104.7269\n",
      "Epoch 22/1000\n",
      "550/550 [==============================] - 1s 2ms/step - loss: 103.6037 - val_loss: 104.8119\n",
      "Epoch 23/1000\n",
      "550/550 [==============================] - 1s 2ms/step - loss: 103.6935 - val_loss: 104.9854\n",
      "Epoch 24/1000\n",
      "550/550 [==============================] - 1s 2ms/step - loss: 103.6402 - val_loss: 105.1349\n",
      "Epoch 25/1000\n",
      "550/550 [==============================] - 1s 1ms/step - loss: 103.6400 - val_loss: 104.4959\n",
      "Epoch 26/1000\n",
      "550/550 [==============================] - 1s 1ms/step - loss: 103.7016 - val_loss: 104.5327\n",
      "Epoch 27/1000\n",
      "550/550 [==============================] - 1s 1ms/step - loss: 103.7266 - val_loss: 104.5696\n",
      "Epoch 28/1000\n",
      "550/550 [==============================] - 1s 1ms/step - loss: 103.5992 - val_loss: 104.5336\n",
      "Epoch 29/1000\n",
      "550/550 [==============================] - 1s 1ms/step - loss: 103.6711 - val_loss: 104.8313\n",
      "Epoch 30/1000\n",
      "550/550 [==============================] - 1s 2ms/step - loss: 103.6487 - val_loss: 104.5893\n",
      "Epoch 31/1000\n",
      "550/550 [==============================] - 1s 2ms/step - loss: 103.6157 - val_loss: 104.6185\n",
      "Epoch 32/1000\n",
      "550/550 [==============================] - 1s 1ms/step - loss: 103.5864 - val_loss: 104.7648\n",
      "Epoch 33/1000\n",
      "550/550 [==============================] - 1s 1ms/step - loss: 103.5846 - val_loss: 104.7448\n",
      "Epoch 34/1000\n",
      "550/550 [==============================] - 1s 2ms/step - loss: 103.6384 - val_loss: 104.5394\n",
      "Epoch 35/1000\n",
      "550/550 [==============================] - 1s 1ms/step - loss: 103.5701 - val_loss: 105.0567\n",
      "training time: 30.0 seconds\n"
     ]
    }
   ],
   "source": [
    "# Set seeed\n",
    "mavenn.set_seed(0)\n",
    "\n",
    "# Define model\n",
    "model = mavenn.Model(x=data_df['x'],\n",
    "                     y=data_df['y'],\n",
    "                     alphabet='dna',\n",
    "                     gpmap_type='additive',\n",
    "                     regression_type='MPA')\n",
    "\n",
    "# Fit model to data\n",
    "history = model.fit(learning_rate=.005,\n",
    "                    epochs=1000,\n",
    "                    early_stopping=True,\n",
    "                    early_stopping_patience=10)"
   ]
  },
  {
   "cell_type": "code",
   "execution_count": 4,
   "metadata": {},
   "outputs": [
    {
     "name": "stdout",
     "output_type": "stream",
     "text": [
      "Model saved to these files:\n",
      "\tsortseq_mpa_additive.pickle\n",
      "\tsortseq_mpa_additive.h5\n"
     ]
    }
   ],
   "source": [
    "model.save('sortseq_mpa_additive')"
   ]
  },
  {
   "cell_type": "code",
   "execution_count": 5,
   "metadata": {},
   "outputs": [
    {
     "name": "stdout",
     "output_type": "stream",
     "text": [
      "Model loaded from these files:\n",
      "\tsortseq_mpa_additive.pickle\n",
      "\tsortseq_mpa_additive.h5\n"
     ]
    }
   ],
   "source": [
    "# Load model\n",
    "model = mavenn.load('sortseq_mpa_additive')"
   ]
  },
  {
   "cell_type": "code",
   "execution_count": 6,
   "metadata": {},
   "outputs": [
    {
     "data": {
      "image/png": "[encoded data removed]",
      "text/plain": [
       "<Figure size 864x288 with 3 Axes>"
      ]
     },
     "metadata": {
      "needs_background": "light"
     },
     "output_type": "display_data"
    }
   ],
   "source": [
    "# Get G-P map parameters in matrix form\n",
    "theta_df = model.get_gpmap_parameters(which=\"additive\")\n",
    "\n",
    "# Change theta_df to a matrix format compatible with logomaker\n",
    "theta_logomaker_df = mavenn.tidy_df_to_logomaker_df(theta_df)\n",
    "\n",
    "# Create grid in phi space\n",
    "phi_lim = [-5, 3]\n",
    "phi_grid = np.linspace(phi_lim[0], phi_lim[1], 1000)\n",
    "\n",
    "# Create array of allowable y values\n",
    "Y = model.model.Y    # Y = number of bins\n",
    "y_lim = [-.5, Y-.5]\n",
    "y_all = range(Y)\n",
    "\n",
    "# Compute matrix of p(y|phi) values\n",
    "measurement_process = model.p_of_y_given_phi(y_all, phi_grid)\n",
    "\n",
    "# Create figure with two panels\n",
    "fig, axs = plt.subplots(1,2,figsize=[12,4])\n",
    "\n",
    "# Left panel: draw logo using logomaker\n",
    "ax = axs[0]\n",
    "logo = logomaker.Logo(theta_logomaker_df, ax=ax)\n",
    "ax.set_ylabel(r'parameter value ($\\theta_{l:c}$)')\n",
    "ax.set_xlabel(r'position ($l$)')\n",
    "ax.set_title('G-P map parameters')\n",
    "\n",
    "# Right panel: draw measurement process as heatmap\n",
    "ax = axs[1]\n",
    "im = ax.imshow(measurement_process,\n",
    "               cmap='Greens',\n",
    "               extent=phi_lim+y_lim,\n",
    "               vmin=0,\n",
    "               origin='lower',\n",
    "               interpolation='nearest',\n",
    "               aspect=\"auto\")\n",
    "ax.set_yticks(y_all)\n",
    "ax.set_ylabel('bin number (y)')\n",
    "ax.set_xlabel('latent phenotype ($\\phi$)')\n",
    "ax.set_title('measurement process')\n",
    "cb = plt.colorbar(im)\n",
    "cb.set_label('probability  $p(y|\\phi)$', rotation=-90, va=\"bottom\")\n",
    "\n",
    "# Fix up plot\n",
    "fig.tight_layout(w_pad=3)\n",
    "fig.savefig('sortseq_mpa_visualization.png')\n",
    "plt.show()"
   ]
  },
  {
   "cell_type": "code",
   "execution_count": null,
   "metadata": {},
   "outputs": [],
   "source": []
  }
 ],
 "metadata": {
  "kernelspec": {
   "display_name": "Python 3",
   "language": "python",
   "name": "python3"
  },
  "language_info": {
   "codemirror_mode": {
    "name": "ipython",
    "version": 3
   },
   "file_extension": ".py",
   "mimetype": "text/x-python",
   "name": "python",
   "nbconvert_exporter": "python",
   "pygments_lexer": "ipython3",
   "version": "3.7.4"
  }
 },
 "nbformat": 4,
 "nbformat_minor": 2
}
