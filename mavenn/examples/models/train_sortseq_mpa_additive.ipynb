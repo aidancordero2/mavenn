{
 "cells": [
  {
   "cell_type": "code",
   "execution_count": 1,
   "metadata": {},
   "outputs": [
    {
     "name": "stdout",
     "output_type": "stream",
     "text": [
      "['/Users/jkinney/github/mavenn/mavenn']\n"
     ]
    }
   ],
   "source": [
    "# Standard imports\n",
    "import pandas as pd\n",
    "import matplotlib.pyplot as plt\n",
    "import numpy as np\n",
    "import time\n",
    "import logomaker\n",
    "\n",
    "# Insert path to mavenn beginning of path\n",
    "import os\n",
    "import sys\n",
    "abs_path_to_mavenn = os.path.abspath('../../../')\n",
    "sys.path.insert(0, abs_path_to_mavenn)\n",
    "\n",
    "# Load mavenn\n",
    "import mavenn\n",
    "print(mavenn.__path__)"
   ]
  },
  {
   "cell_type": "code",
   "execution_count": 2,
   "metadata": {},
   "outputs": [
    {
     "name": "stdout",
     "output_type": "stream",
     "text": [
      "training N: 34333\n"
     ]
    },
    {
     "data": {
      "text/html": [
       "<div>\n",
       "<style scoped>\n",
       "    .dataframe tbody tr th:only-of-type {\n",
       "        vertical-align: middle;\n",
       "    }\n",
       "\n",
       "    .dataframe tbody tr th {\n",
       "        vertical-align: top;\n",
       "    }\n",
       "\n",
       "    .dataframe thead th {\n",
       "        text-align: right;\n",
       "    }\n",
       "</style>\n",
       "<table border=\"1\" class=\"dataframe\">\n",
       "  <thead>\n",
       "    <tr style=\"text-align: right;\">\n",
       "      <th></th>\n",
       "      <th>x</th>\n",
       "      <th>y</th>\n",
       "    </tr>\n",
       "  </thead>\n",
       "  <tbody>\n",
       "    <tr>\n",
       "      <td>0</td>\n",
       "      <td>CGGTTTACACTTTATGCTTCCCGATCGTATGTTGTGTGG</td>\n",
       "      <td>9</td>\n",
       "    </tr>\n",
       "    <tr>\n",
       "      <td>1</td>\n",
       "      <td>GGCTTTACACTTTATGCTTACGGCTTGTTTGTTGTGTGG</td>\n",
       "      <td>4</td>\n",
       "    </tr>\n",
       "    <tr>\n",
       "      <td>2</td>\n",
       "      <td>GGCTTTTCAATTTTTGCTTCCGGCTCGTATGTCGTGTGG</td>\n",
       "      <td>0</td>\n",
       "    </tr>\n",
       "    <tr>\n",
       "      <td>3</td>\n",
       "      <td>GGCTTAACACTTGATGCGTCCAGCTCGTATGTTTTGTGT</td>\n",
       "      <td>0</td>\n",
       "    </tr>\n",
       "    <tr>\n",
       "      <td>4</td>\n",
       "      <td>GCCTTTACACGTTTTGCTTCCGGCTCGTATGTTGCGTGG</td>\n",
       "      <td>8</td>\n",
       "    </tr>\n",
       "  </tbody>\n",
       "</table>\n",
       "</div>"
      ],
      "text/plain": [
       "                                         x  y\n",
       "0  CGGTTTACACTTTATGCTTCCCGATCGTATGTTGTGTGG  9\n",
       "1  GGCTTTACACTTTATGCTTACGGCTTGTTTGTTGTGTGG  4\n",
       "2  GGCTTTTCAATTTTTGCTTCCGGCTCGTATGTCGTGTGG  0\n",
       "3  GGCTTAACACTTGATGCGTCCAGCTCGTATGTTTTGTGT  0\n",
       "4  GCCTTTACACGTTTTGCTTCCGGCTCGTATGTTGCGTGG  8"
      ]
     },
     "execution_count": 2,
     "metadata": {},
     "output_type": "execute_result"
    }
   ],
   "source": [
    "# Load example data\n",
    "data_df = mavenn.load_example(which='training_data', name='sortseq')\n",
    "print(f'training N: {len(data_df)}')\n",
    "data_df.head()"
   ]
  },
  {
   "cell_type": "code",
   "execution_count": 3,
   "metadata": {},
   "outputs": [
    {
     "name": "stdout",
     "output_type": "stream",
     "text": [
      "Epoch 1/1000\n",
      "550/550 [==============================] - 1s 1ms/step - loss: 109.7827 - val_loss: 109.2666\n",
      "Epoch 2/1000\n",
      "550/550 [==============================] - 1s 1ms/step - loss: 105.7233 - val_loss: 106.1558\n",
      "Epoch 3/1000\n",
      "550/550 [==============================] - 1s 1ms/step - loss: 105.3885 - val_loss: 106.1773\n",
      "Epoch 4/1000\n",
      "550/550 [==============================] - 1s 1ms/step - loss: 105.3406 - val_loss: 105.7038\n",
      "Epoch 5/1000\n",
      "550/550 [==============================] - 1s 1ms/step - loss: 105.0454 - val_loss: 105.8124\n",
      "Epoch 6/1000\n",
      "550/550 [==============================] - 1s 1ms/step - loss: 104.9611 - val_loss: 106.7665\n",
      "Epoch 7/1000\n",
      "550/550 [==============================] - 1s 1ms/step - loss: 105.0682 - val_loss: 105.7174\n",
      "Epoch 8/1000\n",
      "550/550 [==============================] - 1s 1ms/step - loss: 104.8116 - val_loss: 105.9290\n",
      "Epoch 9/1000\n",
      "550/550 [==============================] - 1s 1ms/step - loss: 104.7054 - val_loss: 105.5844\n",
      "Epoch 10/1000\n",
      "550/550 [==============================] - 1s 2ms/step - loss: 104.6690 - val_loss: 106.4982\n",
      "Epoch 11/1000\n",
      "550/550 [==============================] - 1s 2ms/step - loss: 104.6905 - val_loss: 106.1146\n",
      "Epoch 12/1000\n",
      "550/550 [==============================] - 1s 1ms/step - loss: 104.7080 - val_loss: 105.9563\n",
      "Epoch 13/1000\n",
      "550/550 [==============================] - 1s 1ms/step - loss: 104.6221 - val_loss: 106.9403\n",
      "Epoch 14/1000\n",
      "550/550 [==============================] - 1s 1ms/step - loss: 104.6110 - val_loss: 106.1010\n",
      "Epoch 15/1000\n",
      "550/550 [==============================] - 1s 1ms/step - loss: 104.5297 - val_loss: 105.4828\n",
      "Epoch 16/1000\n",
      "550/550 [==============================] - 1s 2ms/step - loss: 104.7352 - val_loss: 105.5750\n",
      "Epoch 17/1000\n",
      "550/550 [==============================] - 1s 1ms/step - loss: 104.5653 - val_loss: 105.7804\n",
      "Epoch 18/1000\n",
      "550/550 [==============================] - 1s 1ms/step - loss: 104.4455 - val_loss: 105.5451\n",
      "Epoch 19/1000\n",
      "550/550 [==============================] - 1s 1ms/step - loss: 104.6217 - val_loss: 105.1001\n",
      "Epoch 20/1000\n",
      "550/550 [==============================] - 1s 1ms/step - loss: 104.3765 - val_loss: 105.2702\n",
      "Epoch 21/1000\n",
      "550/550 [==============================] - 1s 1ms/step - loss: 104.4370 - val_loss: 105.4054\n",
      "Epoch 22/1000\n",
      "550/550 [==============================] - 1s 2ms/step - loss: 104.3446 - val_loss: 105.3080\n",
      "Epoch 23/1000\n",
      "550/550 [==============================] - 1s 2ms/step - loss: 104.4240 - val_loss: 105.2523\n",
      "Epoch 24/1000\n",
      "550/550 [==============================] - 1s 1ms/step - loss: 104.4905 - val_loss: 105.8609\n",
      "Epoch 25/1000\n",
      "550/550 [==============================] - 1s 1ms/step - loss: 104.3685 - val_loss: 106.8272\n",
      "Epoch 26/1000\n",
      "550/550 [==============================] - 1s 1ms/step - loss: 104.5355 - val_loss: 105.6067\n",
      "Epoch 27/1000\n",
      "550/550 [==============================] - 1s 1ms/step - loss: 104.4353 - val_loss: 105.4150\n",
      "Epoch 28/1000\n",
      "550/550 [==============================] - 1s 1ms/step - loss: 104.3408 - val_loss: 105.2832\n",
      "Epoch 29/1000\n",
      "550/550 [==============================] - 1s 1ms/step - loss: 104.5432 - val_loss: 105.4335\n",
      "training time: 22.6 seconds\n"
     ]
    }
   ],
   "source": [
    "# Set seeed\n",
    "mavenn.set_seed(0)\n",
    "\n",
    "# Define model\n",
    "model = mavenn.Model(x=data_df['x'],\n",
    "                     y=data_df['y'],\n",
    "                     alphabet='dna',\n",
    "                     gpmap_type='additive',\n",
    "                     regression_type='MPA')\n",
    "\n",
    "# Fit model to data\n",
    "history = model.fit(learning_rate=.005,\n",
    "                    epochs=1000,\n",
    "                    early_stopping=True,\n",
    "                    early_stopping_patience=10)"
   ]
  },
  {
   "cell_type": "code",
   "execution_count": 4,
   "metadata": {},
   "outputs": [
    {
     "name": "stdout",
     "output_type": "stream",
     "text": [
      "Model saved to these files:\n",
      "\tsortseq_mpa_additive.pickle\n",
      "\tsortseq_mpa_additive.h5\n"
     ]
    }
   ],
   "source": [
    "model.save('sortseq_mpa_additive')"
   ]
  },
  {
   "cell_type": "code",
   "execution_count": 5,
   "metadata": {},
   "outputs": [
    {
     "name": "stdout",
     "output_type": "stream",
     "text": [
      "Model loaded from these files:\n",
      "\tsortseq_mpa_additive.pickle\n",
      "\tsortseq_mpa_additive.h5\n"
     ]
    }
   ],
   "source": [
    "# Load model\n",
    "model = mavenn.load('sortseq_mpa_additive')"
   ]
  },
  {
   "cell_type": "code",
   "execution_count": 6,
   "metadata": {},
   "outputs": [
    {
     "data": {
      "image/png": "[encoded data removed]",
      "text/plain": [
       "<Figure size 864x288 with 3 Axes>"
      ]
     },
     "metadata": {
      "needs_background": "light"
     },
     "output_type": "display_data"
    }
   ],
   "source": [
    "# Get G-P map parameters in matrix form\n",
    "theta_df = model.get_gpmap_parameters(which=\"additive\")\n",
    "\n",
    "# Change theta_df to a matrix format compatible with logomaker\n",
    "theta_logomaker_df = mavenn.tidy_df_to_logomaker_df(theta_df)\n",
    "\n",
    "# Create grid in phi space\n",
    "phi_lim = [-5, 3]\n",
    "phi_grid = np.linspace(phi_lim[0], phi_lim[1], 1000)\n",
    "\n",
    "# Create array of allowable y values\n",
    "Y = model.model.Y    # Y = number of bins\n",
    "y_lim = [-.5, Y-.5]\n",
    "y_all = range(Y)\n",
    "\n",
    "# Compute matrix of p(y|phi) values\n",
    "measurement_process = model.p_of_y_given_phi(y_all, phi_grid)\n",
    "\n",
    "# Create figure with two panels\n",
    "fig, axs = plt.subplots(1,2,figsize=[12,4])\n",
    "\n",
    "# Left panel: draw logo using logomaker\n",
    "ax = axs[0]\n",
    "logo = logomaker.Logo(theta_logomaker_df, ax=ax)\n",
    "ax.set_ylabel(r'parameter value ($\\theta_{l:c}$)')\n",
    "ax.set_xlabel(r'position ($l$)')\n",
    "ax.set_title('G-P map parameters')\n",
    "\n",
    "# Right panel: draw measurement process as heatmap\n",
    "ax = axs[1]\n",
    "im = ax.imshow(measurement_process,\n",
    "               cmap='Greens',\n",
    "               extent=phi_lim+y_lim,\n",
    "               vmin=0,\n",
    "               origin='lower',\n",
    "               interpolation='nearest',\n",
    "               aspect=\"auto\")\n",
    "ax.set_yticks(y_all)\n",
    "ax.set_ylabel('bin number (y)')\n",
    "ax.set_xlabel('latent phenotype ($\\phi$)')\n",
    "ax.set_title('measurement process')\n",
    "cb = plt.colorbar(im)\n",
    "cb.set_label('probability  $p(y|\\phi)$', rotation=-90, va=\"bottom\")\n",
    "\n",
    "# Fix up plot\n",
    "fig.tight_layout(w_pad=3)\n",
    "fig.savefig('sortseq_mpa_visualization.png')\n",
    "plt.show()"
   ]
  },
  {
   "cell_type": "code",
   "execution_count": null,
   "metadata": {},
   "outputs": [],
   "source": []
  }
 ],
 "metadata": {
  "kernelspec": {
   "display_name": "Python 3",
   "language": "python",
   "name": "python3"
  },
  "language_info": {
   "codemirror_mode": {
    "name": "ipython",
    "version": 3
   },
   "file_extension": ".py",
   "mimetype": "text/x-python",
   "name": "python",
   "nbconvert_exporter": "python",
   "pygments_lexer": "ipython3",
   "version": "3.7.4"
  }
 },
 "nbformat": 4,
 "nbformat_minor": 2
}
