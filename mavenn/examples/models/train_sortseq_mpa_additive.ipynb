{
 "cells": [
  {
   "cell_type": "code",
   "execution_count": 1,
   "metadata": {},
   "outputs": [
    {
     "name": "stdout",
     "output_type": "stream",
     "text": [
      "['/Users/jkinney/github/mavenn/mavenn']\n"
     ]
    }
   ],
   "source": [
    "# Standard imports\n",
    "import pandas as pd\n",
    "import matplotlib.pyplot as plt\n",
    "import numpy as np\n",
    "import time\n",
    "import logomaker\n",
    "\n",
    "# Insert path to mavenn beginning of path\n",
    "import os\n",
    "import sys\n",
    "abs_path_to_mavenn = os.path.abspath('../../../')\n",
    "sys.path.insert(0, abs_path_to_mavenn)\n",
    "\n",
    "# Load mavenn\n",
    "import mavenn\n",
    "print(mavenn.__path__)"
   ]
  },
  {
   "cell_type": "code",
   "execution_count": 2,
   "metadata": {},
   "outputs": [
    {
     "name": "stdout",
     "output_type": "stream",
     "text": [
      "training N: 457780\n"
     ]
    },
    {
     "data": {
      "text/html": [
       "<div>\n",
       "<style scoped>\n",
       "    .dataframe tbody tr th:only-of-type {\n",
       "        vertical-align: middle;\n",
       "    }\n",
       "\n",
       "    .dataframe tbody tr th {\n",
       "        vertical-align: top;\n",
       "    }\n",
       "\n",
       "    .dataframe thead th {\n",
       "        text-align: right;\n",
       "    }\n",
       "</style>\n",
       "<table border=\"1\" class=\"dataframe\">\n",
       "  <thead>\n",
       "    <tr style=\"text-align: right;\">\n",
       "      <th></th>\n",
       "      <th>training_set</th>\n",
       "      <th>ct</th>\n",
       "      <th>y</th>\n",
       "      <th>x</th>\n",
       "    </tr>\n",
       "  </thead>\n",
       "  <tbody>\n",
       "    <tr>\n",
       "      <th>0</th>\n",
       "      <td>False</td>\n",
       "      <td>0</td>\n",
       "      <td>0</td>\n",
       "      <td>AAATACACACTTGCTGCTTCCGGCTCGTATGTTGTGTGG</td>\n",
       "    </tr>\n",
       "    <tr>\n",
       "      <th>1</th>\n",
       "      <td>False</td>\n",
       "      <td>0</td>\n",
       "      <td>0</td>\n",
       "      <td>AAATTTACACTGTATGCTTCCGGCTCGCATGGCGTTTGC</td>\n",
       "    </tr>\n",
       "    <tr>\n",
       "      <th>2</th>\n",
       "      <td>True</td>\n",
       "      <td>1</td>\n",
       "      <td>0</td>\n",
       "      <td>AAATTTACACTTTATGCATCAGACTCGTATGTTGTGTGG</td>\n",
       "    </tr>\n",
       "    <tr>\n",
       "      <th>3</th>\n",
       "      <td>False</td>\n",
       "      <td>0</td>\n",
       "      <td>0</td>\n",
       "      <td>AAATTTACACTTTATGCTTCTGGCGCGTATGCGGCGTGG</td>\n",
       "    </tr>\n",
       "    <tr>\n",
       "      <th>4</th>\n",
       "      <td>True</td>\n",
       "      <td>0</td>\n",
       "      <td>0</td>\n",
       "      <td>AACATTACATTTTATGCTTCCGGCTCGTATGGTGTGTGG</td>\n",
       "    </tr>\n",
       "  </tbody>\n",
       "</table>\n",
       "</div>"
      ],
      "text/plain": [
       "   training_set  ct  y                                        x\n",
       "0         False   0  0  AAATACACACTTGCTGCTTCCGGCTCGTATGTTGTGTGG\n",
       "1         False   0  0  AAATTTACACTGTATGCTTCCGGCTCGCATGGCGTTTGC\n",
       "2          True   1  0  AAATTTACACTTTATGCATCAGACTCGTATGTTGTGTGG\n",
       "3         False   0  0  AAATTTACACTTTATGCTTCTGGCGCGTATGCGGCGTGG\n",
       "4          True   0  0  AACATTACATTTTATGCTTCCGGCTCGTATGGTGTGTGG"
      ]
     },
     "execution_count": 2,
     "metadata": {},
     "output_type": "execute_result"
    }
   ],
   "source": [
    "# Load example data\n",
    "data_df = mavenn.load_example_dataset('sortseq')\n",
    "print(f'training N: {len(data_df)}')\n",
    "data_df.head()"
   ]
  },
  {
   "cell_type": "code",
   "execution_count": 3,
   "metadata": {},
   "outputs": [
    {
     "name": "stdout",
     "output_type": "stream",
     "text": [
      "L=39, Y=10\n",
      "N training: 36,577\n",
      "N test: 9,201\n"
     ]
    }
   ],
   "source": [
    "# Comptue sequence length and number of bins\n",
    "L = len(data_df['x'][0])\n",
    "Y = len(set(data_df['y']))\n",
    "print(f'L={L}, Y={Y}')\n",
    "\n",
    "# Split into training and test data\n",
    "ix = data_df['training_set']\n",
    "training_df = data_df[ix].copy()\n",
    "training_df.reset_index(inplace=True)\n",
    "test_df = data_df[~ix].copy()\n",
    "test_df.reset_index(inplace=True)\n",
    "print(f'N training: {len(training_df)/Y:,.0f}')\n",
    "print(f'N test: {len(test_df)/Y:,.0f}')"
   ]
  },
  {
   "cell_type": "code",
   "execution_count": 4,
   "metadata": {},
   "outputs": [
    {
     "name": "stdout",
     "output_type": "stream",
     "text": [
      "N = 36,577 observations set as training data.\n",
      "Data shuffled.\n",
      "Time to set data: 1.54 sec.\n"
     ]
    }
   ],
   "source": [
    "# Set seeed\n",
    "mavenn.set_seed(0)\n",
    "\n",
    "# Define model\n",
    "model = mavenn.Model(regression_type='MPA',\n",
    "                     L=L,\n",
    "                     Y=Y,\n",
    "                     alphabet='dna',\n",
    "                     gpmap_type='additive')\n",
    "\n",
    "# Where is ct_n?\n",
    "model.set_data(x=training_df['x'],\n",
    "               y=training_df['y'],\n",
    "               ct_n=training_df['ct'])"
   ]
  },
  {
   "cell_type": "code",
   "execution_count": 5,
   "metadata": {},
   "outputs": [
    {
     "name": "stdout",
     "output_type": "stream",
     "text": [
      " \n",
      "LSMR            Least-squares solution of  Ax = b\n",
      "\n",
      "The matrix A has    36577 rows  and      156 cols\n",
      "damp = 0.00000000000000e+00\n",
      "\n",
      "atol = 1.00e-06                 conlim = 1.00e+08\n",
      "\n",
      "btol = 1.00e-06             maxiter =      156\n",
      "\n",
      " \n",
      "   itn      x(1)       norm r    norm Ar  compatible   LS      norm A   cond A\n",
      "     0  0.00000e+00  1.003e+03  8.873e+05   1.0e+00  8.8e-01\n",
      "     1  5.94638e-03  5.458e+02  1.683e+04   5.4e-01  2.9e-02  1.1e+03  1.0e+00\n",
      "     2  4.28821e-02  4.925e+02  4.231e+03   4.9e-01  8.1e-03  1.1e+03  1.5e+01\n",
      "     3  9.74176e-03  4.849e+02  2.161e+03   4.8e-01  4.2e-03  1.1e+03  2.2e+01\n",
      "     4 -3.13609e-02  4.823e+02  7.453e+02   4.8e-01  1.5e-03  1.1e+03  2.2e+01\n",
      "     5 -3.09164e-02  4.822e+02  6.462e+02   4.8e-01  1.3e-03  1.1e+03  2.1e+01\n",
      "     6 -2.99132e-02  4.821e+02  3.522e+02   4.8e-01  5.0e-04  1.5e+03  2.1e+01\n",
      "     7 -2.74011e-02  4.820e+02  1.186e+02   4.8e-01  1.6e-04  1.5e+03  2.5e+01\n",
      "     8 -2.77345e-02  4.820e+02  5.154e+01   4.8e-01  7.1e-05  1.5e+03  2.3e+01\n",
      "     9 -2.78098e-02  4.820e+02  1.964e+01   4.8e-01  2.7e-05  1.5e+03  2.5e+01\n",
      "    10 -2.77558e-02  4.820e+02  8.103e+00   4.8e-01  1.1e-05  1.5e+03  2.3e+01\n",
      "    14 -2.76239e-02  4.820e+02  5.950e-01   4.8e-01  6.7e-07  1.8e+03  2.3e+01\n",
      " \n",
      "LSMR finished\n",
      "The least-squares solution is good enough, given atol     \n",
      "istop =       2    normr = 4.8e+02\n",
      "    normA = 1.8e+03    normAr = 5.9e-01\n",
      "itn   =      14    condA = 2.3e+01\n",
      "    normx = 4.7e+00\n",
      "    14 -2.76239e-02   4.820e+02  5.950e-01\n",
      "   4.8e-01  6.7e-07   1.8e+03  2.3e+01\n",
      "Linear regression time: 0.2340 sec\n",
      "Epoch 1/1000\n",
      "586/586 [==============================] - 1s 1ms/step - loss: 144.9350 - val_loss: 142.9997\n",
      "Epoch 2/1000\n",
      "586/586 [==============================] - 1s 1ms/step - loss: 141.9724 - val_loss: 141.4639\n",
      "Epoch 3/1000\n",
      "586/586 [==============================] - 1s 1ms/step - loss: 141.2157 - val_loss: 141.4324\n",
      "Epoch 4/1000\n",
      "586/586 [==============================] - 1s 1ms/step - loss: 140.9146 - val_loss: 140.9094\n",
      "Epoch 5/1000\n",
      "586/586 [==============================] - 1s 1ms/step - loss: 140.5591 - val_loss: 141.1390\n",
      "Epoch 6/1000\n",
      "586/586 [==============================] - 1s 1ms/step - loss: 140.5102 - val_loss: 140.8731\n",
      "Epoch 7/1000\n",
      "586/586 [==============================] - 1s 1ms/step - loss: 140.3507 - val_loss: 140.2430\n",
      "Epoch 8/1000\n",
      "586/586 [==============================] - 1s 1ms/step - loss: 140.1836 - val_loss: 141.1219\n",
      "Epoch 9/1000\n",
      "586/586 [==============================] - 1s 1ms/step - loss: 140.0748 - val_loss: 140.2002\n",
      "Epoch 10/1000\n",
      "586/586 [==============================] - 1s 1ms/step - loss: 140.0772 - val_loss: 140.8429\n",
      "Epoch 11/1000\n",
      "586/586 [==============================] - 1s 1ms/step - loss: 139.9181 - val_loss: 140.5924\n",
      "Epoch 12/1000\n",
      "586/586 [==============================] - 1s 1ms/step - loss: 139.8980 - val_loss: 139.9822\n",
      "Epoch 13/1000\n",
      "586/586 [==============================] - 1s 1ms/step - loss: 139.9296 - val_loss: 140.0965\n",
      "Epoch 14/1000\n",
      "586/586 [==============================] - 1s 1ms/step - loss: 140.0418 - val_loss: 141.3767\n",
      "Epoch 15/1000\n",
      "586/586 [==============================] - 1s 1ms/step - loss: 139.7390 - val_loss: 139.8620\n",
      "Epoch 16/1000\n",
      "586/586 [==============================] - 1s 1ms/step - loss: 139.9286 - val_loss: 141.9326\n",
      "Epoch 17/1000\n",
      "586/586 [==============================] - 1s 1ms/step - loss: 139.7075 - val_loss: 140.1047\n",
      "Epoch 18/1000\n",
      "586/586 [==============================] - 1s 1ms/step - loss: 139.6839 - val_loss: 139.6888\n",
      "Epoch 19/1000\n",
      "586/586 [==============================] - 1s 1ms/step - loss: 139.7328 - val_loss: 139.9433\n",
      "Epoch 20/1000\n",
      "586/586 [==============================] - 1s 1ms/step - loss: 139.5035 - val_loss: 140.4774\n",
      "Epoch 21/1000\n",
      "586/586 [==============================] - 1s 1ms/step - loss: 139.5149 - val_loss: 139.7388\n",
      "Epoch 22/1000\n",
      "586/586 [==============================] - 1s 1ms/step - loss: 139.5146 - val_loss: 140.4400\n",
      "Epoch 23/1000\n",
      "586/586 [==============================] - 1s 1ms/step - loss: 139.4687 - val_loss: 140.3352\n",
      "Epoch 24/1000\n",
      "586/586 [==============================] - 1s 1ms/step - loss: 139.6780 - val_loss: 140.4725\n",
      "Epoch 25/1000\n",
      "586/586 [==============================] - 1s 1ms/step - loss: 139.5249 - val_loss: 139.9553\n",
      "Epoch 26/1000\n",
      "586/586 [==============================] - 1s 1ms/step - loss: 139.4351 - val_loss: 139.9673\n",
      "Epoch 27/1000\n",
      "586/586 [==============================] - 1s 1ms/step - loss: 139.7660 - val_loss: 139.8191\n",
      "Epoch 28/1000\n",
      "586/586 [==============================] - 1s 1ms/step - loss: 139.5754 - val_loss: 141.5336\n",
      "Training time: 20.9 seconds\n"
     ]
    }
   ],
   "source": [
    "# Fit model to data\n",
    "history = model.fit(learning_rate=.005,\n",
    "                    epochs=1000,\n",
    "                    early_stopping=True,\n",
    "                    early_stopping_patience=10)"
   ]
  },
  {
   "cell_type": "code",
   "execution_count": 6,
   "metadata": {},
   "outputs": [
    {
     "name": "stdout",
     "output_type": "stream",
     "text": [
      "Model saved to these files:\n",
      "\tsortseq_mpa_additive.pickle\n",
      "\tsortseq_mpa_additive.h5\n"
     ]
    }
   ],
   "source": [
    "# Save model\n",
    "model.save('sortseq_mpa_additive')"
   ]
  },
  {
   "cell_type": "code",
   "execution_count": 7,
   "metadata": {},
   "outputs": [
    {
     "name": "stdout",
     "output_type": "stream",
     "text": [
      "Model loaded from these files:\n",
      "\tsortseq_mpa_additive.pickle\n",
      "\tsortseq_mpa_additive.h5\n"
     ]
    }
   ],
   "source": [
    "# Load model\n",
    "model = mavenn.load('sortseq_mpa_additive')"
   ]
  },
  {
   "cell_type": "code",
   "execution_count": 8,
   "metadata": {},
   "outputs": [
    {
     "data": {
      "image/png": "[encoded data removed]",
      "text/plain": [
       "<Figure size 864x288 with 3 Axes>"
      ]
     },
     "metadata": {
      "needs_background": "light"
     },
     "output_type": "display_data"
    }
   ],
   "source": [
    "# Get G-P map parameters\n",
    "theta_dict = model.get_theta(gauge='uniform')\n",
    "\n",
    "# Get additive parameters suitable for logomaker\n",
    "theta_logomaker_df = theta_dict['logomaker_df']\n",
    "\n",
    "# Create grid in phi space\n",
    "phi_lim = [-5, 3]\n",
    "phi_grid = np.linspace(phi_lim[0], phi_lim[1], 1000)\n",
    "\n",
    "# Create array of allowable y values\n",
    "Y = model.model.Y    # Y = number of bins\n",
    "y_lim = [-.5, Y-.5]\n",
    "y_all = range(Y)\n",
    "\n",
    "# Compute matrix of p(y|phi) values\n",
    "measurement_process = model.p_of_y_given_phi(y_all, phi_grid)\n",
    "\n",
    "# Create figure with two panels\n",
    "fig, axs = plt.subplots(1,2,figsize=[12,4])\n",
    "\n",
    "# Left panel: draw logo using logomaker\n",
    "ax = axs[0]\n",
    "logo = logomaker.Logo(theta_logomaker_df, ax=ax)\n",
    "ax.set_ylabel(r'parameter value ($\\theta_{l:c}$)')\n",
    "ax.set_xlabel(r'position ($l$)')\n",
    "ax.set_title('G-P map parameters')\n",
    "\n",
    "# Right panel: draw measurement process as heatmap\n",
    "ax = axs[1]\n",
    "im = ax.imshow(measurement_process,\n",
    "               cmap='Greens',\n",
    "               extent=phi_lim+y_lim,\n",
    "               vmin=0,\n",
    "               origin='lower',\n",
    "               interpolation='nearest',\n",
    "               aspect=\"auto\")\n",
    "ax.set_yticks(y_all)\n",
    "ax.set_ylabel('bin number (y)')\n",
    "ax.set_xlabel('latent phenotype ($\\phi$)')\n",
    "ax.set_title('measurement process')\n",
    "cb = plt.colorbar(im)\n",
    "cb.set_label('probability  $p(y|\\phi)$', rotation=-90, va=\"bottom\")\n",
    "\n",
    "# Fix up plot\n",
    "fig.tight_layout(w_pad=3)\n",
    "fig.savefig('sortseq_mpa_visualization.png')\n",
    "plt.show()"
   ]
  },
  {
   "cell_type": "code",
   "execution_count": null,
   "metadata": {},
   "outputs": [],
   "source": []
  }
 ],
 "metadata": {
  "kernelspec": {
   "display_name": "Python 3",
   "language": "python",
   "name": "python3"
  },
  "language_info": {
   "codemirror_mode": {
    "name": "ipython",
    "version": 3
   },
   "file_extension": ".py",
   "mimetype": "text/x-python",
   "name": "python",
   "nbconvert_exporter": "python",
   "pygments_lexer": "ipython3",
   "version": "3.7.4"
  }
 },
 "nbformat": 4,
 "nbformat_minor": 2
}
