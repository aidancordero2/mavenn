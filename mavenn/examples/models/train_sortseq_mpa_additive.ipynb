{
 "cells": [
  {
   "cell_type": "code",
   "execution_count": 1,
   "metadata": {},
   "outputs": [
    {
     "name": "stdout",
     "output_type": "stream",
     "text": [
      "['/Users/tareen/Desktop/Research_Projects/2020_mavenn_github/mavenn/mavenn']\n"
     ]
    }
   ],
   "source": [
    "# Standard imports\n",
    "import pandas as pd\n",
    "import matplotlib.pyplot as plt\n",
    "import numpy as np\n",
    "import time\n",
    "import logomaker\n",
    "\n",
    "# Insert path to mavenn beginning of path\n",
    "import os\n",
    "import sys\n",
    "abs_path_to_mavenn = os.path.abspath('../../../')\n",
    "sys.path.insert(0, abs_path_to_mavenn)\n",
    "\n",
    "# Load mavenn\n",
    "import mavenn\n",
    "print(mavenn.__path__)"
   ]
  },
  {
   "cell_type": "code",
   "execution_count": 2,
   "metadata": {},
   "outputs": [
    {
     "name": "stdout",
     "output_type": "stream",
     "text": [
      "training N: 45778\n"
     ]
    },
    {
     "data": {
      "text/html": [
       "<div>\n",
       "<style scoped>\n",
       "    .dataframe tbody tr th:only-of-type {\n",
       "        vertical-align: middle;\n",
       "    }\n",
       "\n",
       "    .dataframe tbody tr th {\n",
       "        vertical-align: top;\n",
       "    }\n",
       "\n",
       "    .dataframe thead th {\n",
       "        text-align: right;\n",
       "    }\n",
       "</style>\n",
       "<table border=\"1\" class=\"dataframe\">\n",
       "  <thead>\n",
       "    <tr style=\"text-align: right;\">\n",
       "      <th></th>\n",
       "      <th>x</th>\n",
       "      <th>training_set</th>\n",
       "      <th>ct_0</th>\n",
       "      <th>ct_1</th>\n",
       "      <th>ct_2</th>\n",
       "      <th>ct_3</th>\n",
       "      <th>ct_4</th>\n",
       "      <th>ct_5</th>\n",
       "      <th>ct_6</th>\n",
       "      <th>ct_7</th>\n",
       "      <th>ct_8</th>\n",
       "      <th>ct_9</th>\n",
       "    </tr>\n",
       "  </thead>\n",
       "  <tbody>\n",
       "    <tr>\n",
       "      <th>0</th>\n",
       "      <td>AAATACACACTTGCTGCTTCCGGCTCGTATGTTGTGTGG</td>\n",
       "      <td>True</td>\n",
       "      <td>0</td>\n",
       "      <td>0</td>\n",
       "      <td>0</td>\n",
       "      <td>1</td>\n",
       "      <td>0</td>\n",
       "      <td>0</td>\n",
       "      <td>0</td>\n",
       "      <td>0</td>\n",
       "      <td>0</td>\n",
       "      <td>0</td>\n",
       "    </tr>\n",
       "    <tr>\n",
       "      <th>1</th>\n",
       "      <td>AAATTTACACTGTATGCTTCCGGCTCGCATGGCGTTTGC</td>\n",
       "      <td>False</td>\n",
       "      <td>0</td>\n",
       "      <td>0</td>\n",
       "      <td>1</td>\n",
       "      <td>0</td>\n",
       "      <td>0</td>\n",
       "      <td>0</td>\n",
       "      <td>0</td>\n",
       "      <td>0</td>\n",
       "      <td>0</td>\n",
       "      <td>0</td>\n",
       "    </tr>\n",
       "    <tr>\n",
       "      <th>2</th>\n",
       "      <td>AAATTTACACTTTATGCATCAGACTCGTATGTTGTGTGG</td>\n",
       "      <td>True</td>\n",
       "      <td>1</td>\n",
       "      <td>0</td>\n",
       "      <td>0</td>\n",
       "      <td>0</td>\n",
       "      <td>0</td>\n",
       "      <td>0</td>\n",
       "      <td>0</td>\n",
       "      <td>0</td>\n",
       "      <td>0</td>\n",
       "      <td>0</td>\n",
       "    </tr>\n",
       "    <tr>\n",
       "      <th>3</th>\n",
       "      <td>AAATTTACACTTTATGCTTCTGGCGCGTATGCGGCGTGG</td>\n",
       "      <td>False</td>\n",
       "      <td>0</td>\n",
       "      <td>0</td>\n",
       "      <td>0</td>\n",
       "      <td>1</td>\n",
       "      <td>0</td>\n",
       "      <td>0</td>\n",
       "      <td>0</td>\n",
       "      <td>0</td>\n",
       "      <td>0</td>\n",
       "      <td>0</td>\n",
       "    </tr>\n",
       "    <tr>\n",
       "      <th>4</th>\n",
       "      <td>AACATTACATTTTATGCTTCCGGCTCGTATGGTGTGTGG</td>\n",
       "      <td>False</td>\n",
       "      <td>0</td>\n",
       "      <td>1</td>\n",
       "      <td>0</td>\n",
       "      <td>0</td>\n",
       "      <td>0</td>\n",
       "      <td>0</td>\n",
       "      <td>0</td>\n",
       "      <td>0</td>\n",
       "      <td>0</td>\n",
       "      <td>0</td>\n",
       "    </tr>\n",
       "  </tbody>\n",
       "</table>\n",
       "</div>"
      ],
      "text/plain": [
       "                                         x  training_set  ct_0  ct_1  ct_2  \\\n",
       "0  AAATACACACTTGCTGCTTCCGGCTCGTATGTTGTGTGG          True     0     0     0   \n",
       "1  AAATTTACACTGTATGCTTCCGGCTCGCATGGCGTTTGC         False     0     0     1   \n",
       "2  AAATTTACACTTTATGCATCAGACTCGTATGTTGTGTGG          True     1     0     0   \n",
       "3  AAATTTACACTTTATGCTTCTGGCGCGTATGCGGCGTGG         False     0     0     0   \n",
       "4  AACATTACATTTTATGCTTCCGGCTCGTATGGTGTGTGG         False     0     1     0   \n",
       "\n",
       "   ct_3  ct_4  ct_5  ct_6  ct_7  ct_8  ct_9  \n",
       "0     1     0     0     0     0     0     0  \n",
       "1     0     0     0     0     0     0     0  \n",
       "2     0     0     0     0     0     0     0  \n",
       "3     1     0     0     0     0     0     0  \n",
       "4     0     0     0     0     0     0     0  "
      ]
     },
     "execution_count": 2,
     "metadata": {},
     "output_type": "execute_result"
    }
   ],
   "source": [
    "# Load example data\n",
    "data_df = mavenn.load_example_dataset('sortseq')\n",
    "print(f'training N: {len(data_df)}')\n",
    "data_df.head()"
   ]
  },
  {
   "cell_type": "code",
   "execution_count": 3,
   "metadata": {},
   "outputs": [
    {
     "name": "stdout",
     "output_type": "stream",
     "text": [
      "L=39, Y=10\n",
      "N training: 36517\n",
      "N test: 9261\n"
     ]
    }
   ],
   "source": [
    "# Comptue sequence length and number of bins\n",
    "L = len(data_df['x'][0])\n",
    "Y = len(data_df.filter(regex='ct_*').columns)\n",
    "print(f'L={L}, Y={Y}')\n",
    "\n",
    "# Split into training and test data\n",
    "ix = data_df['training_set']\n",
    "training_df = data_df[ix].copy()\n",
    "training_df.reset_index(inplace=True)\n",
    "test_df = data_df[~ix].copy()\n",
    "test_df.reset_index(inplace=True)\n",
    "print(f'N training: {len(training_df)}')\n",
    "print(f'N test: {len(test_df)}')"
   ]
  },
  {
   "cell_type": "code",
   "execution_count": 4,
   "metadata": {
    "collapsed": true
   },
   "outputs": [],
   "source": [
    "x = training_df['x'].values\n",
    "y = training_df.filter(regex='ct_*').values"
   ]
  },
  {
   "cell_type": "code",
   "execution_count": 5,
   "metadata": {},
   "outputs": [
    {
     "name": "stdout",
     "output_type": "stream",
     "text": [
      "N = 36,517 observations set as training data.\n",
      "Data shuffled.\n",
      "Time to set data: 0.368 sec.\n"
     ]
    }
   ],
   "source": [
    "# Set seeed\n",
    "mavenn.set_seed(0)\n",
    "\n",
    "# Define model\n",
    "model = mavenn.Model(regression_type='MPA',\n",
    "                     L=L,\n",
    "                     Y=Y,\n",
    "                     alphabet='dna',\n",
    "                     gpmap_type='additive')\n",
    "\n",
    "# set data\n",
    "model.set_data(x=x,\n",
    "               y=y)"
   ]
  },
  {
   "cell_type": "code",
   "execution_count": 6,
   "metadata": {},
   "outputs": [
    {
     "name": "stdout",
     "output_type": "stream",
     "text": [
      " \n",
      "LSMR            Least-squares solution of  Ax = b\n",
      "\n",
      "The matrix A has    36517 rows  and      156 cols\n",
      "damp = 0.00000000000000e+00\n",
      "\n",
      "atol = 1.00e-06                 conlim = 1.00e+08\n",
      "\n",
      "btol = 1.00e-06             maxiter =      156\n",
      "\n",
      " \n",
      "   itn      x(1)       norm r    norm Ar  compatible   LS      norm A   cond A\n",
      "     0  0.00000e+00  1.003e+03  8.855e+05   1.0e+00  8.8e-01\n",
      "     1  5.77073e-03  5.463e+02  1.704e+04   5.4e-01  3.0e-02  1.1e+03  1.0e+00\n",
      "     2  2.75827e-02  4.918e+02  4.297e+03   4.9e-01  8.3e-03  1.1e+03  1.5e+01\n",
      "     3 -2.72657e-02  4.840e+02  2.201e+03   4.8e-01  4.3e-03  1.1e+03  2.2e+01\n",
      "     4 -9.15828e-02  4.813e+02  7.809e+02   4.8e-01  1.5e-03  1.1e+03  2.2e+01\n",
      "     5 -9.14609e-02  4.811e+02  5.160e+02   4.8e-01  1.0e-03  1.1e+03  2.0e+01\n",
      "     6 -9.13989e-02  4.811e+02  3.653e+02   4.8e-01  5.6e-04  1.4e+03  2.0e+01\n",
      "     7 -8.74901e-02  4.810e+02  1.222e+02   4.8e-01  1.7e-04  1.5e+03  2.5e+01\n",
      "     8 -8.78064e-02  4.810e+02  5.669e+01   4.8e-01  7.9e-05  1.5e+03  2.3e+01\n",
      "     9 -8.76588e-02  4.810e+02  2.014e+01   4.8e-01  2.8e-05  1.5e+03  2.5e+01\n",
      "    10 -8.75377e-02  4.810e+02  8.736e+00   4.8e-01  1.2e-05  1.5e+03  2.3e+01\n",
      "    14 -8.74368e-02  4.810e+02  5.716e-01   4.8e-01  6.5e-07  1.8e+03  2.3e+01\n",
      " \n",
      "LSMR finished\n",
      "The least-squares solution is good enough, given atol     \n",
      "istop =       2    normr = 4.8e+02\n",
      "    normA = 1.8e+03    normAr = 5.7e-01\n",
      "itn   =      14    condA = 2.3e+01\n",
      "    normx = 4.8e+00\n",
      "    14 -8.74368e-02   4.810e+02  5.716e-01\n",
      "   4.8e-01  6.5e-07   1.8e+03  2.3e+01\n",
      "Linear regression time: 0.2077 sec\n",
      "Epoch 1/1000\n",
      "585/585 [==============================] - 1s 1ms/step - loss: 148.1407 - I_like: 0.2197 - val_loss: 146.6639 - val_I_like: 0.2395\n",
      "Epoch 2/1000\n",
      "585/585 [==============================] - 1s 987us/step - loss: 145.2688 - I_like: 0.2799 - val_loss: 145.6732 - val_I_like: 0.2576\n",
      "Epoch 3/1000\n",
      "585/585 [==============================] - 1s 941us/step - loss: 144.7689 - I_like: 0.2870 - val_loss: 144.4677 - val_I_like: 0.2815\n",
      "Epoch 4/1000\n",
      "585/585 [==============================] - 1s 918us/step - loss: 144.6564 - I_like: 0.2875 - val_loss: 144.4764 - val_I_like: 0.2786\n",
      "Epoch 5/1000\n",
      "585/585 [==============================] - 1s 908us/step - loss: 144.6186 - I_like: 0.2884 - val_loss: 144.7654 - val_I_like: 0.2714\n",
      "Epoch 6/1000\n",
      "585/585 [==============================] - 1s 944us/step - loss: 144.4583 - I_like: 0.2903 - val_loss: 146.6995 - val_I_like: 0.2280\n",
      "Epoch 7/1000\n",
      "585/585 [==============================] - 1s 944us/step - loss: 144.6688 - I_like: 0.2867 - val_loss: 144.9639 - val_I_like: 0.2669\n",
      "Epoch 8/1000\n",
      "585/585 [==============================] - 1s 947us/step - loss: 144.5166 - I_like: 0.2913 - val_loss: 144.7949 - val_I_like: 0.2689\n",
      "Epoch 9/1000\n",
      "585/585 [==============================] - 1s 1ms/step - loss: 144.7886 - I_like: 0.2860 - val_loss: 144.2512 - val_I_like: 0.2830\n",
      "Epoch 10/1000\n",
      "585/585 [==============================] - 1s 934us/step - loss: 144.5523 - I_like: 0.2907 - val_loss: 143.9761 - val_I_like: 0.2919\n",
      "Epoch 11/1000\n",
      "585/585 [==============================] - 1s 1ms/step - loss: 144.4507 - I_like: 0.2939 - val_loss: 144.7518 - val_I_like: 0.2743\n",
      "Epoch 12/1000\n",
      "585/585 [==============================] - 1s 1ms/step - loss: 144.4516 - I_like: 0.2928 - val_loss: 144.7507 - val_I_like: 0.2747\n",
      "Epoch 13/1000\n",
      "585/585 [==============================] - 1s 1ms/step - loss: 144.4322 - I_like: 0.2923 - val_loss: 144.3385 - val_I_like: 0.2845\n",
      "Epoch 14/1000\n",
      "585/585 [==============================] - 1s 1ms/step - loss: 144.4886 - I_like: 0.2927 - val_loss: 144.2139 - val_I_like: 0.2887\n",
      "Epoch 15/1000\n",
      "585/585 [==============================] - 1s 1ms/step - loss: 144.3705 - I_like: 0.2955 - val_loss: 144.2719 - val_I_like: 0.2808\n",
      "Epoch 16/1000\n",
      "585/585 [==============================] - 1s 1ms/step - loss: 144.2767 - I_like: 0.2959 - val_loss: 144.2593 - val_I_like: 0.2839\n",
      "Epoch 17/1000\n",
      "585/585 [==============================] - 1s 958us/step - loss: 144.5496 - I_like: 0.2913 - val_loss: 144.4971 - val_I_like: 0.2808\n",
      "Epoch 18/1000\n",
      "585/585 [==============================] - 1s 973us/step - loss: 144.5213 - I_like: 0.2928 - val_loss: 144.3721 - val_I_like: 0.2813\n",
      "Epoch 19/1000\n",
      "585/585 [==============================] - 1s 1ms/step - loss: 144.6076 - I_like: 0.2900 - val_loss: 144.1209 - val_I_like: 0.2901\n",
      "Epoch 20/1000\n",
      "585/585 [==============================] - 1s 1ms/step - loss: 144.2986 - I_like: 0.2976 - val_loss: 145.4046 - val_I_like: 0.2617\n",
      "Training time: 13.1 seconds\n"
     ]
    }
   ],
   "source": [
    "# Fit model to data\n",
    "history = model.fit(learning_rate=.005,\n",
    "                    epochs=1000,\n",
    "                    early_stopping=True,\n",
    "                    early_stopping_patience=10)"
   ]
  },
  {
   "cell_type": "code",
   "execution_count": 7,
   "metadata": {},
   "outputs": [
    {
     "name": "stdout",
     "output_type": "stream",
     "text": [
      "Model saved to these files:\n",
      "\tsortseq_mpa_additive.pickle\n",
      "\tsortseq_mpa_additive.h5\n"
     ]
    }
   ],
   "source": [
    "# Save model\n",
    "model.save('sortseq_mpa_additive')"
   ]
  },
  {
   "cell_type": "code",
   "execution_count": 8,
   "metadata": {},
   "outputs": [
    {
     "name": "stdout",
     "output_type": "stream",
     "text": [
      "Model loaded from these files:\n",
      "\tsortseq_mpa_additive.pickle\n",
      "\tsortseq_mpa_additive.h5\n"
     ]
    }
   ],
   "source": [
    "# Load model\n",
    "model = mavenn.load('sortseq_mpa_additive')"
   ]
  },
  {
   "cell_type": "code",
   "execution_count": 9,
   "metadata": {},
   "outputs": [
    {
     "data": {
      "image/png": "[encoded data removed]",
      "text/plain": [
       "<Figure size 864x288 with 3 Axes>"
      ]
     },
     "metadata": {
      "needs_background": "light"
     },
     "output_type": "display_data"
    }
   ],
   "source": [
    "# Get G-P map parameters\n",
    "theta_dict = model.get_theta(gauge='uniform')\n",
    "\n",
    "# Get additive parameters suitable for logomaker\n",
    "theta_logomaker_df = theta_dict['logomaker_df']\n",
    "\n",
    "# Create grid in phi space\n",
    "phi_lim = [-5, 3]\n",
    "phi_grid = np.linspace(phi_lim[0], phi_lim[1], 1000)\n",
    "\n",
    "# Create array of allowable y values\n",
    "Y = model.model.Y    # Y = number of bins\n",
    "y_lim = [-.5, Y-.5]\n",
    "y_all = range(Y)\n",
    "\n",
    "# Compute matrix of p(y|phi) values\n",
    "measurement_process = model.p_of_y_given_phi(y_all, phi_grid)\n",
    "\n",
    "# Create figure with two panels\n",
    "fig, axs = plt.subplots(1,2,figsize=[12,4])\n",
    "\n",
    "# Left panel: draw logo using logomaker\n",
    "ax = axs[0]\n",
    "logo = logomaker.Logo(theta_logomaker_df, ax=ax)\n",
    "ax.set_ylabel(r'parameter value ($\\theta_{l:c}$)')\n",
    "ax.set_xlabel(r'position ($l$)')\n",
    "ax.set_title('G-P map parameters')\n",
    "\n",
    "# Right panel: draw measurement process as heatmap\n",
    "ax = axs[1]\n",
    "im = ax.imshow(measurement_process,\n",
    "               cmap='Greens',\n",
    "               extent=phi_lim+y_lim,\n",
    "               vmin=0,\n",
    "               origin='lower',\n",
    "               interpolation='nearest',\n",
    "               aspect=\"auto\")\n",
    "ax.set_yticks(y_all)\n",
    "ax.set_ylabel('bin number (y)')\n",
    "ax.set_xlabel('latent phenotype ($\\phi$)')\n",
    "ax.set_title('measurement process')\n",
    "cb = plt.colorbar(im)\n",
    "cb.set_label('probability  $p(y|\\phi)$', rotation=-90, va=\"bottom\")\n",
    "\n",
    "# Fix up plot\n",
    "fig.tight_layout(w_pad=3)\n",
    "fig.savefig('sortseq_mpa_visualization.png')\n",
    "plt.show()"
   ]
  }
 ],
 "metadata": {
  "kernelspec": {
   "display_name": "Python 3",
   "language": "python",
   "name": "python3"
  },
  "language_info": {
   "codemirror_mode": {
    "name": "ipython",
    "version": 3
   },
   "file_extension": ".py",
   "mimetype": "text/x-python",
   "name": "python",
   "nbconvert_exporter": "python",
   "pygments_lexer": "ipython3",
   "version": "3.6.7"
  }
 },
 "nbformat": 4,
 "nbformat_minor": 2
}
