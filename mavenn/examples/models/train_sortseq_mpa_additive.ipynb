{
 "cells": [
  {
   "cell_type": "code",
   "execution_count": 1,
   "metadata": {},
   "outputs": [
    {
     "name": "stdout",
     "output_type": "stream",
     "text": [
      "['/Users/jkinney/github/mavenn/mavenn']\n"
     ]
    }
   ],
   "source": [
    "# Standard imports\n",
    "import pandas as pd\n",
    "import matplotlib.pyplot as plt\n",
    "import numpy as np\n",
    "import time\n",
    "import logomaker\n",
    "\n",
    "# Insert path to mavenn beginning of path\n",
    "import os\n",
    "import sys\n",
    "abs_path_to_mavenn = os.path.abspath('../../../')\n",
    "sys.path.insert(0, abs_path_to_mavenn)\n",
    "\n",
    "# Load mavenn\n",
    "import mavenn\n",
    "print(mavenn.__path__)"
   ]
  },
  {
   "cell_type": "code",
   "execution_count": 2,
   "metadata": {},
   "outputs": [
    {
     "name": "stdout",
     "output_type": "stream",
     "text": [
      "training N: 45778\n"
     ]
    },
    {
     "data": {
      "text/html": [
       "<div>\n",
       "<style scoped>\n",
       "    .dataframe tbody tr th:only-of-type {\n",
       "        vertical-align: middle;\n",
       "    }\n",
       "\n",
       "    .dataframe tbody tr th {\n",
       "        vertical-align: top;\n",
       "    }\n",
       "\n",
       "    .dataframe thead th {\n",
       "        text-align: right;\n",
       "    }\n",
       "</style>\n",
       "<table border=\"1\" class=\"dataframe\">\n",
       "  <thead>\n",
       "    <tr style=\"text-align: right;\">\n",
       "      <th></th>\n",
       "      <th>training_set</th>\n",
       "      <th>ct</th>\n",
       "      <th>y</th>\n",
       "      <th>x</th>\n",
       "    </tr>\n",
       "  </thead>\n",
       "  <tbody>\n",
       "    <tr>\n",
       "      <th>0</th>\n",
       "      <td>True</td>\n",
       "      <td>1</td>\n",
       "      <td>0</td>\n",
       "      <td>AAATTTACACTTTATGCATCAGACTCGTATGTTGTGTGG</td>\n",
       "    </tr>\n",
       "    <tr>\n",
       "      <th>1</th>\n",
       "      <td>False</td>\n",
       "      <td>1</td>\n",
       "      <td>0</td>\n",
       "      <td>AACTTAACAATTTATGCTTCCGACTCGTATATTCTGTGG</td>\n",
       "    </tr>\n",
       "    <tr>\n",
       "      <th>2</th>\n",
       "      <td>True</td>\n",
       "      <td>1</td>\n",
       "      <td>0</td>\n",
       "      <td>AACTTTACACTATATGCGTCAGGCTCGTATGTTGTGTGG</td>\n",
       "    </tr>\n",
       "    <tr>\n",
       "      <th>3</th>\n",
       "      <td>False</td>\n",
       "      <td>1</td>\n",
       "      <td>0</td>\n",
       "      <td>AACTTTACACTGTATGCTTCCGTCTCCTATGTTGTGTGG</td>\n",
       "    </tr>\n",
       "    <tr>\n",
       "      <th>4</th>\n",
       "      <td>False</td>\n",
       "      <td>2</td>\n",
       "      <td>0</td>\n",
       "      <td>AACTTTACACTTGATGCTTCCGGCTCGTATGTTGTGTAG</td>\n",
       "    </tr>\n",
       "  </tbody>\n",
       "</table>\n",
       "</div>"
      ],
      "text/plain": [
       "   training_set  ct  y                                        x\n",
       "0          True   1  0  AAATTTACACTTTATGCATCAGACTCGTATGTTGTGTGG\n",
       "1         False   1  0  AACTTAACAATTTATGCTTCCGACTCGTATATTCTGTGG\n",
       "2          True   1  0  AACTTTACACTATATGCGTCAGGCTCGTATGTTGTGTGG\n",
       "3         False   1  0  AACTTTACACTGTATGCTTCCGTCTCCTATGTTGTGTGG\n",
       "4         False   2  0  AACTTTACACTTGATGCTTCCGGCTCGTATGTTGTGTAG"
      ]
     },
     "execution_count": 2,
     "metadata": {},
     "output_type": "execute_result"
    }
   ],
   "source": [
    "# Load example data\n",
    "data_df = mavenn.load_example_dataset('sortseq')\n",
    "print(f'training N: {len(data_df)}')\n",
    "data_df.head()"
   ]
  },
  {
   "cell_type": "code",
   "execution_count": 3,
   "metadata": {},
   "outputs": [
    {
     "name": "stdout",
     "output_type": "stream",
     "text": [
      "L=39, Y=10\n",
      "N training: 3,652\n",
      "N test: 926\n"
     ]
    }
   ],
   "source": [
    "# Comptue sequence length and number of bins\n",
    "L = len(data_df['x'][0])\n",
    "Y = len(set(data_df['y']))\n",
    "print(f'L={L}, Y={Y}')\n",
    "\n",
    "# Split into training and test data\n",
    "ix = data_df['training_set']\n",
    "training_df = data_df[ix].copy()\n",
    "training_df.reset_index(inplace=True)\n",
    "test_df = data_df[~ix].copy()\n",
    "test_df.reset_index(inplace=True)\n",
    "print(f'N training: {len(training_df)/Y:,.0f}')\n",
    "print(f'N test: {len(test_df)/Y:,.0f}')"
   ]
  },
  {
   "cell_type": "code",
   "execution_count": 4,
   "metadata": {},
   "outputs": [
    {
     "name": "stdout",
     "output_type": "stream",
     "text": [
      "N = 36,517 observations set as training data.\n",
      "Data shuffled.\n",
      "Time to set data: 0.858 sec.\n"
     ]
    }
   ],
   "source": [
    "# Set seeed\n",
    "mavenn.set_seed(0)\n",
    "\n",
    "# Define model\n",
    "model = mavenn.Model(regression_type='MPA',\n",
    "                     L=L,\n",
    "                     Y=Y,\n",
    "                     alphabet='dna',\n",
    "                     gpmap_type='additive')\n",
    "\n",
    "# Where is ct_n?\n",
    "model.set_data(x=training_df['x'],\n",
    "               y=training_df['y'],\n",
    "               ct_n=training_df['ct'])"
   ]
  },
  {
   "cell_type": "code",
   "execution_count": 5,
   "metadata": {},
   "outputs": [
    {
     "name": "stdout",
     "output_type": "stream",
     "text": [
      " \n",
      "LSMR            Least-squares solution of  Ax = b\n",
      "\n",
      "The matrix A has    36517 rows  and      156 cols\n",
      "damp = 0.00000000000000e+00\n",
      "\n",
      "atol = 1.00e-06                 conlim = 1.00e+08\n",
      "\n",
      "btol = 1.00e-06             maxiter =      156\n",
      "\n",
      " \n",
      "   itn      x(1)       norm r    norm Ar  compatible   LS      norm A   cond A\n",
      "     0  0.00000e+00  1.001e+03  8.840e+05   1.0e+00  8.8e-01\n",
      "     1  5.94019e-03  5.451e+02  1.670e+04   5.4e-01  2.9e-02  1.1e+03  1.0e+00\n",
      "     2  4.09346e-02  4.922e+02  4.224e+03   4.9e-01  8.1e-03  1.1e+03  1.5e+01\n",
      "     3 -7.86247e-03  4.846e+02  2.185e+03   4.8e-01  4.3e-03  1.1e+03  2.2e+01\n",
      "     4 -6.23418e-02  4.819e+02  7.745e+02   4.8e-01  1.5e-03  1.1e+03  2.2e+01\n",
      "     5 -6.45734e-02  4.817e+02  5.340e+02   4.8e-01  1.0e-03  1.1e+03  2.0e+01\n",
      "     6 -6.56674e-02  4.817e+02  3.606e+02   4.8e-01  5.4e-04  1.4e+03  2.0e+01\n",
      "     7 -6.72234e-02  4.816e+02  1.164e+02   4.8e-01  1.6e-04  1.5e+03  2.5e+01\n",
      "     8 -6.86655e-02  4.816e+02  5.285e+01   4.8e-01  7.3e-05  1.5e+03  2.3e+01\n",
      "     9 -6.93004e-02  4.816e+02  2.028e+01   4.8e-01  2.8e-05  1.5e+03  2.5e+01\n",
      "    10 -6.93196e-02  4.816e+02  8.443e+00   4.8e-01  1.2e-05  1.5e+03  2.3e+01\n",
      "    14 -6.92508e-02  4.816e+02  6.504e-01   4.8e-01  7.4e-07  1.8e+03  2.3e+01\n",
      " \n",
      "LSMR finished\n",
      "The least-squares solution is good enough, given atol     \n",
      "istop =       2    normr = 4.8e+02\n",
      "    normA = 1.8e+03    normAr = 6.5e-01\n",
      "itn   =      14    condA = 2.3e+01\n",
      "    normx = 4.7e+00\n",
      "    14 -6.92508e-02   4.816e+02  6.504e-01\n",
      "   4.8e-01  7.4e-07   1.8e+03  2.3e+01\n",
      "Linear regression time: 0.3440 sec\n",
      "Epoch 1/1000\n",
      "585/585 [==============================] - 1s 2ms/step - loss: 147.2074 - I_like: 0.2193 - val_loss: 146.0047 - val_I_like: 0.2727\n",
      "Epoch 2/1000\n",
      "585/585 [==============================] - 1s 1ms/step - loss: 144.8468 - I_like: 0.2688 - val_loss: 145.4621 - val_I_like: 0.2741\n",
      "Epoch 3/1000\n",
      "585/585 [==============================] - 1s 1ms/step - loss: 144.2247 - I_like: 0.2785 - val_loss: 145.0254 - val_I_like: 0.2849\n",
      "Epoch 4/1000\n",
      "585/585 [==============================] - 1s 1ms/step - loss: 144.0089 - I_like: 0.2803 - val_loss: 149.5806 - val_I_like: 0.1887\n",
      "Epoch 5/1000\n",
      "585/585 [==============================] - 1s 1ms/step - loss: 144.0381 - I_like: 0.2797 - val_loss: 145.9424 - val_I_like: 0.2646\n",
      "Epoch 6/1000\n",
      "585/585 [==============================] - 1s 1ms/step - loss: 143.9976 - I_like: 0.2807 - val_loss: 145.3114 - val_I_like: 0.2769\n",
      "Epoch 7/1000\n",
      "585/585 [==============================] - 1s 1ms/step - loss: 144.0042 - I_like: 0.2813 - val_loss: 145.0967 - val_I_like: 0.2821\n",
      "Epoch 8/1000\n",
      "585/585 [==============================] - 1s 1ms/step - loss: 143.8512 - I_like: 0.2842 - val_loss: 144.9044 - val_I_like: 0.2869\n",
      "Epoch 9/1000\n",
      "585/585 [==============================] - 1s 1ms/step - loss: 143.9309 - I_like: 0.2828 - val_loss: 145.5279 - val_I_like: 0.2714\n",
      "Epoch 10/1000\n",
      "585/585 [==============================] - 1s 1ms/step - loss: 143.8876 - I_like: 0.2855 - val_loss: 144.6328 - val_I_like: 0.2967\n",
      "Epoch 11/1000\n",
      "585/585 [==============================] - 1s 1ms/step - loss: 143.8937 - I_like: 0.2843 - val_loss: 145.1126 - val_I_like: 0.2835\n",
      "Epoch 12/1000\n",
      "585/585 [==============================] - 1s 1ms/step - loss: 143.8795 - I_like: 0.2859 - val_loss: 145.5211 - val_I_like: 0.2749\n",
      "Epoch 13/1000\n",
      "585/585 [==============================] - 1s 1ms/step - loss: 143.9039 - I_like: 0.2851 - val_loss: 144.9908 - val_I_like: 0.2855\n",
      "Epoch 14/1000\n",
      "585/585 [==============================] - 1s 1ms/step - loss: 143.9742 - I_like: 0.2833 - val_loss: 144.9408 - val_I_like: 0.2893\n",
      "Epoch 15/1000\n",
      "585/585 [==============================] - 1s 1ms/step - loss: 143.9301 - I_like: 0.2851 - val_loss: 145.1649 - val_I_like: 0.2846\n",
      "Epoch 16/1000\n",
      "585/585 [==============================] - 1s 1ms/step - loss: 143.9342 - I_like: 0.2831 - val_loss: 145.2115 - val_I_like: 0.2792: 0s - loss: 144.2984 - \n",
      "Epoch 17/1000\n",
      "585/585 [==============================] - 1s 1ms/step - loss: 143.9146 - I_like: 0.2842 - val_loss: 145.4650 - val_I_like: 0.2756\n",
      "Epoch 18/1000\n",
      "585/585 [==============================] - 1s 2ms/step - loss: 143.8551 - I_like: 0.2847 - val_loss: 145.4230 - val_I_like: 0.2785\n",
      "Epoch 19/1000\n",
      "585/585 [==============================] - 1s 1ms/step - loss: 143.8562 - I_like: 0.2855 - val_loss: 144.8424 - val_I_like: 0.2864\n",
      "Epoch 20/1000\n",
      "585/585 [==============================] - 1s 1ms/step - loss: 144.0096 - I_like: 0.2824 - val_loss: 144.8228 - val_I_like: 0.2890\n",
      "Training time: 16.7 seconds\n"
     ]
    }
   ],
   "source": [
    "# Fit model to data\n",
    "history = model.fit(learning_rate=.005,\n",
    "                    epochs=1000,\n",
    "                    early_stopping=True,\n",
    "                    early_stopping_patience=10)"
   ]
  },
  {
   "cell_type": "code",
   "execution_count": 6,
   "metadata": {},
   "outputs": [
    {
     "name": "stdout",
     "output_type": "stream",
     "text": [
      "Model saved to these files:\n",
      "\tsortseq_mpa_additive.pickle\n",
      "\tsortseq_mpa_additive.h5\n"
     ]
    }
   ],
   "source": [
    "# Save model\n",
    "model.save('sortseq_mpa_additive')"
   ]
  },
  {
   "cell_type": "code",
   "execution_count": 7,
   "metadata": {},
   "outputs": [
    {
     "name": "stdout",
     "output_type": "stream",
     "text": [
      "Model loaded from these files:\n",
      "\tsortseq_mpa_additive.pickle\n",
      "\tsortseq_mpa_additive.h5\n"
     ]
    }
   ],
   "source": [
    "# Load model\n",
    "model = mavenn.load('sortseq_mpa_additive')"
   ]
  },
  {
   "cell_type": "code",
   "execution_count": 8,
   "metadata": {},
   "outputs": [
    {
     "data": {
      "image/png": "[encoded data removed]",
      "text/plain": [
       "<Figure size 864x288 with 3 Axes>"
      ]
     },
     "metadata": {
      "needs_background": "light"
     },
     "output_type": "display_data"
    }
   ],
   "source": [
    "# Get G-P map parameters\n",
    "theta_dict = model.get_theta(gauge='uniform')\n",
    "\n",
    "# Get additive parameters suitable for logomaker\n",
    "theta_logomaker_df = theta_dict['logomaker_df']\n",
    "\n",
    "# Create grid in phi space\n",
    "phi_lim = [-5, 3]\n",
    "phi_grid = np.linspace(phi_lim[0], phi_lim[1], 1000)\n",
    "\n",
    "# Create array of allowable y values\n",
    "Y = model.model.Y    # Y = number of bins\n",
    "y_lim = [-.5, Y-.5]\n",
    "y_all = range(Y)\n",
    "\n",
    "# Compute matrix of p(y|phi) values\n",
    "measurement_process = model.p_of_y_given_phi(y_all, phi_grid)\n",
    "\n",
    "# Create figure with two panels\n",
    "fig, axs = plt.subplots(1,2,figsize=[12,4])\n",
    "\n",
    "# Left panel: draw logo using logomaker\n",
    "ax = axs[0]\n",
    "logo = logomaker.Logo(theta_logomaker_df, ax=ax)\n",
    "ax.set_ylabel(r'parameter value ($\\theta_{l:c}$)')\n",
    "ax.set_xlabel(r'position ($l$)')\n",
    "ax.set_title('G-P map parameters')\n",
    "\n",
    "# Right panel: draw measurement process as heatmap\n",
    "ax = axs[1]\n",
    "im = ax.imshow(measurement_process,\n",
    "               cmap='Greens',\n",
    "               extent=phi_lim+y_lim,\n",
    "               vmin=0,\n",
    "               origin='lower',\n",
    "               interpolation='nearest',\n",
    "               aspect=\"auto\")\n",
    "ax.set_yticks(y_all)\n",
    "ax.set_ylabel('bin number (y)')\n",
    "ax.set_xlabel('latent phenotype ($\\phi$)')\n",
    "ax.set_title('measurement process')\n",
    "cb = plt.colorbar(im)\n",
    "cb.set_label('probability  $p(y|\\phi)$', rotation=-90, va=\"bottom\")\n",
    "\n",
    "# Fix up plot\n",
    "fig.tight_layout(w_pad=3)\n",
    "fig.savefig('sortseq_mpa_visualization.png')\n",
    "plt.show()"
   ]
  },
  {
   "cell_type": "code",
   "execution_count": null,
   "metadata": {},
   "outputs": [],
   "source": []
  }
 ],
 "metadata": {
  "kernelspec": {
   "display_name": "Python 3",
   "language": "python",
   "name": "python3"
  },
  "language_info": {
   "codemirror_mode": {
    "name": "ipython",
    "version": 3
   },
   "file_extension": ".py",
   "mimetype": "text/x-python",
   "name": "python",
   "nbconvert_exporter": "python",
   "pygments_lexer": "ipython3",
   "version": "3.7.4"
  }
 },
 "nbformat": 4,
 "nbformat_minor": 2
}
