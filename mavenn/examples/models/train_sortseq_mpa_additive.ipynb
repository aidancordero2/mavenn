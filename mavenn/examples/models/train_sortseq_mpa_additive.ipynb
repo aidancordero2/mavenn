{
 "cells": [
  {
   "cell_type": "code",
   "execution_count": 1,
   "metadata": {},
   "outputs": [
    {
     "name": "stdout",
     "output_type": "stream",
     "text": [
      "['/Users/jkinney/github/mavenn/mavenn']\n"
     ]
    }
   ],
   "source": [
    "# Standard imports\n",
    "import pandas as pd\n",
    "import matplotlib.pyplot as plt\n",
    "import numpy as np\n",
    "import time\n",
    "import logomaker\n",
    "\n",
    "# Insert path to mavenn beginning of path\n",
    "import os\n",
    "import sys\n",
    "abs_path_to_mavenn = os.path.abspath('../../../')\n",
    "sys.path.insert(0, abs_path_to_mavenn)\n",
    "\n",
    "# Load mavenn\n",
    "import mavenn\n",
    "print(mavenn.__path__)"
   ]
  },
  {
   "cell_type": "code",
   "execution_count": 2,
   "metadata": {},
   "outputs": [
    {
     "name": "stdout",
     "output_type": "stream",
     "text": [
      "training N: 34333\n"
     ]
    },
    {
     "data": {
      "text/html": [
       "<div>\n",
       "<style scoped>\n",
       "    .dataframe tbody tr th:only-of-type {\n",
       "        vertical-align: middle;\n",
       "    }\n",
       "\n",
       "    .dataframe tbody tr th {\n",
       "        vertical-align: top;\n",
       "    }\n",
       "\n",
       "    .dataframe thead th {\n",
       "        text-align: right;\n",
       "    }\n",
       "</style>\n",
       "<table border=\"1\" class=\"dataframe\">\n",
       "  <thead>\n",
       "    <tr style=\"text-align: right;\">\n",
       "      <th></th>\n",
       "      <th>x</th>\n",
       "      <th>y</th>\n",
       "    </tr>\n",
       "  </thead>\n",
       "  <tbody>\n",
       "    <tr>\n",
       "      <td>0</td>\n",
       "      <td>CGGTTTACACTTTATGCTTCCCGATCGTATGTTGTGTGG</td>\n",
       "      <td>9</td>\n",
       "    </tr>\n",
       "    <tr>\n",
       "      <td>1</td>\n",
       "      <td>GGCTTTACACTTTATGCTTACGGCTTGTTTGTTGTGTGG</td>\n",
       "      <td>4</td>\n",
       "    </tr>\n",
       "    <tr>\n",
       "      <td>2</td>\n",
       "      <td>GGCTTTTCAATTTTTGCTTCCGGCTCGTATGTCGTGTGG</td>\n",
       "      <td>0</td>\n",
       "    </tr>\n",
       "    <tr>\n",
       "      <td>3</td>\n",
       "      <td>GGCTTAACACTTGATGCGTCCAGCTCGTATGTTTTGTGT</td>\n",
       "      <td>0</td>\n",
       "    </tr>\n",
       "    <tr>\n",
       "      <td>4</td>\n",
       "      <td>GCCTTTACACGTTTTGCTTCCGGCTCGTATGTTGCGTGG</td>\n",
       "      <td>8</td>\n",
       "    </tr>\n",
       "  </tbody>\n",
       "</table>\n",
       "</div>"
      ],
      "text/plain": [
       "                                         x  y\n",
       "0  CGGTTTACACTTTATGCTTCCCGATCGTATGTTGTGTGG  9\n",
       "1  GGCTTTACACTTTATGCTTACGGCTTGTTTGTTGTGTGG  4\n",
       "2  GGCTTTTCAATTTTTGCTTCCGGCTCGTATGTCGTGTGG  0\n",
       "3  GGCTTAACACTTGATGCGTCCAGCTCGTATGTTTTGTGT  0\n",
       "4  GCCTTTACACGTTTTGCTTCCGGCTCGTATGTTGCGTGG  8"
      ]
     },
     "execution_count": 2,
     "metadata": {},
     "output_type": "execute_result"
    }
   ],
   "source": [
    "# Load example data\n",
    "data_df = mavenn.load_example(which='training_data', name='sortseq')\n",
    "print(f'training N: {len(data_df)}')\n",
    "data_df.head()\n",
    "\n",
    "# Where is ct?"
   ]
  },
  {
   "cell_type": "code",
   "execution_count": 3,
   "metadata": {},
   "outputs": [
    {
     "name": "stdout",
     "output_type": "stream",
     "text": [
      "L=39, Y=10\n"
     ]
    }
   ],
   "source": [
    "# Comptue sequence length and number of bins\n",
    "L = len(data_df['x'][0])\n",
    "Y = len(set(data_df['y']))\n",
    "print(f'L={L}, Y={Y}')"
   ]
  },
  {
   "cell_type": "code",
   "execution_count": 4,
   "metadata": {},
   "outputs": [
    {
     "name": "stdout",
     "output_type": "stream",
     "text": [
      "N = 34,333 observations set as training data.\n",
      "Data shuffled.\n",
      "Time to set data: 0.41 sec.\n",
      " \n",
      "LSMR            Least-squares solution of  Ax = b\n",
      "\n",
      "The matrix A has    34333 rows  and      156 cols\n",
      "damp = 0.00000000000000e+00\n",
      "\n",
      "atol = 1.00e-06                 conlim = 1.00e+08\n",
      "\n",
      "btol = 1.00e-06             maxiter =      156\n",
      "\n",
      " \n",
      "   itn      x(1)       norm r    norm Ar  compatible   LS      norm A   cond A\n",
      "     0  0.00000e+00  9.733e+02  8.348e+05   1.0e+00  8.8e-01\n",
      "     1  5.77894e-03  5.284e+02  1.571e+04   5.4e-01  2.9e-02  1.0e+03  1.0e+00\n",
      "     2  3.35126e-02  4.775e+02  3.949e+03   4.9e-01  8.1e-03  1.0e+03  1.5e+01\n",
      "     3 -6.12066e-03  4.704e+02  2.034e+03   4.8e-01  4.2e-03  1.0e+03  2.2e+01\n",
      "     4 -6.01417e-02  4.678e+02  7.107e+02   4.8e-01  1.5e-03  1.0e+03  2.2e+01\n",
      "     5 -6.18213e-02  4.676e+02  4.209e+02   4.8e-01  8.8e-04  1.0e+03  2.1e+01\n",
      "     6 -6.21706e-02  4.675e+02  3.286e+02   4.8e-01  5.6e-04  1.3e+03  2.1e+01\n",
      "     7 -6.26801e-02  4.675e+02  1.192e+02   4.8e-01  1.8e-04  1.5e+03  2.4e+01\n",
      "     8 -6.39730e-02  4.675e+02  4.880e+01   4.8e-01  7.2e-05  1.5e+03  2.3e+01\n",
      "     9 -6.45732e-02  4.675e+02  1.980e+01   4.8e-01  2.9e-05  1.5e+03  2.5e+01\n",
      "    10 -6.46981e-02  4.675e+02  7.581e+00   4.8e-01  1.1e-05  1.5e+03  2.3e+01\n",
      "    14 -6.46864e-02  4.675e+02  5.515e-01   4.8e-01  6.6e-07  1.8e+03  2.3e+01\n",
      " \n",
      "LSMR finished\n",
      "The least-squares solution is good enough, given atol     \n",
      "istop =       2    normr = 4.7e+02\n",
      "    normA = 1.8e+03    normAr = 5.5e-01\n",
      "itn   =      14    condA = 2.3e+01\n",
      "    normx = 4.7e+00\n",
      "    14 -6.46864e-02   4.675e+02  5.515e-01\n",
      "   4.8e-01  6.6e-07   1.8e+03  2.3e+01\n",
      "Linear regression time: 0.2098 sec\n",
      "Epoch 1/1000\n",
      "550/550 [==============================] - 1s 2ms/step - loss: 109.2870 - val_loss: 107.3394\n",
      "Epoch 2/1000\n",
      "550/550 [==============================] - 1s 1ms/step - loss: 106.8559 - val_loss: 105.1085\n",
      "Epoch 3/1000\n",
      "550/550 [==============================] - 1s 1ms/step - loss: 106.4084 - val_loss: 105.3895\n",
      "Epoch 4/1000\n",
      "550/550 [==============================] - 1s 1ms/step - loss: 105.9987 - val_loss: 105.0101\n",
      "Epoch 5/1000\n",
      "550/550 [==============================] - 1s 1ms/step - loss: 105.9049 - val_loss: 104.4334\n",
      "Epoch 6/1000\n",
      "550/550 [==============================] - 1s 1ms/step - loss: 105.8194 - val_loss: 106.1411\n",
      "Epoch 7/1000\n",
      "550/550 [==============================] - 1s 1ms/step - loss: 105.5023 - val_loss: 105.8514\n",
      "Epoch 8/1000\n",
      "550/550 [==============================] - 1s 1ms/step - loss: 105.3775 - val_loss: 105.7457\n",
      "Epoch 9/1000\n",
      "550/550 [==============================] - 1s 1ms/step - loss: 105.3563 - val_loss: 105.1505\n",
      "Epoch 10/1000\n",
      "550/550 [==============================] - 1s 1ms/step - loss: 105.2866 - val_loss: 104.3224\n",
      "Epoch 11/1000\n",
      "550/550 [==============================] - 1s 1ms/step - loss: 105.3697 - val_loss: 104.4552\n",
      "Epoch 12/1000\n",
      "550/550 [==============================] - 1s 1ms/step - loss: 105.1664 - val_loss: 103.9896\n",
      "Epoch 13/1000\n",
      "550/550 [==============================] - 1s 1ms/step - loss: 105.1962 - val_loss: 104.1859\n",
      "Epoch 14/1000\n",
      "550/550 [==============================] - 1s 1ms/step - loss: 104.9853 - val_loss: 104.3104\n",
      "Epoch 15/1000\n",
      "550/550 [==============================] - 1s 1ms/step - loss: 104.9884 - val_loss: 105.2935\n",
      "Epoch 16/1000\n",
      "550/550 [==============================] - 1s 1ms/step - loss: 105.0563 - val_loss: 104.2253\n",
      "Epoch 17/1000\n",
      "550/550 [==============================] - 1s 1ms/step - loss: 105.0187 - val_loss: 103.8390\n",
      "Epoch 18/1000\n",
      "550/550 [==============================] - 1s 1ms/step - loss: 104.9530 - val_loss: 104.2507\n",
      "Epoch 19/1000\n",
      "550/550 [==============================] - 1s 1ms/step - loss: 104.9104 - val_loss: 105.4414\n",
      "Epoch 20/1000\n",
      "550/550 [==============================] - 1s 1ms/step - loss: 104.9449 - val_loss: 104.0528\n",
      "Epoch 21/1000\n",
      "550/550 [==============================] - 1s 1ms/step - loss: 104.8518 - val_loss: 104.1727\n",
      "Epoch 22/1000\n",
      "550/550 [==============================] - 1s 1ms/step - loss: 104.7962 - val_loss: 103.8789\n",
      "Epoch 23/1000\n",
      "550/550 [==============================] - 1s 1ms/step - loss: 104.8201 - val_loss: 104.1715\n",
      "Epoch 24/1000\n",
      "550/550 [==============================] - 1s 1ms/step - loss: 104.7629 - val_loss: 104.0555\n",
      "Epoch 25/1000\n",
      "550/550 [==============================] - 1s 1ms/step - loss: 104.7621 - val_loss: 104.0223\n",
      "Epoch 26/1000\n",
      "550/550 [==============================] - 1s 1ms/step - loss: 104.9057 - val_loss: 104.0397\n",
      "Epoch 27/1000\n",
      "550/550 [==============================] - 1s 1ms/step - loss: 104.7921 - val_loss: 103.8311\n",
      "Epoch 28/1000\n",
      "550/550 [==============================] - 1s 1ms/step - loss: 104.7581 - val_loss: 104.0230\n",
      "Epoch 29/1000\n",
      "550/550 [==============================] - 1s 2ms/step - loss: 104.8050 - val_loss: 103.9394\n",
      "Epoch 30/1000\n",
      "550/550 [==============================] - 1s 1ms/step - loss: 104.8562 - val_loss: 104.6439\n",
      "Epoch 31/1000\n",
      "550/550 [==============================] - 1s 1ms/step - loss: 104.8225 - val_loss: 104.0442\n",
      "Epoch 32/1000\n",
      "550/550 [==============================] - 1s 1ms/step - loss: 104.6683 - val_loss: 104.0073\n",
      "Epoch 33/1000\n",
      "550/550 [==============================] - 1s 1ms/step - loss: 104.8018 - val_loss: 103.8894\n",
      "Epoch 34/1000\n",
      "550/550 [==============================] - 1s 1ms/step - loss: 104.6551 - val_loss: 103.9707\n",
      "Epoch 35/1000\n",
      "550/550 [==============================] - 1s 1ms/step - loss: 104.7356 - val_loss: 103.9454\n",
      "Epoch 36/1000\n",
      "550/550 [==============================] - 1s 1ms/step - loss: 104.6995 - val_loss: 104.5478\n",
      "Epoch 37/1000\n",
      "550/550 [==============================] - 1s 1ms/step - loss: 104.7053 - val_loss: 104.0491\n",
      "Training time: 26.7 seconds\n"
     ]
    }
   ],
   "source": [
    "# Set seeed\n",
    "mavenn.set_seed(0)\n",
    "\n",
    "# Define model\n",
    "model = mavenn.Model(regression_type='MPA',\n",
    "                     L=L,\n",
    "                     Y=Y,\n",
    "                     alphabet='dna',\n",
    "                     gpmap_type='additive')\n",
    "\n",
    "# Where is ct_n?\n",
    "model.set_data(x=data_df['x'],\n",
    "               y=data_df['y'])\n",
    "\n",
    "# Fit model to data\n",
    "history = model.fit(learning_rate=.005,\n",
    "                    epochs=1000,\n",
    "                    early_stopping=True,\n",
    "                    early_stopping_patience=10)"
   ]
  },
  {
   "cell_type": "code",
   "execution_count": 5,
   "metadata": {},
   "outputs": [
    {
     "name": "stdout",
     "output_type": "stream",
     "text": [
      "Model saved to these files:\n",
      "\tsortseq_mpa_additive.pickle\n",
      "\tsortseq_mpa_additive.h5\n"
     ]
    }
   ],
   "source": [
    "# Save model\n",
    "model.save('sortseq_mpa_additive')"
   ]
  },
  {
   "cell_type": "code",
   "execution_count": 6,
   "metadata": {},
   "outputs": [
    {
     "name": "stdout",
     "output_type": "stream",
     "text": [
      "Model loaded from these files:\n",
      "\tsortseq_mpa_additive.pickle\n",
      "\tsortseq_mpa_additive.h5\n"
     ]
    }
   ],
   "source": [
    "# Load model\n",
    "model = mavenn.load('sortseq_mpa_additive')"
   ]
  },
  {
   "cell_type": "code",
   "execution_count": 8,
   "metadata": {},
   "outputs": [
    {
     "data": {
      "image/png": "[encoded data removed]",
      "text/plain": [
       "<Figure size 864x288 with 3 Axes>"
      ]
     },
     "metadata": {
      "needs_background": "light"
     },
     "output_type": "display_data"
    }
   ],
   "source": [
    "# Get G-P map parameters\n",
    "theta_dict = model.get_theta(gauge='uniform')\n",
    "\n",
    "# Get additive parameters suitable for logomaker\n",
    "theta_logomaker_df = theta_dict['logomaker_df']\n",
    "\n",
    "# Create grid in phi space\n",
    "phi_lim = [-5, 3]\n",
    "phi_grid = np.linspace(phi_lim[0], phi_lim[1], 1000)\n",
    "\n",
    "# Create array of allowable y values\n",
    "Y = model.model.Y    # Y = number of bins\n",
    "y_lim = [-.5, Y-.5]\n",
    "y_all = range(Y)\n",
    "\n",
    "# Compute matrix of p(y|phi) values\n",
    "measurement_process = model.p_of_y_given_phi(y_all, phi_grid)\n",
    "\n",
    "# Create figure with two panels\n",
    "fig, axs = plt.subplots(1,2,figsize=[12,4])\n",
    "\n",
    "# Left panel: draw logo using logomaker\n",
    "ax = axs[0]\n",
    "logo = logomaker.Logo(theta_logomaker_df, ax=ax)\n",
    "ax.set_ylabel(r'parameter value ($\\theta_{l:c}$)')\n",
    "ax.set_xlabel(r'position ($l$)')\n",
    "ax.set_title('G-P map parameters')\n",
    "\n",
    "# Right panel: draw measurement process as heatmap\n",
    "ax = axs[1]\n",
    "im = ax.imshow(measurement_process,\n",
    "               cmap='Greens',\n",
    "               extent=phi_lim+y_lim,\n",
    "               vmin=0,\n",
    "               origin='lower',\n",
    "               interpolation='nearest',\n",
    "               aspect=\"auto\")\n",
    "ax.set_yticks(y_all)\n",
    "ax.set_ylabel('bin number (y)')\n",
    "ax.set_xlabel('latent phenotype ($\\phi$)')\n",
    "ax.set_title('measurement process')\n",
    "cb = plt.colorbar(im)\n",
    "cb.set_label('probability  $p(y|\\phi)$', rotation=-90, va=\"bottom\")\n",
    "\n",
    "# Fix up plot\n",
    "fig.tight_layout(w_pad=3)\n",
    "fig.savefig('sortseq_mpa_visualization.png')\n",
    "plt.show()"
   ]
  },
  {
   "cell_type": "code",
   "execution_count": null,
   "metadata": {},
   "outputs": [],
   "source": []
  }
 ],
 "metadata": {
  "kernelspec": {
   "display_name": "Python 3",
   "language": "python",
   "name": "python3"
  },
  "language_info": {
   "codemirror_mode": {
    "name": "ipython",
    "version": 3
   },
   "file_extension": ".py",
   "mimetype": "text/x-python",
   "name": "python",
   "nbconvert_exporter": "python",
   "pygments_lexer": "ipython3",
   "version": "3.7.4"
  }
 },
 "nbformat": 4,
 "nbformat_minor": 2
}
