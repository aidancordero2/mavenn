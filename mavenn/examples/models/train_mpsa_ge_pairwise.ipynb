{
 "cells": [
  {
   "cell_type": "code",
   "execution_count": 1,
   "metadata": {},
   "outputs": [
    {
     "name": "stdout",
     "output_type": "stream",
     "text": [
      "['/Users/jkinney/github/mavenn/mavenn']\n"
     ]
    }
   ],
   "source": [
    "# Standard imports\n",
    "import pandas as pd\n",
    "import matplotlib.pyplot as plt\n",
    "import numpy as np\n",
    "import time\n",
    "\n",
    "# Insert path to mavenn beginning of path\n",
    "import os\n",
    "import sys\n",
    "abs_path_to_mavenn = os.path.abspath('../../../')\n",
    "sys.path.insert(0, abs_path_to_mavenn)\n",
    "\n",
    "# Load mavenn\n",
    "import mavenn\n",
    "print(mavenn.__path__)"
   ]
  },
  {
   "cell_type": "code",
   "execution_count": 2,
   "metadata": {},
   "outputs": [
    {
     "data": {
      "text/html": [
       "<div>\n",
       "<style scoped>\n",
       "    .dataframe tbody tr th:only-of-type {\n",
       "        vertical-align: middle;\n",
       "    }\n",
       "\n",
       "    .dataframe tbody tr th {\n",
       "        vertical-align: top;\n",
       "    }\n",
       "\n",
       "    .dataframe thead th {\n",
       "        text-align: right;\n",
       "    }\n",
       "</style>\n",
       "<table border=\"1\" class=\"dataframe\">\n",
       "  <thead>\n",
       "    <tr style=\"text-align: right;\">\n",
       "      <th></th>\n",
       "      <th>training_set</th>\n",
       "      <th>y</th>\n",
       "      <th>dy</th>\n",
       "      <th>x</th>\n",
       "    </tr>\n",
       "  </thead>\n",
       "  <tbody>\n",
       "    <tr>\n",
       "      <th>0</th>\n",
       "      <td>False</td>\n",
       "      <td>-3.751854</td>\n",
       "      <td>0.444200</td>\n",
       "      <td>AAAGCAAAA</td>\n",
       "    </tr>\n",
       "    <tr>\n",
       "      <th>1</th>\n",
       "      <td>True</td>\n",
       "      <td>-2.697741</td>\n",
       "      <td>0.369972</td>\n",
       "      <td>AAAGCAAAC</td>\n",
       "    </tr>\n",
       "    <tr>\n",
       "      <th>2</th>\n",
       "      <td>True</td>\n",
       "      <td>-2.242947</td>\n",
       "      <td>0.575121</td>\n",
       "      <td>AAAGCAAAG</td>\n",
       "    </tr>\n",
       "    <tr>\n",
       "      <th>3</th>\n",
       "      <td>False</td>\n",
       "      <td>-3.067251</td>\n",
       "      <td>0.357014</td>\n",
       "      <td>AAAGCAAAT</td>\n",
       "    </tr>\n",
       "    <tr>\n",
       "      <th>4</th>\n",
       "      <td>False</td>\n",
       "      <td>-2.987074</td>\n",
       "      <td>0.472637</td>\n",
       "      <td>AAAGCAACA</td>\n",
       "    </tr>\n",
       "  </tbody>\n",
       "</table>\n",
       "</div>"
      ],
      "text/plain": [
       "   training_set         y        dy          x\n",
       "0         False -3.751854  0.444200  AAAGCAAAA\n",
       "1          True -2.697741  0.369972  AAAGCAAAC\n",
       "2          True -2.242947  0.575121  AAAGCAAAG\n",
       "3         False -3.067251  0.357014  AAAGCAAAT\n",
       "4         False -2.987074  0.472637  AAAGCAACA"
      ]
     },
     "execution_count": 2,
     "metadata": {},
     "output_type": "execute_result"
    }
   ],
   "source": [
    "# Load full MPSA dataset\n",
    "data_df = mavenn.load_example_dataset(name='mpsa')\n",
    "data_df.head()"
   ]
  },
  {
   "cell_type": "code",
   "execution_count": 3,
   "metadata": {},
   "outputs": [
    {
     "name": "stdout",
     "output_type": "stream",
     "text": [
      "training N: 17498\n",
      "test N: 4431\n"
     ]
    }
   ],
   "source": [
    "# Split into training and test data\n",
    "ix = data_df['training_set']\n",
    "training_df = data_df[ix].copy()\n",
    "print(f'training N: {len(training_df)}')\n",
    "      \n",
    "# Split into training and test data\n",
    "ix = data_df['training_set']\n",
    "test_df = data_df[~ix].copy()\n",
    "print(f'test N: {len(test_df)}')"
   ]
  },
  {
   "cell_type": "code",
   "execution_count": 4,
   "metadata": {},
   "outputs": [],
   "source": [
    "# Set seeed\n",
    "mavenn.set_seed(0)\n",
    "\n",
    "# Define model\n",
    "model = mavenn.Model(regression_type='GE',\n",
    "                     L=len(data_df['x'][0]),\n",
    "                     alphabet='dna',\n",
    "                     gpmap_type='pairwise',                     \n",
    "                     ge_noise_model_type='SkewedT',\n",
    "                     ge_heteroskedasticity_order=2)\n"
   ]
  },
  {
   "cell_type": "code",
   "execution_count": 5,
   "metadata": {},
   "outputs": [
    {
     "name": "stdout",
     "output_type": "stream",
     "text": [
      "N = 21,929 observations set as training data.\n",
      "Data shuffled.\n",
      "Time to set data: 0.596 sec.\n"
     ]
    }
   ],
   "source": [
    "# Set training data\n",
    "model.set_data(x=data_df['x'],\n",
    "               y=data_df['y'])"
   ]
  },
  {
   "cell_type": "code",
   "execution_count": 6,
   "metadata": {
    "scrolled": true
   },
   "outputs": [
    {
     "name": "stdout",
     "output_type": "stream",
     "text": [
      " \n",
      "LSMR            Least-squares solution of  Ax = b\n",
      "\n",
      "The matrix A has    21929 rows  and       36 cols\n",
      "damp = 0.00000000000000e+00\n",
      "\n",
      "atol = 1.00e-06                 conlim = 1.00e+08\n",
      "\n",
      "btol = 1.00e-06             maxiter =       36\n",
      "\n",
      " \n",
      "   itn      x(1)       norm r    norm Ar  compatible   LS      norm A   cond A\n",
      "     0  0.00000e+00  1.481e+02  5.397e+03   1.0e+00  2.5e-01\n",
      "     1  2.13362e-02  1.342e+02  1.739e+03   9.1e-01  1.5e-01  8.6e+01  1.0e+00\n",
      "     2  2.61004e-02  1.325e+02  6.140e+02   9.0e-01  3.6e-02  1.3e+02  1.1e+00\n",
      "     3  2.79161e-02  1.325e+02  2.851e+02   8.9e-01  7.9e-03  2.7e+02  2.5e+00\n",
      "     4  2.79728e-02  1.324e+02  6.533e+01   8.9e-01  1.6e-03  3.1e+02  3.3e+00\n",
      "     5  2.87669e-02  1.324e+02  1.512e+01   8.9e-01  3.6e-04  3.2e+02  3.8e+00\n",
      "     6  2.90448e-02  1.324e+02  1.508e+00   8.9e-01  3.5e-05  3.2e+02  3.9e+00\n",
      "     7  2.90117e-02  1.324e+02  2.535e-01   8.9e-01  5.8e-06  3.3e+02  3.9e+00\n",
      "     8  2.89991e-02  1.324e+02  7.240e-02   8.9e-01  1.6e-06  3.4e+02  3.9e+00\n",
      "     9  2.89987e-02  1.324e+02  1.139e-02   8.9e-01  2.5e-07  3.5e+02  3.9e+00\n",
      " \n",
      "LSMR finished\n",
      "The least-squares solution is good enough, given atol     \n",
      "istop =       2    normr = 1.3e+02\n",
      "    normA = 3.5e+02    normAr = 1.1e-02\n",
      "itn   =       9    condA = 3.9e+00\n",
      "    normx = 8.5e-01\n",
      "     9  2.89987e-02   1.324e+02  1.139e-02\n",
      "   8.9e-01  2.5e-07   3.5e+02  3.9e+00\n",
      "Linear regression time: 0.0431 sec\n",
      "Epoch 1/1000\n",
      "18/18 [==============================] - 1s 29ms/step - loss: 1237.2415 - I_like: -0.5475 - val_loss: 1144.4178 - val_I_like: -0.4745\n",
      "Epoch 2/1000\n",
      "18/18 [==============================] - 0s 9ms/step - loss: 1143.8124 - I_like: -0.4140 - val_loss: 1051.8401 - val_I_like: -0.3343\n",
      "Epoch 3/1000\n",
      "18/18 [==============================] - 0s 11ms/step - loss: 1051.8478 - I_like: -0.2737 - val_loss: 968.6980 - val_I_like: -0.2084\n",
      "Epoch 4/1000\n",
      "18/18 [==============================] - 0s 12ms/step - loss: 977.3076 - I_like: -0.1697 - val_loss: 908.9212 - val_I_like: -0.1150\n",
      "Epoch 5/1000\n",
      "18/18 [==============================] - 0s 12ms/step - loss: 917.1645 - I_like: -0.0805 - val_loss: 857.6125 - val_I_like: -0.0368\n",
      "Epoch 6/1000\n",
      "18/18 [==============================] - 0s 13ms/step - loss: 870.9205 - I_like: -0.0107 - val_loss: 822.7319 - val_I_like: 0.0186\n",
      "Epoch 7/1000\n",
      "18/18 [==============================] - 0s 14ms/step - loss: 830.9376 - I_like: 0.0467 - val_loss: 785.1711 - val_I_like: 0.0756\n",
      "Epoch 8/1000\n",
      "18/18 [==============================] - 0s 10ms/step - loss: 798.3016 - I_like: 0.0943 - val_loss: 760.2753 - val_I_like: 0.1142\n",
      "Epoch 9/1000\n",
      "18/18 [==============================] - 0s 10ms/step - loss: 775.6223 - I_like: 0.1265 - val_loss: 739.4005 - val_I_like: 0.1460\n",
      "Epoch 10/1000\n",
      "18/18 [==============================] - 0s 11ms/step - loss: 759.9545 - I_like: 0.1472 - val_loss: 728.3976 - val_I_like: 0.1635\n",
      "Epoch 11/1000\n",
      "18/18 [==============================] - 0s 13ms/step - loss: 750.9537 - I_like: 0.1643 - val_loss: 728.3096 - val_I_like: 0.1642\n",
      "Epoch 12/1000\n",
      "18/18 [==============================] - 0s 11ms/step - loss: 744.6087 - I_like: 0.1693 - val_loss: 722.7711 - val_I_like: 0.1730\n",
      "Epoch 13/1000\n",
      "18/18 [==============================] - 0s 13ms/step - loss: 737.5179 - I_like: 0.1797 - val_loss: 716.1229 - val_I_like: 0.1823\n",
      "Epoch 14/1000\n",
      "18/18 [==============================] - 0s 10ms/step - loss: 734.2684 - I_like: 0.1865 - val_loss: 712.3101 - val_I_like: 0.1882\n",
      "Epoch 15/1000\n",
      "18/18 [==============================] - 0s 10ms/step - loss: 731.7604 - I_like: 0.1874 - val_loss: 710.8466 - val_I_like: 0.1909\n",
      "Epoch 16/1000\n",
      "18/18 [==============================] - 0s 10ms/step - loss: 730.0739 - I_like: 0.1911 - val_loss: 717.6815 - val_I_like: 0.1796\n",
      "Epoch 17/1000\n",
      "18/18 [==============================] - 0s 9ms/step - loss: 729.5198 - I_like: 0.1925 - val_loss: 708.5629 - val_I_like: 0.1937\n",
      "Epoch 18/1000\n",
      "18/18 [==============================] - 0s 13ms/step - loss: 726.2230 - I_like: 0.1990 - val_loss: 714.5839 - val_I_like: 0.1844\n",
      "Epoch 19/1000\n",
      "18/18 [==============================] - 0s 13ms/step - loss: 724.7740 - I_like: 0.1975 - val_loss: 708.8488 - val_I_like: 0.1925\n",
      "Epoch 20/1000\n",
      "18/18 [==============================] - 0s 9ms/step - loss: 722.4989 - I_like: 0.2043 - val_loss: 703.3366 - val_I_like: 0.2010\n",
      "Epoch 21/1000\n",
      "18/18 [==============================] - 0s 10ms/step - loss: 722.0408 - I_like: 0.2066 - val_loss: 709.4394 - val_I_like: 0.1923\n",
      "Epoch 22/1000\n",
      "18/18 [==============================] - 0s 10ms/step - loss: 720.4956 - I_like: 0.2071 - val_loss: 703.2166 - val_I_like: 0.2010\n",
      "Epoch 23/1000\n",
      "18/18 [==============================] - 0s 9ms/step - loss: 717.4585 - I_like: 0.2117 - val_loss: 700.4313 - val_I_like: 0.2060\n",
      "Epoch 24/1000\n",
      "18/18 [==============================] - 0s 12ms/step - loss: 717.4090 - I_like: 0.2080 - val_loss: 700.7105 - val_I_like: 0.2058\n",
      "Epoch 25/1000\n",
      "18/18 [==============================] - 0s 13ms/step - loss: 714.9176 - I_like: 0.2145 - val_loss: 702.9185 - val_I_like: 0.2018\n",
      "Epoch 26/1000\n",
      "18/18 [==============================] - 0s 12ms/step - loss: 714.7332 - I_like: 0.2195 - val_loss: 698.1443 - val_I_like: 0.2100\n",
      "Epoch 27/1000\n",
      "18/18 [==============================] - 0s 12ms/step - loss: 713.5086 - I_like: 0.2170 - val_loss: 700.3450 - val_I_like: 0.2053\n",
      "Epoch 28/1000\n",
      "18/18 [==============================] - 0s 11ms/step - loss: 713.8669 - I_like: 0.2142 - val_loss: 698.9456 - val_I_like: 0.2080\n",
      "Epoch 29/1000\n",
      "18/18 [==============================] - 0s 10ms/step - loss: 712.6827 - I_like: 0.2187 - val_loss: 700.6193 - val_I_like: 0.2054\n",
      "Epoch 30/1000\n",
      "18/18 [==============================] - 0s 9ms/step - loss: 709.3746 - I_like: 0.2253 - val_loss: 688.9193 - val_I_like: 0.2241\n",
      "Epoch 31/1000\n",
      "18/18 [==============================] - 0s 10ms/step - loss: 704.0502 - I_like: 0.2296 - val_loss: 688.1751 - val_I_like: 0.2248\n",
      "Epoch 32/1000\n",
      "18/18 [==============================] - 0s 10ms/step - loss: 701.6454 - I_like: 0.2342 - val_loss: 704.6705 - val_I_like: 0.2000\n",
      "Epoch 33/1000\n",
      "18/18 [==============================] - 0s 11ms/step - loss: 703.6936 - I_like: 0.2305 - val_loss: 681.8062 - val_I_like: 0.2343\n",
      "Epoch 34/1000\n",
      "18/18 [==============================] - 0s 12ms/step - loss: 698.4778 - I_like: 0.2363 - val_loss: 683.6718 - val_I_like: 0.2321\n",
      "Epoch 35/1000\n",
      "18/18 [==============================] - 0s 10ms/step - loss: 694.3827 - I_like: 0.2421 - val_loss: 686.2124 - val_I_like: 0.2291\n",
      "Epoch 36/1000\n",
      "18/18 [==============================] - 0s 10ms/step - loss: 690.2561 - I_like: 0.2473 - val_loss: 672.8945 - val_I_like: 0.2495\n",
      "Epoch 37/1000\n",
      "18/18 [==============================] - 0s 11ms/step - loss: 691.4271 - I_like: 0.2543 - val_loss: 681.0179 - val_I_like: 0.2384\n",
      "Epoch 38/1000\n",
      "18/18 [==============================] - 0s 11ms/step - loss: 689.3030 - I_like: 0.2550 - val_loss: 670.1935 - val_I_like: 0.2539\n",
      "Epoch 39/1000\n",
      "18/18 [==============================] - 0s 11ms/step - loss: 681.7227 - I_like: 0.2655 - val_loss: 661.8782 - val_I_like: 0.2673\n",
      "Epoch 40/1000\n",
      "18/18 [==============================] - 0s 10ms/step - loss: 680.3904 - I_like: 0.2659 - val_loss: 677.0356 - val_I_like: 0.2442\n",
      "Epoch 41/1000\n",
      "18/18 [==============================] - 0s 10ms/step - loss: 679.1673 - I_like: 0.2707 - val_loss: 649.2579 - val_I_like: 0.2867\n",
      "Epoch 42/1000\n",
      "18/18 [==============================] - 0s 10ms/step - loss: 659.1319 - I_like: 0.2985 - val_loss: 640.1942 - val_I_like: 0.3009\n",
      "Epoch 43/1000\n",
      "18/18 [==============================] - 0s 10ms/step - loss: 652.0604 - I_like: 0.3024 - val_loss: 633.2214 - val_I_like: 0.3093\n",
      "Epoch 44/1000\n",
      "18/18 [==============================] - 0s 10ms/step - loss: 648.1816 - I_like: 0.3148 - val_loss: 643.2576 - val_I_like: 0.2925\n",
      "Epoch 45/1000\n",
      "18/18 [==============================] - 0s 11ms/step - loss: 646.8165 - I_like: 0.3132 - val_loss: 636.8539 - val_I_like: 0.3041\n",
      "Epoch 46/1000\n",
      "18/18 [==============================] - 0s 12ms/step - loss: 643.6562 - I_like: 0.3179 - val_loss: 641.1527 - val_I_like: 0.2975\n",
      "Epoch 47/1000\n",
      "18/18 [==============================] - 0s 10ms/step - loss: 641.5649 - I_like: 0.3221 - val_loss: 635.7286 - val_I_like: 0.3030\n",
      "Epoch 48/1000\n"
     ]
    },
    {
     "name": "stdout",
     "output_type": "stream",
     "text": [
      "18/18 [==============================] - 0s 10ms/step - loss: 641.4177 - I_like: 0.3247 - val_loss: 630.4092 - val_I_like: 0.3137\n",
      "Epoch 49/1000\n",
      "18/18 [==============================] - 0s 11ms/step - loss: 641.4948 - I_like: 0.3209 - val_loss: 650.2874 - val_I_like: 0.2785\n",
      "Epoch 50/1000\n",
      "18/18 [==============================] - 0s 12ms/step - loss: 640.9241 - I_like: 0.3242 - val_loss: 626.8372 - val_I_like: 0.3183\n",
      "Epoch 51/1000\n",
      "18/18 [==============================] - 0s 10ms/step - loss: 635.2786 - I_like: 0.3335 - val_loss: 639.1220 - val_I_like: 0.2988\n",
      "Epoch 52/1000\n",
      "18/18 [==============================] - 0s 10ms/step - loss: 634.7293 - I_like: 0.3336 - val_loss: 625.7393 - val_I_like: 0.3188\n",
      "Epoch 53/1000\n",
      "18/18 [==============================] - 0s 10ms/step - loss: 632.8636 - I_like: 0.3325 - val_loss: 631.7254 - val_I_like: 0.3106\n",
      "Epoch 54/1000\n",
      "18/18 [==============================] - 0s 10ms/step - loss: 634.8734 - I_like: 0.3333 - val_loss: 630.5848 - val_I_like: 0.3103\n",
      "Epoch 55/1000\n",
      "18/18 [==============================] - 0s 13ms/step - loss: 631.7332 - I_like: 0.3356 - val_loss: 633.1551 - val_I_like: 0.3098\n",
      "Epoch 56/1000\n",
      "18/18 [==============================] - 0s 10ms/step - loss: 630.1937 - I_like: 0.3392 - val_loss: 627.3945 - val_I_like: 0.3162\n",
      "Epoch 57/1000\n",
      "18/18 [==============================] - 0s 9ms/step - loss: 629.8670 - I_like: 0.3373 - val_loss: 631.4991 - val_I_like: 0.3067\n",
      "Epoch 58/1000\n",
      "18/18 [==============================] - 0s 9ms/step - loss: 633.8056 - I_like: 0.3324 - val_loss: 633.9958 - val_I_like: 0.3069\n",
      "Epoch 59/1000\n",
      "18/18 [==============================] - 0s 9ms/step - loss: 631.7358 - I_like: 0.3357 - val_loss: 624.1279 - val_I_like: 0.3208\n",
      "Epoch 60/1000\n",
      "18/18 [==============================] - 0s 9ms/step - loss: 633.4068 - I_like: 0.3307 - val_loss: 627.6677 - val_I_like: 0.3171\n",
      "Epoch 61/1000\n",
      "18/18 [==============================] - 0s 9ms/step - loss: 630.8535 - I_like: 0.3369 - val_loss: 624.1930 - val_I_like: 0.3187\n",
      "Epoch 62/1000\n",
      "18/18 [==============================] - 0s 10ms/step - loss: 631.5593 - I_like: 0.3407 - val_loss: 626.9443 - val_I_like: 0.3165\n",
      "Epoch 63/1000\n",
      "18/18 [==============================] - 0s 9ms/step - loss: 628.5927 - I_like: 0.3422 - val_loss: 623.4651 - val_I_like: 0.3195\n",
      "Epoch 64/1000\n",
      "18/18 [==============================] - 0s 10ms/step - loss: 626.1736 - I_like: 0.3407 - val_loss: 625.9435 - val_I_like: 0.3180\n",
      "Epoch 65/1000\n",
      "18/18 [==============================] - 0s 9ms/step - loss: 626.5328 - I_like: 0.3415 - val_loss: 627.1470 - val_I_like: 0.3129\n",
      "Epoch 66/1000\n",
      "18/18 [==============================] - 0s 9ms/step - loss: 628.8127 - I_like: 0.3424 - val_loss: 625.4308 - val_I_like: 0.3185\n",
      "Epoch 67/1000\n",
      "18/18 [==============================] - 0s 10ms/step - loss: 627.3408 - I_like: 0.3438 - val_loss: 628.9333 - val_I_like: 0.3123\n",
      "Epoch 68/1000\n",
      "18/18 [==============================] - 0s 11ms/step - loss: 626.8133 - I_like: 0.3420 - val_loss: 619.7227 - val_I_like: 0.3251\n",
      "Epoch 69/1000\n",
      "18/18 [==============================] - 0s 10ms/step - loss: 628.9254 - I_like: 0.3455 - val_loss: 627.6578 - val_I_like: 0.3143\n",
      "Epoch 70/1000\n",
      "18/18 [==============================] - 0s 10ms/step - loss: 626.3005 - I_like: 0.3417 - val_loss: 619.2559 - val_I_like: 0.3276\n",
      "Epoch 71/1000\n",
      "18/18 [==============================] - 0s 9ms/step - loss: 628.9414 - I_like: 0.3405 - val_loss: 634.1008 - val_I_like: 0.3005\n",
      "Epoch 72/1000\n",
      "18/18 [==============================] - 0s 11ms/step - loss: 628.0843 - I_like: 0.3424 - val_loss: 630.0641 - val_I_like: 0.3104\n",
      "Epoch 73/1000\n",
      "18/18 [==============================] - 0s 9ms/step - loss: 626.1515 - I_like: 0.3480 - val_loss: 620.2994 - val_I_like: 0.3258\n",
      "Epoch 74/1000\n",
      "18/18 [==============================] - 0s 9ms/step - loss: 625.3278 - I_like: 0.3463 - val_loss: 634.6996 - val_I_like: 0.3029\n",
      "Epoch 75/1000\n",
      "18/18 [==============================] - 0s 9ms/step - loss: 627.6492 - I_like: 0.3444 - val_loss: 623.1608 - val_I_like: 0.3197\n",
      "Epoch 76/1000\n",
      "18/18 [==============================] - 0s 10ms/step - loss: 628.2589 - I_like: 0.3425 - val_loss: 622.2238 - val_I_like: 0.3242\n",
      "Epoch 77/1000\n",
      "18/18 [==============================] - 0s 10ms/step - loss: 628.5317 - I_like: 0.3433 - val_loss: 621.0568 - val_I_like: 0.3262\n",
      "Epoch 78/1000\n",
      "18/18 [==============================] - 0s 10ms/step - loss: 626.5340 - I_like: 0.3446 - val_loss: 624.4006 - val_I_like: 0.3151\n",
      "Epoch 79/1000\n",
      "18/18 [==============================] - 0s 9ms/step - loss: 623.4060 - I_like: 0.3437 - val_loss: 627.4303 - val_I_like: 0.3167\n",
      "Epoch 80/1000\n",
      "18/18 [==============================] - 0s 9ms/step - loss: 625.1525 - I_like: 0.3474 - val_loss: 620.4718 - val_I_like: 0.3255\n",
      "Epoch 81/1000\n",
      "18/18 [==============================] - 0s 10ms/step - loss: 627.3951 - I_like: 0.3469 - val_loss: 622.9873 - val_I_like: 0.3220\n",
      "Epoch 82/1000\n",
      "18/18 [==============================] - 0s 11ms/step - loss: 624.9605 - I_like: 0.3445 - val_loss: 619.3702 - val_I_like: 0.3271\n",
      "Epoch 83/1000\n",
      "18/18 [==============================] - 0s 10ms/step - loss: 625.6038 - I_like: 0.3473 - val_loss: 616.6936 - val_I_like: 0.3310\n",
      "Epoch 84/1000\n",
      "18/18 [==============================] - 0s 10ms/step - loss: 629.0226 - I_like: 0.3404 - val_loss: 630.6835 - val_I_like: 0.3109\n",
      "Epoch 85/1000\n",
      "18/18 [==============================] - 0s 9ms/step - loss: 627.5647 - I_like: 0.3418 - val_loss: 626.1624 - val_I_like: 0.3159\n",
      "Epoch 86/1000\n",
      "18/18 [==============================] - 0s 10ms/step - loss: 628.2056 - I_like: 0.3435 - val_loss: 618.6270 - val_I_like: 0.3262\n",
      "Epoch 87/1000\n",
      "18/18 [==============================] - 0s 10ms/step - loss: 626.6876 - I_like: 0.3460 - val_loss: 624.8207 - val_I_like: 0.3193\n",
      "Epoch 88/1000\n",
      "18/18 [==============================] - 0s 10ms/step - loss: 627.6928 - I_like: 0.3414 - val_loss: 621.2610 - val_I_like: 0.3239\n",
      "Epoch 89/1000\n",
      "18/18 [==============================] - 0s 10ms/step - loss: 627.0610 - I_like: 0.3449 - val_loss: 626.8305 - val_I_like: 0.3173\n",
      "Epoch 90/1000\n",
      "18/18 [==============================] - 0s 10ms/step - loss: 626.7562 - I_like: 0.3437 - val_loss: 623.5547 - val_I_like: 0.3197\n",
      "Epoch 91/1000\n",
      "18/18 [==============================] - 0s 9ms/step - loss: 624.5509 - I_like: 0.3450 - val_loss: 621.1770 - val_I_like: 0.3249\n",
      "Epoch 92/1000\n",
      "18/18 [==============================] - 0s 9ms/step - loss: 623.8503 - I_like: 0.3464 - val_loss: 625.3411 - val_I_like: 0.3175\n",
      "Epoch 93/1000\n",
      "18/18 [==============================] - 0s 10ms/step - loss: 625.3235 - I_like: 0.3439 - val_loss: 623.1611 - val_I_like: 0.3200\n",
      "Epoch 94/1000\n",
      "18/18 [==============================] - 0s 10ms/step - loss: 623.1097 - I_like: 0.3471 - val_loss: 632.8961 - val_I_like: 0.3041\n",
      "Epoch 95/1000\n",
      "18/18 [==============================] - 0s 9ms/step - loss: 623.4972 - I_like: 0.3463 - val_loss: 623.7496 - val_I_like: 0.3180\n",
      "Epoch 96/1000\n",
      "18/18 [==============================] - 0s 9ms/step - loss: 623.7076 - I_like: 0.3474 - val_loss: 620.9724 - val_I_like: 0.3239\n",
      "Epoch 97/1000\n",
      "18/18 [==============================] - 0s 10ms/step - loss: 624.8392 - I_like: 0.3485 - val_loss: 616.1960 - val_I_like: 0.3311\n",
      "Epoch 98/1000\n",
      "18/18 [==============================] - 0s 9ms/step - loss: 624.7770 - I_like: 0.3480 - val_loss: 615.9702 - val_I_like: 0.3322\n",
      "Epoch 99/1000\n",
      "18/18 [==============================] - 0s 10ms/step - loss: 628.2648 - I_like: 0.3402 - val_loss: 634.5249 - val_I_like: 0.3004\n",
      "Epoch 100/1000\n",
      "18/18 [==============================] - 0s 10ms/step - loss: 626.6276 - I_like: 0.3426 - val_loss: 626.3447 - val_I_like: 0.3119\n",
      "Epoch 101/1000\n",
      "18/18 [==============================] - 0s 10ms/step - loss: 628.9362 - I_like: 0.3413 - val_loss: 628.1658 - val_I_like: 0.3151\n",
      "Epoch 102/1000\n",
      "18/18 [==============================] - 0s 9ms/step - loss: 630.9765 - I_like: 0.3400 - val_loss: 628.9280 - val_I_like: 0.3118\n",
      "Epoch 103/1000\n",
      "18/18 [==============================] - 0s 11ms/step - loss: 623.3763 - I_like: 0.3481 - val_loss: 619.1289 - val_I_like: 0.3275\n",
      "Epoch 104/1000\n",
      "18/18 [==============================] - 0s 10ms/step - loss: 624.9943 - I_like: 0.3465 - val_loss: 619.9287 - val_I_like: 0.3253\n",
      "Epoch 105/1000\n"
     ]
    },
    {
     "name": "stdout",
     "output_type": "stream",
     "text": [
      "18/18 [==============================] - 0s 10ms/step - loss: 625.4981 - I_like: 0.3463 - val_loss: 621.3399 - val_I_like: 0.3258\n",
      "Epoch 106/1000\n",
      "18/18 [==============================] - 0s 10ms/step - loss: 628.5577 - I_like: 0.3401 - val_loss: 627.6449 - val_I_like: 0.3102\n",
      "Epoch 107/1000\n",
      "18/18 [==============================] - 0s 9ms/step - loss: 624.9878 - I_like: 0.3457 - val_loss: 617.2678 - val_I_like: 0.3307\n",
      "Epoch 108/1000\n",
      "18/18 [==============================] - 0s 9ms/step - loss: 626.5300 - I_like: 0.3440 - val_loss: 622.0731 - val_I_like: 0.3202\n",
      "Epoch 109/1000\n",
      "18/18 [==============================] - 0s 9ms/step - loss: 624.5829 - I_like: 0.3464 - val_loss: 630.8738 - val_I_like: 0.3100\n",
      "Epoch 110/1000\n",
      "18/18 [==============================] - 0s 9ms/step - loss: 624.9764 - I_like: 0.3499 - val_loss: 616.0150 - val_I_like: 0.3329\n",
      "Epoch 111/1000\n",
      "18/18 [==============================] - 0s 9ms/step - loss: 623.0942 - I_like: 0.3511 - val_loss: 624.5077 - val_I_like: 0.3182\n",
      "Epoch 112/1000\n",
      "18/18 [==============================] - 0s 9ms/step - loss: 622.5483 - I_like: 0.3495 - val_loss: 617.5994 - val_I_like: 0.3291\n",
      "Epoch 113/1000\n",
      "18/18 [==============================] - 0s 9ms/step - loss: 625.2930 - I_like: 0.3402 - val_loss: 629.4100 - val_I_like: 0.3113\n",
      "Epoch 114/1000\n",
      "18/18 [==============================] - 0s 9ms/step - loss: 625.8157 - I_like: 0.3432 - val_loss: 620.2573 - val_I_like: 0.3245\n",
      "Epoch 115/1000\n",
      "18/18 [==============================] - 0s 9ms/step - loss: 623.7406 - I_like: 0.3501 - val_loss: 620.1271 - val_I_like: 0.3244\n",
      "Epoch 116/1000\n",
      "18/18 [==============================] - 0s 9ms/step - loss: 623.8651 - I_like: 0.3490 - val_loss: 624.8616 - val_I_like: 0.3160\n",
      "Epoch 117/1000\n",
      "18/18 [==============================] - 0s 9ms/step - loss: 622.0590 - I_like: 0.3463 - val_loss: 620.8802 - val_I_like: 0.3240\n",
      "Epoch 118/1000\n",
      "18/18 [==============================] - 0s 9ms/step - loss: 623.4332 - I_like: 0.3490 - val_loss: 617.6586 - val_I_like: 0.3274\n",
      "Epoch 119/1000\n",
      "18/18 [==============================] - 0s 9ms/step - loss: 622.3984 - I_like: 0.3450 - val_loss: 619.3909 - val_I_like: 0.3273\n",
      "Epoch 120/1000\n",
      "18/18 [==============================] - 0s 9ms/step - loss: 625.8870 - I_like: 0.3491 - val_loss: 619.7100 - val_I_like: 0.3266\n",
      "Epoch 121/1000\n",
      "18/18 [==============================] - 0s 11ms/step - loss: 625.4218 - I_like: 0.3497 - val_loss: 625.2117 - val_I_like: 0.3175\n",
      "Epoch 122/1000\n",
      "18/18 [==============================] - 0s 11ms/step - loss: 623.8799 - I_like: 0.3484 - val_loss: 619.7324 - val_I_like: 0.3262\n",
      "Epoch 123/1000\n",
      "18/18 [==============================] - 0s 9ms/step - loss: 623.7989 - I_like: 0.3483 - val_loss: 619.0134 - val_I_like: 0.3270\n",
      "Epoch 124/1000\n",
      "18/18 [==============================] - 0s 9ms/step - loss: 621.6182 - I_like: 0.3501 - val_loss: 619.7080 - val_I_like: 0.3267\n",
      "Epoch 125/1000\n",
      "18/18 [==============================] - 0s 9ms/step - loss: 625.2734 - I_like: 0.3443 - val_loss: 638.4508 - val_I_like: 0.2993\n",
      "Epoch 126/1000\n",
      "18/18 [==============================] - 0s 9ms/step - loss: 625.8916 - I_like: 0.3438 - val_loss: 622.2153 - val_I_like: 0.3211\n",
      "Epoch 127/1000\n",
      "18/18 [==============================] - 0s 9ms/step - loss: 623.8947 - I_like: 0.3526 - val_loss: 619.6987 - val_I_like: 0.3268\n",
      "Epoch 128/1000\n",
      "18/18 [==============================] - 0s 9ms/step - loss: 623.8379 - I_like: 0.3502 - val_loss: 621.5190 - val_I_like: 0.3226\n",
      "Training time: 27.6 seconds\n"
     ]
    }
   ],
   "source": [
    "# Fit model to data\n",
    "history = model.fit(learning_rate=.005,\n",
    "                    epochs=1000,\n",
    "                    batch_size=1000,\n",
    "                    early_stopping=True,\n",
    "                    early_stopping_patience=30)"
   ]
  },
  {
   "cell_type": "code",
   "execution_count": 7,
   "metadata": {},
   "outputs": [
    {
     "name": "stdout",
     "output_type": "stream",
     "text": [
      "Model saved to these files:\n",
      "\tmpsa_ge_pairwise.pickle\n",
      "\tmpsa_ge_pairwise.h5\n"
     ]
    }
   ],
   "source": [
    "# Save model\n",
    "model.save('mpsa_ge_pairwise')"
   ]
  },
  {
   "cell_type": "code",
   "execution_count": 8,
   "metadata": {
    "scrolled": true
   },
   "outputs": [
    {
     "name": "stdout",
     "output_type": "stream",
     "text": [
      "Model loaded from these files:\n",
      "\tmpsa_ge_pairwise.pickle\n",
      "\tmpsa_ge_pairwise.h5\n"
     ]
    }
   ],
   "source": [
    "# Load model\n",
    "model = mavenn.load('mpsa_ge_pairwise')"
   ]
  },
  {
   "cell_type": "code",
   "execution_count": 9,
   "metadata": {},
   "outputs": [],
   "source": [
    "# Get x and y\n",
    "x_test = test_df['x'].values\n",
    "y_test = test_df['y'].values"
   ]
  },
  {
   "cell_type": "code",
   "execution_count": 10,
   "metadata": {},
   "outputs": [
    {
     "data": {
      "image/png": "[encoded data removed]",
      "text/plain": [
       "<Figure size 288x288 with 1 Axes>"
      ]
     },
     "metadata": {
      "needs_background": "light"
     },
     "output_type": "display_data"
    }
   ],
   "source": [
    "# Predict latent phentoype values (phi) on test data\n",
    "phi_test = model.x_to_phi(x_test)\n",
    "\n",
    "# Predict measurement values (yhat) on test data\n",
    "yhat_test = model.x_to_yhat(x_test)\n",
    "\n",
    "# Set phi lims and create grid in phi space\n",
    "phi_lim = [min(phi_test)-.5, max(phi_test)+.5]\n",
    "phi_grid = np.linspace(phi_lim[0], phi_lim[1], 1000)\n",
    "\n",
    "# Compute yhat each phi gridpoint\n",
    "yhat_grid = model.phi_to_yhat(phi_grid)\n",
    "\n",
    "# Compute 90% CI for each yhat\n",
    "q = [0.05, 0.95] #[0.16, 0.84]\n",
    "yqs_grid = model.yhat_to_yq(yhat_grid, q=q)\n",
    "\n",
    "# Create figure\n",
    "fig, ax = plt.subplots(1, 1, figsize=[4, 4])\n",
    "\n",
    "# Illustrate measurement process with GE curve\n",
    "ax.scatter(phi_test, y_test, color='C0', s=5, alpha=.2, label='test data')\n",
    "ax.plot(phi_grid, yhat_grid, linewidth=2, color='C1',\n",
    "        label='$\\hat{y} = g(\\phi)$')\n",
    "ax.plot(phi_grid, yqs_grid[:, 0], linestyle='--', color='C1', label='68% CI')\n",
    "ax.plot(phi_grid, yqs_grid[:, 1], linestyle='--', color='C1')\n",
    "ax.set_xlim(phi_lim)\n",
    "ax.set_xlabel('latent phenotype ($\\phi$)')\n",
    "ax.set_ylabel('measurement ($y$)')\n",
    "ax.set_title('measurement process')\n",
    "ax.legend()\n",
    "\n",
    "# Fix up plot\n",
    "fig.tight_layout()\n",
    "plt.show()"
   ]
  },
  {
   "cell_type": "code",
   "execution_count": 11,
   "metadata": {},
   "outputs": [
    {
     "data": {
      "image/png": "[encoded data removed]",
      "text/plain": [
       "<Figure size 576x288 with 2 Axes>"
      ]
     },
     "metadata": {
      "needs_background": "light"
     },
     "output_type": "display_data"
    }
   ],
   "source": [
    "# Plot pairwise parameters\n",
    "theta_dict = model.get_theta(gauge=\"uniform\")\n",
    "fig, ax = plt.subplots(1, 1, figsize=[8, 4])\n",
    "mavenn.heatmap_pairwise(theta_dict['theta_lclc'], \n",
    "                        alphabet=theta_dict['alphabet'],\n",
    "                        ax=ax);"
   ]
  },
  {
   "cell_type": "code",
   "execution_count": null,
   "metadata": {},
   "outputs": [],
   "source": []
  }
 ],
 "metadata": {
  "kernelspec": {
   "display_name": "Python 3",
   "language": "python",
   "name": "python3"
  },
  "language_info": {
   "codemirror_mode": {
    "name": "ipython",
    "version": 3
   },
   "file_extension": ".py",
   "mimetype": "text/x-python",
   "name": "python",
   "nbconvert_exporter": "python",
   "pygments_lexer": "ipython3",
   "version": "3.7.4"
  }
 },
 "nbformat": 4,
 "nbformat_minor": 2
}
