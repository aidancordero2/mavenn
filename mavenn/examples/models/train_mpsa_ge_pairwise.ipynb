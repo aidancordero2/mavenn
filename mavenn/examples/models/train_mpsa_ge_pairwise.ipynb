{
 "cells": [
  {
   "cell_type": "code",
   "execution_count": 1,
   "metadata": {},
   "outputs": [
    {
     "name": "stdout",
     "output_type": "stream",
     "text": [
      "['/Users/jkinney/github/mavenn/mavenn']\n"
     ]
    }
   ],
   "source": [
    "# Standard imports\n",
    "import pandas as pd\n",
    "import matplotlib.pyplot as plt\n",
    "import numpy as np\n",
    "import time\n",
    "\n",
    "# Insert path to mavenn beginning of path\n",
    "import os\n",
    "import sys\n",
    "abs_path_to_mavenn = os.path.abspath('../../../')\n",
    "sys.path.insert(0, abs_path_to_mavenn)\n",
    "\n",
    "# Load mavenn\n",
    "import mavenn\n",
    "print(mavenn.__path__)"
   ]
  },
  {
   "cell_type": "code",
   "execution_count": 12,
   "metadata": {},
   "outputs": [
    {
     "data": {
      "text/html": [
       "<div>\n",
       "<style scoped>\n",
       "    .dataframe tbody tr th:only-of-type {\n",
       "        vertical-align: middle;\n",
       "    }\n",
       "\n",
       "    .dataframe tbody tr th {\n",
       "        vertical-align: top;\n",
       "    }\n",
       "\n",
       "    .dataframe thead th {\n",
       "        text-align: right;\n",
       "    }\n",
       "</style>\n",
       "<table border=\"1\" class=\"dataframe\">\n",
       "  <thead>\n",
       "    <tr style=\"text-align: right;\">\n",
       "      <th></th>\n",
       "      <th>training_set</th>\n",
       "      <th>y</th>\n",
       "      <th>dy</th>\n",
       "      <th>x</th>\n",
       "    </tr>\n",
       "  </thead>\n",
       "  <tbody>\n",
       "    <tr>\n",
       "      <th>0</th>\n",
       "      <td>False</td>\n",
       "      <td>-3.751854</td>\n",
       "      <td>0.444200</td>\n",
       "      <td>AAAGCAAAA</td>\n",
       "    </tr>\n",
       "    <tr>\n",
       "      <th>1</th>\n",
       "      <td>True</td>\n",
       "      <td>-2.697741</td>\n",
       "      <td>0.369972</td>\n",
       "      <td>AAAGCAAAC</td>\n",
       "    </tr>\n",
       "    <tr>\n",
       "      <th>2</th>\n",
       "      <td>True</td>\n",
       "      <td>-2.242947</td>\n",
       "      <td>0.575121</td>\n",
       "      <td>AAAGCAAAG</td>\n",
       "    </tr>\n",
       "    <tr>\n",
       "      <th>3</th>\n",
       "      <td>False</td>\n",
       "      <td>-3.067251</td>\n",
       "      <td>0.357014</td>\n",
       "      <td>AAAGCAAAT</td>\n",
       "    </tr>\n",
       "    <tr>\n",
       "      <th>4</th>\n",
       "      <td>False</td>\n",
       "      <td>-2.987074</td>\n",
       "      <td>0.472637</td>\n",
       "      <td>AAAGCAACA</td>\n",
       "    </tr>\n",
       "  </tbody>\n",
       "</table>\n",
       "</div>"
      ],
      "text/plain": [
       "   training_set         y        dy          x\n",
       "0         False -3.751854  0.444200  AAAGCAAAA\n",
       "1          True -2.697741  0.369972  AAAGCAAAC\n",
       "2          True -2.242947  0.575121  AAAGCAAAG\n",
       "3         False -3.067251  0.357014  AAAGCAAAT\n",
       "4         False -2.987074  0.472637  AAAGCAACA"
      ]
     },
     "execution_count": 12,
     "metadata": {},
     "output_type": "execute_result"
    }
   ],
   "source": [
    "# Load example data\n",
    "data_df = mavenn.load_example_dataset('mpsa')\n",
    "data_df.head()"
   ]
  },
  {
   "cell_type": "code",
   "execution_count": 13,
   "metadata": {},
   "outputs": [
    {
     "name": "stdout",
     "output_type": "stream",
     "text": [
      "training N: 17,498\n",
      "testing N: 4,431\n"
     ]
    }
   ],
   "source": [
    "# Split into trianing and test data\n",
    "ix = data_df['training_set']\n",
    "L = len(data_df['x'][0])\n",
    "train_df = data_df[ix]\n",
    "print(f'training N: {len(train_df):,}')\n",
    "test_df = data_df[~ix]\n",
    "print(f'testing N: {len(test_df):,}')"
   ]
  },
  {
   "cell_type": "code",
   "execution_count": 4,
   "metadata": {},
   "outputs": [],
   "source": [
    "# Set seeed\n",
    "mavenn.set_seed(0)\n",
    "\n",
    "# Define model\n",
    "model = mavenn.Model(regression_type='GE',\n",
    "                     L=L,\n",
    "                     alphabet='dna',\n",
    "                     gpmap_type='pairwise',                     \n",
    "                     ge_noise_model_type='SkewedT',\n",
    "                     ge_heteroskedasticity_order=2)\n"
   ]
  },
  {
   "cell_type": "code",
   "execution_count": 5,
   "metadata": {},
   "outputs": [
    {
     "name": "stdout",
     "output_type": "stream",
     "text": [
      "N = 17,498 observations set as training data.\n",
      "Data shuffled.\n",
      "Time to set data: 0.366 sec.\n"
     ]
    }
   ],
   "source": [
    "# Set training data\n",
    "model.set_data(x=train_df['x'],\n",
    "               y=train_df['y'],\n",
    "               shuffle=True)"
   ]
  },
  {
   "cell_type": "code",
   "execution_count": 6,
   "metadata": {
    "scrolled": true
   },
   "outputs": [
    {
     "name": "stdout",
     "output_type": "stream",
     "text": [
      " \n",
      "LSMR            Least-squares solution of  Ax = b\n",
      "\n",
      "The matrix A has    17498 rows  and       36 cols\n",
      "damp = 0.00000000000000e+00\n",
      "\n",
      "atol = 1.00e-06                 conlim = 1.00e+08\n",
      "\n",
      "btol = 1.00e-06             maxiter =       36\n",
      "\n",
      " \n",
      "   itn      x(1)       norm r    norm Ar  compatible   LS      norm A   cond A\n",
      "     0  0.00000e+00  1.323e+02  4.299e+03   1.0e+00  2.5e-01\n",
      "     1  2.19200e-02  1.200e+02  1.397e+03   9.1e-01  1.5e-01  7.7e+01  1.0e+00\n",
      "     2  2.59784e-02  1.186e+02  7.118e+02   9.0e-01  5.2e-02  1.1e+02  1.1e+00\n",
      "     3  2.96533e-02  1.184e+02  2.279e+02   9.0e-01  7.5e-03  2.6e+02  2.4e+00\n",
      "     4  3.10860e-02  1.183e+02  5.410e+01   8.9e-01  1.7e-03  2.7e+02  3.1e+00\n",
      "     5  3.20917e-02  1.183e+02  1.251e+01   8.9e-01  3.7e-04  2.8e+02  3.4e+00\n",
      "     6  3.22692e-02  1.183e+02  1.248e+00   8.9e-01  3.7e-05  2.9e+02  3.5e+00\n",
      "     7  3.22536e-02  1.183e+02  2.542e-01   8.9e-01  7.2e-06  3.0e+02  3.5e+00\n",
      "     8  3.22424e-02  1.183e+02  6.790e-02   8.9e-01  1.9e-06  3.0e+02  3.5e+00\n",
      "     9  3.22416e-02  1.183e+02  1.024e-02   8.9e-01  2.8e-07  3.1e+02  3.5e+00\n",
      " \n",
      "LSMR finished\n",
      "The least-squares solution is good enough, given atol     \n",
      "istop =       2    normr = 1.2e+02\n",
      "    normA = 3.1e+02    normAr = 1.0e-02\n",
      "itn   =       9    condA = 3.5e+00\n",
      "    normx = 8.5e-01\n",
      "     9  3.22416e-02   1.183e+02  1.024e-02\n",
      "   8.9e-01  2.8e-07   3.1e+02  3.5e+00\n",
      "Linear regression time: 0.0364 sec\n",
      "Epoch 1/1000\n",
      "70/70 [==============================] - 1s 10ms/step - loss: 231.3641 - I_like: -0.3840 - val_loss: 193.2534 - val_I_like: -0.1322\n",
      "Epoch 2/1000\n",
      "70/70 [==============================] - 0s 6ms/step - loss: 181.4127 - I_like: -0.0319 - val_loss: 162.8758 - val_I_like: 0.0858\n",
      "Epoch 3/1000\n",
      "70/70 [==============================] - 0s 5ms/step - loss: 160.3654 - I_like: 0.1193 - val_loss: 153.3323 - val_I_like: 0.1552\n",
      "Epoch 4/1000\n",
      "70/70 [==============================] - 0s 5ms/step - loss: 154.3996 - I_like: 0.1612 - val_loss: 150.8741 - val_I_like: 0.1723\n",
      "Epoch 5/1000\n",
      "70/70 [==============================] - 0s 3ms/step - loss: 152.1857 - I_like: 0.1768 - val_loss: 148.6830 - val_I_like: 0.1880\n",
      "Epoch 6/1000\n",
      "70/70 [==============================] - 0s 3ms/step - loss: 151.2848 - I_like: 0.1832 - val_loss: 148.5081 - val_I_like: 0.1891\n",
      "Epoch 7/1000\n",
      "70/70 [==============================] - 0s 5ms/step - loss: 150.5058 - I_like: 0.1891 - val_loss: 147.8212 - val_I_like: 0.1945\n",
      "Epoch 8/1000\n",
      "70/70 [==============================] - 0s 6ms/step - loss: 149.7773 - I_like: 0.1948 - val_loss: 148.1888 - val_I_like: 0.1908\n",
      "Epoch 9/1000\n",
      "70/70 [==============================] - 0s 4ms/step - loss: 149.0610 - I_like: 0.2004 - val_loss: 147.8744 - val_I_like: 0.1943\n",
      "Epoch 10/1000\n",
      "70/70 [==============================] - 0s 4ms/step - loss: 148.8076 - I_like: 0.2024 - val_loss: 147.8637 - val_I_like: 0.1946\n",
      "Epoch 11/1000\n",
      "70/70 [==============================] - 0s 4ms/step - loss: 148.2688 - I_like: 0.2069 - val_loss: 147.4875 - val_I_like: 0.1979\n",
      "Epoch 12/1000\n",
      "70/70 [==============================] - 0s 6ms/step - loss: 148.2490 - I_like: 0.2075 - val_loss: 146.1182 - val_I_like: 0.2076\n",
      "Epoch 13/1000\n",
      "70/70 [==============================] - 1s 7ms/step - loss: 147.3561 - I_like: 0.2140 - val_loss: 146.4642 - val_I_like: 0.2049\n",
      "Epoch 14/1000\n",
      "70/70 [==============================] - 0s 5ms/step - loss: 146.8459 - I_like: 0.2182 - val_loss: 145.5653 - val_I_like: 0.2122\n",
      "Epoch 15/1000\n",
      "70/70 [==============================] - 0s 4ms/step - loss: 146.2802 - I_like: 0.2228 - val_loss: 145.8592 - val_I_like: 0.2099\n",
      "Epoch 16/1000\n",
      "70/70 [==============================] - 0s 5ms/step - loss: 146.3075 - I_like: 0.2228 - val_loss: 143.9739 - val_I_like: 0.2244\n",
      "Epoch 17/1000\n",
      "70/70 [==============================] - 0s 6ms/step - loss: 145.5961 - I_like: 0.2285 - val_loss: 144.2265 - val_I_like: 0.2229\n",
      "Epoch 18/1000\n",
      "70/70 [==============================] - 0s 6ms/step - loss: 145.4378 - I_like: 0.2301 - val_loss: 143.5526 - val_I_like: 0.2277\n",
      "Epoch 19/1000\n",
      "70/70 [==============================] - 0s 5ms/step - loss: 144.1777 - I_like: 0.2396 - val_loss: 142.5024 - val_I_like: 0.2357\n",
      "Epoch 20/1000\n",
      "70/70 [==============================] - 0s 5ms/step - loss: 143.5355 - I_like: 0.2447 - val_loss: 143.2443 - val_I_like: 0.2308\n",
      "Epoch 21/1000\n",
      "70/70 [==============================] - 0s 5ms/step - loss: 142.3577 - I_like: 0.2541 - val_loss: 140.5292 - val_I_like: 0.2522\n",
      "Epoch 22/1000\n",
      "70/70 [==============================] - 0s 4ms/step - loss: 141.9672 - I_like: 0.2571 - val_loss: 140.4761 - val_I_like: 0.2509\n",
      "Epoch 23/1000\n",
      "70/70 [==============================] - 0s 4ms/step - loss: 138.6462 - I_like: 0.2808 - val_loss: 136.2732 - val_I_like: 0.2832\n",
      "Epoch 24/1000\n",
      "70/70 [==============================] - 0s 4ms/step - loss: 137.2006 - I_like: 0.2906 - val_loss: 136.4400 - val_I_like: 0.2823\n",
      "Epoch 25/1000\n",
      "70/70 [==============================] - 0s 4ms/step - loss: 135.1893 - I_like: 0.3057 - val_loss: 134.5605 - val_I_like: 0.2941\n",
      "Epoch 26/1000\n",
      "70/70 [==============================] - 0s 4ms/step - loss: 133.8924 - I_like: 0.3154 - val_loss: 135.8132 - val_I_like: 0.2876\n",
      "Epoch 27/1000\n",
      "70/70 [==============================] - 0s 4ms/step - loss: 132.7821 - I_like: 0.3239 - val_loss: 133.5981 - val_I_like: 0.3024\n",
      "Epoch 28/1000\n",
      "70/70 [==============================] - 0s 4ms/step - loss: 133.1087 - I_like: 0.3216 - val_loss: 133.6871 - val_I_like: 0.3021\n",
      "Epoch 29/1000\n",
      "70/70 [==============================] - 0s 4ms/step - loss: 133.0733 - I_like: 0.3220 - val_loss: 133.2517 - val_I_like: 0.3056\n",
      "Epoch 30/1000\n",
      "70/70 [==============================] - 0s 4ms/step - loss: 132.5262 - I_like: 0.3261 - val_loss: 136.0634 - val_I_like: 0.2843\n",
      "Epoch 31/1000\n",
      "70/70 [==============================] - 0s 4ms/step - loss: 131.4431 - I_like: 0.3339 - val_loss: 133.5206 - val_I_like: 0.3033\n",
      "Epoch 32/1000\n",
      "70/70 [==============================] - 0s 4ms/step - loss: 133.4453 - I_like: 0.3198 - val_loss: 134.9971 - val_I_like: 0.2932\n",
      "Epoch 33/1000\n",
      "70/70 [==============================] - 0s 4ms/step - loss: 132.3226 - I_like: 0.3279 - val_loss: 133.8133 - val_I_like: 0.3015\n",
      "Epoch 34/1000\n",
      "70/70 [==============================] - 0s 4ms/step - loss: 133.2197 - I_like: 0.3212 - val_loss: 135.4437 - val_I_like: 0.2902\n",
      "Epoch 35/1000\n",
      "70/70 [==============================] - 0s 4ms/step - loss: 131.8330 - I_like: 0.3313 - val_loss: 132.5880 - val_I_like: 0.3112\n",
      "Epoch 36/1000\n",
      "70/70 [==============================] - 0s 4ms/step - loss: 131.3745 - I_like: 0.3350 - val_loss: 133.9474 - val_I_like: 0.3019\n",
      "Epoch 37/1000\n",
      "70/70 [==============================] - 0s 4ms/step - loss: 131.4517 - I_like: 0.3348 - val_loss: 135.3562 - val_I_like: 0.2913\n",
      "Epoch 38/1000\n",
      "70/70 [==============================] - 0s 4ms/step - loss: 131.6397 - I_like: 0.3334 - val_loss: 135.5244 - val_I_like: 0.2912\n",
      "Epoch 39/1000\n",
      "70/70 [==============================] - 0s 5ms/step - loss: 130.7892 - I_like: 0.3398 - val_loss: 134.8470 - val_I_like: 0.2964\n",
      "Epoch 40/1000\n",
      "70/70 [==============================] - 0s 6ms/step - loss: 131.3079 - I_like: 0.3359 - val_loss: 132.7565 - val_I_like: 0.3118\n",
      "Epoch 41/1000\n",
      "70/70 [==============================] - 0s 6ms/step - loss: 131.2064 - I_like: 0.3368 - val_loss: 136.1171 - val_I_like: 0.2867\n",
      "Epoch 42/1000\n",
      "70/70 [==============================] - 0s 4ms/step - loss: 132.0521 - I_like: 0.3305 - val_loss: 135.2137 - val_I_like: 0.2920\n",
      "Epoch 43/1000\n",
      "70/70 [==============================] - 0s 4ms/step - loss: 130.8937 - I_like: 0.3390 - val_loss: 137.1549 - val_I_like: 0.2802\n",
      "Epoch 44/1000\n",
      "70/70 [==============================] - 0s 4ms/step - loss: 131.2591 - I_like: 0.3364 - val_loss: 136.0424 - val_I_like: 0.2878\n",
      "Epoch 45/1000\n",
      "70/70 [==============================] - 0s 4ms/step - loss: 132.0627 - I_like: 0.3307 - val_loss: 134.2895 - val_I_like: 0.2995\n",
      "Epoch 46/1000\n",
      "70/70 [==============================] - 0s 7ms/step - loss: 131.4587 - I_like: 0.3351 - val_loss: 135.4536 - val_I_like: 0.2927\n",
      "Epoch 47/1000\n",
      "70/70 [==============================] - 0s 4ms/step - loss: 131.2595 - I_like: 0.3367 - val_loss: 132.5026 - val_I_like: 0.3125\n",
      "Epoch 48/1000\n",
      "70/70 [==============================] - 0s 4ms/step - loss: 130.6706 - I_like: 0.3410 - val_loss: 133.0308 - val_I_like: 0.3093\n",
      "Epoch 49/1000\n",
      "70/70 [==============================] - 0s 3ms/step - loss: 130.7229 - I_like: 0.3407 - val_loss: 135.7702 - val_I_like: 0.2903\n",
      "Epoch 50/1000\n",
      "70/70 [==============================] - 0s 4ms/step - loss: 130.8497 - I_like: 0.3396 - val_loss: 132.2806 - val_I_like: 0.3150\n",
      "Epoch 51/1000\n",
      "70/70 [==============================] - 0s 3ms/step - loss: 130.1700 - I_like: 0.3449 - val_loss: 136.9941 - val_I_like: 0.2828\n",
      "Epoch 52/1000\n",
      "70/70 [==============================] - 0s 3ms/step - loss: 131.0954 - I_like: 0.3383 - val_loss: 133.9787 - val_I_like: 0.3036\n",
      "Epoch 53/1000\n",
      "70/70 [==============================] - 0s 4ms/step - loss: 131.3468 - I_like: 0.3363 - val_loss: 132.7787 - val_I_like: 0.3121\n",
      "Epoch 54/1000\n",
      "70/70 [==============================] - 0s 4ms/step - loss: 130.1104 - I_like: 0.3454 - val_loss: 135.4109 - val_I_like: 0.2913\n",
      "Epoch 55/1000\n",
      "70/70 [==============================] - 0s 4ms/step - loss: 130.5291 - I_like: 0.3425 - val_loss: 140.3446 - val_I_like: 0.2570\n",
      "Epoch 56/1000\n",
      "70/70 [==============================] - 0s 3ms/step - loss: 131.1674 - I_like: 0.3377 - val_loss: 133.2299 - val_I_like: 0.3079\n",
      "Epoch 57/1000\n",
      "70/70 [==============================] - 0s 4ms/step - loss: 131.2682 - I_like: 0.3369 - val_loss: 134.6636 - val_I_like: 0.2983\n",
      "Epoch 58/1000\n",
      "70/70 [==============================] - 0s 4ms/step - loss: 130.7263 - I_like: 0.3410 - val_loss: 137.1755 - val_I_like: 0.2807\n",
      "Epoch 59/1000\n",
      "70/70 [==============================] - 0s 4ms/step - loss: 130.7873 - I_like: 0.3403 - val_loss: 132.7732 - val_I_like: 0.3112\n",
      "Epoch 60/1000\n",
      "70/70 [==============================] - 0s 4ms/step - loss: 130.6086 - I_like: 0.3416 - val_loss: 133.0600 - val_I_like: 0.3094\n",
      "Epoch 61/1000\n",
      "70/70 [==============================] - 0s 4ms/step - loss: 130.4301 - I_like: 0.3430 - val_loss: 133.7256 - val_I_like: 0.3051\n",
      "Epoch 62/1000\n",
      "70/70 [==============================] - 0s 5ms/step - loss: 130.1238 - I_like: 0.3452 - val_loss: 139.3027 - val_I_like: 0.2655\n",
      "Epoch 63/1000\n",
      "70/70 [==============================] - 0s 4ms/step - loss: 131.5040 - I_like: 0.3353 - val_loss: 133.7459 - val_I_like: 0.3049\n",
      "Epoch 64/1000\n",
      "70/70 [==============================] - 0s 4ms/step - loss: 130.9827 - I_like: 0.3391 - val_loss: 135.4177 - val_I_like: 0.2923\n",
      "Epoch 65/1000\n",
      "70/70 [==============================] - 0s 3ms/step - loss: 130.6761 - I_like: 0.3413 - val_loss: 133.8325 - val_I_like: 0.3026\n",
      "Epoch 66/1000\n",
      "70/70 [==============================] - 0s 3ms/step - loss: 131.0790 - I_like: 0.3381 - val_loss: 133.0788 - val_I_like: 0.3086\n",
      "Epoch 67/1000\n",
      "70/70 [==============================] - 0s 3ms/step - loss: 130.4036 - I_like: 0.3430 - val_loss: 134.7454 - val_I_like: 0.2972\n",
      "Epoch 68/1000\n",
      "70/70 [==============================] - 0s 4ms/step - loss: 130.7990 - I_like: 0.3402 - val_loss: 133.4447 - val_I_like: 0.3071\n",
      "Epoch 69/1000\n",
      "70/70 [==============================] - 0s 3ms/step - loss: 131.4762 - I_like: 0.3354 - val_loss: 136.4117 - val_I_like: 0.2856\n",
      "Epoch 70/1000\n",
      "70/70 [==============================] - 0s 4ms/step - loss: 130.8173 - I_like: 0.3401 - val_loss: 133.1911 - val_I_like: 0.3084\n",
      "Epoch 71/1000\n",
      "70/70 [==============================] - 0s 4ms/step - loss: 130.9495 - I_like: 0.3392 - val_loss: 135.3447 - val_I_like: 0.2934\n",
      "Epoch 72/1000\n",
      "70/70 [==============================] - 0s 4ms/step - loss: 130.8341 - I_like: 0.3400 - val_loss: 135.7021 - val_I_like: 0.2908\n",
      "Epoch 73/1000\n",
      "70/70 [==============================] - 0s 3ms/step - loss: 130.3057 - I_like: 0.3438 - val_loss: 133.4170 - val_I_like: 0.3066\n",
      "Epoch 74/1000\n",
      "70/70 [==============================] - 0s 4ms/step - loss: 130.4212 - I_like: 0.3430 - val_loss: 134.2085 - val_I_like: 0.3022\n",
      "Epoch 75/1000\n",
      "70/70 [==============================] - 0s 3ms/step - loss: 130.0367 - I_like: 0.3459 - val_loss: 135.4785 - val_I_like: 0.2929\n",
      "Epoch 76/1000\n",
      "70/70 [==============================] - 0s 4ms/step - loss: 130.7417 - I_like: 0.3409 - val_loss: 133.6623 - val_I_like: 0.3062\n",
      "Epoch 77/1000\n",
      "70/70 [==============================] - 0s 3ms/step - loss: 130.7712 - I_like: 0.3406 - val_loss: 134.9676 - val_I_like: 0.2958\n",
      "Epoch 78/1000\n",
      "70/70 [==============================] - 0s 3ms/step - loss: 131.3711 - I_like: 0.3363 - val_loss: 134.8886 - val_I_like: 0.2970\n",
      "Epoch 79/1000\n",
      "70/70 [==============================] - 0s 3ms/step - loss: 130.4690 - I_like: 0.3429 - val_loss: 133.3665 - val_I_like: 0.3067\n",
      "Epoch 80/1000\n",
      "70/70 [==============================] - 0s 4ms/step - loss: 130.0342 - I_like: 0.3460 - val_loss: 134.7625 - val_I_like: 0.2973\n",
      "Training time: 26.8 seconds\n"
     ]
    }
   ],
   "source": [
    "# Fit model to data\n",
    "history = model.fit(learning_rate=.005,\n",
    "                    epochs=1000,\n",
    "                    batch_size=200,\n",
    "                    early_stopping=True,\n",
    "                    early_stopping_patience=30)"
   ]
  },
  {
   "cell_type": "code",
   "execution_count": 7,
   "metadata": {},
   "outputs": [
    {
     "name": "stdout",
     "output_type": "stream",
     "text": [
      "Model saved to these files:\n",
      "\tmpsa_ge_pairwise.pickle\n",
      "\tmpsa_ge_pairwise.h5\n"
     ]
    }
   ],
   "source": [
    "# Save model\n",
    "model.save('mpsa_ge_pairwise')"
   ]
  },
  {
   "cell_type": "code",
   "execution_count": 8,
   "metadata": {
    "scrolled": true
   },
   "outputs": [
    {
     "name": "stdout",
     "output_type": "stream",
     "text": [
      "Model loaded from these files:\n",
      "\tmpsa_ge_pairwise.pickle\n",
      "\tmpsa_ge_pairwise.h5\n"
     ]
    }
   ],
   "source": [
    "# Load model\n",
    "model = mavenn.load('mpsa_ge_pairwise')"
   ]
  },
  {
   "cell_type": "code",
   "execution_count": 9,
   "metadata": {},
   "outputs": [],
   "source": [
    "# Get x and y\n",
    "x_test = test_df['x'].values\n",
    "y_test = test_df['y'].values"
   ]
  },
  {
   "cell_type": "code",
   "execution_count": 10,
   "metadata": {},
   "outputs": [
    {
     "data": {
      "image/png": "[encoded data removed]",
      "text/plain": [
       "<Figure size 288x288 with 1 Axes>"
      ]
     },
     "metadata": {
      "needs_background": "light"
     },
     "output_type": "display_data"
    }
   ],
   "source": [
    "# Predict latent phentoype values (phi) on test data\n",
    "phi_test = model.x_to_phi(x_test)\n",
    "\n",
    "# Predict measurement values (yhat) on test data\n",
    "yhat_test = model.x_to_yhat(x_test)\n",
    "\n",
    "# Set phi lims and create grid in phi space\n",
    "phi_lim = [min(phi_test)-.5, max(phi_test)+.5]\n",
    "phi_grid = np.linspace(phi_lim[0], phi_lim[1], 1000)\n",
    "\n",
    "# Compute yhat each phi gridpoint\n",
    "yhat_grid = model.phi_to_yhat(phi_grid)\n",
    "\n",
    "# Compute 90% CI for each yhat\n",
    "q = [0.05, 0.95] #[0.16, 0.84]\n",
    "yqs_grid = model.yhat_to_yq(yhat_grid, q=q)\n",
    "\n",
    "# Create figure\n",
    "fig, ax = plt.subplots(1, 1, figsize=[4, 4])\n",
    "\n",
    "# Illustrate measurement process with GE curve\n",
    "ax.scatter(phi_test, y_test, color='C0', s=5, alpha=.2, label='test data')\n",
    "ax.plot(phi_grid, yhat_grid, linewidth=2, color='C1',\n",
    "        label='$\\hat{y} = g(\\phi)$')\n",
    "ax.plot(phi_grid, yqs_grid[:, 0], linestyle='--', color='C1', label='68% CI')\n",
    "ax.plot(phi_grid, yqs_grid[:, 1], linestyle='--', color='C1')\n",
    "ax.set_xlim(phi_lim)\n",
    "ax.set_xlabel('latent phenotype ($\\phi$)')\n",
    "ax.set_ylabel('measurement ($y$)')\n",
    "ax.set_title('measurement process')\n",
    "ax.legend()\n",
    "\n",
    "# Fix up plot\n",
    "fig.tight_layout()\n",
    "plt.show()"
   ]
  },
  {
   "cell_type": "code",
   "execution_count": 11,
   "metadata": {},
   "outputs": [
    {
     "data": {
      "image/png": "[encoded data removed]",
      "text/plain": [
       "<Figure size 576x288 with 2 Axes>"
      ]
     },
     "metadata": {
      "needs_background": "light"
     },
     "output_type": "display_data"
    }
   ],
   "source": [
    "# Plot pairwise parameters\n",
    "theta = model.get_theta()\n",
    "fig, ax = plt.subplots(1, 1, figsize=[8, 4])\n",
    "mavenn.heatmap_pairwise(values=theta['theta_lclc'],\n",
    "                        alphabet=theta['alphabet'],\n",
    "                        ax=ax);"
   ]
  },
  {
   "cell_type": "code",
   "execution_count": null,
   "metadata": {},
   "outputs": [],
   "source": []
  }
 ],
 "metadata": {
  "kernelspec": {
   "display_name": "Python 3",
   "language": "python",
   "name": "python3"
  },
  "language_info": {
   "codemirror_mode": {
    "name": "ipython",
    "version": 3
   },
   "file_extension": ".py",
   "mimetype": "text/x-python",
   "name": "python",
   "nbconvert_exporter": "python",
   "pygments_lexer": "ipython3",
   "version": "3.7.4"
  }
 },
 "nbformat": 4,
 "nbformat_minor": 2
}
