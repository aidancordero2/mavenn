{
 "cells": [
  {
   "cell_type": "code",
   "execution_count": 1,
   "metadata": {},
   "outputs": [
    {
     "name": "stdout",
     "output_type": "stream",
     "text": [
      "['/Users/jkinney/github/mavenn/mavenn']\n"
     ]
    }
   ],
   "source": [
    "# Standard imports\n",
    "import pandas as pd\n",
    "import matplotlib.pyplot as plt\n",
    "import numpy as np\n",
    "import time\n",
    "\n",
    "# Insert path to mavenn beginning of path\n",
    "import os\n",
    "import sys\n",
    "abs_path_to_mavenn = os.path.abspath('../../../')\n",
    "sys.path.insert(0, abs_path_to_mavenn)\n",
    "\n",
    "# Load mavenn\n",
    "import mavenn\n",
    "print(mavenn.__path__)"
   ]
  },
  {
   "cell_type": "code",
   "execution_count": 2,
   "metadata": {},
   "outputs": [
    {
     "data": {
      "text/html": [
       "<div>\n",
       "<style scoped>\n",
       "    .dataframe tbody tr th:only-of-type {\n",
       "        vertical-align: middle;\n",
       "    }\n",
       "\n",
       "    .dataframe tbody tr th {\n",
       "        vertical-align: top;\n",
       "    }\n",
       "\n",
       "    .dataframe thead th {\n",
       "        text-align: right;\n",
       "    }\n",
       "</style>\n",
       "<table border=\"1\" class=\"dataframe\">\n",
       "  <thead>\n",
       "    <tr style=\"text-align: right;\">\n",
       "      <th></th>\n",
       "      <th>training_set</th>\n",
       "      <th>y</th>\n",
       "      <th>dy</th>\n",
       "      <th>x</th>\n",
       "    </tr>\n",
       "  </thead>\n",
       "  <tbody>\n",
       "    <tr>\n",
       "      <th>0</th>\n",
       "      <td>False</td>\n",
       "      <td>-3.751854</td>\n",
       "      <td>0.444200</td>\n",
       "      <td>AAAGCAAAA</td>\n",
       "    </tr>\n",
       "    <tr>\n",
       "      <th>1</th>\n",
       "      <td>True</td>\n",
       "      <td>-2.697741</td>\n",
       "      <td>0.369972</td>\n",
       "      <td>AAAGCAAAC</td>\n",
       "    </tr>\n",
       "    <tr>\n",
       "      <th>2</th>\n",
       "      <td>True</td>\n",
       "      <td>-2.242947</td>\n",
       "      <td>0.575121</td>\n",
       "      <td>AAAGCAAAG</td>\n",
       "    </tr>\n",
       "    <tr>\n",
       "      <th>3</th>\n",
       "      <td>False</td>\n",
       "      <td>-3.067251</td>\n",
       "      <td>0.357014</td>\n",
       "      <td>AAAGCAAAT</td>\n",
       "    </tr>\n",
       "    <tr>\n",
       "      <th>4</th>\n",
       "      <td>False</td>\n",
       "      <td>-2.987074</td>\n",
       "      <td>0.472637</td>\n",
       "      <td>AAAGCAACA</td>\n",
       "    </tr>\n",
       "  </tbody>\n",
       "</table>\n",
       "</div>"
      ],
      "text/plain": [
       "   training_set         y        dy          x\n",
       "0         False -3.751854  0.444200  AAAGCAAAA\n",
       "1          True -2.697741  0.369972  AAAGCAAAC\n",
       "2          True -2.242947  0.575121  AAAGCAAAG\n",
       "3         False -3.067251  0.357014  AAAGCAAAT\n",
       "4         False -2.987074  0.472637  AAAGCAACA"
      ]
     },
     "execution_count": 2,
     "metadata": {},
     "output_type": "execute_result"
    }
   ],
   "source": [
    "# Load full MPSA dataset\n",
    "data_df = mavenn.load_example_dataset(name='mpsa')\n",
    "data_df.head()"
   ]
  },
  {
   "cell_type": "code",
   "execution_count": 3,
   "metadata": {},
   "outputs": [
    {
     "name": "stdout",
     "output_type": "stream",
     "text": [
      "training N: 17498\n",
      "test N: 4431\n"
     ]
    }
   ],
   "source": [
    "# Split into training and test data\n",
    "ix = data_df['training_set']\n",
    "training_df = data_df[ix].copy()\n",
    "print(f'training N: {len(training_df)}')\n",
    "      \n",
    "# Split into training and test data\n",
    "ix = data_df['training_set']\n",
    "test_df = data_df[~ix].copy()\n",
    "print(f'test N: {len(test_df)}')"
   ]
  },
  {
   "cell_type": "code",
   "execution_count": 4,
   "metadata": {},
   "outputs": [],
   "source": [
    "# Set seeed\n",
    "mavenn.set_seed(0)\n",
    "\n",
    "# Define model\n",
    "model = mavenn.Model(regression_type='GE',\n",
    "                     L=len(data_df['x'][0]),\n",
    "                     alphabet='dna',\n",
    "                     gpmap_type='pairwise',                     \n",
    "                     ge_noise_model_type='SkewedT',\n",
    "                     ge_heteroskedasticity_order=2)\n"
   ]
  },
  {
   "cell_type": "code",
   "execution_count": 5,
   "metadata": {},
   "outputs": [
    {
     "name": "stdout",
     "output_type": "stream",
     "text": [
      "N = 21,929 observations set as training data.\n",
      "Data shuffled.\n",
      "Time to set data: 0.87 sec.\n"
     ]
    }
   ],
   "source": [
    "# Set training data\n",
    "model.set_data(x=data_df['x'],\n",
    "               y=data_df['y'])"
   ]
  },
  {
   "cell_type": "code",
   "execution_count": 6,
   "metadata": {
    "scrolled": true
   },
   "outputs": [
    {
     "name": "stdout",
     "output_type": "stream",
     "text": [
      " \n",
      "LSMR            Least-squares solution of  Ax = b\n",
      "\n",
      "The matrix A has    21929 rows  and       36 cols\n",
      "damp = 0.00000000000000e+00\n",
      "\n",
      "atol = 1.00e-06                 conlim = 1.00e+08\n",
      "\n",
      "btol = 1.00e-06             maxiter =       36\n",
      "\n",
      " \n",
      "   itn      x(1)       norm r    norm Ar  compatible   LS      norm A   cond A\n",
      "     0  0.00000e+00  1.481e+02  5.397e+03   1.0e+00  2.5e-01\n",
      "     1  2.13362e-02  1.342e+02  1.739e+03   9.1e-01  1.5e-01  8.6e+01  1.0e+00\n",
      "     2  2.61004e-02  1.325e+02  6.140e+02   9.0e-01  3.6e-02  1.3e+02  1.1e+00\n",
      "     3  2.79161e-02  1.325e+02  2.851e+02   8.9e-01  7.9e-03  2.7e+02  2.5e+00\n",
      "     4  2.79728e-02  1.324e+02  6.533e+01   8.9e-01  1.6e-03  3.1e+02  3.3e+00\n",
      "     5  2.87669e-02  1.324e+02  1.512e+01   8.9e-01  3.6e-04  3.2e+02  3.8e+00\n",
      "     6  2.90448e-02  1.324e+02  1.508e+00   8.9e-01  3.5e-05  3.2e+02  3.9e+00\n",
      "     7  2.90117e-02  1.324e+02  2.535e-01   8.9e-01  5.8e-06  3.3e+02  3.9e+00\n",
      "     8  2.89991e-02  1.324e+02  7.240e-02   8.9e-01  1.6e-06  3.4e+02  3.9e+00\n",
      "     9  2.89987e-02  1.324e+02  1.139e-02   8.9e-01  2.5e-07  3.5e+02  3.9e+00\n",
      " \n",
      "LSMR finished\n",
      "The least-squares solution is good enough, given atol     \n",
      "istop =       2    normr = 1.3e+02\n",
      "    normA = 3.5e+02    normAr = 1.1e-02\n",
      "itn   =       9    condA = 3.9e+00\n",
      "    normx = 8.5e-01\n",
      "     9  2.89987e-02   1.324e+02  1.139e-02\n",
      "   8.9e-01  2.5e-07   3.5e+02  3.9e+00\n",
      "Linear regression time: 0.0626 sec\n",
      "Epoch 1/1000\n",
      "18/18 [==============================] - 1s 35ms/step - loss: 1237.2416 - I_like: -0.5475 - val_loss: 1144.4178 - val_I_like: -0.4745\n",
      "Epoch 2/1000\n",
      "18/18 [==============================] - 0s 14ms/step - loss: 1143.8124 - I_like: -0.4140 - val_loss: 1051.8401 - val_I_like: -0.3343\n",
      "Epoch 3/1000\n",
      "18/18 [==============================] - 0s 13ms/step - loss: 1051.8478 - I_like: -0.2737 - val_loss: 968.6981 - val_I_like: -0.2084\n",
      "Epoch 4/1000\n",
      "18/18 [==============================] - 0s 14ms/step - loss: 977.3076 - I_like: -0.1697 - val_loss: 908.9212 - val_I_like: -0.1150\n",
      "Epoch 5/1000\n",
      "18/18 [==============================] - 0s 15ms/step - loss: 917.1645 - I_like: -0.0805 - val_loss: 857.6124 - val_I_like: -0.0368\n",
      "Epoch 6/1000\n",
      "18/18 [==============================] - 0s 10ms/step - loss: 870.9206 - I_like: -0.0107 - val_loss: 822.7319 - val_I_like: 0.0186\n",
      "Epoch 7/1000\n",
      "18/18 [==============================] - 0s 12ms/step - loss: 830.9376 - I_like: 0.0467 - val_loss: 785.1710 - val_I_like: 0.0756\n",
      "Epoch 8/1000\n",
      "18/18 [==============================] - 0s 11ms/step - loss: 798.3016 - I_like: 0.0943 - val_loss: 760.2752 - val_I_like: 0.1142\n",
      "Epoch 9/1000\n",
      "18/18 [==============================] - 0s 12ms/step - loss: 775.6223 - I_like: 0.1265 - val_loss: 739.4005 - val_I_like: 0.1460\n",
      "Epoch 10/1000\n",
      "18/18 [==============================] - 0s 21ms/step - loss: 759.9545 - I_like: 0.1472 - val_loss: 728.3976 - val_I_like: 0.1635\n",
      "Epoch 11/1000\n",
      "18/18 [==============================] - 0s 10ms/step - loss: 750.9539 - I_like: 0.1643 - val_loss: 728.3096 - val_I_like: 0.1642\n",
      "Epoch 12/1000\n",
      "18/18 [==============================] - 0s 10ms/step - loss: 744.6087 - I_like: 0.1693 - val_loss: 722.7712 - val_I_like: 0.1730\n",
      "Epoch 13/1000\n",
      "18/18 [==============================] - 0s 11ms/step - loss: 737.5179 - I_like: 0.1797 - val_loss: 716.1229 - val_I_like: 0.1823\n",
      "Epoch 14/1000\n",
      "18/18 [==============================] - 0s 13ms/step - loss: 734.2684 - I_like: 0.1865 - val_loss: 712.3101 - val_I_like: 0.1882\n",
      "Epoch 15/1000\n",
      "18/18 [==============================] - 0s 10ms/step - loss: 731.7604 - I_like: 0.1874 - val_loss: 710.8466 - val_I_like: 0.1909\n",
      "Epoch 16/1000\n",
      "18/18 [==============================] - 0s 11ms/step - loss: 730.0739 - I_like: 0.1911 - val_loss: 717.6815 - val_I_like: 0.1796\n",
      "Epoch 17/1000\n",
      "18/18 [==============================] - 0s 12ms/step - loss: 729.5198 - I_like: 0.1925 - val_loss: 708.5629 - val_I_like: 0.1937\n",
      "Epoch 18/1000\n",
      "18/18 [==============================] - 0s 12ms/step - loss: 726.2231 - I_like: 0.1990 - val_loss: 714.5838 - val_I_like: 0.1844\n",
      "Epoch 19/1000\n",
      "18/18 [==============================] - 0s 9ms/step - loss: 724.7740 - I_like: 0.1975 - val_loss: 708.8488 - val_I_like: 0.1925\n",
      "Epoch 20/1000\n",
      "18/18 [==============================] - 0s 12ms/step - loss: 722.4990 - I_like: 0.2043 - val_loss: 703.3366 - val_I_like: 0.2010\n",
      "Epoch 21/1000\n",
      "18/18 [==============================] - 0s 11ms/step - loss: 722.0408 - I_like: 0.2066 - val_loss: 709.4393 - val_I_like: 0.1923\n",
      "Epoch 22/1000\n",
      "18/18 [==============================] - 0s 19ms/step - loss: 720.4956 - I_like: 0.2071 - val_loss: 703.2166 - val_I_like: 0.2010\n",
      "Epoch 23/1000\n",
      "18/18 [==============================] - 0s 17ms/step - loss: 717.4584 - I_like: 0.2117 - val_loss: 700.4312 - val_I_like: 0.2060\n",
      "Epoch 24/1000\n",
      "18/18 [==============================] - 0s 17ms/step - loss: 717.4091 - I_like: 0.2080 - val_loss: 700.7104 - val_I_like: 0.2058\n",
      "Epoch 25/1000\n",
      "18/18 [==============================] - 0s 18ms/step - loss: 714.9176 - I_like: 0.2145 - val_loss: 702.9185 - val_I_like: 0.2018\n",
      "Epoch 26/1000\n",
      "18/18 [==============================] - 0s 11ms/step - loss: 714.7332 - I_like: 0.2195 - val_loss: 698.1442 - val_I_like: 0.2100\n",
      "Epoch 27/1000\n",
      "18/18 [==============================] - 0s 10ms/step - loss: 713.5086 - I_like: 0.2170 - val_loss: 700.3450 - val_I_like: 0.2053\n",
      "Epoch 28/1000\n",
      "18/18 [==============================] - 0s 11ms/step - loss: 713.8669 - I_like: 0.2142 - val_loss: 698.9454 - val_I_like: 0.2080\n",
      "Epoch 29/1000\n",
      "18/18 [==============================] - 0s 10ms/step - loss: 712.6828 - I_like: 0.2187 - val_loss: 700.6194 - val_I_like: 0.2054\n",
      "Epoch 30/1000\n",
      "18/18 [==============================] - 0s 11ms/step - loss: 709.3747 - I_like: 0.2253 - val_loss: 688.9191 - val_I_like: 0.2241\n",
      "Epoch 31/1000\n",
      "18/18 [==============================] - 0s 10ms/step - loss: 704.0502 - I_like: 0.2296 - val_loss: 688.1751 - val_I_like: 0.2248\n",
      "Epoch 32/1000\n",
      "18/18 [==============================] - 0s 11ms/step - loss: 701.6453 - I_like: 0.2342 - val_loss: 704.6702 - val_I_like: 0.2000\n",
      "Epoch 33/1000\n",
      "18/18 [==============================] - 0s 12ms/step - loss: 703.6935 - I_like: 0.2305 - val_loss: 681.8058 - val_I_like: 0.2343\n",
      "Epoch 34/1000\n",
      "18/18 [==============================] - 0s 10ms/step - loss: 698.4776 - I_like: 0.2363 - val_loss: 683.6718 - val_I_like: 0.2321\n",
      "Epoch 35/1000\n",
      "18/18 [==============================] - 0s 10ms/step - loss: 694.3829 - I_like: 0.2421 - val_loss: 686.2122 - val_I_like: 0.2291\n",
      "Epoch 36/1000\n",
      "18/18 [==============================] - 0s 10ms/step - loss: 690.2561 - I_like: 0.2473 - val_loss: 672.8945 - val_I_like: 0.2495\n",
      "Epoch 37/1000\n",
      "18/18 [==============================] - 0s 10ms/step - loss: 691.4273 - I_like: 0.2543 - val_loss: 681.0114 - val_I_like: 0.2385\n",
      "Epoch 38/1000\n",
      "18/18 [==============================] - 0s 11ms/step - loss: 689.3050 - I_like: 0.2550 - val_loss: 670.1783 - val_I_like: 0.2539\n",
      "Epoch 39/1000\n",
      "18/18 [==============================] - 0s 11ms/step - loss: 681.7290 - I_like: 0.2655 - val_loss: 661.8633 - val_I_like: 0.2673\n",
      "Epoch 40/1000\n",
      "18/18 [==============================] - 0s 10ms/step - loss: 680.3896 - I_like: 0.2659 - val_loss: 676.9720 - val_I_like: 0.2443\n",
      "Epoch 41/1000\n",
      "18/18 [==============================] - 0s 11ms/step - loss: 679.1912 - I_like: 0.2707 - val_loss: 649.1901 - val_I_like: 0.2869\n",
      "Epoch 42/1000\n",
      "18/18 [==============================] - 0s 10ms/step - loss: 659.1018 - I_like: 0.2985 - val_loss: 640.1937 - val_I_like: 0.3010\n",
      "Epoch 43/1000\n",
      "18/18 [==============================] - 0s 10ms/step - loss: 651.9787 - I_like: 0.3026 - val_loss: 633.1940 - val_I_like: 0.3089\n",
      "Epoch 44/1000\n",
      "18/18 [==============================] - 0s 11ms/step - loss: 648.0482 - I_like: 0.3150 - val_loss: 643.0708 - val_I_like: 0.2924\n",
      "Epoch 45/1000\n",
      "18/18 [==============================] - 0s 10ms/step - loss: 646.7750 - I_like: 0.3133 - val_loss: 636.7289 - val_I_like: 0.3043\n",
      "Epoch 46/1000\n",
      "18/18 [==============================] - 0s 10ms/step - loss: 643.6337 - I_like: 0.3180 - val_loss: 641.2543 - val_I_like: 0.2971\n",
      "Epoch 47/1000\n",
      "18/18 [==============================] - 0s 11ms/step - loss: 641.4943 - I_like: 0.3222 - val_loss: 636.1606 - val_I_like: 0.3023\n",
      "Epoch 48/1000\n"
     ]
    },
    {
     "name": "stdout",
     "output_type": "stream",
     "text": [
      "18/18 [==============================] - 0s 10ms/step - loss: 641.3286 - I_like: 0.3248 - val_loss: 630.2372 - val_I_like: 0.3140\n",
      "Epoch 49/1000\n",
      "18/18 [==============================] - 0s 9ms/step - loss: 641.3782 - I_like: 0.3211 - val_loss: 649.9320 - val_I_like: 0.2791\n",
      "Epoch 50/1000\n",
      "18/18 [==============================] - 0s 9ms/step - loss: 640.9444 - I_like: 0.3242 - val_loss: 626.8905 - val_I_like: 0.3179\n",
      "Epoch 51/1000\n",
      "18/18 [==============================] - 0s 9ms/step - loss: 635.3406 - I_like: 0.3334 - val_loss: 639.1765 - val_I_like: 0.2985\n",
      "Epoch 52/1000\n",
      "18/18 [==============================] - 0s 9ms/step - loss: 634.8848 - I_like: 0.3334 - val_loss: 625.7146 - val_I_like: 0.3184\n",
      "Epoch 53/1000\n",
      "18/18 [==============================] - 0s 10ms/step - loss: 632.8174 - I_like: 0.3325 - val_loss: 631.3918 - val_I_like: 0.3112\n",
      "Epoch 54/1000\n",
      "18/18 [==============================] - 0s 11ms/step - loss: 634.8251 - I_like: 0.3333 - val_loss: 630.1827 - val_I_like: 0.3107\n",
      "Epoch 55/1000\n",
      "18/18 [==============================] - 0s 9ms/step - loss: 631.5864 - I_like: 0.3359 - val_loss: 632.9479 - val_I_like: 0.3101\n",
      "Epoch 56/1000\n",
      "18/18 [==============================] - 0s 9ms/step - loss: 630.0538 - I_like: 0.3393 - val_loss: 627.3594 - val_I_like: 0.3165\n",
      "Epoch 57/1000\n",
      "18/18 [==============================] - 0s 9ms/step - loss: 629.8382 - I_like: 0.3374 - val_loss: 631.2199 - val_I_like: 0.3074\n",
      "Epoch 58/1000\n",
      "18/18 [==============================] - 0s 9ms/step - loss: 633.7010 - I_like: 0.3326 - val_loss: 633.6810 - val_I_like: 0.3077\n",
      "Epoch 59/1000\n",
      "18/18 [==============================] - 0s 9ms/step - loss: 631.3765 - I_like: 0.3362 - val_loss: 624.3358 - val_I_like: 0.3204\n",
      "Epoch 60/1000\n",
      "18/18 [==============================] - 0s 9ms/step - loss: 633.3629 - I_like: 0.3308 - val_loss: 627.0346 - val_I_like: 0.3177\n",
      "Epoch 61/1000\n",
      "18/18 [==============================] - 0s 9ms/step - loss: 630.5140 - I_like: 0.3374 - val_loss: 624.1395 - val_I_like: 0.3192\n",
      "Epoch 62/1000\n",
      "18/18 [==============================] - 0s 9ms/step - loss: 631.4868 - I_like: 0.3408 - val_loss: 627.1304 - val_I_like: 0.3165\n",
      "Epoch 63/1000\n",
      "18/18 [==============================] - 0s 9ms/step - loss: 628.6095 - I_like: 0.3422 - val_loss: 623.6769 - val_I_like: 0.3193\n",
      "Epoch 64/1000\n",
      "18/18 [==============================] - 0s 14ms/step - loss: 626.1546 - I_like: 0.3407 - val_loss: 625.7542 - val_I_like: 0.3183\n",
      "Epoch 65/1000\n",
      "18/18 [==============================] - 0s 13ms/step - loss: 626.4175 - I_like: 0.3417 - val_loss: 626.5703 - val_I_like: 0.3139\n",
      "Epoch 66/1000\n",
      "18/18 [==============================] - 0s 12ms/step - loss: 628.5876 - I_like: 0.3427 - val_loss: 625.5457 - val_I_like: 0.3184\n",
      "Epoch 67/1000\n",
      "18/18 [==============================] - 0s 12ms/step - loss: 627.1929 - I_like: 0.3440 - val_loss: 629.1177 - val_I_like: 0.3120\n",
      "Epoch 68/1000\n",
      "18/18 [==============================] - 0s 14ms/step - loss: 626.6490 - I_like: 0.3423 - val_loss: 619.7688 - val_I_like: 0.3253\n",
      "Epoch 69/1000\n",
      "18/18 [==============================] - 0s 12ms/step - loss: 628.8975 - I_like: 0.3455 - val_loss: 627.4651 - val_I_like: 0.3147\n",
      "Epoch 70/1000\n",
      "18/18 [==============================] - 0s 11ms/step - loss: 626.1428 - I_like: 0.3419 - val_loss: 619.1834 - val_I_like: 0.3277\n",
      "Epoch 71/1000\n",
      "18/18 [==============================] - 0s 13ms/step - loss: 628.9228 - I_like: 0.3404 - val_loss: 634.2198 - val_I_like: 0.3003\n",
      "Epoch 72/1000\n",
      "18/18 [==============================] - 0s 13ms/step - loss: 628.0581 - I_like: 0.3426 - val_loss: 630.1185 - val_I_like: 0.3104\n",
      "Epoch 73/1000\n",
      "18/18 [==============================] - 0s 10ms/step - loss: 626.2808 - I_like: 0.3479 - val_loss: 619.4933 - val_I_like: 0.3269\n",
      "Epoch 74/1000\n",
      "18/18 [==============================] - 0s 10ms/step - loss: 625.4042 - I_like: 0.3461 - val_loss: 635.2856 - val_I_like: 0.3020\n",
      "Epoch 75/1000\n",
      "18/18 [==============================] - 0s 12ms/step - loss: 627.7532 - I_like: 0.3442 - val_loss: 623.2582 - val_I_like: 0.3194\n",
      "Epoch 76/1000\n",
      "18/18 [==============================] - 0s 13ms/step - loss: 628.3204 - I_like: 0.3424 - val_loss: 622.1644 - val_I_like: 0.3239\n",
      "Epoch 77/1000\n",
      "18/18 [==============================] - 0s 13ms/step - loss: 628.5431 - I_like: 0.3433 - val_loss: 621.1788 - val_I_like: 0.3263\n",
      "Epoch 78/1000\n",
      "18/18 [==============================] - 0s 12ms/step - loss: 626.5363 - I_like: 0.3446 - val_loss: 624.3594 - val_I_like: 0.3149\n",
      "Epoch 79/1000\n",
      "18/18 [==============================] - 0s 11ms/step - loss: 623.0468 - I_like: 0.3442 - val_loss: 627.8595 - val_I_like: 0.3160\n",
      "Epoch 80/1000\n",
      "18/18 [==============================] - 0s 10ms/step - loss: 625.0660 - I_like: 0.3476 - val_loss: 621.0203 - val_I_like: 0.3246\n",
      "Epoch 81/1000\n",
      "18/18 [==============================] - 0s 14ms/step - loss: 627.3223 - I_like: 0.3470 - val_loss: 622.8290 - val_I_like: 0.3220\n",
      "Epoch 82/1000\n",
      "18/18 [==============================] - 0s 11ms/step - loss: 624.8448 - I_like: 0.3447 - val_loss: 619.2009 - val_I_like: 0.3273\n",
      "Epoch 83/1000\n",
      "18/18 [==============================] - 0s 11ms/step - loss: 625.6367 - I_like: 0.3472 - val_loss: 616.4417 - val_I_like: 0.3313\n",
      "Epoch 84/1000\n",
      "18/18 [==============================] - 0s 11ms/step - loss: 628.7937 - I_like: 0.3407 - val_loss: 630.4530 - val_I_like: 0.3112\n",
      "Epoch 85/1000\n",
      "18/18 [==============================] - 0s 12ms/step - loss: 627.5001 - I_like: 0.3419 - val_loss: 626.0361 - val_I_like: 0.3164\n",
      "Epoch 86/1000\n",
      "18/18 [==============================] - 0s 13ms/step - loss: 628.0963 - I_like: 0.3437 - val_loss: 619.1038 - val_I_like: 0.3258\n",
      "Epoch 87/1000\n",
      "18/18 [==============================] - 0s 10ms/step - loss: 626.4340 - I_like: 0.3464 - val_loss: 624.5854 - val_I_like: 0.3197\n",
      "Epoch 88/1000\n",
      "18/18 [==============================] - 0s 11ms/step - loss: 627.3224 - I_like: 0.3419 - val_loss: 620.9519 - val_I_like: 0.3245\n",
      "Epoch 89/1000\n",
      "18/18 [==============================] - 0s 11ms/step - loss: 627.2023 - I_like: 0.3447 - val_loss: 626.6742 - val_I_like: 0.3173\n",
      "Epoch 90/1000\n",
      "18/18 [==============================] - 0s 12ms/step - loss: 626.7780 - I_like: 0.3436 - val_loss: 623.4396 - val_I_like: 0.3198\n",
      "Epoch 91/1000\n",
      "18/18 [==============================] - 0s 13ms/step - loss: 624.3496 - I_like: 0.3452 - val_loss: 621.4753 - val_I_like: 0.3243\n",
      "Epoch 92/1000\n",
      "18/18 [==============================] - 0s 13ms/step - loss: 623.9600 - I_like: 0.3462 - val_loss: 625.4008 - val_I_like: 0.3173\n",
      "Epoch 93/1000\n",
      "18/18 [==============================] - 0s 10ms/step - loss: 625.5354 - I_like: 0.3436 - val_loss: 623.1788 - val_I_like: 0.3203\n",
      "Epoch 94/1000\n",
      "18/18 [==============================] - 0s 10ms/step - loss: 623.0324 - I_like: 0.3472 - val_loss: 632.7411 - val_I_like: 0.3042\n",
      "Epoch 95/1000\n",
      "18/18 [==============================] - 0s 14ms/step - loss: 623.3761 - I_like: 0.3464 - val_loss: 623.4612 - val_I_like: 0.3183\n",
      "Epoch 96/1000\n",
      "18/18 [==============================] - 0s 11ms/step - loss: 623.6650 - I_like: 0.3474 - val_loss: 620.7149 - val_I_like: 0.3245\n",
      "Epoch 97/1000\n",
      "18/18 [==============================] - 0s 13ms/step - loss: 624.7971 - I_like: 0.3485 - val_loss: 616.6359 - val_I_like: 0.3310\n",
      "Epoch 98/1000\n",
      "18/18 [==============================] - 0s 13ms/step - loss: 624.7468 - I_like: 0.3480 - val_loss: 616.9326 - val_I_like: 0.3306\n",
      "Epoch 99/1000\n",
      "18/18 [==============================] - 0s 11ms/step - loss: 627.9108 - I_like: 0.3407 - val_loss: 635.0765 - val_I_like: 0.2987\n",
      "Epoch 100/1000\n",
      "18/18 [==============================] - 0s 11ms/step - loss: 626.6745 - I_like: 0.3426 - val_loss: 626.8461 - val_I_like: 0.3113\n",
      "Epoch 101/1000\n",
      "18/18 [==============================] - 0s 11ms/step - loss: 629.1930 - I_like: 0.3409 - val_loss: 626.6460 - val_I_like: 0.3174\n",
      "Epoch 102/1000\n",
      "18/18 [==============================] - 0s 11ms/step - loss: 630.2524 - I_like: 0.3410 - val_loss: 627.9165 - val_I_like: 0.3130\n",
      "Epoch 103/1000\n",
      "18/18 [==============================] - 0s 10ms/step - loss: 623.2025 - I_like: 0.3482 - val_loss: 619.0522 - val_I_like: 0.3276\n",
      "Epoch 104/1000\n",
      "18/18 [==============================] - 0s 10ms/step - loss: 625.0271 - I_like: 0.3464 - val_loss: 620.2224 - val_I_like: 0.3249\n",
      "Epoch 105/1000\n"
     ]
    },
    {
     "name": "stdout",
     "output_type": "stream",
     "text": [
      "18/18 [==============================] - 0s 10ms/step - loss: 625.5342 - I_like: 0.3463 - val_loss: 621.3866 - val_I_like: 0.3254\n",
      "Epoch 106/1000\n",
      "18/18 [==============================] - 0s 9ms/step - loss: 628.4456 - I_like: 0.3402 - val_loss: 627.1807 - val_I_like: 0.3107\n",
      "Epoch 107/1000\n",
      "18/18 [==============================] - 0s 9ms/step - loss: 624.6929 - I_like: 0.3461 - val_loss: 617.4442 - val_I_like: 0.3305\n",
      "Epoch 108/1000\n",
      "18/18 [==============================] - 0s 9ms/step - loss: 626.2161 - I_like: 0.3444 - val_loss: 622.0051 - val_I_like: 0.3201\n",
      "Epoch 109/1000\n",
      "18/18 [==============================] - 0s 9ms/step - loss: 624.5890 - I_like: 0.3463 - val_loss: 631.7169 - val_I_like: 0.3085\n",
      "Epoch 110/1000\n",
      "18/18 [==============================] - 0s 11ms/step - loss: 624.7744 - I_like: 0.3502 - val_loss: 616.6942 - val_I_like: 0.3322\n",
      "Epoch 111/1000\n",
      "18/18 [==============================] - 0s 8ms/step - loss: 622.9628 - I_like: 0.3512 - val_loss: 624.5939 - val_I_like: 0.3183\n",
      "Epoch 112/1000\n",
      "18/18 [==============================] - 0s 9ms/step - loss: 622.5671 - I_like: 0.3495 - val_loss: 617.2703 - val_I_like: 0.3296\n",
      "Epoch 113/1000\n",
      "18/18 [==============================] - 0s 9ms/step - loss: 625.1178 - I_like: 0.3404 - val_loss: 629.9562 - val_I_like: 0.3106\n",
      "Training time: 27.9 seconds\n"
     ]
    }
   ],
   "source": [
    "# Fit model to data\n",
    "history = model.fit(learning_rate=.005,\n",
    "                    epochs=1000,\n",
    "                    batch_size=1000,\n",
    "                    early_stopping=True,\n",
    "                    early_stopping_patience=30)"
   ]
  },
  {
   "cell_type": "code",
   "execution_count": 7,
   "metadata": {},
   "outputs": [
    {
     "name": "stdout",
     "output_type": "stream",
     "text": [
      "Model saved to these files:\n",
      "\tmpsa_ge_pairwise.pickle\n",
      "\tmpsa_ge_pairwise.h5\n"
     ]
    }
   ],
   "source": [
    "# Save model\n",
    "model.save('mpsa_ge_pairwise')"
   ]
  },
  {
   "cell_type": "code",
   "execution_count": 8,
   "metadata": {
    "scrolled": true
   },
   "outputs": [
    {
     "name": "stdout",
     "output_type": "stream",
     "text": [
      "Model loaded from these files:\n",
      "\tmpsa_ge_pairwise.pickle\n",
      "\tmpsa_ge_pairwise.h5\n"
     ]
    }
   ],
   "source": [
    "# Load model\n",
    "model = mavenn.load('mpsa_ge_pairwise')"
   ]
  },
  {
   "cell_type": "code",
   "execution_count": 9,
   "metadata": {},
   "outputs": [],
   "source": [
    "# Get x and y\n",
    "x_test = test_df['x'].values\n",
    "y_test = test_df['y'].values"
   ]
  },
  {
   "cell_type": "code",
   "execution_count": 10,
   "metadata": {},
   "outputs": [
    {
     "data": {
      "image/png": "[encoded data removed]",
      "text/plain": [
       "<Figure size 288x288 with 1 Axes>"
      ]
     },
     "metadata": {
      "needs_background": "light"
     },
     "output_type": "display_data"
    }
   ],
   "source": [
    "# Predict latent phentoype values (phi) on test data\n",
    "phi_test = model.x_to_phi(x_test)\n",
    "\n",
    "# Predict measurement values (yhat) on test data\n",
    "yhat_test = model.x_to_yhat(x_test)\n",
    "\n",
    "# Set phi lims and create grid in phi space\n",
    "phi_lim = [min(phi_test)-.5, max(phi_test)+.5]\n",
    "phi_grid = np.linspace(phi_lim[0], phi_lim[1], 1000)\n",
    "\n",
    "# Compute yhat each phi gridpoint\n",
    "yhat_grid = model.phi_to_yhat(phi_grid)\n",
    "\n",
    "# Compute 90% CI for each yhat\n",
    "q = [0.05, 0.95] #[0.16, 0.84]\n",
    "yqs_grid = model.yhat_to_yq(yhat_grid, q=q)\n",
    "\n",
    "# Create figure\n",
    "fig, ax = plt.subplots(1, 1, figsize=[4, 4])\n",
    "\n",
    "# Illustrate measurement process with GE curve\n",
    "ax.scatter(phi_test, y_test, color='C0', s=5, alpha=.2, label='test data')\n",
    "ax.plot(phi_grid, yhat_grid, linewidth=2, color='C1',\n",
    "        label='$\\hat{y} = g(\\phi)$')\n",
    "ax.plot(phi_grid, yqs_grid[:, 0], linestyle='--', color='C1', label='68% CI')\n",
    "ax.plot(phi_grid, yqs_grid[:, 1], linestyle='--', color='C1')\n",
    "ax.set_xlim(phi_lim)\n",
    "ax.set_xlabel('latent phenotype ($\\phi$)')\n",
    "ax.set_ylabel('measurement ($y$)')\n",
    "ax.set_title('measurement process')\n",
    "ax.legend()\n",
    "\n",
    "# Fix up plot\n",
    "fig.tight_layout()\n",
    "plt.show()"
   ]
  },
  {
   "cell_type": "code",
   "execution_count": 11,
   "metadata": {},
   "outputs": [
    {
     "data": {
      "image/png": "[encoded data removed]",
      "text/plain": [
       "<Figure size 576x288 with 2 Axes>"
      ]
     },
     "metadata": {
      "needs_background": "light"
     },
     "output_type": "display_data"
    }
   ],
   "source": [
    "# Plot pairwise parameters\n",
    "theta_dict = model.get_theta(gauge=\"uniform\")\n",
    "fig, ax = plt.subplots(1, 1, figsize=[8, 4])\n",
    "mavenn.heatmap_pairwise(theta_dict['theta_lclc'], \n",
    "                        alphabet=theta_dict['alphabet'],\n",
    "                        ax=ax);"
   ]
  },
  {
   "cell_type": "code",
   "execution_count": null,
   "metadata": {},
   "outputs": [],
   "source": []
  }
 ],
 "metadata": {
  "kernelspec": {
   "display_name": "Python 3",
   "language": "python",
   "name": "python3"
  },
  "language_info": {
   "codemirror_mode": {
    "name": "ipython",
    "version": 3
   },
   "file_extension": ".py",
   "mimetype": "text/x-python",
   "name": "python",
   "nbconvert_exporter": "python",
   "pygments_lexer": "ipython3",
   "version": "3.7.4"
  }
 },
 "nbformat": 4,
 "nbformat_minor": 2
}
