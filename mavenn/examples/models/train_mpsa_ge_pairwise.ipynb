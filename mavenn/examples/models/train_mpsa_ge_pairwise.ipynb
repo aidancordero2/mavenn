{
 "cells": [
  {
   "cell_type": "code",
   "execution_count": 1,
   "metadata": {},
   "outputs": [
    {
     "name": "stdout",
     "output_type": "stream",
     "text": [
      "['/Users/jkinney/github/mavenn/mavenn']\n"
     ]
    }
   ],
   "source": [
    "# Standard imports\n",
    "import pandas as pd\n",
    "import matplotlib.pyplot as plt\n",
    "import numpy as np\n",
    "import time\n",
    "\n",
    "# Insert path to mavenn beginning of path\n",
    "import os\n",
    "import sys\n",
    "abs_path_to_mavenn = os.path.abspath('../../../')\n",
    "sys.path.insert(0, abs_path_to_mavenn)\n",
    "\n",
    "# Load mavenn\n",
    "import mavenn\n",
    "print(mavenn.__path__)"
   ]
  },
  {
   "cell_type": "code",
   "execution_count": 2,
   "metadata": {},
   "outputs": [
    {
     "data": {
      "text/html": [
       "<div>\n",
       "<style scoped>\n",
       "    .dataframe tbody tr th:only-of-type {\n",
       "        vertical-align: middle;\n",
       "    }\n",
       "\n",
       "    .dataframe tbody tr th {\n",
       "        vertical-align: top;\n",
       "    }\n",
       "\n",
       "    .dataframe thead th {\n",
       "        text-align: right;\n",
       "    }\n",
       "</style>\n",
       "<table border=\"1\" class=\"dataframe\">\n",
       "  <thead>\n",
       "    <tr style=\"text-align: right;\">\n",
       "      <th></th>\n",
       "      <th>training_set</th>\n",
       "      <th>y</th>\n",
       "      <th>dy</th>\n",
       "      <th>x</th>\n",
       "    </tr>\n",
       "  </thead>\n",
       "  <tbody>\n",
       "    <tr>\n",
       "      <th>0</th>\n",
       "      <td>False</td>\n",
       "      <td>-3.751854</td>\n",
       "      <td>0.444200</td>\n",
       "      <td>AAAGCAAAA</td>\n",
       "    </tr>\n",
       "    <tr>\n",
       "      <th>1</th>\n",
       "      <td>True</td>\n",
       "      <td>-2.697741</td>\n",
       "      <td>0.369972</td>\n",
       "      <td>AAAGCAAAC</td>\n",
       "    </tr>\n",
       "    <tr>\n",
       "      <th>2</th>\n",
       "      <td>True</td>\n",
       "      <td>-2.242947</td>\n",
       "      <td>0.575121</td>\n",
       "      <td>AAAGCAAAG</td>\n",
       "    </tr>\n",
       "    <tr>\n",
       "      <th>3</th>\n",
       "      <td>False</td>\n",
       "      <td>-3.067251</td>\n",
       "      <td>0.357014</td>\n",
       "      <td>AAAGCAAAT</td>\n",
       "    </tr>\n",
       "    <tr>\n",
       "      <th>4</th>\n",
       "      <td>False</td>\n",
       "      <td>-2.987074</td>\n",
       "      <td>0.472637</td>\n",
       "      <td>AAAGCAACA</td>\n",
       "    </tr>\n",
       "  </tbody>\n",
       "</table>\n",
       "</div>"
      ],
      "text/plain": [
       "   training_set         y        dy          x\n",
       "0         False -3.751854  0.444200  AAAGCAAAA\n",
       "1          True -2.697741  0.369972  AAAGCAAAC\n",
       "2          True -2.242947  0.575121  AAAGCAAAG\n",
       "3         False -3.067251  0.357014  AAAGCAAAT\n",
       "4         False -2.987074  0.472637  AAAGCAACA"
      ]
     },
     "execution_count": 2,
     "metadata": {},
     "output_type": "execute_result"
    }
   ],
   "source": [
    "# Load example data\n",
    "data_df = mavenn.load_example_dataset('mpsa')\n",
    "data_df.head()"
   ]
  },
  {
   "cell_type": "code",
   "execution_count": 3,
   "metadata": {},
   "outputs": [
    {
     "name": "stdout",
     "output_type": "stream",
     "text": [
      "training N: 17,498\n",
      "testing N: 4,431\n"
     ]
    }
   ],
   "source": [
    "# Split into trianing and test data\n",
    "ix = data_df['training_set']\n",
    "L = len(data_df['x'][0])\n",
    "train_df = data_df[ix]\n",
    "print(f'training N: {len(train_df):,}')\n",
    "test_df = data_df[~ix]\n",
    "print(f'testing N: {len(test_df):,}')"
   ]
  },
  {
   "cell_type": "code",
   "execution_count": 4,
   "metadata": {},
   "outputs": [],
   "source": [
    "# Set seeed\n",
    "mavenn.set_seed(0)\n",
    "\n",
    "# Define model\n",
    "model = mavenn.Model(regression_type='GE',\n",
    "                     L=L,\n",
    "                     alphabet='dna',\n",
    "                     gpmap_type='pairwise',                     \n",
    "                     ge_noise_model_type='SkewedT',\n",
    "                     ge_heteroskedasticity_order=2)\n"
   ]
  },
  {
   "cell_type": "code",
   "execution_count": 5,
   "metadata": {},
   "outputs": [
    {
     "name": "stdout",
     "output_type": "stream",
     "text": [
      "N = 17,498 observations set as training data.\n",
      "Data shuffled.\n",
      "Time to set data: 1.28 sec.\n"
     ]
    }
   ],
   "source": [
    "# Set training data\n",
    "model.set_data(x=train_df['x'],\n",
    "               y=train_df['y'],\n",
    "               shuffle=True)"
   ]
  },
  {
   "cell_type": "code",
   "execution_count": 6,
   "metadata": {
    "scrolled": true
   },
   "outputs": [
    {
     "name": "stdout",
     "output_type": "stream",
     "text": [
      " \n",
      "LSMR            Least-squares solution of  Ax = b\n",
      "\n",
      "The matrix A has    17498 rows  and       36 cols\n",
      "damp = 0.00000000000000e+00\n",
      "\n",
      "atol = 1.00e-06                 conlim = 1.00e+08\n",
      "\n",
      "btol = 1.00e-06             maxiter =       36\n",
      "\n",
      " \n",
      "   itn      x(1)       norm r    norm Ar  compatible   LS      norm A   cond A\n",
      "     0  0.00000e+00  1.323e+02  4.299e+03   1.0e+00  2.5e-01\n",
      "     1  2.19200e-02  1.200e+02  1.397e+03   9.1e-01  1.5e-01  7.7e+01  1.0e+00\n",
      "     2  2.59784e-02  1.186e+02  7.118e+02   9.0e-01  5.2e-02  1.1e+02  1.1e+00\n",
      "     3  2.96533e-02  1.184e+02  2.279e+02   9.0e-01  7.5e-03  2.6e+02  2.4e+00\n",
      "     4  3.10860e-02  1.183e+02  5.410e+01   8.9e-01  1.7e-03  2.7e+02  3.1e+00\n",
      "     5  3.20917e-02  1.183e+02  1.251e+01   8.9e-01  3.7e-04  2.8e+02  3.4e+00\n",
      "     6  3.22692e-02  1.183e+02  1.248e+00   8.9e-01  3.7e-05  2.9e+02  3.5e+00\n",
      "     7  3.22536e-02  1.183e+02  2.542e-01   8.9e-01  7.2e-06  3.0e+02  3.5e+00\n",
      "     8  3.22424e-02  1.183e+02  6.790e-02   8.9e-01  1.9e-06  3.0e+02  3.5e+00\n",
      "     9  3.22416e-02  1.183e+02  1.024e-02   8.9e-01  2.8e-07  3.1e+02  3.5e+00\n",
      " \n",
      "LSMR finished\n",
      "The least-squares solution is good enough, given atol     \n",
      "istop =       2    normr = 1.2e+02\n",
      "    normA = 3.1e+02    normAr = 1.0e-02\n",
      "itn   =       9    condA = 3.5e+00\n",
      "    normx = 8.5e-01\n",
      "     9  3.22416e-02   1.183e+02  1.024e-02\n",
      "   8.9e-01  2.8e-07   3.1e+02  3.5e+00\n",
      "Linear regression time: 0.0875 sec\n",
      "Epoch 1/1000\n",
      "70/70 [==============================] - 3s 37ms/step - loss: 231.3641 - I_like: -0.3840 - val_loss: 193.2534 - val_I_like: -0.1322\n",
      "Epoch 2/1000\n",
      "70/70 [==============================] - 1s 9ms/step - loss: 181.4127 - I_like: -0.0319 - val_loss: 162.8758 - val_I_like: 0.0858\n",
      "Epoch 3/1000\n",
      "70/70 [==============================] - 1s 9ms/step - loss: 160.3654 - I_like: 0.1193 - val_loss: 153.3323 - val_I_like: 0.1552\n",
      "Epoch 4/1000\n",
      "70/70 [==============================] - 1s 8ms/step - loss: 154.3996 - I_like: 0.1612 - val_loss: 150.8741 - val_I_like: 0.1723\n",
      "Epoch 5/1000\n",
      "70/70 [==============================] - 1s 8ms/step - loss: 152.1857 - I_like: 0.1768 - val_loss: 148.6830 - val_I_like: 0.1880\n",
      "Epoch 6/1000\n",
      "70/70 [==============================] - 1s 10ms/step - loss: 151.2848 - I_like: 0.1832 - val_loss: 148.5081 - val_I_like: 0.1891\n",
      "Epoch 7/1000\n",
      "70/70 [==============================] - 1s 12ms/step - loss: 150.5058 - I_like: 0.1891 - val_loss: 147.8212 - val_I_like: 0.1945\n",
      "Epoch 8/1000\n",
      "70/70 [==============================] - 1s 10ms/step - loss: 149.7773 - I_like: 0.1948 - val_loss: 148.1888 - val_I_like: 0.1908\n",
      "Epoch 9/1000\n",
      "70/70 [==============================] - 1s 10ms/step - loss: 149.0610 - I_like: 0.2004 - val_loss: 147.8744 - val_I_like: 0.1943\n",
      "Epoch 10/1000\n",
      "70/70 [==============================] - 1s 9ms/step - loss: 148.8076 - I_like: 0.2024 - val_loss: 147.8637 - val_I_like: 0.1946\n",
      "Epoch 11/1000\n",
      "70/70 [==============================] - 1s 9ms/step - loss: 148.2689 - I_like: 0.2069 - val_loss: 147.4875 - val_I_like: 0.1979\n",
      "Epoch 12/1000\n",
      "70/70 [==============================] - 1s 9ms/step - loss: 148.2490 - I_like: 0.2075 - val_loss: 146.1182 - val_I_like: 0.2076\n",
      "Epoch 13/1000\n",
      "70/70 [==============================] - 1s 8ms/step - loss: 147.3561 - I_like: 0.2140 - val_loss: 146.4642 - val_I_like: 0.2049\n",
      "Epoch 14/1000\n",
      "70/70 [==============================] - 1s 9ms/step - loss: 146.8459 - I_like: 0.2182 - val_loss: 145.5653 - val_I_like: 0.2122\n",
      "Epoch 15/1000\n",
      "70/70 [==============================] - 1s 9ms/step - loss: 146.2802 - I_like: 0.2228 - val_loss: 145.8592 - val_I_like: 0.2099\n",
      "Epoch 16/1000\n",
      "70/70 [==============================] - 1s 9ms/step - loss: 146.3075 - I_like: 0.2228 - val_loss: 143.9738 - val_I_like: 0.2244\n",
      "Epoch 17/1000\n",
      "70/70 [==============================] - 1s 9ms/step - loss: 145.5961 - I_like: 0.2285 - val_loss: 144.2265 - val_I_like: 0.2229\n",
      "Epoch 18/1000\n",
      "70/70 [==============================] - 1s 8ms/step - loss: 145.4377 - I_like: 0.2301 - val_loss: 143.5527 - val_I_like: 0.2277\n",
      "Epoch 19/1000\n",
      "70/70 [==============================] - 1s 9ms/step - loss: 144.1777 - I_like: 0.2396 - val_loss: 142.5023 - val_I_like: 0.2357\n",
      "Epoch 20/1000\n",
      "70/70 [==============================] - 1s 9ms/step - loss: 143.5355 - I_like: 0.2447 - val_loss: 143.2440 - val_I_like: 0.2309\n",
      "Epoch 21/1000\n",
      "70/70 [==============================] - 1s 9ms/step - loss: 142.3575 - I_like: 0.2541 - val_loss: 140.5277 - val_I_like: 0.2522\n",
      "Epoch 22/1000\n",
      "70/70 [==============================] - 1s 9ms/step - loss: 141.9651 - I_like: 0.2572 - val_loss: 140.4833 - val_I_like: 0.2508\n",
      "Epoch 23/1000\n",
      "70/70 [==============================] - 1s 8ms/step - loss: 138.6412 - I_like: 0.2808 - val_loss: 136.2730 - val_I_like: 0.2832\n",
      "Epoch 24/1000\n",
      "70/70 [==============================] - 1s 9ms/step - loss: 137.2626 - I_like: 0.2902 - val_loss: 136.5079 - val_I_like: 0.2817\n",
      "Epoch 25/1000\n",
      "70/70 [==============================] - 1s 9ms/step - loss: 135.1076 - I_like: 0.3063 - val_loss: 134.5814 - val_I_like: 0.2940\n",
      "Epoch 26/1000\n",
      "70/70 [==============================] - 1s 10ms/step - loss: 133.9272 - I_like: 0.3151 - val_loss: 135.7691 - val_I_like: 0.2879\n",
      "Epoch 27/1000\n",
      "70/70 [==============================] - 1s 9ms/step - loss: 132.7972 - I_like: 0.3238 - val_loss: 133.5888 - val_I_like: 0.3024\n",
      "Epoch 28/1000\n",
      "70/70 [==============================] - 1s 9ms/step - loss: 133.1119 - I_like: 0.3216 - val_loss: 133.6892 - val_I_like: 0.3020\n",
      "Epoch 29/1000\n",
      "70/70 [==============================] - 1s 9ms/step - loss: 133.0645 - I_like: 0.3220 - val_loss: 133.2666 - val_I_like: 0.3055\n",
      "Epoch 30/1000\n",
      "70/70 [==============================] - 1s 9ms/step - loss: 132.5473 - I_like: 0.3259 - val_loss: 136.0811 - val_I_like: 0.2841\n",
      "Epoch 31/1000\n",
      "70/70 [==============================] - 1s 8ms/step - loss: 131.4608 - I_like: 0.3338 - val_loss: 133.5162 - val_I_like: 0.3033\n",
      "Epoch 32/1000\n",
      "70/70 [==============================] - 1s 9ms/step - loss: 133.4486 - I_like: 0.3197 - val_loss: 135.0404 - val_I_like: 0.2929\n",
      "Epoch 33/1000\n",
      "70/70 [==============================] - 1s 10ms/step - loss: 132.3303 - I_like: 0.3278 - val_loss: 133.8233 - val_I_like: 0.3014\n",
      "Epoch 34/1000\n",
      "70/70 [==============================] - 1s 9ms/step - loss: 133.2318 - I_like: 0.3211 - val_loss: 135.4635 - val_I_like: 0.2901\n",
      "Epoch 35/1000\n",
      "70/70 [==============================] - 1s 9ms/step - loss: 131.8639 - I_like: 0.3311 - val_loss: 132.5704 - val_I_like: 0.3113\n",
      "Epoch 36/1000\n",
      "70/70 [==============================] - 1s 8ms/step - loss: 131.4233 - I_like: 0.3347 - val_loss: 133.9468 - val_I_like: 0.3019\n",
      "Epoch 37/1000\n",
      "70/70 [==============================] - 1s 9ms/step - loss: 131.4205 - I_like: 0.3350 - val_loss: 135.0802 - val_I_like: 0.2934\n",
      "Epoch 38/1000\n",
      "70/70 [==============================] - 1s 9ms/step - loss: 131.5716 - I_like: 0.3338 - val_loss: 135.6685 - val_I_like: 0.2902\n",
      "Epoch 39/1000\n",
      "70/70 [==============================] - 1s 9ms/step - loss: 130.7984 - I_like: 0.3397 - val_loss: 134.8328 - val_I_like: 0.2965\n",
      "Epoch 40/1000\n",
      "70/70 [==============================] - 1s 9ms/step - loss: 131.3466 - I_like: 0.3356 - val_loss: 132.7162 - val_I_like: 0.3120\n",
      "Epoch 41/1000\n",
      "70/70 [==============================] - 1s 9ms/step - loss: 131.1690 - I_like: 0.3371 - val_loss: 135.9681 - val_I_like: 0.2877\n",
      "Epoch 42/1000\n",
      "70/70 [==============================] - 1s 10ms/step - loss: 132.0500 - I_like: 0.3306 - val_loss: 135.3752 - val_I_like: 0.2908\n",
      "Epoch 43/1000\n",
      "70/70 [==============================] - 1s 9ms/step - loss: 130.9626 - I_like: 0.3385 - val_loss: 135.7628 - val_I_like: 0.2902\n",
      "Epoch 44/1000\n",
      "70/70 [==============================] - 1s 10ms/step - loss: 131.2551 - I_like: 0.3365 - val_loss: 135.6812 - val_I_like: 0.2903\n",
      "Epoch 45/1000\n",
      "70/70 [==============================] - 1s 11ms/step - loss: 131.9502 - I_like: 0.3315 - val_loss: 134.2821 - val_I_like: 0.2996\n",
      "Epoch 46/1000\n",
      "70/70 [==============================] - 1s 10ms/step - loss: 131.4453 - I_like: 0.3352 - val_loss: 135.4551 - val_I_like: 0.2926\n",
      "Epoch 47/1000\n",
      "70/70 [==============================] - 1s 10ms/step - loss: 131.2771 - I_like: 0.3365 - val_loss: 132.4965 - val_I_like: 0.3125\n",
      "Epoch 48/1000\n"
     ]
    },
    {
     "name": "stdout",
     "output_type": "stream",
     "text": [
      "70/70 [==============================] - 1s 9ms/step - loss: 130.6234 - I_like: 0.3413 - val_loss: 132.9456 - val_I_like: 0.3099\n",
      "Epoch 49/1000\n",
      "70/70 [==============================] - 1s 9ms/step - loss: 130.7273 - I_like: 0.3406 - val_loss: 134.9071 - val_I_like: 0.2964\n",
      "Epoch 50/1000\n",
      "70/70 [==============================] - 1s 11ms/step - loss: 130.8034 - I_like: 0.3399 - val_loss: 132.2638 - val_I_like: 0.3151\n",
      "Epoch 51/1000\n",
      "70/70 [==============================] - 1s 9ms/step - loss: 130.1498 - I_like: 0.3450 - val_loss: 136.9746 - val_I_like: 0.2830\n",
      "Epoch 52/1000\n",
      "70/70 [==============================] - 1s 9ms/step - loss: 131.1077 - I_like: 0.3381 - val_loss: 134.0062 - val_I_like: 0.3034\n",
      "Epoch 53/1000\n",
      "70/70 [==============================] - 1s 12ms/step - loss: 131.2976 - I_like: 0.3367 - val_loss: 132.7499 - val_I_like: 0.3124\n",
      "Epoch 54/1000\n",
      "70/70 [==============================] - 1s 9ms/step - loss: 130.0983 - I_like: 0.3455 - val_loss: 135.4092 - val_I_like: 0.2913\n",
      "Epoch 55/1000\n",
      "70/70 [==============================] - 1s 11ms/step - loss: 130.5181 - I_like: 0.3425 - val_loss: 140.4562 - val_I_like: 0.2562\n",
      "Epoch 56/1000\n",
      "70/70 [==============================] - 1s 10ms/step - loss: 131.1815 - I_like: 0.3376 - val_loss: 133.2753 - val_I_like: 0.3075\n",
      "Epoch 57/1000\n",
      "70/70 [==============================] - 1s 10ms/step - loss: 131.2834 - I_like: 0.3368 - val_loss: 134.6704 - val_I_like: 0.2983\n",
      "Epoch 58/1000\n",
      "70/70 [==============================] - 1s 9ms/step - loss: 130.7195 - I_like: 0.3410 - val_loss: 136.9561 - val_I_like: 0.2822\n",
      "Epoch 59/1000\n",
      "70/70 [==============================] - 1s 9ms/step - loss: 130.7986 - I_like: 0.3402 - val_loss: 132.7576 - val_I_like: 0.3113\n",
      "Epoch 60/1000\n",
      "70/70 [==============================] - 1s 10ms/step - loss: 130.6060 - I_like: 0.3416 - val_loss: 133.0549 - val_I_like: 0.3094\n",
      "Epoch 61/1000\n",
      "70/70 [==============================] - 1s 10ms/step - loss: 130.4360 - I_like: 0.3430 - val_loss: 133.6750 - val_I_like: 0.3055\n",
      "Epoch 62/1000\n",
      "70/70 [==============================] - 1s 10ms/step - loss: 130.1258 - I_like: 0.3452 - val_loss: 139.3654 - val_I_like: 0.2651\n",
      "Epoch 63/1000\n",
      "70/70 [==============================] - 1s 8ms/step - loss: 131.5120 - I_like: 0.3352 - val_loss: 133.7647 - val_I_like: 0.3047\n",
      "Epoch 64/1000\n",
      "70/70 [==============================] - 1s 8ms/step - loss: 130.9764 - I_like: 0.3391 - val_loss: 135.4457 - val_I_like: 0.2921\n",
      "Epoch 65/1000\n",
      "70/70 [==============================] - 1s 8ms/step - loss: 130.6973 - I_like: 0.3412 - val_loss: 133.8143 - val_I_like: 0.3028\n",
      "Epoch 66/1000\n",
      "70/70 [==============================] - 1s 9ms/step - loss: 131.0498 - I_like: 0.3383 - val_loss: 133.0837 - val_I_like: 0.3086\n",
      "Epoch 67/1000\n",
      "70/70 [==============================] - 1s 9ms/step - loss: 130.4177 - I_like: 0.3429 - val_loss: 134.7572 - val_I_like: 0.2971\n",
      "Epoch 68/1000\n",
      "70/70 [==============================] - 1s 9ms/step - loss: 130.8215 - I_like: 0.3401 - val_loss: 133.4100 - val_I_like: 0.3073\n",
      "Epoch 69/1000\n",
      "70/70 [==============================] - 1s 9ms/step - loss: 131.4606 - I_like: 0.3355 - val_loss: 136.4453 - val_I_like: 0.2853\n",
      "Epoch 70/1000\n",
      "70/70 [==============================] - 1s 8ms/step - loss: 130.8117 - I_like: 0.3401 - val_loss: 133.1674 - val_I_like: 0.3085\n",
      "Epoch 71/1000\n",
      "70/70 [==============================] - 1s 9ms/step - loss: 130.9365 - I_like: 0.3393 - val_loss: 135.3453 - val_I_like: 0.2933\n",
      "Epoch 72/1000\n",
      "70/70 [==============================] - 1s 8ms/step - loss: 130.8392 - I_like: 0.3400 - val_loss: 135.6833 - val_I_like: 0.2909\n",
      "Epoch 73/1000\n",
      "70/70 [==============================] - 1s 8ms/step - loss: 130.3058 - I_like: 0.3438 - val_loss: 133.4184 - val_I_like: 0.3065\n",
      "Epoch 74/1000\n",
      "70/70 [==============================] - 1s 10ms/step - loss: 130.4200 - I_like: 0.3430 - val_loss: 134.1918 - val_I_like: 0.3023\n",
      "Epoch 75/1000\n",
      "70/70 [==============================] - 1s 9ms/step - loss: 130.0317 - I_like: 0.3459 - val_loss: 135.4863 - val_I_like: 0.2929\n",
      "Epoch 76/1000\n",
      "70/70 [==============================] - 1s 9ms/step - loss: 130.7350 - I_like: 0.3409 - val_loss: 133.7816 - val_I_like: 0.3054\n",
      "Epoch 77/1000\n",
      "70/70 [==============================] - 1s 9ms/step - loss: 130.7080 - I_like: 0.3410 - val_loss: 135.0769 - val_I_like: 0.2950\n",
      "Epoch 78/1000\n",
      "70/70 [==============================] - 1s 10ms/step - loss: 131.3682 - I_like: 0.3363 - val_loss: 134.9708 - val_I_like: 0.2964\n",
      "Epoch 79/1000\n",
      "70/70 [==============================] - 1s 9ms/step - loss: 130.4583 - I_like: 0.3429 - val_loss: 133.3951 - val_I_like: 0.3064\n",
      "Epoch 80/1000\n",
      "70/70 [==============================] - 1s 9ms/step - loss: 130.0573 - I_like: 0.3458 - val_loss: 134.6374 - val_I_like: 0.2981\n",
      "Training time: 62.6 seconds\n"
     ]
    }
   ],
   "source": [
    "# Fit model to data\n",
    "history = model.fit(learning_rate=.005,\n",
    "                    epochs=1000,\n",
    "                    batch_size=200,\n",
    "                    early_stopping=True,\n",
    "                    early_stopping_patience=30)"
   ]
  },
  {
   "cell_type": "code",
   "execution_count": 7,
   "metadata": {},
   "outputs": [
    {
     "name": "stdout",
     "output_type": "stream",
     "text": [
      "Model saved to these files:\n",
      "\tmpsa_ge_pairwise.pickle\n",
      "\tmpsa_ge_pairwise.h5\n"
     ]
    }
   ],
   "source": [
    "# Save model\n",
    "model.save('mpsa_ge_pairwise')"
   ]
  },
  {
   "cell_type": "code",
   "execution_count": 8,
   "metadata": {
    "scrolled": true
   },
   "outputs": [
    {
     "name": "stdout",
     "output_type": "stream",
     "text": [
      "Model loaded from these files:\n",
      "\tmpsa_ge_pairwise.pickle\n",
      "\tmpsa_ge_pairwise.h5\n"
     ]
    }
   ],
   "source": [
    "# Load model\n",
    "model = mavenn.load('mpsa_ge_pairwise')"
   ]
  },
  {
   "cell_type": "code",
   "execution_count": 9,
   "metadata": {},
   "outputs": [],
   "source": [
    "# Get x and y\n",
    "x_test = test_df['x'].values\n",
    "y_test = test_df['y'].values\n",
    "dy_test = test_df['dy'].values"
   ]
  },
  {
   "cell_type": "code",
   "execution_count": 10,
   "metadata": {},
   "outputs": [
    {
     "name": "stdout",
     "output_type": "stream",
     "text": [
      "On test data:\n",
      "I_like_test: 0.320 +- 0.029 bits\n",
      "I_pred_test: 0.379 +- 0.015 bits\n",
      "I_intrinsic: 0.787 +- 0.026 bits\n",
      "percent info explained: 48.2% +- 2.6%\n"
     ]
    },
    {
     "data": {
      "image/png": "[encoded data removed]",
      "text/plain": [
       "<Figure size 288x288 with 1 Axes>"
      ]
     },
     "metadata": {
      "needs_background": "light"
     },
     "output_type": "display_data"
    }
   ],
   "source": [
    "# Show training history\n",
    "print('On test data:')\n",
    "\n",
    "# Compute likelihood information\n",
    "I_like, dI_like =  model.I_likelihood(x=x_test, y=y_test)\n",
    "print(f'I_like_test: {I_like:.3f} +- {dI_like:.3f} bits') \n",
    "\n",
    "# Compute predictive information\n",
    "I_pred, dI_pred = model.I_predictive(x=x_test, y=y_test)\n",
    "print(f'I_pred_test: {I_pred:.3f} +- {dI_pred:.3f} bits')\n",
    "\n",
    "# Compute intrinsic information\n",
    "I_intr, dI_intr = mavenn.I_intrinsic(y_values=y_test, dy_values=dy_test)\n",
    "print(f'I_intrinsic: {I_intr:.3f} +- {dI_intr:.3f} bits')\n",
    "\n",
    "# Compute percent info explained\n",
    "pct = 100*I_pred/I_intr\n",
    "dpct = 100*np.sqrt((dI_pred/I_intr)**2 + (dI_intr*I_pred/I_intr**2)**2)\n",
    "print(f'percent info explained: {pct:.1f}% +- {dpct:.1f}%')\n",
    "\n",
    "I_like_hist = model.history['I_like']\n",
    "val_I_like_hist = model.history['val_I_like']\n",
    "\n",
    "fig, ax = plt.subplots(1,1,figsize=[4,4])\n",
    "ax.plot(I_like_hist, label='I_like_train')\n",
    "ax.plot(val_I_like_hist, label='I_like_val')\n",
    "ax.axhline(I_like, color='C2', linestyle=':', label='I_like_test')\n",
    "ax.axhline(I_pred, color='C3', linestyle=':', label='I_pred_test')\n",
    "ax.axhline(I_intr, color='C4', linestyle=':', label='I_intrinsic')\n",
    "ax.legend()\n",
    "ax.set_xlabel('epochs')\n",
    "ax.set_ylabel('bits')\n",
    "ax.set_title('training hisotry')\n",
    "ax.set_ylim([0, I_intr*1.2]);"
   ]
  },
  {
   "cell_type": "code",
   "execution_count": 11,
   "metadata": {},
   "outputs": [
    {
     "data": {
      "image/png": "[encoded data removed]",
      "text/plain": [
       "<Figure size 288x288 with 1 Axes>"
      ]
     },
     "metadata": {
      "needs_background": "light"
     },
     "output_type": "display_data"
    }
   ],
   "source": [
    "# Predict latent phentoype values (phi) on test data\n",
    "phi_test = model.x_to_phi(x_test)\n",
    "\n",
    "# Predict measurement values (yhat) on test data\n",
    "yhat_test = model.x_to_yhat(x_test)\n",
    "\n",
    "# Set phi lims and create grid in phi space\n",
    "phi_lim = [min(phi_test)-.5, max(phi_test)+.5]\n",
    "phi_grid = np.linspace(phi_lim[0], phi_lim[1], 1000)\n",
    "\n",
    "# Compute yhat each phi gridpoint\n",
    "yhat_grid = model.phi_to_yhat(phi_grid)\n",
    "\n",
    "# Compute 90% CI for each yhat\n",
    "q = [0.05, 0.95] #[0.16, 0.84]\n",
    "yqs_grid = model.yhat_to_yq(yhat_grid, q=q)\n",
    "\n",
    "# Create figure\n",
    "fig, ax = plt.subplots(1, 1, figsize=[4, 4])\n",
    "\n",
    "# Illustrate measurement process with GE curve\n",
    "ax.scatter(phi_test, y_test, color='C0', s=5, alpha=.2, label='test data')\n",
    "ax.plot(phi_grid, yhat_grid, linewidth=2, color='C1',\n",
    "        label='$\\hat{y} = g(\\phi)$')\n",
    "ax.plot(phi_grid, yqs_grid[:, 0], linestyle='--', color='C1', label='68% CI')\n",
    "ax.plot(phi_grid, yqs_grid[:, 1], linestyle='--', color='C1')\n",
    "ax.set_xlim(phi_lim)\n",
    "ax.set_xlabel('latent phenotype ($\\phi$)')\n",
    "ax.set_ylabel('measurement ($y$)')\n",
    "ax.set_title('measurement process')\n",
    "ax.legend()\n",
    "\n",
    "# Fix up plot\n",
    "fig.tight_layout()\n",
    "plt.show()"
   ]
  },
  {
   "cell_type": "code",
   "execution_count": 12,
   "metadata": {},
   "outputs": [
    {
     "data": {
      "image/png": "[encoded data removed]",
      "text/plain": [
       "<Figure size 576x288 with 2 Axes>"
      ]
     },
     "metadata": {
      "needs_background": "light"
     },
     "output_type": "display_data"
    }
   ],
   "source": [
    "# Plot pairwise parameters\n",
    "theta = model.get_theta()\n",
    "fig, ax = plt.subplots(1, 1, figsize=[8, 4])\n",
    "mavenn.heatmap_pairwise(values=theta['theta_lclc'],\n",
    "                        alphabet=theta['alphabet'],\n",
    "                        ax=ax);"
   ]
  },
  {
   "cell_type": "code",
   "execution_count": 13,
   "metadata": {},
   "outputs": [
    {
     "data": {
      "text/html": [
       "<div>\n",
       "<style scoped>\n",
       "    .dataframe tbody tr th:only-of-type {\n",
       "        vertical-align: middle;\n",
       "    }\n",
       "\n",
       "    .dataframe tbody tr th {\n",
       "        vertical-align: top;\n",
       "    }\n",
       "\n",
       "    .dataframe thead th {\n",
       "        text-align: right;\n",
       "    }\n",
       "</style>\n",
       "<table border=\"1\" class=\"dataframe\">\n",
       "  <thead>\n",
       "    <tr style=\"text-align: right;\">\n",
       "      <th></th>\n",
       "      <th>training_set</th>\n",
       "      <th>yhat</th>\n",
       "      <th>phi</th>\n",
       "      <th>y</th>\n",
       "      <th>x</th>\n",
       "    </tr>\n",
       "  </thead>\n",
       "  <tbody>\n",
       "    <tr>\n",
       "      <th>0</th>\n",
       "      <td>True</td>\n",
       "      <td>-3.113718</td>\n",
       "      <td>-0.657085</td>\n",
       "      <td>-3.114324</td>\n",
       "      <td>AGCGTTATG</td>\n",
       "    </tr>\n",
       "    <tr>\n",
       "      <th>1</th>\n",
       "      <td>True</td>\n",
       "      <td>-3.110424</td>\n",
       "      <td>-0.037359</td>\n",
       "      <td>-2.944384</td>\n",
       "      <td>ACTGTTTAA</td>\n",
       "    </tr>\n",
       "    <tr>\n",
       "      <th>2</th>\n",
       "      <td>True</td>\n",
       "      <td>-3.106099</td>\n",
       "      <td>0.272004</td>\n",
       "      <td>-3.071055</td>\n",
       "      <td>TGAGCGTTT</td>\n",
       "    </tr>\n",
       "    <tr>\n",
       "      <th>3</th>\n",
       "      <td>True</td>\n",
       "      <td>-3.109269</td>\n",
       "      <td>0.074221</td>\n",
       "      <td>-3.027090</td>\n",
       "      <td>CAGGCTCAG</td>\n",
       "    </tr>\n",
       "    <tr>\n",
       "      <th>4</th>\n",
       "      <td>True</td>\n",
       "      <td>-3.109307</td>\n",
       "      <td>0.071089</td>\n",
       "      <td>-2.821806</td>\n",
       "      <td>TGAGCGTGG</td>\n",
       "    </tr>\n",
       "  </tbody>\n",
       "</table>\n",
       "</div>"
      ],
      "text/plain": [
       "   training_set      yhat       phi         y          x\n",
       "0          True -3.113718 -0.657085 -3.114324  AGCGTTATG\n",
       "1          True -3.110424 -0.037359 -2.944384  ACTGTTTAA\n",
       "2          True -3.106099  0.272004 -3.071055  TGAGCGTTT\n",
       "3          True -3.109269  0.074221 -3.027090  CAGGCTCAG\n",
       "4          True -3.109307  0.071089 -2.821806  TGAGCGTGG"
      ]
     },
     "execution_count": 13,
     "metadata": {},
     "output_type": "execute_result"
    }
   ],
   "source": [
    "# Test simulate_data\n",
    "sim_df = model.simulate_dataset(N=1000)\n",
    "sim_df.head()"
   ]
  }
 ],
 "metadata": {
  "kernelspec": {
   "display_name": "Python 3",
   "language": "python",
   "name": "python3"
  },
  "language_info": {
   "codemirror_mode": {
    "name": "ipython",
    "version": 3
   },
   "file_extension": ".py",
   "mimetype": "text/x-python",
   "name": "python",
   "nbconvert_exporter": "python",
   "pygments_lexer": "ipython3",
   "version": "3.7.4"
  }
 },
 "nbformat": 4,
 "nbformat_minor": 2
}
