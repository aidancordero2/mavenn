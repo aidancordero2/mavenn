{
 "cells": [
  {
   "cell_type": "code",
   "execution_count": 1,
   "metadata": {},
   "outputs": [
    {
     "name": "stdout",
     "output_type": "stream",
     "text": [
      "['/Users/tareen/Desktop/Research_Projects/2020_mavenn_github/mavenn_local/mavenn']\n"
     ]
    }
   ],
   "source": [
    "# Standard imports\n",
    "import pandas as pd\n",
    "import matplotlib.pyplot as plt\n",
    "import numpy as np\n",
    "import time\n",
    "\n",
    "# Insert path to mavenn beginning of path\n",
    "import os\n",
    "import sys\n",
    "abs_path_to_mavenn = os.path.abspath('../../../')\n",
    "sys.path.insert(0, abs_path_to_mavenn)\n",
    "\n",
    "# Load mavenn\n",
    "import mavenn\n",
    "print(mavenn.__path__)"
   ]
  },
  {
   "cell_type": "code",
   "execution_count": 2,
   "metadata": {},
   "outputs": [
    {
     "name": "stdout",
     "output_type": "stream",
     "text": [
      "training N: 16446\n"
     ]
    },
    {
     "data": {
      "text/html": [
       "<div>\n",
       "<style scoped>\n",
       "    .dataframe tbody tr th:only-of-type {\n",
       "        vertical-align: middle;\n",
       "    }\n",
       "\n",
       "    .dataframe tbody tr th {\n",
       "        vertical-align: top;\n",
       "    }\n",
       "\n",
       "    .dataframe thead th {\n",
       "        text-align: right;\n",
       "    }\n",
       "</style>\n",
       "<table border=\"1\" class=\"dataframe\">\n",
       "  <thead>\n",
       "    <tr style=\"text-align: right;\">\n",
       "      <th></th>\n",
       "      <th>x</th>\n",
       "      <th>y</th>\n",
       "    </tr>\n",
       "  </thead>\n",
       "  <tbody>\n",
       "    <tr>\n",
       "      <th>0</th>\n",
       "      <td>TAAGCTTTA</td>\n",
       "      <td>-3.455265</td>\n",
       "    </tr>\n",
       "    <tr>\n",
       "      <th>1</th>\n",
       "      <td>GCAGCCTAT</td>\n",
       "      <td>-3.135494</td>\n",
       "    </tr>\n",
       "    <tr>\n",
       "      <th>2</th>\n",
       "      <td>GTGGTAAGG</td>\n",
       "      <td>2.291043</td>\n",
       "    </tr>\n",
       "    <tr>\n",
       "      <th>3</th>\n",
       "      <td>TGGGCGCAG</td>\n",
       "      <td>-3.147840</td>\n",
       "    </tr>\n",
       "    <tr>\n",
       "      <th>4</th>\n",
       "      <td>GGTGCGGGC</td>\n",
       "      <td>0.547527</td>\n",
       "    </tr>\n",
       "  </tbody>\n",
       "</table>\n",
       "</div>"
      ],
      "text/plain": [
       "           x         y\n",
       "0  TAAGCTTTA -3.455265\n",
       "1  GCAGCCTAT -3.135494\n",
       "2  GTGGTAAGG  2.291043\n",
       "3  TGGGCGCAG -3.147840\n",
       "4  GGTGCGGGC  0.547527"
      ]
     },
     "execution_count": 2,
     "metadata": {},
     "output_type": "execute_result"
    }
   ],
   "source": [
    "# Load example data\n",
    "data_df = mavenn.load_example(which='training_data', name='mpsa')\n",
    "print(f'training N: {len(data_df)}')\n",
    "\n",
    "# Scale y-values in absurd way\n",
    "# data_df['y'] = 1000 + 100*data_df['y']\n",
    "\n",
    "data_df.head()"
   ]
  },
  {
   "cell_type": "code",
   "execution_count": 3,
   "metadata": {
    "collapsed": true
   },
   "outputs": [],
   "source": [
    "sequence_length = len(data_df['x'][0])\n",
    "number_of_bins = None"
   ]
  },
  {
   "cell_type": "code",
   "execution_count": 4,
   "metadata": {
    "collapsed": true
   },
   "outputs": [],
   "source": [
    "# Set seeed\n",
    "mavenn.set_seed(0)\n",
    "\n",
    "# Define model\n",
    "model = mavenn.Model(regression_type='GE',\n",
    "                     sequence_length=sequence_length,\n",
    "                     number_of_bins=number_of_bins,\n",
    "                     alphabet='dna',\n",
    "                     gpmap_type='pairwise',                     \n",
    "                     ge_noise_model_type='SkewedT',\n",
    "                     ge_heteroskedasticity_order=2)\n"
   ]
  },
  {
   "cell_type": "code",
   "execution_count": 5,
   "metadata": {},
   "outputs": [
    {
     "name": "stdout",
     "output_type": "stream",
     "text": [
      "Model: \"functional_1\"\n",
      "__________________________________________________________________________________________________\n",
      "Layer (type)                    Output Shape         Param #     Connected to                     \n",
      "==================================================================================================\n",
      "Sequence_labels_input (InputLay [(None, 613)]        0                                            \n",
      "__________________________________________________________________________________________________\n",
      "Sequence_only (Lambda)          (None, 612)          0           Sequence_labels_input[0][0]      \n",
      "__________________________________________________________________________________________________\n",
      "phi (Dense)                     (None, 1)            613         Sequence_only[0][0]              \n",
      "__________________________________________________________________________________________________\n",
      "global_epistasis_layer (GlobalE (None, 1)            151         phi[0][0]                        \n",
      "__________________________________________________________________________________________________\n",
      "Labels_input (Lambda)           (None, 1)            0           Sequence_labels_input[0][0]      \n",
      "__________________________________________________________________________________________________\n",
      "yhat_and_y_to_ll (Concatenate)  (None, 2)            0           global_epistasis_layer[0][0]     \n",
      "                                                                 Labels_input[0][0]               \n",
      "__________________________________________________________________________________________________\n",
      "skewed_t_likelihood_layer (Skew (None, 1)            9           yhat_and_y_to_ll[0][0]           \n",
      "==================================================================================================\n",
      "Total params: 773\n",
      "Trainable params: 773\n",
      "Non-trainable params: 0\n",
      "__________________________________________________________________________________________________\n"
     ]
    }
   ],
   "source": [
    "model.get_nn().summary()"
   ]
  },
  {
   "cell_type": "code",
   "execution_count": 6,
   "metadata": {
    "collapsed": true
   },
   "outputs": [],
   "source": [
    "model.set_data(x=data_df['x'],\n",
    "               y=data_df['y'])"
   ]
  },
  {
   "cell_type": "code",
   "execution_count": 7,
   "metadata": {
    "scrolled": true
   },
   "outputs": [
    {
     "name": "stdout",
     "output_type": "stream",
     "text": [
      " \n",
      "LSMR            Least-squares solution of  Ax = b\n",
      "\n",
      "The matrix A has    16446 rows  and      612 cols\n",
      "damp = 0.00000000000000e+00\n",
      "\n",
      "atol = 1.00e-06                 conlim = 1.00e+08\n",
      "\n",
      "btol = 1.00e-06             maxiter =      612\n",
      "\n",
      " \n",
      "   itn      x(1)       norm r    norm Ar  compatible   LS      norm A   cond A\n",
      "     0  0.00000e+00  1.282e+02  8.707e+03   1.0e+00  5.3e-01\n",
      "     1  5.84012e-03  1.125e+02  3.591e+03   8.8e-01  2.3e-01  1.4e+02  1.0e+00\n",
      "     2  7.97211e-03  1.079e+02  2.439e+03   8.4e-01  1.2e-01  1.9e+02  1.5e+00\n",
      "     3  7.49273e-03  1.043e+02  2.225e+03   8.1e-01  9.4e-02  2.3e+02  3.0e+00\n",
      "     4  8.36550e-03  9.832e+01  1.787e+03   7.7e-01  4.7e-02  3.9e+02  1.3e+00\n",
      "     5  9.10465e-03  9.155e+01  8.029e+02   7.1e-01  2.0e-02  4.5e+02  2.5e+00\n",
      "     6  8.37513e-03  9.088e+01  5.955e+02   7.1e-01  1.4e-02  4.5e+02  2.8e+00\n",
      "     7  7.05893e-03  8.997e+01  4.357e+02   7.0e-01  1.0e-02  4.7e+02  4.6e+00\n",
      "     8  8.87058e-03  8.942e+01  2.351e+02   7.0e-01  5.5e-03  4.8e+02  3.1e+00\n",
      "     9  8.69055e-03  8.934e+01  1.676e+02   7.0e-01  3.8e-03  4.9e+02  3.1e+00\n",
      "    10  8.21599e-03  8.928e+01  1.329e+02   7.0e-01  3.0e-03  5.0e+02  4.5e+00\n",
      "    20  8.68528e-03  8.920e+01  3.636e+00   7.0e-01  5.9e-05  6.9e+02  5.7e+00\n",
      "    30  8.65207e-03  8.920e+01  7.856e-01   7.0e-01  1.0e-05  8.5e+02  1.2e+01\n",
      "    40  8.63413e-03  8.920e+01  1.843e-01   7.0e-01  2.2e-06  9.6e+02  8.3e+00\n",
      "    42  8.63300e-03  8.920e+01  6.645e-02   7.0e-01  7.7e-07  9.7e+02  8.7e+00\n",
      " \n",
      "LSMR finished\n",
      "The least-squares solution is good enough, given atol     \n",
      "istop =       2    normr = 8.9e+01\n",
      "    normA = 9.7e+02    normAr = 6.6e-02\n",
      "itn   =      42    condA = 8.7e+00\n",
      "    normx = 1.9e+00\n",
      "    42  8.63300e-03   8.920e+01  6.645e-02\n",
      "   7.0e-01  7.7e-07   9.7e+02  8.7e+00\n",
      "Linear regression time: 0.3465 sec\n",
      "Epoch 1/1000\n",
      "264/264 [==============================] - 1s 2ms/step - loss: 66.5422 - val_loss: 57.9526\n",
      "Epoch 2/1000\n",
      "264/264 [==============================] - 0s 1ms/step - loss: 53.4919 - val_loss: 48.3203\n",
      "Epoch 3/1000\n",
      "264/264 [==============================] - 0s 1ms/step - loss: 46.6019 - val_loss: 43.5043\n",
      "Epoch 4/1000\n",
      "264/264 [==============================] - 0s 1ms/step - loss: 43.0434 - val_loss: 41.1627\n",
      "Epoch 5/1000\n",
      "264/264 [==============================] - 0s 2ms/step - loss: 41.1944 - val_loss: 39.6726\n",
      "Epoch 6/1000\n",
      "264/264 [==============================] - 0s 1ms/step - loss: 40.2776 - val_loss: 38.9381\n",
      "Epoch 7/1000\n",
      "264/264 [==============================] - 0s 1ms/step - loss: 39.7261 - val_loss: 38.7438\n",
      "Epoch 8/1000\n",
      "264/264 [==============================] - 0s 2ms/step - loss: 39.4249 - val_loss: 38.5242\n",
      "Epoch 9/1000\n",
      "264/264 [==============================] - 0s 1ms/step - loss: 39.2704 - val_loss: 38.3697\n",
      "Epoch 10/1000\n",
      "264/264 [==============================] - 0s 1ms/step - loss: 39.1445 - val_loss: 38.1539\n",
      "Epoch 11/1000\n",
      "264/264 [==============================] - 0s 1ms/step - loss: 39.0129 - val_loss: 38.0266\n",
      "Epoch 12/1000\n",
      "264/264 [==============================] - 0s 1ms/step - loss: 38.9603 - val_loss: 37.9667\n",
      "Epoch 13/1000\n",
      "264/264 [==============================] - 0s 2ms/step - loss: 38.8471 - val_loss: 37.8415\n",
      "Epoch 14/1000\n",
      "264/264 [==============================] - 0s 1ms/step - loss: 38.7859 - val_loss: 38.0009\n",
      "Epoch 15/1000\n",
      "264/264 [==============================] - 0s 1ms/step - loss: 38.7661 - val_loss: 37.8496\n",
      "Epoch 16/1000\n",
      "264/264 [==============================] - 0s 1ms/step - loss: 38.6857 - val_loss: 37.8453\n",
      "Epoch 17/1000\n",
      "264/264 [==============================] - 0s 1ms/step - loss: 38.6690 - val_loss: 37.6974\n",
      "Epoch 18/1000\n",
      "264/264 [==============================] - 0s 2ms/step - loss: 38.6281 - val_loss: 37.7108\n",
      "Epoch 19/1000\n",
      "264/264 [==============================] - 0s 2ms/step - loss: 38.5818 - val_loss: 37.7807\n",
      "Epoch 20/1000\n",
      "264/264 [==============================] - 0s 1ms/step - loss: 38.5287 - val_loss: 37.6443\n",
      "Epoch 21/1000\n",
      "264/264 [==============================] - 0s 1ms/step - loss: 38.4784 - val_loss: 37.6703\n",
      "Epoch 22/1000\n",
      "264/264 [==============================] - 0s 1ms/step - loss: 38.4958 - val_loss: 37.6639\n",
      "Epoch 23/1000\n",
      "264/264 [==============================] - 0s 2ms/step - loss: 38.4706 - val_loss: 37.6810\n",
      "Epoch 24/1000\n",
      "264/264 [==============================] - 0s 1ms/step - loss: 38.4133 - val_loss: 37.7038\n",
      "Epoch 25/1000\n",
      "264/264 [==============================] - 0s 1ms/step - loss: 38.4170 - val_loss: 37.6162\n",
      "Epoch 26/1000\n",
      "264/264 [==============================] - 0s 1ms/step - loss: 38.3747 - val_loss: 37.5243\n",
      "Epoch 27/1000\n",
      "264/264 [==============================] - 0s 1ms/step - loss: 38.3107 - val_loss: 37.5414\n",
      "Epoch 28/1000\n",
      "264/264 [==============================] - 0s 1ms/step - loss: 38.3106 - val_loss: 37.4709\n",
      "Epoch 29/1000\n",
      "264/264 [==============================] - 0s 1ms/step - loss: 38.2985 - val_loss: 37.4535\n",
      "Epoch 30/1000\n",
      "264/264 [==============================] - 0s 1ms/step - loss: 38.2272 - val_loss: 37.4473\n",
      "Epoch 31/1000\n",
      "264/264 [==============================] - 0s 1ms/step - loss: 38.2388 - val_loss: 37.4341\n",
      "Epoch 32/1000\n",
      "264/264 [==============================] - 0s 1ms/step - loss: 38.2351 - val_loss: 37.3366\n",
      "Epoch 33/1000\n",
      "264/264 [==============================] - 0s 1ms/step - loss: 38.2133 - val_loss: 37.3751\n",
      "Epoch 34/1000\n",
      "264/264 [==============================] - 0s 1ms/step - loss: 38.1547 - val_loss: 37.3754\n",
      "Epoch 35/1000\n",
      "264/264 [==============================] - 0s 1ms/step - loss: 38.1642 - val_loss: 37.3165\n",
      "Epoch 36/1000\n",
      "264/264 [==============================] - 0s 1ms/step - loss: 38.1478 - val_loss: 37.2761\n",
      "Epoch 37/1000\n",
      "264/264 [==============================] - 0s 1ms/step - loss: 38.1399 - val_loss: 37.4014\n",
      "Epoch 38/1000\n",
      "264/264 [==============================] - 0s 1ms/step - loss: 38.0924 - val_loss: 37.1966\n",
      "Epoch 39/1000\n",
      "264/264 [==============================] - 0s 1ms/step - loss: 38.0778 - val_loss: 37.2294\n",
      "Epoch 40/1000\n",
      "264/264 [==============================] - 0s 1ms/step - loss: 38.0264 - val_loss: 37.2369\n",
      "Epoch 41/1000\n",
      "264/264 [==============================] - 0s 1ms/step - loss: 37.9830 - val_loss: 37.2391\n",
      "Epoch 42/1000\n",
      "264/264 [==============================] - 0s 2ms/step - loss: 37.9569 - val_loss: 37.1208\n",
      "Epoch 43/1000\n",
      "264/264 [==============================] - 0s 2ms/step - loss: 37.9461 - val_loss: 37.1551\n",
      "Epoch 44/1000\n",
      "264/264 [==============================] - 1s 2ms/step - loss: 37.9287 - val_loss: 37.3940\n",
      "Epoch 45/1000\n",
      "264/264 [==============================] - 0s 1ms/step - loss: 37.9512 - val_loss: 37.1774\n",
      "Epoch 46/1000\n",
      "264/264 [==============================] - 0s 2ms/step - loss: 37.8659 - val_loss: 37.2712\n",
      "Epoch 47/1000\n",
      "264/264 [==============================] - 0s 2ms/step - loss: 37.8727 - val_loss: 37.1085\n",
      "Epoch 48/1000\n",
      "264/264 [==============================] - 0s 1ms/step - loss: 37.8284 - val_loss: 36.9835\n",
      "Epoch 49/1000\n",
      "264/264 [==============================] - 0s 2ms/step - loss: 37.7882 - val_loss: 36.9853\n",
      "Epoch 50/1000\n",
      "264/264 [==============================] - 0s 1ms/step - loss: 37.7969 - val_loss: 37.1434\n",
      "Epoch 51/1000\n",
      "264/264 [==============================] - 0s 1ms/step - loss: 37.7596 - val_loss: 36.9963\n",
      "Epoch 52/1000\n",
      "264/264 [==============================] - 0s 2ms/step - loss: 37.7265 - val_loss: 36.9076\n",
      "Epoch 53/1000\n",
      "264/264 [==============================] - 0s 2ms/step - loss: 37.6905 - val_loss: 37.1696\n",
      "Epoch 54/1000\n",
      "264/264 [==============================] - 1s 2ms/step - loss: 37.6835 - val_loss: 36.9659\n",
      "Epoch 55/1000\n",
      "264/264 [==============================] - 0s 2ms/step - loss: 37.6555 - val_loss: 37.0975\n",
      "Epoch 56/1000\n",
      "264/264 [==============================] - 0s 1ms/step - loss: 37.6279 - val_loss: 36.9431\n",
      "Epoch 57/1000\n",
      "264/264 [==============================] - 0s 1ms/step - loss: 37.5970 - val_loss: 36.8910\n",
      "Epoch 58/1000\n",
      "264/264 [==============================] - 0s 1ms/step - loss: 37.5813 - val_loss: 36.8751\n",
      "Epoch 59/1000\n",
      "264/264 [==============================] - 0s 1ms/step - loss: 37.5923 - val_loss: 36.8143\n",
      "Epoch 60/1000\n",
      "264/264 [==============================] - 0s 2ms/step - loss: 37.5204 - val_loss: 36.9419\n",
      "Epoch 61/1000\n",
      "264/264 [==============================] - 0s 1ms/step - loss: 37.5223 - val_loss: 36.7261\n"
     ]
    },
    {
     "name": "stdout",
     "output_type": "stream",
     "text": [
      "Epoch 62/1000\n",
      "264/264 [==============================] - 0s 1ms/step - loss: 37.5120 - val_loss: 36.8497\n",
      "Epoch 63/1000\n",
      "264/264 [==============================] - 0s 2ms/step - loss: 37.4483 - val_loss: 36.7367\n",
      "Epoch 64/1000\n",
      "264/264 [==============================] - 0s 1ms/step - loss: 37.4049 - val_loss: 36.8228\n",
      "Epoch 65/1000\n",
      "264/264 [==============================] - 0s 1ms/step - loss: 37.4142 - val_loss: 36.7224\n",
      "Epoch 66/1000\n",
      "264/264 [==============================] - 0s 1ms/step - loss: 37.3872 - val_loss: 36.6775\n",
      "Epoch 67/1000\n",
      "264/264 [==============================] - 0s 2ms/step - loss: 37.3874 - val_loss: 36.6168\n",
      "Epoch 68/1000\n",
      "264/264 [==============================] - 0s 1ms/step - loss: 37.3692 - val_loss: 36.6144\n",
      "Epoch 69/1000\n",
      "264/264 [==============================] - 0s 2ms/step - loss: 37.3621 - val_loss: 36.5797\n",
      "Epoch 70/1000\n",
      "264/264 [==============================] - 0s 1ms/step - loss: 37.3306 - val_loss: 36.5604\n",
      "Epoch 71/1000\n",
      "264/264 [==============================] - 0s 1ms/step - loss: 37.2930 - val_loss: 36.7029\n",
      "Epoch 72/1000\n",
      "264/264 [==============================] - 0s 2ms/step - loss: 37.3104 - val_loss: 36.6235\n",
      "Epoch 73/1000\n",
      "264/264 [==============================] - 0s 1ms/step - loss: 37.2707 - val_loss: 36.8593\n",
      "Epoch 74/1000\n",
      "264/264 [==============================] - 0s 1ms/step - loss: 37.1726 - val_loss: 36.6581\n",
      "Epoch 75/1000\n",
      "264/264 [==============================] - 0s 2ms/step - loss: 37.2389 - val_loss: 36.4274\n",
      "Epoch 76/1000\n",
      "264/264 [==============================] - 0s 2ms/step - loss: 37.1709 - val_loss: 36.6265\n",
      "Epoch 77/1000\n",
      "264/264 [==============================] - 0s 2ms/step - loss: 37.1449 - val_loss: 36.3799\n",
      "Epoch 78/1000\n",
      "264/264 [==============================] - 0s 1ms/step - loss: 37.0994 - val_loss: 36.6336\n",
      "Epoch 79/1000\n",
      "264/264 [==============================] - 0s 2ms/step - loss: 37.0872 - val_loss: 36.5462\n",
      "Epoch 80/1000\n",
      "264/264 [==============================] - 0s 1ms/step - loss: 37.0500 - val_loss: 36.3687\n",
      "Epoch 81/1000\n",
      "264/264 [==============================] - 0s 1ms/step - loss: 37.0255 - val_loss: 36.3939\n",
      "Epoch 82/1000\n",
      "264/264 [==============================] - 0s 1ms/step - loss: 36.9785 - val_loss: 36.2675\n",
      "Epoch 83/1000\n",
      "264/264 [==============================] - 0s 1ms/step - loss: 36.9114 - val_loss: 36.2504\n",
      "Epoch 84/1000\n",
      "264/264 [==============================] - 0s 1ms/step - loss: 36.9520 - val_loss: 36.1750\n",
      "Epoch 85/1000\n",
      "264/264 [==============================] - 0s 1ms/step - loss: 36.8573 - val_loss: 36.2114\n",
      "Epoch 86/1000\n",
      "264/264 [==============================] - 0s 1ms/step - loss: 36.8290 - val_loss: 36.1278\n",
      "Epoch 87/1000\n",
      "264/264 [==============================] - 0s 1ms/step - loss: 36.7546 - val_loss: 36.0988\n",
      "Epoch 88/1000\n",
      "264/264 [==============================] - 0s 1ms/step - loss: 36.7500 - val_loss: 35.9104\n",
      "Epoch 89/1000\n",
      "264/264 [==============================] - 0s 1ms/step - loss: 36.6336 - val_loss: 35.8046\n",
      "Epoch 90/1000\n",
      "264/264 [==============================] - 0s 1ms/step - loss: 36.5951 - val_loss: 35.8737\n",
      "Epoch 91/1000\n",
      "264/264 [==============================] - 0s 1ms/step - loss: 36.4783 - val_loss: 35.5954\n",
      "Epoch 92/1000\n",
      "264/264 [==============================] - 0s 1ms/step - loss: 36.3567 - val_loss: 35.4243\n",
      "Epoch 93/1000\n",
      "264/264 [==============================] - 0s 2ms/step - loss: 36.2557 - val_loss: 35.5921\n",
      "Epoch 94/1000\n",
      "264/264 [==============================] - 0s 1ms/step - loss: 35.9768 - val_loss: 35.4609\n",
      "Epoch 95/1000\n",
      "264/264 [==============================] - 0s 1ms/step - loss: 35.6669 - val_loss: 34.7460\n",
      "Epoch 96/1000\n",
      "264/264 [==============================] - 0s 1ms/step - loss: 35.1821 - val_loss: 35.5714\n",
      "Epoch 97/1000\n",
      "264/264 [==============================] - 0s 1ms/step - loss: 35.0088 - val_loss: 34.4050\n",
      "Epoch 98/1000\n",
      "264/264 [==============================] - 0s 1ms/step - loss: 34.8217 - val_loss: 34.2467\n",
      "Epoch 99/1000\n",
      "264/264 [==============================] - 0s 2ms/step - loss: 34.7486 - val_loss: 34.0879\n",
      "Epoch 100/1000\n",
      "264/264 [==============================] - 0s 2ms/step - loss: 34.6963 - val_loss: 34.3682\n",
      "Epoch 101/1000\n",
      "264/264 [==============================] - 0s 2ms/step - loss: 34.6897 - val_loss: 34.8373\n",
      "Epoch 102/1000\n",
      "264/264 [==============================] - 0s 2ms/step - loss: 34.6327 - val_loss: 34.2835\n",
      "Epoch 103/1000\n",
      "264/264 [==============================] - 1s 2ms/step - loss: 34.6410 - val_loss: 34.3369\n",
      "Epoch 104/1000\n",
      "264/264 [==============================] - 1s 2ms/step - loss: 34.6142 - val_loss: 34.4370\n",
      "Epoch 105/1000\n",
      "264/264 [==============================] - 0s 2ms/step - loss: 34.6542 - val_loss: 34.2430\n",
      "Epoch 106/1000\n",
      "264/264 [==============================] - 0s 2ms/step - loss: 34.6117 - val_loss: 34.1912\n",
      "Epoch 107/1000\n",
      "264/264 [==============================] - 1s 2ms/step - loss: 34.5584 - val_loss: 34.0779\n",
      "Epoch 108/1000\n",
      "264/264 [==============================] - 1s 2ms/step - loss: 34.5992 - val_loss: 34.3835\n",
      "Epoch 109/1000\n",
      "264/264 [==============================] - 0s 2ms/step - loss: 34.5410 - val_loss: 34.2144\n",
      "Epoch 110/1000\n",
      "264/264 [==============================] - 0s 2ms/step - loss: 34.5808 - val_loss: 34.0432\n",
      "Epoch 111/1000\n",
      "264/264 [==============================] - 1s 2ms/step - loss: 34.5224 - val_loss: 34.1575\n",
      "Epoch 112/1000\n",
      "264/264 [==============================] - 1s 2ms/step - loss: 34.5596 - val_loss: 33.9700\n",
      "Epoch 113/1000\n",
      "264/264 [==============================] - 0s 2ms/step - loss: 34.5165 - val_loss: 34.1767\n",
      "Epoch 114/1000\n",
      "264/264 [==============================] - 0s 2ms/step - loss: 34.5699 - val_loss: 34.5528\n",
      "Epoch 115/1000\n",
      "264/264 [==============================] - 1s 2ms/step - loss: 34.5082 - val_loss: 33.9399\n",
      "Epoch 116/1000\n",
      "264/264 [==============================] - 1s 2ms/step - loss: 34.4976 - val_loss: 34.4753\n",
      "Epoch 117/1000\n",
      "264/264 [==============================] - 0s 2ms/step - loss: 34.6717 - val_loss: 33.9112\n",
      "Epoch 118/1000\n",
      "264/264 [==============================] - 0s 2ms/step - loss: 34.4980 - val_loss: 33.8542\n",
      "Epoch 119/1000\n",
      "264/264 [==============================] - 0s 2ms/step - loss: 34.5748 - val_loss: 34.0919\n",
      "Epoch 120/1000\n",
      "264/264 [==============================] - 1s 2ms/step - loss: 34.5936 - val_loss: 33.9104\n",
      "Epoch 121/1000\n",
      "264/264 [==============================] - 0s 2ms/step - loss: 34.4755 - val_loss: 34.2121\n",
      "Epoch 122/1000\n",
      "264/264 [==============================] - 0s 2ms/step - loss: 34.4855 - val_loss: 34.0250\n",
      "Epoch 123/1000\n",
      "264/264 [==============================] - 0s 2ms/step - loss: 34.5008 - val_loss: 34.8349\n",
      "Epoch 124/1000\n",
      "264/264 [==============================] - 0s 1ms/step - loss: 34.5499 - val_loss: 33.8652\n",
      "Epoch 125/1000\n",
      "264/264 [==============================] - 0s 2ms/step - loss: 34.5250 - val_loss: 34.2253\n",
      "Epoch 126/1000\n",
      "264/264 [==============================] - 0s 2ms/step - loss: 34.4855 - val_loss: 34.2328\n",
      "Epoch 127/1000\n",
      "264/264 [==============================] - 0s 2ms/step - loss: 34.4882 - val_loss: 33.8036\n",
      "Epoch 128/1000\n",
      "264/264 [==============================] - 0s 2ms/step - loss: 34.5052 - val_loss: 34.1123\n",
      "Epoch 129/1000\n",
      "264/264 [==============================] - 0s 2ms/step - loss: 34.4363 - val_loss: 33.7842\n",
      "Epoch 130/1000\n",
      "264/264 [==============================] - 0s 2ms/step - loss: 34.4912 - val_loss: 34.1183\n",
      "Epoch 131/1000\n",
      "264/264 [==============================] - 0s 2ms/step - loss: 34.4862 - val_loss: 34.2822\n",
      "Epoch 132/1000\n",
      "264/264 [==============================] - 0s 2ms/step - loss: 34.4580 - val_loss: 34.1211\n",
      "Epoch 133/1000\n",
      "264/264 [==============================] - 0s 2ms/step - loss: 34.5280 - val_loss: 33.5972\n",
      "Epoch 134/1000\n",
      "264/264 [==============================] - ETA: 0s - loss: 34.31 - 0s 2ms/step - loss: 34.4723 - val_loss: 33.7171\n",
      "Epoch 135/1000\n",
      "264/264 [==============================] - 0s 2ms/step - loss: 34.4769 - val_loss: 33.7169\n",
      "Epoch 136/1000\n",
      "264/264 [==============================] - 0s 2ms/step - loss: 34.4946 - val_loss: 34.5902\n",
      "Epoch 137/1000\n",
      "264/264 [==============================] - 0s 2ms/step - loss: 34.5257 - val_loss: 33.7451\n",
      "Epoch 138/1000\n",
      "264/264 [==============================] - 0s 1ms/step - loss: 34.5044 - val_loss: 33.6559\n",
      "Epoch 139/1000\n"
     ]
    },
    {
     "name": "stdout",
     "output_type": "stream",
     "text": [
      "264/264 [==============================] - 0s 2ms/step - loss: 34.4516 - val_loss: 33.9160\n",
      "Epoch 140/1000\n",
      "264/264 [==============================] - 0s 2ms/step - loss: 34.4389 - val_loss: 33.7678\n",
      "Epoch 141/1000\n",
      "264/264 [==============================] - 0s 2ms/step - loss: 34.4912 - val_loss: 33.9590\n",
      "Epoch 142/1000\n",
      "264/264 [==============================] - 0s 1ms/step - loss: 34.3635 - val_loss: 33.5403\n",
      "Epoch 143/1000\n",
      "264/264 [==============================] - 0s 2ms/step - loss: 34.4521 - val_loss: 34.7236\n",
      "Epoch 144/1000\n",
      "264/264 [==============================] - 0s 2ms/step - loss: 34.4796 - val_loss: 34.0884\n",
      "Epoch 145/1000\n",
      "264/264 [==============================] - 0s 2ms/step - loss: 34.4700 - val_loss: 34.1507\n",
      "Epoch 146/1000\n",
      "264/264 [==============================] - 0s 2ms/step - loss: 34.4981 - val_loss: 33.9955\n",
      "Epoch 147/1000\n",
      "264/264 [==============================] - 0s 2ms/step - loss: 34.4250 - val_loss: 34.0153\n",
      "Epoch 148/1000\n",
      "264/264 [==============================] - 0s 1ms/step - loss: 34.4459 - val_loss: 34.0433\n",
      "Epoch 149/1000\n",
      "264/264 [==============================] - 0s 2ms/step - loss: 34.3939 - val_loss: 34.2831\n",
      "Epoch 150/1000\n",
      "264/264 [==============================] - 0s 2ms/step - loss: 34.5320 - val_loss: 33.9039\n",
      "Epoch 151/1000\n",
      "264/264 [==============================] - 0s 2ms/step - loss: 34.4336 - val_loss: 33.8517\n",
      "Epoch 152/1000\n",
      "264/264 [==============================] - 0s 2ms/step - loss: 34.4292 - val_loss: 33.7508\n",
      "Epoch 153/1000\n",
      "264/264 [==============================] - 0s 2ms/step - loss: 34.4781 - val_loss: 33.6661\n",
      "Epoch 154/1000\n",
      "264/264 [==============================] - 0s 2ms/step - loss: 34.5126 - val_loss: 34.2431\n",
      "Epoch 155/1000\n",
      "264/264 [==============================] - 0s 2ms/step - loss: 34.4246 - val_loss: 33.8671\n",
      "Epoch 156/1000\n",
      "264/264 [==============================] - 0s 2ms/step - loss: 34.4840 - val_loss: 33.7647\n",
      "Epoch 157/1000\n",
      "264/264 [==============================] - 0s 1ms/step - loss: 34.4047 - val_loss: 33.8156\n",
      "Epoch 158/1000\n",
      "264/264 [==============================] - 0s 2ms/step - loss: 34.5305 - val_loss: 33.7705\n",
      "Epoch 159/1000\n",
      "264/264 [==============================] - 0s 2ms/step - loss: 34.4664 - val_loss: 33.7435\n",
      "Epoch 160/1000\n",
      "264/264 [==============================] - 0s 2ms/step - loss: 34.3963 - val_loss: 33.7971\n",
      "Epoch 161/1000\n",
      "264/264 [==============================] - 0s 2ms/step - loss: 34.4735 - val_loss: 33.7145\n",
      "Epoch 162/1000\n",
      "264/264 [==============================] - 0s 2ms/step - loss: 34.4307 - val_loss: 33.7938\n",
      "training time: 69.2 seconds\n"
     ]
    }
   ],
   "source": [
    "\n",
    "# Fit model to data\n",
    "history = model.fit(learning_rate=.001,\n",
    "                    epochs=1000,\n",
    "                    early_stopping=True,\n",
    "                    early_stopping_patience=20)"
   ]
  },
  {
   "cell_type": "code",
   "execution_count": 8,
   "metadata": {},
   "outputs": [
    {
     "name": "stdout",
     "output_type": "stream",
     "text": [
      "Model saved to these files:\n",
      "\tmpsa_ge_pairwise.pickle\n",
      "\tmpsa_ge_pairwise.h5\n"
     ]
    }
   ],
   "source": [
    "model.save('mpsa_ge_pairwise')"
   ]
  },
  {
   "cell_type": "code",
   "execution_count": 9,
   "metadata": {
    "scrolled": true
   },
   "outputs": [
    {
     "name": "stdout",
     "output_type": "stream",
     "text": [
      "Model loaded from these files:\n",
      "\tmpsa_ge_pairwise.pickle\n",
      "\tmpsa_ge_pairwise.h5\n"
     ]
    }
   ],
   "source": [
    "# Load model\n",
    "model = mavenn.load('mpsa_ge_pairwise')"
   ]
  },
  {
   "cell_type": "code",
   "execution_count": 10,
   "metadata": {},
   "outputs": [
    {
     "name": "stdout",
     "output_type": "stream",
     "text": [
      "test data N: 5,483\n"
     ]
    }
   ],
   "source": [
    "# Load test data\n",
    "test_df = mavenn.load_example(which='test_data',name='mpsa')\n",
    "N_test = len(test_df)\n",
    "print(f'test data N: {N_test:,}')\n",
    "\n",
    "# Scale y-values in absurd way\n",
    "# test_df['y'] = 1000 + 100*test_df['y']\n",
    "\n",
    "# Subsample indices for easy plotting\n",
    "ix = np.random.rand(N_test) < 1\n",
    "\n",
    "# Get x and y\n",
    "x_test = test_df['x'].values[ix]\n",
    "y_test = test_df['y'].values[ix]"
   ]
  },
  {
   "cell_type": "code",
   "execution_count": 14,
   "metadata": {
    "collapsed": true
   },
   "outputs": [],
   "source": [
    "model.set_data(x=x_test,\n",
    "               y=y_test)"
   ]
  },
  {
   "cell_type": "code",
   "execution_count": 15,
   "metadata": {},
   "outputs": [
    {
     "data": {
      "image/png": "[encoded data removed]",
      "text/plain": [
       "<Figure size 288x288 with 1 Axes>"
      ]
     },
     "metadata": {
      "needs_background": "light"
     },
     "output_type": "display_data"
    }
   ],
   "source": [
    "# Predict latent phentoype values (phi) on test data\n",
    "phi_test = model.x_to_phi(x_test)\n",
    "\n",
    "# Predict measurement values (yhat) on test data\n",
    "yhat_test = model.x_to_yhat(x_test)\n",
    "\n",
    "# Set phi lims and create grid in phi space\n",
    "phi_lim = [min(phi_test)-.5, max(phi_test)+.5]\n",
    "phi_grid = np.linspace(phi_lim[0], phi_lim[1], 1000)\n",
    "\n",
    "# Compute yhat each phi gridpoint\n",
    "yhat_grid = model.phi_to_yhat(phi_grid)\n",
    "\n",
    "# Compute 68% CI for each yhat\n",
    "yqs_grid = model.yhat_to_yq(yhat_grid, q=[0.16, 0.84])\n",
    "\n",
    "# Create figure\n",
    "fig, ax = plt.subplots(1, 1, figsize=[4, 4])\n",
    "\n",
    "# Illustrate measurement process with GE curve\n",
    "ax.scatter(phi_test, y_test, color='C0', s=5, alpha=.2, label='test data')\n",
    "ax.plot(phi_grid, yhat_grid, linewidth=2, color='C1',\n",
    "        label='$\\hat{y} = g(\\phi)$')\n",
    "ax.plot(phi_grid, yqs_grid[:, 0], linestyle='--', color='C1', label='68% CI')\n",
    "ax.plot(phi_grid, yqs_grid[:, 1], linestyle='--', color='C1')\n",
    "ax.set_xlim(phi_lim)\n",
    "ax.set_xlabel('latent phenotype ($\\phi$)')\n",
    "ax.set_ylabel('measurement ($y$)')\n",
    "ax.set_title('measurement process')\n",
    "ax.legend()\n",
    "\n",
    "# Fix up plot\n",
    "fig.tight_layout()\n",
    "plt.show()"
   ]
  },
  {
   "cell_type": "code",
   "execution_count": 16,
   "metadata": {},
   "outputs": [
    {
     "name": "stdout",
     "output_type": "stream",
     "text": [
      "Automatically determined gpmap_type=pairwise.\n"
     ]
    },
    {
     "data": {
      "image/png": "[encoded data removed]",
      "text/plain": [
       "<Figure size 576x288 with 2 Axes>"
      ]
     },
     "metadata": {
      "needs_background": "light"
     },
     "output_type": "display_data"
    }
   ],
   "source": [
    "# Plot pairwise parameters\n",
    "theta_pair_df = model.get_gpmap_parameters(which='pairwise')\n",
    "fig, ax = plt.subplots(1, 1, figsize=[8, 4])\n",
    "mavenn.heatmap_pairwise(theta_pair_df, ax=ax);"
   ]
  },
  {
   "cell_type": "code",
   "execution_count": null,
   "metadata": {
    "collapsed": true
   },
   "outputs": [],
   "source": []
  }
 ],
 "metadata": {
  "kernelspec": {
   "display_name": "Python 3",
   "language": "python",
   "name": "python3"
  },
  "language_info": {
   "codemirror_mode": {
    "name": "ipython",
    "version": 3
   },
   "file_extension": ".py",
   "mimetype": "text/x-python",
   "name": "python",
   "nbconvert_exporter": "python",
   "pygments_lexer": "ipython3",
   "version": "3.6.7"
  }
 },
 "nbformat": 4,
 "nbformat_minor": 2
}
