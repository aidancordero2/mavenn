{
 "cells": [
  {
   "cell_type": "code",
   "execution_count": 1,
   "metadata": {},
   "outputs": [
    {
     "name": "stdout",
     "output_type": "stream",
     "text": [
      "['/Users/tareen/Desktop/Research_Projects/2020_mavenn_github/mavenn/mavenn']\n"
     ]
    }
   ],
   "source": [
    "# Standard imports\n",
    "import pandas as pd\n",
    "import matplotlib.pyplot as plt\n",
    "import numpy as np\n",
    "import time\n",
    "\n",
    "# Insert path to mavenn beginning of path\n",
    "import os\n",
    "import sys\n",
    "abs_path_to_mavenn = os.path.abspath('../../../')\n",
    "sys.path.insert(0, abs_path_to_mavenn)\n",
    "\n",
    "# Load mavenn\n",
    "import mavenn\n",
    "print(mavenn.__path__)"
   ]
  },
  {
   "cell_type": "code",
   "execution_count": 2,
   "metadata": {},
   "outputs": [
    {
     "data": {
      "text/html": [
       "<div>\n",
       "<style scoped>\n",
       "    .dataframe tbody tr th:only-of-type {\n",
       "        vertical-align: middle;\n",
       "    }\n",
       "\n",
       "    .dataframe tbody tr th {\n",
       "        vertical-align: top;\n",
       "    }\n",
       "\n",
       "    .dataframe thead th {\n",
       "        text-align: right;\n",
       "    }\n",
       "</style>\n",
       "<table border=\"1\" class=\"dataframe\">\n",
       "  <thead>\n",
       "    <tr style=\"text-align: right;\">\n",
       "      <th></th>\n",
       "      <th>training_set</th>\n",
       "      <th>y</th>\n",
       "      <th>dy</th>\n",
       "      <th>x</th>\n",
       "    </tr>\n",
       "  </thead>\n",
       "  <tbody>\n",
       "    <tr>\n",
       "      <th>0</th>\n",
       "      <td>False</td>\n",
       "      <td>-3.751854</td>\n",
       "      <td>0.444200</td>\n",
       "      <td>AAAGCAAAA</td>\n",
       "    </tr>\n",
       "    <tr>\n",
       "      <th>1</th>\n",
       "      <td>True</td>\n",
       "      <td>-2.697741</td>\n",
       "      <td>0.369972</td>\n",
       "      <td>AAAGCAAAC</td>\n",
       "    </tr>\n",
       "    <tr>\n",
       "      <th>2</th>\n",
       "      <td>True</td>\n",
       "      <td>-2.242947</td>\n",
       "      <td>0.575121</td>\n",
       "      <td>AAAGCAAAG</td>\n",
       "    </tr>\n",
       "    <tr>\n",
       "      <th>3</th>\n",
       "      <td>False</td>\n",
       "      <td>-3.067251</td>\n",
       "      <td>0.357014</td>\n",
       "      <td>AAAGCAAAT</td>\n",
       "    </tr>\n",
       "    <tr>\n",
       "      <th>4</th>\n",
       "      <td>False</td>\n",
       "      <td>-2.987074</td>\n",
       "      <td>0.472637</td>\n",
       "      <td>AAAGCAACA</td>\n",
       "    </tr>\n",
       "  </tbody>\n",
       "</table>\n",
       "</div>"
      ],
      "text/plain": [
       "   training_set         y        dy          x\n",
       "0         False -3.751854  0.444200  AAAGCAAAA\n",
       "1          True -2.697741  0.369972  AAAGCAAAC\n",
       "2          True -2.242947  0.575121  AAAGCAAAG\n",
       "3         False -3.067251  0.357014  AAAGCAAAT\n",
       "4         False -2.987074  0.472637  AAAGCAACA"
      ]
     },
     "execution_count": 2,
     "metadata": {},
     "output_type": "execute_result"
    }
   ],
   "source": [
    "# Load full MPSA dataset\n",
    "data_df = mavenn.load_example_dataset(name='mpsa')\n",
    "data_df.head()"
   ]
  },
  {
   "cell_type": "code",
   "execution_count": 3,
   "metadata": {},
   "outputs": [
    {
     "name": "stdout",
     "output_type": "stream",
     "text": [
      "training N: 17498\n",
      "test N: 4431\n"
     ]
    }
   ],
   "source": [
    "# Split into training and test data\n",
    "ix = data_df['training_set']\n",
    "training_df = data_df[ix].copy()\n",
    "print(f'training N: {len(training_df)}')\n",
    "      \n",
    "# Split into training and test data\n",
    "ix = data_df['training_set']\n",
    "test_df = data_df[~ix].copy()\n",
    "print(f'test N: {len(test_df)}')"
   ]
  },
  {
   "cell_type": "code",
   "execution_count": 4,
   "metadata": {
    "collapsed": true
   },
   "outputs": [],
   "source": [
    "# Set seeed\n",
    "mavenn.set_seed(0)\n",
    "\n",
    "# Define model\n",
    "model = mavenn.Model(regression_type='GE',\n",
    "                     L=len(data_df['x'][0]),\n",
    "                     alphabet='dna',\n",
    "                     gpmap_type='pairwise',                     \n",
    "                     ge_noise_model_type='SkewedT',\n",
    "                     ge_heteroskedasticity_order=2)\n"
   ]
  },
  {
   "cell_type": "code",
   "execution_count": 5,
   "metadata": {},
   "outputs": [
    {
     "name": "stdout",
     "output_type": "stream",
     "text": [
      "N = 21,929 observations set as training data.\n",
      "Data shuffled.\n",
      "Time to set data: 0.997 sec.\n"
     ]
    }
   ],
   "source": [
    "# Set training data\n",
    "model.set_data(x=data_df['x'],\n",
    "               y=data_df['y'])"
   ]
  },
  {
   "cell_type": "code",
   "execution_count": 6,
   "metadata": {
    "scrolled": true
   },
   "outputs": [
    {
     "name": "stdout",
     "output_type": "stream",
     "text": [
      " \n",
      "LSMR            Least-squares solution of  Ax = b\n",
      "\n",
      "The matrix A has    21929 rows  and       36 cols\n",
      "damp = 0.00000000000000e+00\n",
      "\n",
      "atol = 1.00e-06                 conlim = 1.00e+08\n",
      "\n",
      "btol = 1.00e-06             maxiter =       36\n",
      "\n",
      " \n",
      "   itn      x(1)       norm r    norm Ar  compatible   LS      norm A   cond A\n",
      "     0  0.00000e+00  1.481e+02  5.397e+03   1.0e+00  2.5e-01\n",
      "     1  2.13362e-02  1.342e+02  1.739e+03   9.1e-01  1.5e-01  8.6e+01  1.0e+00\n",
      "     2  2.61004e-02  1.325e+02  6.140e+02   9.0e-01  3.6e-02  1.3e+02  1.1e+00\n",
      "     3  2.79161e-02  1.325e+02  2.851e+02   8.9e-01  7.9e-03  2.7e+02  2.5e+00\n",
      "     4  2.79728e-02  1.324e+02  6.533e+01   8.9e-01  1.6e-03  3.1e+02  3.3e+00\n",
      "     5  2.87669e-02  1.324e+02  1.512e+01   8.9e-01  3.6e-04  3.2e+02  3.8e+00\n",
      "     6  2.90448e-02  1.324e+02  1.508e+00   8.9e-01  3.5e-05  3.2e+02  3.9e+00\n",
      "     7  2.90117e-02  1.324e+02  2.535e-01   8.9e-01  5.8e-06  3.3e+02  3.9e+00\n",
      "     8  2.89991e-02  1.324e+02  7.240e-02   8.9e-01  1.6e-06  3.4e+02  3.9e+00\n",
      "     9  2.89987e-02  1.324e+02  1.139e-02   8.9e-01  2.5e-07  3.5e+02  3.9e+00\n",
      " \n",
      "LSMR finished\n",
      "The least-squares solution is good enough, given atol     \n",
      "istop =       2    normr = 1.3e+02\n",
      "    normA = 3.5e+02    normAr = 1.1e-02\n",
      "itn   =       9    condA = 3.9e+00\n",
      "    normx = 8.5e-01\n",
      "     9  2.89987e-02   1.324e+02  1.139e-02\n",
      "   8.9e-01  2.5e-07   3.5e+02  3.9e+00\n",
      "Linear regression time: 0.0321 sec\n",
      "Epoch 1/1000\n",
      "18/18 [==============================] - 3s 155ms/step - loss: 1237.2415 - I_like: -0.5475 - val_loss: 1144.4178 - val_I_like: -0.4745\n",
      "Epoch 2/1000\n",
      "18/18 [==============================] - 0s 9ms/step - loss: 1143.8124 - I_like: -0.4140 - val_loss: 1051.8401 - val_I_like: -0.3343\n",
      "Epoch 3/1000\n",
      "18/18 [==============================] - 0s 13ms/step - loss: 1051.8478 - I_like: -0.2737 - val_loss: 968.6980 - val_I_like: -0.2084\n",
      "Epoch 4/1000\n",
      "18/18 [==============================] - 0s 11ms/step - loss: 977.3076 - I_like: -0.1697 - val_loss: 908.9213 - val_I_like: -0.1150\n",
      "Epoch 5/1000\n",
      "18/18 [==============================] - 0s 13ms/step - loss: 917.1645 - I_like: -0.0805 - val_loss: 857.6125 - val_I_like: -0.0368\n",
      "Epoch 6/1000\n",
      "18/18 [==============================] - 0s 8ms/step - loss: 870.9205 - I_like: -0.0107 - val_loss: 822.7319 - val_I_like: 0.0186\n",
      "Epoch 7/1000\n",
      "18/18 [==============================] - 0s 9ms/step - loss: 830.9376 - I_like: 0.0467 - val_loss: 785.1711 - val_I_like: 0.0756\n",
      "Epoch 8/1000\n",
      "18/18 [==============================] - 0s 7ms/step - loss: 798.3016 - I_like: 0.0943 - val_loss: 760.2753 - val_I_like: 0.1142\n",
      "Epoch 9/1000\n",
      "18/18 [==============================] - 0s 7ms/step - loss: 775.6223 - I_like: 0.1265 - val_loss: 739.4005 - val_I_like: 0.1460\n",
      "Epoch 10/1000\n",
      "18/18 [==============================] - 0s 7ms/step - loss: 759.9545 - I_like: 0.1472 - val_loss: 728.3976 - val_I_like: 0.1635\n",
      "Epoch 11/1000\n",
      "18/18 [==============================] - 0s 9ms/step - loss: 750.9538 - I_like: 0.1643 - val_loss: 728.3096 - val_I_like: 0.1642\n",
      "Epoch 12/1000\n",
      "18/18 [==============================] - 0s 9ms/step - loss: 744.6087 - I_like: 0.1693 - val_loss: 722.7712 - val_I_like: 0.1730\n",
      "Epoch 13/1000\n",
      "18/18 [==============================] - 0s 9ms/step - loss: 737.5179 - I_like: 0.1797 - val_loss: 716.1229 - val_I_like: 0.1823\n",
      "Epoch 14/1000\n",
      "18/18 [==============================] - 0s 8ms/step - loss: 734.2684 - I_like: 0.1865 - val_loss: 712.3101 - val_I_like: 0.1882\n",
      "Epoch 15/1000\n",
      "18/18 [==============================] - 0s 9ms/step - loss: 731.7604 - I_like: 0.1874 - val_loss: 710.8466 - val_I_like: 0.1909\n",
      "Epoch 16/1000\n",
      "18/18 [==============================] - 0s 8ms/step - loss: 730.0739 - I_like: 0.1911 - val_loss: 717.6815 - val_I_like: 0.1796\n",
      "Epoch 17/1000\n",
      "18/18 [==============================] - 0s 8ms/step - loss: 729.5198 - I_like: 0.1925 - val_loss: 708.5629 - val_I_like: 0.1937\n",
      "Epoch 18/1000\n",
      "18/18 [==============================] - 0s 7ms/step - loss: 726.2230 - I_like: 0.1990 - val_loss: 714.5839 - val_I_like: 0.1844\n",
      "Epoch 19/1000\n",
      "18/18 [==============================] - 0s 8ms/step - loss: 724.7740 - I_like: 0.1975 - val_loss: 708.8489 - val_I_like: 0.1925\n",
      "Epoch 20/1000\n",
      "18/18 [==============================] - 0s 7ms/step - loss: 722.4989 - I_like: 0.2043 - val_loss: 703.3366 - val_I_like: 0.2010\n",
      "Epoch 21/1000\n",
      "18/18 [==============================] - 0s 7ms/step - loss: 722.0408 - I_like: 0.2066 - val_loss: 709.4394 - val_I_like: 0.1923\n",
      "Epoch 22/1000\n",
      "18/18 [==============================] - 0s 7ms/step - loss: 720.4956 - I_like: 0.2071 - val_loss: 703.2166 - val_I_like: 0.2010\n",
      "Epoch 23/1000\n",
      "18/18 [==============================] - 0s 7ms/step - loss: 717.4585 - I_like: 0.2117 - val_loss: 700.4313 - val_I_like: 0.2060\n",
      "Epoch 24/1000\n",
      "18/18 [==============================] - 0s 8ms/step - loss: 717.4091 - I_like: 0.2080 - val_loss: 700.7104 - val_I_like: 0.2058\n",
      "Epoch 25/1000\n",
      "18/18 [==============================] - 0s 7ms/step - loss: 714.9176 - I_like: 0.2145 - val_loss: 702.9185 - val_I_like: 0.2018\n",
      "Epoch 26/1000\n",
      "18/18 [==============================] - 0s 7ms/step - loss: 714.7332 - I_like: 0.2195 - val_loss: 698.1443 - val_I_like: 0.2100\n",
      "Epoch 27/1000\n",
      "18/18 [==============================] - 0s 6ms/step - loss: 713.5086 - I_like: 0.2170 - val_loss: 700.3450 - val_I_like: 0.2053\n",
      "Epoch 28/1000\n",
      "18/18 [==============================] - 0s 6ms/step - loss: 713.8669 - I_like: 0.2142 - val_loss: 698.9455 - val_I_like: 0.2080\n",
      "Epoch 29/1000\n",
      "18/18 [==============================] - 0s 6ms/step - loss: 712.6827 - I_like: 0.2187 - val_loss: 700.6193 - val_I_like: 0.2054\n",
      "Epoch 30/1000\n",
      "18/18 [==============================] - 0s 6ms/step - loss: 709.3746 - I_like: 0.2253 - val_loss: 688.9191 - val_I_like: 0.2241\n",
      "Epoch 31/1000\n",
      "18/18 [==============================] - 0s 6ms/step - loss: 704.0503 - I_like: 0.2296 - val_loss: 688.1752 - val_I_like: 0.2248\n",
      "Epoch 32/1000\n",
      "18/18 [==============================] - 0s 8ms/step - loss: 701.6453 - I_like: 0.2342 - val_loss: 704.6702 - val_I_like: 0.2000\n",
      "Epoch 33/1000\n",
      "18/18 [==============================] - 0s 8ms/step - loss: 703.6935 - I_like: 0.2305 - val_loss: 681.8058 - val_I_like: 0.2343\n",
      "Epoch 34/1000\n",
      "18/18 [==============================] - 0s 8ms/step - loss: 698.4777 - I_like: 0.2363 - val_loss: 683.6722 - val_I_like: 0.2321\n",
      "Epoch 35/1000\n",
      "18/18 [==============================] - 0s 6ms/step - loss: 694.3827 - I_like: 0.2421 - val_loss: 686.2120 - val_I_like: 0.2292\n",
      "Epoch 36/1000\n",
      "18/18 [==============================] - 0s 6ms/step - loss: 690.2560 - I_like: 0.2473 - val_loss: 672.8947 - val_I_like: 0.2495\n",
      "Epoch 37/1000\n",
      "18/18 [==============================] - 0s 6ms/step - loss: 691.4269 - I_like: 0.2543 - val_loss: 681.0073 - val_I_like: 0.2385\n",
      "Epoch 38/1000\n",
      "18/18 [==============================] - 0s 6ms/step - loss: 689.2994 - I_like: 0.2550 - val_loss: 670.1848 - val_I_like: 0.2539\n",
      "Epoch 39/1000\n",
      "18/18 [==============================] - 0s 6ms/step - loss: 681.7193 - I_like: 0.2655 - val_loss: 661.8745 - val_I_like: 0.2673\n",
      "Epoch 40/1000\n",
      "18/18 [==============================] - 0s 6ms/step - loss: 680.3656 - I_like: 0.2659 - val_loss: 676.9578 - val_I_like: 0.2443\n",
      "Epoch 41/1000\n",
      "18/18 [==============================] - 0s 6ms/step - loss: 679.2105 - I_like: 0.2707 - val_loss: 649.0231 - val_I_like: 0.2870\n",
      "Epoch 42/1000\n",
      "18/18 [==============================] - 0s 6ms/step - loss: 659.0968 - I_like: 0.2985 - val_loss: 640.4666 - val_I_like: 0.3001\n",
      "Epoch 43/1000\n",
      "18/18 [==============================] - 0s 6ms/step - loss: 652.0766 - I_like: 0.3023 - val_loss: 633.2485 - val_I_like: 0.3087\n",
      "Epoch 44/1000\n",
      "18/18 [==============================] - 0s 6ms/step - loss: 648.0049 - I_like: 0.3150 - val_loss: 643.0634 - val_I_like: 0.2925\n",
      "Epoch 45/1000\n",
      "18/18 [==============================] - 0s 6ms/step - loss: 646.6413 - I_like: 0.3135 - val_loss: 636.9122 - val_I_like: 0.3041\n",
      "Epoch 46/1000\n",
      "18/18 [==============================] - 0s 6ms/step - loss: 643.5977 - I_like: 0.3180 - val_loss: 641.4727 - val_I_like: 0.2972\n",
      "Epoch 47/1000\n",
      "18/18 [==============================] - 0s 6ms/step - loss: 641.6940 - I_like: 0.3219 - val_loss: 636.0951 - val_I_like: 0.3025\n",
      "Epoch 48/1000\n"
     ]
    },
    {
     "name": "stdout",
     "output_type": "stream",
     "text": [
      "18/18 [==============================] - 0s 7ms/step - loss: 641.2576 - I_like: 0.3249 - val_loss: 630.4524 - val_I_like: 0.3137\n",
      "Epoch 49/1000\n",
      "18/18 [==============================] - 0s 6ms/step - loss: 641.6903 - I_like: 0.3207 - val_loss: 650.4246 - val_I_like: 0.2786\n",
      "Epoch 50/1000\n",
      "18/18 [==============================] - 0s 8ms/step - loss: 641.0394 - I_like: 0.3240 - val_loss: 626.4968 - val_I_like: 0.3185\n",
      "Epoch 51/1000\n",
      "18/18 [==============================] - 0s 6ms/step - loss: 635.2131 - I_like: 0.3336 - val_loss: 638.8984 - val_I_like: 0.2991\n",
      "Epoch 52/1000\n",
      "18/18 [==============================] - 0s 6ms/step - loss: 634.8262 - I_like: 0.3334 - val_loss: 625.5013 - val_I_like: 0.3187\n",
      "Epoch 53/1000\n",
      "18/18 [==============================] - 0s 6ms/step - loss: 632.6677 - I_like: 0.3328 - val_loss: 631.5388 - val_I_like: 0.3107\n",
      "Epoch 54/1000\n",
      "18/18 [==============================] - 0s 6ms/step - loss: 634.9841 - I_like: 0.3331 - val_loss: 630.0302 - val_I_like: 0.3107\n",
      "Epoch 55/1000\n",
      "18/18 [==============================] - 0s 6ms/step - loss: 631.6670 - I_like: 0.3358 - val_loss: 633.1664 - val_I_like: 0.3097\n",
      "Epoch 56/1000\n",
      "18/18 [==============================] - 0s 6ms/step - loss: 630.1788 - I_like: 0.3392 - val_loss: 627.3978 - val_I_like: 0.3166\n",
      "Epoch 57/1000\n",
      "18/18 [==============================] - 0s 6ms/step - loss: 629.7754 - I_like: 0.3374 - val_loss: 631.2795 - val_I_like: 0.3073\n",
      "Epoch 58/1000\n",
      "18/18 [==============================] - 0s 6ms/step - loss: 633.7047 - I_like: 0.3326 - val_loss: 633.7846 - val_I_like: 0.3075\n",
      "Epoch 59/1000\n",
      "18/18 [==============================] - 0s 6ms/step - loss: 631.5201 - I_like: 0.3360 - val_loss: 624.3373 - val_I_like: 0.3206\n",
      "Epoch 60/1000\n",
      "18/18 [==============================] - 0s 6ms/step - loss: 633.3448 - I_like: 0.3308 - val_loss: 626.8840 - val_I_like: 0.3180\n",
      "Epoch 61/1000\n",
      "18/18 [==============================] - 0s 6ms/step - loss: 630.5511 - I_like: 0.3374 - val_loss: 624.1506 - val_I_like: 0.3188\n",
      "Epoch 62/1000\n",
      "18/18 [==============================] - 0s 6ms/step - loss: 631.6733 - I_like: 0.3405 - val_loss: 627.2767 - val_I_like: 0.3161\n",
      "Epoch 63/1000\n",
      "18/18 [==============================] - 0s 6ms/step - loss: 628.6730 - I_like: 0.3421 - val_loss: 623.6590 - val_I_like: 0.3192\n",
      "Epoch 64/1000\n",
      "18/18 [==============================] - 0s 6ms/step - loss: 626.1432 - I_like: 0.3407 - val_loss: 625.9948 - val_I_like: 0.3181\n",
      "Epoch 65/1000\n",
      "18/18 [==============================] - 0s 6ms/step - loss: 626.5139 - I_like: 0.3415 - val_loss: 626.8395 - val_I_like: 0.3133\n",
      "Epoch 66/1000\n",
      "18/18 [==============================] - 0s 6ms/step - loss: 628.7638 - I_like: 0.3425 - val_loss: 625.3818 - val_I_like: 0.3187\n",
      "Epoch 67/1000\n",
      "18/18 [==============================] - 0s 6ms/step - loss: 627.1584 - I_like: 0.3440 - val_loss: 628.6453 - val_I_like: 0.3127\n",
      "Epoch 68/1000\n",
      "18/18 [==============================] - 0s 6ms/step - loss: 626.8486 - I_like: 0.3420 - val_loss: 619.7520 - val_I_like: 0.3250\n",
      "Epoch 69/1000\n",
      "18/18 [==============================] - 0s 6ms/step - loss: 628.9789 - I_like: 0.3454 - val_loss: 627.2839 - val_I_like: 0.3149\n",
      "Epoch 70/1000\n",
      "18/18 [==============================] - 0s 6ms/step - loss: 626.2681 - I_like: 0.3418 - val_loss: 619.1860 - val_I_like: 0.3278\n",
      "Epoch 71/1000\n",
      "18/18 [==============================] - 0s 6ms/step - loss: 628.9665 - I_like: 0.3404 - val_loss: 634.2088 - val_I_like: 0.3001\n",
      "Epoch 72/1000\n",
      "18/18 [==============================] - 0s 6ms/step - loss: 628.0748 - I_like: 0.3425 - val_loss: 629.8369 - val_I_like: 0.3104\n",
      "Epoch 73/1000\n",
      "18/18 [==============================] - 0s 6ms/step - loss: 626.2831 - I_like: 0.3478 - val_loss: 620.4574 - val_I_like: 0.3252\n",
      "Epoch 74/1000\n",
      "18/18 [==============================] - 0s 6ms/step - loss: 625.3743 - I_like: 0.3462 - val_loss: 635.9496 - val_I_like: 0.3006\n",
      "Epoch 75/1000\n",
      "18/18 [==============================] - 0s 17ms/step - loss: 627.9149 - I_like: 0.3440 - val_loss: 623.4666 - val_I_like: 0.3191\n",
      "Epoch 76/1000\n",
      "18/18 [==============================] - 0s 6ms/step - loss: 628.2631 - I_like: 0.3425 - val_loss: 622.3362 - val_I_like: 0.3238\n",
      "Epoch 77/1000\n",
      "18/18 [==============================] - 0s 6ms/step - loss: 628.2764 - I_like: 0.3437 - val_loss: 620.7465 - val_I_like: 0.3268\n",
      "Epoch 78/1000\n",
      "18/18 [==============================] - 0s 7ms/step - loss: 626.2061 - I_like: 0.3451 - val_loss: 624.8594 - val_I_like: 0.3142\n",
      "Epoch 79/1000\n",
      "18/18 [==============================] - 0s 7ms/step - loss: 623.1816 - I_like: 0.3440 - val_loss: 627.5768 - val_I_like: 0.3164\n",
      "Epoch 80/1000\n",
      "18/18 [==============================] - 0s 8ms/step - loss: 624.7623 - I_like: 0.3480 - val_loss: 620.7147 - val_I_like: 0.3251\n",
      "Epoch 81/1000\n",
      "18/18 [==============================] - 0s 6ms/step - loss: 627.2595 - I_like: 0.3472 - val_loss: 622.6452 - val_I_like: 0.3225\n",
      "Epoch 82/1000\n",
      "18/18 [==============================] - 0s 6ms/step - loss: 624.7958 - I_like: 0.3447 - val_loss: 620.0793 - val_I_like: 0.3260\n",
      "Epoch 83/1000\n",
      "18/18 [==============================] - 0s 9ms/step - loss: 625.4262 - I_like: 0.3475 - val_loss: 616.5754 - val_I_like: 0.3313\n",
      "Epoch 84/1000\n",
      "18/18 [==============================] - 0s 7ms/step - loss: 628.8467 - I_like: 0.3407 - val_loss: 630.9409 - val_I_like: 0.3103\n",
      "Epoch 85/1000\n",
      "18/18 [==============================] - 0s 8ms/step - loss: 627.5065 - I_like: 0.3420 - val_loss: 625.8513 - val_I_like: 0.3164\n",
      "Epoch 86/1000\n",
      "18/18 [==============================] - 0s 7ms/step - loss: 628.0758 - I_like: 0.3437 - val_loss: 619.5397 - val_I_like: 0.3248\n",
      "Epoch 87/1000\n",
      "18/18 [==============================] - 0s 6ms/step - loss: 626.2731 - I_like: 0.3466 - val_loss: 624.2830 - val_I_like: 0.3201\n",
      "Epoch 88/1000\n",
      "18/18 [==============================] - 0s 6ms/step - loss: 627.2383 - I_like: 0.3419 - val_loss: 620.6301 - val_I_like: 0.3249\n",
      "Epoch 89/1000\n",
      "18/18 [==============================] - 0s 6ms/step - loss: 627.1630 - I_like: 0.3448 - val_loss: 627.4120 - val_I_like: 0.3162\n",
      "Epoch 90/1000\n",
      "18/18 [==============================] - 0s 7ms/step - loss: 626.8431 - I_like: 0.3435 - val_loss: 623.4188 - val_I_like: 0.3196\n",
      "Epoch 91/1000\n",
      "18/18 [==============================] - 0s 7ms/step - loss: 624.3154 - I_like: 0.3454 - val_loss: 621.2980 - val_I_like: 0.3246\n",
      "Epoch 92/1000\n",
      "18/18 [==============================] - 0s 6ms/step - loss: 623.8391 - I_like: 0.3464 - val_loss: 625.4015 - val_I_like: 0.3170\n",
      "Epoch 93/1000\n",
      "18/18 [==============================] - 0s 6ms/step - loss: 625.2645 - I_like: 0.3441 - val_loss: 623.5136 - val_I_like: 0.3194\n",
      "Epoch 94/1000\n",
      "18/18 [==============================] - 0s 6ms/step - loss: 622.9987 - I_like: 0.3472 - val_loss: 631.5004 - val_I_like: 0.3061\n",
      "Epoch 95/1000\n",
      "18/18 [==============================] - 0s 6ms/step - loss: 623.3010 - I_like: 0.3465 - val_loss: 622.8168 - val_I_like: 0.3196\n",
      "Epoch 96/1000\n",
      "18/18 [==============================] - 0s 6ms/step - loss: 623.6506 - I_like: 0.3474 - val_loss: 620.9074 - val_I_like: 0.3243\n",
      "Epoch 97/1000\n",
      "18/18 [==============================] - 0s 6ms/step - loss: 624.8173 - I_like: 0.3485 - val_loss: 616.3354 - val_I_like: 0.3313\n",
      "Epoch 98/1000\n",
      "18/18 [==============================] - 0s 7ms/step - loss: 625.0830 - I_like: 0.3474 - val_loss: 617.1428 - val_I_like: 0.3304\n",
      "Epoch 99/1000\n",
      "18/18 [==============================] - 0s 7ms/step - loss: 627.6976 - I_like: 0.3411 - val_loss: 635.0887 - val_I_like: 0.2984\n",
      "Epoch 100/1000\n",
      "18/18 [==============================] - 0s 6ms/step - loss: 626.4296 - I_like: 0.3429 - val_loss: 625.8170 - val_I_like: 0.3133\n",
      "Epoch 101/1000\n",
      "18/18 [==============================] - 0s 6ms/step - loss: 628.7225 - I_like: 0.3415 - val_loss: 624.6553 - val_I_like: 0.3206\n",
      "Epoch 102/1000\n",
      "18/18 [==============================] - 0s 6ms/step - loss: 628.4053 - I_like: 0.3435 - val_loss: 626.8384 - val_I_like: 0.3149\n",
      "Epoch 103/1000\n",
      "18/18 [==============================] - 0s 6ms/step - loss: 622.9959 - I_like: 0.3485 - val_loss: 619.5332 - val_I_like: 0.3269\n",
      "Epoch 104/1000\n",
      "18/18 [==============================] - 0s 6ms/step - loss: 624.9229 - I_like: 0.3466 - val_loss: 620.2619 - val_I_like: 0.3247\n",
      "Epoch 105/1000\n"
     ]
    },
    {
     "name": "stdout",
     "output_type": "stream",
     "text": [
      "18/18 [==============================] - 0s 6ms/step - loss: 625.2604 - I_like: 0.3468 - val_loss: 621.0038 - val_I_like: 0.3259\n",
      "Epoch 106/1000\n",
      "18/18 [==============================] - 0s 6ms/step - loss: 628.1521 - I_like: 0.3407 - val_loss: 627.0734 - val_I_like: 0.3111\n",
      "Epoch 107/1000\n",
      "18/18 [==============================] - 0s 6ms/step - loss: 624.7379 - I_like: 0.3461 - val_loss: 616.9872 - val_I_like: 0.3310\n",
      "Epoch 108/1000\n",
      "18/18 [==============================] - 0s 6ms/step - loss: 626.2400 - I_like: 0.3444 - val_loss: 622.1813 - val_I_like: 0.3202\n",
      "Epoch 109/1000\n",
      "18/18 [==============================] - 0s 6ms/step - loss: 624.4738 - I_like: 0.3465 - val_loss: 631.6699 - val_I_like: 0.3087\n",
      "Epoch 110/1000\n",
      "18/18 [==============================] - 0s 6ms/step - loss: 624.8367 - I_like: 0.3501 - val_loss: 616.5264 - val_I_like: 0.3325\n",
      "Epoch 111/1000\n",
      "18/18 [==============================] - 0s 6ms/step - loss: 622.9412 - I_like: 0.3513 - val_loss: 624.4479 - val_I_like: 0.3183\n",
      "Epoch 112/1000\n",
      "18/18 [==============================] - 0s 6ms/step - loss: 622.5261 - I_like: 0.3495 - val_loss: 617.4556 - val_I_like: 0.3295\n",
      "Epoch 113/1000\n",
      "18/18 [==============================] - 0s 6ms/step - loss: 625.0288 - I_like: 0.3405 - val_loss: 630.4885 - val_I_like: 0.3098\n",
      "Epoch 114/1000\n",
      "18/18 [==============================] - 0s 6ms/step - loss: 625.6530 - I_like: 0.3434 - val_loss: 619.6542 - val_I_like: 0.3254\n",
      "Epoch 115/1000\n",
      "18/18 [==============================] - 0s 6ms/step - loss: 623.5374 - I_like: 0.3503 - val_loss: 620.8602 - val_I_like: 0.3239\n",
      "Epoch 116/1000\n",
      "18/18 [==============================] - 0s 6ms/step - loss: 623.9161 - I_like: 0.3489 - val_loss: 624.8380 - val_I_like: 0.3162\n",
      "Epoch 117/1000\n",
      "18/18 [==============================] - 0s 6ms/step - loss: 622.1483 - I_like: 0.3462 - val_loss: 619.9724 - val_I_like: 0.3252\n",
      "Epoch 118/1000\n",
      "18/18 [==============================] - 0s 6ms/step - loss: 623.2635 - I_like: 0.3492 - val_loss: 617.8185 - val_I_like: 0.3271\n",
      "Epoch 119/1000\n",
      "18/18 [==============================] - 0s 6ms/step - loss: 622.3564 - I_like: 0.3451 - val_loss: 619.2151 - val_I_like: 0.3278\n",
      "Epoch 120/1000\n",
      "18/18 [==============================] - 0s 6ms/step - loss: 625.9613 - I_like: 0.3490 - val_loss: 620.3642 - val_I_like: 0.3256\n",
      "Epoch 121/1000\n",
      "18/18 [==============================] - 0s 6ms/step - loss: 625.2429 - I_like: 0.3500 - val_loss: 625.5968 - val_I_like: 0.3172\n",
      "Epoch 122/1000\n",
      "18/18 [==============================] - 0s 6ms/step - loss: 623.7255 - I_like: 0.3486 - val_loss: 620.2900 - val_I_like: 0.3255\n",
      "Epoch 123/1000\n",
      "18/18 [==============================] - 0s 6ms/step - loss: 623.5863 - I_like: 0.3486 - val_loss: 619.2354 - val_I_like: 0.3265\n",
      "Epoch 124/1000\n",
      "18/18 [==============================] - 0s 6ms/step - loss: 621.7778 - I_like: 0.3499 - val_loss: 620.1381 - val_I_like: 0.3259\n",
      "Epoch 125/1000\n",
      "18/18 [==============================] - 0s 6ms/step - loss: 625.3241 - I_like: 0.3442 - val_loss: 638.9330 - val_I_like: 0.2985\n",
      "Epoch 126/1000\n",
      "18/18 [==============================] - 0s 6ms/step - loss: 625.8799 - I_like: 0.3438 - val_loss: 621.5161 - val_I_like: 0.3221\n",
      "Epoch 127/1000\n",
      "18/18 [==============================] - 0s 6ms/step - loss: 623.8878 - I_like: 0.3526 - val_loss: 620.4887 - val_I_like: 0.3260\n",
      "Training time: 22.2 seconds\n"
     ]
    }
   ],
   "source": [
    "# Fit model to data\n",
    "history = model.fit(learning_rate=.005,\n",
    "                    epochs=1000,\n",
    "                    batch_size=1000,\n",
    "                    early_stopping=True,\n",
    "                    early_stopping_patience=30)"
   ]
  },
  {
   "cell_type": "code",
   "execution_count": 7,
   "metadata": {},
   "outputs": [
    {
     "name": "stdout",
     "output_type": "stream",
     "text": [
      "Model saved to these files:\n",
      "\tmpsa_ge_pairwise.pickle\n",
      "\tmpsa_ge_pairwise.h5\n"
     ]
    }
   ],
   "source": [
    "# Save model\n",
    "model.save('mpsa_ge_pairwise')"
   ]
  },
  {
   "cell_type": "code",
   "execution_count": 8,
   "metadata": {
    "scrolled": true
   },
   "outputs": [
    {
     "name": "stdout",
     "output_type": "stream",
     "text": [
      "Model loaded from these files:\n",
      "\tmpsa_ge_pairwise.pickle\n",
      "\tmpsa_ge_pairwise.h5\n"
     ]
    }
   ],
   "source": [
    "# Load model\n",
    "model = mavenn.load('mpsa_ge_pairwise')"
   ]
  },
  {
   "cell_type": "code",
   "execution_count": 9,
   "metadata": {
    "collapsed": true
   },
   "outputs": [],
   "source": [
    "# Get x and y\n",
    "x_test = test_df['x'].values\n",
    "y_test = test_df['y'].values"
   ]
  },
  {
   "cell_type": "code",
   "execution_count": 10,
   "metadata": {},
   "outputs": [
    {
     "data": {
      "image/png": "[encoded data removed]",
      "text/plain": [
       "<Figure size 288x288 with 1 Axes>"
      ]
     },
     "metadata": {
      "needs_background": "light"
     },
     "output_type": "display_data"
    }
   ],
   "source": [
    "# Predict latent phentoype values (phi) on test data\n",
    "phi_test = model.x_to_phi(x_test)\n",
    "\n",
    "# Predict measurement values (yhat) on test data\n",
    "yhat_test = model.x_to_yhat(x_test)\n",
    "\n",
    "# Set phi lims and create grid in phi space\n",
    "phi_lim = [min(phi_test)-.5, max(phi_test)+.5]\n",
    "phi_grid = np.linspace(phi_lim[0], phi_lim[1], 1000)\n",
    "\n",
    "# Compute yhat each phi gridpoint\n",
    "yhat_grid = model.phi_to_yhat(phi_grid)\n",
    "\n",
    "# Compute 90% CI for each yhat\n",
    "q = [0.05, 0.95] #[0.16, 0.84]\n",
    "yqs_grid = model.yhat_to_yq(yhat_grid, q=q)\n",
    "\n",
    "# Create figure\n",
    "fig, ax = plt.subplots(1, 1, figsize=[4, 4])\n",
    "\n",
    "# Illustrate measurement process with GE curve\n",
    "ax.scatter(phi_test, y_test, color='C0', s=5, alpha=.2, label='test data')\n",
    "ax.plot(phi_grid, yhat_grid, linewidth=2, color='C1',\n",
    "        label='$\\hat{y} = g(\\phi)$')\n",
    "ax.plot(phi_grid, yqs_grid[:, 0], linestyle='--', color='C1', label='68% CI')\n",
    "ax.plot(phi_grid, yqs_grid[:, 1], linestyle='--', color='C1')\n",
    "ax.set_xlim(phi_lim)\n",
    "ax.set_xlabel('latent phenotype ($\\phi$)')\n",
    "ax.set_ylabel('measurement ($y$)')\n",
    "ax.set_title('measurement process')\n",
    "ax.legend()\n",
    "\n",
    "# Fix up plot\n",
    "fig.tight_layout()\n",
    "plt.show()"
   ]
  },
  {
   "cell_type": "code",
   "execution_count": 11,
   "metadata": {},
   "outputs": [
    {
     "data": {
      "image/png": "[encoded data removed]",
      "text/plain": [
       "<Figure size 576x288 with 2 Axes>"
      ]
     },
     "metadata": {
      "needs_background": "light"
     },
     "output_type": "display_data"
    }
   ],
   "source": [
    "# Plot pairwise parameters\n",
    "theta_dict = model.get_theta(gauge=\"uniform\")\n",
    "fig, ax = plt.subplots(1, 1, figsize=[8, 4])\n",
    "mavenn.heatmap_pairwise(theta_dict['theta_lclc'], \n",
    "                        alphabet=theta_dict['alphabet'],\n",
    "                        ax=ax);"
   ]
  },
  {
   "cell_type": "code",
   "execution_count": null,
   "metadata": {
    "collapsed": true
   },
   "outputs": [],
   "source": []
  }
 ],
 "metadata": {
  "kernelspec": {
   "display_name": "Python 3",
   "language": "python",
   "name": "python3"
  },
  "language_info": {
   "codemirror_mode": {
    "name": "ipython",
    "version": 3
   },
   "file_extension": ".py",
   "mimetype": "text/x-python",
   "name": "python",
   "nbconvert_exporter": "python",
   "pygments_lexer": "ipython3",
   "version": "3.6.7"
  }
 },
 "nbformat": 4,
 "nbformat_minor": 2
}
