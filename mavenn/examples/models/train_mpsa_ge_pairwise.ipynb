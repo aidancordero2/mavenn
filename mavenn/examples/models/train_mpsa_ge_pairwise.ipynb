{
 "cells": [
  {
   "cell_type": "code",
   "execution_count": 1,
   "metadata": {},
   "outputs": [
    {
     "name": "stdout",
     "output_type": "stream",
     "text": [
      "['/Users/jkinney/github/mavenn/mavenn']\n"
     ]
    }
   ],
   "source": [
    "# Standard imports\n",
    "import pandas as pd\n",
    "import matplotlib.pyplot as plt\n",
    "import numpy as np\n",
    "import time\n",
    "\n",
    "# Insert path to mavenn beginning of path\n",
    "import os\n",
    "import sys\n",
    "abs_path_to_mavenn = os.path.abspath('../../../')\n",
    "sys.path.insert(0, abs_path_to_mavenn)\n",
    "\n",
    "# Load mavenn\n",
    "import mavenn\n",
    "print(mavenn.__path__)"
   ]
  },
  {
   "cell_type": "code",
   "execution_count": 2,
   "metadata": {},
   "outputs": [
    {
     "name": "stdout",
     "output_type": "stream",
     "text": [
      "training N: 16446\n"
     ]
    },
    {
     "data": {
      "text/html": [
       "<div>\n",
       "<style scoped>\n",
       "    .dataframe tbody tr th:only-of-type {\n",
       "        vertical-align: middle;\n",
       "    }\n",
       "\n",
       "    .dataframe tbody tr th {\n",
       "        vertical-align: top;\n",
       "    }\n",
       "\n",
       "    .dataframe thead th {\n",
       "        text-align: right;\n",
       "    }\n",
       "</style>\n",
       "<table border=\"1\" class=\"dataframe\">\n",
       "  <thead>\n",
       "    <tr style=\"text-align: right;\">\n",
       "      <th></th>\n",
       "      <th>x</th>\n",
       "      <th>y</th>\n",
       "    </tr>\n",
       "  </thead>\n",
       "  <tbody>\n",
       "    <tr>\n",
       "      <td>0</td>\n",
       "      <td>TAAGCTTTA</td>\n",
       "      <td>-3.455265</td>\n",
       "    </tr>\n",
       "    <tr>\n",
       "      <td>1</td>\n",
       "      <td>GCAGCCTAT</td>\n",
       "      <td>-3.135494</td>\n",
       "    </tr>\n",
       "    <tr>\n",
       "      <td>2</td>\n",
       "      <td>GTGGTAAGG</td>\n",
       "      <td>2.291043</td>\n",
       "    </tr>\n",
       "    <tr>\n",
       "      <td>3</td>\n",
       "      <td>TGGGCGCAG</td>\n",
       "      <td>-3.147840</td>\n",
       "    </tr>\n",
       "    <tr>\n",
       "      <td>4</td>\n",
       "      <td>GGTGCGGGC</td>\n",
       "      <td>0.547527</td>\n",
       "    </tr>\n",
       "  </tbody>\n",
       "</table>\n",
       "</div>"
      ],
      "text/plain": [
       "           x         y\n",
       "0  TAAGCTTTA -3.455265\n",
       "1  GCAGCCTAT -3.135494\n",
       "2  GTGGTAAGG  2.291043\n",
       "3  TGGGCGCAG -3.147840\n",
       "4  GGTGCGGGC  0.547527"
      ]
     },
     "execution_count": 2,
     "metadata": {},
     "output_type": "execute_result"
    }
   ],
   "source": [
    "# Load example data\n",
    "data_df = mavenn.load_example(which='training_data', name='mpsa')\n",
    "print(f'training N: {len(data_df)}')\n",
    "\n",
    "data_df.head()"
   ]
  },
  {
   "cell_type": "code",
   "execution_count": 3,
   "metadata": {},
   "outputs": [],
   "source": [
    "# Set seeed\n",
    "mavenn.set_seed(0)\n",
    "\n",
    "# Define model\n",
    "model = mavenn.Model(regression_type='GE',\n",
    "                     L=len(data_df['x'][0]),\n",
    "                     alphabet='dna',\n",
    "                     gpmap_type='pairwise',                     \n",
    "                     ge_noise_model_type='SkewedT',\n",
    "                     ge_heteroskedasticity_order=2)\n"
   ]
  },
  {
   "cell_type": "code",
   "execution_count": 4,
   "metadata": {},
   "outputs": [
    {
     "name": "stdout",
     "output_type": "stream",
     "text": [
      "Model: \"functional_1\"\n",
      "__________________________________________________________________________________________________\n",
      "Layer (type)                    Output Shape         Param #     Connected to                     \n",
      "==================================================================================================\n",
      "Sequence_labels_input (InputLay [(None, 37)]         0                                            \n",
      "__________________________________________________________________________________________________\n",
      "Sequence_only (Lambda)          (None, 36)           0           Sequence_labels_input[0][0]      \n",
      "__________________________________________________________________________________________________\n",
      "pairwise_gp_map_layer (Pairwise (None, 1)            1333        Sequence_only[0][0]              \n",
      "__________________________________________________________________________________________________\n",
      "global_epistasis_layer (GlobalE (None, 1)            151         pairwise_gp_map_layer[0][0]      \n",
      "__________________________________________________________________________________________________\n",
      "Labels_input (Lambda)           (None, 1)            0           Sequence_labels_input[0][0]      \n",
      "__________________________________________________________________________________________________\n",
      "yhat_and_y_to_ll (Concatenate)  (None, 2)            0           global_epistasis_layer[0][0]     \n",
      "                                                                 Labels_input[0][0]               \n",
      "__________________________________________________________________________________________________\n",
      "skewed_t_likelihood_layer (Skew (None, 1)            9           yhat_and_y_to_ll[0][0]           \n",
      "==================================================================================================\n",
      "Total params: 1,493\n",
      "Trainable params: 1,493\n",
      "Non-trainable params: 0\n",
      "__________________________________________________________________________________________________\n"
     ]
    }
   ],
   "source": [
    "# Summarize the model\n",
    "model.get_nn().summary()"
   ]
  },
  {
   "cell_type": "code",
   "execution_count": 5,
   "metadata": {},
   "outputs": [
    {
     "name": "stdout",
     "output_type": "stream",
     "text": [
      "N = 16,446 observations set as training data.\n",
      "Data shuffled.\n",
      "Time to set data: 0.125 sec.\n"
     ]
    }
   ],
   "source": [
    "# Set training data\n",
    "model.set_data(x=data_df['x'],\n",
    "               y=data_df['y'],\n",
    "               shuffle=True)"
   ]
  },
  {
   "cell_type": "code",
   "execution_count": 6,
   "metadata": {
    "scrolled": true
   },
   "outputs": [
    {
     "name": "stdout",
     "output_type": "stream",
     "text": [
      " \n",
      "LSMR            Least-squares solution of  Ax = b\n",
      "\n",
      "The matrix A has    16446 rows  and       36 cols\n",
      "damp = 0.00000000000000e+00\n",
      "\n",
      "atol = 1.00e-06                 conlim = 1.00e+08\n",
      "\n",
      "btol = 1.00e-06             maxiter =       36\n",
      "\n",
      " \n",
      "   itn      x(1)       norm r    norm Ar  compatible   LS      norm A   cond A\n",
      "     0  0.00000e+00  1.282e+02  4.124e+03   1.0e+00  2.5e-01\n",
      "     1  2.21759e-02  1.158e+02  1.332e+03   9.0e-01  1.5e-01  7.4e+01  1.0e+00\n",
      "     2  3.11979e-02  1.142e+02  2.344e+02   8.9e-01  1.9e-02  1.1e+02  1.1e+00\n",
      "     3  3.17511e-02  1.142e+02  1.944e+02   8.9e-01  1.3e-02  1.4e+02  1.1e+00\n",
      "     4  3.21405e-02  1.141e+02  4.639e+01   8.9e-01  1.5e-03  2.7e+02  1.8e+00\n",
      "     5  3.30620e-02  1.141e+02  1.069e+01   8.9e-01  3.4e-04  2.7e+02  2.4e+00\n",
      "     6  3.33971e-02  1.141e+02  1.356e+00   8.9e-01  4.2e-05  2.8e+02  2.4e+00\n",
      "     7  3.33400e-02  1.141e+02  2.131e-01   8.9e-01  6.5e-06  2.9e+02  2.4e+00\n",
      "     8  3.33309e-02  1.141e+02  6.560e-02   8.9e-01  2.0e-06  2.9e+02  2.4e+00\n",
      "     9  3.33319e-02  1.141e+02  1.110e-02   8.9e-01  3.2e-07  3.0e+02  2.4e+00\n",
      " \n",
      "LSMR finished\n",
      "The least-squares solution is good enough, given atol     \n",
      "istop =       2    normr = 1.1e+02\n",
      "    normA = 3.0e+02    normAr = 1.1e-02\n",
      "itn   =       9    condA = 2.4e+00\n",
      "    normx = 8.7e-01\n",
      "     9  3.33319e-02   1.141e+02  1.110e-02\n",
      "   8.9e-01  3.2e-07   3.0e+02  2.4e+00\n",
      "Linear regression time: 0.0608 sec\n",
      "Epoch 1/1000\n",
      "264/264 [==============================] - 1s 5ms/step - loss: 62.0335 - val_loss: 56.7633\n",
      "Epoch 2/1000\n",
      "264/264 [==============================] - 1s 3ms/step - loss: 50.3922 - val_loss: 48.8676\n",
      "Epoch 3/1000\n",
      "264/264 [==============================] - 1s 3ms/step - loss: 44.8518 - val_loss: 45.5038\n",
      "Epoch 4/1000\n",
      "264/264 [==============================] - 1s 3ms/step - loss: 42.6585 - val_loss: 44.4947\n",
      "Epoch 5/1000\n",
      "264/264 [==============================] - 1s 3ms/step - loss: 41.6432 - val_loss: 43.7814\n",
      "Epoch 6/1000\n",
      "264/264 [==============================] - 1s 3ms/step - loss: 41.0454 - val_loss: 43.4794\n",
      "Epoch 7/1000\n",
      "264/264 [==============================] - 1s 3ms/step - loss: 40.6472 - val_loss: 43.2006\n",
      "Epoch 8/1000\n",
      "264/264 [==============================] - 1s 3ms/step - loss: 40.2771 - val_loss: 43.0935\n",
      "Epoch 9/1000\n",
      "264/264 [==============================] - 1s 3ms/step - loss: 39.8600 - val_loss: 42.4961\n",
      "Epoch 10/1000\n",
      "264/264 [==============================] - 1s 3ms/step - loss: 39.4880 - val_loss: 42.2325\n",
      "Epoch 11/1000\n",
      "264/264 [==============================] - 1s 3ms/step - loss: 39.0636 - val_loss: 41.5739\n",
      "Epoch 12/1000\n",
      "264/264 [==============================] - 1s 3ms/step - loss: 38.7938 - val_loss: 41.8863\n",
      "Epoch 13/1000\n",
      "264/264 [==============================] - 1s 3ms/step - loss: 38.6184 - val_loss: 41.2361\n",
      "Epoch 14/1000\n",
      "264/264 [==============================] - 1s 3ms/step - loss: 38.4966 - val_loss: 41.3353\n",
      "Epoch 15/1000\n",
      "264/264 [==============================] - 1s 3ms/step - loss: 38.3281 - val_loss: 41.2533\n",
      "Epoch 16/1000\n",
      "264/264 [==============================] - 1s 3ms/step - loss: 38.1805 - val_loss: 40.9973\n",
      "Epoch 17/1000\n",
      "264/264 [==============================] - 1s 3ms/step - loss: 38.1624 - val_loss: 41.4822\n",
      "Epoch 18/1000\n",
      "264/264 [==============================] - 1s 3ms/step - loss: 38.0726 - val_loss: 40.8243\n",
      "Epoch 19/1000\n",
      "264/264 [==============================] - 1s 3ms/step - loss: 38.0364 - val_loss: 40.7374\n",
      "Epoch 20/1000\n",
      "264/264 [==============================] - 1s 3ms/step - loss: 37.9925 - val_loss: 41.0785\n",
      "Epoch 21/1000\n",
      "264/264 [==============================] - 1s 3ms/step - loss: 37.9515 - val_loss: 40.8159\n",
      "Epoch 22/1000\n",
      "264/264 [==============================] - 1s 3ms/step - loss: 37.8996 - val_loss: 40.6852\n",
      "Epoch 23/1000\n",
      "264/264 [==============================] - 1s 3ms/step - loss: 37.8435 - val_loss: 40.8800\n",
      "Epoch 24/1000\n",
      "264/264 [==============================] - 1s 3ms/step - loss: 37.8158 - val_loss: 40.7907\n",
      "Epoch 25/1000\n",
      "264/264 [==============================] - 1s 3ms/step - loss: 37.7799 - val_loss: 40.6526\n",
      "Epoch 26/1000\n",
      "264/264 [==============================] - 1s 3ms/step - loss: 37.7504 - val_loss: 40.5714\n",
      "Epoch 27/1000\n",
      "264/264 [==============================] - 1s 3ms/step - loss: 37.7448 - val_loss: 40.6888\n",
      "Epoch 28/1000\n",
      "264/264 [==============================] - 1s 3ms/step - loss: 37.6650 - val_loss: 40.4811\n",
      "Epoch 29/1000\n",
      "264/264 [==============================] - 1s 3ms/step - loss: 37.6551 - val_loss: 40.4230\n",
      "Epoch 30/1000\n",
      "264/264 [==============================] - 1s 3ms/step - loss: 37.6041 - val_loss: 40.3889\n",
      "Epoch 31/1000\n",
      "264/264 [==============================] - 1s 3ms/step - loss: 37.5826 - val_loss: 40.3848\n",
      "Epoch 32/1000\n",
      "264/264 [==============================] - 1s 3ms/step - loss: 37.5437 - val_loss: 40.6021\n",
      "Epoch 33/1000\n",
      "264/264 [==============================] - 1s 3ms/step - loss: 37.5286 - val_loss: 40.5221\n",
      "Epoch 34/1000\n",
      "264/264 [==============================] - 1s 3ms/step - loss: 37.4806 - val_loss: 40.3819\n",
      "Epoch 35/1000\n",
      "264/264 [==============================] - 1s 3ms/step - loss: 37.4621 - val_loss: 40.2110\n",
      "Epoch 36/1000\n",
      "264/264 [==============================] - 1s 3ms/step - loss: 37.3634 - val_loss: 40.4282\n",
      "Epoch 37/1000\n",
      "264/264 [==============================] - 1s 3ms/step - loss: 37.3853 - val_loss: 40.1506\n",
      "Epoch 38/1000\n",
      "264/264 [==============================] - 1s 3ms/step - loss: 37.3461 - val_loss: 40.0918\n",
      "Epoch 39/1000\n",
      "264/264 [==============================] - 1s 3ms/step - loss: 37.2743 - val_loss: 40.3225\n",
      "Epoch 40/1000\n",
      "264/264 [==============================] - 1s 3ms/step - loss: 37.2932 - val_loss: 40.1421\n",
      "Epoch 41/1000\n",
      "264/264 [==============================] - 1s 3ms/step - loss: 37.2102 - val_loss: 40.1007\n",
      "Epoch 42/1000\n",
      "264/264 [==============================] - 1s 3ms/step - loss: 37.2019 - val_loss: 40.0290\n",
      "Epoch 43/1000\n",
      "264/264 [==============================] - 1s 3ms/step - loss: 37.2483 - val_loss: 39.9448\n",
      "Epoch 44/1000\n",
      "264/264 [==============================] - 1s 4ms/step - loss: 37.1225 - val_loss: 40.1362\n",
      "Epoch 45/1000\n",
      "264/264 [==============================] - 1s 3ms/step - loss: 37.1068 - val_loss: 40.0531\n",
      "Epoch 46/1000\n",
      "264/264 [==============================] - 1s 3ms/step - loss: 37.1239 - val_loss: 39.9328\n",
      "Epoch 47/1000\n",
      "264/264 [==============================] - 1s 3ms/step - loss: 37.0067 - val_loss: 39.8545\n",
      "Epoch 48/1000\n",
      "264/264 [==============================] - 1s 3ms/step - loss: 36.9604 - val_loss: 39.8159\n",
      "Epoch 49/1000\n",
      "264/264 [==============================] - 1s 3ms/step - loss: 36.9757 - val_loss: 39.7205\n",
      "Epoch 50/1000\n",
      "264/264 [==============================] - 1s 3ms/step - loss: 36.9148 - val_loss: 39.6614\n",
      "Epoch 51/1000\n",
      "264/264 [==============================] - 1s 3ms/step - loss: 36.8887 - val_loss: 40.1504\n",
      "Epoch 52/1000\n",
      "264/264 [==============================] - 1s 3ms/step - loss: 36.8536 - val_loss: 39.5457\n",
      "Epoch 53/1000\n",
      "264/264 [==============================] - 1s 3ms/step - loss: 36.7905 - val_loss: 39.6415\n",
      "Epoch 54/1000\n",
      "264/264 [==============================] - 1s 3ms/step - loss: 36.8039 - val_loss: 39.4297\n",
      "Epoch 55/1000\n",
      "264/264 [==============================] - 1s 3ms/step - loss: 36.6901 - val_loss: 39.6091\n",
      "Epoch 56/1000\n",
      "264/264 [==============================] - 1s 3ms/step - loss: 36.7350 - val_loss: 39.5169\n",
      "Epoch 57/1000\n",
      "264/264 [==============================] - 1s 4ms/step - loss: 36.6269 - val_loss: 40.3261\n",
      "Epoch 58/1000\n",
      "264/264 [==============================] - 1s 4ms/step - loss: 36.6048 - val_loss: 39.3772\n",
      "Epoch 59/1000\n",
      "264/264 [==============================] - 1s 3ms/step - loss: 36.5417 - val_loss: 39.3363\n",
      "Epoch 60/1000\n",
      "264/264 [==============================] - 1s 3ms/step - loss: 36.5229 - val_loss: 39.2148\n",
      "Epoch 61/1000\n",
      "264/264 [==============================] - 1s 3ms/step - loss: 36.4694 - val_loss: 39.1636\n",
      "Epoch 62/1000\n",
      "264/264 [==============================] - 1s 3ms/step - loss: 36.4292 - val_loss: 39.1080\n",
      "Epoch 63/1000\n",
      "264/264 [==============================] - 1s 3ms/step - loss: 36.3781 - val_loss: 39.1537\n",
      "Epoch 64/1000\n",
      "264/264 [==============================] - 1s 3ms/step - loss: 36.3779 - val_loss: 39.0889\n",
      "Epoch 65/1000\n"
     ]
    },
    {
     "name": "stdout",
     "output_type": "stream",
     "text": [
      "264/264 [==============================] - 1s 3ms/step - loss: 36.2292 - val_loss: 39.2604\n",
      "Epoch 66/1000\n",
      "264/264 [==============================] - 1s 3ms/step - loss: 36.2131 - val_loss: 39.0208\n",
      "Epoch 67/1000\n",
      "264/264 [==============================] - 1s 3ms/step - loss: 36.0718 - val_loss: 38.8025\n",
      "Epoch 68/1000\n",
      "264/264 [==============================] - 1s 3ms/step - loss: 36.0566 - val_loss: 38.6538\n",
      "Epoch 69/1000\n",
      "264/264 [==============================] - 1s 3ms/step - loss: 35.8827 - val_loss: 38.5062\n",
      "Epoch 70/1000\n",
      "264/264 [==============================] - 1s 3ms/step - loss: 35.7638 - val_loss: 39.1068\n",
      "Epoch 71/1000\n",
      "264/264 [==============================] - 1s 3ms/step - loss: 35.5176 - val_loss: 38.2495\n",
      "Epoch 72/1000\n",
      "264/264 [==============================] - 1s 3ms/step - loss: 35.2859 - val_loss: 37.5117\n",
      "Epoch 73/1000\n",
      "264/264 [==============================] - 1s 3ms/step - loss: 34.7609 - val_loss: 37.3223\n",
      "Epoch 74/1000\n",
      "264/264 [==============================] - 1s 3ms/step - loss: 34.4596 - val_loss: 37.1662\n",
      "Epoch 75/1000\n",
      "264/264 [==============================] - 1s 3ms/step - loss: 34.2734 - val_loss: 36.7711\n",
      "Epoch 76/1000\n",
      "264/264 [==============================] - 1s 3ms/step - loss: 34.2244 - val_loss: 36.8262\n",
      "Epoch 77/1000\n",
      "264/264 [==============================] - 1s 3ms/step - loss: 34.1435 - val_loss: 37.4272\n",
      "Epoch 78/1000\n",
      "264/264 [==============================] - 1s 3ms/step - loss: 34.1122 - val_loss: 36.9135\n",
      "Epoch 79/1000\n",
      "264/264 [==============================] - 1s 3ms/step - loss: 34.0968 - val_loss: 36.7966\n",
      "Epoch 80/1000\n",
      "264/264 [==============================] - 1s 3ms/step - loss: 34.0393 - val_loss: 36.7621\n",
      "Epoch 81/1000\n",
      "264/264 [==============================] - 1s 3ms/step - loss: 34.0985 - val_loss: 36.8690\n",
      "Epoch 82/1000\n",
      "264/264 [==============================] - 1s 3ms/step - loss: 33.9878 - val_loss: 37.0822\n",
      "Epoch 83/1000\n",
      "264/264 [==============================] - 1s 3ms/step - loss: 34.0970 - val_loss: 36.8659\n",
      "Epoch 84/1000\n",
      "264/264 [==============================] - 1s 3ms/step - loss: 34.0218 - val_loss: 36.6706\n",
      "Epoch 85/1000\n",
      "264/264 [==============================] - 1s 3ms/step - loss: 33.9466 - val_loss: 36.8968\n",
      "Epoch 86/1000\n",
      "264/264 [==============================] - 1s 3ms/step - loss: 33.9445 - val_loss: 36.5861\n",
      "Epoch 87/1000\n",
      "264/264 [==============================] - 1s 3ms/step - loss: 33.9181 - val_loss: 37.0065\n",
      "Epoch 88/1000\n",
      "264/264 [==============================] - 1s 3ms/step - loss: 33.9706 - val_loss: 36.6389\n",
      "Epoch 89/1000\n",
      "264/264 [==============================] - 1s 3ms/step - loss: 34.0016 - val_loss: 36.7473\n",
      "Epoch 90/1000\n",
      "264/264 [==============================] - 1s 3ms/step - loss: 33.9445 - val_loss: 36.5348\n",
      "Epoch 91/1000\n",
      "264/264 [==============================] - 1s 3ms/step - loss: 33.9242 - val_loss: 36.4505\n",
      "Epoch 92/1000\n",
      "264/264 [==============================] - 1s 3ms/step - loss: 33.9679 - val_loss: 36.6900\n",
      "Epoch 93/1000\n",
      "264/264 [==============================] - 1s 3ms/step - loss: 33.9275 - val_loss: 36.9161\n",
      "Epoch 94/1000\n",
      "264/264 [==============================] - 1s 3ms/step - loss: 33.8812 - val_loss: 36.8358\n",
      "Epoch 95/1000\n",
      "264/264 [==============================] - 1s 3ms/step - loss: 33.9024 - val_loss: 36.9443\n",
      "Epoch 96/1000\n",
      "264/264 [==============================] - 1s 3ms/step - loss: 33.8688 - val_loss: 37.2659\n",
      "Epoch 97/1000\n",
      "264/264 [==============================] - 1s 3ms/step - loss: 34.0014 - val_loss: 36.9769\n",
      "Epoch 98/1000\n",
      "264/264 [==============================] - 1s 3ms/step - loss: 33.8792 - val_loss: 36.7950\n",
      "Epoch 99/1000\n",
      "264/264 [==============================] - 1s 3ms/step - loss: 33.9412 - val_loss: 37.3220\n",
      "Epoch 100/1000\n",
      "264/264 [==============================] - 1s 3ms/step - loss: 33.8283 - val_loss: 36.6532\n",
      "Epoch 101/1000\n",
      "264/264 [==============================] - 1s 3ms/step - loss: 33.9385 - val_loss: 36.8571\n",
      "Epoch 102/1000\n",
      "264/264 [==============================] - 1s 3ms/step - loss: 33.8613 - val_loss: 36.9920\n",
      "Epoch 103/1000\n",
      "264/264 [==============================] - 1s 3ms/step - loss: 33.8558 - val_loss: 36.9659\n",
      "Epoch 104/1000\n",
      "264/264 [==============================] - 1s 3ms/step - loss: 33.8621 - val_loss: 36.8847\n",
      "Epoch 105/1000\n",
      "264/264 [==============================] - 1s 3ms/step - loss: 33.8156 - val_loss: 36.9568\n",
      "Epoch 106/1000\n",
      "264/264 [==============================] - 1s 3ms/step - loss: 33.8473 - val_loss: 36.7097\n",
      "Epoch 107/1000\n",
      "264/264 [==============================] - 1s 3ms/step - loss: 33.8600 - val_loss: 37.0110\n",
      "Epoch 108/1000\n",
      "264/264 [==============================] - 1s 3ms/step - loss: 33.7894 - val_loss: 36.5545\n",
      "Epoch 109/1000\n",
      "264/264 [==============================] - 1s 3ms/step - loss: 33.7793 - val_loss: 36.7541\n",
      "Epoch 110/1000\n",
      "264/264 [==============================] - 1s 3ms/step - loss: 33.9364 - val_loss: 36.6741\n",
      "Epoch 111/1000\n",
      "264/264 [==============================] - 1s 3ms/step - loss: 33.8284 - val_loss: 36.6863\n",
      "Epoch 112/1000\n",
      "264/264 [==============================] - 1s 3ms/step - loss: 33.7862 - val_loss: 36.6679\n",
      "Epoch 113/1000\n",
      "264/264 [==============================] - 1s 3ms/step - loss: 33.8290 - val_loss: 36.6665\n",
      "Epoch 114/1000\n",
      "264/264 [==============================] - 1s 3ms/step - loss: 33.8588 - val_loss: 36.8230\n",
      "Epoch 115/1000\n",
      "264/264 [==============================] - 1s 3ms/step - loss: 33.7905 - val_loss: 36.9940\n",
      "Epoch 116/1000\n",
      "264/264 [==============================] - 1s 3ms/step - loss: 33.8225 - val_loss: 36.4974\n",
      "Epoch 117/1000\n",
      "264/264 [==============================] - 1s 3ms/step - loss: 33.7903 - val_loss: 36.4873\n",
      "Epoch 118/1000\n",
      "264/264 [==============================] - 1s 3ms/step - loss: 33.7666 - val_loss: 36.7923\n",
      "Epoch 119/1000\n",
      "264/264 [==============================] - 1s 3ms/step - loss: 33.7817 - val_loss: 36.6904\n",
      "Epoch 120/1000\n",
      "264/264 [==============================] - 1s 3ms/step - loss: 33.7697 - val_loss: 36.5879\n",
      "Epoch 121/1000\n",
      "264/264 [==============================] - 1s 3ms/step - loss: 33.8423 - val_loss: 37.6199\n",
      "Training time: 101.3 seconds\n"
     ]
    }
   ],
   "source": [
    "# Fit model to data\n",
    "history = model.fit(learning_rate=.001,\n",
    "                    epochs=1000,\n",
    "                    early_stopping=True,\n",
    "                    early_stopping_patience=30)"
   ]
  },
  {
   "cell_type": "code",
   "execution_count": 7,
   "metadata": {},
   "outputs": [
    {
     "name": "stdout",
     "output_type": "stream",
     "text": [
      "Model saved to these files:\n",
      "\tmpsa_ge_pairwise.pickle\n",
      "\tmpsa_ge_pairwise.h5\n"
     ]
    }
   ],
   "source": [
    "# Save model\n",
    "model.save('mpsa_ge_pairwise')"
   ]
  },
  {
   "cell_type": "code",
   "execution_count": 8,
   "metadata": {
    "scrolled": true
   },
   "outputs": [
    {
     "name": "stdout",
     "output_type": "stream",
     "text": [
      "Model loaded from these files:\n",
      "\tmpsa_ge_pairwise.pickle\n",
      "\tmpsa_ge_pairwise.h5\n"
     ]
    }
   ],
   "source": [
    "# Load model\n",
    "model = mavenn.load('mpsa_ge_pairwise')"
   ]
  },
  {
   "cell_type": "code",
   "execution_count": 9,
   "metadata": {},
   "outputs": [
    {
     "name": "stdout",
     "output_type": "stream",
     "text": [
      "test data N: 5,483\n"
     ]
    }
   ],
   "source": [
    "# Load test data\n",
    "test_df = mavenn.load_example(which='test_data',name='mpsa')\n",
    "N_test = len(test_df)\n",
    "print(f'test data N: {N_test:,}')\n",
    "\n",
    "# Subsample indices for easy plotting\n",
    "ix = np.random.rand(N_test) < 1\n",
    "\n",
    "# Get x and y\n",
    "x_test = test_df['x'].values[ix]\n",
    "y_test = test_df['y'].values[ix]"
   ]
  },
  {
   "cell_type": "code",
   "execution_count": 10,
   "metadata": {},
   "outputs": [
    {
     "data": {
      "image/png": "[encoded data removed]",
      "text/plain": [
       "<Figure size 288x288 with 1 Axes>"
      ]
     },
     "metadata": {
      "needs_background": "light"
     },
     "output_type": "display_data"
    }
   ],
   "source": [
    "# Predict latent phentoype values (phi) on test data\n",
    "phi_test = model.x_to_phi(x_test)\n",
    "\n",
    "# Predict measurement values (yhat) on test data\n",
    "yhat_test = model.x_to_yhat(x_test)\n",
    "\n",
    "# Set phi lims and create grid in phi space\n",
    "phi_lim = [min(phi_test)-.5, max(phi_test)+.5]\n",
    "phi_grid = np.linspace(phi_lim[0], phi_lim[1], 1000)\n",
    "\n",
    "# Compute yhat each phi gridpoint\n",
    "yhat_grid = model.phi_to_yhat(phi_grid)\n",
    "\n",
    "# Compute 90% CI for each yhat\n",
    "q = [0.05, 0.95] #[0.16, 0.84]\n",
    "yqs_grid = model.yhat_to_yq(yhat_grid, q=q)\n",
    "\n",
    "# Create figure\n",
    "fig, ax = plt.subplots(1, 1, figsize=[4, 4])\n",
    "\n",
    "# Illustrate measurement process with GE curve\n",
    "ax.scatter(phi_test, y_test, color='C0', s=5, alpha=.2, label='test data')\n",
    "ax.plot(phi_grid, yhat_grid, linewidth=2, color='C1',\n",
    "        label='$\\hat{y} = g(\\phi)$')\n",
    "ax.plot(phi_grid, yqs_grid[:, 0], linestyle='--', color='C1', label='68% CI')\n",
    "ax.plot(phi_grid, yqs_grid[:, 1], linestyle='--', color='C1')\n",
    "ax.set_xlim(phi_lim)\n",
    "ax.set_xlabel('latent phenotype ($\\phi$)')\n",
    "ax.set_ylabel('measurement ($y$)')\n",
    "ax.set_title('measurement process')\n",
    "ax.legend()\n",
    "\n",
    "# Fix up plot\n",
    "fig.tight_layout()\n",
    "plt.show()"
   ]
  },
  {
   "cell_type": "code",
   "execution_count": 11,
   "metadata": {},
   "outputs": [
    {
     "name": "stdout",
     "output_type": "stream",
     "text": [
      "Automatically determined gpmap_type=pairwise.\n"
     ]
    },
    {
     "data": {
      "image/png": "[encoded data removed]",
      "text/plain": [
       "<Figure size 576x288 with 2 Axes>"
      ]
     },
     "metadata": {
      "needs_background": "light"
     },
     "output_type": "display_data"
    }
   ],
   "source": [
    "# Plot pairwise parameters\n",
    "theta_pair_df = model.get_gpmap_parameters(which='pairwise')\n",
    "fig, ax = plt.subplots(1, 1, figsize=[8, 4])\n",
    "mavenn.heatmap_pairwise(theta_pair_df, ax=ax);"
   ]
  },
  {
   "cell_type": "code",
   "execution_count": null,
   "metadata": {},
   "outputs": [],
   "source": []
  }
 ],
 "metadata": {
  "kernelspec": {
   "display_name": "Python 3",
   "language": "python",
   "name": "python3"
  },
  "language_info": {
   "codemirror_mode": {
    "name": "ipython",
    "version": 3
   },
   "file_extension": ".py",
   "mimetype": "text/x-python",
   "name": "python",
   "nbconvert_exporter": "python",
   "pygments_lexer": "ipython3",
   "version": "3.7.4"
  }
 },
 "nbformat": 4,
 "nbformat_minor": 2
}
