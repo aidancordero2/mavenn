{
 "cells": [
  {
   "cell_type": "code",
   "execution_count": 1,
   "metadata": {},
   "outputs": [
    {
     "name": "stdout",
     "output_type": "stream",
     "text": [
      "['/Users/jkinney/github/mavenn/mavenn']\n"
     ]
    }
   ],
   "source": [
    "# Standard imports\n",
    "import pandas as pd\n",
    "import matplotlib.pyplot as plt\n",
    "import numpy as np\n",
    "import time\n",
    "\n",
    "# Insert path to mavenn beginning of path\n",
    "import os\n",
    "import sys\n",
    "abs_path_to_mavenn = os.path.abspath('../../../')\n",
    "sys.path.insert(0, abs_path_to_mavenn)\n",
    "\n",
    "# Load mavenn\n",
    "import mavenn\n",
    "print(mavenn.__path__)"
   ]
  },
  {
   "cell_type": "code",
   "execution_count": 2,
   "metadata": {},
   "outputs": [
    {
     "name": "stdout",
     "output_type": "stream",
     "text": [
      "training N: 16446\n"
     ]
    },
    {
     "data": {
      "text/html": [
       "<div>\n",
       "<style scoped>\n",
       "    .dataframe tbody tr th:only-of-type {\n",
       "        vertical-align: middle;\n",
       "    }\n",
       "\n",
       "    .dataframe tbody tr th {\n",
       "        vertical-align: top;\n",
       "    }\n",
       "\n",
       "    .dataframe thead th {\n",
       "        text-align: right;\n",
       "    }\n",
       "</style>\n",
       "<table border=\"1\" class=\"dataframe\">\n",
       "  <thead>\n",
       "    <tr style=\"text-align: right;\">\n",
       "      <th></th>\n",
       "      <th>x</th>\n",
       "      <th>y</th>\n",
       "    </tr>\n",
       "  </thead>\n",
       "  <tbody>\n",
       "    <tr>\n",
       "      <td>0</td>\n",
       "      <td>TAAGCTTTA</td>\n",
       "      <td>-3.455265</td>\n",
       "    </tr>\n",
       "    <tr>\n",
       "      <td>1</td>\n",
       "      <td>GCAGCCTAT</td>\n",
       "      <td>-3.135494</td>\n",
       "    </tr>\n",
       "    <tr>\n",
       "      <td>2</td>\n",
       "      <td>GTGGTAAGG</td>\n",
       "      <td>2.291043</td>\n",
       "    </tr>\n",
       "    <tr>\n",
       "      <td>3</td>\n",
       "      <td>TGGGCGCAG</td>\n",
       "      <td>-3.147840</td>\n",
       "    </tr>\n",
       "    <tr>\n",
       "      <td>4</td>\n",
       "      <td>GGTGCGGGC</td>\n",
       "      <td>0.547527</td>\n",
       "    </tr>\n",
       "  </tbody>\n",
       "</table>\n",
       "</div>"
      ],
      "text/plain": [
       "           x         y\n",
       "0  TAAGCTTTA -3.455265\n",
       "1  GCAGCCTAT -3.135494\n",
       "2  GTGGTAAGG  2.291043\n",
       "3  TGGGCGCAG -3.147840\n",
       "4  GGTGCGGGC  0.547527"
      ]
     },
     "execution_count": 2,
     "metadata": {},
     "output_type": "execute_result"
    }
   ],
   "source": [
    "# Load example data\n",
    "data_df = mavenn.load_example(which='training_data', name='mpsa')\n",
    "print(f'training N: {len(data_df)}')\n",
    "data_df.head()"
   ]
  },
  {
   "cell_type": "code",
   "execution_count": 3,
   "metadata": {},
   "outputs": [
    {
     "name": "stdout",
     "output_type": "stream",
     "text": [
      " \n",
      "LSMR            Least-squares solution of  Ax = b\n",
      "\n",
      "The matrix A has    16446 rows  and      612 cols\n",
      "damp = 0.00000000000000e+00\n",
      "\n",
      "atol = 1.00e-06                 conlim = 1.00e+08\n",
      "\n",
      "btol = 1.00e-06             maxiter =      612\n",
      "\n",
      " \n",
      "   itn      x(1)       norm r    norm Ar  compatible   LS      norm A   cond A\n",
      "     0  0.00000e+00  4.013e+02  1.332e+05   1.0e+00  8.3e-01\n",
      "     1 -1.01829e-01  1.550e+02  9.273e+03   3.9e-01  1.7e-01  3.6e+02  1.0e+00\n",
      "     2 -8.98116e-02  1.384e+02  4.159e+03   3.4e-01  7.8e-02  3.8e+02  2.8e+00\n",
      "     3 -8.50724e-02  1.332e+02  2.989e+03   3.3e-01  5.5e-02  4.0e+02  3.6e+00\n",
      "     4 -8.20095e-02  1.237e+02  2.300e+03   3.1e-01  4.4e-02  4.2e+02  6.8e+00\n",
      "     5 -8.11647e-02  1.146e+02  1.274e+03   2.9e-01  2.5e-02  4.4e+02  5.2e+00\n",
      "     6 -8.34580e-02  1.128e+02  7.444e+02   2.8e-01  1.4e-02  4.6e+02  4.4e+00\n",
      "     7 -8.44482e-02  1.121e+02  6.116e+02   2.8e-01  1.2e-02  4.6e+02  7.3e+00\n",
      "     8 -8.20611e-02  1.110e+02  3.037e+02   2.8e-01  5.7e-03  4.8e+02  6.8e+00\n",
      "     9 -8.29686e-02  1.109e+02  2.069e+02   2.8e-01  3.8e-03  4.9e+02  5.9e+00\n",
      "    10 -8.34191e-02  1.108e+02  1.432e+02   2.8e-01  2.6e-03  5.0e+02  8.4e+00\n",
      "    20 -8.26296e-02  1.108e+02  5.085e+00   2.8e-01  6.6e-05  6.9e+02  8.6e+00\n",
      "    30 -8.26501e-02  1.108e+02  1.710e+00   2.8e-01  1.8e-05  8.4e+02  1.6e+01\n",
      "    40 -8.26952e-02  1.108e+02  2.314e-01   2.8e-01  2.2e-06  9.6e+02  1.0e+01\n",
      "    41 -8.26957e-02  1.108e+02  1.065e-01   2.8e-01  1.0e-06  9.7e+02  1.0e+01\n",
      " \n",
      "LSMR finished\n",
      "The least-squares solution is good enough, given atol     \n",
      "istop =       2    normr = 1.1e+02\n",
      "    normA = 9.7e+02    normAr = 1.1e-01\n",
      "itn   =      41    condA = 1.0e+01\n",
      "    normx = 2.6e+00\n",
      "    41 -8.26957e-02   1.108e+02  1.065e-01\n",
      "   2.8e-01  1.0e-06   9.7e+02  1.0e+01\n",
      "Linear regression time: 0.2590 sec\n",
      "Epoch 1/1000\n",
      "264/264 [==============================] - 1s 2ms/step - loss: 66.0056 - val_loss: 54.9882\n",
      "Epoch 2/1000\n",
      "264/264 [==============================] - 0s 1ms/step - loss: 56.0711 - val_loss: 54.3968\n",
      "Epoch 3/1000\n",
      "264/264 [==============================] - 0s 1ms/step - loss: 55.4724 - val_loss: 54.3525\n",
      "Epoch 4/1000\n",
      "264/264 [==============================] - 0s 1ms/step - loss: 55.2536 - val_loss: 54.7693\n",
      "Epoch 5/1000\n",
      "264/264 [==============================] - 0s 1ms/step - loss: 55.0320 - val_loss: 53.7883\n",
      "Epoch 6/1000\n",
      "264/264 [==============================] - 0s 1ms/step - loss: 54.8496 - val_loss: 54.4617\n",
      "Epoch 7/1000\n",
      "264/264 [==============================] - 0s 1ms/step - loss: 54.7554 - val_loss: 54.9693\n",
      "Epoch 8/1000\n",
      "264/264 [==============================] - 0s 1ms/step - loss: 54.7118 - val_loss: 53.5670\n",
      "Epoch 9/1000\n",
      "264/264 [==============================] - 0s 2ms/step - loss: 54.4906 - val_loss: 54.1684\n",
      "Epoch 10/1000\n",
      "264/264 [==============================] - 0s 1ms/step - loss: 54.3174 - val_loss: 53.7654\n",
      "Epoch 11/1000\n",
      "264/264 [==============================] - 0s 1ms/step - loss: 54.1203 - val_loss: 53.4699\n",
      "Epoch 12/1000\n",
      "264/264 [==============================] - 0s 2ms/step - loss: 54.1070 - val_loss: 52.9655\n",
      "Epoch 13/1000\n",
      "264/264 [==============================] - 0s 1ms/step - loss: 53.8770 - val_loss: 52.9644\n",
      "Epoch 14/1000\n",
      "264/264 [==============================] - 0s 1ms/step - loss: 53.6212 - val_loss: 52.7066\n",
      "Epoch 15/1000\n",
      "264/264 [==============================] - 0s 1ms/step - loss: 53.5205 - val_loss: 52.5081\n",
      "Epoch 16/1000\n",
      "264/264 [==============================] - 0s 1ms/step - loss: 53.2724 - val_loss: 53.0297\n",
      "Epoch 17/1000\n",
      "264/264 [==============================] - 0s 1ms/step - loss: 53.0897 - val_loss: 52.0376\n",
      "Epoch 18/1000\n",
      "264/264 [==============================] - 0s 1ms/step - loss: 52.9931 - val_loss: 52.0228\n",
      "Epoch 19/1000\n",
      "264/264 [==============================] - 0s 1ms/step - loss: 52.8116 - val_loss: 51.7116\n",
      "Epoch 20/1000\n",
      "264/264 [==============================] - 0s 1ms/step - loss: 52.7136 - val_loss: 51.4189\n",
      "Epoch 21/1000\n",
      "264/264 [==============================] - 0s 1ms/step - loss: 52.6021 - val_loss: 51.4913\n",
      "Epoch 22/1000\n",
      "264/264 [==============================] - 0s 1ms/step - loss: 52.4737 - val_loss: 51.2475\n",
      "Epoch 23/1000\n",
      "264/264 [==============================] - 0s 1ms/step - loss: 52.3334 - val_loss: 51.3690\n",
      "Epoch 24/1000\n",
      "264/264 [==============================] - 0s 2ms/step - loss: 52.3086 - val_loss: 51.4148\n",
      "Epoch 25/1000\n",
      "264/264 [==============================] - 0s 1ms/step - loss: 52.1945 - val_loss: 51.4493\n",
      "Epoch 26/1000\n",
      "264/264 [==============================] - 0s 1ms/step - loss: 52.1533 - val_loss: 51.3532\n",
      "Epoch 27/1000\n",
      "264/264 [==============================] - 0s 2ms/step - loss: 52.0351 - val_loss: 51.4025\n",
      "Epoch 28/1000\n",
      "264/264 [==============================] - 1s 3ms/step - loss: 52.0368 - val_loss: 50.9776\n",
      "Epoch 29/1000\n",
      "264/264 [==============================] - 1s 2ms/step - loss: 51.8647 - val_loss: 50.6784\n",
      "Epoch 30/1000\n",
      "264/264 [==============================] - 0s 2ms/step - loss: 51.7320 - val_loss: 50.8276\n",
      "Epoch 31/1000\n",
      "264/264 [==============================] - 0s 1ms/step - loss: 51.8084 - val_loss: 50.6707\n",
      "Epoch 32/1000\n",
      "264/264 [==============================] - 0s 2ms/step - loss: 51.6853 - val_loss: 50.8385\n",
      "Epoch 33/1000\n",
      "264/264 [==============================] - 0s 2ms/step - loss: 51.7202 - val_loss: 50.7007\n",
      "Epoch 34/1000\n",
      "264/264 [==============================] - 0s 2ms/step - loss: 51.7126 - val_loss: 50.7646\n",
      "Epoch 35/1000\n",
      "264/264 [==============================] - 0s 1ms/step - loss: 51.7012 - val_loss: 50.5968\n",
      "Epoch 36/1000\n",
      "264/264 [==============================] - 0s 1ms/step - loss: 51.6237 - val_loss: 50.3101\n",
      "Epoch 37/1000\n",
      "264/264 [==============================] - 1s 3ms/step - loss: 51.5795 - val_loss: 50.2773\n",
      "Epoch 38/1000\n",
      "264/264 [==============================] - 0s 2ms/step - loss: 51.5232 - val_loss: 50.1974\n",
      "Epoch 39/1000\n",
      "264/264 [==============================] - 0s 2ms/step - loss: 51.4549 - val_loss: 50.1676\n",
      "Epoch 40/1000\n",
      "264/264 [==============================] - 1s 2ms/step - loss: 51.4427 - val_loss: 50.1644\n",
      "Epoch 41/1000\n",
      "264/264 [==============================] - 0s 2ms/step - loss: 51.3787 - val_loss: 50.3223\n",
      "Epoch 42/1000\n",
      "264/264 [==============================] - 0s 2ms/step - loss: 51.3953 - val_loss: 50.0086\n",
      "Epoch 43/1000\n",
      "264/264 [==============================] - 0s 2ms/step - loss: 51.4543 - val_loss: 50.2145\n",
      "Epoch 44/1000\n",
      "264/264 [==============================] - 0s 1ms/step - loss: 51.3323 - val_loss: 50.1226\n",
      "Epoch 45/1000\n",
      "264/264 [==============================] - 1s 2ms/step - loss: 51.3370 - val_loss: 50.1111\n",
      "Epoch 46/1000\n",
      "264/264 [==============================] - 0s 2ms/step - loss: 51.2647 - val_loss: 50.2211\n",
      "Epoch 47/1000\n",
      "264/264 [==============================] - 0s 2ms/step - loss: 51.2550 - val_loss: 50.2137\n",
      "Epoch 48/1000\n",
      "264/264 [==============================] - 1s 2ms/step - loss: 51.2230 - val_loss: 50.2610\n",
      "Epoch 49/1000\n",
      "264/264 [==============================] - 0s 2ms/step - loss: 51.2367 - val_loss: 49.9920\n",
      "Epoch 50/1000\n",
      "264/264 [==============================] - 0s 2ms/step - loss: 51.2641 - val_loss: 50.1665\n",
      "Epoch 51/1000\n",
      "264/264 [==============================] - 0s 1ms/step - loss: 51.2056 - val_loss: 50.0594\n",
      "Epoch 52/1000\n",
      "264/264 [==============================] - 0s 2ms/step - loss: 51.1809 - val_loss: 50.2963\n",
      "Epoch 53/1000\n",
      "264/264 [==============================] - 0s 2ms/step - loss: 51.2620 - val_loss: 50.7833\n",
      "Epoch 54/1000\n",
      "264/264 [==============================] - 0s 2ms/step - loss: 51.2032 - val_loss: 49.9672\n",
      "Epoch 55/1000\n",
      "264/264 [==============================] - 0s 1ms/step - loss: 51.1676 - val_loss: 50.3461\n",
      "Epoch 56/1000\n",
      "264/264 [==============================] - 0s 2ms/step - loss: 51.2113 - val_loss: 50.0326\n",
      "Epoch 57/1000\n",
      "264/264 [==============================] - 1s 2ms/step - loss: 51.2056 - val_loss: 49.9330\n",
      "Epoch 58/1000\n",
      "264/264 [==============================] - 1s 2ms/step - loss: 51.1857 - val_loss: 49.8807\n",
      "Epoch 59/1000\n",
      "264/264 [==============================] - 1s 2ms/step - loss: 51.2089 - val_loss: 49.9889\n",
      "Epoch 60/1000\n",
      "264/264 [==============================] - 1s 2ms/step - loss: 51.1410 - val_loss: 50.1894\n",
      "Epoch 61/1000\n",
      "264/264 [==============================] - 0s 2ms/step - loss: 51.1695 - val_loss: 49.7920\n"
     ]
    },
    {
     "name": "stdout",
     "output_type": "stream",
     "text": [
      "Epoch 62/1000\n",
      "264/264 [==============================] - 0s 2ms/step - loss: 51.1486 - val_loss: 50.1012\n",
      "Epoch 63/1000\n",
      "264/264 [==============================] - 0s 1ms/step - loss: 51.1575 - val_loss: 50.1457\n",
      "Epoch 64/1000\n",
      "264/264 [==============================] - 0s 1ms/step - loss: 51.1277 - val_loss: 50.3457\n",
      "Epoch 65/1000\n",
      "264/264 [==============================] - 0s 1ms/step - loss: 51.1032 - val_loss: 49.8999\n",
      "Epoch 66/1000\n",
      "264/264 [==============================] - 0s 1ms/step - loss: 51.0641 - val_loss: 49.7913\n",
      "Epoch 67/1000\n",
      "264/264 [==============================] - 0s 1ms/step - loss: 51.0884 - val_loss: 49.9389\n",
      "Epoch 68/1000\n",
      "264/264 [==============================] - 0s 1ms/step - loss: 51.0145 - val_loss: 50.3046\n",
      "Epoch 69/1000\n",
      "264/264 [==============================] - 0s 1ms/step - loss: 51.0508 - val_loss: 49.8425\n",
      "Epoch 70/1000\n",
      "264/264 [==============================] - 0s 1ms/step - loss: 51.0396 - val_loss: 49.7127\n",
      "Epoch 71/1000\n",
      "264/264 [==============================] - 0s 1ms/step - loss: 51.0207 - val_loss: 50.2475\n",
      "Epoch 72/1000\n",
      "264/264 [==============================] - 0s 1ms/step - loss: 50.9884 - val_loss: 50.3981\n",
      "Epoch 73/1000\n",
      "264/264 [==============================] - 0s 1ms/step - loss: 50.9411 - val_loss: 50.0746\n",
      "Epoch 74/1000\n",
      "264/264 [==============================] - 0s 1ms/step - loss: 50.8922 - val_loss: 49.7980\n",
      "Epoch 75/1000\n",
      "264/264 [==============================] - 0s 1ms/step - loss: 50.9200 - val_loss: 49.6342\n",
      "Epoch 76/1000\n",
      "264/264 [==============================] - 0s 1ms/step - loss: 50.8805 - val_loss: 49.8134\n",
      "Epoch 77/1000\n",
      "264/264 [==============================] - 0s 1ms/step - loss: 50.8204 - val_loss: 49.5677\n",
      "Epoch 78/1000\n",
      "264/264 [==============================] - 0s 1ms/step - loss: 50.8076 - val_loss: 50.1165\n",
      "Epoch 79/1000\n",
      "264/264 [==============================] - 0s 2ms/step - loss: 50.7800 - val_loss: 49.6391\n",
      "Epoch 80/1000\n",
      "264/264 [==============================] - 0s 2ms/step - loss: 50.7941 - val_loss: 49.6851\n",
      "Epoch 81/1000\n",
      "264/264 [==============================] - 0s 2ms/step - loss: 50.8105 - val_loss: 49.8109\n",
      "Epoch 82/1000\n",
      "264/264 [==============================] - 0s 2ms/step - loss: 50.7583 - val_loss: 49.6625\n",
      "Epoch 83/1000\n",
      "264/264 [==============================] - 0s 2ms/step - loss: 50.7657 - val_loss: 49.9111\n",
      "Epoch 84/1000\n",
      "264/264 [==============================] - 0s 2ms/step - loss: 50.7504 - val_loss: 49.7803\n",
      "Epoch 85/1000\n",
      "264/264 [==============================] - 0s 2ms/step - loss: 50.7057 - val_loss: 49.8627\n",
      "Epoch 86/1000\n",
      "264/264 [==============================] - 0s 2ms/step - loss: 50.7200 - val_loss: 49.7596\n",
      "Epoch 87/1000\n",
      "264/264 [==============================] - 0s 2ms/step - loss: 50.6871 - val_loss: 49.7541\n",
      "training time: 37.9 seconds\n"
     ]
    }
   ],
   "source": [
    "# Set seeed\n",
    "mavenn.set_seed(0)\n",
    "\n",
    "# Define model\n",
    "model = mavenn.Model(x=data_df['x'],\n",
    "                     y=data_df['y'],\n",
    "                     alphabet='dna',\n",
    "                     gpmap_type='pairwise',\n",
    "                     regression_type='GE',\n",
    "                     ge_noise_model_type='Cauchy',\n",
    "                     ge_heteroskedasticity_order=2)\n",
    "\n",
    "# Fit model to data\n",
    "history = model.fit(learning_rate=.001,\n",
    "                    epochs=1000,\n",
    "                    early_stopping=True,\n",
    "                    early_stopping_patience=10)"
   ]
  },
  {
   "cell_type": "code",
   "execution_count": 4,
   "metadata": {},
   "outputs": [
    {
     "name": "stdout",
     "output_type": "stream",
     "text": [
      "Model saved to these files:\n",
      "\tmpsa_ge_pairwise.pickle\n",
      "\tmpsa_ge_pairwise.h5\n"
     ]
    }
   ],
   "source": [
    "model.save('mpsa_ge_pairwise')"
   ]
  },
  {
   "cell_type": "code",
   "execution_count": 5,
   "metadata": {},
   "outputs": [
    {
     "name": "stdout",
     "output_type": "stream",
     "text": [
      "Model loaded from these files:\n",
      "\tmpsa_ge_pairwise.pickle\n",
      "\tmpsa_ge_pairwise.h5\n"
     ]
    }
   ],
   "source": [
    "# Load model\n",
    "model = mavenn.load('mpsa_ge_pairwise')"
   ]
  },
  {
   "cell_type": "code",
   "execution_count": 6,
   "metadata": {},
   "outputs": [
    {
     "name": "stdout",
     "output_type": "stream",
     "text": [
      "test data N: 5,483\n"
     ]
    }
   ],
   "source": [
    "# Load test data\n",
    "test_df = mavenn.load_example(which='test_data',name='mpsa')\n",
    "N_test = len(test_df)\n",
    "print(f'test data N: {N_test:,}')\n",
    "\n",
    "# Subsample indices for easy plotting\n",
    "ix = np.random.rand(N_test) < 1\n",
    "\n",
    "# Get x and y\n",
    "x_test = test_df['x'].values[ix]\n",
    "y_test = test_df['y'].values[ix]"
   ]
  },
  {
   "cell_type": "code",
   "execution_count": 7,
   "metadata": {},
   "outputs": [
    {
     "data": {
      "image/png": "[encoded data removed]",
      "text/plain": [
       "<Figure size 288x288 with 1 Axes>"
      ]
     },
     "metadata": {
      "needs_background": "light"
     },
     "output_type": "display_data"
    }
   ],
   "source": [
    "# Predict latent phentoype values (phi) on test data\n",
    "phi_test = model.x_to_phi(x_test)\n",
    "\n",
    "# Predict measurement values (yhat) on test data\n",
    "yhat_test = model.x_to_yhat(x_test)\n",
    "\n",
    "# Set phi lims and create grid in phi space\n",
    "phi_lim = [min(phi_test)-.5, max(phi_test)+.5]\n",
    "phi_grid = np.linspace(phi_lim[0], phi_lim[1], 1000)\n",
    "\n",
    "# Compute yhat each phi gridpoint\n",
    "yhat_grid = model.phi_to_yhat(phi_grid)\n",
    "\n",
    "# Compute 68% CI for each yhat\n",
    "yqs_grid = model.yhat_to_yq(yhat_grid, q=[0.16, 0.84])\n",
    "\n",
    "# Create figure\n",
    "fig, ax = plt.subplots(1, 1, figsize=[4, 4])\n",
    "\n",
    "# Illustrate measurement process with GE curve\n",
    "ax.scatter(phi_test, y_test, color='C0', s=5, alpha=.2, label='test data')\n",
    "ax.plot(phi_grid, yhat_grid, linewidth=2, color='C1',\n",
    "        label='$\\hat{y} = g(\\phi)$')\n",
    "ax.plot(phi_grid, yqs_grid[:, 0], linestyle='--', color='C1', label='68% CI')\n",
    "ax.plot(phi_grid, yqs_grid[:, 1], linestyle='--', color='C1')\n",
    "ax.set_xlim(phi_lim)\n",
    "ax.set_xlabel('latent phenotype ($\\phi$)')\n",
    "ax.set_ylabel('measurement ($y$)')\n",
    "ax.set_title('measurement process')\n",
    "ax.legend()\n",
    "\n",
    "# Fix up plot\n",
    "fig.tight_layout()\n",
    "plt.show()"
   ]
  },
  {
   "cell_type": "code",
   "execution_count": 8,
   "metadata": {},
   "outputs": [
    {
     "name": "stdout",
     "output_type": "stream",
     "text": [
      "Automatically determined gpmap_type=pairwise.\n"
     ]
    },
    {
     "data": {
      "image/png": "[encoded data removed]",
      "text/plain": [
       "<Figure size 576x288 with 2 Axes>"
      ]
     },
     "metadata": {
      "needs_background": "light"
     },
     "output_type": "display_data"
    }
   ],
   "source": [
    "# Plot pairwise parameters\n",
    "theta_pair_df = model.get_gpmap_parameters(which='pairwise')\n",
    "fig, ax = plt.subplots(1, 1, figsize=[8, 4])\n",
    "mavenn.heatmap_pairwise(theta_pair_df, ax=ax);"
   ]
  },
  {
   "cell_type": "code",
   "execution_count": null,
   "metadata": {},
   "outputs": [],
   "source": []
  }
 ],
 "metadata": {
  "kernelspec": {
   "display_name": "Python 3",
   "language": "python",
   "name": "python3"
  },
  "language_info": {
   "codemirror_mode": {
    "name": "ipython",
    "version": 3
   },
   "file_extension": ".py",
   "mimetype": "text/x-python",
   "name": "python",
   "nbconvert_exporter": "python",
   "pygments_lexer": "ipython3",
   "version": "3.7.4"
  }
 },
 "nbformat": 4,
 "nbformat_minor": 2
}
