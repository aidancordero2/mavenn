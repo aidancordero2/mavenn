{
 "cells": [
  {
   "cell_type": "code",
   "execution_count": 1,
   "metadata": {},
   "outputs": [
    {
     "name": "stdout",
     "output_type": "stream",
     "text": [
      "['/Users/jkinney/github/mavenn/mavenn']\n"
     ]
    }
   ],
   "source": [
    "# Standard imports\n",
    "import pandas as pd\n",
    "import matplotlib.pyplot as plt\n",
    "import numpy as np\n",
    "import time\n",
    "\n",
    "# Insert path to mavenn beginning of path\n",
    "import os\n",
    "import sys\n",
    "abs_path_to_mavenn = os.path.abspath('../../../')\n",
    "sys.path.insert(0, abs_path_to_mavenn)\n",
    "\n",
    "# Load mavenn\n",
    "import mavenn\n",
    "print(mavenn.__path__)"
   ]
  },
  {
   "cell_type": "code",
   "execution_count": 2,
   "metadata": {},
   "outputs": [
    {
     "data": {
      "text/plain": [
       "<tf.Tensor: shape=(), dtype=float32, numpy=0.6931472>"
      ]
     },
     "execution_count": 2,
     "metadata": {},
     "output_type": "execute_result"
    }
   ],
   "source": [
    "np.float32(np.exp(20))\n",
    "\n",
    "from mavenn.src.layers.measurement_process_layers import Log\n",
    "Log(np.float32(2.0))"
   ]
  },
  {
   "cell_type": "code",
   "execution_count": 3,
   "metadata": {},
   "outputs": [
    {
     "data": {
      "text/plain": [
       "<tf.Tensor: shape=(2,), dtype=int32, numpy=array([ 1, 50], dtype=int32)>"
      ]
     },
     "execution_count": 3,
     "metadata": {},
     "output_type": "execute_result"
    }
   ],
   "source": [
    "import tensorflow as tf\n",
    "tf.where([True, False], [1, 2], 50)"
   ]
  },
  {
   "cell_type": "code",
   "execution_count": 4,
   "metadata": {},
   "outputs": [
    {
     "data": {
      "text/html": [
       "<div>\n",
       "<style scoped>\n",
       "    .dataframe tbody tr th:only-of-type {\n",
       "        vertical-align: middle;\n",
       "    }\n",
       "\n",
       "    .dataframe tbody tr th {\n",
       "        vertical-align: top;\n",
       "    }\n",
       "\n",
       "    .dataframe thead th {\n",
       "        text-align: right;\n",
       "    }\n",
       "</style>\n",
       "<table border=\"1\" class=\"dataframe\">\n",
       "  <thead>\n",
       "    <tr style=\"text-align: right;\">\n",
       "      <th></th>\n",
       "      <th>training_set</th>\n",
       "      <th>tot_ct</th>\n",
       "      <th>ex_ct</th>\n",
       "      <th>y</th>\n",
       "      <th>x</th>\n",
       "    </tr>\n",
       "  </thead>\n",
       "  <tbody>\n",
       "    <tr>\n",
       "      <th>0</th>\n",
       "      <td>True</td>\n",
       "      <td>1588</td>\n",
       "      <td>66</td>\n",
       "      <td>-4.567814</td>\n",
       "      <td>ACGGUCCAU</td>\n",
       "    </tr>\n",
       "    <tr>\n",
       "      <th>1</th>\n",
       "      <td>True</td>\n",
       "      <td>1533</td>\n",
       "      <td>118</td>\n",
       "      <td>-3.688265</td>\n",
       "      <td>AUUGCCAGG</td>\n",
       "    </tr>\n",
       "    <tr>\n",
       "      <th>2</th>\n",
       "      <td>True</td>\n",
       "      <td>1459</td>\n",
       "      <td>399</td>\n",
       "      <td>-1.867896</td>\n",
       "      <td>ACAGCGGUA</td>\n",
       "    </tr>\n",
       "    <tr>\n",
       "      <th>3</th>\n",
       "      <td>True</td>\n",
       "      <td>1414</td>\n",
       "      <td>246</td>\n",
       "      <td>-2.518219</td>\n",
       "      <td>AACGCCAGG</td>\n",
       "    </tr>\n",
       "    <tr>\n",
       "      <th>4</th>\n",
       "      <td>True</td>\n",
       "      <td>1412</td>\n",
       "      <td>60</td>\n",
       "      <td>-4.533808</td>\n",
       "      <td>ACGGCUUGG</td>\n",
       "    </tr>\n",
       "    <tr>\n",
       "      <th>5</th>\n",
       "      <td>True</td>\n",
       "      <td>1412</td>\n",
       "      <td>11147</td>\n",
       "      <td>2.979952</td>\n",
       "      <td>AAGGUGGGA</td>\n",
       "    </tr>\n",
       "    <tr>\n",
       "      <th>6</th>\n",
       "      <td>True</td>\n",
       "      <td>1396</td>\n",
       "      <td>57</td>\n",
       "      <td>-4.590135</td>\n",
       "      <td>ACGGCUUAU</td>\n",
       "    </tr>\n",
       "    <tr>\n",
       "      <th>7</th>\n",
       "      <td>False</td>\n",
       "      <td>1384</td>\n",
       "      <td>14692</td>\n",
       "      <td>3.407171</td>\n",
       "      <td>CAGGUGGGA</td>\n",
       "    </tr>\n",
       "    <tr>\n",
       "      <th>8</th>\n",
       "      <td>False</td>\n",
       "      <td>1378</td>\n",
       "      <td>12990</td>\n",
       "      <td>3.235818</td>\n",
       "      <td>AAGGUUGGU</td>\n",
       "    </tr>\n",
       "    <tr>\n",
       "      <th>9</th>\n",
       "      <td>True</td>\n",
       "      <td>1336</td>\n",
       "      <td>43</td>\n",
       "      <td>-4.925352</td>\n",
       "      <td>UCAGUGGGA</td>\n",
       "    </tr>\n",
       "    <tr>\n",
       "      <th>10</th>\n",
       "      <td>True</td>\n",
       "      <td>1296</td>\n",
       "      <td>60</td>\n",
       "      <td>-4.410225</td>\n",
       "      <td>ACAGCGGGA</td>\n",
       "    </tr>\n",
       "    <tr>\n",
       "      <th>11</th>\n",
       "      <td>True</td>\n",
       "      <td>1296</td>\n",
       "      <td>38</td>\n",
       "      <td>-5.055561</td>\n",
       "      <td>AACGCUAGG</td>\n",
       "    </tr>\n",
       "    <tr>\n",
       "      <th>12</th>\n",
       "      <td>True</td>\n",
       "      <td>1289</td>\n",
       "      <td>53</td>\n",
       "      <td>-4.578268</td>\n",
       "      <td>AGCGCCCAU</td>\n",
       "    </tr>\n",
       "    <tr>\n",
       "      <th>13</th>\n",
       "      <td>False</td>\n",
       "      <td>1273</td>\n",
       "      <td>53</td>\n",
       "      <td>-4.560262</td>\n",
       "      <td>ACAGCACUA</td>\n",
       "    </tr>\n",
       "    <tr>\n",
       "      <th>14</th>\n",
       "      <td>True</td>\n",
       "      <td>1269</td>\n",
       "      <td>85</td>\n",
       "      <td>-3.884348</td>\n",
       "      <td>AAGGCCAGG</td>\n",
       "    </tr>\n",
       "    <tr>\n",
       "      <th>15</th>\n",
       "      <td>True</td>\n",
       "      <td>1229</td>\n",
       "      <td>75</td>\n",
       "      <td>-4.016515</td>\n",
       "      <td>CAGGCAUAU</td>\n",
       "    </tr>\n",
       "    <tr>\n",
       "      <th>16</th>\n",
       "      <td>True</td>\n",
       "      <td>1224</td>\n",
       "      <td>70</td>\n",
       "      <td>-4.108819</td>\n",
       "      <td>CACGCCCUA</td>\n",
       "    </tr>\n",
       "    <tr>\n",
       "      <th>17</th>\n",
       "      <td>False</td>\n",
       "      <td>1223</td>\n",
       "      <td>15423</td>\n",
       "      <td>3.655501</td>\n",
       "      <td>ACGGUGAGA</td>\n",
       "    </tr>\n",
       "    <tr>\n",
       "      <th>18</th>\n",
       "      <td>True</td>\n",
       "      <td>1218</td>\n",
       "      <td>12509</td>\n",
       "      <td>3.359312</td>\n",
       "      <td>CAGGUGAGA</td>\n",
       "    </tr>\n",
       "    <tr>\n",
       "      <th>19</th>\n",
       "      <td>False</td>\n",
       "      <td>1210</td>\n",
       "      <td>39</td>\n",
       "      <td>-4.920055</td>\n",
       "      <td>ACUGCAUAU</td>\n",
       "    </tr>\n",
       "  </tbody>\n",
       "</table>\n",
       "</div>"
      ],
      "text/plain": [
       "    training_set  tot_ct  ex_ct         y          x\n",
       "0           True    1588     66 -4.567814  ACGGUCCAU\n",
       "1           True    1533    118 -3.688265  AUUGCCAGG\n",
       "2           True    1459    399 -1.867896  ACAGCGGUA\n",
       "3           True    1414    246 -2.518219  AACGCCAGG\n",
       "4           True    1412     60 -4.533808  ACGGCUUGG\n",
       "5           True    1412  11147  2.979952  AAGGUGGGA\n",
       "6           True    1396     57 -4.590135  ACGGCUUAU\n",
       "7          False    1384  14692  3.407171  CAGGUGGGA\n",
       "8          False    1378  12990  3.235818  AAGGUUGGU\n",
       "9           True    1336     43 -4.925352  UCAGUGGGA\n",
       "10          True    1296     60 -4.410225  ACAGCGGGA\n",
       "11          True    1296     38 -5.055561  AACGCUAGG\n",
       "12          True    1289     53 -4.578268  AGCGCCCAU\n",
       "13         False    1273     53 -4.560262  ACAGCACUA\n",
       "14          True    1269     85 -3.884348  AAGGCCAGG\n",
       "15          True    1229     75 -4.016515  CAGGCAUAU\n",
       "16          True    1224     70 -4.108819  CACGCCCUA\n",
       "17         False    1223  15423  3.655501  ACGGUGAGA\n",
       "18          True    1218  12509  3.359312  CAGGUGAGA\n",
       "19         False    1210     39 -4.920055  ACUGCAUAU"
      ]
     },
     "execution_count": 4,
     "metadata": {},
     "output_type": "execute_result"
    }
   ],
   "source": [
    "# Load example data\n",
    "data_df = mavenn.load_example_dataset('mpsa')\n",
    "data_df.head(20)"
   ]
  },
  {
   "cell_type": "code",
   "execution_count": 5,
   "metadata": {},
   "outputs": [
    {
     "data": {
      "text/plain": [
       "<AxesSubplot:xlabel='y', ylabel='Count'>"
      ]
     },
     "execution_count": 5,
     "metadata": {},
     "output_type": "execute_result"
    },
    {
     "data": {
      "image/png": "[encoded data removed]",
      "text/plain": [
       "<Figure size 432x288 with 1 Axes>"
      ]
     },
     "metadata": {
      "needs_background": "light"
     },
     "output_type": "display_data"
    }
   ],
   "source": [
    "import seaborn as sns\n",
    "sns.histplot(data_df['y'])"
   ]
  },
  {
   "cell_type": "code",
   "execution_count": 6,
   "metadata": {},
   "outputs": [
    {
     "name": "stdout",
     "output_type": "stream",
     "text": [
      "training N: 24,411\n",
      "testing N: 6,079\n"
     ]
    }
   ],
   "source": [
    "# Split into trianing and test data\n",
    "ix = data_df['training_set']\n",
    "L = len(data_df['x'][0])\n",
    "train_df = data_df[ix]\n",
    "print(f'training N: {len(train_df):,}')\n",
    "test_df = data_df[~ix]\n",
    "print(f'testing N: {len(test_df):,}')"
   ]
  },
  {
   "cell_type": "code",
   "execution_count": 7,
   "metadata": {},
   "outputs": [],
   "source": [
    "# Set seeed\n",
    "mavenn.set_seed(0)\n",
    "\n",
    "# Define model\n",
    "model = mavenn.Model(regression_type='GE',\n",
    "                     L=L,\n",
    "                     alphabet='rna',\n",
    "                     gpmap_type='pairwise',                     \n",
    "                     ge_noise_model_type='SkewedT',\n",
    "                     ge_heteroskedasticity_order=4)\n"
   ]
  },
  {
   "cell_type": "code",
   "execution_count": 8,
   "metadata": {},
   "outputs": [
    {
     "name": "stdout",
     "output_type": "stream",
     "text": [
      "N = 24,411 observations set as training data.\n",
      "Data shuffled.\n",
      "Time to set data: 0.439 sec.\n"
     ]
    }
   ],
   "source": [
    "# Set training data\n",
    "model.set_data(x=train_df['x'],\n",
    "               y=train_df['y'],\n",
    "               shuffle=True)"
   ]
  },
  {
   "cell_type": "code",
   "execution_count": 9,
   "metadata": {
    "scrolled": true
   },
   "outputs": [
    {
     "name": "stdout",
     "output_type": "stream",
     "text": [
      "Epoch 1/1000\n",
      "98/98 [==============================] - 1s 8ms/step - loss: 228.8042 - I_like: -0.2426 - val_loss: 193.2352 - val_I_like: -0.0111\n",
      "Epoch 2/1000\n",
      "98/98 [==============================] - 0s 4ms/step - loss: 181.0735 - I_like: 0.0877 - val_loss: 169.3665 - val_I_like: 0.1607\n",
      "Epoch 3/1000\n",
      "98/98 [==============================] - 0s 3ms/step - loss: 167.1879 - I_like: 0.1900 - val_loss: 163.5880 - val_I_like: 0.2036\n",
      "Epoch 4/1000\n",
      "98/98 [==============================] - 0s 4ms/step - loss: 163.3864 - I_like: 0.2164 - val_loss: 162.1058 - val_I_like: 0.2129\n",
      "Epoch 5/1000\n",
      "98/98 [==============================] - 0s 4ms/step - loss: 161.9169 - I_like: 0.2280 - val_loss: 161.3826 - val_I_like: 0.2203\n",
      "Epoch 6/1000\n",
      "98/98 [==============================] - 0s 5ms/step - loss: 160.8463 - I_like: 0.2350 - val_loss: 160.1009 - val_I_like: 0.2294\n",
      "Epoch 7/1000\n",
      "98/98 [==============================] - 0s 4ms/step - loss: 160.4202 - I_like: 0.2389 - val_loss: 160.1660 - val_I_like: 0.2288\n",
      "Epoch 8/1000\n",
      "98/98 [==============================] - 0s 5ms/step - loss: 159.7638 - I_like: 0.2424 - val_loss: 159.9450 - val_I_like: 0.2314\n",
      "Epoch 9/1000\n",
      "98/98 [==============================] - 0s 4ms/step - loss: 159.4972 - I_like: 0.2447 - val_loss: 159.2526 - val_I_like: 0.2364\n",
      "Epoch 10/1000\n",
      "98/98 [==============================] - 0s 4ms/step - loss: 159.4270 - I_like: 0.2438 - val_loss: 159.3686 - val_I_like: 0.2362\n",
      "Epoch 11/1000\n",
      "98/98 [==============================] - 0s 4ms/step - loss: 159.1731 - I_like: 0.2473 - val_loss: 159.4764 - val_I_like: 0.2342\n",
      "Epoch 12/1000\n",
      "98/98 [==============================] - 0s 4ms/step - loss: 158.6881 - I_like: 0.2509 - val_loss: 158.5618 - val_I_like: 0.2410\n",
      "Epoch 13/1000\n",
      "98/98 [==============================] - 0s 4ms/step - loss: 158.9699 - I_like: 0.2490 - val_loss: 159.2938 - val_I_like: 0.2363\n",
      "Epoch 14/1000\n",
      "98/98 [==============================] - 0s 4ms/step - loss: 158.1576 - I_like: 0.2546 - val_loss: 157.7872 - val_I_like: 0.2472\n",
      "Epoch 15/1000\n",
      "98/98 [==============================] - 0s 4ms/step - loss: 157.7704 - I_like: 0.2584 - val_loss: 158.9270 - val_I_like: 0.2412\n",
      "Epoch 16/1000\n",
      "98/98 [==============================] - 0s 4ms/step - loss: 157.9003 - I_like: 0.2570 - val_loss: 157.5195 - val_I_like: 0.2493\n",
      "Epoch 17/1000\n",
      "98/98 [==============================] - 0s 4ms/step - loss: 157.6561 - I_like: 0.2586 - val_loss: 160.2301 - val_I_like: 0.2287\n",
      "Epoch 18/1000\n",
      "98/98 [==============================] - 0s 4ms/step - loss: 157.5776 - I_like: 0.2590 - val_loss: 157.0393 - val_I_like: 0.2536\n",
      "Epoch 19/1000\n",
      "98/98 [==============================] - 0s 4ms/step - loss: 157.4706 - I_like: 0.2600 - val_loss: 156.7077 - val_I_like: 0.2562\n",
      "Epoch 20/1000\n",
      "98/98 [==============================] - 0s 4ms/step - loss: 156.8456 - I_like: 0.2654 - val_loss: 156.9684 - val_I_like: 0.2562\n",
      "Epoch 21/1000\n",
      "98/98 [==============================] - 0s 4ms/step - loss: 156.5739 - I_like: 0.2675 - val_loss: 156.7490 - val_I_like: 0.2573\n",
      "Epoch 22/1000\n",
      "98/98 [==============================] - 0s 4ms/step - loss: 158.4452 - I_like: 0.2538 - val_loss: 160.5954 - val_I_like: 0.2286\n",
      "Epoch 23/1000\n",
      "98/98 [==============================] - 0s 4ms/step - loss: 157.6871 - I_like: 0.2573 - val_loss: 158.8216 - val_I_like: 0.2422\n",
      "Epoch 24/1000\n",
      "98/98 [==============================] - 0s 4ms/step - loss: 156.6138 - I_like: 0.2683 - val_loss: 155.9040 - val_I_like: 0.2629\n",
      "Epoch 25/1000\n",
      "98/98 [==============================] - 0s 4ms/step - loss: 156.5479 - I_like: 0.2689 - val_loss: 156.7226 - val_I_like: 0.2575\n",
      "Epoch 26/1000\n",
      "98/98 [==============================] - 0s 4ms/step - loss: 156.4994 - I_like: 0.2684 - val_loss: 156.0816 - val_I_like: 0.2611\n",
      "Epoch 27/1000\n",
      "98/98 [==============================] - 0s 4ms/step - loss: 158.4666 - I_like: 0.2537 - val_loss: 156.3090 - val_I_like: 0.2588\n",
      "Epoch 28/1000\n",
      "98/98 [==============================] - 0s 4ms/step - loss: 156.5174 - I_like: 0.2688 - val_loss: 159.9019 - val_I_like: 0.2318\n",
      "Epoch 29/1000\n",
      "98/98 [==============================] - 0s 4ms/step - loss: 156.8310 - I_like: 0.2658 - val_loss: 155.9836 - val_I_like: 0.2622\n",
      "Epoch 30/1000\n",
      "98/98 [==============================] - 0s 4ms/step - loss: 155.2261 - I_like: 0.2780 - val_loss: 155.8494 - val_I_like: 0.2641\n",
      "Epoch 31/1000\n",
      "98/98 [==============================] - 0s 4ms/step - loss: 155.5784 - I_like: 0.2747 - val_loss: 158.8019 - val_I_like: 0.2431\n",
      "Epoch 32/1000\n",
      "98/98 [==============================] - 0s 4ms/step - loss: 158.4294 - I_like: 0.2536 - val_loss: 156.0432 - val_I_like: 0.2612\n",
      "Epoch 33/1000\n",
      "98/98 [==============================] - 0s 4ms/step - loss: 156.2927 - I_like: 0.2702 - val_loss: 157.1106 - val_I_like: 0.2531\n",
      "Epoch 34/1000\n",
      "98/98 [==============================] - 0s 4ms/step - loss: 154.9492 - I_like: 0.2811 - val_loss: 154.7411 - val_I_like: 0.2731\n",
      "Epoch 35/1000\n",
      "98/98 [==============================] - 0s 4ms/step - loss: 154.7006 - I_like: 0.2828 - val_loss: 156.1305 - val_I_like: 0.2636\n",
      "Epoch 36/1000\n",
      "98/98 [==============================] - 1s 6ms/step - loss: 153.7690 - I_like: 0.2892 - val_loss: 154.9554 - val_I_like: 0.2740\n",
      "Epoch 37/1000\n",
      "98/98 [==============================] - 1s 5ms/step - loss: 155.4238 - I_like: 0.2793 - val_loss: 154.3436 - val_I_like: 0.2757\n",
      "Epoch 38/1000\n",
      "98/98 [==============================] - 1s 10ms/step - loss: 157.0170 - I_like: 0.2658 - val_loss: 155.3315 - val_I_like: 0.2702\n",
      "Epoch 39/1000\n",
      "98/98 [==============================] - 1s 8ms/step - loss: 152.5318 - I_like: 0.2984 - val_loss: 152.0087 - val_I_like: 0.2953\n",
      "Epoch 40/1000\n",
      "98/98 [==============================] - 1s 9ms/step - loss: 172.7459 - I_like: 0.1506 - val_loss: 159.3128 - val_I_like: 0.2339\n",
      "Epoch 41/1000\n",
      "98/98 [==============================] - 1s 8ms/step - loss: 157.2488 - I_like: 0.2604 - val_loss: 156.4424 - val_I_like: 0.2572\n",
      "Epoch 42/1000\n",
      "98/98 [==============================] - 1s 8ms/step - loss: 155.6384 - I_like: 0.2734 - val_loss: 155.5727 - val_I_like: 0.2649\n",
      "Epoch 43/1000\n",
      "98/98 [==============================] - 1s 8ms/step - loss: 154.1777 - I_like: 0.2850 - val_loss: 153.7988 - val_I_like: 0.2801\n",
      "Epoch 44/1000\n",
      "98/98 [==============================] - 1s 8ms/step - loss: 152.6588 - I_like: 0.2989 - val_loss: 152.4917 - val_I_like: 0.2903\n",
      "Epoch 45/1000\n",
      "98/98 [==============================] - 1s 7ms/step - loss: 151.5505 - I_like: 0.3059 - val_loss: 153.3006 - val_I_like: 0.2834\n",
      "Epoch 46/1000\n",
      "98/98 [==============================] - 1s 7ms/step - loss: 154.3327 - I_like: 0.2856 - val_loss: 151.8121 - val_I_like: 0.2975\n",
      "Epoch 47/1000\n",
      "98/98 [==============================] - 1s 7ms/step - loss: 177.3142 - I_like: 0.1172 - val_loss: 169.9017 - val_I_like: 0.1525\n",
      "Epoch 48/1000\n",
      "98/98 [==============================] - 1s 10ms/step - loss: 164.6038 - I_like: 0.2027 - val_loss: 161.0549 - val_I_like: 0.2169\n",
      "Epoch 49/1000\n",
      "98/98 [==============================] - 1s 8ms/step - loss: 160.6124 - I_like: 0.2326 - val_loss: 158.8856 - val_I_like: 0.2330\n",
      "Epoch 50/1000\n",
      "98/98 [==============================] - 1s 8ms/step - loss: 159.5216 - I_like: 0.2401 - val_loss: 158.5428 - val_I_like: 0.2360\n",
      "Epoch 51/1000\n",
      "98/98 [==============================] - 1s 8ms/step - loss: 158.6806 - I_like: 0.2457 - val_loss: 158.0901 - val_I_like: 0.2403\n",
      "Epoch 52/1000\n",
      "98/98 [==============================] - 1s 6ms/step - loss: 158.6243 - I_like: 0.2473 - val_loss: 159.1432 - val_I_like: 0.2338\n",
      "Epoch 53/1000\n",
      "98/98 [==============================] - 1s 6ms/step - loss: 158.4363 - I_like: 0.2485 - val_loss: 158.6817 - val_I_like: 0.2375\n",
      "Epoch 54/1000\n",
      "98/98 [==============================] - 1s 6ms/step - loss: 158.4232 - I_like: 0.2499 - val_loss: 158.6727 - val_I_like: 0.2367\n",
      "Epoch 55/1000\n",
      "98/98 [==============================] - 1s 6ms/step - loss: 158.2534 - I_like: 0.2512 - val_loss: 157.7768 - val_I_like: 0.2436\n",
      "Epoch 56/1000\n",
      "98/98 [==============================] - 1s 6ms/step - loss: 158.3824 - I_like: 0.2503 - val_loss: 158.6316 - val_I_like: 0.2370\n",
      "Epoch 57/1000\n",
      "98/98 [==============================] - 0s 5ms/step - loss: 157.9833 - I_like: 0.2536 - val_loss: 158.0364 - val_I_like: 0.2425\n",
      "Epoch 58/1000\n"
     ]
    },
    {
     "name": "stdout",
     "output_type": "stream",
     "text": [
      "98/98 [==============================] - 0s 4ms/step - loss: 157.9702 - I_like: 0.2527 - val_loss: 158.0602 - val_I_like: 0.2420\n",
      "Epoch 59/1000\n",
      "98/98 [==============================] - 0s 4ms/step - loss: 157.5341 - I_like: 0.2572 - val_loss: 158.7911 - val_I_like: 0.2388\n",
      "Epoch 60/1000\n",
      "98/98 [==============================] - 0s 4ms/step - loss: 157.6117 - I_like: 0.2565 - val_loss: 158.0665 - val_I_like: 0.2435\n",
      "Epoch 61/1000\n",
      "98/98 [==============================] - 0s 4ms/step - loss: 157.5279 - I_like: 0.2563 - val_loss: 157.8209 - val_I_like: 0.2448\n",
      "Epoch 62/1000\n",
      "98/98 [==============================] - 0s 4ms/step - loss: 157.4804 - I_like: 0.2594 - val_loss: 158.1922 - val_I_like: 0.2418\n",
      "Epoch 63/1000\n",
      "98/98 [==============================] - 0s 4ms/step - loss: 157.2054 - I_like: 0.2601 - val_loss: 158.0729 - val_I_like: 0.2428\n",
      "Epoch 64/1000\n",
      "98/98 [==============================] - 0s 4ms/step - loss: 157.1379 - I_like: 0.2607 - val_loss: 158.0810 - val_I_like: 0.2447\n",
      "Epoch 65/1000\n",
      "98/98 [==============================] - 0s 4ms/step - loss: 156.9535 - I_like: 0.2626 - val_loss: 157.4913 - val_I_like: 0.2490\n",
      "Epoch 66/1000\n",
      "98/98 [==============================] - 0s 4ms/step - loss: 156.9376 - I_like: 0.2614 - val_loss: 157.9461 - val_I_like: 0.2461\n",
      "Epoch 67/1000\n",
      "98/98 [==============================] - 0s 4ms/step - loss: 156.7588 - I_like: 0.2630 - val_loss: 157.7009 - val_I_like: 0.2472\n",
      "Epoch 68/1000\n",
      "98/98 [==============================] - 0s 4ms/step - loss: 156.8646 - I_like: 0.2623 - val_loss: 157.9672 - val_I_like: 0.2463\n",
      "Epoch 69/1000\n",
      "98/98 [==============================] - 0s 4ms/step - loss: 156.2491 - I_like: 0.2675 - val_loss: 157.8398 - val_I_like: 0.2487\n",
      "Epoch 70/1000\n",
      "98/98 [==============================] - 0s 4ms/step - loss: 156.2950 - I_like: 0.2678 - val_loss: 156.9417 - val_I_like: 0.2549\n",
      "Epoch 71/1000\n",
      "98/98 [==============================] - 0s 4ms/step - loss: 155.9598 - I_like: 0.2715 - val_loss: 157.1717 - val_I_like: 0.2537\n",
      "Epoch 72/1000\n",
      "98/98 [==============================] - 0s 4ms/step - loss: 155.7178 - I_like: 0.2735 - val_loss: 155.6681 - val_I_like: 0.2639\n",
      "Epoch 73/1000\n",
      "98/98 [==============================] - 0s 4ms/step - loss: 155.3504 - I_like: 0.2760 - val_loss: 155.7809 - val_I_like: 0.2637\n",
      "Epoch 74/1000\n",
      "98/98 [==============================] - 0s 4ms/step - loss: 155.2564 - I_like: 0.2771 - val_loss: 155.0867 - val_I_like: 0.2690\n",
      "Epoch 75/1000\n",
      "98/98 [==============================] - 0s 4ms/step - loss: 155.0830 - I_like: 0.2794 - val_loss: 155.0736 - val_I_like: 0.2703\n",
      "Epoch 76/1000\n",
      "98/98 [==============================] - 0s 4ms/step - loss: 153.8642 - I_like: 0.2890 - val_loss: 154.3453 - val_I_like: 0.2752\n",
      "Training time: 39.7 seconds\n"
     ]
    }
   ],
   "source": [
    "# Fit model to data\n",
    "history = model.fit(learning_rate=.005,\n",
    "                    epochs=1000,\n",
    "                    batch_size=200,\n",
    "                    early_stopping=True,\n",
    "                    early_stopping_patience=30,\n",
    "                    linear_initialization=False)"
   ]
  },
  {
   "cell_type": "code",
   "execution_count": 10,
   "metadata": {},
   "outputs": [
    {
     "data": {
      "text/plain": [
       "<tf.Tensor: shape=(), dtype=float32, numpy=1e+20>"
      ]
     },
     "execution_count": 10,
     "metadata": {},
     "output_type": "execute_result"
    }
   ],
   "source": [
    "import tensorflow as tf\n",
    "import tensorflow.keras.backend as K\n",
    "x = tf.constant(100.)\n",
    "y = tf.constant(1.E20)\n",
    "K.min([K.exp(x), y]) "
   ]
  },
  {
   "cell_type": "code",
   "execution_count": 11,
   "metadata": {},
   "outputs": [
    {
     "name": "stdout",
     "output_type": "stream",
     "text": [
      "Model saved to these files:\n",
      "\tmpsa_ge_pairwise.pickle\n",
      "\tmpsa_ge_pairwise.h5\n"
     ]
    }
   ],
   "source": [
    "# Save model\n",
    "model.save('mpsa_ge_pairwise')"
   ]
  },
  {
   "cell_type": "code",
   "execution_count": 12,
   "metadata": {
    "scrolled": true
   },
   "outputs": [
    {
     "name": "stdout",
     "output_type": "stream",
     "text": [
      "Model loaded from these files:\n",
      "\tmpsa_ge_pairwise.pickle\n",
      "\tmpsa_ge_pairwise.h5\n"
     ]
    }
   ],
   "source": [
    "# Load model\n",
    "model = mavenn.load('mpsa_ge_pairwise')"
   ]
  },
  {
   "cell_type": "code",
   "execution_count": 13,
   "metadata": {},
   "outputs": [],
   "source": [
    "# Get x and y\n",
    "x_test = test_df['x'].values\n",
    "y_test = test_df['y'].values"
   ]
  },
  {
   "cell_type": "code",
   "execution_count": 14,
   "metadata": {},
   "outputs": [
    {
     "name": "stdout",
     "output_type": "stream",
     "text": [
      "On test data:\n",
      "I_like_test: 0.263 +- 0.025 bits\n",
      "I_pred_test: 0.373 +- 0.013 bits\n"
     ]
    },
    {
     "data": {
      "image/png": "[encoded data removed]",
      "text/plain": [
       "<Figure size 288x288 with 1 Axes>"
      ]
     },
     "metadata": {
      "needs_background": "light"
     },
     "output_type": "display_data"
    }
   ],
   "source": [
    "# Show training history\n",
    "print('On test data:')\n",
    "\n",
    "# Compute likelihood information\n",
    "I_like, dI_like =  model.I_likelihood(x=x_test, y=y_test)\n",
    "print(f'I_like_test: {I_like:.3f} +- {dI_like:.3f} bits') \n",
    "\n",
    "# Compute predictive information\n",
    "I_pred, dI_pred = model.I_predictive(x=x_test, y=y_test)\n",
    "print(f'I_pred_test: {I_pred:.3f} +- {dI_pred:.3f} bits')\n",
    "\n",
    "I_like_hist = model.history['I_like']\n",
    "val_I_like_hist = model.history['val_I_like']\n",
    "\n",
    "fig, ax = plt.subplots(1,1,figsize=[4,4])\n",
    "ax.plot(I_like_hist, label='I_like_train')\n",
    "ax.plot(val_I_like_hist, label='I_like_val')\n",
    "ax.axhline(I_like, color='C2', linestyle=':', label='I_like_test')\n",
    "ax.axhline(I_pred, color='C3', linestyle=':', label='I_pred_test')\n",
    "ax.legend()\n",
    "ax.set_xlabel('epochs')\n",
    "ax.set_ylabel('bits')\n",
    "ax.set_title('training hisotry')\n",
    "ax.set_ylim([0, I_pred*1.2]);"
   ]
  },
  {
   "cell_type": "code",
   "execution_count": 15,
   "metadata": {},
   "outputs": [
    {
     "data": {
      "image/png": "[encoded data removed]",
      "text/plain": [
       "<Figure size 288x288 with 1 Axes>"
      ]
     },
     "metadata": {
      "needs_background": "light"
     },
     "output_type": "display_data"
    }
   ],
   "source": [
    "# Predict latent phentoype values (phi) on test data\n",
    "phi_test = model.x_to_phi(x_test)\n",
    "\n",
    "# Predict measurement values (yhat) on test data\n",
    "yhat_test = model.x_to_yhat(x_test)\n",
    "\n",
    "# Set phi lims and create grid in phi space\n",
    "phi_lim = [min(phi_test)-.5, max(phi_test)+.5]\n",
    "phi_grid = np.linspace(phi_lim[0], phi_lim[1], 1000)\n",
    "\n",
    "# Compute yhat each phi gridpoint\n",
    "yhat_grid = model.phi_to_yhat(phi_grid)\n",
    "\n",
    "# Compute 90% CI for each yhat\n",
    "q = [0.05, 0.95] #[0.16, 0.84]\n",
    "yqs_grid = model.yhat_to_yq(yhat_grid, q=q)\n",
    "\n",
    "# Create figure\n",
    "fig, ax = plt.subplots(1, 1, figsize=[4, 4])\n",
    "\n",
    "# Illustrate measurement process with GE curve\n",
    "ax.scatter(phi_test, y_test, color='C0', s=5, alpha=.2, label='test data')\n",
    "ax.plot(phi_grid, yhat_grid, linewidth=2, color='C1',\n",
    "        label='$\\hat{y} = g(\\phi)$')\n",
    "ax.plot(phi_grid, yqs_grid[:, 0], linestyle='--', color='C1', label='68% CI')\n",
    "ax.plot(phi_grid, yqs_grid[:, 1], linestyle='--', color='C1')\n",
    "ax.set_xlim(phi_lim)\n",
    "ax.set_xlabel('latent phenotype ($\\phi$)')\n",
    "ax.set_ylabel('measurement ($y$)')\n",
    "ax.set_title('measurement process')\n",
    "ax.legend()\n",
    "\n",
    "# Fix up plot\n",
    "fig.tight_layout()\n",
    "plt.show()"
   ]
  },
  {
   "cell_type": "code",
   "execution_count": 16,
   "metadata": {},
   "outputs": [
    {
     "data": {
      "image/png": "[encoded data removed]",
      "text/plain": [
       "<Figure size 576x288 with 2 Axes>"
      ]
     },
     "metadata": {
      "needs_background": "light"
     },
     "output_type": "display_data"
    }
   ],
   "source": [
    "# Plot pairwise parameters\n",
    "theta = model.get_theta()\n",
    "fig, ax = plt.subplots(1, 1, figsize=[8, 4])\n",
    "mavenn.heatmap_pairwise(values=theta['theta_lclc'],\n",
    "                        alphabet=theta['alphabet'],\n",
    "                        ax=ax);"
   ]
  },
  {
   "cell_type": "code",
   "execution_count": 17,
   "metadata": {},
   "outputs": [
    {
     "data": {
      "text/html": [
       "<div>\n",
       "<style scoped>\n",
       "    .dataframe tbody tr th:only-of-type {\n",
       "        vertical-align: middle;\n",
       "    }\n",
       "\n",
       "    .dataframe tbody tr th {\n",
       "        vertical-align: top;\n",
       "    }\n",
       "\n",
       "    .dataframe thead th {\n",
       "        text-align: right;\n",
       "    }\n",
       "</style>\n",
       "<table border=\"1\" class=\"dataframe\">\n",
       "  <thead>\n",
       "    <tr style=\"text-align: right;\">\n",
       "      <th></th>\n",
       "      <th>training_set</th>\n",
       "      <th>yhat</th>\n",
       "      <th>phi</th>\n",
       "      <th>y</th>\n",
       "      <th>x</th>\n",
       "    </tr>\n",
       "  </thead>\n",
       "  <tbody>\n",
       "    <tr>\n",
       "      <th>0</th>\n",
       "      <td>True</td>\n",
       "      <td>-4.365805</td>\n",
       "      <td>-0.264129</td>\n",
       "      <td>-4.193307</td>\n",
       "      <td>AGCGCAGGU</td>\n",
       "    </tr>\n",
       "    <tr>\n",
       "      <th>1</th>\n",
       "      <td>True</td>\n",
       "      <td>-4.626673</td>\n",
       "      <td>-1.671060</td>\n",
       "      <td>-4.800386</td>\n",
       "      <td>UCGGCCUAA</td>\n",
       "    </tr>\n",
       "    <tr>\n",
       "      <th>2</th>\n",
       "      <td>True</td>\n",
       "      <td>-4.322954</td>\n",
       "      <td>-0.052982</td>\n",
       "      <td>-4.028783</td>\n",
       "      <td>GUCGCACCC</td>\n",
       "    </tr>\n",
       "    <tr>\n",
       "      <th>3</th>\n",
       "      <td>True</td>\n",
       "      <td>-4.551327</td>\n",
       "      <td>-1.241051</td>\n",
       "      <td>-4.509951</td>\n",
       "      <td>UUAGCAGAA</td>\n",
       "    </tr>\n",
       "    <tr>\n",
       "      <th>4</th>\n",
       "      <td>True</td>\n",
       "      <td>-4.533278</td>\n",
       "      <td>-1.141080</td>\n",
       "      <td>-4.397208</td>\n",
       "      <td>UAUGUUUGG</td>\n",
       "    </tr>\n",
       "  </tbody>\n",
       "</table>\n",
       "</div>"
      ],
      "text/plain": [
       "   training_set      yhat       phi         y          x\n",
       "0          True -4.365805 -0.264129 -4.193307  AGCGCAGGU\n",
       "1          True -4.626673 -1.671060 -4.800386  UCGGCCUAA\n",
       "2          True -4.322954 -0.052982 -4.028783  GUCGCACCC\n",
       "3          True -4.551327 -1.241051 -4.509951  UUAGCAGAA\n",
       "4          True -4.533278 -1.141080 -4.397208  UAUGUUUGG"
      ]
     },
     "execution_count": 17,
     "metadata": {},
     "output_type": "execute_result"
    }
   ],
   "source": [
    "# Test simulate_data\n",
    "sim_df = model.simulate_dataset(N=1000)\n",
    "sim_df.head()"
   ]
  },
  {
   "cell_type": "code",
   "execution_count": null,
   "metadata": {},
   "outputs": [],
   "source": []
  }
 ],
 "metadata": {
  "kernelspec": {
   "display_name": "Python 3",
   "language": "python",
   "name": "python3"
  },
  "language_info": {
   "codemirror_mode": {
    "name": "ipython",
    "version": 3
   },
   "file_extension": ".py",
   "mimetype": "text/x-python",
   "name": "python",
   "nbconvert_exporter": "python",
   "pygments_lexer": "ipython3",
   "version": "3.7.4"
  }
 },
 "nbformat": 4,
 "nbformat_minor": 2
}
