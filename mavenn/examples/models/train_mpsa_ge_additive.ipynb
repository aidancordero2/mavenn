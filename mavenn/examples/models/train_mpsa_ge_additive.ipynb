{
 "cells": [
  {
   "cell_type": "code",
   "execution_count": 1,
   "metadata": {},
   "outputs": [
    {
     "name": "stdout",
     "output_type": "stream",
     "text": [
      "['/Users/jkinney/github/mavenn/mavenn']\n"
     ]
    }
   ],
   "source": [
    "# Standard imports\n",
    "import pandas as pd\n",
    "import matplotlib.pyplot as plt\n",
    "import numpy as np\n",
    "import time\n",
    "\n",
    "# Insert path to mavenn beginning of path\n",
    "import os\n",
    "import sys\n",
    "abs_path_to_mavenn = os.path.abspath('../../../')\n",
    "sys.path.insert(0, abs_path_to_mavenn)\n",
    "\n",
    "# Load mavenn\n",
    "import mavenn\n",
    "print(mavenn.__path__)"
   ]
  },
  {
   "cell_type": "code",
   "execution_count": 2,
   "metadata": {},
   "outputs": [
    {
     "data": {
      "text/html": [
       "<div>\n",
       "<style scoped>\n",
       "    .dataframe tbody tr th:only-of-type {\n",
       "        vertical-align: middle;\n",
       "    }\n",
       "\n",
       "    .dataframe tbody tr th {\n",
       "        vertical-align: top;\n",
       "    }\n",
       "\n",
       "    .dataframe thead th {\n",
       "        text-align: right;\n",
       "    }\n",
       "</style>\n",
       "<table border=\"1\" class=\"dataframe\">\n",
       "  <thead>\n",
       "    <tr style=\"text-align: right;\">\n",
       "      <th></th>\n",
       "      <th>training_set</th>\n",
       "      <th>tot_ct</th>\n",
       "      <th>ex_ct</th>\n",
       "      <th>y</th>\n",
       "      <th>x</th>\n",
       "    </tr>\n",
       "  </thead>\n",
       "  <tbody>\n",
       "    <tr>\n",
       "      <th>0</th>\n",
       "      <td>True</td>\n",
       "      <td>1588</td>\n",
       "      <td>66</td>\n",
       "      <td>-4.567814</td>\n",
       "      <td>ACGGUCCAU</td>\n",
       "    </tr>\n",
       "    <tr>\n",
       "      <th>1</th>\n",
       "      <td>True</td>\n",
       "      <td>1533</td>\n",
       "      <td>118</td>\n",
       "      <td>-3.688265</td>\n",
       "      <td>AUUGCCAGG</td>\n",
       "    </tr>\n",
       "    <tr>\n",
       "      <th>2</th>\n",
       "      <td>True</td>\n",
       "      <td>1459</td>\n",
       "      <td>399</td>\n",
       "      <td>-1.867896</td>\n",
       "      <td>ACAGCGGUA</td>\n",
       "    </tr>\n",
       "    <tr>\n",
       "      <th>3</th>\n",
       "      <td>True</td>\n",
       "      <td>1414</td>\n",
       "      <td>246</td>\n",
       "      <td>-2.518219</td>\n",
       "      <td>AACGCCAGG</td>\n",
       "    </tr>\n",
       "    <tr>\n",
       "      <th>4</th>\n",
       "      <td>True</td>\n",
       "      <td>1412</td>\n",
       "      <td>60</td>\n",
       "      <td>-4.533808</td>\n",
       "      <td>ACGGCUUGG</td>\n",
       "    </tr>\n",
       "  </tbody>\n",
       "</table>\n",
       "</div>"
      ],
      "text/plain": [
       "   training_set  tot_ct  ex_ct         y          x\n",
       "0          True    1588     66 -4.567814  ACGGUCCAU\n",
       "1          True    1533    118 -3.688265  AUUGCCAGG\n",
       "2          True    1459    399 -1.867896  ACAGCGGUA\n",
       "3          True    1414    246 -2.518219  AACGCCAGG\n",
       "4          True    1412     60 -4.533808  ACGGCUUGG"
      ]
     },
     "execution_count": 2,
     "metadata": {},
     "output_type": "execute_result"
    }
   ],
   "source": [
    "# Load example data\n",
    "data_df = mavenn.load_example_dataset('mpsa')\n",
    "data_df.head()"
   ]
  },
  {
   "cell_type": "code",
   "execution_count": 3,
   "metadata": {},
   "outputs": [
    {
     "name": "stdout",
     "output_type": "stream",
     "text": [
      "training N: 24,411\n",
      "testing N: 6,079\n"
     ]
    }
   ],
   "source": [
    "# Split into trianing and test data\n",
    "ix = data_df['training_set']\n",
    "L = len(data_df['x'][0])\n",
    "train_df = data_df[ix]\n",
    "print(f'training N: {len(train_df):,}')\n",
    "test_df = data_df[~ix]\n",
    "print(f'testing N: {len(test_df):,}')"
   ]
  },
  {
   "cell_type": "code",
   "execution_count": 4,
   "metadata": {},
   "outputs": [],
   "source": [
    "# Define model\n",
    "model = mavenn.Model(L=L,\n",
    "                     alphabet='rna',\n",
    "                     gpmap_type='additive', \n",
    "                     regression_type='GE',\n",
    "                     ge_noise_model_type='SkewedT',\n",
    "                     ge_heteroskedasticity_order=2)\n"
   ]
  },
  {
   "cell_type": "code",
   "execution_count": 5,
   "metadata": {},
   "outputs": [
    {
     "name": "stdout",
     "output_type": "stream",
     "text": [
      "N = 24,411 observations set as training data.\n",
      "Data shuffled.\n",
      "Time to set data: 0.482 sec.\n"
     ]
    }
   ],
   "source": [
    "# Set training data\n",
    "model.set_data(x=train_df['x'],\n",
    "               y=train_df['y'],\n",
    "               shuffle=True)"
   ]
  },
  {
   "cell_type": "code",
   "execution_count": 6,
   "metadata": {
    "scrolled": true
   },
   "outputs": [
    {
     "name": "stdout",
     "output_type": "stream",
     "text": [
      " \n",
      "LSMR            Least-squares solution of  Ax = b\n",
      "\n",
      "The matrix A has    24411 rows  and       36 cols\n",
      "damp = 0.00000000000000e+00\n",
      "\n",
      "atol = 1.00e-06                 conlim = 1.00e+08\n",
      "\n",
      "btol = 1.00e-06             maxiter =       36\n",
      "\n",
      " \n",
      "   itn      x(1)       norm r    norm Ar  compatible   LS      norm A   cond A\n",
      "     0  0.00000e+00  1.562e+02  5.834e+03   1.0e+00  2.4e-01\n",
      "     1 -1.37173e-03  1.424e+02  1.972e+03   9.1e-01  1.5e-01  9.0e+01  1.0e+00\n",
      "     2  5.81716e-04  1.414e+02  1.509e+03   9.0e-01  7.4e-02  1.4e+02  1.1e+00\n",
      "     3 -8.08500e-04  1.405e+02  7.449e+01   9.0e-01  1.7e-03  3.1e+02  1.7e+00\n",
      "     4 -1.51587e-03  1.405e+02  5.312e+00   9.0e-01  1.2e-04  3.2e+02  2.0e+00\n",
      "     5 -1.63394e-03  1.405e+02  2.297e+00   9.0e-01  5.0e-05  3.3e+02  2.4e+00\n",
      "     6 -1.62869e-03  1.405e+02  2.245e+00   9.0e-01  4.8e-05  3.3e+02  1.0e+01\n",
      "     7 -1.70403e-03  1.405e+02  2.232e+00   9.0e-01  4.7e-05  3.4e+02  6.6e+01\n",
      "     8 -6.07058e-03  1.405e+02  1.181e+00   9.0e-01  2.4e-05  3.5e+02  2.0e+01\n",
      "     9 -6.67785e-03  1.405e+02  9.475e-01   9.0e-01  1.9e-05  3.5e+02  1.7e+01\n",
      "    10 -6.67672e-03  1.405e+02  9.467e-01   9.0e-01  1.9e-05  3.6e+02  5.5e+01\n",
      "    11 -6.67579e-03  1.405e+02  9.465e-01   9.0e-01  1.7e-05  3.9e+02  3.0e+01\n",
      "    12 -3.34998e-03  1.405e+02  7.241e-01   9.0e-01  1.1e-05  4.6e+02  1.0e+02\n",
      "    13  1.32473e-03  1.405e+02  2.881e-02   9.0e-01  4.4e-07  4.7e+02  6.6e+01\n",
      " \n",
      "LSMR finished\n",
      "The least-squares solution is good enough, given atol     \n",
      "istop =       2    normr = 1.4e+02\n",
      "    normA = 4.7e+02    normAr = 2.9e-02\n",
      "itn   =      13    condA = 6.6e+01\n",
      "    normx = 1.0e+00\n",
      "    13  1.32473e-03   1.405e+02  2.881e-02\n",
      "   9.0e-01  4.4e-07   4.7e+02  6.6e+01\n",
      "Linear regression time: 0.0729 sec\n",
      "Epoch 1/1000\n",
      "391/391 [==============================] - 1s 4ms/step - loss: 53.3779 - I_like: -0.1398 - val_loss: 48.9441 - val_I_like: -0.0508\n",
      "Epoch 2/1000\n",
      "391/391 [==============================] - 1s 3ms/step - loss: 47.8534 - I_like: -0.0187 - val_loss: 47.5033 - val_I_like: -0.0088\n",
      "Epoch 3/1000\n",
      "391/391 [==============================] - 1s 2ms/step - loss: 46.7010 - I_like: 0.0212 - val_loss: 46.1737 - val_I_like: 0.0379\n",
      "Epoch 4/1000\n",
      "391/391 [==============================] - 1s 3ms/step - loss: 45.6180 - I_like: 0.0600 - val_loss: 45.4759 - val_I_like: 0.0645\n",
      "Epoch 5/1000\n",
      "391/391 [==============================] - 1s 3ms/step - loss: 45.1814 - I_like: 0.0763 - val_loss: 45.1590 - val_I_like: 0.0751\n",
      "Epoch 6/1000\n",
      "391/391 [==============================] - 1s 2ms/step - loss: 45.0222 - I_like: 0.0820 - val_loss: 45.0277 - val_I_like: 0.0794\n",
      "Epoch 7/1000\n",
      "391/391 [==============================] - 1s 2ms/step - loss: 44.8813 - I_like: 0.0845 - val_loss: 45.0240 - val_I_like: 0.0793\n",
      "Epoch 8/1000\n",
      "391/391 [==============================] - 1s 2ms/step - loss: 44.8104 - I_like: 0.0877 - val_loss: 44.9778 - val_I_like: 0.0809\n",
      "Epoch 9/1000\n",
      "391/391 [==============================] - 1s 2ms/step - loss: 44.7476 - I_like: 0.0899 - val_loss: 44.7645 - val_I_like: 0.0866\n",
      "Epoch 10/1000\n",
      "391/391 [==============================] - 1s 2ms/step - loss: 44.6714 - I_like: 0.0907 - val_loss: 44.7817 - val_I_like: 0.0862\n",
      "Epoch 11/1000\n",
      "391/391 [==============================] - 1s 2ms/step - loss: 44.6386 - I_like: 0.0926 - val_loss: 44.8408 - val_I_like: 0.0855\n",
      "Epoch 12/1000\n",
      "391/391 [==============================] - 1s 2ms/step - loss: 44.6249 - I_like: 0.0937 - val_loss: 44.6507 - val_I_like: 0.0911\n",
      "Epoch 13/1000\n",
      "391/391 [==============================] - 1s 2ms/step - loss: 44.6067 - I_like: 0.0951 - val_loss: 44.6963 - val_I_like: 0.0906\n",
      "Epoch 14/1000\n",
      "391/391 [==============================] - 1s 2ms/step - loss: 44.5378 - I_like: 0.0979 - val_loss: 44.6696 - val_I_like: 0.0916\n",
      "Epoch 15/1000\n",
      "391/391 [==============================] - 1s 2ms/step - loss: 44.5286 - I_like: 0.0971 - val_loss: 44.6434 - val_I_like: 0.0932\n",
      "Epoch 16/1000\n",
      "391/391 [==============================] - 1s 3ms/step - loss: 44.4890 - I_like: 0.0997 - val_loss: 44.6283 - val_I_like: 0.0943\n",
      "Epoch 17/1000\n",
      "391/391 [==============================] - 1s 2ms/step - loss: 44.4519 - I_like: 0.1009 - val_loss: 44.5599 - val_I_like: 0.0959\n",
      "Epoch 18/1000\n",
      "391/391 [==============================] - 1s 2ms/step - loss: 44.4513 - I_like: 0.1003 - val_loss: 44.6471 - val_I_like: 0.0937\n",
      "Epoch 19/1000\n",
      "391/391 [==============================] - 1s 2ms/step - loss: 44.4336 - I_like: 0.1030 - val_loss: 44.5578 - val_I_like: 0.0969\n",
      "Epoch 20/1000\n",
      "391/391 [==============================] - 1s 2ms/step - loss: 44.4583 - I_like: 0.1028 - val_loss: 44.4868 - val_I_like: 0.0991\n",
      "Epoch 21/1000\n",
      "391/391 [==============================] - 1s 2ms/step - loss: 44.4446 - I_like: 0.1022 - val_loss: 44.4487 - val_I_like: 0.1004\n",
      "Epoch 22/1000\n",
      "391/391 [==============================] - 1s 2ms/step - loss: 44.3741 - I_like: 0.1056 - val_loss: 44.5510 - val_I_like: 0.0983\n",
      "Epoch 23/1000\n",
      "391/391 [==============================] - 1s 2ms/step - loss: 44.3453 - I_like: 0.1058 - val_loss: 44.4416 - val_I_like: 0.1019\n",
      "Epoch 24/1000\n",
      "391/391 [==============================] - 1s 2ms/step - loss: 44.3254 - I_like: 0.1075 - val_loss: 44.5201 - val_I_like: 0.0994\n",
      "Epoch 25/1000\n",
      "391/391 [==============================] - 1s 2ms/step - loss: 44.3039 - I_like: 0.1091 - val_loss: 44.5010 - val_I_like: 0.1004\n",
      "Epoch 26/1000\n",
      "391/391 [==============================] - 1s 2ms/step - loss: 44.2459 - I_like: 0.1098 - val_loss: 44.5984 - val_I_like: 0.0990\n",
      "Epoch 27/1000\n",
      "391/391 [==============================] - 1s 2ms/step - loss: 44.2477 - I_like: 0.1103 - val_loss: 44.4353 - val_I_like: 0.1039\n",
      "Epoch 28/1000\n",
      "391/391 [==============================] - 1s 2ms/step - loss: 44.2519 - I_like: 0.1113 - val_loss: 44.3174 - val_I_like: 0.1070\n",
      "Epoch 29/1000\n",
      "391/391 [==============================] - 1s 2ms/step - loss: 44.2387 - I_like: 0.1117 - val_loss: 44.4474 - val_I_like: 0.1043\n",
      "Epoch 30/1000\n",
      "391/391 [==============================] - 1s 2ms/step - loss: 44.2369 - I_like: 0.1135 - val_loss: 44.3601 - val_I_like: 0.1070\n",
      "Epoch 31/1000\n",
      "391/391 [==============================] - 1s 2ms/step - loss: 44.1939 - I_like: 0.1144 - val_loss: 44.3715 - val_I_like: 0.1069\n",
      "Epoch 32/1000\n",
      "391/391 [==============================] - 1s 2ms/step - loss: 44.1808 - I_like: 0.1147 - val_loss: 44.4365 - val_I_like: 0.1061\n",
      "Epoch 33/1000\n",
      "391/391 [==============================] - 1s 2ms/step - loss: 44.1414 - I_like: 0.1163 - val_loss: 44.2514 - val_I_like: 0.1111\n",
      "Epoch 34/1000\n",
      "391/391 [==============================] - 1s 2ms/step - loss: 44.1458 - I_like: 0.1168 - val_loss: 44.2581 - val_I_like: 0.1118\n",
      "Epoch 35/1000\n",
      "391/391 [==============================] - 1s 2ms/step - loss: 44.0860 - I_like: 0.1191 - val_loss: 44.3581 - val_I_like: 0.1092\n",
      "Epoch 36/1000\n",
      "391/391 [==============================] - 1s 2ms/step - loss: 44.0954 - I_like: 0.1190 - val_loss: 44.1863 - val_I_like: 0.1144\n",
      "Epoch 37/1000\n",
      "391/391 [==============================] - 1s 2ms/step - loss: 44.0719 - I_like: 0.1197 - val_loss: 44.6001 - val_I_like: 0.1032\n",
      "Epoch 38/1000\n",
      "391/391 [==============================] - 1s 3ms/step - loss: 44.0495 - I_like: 0.1207 - val_loss: 44.0933 - val_I_like: 0.1183\n",
      "Epoch 39/1000\n",
      "391/391 [==============================] - 1s 2ms/step - loss: 44.0264 - I_like: 0.1227 - val_loss: 44.0518 - val_I_like: 0.1202\n",
      "Epoch 40/1000\n",
      "391/391 [==============================] - 1s 2ms/step - loss: 44.0128 - I_like: 0.1245 - val_loss: 44.0716 - val_I_like: 0.1199\n",
      "Epoch 41/1000\n",
      "391/391 [==============================] - 1s 2ms/step - loss: 43.9820 - I_like: 0.1248 - val_loss: 44.1882 - val_I_like: 0.1175\n",
      "Epoch 42/1000\n",
      "391/391 [==============================] - 1s 2ms/step - loss: 43.9673 - I_like: 0.1263 - val_loss: 44.0429 - val_I_like: 0.1219\n",
      "Epoch 43/1000\n",
      "391/391 [==============================] - 1s 3ms/step - loss: 43.9598 - I_like: 0.1269 - val_loss: 43.9596 - val_I_like: 0.1251\n",
      "Epoch 44/1000\n",
      "391/391 [==============================] - 1s 3ms/step - loss: 43.9093 - I_like: 0.1283 - val_loss: 44.0043 - val_I_like: 0.1242\n",
      "Epoch 45/1000\n",
      "391/391 [==============================] - 1s 3ms/step - loss: 43.9080 - I_like: 0.1295 - val_loss: 43.9793 - val_I_like: 0.1256\n",
      "Epoch 46/1000\n"
     ]
    },
    {
     "name": "stdout",
     "output_type": "stream",
     "text": [
      "391/391 [==============================] - 1s 3ms/step - loss: 43.8873 - I_like: 0.1312 - val_loss: 43.9683 - val_I_like: 0.1269\n",
      "Epoch 47/1000\n",
      "391/391 [==============================] - 1s 3ms/step - loss: 43.8306 - I_like: 0.1329 - val_loss: 43.9611 - val_I_like: 0.1276\n",
      "Epoch 48/1000\n",
      "391/391 [==============================] - 1s 3ms/step - loss: 43.7923 - I_like: 0.1342 - val_loss: 43.7743 - val_I_like: 0.1343\n",
      "Epoch 49/1000\n",
      "391/391 [==============================] - 1s 3ms/step - loss: 43.7425 - I_like: 0.1384 - val_loss: 43.8052 - val_I_like: 0.1345\n",
      "Epoch 50/1000\n",
      "391/391 [==============================] - 1s 3ms/step - loss: 43.7151 - I_like: 0.1395 - val_loss: 43.7901 - val_I_like: 0.1362\n",
      "Epoch 51/1000\n",
      "391/391 [==============================] - 1s 3ms/step - loss: 43.6418 - I_like: 0.1431 - val_loss: 43.6292 - val_I_like: 0.1423\n",
      "Epoch 52/1000\n",
      "391/391 [==============================] - 1s 2ms/step - loss: 43.5711 - I_like: 0.1475 - val_loss: 43.4600 - val_I_like: 0.1492\n",
      "Epoch 53/1000\n",
      "391/391 [==============================] - 1s 2ms/step - loss: 43.4314 - I_like: 0.1532 - val_loss: 43.3679 - val_I_like: 0.1537\n",
      "Epoch 54/1000\n",
      "391/391 [==============================] - 1s 2ms/step - loss: 43.2804 - I_like: 0.1591 - val_loss: 43.4577 - val_I_like: 0.1541\n",
      "Epoch 55/1000\n",
      "391/391 [==============================] - 1s 2ms/step - loss: 43.0550 - I_like: 0.1688 - val_loss: 43.0303 - val_I_like: 0.1674\n",
      "Epoch 56/1000\n",
      "391/391 [==============================] - 1s 2ms/step - loss: 42.8757 - I_like: 0.1738 - val_loss: 42.9752 - val_I_like: 0.1697\n",
      "Epoch 57/1000\n",
      "391/391 [==============================] - 1s 2ms/step - loss: 42.9421 - I_like: 0.1710 - val_loss: 42.8498 - val_I_like: 0.1726\n",
      "Epoch 58/1000\n",
      "391/391 [==============================] - 1s 3ms/step - loss: 42.8384 - I_like: 0.1748 - val_loss: 43.0984 - val_I_like: 0.1655\n",
      "Epoch 59/1000\n",
      "391/391 [==============================] - 1s 2ms/step - loss: 42.8407 - I_like: 0.1752 - val_loss: 42.7891 - val_I_like: 0.1749\n",
      "Epoch 60/1000\n",
      "391/391 [==============================] - 1s 2ms/step - loss: 42.8734 - I_like: 0.1746 - val_loss: 42.7886 - val_I_like: 0.1737loss: 42.7461 - I_like: 0.178\n",
      "Epoch 61/1000\n",
      "391/391 [==============================] - 1s 2ms/step - loss: 42.8223 - I_like: 0.1751 - val_loss: 42.6339 - val_I_like: 0.1786\n",
      "Epoch 62/1000\n",
      "391/391 [==============================] - 1s 2ms/step - loss: 42.8564 - I_like: 0.1750 - val_loss: 42.7667 - val_I_like: 0.1750\n",
      "Epoch 63/1000\n",
      "391/391 [==============================] - 1s 2ms/step - loss: 42.8251 - I_like: 0.1761 - val_loss: 42.8243 - val_I_like: 0.1745\n",
      "Epoch 64/1000\n",
      "391/391 [==============================] - 1s 2ms/step - loss: 42.8248 - I_like: 0.1753 - val_loss: 42.6613 - val_I_like: 0.1787\n",
      "Epoch 65/1000\n",
      "391/391 [==============================] - 1s 2ms/step - loss: 42.8610 - I_like: 0.1746 - val_loss: 42.7523 - val_I_like: 0.1749\n",
      "Epoch 66/1000\n",
      "391/391 [==============================] - 1s 2ms/step - loss: 42.8234 - I_like: 0.1749 - val_loss: 42.6778 - val_I_like: 0.1788\n",
      "Epoch 67/1000\n",
      "391/391 [==============================] - 1s 2ms/step - loss: 42.8764 - I_like: 0.1741 - val_loss: 42.7596 - val_I_like: 0.1754\n",
      "Epoch 68/1000\n",
      "391/391 [==============================] - 1s 2ms/step - loss: 42.8392 - I_like: 0.1751 - val_loss: 42.7324 - val_I_like: 0.1772\n",
      "Epoch 69/1000\n",
      "391/391 [==============================] - 1s 2ms/step - loss: 42.8163 - I_like: 0.1766 - val_loss: 42.5924 - val_I_like: 0.1800\n",
      "Epoch 70/1000\n",
      "391/391 [==============================] - 1s 2ms/step - loss: 42.8317 - I_like: 0.1761 - val_loss: 42.9876 - val_I_like: 0.1685\n",
      "Epoch 71/1000\n",
      "391/391 [==============================] - 1s 3ms/step - loss: 42.8669 - I_like: 0.1743 - val_loss: 42.6650 - val_I_like: 0.1778\n",
      "Epoch 72/1000\n",
      "391/391 [==============================] - 1s 2ms/step - loss: 42.8812 - I_like: 0.1749 - val_loss: 43.1375 - val_I_like: 0.1645\n",
      "Epoch 73/1000\n",
      "391/391 [==============================] - 1s 2ms/step - loss: 42.8468 - I_like: 0.1752 - val_loss: 42.8061 - val_I_like: 0.1735\n",
      "Epoch 74/1000\n",
      "391/391 [==============================] - 1s 3ms/step - loss: 42.8733 - I_like: 0.1745 - val_loss: 42.8156 - val_I_like: 0.1735\n",
      "Epoch 75/1000\n",
      "391/391 [==============================] - 1s 2ms/step - loss: 42.8749 - I_like: 0.1745 - val_loss: 42.7825 - val_I_like: 0.1745\n",
      "Epoch 76/1000\n",
      "391/391 [==============================] - 1s 2ms/step - loss: 42.8464 - I_like: 0.1752 - val_loss: 42.7680 - val_I_like: 0.1751\n",
      "Epoch 77/1000\n",
      "391/391 [==============================] - 1s 2ms/step - loss: 42.8828 - I_like: 0.1734 - val_loss: 42.8254 - val_I_like: 0.1729\n",
      "Epoch 78/1000\n",
      "391/391 [==============================] - 1s 2ms/step - loss: 42.8565 - I_like: 0.1748 - val_loss: 42.7819 - val_I_like: 0.1744\n",
      "Epoch 79/1000\n",
      "391/391 [==============================] - 1s 2ms/step - loss: 42.8200 - I_like: 0.1764 - val_loss: 42.8636 - val_I_like: 0.1731\n",
      "Epoch 80/1000\n",
      "391/391 [==============================] - 1s 3ms/step - loss: 42.8544 - I_like: 0.1745 - val_loss: 42.8807 - val_I_like: 0.1726\n",
      "Epoch 81/1000\n",
      "391/391 [==============================] - 1s 2ms/step - loss: 42.8191 - I_like: 0.1764 - val_loss: 42.6580 - val_I_like: 0.1785\n",
      "Epoch 82/1000\n",
      "391/391 [==============================] - 1s 2ms/step - loss: 42.8888 - I_like: 0.1737 - val_loss: 42.7430 - val_I_like: 0.1751\n",
      "Epoch 83/1000\n",
      "391/391 [==============================] - 1s 2ms/step - loss: 42.8081 - I_like: 0.1761 - val_loss: 42.9256 - val_I_like: 0.1709\n",
      "Epoch 84/1000\n",
      "391/391 [==============================] - 1s 2ms/step - loss: 42.8434 - I_like: 0.1750 - val_loss: 42.6177 - val_I_like: 0.1796\n",
      "Epoch 85/1000\n",
      "391/391 [==============================] - 1s 2ms/step - loss: 42.9470 - I_like: 0.1711 - val_loss: 42.9486 - val_I_like: 0.1698\n",
      "Epoch 86/1000\n",
      "391/391 [==============================] - 1s 2ms/step - loss: 42.8442 - I_like: 0.1748 - val_loss: 42.9497 - val_I_like: 0.1698\n",
      "Epoch 87/1000\n",
      "391/391 [==============================] - 1s 3ms/step - loss: 42.9139 - I_like: 0.1732 - val_loss: 42.7063 - val_I_like: 0.1768\n",
      "Epoch 88/1000\n",
      "391/391 [==============================] - 1s 2ms/step - loss: 42.8328 - I_like: 0.1762 - val_loss: 42.6396 - val_I_like: 0.1787\n",
      "Epoch 89/1000\n",
      "391/391 [==============================] - 1s 2ms/step - loss: 42.9034 - I_like: 0.1739 - val_loss: 42.7733 - val_I_like: 0.1750\n",
      "Epoch 90/1000\n",
      "391/391 [==============================] - 1s 2ms/step - loss: 42.8459 - I_like: 0.1751 - val_loss: 42.8850 - val_I_like: 0.1725\n",
      "Epoch 91/1000\n",
      "391/391 [==============================] - 1s 2ms/step - loss: 42.8470 - I_like: 0.1741 - val_loss: 42.7100 - val_I_like: 0.1771\n",
      "Epoch 92/1000\n",
      "391/391 [==============================] - 1s 2ms/step - loss: 42.8196 - I_like: 0.1759 - val_loss: 42.7048 - val_I_like: 0.1776\n",
      "Epoch 93/1000\n",
      "391/391 [==============================] - 1s 2ms/step - loss: 42.7857 - I_like: 0.1767 - val_loss: 42.9059 - val_I_like: 0.1715\n",
      "Epoch 94/1000\n",
      "391/391 [==============================] - 1s 2ms/step - loss: 42.8369 - I_like: 0.1764 - val_loss: 42.7545 - val_I_like: 0.1752\n",
      "Epoch 95/1000\n",
      "391/391 [==============================] - 1s 2ms/step - loss: 42.8805 - I_like: 0.1742 - val_loss: 42.7361 - val_I_like: 0.1758\n",
      "Epoch 96/1000\n",
      "391/391 [==============================] - 1s 2ms/step - loss: 42.8575 - I_like: 0.1740 - val_loss: 43.2441 - val_I_like: 0.1617\n",
      "Epoch 97/1000\n",
      "391/391 [==============================] - 1s 2ms/step - loss: 42.8613 - I_like: 0.1751 - val_loss: 42.8140 - val_I_like: 0.1738\n",
      "Epoch 98/1000\n",
      "391/391 [==============================] - 1s 2ms/step - loss: 42.8025 - I_like: 0.1768 - val_loss: 42.8170 - val_I_like: 0.1740\n",
      "Epoch 99/1000\n",
      "391/391 [==============================] - 1s 2ms/step - loss: 42.8059 - I_like: 0.1767 - val_loss: 42.6727 - val_I_like: 0.1778\n",
      "Training time: 96.8 seconds\n"
     ]
    },
    {
     "data": {
      "text/plain": [
       "<tensorflow.python.keras.callbacks.History at 0x1426c7650>"
      ]
     },
     "execution_count": 6,
     "metadata": {},
     "output_type": "execute_result"
    }
   ],
   "source": [
    "# Fit model to data\n",
    "model.fit(learning_rate=.003,\n",
    "          epochs=1000,\n",
    "          batch_size=50,\n",
    "          early_stopping=True,\n",
    "          early_stopping_patience=30,\n",
    "          linear_initialization=True)"
   ]
  },
  {
   "cell_type": "code",
   "execution_count": 7,
   "metadata": {},
   "outputs": [
    {
     "name": "stdout",
     "output_type": "stream",
     "text": [
      "Model saved to these files:\n",
      "\tmpsa_ge_additive.pickle\n",
      "\tmpsa_ge_additive.h5\n"
     ]
    }
   ],
   "source": [
    "# Save model\n",
    "model.save('mpsa_ge_additive')"
   ]
  },
  {
   "cell_type": "code",
   "execution_count": 8,
   "metadata": {
    "scrolled": true
   },
   "outputs": [
    {
     "name": "stdout",
     "output_type": "stream",
     "text": [
      "Model loaded from these files:\n",
      "\tmpsa_ge_additive.pickle\n",
      "\tmpsa_ge_additive.h5\n"
     ]
    }
   ],
   "source": [
    "# Load model\n",
    "model = mavenn.load('mpsa_ge_additive')"
   ]
  },
  {
   "cell_type": "code",
   "execution_count": 9,
   "metadata": {},
   "outputs": [],
   "source": [
    "# Get x and y\n",
    "x_test = test_df['x'].values\n",
    "y_test = test_df['y'].values"
   ]
  },
  {
   "cell_type": "code",
   "execution_count": 10,
   "metadata": {},
   "outputs": [
    {
     "name": "stdout",
     "output_type": "stream",
     "text": [
      "On test data:\n",
      "I_like_test: 0.228 +- 0.023 bits\n",
      "I_pred_test: 0.283 +- 0.014 bits\n"
     ]
    },
    {
     "data": {
      "image/png": "[encoded data removed]",
      "text/plain": [
       "<Figure size 288x288 with 1 Axes>"
      ]
     },
     "metadata": {
      "needs_background": "light"
     },
     "output_type": "display_data"
    }
   ],
   "source": [
    "# Show training history\n",
    "print('On test data:')\n",
    "\n",
    "# Compute likelihood information\n",
    "I_like, dI_like =  model.I_likelihood(x=x_test, y=y_test)\n",
    "print(f'I_like_test: {I_like:.3f} +- {dI_like:.3f} bits') \n",
    "\n",
    "# Compute predictive information\n",
    "I_pred, dI_pred = model.I_predictive(x=x_test, y=y_test)\n",
    "print(f'I_pred_test: {I_pred:.3f} +- {dI_pred:.3f} bits')\n",
    "\n",
    "I_like_hist = model.history['I_like']\n",
    "val_I_like_hist = model.history['val_I_like']\n",
    "\n",
    "fig, ax = plt.subplots(1,1,figsize=[4,4])\n",
    "ax.plot(I_like_hist, label='I_like_train')\n",
    "ax.plot(val_I_like_hist, label='I_like_val')\n",
    "ax.axhline(I_like, color='C2', linestyle=':', label='I_like_test')\n",
    "ax.axhline(I_pred, color='C3', linestyle=':', label='I_pred_test')\n",
    "ax.legend()\n",
    "ax.set_xlabel('epochs')\n",
    "ax.set_ylabel('bits')\n",
    "ax.set_title('training hisotry')\n",
    "ax.set_ylim([0, I_pred*1.2]);"
   ]
  },
  {
   "cell_type": "code",
   "execution_count": 11,
   "metadata": {},
   "outputs": [
    {
     "data": {
      "image/png": "[encoded data removed]",
      "text/plain": [
       "<Figure size 288x288 with 1 Axes>"
      ]
     },
     "metadata": {
      "needs_background": "light"
     },
     "output_type": "display_data"
    }
   ],
   "source": [
    "# Predict latent phentoype values (phi) on test data\n",
    "phi_test = model.x_to_phi(x_test)\n",
    "\n",
    "# Predict measurement values (yhat) on test data\n",
    "yhat_test = model.x_to_yhat(x_test)\n",
    "\n",
    "# Set phi lims and create grid in phi space\n",
    "phi_lim = [min(phi_test)-.5, max(phi_test)+.5]\n",
    "phi_grid = np.linspace(phi_lim[0], phi_lim[1], 1000)\n",
    "\n",
    "# Compute yhat each phi gridpoint\n",
    "yhat_grid = model.phi_to_yhat(phi_grid)\n",
    "\n",
    "# Compute 90% CI for each yhat\n",
    "q = [0.05, 0.95] #[0.16, 0.84]\n",
    "yqs_grid = model.yhat_to_yq(yhat_grid, q=q)\n",
    "\n",
    "# Create figure\n",
    "fig, ax = plt.subplots(1, 1, figsize=[4, 4])\n",
    "\n",
    "# Illustrate measurement process with GE curve\n",
    "ax.scatter(phi_test, y_test, color='C0', s=5, alpha=.2, label='test data')\n",
    "ax.plot(phi_grid, yhat_grid, linewidth=2, color='C1',\n",
    "        label='$\\hat{y} = g(\\phi)$')\n",
    "ax.plot(phi_grid, yqs_grid[:, 0], linestyle='--', color='C1', label='68% CI')\n",
    "ax.plot(phi_grid, yqs_grid[:, 1], linestyle='--', color='C1')\n",
    "ax.set_xlim(phi_lim)\n",
    "ax.set_xlabel('latent phenotype ($\\phi$)')\n",
    "ax.set_ylabel('measurement ($y$)')\n",
    "ax.set_title('measurement process')\n",
    "ax.legend()\n",
    "\n",
    "# Fix up plot\n",
    "fig.tight_layout()\n",
    "plt.show()"
   ]
  },
  {
   "cell_type": "code",
   "execution_count": 12,
   "metadata": {},
   "outputs": [
    {
     "data": {
      "text/html": [
       "<div>\n",
       "<style scoped>\n",
       "    .dataframe tbody tr th:only-of-type {\n",
       "        vertical-align: middle;\n",
       "    }\n",
       "\n",
       "    .dataframe tbody tr th {\n",
       "        vertical-align: top;\n",
       "    }\n",
       "\n",
       "    .dataframe thead th {\n",
       "        text-align: right;\n",
       "    }\n",
       "</style>\n",
       "<table border=\"1\" class=\"dataframe\">\n",
       "  <thead>\n",
       "    <tr style=\"text-align: right;\">\n",
       "      <th></th>\n",
       "      <th>training_set</th>\n",
       "      <th>yhat</th>\n",
       "      <th>phi</th>\n",
       "      <th>y</th>\n",
       "      <th>x</th>\n",
       "    </tr>\n",
       "  </thead>\n",
       "  <tbody>\n",
       "    <tr>\n",
       "      <th>0</th>\n",
       "      <td>True</td>\n",
       "      <td>-4.400558</td>\n",
       "      <td>0.678652</td>\n",
       "      <td>-4.131227</td>\n",
       "      <td>CACGUGCAA</td>\n",
       "    </tr>\n",
       "    <tr>\n",
       "      <th>1</th>\n",
       "      <td>True</td>\n",
       "      <td>2.979648</td>\n",
       "      <td>2.345976</td>\n",
       "      <td>2.071170</td>\n",
       "      <td>CACGUAAGG</td>\n",
       "    </tr>\n",
       "    <tr>\n",
       "      <th>2</th>\n",
       "      <td>True</td>\n",
       "      <td>-4.419451</td>\n",
       "      <td>0.123306</td>\n",
       "      <td>-4.722397</td>\n",
       "      <td>CUCGUUAUG</td>\n",
       "    </tr>\n",
       "    <tr>\n",
       "      <th>3</th>\n",
       "      <td>True</td>\n",
       "      <td>-4.412108</td>\n",
       "      <td>0.510751</td>\n",
       "      <td>-4.845601</td>\n",
       "      <td>AGGGCACUG</td>\n",
       "    </tr>\n",
       "    <tr>\n",
       "      <th>4</th>\n",
       "      <td>True</td>\n",
       "      <td>-4.420579</td>\n",
       "      <td>-0.405555</td>\n",
       "      <td>-4.491505</td>\n",
       "      <td>UUCGCAAAC</td>\n",
       "    </tr>\n",
       "  </tbody>\n",
       "</table>\n",
       "</div>"
      ],
      "text/plain": [
       "   training_set      yhat       phi         y          x\n",
       "0          True -4.400558  0.678652 -4.131227  CACGUGCAA\n",
       "1          True  2.979648  2.345976  2.071170  CACGUAAGG\n",
       "2          True -4.419451  0.123306 -4.722397  CUCGUUAUG\n",
       "3          True -4.412108  0.510751 -4.845601  AGGGCACUG\n",
       "4          True -4.420579 -0.405555 -4.491505  UUCGCAAAC"
      ]
     },
     "execution_count": 12,
     "metadata": {},
     "output_type": "execute_result"
    }
   ],
   "source": [
    "# Test simulate_data\n",
    "sim_df = model.simulate_dataset(N=1000)\n",
    "sim_df.head()"
   ]
  },
  {
   "cell_type": "code",
   "execution_count": 13,
   "metadata": {},
   "outputs": [
    {
     "data": {
      "text/plain": [
       "[<matplotlib.lines.Line2D at 0x142fa95d0>]"
      ]
     },
     "execution_count": 13,
     "metadata": {},
     "output_type": "execute_result"
    },
    {
     "data": {
      "image/png": "[encoded data removed]",
      "text/plain": [
       "<Figure size 1080x360 with 3 Axes>"
      ]
     },
     "metadata": {
      "needs_background": "light"
     },
     "output_type": "display_data"
    }
   ],
   "source": [
    "# Is clip by value causing a problem?\n",
    "yhat_fixed = (yhat_grid - model.y_mean)/model.y_std\n",
    "a, b, s = model.layer_noise_model.compute_params(yhat_fixed)\n",
    "\n",
    "fig, axs = plt.subplots(1,3,figsize=[15,5])\n",
    "\n",
    "axs[0].plot(yhat_fixed, a)\n",
    "axs[1].plot(yhat_fixed, b)\n",
    "axs[2].plot(yhat_fixed, s)"
   ]
  },
  {
   "cell_type": "code",
   "execution_count": null,
   "metadata": {},
   "outputs": [],
   "source": []
  }
 ],
 "metadata": {
  "kernelspec": {
   "display_name": "Python 3",
   "language": "python",
   "name": "python3"
  },
  "language_info": {
   "codemirror_mode": {
    "name": "ipython",
    "version": 3
   },
   "file_extension": ".py",
   "mimetype": "text/x-python",
   "name": "python",
   "nbconvert_exporter": "python",
   "pygments_lexer": "ipython3",
   "version": "3.7.4"
  }
 },
 "nbformat": 4,
 "nbformat_minor": 2
}
