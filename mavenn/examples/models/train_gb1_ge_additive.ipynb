{
 "cells": [
  {
   "cell_type": "code",
   "execution_count": 1,
   "metadata": {},
   "outputs": [
    {
     "name": "stdout",
     "output_type": "stream",
     "text": [
      "['/Users/jkinney/github/mavenn/mavenn']\n"
     ]
    }
   ],
   "source": [
    "# Standard imports\n",
    "import pandas as pd\n",
    "import matplotlib.pyplot as plt\n",
    "import numpy as np\n",
    "\n",
    "# Insert path to mavenn beginning of path\n",
    "import os\n",
    "import sys\n",
    "abs_path_to_mavenn = os.path.abspath('../../../')\n",
    "sys.path.insert(0, abs_path_to_mavenn)\n",
    "\n",
    "# Load mavenn\n",
    "import mavenn\n",
    "print(mavenn.__path__)"
   ]
  },
  {
   "cell_type": "code",
   "execution_count": 2,
   "metadata": {},
   "outputs": [
    {
     "name": "stdout",
     "output_type": "stream",
     "text": [
      "training N: 429,674\n"
     ]
    },
    {
     "data": {
      "text/html": [
       "<div>\n",
       "<style scoped>\n",
       "    .dataframe tbody tr th:only-of-type {\n",
       "        vertical-align: middle;\n",
       "    }\n",
       "\n",
       "    .dataframe tbody tr th {\n",
       "        vertical-align: top;\n",
       "    }\n",
       "\n",
       "    .dataframe thead th {\n",
       "        text-align: right;\n",
       "    }\n",
       "</style>\n",
       "<table border=\"1\" class=\"dataframe\">\n",
       "  <thead>\n",
       "    <tr style=\"text-align: right;\">\n",
       "      <th></th>\n",
       "      <th>input_ct</th>\n",
       "      <th>selected_ct</th>\n",
       "      <th>hamming_dist</th>\n",
       "      <th>training_set</th>\n",
       "      <th>y</th>\n",
       "      <th>dy</th>\n",
       "      <th>x</th>\n",
       "    </tr>\n",
       "  </thead>\n",
       "  <tbody>\n",
       "    <tr>\n",
       "      <td>0</td>\n",
       "      <td>1759616.0</td>\n",
       "      <td>3041819.0</td>\n",
       "      <td>0</td>\n",
       "      <td>True</td>\n",
       "      <td>0.000000</td>\n",
       "      <td>0.001366</td>\n",
       "      <td>QYKLILNGKTLKGETTTEAVDAATAEKVFKQYANDNGVDGEWTYDD...</td>\n",
       "    </tr>\n",
       "    <tr>\n",
       "      <td>1</td>\n",
       "      <td>14663.0</td>\n",
       "      <td>38476.0</td>\n",
       "      <td>1</td>\n",
       "      <td>True</td>\n",
       "      <td>0.602044</td>\n",
       "      <td>0.014001</td>\n",
       "      <td>AYKLILNGKTLKGETTTEAVDAATAEKVFKQYANDNGVDGEWTYDD...</td>\n",
       "    </tr>\n",
       "    <tr>\n",
       "      <td>2</td>\n",
       "      <td>13001.0</td>\n",
       "      <td>23023.0</td>\n",
       "      <td>1</td>\n",
       "      <td>True</td>\n",
       "      <td>0.034732</td>\n",
       "      <td>0.015827</td>\n",
       "      <td>CYKLILNGKTLKGETTTEAVDAATAEKVFKQYANDNGVDGEWTYDD...</td>\n",
       "    </tr>\n",
       "    <tr>\n",
       "      <td>3</td>\n",
       "      <td>11488.0</td>\n",
       "      <td>18085.0</td>\n",
       "      <td>1</td>\n",
       "      <td>True</td>\n",
       "      <td>-0.135053</td>\n",
       "      <td>0.017212</td>\n",
       "      <td>DYKLILNGKTLKGETTTEAVDAATAEKVFKQYANDNGVDGEWTYDD...</td>\n",
       "    </tr>\n",
       "    <tr>\n",
       "      <td>4</td>\n",
       "      <td>9501.0</td>\n",
       "      <td>15629.0</td>\n",
       "      <td>1</td>\n",
       "      <td>True</td>\n",
       "      <td>-0.071659</td>\n",
       "      <td>0.018767</td>\n",
       "      <td>EYKLILNGKTLKGETTTEAVDAATAEKVFKQYANDNGVDGEWTYDD...</td>\n",
       "    </tr>\n",
       "  </tbody>\n",
       "</table>\n",
       "</div>"
      ],
      "text/plain": [
       "    input_ct  selected_ct  hamming_dist  training_set         y        dy  \\\n",
       "0  1759616.0    3041819.0             0          True  0.000000  0.001366   \n",
       "1    14663.0      38476.0             1          True  0.602044  0.014001   \n",
       "2    13001.0      23023.0             1          True  0.034732  0.015827   \n",
       "3    11488.0      18085.0             1          True -0.135053  0.017212   \n",
       "4     9501.0      15629.0             1          True -0.071659  0.018767   \n",
       "\n",
       "                                                   x  \n",
       "0  QYKLILNGKTLKGETTTEAVDAATAEKVFKQYANDNGVDGEWTYDD...  \n",
       "1  AYKLILNGKTLKGETTTEAVDAATAEKVFKQYANDNGVDGEWTYDD...  \n",
       "2  CYKLILNGKTLKGETTTEAVDAATAEKVFKQYANDNGVDGEWTYDD...  \n",
       "3  DYKLILNGKTLKGETTTEAVDAATAEKVFKQYANDNGVDGEWTYDD...  \n",
       "4  EYKLILNGKTLKGETTTEAVDAATAEKVFKQYANDNGVDGEWTYDD...  "
      ]
     },
     "execution_count": 2,
     "metadata": {},
     "output_type": "execute_result"
    }
   ],
   "source": [
    "# Load example data\n",
    "data_df = mavenn.load_example(which='training_data',name='gb1')\n",
    "print(f'training N: {len(data_df):,}')\n",
    "data_df.head()"
   ]
  },
  {
   "cell_type": "code",
   "execution_count": 3,
   "metadata": {},
   "outputs": [
    {
     "name": "stdout",
     "output_type": "stream",
     "text": [
      " \n",
      "LSMR            Least-squares solution of  Ax = b\n",
      "\n",
      "The matrix A has   429674 rows  and     1100 cols\n",
      "damp = 0.00000000000000e+00\n",
      "\n",
      "atol = 1.00e-06                 conlim = 1.00e+08\n",
      "\n",
      "btol = 1.00e-06             maxiter =     1100\n",
      "\n",
      " \n",
      "   itn      x(1)       norm r    norm Ar  compatible   LS      norm A   cond A\n",
      "     0  0.00000e+00  3.003e+03  1.029e+07   1.0e+00  1.1e+00\n",
      "     1 -5.78821e-05  2.048e+03  2.130e+05   6.8e-01  2.2e-02  4.7e+03  1.0e+00\n",
      "     2  9.47533e-02  1.158e+03  2.520e+04   3.9e-01  4.6e-03  4.7e+03  3.7e+01\n",
      "     3  1.57804e-01  8.117e+02  1.395e+04   2.7e-01  3.7e-03  4.7e+03  1.6e+02\n",
      "     4  1.86615e-01  7.552e+02  2.512e+03   2.5e-01  7.1e-04  4.7e+03  1.3e+02\n",
      "     5  1.87539e-01  7.551e+02  5.145e+02   2.5e-01  1.0e-04  6.6e+03  1.3e+02\n",
      "     6  1.86308e-01  7.551e+02  4.648e+02   2.5e-01  9.3e-05  6.6e+03  1.3e+02\n",
      "     7  1.74875e-01  7.549e+02  4.653e+01   2.5e-01  9.3e-06  6.6e+03  1.3e+02\n",
      "     8  1.74796e-01  7.549e+02  4.461e+01   2.5e-01  8.9e-06  6.6e+03  1.3e+02\n",
      "     9  1.74796e-01  7.549e+02  4.461e+01   2.5e-01  8.9e-06  6.6e+03  1.3e+02\n",
      "    10  1.73529e-01  7.549e+02  4.324e+01   2.5e-01  7.1e-06  8.1e+03  6.4e+02\n",
      "    18 -1.36787e+00  7.535e+02  3.150e+00   2.5e-01  4.0e-07  1.0e+04  8.1e+02\n",
      " \n",
      "LSMR finished\n",
      "The least-squares solution is good enough, given atol     \n",
      "istop =       2    normr = 7.5e+02\n",
      "    normA = 1.0e+04    normAr = 3.1e+00\n",
      "itn   =      18    condA = 8.1e+02\n",
      "    normx = 6.1e+01\n",
      "    18 -1.36787e+00   7.535e+02  3.150e+00\n",
      "   2.5e-01  4.0e-07   1.0e+04  8.1e+02\n",
      "Linear regression time: 9.8806 sec\n",
      "Epoch 1/1000\n",
      "6875/6875 [==============================] - 11s 2ms/step - loss: 113.2514 - val_loss: 81.2781\n",
      "Epoch 2/1000\n",
      "6875/6875 [==============================] - 12s 2ms/step - loss: 88.8723 - val_loss: 82.8137\n",
      "Epoch 3/1000\n",
      "6875/6875 [==============================] - 10s 1ms/step - loss: 82.4747 - val_loss: 81.6890\n",
      "Epoch 4/1000\n",
      "6875/6875 [==============================] - 11s 2ms/step - loss: 77.9941 - val_loss: 79.2504\n",
      "Epoch 5/1000\n",
      "6875/6875 [==============================] - 15s 2ms/step - loss: 75.9403 - val_loss: 69.1283\n",
      "Epoch 6/1000\n",
      "6875/6875 [==============================] - 11s 2ms/step - loss: 74.5337 - val_loss: 75.1018\n",
      "Epoch 7/1000\n",
      "6875/6875 [==============================] - 10s 1ms/step - loss: 73.9071 - val_loss: 74.7361\n",
      "Epoch 8/1000\n",
      "6875/6875 [==============================] - 9s 1ms/step - loss: 73.2638 - val_loss: 74.7684\n",
      "Epoch 9/1000\n",
      "6875/6875 [==============================] - 9s 1ms/step - loss: 72.4896 - val_loss: 67.9764\n",
      "Epoch 10/1000\n",
      "6875/6875 [==============================] - 9s 1ms/step - loss: 72.4481 - val_loss: 66.7624\n",
      "Epoch 11/1000\n",
      "6875/6875 [==============================] - 11s 2ms/step - loss: 72.2610 - val_loss: 69.2880\n",
      "Epoch 12/1000\n",
      "6875/6875 [==============================] - 11s 2ms/step - loss: 72.0238 - val_loss: 66.3183\n",
      "Epoch 13/1000\n",
      "6875/6875 [==============================] - 10s 1ms/step - loss: 71.6438 - val_loss: 65.0214\n",
      "Epoch 14/1000\n",
      "6875/6875 [==============================] - 10s 1ms/step - loss: 71.4739 - val_loss: 68.6927\n",
      "Epoch 15/1000\n",
      "6875/6875 [==============================] - 10s 1ms/step - loss: 71.3507 - val_loss: 60.8686\n",
      "Epoch 16/1000\n",
      "6875/6875 [==============================] - 10s 1ms/step - loss: 71.0596 - val_loss: 63.2147\n",
      "Epoch 17/1000\n",
      "6875/6875 [==============================] - 10s 1ms/step - loss: 70.9509 - val_loss: 66.8723\n",
      "Epoch 18/1000\n",
      "6875/6875 [==============================] - 10s 1ms/step - loss: 71.0994 - val_loss: 64.6285\n",
      "Epoch 19/1000\n",
      "6875/6875 [==============================] - 10s 1ms/step - loss: 70.8119 - val_loss: 65.7098\n",
      "Epoch 20/1000\n",
      "6875/6875 [==============================] - 10s 1ms/step - loss: 70.6388 - val_loss: 65.4485\n",
      "Epoch 21/1000\n",
      "6875/6875 [==============================] - 10s 1ms/step - loss: 71.0962 - val_loss: 63.6740\n",
      "Epoch 22/1000\n",
      "6875/6875 [==============================] - 10s 1ms/step - loss: 71.1460 - val_loss: 62.5836\n",
      "Epoch 23/1000\n",
      "6875/6875 [==============================] - 10s 1ms/step - loss: 70.8808 - val_loss: 68.1362\n",
      "Epoch 24/1000\n",
      "6875/6875 [==============================] - 10s 1ms/step - loss: 70.9176 - val_loss: 64.4266\n",
      "Epoch 25/1000\n",
      "6875/6875 [==============================] - 10s 1ms/step - loss: 70.6956 - val_loss: 62.9675\n",
      "training time: 282.7 seconds\n"
     ]
    }
   ],
   "source": [
    "# Set seeed\n",
    "mavenn.set_seed(0)\n",
    "\n",
    "# Define model\n",
    "model = mavenn.Model(x=data_df['x'],\n",
    "                     y=data_df['y'],\n",
    "                     alphabet='protein',\n",
    "                     gpmap_type='additive',\n",
    "                     regression_type='GE',\n",
    "                     ge_noise_model_type='Cauchy',\n",
    "                     ge_heteroskedasticity_order=2)\n",
    "\n",
    "# Fit model to data\n",
    "history = model.fit(learning_rate=.005,\n",
    "                    epochs=1000,\n",
    "                    early_stopping=True,\n",
    "                    early_stopping_patience=10)"
   ]
  },
  {
   "cell_type": "code",
   "execution_count": 4,
   "metadata": {},
   "outputs": [
    {
     "name": "stdout",
     "output_type": "stream",
     "text": [
      "Model saved to these files:\n",
      "\tgb1_ge_additive.pickle\n",
      "\tgb1_ge_additive.h5\n"
     ]
    }
   ],
   "source": [
    "# Save model\n",
    "model.save('gb1_ge_additive')"
   ]
  },
  {
   "cell_type": "code",
   "execution_count": 5,
   "metadata": {},
   "outputs": [
    {
     "name": "stdout",
     "output_type": "stream",
     "text": [
      "Model loaded from these files:\n",
      "\tgb1_ge_additive.pickle\n",
      "\tgb1_ge_additive.h5\n"
     ]
    }
   ],
   "source": [
    "# Load model\n",
    "model = mavenn.load('gb1_ge_additive')"
   ]
  },
  {
   "cell_type": "code",
   "execution_count": 6,
   "metadata": {},
   "outputs": [
    {
     "name": "stdout",
     "output_type": "stream",
     "text": [
      "test data N: 107,289\n"
     ]
    }
   ],
   "source": [
    "# Load test data\n",
    "test_df = mavenn.load_example(which='test_data',name='gb1')\n",
    "N_test = len(test_df)\n",
    "print(f'test data N: {N_test:,}')\n",
    "\n",
    "# Subsample indices for easy plotting\n",
    "ix = np.random.rand(N_test) < .1\n",
    "\n",
    "# Get x and y\n",
    "x = test_df['x'].values[ix]\n",
    "y = test_df['y'].values[ix]"
   ]
  },
  {
   "cell_type": "code",
   "execution_count": 7,
   "metadata": {},
   "outputs": [
    {
     "data": {
      "image/png": "[encoded data removed]",
      "text/plain": [
       "<Figure size 288x288 with 1 Axes>"
      ]
     },
     "metadata": {
      "needs_background": "light"
     },
     "output_type": "display_data"
    }
   ],
   "source": [
    "# Compute phi and yhat values\n",
    "phi = model.x_to_phi(x)\n",
    "yhat = model.phi_to_yhat(phi)\n",
    "\n",
    "# Create grid for plotting yhat and yqs\n",
    "phi_lim = [-5, 2.5]\n",
    "phi_grid = np.linspace(phi_lim[0], phi_lim[1], 1000)\n",
    "yhat_grid = model.phi_to_yhat(phi_grid)\n",
    "yqs_grid = model.yhat_to_yq(yhat_grid, q=[.16,.84])\n",
    "\n",
    "# Create two panels\n",
    "fig, ax = plt.subplots(1, 1, figsize=[4, 4])\n",
    "\n",
    "# Illustrate measurement process with GE curve\n",
    "ax.scatter(phi, y, color='C0', s=5, alpha=.2, label='test data')\n",
    "ax.plot(phi_grid, yhat_grid, linewidth=2, color='C1',\n",
    "        label='$\\hat{y} = g(\\phi)$')\n",
    "ax.plot(phi_grid, yqs_grid[:, 0], linestyle='--', color='C1',\n",
    "        label='68% CI')\n",
    "ax.plot(phi_grid, yqs_grid[:, 1], linestyle='--', color='C1')\n",
    "ax.set_xlim(phi_lim)\n",
    "ax.set_xlabel('latent phenotype ($\\phi$)')\n",
    "ax.set_ylabel('measurement ($y$)')\n",
    "ax.set_title('measurement process')\n",
    "ax.legend()\n",
    "\n",
    "# Fix up plot\n",
    "fig.tight_layout()\n",
    "plt.show()"
   ]
  },
  {
   "cell_type": "code",
   "execution_count": 8,
   "metadata": {},
   "outputs": [
    {
     "data": {
      "image/png": "[encoded data removed]",
      "text/plain": [
       "<Figure size 720x360 with 2 Axes>"
      ]
     },
     "metadata": {
      "needs_background": "light"
     },
     "output_type": "display_data"
    }
   ],
   "source": [
    "# Set wild-type sequence\n",
    "gb1_seq = mavenn.x_to_consensus(x)\n",
    "\n",
    "# Get effects of all single-point mutations on phi\n",
    "dphi_df = mavenn.get_1pt_effects(func=model.x_to_phi,\n",
    "                                 wt_seq=gb1_seq,\n",
    "                                 alphabet='protein')\n",
    "\n",
    "# Compute phi and yhat values\n",
    "phi = model.x_to_phi(x)\n",
    "yhat = model.phi_to_yhat(phi)\n",
    "\n",
    "# Create grid for plotting yhat and yqs\n",
    "phi_lim = [-5, 2.5]\n",
    "phi_grid = np.linspace(phi_lim[0], phi_lim[1], 1000)\n",
    "yhat_grid = model.phi_to_yhat(phi_grid)\n",
    "yqs_grid = model.yhat_to_yq(yhat_grid, q=[.16,.84])\n",
    "\n",
    "# Create two panels\n",
    "fig, ax = plt.subplots(1, 1, figsize=[10, 5])\n",
    "\n",
    "# Left panel: draw heatmap illustrating 1pt mutation effects\n",
    "ax, cb = mavenn.heatmap(dphi_df,\n",
    "                        c_col='c_mut',\n",
    "                        l_col='l',\n",
    "                        value_col='dphi',\n",
    "                        seq=gb1_seq,\n",
    "                        ccenter=0,\n",
    "                        missing_values=0,\n",
    "                        cmap='PiYG',\n",
    "                        ax=ax)\n",
    "ax.set_xlabel('position ($l$)')\n",
    "ax.set_ylabel('amino acid ($c$)')\n",
    "cb.set_label('effect ($\\Delta\\phi$)', rotation=-90, va=\"bottom\")\n",
    "ax.set_title('mutation effects')\n",
    "\n",
    "# Fix up plot\n",
    "fig.tight_layout()\n",
    "plt.show()\n"
   ]
  },
  {
   "cell_type": "code",
   "execution_count": null,
   "metadata": {},
   "outputs": [],
   "source": []
  }
 ],
 "metadata": {
  "kernelspec": {
   "display_name": "Python 3",
   "language": "python",
   "name": "python3"
  },
  "language_info": {
   "codemirror_mode": {
    "name": "ipython",
    "version": 3
   },
   "file_extension": ".py",
   "mimetype": "text/x-python",
   "name": "python",
   "nbconvert_exporter": "python",
   "pygments_lexer": "ipython3",
   "version": "3.7.4"
  }
 },
 "nbformat": 4,
 "nbformat_minor": 2
}
