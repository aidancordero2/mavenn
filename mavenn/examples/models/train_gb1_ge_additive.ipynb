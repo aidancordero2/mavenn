{
 "cells": [
  {
   "cell_type": "code",
   "execution_count": 1,
   "metadata": {},
   "outputs": [
    {
     "name": "stdout",
     "output_type": "stream",
     "text": [
      "['/Users/jkinney/github/mavenn/mavenn']\n"
     ]
    }
   ],
   "source": [
    "# Standard imports\n",
    "import pandas as pd\n",
    "import matplotlib.pyplot as plt\n",
    "import numpy as np\n",
    "\n",
    "# Insert path to mavenn beginning of path\n",
    "import os\n",
    "import sys\n",
    "abs_path_to_mavenn = os.path.abspath('../../../')\n",
    "sys.path.insert(0, abs_path_to_mavenn)\n",
    "\n",
    "# Load mavenn\n",
    "import mavenn\n",
    "print(mavenn.__path__)"
   ]
  },
  {
   "cell_type": "code",
   "execution_count": 2,
   "metadata": {},
   "outputs": [
    {
     "data": {
      "text/html": [
       "<div>\n",
       "<style scoped>\n",
       "    .dataframe tbody tr th:only-of-type {\n",
       "        vertical-align: middle;\n",
       "    }\n",
       "\n",
       "    .dataframe tbody tr th {\n",
       "        vertical-align: top;\n",
       "    }\n",
       "\n",
       "    .dataframe thead th {\n",
       "        text-align: right;\n",
       "    }\n",
       "</style>\n",
       "<table border=\"1\" class=\"dataframe\">\n",
       "  <thead>\n",
       "    <tr style=\"text-align: right;\">\n",
       "      <th></th>\n",
       "      <th>input_ct</th>\n",
       "      <th>selected_ct</th>\n",
       "      <th>hamming_dist</th>\n",
       "      <th>training_set</th>\n",
       "      <th>y</th>\n",
       "      <th>x</th>\n",
       "    </tr>\n",
       "  </thead>\n",
       "  <tbody>\n",
       "    <tr>\n",
       "      <th>0</th>\n",
       "      <td>173.0</td>\n",
       "      <td>33.0</td>\n",
       "      <td>2</td>\n",
       "      <td>True</td>\n",
       "      <td>-3.145154</td>\n",
       "      <td>AAKLILNGKTLKGETTTEAVDAATAEKVFKQYANDNGVDGEWTYDD...</td>\n",
       "    </tr>\n",
       "    <tr>\n",
       "      <th>1</th>\n",
       "      <td>18.0</td>\n",
       "      <td>8.0</td>\n",
       "      <td>2</td>\n",
       "      <td>False</td>\n",
       "      <td>-1.867676</td>\n",
       "      <td>ACKLILNGKTLKGETTTEAVDAATAEKVFKQYANDNGVDGEWTYDD...</td>\n",
       "    </tr>\n",
       "    <tr>\n",
       "      <th>2</th>\n",
       "      <td>66.0</td>\n",
       "      <td>2.0</td>\n",
       "      <td>2</td>\n",
       "      <td>True</td>\n",
       "      <td>-5.270800</td>\n",
       "      <td>ADKLILNGKTLKGETTTEAVDAATAEKVFKQYANDNGVDGEWTYDD...</td>\n",
       "    </tr>\n",
       "    <tr>\n",
       "      <th>3</th>\n",
       "      <td>72.0</td>\n",
       "      <td>1.0</td>\n",
       "      <td>2</td>\n",
       "      <td>False</td>\n",
       "      <td>-5.979498</td>\n",
       "      <td>AEKLILNGKTLKGETTTEAVDAATAEKVFKQYANDNGVDGEWTYDD...</td>\n",
       "    </tr>\n",
       "    <tr>\n",
       "      <th>4</th>\n",
       "      <td>69.0</td>\n",
       "      <td>168.0</td>\n",
       "      <td>2</td>\n",
       "      <td>True</td>\n",
       "      <td>0.481923</td>\n",
       "      <td>AFKLILNGKTLKGETTTEAVDAATAEKVFKQYANDNGVDGEWTYDD...</td>\n",
       "    </tr>\n",
       "  </tbody>\n",
       "</table>\n",
       "</div>"
      ],
      "text/plain": [
       "   input_ct  selected_ct  hamming_dist  training_set         y  \\\n",
       "0     173.0         33.0             2          True -3.145154   \n",
       "1      18.0          8.0             2         False -1.867676   \n",
       "2      66.0          2.0             2          True -5.270800   \n",
       "3      72.0          1.0             2         False -5.979498   \n",
       "4      69.0        168.0             2          True  0.481923   \n",
       "\n",
       "                                                   x  \n",
       "0  AAKLILNGKTLKGETTTEAVDAATAEKVFKQYANDNGVDGEWTYDD...  \n",
       "1  ACKLILNGKTLKGETTTEAVDAATAEKVFKQYANDNGVDGEWTYDD...  \n",
       "2  ADKLILNGKTLKGETTTEAVDAATAEKVFKQYANDNGVDGEWTYDD...  \n",
       "3  AEKLILNGKTLKGETTTEAVDAATAEKVFKQYANDNGVDGEWTYDD...  \n",
       "4  AFKLILNGKTLKGETTTEAVDAATAEKVFKQYANDNGVDGEWTYDD...  "
      ]
     },
     "execution_count": 2,
     "metadata": {},
     "output_type": "execute_result"
    }
   ],
   "source": [
    "# Load example data\n",
    "data_df = mavenn.load_example_dataset('gb1')\n",
    "data_df.head()"
   ]
  },
  {
   "cell_type": "code",
   "execution_count": 3,
   "metadata": {},
   "outputs": [
    {
     "name": "stdout",
     "output_type": "stream",
     "text": [
      "training N: 424,706\n",
      "testing N: 106,031\n"
     ]
    }
   ],
   "source": [
    "# Split into trianing and test data\n",
    "ix = data_df['training_set']\n",
    "L = len(data_df['x'][0])\n",
    "train_df = data_df[ix]\n",
    "print(f'training N: {len(train_df):,}')\n",
    "test_df = data_df[~ix]\n",
    "print(f'testing N: {len(test_df):,}')"
   ]
  },
  {
   "cell_type": "code",
   "execution_count": 4,
   "metadata": {},
   "outputs": [],
   "source": [
    "# Define model\n",
    "model = mavenn.Model(regression_type='GE',\n",
    "                     L=L,\n",
    "                     alphabet='protein',\n",
    "                     gpmap_type='additive',                     \n",
    "                     ge_noise_model_type='SkewedT',\n",
    "                     ge_heteroskedasticity_order=2)"
   ]
  },
  {
   "cell_type": "code",
   "execution_count": 5,
   "metadata": {},
   "outputs": [
    {
     "name": "stdout",
     "output_type": "stream",
     "text": [
      "N = 424,706 observations set as training data.\n",
      "Data shuffled.\n",
      "Time to set data: 10.4 sec.\n"
     ]
    }
   ],
   "source": [
    "# Set training data\n",
    "model.set_data(x=train_df['x'],\n",
    "               y=train_df['y'])"
   ]
  },
  {
   "cell_type": "code",
   "execution_count": 6,
   "metadata": {},
   "outputs": [
    {
     "name": "stdout",
     "output_type": "stream",
     "text": [
      "Epoch 1/1000\n",
      "340/340 [==============================] - 3s 10ms/step - loss: 1373.1268 - I_like: -0.2067 - val_loss: 1015.2834 - val_I_like: 0.3097\n",
      "Epoch 2/1000\n",
      "340/340 [==============================] - 3s 9ms/step - loss: 674.7602 - I_like: 0.8034 - val_loss: 393.8306 - val_I_like: 1.2095\n",
      "Epoch 3/1000\n",
      "340/340 [==============================] - 3s 10ms/step - loss: 244.7541 - I_like: 1.4259 - val_loss: 147.0831 - val_I_like: 1.5673\n",
      "Epoch 4/1000\n",
      "340/340 [==============================] - 3s 10ms/step - loss: 74.4995 - I_like: 1.6728 - val_loss: 26.7445 - val_I_like: 1.7422\n",
      "Epoch 5/1000\n",
      "340/340 [==============================] - 3s 10ms/step - loss: -11.5160 - I_like: 1.7980 - val_loss: -43.1397 - val_I_like: 1.8440\n",
      "Epoch 6/1000\n",
      "340/340 [==============================] - 3s 10ms/step - loss: -65.5344 - I_like: 1.8769 - val_loss: -85.6031 - val_I_like: 1.9062\n",
      "Epoch 7/1000\n",
      "340/340 [==============================] - 3s 10ms/step - loss: -99.5570 - I_like: 1.9268 - val_loss: -112.3285 - val_I_like: 1.9455\n",
      "Epoch 8/1000\n",
      "340/340 [==============================] - 3s 9ms/step - loss: -122.7393 - I_like: 1.9607 - val_loss: -137.6483 - val_I_like: 1.9827\n",
      "Epoch 9/1000\n",
      "340/340 [==============================] - 3s 10ms/step - loss: -148.4443 - I_like: 1.9987 - val_loss: -162.8550 - val_I_like: 2.0198\n",
      "Epoch 10/1000\n",
      "340/340 [==============================] - 3s 10ms/step - loss: -168.8154 - I_like: 2.0288 - val_loss: -184.0103 - val_I_like: 2.0510\n",
      "Epoch 11/1000\n",
      "340/340 [==============================] - 3s 10ms/step - loss: -188.0079 - I_like: 2.0571 - val_loss: -198.6539 - val_I_like: 2.0729\n",
      "Epoch 12/1000\n",
      "340/340 [==============================] - 3s 9ms/step - loss: -203.0706 - I_like: 2.0796 - val_loss: -208.2996 - val_I_like: 2.0875\n",
      "Epoch 13/1000\n",
      "340/340 [==============================] - 3s 10ms/step - loss: -218.5964 - I_like: 2.1027 - val_loss: -227.2617 - val_I_like: 2.1155\n",
      "Epoch 14/1000\n",
      "340/340 [==============================] - 3s 10ms/step - loss: -231.3458 - I_like: 2.1217 - val_loss: -232.9639 - val_I_like: 2.1244\n",
      "Epoch 15/1000\n",
      "340/340 [==============================] - 3s 10ms/step - loss: -241.6387 - I_like: 2.1373 - val_loss: -250.7940 - val_I_like: 2.1507\n",
      "Epoch 16/1000\n",
      "340/340 [==============================] - 4s 10ms/step - loss: -249.4165 - I_like: 2.1490 - val_loss: -257.4769 - val_I_like: 2.1609\n",
      "Epoch 17/1000\n",
      "340/340 [==============================] - 3s 10ms/step - loss: -255.6723 - I_like: 2.1586 - val_loss: -259.4352 - val_I_like: 2.1642\n",
      "Epoch 18/1000\n",
      "340/340 [==============================] - 4s 11ms/step - loss: -260.9615 - I_like: 2.1665 - val_loss: -263.3819 - val_I_like: 2.1702\n",
      "Epoch 19/1000\n",
      "340/340 [==============================] - 3s 10ms/step - loss: -263.7857 - I_like: 2.1710 - val_loss: -266.7398 - val_I_like: 2.1754\n",
      "Epoch 20/1000\n",
      "340/340 [==============================] - 3s 10ms/step - loss: -265.6582 - I_like: 2.1738 - val_loss: -271.6714 - val_I_like: 2.1827\n",
      "Epoch 21/1000\n",
      "340/340 [==============================] - 4s 11ms/step - loss: -267.8427 - I_like: 2.1771 - val_loss: -272.4419 - val_I_like: 2.1839\n",
      "Epoch 22/1000\n",
      "340/340 [==============================] - 4s 10ms/step - loss: -268.8620 - I_like: 2.1786 - val_loss: -263.3692 - val_I_like: 2.1708\n",
      "Epoch 23/1000\n",
      "340/340 [==============================] - 4s 11ms/step - loss: -269.5363 - I_like: 2.1797 - val_loss: -273.6409 - val_I_like: 2.1856\n",
      "Epoch 24/1000\n",
      "340/340 [==============================] - 3s 10ms/step - loss: -270.8403 - I_like: 2.1814 - val_loss: -276.3027 - val_I_like: 2.1893\n",
      "Epoch 25/1000\n",
      "340/340 [==============================] - 3s 10ms/step - loss: -271.7546 - I_like: 2.1826 - val_loss: -269.7558 - val_I_like: 2.1797\n",
      "Epoch 26/1000\n",
      "340/340 [==============================] - 3s 10ms/step - loss: -271.9078 - I_like: 2.1826 - val_loss: -276.5403 - val_I_like: 2.1893\n",
      "Epoch 27/1000\n",
      "340/340 [==============================] - 4s 11ms/step - loss: -272.8017 - I_like: 2.1837 - val_loss: -269.3301 - val_I_like: 2.1787\n",
      "Epoch 28/1000\n",
      "340/340 [==============================] - 4s 11ms/step - loss: -272.9173 - I_like: 2.1837 - val_loss: -277.3072 - val_I_like: 2.1900\n",
      "Epoch 29/1000\n",
      "340/340 [==============================] - 4s 11ms/step - loss: -273.1812 - I_like: 2.1839 - val_loss: -276.6820 - val_I_like: 2.1889\n",
      "Epoch 30/1000\n",
      "340/340 [==============================] - 3s 10ms/step - loss: -272.9910 - I_like: 2.1835 - val_loss: -268.2665 - val_I_like: 2.1765\n",
      "Epoch 31/1000\n",
      "340/340 [==============================] - 4s 12ms/step - loss: -273.7949 - I_like: 2.1844 - val_loss: -278.4418 - val_I_like: 2.1910\n",
      "Epoch 32/1000\n",
      "340/340 [==============================] - 4s 11ms/step - loss: -273.9886 - I_like: 2.1845 - val_loss: -273.0804 - val_I_like: 2.1831\n",
      "Epoch 33/1000\n",
      "340/340 [==============================] - 4s 11ms/step - loss: -274.4468 - I_like: 2.1851 - val_loss: -278.9581 - val_I_like: 2.1914\n",
      "Epoch 34/1000\n",
      "340/340 [==============================] - 3s 10ms/step - loss: -274.3965 - I_like: 2.1847 - val_loss: -278.8708 - val_I_like: 2.1911\n",
      "Epoch 35/1000\n",
      "340/340 [==============================] - 3s 10ms/step - loss: -274.0905 - I_like: 2.1842 - val_loss: -274.8677 - val_I_like: 2.1852\n",
      "Epoch 36/1000\n",
      "340/340 [==============================] - 4s 10ms/step - loss: -272.8057 - I_like: 2.1821 - val_loss: -279.2832 - val_I_like: 2.1915\n",
      "Epoch 37/1000\n",
      "340/340 [==============================] - 4s 12ms/step - loss: -275.6518 - I_like: 2.1861 - val_loss: -278.0391 - val_I_like: 2.1896\n",
      "Epoch 38/1000\n",
      "340/340 [==============================] - 4s 11ms/step - loss: -274.6040 - I_like: 2.1846 - val_loss: -273.5826 - val_I_like: 2.1830\n",
      "Epoch 39/1000\n",
      "340/340 [==============================] - 3s 10ms/step - loss: -273.7137 - I_like: 2.1832 - val_loss: -273.5563 - val_I_like: 2.1829\n",
      "Epoch 40/1000\n",
      "340/340 [==============================] - 3s 10ms/step - loss: -273.5354 - I_like: 2.1828 - val_loss: -278.7566 - val_I_like: 2.1904\n",
      "Epoch 41/1000\n",
      "340/340 [==============================] - 3s 10ms/step - loss: -274.7461 - I_like: 2.1846 - val_loss: -277.7819 - val_I_like: 2.1889\n",
      "Training time: 150.3 seconds\n"
     ]
    }
   ],
   "source": [
    "# Fit model to data\n",
    "history = model.fit(learning_rate=.0005,\n",
    "                    epochs=1000,\n",
    "                    batch_size=1000,\n",
    "                    early_stopping=True,\n",
    "                    early_stopping_patience=5,\n",
    "                    linear_initialization=False)"
   ]
  },
  {
   "cell_type": "code",
   "execution_count": 7,
   "metadata": {},
   "outputs": [
    {
     "name": "stdout",
     "output_type": "stream",
     "text": [
      "Model saved to these files:\n",
      "\tgb1_ge_additive.pickle\n",
      "\tgb1_ge_additive.h5\n"
     ]
    }
   ],
   "source": [
    "# Save model\n",
    "model.save('gb1_ge_additive')"
   ]
  },
  {
   "cell_type": "code",
   "execution_count": 8,
   "metadata": {},
   "outputs": [
    {
     "name": "stdout",
     "output_type": "stream",
     "text": [
      "Model loaded from these files:\n",
      "\tgb1_ge_additive.pickle\n",
      "\tgb1_ge_additive.h5\n"
     ]
    }
   ],
   "source": [
    "# Load model\n",
    "model = mavenn.load('gb1_ge_additive')"
   ]
  },
  {
   "cell_type": "code",
   "execution_count": 9,
   "metadata": {},
   "outputs": [],
   "source": [
    "# Subsample indices for easy plotting and information estimation\n",
    "N_test = len(test_df)\n",
    "ix = np.random.rand(N_test) < .1\n",
    "\n",
    "# Get x and y\n",
    "x = test_df['x'].values[ix]\n",
    "y = test_df['y'].values[ix]"
   ]
  },
  {
   "cell_type": "code",
   "execution_count": 10,
   "metadata": {},
   "outputs": [
    {
     "name": "stdout",
     "output_type": "stream",
     "text": [
      "On test data:\n",
      "I_like_test: 2.160 +- 0.018 bits\n",
      "I_pred_test: 2.231 +- 0.013 bits\n"
     ]
    },
    {
     "data": {
      "image/png": "[encoded data removed]",
      "text/plain": [
       "<Figure size 288x288 with 1 Axes>"
      ]
     },
     "metadata": {
      "needs_background": "light"
     },
     "output_type": "display_data"
    }
   ],
   "source": [
    "# Show training history\n",
    "print('On test data:')\n",
    "\n",
    "# Compute likelihood information\n",
    "I_like, dI_like =  model.I_likelihood(x=x, y=y)\n",
    "print(f'I_like_test: {I_like:.3f} +- {dI_like:.3f} bits') \n",
    "\n",
    "# Compute predictive information\n",
    "I_pred, dI_pred = model.I_predictive(x=x, y=y)\n",
    "print(f'I_pred_test: {I_pred:.3f} +- {dI_pred:.3f} bits')\n",
    "\n",
    "I_like_hist = model.history['I_like']\n",
    "val_I_like_hist = model.history['val_I_like']\n",
    "\n",
    "fig, ax = plt.subplots(1,1,figsize=[4,4])\n",
    "ax.plot(I_like_hist, label='I_like_train')\n",
    "ax.plot(val_I_like_hist, label='I_like_val')\n",
    "ax.axhline(I_like, color='C2', linestyle=':', label='I_like_test')\n",
    "ax.axhline(I_pred, color='C3', linestyle=':', label='I_pred_test')\n",
    "ax.legend()\n",
    "ax.set_xlabel('epochs')\n",
    "ax.set_ylabel('bits')\n",
    "ax.set_title('training hisotry')\n",
    "ax.set_ylim([0, I_pred*1.2]);"
   ]
  },
  {
   "cell_type": "code",
   "execution_count": 11,
   "metadata": {},
   "outputs": [
    {
     "data": {
      "image/png": "[encoded data removed]",
      "text/plain": [
       "<Figure size 288x288 with 1 Axes>"
      ]
     },
     "metadata": {
      "needs_background": "light"
     },
     "output_type": "display_data"
    }
   ],
   "source": [
    "# Compute phi and yhat values\n",
    "phi = model.x_to_phi(x)\n",
    "yhat = model.phi_to_yhat(phi)\n",
    "\n",
    "# Create grid for plotting yhat and yqs\n",
    "phi_lim = [-5, 2.5]\n",
    "phi_grid = np.linspace(phi_lim[0], phi_lim[1], 1000)\n",
    "yhat_grid = model.phi_to_yhat(phi_grid)\n",
    "yqs_grid = model.yhat_to_yq(yhat_grid, q=[.16,.84])\n",
    "\n",
    "# Create two panels\n",
    "fig, ax = plt.subplots(1, 1, figsize=[4, 4])\n",
    "\n",
    "# Illustrate measurement process with GE curve\n",
    "ax.scatter(phi, y, color='C0', s=5, alpha=.2, label='test data')\n",
    "ax.plot(phi_grid, yhat_grid, linewidth=2, color='C1',\n",
    "        label='$\\hat{y} = g(\\phi)$')\n",
    "ax.plot(phi_grid, yqs_grid[:, 0], linestyle='--', color='C1',\n",
    "        label='68% CI')\n",
    "ax.plot(phi_grid, yqs_grid[:, 1], linestyle='--', color='C1')\n",
    "ax.set_xlim(phi_lim)\n",
    "ax.set_xlabel('latent phenotype ($\\phi$)')\n",
    "ax.set_ylabel('measurement ($y$)')\n",
    "ax.set_title('measurement process')\n",
    "ax.legend()\n",
    "\n",
    "# Fix up plot\n",
    "fig.tight_layout()\n",
    "plt.show()"
   ]
  },
  {
   "cell_type": "code",
   "execution_count": 12,
   "metadata": {},
   "outputs": [
    {
     "data": {
      "image/png": "[encoded data removed]",
      "text/plain": [
       "<Figure size 720x360 with 2 Axes>"
      ]
     },
     "metadata": {
      "needs_background": "light"
     },
     "output_type": "display_data"
    }
   ],
   "source": [
    "# Set wild-type sequence\n",
    "gb1_seq = model.x_stats['consensus_seq']\n",
    "\n",
    "# Get effects of all single-point mutations on phi\n",
    "theta_dict = model.get_theta(gauge='user',\n",
    "                             x_wt=gb1_seq)\n",
    "\n",
    "# Create two panels\n",
    "fig, ax = plt.subplots(1, 1, figsize=[10, 5])\n",
    "\n",
    "# Left panel: draw heatmap illustrating 1pt mutation effects\n",
    "ax, cb = mavenn.heatmap(theta_dict['theta_lc'],\n",
    "                        alphabet=theta_dict['alphabet'],\n",
    "                        seq=gb1_seq,\n",
    "                        cmap='PiYG',\n",
    "                        ccenter=0,\n",
    "                        ax=ax)\n",
    "ax.set_xlabel('position ($l$)')\n",
    "ax.set_ylabel('amino acid ($c$)')\n",
    "cb.set_label('effect ($\\Delta\\phi$)', rotation=-90, va=\"bottom\")\n",
    "ax.set_title('mutation effects')\n",
    "\n",
    "# Fix up plot\n",
    "fig.tight_layout()\n",
    "plt.show()\n"
   ]
  },
  {
   "cell_type": "code",
   "execution_count": 13,
   "metadata": {},
   "outputs": [
    {
     "data": {
      "text/html": [
       "<div>\n",
       "<style scoped>\n",
       "    .dataframe tbody tr th:only-of-type {\n",
       "        vertical-align: middle;\n",
       "    }\n",
       "\n",
       "    .dataframe tbody tr th {\n",
       "        vertical-align: top;\n",
       "    }\n",
       "\n",
       "    .dataframe thead th {\n",
       "        text-align: right;\n",
       "    }\n",
       "</style>\n",
       "<table border=\"1\" class=\"dataframe\">\n",
       "  <thead>\n",
       "    <tr style=\"text-align: right;\">\n",
       "      <th></th>\n",
       "      <th>training_set</th>\n",
       "      <th>yhat</th>\n",
       "      <th>phi</th>\n",
       "      <th>y</th>\n",
       "      <th>x</th>\n",
       "    </tr>\n",
       "  </thead>\n",
       "  <tbody>\n",
       "    <tr>\n",
       "      <th>0</th>\n",
       "      <td>True</td>\n",
       "      <td>-6.467230</td>\n",
       "      <td>-0.600714</td>\n",
       "      <td>-6.540459</td>\n",
       "      <td>QYKLILNGKTLLGETTTEAVDAATSEKVFKQYAPDNGVDGEWTYDD...</td>\n",
       "    </tr>\n",
       "    <tr>\n",
       "      <th>1</th>\n",
       "      <td>True</td>\n",
       "      <td>-7.176846</td>\n",
       "      <td>-0.960768</td>\n",
       "      <td>-7.622526</td>\n",
       "      <td>QYKLILNGKTLKGEETTEAVDAATAEKVFKQYRNDNGVDGEWTYDD...</td>\n",
       "    </tr>\n",
       "    <tr>\n",
       "      <th>2</th>\n",
       "      <td>False</td>\n",
       "      <td>-3.459020</td>\n",
       "      <td>0.172952</td>\n",
       "      <td>-4.927721</td>\n",
       "      <td>QYKLILNGKTLKGETTTEAVDAATAEKVFKQYANDNGVDGEWTYDD...</td>\n",
       "    </tr>\n",
       "    <tr>\n",
       "      <th>3</th>\n",
       "      <td>True</td>\n",
       "      <td>1.272151</td>\n",
       "      <td>1.303647</td>\n",
       "      <td>1.096123</td>\n",
       "      <td>QYKLILNGKTLKGETTTEAVDAATAEKVFKQFANDNGVDGIWTYDD...</td>\n",
       "    </tr>\n",
       "    <tr>\n",
       "      <th>4</th>\n",
       "      <td>True</td>\n",
       "      <td>-1.543591</td>\n",
       "      <td>0.550467</td>\n",
       "      <td>-1.304465</td>\n",
       "      <td>QYKLILNGKTLKGETTAEAVDAATAEKVFKQYANDNGVDGEWTYDD...</td>\n",
       "    </tr>\n",
       "  </tbody>\n",
       "</table>\n",
       "</div>"
      ],
      "text/plain": [
       "   training_set      yhat       phi         y  \\\n",
       "0          True -6.467230 -0.600714 -6.540459   \n",
       "1          True -7.176846 -0.960768 -7.622526   \n",
       "2         False -3.459020  0.172952 -4.927721   \n",
       "3          True  1.272151  1.303647  1.096123   \n",
       "4          True -1.543591  0.550467 -1.304465   \n",
       "\n",
       "                                                   x  \n",
       "0  QYKLILNGKTLLGETTTEAVDAATSEKVFKQYAPDNGVDGEWTYDD...  \n",
       "1  QYKLILNGKTLKGEETTEAVDAATAEKVFKQYRNDNGVDGEWTYDD...  \n",
       "2  QYKLILNGKTLKGETTTEAVDAATAEKVFKQYANDNGVDGEWTYDD...  \n",
       "3  QYKLILNGKTLKGETTTEAVDAATAEKVFKQFANDNGVDGIWTYDD...  \n",
       "4  QYKLILNGKTLKGETTAEAVDAATAEKVFKQYANDNGVDGEWTYDD...  "
      ]
     },
     "execution_count": 13,
     "metadata": {},
     "output_type": "execute_result"
    }
   ],
   "source": [
    "# Test simulate_data\n",
    "sim_df = model.simulate_dataset(N=1000)\n",
    "sim_df.head()"
   ]
  },
  {
   "cell_type": "code",
   "execution_count": null,
   "metadata": {},
   "outputs": [],
   "source": []
  }
 ],
 "metadata": {
  "kernelspec": {
   "display_name": "Python 3",
   "language": "python",
   "name": "python3"
  },
  "language_info": {
   "codemirror_mode": {
    "name": "ipython",
    "version": 3
   },
   "file_extension": ".py",
   "mimetype": "text/x-python",
   "name": "python",
   "nbconvert_exporter": "python",
   "pygments_lexer": "ipython3",
   "version": "3.7.4"
  }
 },
 "nbformat": 4,
 "nbformat_minor": 2
}
