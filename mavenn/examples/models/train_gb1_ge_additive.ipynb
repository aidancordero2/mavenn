{
 "cells": [
  {
   "cell_type": "code",
   "execution_count": 1,
   "metadata": {},
   "outputs": [
    {
     "name": "stdout",
     "output_type": "stream",
     "text": [
      "['/Users/jkinney/github/mavenn/mavenn']\n"
     ]
    }
   ],
   "source": [
    "# Standard imports\n",
    "import pandas as pd\n",
    "import matplotlib.pyplot as plt\n",
    "import numpy as np\n",
    "\n",
    "# Insert path to mavenn beginning of path\n",
    "import os\n",
    "import sys\n",
    "abs_path_to_mavenn = os.path.abspath('../../../')\n",
    "sys.path.insert(0, abs_path_to_mavenn)\n",
    "\n",
    "# Load mavenn\n",
    "import mavenn\n",
    "print(mavenn.__path__)"
   ]
  },
  {
   "cell_type": "code",
   "execution_count": 2,
   "metadata": {},
   "outputs": [
    {
     "data": {
      "text/html": [
       "<div>\n",
       "<style scoped>\n",
       "    .dataframe tbody tr th:only-of-type {\n",
       "        vertical-align: middle;\n",
       "    }\n",
       "\n",
       "    .dataframe tbody tr th {\n",
       "        vertical-align: top;\n",
       "    }\n",
       "\n",
       "    .dataframe thead th {\n",
       "        text-align: right;\n",
       "    }\n",
       "</style>\n",
       "<table border=\"1\" class=\"dataframe\">\n",
       "  <thead>\n",
       "    <tr style=\"text-align: right;\">\n",
       "      <th></th>\n",
       "      <th>input_ct</th>\n",
       "      <th>selected_ct</th>\n",
       "      <th>hamming_dist</th>\n",
       "      <th>training_set</th>\n",
       "      <th>y</th>\n",
       "      <th>x</th>\n",
       "    </tr>\n",
       "  </thead>\n",
       "  <tbody>\n",
       "    <tr>\n",
       "      <th>0</th>\n",
       "      <td>173.0</td>\n",
       "      <td>33.0</td>\n",
       "      <td>2</td>\n",
       "      <td>True</td>\n",
       "      <td>-3.145154</td>\n",
       "      <td>AAKLILNGKTLKGETTTEAVDAATAEKVFKQYANDNGVDGEWTYDD...</td>\n",
       "    </tr>\n",
       "    <tr>\n",
       "      <th>1</th>\n",
       "      <td>18.0</td>\n",
       "      <td>8.0</td>\n",
       "      <td>2</td>\n",
       "      <td>False</td>\n",
       "      <td>-1.867676</td>\n",
       "      <td>ACKLILNGKTLKGETTTEAVDAATAEKVFKQYANDNGVDGEWTYDD...</td>\n",
       "    </tr>\n",
       "    <tr>\n",
       "      <th>2</th>\n",
       "      <td>66.0</td>\n",
       "      <td>2.0</td>\n",
       "      <td>2</td>\n",
       "      <td>True</td>\n",
       "      <td>-5.270800</td>\n",
       "      <td>ADKLILNGKTLKGETTTEAVDAATAEKVFKQYANDNGVDGEWTYDD...</td>\n",
       "    </tr>\n",
       "    <tr>\n",
       "      <th>3</th>\n",
       "      <td>72.0</td>\n",
       "      <td>1.0</td>\n",
       "      <td>2</td>\n",
       "      <td>False</td>\n",
       "      <td>-5.979498</td>\n",
       "      <td>AEKLILNGKTLKGETTTEAVDAATAEKVFKQYANDNGVDGEWTYDD...</td>\n",
       "    </tr>\n",
       "    <tr>\n",
       "      <th>4</th>\n",
       "      <td>69.0</td>\n",
       "      <td>168.0</td>\n",
       "      <td>2</td>\n",
       "      <td>True</td>\n",
       "      <td>0.481923</td>\n",
       "      <td>AFKLILNGKTLKGETTTEAVDAATAEKVFKQYANDNGVDGEWTYDD...</td>\n",
       "    </tr>\n",
       "  </tbody>\n",
       "</table>\n",
       "</div>"
      ],
      "text/plain": [
       "   input_ct  selected_ct  hamming_dist  training_set         y  \\\n",
       "0     173.0         33.0             2          True -3.145154   \n",
       "1      18.0          8.0             2         False -1.867676   \n",
       "2      66.0          2.0             2          True -5.270800   \n",
       "3      72.0          1.0             2         False -5.979498   \n",
       "4      69.0        168.0             2          True  0.481923   \n",
       "\n",
       "                                                   x  \n",
       "0  AAKLILNGKTLKGETTTEAVDAATAEKVFKQYANDNGVDGEWTYDD...  \n",
       "1  ACKLILNGKTLKGETTTEAVDAATAEKVFKQYANDNGVDGEWTYDD...  \n",
       "2  ADKLILNGKTLKGETTTEAVDAATAEKVFKQYANDNGVDGEWTYDD...  \n",
       "3  AEKLILNGKTLKGETTTEAVDAATAEKVFKQYANDNGVDGEWTYDD...  \n",
       "4  AFKLILNGKTLKGETTTEAVDAATAEKVFKQYANDNGVDGEWTYDD...  "
      ]
     },
     "execution_count": 2,
     "metadata": {},
     "output_type": "execute_result"
    }
   ],
   "source": [
    "# Load example data\n",
    "data_df = mavenn.load_example_dataset('gb1')\n",
    "data_df.head()"
   ]
  },
  {
   "cell_type": "code",
   "execution_count": 3,
   "metadata": {},
   "outputs": [
    {
     "name": "stdout",
     "output_type": "stream",
     "text": [
      "training N: 424,706\n",
      "testing N: 106,031\n"
     ]
    }
   ],
   "source": [
    "# Split into trianing and test data\n",
    "ix = data_df['training_set']\n",
    "L = len(data_df['x'][0])\n",
    "train_df = data_df[ix]\n",
    "print(f'training N: {len(train_df):,}')\n",
    "test_df = data_df[~ix]\n",
    "print(f'testing N: {len(test_df):,}')"
   ]
  },
  {
   "cell_type": "code",
   "execution_count": 4,
   "metadata": {},
   "outputs": [],
   "source": [
    "# Set seeed\n",
    "mavenn.set_seed(0)\n",
    "\n",
    "# Define model\n",
    "model = mavenn.Model(regression_type='GE',\n",
    "                     L=L,\n",
    "                     alphabet='protein',\n",
    "                     gpmap_type='additive',                     \n",
    "                     ge_noise_model_type='SkewedT',\n",
    "                     ge_heteroskedasticity_order=2)"
   ]
  },
  {
   "cell_type": "code",
   "execution_count": 5,
   "metadata": {},
   "outputs": [
    {
     "name": "stdout",
     "output_type": "stream",
     "text": [
      "N = 424,706 observations set as training data.\n",
      "Data shuffled.\n",
      "Time to set data: 18.9 sec.\n"
     ]
    }
   ],
   "source": [
    "# Set training data\n",
    "model.set_data(x=train_df['x'],\n",
    "               y=train_df['y'])"
   ]
  },
  {
   "cell_type": "code",
   "execution_count": 6,
   "metadata": {},
   "outputs": [
    {
     "name": "stdout",
     "output_type": "stream",
     "text": [
      " \n",
      "LSMR            Least-squares solution of  Ax = b\n",
      "\n",
      "The matrix A has   424706 rows  and     1100 cols\n",
      "damp = 0.00000000000000e+00\n",
      "\n",
      "atol = 1.00e-06                 conlim = 1.00e+08\n",
      "\n",
      "btol = 1.00e-06             maxiter =     1100\n",
      "\n",
      " \n",
      "   itn      x(1)       norm r    norm Ar  compatible   LS      norm A   cond A\n",
      "     0  0.00000e+00  6.517e+02  6.755e+04   1.0e+00  1.6e-01\n",
      "     1  2.99096e-02  3.686e+02  1.320e+04   5.7e-01  2.9e-01  1.3e+02  1.0e+00\n",
      "     2  3.06595e-02  3.680e+02  8.021e+03   5.6e-01  5.8e-03  3.7e+03  2.9e+01\n",
      "     3  4.00184e-02  3.054e+02  6.382e+03   4.7e-01  4.5e-03  4.7e+03  1.5e+02\n",
      "     4  6.11177e-02  2.390e+02  3.439e+02   3.7e-01  3.1e-04  4.7e+03  9.2e+01\n",
      "     5  6.09894e-02  2.390e+02  1.983e+02   3.7e-01  1.8e-04  4.7e+03  9.2e+01\n",
      "     6  6.09892e-02  2.390e+02  1.983e+02   3.7e-01  1.8e-04  4.7e+03  9.2e+01\n",
      "     7  5.91845e-02  2.389e+02  1.426e+02   3.7e-01  9.1e-05  6.6e+03  1.5e+02\n",
      "     8  5.71482e-02  2.389e+02  2.357e+01   3.7e-01  1.5e-05  6.6e+03  1.0e+02\n",
      "     9  5.71660e-02  2.389e+02  2.189e+01   3.7e-01  1.4e-05  6.6e+03  1.3e+02\n",
      "    10  5.71882e-02  2.389e+02  2.128e+01   3.7e-01  1.4e-05  6.6e+03  1.5e+02\n",
      "    13  5.74612e-02  2.389e+02  1.149e+00   3.7e-01  6.0e-07  8.1e+03  1.7e+02\n",
      " \n",
      "LSMR finished\n",
      "The least-squares solution is good enough, given atol     \n",
      "istop =       2    normr = 2.4e+02\n",
      "    normA = 8.1e+03    normAr = 1.1e+00\n",
      "itn   =      13    condA = 1.7e+02\n",
      "    normx = 1.1e+01\n",
      "    13  5.74612e-02   2.389e+02  1.149e+00\n",
      "   3.7e-01  6.0e-07   8.1e+03  1.7e+02\n",
      "Linear regression time: 9.4107 sec\n",
      "Epoch 1/1000\n",
      "340/340 [==============================] - 4s 11ms/step - loss: 103.9411 - I_like: 1.5889 - val_loss: -120.8808 - val_I_like: 1.9142\n",
      "Epoch 2/1000\n",
      "340/340 [==============================] - 3s 10ms/step - loss: -211.0725 - I_like: 2.0448 - val_loss: -234.3643 - val_I_like: 2.0786\n",
      "Epoch 3/1000\n",
      "340/340 [==============================] - 4s 11ms/step - loss: -238.2399 - I_like: 2.0845 - val_loss: -241.0285 - val_I_like: 2.0888\n",
      "Epoch 4/1000\n",
      "340/340 [==============================] - 3s 10ms/step - loss: -241.5490 - I_like: 2.0899 - val_loss: -256.4911 - val_I_like: 2.1115\n",
      "Epoch 5/1000\n",
      "340/340 [==============================] - 3s 10ms/step - loss: -241.9553 - I_like: 2.0908 - val_loss: -257.5471 - val_I_like: 2.1133\n",
      "Epoch 6/1000\n",
      "340/340 [==============================] - 3s 9ms/step - loss: -239.3625 - I_like: 2.0872 - val_loss: -255.1852 - val_I_like: 2.1101\n",
      "Epoch 7/1000\n",
      "340/340 [==============================] - 3s 9ms/step - loss: -239.0166 - I_like: 2.0870 - val_loss: -255.9317 - val_I_like: 2.1113\n",
      "Epoch 8/1000\n",
      "340/340 [==============================] - 3s 10ms/step - loss: -246.9465 - I_like: 2.0984 - val_loss: -257.7138 - val_I_like: 2.1138\n",
      "Epoch 9/1000\n",
      "340/340 [==============================] - 3s 10ms/step - loss: -242.9129 - I_like: 2.0924 - val_loss: -249.1898 - val_I_like: 2.1016\n",
      "Epoch 10/1000\n",
      "340/340 [==============================] - 3s 10ms/step - loss: -245.7132 - I_like: 2.0966 - val_loss: -240.1320 - val_I_like: 2.0887\n",
      "Epoch 11/1000\n",
      "340/340 [==============================] - 4s 11ms/step - loss: -245.8636 - I_like: 2.0967 - val_loss: -250.5714 - val_I_like: 2.1036\n",
      "Epoch 12/1000\n",
      "340/340 [==============================] - 4s 11ms/step - loss: -246.8971 - I_like: 2.0982 - val_loss: -256.3345 - val_I_like: 2.1117\n",
      "Epoch 13/1000\n",
      "340/340 [==============================] - 4s 10ms/step - loss: -243.9748 - I_like: 2.0939 - val_loss: -218.3489 - val_I_like: 2.0569\n",
      "Epoch 14/1000\n",
      "340/340 [==============================] - 3s 10ms/step - loss: -234.4931 - I_like: 2.0803 - val_loss: -233.2285 - val_I_like: 2.0787\n",
      "Epoch 15/1000\n",
      "340/340 [==============================] - 5s 14ms/step - loss: -242.3415 - I_like: 2.0917 - val_loss: -258.5455 - val_I_like: 2.1152\n",
      "Epoch 16/1000\n",
      "340/340 [==============================] - 5s 14ms/step - loss: -249.0162 - I_like: 2.1012 - val_loss: -193.7872 - val_I_like: 2.0214\n",
      "Epoch 17/1000\n",
      "340/340 [==============================] - 4s 11ms/step - loss: -245.4920 - I_like: 2.0961 - val_loss: -245.0761 - val_I_like: 2.0955\n",
      "Epoch 18/1000\n",
      "340/340 [==============================] - 3s 10ms/step - loss: -248.4888 - I_like: 2.1002 - val_loss: -235.2829 - val_I_like: 2.0811\n",
      "Epoch 19/1000\n",
      "340/340 [==============================] - 4s 13ms/step - loss: -246.3837 - I_like: 2.0970 - val_loss: -248.1082 - val_I_like: 2.0996\n",
      "Epoch 20/1000\n",
      "340/340 [==============================] - 4s 12ms/step - loss: -243.1337 - I_like: 2.0924 - val_loss: -255.6067 - val_I_like: 2.1104\n",
      "Epoch 21/1000\n",
      "340/340 [==============================] - 4s 11ms/step - loss: -249.0866 - I_like: 2.1010 - val_loss: -257.1051 - val_I_like: 2.1125\n",
      "Epoch 22/1000\n",
      "340/340 [==============================] - 4s 11ms/step - loss: -246.9600 - I_like: 2.0977 - val_loss: -246.2337 - val_I_like: 2.0968\n",
      "Epoch 23/1000\n",
      "340/340 [==============================] - 3s 10ms/step - loss: -245.7497 - I_like: 2.0959 - val_loss: -248.7656 - val_I_like: 2.1004\n",
      "Epoch 24/1000\n",
      "340/340 [==============================] - 3s 10ms/step - loss: -242.9319 - I_like: 2.0920 - val_loss: -254.8441 - val_I_like: 2.1092\n",
      "Epoch 25/1000\n",
      "340/340 [==============================] - 4s 11ms/step - loss: -247.2832 - I_like: 2.0982 - val_loss: -254.0784 - val_I_like: 2.1081\n",
      "Training time: 112.3 seconds\n"
     ]
    }
   ],
   "source": [
    "# Fit model to data\n",
    "history = model.fit(learning_rate=.005,\n",
    "                    epochs=1000,\n",
    "                    batch_size=1000,\n",
    "                    early_stopping=True,\n",
    "                    early_stopping_patience=10)"
   ]
  },
  {
   "cell_type": "code",
   "execution_count": 7,
   "metadata": {},
   "outputs": [
    {
     "name": "stdout",
     "output_type": "stream",
     "text": [
      "Model saved to these files:\n",
      "\tgb1_ge_additive.pickle\n",
      "\tgb1_ge_additive.h5\n"
     ]
    }
   ],
   "source": [
    "# Save model\n",
    "model.save('gb1_ge_additive')"
   ]
  },
  {
   "cell_type": "code",
   "execution_count": 8,
   "metadata": {},
   "outputs": [
    {
     "name": "stdout",
     "output_type": "stream",
     "text": [
      "Model loaded from these files:\n",
      "\tgb1_ge_additive.pickle\n",
      "\tgb1_ge_additive.h5\n"
     ]
    }
   ],
   "source": [
    "# Load model\n",
    "model = mavenn.load('gb1_ge_additive')"
   ]
  },
  {
   "cell_type": "code",
   "execution_count": 9,
   "metadata": {},
   "outputs": [],
   "source": [
    "# Subsample indices for easy plotting and information estimation\n",
    "N_test = len(test_df)\n",
    "ix = np.random.rand(N_test) < .1\n",
    "\n",
    "# Get x and y\n",
    "x = test_df['x'].values[ix]\n",
    "y = test_df['y'].values[ix]"
   ]
  },
  {
   "cell_type": "code",
   "execution_count": 10,
   "metadata": {},
   "outputs": [
    {
     "name": "stdout",
     "output_type": "stream",
     "text": [
      "On test data:\n",
      "I_like_test: 2.092 +- 0.019 bits\n",
      "I_pred_test: 2.191 +- 0.011 bits\n"
     ]
    },
    {
     "data": {
      "image/png": "[encoded data removed]",
      "text/plain": [
       "<Figure size 288x288 with 1 Axes>"
      ]
     },
     "metadata": {
      "needs_background": "light"
     },
     "output_type": "display_data"
    }
   ],
   "source": [
    "# Show training history\n",
    "print('On test data:')\n",
    "\n",
    "# Compute likelihood information\n",
    "I_like, dI_like =  model.I_likelihood(x=x, y=y)\n",
    "print(f'I_like_test: {I_like:.3f} +- {dI_like:.3f} bits') \n",
    "\n",
    "# Compute predictive information\n",
    "I_pred, dI_pred = model.I_predictive(x=x, y=y)\n",
    "print(f'I_pred_test: {I_pred:.3f} +- {dI_pred:.3f} bits')\n",
    "\n",
    "I_like_hist = model.history['I_like']\n",
    "val_I_like_hist = model.history['val_I_like']\n",
    "\n",
    "fig, ax = plt.subplots(1,1,figsize=[4,4])\n",
    "ax.plot(I_like_hist, label='I_like_train')\n",
    "ax.plot(val_I_like_hist, label='I_like_val')\n",
    "ax.axhline(I_like, color='C2', linestyle=':', label='I_like_test')\n",
    "ax.axhline(I_pred, color='C3', linestyle=':', label='I_pred_test')\n",
    "ax.legend()\n",
    "ax.set_xlabel('epochs')\n",
    "ax.set_ylabel('bits')\n",
    "ax.set_title('training hisotry')\n",
    "ax.set_ylim([0, I_pred*1.2]);"
   ]
  },
  {
   "cell_type": "code",
   "execution_count": 11,
   "metadata": {},
   "outputs": [
    {
     "data": {
      "image/png": "[encoded data removed]",
      "text/plain": [
       "<Figure size 288x288 with 1 Axes>"
      ]
     },
     "metadata": {
      "needs_background": "light"
     },
     "output_type": "display_data"
    }
   ],
   "source": [
    "# Compute phi and yhat values\n",
    "phi = model.x_to_phi(x)\n",
    "yhat = model.phi_to_yhat(phi)\n",
    "\n",
    "# Create grid for plotting yhat and yqs\n",
    "phi_lim = [-5, 2.5]\n",
    "phi_grid = np.linspace(phi_lim[0], phi_lim[1], 1000)\n",
    "yhat_grid = model.phi_to_yhat(phi_grid)\n",
    "yqs_grid = model.yhat_to_yq(yhat_grid, q=[.16,.84])\n",
    "\n",
    "# Create two panels\n",
    "fig, ax = plt.subplots(1, 1, figsize=[4, 4])\n",
    "\n",
    "# Illustrate measurement process with GE curve\n",
    "ax.scatter(phi, y, color='C0', s=5, alpha=.2, label='test data')\n",
    "ax.plot(phi_grid, yhat_grid, linewidth=2, color='C1',\n",
    "        label='$\\hat{y} = g(\\phi)$')\n",
    "ax.plot(phi_grid, yqs_grid[:, 0], linestyle='--', color='C1',\n",
    "        label='68% CI')\n",
    "ax.plot(phi_grid, yqs_grid[:, 1], linestyle='--', color='C1')\n",
    "ax.set_xlim(phi_lim)\n",
    "ax.set_xlabel('latent phenotype ($\\phi$)')\n",
    "ax.set_ylabel('measurement ($y$)')\n",
    "ax.set_title('measurement process')\n",
    "ax.legend()\n",
    "\n",
    "# Fix up plot\n",
    "fig.tight_layout()\n",
    "plt.show()"
   ]
  },
  {
   "cell_type": "code",
   "execution_count": 12,
   "metadata": {},
   "outputs": [
    {
     "data": {
      "image/png": "[encoded data removed]",
      "text/plain": [
       "<Figure size 720x360 with 2 Axes>"
      ]
     },
     "metadata": {
      "needs_background": "light"
     },
     "output_type": "display_data"
    }
   ],
   "source": [
    "# Set wild-type sequence\n",
    "gb1_seq = model.x_stats['consensus_seq']\n",
    "\n",
    "# Get effects of all single-point mutations on phi\n",
    "theta_dict = model.get_theta(gauge='user',\n",
    "                             x_wt=gb1_seq)\n",
    "\n",
    "# Create two panels\n",
    "fig, ax = plt.subplots(1, 1, figsize=[10, 5])\n",
    "\n",
    "# Left panel: draw heatmap illustrating 1pt mutation effects\n",
    "ax, cb = mavenn.heatmap(theta_dict['theta_lc'],\n",
    "                        alphabet=theta_dict['alphabet'],\n",
    "                        seq=gb1_seq,\n",
    "                        cmap='PiYG',\n",
    "                        ccenter=0,\n",
    "                        ax=ax)\n",
    "ax.set_xlabel('position ($l$)')\n",
    "ax.set_ylabel('amino acid ($c$)')\n",
    "cb.set_label('effect ($\\Delta\\phi$)', rotation=-90, va=\"bottom\")\n",
    "ax.set_title('mutation effects')\n",
    "\n",
    "# Fix up plot\n",
    "fig.tight_layout()\n",
    "plt.show()\n"
   ]
  },
  {
   "cell_type": "code",
   "execution_count": 13,
   "metadata": {},
   "outputs": [
    {
     "data": {
      "text/html": [
       "<div>\n",
       "<style scoped>\n",
       "    .dataframe tbody tr th:only-of-type {\n",
       "        vertical-align: middle;\n",
       "    }\n",
       "\n",
       "    .dataframe tbody tr th {\n",
       "        vertical-align: top;\n",
       "    }\n",
       "\n",
       "    .dataframe thead th {\n",
       "        text-align: right;\n",
       "    }\n",
       "</style>\n",
       "<table border=\"1\" class=\"dataframe\">\n",
       "  <thead>\n",
       "    <tr style=\"text-align: right;\">\n",
       "      <th></th>\n",
       "      <th>training_set</th>\n",
       "      <th>yhat</th>\n",
       "      <th>phi</th>\n",
       "      <th>y</th>\n",
       "      <th>x</th>\n",
       "    </tr>\n",
       "  </thead>\n",
       "  <tbody>\n",
       "    <tr>\n",
       "      <th>0</th>\n",
       "      <td>False</td>\n",
       "      <td>0.191447</td>\n",
       "      <td>0.975933</td>\n",
       "      <td>-0.002941</td>\n",
       "      <td>QYKLILNGKTLKGETTTEAVDAAVAEKVFKQYANDNGVDGEWTYDD...</td>\n",
       "    </tr>\n",
       "    <tr>\n",
       "      <th>1</th>\n",
       "      <td>False</td>\n",
       "      <td>-7.850424</td>\n",
       "      <td>-1.796678</td>\n",
       "      <td>-8.128762</td>\n",
       "      <td>QYKLILNGKTLKGETTTEAVDAATAEKVFKQYANDNGVDGEWTYDD...</td>\n",
       "    </tr>\n",
       "    <tr>\n",
       "      <th>2</th>\n",
       "      <td>False</td>\n",
       "      <td>2.007316</td>\n",
       "      <td>1.784410</td>\n",
       "      <td>2.019404</td>\n",
       "      <td>QYKLILNGKTLKGETTTEAHDAAWAEKVFKQYANDNGVDGEWTYDD...</td>\n",
       "    </tr>\n",
       "    <tr>\n",
       "      <th>3</th>\n",
       "      <td>True</td>\n",
       "      <td>-8.028570</td>\n",
       "      <td>-2.813909</td>\n",
       "      <td>-4.209447</td>\n",
       "      <td>QYKLILNTKTLKGETTTEAVDAATALKVFKQYASDNGVDGEWTYDD...</td>\n",
       "    </tr>\n",
       "    <tr>\n",
       "      <th>4</th>\n",
       "      <td>True</td>\n",
       "      <td>-2.030035</td>\n",
       "      <td>0.456456</td>\n",
       "      <td>-2.404300</td>\n",
       "      <td>QYKLILNGKTLKGETTTWAVDAATAEKVFKQYTNDNGVDGEWTYDD...</td>\n",
       "    </tr>\n",
       "  </tbody>\n",
       "</table>\n",
       "</div>"
      ],
      "text/plain": [
       "   training_set      yhat       phi         y  \\\n",
       "0         False  0.191447  0.975933 -0.002941   \n",
       "1         False -7.850424 -1.796678 -8.128762   \n",
       "2         False  2.007316  1.784410  2.019404   \n",
       "3          True -8.028570 -2.813909 -4.209447   \n",
       "4          True -2.030035  0.456456 -2.404300   \n",
       "\n",
       "                                                   x  \n",
       "0  QYKLILNGKTLKGETTTEAVDAAVAEKVFKQYANDNGVDGEWTYDD...  \n",
       "1  QYKLILNGKTLKGETTTEAVDAATAEKVFKQYANDNGVDGEWTYDD...  \n",
       "2  QYKLILNGKTLKGETTTEAHDAAWAEKVFKQYANDNGVDGEWTYDD...  \n",
       "3  QYKLILNTKTLKGETTTEAVDAATALKVFKQYASDNGVDGEWTYDD...  \n",
       "4  QYKLILNGKTLKGETTTWAVDAATAEKVFKQYTNDNGVDGEWTYDD...  "
      ]
     },
     "execution_count": 13,
     "metadata": {},
     "output_type": "execute_result"
    }
   ],
   "source": [
    "# Test simulate_data\n",
    "sim_df = model.simulate_dataset(N=1000)\n",
    "sim_df.head()"
   ]
  },
  {
   "cell_type": "code",
   "execution_count": null,
   "metadata": {},
   "outputs": [],
   "source": []
  }
 ],
 "metadata": {
  "kernelspec": {
   "display_name": "Python 3",
   "language": "python",
   "name": "python3"
  },
  "language_info": {
   "codemirror_mode": {
    "name": "ipython",
    "version": 3
   },
   "file_extension": ".py",
   "mimetype": "text/x-python",
   "name": "python",
   "nbconvert_exporter": "python",
   "pygments_lexer": "ipython3",
   "version": "3.7.4"
  }
 },
 "nbformat": 4,
 "nbformat_minor": 2
}
