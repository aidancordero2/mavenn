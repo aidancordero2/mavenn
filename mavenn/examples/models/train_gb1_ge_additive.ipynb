{
 "cells": [
  {
   "cell_type": "code",
   "execution_count": 1,
   "metadata": {},
   "outputs": [
    {
     "name": "stdout",
     "output_type": "stream",
     "text": [
      "['/Users/jkinney/github/mavenn/mavenn']\n"
     ]
    }
   ],
   "source": [
    "# Standard imports\n",
    "import pandas as pd\n",
    "import matplotlib.pyplot as plt\n",
    "import numpy as np\n",
    "\n",
    "# Insert path to mavenn beginning of path\n",
    "import os\n",
    "import sys\n",
    "abs_path_to_mavenn = os.path.abspath('../../../')\n",
    "sys.path.insert(0, abs_path_to_mavenn)\n",
    "\n",
    "# Load mavenn\n",
    "import mavenn\n",
    "print(mavenn.__path__)"
   ]
  },
  {
   "cell_type": "code",
   "execution_count": 2,
   "metadata": {},
   "outputs": [
    {
     "data": {
      "text/html": [
       "<div>\n",
       "<style scoped>\n",
       "    .dataframe tbody tr th:only-of-type {\n",
       "        vertical-align: middle;\n",
       "    }\n",
       "\n",
       "    .dataframe tbody tr th {\n",
       "        vertical-align: top;\n",
       "    }\n",
       "\n",
       "    .dataframe thead th {\n",
       "        text-align: right;\n",
       "    }\n",
       "</style>\n",
       "<table border=\"1\" class=\"dataframe\">\n",
       "  <thead>\n",
       "    <tr style=\"text-align: right;\">\n",
       "      <th></th>\n",
       "      <th>input_ct</th>\n",
       "      <th>selected_ct</th>\n",
       "      <th>hamming_dist</th>\n",
       "      <th>training_set</th>\n",
       "      <th>y</th>\n",
       "      <th>dy</th>\n",
       "      <th>x</th>\n",
       "    </tr>\n",
       "  </thead>\n",
       "  <tbody>\n",
       "    <tr>\n",
       "      <th>0</th>\n",
       "      <td>1759616.0</td>\n",
       "      <td>3041819.0</td>\n",
       "      <td>0</td>\n",
       "      <td>True</td>\n",
       "      <td>0.000000</td>\n",
       "      <td>0.001366</td>\n",
       "      <td>QYKLILNGKTLKGETTTEAVDAATAEKVFKQYANDNGVDGEWTYDD...</td>\n",
       "    </tr>\n",
       "    <tr>\n",
       "      <th>1</th>\n",
       "      <td>14663.0</td>\n",
       "      <td>38476.0</td>\n",
       "      <td>1</td>\n",
       "      <td>True</td>\n",
       "      <td>0.602044</td>\n",
       "      <td>0.014001</td>\n",
       "      <td>AYKLILNGKTLKGETTTEAVDAATAEKVFKQYANDNGVDGEWTYDD...</td>\n",
       "    </tr>\n",
       "    <tr>\n",
       "      <th>2</th>\n",
       "      <td>13001.0</td>\n",
       "      <td>23023.0</td>\n",
       "      <td>1</td>\n",
       "      <td>True</td>\n",
       "      <td>0.034732</td>\n",
       "      <td>0.015827</td>\n",
       "      <td>CYKLILNGKTLKGETTTEAVDAATAEKVFKQYANDNGVDGEWTYDD...</td>\n",
       "    </tr>\n",
       "    <tr>\n",
       "      <th>3</th>\n",
       "      <td>11488.0</td>\n",
       "      <td>18085.0</td>\n",
       "      <td>1</td>\n",
       "      <td>True</td>\n",
       "      <td>-0.135053</td>\n",
       "      <td>0.017212</td>\n",
       "      <td>DYKLILNGKTLKGETTTEAVDAATAEKVFKQYANDNGVDGEWTYDD...</td>\n",
       "    </tr>\n",
       "    <tr>\n",
       "      <th>4</th>\n",
       "      <td>9501.0</td>\n",
       "      <td>15629.0</td>\n",
       "      <td>1</td>\n",
       "      <td>True</td>\n",
       "      <td>-0.071659</td>\n",
       "      <td>0.018767</td>\n",
       "      <td>EYKLILNGKTLKGETTTEAVDAATAEKVFKQYANDNGVDGEWTYDD...</td>\n",
       "    </tr>\n",
       "  </tbody>\n",
       "</table>\n",
       "</div>"
      ],
      "text/plain": [
       "    input_ct  selected_ct  hamming_dist  training_set         y        dy  \\\n",
       "0  1759616.0    3041819.0             0          True  0.000000  0.001366   \n",
       "1    14663.0      38476.0             1          True  0.602044  0.014001   \n",
       "2    13001.0      23023.0             1          True  0.034732  0.015827   \n",
       "3    11488.0      18085.0             1          True -0.135053  0.017212   \n",
       "4     9501.0      15629.0             1          True -0.071659  0.018767   \n",
       "\n",
       "                                                   x  \n",
       "0  QYKLILNGKTLKGETTTEAVDAATAEKVFKQYANDNGVDGEWTYDD...  \n",
       "1  AYKLILNGKTLKGETTTEAVDAATAEKVFKQYANDNGVDGEWTYDD...  \n",
       "2  CYKLILNGKTLKGETTTEAVDAATAEKVFKQYANDNGVDGEWTYDD...  \n",
       "3  DYKLILNGKTLKGETTTEAVDAATAEKVFKQYANDNGVDGEWTYDD...  \n",
       "4  EYKLILNGKTLKGETTTEAVDAATAEKVFKQYANDNGVDGEWTYDD...  "
      ]
     },
     "execution_count": 2,
     "metadata": {},
     "output_type": "execute_result"
    }
   ],
   "source": [
    "# Load example data\n",
    "data_df = mavenn.load_example_dataset('gb1')\n",
    "data_df.head()"
   ]
  },
  {
   "cell_type": "code",
   "execution_count": 3,
   "metadata": {},
   "outputs": [
    {
     "name": "stdout",
     "output_type": "stream",
     "text": [
      "training N: 429,674\n",
      "testing N: 107,289\n"
     ]
    }
   ],
   "source": [
    "# Split into trianing and test data\n",
    "ix = data_df['training_set']\n",
    "L = len(data_df['x'][0])\n",
    "train_df = data_df[ix]\n",
    "print(f'training N: {len(train_df):,}')\n",
    "test_df = data_df[~ix]\n",
    "print(f'testing N: {len(test_df):,}')"
   ]
  },
  {
   "cell_type": "code",
   "execution_count": 4,
   "metadata": {},
   "outputs": [],
   "source": [
    "# Set seeed\n",
    "mavenn.set_seed(0)\n",
    "\n",
    "# Define model\n",
    "model = mavenn.Model(regression_type='GE',\n",
    "                     L=L,\n",
    "                     alphabet='protein',\n",
    "                     gpmap_type='additive',                     \n",
    "                     ge_noise_model_type='SkewedT',\n",
    "                     ge_heteroskedasticity_order=2)"
   ]
  },
  {
   "cell_type": "code",
   "execution_count": 5,
   "metadata": {},
   "outputs": [
    {
     "name": "stdout",
     "output_type": "stream",
     "text": [
      "N = 429,674 observations set as training data.\n",
      "Data shuffled.\n",
      "Time to set data: 11.5 sec.\n"
     ]
    }
   ],
   "source": [
    "# Set training data\n",
    "model.set_data(x=train_df['x'],\n",
    "               y=train_df['y'])"
   ]
  },
  {
   "cell_type": "code",
   "execution_count": 6,
   "metadata": {},
   "outputs": [
    {
     "name": "stdout",
     "output_type": "stream",
     "text": [
      " \n",
      "LSMR            Least-squares solution of  Ax = b\n",
      "\n",
      "The matrix A has   429674 rows  and     1100 cols\n",
      "damp = 0.00000000000000e+00\n",
      "\n",
      "atol = 1.00e-06                 conlim = 1.00e+08\n",
      "\n",
      "btol = 1.00e-06             maxiter =     1100\n",
      "\n",
      " \n",
      "   itn      x(1)       norm r    norm Ar  compatible   LS      norm A   cond A\n",
      "     0  0.00000e+00  6.555e+02  6.819e+04   1.0e+00  1.6e-01\n",
      "     1  1.35584e-02  4.784e+02  5.099e+04   7.3e-01  8.4e-01  1.3e+02  1.0e+00\n",
      "     2  3.03543e-02  3.705e+02  8.062e+03   5.7e-01  4.7e-03  4.7e+03  1.6e+01\n",
      "     3  5.05346e-02  2.596e+02  4.464e+03   4.0e-01  3.7e-03  4.7e+03  1.1e+02\n",
      "     4  6.00529e-02  2.415e+02  1.645e+02   3.7e-01  1.5e-04  4.7e+03  9.0e+01\n",
      "     5  6.00044e-02  2.415e+02  1.627e+02   3.7e-01  1.4e-04  4.7e+03  9.0e+01\n",
      "     6  5.96612e-02  2.415e+02  1.486e+02   3.7e-01  9.5e-05  6.5e+03  9.0e+01\n",
      "     7  5.60233e-02  2.415e+02  1.438e+01   3.7e-01  9.0e-06  6.6e+03  9.0e+01\n",
      "     8  5.59991e-02  2.415e+02  1.375e+01   3.7e-01  8.6e-06  6.6e+03  9.0e+01\n",
      "     9  5.56915e-02  2.415e+02  1.338e+01   3.7e-01  8.4e-06  6.6e+03  4.2e+02\n",
      "    10  5.56145e-02  2.415e+02  1.329e+01   3.7e-01  7.9e-06  7.0e+03  9.6e+01\n",
      "    17 -4.18006e-01  2.410e+02  1.008e+00   3.7e-01  4.5e-07  9.4e+03  7.4e+02\n",
      " \n",
      "LSMR finished\n",
      "The least-squares solution is good enough, given atol     \n",
      "istop =       2    normr = 2.4e+02\n",
      "    normA = 9.4e+03    normAr = 1.0e+00\n",
      "itn   =      17    condA = 7.4e+02\n",
      "    normx = 1.9e+01\n",
      "    17 -4.18006e-01   2.410e+02  1.008e+00\n",
      "   3.7e-01  4.5e-07   9.4e+03  7.4e+02\n",
      "Linear regression time: 8.9552 sec\n",
      "Epoch 1/1000\n",
      "344/344 [==============================] - 3s 10ms/step - loss: 123.9003 - I_like: 1.6132 - val_loss: -128.2618 - val_I_like: 1.9753\n",
      "Epoch 2/1000\n",
      "344/344 [==============================] - 3s 8ms/step - loss: -175.8611 - I_like: 2.0430 - val_loss: -212.5226 - val_I_like: 2.0954\n",
      "Epoch 3/1000\n",
      "344/344 [==============================] - 3s 8ms/step - loss: -207.8699 - I_like: 2.0880 - val_loss: -211.8965 - val_I_like: 2.0934\n",
      "Epoch 4/1000\n",
      "344/344 [==============================] - 4s 11ms/step - loss: -204.5106 - I_like: 2.0823 - val_loss: -194.7093 - val_I_like: 2.0679\n",
      "Epoch 5/1000\n",
      "344/344 [==============================] - 3s 10ms/step - loss: -210.1875 - I_like: 2.0895 - val_loss: -216.1073 - val_I_like: 2.0980\n",
      "Epoch 6/1000\n",
      "344/344 [==============================] - 3s 8ms/step - loss: -204.5719 - I_like: 2.0806 - val_loss: -223.2213 - val_I_like: 2.1074\n",
      "Epoch 7/1000\n",
      "344/344 [==============================] - 3s 10ms/step - loss: -214.8228 - I_like: 2.0945 - val_loss: -226.5260 - val_I_like: 2.1110\n",
      "Epoch 8/1000\n",
      "344/344 [==============================] - 3s 10ms/step - loss: -213.1277 - I_like: 2.0909 - val_loss: -176.4238 - val_I_like: 2.0377\n",
      "Epoch 9/1000\n",
      "344/344 [==============================] - 4s 11ms/step - loss: -210.7190 - I_like: 2.0867 - val_loss: -211.4822 - val_I_like: 2.0877\n",
      "Epoch 10/1000\n",
      "344/344 [==============================] - 3s 10ms/step - loss: -209.0657 - I_like: 2.0837 - val_loss: -124.5119 - val_I_like: 1.9615\n",
      "Epoch 11/1000\n",
      "344/344 [==============================] - 4s 10ms/step - loss: -217.7003 - I_like: 2.0954 - val_loss: -189.1173 - val_I_like: 2.0539\n",
      "Epoch 12/1000\n",
      "344/344 [==============================] - 3s 10ms/step - loss: -214.5260 - I_like: 2.0900 - val_loss: -225.3672 - val_I_like: 2.1056\n",
      "Epoch 13/1000\n",
      "344/344 [==============================] - 4s 10ms/step - loss: -215.7774 - I_like: 2.0912 - val_loss: -225.6656 - val_I_like: 2.1053\n",
      "Epoch 14/1000\n",
      "344/344 [==============================] - 4s 11ms/step - loss: -216.3709 - I_like: 2.0913 - val_loss: -226.5877 - val_I_like: 2.1060\n",
      "Epoch 15/1000\n",
      "344/344 [==============================] - 4s 11ms/step - loss: -217.2966 - I_like: 2.0918 - val_loss: -226.7661 - val_I_like: 2.1054\n",
      "Epoch 16/1000\n",
      "344/344 [==============================] - 4s 12ms/step - loss: -216.5901 - I_like: 2.0905 - val_loss: -216.1400 - val_I_like: 2.0897\n",
      "Epoch 17/1000\n",
      "344/344 [==============================] - 5s 13ms/step - loss: -216.0653 - I_like: 2.0890 - val_loss: -133.8679 - val_I_like: 1.9704\n",
      "Epoch 18/1000\n",
      "344/344 [==============================] - 5s 15ms/step - loss: -213.8643 - I_like: 2.0854 - val_loss: -215.2889 - val_I_like: 2.0877\n",
      "Epoch 19/1000\n",
      "344/344 [==============================] - 5s 14ms/step - loss: -220.3946 - I_like: 2.0946 - val_loss: -213.1018 - val_I_like: 2.0838\n",
      "Epoch 20/1000\n",
      "344/344 [==============================] - 5s 15ms/step - loss: -219.1612 - I_like: 2.0921 - val_loss: -220.7724 - val_I_like: 2.0944\n",
      "Epoch 21/1000\n",
      "344/344 [==============================] - 5s 14ms/step - loss: -215.4971 - I_like: 2.0866 - val_loss: -229.7030 - val_I_like: 2.1070\n",
      "Epoch 22/1000\n",
      "344/344 [==============================] - 5s 14ms/step - loss: -219.8017 - I_like: 2.0924 - val_loss: -228.5819 - val_I_like: 2.1050\n",
      "Epoch 23/1000\n",
      "344/344 [==============================] - 5s 14ms/step - loss: -223.7371 - I_like: 2.0975 - val_loss: -228.7878 - val_I_like: 2.1046\n",
      "Epoch 24/1000\n",
      "344/344 [==============================] - 5s 14ms/step - loss: -218.9661 - I_like: 2.0904 - val_loss: -227.5763 - val_I_like: 2.1026\n",
      "Epoch 25/1000\n",
      "344/344 [==============================] - 5s 15ms/step - loss: -216.3760 - I_like: 2.0862 - val_loss: -190.4979 - val_I_like: 2.0488\n",
      "Epoch 26/1000\n",
      "344/344 [==============================] - 5s 14ms/step - loss: -221.0350 - I_like: 2.0925 - val_loss: -215.0645 - val_I_like: 2.0839\n",
      "Epoch 27/1000\n",
      "344/344 [==============================] - 5s 14ms/step - loss: -222.3071 - I_like: 2.0940 - val_loss: -230.6171 - val_I_like: 2.1061\n",
      "Epoch 28/1000\n",
      "344/344 [==============================] - 4s 13ms/step - loss: -220.7011 - I_like: 2.0914 - val_loss: -230.8951 - val_I_like: 2.1061\n",
      "Epoch 29/1000\n",
      "344/344 [==============================] - 4s 13ms/step - loss: -220.3406 - I_like: 2.0905 - val_loss: -197.0419 - val_I_like: 2.0570\n",
      "Epoch 30/1000\n",
      "344/344 [==============================] - 4s 12ms/step - loss: -217.6782 - I_like: 2.0867 - val_loss: -219.3434 - val_I_like: 2.0890\n",
      "Epoch 31/1000\n",
      "344/344 [==============================] - 4s 12ms/step - loss: -221.9159 - I_like: 2.0924 - val_loss: -220.3056 - val_I_like: 2.0902\n",
      "Epoch 32/1000\n",
      "344/344 [==============================] - 4s 12ms/step - loss: -220.9254 - I_like: 2.0906 - val_loss: -224.5391 - val_I_like: 2.0958\n",
      "Epoch 33/1000\n",
      "344/344 [==============================] - 4s 11ms/step - loss: -223.3140 - I_like: 2.0940 - val_loss: -228.3878 - val_I_like: 2.1011\n",
      "Epoch 34/1000\n",
      "344/344 [==============================] - 4s 11ms/step - loss: -223.2641 - I_like: 2.0935 - val_loss: -226.2547 - val_I_like: 2.0978\n",
      "Epoch 35/1000\n",
      "344/344 [==============================] - 3s 10ms/step - loss: -219.5360 - I_like: 2.0877 - val_loss: -227.3826 - val_I_like: 2.0991\n",
      "Epoch 36/1000\n",
      "344/344 [==============================] - 4s 10ms/step - loss: -219.2186 - I_like: 2.0871 - val_loss: -229.6164 - val_I_like: 2.1024\n",
      "Epoch 37/1000\n",
      "344/344 [==============================] - 3s 10ms/step - loss: -221.4107 - I_like: 2.0903 - val_loss: -229.3896 - val_I_like: 2.1017\n",
      "Epoch 38/1000\n",
      "344/344 [==============================] - 3s 9ms/step - loss: -218.0453 - I_like: 2.0850 - val_loss: -231.7548 - val_I_like: 2.1053\n",
      "Epoch 39/1000\n",
      "344/344 [==============================] - 3s 9ms/step - loss: -222.9453 - I_like: 2.0923 - val_loss: -231.9329 - val_I_like: 2.1052\n",
      "Epoch 40/1000\n",
      "344/344 [==============================] - 3s 9ms/step - loss: -222.8861 - I_like: 2.0918 - val_loss: -167.6103 - val_I_like: 2.0120\n",
      "Epoch 41/1000\n",
      "344/344 [==============================] - 3s 9ms/step - loss: -225.7955 - I_like: 2.0959 - val_loss: -231.3782 - val_I_like: 2.1039\n",
      "Epoch 42/1000\n",
      "344/344 [==============================] - 3s 9ms/step - loss: -222.0366 - I_like: 2.0901 - val_loss: -233.9355 - val_I_like: 2.1074\n",
      "Epoch 43/1000\n",
      "344/344 [==============================] - 3s 9ms/step - loss: -227.0658 - I_like: 2.0971 - val_loss: -219.6647 - val_I_like: 2.0865\n",
      "Epoch 44/1000\n",
      "344/344 [==============================] - 3s 9ms/step - loss: -223.5739 - I_like: 2.0918 - val_loss: -195.1985 - val_I_like: 2.0510\n",
      "Epoch 45/1000\n",
      "344/344 [==============================] - 3s 9ms/step - loss: -224.1045 - I_like: 2.0927 - val_loss: -220.3785 - val_I_like: 2.0872\n"
     ]
    },
    {
     "name": "stdout",
     "output_type": "stream",
     "text": [
      "Epoch 46/1000\n",
      "344/344 [==============================] - 3s 9ms/step - loss: -221.2257 - I_like: 2.0882 - val_loss: -187.0008 - val_I_like: 2.0390\n",
      "Epoch 47/1000\n",
      "344/344 [==============================] - 3s 8ms/step - loss: -224.8865 - I_like: 2.0934 - val_loss: -232.6333 - val_I_like: 2.1047\n",
      "Epoch 48/1000\n",
      "344/344 [==============================] - 3s 9ms/step - loss: -220.3581 - I_like: 2.0868 - val_loss: -228.0400 - val_I_like: 2.0979\n",
      "Epoch 49/1000\n",
      "344/344 [==============================] - 3s 8ms/step - loss: -224.9357 - I_like: 2.0933 - val_loss: -233.4175 - val_I_like: 2.1056\n",
      "Epoch 50/1000\n",
      "344/344 [==============================] - 3s 8ms/step - loss: -225.4482 - I_like: 2.0938 - val_loss: -161.1534 - val_I_like: 2.0010\n",
      "Epoch 51/1000\n",
      "344/344 [==============================] - 3s 9ms/step - loss: -222.6492 - I_like: 2.0898 - val_loss: -215.2641 - val_I_like: 2.0794\n",
      "Epoch 52/1000\n",
      "344/344 [==============================] - 3s 10ms/step - loss: -227.4593 - I_like: 2.0965 - val_loss: -217.1291 - val_I_like: 2.0818\n",
      "Training time: 212.2 seconds\n"
     ]
    }
   ],
   "source": [
    "# Fit model to data\n",
    "history = model.fit(learning_rate=.005,\n",
    "                    epochs=1000,\n",
    "                    batch_size=1000,\n",
    "                    early_stopping=True,\n",
    "                    early_stopping_patience=10)"
   ]
  },
  {
   "cell_type": "code",
   "execution_count": 7,
   "metadata": {},
   "outputs": [
    {
     "name": "stdout",
     "output_type": "stream",
     "text": [
      "Model saved to these files:\n",
      "\tgb1_ge_additive.pickle\n",
      "\tgb1_ge_additive.h5\n"
     ]
    }
   ],
   "source": [
    "# Save model\n",
    "model.save('gb1_ge_additive')"
   ]
  },
  {
   "cell_type": "code",
   "execution_count": 8,
   "metadata": {},
   "outputs": [
    {
     "name": "stdout",
     "output_type": "stream",
     "text": [
      "Model loaded from these files:\n",
      "\tgb1_ge_additive.pickle\n",
      "\tgb1_ge_additive.h5\n"
     ]
    }
   ],
   "source": [
    "# Load model\n",
    "model = mavenn.load('gb1_ge_additive')"
   ]
  },
  {
   "cell_type": "code",
   "execution_count": 9,
   "metadata": {},
   "outputs": [],
   "source": [
    "# Subsample indices for easy plotting and information estimation\n",
    "N_test = len(test_df)\n",
    "ix = np.random.rand(N_test) < .1\n",
    "\n",
    "# Get x and y\n",
    "x = test_df['x'].values[ix]\n",
    "y = test_df['y'].values[ix]"
   ]
  },
  {
   "cell_type": "code",
   "execution_count": 10,
   "metadata": {},
   "outputs": [
    {
     "name": "stdout",
     "output_type": "stream",
     "text": [
      "On test data:\n",
      "I_like_test: 2.101 +- 0.018 bits\n",
      "I_pred_test: 2.196 +- 0.011 bits\n"
     ]
    },
    {
     "data": {
      "image/png": "[encoded data removed]",
      "text/plain": [
       "<Figure size 288x288 with 1 Axes>"
      ]
     },
     "metadata": {
      "needs_background": "light"
     },
     "output_type": "display_data"
    }
   ],
   "source": [
    "# Show training history\n",
    "print('On test data:')\n",
    "\n",
    "# Compute likelihood information\n",
    "I_like, dI_like =  model.I_likelihood(x=x, y=y)\n",
    "print(f'I_like_test: {I_like:.3f} +- {dI_like:.3f} bits') \n",
    "\n",
    "# Compute predictive information\n",
    "I_pred, dI_pred = model.I_predictive(x=x, y=y)\n",
    "print(f'I_pred_test: {I_pred:.3f} +- {dI_pred:.3f} bits')\n",
    "\n",
    "I_like_hist = model.history['I_like']\n",
    "val_I_like_hist = model.history['val_I_like']\n",
    "\n",
    "fig, ax = plt.subplots(1,1,figsize=[4,4])\n",
    "ax.plot(I_like_hist, label='I_like_train')\n",
    "ax.plot(val_I_like_hist, label='I_like_val')\n",
    "ax.axhline(I_like, color='C2', linestyle=':', label='I_like_test')\n",
    "ax.axhline(I_pred, color='C3', linestyle=':', label='I_pred_test')\n",
    "ax.legend()\n",
    "ax.set_xlabel('epochs')\n",
    "ax.set_ylabel('bits')\n",
    "ax.set_title('training hisotry')\n",
    "ax.set_ylim([0, I_pred*1.2]);"
   ]
  },
  {
   "cell_type": "code",
   "execution_count": 11,
   "metadata": {},
   "outputs": [
    {
     "data": {
      "image/png": "[encoded data removed]",
      "text/plain": [
       "<Figure size 288x288 with 1 Axes>"
      ]
     },
     "metadata": {
      "needs_background": "light"
     },
     "output_type": "display_data"
    }
   ],
   "source": [
    "# Compute phi and yhat values\n",
    "phi = model.x_to_phi(x)\n",
    "yhat = model.phi_to_yhat(phi)\n",
    "\n",
    "# Create grid for plotting yhat and yqs\n",
    "phi_lim = [-5, 2.5]\n",
    "phi_grid = np.linspace(phi_lim[0], phi_lim[1], 1000)\n",
    "yhat_grid = model.phi_to_yhat(phi_grid)\n",
    "yqs_grid = model.yhat_to_yq(yhat_grid, q=[.16,.84])\n",
    "\n",
    "# Create two panels\n",
    "fig, ax = plt.subplots(1, 1, figsize=[4, 4])\n",
    "\n",
    "# Illustrate measurement process with GE curve\n",
    "ax.scatter(phi, y, color='C0', s=5, alpha=.2, label='test data')\n",
    "ax.plot(phi_grid, yhat_grid, linewidth=2, color='C1',\n",
    "        label='$\\hat{y} = g(\\phi)$')\n",
    "ax.plot(phi_grid, yqs_grid[:, 0], linestyle='--', color='C1',\n",
    "        label='68% CI')\n",
    "ax.plot(phi_grid, yqs_grid[:, 1], linestyle='--', color='C1')\n",
    "ax.set_xlim(phi_lim)\n",
    "ax.set_xlabel('latent phenotype ($\\phi$)')\n",
    "ax.set_ylabel('measurement ($y$)')\n",
    "ax.set_title('measurement process')\n",
    "ax.legend()\n",
    "\n",
    "# Fix up plot\n",
    "fig.tight_layout()\n",
    "plt.show()"
   ]
  },
  {
   "cell_type": "code",
   "execution_count": 12,
   "metadata": {},
   "outputs": [
    {
     "data": {
      "image/png": "[encoded data removed]",
      "text/plain": [
       "<Figure size 720x360 with 2 Axes>"
      ]
     },
     "metadata": {
      "needs_background": "light"
     },
     "output_type": "display_data"
    }
   ],
   "source": [
    "# Set wild-type sequence\n",
    "gb1_seq = model.x_stats['consensus_seq']\n",
    "\n",
    "# Get effects of all single-point mutations on phi\n",
    "theta_dict = model.get_theta(gauge='user',\n",
    "                             x_wt=gb1_seq)\n",
    "\n",
    "# Create two panels\n",
    "fig, ax = plt.subplots(1, 1, figsize=[10, 5])\n",
    "\n",
    "# Left panel: draw heatmap illustrating 1pt mutation effects\n",
    "ax, cb = mavenn.heatmap(theta_dict['theta_lc'],\n",
    "                        alphabet=theta_dict['alphabet'],\n",
    "                        seq=gb1_seq,\n",
    "                        cmap='PiYG',\n",
    "                        ccenter=0,\n",
    "                        ax=ax)\n",
    "ax.set_xlabel('position ($l$)')\n",
    "ax.set_ylabel('amino acid ($c$)')\n",
    "cb.set_label('effect ($\\Delta\\phi$)', rotation=-90, va=\"bottom\")\n",
    "ax.set_title('mutation effects')\n",
    "\n",
    "# Fix up plot\n",
    "fig.tight_layout()\n",
    "plt.show()\n"
   ]
  },
  {
   "cell_type": "code",
   "execution_count": 13,
   "metadata": {},
   "outputs": [
    {
     "data": {
      "text/html": [
       "<div>\n",
       "<style scoped>\n",
       "    .dataframe tbody tr th:only-of-type {\n",
       "        vertical-align: middle;\n",
       "    }\n",
       "\n",
       "    .dataframe tbody tr th {\n",
       "        vertical-align: top;\n",
       "    }\n",
       "\n",
       "    .dataframe thead th {\n",
       "        text-align: right;\n",
       "    }\n",
       "</style>\n",
       "<table border=\"1\" class=\"dataframe\">\n",
       "  <thead>\n",
       "    <tr style=\"text-align: right;\">\n",
       "      <th></th>\n",
       "      <th>training_set</th>\n",
       "      <th>yhat</th>\n",
       "      <th>phi</th>\n",
       "      <th>y</th>\n",
       "      <th>x</th>\n",
       "    </tr>\n",
       "  </thead>\n",
       "  <tbody>\n",
       "    <tr>\n",
       "      <th>0</th>\n",
       "      <td>False</td>\n",
       "      <td>-6.462116</td>\n",
       "      <td>-0.589515</td>\n",
       "      <td>-7.490928</td>\n",
       "      <td>QYKLILNGKTLKGETTTEAVDAATAEQVFKYYANDNGVDGEWTYDD...</td>\n",
       "    </tr>\n",
       "    <tr>\n",
       "      <th>1</th>\n",
       "      <td>True</td>\n",
       "      <td>-7.922314</td>\n",
       "      <td>-1.916710</td>\n",
       "      <td>-8.002945</td>\n",
       "      <td>QYKLILNGKTLKGETTTEAVDAATAEKVFGQYANDNGVDGEWTYDD...</td>\n",
       "    </tr>\n",
       "    <tr>\n",
       "      <th>2</th>\n",
       "      <td>True</td>\n",
       "      <td>1.377022</td>\n",
       "      <td>1.420882</td>\n",
       "      <td>1.387250</td>\n",
       "      <td>GFKLILNGKTLKGETTTEAVDAATAEKVFKQYANDNGVDGEWTYND...</td>\n",
       "    </tr>\n",
       "    <tr>\n",
       "      <th>3</th>\n",
       "      <td>True</td>\n",
       "      <td>-5.806315</td>\n",
       "      <td>-0.373309</td>\n",
       "      <td>-6.160425</td>\n",
       "      <td>QYKLILNGKTLKGETTTEAVDAATAEKVFKKYANDNGDDGEWRYDD...</td>\n",
       "    </tr>\n",
       "    <tr>\n",
       "      <th>4</th>\n",
       "      <td>True</td>\n",
       "      <td>-1.412737</td>\n",
       "      <td>0.592849</td>\n",
       "      <td>-0.649293</td>\n",
       "      <td>QYKLILNGKTLKGETTTEAVDAATAEKVFKQYANDNGVQGEWTYDD...</td>\n",
       "    </tr>\n",
       "  </tbody>\n",
       "</table>\n",
       "</div>"
      ],
      "text/plain": [
       "   training_set      yhat       phi         y  \\\n",
       "0         False -6.462116 -0.589515 -7.490928   \n",
       "1          True -7.922314 -1.916710 -8.002945   \n",
       "2          True  1.377022  1.420882  1.387250   \n",
       "3          True -5.806315 -0.373309 -6.160425   \n",
       "4          True -1.412737  0.592849 -0.649293   \n",
       "\n",
       "                                                   x  \n",
       "0  QYKLILNGKTLKGETTTEAVDAATAEQVFKYYANDNGVDGEWTYDD...  \n",
       "1  QYKLILNGKTLKGETTTEAVDAATAEKVFGQYANDNGVDGEWTYDD...  \n",
       "2  GFKLILNGKTLKGETTTEAVDAATAEKVFKQYANDNGVDGEWTYND...  \n",
       "3  QYKLILNGKTLKGETTTEAVDAATAEKVFKKYANDNGDDGEWRYDD...  \n",
       "4  QYKLILNGKTLKGETTTEAVDAATAEKVFKQYANDNGVQGEWTYDD...  "
      ]
     },
     "execution_count": 13,
     "metadata": {},
     "output_type": "execute_result"
    }
   ],
   "source": [
    "# Test simulate_data\n",
    "sim_df = model.simulate_dataset(N=1000)\n",
    "sim_df.head()"
   ]
  },
  {
   "cell_type": "code",
   "execution_count": null,
   "metadata": {},
   "outputs": [],
   "source": []
  }
 ],
 "metadata": {
  "kernelspec": {
   "display_name": "Python 3",
   "language": "python",
   "name": "python3"
  },
  "language_info": {
   "codemirror_mode": {
    "name": "ipython",
    "version": 3
   },
   "file_extension": ".py",
   "mimetype": "text/x-python",
   "name": "python",
   "nbconvert_exporter": "python",
   "pygments_lexer": "ipython3",
   "version": "3.7.4"
  }
 },
 "nbformat": 4,
 "nbformat_minor": 2
}
