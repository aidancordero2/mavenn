{
 "cells": [
  {
   "cell_type": "code",
   "execution_count": 1,
   "metadata": {},
   "outputs": [
    {
     "name": "stdout",
     "output_type": "stream",
     "text": [
      "['/Users/jkinney/github/mavenn/mavenn']\n"
     ]
    }
   ],
   "source": [
    "# Standard imports\n",
    "import pandas as pd\n",
    "import matplotlib.pyplot as plt\n",
    "import numpy as np\n",
    "\n",
    "# Insert path to mavenn beginning of path\n",
    "import os\n",
    "import sys\n",
    "abs_path_to_mavenn = os.path.abspath('../../../')\n",
    "sys.path.insert(0, abs_path_to_mavenn)\n",
    "\n",
    "# Load mavenn\n",
    "import mavenn\n",
    "print(mavenn.__path__)"
   ]
  },
  {
   "cell_type": "code",
   "execution_count": 2,
   "metadata": {},
   "outputs": [
    {
     "name": "stdout",
     "output_type": "stream",
     "text": [
      "training N: 429,674\n"
     ]
    },
    {
     "data": {
      "text/html": [
       "<div>\n",
       "<style scoped>\n",
       "    .dataframe tbody tr th:only-of-type {\n",
       "        vertical-align: middle;\n",
       "    }\n",
       "\n",
       "    .dataframe tbody tr th {\n",
       "        vertical-align: top;\n",
       "    }\n",
       "\n",
       "    .dataframe thead th {\n",
       "        text-align: right;\n",
       "    }\n",
       "</style>\n",
       "<table border=\"1\" class=\"dataframe\">\n",
       "  <thead>\n",
       "    <tr style=\"text-align: right;\">\n",
       "      <th></th>\n",
       "      <th>input_ct</th>\n",
       "      <th>selected_ct</th>\n",
       "      <th>hamming_dist</th>\n",
       "      <th>training_set</th>\n",
       "      <th>y</th>\n",
       "      <th>dy</th>\n",
       "      <th>x</th>\n",
       "    </tr>\n",
       "  </thead>\n",
       "  <tbody>\n",
       "    <tr>\n",
       "      <td>0</td>\n",
       "      <td>1759616.0</td>\n",
       "      <td>3041819.0</td>\n",
       "      <td>0</td>\n",
       "      <td>True</td>\n",
       "      <td>0.000000</td>\n",
       "      <td>0.001366</td>\n",
       "      <td>QYKLILNGKTLKGETTTEAVDAATAEKVFKQYANDNGVDGEWTYDD...</td>\n",
       "    </tr>\n",
       "    <tr>\n",
       "      <td>1</td>\n",
       "      <td>14663.0</td>\n",
       "      <td>38476.0</td>\n",
       "      <td>1</td>\n",
       "      <td>True</td>\n",
       "      <td>0.602044</td>\n",
       "      <td>0.014001</td>\n",
       "      <td>AYKLILNGKTLKGETTTEAVDAATAEKVFKQYANDNGVDGEWTYDD...</td>\n",
       "    </tr>\n",
       "    <tr>\n",
       "      <td>2</td>\n",
       "      <td>13001.0</td>\n",
       "      <td>23023.0</td>\n",
       "      <td>1</td>\n",
       "      <td>True</td>\n",
       "      <td>0.034732</td>\n",
       "      <td>0.015827</td>\n",
       "      <td>CYKLILNGKTLKGETTTEAVDAATAEKVFKQYANDNGVDGEWTYDD...</td>\n",
       "    </tr>\n",
       "    <tr>\n",
       "      <td>3</td>\n",
       "      <td>11488.0</td>\n",
       "      <td>18085.0</td>\n",
       "      <td>1</td>\n",
       "      <td>True</td>\n",
       "      <td>-0.135053</td>\n",
       "      <td>0.017212</td>\n",
       "      <td>DYKLILNGKTLKGETTTEAVDAATAEKVFKQYANDNGVDGEWTYDD...</td>\n",
       "    </tr>\n",
       "    <tr>\n",
       "      <td>4</td>\n",
       "      <td>9501.0</td>\n",
       "      <td>15629.0</td>\n",
       "      <td>1</td>\n",
       "      <td>True</td>\n",
       "      <td>-0.071659</td>\n",
       "      <td>0.018767</td>\n",
       "      <td>EYKLILNGKTLKGETTTEAVDAATAEKVFKQYANDNGVDGEWTYDD...</td>\n",
       "    </tr>\n",
       "  </tbody>\n",
       "</table>\n",
       "</div>"
      ],
      "text/plain": [
       "    input_ct  selected_ct  hamming_dist  training_set         y        dy  \\\n",
       "0  1759616.0    3041819.0             0          True  0.000000  0.001366   \n",
       "1    14663.0      38476.0             1          True  0.602044  0.014001   \n",
       "2    13001.0      23023.0             1          True  0.034732  0.015827   \n",
       "3    11488.0      18085.0             1          True -0.135053  0.017212   \n",
       "4     9501.0      15629.0             1          True -0.071659  0.018767   \n",
       "\n",
       "                                                   x  \n",
       "0  QYKLILNGKTLKGETTTEAVDAATAEKVFKQYANDNGVDGEWTYDD...  \n",
       "1  AYKLILNGKTLKGETTTEAVDAATAEKVFKQYANDNGVDGEWTYDD...  \n",
       "2  CYKLILNGKTLKGETTTEAVDAATAEKVFKQYANDNGVDGEWTYDD...  \n",
       "3  DYKLILNGKTLKGETTTEAVDAATAEKVFKQYANDNGVDGEWTYDD...  \n",
       "4  EYKLILNGKTLKGETTTEAVDAATAEKVFKQYANDNGVDGEWTYDD...  "
      ]
     },
     "execution_count": 2,
     "metadata": {},
     "output_type": "execute_result"
    }
   ],
   "source": [
    "# Load example data\n",
    "data_df = mavenn.load_example(which='training_data',name='gb1')\n",
    "print(f'training N: {len(data_df):,}')\n",
    "data_df.head()"
   ]
  },
  {
   "cell_type": "code",
   "execution_count": 3,
   "metadata": {},
   "outputs": [
    {
     "name": "stdout",
     "output_type": "stream",
     "text": [
      " \n",
      "LSMR            Least-squares solution of  Ax = b\n",
      "\n",
      "The matrix A has   429674 rows  and     1100 cols\n",
      "damp = 0.00000000000000e+00\n",
      "\n",
      "atol = 1.00e-06                 conlim = 1.00e+08\n",
      "\n",
      "btol = 1.00e-06             maxiter =     1100\n",
      "\n",
      " \n",
      "   itn      x(1)       norm r    norm Ar  compatible   LS      norm A   cond A\n",
      "     0  0.00000e+00  6.555e+02  6.819e+04   1.0e+00  1.6e-01\n",
      "     1  1.35584e-02  4.784e+02  5.099e+04   7.3e-01  8.4e-01  1.3e+02  1.0e+00\n",
      "     2  3.03543e-02  3.705e+02  8.062e+03   5.7e-01  4.7e-03  4.7e+03  1.6e+01\n",
      "     3  5.05346e-02  2.596e+02  4.464e+03   4.0e-01  3.7e-03  4.7e+03  1.1e+02\n",
      "     4  6.00529e-02  2.415e+02  1.645e+02   3.7e-01  1.5e-04  4.7e+03  9.0e+01\n",
      "     5  5.97188e-02  2.415e+02  1.511e+02   3.7e-01  1.3e-04  4.7e+03  9.0e+01\n",
      "     6  5.96612e-02  2.415e+02  1.486e+02   3.7e-01  1.2e-04  5.1e+03  9.0e+01\n",
      "     7  5.60233e-02  2.415e+02  1.438e+01   3.7e-01  9.0e-06  6.6e+03  1.2e+02\n",
      "     8  5.59991e-02  2.415e+02  1.375e+01   3.7e-01  8.6e-06  6.6e+03  1.2e+02\n",
      "     9  5.56145e-02  2.415e+02  1.329e+01   3.7e-01  8.3e-06  6.6e+03  5.8e+02\n",
      "    10  5.56140e-02  2.415e+02  1.329e+01   3.7e-01  8.3e-06  6.6e+03  8.0e+02\n",
      "    17 -4.18006e-01  2.410e+02  1.008e+00   3.7e-01  4.5e-07  9.4e+03  5.1e+02\n",
      " \n",
      "LSMR finished\n",
      "The least-squares solution is good enough, given atol     \n",
      "istop =       2    normr = 2.4e+02\n",
      "    normA = 9.4e+03    normAr = 1.0e+00\n",
      "itn   =      17    condA = 5.1e+02\n",
      "    normx = 1.9e+01\n",
      "    17 -4.18006e-01   2.410e+02  1.008e+00\n",
      "   3.7e-01  4.5e-07   9.4e+03  5.1e+02\n",
      "Linear regression time: 8.8831 sec\n",
      "Epoch 1/1000\n",
      "6875/6875 [==============================] - 10s 1ms/step - loss: 17.0122 - val_loss: 7.7726\n",
      "Epoch 2/1000\n",
      "6875/6875 [==============================] - 9s 1ms/step - loss: 13.2922 - val_loss: 9.7596\n",
      "Epoch 3/1000\n",
      "6875/6875 [==============================] - 11s 2ms/step - loss: 13.0672 - val_loss: 5.2710\n",
      "Epoch 4/1000\n",
      "6875/6875 [==============================] - 10s 1ms/step - loss: 12.9079 - val_loss: 5.4480\n",
      "Epoch 5/1000\n",
      "6875/6875 [==============================] - 10s 1ms/step - loss: 12.7048 - val_loss: 7.2019\n",
      "Epoch 6/1000\n",
      "6875/6875 [==============================] - 10s 1ms/step - loss: 12.4440 - val_loss: 11.8942\n",
      "Epoch 7/1000\n",
      "6875/6875 [==============================] - 10s 1ms/step - loss: 12.3041 - val_loss: 9.7167\n",
      "Epoch 8/1000\n",
      "6875/6875 [==============================] - 11s 2ms/step - loss: 12.4562 - val_loss: 16.1181\n",
      "Epoch 9/1000\n",
      "6875/6875 [==============================] - 13s 2ms/step - loss: 12.2349 - val_loss: 4.6534\n",
      "Epoch 10/1000\n",
      "6875/6875 [==============================] - 13s 2ms/step - loss: 12.5482 - val_loss: 11.6025\n",
      "Epoch 11/1000\n",
      "6875/6875 [==============================] - 11s 2ms/step - loss: 12.6904 - val_loss: 7.2923\n",
      "Epoch 12/1000\n",
      "6875/6875 [==============================] - 10s 1ms/step - loss: 12.3738 - val_loss: 5.3642\n",
      "Epoch 13/1000\n",
      "6875/6875 [==============================] - 11s 2ms/step - loss: 12.3229 - val_loss: 6.3551\n",
      "Epoch 14/1000\n",
      "6875/6875 [==============================] - 11s 2ms/step - loss: 12.5917 - val_loss: 6.9566\n",
      "Epoch 15/1000\n",
      "6875/6875 [==============================] - 10s 2ms/step - loss: 12.4409 - val_loss: 3.3950\n",
      "Epoch 16/1000\n",
      "6875/6875 [==============================] - 10s 1ms/step - loss: 12.1678 - val_loss: 5.1279\n",
      "Epoch 17/1000\n",
      "6875/6875 [==============================] - 10s 2ms/step - loss: 12.3370 - val_loss: 4.5665\n",
      "Epoch 18/1000\n",
      "6875/6875 [==============================] - 10s 1ms/step - loss: 12.1153 - val_loss: 8.2544\n",
      "Epoch 19/1000\n",
      "6875/6875 [==============================] - 10s 2ms/step - loss: 12.2103 - val_loss: 4.2756\n",
      "Epoch 20/1000\n",
      "6875/6875 [==============================] - 11s 2ms/step - loss: 12.2353 - val_loss: 6.6053\n",
      "Epoch 21/1000\n",
      "6875/6875 [==============================] - 10s 1ms/step - loss: 12.6778 - val_loss: 5.1310\n",
      "Epoch 22/1000\n",
      "6875/6875 [==============================] - 10s 1ms/step - loss: 12.5139 - val_loss: 7.3323\n",
      "Epoch 23/1000\n",
      "6875/6875 [==============================] - 10s 1ms/step - loss: 12.3365 - val_loss: 5.4795\n",
      "Epoch 24/1000\n",
      "6875/6875 [==============================] - 10s 1ms/step - loss: 12.5308 - val_loss: 6.1936\n",
      "Epoch 25/1000\n",
      "6875/6875 [==============================] - 10s 1ms/step - loss: 12.3363 - val_loss: 4.3407\n",
      "training time: 279.9 seconds\n"
     ]
    }
   ],
   "source": [
    "# Set seeed\n",
    "mavenn.set_seed(0)\n",
    "\n",
    "# Define model\n",
    "model = mavenn.Model(x=data_df['x'],\n",
    "                     y=data_df['y'],\n",
    "                     alphabet='protein',\n",
    "                     gpmap_type='additive',\n",
    "                     regression_type='GE',\n",
    "                     ge_noise_model_type='Cauchy',\n",
    "                     ge_heteroskedasticity_order=2)\n",
    "\n",
    "# Fit model to data\n",
    "history = model.fit(learning_rate=.005,\n",
    "                    epochs=1000,\n",
    "                    early_stopping=True,\n",
    "                    early_stopping_patience=10)"
   ]
  },
  {
   "cell_type": "code",
   "execution_count": 4,
   "metadata": {},
   "outputs": [
    {
     "name": "stdout",
     "output_type": "stream",
     "text": [
      "Model saved to these files:\n",
      "\tgb1_ge_additive.pickle\n",
      "\tgb1_ge_additive.h5\n"
     ]
    }
   ],
   "source": [
    "# Save model\n",
    "model.save('gb1_ge_additive')"
   ]
  },
  {
   "cell_type": "code",
   "execution_count": 5,
   "metadata": {},
   "outputs": [
    {
     "name": "stdout",
     "output_type": "stream",
     "text": [
      "Model loaded from these files:\n",
      "\tgb1_ge_additive.pickle\n",
      "\tgb1_ge_additive.h5\n"
     ]
    }
   ],
   "source": [
    "# Load model\n",
    "model = mavenn.load('gb1_ge_additive')"
   ]
  },
  {
   "cell_type": "code",
   "execution_count": 6,
   "metadata": {},
   "outputs": [
    {
     "name": "stdout",
     "output_type": "stream",
     "text": [
      "test data N: 107,289\n"
     ]
    }
   ],
   "source": [
    "# Load test data\n",
    "test_df = mavenn.load_example(which='test_data',name='gb1')\n",
    "N_test = len(test_df)\n",
    "print(f'test data N: {N_test:,}')\n",
    "\n",
    "# Subsample indices for easy plotting\n",
    "ix = np.random.rand(N_test) < .1\n",
    "\n",
    "# Get x and y\n",
    "x = test_df['x'].values[ix]\n",
    "y = test_df['y'].values[ix]"
   ]
  },
  {
   "cell_type": "code",
   "execution_count": 7,
   "metadata": {},
   "outputs": [
    {
     "data": {
      "image/png": "[encoded data removed]",
      "text/plain": [
       "<Figure size 288x288 with 1 Axes>"
      ]
     },
     "metadata": {
      "needs_background": "light"
     },
     "output_type": "display_data"
    }
   ],
   "source": [
    "# Compute phi and yhat values\n",
    "phi = model.x_to_phi(x)\n",
    "yhat = model.phi_to_yhat(phi)\n",
    "\n",
    "# Create grid for plotting yhat and yqs\n",
    "phi_lim = [-5, 2.5]\n",
    "phi_grid = np.linspace(phi_lim[0], phi_lim[1], 1000)\n",
    "yhat_grid = model.phi_to_yhat(phi_grid)\n",
    "yqs_grid = model.yhat_to_yq(yhat_grid, q=[.16,.84])\n",
    "\n",
    "# Create two panels\n",
    "fig, ax = plt.subplots(1, 1, figsize=[4, 4])\n",
    "\n",
    "# Illustrate measurement process with GE curve\n",
    "ax.scatter(phi, y, color='C0', s=5, alpha=.2, label='test data')\n",
    "ax.plot(phi_grid, yhat_grid, linewidth=2, color='C1',\n",
    "        label='$\\hat{y} = g(\\phi)$')\n",
    "ax.plot(phi_grid, yqs_grid[:, 0], linestyle='--', color='C1',\n",
    "        label='68% CI')\n",
    "ax.plot(phi_grid, yqs_grid[:, 1], linestyle='--', color='C1')\n",
    "ax.set_xlim(phi_lim)\n",
    "ax.set_xlabel('latent phenotype ($\\phi$)')\n",
    "ax.set_ylabel('measurement ($y$)')\n",
    "ax.set_title('measurement process')\n",
    "ax.legend()\n",
    "\n",
    "# Fix up plot\n",
    "fig.tight_layout()\n",
    "plt.show()"
   ]
  },
  {
   "cell_type": "code",
   "execution_count": 8,
   "metadata": {},
   "outputs": [
    {
     "data": {
      "image/png": "[encoded data removed]",
      "text/plain": [
       "<Figure size 720x360 with 2 Axes>"
      ]
     },
     "metadata": {
      "needs_background": "light"
     },
     "output_type": "display_data"
    }
   ],
   "source": [
    "# Set wild-type sequence\n",
    "gb1_seq = mavenn.x_to_consensus(x)\n",
    "\n",
    "# Get effects of all single-point mutations on phi\n",
    "dphi_df = mavenn.get_1pt_effects(func=model.x_to_phi,\n",
    "                                 wt_seq=gb1_seq,\n",
    "                                 alphabet='protein')\n",
    "\n",
    "# Compute phi and yhat values\n",
    "phi = model.x_to_phi(x)\n",
    "yhat = model.phi_to_yhat(phi)\n",
    "\n",
    "# Create grid for plotting yhat and yqs\n",
    "phi_lim = [-5, 2.5]\n",
    "phi_grid = np.linspace(phi_lim[0], phi_lim[1], 1000)\n",
    "yhat_grid = model.phi_to_yhat(phi_grid)\n",
    "yqs_grid = model.yhat_to_yq(yhat_grid, q=[.16,.84])\n",
    "\n",
    "# Create two panels\n",
    "fig, ax = plt.subplots(1, 1, figsize=[10, 5])\n",
    "\n",
    "# Left panel: draw heatmap illustrating 1pt mutation effects\n",
    "ax, cb = mavenn.heatmap(dphi_df,\n",
    "                        c_col='c_mut',\n",
    "                        l_col='l',\n",
    "                        value_col='dphi',\n",
    "                        seq=gb1_seq,\n",
    "                        ccenter=0,\n",
    "                        missing_values=0,\n",
    "                        cmap='PiYG',\n",
    "                        ax=ax)\n",
    "ax.set_xlabel('position ($l$)')\n",
    "ax.set_ylabel('amino acid ($c$)')\n",
    "cb.set_label('effect ($\\Delta\\phi$)', rotation=-90, va=\"bottom\")\n",
    "ax.set_title('mutation effects')\n",
    "\n",
    "# Fix up plot\n",
    "fig.tight_layout()\n",
    "plt.show()\n"
   ]
  },
  {
   "cell_type": "code",
   "execution_count": null,
   "metadata": {},
   "outputs": [],
   "source": []
  }
 ],
 "metadata": {
  "kernelspec": {
   "display_name": "Python 3",
   "language": "python",
   "name": "python3"
  },
  "language_info": {
   "codemirror_mode": {
    "name": "ipython",
    "version": 3
   },
   "file_extension": ".py",
   "mimetype": "text/x-python",
   "name": "python",
   "nbconvert_exporter": "python",
   "pygments_lexer": "ipython3",
   "version": "3.7.4"
  }
 },
 "nbformat": 4,
 "nbformat_minor": 2
}
