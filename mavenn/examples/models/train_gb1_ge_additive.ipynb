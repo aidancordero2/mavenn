{
 "cells": [
  {
   "cell_type": "code",
   "execution_count": 1,
   "metadata": {},
   "outputs": [
    {
     "name": "stdout",
     "output_type": "stream",
     "text": [
      "['/Users/jkinney/github/mavenn/mavenn']\n"
     ]
    }
   ],
   "source": [
    "# Standard imports\n",
    "import pandas as pd\n",
    "import matplotlib.pyplot as plt\n",
    "import numpy as np\n",
    "\n",
    "# Insert path to mavenn beginning of path\n",
    "import os\n",
    "import sys\n",
    "abs_path_to_mavenn = os.path.abspath('../../../')\n",
    "sys.path.insert(0, abs_path_to_mavenn)\n",
    "\n",
    "# Load mavenn\n",
    "import mavenn\n",
    "print(mavenn.__path__)"
   ]
  },
  {
   "cell_type": "code",
   "execution_count": 2,
   "metadata": {},
   "outputs": [
    {
     "name": "stdout",
     "output_type": "stream",
     "text": [
      "training N: 429,674\n"
     ]
    },
    {
     "data": {
      "text/html": [
       "<div>\n",
       "<style scoped>\n",
       "    .dataframe tbody tr th:only-of-type {\n",
       "        vertical-align: middle;\n",
       "    }\n",
       "\n",
       "    .dataframe tbody tr th {\n",
       "        vertical-align: top;\n",
       "    }\n",
       "\n",
       "    .dataframe thead th {\n",
       "        text-align: right;\n",
       "    }\n",
       "</style>\n",
       "<table border=\"1\" class=\"dataframe\">\n",
       "  <thead>\n",
       "    <tr style=\"text-align: right;\">\n",
       "      <th></th>\n",
       "      <th>input_ct</th>\n",
       "      <th>selected_ct</th>\n",
       "      <th>hamming_dist</th>\n",
       "      <th>training_set</th>\n",
       "      <th>y</th>\n",
       "      <th>dy</th>\n",
       "      <th>x</th>\n",
       "    </tr>\n",
       "  </thead>\n",
       "  <tbody>\n",
       "    <tr>\n",
       "      <td>0</td>\n",
       "      <td>1759616.0</td>\n",
       "      <td>3041819.0</td>\n",
       "      <td>0</td>\n",
       "      <td>True</td>\n",
       "      <td>0.000000</td>\n",
       "      <td>0.001366</td>\n",
       "      <td>QYKLILNGKTLKGETTTEAVDAATAEKVFKQYANDNGVDGEWTYDD...</td>\n",
       "    </tr>\n",
       "    <tr>\n",
       "      <td>1</td>\n",
       "      <td>14663.0</td>\n",
       "      <td>38476.0</td>\n",
       "      <td>1</td>\n",
       "      <td>True</td>\n",
       "      <td>0.602044</td>\n",
       "      <td>0.014001</td>\n",
       "      <td>AYKLILNGKTLKGETTTEAVDAATAEKVFKQYANDNGVDGEWTYDD...</td>\n",
       "    </tr>\n",
       "    <tr>\n",
       "      <td>2</td>\n",
       "      <td>13001.0</td>\n",
       "      <td>23023.0</td>\n",
       "      <td>1</td>\n",
       "      <td>True</td>\n",
       "      <td>0.034732</td>\n",
       "      <td>0.015827</td>\n",
       "      <td>CYKLILNGKTLKGETTTEAVDAATAEKVFKQYANDNGVDGEWTYDD...</td>\n",
       "    </tr>\n",
       "    <tr>\n",
       "      <td>3</td>\n",
       "      <td>11488.0</td>\n",
       "      <td>18085.0</td>\n",
       "      <td>1</td>\n",
       "      <td>True</td>\n",
       "      <td>-0.135053</td>\n",
       "      <td>0.017212</td>\n",
       "      <td>DYKLILNGKTLKGETTTEAVDAATAEKVFKQYANDNGVDGEWTYDD...</td>\n",
       "    </tr>\n",
       "    <tr>\n",
       "      <td>4</td>\n",
       "      <td>9501.0</td>\n",
       "      <td>15629.0</td>\n",
       "      <td>1</td>\n",
       "      <td>True</td>\n",
       "      <td>-0.071659</td>\n",
       "      <td>0.018767</td>\n",
       "      <td>EYKLILNGKTLKGETTTEAVDAATAEKVFKQYANDNGVDGEWTYDD...</td>\n",
       "    </tr>\n",
       "  </tbody>\n",
       "</table>\n",
       "</div>"
      ],
      "text/plain": [
       "    input_ct  selected_ct  hamming_dist  training_set         y        dy  \\\n",
       "0  1759616.0    3041819.0             0          True  0.000000  0.001366   \n",
       "1    14663.0      38476.0             1          True  0.602044  0.014001   \n",
       "2    13001.0      23023.0             1          True  0.034732  0.015827   \n",
       "3    11488.0      18085.0             1          True -0.135053  0.017212   \n",
       "4     9501.0      15629.0             1          True -0.071659  0.018767   \n",
       "\n",
       "                                                   x  \n",
       "0  QYKLILNGKTLKGETTTEAVDAATAEKVFKQYANDNGVDGEWTYDD...  \n",
       "1  AYKLILNGKTLKGETTTEAVDAATAEKVFKQYANDNGVDGEWTYDD...  \n",
       "2  CYKLILNGKTLKGETTTEAVDAATAEKVFKQYANDNGVDGEWTYDD...  \n",
       "3  DYKLILNGKTLKGETTTEAVDAATAEKVFKQYANDNGVDGEWTYDD...  \n",
       "4  EYKLILNGKTLKGETTTEAVDAATAEKVFKQYANDNGVDGEWTYDD...  "
      ]
     },
     "execution_count": 2,
     "metadata": {},
     "output_type": "execute_result"
    }
   ],
   "source": [
    "# Load example data\n",
    "data_df = mavenn.load_example(which='training_data',name='gb1')\n",
    "print(f'training N: {len(data_df):,}')\n",
    "data_df.head()"
   ]
  },
  {
   "cell_type": "code",
   "execution_count": 3,
   "metadata": {},
   "outputs": [],
   "source": [
    "# Set seeed\n",
    "mavenn.set_seed(0)\n",
    "\n",
    "# Define model\n",
    "model = mavenn.Model(regression_type='GE',\n",
    "                     L=len(data_df['x'][0]),\n",
    "                     alphabet='protein',\n",
    "                     gpmap_type='additive',                     \n",
    "                     ge_noise_model_type='Cauchy',\n",
    "                     ge_heteroskedasticity_order=2)"
   ]
  },
  {
   "cell_type": "code",
   "execution_count": 4,
   "metadata": {},
   "outputs": [
    {
     "name": "stdout",
     "output_type": "stream",
     "text": [
      "N = 429,674 observations set as training data.\n",
      "Data shuffled.\n",
      "Time to set data: 8.93 sec.\n"
     ]
    }
   ],
   "source": [
    "# Set training data\n",
    "model.set_data(x=data_df['x'],\n",
    "               y=data_df['y'])"
   ]
  },
  {
   "cell_type": "code",
   "execution_count": 5,
   "metadata": {},
   "outputs": [
    {
     "name": "stdout",
     "output_type": "stream",
     "text": [
      " \n",
      "LSMR            Least-squares solution of  Ax = b\n",
      "\n",
      "The matrix A has   429674 rows  and     1100 cols\n",
      "damp = 0.00000000000000e+00\n",
      "\n",
      "atol = 1.00e-06                 conlim = 1.00e+08\n",
      "\n",
      "btol = 1.00e-06             maxiter =     1100\n",
      "\n",
      " \n",
      "   itn      x(1)       norm r    norm Ar  compatible   LS      norm A   cond A\n",
      "     0  0.00000e+00  6.555e+02  6.819e+04   1.0e+00  1.6e-01\n",
      "     1  1.35584e-02  4.784e+02  5.099e+04   7.3e-01  8.4e-01  1.3e+02  1.0e+00\n",
      "     2  3.03543e-02  3.705e+02  8.062e+03   5.7e-01  4.7e-03  4.7e+03  1.6e+01\n",
      "     3  5.05346e-02  2.596e+02  4.464e+03   4.0e-01  3.7e-03  4.7e+03  1.1e+02\n",
      "     4  6.00529e-02  2.415e+02  1.645e+02   3.7e-01  1.5e-04  4.7e+03  9.0e+01\n",
      "     5  6.00044e-02  2.415e+02  1.627e+02   3.7e-01  1.4e-04  4.7e+03  9.0e+01\n",
      "     6  5.96612e-02  2.415e+02  1.486e+02   3.7e-01  9.5e-05  6.5e+03  9.0e+01\n",
      "     7  5.60233e-02  2.415e+02  1.438e+01   3.7e-01  9.0e-06  6.6e+03  9.0e+01\n",
      "     8  5.59991e-02  2.415e+02  1.375e+01   3.7e-01  8.6e-06  6.6e+03  9.0e+01\n",
      "     9  5.56915e-02  2.415e+02  1.338e+01   3.7e-01  8.4e-06  6.6e+03  4.2e+02\n",
      "    10  5.56145e-02  2.415e+02  1.329e+01   3.7e-01  7.9e-06  7.0e+03  9.6e+01\n",
      "    17 -4.18006e-01  2.410e+02  1.008e+00   3.7e-01  4.5e-07  9.4e+03  7.4e+02\n",
      " \n",
      "LSMR finished\n",
      "The least-squares solution is good enough, given atol     \n",
      "istop =       2    normr = 2.4e+02\n",
      "    normA = 9.4e+03    normAr = 1.0e+00\n",
      "itn   =      17    condA = 7.4e+02\n",
      "    normx = 1.9e+01\n",
      "    17 -4.18006e-01   2.410e+02  1.008e+00\n",
      "   3.7e-01  4.5e-07   9.4e+03  7.4e+02\n",
      "Linear regression time: 8.8873 sec\n",
      "Epoch 1/1000\n",
      "35/35 [==============================] - 4s 114ms/step - loss: 11100.1729 - val_loss: 9108.0244\n",
      "Epoch 2/1000\n",
      "35/35 [==============================] - 4s 101ms/step - loss: 7856.5059 - val_loss: 6193.7407\n",
      "Epoch 3/1000\n",
      "35/35 [==============================] - 3s 94ms/step - loss: 5197.9380 - val_loss: 4166.8232\n",
      "Epoch 4/1000\n",
      "35/35 [==============================] - 3s 95ms/step - loss: 3436.5076 - val_loss: 2379.3140\n",
      "Epoch 5/1000\n",
      "35/35 [==============================] - 3s 92ms/step - loss: 1755.7026 - val_loss: 1012.8911\n",
      "Epoch 6/1000\n",
      "35/35 [==============================] - 3s 93ms/step - loss: 752.8455 - val_loss: 415.5591\n",
      "Epoch 7/1000\n",
      "35/35 [==============================] - 3s 92ms/step - loss: 611.3461 - val_loss: 162.0783\n",
      "Epoch 8/1000\n",
      "35/35 [==============================] - 3s 93ms/step - loss: -58.7117 - val_loss: 180.3044\n",
      "Epoch 9/1000\n",
      "35/35 [==============================] - 3s 92ms/step - loss: -240.0194 - val_loss: -300.7345\n",
      "Epoch 10/1000\n",
      "35/35 [==============================] - 3s 92ms/step - loss: -508.0152 - val_loss: 499.5168\n",
      "Epoch 11/1000\n",
      "35/35 [==============================] - 3s 95ms/step - loss: -421.5615 - val_loss: -581.6423\n",
      "Epoch 12/1000\n",
      "35/35 [==============================] - 3s 94ms/step - loss: -781.7806 - val_loss: -949.4235\n",
      "Epoch 13/1000\n",
      "35/35 [==============================] - 3s 97ms/step - loss: -977.6868 - val_loss: -208.2794\n",
      "Epoch 14/1000\n",
      "35/35 [==============================] - 3s 96ms/step - loss: -908.8096 - val_loss: -1147.1943\n",
      "Epoch 15/1000\n",
      "35/35 [==============================] - 3s 97ms/step - loss: -1120.0859 - val_loss: -89.4246\n",
      "Epoch 16/1000\n",
      "35/35 [==============================] - 3s 92ms/step - loss: -437.2773 - val_loss: -360.4226\n",
      "Epoch 17/1000\n",
      "35/35 [==============================] - 3s 95ms/step - loss: -990.0864 - val_loss: -1170.3596\n",
      "Epoch 18/1000\n",
      "35/35 [==============================] - 3s 95ms/step - loss: -1318.6064 - val_loss: -985.6174\n",
      "Epoch 19/1000\n",
      "35/35 [==============================] - 3s 92ms/step - loss: -1258.5436 - val_loss: -1406.6837\n",
      "Epoch 20/1000\n",
      "35/35 [==============================] - 3s 94ms/step - loss: -1399.4730 - val_loss: -1429.9830\n",
      "Epoch 21/1000\n",
      "35/35 [==============================] - 3s 93ms/step - loss: -1508.2010 - val_loss: -1358.9067\n",
      "Epoch 22/1000\n",
      "35/35 [==============================] - 3s 93ms/step - loss: -1451.3743 - val_loss: -1518.4629\n",
      "Epoch 23/1000\n",
      "35/35 [==============================] - 3s 94ms/step - loss: -1514.7609 - val_loss: -1516.8380\n",
      "Epoch 24/1000\n",
      "35/35 [==============================] - 3s 94ms/step - loss: -1596.8657 - val_loss: -1527.4253\n",
      "Epoch 25/1000\n",
      "35/35 [==============================] - 3s 93ms/step - loss: -1624.0565 - val_loss: -1565.4236\n",
      "Epoch 26/1000\n",
      "35/35 [==============================] - 3s 93ms/step - loss: -1548.3975 - val_loss: -1495.9288\n",
      "Epoch 27/1000\n",
      "35/35 [==============================] - 3s 95ms/step - loss: -1616.0743 - val_loss: -1489.5847\n",
      "Epoch 28/1000\n",
      "35/35 [==============================] - 3s 93ms/step - loss: -1655.5511 - val_loss: -1650.7216\n",
      "Epoch 29/1000\n",
      "35/35 [==============================] - 3s 93ms/step - loss: -1646.0316 - val_loss: -1216.0327\n",
      "Epoch 30/1000\n",
      "35/35 [==============================] - 3s 93ms/step - loss: -1395.1875 - val_loss: -1520.4861\n",
      "Epoch 31/1000\n",
      "35/35 [==============================] - 3s 95ms/step - loss: -1581.5175 - val_loss: -1614.7284\n",
      "Epoch 32/1000\n",
      "35/35 [==============================] - 3s 94ms/step - loss: -1727.4949 - val_loss: -1688.5885\n",
      "Epoch 33/1000\n",
      "35/35 [==============================] - 3s 94ms/step - loss: -1741.2513 - val_loss: -1679.4338\n",
      "Epoch 34/1000\n",
      "35/35 [==============================] - 3s 95ms/step - loss: -1715.7615 - val_loss: -1452.3745\n",
      "Epoch 35/1000\n",
      "35/35 [==============================] - 3s 94ms/step - loss: -1539.7999 - val_loss: -1683.2916\n",
      "Epoch 36/1000\n",
      "35/35 [==============================] - 3s 95ms/step - loss: -1728.4917 - val_loss: -1393.0688\n",
      "Epoch 37/1000\n",
      "35/35 [==============================] - 3s 93ms/step - loss: -1541.5608 - val_loss: -1718.8038\n",
      "Epoch 38/1000\n",
      "35/35 [==============================] - 3s 94ms/step - loss: -1739.8966 - val_loss: -1447.8331\n",
      "Epoch 39/1000\n",
      "35/35 [==============================] - 3s 90ms/step - loss: -1479.0187 - val_loss: -1727.1694\n",
      "Epoch 40/1000\n",
      "35/35 [==============================] - 3s 90ms/step - loss: -1768.7631 - val_loss: -1674.2109\n",
      "Epoch 41/1000\n",
      "35/35 [==============================] - 3s 90ms/step - loss: -1579.1060 - val_loss: -1201.3068\n",
      "Epoch 42/1000\n",
      "35/35 [==============================] - 3s 92ms/step - loss: -1623.8051 - val_loss: -1691.0426\n",
      "Epoch 43/1000\n",
      "35/35 [==============================] - 3s 92ms/step - loss: -1656.7096 - val_loss: -820.6720\n",
      "Epoch 44/1000\n",
      "35/35 [==============================] - 3s 94ms/step - loss: -1361.8108 - val_loss: -1215.8241\n",
      "Epoch 45/1000\n",
      "35/35 [==============================] - 3s 96ms/step - loss: -1491.1390 - val_loss: -1689.3522\n",
      "Epoch 46/1000\n",
      "35/35 [==============================] - 3s 93ms/step - loss: -1777.1758 - val_loss: -1730.6919\n",
      "Epoch 47/1000\n",
      "35/35 [==============================] - 3s 94ms/step - loss: -1769.2218 - val_loss: -1623.8843\n",
      "Epoch 48/1000\n",
      "35/35 [==============================] - 3s 95ms/step - loss: -1700.3956 - val_loss: -1743.2439\n",
      "Epoch 49/1000\n",
      "35/35 [==============================] - 3s 93ms/step - loss: -1763.8470 - val_loss: -1690.4242\n",
      "Epoch 50/1000\n",
      "35/35 [==============================] - 3s 91ms/step - loss: -1751.3785 - val_loss: -1487.5393\n",
      "Epoch 51/1000\n",
      "35/35 [==============================] - 3s 92ms/step - loss: -1632.2982 - val_loss: -1548.3800\n",
      "Epoch 52/1000\n",
      "35/35 [==============================] - 3s 95ms/step - loss: -1673.0886 - val_loss: -1496.3943\n",
      "Epoch 53/1000\n",
      "35/35 [==============================] - 3s 95ms/step - loss: -1613.0599 - val_loss: -1361.9768\n",
      "Epoch 54/1000\n",
      "35/35 [==============================] - 3s 94ms/step - loss: -1645.9626 - val_loss: -1499.8878\n",
      "Epoch 55/1000\n",
      "35/35 [==============================] - 3s 95ms/step - loss: -1635.1655 - val_loss: -1674.5991\n",
      "Epoch 56/1000\n",
      "35/35 [==============================] - 3s 93ms/step - loss: -1756.9420 - val_loss: -1747.9725\n",
      "Epoch 57/1000\n",
      "35/35 [==============================] - 3s 91ms/step - loss: -1776.5651 - val_loss: -1632.8401\n",
      "Epoch 58/1000\n",
      "35/35 [==============================] - 3s 92ms/step - loss: -1736.8162 - val_loss: -1723.3599\n",
      "Epoch 59/1000\n",
      "35/35 [==============================] - 3s 94ms/step - loss: -1768.6124 - val_loss: -1675.7499\n",
      "Epoch 60/1000\n",
      "35/35 [==============================] - 3s 93ms/step - loss: -1743.6785 - val_loss: -1711.3687\n",
      "Epoch 61/1000\n"
     ]
    },
    {
     "name": "stdout",
     "output_type": "stream",
     "text": [
      "35/35 [==============================] - 3s 89ms/step - loss: -1560.3480 - val_loss: -1440.4531\n",
      "Epoch 62/1000\n",
      "35/35 [==============================] - 3s 88ms/step - loss: -1682.5486 - val_loss: -1731.5549\n",
      "Epoch 63/1000\n",
      "35/35 [==============================] - 3s 90ms/step - loss: -1778.7555 - val_loss: -1739.4442\n",
      "Epoch 64/1000\n",
      "35/35 [==============================] - 3s 87ms/step - loss: -1767.1469 - val_loss: -1495.5806\n",
      "Epoch 65/1000\n",
      "35/35 [==============================] - 3s 89ms/step - loss: -1661.3282 - val_loss: -1745.3977\n",
      "Epoch 66/1000\n",
      "35/35 [==============================] - 3s 91ms/step - loss: -1767.7925 - val_loss: -1502.7252\n",
      "Training time: 236.6 seconds\n"
     ]
    }
   ],
   "source": [
    "# Fit model to data\n",
    "history = model.fit(learning_rate=.005,\n",
    "                    batch_size=10000,\n",
    "                    epochs=1000,\n",
    "                    early_stopping=True,\n",
    "                    early_stopping_patience=10)"
   ]
  },
  {
   "cell_type": "code",
   "execution_count": 6,
   "metadata": {},
   "outputs": [
    {
     "name": "stdout",
     "output_type": "stream",
     "text": [
      "Model saved to these files:\n",
      "\tgb1_ge_additive.pickle\n",
      "\tgb1_ge_additive.h5\n"
     ]
    }
   ],
   "source": [
    "# Save model\n",
    "model.save('gb1_ge_additive')"
   ]
  },
  {
   "cell_type": "code",
   "execution_count": 7,
   "metadata": {},
   "outputs": [
    {
     "name": "stdout",
     "output_type": "stream",
     "text": [
      "Model loaded from these files:\n",
      "\tgb1_ge_additive.pickle\n",
      "\tgb1_ge_additive.h5\n"
     ]
    }
   ],
   "source": [
    "# Load model\n",
    "model = mavenn.load('gb1_ge_additive')"
   ]
  },
  {
   "cell_type": "code",
   "execution_count": 8,
   "metadata": {},
   "outputs": [
    {
     "name": "stdout",
     "output_type": "stream",
     "text": [
      "test data N: 107,289\n"
     ]
    }
   ],
   "source": [
    "# Load test data\n",
    "test_df = mavenn.load_example(which='test_data',name='gb1')\n",
    "N_test = len(test_df)\n",
    "print(f'test data N: {N_test:,}')\n",
    "\n",
    "# Subsample indices for easy plotting\n",
    "ix = np.random.rand(N_test) < .1\n",
    "\n",
    "# Get x and y\n",
    "x = test_df['x'].values[ix]\n",
    "y = test_df['y'].values[ix]"
   ]
  },
  {
   "cell_type": "code",
   "execution_count": 9,
   "metadata": {},
   "outputs": [
    {
     "data": {
      "image/png": "[encoded data removed]",
      "text/plain": [
       "<Figure size 288x288 with 1 Axes>"
      ]
     },
     "metadata": {
      "needs_background": "light"
     },
     "output_type": "display_data"
    }
   ],
   "source": [
    "# Compute phi and yhat values\n",
    "phi = model.x_to_phi(x)\n",
    "yhat = model.phi_to_yhat(phi)\n",
    "\n",
    "# Create grid for plotting yhat and yqs\n",
    "phi_lim = [-5, 2.5]\n",
    "phi_grid = np.linspace(phi_lim[0], phi_lim[1], 1000)\n",
    "yhat_grid = model.phi_to_yhat(phi_grid)\n",
    "yqs_grid = model.yhat_to_yq(yhat_grid, q=[.16,.84])\n",
    "\n",
    "# Create two panels\n",
    "fig, ax = plt.subplots(1, 1, figsize=[4, 4])\n",
    "\n",
    "# Illustrate measurement process with GE curve\n",
    "ax.scatter(phi, y, color='C0', s=5, alpha=.2, label='test data')\n",
    "ax.plot(phi_grid, yhat_grid, linewidth=2, color='C1',\n",
    "        label='$\\hat{y} = g(\\phi)$')\n",
    "ax.plot(phi_grid, yqs_grid[:, 0], linestyle='--', color='C1',\n",
    "        label='68% CI')\n",
    "ax.plot(phi_grid, yqs_grid[:, 1], linestyle='--', color='C1')\n",
    "ax.set_xlim(phi_lim)\n",
    "ax.set_xlabel('latent phenotype ($\\phi$)')\n",
    "ax.set_ylabel('measurement ($y$)')\n",
    "ax.set_title('measurement process')\n",
    "ax.legend()\n",
    "\n",
    "# Fix up plot\n",
    "fig.tight_layout()\n",
    "plt.show()"
   ]
  },
  {
   "cell_type": "code",
   "execution_count": 10,
   "metadata": {},
   "outputs": [
    {
     "data": {
      "image/png": "[encoded data removed]",
      "text/plain": [
       "<Figure size 720x360 with 2 Axes>"
      ]
     },
     "metadata": {
      "needs_background": "light"
     },
     "output_type": "display_data"
    }
   ],
   "source": [
    "# Create two panels\n",
    "fig, ax = plt.subplots(1, 1, figsize=[10, 5])\n",
    "\n",
    "# Get model parameters\n",
    "theta_dict = model.get_theta(gauge='consensus')\n",
    "\n",
    "# Left panel: draw heatmap illustrating 1pt mutation effects\n",
    "ax, cb = mavenn.heatmap(theta_dict['theta_lc'],\n",
    "                        alphabet=theta_dict['alphabet'],\n",
    "                        seq=model.x_stats['consensus_seq'],\n",
    "                        ccenter=0,\n",
    "                        cmap='PiYG',\n",
    "                        ax=ax)\n",
    "ax.set_xlabel('position ($l$)')\n",
    "ax.set_ylabel('amino acid ($c$)')\n",
    "cb.set_label('effect ($\\Delta\\phi$)', rotation=-90, va=\"bottom\")\n",
    "ax.set_title('mutation effects')\n",
    "\n",
    "# Fix up plot\n",
    "fig.tight_layout()\n",
    "plt.show()\n"
   ]
  },
  {
   "cell_type": "code",
   "execution_count": null,
   "metadata": {},
   "outputs": [],
   "source": []
  }
 ],
 "metadata": {
  "kernelspec": {
   "display_name": "Python 3",
   "language": "python",
   "name": "python3"
  },
  "language_info": {
   "codemirror_mode": {
    "name": "ipython",
    "version": 3
   },
   "file_extension": ".py",
   "mimetype": "text/x-python",
   "name": "python",
   "nbconvert_exporter": "python",
   "pygments_lexer": "ipython3",
   "version": "3.7.4"
  }
 },
 "nbformat": 4,
 "nbformat_minor": 2
}
