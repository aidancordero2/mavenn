{
 "cells": [
  {
   "cell_type": "code",
   "execution_count": 1,
   "metadata": {},
   "outputs": [
    {
     "name": "stdout",
     "output_type": "stream",
     "text": [
      "['/Users/jkinney/github/mavenn/mavenn']\n"
     ]
    }
   ],
   "source": [
    "# Standard imports\n",
    "import pandas as pd\n",
    "import matplotlib.pyplot as plt\n",
    "import numpy as np\n",
    "\n",
    "# Insert path to mavenn beginning of path\n",
    "import os\n",
    "import sys\n",
    "abs_path_to_mavenn = os.path.abspath('../../../')\n",
    "sys.path.insert(0, abs_path_to_mavenn)\n",
    "\n",
    "# Load mavenn\n",
    "import mavenn\n",
    "print(mavenn.__path__)"
   ]
  },
  {
   "cell_type": "code",
   "execution_count": 2,
   "metadata": {},
   "outputs": [
    {
     "data": {
      "text/html": [
       "<div>\n",
       "<style scoped>\n",
       "    .dataframe tbody tr th:only-of-type {\n",
       "        vertical-align: middle;\n",
       "    }\n",
       "\n",
       "    .dataframe tbody tr th {\n",
       "        vertical-align: top;\n",
       "    }\n",
       "\n",
       "    .dataframe thead th {\n",
       "        text-align: right;\n",
       "    }\n",
       "</style>\n",
       "<table border=\"1\" class=\"dataframe\">\n",
       "  <thead>\n",
       "    <tr style=\"text-align: right;\">\n",
       "      <th></th>\n",
       "      <th>input_ct</th>\n",
       "      <th>selected_ct</th>\n",
       "      <th>hamming_dist</th>\n",
       "      <th>training_set</th>\n",
       "      <th>y</th>\n",
       "      <th>x</th>\n",
       "    </tr>\n",
       "  </thead>\n",
       "  <tbody>\n",
       "    <tr>\n",
       "      <th>0</th>\n",
       "      <td>173.0</td>\n",
       "      <td>33.0</td>\n",
       "      <td>2</td>\n",
       "      <td>True</td>\n",
       "      <td>-3.145154</td>\n",
       "      <td>AAKLILNGKTLKGETTTEAVDAATAEKVFKQYANDNGVDGEWTYDD...</td>\n",
       "    </tr>\n",
       "    <tr>\n",
       "      <th>1</th>\n",
       "      <td>18.0</td>\n",
       "      <td>8.0</td>\n",
       "      <td>2</td>\n",
       "      <td>False</td>\n",
       "      <td>-1.867676</td>\n",
       "      <td>ACKLILNGKTLKGETTTEAVDAATAEKVFKQYANDNGVDGEWTYDD...</td>\n",
       "    </tr>\n",
       "    <tr>\n",
       "      <th>2</th>\n",
       "      <td>66.0</td>\n",
       "      <td>2.0</td>\n",
       "      <td>2</td>\n",
       "      <td>True</td>\n",
       "      <td>-5.270800</td>\n",
       "      <td>ADKLILNGKTLKGETTTEAVDAATAEKVFKQYANDNGVDGEWTYDD...</td>\n",
       "    </tr>\n",
       "    <tr>\n",
       "      <th>3</th>\n",
       "      <td>72.0</td>\n",
       "      <td>1.0</td>\n",
       "      <td>2</td>\n",
       "      <td>False</td>\n",
       "      <td>-5.979498</td>\n",
       "      <td>AEKLILNGKTLKGETTTEAVDAATAEKVFKQYANDNGVDGEWTYDD...</td>\n",
       "    </tr>\n",
       "    <tr>\n",
       "      <th>4</th>\n",
       "      <td>69.0</td>\n",
       "      <td>168.0</td>\n",
       "      <td>2</td>\n",
       "      <td>True</td>\n",
       "      <td>0.481923</td>\n",
       "      <td>AFKLILNGKTLKGETTTEAVDAATAEKVFKQYANDNGVDGEWTYDD...</td>\n",
       "    </tr>\n",
       "  </tbody>\n",
       "</table>\n",
       "</div>"
      ],
      "text/plain": [
       "   input_ct  selected_ct  hamming_dist  training_set         y  \\\n",
       "0     173.0         33.0             2          True -3.145154   \n",
       "1      18.0          8.0             2         False -1.867676   \n",
       "2      66.0          2.0             2          True -5.270800   \n",
       "3      72.0          1.0             2         False -5.979498   \n",
       "4      69.0        168.0             2          True  0.481923   \n",
       "\n",
       "                                                   x  \n",
       "0  AAKLILNGKTLKGETTTEAVDAATAEKVFKQYANDNGVDGEWTYDD...  \n",
       "1  ACKLILNGKTLKGETTTEAVDAATAEKVFKQYANDNGVDGEWTYDD...  \n",
       "2  ADKLILNGKTLKGETTTEAVDAATAEKVFKQYANDNGVDGEWTYDD...  \n",
       "3  AEKLILNGKTLKGETTTEAVDAATAEKVFKQYANDNGVDGEWTYDD...  \n",
       "4  AFKLILNGKTLKGETTTEAVDAATAEKVFKQYANDNGVDGEWTYDD...  "
      ]
     },
     "execution_count": 2,
     "metadata": {},
     "output_type": "execute_result"
    }
   ],
   "source": [
    "# Load example data\n",
    "data_df = mavenn.load_example_dataset('gb1')\n",
    "data_df.head()"
   ]
  },
  {
   "cell_type": "code",
   "execution_count": 3,
   "metadata": {},
   "outputs": [
    {
     "name": "stdout",
     "output_type": "stream",
     "text": [
      "training N: 424,706\n",
      "testing N: 106,031\n"
     ]
    }
   ],
   "source": [
    "# Split into trianing and test data\n",
    "ix = data_df['training_set']\n",
    "L = len(data_df['x'][0])\n",
    "train_df = data_df[ix]\n",
    "print(f'training N: {len(train_df):,}')\n",
    "test_df = data_df[~ix]\n",
    "print(f'testing N: {len(test_df):,}')"
   ]
  },
  {
   "cell_type": "code",
   "execution_count": 4,
   "metadata": {},
   "outputs": [],
   "source": [
    "# Set filename\n",
    "name = 'gb1_ge_blackbox'\n",
    "\n",
    "# Set seeed\n",
    "mavenn.set_seed(1)\n",
    "\n",
    "# Define model\n",
    "model = mavenn.Model(regression_type='GE',\n",
    "                     L=L,\n",
    "                     alphabet='protein',\n",
    "                     gpmap_type='blackbox',\n",
    "                     gpmap_kwargs={\n",
    "                         'hidden_layer_sizes':[100]*5\n",
    "                     },\n",
    "                     ge_noise_model_type='SkewedT',\n",
    "                     ge_heteroskedasticity_order=2)"
   ]
  },
  {
   "cell_type": "code",
   "execution_count": 5,
   "metadata": {},
   "outputs": [
    {
     "name": "stdout",
     "output_type": "stream",
     "text": [
      "N = 424,706 observations set as training data.\n",
      "Data shuffled.\n",
      "Time to set data: 11.1 sec.\n"
     ]
    }
   ],
   "source": [
    "# Set training data\n",
    "model.set_data(x=train_df['x'],\n",
    "               y=train_df['y'])"
   ]
  },
  {
   "cell_type": "code",
   "execution_count": 6,
   "metadata": {},
   "outputs": [
    {
     "name": "stdout",
     "output_type": "stream",
     "text": [
      "Epoch 1/1000\n",
      "340/340 [==============================] - 7s 20ms/step - loss: 1108.6732 - I_like: 0.2341 - val_loss: 919.5060 - val_I_like: 0.4932\n",
      "Epoch 2/1000\n",
      "340/340 [==============================] - 7s 21ms/step - loss: 800.8646 - I_like: 0.6605 - val_loss: 687.6118 - val_I_like: 0.8210\n",
      "Epoch 3/1000\n",
      "340/340 [==============================] - 10s 29ms/step - loss: 583.3964 - I_like: 0.9709 - val_loss: 478.7105 - val_I_like: 1.1212\n",
      "Epoch 4/1000\n",
      "340/340 [==============================] - 11s 33ms/step - loss: 387.3474 - I_like: 1.2532 - val_loss: 295.3061 - val_I_like: 1.3858\n",
      "Epoch 5/1000\n",
      "340/340 [==============================] - 11s 32ms/step - loss: 212.6488 - I_like: 1.5053 - val_loss: 135.4579 - val_I_like: 1.6167\n",
      "Epoch 6/1000\n",
      "340/340 [==============================] - 9s 28ms/step - loss: 64.4090 - I_like: 1.7197 - val_loss: -5.3247 - val_I_like: 1.8204\n",
      "Epoch 7/1000\n",
      "340/340 [==============================] - 8s 24ms/step - loss: -55.3412 - I_like: 1.8929 - val_loss: -110.5900 - val_I_like: 1.9728\n",
      "Epoch 8/1000\n",
      "340/340 [==============================] - 12s 35ms/step - loss: -142.4004 - I_like: 2.0190 - val_loss: -181.1213 - val_I_like: 2.0752\n",
      "Epoch 9/1000\n",
      "340/340 [==============================] - 8s 24ms/step - loss: -205.5460 - I_like: 2.1107 - val_loss: -229.0947 - val_I_like: 2.1450\n",
      "Epoch 10/1000\n",
      "340/340 [==============================] - 8s 24ms/step - loss: -255.1544 - I_like: 2.1829 - val_loss: -264.3869 - val_I_like: 2.1964\n",
      "Epoch 11/1000\n",
      "340/340 [==============================] - 6s 18ms/step - loss: -284.2504 - I_like: 2.2253 - val_loss: -208.3947 - val_I_like: 2.1162\n",
      "Epoch 12/1000\n",
      "340/340 [==============================] - 6s 18ms/step - loss: -315.5008 - I_like: 2.2711 - val_loss: -319.0062 - val_I_like: 2.2764\n",
      "Epoch 13/1000\n",
      "340/340 [==============================] - 6s 18ms/step - loss: -348.7298 - I_like: 2.3194 - val_loss: -344.8042 - val_I_like: 2.3142\n",
      "Epoch 14/1000\n",
      "340/340 [==============================] - 7s 21ms/step - loss: -373.7322 - I_like: 2.3562 - val_loss: -334.4998 - val_I_like: 2.2999\n",
      "Epoch 15/1000\n",
      "340/340 [==============================] - 10s 28ms/step - loss: -405.5774 - I_like: 2.4025 - val_loss: -390.7080 - val_I_like: 2.3815\n",
      "Epoch 16/1000\n",
      "340/340 [==============================] - 6s 18ms/step - loss: -439.6094 - I_like: 2.4522 - val_loss: -355.5705 - val_I_like: 2.3312\n",
      "Epoch 17/1000\n",
      "340/340 [==============================] - 6s 18ms/step - loss: -462.2823 - I_like: 2.4854 - val_loss: -443.9948 - val_I_like: 2.4593\n",
      "Epoch 18/1000\n",
      "340/340 [==============================] - 6s 18ms/step - loss: -486.1215 - I_like: 2.5203 - val_loss: -459.3832 - val_I_like: 2.4820\n",
      "Epoch 19/1000\n",
      "340/340 [==============================] - 6s 18ms/step - loss: -509.5060 - I_like: 2.5544 - val_loss: -474.0389 - val_I_like: 2.5037\n",
      "Epoch 20/1000\n",
      "340/340 [==============================] - 6s 17ms/step - loss: -524.6074 - I_like: 2.5768 - val_loss: -491.6028 - val_I_like: 2.5295\n",
      "Epoch 21/1000\n",
      "340/340 [==============================] - 7s 19ms/step - loss: -549.9186 - I_like: 2.6138 - val_loss: -514.0842 - val_I_like: 2.5624\n",
      "Epoch 22/1000\n",
      "340/340 [==============================] - 6s 18ms/step - loss: -565.6766 - I_like: 2.6370 - val_loss: -530.1410 - val_I_like: 2.5860\n",
      "Epoch 23/1000\n",
      "340/340 [==============================] - 7s 21ms/step - loss: -585.3102 - I_like: 2.6657 - val_loss: -538.3307 - val_I_like: 2.5982\n",
      "Epoch 24/1000\n",
      "340/340 [==============================] - 7s 22ms/step - loss: -593.6191 - I_like: 2.6781 - val_loss: -535.3907 - val_I_like: 2.5944\n",
      "Epoch 25/1000\n",
      "340/340 [==============================] - 6s 17ms/step - loss: -608.4728 - I_like: 2.6998 - val_loss: -523.5421 - val_I_like: 2.5777\n",
      "Epoch 26/1000\n",
      "340/340 [==============================] - 6s 17ms/step - loss: -614.8694 - I_like: 2.7096 - val_loss: -559.9855 - val_I_like: 2.6307\n",
      "Epoch 27/1000\n",
      "340/340 [==============================] - 6s 17ms/step - loss: -623.4136 - I_like: 2.7224 - val_loss: -571.6509 - val_I_like: 2.6479\n",
      "Epoch 28/1000\n",
      "340/340 [==============================] - 6s 17ms/step - loss: -630.6011 - I_like: 2.7333 - val_loss: -565.9599 - val_I_like: 2.6401\n",
      "Epoch 29/1000\n",
      "340/340 [==============================] - 6s 17ms/step - loss: -640.1642 - I_like: 2.7473 - val_loss: -577.4921 - val_I_like: 2.6570\n",
      "Epoch 30/1000\n",
      "340/340 [==============================] - 6s 17ms/step - loss: -641.7883 - I_like: 2.7499 - val_loss: -412.4490 - val_I_like: 2.4192\n",
      "Epoch 31/1000\n",
      "340/340 [==============================] - 6s 18ms/step - loss: -644.6998 - I_like: 2.7545 - val_loss: -579.3077 - val_I_like: 2.6604\n",
      "Epoch 32/1000\n",
      "340/340 [==============================] - 6s 19ms/step - loss: -653.8554 - I_like: 2.7680 - val_loss: -578.7603 - val_I_like: 2.6600\n",
      "Epoch 33/1000\n",
      "340/340 [==============================] - 6s 19ms/step - loss: -653.8909 - I_like: 2.7684 - val_loss: -573.4248 - val_I_like: 2.6526\n",
      "Epoch 34/1000\n",
      "340/340 [==============================] - 6s 19ms/step - loss: -660.4457 - I_like: 2.7783 - val_loss: -550.3276 - val_I_like: 2.6196\n",
      "Epoch 35/1000\n",
      "340/340 [==============================] - 7s 20ms/step - loss: -667.4736 - I_like: 2.7887 - val_loss: -509.2766 - val_I_like: 2.5605\n",
      "Epoch 36/1000\n",
      "340/340 [==============================] - 7s 19ms/step - loss: -668.9227 - I_like: 2.7912 - val_loss: -512.6486 - val_I_like: 2.5657\n",
      "Epoch 37/1000\n",
      "340/340 [==============================] - 7s 19ms/step - loss: -667.9035 - I_like: 2.7899 - val_loss: -521.5125 - val_I_like: 2.5789\n",
      "Epoch 38/1000\n",
      "340/340 [==============================] - 6s 18ms/step - loss: -672.4730 - I_like: 2.7969 - val_loss: -579.5767 - val_I_like: 2.6630\n",
      "Epoch 39/1000\n",
      "340/340 [==============================] - 7s 19ms/step - loss: -678.4642 - I_like: 2.8058 - val_loss: -552.0236 - val_I_like: 2.6235\n",
      "Epoch 40/1000\n",
      "340/340 [==============================] - 7s 20ms/step - loss: -680.3331 - I_like: 2.8087 - val_loss: -577.4964 - val_I_like: 2.6606\n",
      "Epoch 41/1000\n",
      "340/340 [==============================] - 7s 19ms/step - loss: -685.6049 - I_like: 2.8166 - val_loss: -557.1308 - val_I_like: 2.6314\n",
      "Epoch 42/1000\n",
      "340/340 [==============================] - 7s 19ms/step - loss: -685.6053 - I_like: 2.8171 - val_loss: -571.9718 - val_I_like: 2.6531\n",
      "Epoch 43/1000\n",
      "340/340 [==============================] - 7s 20ms/step - loss: -685.4227 - I_like: 2.8170 - val_loss: -580.9926 - val_I_like: 2.6664\n",
      "Epoch 44/1000\n",
      "340/340 [==============================] - 6s 19ms/step - loss: -686.3911 - I_like: 2.8187 - val_loss: -581.5817 - val_I_like: 2.6676\n",
      "Epoch 45/1000\n",
      "340/340 [==============================] - 7s 19ms/step - loss: -694.8602 - I_like: 2.8312 - val_loss: -580.4409 - val_I_like: 2.6663\n",
      "Epoch 46/1000\n",
      "340/340 [==============================] - 6s 19ms/step - loss: -692.8865 - I_like: 2.8287 - val_loss: -569.1504 - val_I_like: 2.6502\n",
      "Epoch 47/1000\n",
      "340/340 [==============================] - 7s 20ms/step - loss: -697.0609 - I_like: 2.8348 - val_loss: -564.6728 - val_I_like: 2.6441\n",
      "Epoch 48/1000\n",
      "340/340 [==============================] - 7s 20ms/step - loss: -704.3283 - I_like: 2.8457 - val_loss: -561.6700 - val_I_like: 2.6400\n",
      "Epoch 49/1000\n",
      "340/340 [==============================] - 7s 20ms/step - loss: -700.9027 - I_like: 2.8408 - val_loss: -575.5106 - val_I_like: 2.6602\n",
      "Epoch 50/1000\n",
      "340/340 [==============================] - 6s 17ms/step - loss: -705.5068 - I_like: 2.8478 - val_loss: -571.7753 - val_I_like: 2.6551\n",
      "Epoch 51/1000\n",
      "340/340 [==============================] - 6s 17ms/step - loss: -709.4623 - I_like: 2.8536 - val_loss: -569.3030 - val_I_like: 2.6517\n",
      "Epoch 52/1000\n",
      "340/340 [==============================] - 6s 17ms/step - loss: -708.1277 - I_like: 2.8521 - val_loss: -579.8796 - val_I_like: 2.6673\n",
      "Epoch 53/1000\n",
      "340/340 [==============================] - 6s 17ms/step - loss: -709.0240 - I_like: 2.8537 - val_loss: -568.8115 - val_I_like: 2.6516\n",
      "Epoch 54/1000\n",
      "340/340 [==============================] - 6s 18ms/step - loss: -711.7122 - I_like: 2.8578 - val_loss: -561.8749 - val_I_like: 2.6419\n",
      "Epoch 55/1000\n",
      "340/340 [==============================] - 6s 18ms/step - loss: -717.5649 - I_like: 2.8666 - val_loss: -572.1918 - val_I_like: 2.6570\n",
      "Epoch 56/1000\n"
     ]
    },
    {
     "name": "stdout",
     "output_type": "stream",
     "text": [
      "340/340 [==============================] - 6s 18ms/step - loss: -718.5805 - I_like: 2.8682 - val_loss: -566.0931 - val_I_like: 2.6484\n",
      "Epoch 57/1000\n",
      "340/340 [==============================] - 6s 18ms/step - loss: -719.0942 - I_like: 2.8693 - val_loss: -551.5929 - val_I_like: 2.6277\n",
      "Epoch 58/1000\n",
      "340/340 [==============================] - 7s 19ms/step - loss: -719.0749 - I_like: 2.8695 - val_loss: -570.5605 - val_I_like: 2.6553\n",
      "Epoch 59/1000\n",
      "340/340 [==============================] - 6s 18ms/step - loss: -723.9688 - I_like: 2.8766 - val_loss: -577.1387 - val_I_like: 2.6651\n",
      "Epoch 60/1000\n",
      "340/340 [==============================] - 6s 19ms/step - loss: -728.8502 - I_like: 2.8841 - val_loss: -567.4935 - val_I_like: 2.6514\n",
      "Epoch 61/1000\n",
      "340/340 [==============================] - 6s 17ms/step - loss: -725.4510 - I_like: 2.8793 - val_loss: -526.3694 - val_I_like: 2.5922\n",
      "Epoch 62/1000\n",
      "340/340 [==============================] - 6s 18ms/step - loss: -728.7510 - I_like: 2.8845 - val_loss: -566.7972 - val_I_like: 2.6509\n",
      "Epoch 63/1000\n",
      "340/340 [==============================] - 7s 19ms/step - loss: -730.6297 - I_like: 2.8873 - val_loss: -557.9646 - val_I_like: 2.6383\n",
      "Epoch 64/1000\n",
      "340/340 [==============================] - 6s 19ms/step - loss: -730.2659 - I_like: 2.8870 - val_loss: -575.0217 - val_I_like: 2.6632\n",
      "Training time: 445.6 seconds\n"
     ]
    }
   ],
   "source": [
    "# Fit model to data\n",
    "history = model.fit(learning_rate=.0003,\n",
    "                    epochs=1000,\n",
    "                    batch_size=1000,\n",
    "                    early_stopping=True,\n",
    "                    early_stopping_patience=20,\n",
    "                    linear_initialization=False)"
   ]
  },
  {
   "cell_type": "code",
   "execution_count": 7,
   "metadata": {},
   "outputs": [
    {
     "name": "stdout",
     "output_type": "stream",
     "text": [
      "Model saved to these files:\n",
      "\tgb1_ge_blackbox.pickle\n",
      "\tgb1_ge_blackbox.h5\n"
     ]
    }
   ],
   "source": [
    "# Save model\n",
    "model.save(name)"
   ]
  },
  {
   "cell_type": "code",
   "execution_count": 8,
   "metadata": {},
   "outputs": [
    {
     "name": "stdout",
     "output_type": "stream",
     "text": [
      "Model loaded from these files:\n",
      "\tgb1_ge_blackbox.pickle\n",
      "\tgb1_ge_blackbox.h5\n"
     ]
    }
   ],
   "source": [
    "# Load model\n",
    "model = mavenn.load(name)"
   ]
  },
  {
   "cell_type": "code",
   "execution_count": 9,
   "metadata": {},
   "outputs": [
    {
     "name": "stdout",
     "output_type": "stream",
     "text": [
      "640\tgb1_ge_blackbox.h5\r\n",
      "16\tgb1_ge_blackbox.pickle\r\n"
     ]
    }
   ],
   "source": [
    "!du -k gb1_ge_blackbox.*"
   ]
  },
  {
   "cell_type": "code",
   "execution_count": 10,
   "metadata": {},
   "outputs": [],
   "source": [
    "# Subsample indices for easy plotting and information estimation\n",
    "N_test = len(test_df)\n",
    "ix = np.random.rand(N_test) < .1\n",
    "\n",
    "# Get x and y\n",
    "x = test_df['x'].values[ix]\n",
    "y = test_df['y'].values[ix]"
   ]
  },
  {
   "cell_type": "code",
   "execution_count": 11,
   "metadata": {},
   "outputs": [
    {
     "name": "stdout",
     "output_type": "stream",
     "text": [
      "On test data:\n",
      "I_like_test: 2.687 +- 0.019 bits\n",
      "I_pred_test: 2.763 +- 0.010 bits\n"
     ]
    },
    {
     "data": {
      "image/png": "[encoded data removed]",
      "text/plain": [
       "<Figure size 288x288 with 1 Axes>"
      ]
     },
     "metadata": {
      "needs_background": "light"
     },
     "output_type": "display_data"
    }
   ],
   "source": [
    "# Show training history\n",
    "print('On test data:')\n",
    "\n",
    "# Compute likelihood information\n",
    "I_like, dI_like =  model.I_likelihood(x=x, y=y)\n",
    "print(f'I_like_test: {I_like:.3f} +- {dI_like:.3f} bits') \n",
    "\n",
    "# Compute predictive information\n",
    "I_pred, dI_pred = model.I_predictive(x=x, y=y)\n",
    "print(f'I_pred_test: {I_pred:.3f} +- {dI_pred:.3f} bits')\n",
    "\n",
    "I_like_hist = model.history['I_like']\n",
    "val_I_like_hist = model.history['val_I_like']\n",
    "\n",
    "fig, ax = plt.subplots(1,1,figsize=[4,4])\n",
    "ax.plot(I_like_hist, label='I_like_train')\n",
    "ax.plot(val_I_like_hist, label='I_like_val')\n",
    "ax.axhline(I_like, color='C2', linestyle=':', label='I_like_test')\n",
    "ax.axhline(I_pred, color='C3', linestyle=':', label='I_pred_test')\n",
    "ax.legend()\n",
    "ax.set_xlabel('epochs')\n",
    "ax.set_ylabel('bits')\n",
    "ax.set_title('training hisotry')\n",
    "ax.set_ylim([0, I_pred*1.2]);"
   ]
  },
  {
   "cell_type": "code",
   "execution_count": 12,
   "metadata": {},
   "outputs": [
    {
     "data": {
      "image/png": "[encoded data removed]",
      "text/plain": [
       "<Figure size 288x288 with 1 Axes>"
      ]
     },
     "metadata": {
      "needs_background": "light"
     },
     "output_type": "display_data"
    }
   ],
   "source": [
    "# Compute phi and yhat values\n",
    "phi = model.x_to_phi(x)\n",
    "yhat = model.phi_to_yhat(phi)\n",
    "\n",
    "# Create grid for plotting yhat and yqs\n",
    "phi_lim = [-5, 2.5]\n",
    "phi_grid = np.linspace(phi_lim[0], phi_lim[1], 1000)\n",
    "yhat_grid = model.phi_to_yhat(phi_grid)\n",
    "yqs_grid = model.yhat_to_yq(yhat_grid, q=[.16,.84])\n",
    "\n",
    "# Create two panels\n",
    "fig, ax = plt.subplots(1, 1, figsize=[4, 4])\n",
    "\n",
    "# Illustrate measurement process with GE curve\n",
    "ax.scatter(phi, y, color='C0', s=5, alpha=.2, label='test data')\n",
    "ax.plot(phi_grid, yhat_grid, linewidth=2, color='C1',\n",
    "        label='$\\hat{y} = g(\\phi)$')\n",
    "ax.plot(phi_grid, yqs_grid[:, 0], linestyle='--', color='C1',\n",
    "        label='68% CI')\n",
    "ax.plot(phi_grid, yqs_grid[:, 1], linestyle='--', color='C1')\n",
    "ax.set_xlim(phi_lim)\n",
    "ax.set_xlabel('latent phenotype ($\\phi$)')\n",
    "ax.set_ylabel('measurement ($y$)')\n",
    "ax.set_title('measurement process')\n",
    "ax.legend()\n",
    "\n",
    "# Fix up plot\n",
    "fig.tight_layout()\n",
    "plt.show()"
   ]
  },
  {
   "cell_type": "code",
   "execution_count": 13,
   "metadata": {},
   "outputs": [
    {
     "data": {
      "text/html": [
       "<div>\n",
       "<style scoped>\n",
       "    .dataframe tbody tr th:only-of-type {\n",
       "        vertical-align: middle;\n",
       "    }\n",
       "\n",
       "    .dataframe tbody tr th {\n",
       "        vertical-align: top;\n",
       "    }\n",
       "\n",
       "    .dataframe thead th {\n",
       "        text-align: right;\n",
       "    }\n",
       "</style>\n",
       "<table border=\"1\" class=\"dataframe\">\n",
       "  <thead>\n",
       "    <tr style=\"text-align: right;\">\n",
       "      <th></th>\n",
       "      <th>training_set</th>\n",
       "      <th>yhat</th>\n",
       "      <th>phi</th>\n",
       "      <th>y</th>\n",
       "      <th>x</th>\n",
       "    </tr>\n",
       "  </thead>\n",
       "  <tbody>\n",
       "    <tr>\n",
       "      <th>0</th>\n",
       "      <td>True</td>\n",
       "      <td>-6.856025</td>\n",
       "      <td>-1.091608</td>\n",
       "      <td>-6.953932</td>\n",
       "      <td>QYKVILNGKTLKGETTTEAVDAAPAEKVFKQYANDNGVDGEWTEDD...</td>\n",
       "    </tr>\n",
       "    <tr>\n",
       "      <th>1</th>\n",
       "      <td>True</td>\n",
       "      <td>-5.866552</td>\n",
       "      <td>-0.745358</td>\n",
       "      <td>-6.214898</td>\n",
       "      <td>QYKLILNGKTLKGETTTEAVDAATAEKVFQMYANDNGVDGRWTYDD...</td>\n",
       "    </tr>\n",
       "    <tr>\n",
       "      <th>2</th>\n",
       "      <td>True</td>\n",
       "      <td>-8.069229</td>\n",
       "      <td>-1.611613</td>\n",
       "      <td>-7.600604</td>\n",
       "      <td>QYKLILNGKTLKGETTTEAVDAATAEKVFKQYDNDNGVDTEWTYDD...</td>\n",
       "    </tr>\n",
       "    <tr>\n",
       "      <th>3</th>\n",
       "      <td>True</td>\n",
       "      <td>-2.534033</td>\n",
       "      <td>0.251355</td>\n",
       "      <td>-2.839328</td>\n",
       "      <td>QYKLILNGKTLKGETTTEYVDAATAERVFKQYANDNGVDGEWFYDD...</td>\n",
       "    </tr>\n",
       "    <tr>\n",
       "      <th>4</th>\n",
       "      <td>True</td>\n",
       "      <td>-5.451094</td>\n",
       "      <td>-0.611742</td>\n",
       "      <td>-4.683609</td>\n",
       "      <td>QYKLILNGKTLKGETTQEAVDAATAEKVFKVYANDNGADGEWTYDD...</td>\n",
       "    </tr>\n",
       "  </tbody>\n",
       "</table>\n",
       "</div>"
      ],
      "text/plain": [
       "   training_set      yhat       phi         y  \\\n",
       "0          True -6.856025 -1.091608 -6.953932   \n",
       "1          True -5.866552 -0.745358 -6.214898   \n",
       "2          True -8.069229 -1.611613 -7.600604   \n",
       "3          True -2.534033  0.251355 -2.839328   \n",
       "4          True -5.451094 -0.611742 -4.683609   \n",
       "\n",
       "                                                   x  \n",
       "0  QYKVILNGKTLKGETTTEAVDAAPAEKVFKQYANDNGVDGEWTEDD...  \n",
       "1  QYKLILNGKTLKGETTTEAVDAATAEKVFQMYANDNGVDGRWTYDD...  \n",
       "2  QYKLILNGKTLKGETTTEAVDAATAEKVFKQYDNDNGVDTEWTYDD...  \n",
       "3  QYKLILNGKTLKGETTTEYVDAATAERVFKQYANDNGVDGEWFYDD...  \n",
       "4  QYKLILNGKTLKGETTQEAVDAATAEKVFKVYANDNGADGEWTYDD...  "
      ]
     },
     "execution_count": 13,
     "metadata": {},
     "output_type": "execute_result"
    }
   ],
   "source": [
    "# Test simulate_data\n",
    "sim_df = model.simulate_dataset(N=1000)\n",
    "sim_df.head()"
   ]
  },
  {
   "cell_type": "code",
   "execution_count": null,
   "metadata": {},
   "outputs": [],
   "source": []
  }
 ],
 "metadata": {
  "kernelspec": {
   "display_name": "Python 3",
   "language": "python",
   "name": "python3"
  },
  "language_info": {
   "codemirror_mode": {
    "name": "ipython",
    "version": 3
   },
   "file_extension": ".py",
   "mimetype": "text/x-python",
   "name": "python",
   "nbconvert_exporter": "python",
   "pygments_lexer": "ipython3",
   "version": "3.7.4"
  }
 },
 "nbformat": 4,
 "nbformat_minor": 2
}
