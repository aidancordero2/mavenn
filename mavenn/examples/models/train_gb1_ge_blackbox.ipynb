{
 "cells": [
  {
   "cell_type": "code",
   "execution_count": 1,
   "metadata": {},
   "outputs": [
    {
     "name": "stdout",
     "output_type": "stream",
     "text": [
      "['/Users/jkinney/github/mavenn/mavenn']\n"
     ]
    }
   ],
   "source": [
    "# Standard imports\n",
    "import pandas as pd\n",
    "import matplotlib.pyplot as plt\n",
    "import numpy as np\n",
    "\n",
    "# Insert path to mavenn beginning of path\n",
    "import os\n",
    "import sys\n",
    "abs_path_to_mavenn = os.path.abspath('../../../')\n",
    "sys.path.insert(0, abs_path_to_mavenn)\n",
    "\n",
    "# Load mavenn\n",
    "import mavenn\n",
    "print(mavenn.__path__)"
   ]
  },
  {
   "cell_type": "code",
   "execution_count": 2,
   "metadata": {},
   "outputs": [
    {
     "data": {
      "text/html": [
       "<div>\n",
       "<style scoped>\n",
       "    .dataframe tbody tr th:only-of-type {\n",
       "        vertical-align: middle;\n",
       "    }\n",
       "\n",
       "    .dataframe tbody tr th {\n",
       "        vertical-align: top;\n",
       "    }\n",
       "\n",
       "    .dataframe thead th {\n",
       "        text-align: right;\n",
       "    }\n",
       "</style>\n",
       "<table border=\"1\" class=\"dataframe\">\n",
       "  <thead>\n",
       "    <tr style=\"text-align: right;\">\n",
       "      <th></th>\n",
       "      <th>input_ct</th>\n",
       "      <th>selected_ct</th>\n",
       "      <th>hamming_dist</th>\n",
       "      <th>training_set</th>\n",
       "      <th>y</th>\n",
       "      <th>x</th>\n",
       "    </tr>\n",
       "  </thead>\n",
       "  <tbody>\n",
       "    <tr>\n",
       "      <th>0</th>\n",
       "      <td>173.0</td>\n",
       "      <td>33.0</td>\n",
       "      <td>2</td>\n",
       "      <td>True</td>\n",
       "      <td>-3.145154</td>\n",
       "      <td>AAKLILNGKTLKGETTTEAVDAATAEKVFKQYANDNGVDGEWTYDD...</td>\n",
       "    </tr>\n",
       "    <tr>\n",
       "      <th>1</th>\n",
       "      <td>18.0</td>\n",
       "      <td>8.0</td>\n",
       "      <td>2</td>\n",
       "      <td>False</td>\n",
       "      <td>-1.867676</td>\n",
       "      <td>ACKLILNGKTLKGETTTEAVDAATAEKVFKQYANDNGVDGEWTYDD...</td>\n",
       "    </tr>\n",
       "    <tr>\n",
       "      <th>2</th>\n",
       "      <td>66.0</td>\n",
       "      <td>2.0</td>\n",
       "      <td>2</td>\n",
       "      <td>True</td>\n",
       "      <td>-5.270800</td>\n",
       "      <td>ADKLILNGKTLKGETTTEAVDAATAEKVFKQYANDNGVDGEWTYDD...</td>\n",
       "    </tr>\n",
       "    <tr>\n",
       "      <th>3</th>\n",
       "      <td>72.0</td>\n",
       "      <td>1.0</td>\n",
       "      <td>2</td>\n",
       "      <td>False</td>\n",
       "      <td>-5.979498</td>\n",
       "      <td>AEKLILNGKTLKGETTTEAVDAATAEKVFKQYANDNGVDGEWTYDD...</td>\n",
       "    </tr>\n",
       "    <tr>\n",
       "      <th>4</th>\n",
       "      <td>69.0</td>\n",
       "      <td>168.0</td>\n",
       "      <td>2</td>\n",
       "      <td>True</td>\n",
       "      <td>0.481923</td>\n",
       "      <td>AFKLILNGKTLKGETTTEAVDAATAEKVFKQYANDNGVDGEWTYDD...</td>\n",
       "    </tr>\n",
       "  </tbody>\n",
       "</table>\n",
       "</div>"
      ],
      "text/plain": [
       "   input_ct  selected_ct  hamming_dist  training_set         y  \\\n",
       "0     173.0         33.0             2          True -3.145154   \n",
       "1      18.0          8.0             2         False -1.867676   \n",
       "2      66.0          2.0             2          True -5.270800   \n",
       "3      72.0          1.0             2         False -5.979498   \n",
       "4      69.0        168.0             2          True  0.481923   \n",
       "\n",
       "                                                   x  \n",
       "0  AAKLILNGKTLKGETTTEAVDAATAEKVFKQYANDNGVDGEWTYDD...  \n",
       "1  ACKLILNGKTLKGETTTEAVDAATAEKVFKQYANDNGVDGEWTYDD...  \n",
       "2  ADKLILNGKTLKGETTTEAVDAATAEKVFKQYANDNGVDGEWTYDD...  \n",
       "3  AEKLILNGKTLKGETTTEAVDAATAEKVFKQYANDNGVDGEWTYDD...  \n",
       "4  AFKLILNGKTLKGETTTEAVDAATAEKVFKQYANDNGVDGEWTYDD...  "
      ]
     },
     "execution_count": 2,
     "metadata": {},
     "output_type": "execute_result"
    }
   ],
   "source": [
    "# Load example data\n",
    "data_df = mavenn.load_example_dataset('gb1')\n",
    "data_df.head()"
   ]
  },
  {
   "cell_type": "code",
   "execution_count": 3,
   "metadata": {},
   "outputs": [
    {
     "name": "stdout",
     "output_type": "stream",
     "text": [
      "training N: 424,706\n",
      "testing N: 106,031\n"
     ]
    }
   ],
   "source": [
    "# Split into trianing and test data\n",
    "ix = data_df['training_set']\n",
    "L = len(data_df['x'][0])\n",
    "train_df = data_df[ix]\n",
    "print(f'training N: {len(train_df):,}')\n",
    "test_df = data_df[~ix]\n",
    "print(f'testing N: {len(test_df):,}')"
   ]
  },
  {
   "cell_type": "code",
   "execution_count": 4,
   "metadata": {},
   "outputs": [],
   "source": [
    "# Set filename\n",
    "name = 'gb1_ge_blackbox'\n",
    "\n",
    "# Set seeed\n",
    "mavenn.set_seed(1)\n",
    "\n",
    "# Define model\n",
    "model = mavenn.Model(regression_type='GE',\n",
    "                     L=L,\n",
    "                     alphabet='protein',\n",
    "                     gpmap_type='mlp',\n",
    "                     gpmap_kwargs={\n",
    "                         'hidden_layer_sizes':[100]*5\n",
    "                     },\n",
    "                     ge_noise_model_type='SkewedT',\n",
    "                     ge_heteroskedasticity_order=2)"
   ]
  },
  {
   "cell_type": "code",
   "execution_count": 5,
   "metadata": {},
   "outputs": [
    {
     "name": "stdout",
     "output_type": "stream",
     "text": [
      "N = 424,706 observations set as training data.\n",
      "Data shuffled.\n",
      "Time to set data: 12.9 sec.\n"
     ]
    }
   ],
   "source": [
    "# Set training data\n",
    "model.set_data(x=train_df['x'],\n",
    "               y=train_df['y'])"
   ]
  },
  {
   "cell_type": "code",
   "execution_count": 6,
   "metadata": {},
   "outputs": [
    {
     "name": "stdout",
     "output_type": "stream",
     "text": [
      "Epoch 1/1000\n",
      "340/340 [==============================] - 7s 20ms/step - loss: 1108.6633 - I_like: 0.1875 - val_loss: 919.6357 - val_I_like: 0.4465\n",
      "Epoch 2/1000\n",
      "340/340 [==============================] - 7s 22ms/step - loss: 800.8022 - I_like: 0.6140 - val_loss: 687.7131 - val_I_like: 0.7743\n",
      "Epoch 3/1000\n",
      "340/340 [==============================] - 6s 19ms/step - loss: 581.9561 - I_like: 0.9264 - val_loss: 476.6562 - val_I_like: 1.0777\n",
      "Epoch 4/1000\n",
      "340/340 [==============================] - 7s 19ms/step - loss: 384.7212 - I_like: 1.2105 - val_loss: 292.7312 - val_I_like: 1.3430\n",
      "Epoch 5/1000\n",
      "340/340 [==============================] - 6s 18ms/step - loss: 209.0537 - I_like: 1.4640 - val_loss: 129.2447 - val_I_like: 1.5792\n",
      "Epoch 6/1000\n",
      "340/340 [==============================] - 6s 18ms/step - loss: 67.2678 - I_like: 1.6690 - val_loss: -8.2845 - val_I_like: 1.7782\n",
      "Epoch 7/1000\n",
      "340/340 [==============================] - 6s 18ms/step - loss: -60.7907 - I_like: 1.8542 - val_loss: -95.9995 - val_I_like: 1.9051\n",
      "Epoch 8/1000\n",
      "340/340 [==============================] - 6s 18ms/step - loss: -143.0761 - I_like: 1.9735 - val_loss: -178.0023 - val_I_like: 2.0241\n",
      "Epoch 9/1000\n",
      "340/340 [==============================] - 6s 19ms/step - loss: -206.3069 - I_like: 2.0654 - val_loss: -233.8594 - val_I_like: 2.1054\n",
      "Epoch 10/1000\n",
      "340/340 [==============================] - 6s 19ms/step - loss: -258.5244 - I_like: 2.1413 - val_loss: -259.6442 - val_I_like: 2.1431\n",
      "Epoch 11/1000\n",
      "340/340 [==============================] - 7s 20ms/step - loss: -284.3419 - I_like: 2.1790 - val_loss: -230.4958 - val_I_like: 2.1017\n",
      "Epoch 12/1000\n",
      "340/340 [==============================] - 7s 20ms/step - loss: -319.2806 - I_like: 2.2302 - val_loss: -318.0206 - val_I_like: 2.2286\n",
      "Epoch 13/1000\n",
      "340/340 [==============================] - 6s 19ms/step - loss: -352.8122 - I_like: 2.2789 - val_loss: -350.1951 - val_I_like: 2.2756\n",
      "Epoch 14/1000\n",
      "340/340 [==============================] - 7s 19ms/step - loss: -375.6992 - I_like: 2.3127 - val_loss: -361.0355 - val_I_like: 2.2919\n",
      "Epoch 15/1000\n",
      "340/340 [==============================] - 6s 19ms/step - loss: -410.1541 - I_like: 2.3628 - val_loss: -396.2741 - val_I_like: 2.3432\n",
      "Epoch 16/1000\n",
      "340/340 [==============================] - 7s 19ms/step - loss: -444.2299 - I_like: 2.4125 - val_loss: -398.1324 - val_I_like: 2.3463\n",
      "Epoch 17/1000\n",
      "340/340 [==============================] - 7s 19ms/step - loss: -463.4385 - I_like: 2.4407 - val_loss: -446.3082 - val_I_like: 2.4163\n",
      "Epoch 18/1000\n",
      "340/340 [==============================] - 7s 20ms/step - loss: -488.4618 - I_like: 2.4773 - val_loss: -452.3056 - val_I_like: 2.4255\n",
      "Epoch 19/1000\n",
      "340/340 [==============================] - 7s 20ms/step - loss: -513.6253 - I_like: 2.5141 - val_loss: -444.2647 - val_I_like: 2.4143\n",
      "Epoch 20/1000\n",
      "340/340 [==============================] - 7s 20ms/step - loss: -524.5748 - I_like: 2.5305 - val_loss: -499.9449 - val_I_like: 2.4952\n",
      "Epoch 21/1000\n",
      "340/340 [==============================] - 7s 21ms/step - loss: -553.5112 - I_like: 2.5726 - val_loss: -514.7107 - val_I_like: 2.5170\n",
      "Epoch 22/1000\n",
      "340/340 [==============================] - 7s 19ms/step - loss: -570.0178 - I_like: 2.5970 - val_loss: -516.6328 - val_I_like: 2.5202\n",
      "Epoch 23/1000\n",
      "340/340 [==============================] - 6s 19ms/step - loss: -591.3274 - I_like: 2.6282 - val_loss: -517.1655 - val_I_like: 2.5213\n",
      "Epoch 24/1000\n",
      "340/340 [==============================] - 7s 19ms/step - loss: -591.8607 - I_like: 2.6292 - val_loss: -528.2917 - val_I_like: 2.5379\n",
      "Epoch 25/1000\n",
      "340/340 [==============================] - 7s 19ms/step - loss: -611.5464 - I_like: 2.6580 - val_loss: -524.1241 - val_I_like: 2.5322\n",
      "Epoch 26/1000\n",
      "340/340 [==============================] - 7s 20ms/step - loss: -615.7420 - I_like: 2.6645 - val_loss: -560.5526 - val_I_like: 2.5852\n",
      "Epoch 27/1000\n",
      "340/340 [==============================] - 7s 20ms/step - loss: -626.4194 - I_like: 2.6804 - val_loss: -534.7795 - val_I_like: 2.5484\n",
      "Epoch 28/1000\n",
      "340/340 [==============================] - 6s 19ms/step - loss: -632.9753 - I_like: 2.6905 - val_loss: -566.6674 - val_I_like: 2.5949\n",
      "Epoch 29/1000\n",
      "340/340 [==============================] - 7s 19ms/step - loss: -640.9435 - I_like: 2.7022 - val_loss: -571.3500 - val_I_like: 2.6020\n",
      "Epoch 30/1000\n",
      "340/340 [==============================] - 7s 20ms/step - loss: -643.9348 - I_like: 2.7068 - val_loss: -455.6661 - val_I_like: 2.4354\n",
      "Epoch 31/1000\n",
      "340/340 [==============================] - 6s 19ms/step - loss: -647.5175 - I_like: 2.7124 - val_loss: -573.0417 - val_I_like: 2.6051\n",
      "Epoch 32/1000\n",
      "340/340 [==============================] - 7s 19ms/step - loss: -660.3874 - I_like: 2.7312 - val_loss: -571.6960 - val_I_like: 2.6035\n",
      "Epoch 33/1000\n",
      "340/340 [==============================] - 7s 20ms/step - loss: -657.2579 - I_like: 2.7271 - val_loss: -554.5316 - val_I_like: 2.5791\n",
      "Epoch 34/1000\n",
      "340/340 [==============================] - 7s 19ms/step - loss: -663.7979 - I_like: 2.7369 - val_loss: -483.5415 - val_I_like: 2.4770\n",
      "Epoch 35/1000\n",
      "340/340 [==============================] - 7s 20ms/step - loss: -668.9529 - I_like: 2.7446 - val_loss: -548.5286 - val_I_like: 2.5710\n",
      "Epoch 36/1000\n",
      "340/340 [==============================] - 6s 19ms/step - loss: -674.1224 - I_like: 2.7525 - val_loss: -465.7378 - val_I_like: 2.4517\n",
      "Epoch 37/1000\n",
      "340/340 [==============================] - 6s 18ms/step - loss: -671.5416 - I_like: 2.7488 - val_loss: -519.4116 - val_I_like: 2.5296\n",
      "Epoch 38/1000\n",
      "340/340 [==============================] - 6s 18ms/step - loss: -673.2250 - I_like: 2.7518 - val_loss: -573.7012 - val_I_like: 2.6083\n",
      "Epoch 39/1000\n",
      "340/340 [==============================] - 6s 19ms/step - loss: -682.7446 - I_like: 2.7658 - val_loss: -558.5412 - val_I_like: 2.5867\n",
      "Epoch 40/1000\n",
      "340/340 [==============================] - 6s 18ms/step - loss: -679.6562 - I_like: 2.7615 - val_loss: -578.3596 - val_I_like: 2.6156\n",
      "Epoch 41/1000\n",
      "340/340 [==============================] - 6s 18ms/step - loss: -687.3997 - I_like: 2.7731 - val_loss: -574.0526 - val_I_like: 2.6097\n",
      "Epoch 42/1000\n",
      "340/340 [==============================] - 6s 18ms/step - loss: -690.9443 - I_like: 2.7786 - val_loss: -579.3504 - val_I_like: 2.6176\n",
      "Epoch 43/1000\n",
      "340/340 [==============================] - 6s 18ms/step - loss: -684.7526 - I_like: 2.7698 - val_loss: -577.7237 - val_I_like: 2.6156\n",
      "Epoch 44/1000\n",
      "340/340 [==============================] - 6s 18ms/step - loss: -692.7326 - I_like: 2.7817 - val_loss: -571.5324 - val_I_like: 2.6069\n",
      "Epoch 45/1000\n",
      "340/340 [==============================] - 7s 20ms/step - loss: -701.3328 - I_like: 2.7943 - val_loss: -576.5401 - val_I_like: 2.6145\n",
      "Epoch 46/1000\n",
      "340/340 [==============================] - 6s 19ms/step - loss: -697.0882 - I_like: 2.7885 - val_loss: -576.3099 - val_I_like: 2.6144\n",
      "Epoch 47/1000\n",
      "340/340 [==============================] - 6s 19ms/step - loss: -698.1367 - I_like: 2.7901 - val_loss: -572.7974 - val_I_like: 2.6096\n",
      "Epoch 48/1000\n",
      "340/340 [==============================] - 6s 19ms/step - loss: -705.4299 - I_like: 2.8011 - val_loss: -572.3832 - val_I_like: 2.6093\n",
      "Epoch 49/1000\n",
      "340/340 [==============================] - 7s 19ms/step - loss: -703.8414 - I_like: 2.7989 - val_loss: -563.9391 - val_I_like: 2.5973\n",
      "Epoch 50/1000\n",
      "340/340 [==============================] - 6s 18ms/step - loss: -709.3676 - I_like: 2.8073 - val_loss: -571.6339 - val_I_like: 2.6087\n",
      "Epoch 51/1000\n",
      "340/340 [==============================] - 6s 19ms/step - loss: -710.5385 - I_like: 2.8091 - val_loss: -577.8232 - val_I_like: 2.6179\n",
      "Epoch 52/1000\n",
      "340/340 [==============================] - 6s 18ms/step - loss: -712.3932 - I_like: 2.8121 - val_loss: -575.6887 - val_I_like: 2.6151\n",
      "Epoch 53/1000\n",
      "340/340 [==============================] - 6s 19ms/step - loss: -711.4186 - I_like: 2.8111 - val_loss: -577.7596 - val_I_like: 2.6183\n",
      "Epoch 54/1000\n",
      "340/340 [==============================] - 6s 18ms/step - loss: -716.0342 - I_like: 2.8179 - val_loss: -486.3948 - val_I_like: 2.4867\n",
      "Epoch 55/1000\n",
      "340/340 [==============================] - 6s 19ms/step - loss: -721.7968 - I_like: 2.8266 - val_loss: -572.6316 - val_I_like: 2.6114\n",
      "Epoch 56/1000\n",
      "340/340 [==============================] - 6s 17ms/step - loss: -722.2441 - I_like: 2.8273 - val_loss: -555.8440 - val_I_like: 2.5874\n",
      "Epoch 57/1000\n",
      "340/340 [==============================] - 6s 18ms/step - loss: -721.1379 - I_like: 2.8261 - val_loss: -564.1633 - val_I_like: 2.5997\n",
      "Epoch 58/1000\n",
      "340/340 [==============================] - 6s 18ms/step - loss: -729.0355 - I_like: 2.8377 - val_loss: -556.5028 - val_I_like: 2.5889\n",
      "Epoch 59/1000\n",
      "340/340 [==============================] - 6s 18ms/step - loss: -725.8646 - I_like: 2.8332 - val_loss: -547.8698 - val_I_like: 2.5766\n",
      "Epoch 60/1000\n",
      "340/340 [==============================] - 6s 18ms/step - loss: -730.6359 - I_like: 2.8404 - val_loss: -552.8987 - val_I_like: 2.5841\n",
      "Epoch 61/1000\n",
      "340/340 [==============================] - 6s 17ms/step - loss: -726.8582 - I_like: 2.8352 - val_loss: -529.0490 - val_I_like: 2.5499\n",
      "Epoch 62/1000\n",
      "340/340 [==============================] - 6s 18ms/step - loss: -731.9127 - I_like: 2.8429 - val_loss: -565.3408 - val_I_like: 2.6026\n",
      "Training time: 410.7 seconds\n"
     ]
    }
   ],
   "source": [
    "# Fit model to data\n",
    "history = model.fit(learning_rate=.0003,\n",
    "                    epochs=1000,\n",
    "                    batch_size=1000,\n",
    "                    early_stopping=True,\n",
    "                    early_stopping_patience=20,\n",
    "                    linear_initialization=False)"
   ]
  },
  {
   "cell_type": "code",
   "execution_count": 7,
   "metadata": {},
   "outputs": [
    {
     "name": "stdout",
     "output_type": "stream",
     "text": [
      "Model saved to these files:\n",
      "\tgb1_ge_blackbox.pickle\n",
      "\tgb1_ge_blackbox.h5\n"
     ]
    }
   ],
   "source": [
    "# Save model\n",
    "model.save(name)"
   ]
  },
  {
   "cell_type": "code",
   "execution_count": 8,
   "metadata": {},
   "outputs": [
    {
     "name": "stdout",
     "output_type": "stream",
     "text": [
      "Model loaded from these files:\n",
      "\tgb1_ge_blackbox.pickle\n",
      "\tgb1_ge_blackbox.h5\n"
     ]
    }
   ],
   "source": [
    "# Load model\n",
    "model = mavenn.load(name)"
   ]
  },
  {
   "cell_type": "code",
   "execution_count": 9,
   "metadata": {},
   "outputs": [
    {
     "name": "stdout",
     "output_type": "stream",
     "text": [
      "640\tgb1_ge_blackbox.h5\r\n",
      "16\tgb1_ge_blackbox.pickle\r\n"
     ]
    }
   ],
   "source": [
    "!du -k gb1_ge_blackbox.*"
   ]
  },
  {
   "cell_type": "code",
   "execution_count": 10,
   "metadata": {},
   "outputs": [],
   "source": [
    "# Subsample indices for easy plotting and information estimation\n",
    "N_test = len(test_df)\n",
    "ix = np.random.rand(N_test) < .1\n",
    "\n",
    "# Get x and y\n",
    "x = test_df['x'].values[ix]\n",
    "y = test_df['y'].values[ix]"
   ]
  },
  {
   "cell_type": "code",
   "execution_count": 11,
   "metadata": {},
   "outputs": [
    {
     "name": "stdout",
     "output_type": "stream",
     "text": [
      "On test data:\n",
      "I_like_test: 2.664 +- 0.019 bits\n",
      "I_pred_test: 2.750 +- 0.011 bits\n"
     ]
    },
    {
     "data": {
      "image/png": "[encoded data removed]",
      "text/plain": [
       "<Figure size 288x288 with 1 Axes>"
      ]
     },
     "metadata": {
      "needs_background": "light"
     },
     "output_type": "display_data"
    }
   ],
   "source": [
    "# Show training history\n",
    "print('On test data:')\n",
    "\n",
    "# Compute likelihood information\n",
    "I_like, dI_like =  model.I_likelihood(x=x, y=y)\n",
    "print(f'I_like_test: {I_like:.3f} +- {dI_like:.3f} bits') \n",
    "\n",
    "# Compute predictive information\n",
    "I_pred, dI_pred = model.I_predictive(x=x, y=y)\n",
    "print(f'I_pred_test: {I_pred:.3f} +- {dI_pred:.3f} bits')\n",
    "\n",
    "I_like_hist = model.history['I_like']\n",
    "val_I_like_hist = model.history['val_I_like']\n",
    "\n",
    "fig, ax = plt.subplots(1,1,figsize=[4,4])\n",
    "ax.plot(I_like_hist, label='I_like_train')\n",
    "ax.plot(val_I_like_hist, label='I_like_val')\n",
    "ax.axhline(I_like, color='C2', linestyle=':', label='I_like_test')\n",
    "ax.axhline(I_pred, color='C3', linestyle=':', label='I_pred_test')\n",
    "ax.legend()\n",
    "ax.set_xlabel('epochs')\n",
    "ax.set_ylabel('bits')\n",
    "ax.set_title('training hisotry')\n",
    "ax.set_ylim([0, I_pred*1.2]);"
   ]
  },
  {
   "cell_type": "code",
   "execution_count": 12,
   "metadata": {},
   "outputs": [
    {
     "data": {
      "image/png": "[encoded data removed]",
      "text/plain": [
       "<Figure size 288x288 with 1 Axes>"
      ]
     },
     "metadata": {
      "needs_background": "light"
     },
     "output_type": "display_data"
    }
   ],
   "source": [
    "# Compute phi and yhat values\n",
    "phi = model.x_to_phi(x)\n",
    "yhat = model.phi_to_yhat(phi)\n",
    "\n",
    "# Create grid for plotting yhat and yqs\n",
    "phi_lim = [-5, 2.5]\n",
    "phi_grid = np.linspace(phi_lim[0], phi_lim[1], 1000)\n",
    "yhat_grid = model.phi_to_yhat(phi_grid)\n",
    "yqs_grid = model.yhat_to_yq(yhat_grid, q=[.16,.84])\n",
    "\n",
    "# Create two panels\n",
    "fig, ax = plt.subplots(1, 1, figsize=[4, 4])\n",
    "\n",
    "# Illustrate measurement process with GE curve\n",
    "ax.scatter(phi, y, color='C0', s=5, alpha=.2, label='test data')\n",
    "ax.plot(phi_grid, yhat_grid, linewidth=2, color='C1',\n",
    "        label='$\\hat{y} = g(\\phi)$')\n",
    "ax.plot(phi_grid, yqs_grid[:, 0], linestyle='--', color='C1',\n",
    "        label='68% CI')\n",
    "ax.plot(phi_grid, yqs_grid[:, 1], linestyle='--', color='C1')\n",
    "ax.set_xlim(phi_lim)\n",
    "ax.set_xlabel('latent phenotype ($\\phi$)')\n",
    "ax.set_ylabel('measurement ($y$)')\n",
    "ax.set_title('measurement process')\n",
    "ax.legend()\n",
    "\n",
    "# Fix up plot\n",
    "fig.tight_layout()\n",
    "plt.show()"
   ]
  },
  {
   "cell_type": "code",
   "execution_count": 13,
   "metadata": {},
   "outputs": [
    {
     "data": {
      "text/html": [
       "<div>\n",
       "<style scoped>\n",
       "    .dataframe tbody tr th:only-of-type {\n",
       "        vertical-align: middle;\n",
       "    }\n",
       "\n",
       "    .dataframe tbody tr th {\n",
       "        vertical-align: top;\n",
       "    }\n",
       "\n",
       "    .dataframe thead th {\n",
       "        text-align: right;\n",
       "    }\n",
       "</style>\n",
       "<table border=\"1\" class=\"dataframe\">\n",
       "  <thead>\n",
       "    <tr style=\"text-align: right;\">\n",
       "      <th></th>\n",
       "      <th>training_set</th>\n",
       "      <th>yhat</th>\n",
       "      <th>phi</th>\n",
       "      <th>y</th>\n",
       "      <th>x</th>\n",
       "    </tr>\n",
       "  </thead>\n",
       "  <tbody>\n",
       "    <tr>\n",
       "      <th>0</th>\n",
       "      <td>True</td>\n",
       "      <td>-0.174869</td>\n",
       "      <td>0.994444</td>\n",
       "      <td>-0.216869</td>\n",
       "      <td>QYKLILNGKTLKGETTTEAVWAATAEKVFKQYANDNGVDGEWTYDD...</td>\n",
       "    </tr>\n",
       "    <tr>\n",
       "      <th>1</th>\n",
       "      <td>True</td>\n",
       "      <td>-7.510884</td>\n",
       "      <td>-1.395634</td>\n",
       "      <td>-8.052465</td>\n",
       "      <td>QYKLILNGKTLKGETTTEAVDYATAEKKFSQYANDNGVDGEKTYDD...</td>\n",
       "    </tr>\n",
       "    <tr>\n",
       "      <th>2</th>\n",
       "      <td>True</td>\n",
       "      <td>-9.058630</td>\n",
       "      <td>-2.255596</td>\n",
       "      <td>-9.484499</td>\n",
       "      <td>QYKLILNGKTLKGETTTEAVDAATALKVFKSYANANGVDHEWTYDD...</td>\n",
       "    </tr>\n",
       "    <tr>\n",
       "      <th>3</th>\n",
       "      <td>False</td>\n",
       "      <td>-2.983343</td>\n",
       "      <td>0.099656</td>\n",
       "      <td>-3.011026</td>\n",
       "      <td>QYKLIGNGKTLKGETTTEAVYSATAEKVFKQYGNDNGTDGEWTYDD...</td>\n",
       "    </tr>\n",
       "    <tr>\n",
       "      <th>4</th>\n",
       "      <td>True</td>\n",
       "      <td>-7.645278</td>\n",
       "      <td>-1.454892</td>\n",
       "      <td>-7.471965</td>\n",
       "      <td>QNKLILNGKTLKGETTTEAVDAATAEKVFKQYRNDNGVDGEWTYDD...</td>\n",
       "    </tr>\n",
       "  </tbody>\n",
       "</table>\n",
       "</div>"
      ],
      "text/plain": [
       "   training_set      yhat       phi         y  \\\n",
       "0          True -0.174869  0.994444 -0.216869   \n",
       "1          True -7.510884 -1.395634 -8.052465   \n",
       "2          True -9.058630 -2.255596 -9.484499   \n",
       "3         False -2.983343  0.099656 -3.011026   \n",
       "4          True -7.645278 -1.454892 -7.471965   \n",
       "\n",
       "                                                   x  \n",
       "0  QYKLILNGKTLKGETTTEAVWAATAEKVFKQYANDNGVDGEWTYDD...  \n",
       "1  QYKLILNGKTLKGETTTEAVDYATAEKKFSQYANDNGVDGEKTYDD...  \n",
       "2  QYKLILNGKTLKGETTTEAVDAATALKVFKSYANANGVDHEWTYDD...  \n",
       "3  QYKLIGNGKTLKGETTTEAVYSATAEKVFKQYGNDNGTDGEWTYDD...  \n",
       "4  QNKLILNGKTLKGETTTEAVDAATAEKVFKQYRNDNGVDGEWTYDD...  "
      ]
     },
     "execution_count": 13,
     "metadata": {},
     "output_type": "execute_result"
    }
   ],
   "source": [
    "# Test simulate_data\n",
    "sim_df = model.simulate_dataset(N=1000)\n",
    "sim_df.head()"
   ]
  },
  {
   "cell_type": "code",
   "execution_count": null,
   "metadata": {},
   "outputs": [],
   "source": []
  }
 ],
 "metadata": {
  "kernelspec": {
   "display_name": "Python 3",
   "language": "python",
   "name": "python3"
  },
  "language_info": {
   "codemirror_mode": {
    "name": "ipython",
    "version": 3
   },
   "file_extension": ".py",
   "mimetype": "text/x-python",
   "name": "python",
   "nbconvert_exporter": "python",
   "pygments_lexer": "ipython3",
   "version": "3.7.4"
  }
 },
 "nbformat": 4,
 "nbformat_minor": 2
}
