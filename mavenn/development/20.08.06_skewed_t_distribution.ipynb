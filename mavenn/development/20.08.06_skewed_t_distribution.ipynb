{
 "cells": [
  {
   "cell_type": "code",
   "execution_count": 1,
   "metadata": {},
   "outputs": [],
   "source": [
    "import numpy as np\n",
    "from scipy.integrate import quad\n",
    "import matplotlib.pyplot as plt"
   ]
  },
  {
   "cell_type": "markdown",
   "metadata": {},
   "source": [
    "This notebook implements the skewed t-distribution described by Jones & Faddy (2003):\n",
    "    \n",
    "Jones, M., Faddy, M. (2003). A skew extension of the t-distribution, with applications Journal of the Royal Statistical Society: Series B (Statistical Methodology)  65(1), 159-174. https://dx.doi.org/10.1111/1467-9868.00378"
   ]
  },
  {
   "cell_type": "markdown",
   "metadata": {},
   "source": [
    "The skewed t-distribution described by Jones & Faddy (2003) is given in Eq. 1 of their paper as:\n",
    "\n",
    "$$ f(t;a,b) =  \\frac{2^{1-a-b}}{\\sqrt{a+b}}\\frac{\\Gamma(a+b)}{\\Gamma(a)\\Gamma(b)} \\left[1 + \\frac{t}{\\sqrt{a+b+t^2}} \\right]^{a+1/2} \\left[ 1 - \\frac{t}{\\sqrt{a+b+t^2}} \\right]^{b+1/2}$$\n",
    "\n",
    "This distribution is defined by two parameters $a,b > 0$. The Cauchy distribution is recovered when $a = b = 1/2$. The Normal distribution is recovered in the limit $a = b \\to \\infty$. \n",
    "\n",
    "An important advantage of this formulation, as opposed to other skewed t-distributions that have been proposed in the literature, is that the mode has a simple analytical form, givem by\n",
    "\n",
    "$$ t^* = \\frac{(a-b)\\sqrt{a+b}}{\\sqrt{2a+1}\\sqrt{2b+1}}. $$\n",
    "\n",
    "This allows us to position the mode of the likelihood distribution $p(y|\\hat{y})$ exactly at $\\hat{y}$, something that seems desirable from an intuitive standpoint. Specificaly, positioning the mode of this distribution at $\\hat{y}$, and rescaling this distribution according to a y-scale $s$, the likelihood becomes:\n",
    "\n",
    "$$ p(y|\\hat{y};s,a,b) = s^{-1} f(t;a,b)~~~\\mathrm{where}~~~t=t^*+(y-\\hat{y})/s$$\n",
    "\n",
    "The last cell of this notebook sketches a SkewedTNoiseModel layer in which the parameters $a$, $b$, and $s$ are trainable."
   ]
  },
  {
   "cell_type": "code",
   "execution_count": 2,
   "metadata": {
    "code_folding": []
   },
   "outputs": [],
   "source": [
    "from scipy.special import beta as Beta\n",
    "from scipy.special import gamma as Gamma\n",
    "from scipy.special import gammaln as LogGamma\n",
    "from numpy import log as Log\n",
    "\n",
    "# First compute log PDF to avoid overflow problems\n",
    "def log_f(t,a,b):\n",
    "    arg = t/np.sqrt(a+b+t**2)\n",
    "    return (1-a-b)*Log(2) + \\\n",
    "           -0.5*Log(a+b) + \\\n",
    "           LogGamma(a+b) + \\\n",
    "           -LogGamma(a) + \\\n",
    "           -LogGamma(b) + \\\n",
    "           (a+0.5)*Log(1+arg) + \\\n",
    "           (b+0.5)*Log(1-arg) \n",
    "           \n",
    "# Exponentiate to get true distribution\n",
    "def f(t,a,b):\n",
    "    return np.exp(log_f(t,a,b))\n",
    "\n",
    "# Compute the mode as a function of a and b\n",
    "def t_mode(a,b):\n",
    "    return (a-b)*np.sqrt(a+b)/(np.sqrt(2*a+1)*np.sqrt(2*b+1))\n",
    "\n",
    "# Compute mean\n",
    "def t_mean(a,b):\n",
    "    if a <= 0.5 or b <= 0.5:\n",
    "        return np.nan\n",
    "    else:\n",
    "        return 0.5*(a-b)*np.sqrt(a+b)*np.exp(LogGamma(a-0.5) + LogGamma(b-0.5) - LogGamma(a) - LogGamma(b))\n",
    "\n",
    "# Compute variance\n",
    "def t_std(a,b):\n",
    "    if a <= 1 or b <= 1:\n",
    "        return np.nan\n",
    "    else:\n",
    "        t_expected = t_mean(a,b)\n",
    "        tsq_expected = 0.25*(a+b)*((a-b)**2+(a-1)+(b-1))/((a-1)*(b-1))\n",
    "        return np.sqrt(tsq_expected - t_expected**2)\n",
    "    \n",
    "def p(y,y_mode,y_scale,a,b):\n",
    "    t = t_mode(a,b) + (y-y_mode)/y_scale\n",
    "    return f(t,a,b)/y_scale\n",
    "\n",
    "def p_mean_std(y_mode, y_scale, a, b):\n",
    "    y_mean = t_mean(a,b)*y_scale + y_mode\n",
    "    y_std = t_std(a,b)*y_scale\n",
    "    return y_mean, y_std"
   ]
  },
  {
   "cell_type": "code",
   "execution_count": 3,
   "metadata": {},
   "outputs": [
    {
     "name": "stdout",
     "output_type": "stream",
     "text": [
      "\n",
      "(a,b) = (0.50,0.30):\n",
      "y_mean=nan, y_std=nan\n",
      "Area under the distribution is 1.00000 (+-1.0106e-08)\n",
      "\n",
      "(a,b) = (1.50,0.30):\n",
      "y_mean=nan, y_std=nan\n",
      "Area under the distribution is 1.00000 (+-8.3912e-10)\n",
      "\n",
      "(a,b) = (2.50,0.30):\n",
      "y_mean=nan, y_std=nan\n",
      "Area under the distribution is 1.00000 (+-7.4863e-09)\n",
      "\n",
      "(a,b) = (3.50,0.30):\n",
      "y_mean=nan, y_std=nan\n",
      "Area under the distribution is 1.00000 (+-1.2724e-08)\n",
      "\n",
      "(a,b) = (4.50,0.30):\n",
      "y_mean=nan, y_std=nan\n",
      "Area under the distribution is 1.00000 (+-1.4652e-08)\n",
      "\n",
      "(a,b) = (5.50,0.30):\n",
      "y_mean=nan, y_std=nan\n",
      "Area under the distribution is 1.00000 (+-3.3198e-09)\n",
      "\n",
      "(a,b) = (6.50,0.30):\n",
      "y_mean=nan, y_std=nan\n",
      "Area under the distribution is 1.00000 (+-7.043e-09)\n",
      "\n",
      "(a,b) = (7.50,0.30):\n",
      "y_mean=nan, y_std=nan\n",
      "Area under the distribution is 1.00000 (+-1.3704e-08)\n",
      "\n",
      "(a,b) = (8.50,0.30):\n",
      "y_mean=nan, y_std=nan\n",
      "Area under the distribution is 1.00000 (+-7.2013e-09)\n",
      "\n",
      "(a,b) = (9.50,0.30):\n",
      "y_mean=nan, y_std=nan\n",
      "Area under the distribution is 1.00000 (+-1.3088e-08)\n"
     ]
    },
    {
     "data": {
      "text/plain": [
       "<matplotlib.lines.Line2D at 0x11d159710>"
      ]
     },
     "execution_count": 3,
     "metadata": {},
     "output_type": "execute_result"
    },
    {
     "data": {
      "image/png": "[encoded data removed]",
      "text/plain": [
       "<Figure size 360x360 with 1 Axes>"
      ]
     },
     "metadata": {
      "needs_background": "light"
     },
     "output_type": "display_data"
    }
   ],
   "source": [
    "# Set y coords\n",
    "y_scale=5\n",
    "y_mode=7\n",
    "y_lb = -20\n",
    "y_ub = +50\n",
    "ys = np.linspace(y_lb, y_ub, 1000)\n",
    "\n",
    "# Plot distributions\n",
    "fig, ax = plt.subplots(figsize=[5,5])\n",
    "for k in range(10):\n",
    "    b = 0.3\n",
    "    a = 0.5+k\n",
    "    dist = lambda y: p(y,y_mode=y_mode, y_scale=y_scale, a=a, b=b)\n",
    "    ax.plot(ys,dist(ys))\n",
    "    print(f'\\n(a,b) = ({a:.2f},{b:.2f}):')\n",
    "    \n",
    "    # Compute mean and std:\n",
    "    mean, std = p_mean_std(y_mode, y_scale, a, b)\n",
    "    print(f'y_mean={mean:.2f}, y_std={std:.2f}')\n",
    "    \n",
    "    # Check normalization\n",
    "    res, err = quad(dist, -np.inf, np.inf)\n",
    "    print(f\"Area under the distribution is {res:.5f} (+-{err:.5g})\")\n",
    "\n",
    "# Show median\n",
    "ax.axvline(y_mode, color='k', linestyle=':')\n"
   ]
  },
  {
   "cell_type": "code",
   "execution_count": 4,
   "metadata": {},
   "outputs": [
    {
     "name": "stdout",
     "output_type": "stream",
     "text": [
      "a=10, b=2\n",
      "p=0.16666666666666666, q=0.5163977794943222\n",
      "a=10.0, b=2.0\n"
     ]
    }
   ],
   "source": [
    "# Compute p,q in terms of a,b according to Eq. 7 in Jones and Faddy\n",
    "def ab_to_pq(a,b):\n",
    "    assert a > 0\n",
    "    assert b > 0\n",
    "    p = 2/(a+b)\n",
    "    q = (a-b)/np.sqrt(a*b*(a+b))\n",
    "    return p,q\n",
    "\n",
    "# Compue a,b in terms of p,q (had to derive this; took a while)\n",
    "def pq_to_ab(p,q):\n",
    "    assert p > 0\n",
    "    a = (1/p)*(1+q/np.sqrt(q**2+2*p))\n",
    "    b = (1/p)*(1-q/np.sqrt(q**2+2*p))\n",
    "    return a,b\n",
    "\n",
    "# test:\n",
    "a=10\n",
    "b=2\n",
    "print(f'a={a}, b={b}')\n",
    "\n",
    "p,q = ab_to_pq(a,b)\n",
    "print(f'p={p}, q={q}')\n",
    "\n",
    "a,b = pq_to_ab(p,q)\n",
    "print(f'a={a}, b={b}')"
   ]
  },
  {
   "cell_type": "code",
   "execution_count": 5,
   "metadata": {},
   "outputs": [],
   "source": [
    "import tensorflow as tf\n",
    "from tensorflow import keras\n",
    "\n",
    "# To clarify equations\n",
    "Log = tf.math.log\n",
    "LogGamma = tf.math.lgamma\n",
    "Exp = tf.math.exp\n",
    "Sqrt = tf.math.sqrt\n",
    "Square = tf.math.square\n",
    "\n",
    "class SkewedTNoiseModel(keras.layers.Layer):\n",
    "    \"\"\"\n",
    "    Inputs consit of y and y_hat.\n",
    "    Outputs consist of negative log likelihood values.\n",
    "    Computes likelihood using the skewed t-distribution proposed by Jones and Faddy (2003). \n",
    "    Layer includes three trainable scalar weights: log_a, log_b, and log_scale.\n",
    "    \"\"\"\n",
    "\n",
    "    def get_config(self):\n",
    "        base_config = super().get_config()\n",
    "        return {**base_config, \"log_a\":self.log_a, \"log_b\":self.log_b, \"log_scale\":self.log_scale}\n",
    "    \n",
    "    def build(self, batch_input_shape):\n",
    "\n",
    "        # Create trainable weights\n",
    "        self.log_a = self.add_weight(name=\"log_a\", trainable=True, initializer=\"zeros\")\n",
    "        self.log_b = self.add_weight(name=\"log_b\", trainable=True, initializer=\"zeros\")\n",
    "        self.log_scale = self.add_weight(name=\"log_scale\", trainable=True, initializer=\"zeros\")\n",
    "        \n",
    "        # Continue building keras.laerys.Layer class\n",
    "        super.build(batch_input_shape)\n",
    "    \n",
    "    def call(self, y, y_hat):\n",
    "        \n",
    "        # Compute a, b, scale in terms of trainable parameters\n",
    "        self.a = Exp(self.log_a)\n",
    "        self.b = Exp(self.log_b)\n",
    "        self.scale = Exp(self.log_scale)\n",
    "        \n",
    "        # Compute the mode of the unscaled, unshifted t-distribution\n",
    "        self.t_mode = (self.a-self.b)*Sqrt(self.a+self.b)/(Sqrt(2*self.a+1)*Sqrt(2*self.b+1))\n",
    "\n",
    "        # Compute the t value corresponding to y, assuming the mode is at y_hat\n",
    "        t = self.t_mode + (y-y_hat)/self.scale\n",
    "    \n",
    "        # Compute useful argument\n",
    "        arg = t/Sqrt(self.a+self.b+Square(t))\n",
    "        \n",
    "        # Compute the log likelihood of y given y_hat and return\n",
    "        log_likelihood = (self.a+0.5)*Log(1+arg) + \\\n",
    "                         (self.b+0.5)*Log(1-arg) + \\\n",
    "                         -(self.a+self.b-1)*Log(2) + \\\n",
    "                         -0.5*Log(self.a+self.b) + \\\n",
    "                         LogGamma(self.a+self.b) + \\\n",
    "                         -LogGamma(self.a) + \\\n",
    "                         -LogGamma(self.b) + \\\n",
    "                         -self.log_scale\n",
    "        return -log_likelihood\n"
   ]
  },
  {
   "cell_type": "code",
   "execution_count": null,
   "metadata": {},
   "outputs": [],
   "source": []
  }
 ],
 "metadata": {
  "kernelspec": {
   "display_name": "Python 3",
   "language": "python",
   "name": "python3"
  },
  "language_info": {
   "codemirror_mode": {
    "name": "ipython",
    "version": 3
   },
   "file_extension": ".py",
   "mimetype": "text/x-python",
   "name": "python",
   "nbconvert_exporter": "python",
   "pygments_lexer": "ipython3",
   "version": "3.7.4"
  }
 },
 "nbformat": 4,
 "nbformat_minor": 2
}
