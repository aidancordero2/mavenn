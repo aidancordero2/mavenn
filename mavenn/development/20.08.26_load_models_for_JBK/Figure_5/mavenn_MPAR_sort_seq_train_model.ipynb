{
 "cells": [
  {
   "cell_type": "code",
   "execution_count": 1,
   "metadata": {
    "collapsed": true
   },
   "outputs": [],
   "source": [
    "import pandas as pd\n",
    "import matplotlib.pyplot as plt\n",
    "import numpy as np\n",
    "from sklearn.model_selection import train_test_split\n",
    "\n",
    "import warnings\n",
    "warnings.filterwarnings(\"ignore\")\n",
    "\n",
    "\n",
    "import sys\n",
    "path_to_mavenn_local = '/Users/tareen/Desktop/Research_Projects/2020_mavenn_github/mavenn_local'\n",
    "sys.path.insert(0,path_to_mavenn_local)\n",
    "\n",
    "import mavenn"
   ]
  },
  {
   "cell_type": "code",
   "execution_count": 2,
   "metadata": {
    "collapsed": true
   },
   "outputs": [],
   "source": [
    "#data_df = pd.read_csv('Sort_seq_vector_fmt_input.csv',index_col=[0])\n",
    "experiment_name = 'full-0'\n",
    "\n",
    "data_df = pd.read_csv(experiment_name+'.csv',index_col=[0])"
   ]
  },
  {
   "cell_type": "code",
   "execution_count": 3,
   "metadata": {
    "collapsed": true
   },
   "outputs": [],
   "source": [
    "sequences = data_df['seq'].values"
   ]
  },
  {
   "cell_type": "code",
   "execution_count": 4,
   "metadata": {
    "collapsed": true
   },
   "outputs": [],
   "source": [
    "# full-wt sequence index = 36:75\n",
    "\n",
    "# get correct part of sequence\n",
    "temp_seqs_array = data_df['seq'].values\n",
    "correct_seqs_list = []\n",
    "for seq_index in range(len(sequences)):\n",
    "    \n",
    "    correct_seqs_list.append(temp_seqs_array[seq_index][36:75])"
   ]
  },
  {
   "cell_type": "code",
   "execution_count": 5,
   "metadata": {
    "collapsed": true
   },
   "outputs": [],
   "source": [
    "#sequences = data_df['seq'].values\n",
    "sequences = np.array(correct_seqs_list)\n",
    "bin_counts = data_df['bin'].values\n",
    "ct_n = data_df['ct'].values"
   ]
  },
  {
   "cell_type": "code",
   "execution_count": 6,
   "metadata": {
    "collapsed": true
   },
   "outputs": [],
   "source": [
    "data_df = pd.DataFrame({'seq':sequences,'bin':bin_counts,'ct':ct_n})"
   ]
  },
  {
   "cell_type": "code",
   "execution_count": 7,
   "metadata": {
    "collapsed": true
   },
   "outputs": [],
   "source": [
    "#data_df.drop_duplicates(['foo','bar'])\n",
    "data_df = data_df.drop_duplicates(['seq']).copy()"
   ]
  },
  {
   "cell_type": "code",
   "execution_count": 8,
   "metadata": {
    "collapsed": true
   },
   "outputs": [],
   "source": [
    "# from mavenn.src.utils import vec_data_to_mat_data\n",
    "\n",
    "# ct_my, x_m, = vec_data_to_mat_data(x_n=data_df['seq'], \n",
    "#                                    y_n=data_df['bin'],\n",
    "#                                    ct_n=data_df['ct'])\n",
    "\n",
    "sequences = data_df['seq'].values\n",
    "bin_counts = data_df['bin'].values\n",
    "ct_n = data_df['ct'].values"
   ]
  },
  {
   "cell_type": "code",
   "execution_count": 9,
   "metadata": {
    "collapsed": true
   },
   "outputs": [],
   "source": [
    "NAR = mavenn.Model(regression_type='MPA',\n",
    "                   x=sequences, \n",
    "                   y=bin_counts, \n",
    "                   ct_n = ct_n,\n",
    "                   gpmap_type='additive',\n",
    "                   alphabet='dna',\n",
    "                   theta_regularization=0.001,\n",
    "                   ohe_batch_size=50000)\n",
    "\n"
   ]
  },
  {
   "cell_type": "code",
   "execution_count": 10,
   "metadata": {},
   "outputs": [
    {
     "name": "stdout",
     "output_type": "stream",
     "text": [
      "__________________________________________________________________________________________________\n",
      "Layer (type)                    Output Shape         Param #     Connected to                     \n",
      "==================================================================================================\n",
      "Sequence_labels_input (InputLay (None, 161)          0                                            \n",
      "__________________________________________________________________________________________________\n",
      "Sequence_only (Lambda)          (None, 156)          0           Sequence_labels_input[0][0]      \n",
      "__________________________________________________________________________________________________\n",
      "phi (Dense)                     (None, 1)            157         Sequence_only[0][0]              \n",
      "__________________________________________________________________________________________________\n",
      "dense (Dense)                   (None, 50)           100         phi[0][0]                        \n",
      "__________________________________________________________________________________________________\n",
      "yhat (Dense)                    (None, 5)            255         dense[0][0]                      \n",
      "__________________________________________________________________________________________________\n",
      "Labels_input (Lambda)           (None, 5)            0           Sequence_labels_input[0][0]      \n",
      "__________________________________________________________________________________________________\n",
      "yhat_and_y_to_ll (Concatenate)  (None, 10)           0           yhat[0][0]                       \n",
      "                                                                 Labels_input[0][0]               \n",
      "__________________________________________________________________________________________________\n",
      "mpa_likelihood_layer (MPALikeli ()                   0           yhat_and_y_to_ll[0][0]           \n",
      "==================================================================================================\n",
      "Total params: 512\n",
      "Trainable params: 512\n",
      "Non-trainable params: 0\n",
      "__________________________________________________________________________________________________\n"
     ]
    }
   ],
   "source": [
    "NAR.get_nn().summary()"
   ]
  },
  {
   "cell_type": "code",
   "execution_count": 11,
   "metadata": {},
   "outputs": [
    {
     "name": "stdout",
     "output_type": "stream",
     "text": [
      "Train on 20952 samples, validate on 5239 samples\n",
      "Epoch 1/50\n",
      "20952/20952 [==============================] - 1s 39us/step - loss: 67.2516 - val_loss: 65.4343\n",
      "Epoch 2/50\n",
      "20952/20952 [==============================] - 1s 28us/step - loss: 61.5840 - val_loss: 60.4782\n",
      "Epoch 3/50\n",
      "20952/20952 [==============================] - 1s 28us/step - loss: 55.7018 - val_loss: 58.6290\n",
      "Epoch 4/50\n",
      "20952/20952 [==============================] - 1s 31us/step - loss: 53.6525 - val_loss: 58.3128\n",
      "Epoch 5/50\n",
      "20952/20952 [==============================] - 1s 30us/step - loss: 52.9440 - val_loss: 58.0960\n",
      "Epoch 6/50\n",
      "20952/20952 [==============================] - 1s 41us/step - loss: 52.6130 - val_loss: 57.7420\n",
      "Epoch 7/50\n",
      "20952/20952 [==============================] - 1s 28us/step - loss: 52.3975 - val_loss: 57.7724\n",
      "Epoch 8/50\n",
      "20952/20952 [==============================] - 1s 28us/step - loss: 52.2479 - val_loss: 57.3812\n",
      "Epoch 9/50\n",
      "20952/20952 [==============================] - 1s 27us/step - loss: 52.1551 - val_loss: 57.4531\n",
      "Epoch 10/50\n",
      "20952/20952 [==============================] - 1s 27us/step - loss: 52.0555 - val_loss: 57.1536\n",
      "Epoch 11/50\n",
      "20952/20952 [==============================] - 1s 27us/step - loss: 51.9767 - val_loss: 57.0356\n",
      "Epoch 12/50\n",
      "20952/20952 [==============================] - 1s 28us/step - loss: 51.8799 - val_loss: 56.9383\n",
      "Epoch 13/50\n",
      "20952/20952 [==============================] - 1s 27us/step - loss: 51.7876 - val_loss: 56.7171\n",
      "Epoch 14/50\n",
      "20952/20952 [==============================] - 1s 29us/step - loss: 51.6925 - val_loss: 56.7731\n",
      "Epoch 15/50\n",
      "20952/20952 [==============================] - 1s 27us/step - loss: 51.6532 - val_loss: 56.6889\n",
      "Epoch 16/50\n",
      "20952/20952 [==============================] - 1s 28us/step - loss: 51.5833 - val_loss: 56.7318\n",
      "Epoch 17/50\n",
      "20952/20952 [==============================] - 1s 28us/step - loss: 51.4898 - val_loss: 56.5801\n",
      "Epoch 18/50\n",
      "20952/20952 [==============================] - 1s 31us/step - loss: 51.4163 - val_loss: 56.3276\n",
      "Epoch 19/50\n",
      "20952/20952 [==============================] - 1s 29us/step - loss: 51.3536 - val_loss: 56.4421\n",
      "Epoch 20/50\n",
      "20952/20952 [==============================] - 1s 28us/step - loss: 51.2838 - val_loss: 56.3004\n",
      "Epoch 21/50\n",
      "20952/20952 [==============================] - 1s 28us/step - loss: 51.2090 - val_loss: 56.0969\n",
      "Epoch 22/50\n",
      "20952/20952 [==============================] - 1s 28us/step - loss: 51.1344 - val_loss: 56.2087\n",
      "Epoch 23/50\n",
      "20952/20952 [==============================] - 1s 28us/step - loss: 51.0907 - val_loss: 56.1054\n",
      "Epoch 24/50\n",
      "20952/20952 [==============================] - 1s 28us/step - loss: 51.0209 - val_loss: 55.9524\n",
      "Epoch 25/50\n",
      "20952/20952 [==============================] - 1s 28us/step - loss: 50.9766 - val_loss: 56.1401\n",
      "Epoch 26/50\n",
      "20952/20952 [==============================] - 1s 28us/step - loss: 50.9213 - val_loss: 56.1466\n",
      "Epoch 27/50\n",
      "20952/20952 [==============================] - 1s 28us/step - loss: 50.8826 - val_loss: 55.9491\n",
      "Epoch 28/50\n",
      "20952/20952 [==============================] - 1s 28us/step - loss: 50.8354 - val_loss: 55.8506\n",
      "Epoch 29/50\n",
      "20952/20952 [==============================] - 1s 30us/step - loss: 50.7763 - val_loss: 55.9956\n",
      "Epoch 30/50\n",
      "20952/20952 [==============================] - 1s 42us/step - loss: 50.7534 - val_loss: 56.1395\n",
      "Epoch 31/50\n",
      "20952/20952 [==============================] - 1s 36us/step - loss: 50.6956 - val_loss: 56.0058\n",
      "Epoch 32/50\n",
      "20952/20952 [==============================] - 1s 33us/step - loss: 50.6759 - val_loss: 55.8419\n",
      "Epoch 33/50\n",
      "20952/20952 [==============================] - 1s 30us/step - loss: 50.6614 - val_loss: 55.9764\n",
      "Epoch 34/50\n",
      "20952/20952 [==============================] - 1s 29us/step - loss: 50.6128 - val_loss: 56.0053\n",
      "Epoch 35/50\n",
      "20952/20952 [==============================] - 1s 27us/step - loss: 50.5906 - val_loss: 56.0311\n",
      "Epoch 36/50\n",
      "20952/20952 [==============================] - 1s 28us/step - loss: 50.6047 - val_loss: 56.0230\n",
      "Epoch 37/50\n",
      "20952/20952 [==============================] - 1s 30us/step - loss: 50.5745 - val_loss: 55.6982\n",
      "Epoch 38/50\n",
      "20952/20952 [==============================] - 1s 29us/step - loss: 50.5363 - val_loss: 55.9496\n",
      "Epoch 39/50\n",
      "20952/20952 [==============================] - 1s 29us/step - loss: 50.5089 - val_loss: 56.0128\n",
      "Epoch 40/50\n",
      "20952/20952 [==============================] - 1s 28us/step - loss: 50.4887 - val_loss: 55.5811\n",
      "Epoch 41/50\n",
      "20952/20952 [==============================] - 1s 30us/step - loss: 50.5123 - val_loss: 55.6691\n",
      "Epoch 42/50\n",
      "20952/20952 [==============================] - 1s 29us/step - loss: 50.5070 - val_loss: 55.7947\n",
      "Epoch 43/50\n",
      "20952/20952 [==============================] - 1s 31us/step - loss: 50.4573 - val_loss: 55.7877\n",
      "Epoch 44/50\n",
      "20952/20952 [==============================] - 1s 32us/step - loss: 50.4723 - val_loss: 55.6411\n",
      "Epoch 45/50\n",
      "20952/20952 [==============================] - 1s 30us/step - loss: 50.4422 - val_loss: 55.6689\n"
     ]
    },
    {
     "data": {
      "text/plain": [
       "<tensorflow.python.keras.callbacks.History at 0x130648748>"
      ]
     },
     "execution_count": 11,
     "metadata": {},
     "output_type": "execute_result"
    }
   ],
   "source": [
    "NAR.fit(epochs=50, \n",
    "        learning_rate=0.0005,\n",
    "        early_stopping=True, \n",
    "        early_stopping_patience=5, \n",
    "        verbose=1)"
   ]
  },
  {
   "cell_type": "code",
   "execution_count": 12,
   "metadata": {},
   "outputs": [
    {
     "name": "stdout",
     "output_type": "stream",
     "text": [
      "__________________________________________________________________________________________________\n",
      "Layer (type)                    Output Shape         Param #     Connected to                     \n",
      "==================================================================================================\n",
      "Sequence_labels_input (InputLay (None, 161)          0                                            \n",
      "__________________________________________________________________________________________________\n",
      "Sequence_only (Lambda)          (None, 156)          0           Sequence_labels_input[0][0]      \n",
      "__________________________________________________________________________________________________\n",
      "phiPrime (Dense)                (None, 1)            157         Sequence_only[0][0]              \n",
      "__________________________________________________________________________________________________\n",
      "fix_diffeomorphic_mode (fixDiff (None, 1)            0           phiPrime[0][0]                   \n",
      "__________________________________________________________________________________________________\n",
      "phi (Dense)                     (None, 1)            2           fix_diffeomorphic_mode[0][0]     \n",
      "__________________________________________________________________________________________________\n",
      "dense_1 (Dense)                 (None, 50)           100         phi[0][0]                        \n",
      "__________________________________________________________________________________________________\n",
      "yhat (Dense)                    (None, 5)            255         dense_1[0][0]                    \n",
      "__________________________________________________________________________________________________\n",
      "Labels_input (Lambda)           (None, 5)            0           Sequence_labels_input[0][0]      \n",
      "__________________________________________________________________________________________________\n",
      "yhat_and_y_to_ll (Concatenate)  (None, 10)           0           yhat[0][0]                       \n",
      "                                                                 Labels_input[0][0]               \n",
      "__________________________________________________________________________________________________\n",
      "mpa_likelihood_layer_1 (MPALike ()                   0           yhat_and_y_to_ll[0][0]           \n",
      "==================================================================================================\n",
      "Total params: 514\n",
      "Trainable params: 514\n",
      "Non-trainable params: 0\n",
      "__________________________________________________________________________________________________\n"
     ]
    }
   ],
   "source": [
    "NAR.get_nn().summary()"
   ]
  },
  {
   "cell_type": "code",
   "execution_count": 13,
   "metadata": {
    "collapsed": true
   },
   "outputs": [],
   "source": [
    "loss_history = NAR.model.history"
   ]
  },
  {
   "cell_type": "code",
   "execution_count": 14,
   "metadata": {},
   "outputs": [
    {
     "data": {
      "image/png": "[encoded data removed]",
      "text/plain": [
       "<Figure size 432x288 with 1 Axes>"
      ]
     },
     "metadata": {
      "needs_background": "light"
     },
     "output_type": "display_data"
    }
   ],
   "source": [
    "plt.plot(loss_history.history['loss'], color='blue')\n",
    "plt.plot(loss_history.history['val_loss'], color='orange')\n",
    "plt.title('Model loss', fontsize=12)\n",
    "plt.ylabel('loss', fontsize=12)\n",
    "plt.xlabel('epoch', fontsize=12)\n",
    "plt.legend(['train', 'validation'])\n",
    "plt.show()"
   ]
  },
  {
   "cell_type": "code",
   "execution_count": 15,
   "metadata": {},
   "outputs": [
    {
     "data": {
      "text/plain": [
       "<tensorflow.python.keras.engine.training.Model at 0x131192ba8>"
      ]
     },
     "execution_count": 15,
     "metadata": {},
     "output_type": "execute_result"
    }
   ],
   "source": [
    "NAR.get_nn()"
   ]
  },
  {
   "cell_type": "code",
   "execution_count": 16,
   "metadata": {
    "collapsed": true
   },
   "outputs": [],
   "source": [
    "phi = NAR.x_to_phi(sequences)"
   ]
  },
  {
   "cell_type": "code",
   "execution_count": 17,
   "metadata": {},
   "outputs": [
    {
     "data": {
      "text/plain": [
       "<logomaker.src.Logo.Logo at 0x131265c88>"
      ]
     },
     "execution_count": 17,
     "metadata": {},
     "output_type": "execute_result"
    },
    {
     "data": {
      "image/png": "[encoded data removed]",
      "text/plain": [
       "<Figure size 720x180 with 1 Axes>"
      ]
     },
     "metadata": {
      "needs_background": "light"
     },
     "output_type": "display_data"
    }
   ],
   "source": [
    "import logomaker\n",
    "#theta_df = pd.DataFrame(NAR.get_nn().layers[2].get_weights()[0].reshape(39,4),columns=['A','C','G','T'])\n",
    "theta_df = pd.DataFrame(NAR.get_gpmap_parameters()['value'].values[1:].reshape(39,4),columns=['A','C','G','T'])\n",
    "logomaker.Logo(theta_df,center_values=False)"
   ]
  },
  {
   "cell_type": "code",
   "execution_count": 18,
   "metadata": {
    "collapsed": true
   },
   "outputs": [],
   "source": [
    "phi_range = np.linspace(min(phi),max(phi),1000)"
   ]
  },
  {
   "cell_type": "code",
   "execution_count": 19,
   "metadata": {
    "collapsed": true
   },
   "outputs": [],
   "source": [
    "p_of_all_y_given_phi = NAR.na_p_of_all_y_given_phi(phi_range)"
   ]
  },
  {
   "cell_type": "code",
   "execution_count": 20,
   "metadata": {},
   "outputs": [
    {
     "data": {
      "text/plain": [
       "[Text(0.5, 0, '-7.20'), Text(39.5, 0, '-1'), Text(78.5, 0, '3.452')]"
      ]
     },
     "execution_count": 20,
     "metadata": {},
     "output_type": "execute_result"
    },
    {
     "data": {
      "image/png": "[encoded data removed]",
      "text/plain": [
       "<Figure size 432x288 with 2 Axes>"
      ]
     },
     "metadata": {
      "needs_background": "light"
     },
     "output_type": "display_data"
    }
   ],
   "source": [
    "import seaborn as sns\n",
    "fig, ax = plt.subplots(figsize=(6,4))\n",
    "if p_of_all_y_given_phi.T[p_of_all_y_given_phi.T.shape[0]-1][0]>p_of_all_y_given_phi.T[p_of_all_y_given_phi.T.shape[0]-1][p_of_all_y_given_phi.T.shape[1]-1]:\n",
    "    ax = sns.heatmap(pd.DataFrame(p_of_all_y_given_phi.T).loc[::1,::-1],cmap='Greens')\n",
    "else:\n",
    "    ax = sns.heatmap(p_of_all_y_given_phi.T,cmap='Greens')    \n",
    "ax.invert_yaxis()\n",
    "ax.set_xticks(([0,int(len(phi_range)/2),len(phi_range)-2]), minor=False)\n",
    "middle_tick = str(phi_range[int(len(phi_range)/2)])\n",
    "ax.set_xticklabels(([str(phi_range[0])[0:5],middle_tick[0:2],str(phi_range[len(phi_range)-1])[0:5]]), minor=False)"
   ]
  },
  {
   "cell_type": "code",
   "execution_count": 21,
   "metadata": {
    "collapsed": true
   },
   "outputs": [],
   "source": [
    "NAR.save('model_files/'+experiment_name)"
   ]
  },
  {
   "cell_type": "code",
   "execution_count": 22,
   "metadata": {},
   "outputs": [
    {
     "data": {
      "text/plain": [
       "(0.5381514418772544, 0.007983661465803734)"
      ]
     },
     "execution_count": 22,
     "metadata": {},
     "output_type": "execute_result"
    }
   ],
   "source": [
    "#mi_continuous(phi,bin_counts)\n",
    "NAR.I_predictive(sequences,bin_counts,uncertainty=True)"
   ]
  },
  {
   "cell_type": "code",
   "execution_count": 23,
   "metadata": {
    "collapsed": true
   },
   "outputs": [],
   "source": [
    "#pd.DataFrame(p_of_all_y_given_phi.T).loc[::-1].to_csv('results/5_full_0/noise_model_df.csv')"
   ]
  },
  {
   "cell_type": "code",
   "execution_count": 24,
   "metadata": {},
   "outputs": [],
   "source": [
    "#pd.DataFrame(NAR.get_gpmap_parameters()['value'].values[1:].reshape(39,4),columns=NAR.model.characters).to_csv('results/5_full_0/inferred_logo.csv')\n",
    "\n"
   ]
  },
  {
   "cell_type": "code",
   "execution_count": 25,
   "metadata": {
    "collapsed": true
   },
   "outputs": [],
   "source": [
    "# full-wt: (0.3587946407040896, 0.005441512551826926)\n",
    "# rnap-wt: (0.8075633419496506, 0.006950375727335761)\n",
    "# full-500:  (0.4583881904855962, 0.0071088068293717575)\n",
    "# full-150: (0.5068673208161183, 0.007100658117906248)\n",
    "# full-0: (0.5391017416893755, 0.006851182050371136)"
   ]
  }
 ],
 "metadata": {
  "kernelspec": {
   "display_name": "Python 3",
   "language": "python",
   "name": "python3"
  },
  "language_info": {
   "codemirror_mode": {
    "name": "ipython",
    "version": 3
   },
   "file_extension": ".py",
   "mimetype": "text/x-python",
   "name": "python",
   "nbconvert_exporter": "python",
   "pygments_lexer": "ipython3",
   "version": "3.6.7"
  }
 },
 "nbformat": 4,
 "nbformat_minor": 2
}
