{
 "cells": [
  {
   "cell_type": "code",
   "execution_count": 1,
   "metadata": {},
   "outputs": [
    {
     "name": "stdout",
     "output_type": "stream",
     "text": [
      "['../../mavenn']\n"
     ]
    }
   ],
   "source": [
    "# Standard imports\n",
    "import pandas as pd\n",
    "import matplotlib.pyplot as plt\n",
    "import numpy as np\n",
    "import re\n",
    "import seaborn as sns\n",
    "import time\n",
    "import tensorflow as tf\n",
    "from tensorflow.keras.backend import get_value\n",
    "%matplotlib inline\n",
    "\n",
    "# Insert mavenn at beginning of path\n",
    "import sys\n",
    "path_to_mavenn_local = '../../'\n",
    "sys.path.insert(0, path_to_mavenn_local)\n",
    "\n",
    "#Load mavenn and check path\n",
    "import mavenn\n",
    "print(mavenn.__path__)"
   ]
  },
  {
   "cell_type": "code",
   "execution_count": 2,
   "metadata": {},
   "outputs": [],
   "source": [
    "# Import dataset splitter from sklearn\n",
    "from sklearn.model_selection import train_test_split\n",
    "\n",
    "# Load dataset as a dataframe\n",
    "data_df = mavenn.load_example_dataset('sortseq')\n",
    "\n",
    "# Extract x and y as np.arrays\n",
    "x = data_df['x'].values\n",
    "y = data_df['y'].values\n",
    "ct = data_df['ct'].values\n",
    "\n",
    "# Split into training and test sets\n",
    "#x_train, x_test, y_train, y_test = train_test_split(x, y, random_state=0)"
   ]
  },
  {
   "cell_type": "code",
   "execution_count": 3,
   "metadata": {},
   "outputs": [
    {
     "data": {
      "text/html": [
       "<div>\n",
       "<style scoped>\n",
       "    .dataframe tbody tr th:only-of-type {\n",
       "        vertical-align: middle;\n",
       "    }\n",
       "\n",
       "    .dataframe tbody tr th {\n",
       "        vertical-align: top;\n",
       "    }\n",
       "\n",
       "    .dataframe thead th {\n",
       "        text-align: right;\n",
       "    }\n",
       "</style>\n",
       "<table border=\"1\" class=\"dataframe\">\n",
       "  <thead>\n",
       "    <tr style=\"text-align: right;\">\n",
       "      <th></th>\n",
       "      <th>y</th>\n",
       "      <th>ct</th>\n",
       "      <th>x</th>\n",
       "    </tr>\n",
       "  </thead>\n",
       "  <tbody>\n",
       "    <tr>\n",
       "      <td>0</td>\n",
       "      <td>4</td>\n",
       "      <td>23.0</td>\n",
       "      <td>GGCTGTTCACTTTATGCTTCCGGCTTGTATTTTGTGTGC</td>\n",
       "    </tr>\n",
       "    <tr>\n",
       "      <td>1</td>\n",
       "      <td>2</td>\n",
       "      <td>12.0</td>\n",
       "      <td>GGTTTTACACATTATGCTTCCGGCTCGTCTCTTGTGTGG</td>\n",
       "    </tr>\n",
       "    <tr>\n",
       "      <td>2</td>\n",
       "      <td>1</td>\n",
       "      <td>11.0</td>\n",
       "      <td>GGCTTAACACTTAATGCTTCCGGCTCGTATGTTGTGTGG</td>\n",
       "    </tr>\n",
       "    <tr>\n",
       "      <td>3</td>\n",
       "      <td>5</td>\n",
       "      <td>10.0</td>\n",
       "      <td>GGTTTTACACTTTATGCTTCCCGCTCGTAAGGTGTGTCG</td>\n",
       "    </tr>\n",
       "    <tr>\n",
       "      <td>4</td>\n",
       "      <td>2</td>\n",
       "      <td>10.0</td>\n",
       "      <td>GGCTTTACACTTTATGCGTCCGGCTCGTATGTTGCGTGG</td>\n",
       "    </tr>\n",
       "  </tbody>\n",
       "</table>\n",
       "</div>"
      ],
      "text/plain": [
       "   y    ct                                        x\n",
       "0  4  23.0  GGCTGTTCACTTTATGCTTCCGGCTTGTATTTTGTGTGC\n",
       "1  2  12.0  GGTTTTACACATTATGCTTCCGGCTCGTCTCTTGTGTGG\n",
       "2  1  11.0  GGCTTAACACTTAATGCTTCCGGCTCGTATGTTGTGTGG\n",
       "3  5  10.0  GGTTTTACACTTTATGCTTCCCGCTCGTAAGGTGTGTCG\n",
       "4  2  10.0  GGCTTTACACTTTATGCGTCCGGCTCGTATGTTGCGTGG"
      ]
     },
     "execution_count": 3,
     "metadata": {},
     "output_type": "execute_result"
    }
   ],
   "source": [
    "data_df.head()"
   ]
  },
  {
   "cell_type": "code",
   "execution_count": 4,
   "metadata": {},
   "outputs": [
    {
     "name": "stdout",
     "output_type": "stream",
     "text": [
      "Epoch 1/10\n",
      "733/733 [==============================] - 1s 1ms/step - loss: 143.4548 - val_loss: 141.7848\n",
      "Epoch 2/10\n",
      "733/733 [==============================] - 1s 1ms/step - loss: 139.3058 - val_loss: 141.7928\n",
      "Epoch 3/10\n",
      "733/733 [==============================] - 1s 1ms/step - loss: 138.9803 - val_loss: 140.7527\n",
      "Epoch 4/10\n",
      "733/733 [==============================] - 1s 1ms/step - loss: 138.7766 - val_loss: 141.0634\n",
      "Epoch 5/10\n",
      "733/733 [==============================] - 1s 1ms/step - loss: 138.5662 - val_loss: 140.8011\n",
      "Epoch 6/10\n",
      "733/733 [==============================] - 1s 1ms/step - loss: 138.5517 - val_loss: 141.0807\n",
      "Epoch 7/10\n",
      "733/733 [==============================] - 1s 1ms/step - loss: 138.4964 - val_loss: 140.7459\n",
      "Epoch 8/10\n",
      "733/733 [==============================] - 1s 1ms/step - loss: 138.4562 - val_loss: 141.3588\n",
      "Epoch 9/10\n",
      "733/733 [==============================] - 1s 1ms/step - loss: 138.3875 - val_loss: 140.8738\n",
      "Epoch 10/10\n",
      "733/733 [==============================] - 1s 1ms/step - loss: 138.5002 - val_loss: 141.2995\n",
      "training time: 10.5 seconds\n"
     ]
    }
   ],
   "source": [
    "# Define a model with a pairwise G-P map\n",
    "# a heteroskedastic Gaussian GE measurement process,\n",
    "# and specify the training data.\n",
    "mavenn.set_seed(0)\n",
    "\n",
    "model = mavenn.Model(x=x,\n",
    "                     y=y,\n",
    "                     ct_n=ct,\n",
    "                     gpmap_type='additive',\n",
    "                     alphabet='dna',\n",
    "                     regression_type='MPA')\n",
    "\n",
    "# Fit model to training data\n",
    "start_time = time.time()\n",
    "model.fit(epochs=10,\n",
    "          learning_rate=0.01,\n",
    "          early_stopping=True,\n",
    "          early_stopping_patience=20)\n",
    "training_time = time.time()-start_time\n",
    "print(f'training time: {training_time:.1f} seconds')"
   ]
  },
  {
   "cell_type": "code",
   "execution_count": 5,
   "metadata": {},
   "outputs": [
    {
     "name": "stdout",
     "output_type": "stream",
     "text": [
      "Model saved to these files:\n",
      "\tsortseq.pickle\n",
      "\tsortseq.h5\n"
     ]
    }
   ],
   "source": [
    "# Save model\n",
    "model.save('sortseq')"
   ]
  },
  {
   "cell_type": "code",
   "execution_count": 6,
   "metadata": {},
   "outputs": [
    {
     "name": "stdout",
     "output_type": "stream",
     "text": [
      "Model loaded from these files:\n",
      "\tsortseq.pickle\n",
      "\tsortseq.h5\n"
     ]
    }
   ],
   "source": [
    "# Load model\n",
    "model = mavenn.load('sortseq')"
   ]
  },
  {
   "cell_type": "code",
   "execution_count": 7,
   "metadata": {},
   "outputs": [
    {
     "data": {
      "text/plain": [
       "{}"
      ]
     },
     "execution_count": 7,
     "metadata": {},
     "output_type": "execute_result"
    }
   ],
   "source": [
    "# Compute mask_dict from trainig data\n",
    "mask_dict = mavenn.get_mask_dict(x, alphabet='dna')\n",
    "mask_dict"
   ]
  },
  {
   "cell_type": "code",
   "execution_count": 8,
   "metadata": {},
   "outputs": [
    {
     "data": {
      "text/html": [
       "<div>\n",
       "<style scoped>\n",
       "    .dataframe tbody tr th:only-of-type {\n",
       "        vertical-align: middle;\n",
       "    }\n",
       "\n",
       "    .dataframe tbody tr th {\n",
       "        vertical-align: top;\n",
       "    }\n",
       "\n",
       "    .dataframe thead th {\n",
       "        text-align: right;\n",
       "    }\n",
       "</style>\n",
       "<table border=\"1\" class=\"dataframe\">\n",
       "  <thead>\n",
       "    <tr style=\"text-align: right;\">\n",
       "      <th></th>\n",
       "      <th>name</th>\n",
       "      <th>value</th>\n",
       "      <th>l</th>\n",
       "      <th>c</th>\n",
       "    </tr>\n",
       "  </thead>\n",
       "  <tbody>\n",
       "    <tr>\n",
       "      <td>0</td>\n",
       "      <td>theta_0:A</td>\n",
       "      <td>-0.055079</td>\n",
       "      <td>0</td>\n",
       "      <td>A</td>\n",
       "    </tr>\n",
       "    <tr>\n",
       "      <td>1</td>\n",
       "      <td>theta_0:C</td>\n",
       "      <td>-0.058017</td>\n",
       "      <td>0</td>\n",
       "      <td>C</td>\n",
       "    </tr>\n",
       "    <tr>\n",
       "      <td>2</td>\n",
       "      <td>theta_0:G</td>\n",
       "      <td>0.008308</td>\n",
       "      <td>0</td>\n",
       "      <td>G</td>\n",
       "    </tr>\n",
       "    <tr>\n",
       "      <td>3</td>\n",
       "      <td>theta_0:T</td>\n",
       "      <td>0.104788</td>\n",
       "      <td>0</td>\n",
       "      <td>T</td>\n",
       "    </tr>\n",
       "    <tr>\n",
       "      <td>4</td>\n",
       "      <td>theta_1:A</td>\n",
       "      <td>0.063692</td>\n",
       "      <td>1</td>\n",
       "      <td>A</td>\n",
       "    </tr>\n",
       "  </tbody>\n",
       "</table>\n",
       "</div>"
      ],
      "text/plain": [
       "        name     value  l  c\n",
       "0  theta_0:A -0.055079  0  A\n",
       "1  theta_0:C -0.058017  0  C\n",
       "2  theta_0:G  0.008308  0  G\n",
       "3  theta_0:T  0.104788  0  T\n",
       "4  theta_1:A  0.063692  1  A"
      ]
     },
     "execution_count": 8,
     "metadata": {},
     "output_type": "execute_result"
    }
   ],
   "source": [
    "wt_seq = mavenn.x_to_consensus(x)\n",
    "\n",
    "theta_add_df = model.get_gpmap_parameters(which='additive')\n",
    "theta_add_df.head()"
   ]
  },
  {
   "cell_type": "code",
   "execution_count": 9,
   "metadata": {},
   "outputs": [
    {
     "data": {
      "image/png": "[encoded data removed]",
      "text/plain": [
       "<Figure size 720x288 with 2 Axes>"
      ]
     },
     "metadata": {
      "needs_background": "light"
     },
     "output_type": "display_data"
    }
   ],
   "source": [
    "# Illustrate pairwise parameters\n",
    "fig, ax = plt.subplots(1,1, figsize=[10,4])\n",
    "ax, cb = mavenn.heatmap(theta_add_df,\n",
    "                        ax=ax,\n",
    "                        seq=wt_seq,\n",
    "                        ccenter=0)"
   ]
  },
  {
   "cell_type": "code",
   "execution_count": null,
   "metadata": {},
   "outputs": [],
   "source": []
  }
 ],
 "metadata": {
  "kernelspec": {
   "display_name": "Python 3",
   "language": "python",
   "name": "python3"
  },
  "language_info": {
   "codemirror_mode": {
    "name": "ipython",
    "version": 3
   },
   "file_extension": ".py",
   "mimetype": "text/x-python",
   "name": "python",
   "nbconvert_exporter": "python",
   "pygments_lexer": "ipython3",
   "version": "3.7.4"
  }
 },
 "nbformat": 4,
 "nbformat_minor": 2
}
