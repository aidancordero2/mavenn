{
 "cells": [
  {
   "cell_type": "code",
   "execution_count": 1,
   "metadata": {
    "collapsed": true
   },
   "outputs": [],
   "source": [
    "import pandas as pd\n",
    "import matplotlib.pyplot as plt\n",
    "import numpy as np\n",
    "from sklearn.model_selection import train_test_split\n",
    "\n",
    "import warnings\n",
    "warnings.filterwarnings(\"ignore\")\n",
    "\n",
    "\n",
    "import sys\n",
    "path_to_mavenn_local = '/Users/tareen/Desktop/Research_Projects/2020_mavenn_github/mavenn_local'\n",
    "sys.path.insert(0,path_to_mavenn_local)\n",
    "\n",
    "import mavenn"
   ]
  },
  {
   "cell_type": "code",
   "execution_count": 2,
   "metadata": {},
   "outputs": [],
   "source": [
    "data_df = pd.read_csv('Sort_seq_vector_fmt_input.csv',index_col=[0])"
   ]
  },
  {
   "cell_type": "code",
   "execution_count": 3,
   "metadata": {},
   "outputs": [
    {
     "data": {
      "text/html": [
       "<div>\n",
       "<style scoped>\n",
       "    .dataframe tbody tr th:only-of-type {\n",
       "        vertical-align: middle;\n",
       "    }\n",
       "\n",
       "    .dataframe tbody tr th {\n",
       "        vertical-align: top;\n",
       "    }\n",
       "\n",
       "    .dataframe thead th {\n",
       "        text-align: right;\n",
       "    }\n",
       "</style>\n",
       "<table border=\"1\" class=\"dataframe\">\n",
       "  <thead>\n",
       "    <tr style=\"text-align: right;\">\n",
       "      <th></th>\n",
       "      <th>seq</th>\n",
       "      <th>bin</th>\n",
       "      <th>ct</th>\n",
       "    </tr>\n",
       "  </thead>\n",
       "  <tbody>\n",
       "    <tr>\n",
       "      <th>0</th>\n",
       "      <td>GGCTTTACACTTTATGCTTCCGGCTCGTATGTTGTGTGG</td>\n",
       "      <td>6</td>\n",
       "      <td>100</td>\n",
       "    </tr>\n",
       "    <tr>\n",
       "      <th>1</th>\n",
       "      <td>GGCTTTACACTTTATGCTTCCGGCTCGTATGTTGTGTGG</td>\n",
       "      <td>8</td>\n",
       "      <td>89</td>\n",
       "    </tr>\n",
       "    <tr>\n",
       "      <th>2</th>\n",
       "      <td>GGCTTTACACTTTATGCTTCCGGCTCGTATGTTGTGTGG</td>\n",
       "      <td>5</td>\n",
       "      <td>88</td>\n",
       "    </tr>\n",
       "    <tr>\n",
       "      <th>3</th>\n",
       "      <td>GGCTTTACACTTTATGCTTCCGGCTCGTATGTTGTGTGG</td>\n",
       "      <td>7</td>\n",
       "      <td>84</td>\n",
       "    </tr>\n",
       "    <tr>\n",
       "      <th>4</th>\n",
       "      <td>GGCTTTACACTTTATGCTTCCGGCTCGTATGTTGTGTGG</td>\n",
       "      <td>9</td>\n",
       "      <td>72</td>\n",
       "    </tr>\n",
       "  </tbody>\n",
       "</table>\n",
       "</div>"
      ],
      "text/plain": [
       "                                       seq  bin   ct\n",
       "0  GGCTTTACACTTTATGCTTCCGGCTCGTATGTTGTGTGG    6  100\n",
       "1  GGCTTTACACTTTATGCTTCCGGCTCGTATGTTGTGTGG    8   89\n",
       "2  GGCTTTACACTTTATGCTTCCGGCTCGTATGTTGTGTGG    5   88\n",
       "3  GGCTTTACACTTTATGCTTCCGGCTCGTATGTTGTGTGG    7   84\n",
       "4  GGCTTTACACTTTATGCTTCCGGCTCGTATGTTGTGTGG    9   72"
      ]
     },
     "execution_count": 3,
     "metadata": {},
     "output_type": "execute_result"
    }
   ],
   "source": [
    "data_df.head()"
   ]
  },
  {
   "cell_type": "code",
   "execution_count": 4,
   "metadata": {
    "collapsed": true
   },
   "outputs": [],
   "source": [
    "sequences = data_df['seq'].values\n",
    "bin_counts = data_df['bin'].values\n",
    "ct_n = data_df['ct'].values"
   ]
  },
  {
   "cell_type": "code",
   "execution_count": null,
   "metadata": {},
   "outputs": [
    {
     "name": "stdout",
     "output_type": "stream",
     "text": [
      "Train on 36622 samples, validate on 9156 samples\n",
      "Epoch 1/30\n",
      "36622/36622 [==============================] - 1s 37us/step - loss: 111.0427 - val_loss: 104.6109\n",
      "Epoch 2/30\n",
      "36622/36622 [==============================] - 1s 34us/step - loss: 109.0186 - val_loss: 100.6378\n",
      "Epoch 3/30\n",
      "36622/36622 [==============================] - 1s 28us/step - loss: 103.5284 - val_loss: 96.6809\n",
      "Epoch 4/30\n",
      "36622/36622 [==============================] - 1s 30us/step - loss: 100.7690 - val_loss: 96.0095\n",
      "Epoch 5/30\n",
      "36622/36622 [==============================] - 1s 30us/step - loss: 100.0695 - val_loss: 95.8160\n",
      "Epoch 6/30\n",
      "36622/36622 [==============================] - 1s 30us/step - loss: 99.8129 - val_loss: 95.4236\n",
      "Epoch 7/30\n",
      "36622/36622 [==============================] - 1s 29us/step - loss: 99.6664 - val_loss: 95.3313\n",
      "Epoch 8/30\n",
      "36622/36622 [==============================] - 1s 28us/step - loss: 99.5375 - val_loss: 95.3490\n",
      "Epoch 9/30\n",
      "36622/36622 [==============================] - 1s 28us/step - loss: 99.4373 - val_loss: 95.3422\n",
      "Epoch 10/30\n",
      "36622/36622 [==============================] - 1s 28us/step - loss: 99.3679 - val_loss: 95.2515\n",
      "Epoch 11/30\n",
      "36622/36622 [==============================] - 1s 28us/step - loss: 99.3096 - val_loss: 95.3488\n",
      "Epoch 12/30\n",
      "36622/36622 [==============================] - 1s 30us/step - loss: 99.2604 - val_loss: 95.1910\n",
      "Epoch 13/30\n",
      "36622/36622 [==============================] - 1s 30us/step - loss: 99.2259 - val_loss: 95.1416\n",
      "Epoch 14/30\n",
      "36622/36622 [==============================] - 1s 29us/step - loss: 99.1992 - val_loss: 95.1469\n",
      "Epoch 15/30\n",
      "36622/36622 [==============================] - 1s 29us/step - loss: 99.1463 - val_loss: 95.1008\n",
      "Epoch 16/30\n",
      "36622/36622 [==============================] - 1s 32us/step - loss: 99.1501 - val_loss: 95.0241\n",
      "Epoch 17/30\n",
      "36622/36622 [==============================] - 1s 32us/step - loss: 99.1210 - val_loss: 95.2280\n",
      "Epoch 18/30\n",
      "36622/36622 [==============================] - 1s 29us/step - loss: 99.0824 - val_loss: 95.0769\n",
      "Epoch 19/30\n",
      "36622/36622 [==============================] - 1s 30us/step - loss: 99.0640 - val_loss: 95.1080\n",
      "Epoch 20/30\n",
      "36622/36622 [==============================] - 1s 30us/step - loss: 99.0318 - val_loss: 95.0344\n",
      "Epoch 21/30\n",
      "36622/36622 [==============================] - 1s 29us/step - loss: 99.0479 - val_loss: 95.0098\n",
      "Epoch 22/30\n",
      "36622/36622 [==============================] - 1s 32us/step - loss: 99.0190 - val_loss: 95.1083\n",
      "Epoch 23/30\n",
      "36622/36622 [==============================] - 1s 32us/step - loss: 99.0023 - val_loss: 95.1935\n",
      "Epoch 24/30\n",
      "36622/36622 [==============================] - 1s 30us/step - loss: 98.9951 - val_loss: 95.1404\n",
      "Epoch 25/30\n",
      "36622/36622 [==============================] - 1s 31us/step - loss: 98.9747 - val_loss: 95.2025\n",
      "Epoch 26/30\n",
      "36622/36622 [==============================] - 1s 30us/step - loss: 98.9786 - val_loss: 95.1779\n"
     ]
    },
    {
     "data": {
      "text/plain": [
       "<tensorflow.python.keras.callbacks.History at 0x116d74c50>"
      ]
     },
     "execution_count": 5,
     "metadata": {},
     "output_type": "execute_result"
    }
   ],
   "source": [
    "NAR = mavenn.Model(regression_type='NA',\n",
    "                   x=sequences, \n",
    "                   y=bin_counts, \n",
    "                   ct_n = ct_n,\n",
    "                   gpmap_type='additive',\n",
    "                   alphabet='dna',\n",
    "                   theta_regularization=0.001,\n",
    "                   ohe_batch_size=50000)\n",
    "\n",
    "NAR.fit(epochs=30, \n",
    "        learning_rate=0.0005,\n",
    "        early_stopping=True, \n",
    "        early_stopping_patience=5, \n",
    "        verbose=1)"
   ]
  },
  {
   "cell_type": "code",
   "execution_count": null,
   "metadata": {
    "collapsed": true
   },
   "outputs": [],
   "source": [
    "loss_history = NAR.model.history"
   ]
  },
  {
   "cell_type": "code",
   "execution_count": null,
   "metadata": {},
   "outputs": [
    {
     "data": {
      "image/png": "[encoded data removed]",
      "text/plain": [
       "<Figure size 432x288 with 1 Axes>"
      ]
     },
     "metadata": {
      "needs_background": "light"
     },
     "output_type": "display_data"
    }
   ],
   "source": [
    "plt.plot(loss_history.history['loss'], color='blue')\n",
    "plt.plot(loss_history.history['val_loss'], color='orange')\n",
    "plt.title('Model loss', fontsize=12)\n",
    "plt.ylabel('loss', fontsize=12)\n",
    "plt.xlabel('epoch', fontsize=12)\n",
    "plt.legend(['train', 'validation'])\n",
    "plt.show()"
   ]
  },
  {
   "cell_type": "code",
   "execution_count": null,
   "metadata": {},
   "outputs": [
    {
     "name": "stdout",
     "output_type": "stream",
     "text": [
      "__________________________________________________________________________________________________\n",
      "Layer (type)                    Output Shape         Param #     Connected to                     \n",
      "==================================================================================================\n",
      "Sequence_labels_input (InputLay (None, 166)          0                                            \n",
      "__________________________________________________________________________________________________\n",
      "Sequence_only (Lambda)          (None, 156)          0           Sequence_labels_input[0][0]      \n",
      "__________________________________________________________________________________________________\n",
      "phiPrime (Dense)                (None, 1)            157         Sequence_only[0][0]              \n",
      "__________________________________________________________________________________________________\n",
      "fix_diffeomorphic_mode (fixDiff (None, 1)            0           phiPrime[0][0]                   \n",
      "__________________________________________________________________________________________________\n",
      "phi (Dense)                     (None, 1)            2           fix_diffeomorphic_mode[0][0]     \n",
      "__________________________________________________________________________________________________\n",
      "dense_1 (Dense)                 (None, 50)           100         phi[0][0]                        \n",
      "__________________________________________________________________________________________________\n",
      "yhat (Dense)                    (None, 10)           510         dense_1[0][0]                    \n",
      "__________________________________________________________________________________________________\n",
      "Labels_input (Lambda)           (None, 10)           0           Sequence_labels_input[0][0]      \n",
      "__________________________________________________________________________________________________\n",
      "yhat_and_y_to_ll (Concatenate)  (None, 20)           0           yhat[0][0]                       \n",
      "                                                                 Labels_input[0][0]               \n",
      "__________________________________________________________________________________________________\n",
      "na_likelihood_layer_1 (NALikeli ()                   0           yhat_and_y_to_ll[0][0]           \n",
      "==================================================================================================\n",
      "Total params: 769\n",
      "Trainable params: 769\n",
      "Non-trainable params: 0\n",
      "__________________________________________________________________________________________________\n"
     ]
    }
   ],
   "source": [
    "NAR.get_nn().summary()"
   ]
  },
  {
   "cell_type": "code",
   "execution_count": null,
   "metadata": {},
   "outputs": [
    {
     "data": {
      "text/plain": [
       "<tensorflow.python.keras.engine.training.Model at 0x130782a90>"
      ]
     },
     "execution_count": 9,
     "metadata": {},
     "output_type": "execute_result"
    }
   ],
   "source": [
    "NAR.get_nn()"
   ]
  },
  {
   "cell_type": "code",
   "execution_count": null,
   "metadata": {},
   "outputs": [],
   "source": [
    "phi = NAR.x_to_phi(sequences)"
   ]
  },
  {
   "cell_type": "code",
   "execution_count": null,
   "metadata": {},
   "outputs": [],
   "source": [
    "import logomaker\n",
    "theta_df = pd.DataFrame(NAR.get_nn().layers[2].get_weights()[0].reshape(39,4),columns=['A','C','G','T'])\n",
    "logomaker.Logo(theta_df,center_values=False)"
   ]
  },
  {
   "cell_type": "code",
   "execution_count": null,
   "metadata": {
    "collapsed": true
   },
   "outputs": [],
   "source": [
    "phi_range = np.linspace(min(phi),max(phi),500)"
   ]
  },
  {
   "cell_type": "code",
   "execution_count": null,
   "metadata": {},
   "outputs": [],
   "source": [
    "p_of_all_y_given_phi = NAR.na_p_of_all_y_given_phi(phi_range)"
   ]
  },
  {
   "cell_type": "code",
   "execution_count": null,
   "metadata": {},
   "outputs": [],
   "source": [
    "import seaborn as sns\n",
    "fig, ax = plt.subplots(figsize=(6,4))\n",
    "if p_of_all_y_given_phi.T[p_of_all_y_given_phi.T.shape[0]-1][0]>p_of_all_y_given_phi.T[p_of_all_y_given_phi.T.shape[0]-1][p_of_all_y_given_phi.T.shape[1]-1]:\n",
    "    ax = sns.heatmap(pd.DataFrame(p_of_all_y_given_phi.T).loc[::1,::-1],cmap='Greens')\n",
    "else:\n",
    "    ax = sns.heatmap(p_of_all_y_given_phi.T,cmap='Greens')    \n",
    "ax.invert_yaxis()\n",
    "ax.set_xticks(([0,int(len(phi_range)/2),len(phi_range)-2]), minor=False)\n",
    "middle_tick = str(phi_range[int(len(phi_range)/2)])\n",
    "ax.set_xticklabels(([str(phi_range[0])[0:5],middle_tick[0:2],str(phi_range[len(phi_range)-1])[0:5]]), minor=False)"
   ]
  }
 ],
 "metadata": {
  "kernelspec": {
   "display_name": "Python 3",
   "language": "python",
   "name": "python3"
  },
  "language_info": {
   "codemirror_mode": {
    "name": "ipython",
    "version": 3
   },
   "file_extension": ".py",
   "mimetype": "text/x-python",
   "name": "python",
   "nbconvert_exporter": "python",
   "pygments_lexer": "ipython3",
   "version": "3.6.7"
  }
 },
 "nbformat": 4,
 "nbformat_minor": 2
}
