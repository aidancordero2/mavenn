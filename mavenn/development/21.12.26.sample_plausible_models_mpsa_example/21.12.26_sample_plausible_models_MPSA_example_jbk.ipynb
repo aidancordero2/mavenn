{
 "cells": [
  {
   "cell_type": "markdown",
   "metadata": {},
   "source": [
    "This notebook is intended to test the mavenn functionality which enables the computation of parameter uncertainties via inference on simulated data"
   ]
  },
  {
   "cell_type": "code",
   "execution_count": 1,
   "metadata": {
    "ExecuteTime": {
     "end_time": "2021-12-27T04:26:28.001513Z",
     "start_time": "2021-12-27T04:26:25.972690Z"
    }
   },
   "outputs": [],
   "source": [
    "# Standard imports\n",
    "import pandas as pd\n",
    "import matplotlib.pyplot as plt\n",
    "import numpy as np\n",
    "import re\n",
    "import seaborn as sns\n",
    "import time\n",
    "import tensorflow as tf\n",
    "%matplotlib inline\n",
    "\n",
    "#Load mavenn and check path\n",
    "import mavenn"
   ]
  },
  {
   "cell_type": "code",
   "execution_count": 2,
   "metadata": {
    "ExecuteTime": {
     "end_time": "2021-12-27T04:26:28.035622Z",
     "start_time": "2021-12-27T04:26:28.002609Z"
    }
   },
   "outputs": [
    {
     "name": "stdout",
     "output_type": "stream",
     "text": [
      "Training set   :   18,469 observations (  60.59%)\n",
      "Validation set :    5,936 observations (  19.47%)\n",
      "Test set       :    6,078 observations (  19.94%)\n",
      "-------------------------------------------------\n",
      "Total dataset  :   30,483 observations ( 100.00%)\n",
      "\n",
      "training + validation N: 24,405\n"
     ]
    },
    {
     "data": {
      "text/html": [
       "<div>\n",
       "<style scoped>\n",
       "    .dataframe tbody tr th:only-of-type {\n",
       "        vertical-align: middle;\n",
       "    }\n",
       "\n",
       "    .dataframe tbody tr th {\n",
       "        vertical-align: top;\n",
       "    }\n",
       "\n",
       "    .dataframe thead th {\n",
       "        text-align: right;\n",
       "    }\n",
       "</style>\n",
       "<table border=\"1\" class=\"dataframe\">\n",
       "  <thead>\n",
       "    <tr style=\"text-align: right;\">\n",
       "      <th></th>\n",
       "      <th>validation</th>\n",
       "      <th>tot_ct</th>\n",
       "      <th>ex_ct</th>\n",
       "      <th>y</th>\n",
       "      <th>x</th>\n",
       "    </tr>\n",
       "  </thead>\n",
       "  <tbody>\n",
       "    <tr>\n",
       "      <th>0</th>\n",
       "      <td>False</td>\n",
       "      <td>28</td>\n",
       "      <td>2</td>\n",
       "      <td>0.023406</td>\n",
       "      <td>GGAGUGAUG</td>\n",
       "    </tr>\n",
       "    <tr>\n",
       "      <th>1</th>\n",
       "      <td>False</td>\n",
       "      <td>193</td>\n",
       "      <td>15</td>\n",
       "      <td>-0.074999</td>\n",
       "      <td>UUCGCGCCA</td>\n",
       "    </tr>\n",
       "    <tr>\n",
       "      <th>2</th>\n",
       "      <td>False</td>\n",
       "      <td>27</td>\n",
       "      <td>0</td>\n",
       "      <td>-0.438475</td>\n",
       "      <td>UAAGCUUUU</td>\n",
       "    </tr>\n",
       "    <tr>\n",
       "      <th>3</th>\n",
       "      <td>False</td>\n",
       "      <td>130</td>\n",
       "      <td>2</td>\n",
       "      <td>-0.631467</td>\n",
       "      <td>AUGGUCGGG</td>\n",
       "    </tr>\n",
       "    <tr>\n",
       "      <th>4</th>\n",
       "      <td>False</td>\n",
       "      <td>552</td>\n",
       "      <td>19</td>\n",
       "      <td>-0.433012</td>\n",
       "      <td>AGGGCAGGA</td>\n",
       "    </tr>\n",
       "    <tr>\n",
       "      <th>5</th>\n",
       "      <td>False</td>\n",
       "      <td>216</td>\n",
       "      <td>6</td>\n",
       "      <td>-0.482679</td>\n",
       "      <td>GGUGUCUGU</td>\n",
       "    </tr>\n",
       "    <tr>\n",
       "      <th>6</th>\n",
       "      <td>True</td>\n",
       "      <td>88</td>\n",
       "      <td>4</td>\n",
       "      <td>-0.241737</td>\n",
       "      <td>CAGGCAAAC</td>\n",
       "    </tr>\n",
       "    <tr>\n",
       "      <th>7</th>\n",
       "      <td>False</td>\n",
       "      <td>14</td>\n",
       "      <td>0</td>\n",
       "      <td>-0.167408</td>\n",
       "      <td>CAUGCAGCU</td>\n",
       "    </tr>\n",
       "    <tr>\n",
       "      <th>8</th>\n",
       "      <td>False</td>\n",
       "      <td>170</td>\n",
       "      <td>14</td>\n",
       "      <td>-0.048222</td>\n",
       "      <td>CAAGUCACU</td>\n",
       "    </tr>\n",
       "    <tr>\n",
       "      <th>9</th>\n",
       "      <td>False</td>\n",
       "      <td>242</td>\n",
       "      <td>13</td>\n",
       "      <td>-0.230795</td>\n",
       "      <td>UCCGCGCUA</td>\n",
       "    </tr>\n",
       "  </tbody>\n",
       "</table>\n",
       "</div>"
      ],
      "text/plain": [
       "   validation  tot_ct  ex_ct         y          x\n",
       "0       False      28      2  0.023406  GGAGUGAUG\n",
       "1       False     193     15 -0.074999  UUCGCGCCA\n",
       "2       False      27      0 -0.438475  UAAGCUUUU\n",
       "3       False     130      2 -0.631467  AUGGUCGGG\n",
       "4       False     552     19 -0.433012  AGGGCAGGA\n",
       "5       False     216      6 -0.482679  GGUGUCUGU\n",
       "6        True      88      4 -0.241737  CAGGCAAAC\n",
       "7       False      14      0 -0.167408  CAUGCAGCU\n",
       "8       False     170     14 -0.048222  CAAGUCACU\n",
       "9       False     242     13 -0.230795  UCCGCGCUA"
      ]
     },
     "execution_count": 2,
     "metadata": {},
     "output_type": "execute_result"
    }
   ],
   "source": [
    "# Load example data\n",
    "data_df = mavenn.load_example_dataset('mpsa')\n",
    "trainval_df, test_df = mavenn.split_dataset(data_df)\n",
    "print(f'training + validation N: {len(trainval_df):,}')\n",
    "trainval_df.head(10)"
   ]
  },
  {
   "cell_type": "code",
   "execution_count": 3,
   "metadata": {
    "ExecuteTime": {
     "end_time": "2021-12-27T04:26:28.464555Z",
     "start_time": "2021-12-27T04:26:28.037300Z"
    }
   },
   "outputs": [],
   "source": [
    "# Get sequence length\n",
    "L = len(trainval_df['x'][0])\n",
    "\n",
    "# Define model\n",
    "model = mavenn.Model(L=L,\n",
    "                     alphabet='rna',\n",
    "                     gpmap_type='pairwise', \n",
    "                     regression_type='GE',\n",
    "                     ge_noise_model_type='SkewedT',\n",
    "                     ge_heteroskedasticity_order=2)"
   ]
  },
  {
   "cell_type": "code",
   "execution_count": 4,
   "metadata": {
    "ExecuteTime": {
     "end_time": "2021-12-27T04:26:28.679652Z",
     "start_time": "2021-12-27T04:26:28.465255Z"
    }
   },
   "outputs": [
    {
     "name": "stdout",
     "output_type": "stream",
     "text": [
      "N = 24,405 observations set as training data.\n",
      "Using 24.3% for validation.\n",
      "Data shuffled.\n",
      "Time to set data: 0.213 sec.\n"
     ]
    }
   ],
   "source": [
    "# Set training data\n",
    "model.set_data(x=trainval_df['x'],\n",
    "               y=trainval_df['y'],\n",
    "               validation_flags=trainval_df['validation'],\n",
    "               shuffle=True)"
   ]
  },
  {
   "cell_type": "code",
   "execution_count": 5,
   "metadata": {
    "ExecuteTime": {
     "end_time": "2021-12-27T04:26:43.139978Z",
     "start_time": "2021-12-27T04:26:28.680343Z"
    }
   },
   "outputs": [
    {
     "data": {
      "application/vnd.jupyter.widget-view+json": {
       "model_id": "c8aff6a2235244c3a7875890e6546c63",
       "version_major": 2,
       "version_minor": 0
      },
      "text/plain": [
       "0epoch [00:00, ?epoch/s]"
      ]
     },
     "metadata": {},
     "output_type": "display_data"
    },
    {
     "name": "stdout",
     "output_type": "stream",
     "text": [
      "Training time: 14.5 seconds\n"
     ]
    },
    {
     "data": {
      "text/plain": [
       "<tensorflow.python.keras.callbacks.History at 0x174cef340>"
      ]
     },
     "execution_count": 5,
     "metadata": {},
     "output_type": "execute_result"
    }
   ],
   "source": [
    "# Fit model to data\n",
    "model.fit(learning_rate=.001,\n",
    "          epochs=300,\n",
    "          batch_size=200,\n",
    "          early_stopping=True,\n",
    "          early_stopping_patience=30,\n",
    "          try_tqdm = True,\n",
    "          linear_initialization=True,\n",
    "          verbose=False)"
   ]
  },
  {
   "cell_type": "code",
   "execution_count": 6,
   "metadata": {
    "ExecuteTime": {
     "end_time": "2021-12-27T04:26:43.144930Z",
     "start_time": "2021-12-27T04:26:43.142047Z"
    }
   },
   "outputs": [
    {
     "data": {
      "text/plain": [
       "{'epochs': 300,\n",
       " 'learning_rate': 0.001,\n",
       " 'validation_split': 0.2,\n",
       " 'verbose': False,\n",
       " 'early_stopping': True,\n",
       " 'early_stopping_patience': 30,\n",
       " 'batch_size': 200,\n",
       " 'linear_initialization': True,\n",
       " 'freeze_theta': False,\n",
       " 'try_tqdm': True,\n",
       " 'optimizer': 'Adam',\n",
       " 'optimizer_kwargs': {'learning_rate': 0.001},\n",
       " 'fit_kwargs': {}}"
      ]
     },
     "execution_count": 6,
     "metadata": {},
     "output_type": "execute_result"
    }
   ],
   "source": [
    "model.fit_args"
   ]
  },
  {
   "cell_type": "code",
   "execution_count": 7,
   "metadata": {
    "ExecuteTime": {
     "end_time": "2021-12-27T04:26:43.155970Z",
     "start_time": "2021-12-27T04:26:43.146591Z"
    }
   },
   "outputs": [
    {
     "name": "stdout",
     "output_type": "stream",
     "text": [
      "Model saved to these files:\n",
      "\tmpsa_ge_additive.pickle\n",
      "\tmpsa_ge_additive.h5\n"
     ]
    }
   ],
   "source": [
    "# # Save model\n",
    "model.save('mpsa_ge_additive')"
   ]
  },
  {
   "cell_type": "code",
   "execution_count": 8,
   "metadata": {
    "ExecuteTime": {
     "end_time": "2021-12-27T04:26:43.210101Z",
     "start_time": "2021-12-27T04:26:43.156727Z"
    }
   },
   "outputs": [
    {
     "name": "stdout",
     "output_type": "stream",
     "text": [
      "Model loaded from these files:\n",
      "\tmpsa_ge_additive.pickle\n",
      "\tmpsa_ge_additive.h5\n"
     ]
    }
   ],
   "source": [
    "# Load model\n",
    "model = mavenn.load('mpsa_ge_additive')"
   ]
  },
  {
   "cell_type": "code",
   "execution_count": 9,
   "metadata": {
    "ExecuteTime": {
     "end_time": "2021-12-27T04:26:43.213063Z",
     "start_time": "2021-12-27T04:26:43.210828Z"
    }
   },
   "outputs": [
    {
     "data": {
      "text/plain": [
       "{'epochs': 300,\n",
       " 'learning_rate': 0.001,\n",
       " 'validation_split': 0.2,\n",
       " 'verbose': False,\n",
       " 'early_stopping': True,\n",
       " 'early_stopping_patience': 30,\n",
       " 'batch_size': 200,\n",
       " 'linear_initialization': True,\n",
       " 'freeze_theta': False,\n",
       " 'try_tqdm': True,\n",
       " 'optimizer': 'Adam',\n",
       " 'optimizer_kwargs': {'learning_rate': 0.001},\n",
       " 'fit_kwargs': {}}"
      ]
     },
     "execution_count": 9,
     "metadata": {},
     "output_type": "execute_result"
    }
   ],
   "source": [
    "model.fit_args"
   ]
  },
  {
   "cell_type": "code",
   "execution_count": 10,
   "metadata": {
    "ExecuteTime": {
     "end_time": "2021-12-27T04:26:43.215692Z",
     "start_time": "2021-12-27T04:26:43.213794Z"
    }
   },
   "outputs": [],
   "source": [
    "# Get x and y\n",
    "x_test = test_df['x'].values\n",
    "y_test = test_df['y'].values"
   ]
  },
  {
   "cell_type": "code",
   "execution_count": 11,
   "metadata": {
    "ExecuteTime": {
     "end_time": "2021-12-27T04:26:43.618660Z",
     "start_time": "2021-12-27T04:26:43.216509Z"
    }
   },
   "outputs": [
    {
     "name": "stdout",
     "output_type": "stream",
     "text": [
      "On test data:\n",
      "I_var_test: 0.323 +- 0.025 bits\n",
      "I_pred_test: 0.362 +- 0.018 bits\n"
     ]
    },
    {
     "data": {
      "text/plain": [
       "Text(0.5, 1.0, 'training hisotry')"
      ]
     },
     "execution_count": 11,
     "metadata": {},
     "output_type": "execute_result"
    },
    {
     "data": {
      "image/png": "[encoded data removed]",
      "text/plain": [
       "<Figure size 288x288 with 1 Axes>"
      ]
     },
     "metadata": {
      "needs_background": "light"
     },
     "output_type": "display_data"
    }
   ],
   "source": [
    "# Show training history\n",
    "print('On test data:')\n",
    "\n",
    "# Compute variational information\n",
    "I_var, dI_var =  model.I_variational(x=x_test, y=y_test)\n",
    "print(f'I_var_test: {I_var:.3f} +- {dI_var:.3f} bits') \n",
    "\n",
    "# Compute predictive information\n",
    "I_pred, dI_pred = model.I_predictive(x=x_test, y=y_test)\n",
    "print(f'I_pred_test: {I_pred:.3f} +- {dI_pred:.3f} bits')\n",
    "\n",
    "I_var_hist = model.history['I_var']\n",
    "val_I_var_hist = model.history['val_I_var']\n",
    "\n",
    "fig, ax = plt.subplots(1,1,figsize=[4,4])\n",
    "ax.plot(I_var_hist, label='I_var_train')\n",
    "ax.plot(val_I_var_hist, label='I_var_val')\n",
    "ax.axhline(I_var, color='C2', linestyle=':', label='I_var_test')\n",
    "ax.axhline(I_pred, color='C3', linestyle=':', label='I_pred_test')\n",
    "ax.legend()\n",
    "ax.set_xlabel('epochs')\n",
    "ax.set_ylabel('bits')\n",
    "ax.set_title('training hisotry')\n",
    "#ax.set_ylim([0, I_pred*1.2]);"
   ]
  },
  {
   "cell_type": "code",
   "execution_count": 12,
   "metadata": {
    "ExecuteTime": {
     "end_time": "2021-12-27T04:26:43.872599Z",
     "start_time": "2021-12-27T04:26:43.619518Z"
    }
   },
   "outputs": [
    {
     "data": {
      "image/png": "[encoded data removed]",
      "text/plain": [
       "<Figure size 288x288 with 1 Axes>"
      ]
     },
     "metadata": {
      "needs_background": "light"
     },
     "output_type": "display_data"
    }
   ],
   "source": [
    "# Predict latent phentoype values (phi) on test data\n",
    "phi_test = model.x_to_phi(x_test)\n",
    "\n",
    "# Predict measurement values (yhat) on test data\n",
    "yhat_test = model.x_to_yhat(x_test)\n",
    "\n",
    "# Set phi lims and create grid in phi space\n",
    "phi_lim = [min(phi_test)-.5, max(phi_test)+.5]\n",
    "phi_grid = np.linspace(phi_lim[0], phi_lim[1], 1000)\n",
    "\n",
    "# Compute yhat each phi gridpoint\n",
    "yhat_grid = model.phi_to_yhat(phi_grid)\n",
    "\n",
    "# Compute 90% CI for each yhat\n",
    "q = [0.05, 0.95] #[0.16, 0.84]\n",
    "yqs_grid = model.yhat_to_yq(yhat_grid, q=q)\n",
    "\n",
    "# Create figure\n",
    "fig, ax = plt.subplots(1, 1, figsize=[4, 4])\n",
    "\n",
    "# Illustrate measurement process with GE curve\n",
    "ax.scatter(phi_test, y_test, color='C0', s=5, alpha=.2, label='test data')\n",
    "ax.plot(phi_grid, yhat_grid, linewidth=2, color='C1',\n",
    "        label='$\\hat{y} = g(\\phi)$')\n",
    "ax.plot(phi_grid, yqs_grid[:, 0], linestyle='--', color='C1', label='68% CI')\n",
    "ax.plot(phi_grid, yqs_grid[:, 1], linestyle='--', color='C1')\n",
    "ax.set_xlim(phi_lim)\n",
    "ax.set_xlabel('latent phenotype ($\\phi$)')\n",
    "ax.set_ylabel('measurement ($y$)')\n",
    "ax.set_title('measurement process')\n",
    "ax.legend()\n",
    "\n",
    "# Fix up plot\n",
    "fig.tight_layout()\n",
    "plt.show()"
   ]
  },
  {
   "cell_type": "code",
   "execution_count": 13,
   "metadata": {
    "ExecuteTime": {
     "end_time": "2021-12-27T04:26:44.151904Z",
     "start_time": "2021-12-27T04:26:43.873400Z"
    }
   },
   "outputs": [
    {
     "data": {
      "text/html": [
       "<div>\n",
       "<style scoped>\n",
       "    .dataframe tbody tr th:only-of-type {\n",
       "        vertical-align: middle;\n",
       "    }\n",
       "\n",
       "    .dataframe tbody tr th {\n",
       "        vertical-align: top;\n",
       "    }\n",
       "\n",
       "    .dataframe thead th {\n",
       "        text-align: right;\n",
       "    }\n",
       "</style>\n",
       "<table border=\"1\" class=\"dataframe\">\n",
       "  <thead>\n",
       "    <tr style=\"text-align: right;\">\n",
       "      <th></th>\n",
       "      <th>set</th>\n",
       "      <th>phi</th>\n",
       "      <th>yhat</th>\n",
       "      <th>y</th>\n",
       "      <th>x</th>\n",
       "    </tr>\n",
       "  </thead>\n",
       "  <tbody>\n",
       "    <tr>\n",
       "      <th>0</th>\n",
       "      <td>training</td>\n",
       "      <td>0.775821</td>\n",
       "      <td>-0.265478</td>\n",
       "      <td>-0.010113</td>\n",
       "      <td>GGAGUGAUG</td>\n",
       "    </tr>\n",
       "    <tr>\n",
       "      <th>1</th>\n",
       "      <td>test</td>\n",
       "      <td>0.876489</td>\n",
       "      <td>-0.255576</td>\n",
       "      <td>-0.275899</td>\n",
       "      <td>AGUGUGCAA</td>\n",
       "    </tr>\n",
       "    <tr>\n",
       "      <th>2</th>\n",
       "      <td>training</td>\n",
       "      <td>-0.424513</td>\n",
       "      <td>-0.324536</td>\n",
       "      <td>-0.436904</td>\n",
       "      <td>UUCGCGCCA</td>\n",
       "    </tr>\n",
       "    <tr>\n",
       "      <th>3</th>\n",
       "      <td>training</td>\n",
       "      <td>-0.600959</td>\n",
       "      <td>-0.331015</td>\n",
       "      <td>-0.050174</td>\n",
       "      <td>UAAGCUUUU</td>\n",
       "    </tr>\n",
       "    <tr>\n",
       "      <th>4</th>\n",
       "      <td>training</td>\n",
       "      <td>0.778551</td>\n",
       "      <td>-0.265240</td>\n",
       "      <td>-0.120699</td>\n",
       "      <td>AUGGUCGGG</td>\n",
       "    </tr>\n",
       "    <tr>\n",
       "      <th>...</th>\n",
       "      <td>...</td>\n",
       "      <td>...</td>\n",
       "      <td>...</td>\n",
       "      <td>...</td>\n",
       "      <td>...</td>\n",
       "    </tr>\n",
       "    <tr>\n",
       "      <th>30478</th>\n",
       "      <td>training</td>\n",
       "      <td>-0.064295</td>\n",
       "      <td>-0.310319</td>\n",
       "      <td>-0.323053</td>\n",
       "      <td>CUGGUUGCA</td>\n",
       "    </tr>\n",
       "    <tr>\n",
       "      <th>30479</th>\n",
       "      <td>training</td>\n",
       "      <td>-0.839909</td>\n",
       "      <td>-0.339232</td>\n",
       "      <td>-0.133724</td>\n",
       "      <td>CGCGCACAA</td>\n",
       "    </tr>\n",
       "    <tr>\n",
       "      <th>30480</th>\n",
       "      <td>test</td>\n",
       "      <td>-1.047738</td>\n",
       "      <td>-0.345815</td>\n",
       "      <td>-0.121129</td>\n",
       "      <td>ACUGCUCAC</td>\n",
       "    </tr>\n",
       "    <tr>\n",
       "      <th>30481</th>\n",
       "      <td>training</td>\n",
       "      <td>-1.920521</td>\n",
       "      <td>-0.367339</td>\n",
       "      <td>-0.005915</td>\n",
       "      <td>AUAGUCUAA</td>\n",
       "    </tr>\n",
       "    <tr>\n",
       "      <th>30482</th>\n",
       "      <td>test</td>\n",
       "      <td>1.985330</td>\n",
       "      <td>1.061795</td>\n",
       "      <td>1.089704</td>\n",
       "      <td>GUGGUAACU</td>\n",
       "    </tr>\n",
       "  </tbody>\n",
       "</table>\n",
       "<p>30483 rows × 5 columns</p>\n",
       "</div>"
      ],
      "text/plain": [
       "            set       phi      yhat         y          x\n",
       "0      training  0.775821 -0.265478 -0.010113  GGAGUGAUG\n",
       "1          test  0.876489 -0.255576 -0.275899  AGUGUGCAA\n",
       "2      training -0.424513 -0.324536 -0.436904  UUCGCGCCA\n",
       "3      training -0.600959 -0.331015 -0.050174  UAAGCUUUU\n",
       "4      training  0.778551 -0.265240 -0.120699  AUGGUCGGG\n",
       "...         ...       ...       ...       ...        ...\n",
       "30478  training -0.064295 -0.310319 -0.323053  CUGGUUGCA\n",
       "30479  training -0.839909 -0.339232 -0.133724  CGCGCACAA\n",
       "30480      test -1.047738 -0.345815 -0.121129  ACUGCUCAC\n",
       "30481  training -1.920521 -0.367339 -0.005915  AUAGUCUAA\n",
       "30482      test  1.985330  1.061795  1.089704  GUGGUAACU\n",
       "\n",
       "[30483 rows x 5 columns]"
      ]
     },
     "execution_count": 13,
     "metadata": {},
     "output_type": "execute_result"
    }
   ],
   "source": [
    "model.simulate_dataset(template_df=data_df)"
   ]
  },
  {
   "cell_type": "code",
   "execution_count": 14,
   "metadata": {
    "ExecuteTime": {
     "end_time": "2021-12-27T04:28:40.731377Z",
     "start_time": "2021-12-27T04:26:44.152701Z"
    }
   },
   "outputs": [
    {
     "name": "stdout",
     "output_type": "stream",
     "text": [
      "Training set   :   18,469 observations (  60.59%)\n",
      "Validation set :    5,936 observations (  19.47%)\n",
      "Test set       :    6,078 observations (  19.94%)\n",
      "-------------------------------------------------\n",
      "Total dataset  :   30,483 observations ( 100.00%)\n",
      "\n",
      "training model 0 ...\n",
      "N = 24,405 observations set as training data.\n",
      "Using 24.3% for validation.\n",
      "Data shuffled.\n",
      "Time to set data: 0.212 sec.\n"
     ]
    },
    {
     "data": {
      "application/vnd.jupyter.widget-view+json": {
       "model_id": "62915b1d9c2d4d00acaeb533d4b66360",
       "version_major": 2,
       "version_minor": 0
      },
      "text/plain": [
       "0epoch [00:00, ?epoch/s]"
      ]
     },
     "metadata": {},
     "output_type": "display_data"
    },
    {
     "name": "stdout",
     "output_type": "stream",
     "text": [
      "Training time: 4.4 seconds\n",
      "Training set   :   18,469 observations (  60.59%)\n",
      "Validation set :    5,936 observations (  19.47%)\n",
      "Test set       :    6,078 observations (  19.94%)\n",
      "-------------------------------------------------\n",
      "Total dataset  :   30,483 observations ( 100.00%)\n",
      "\n",
      "training model 1 ...\n",
      "N = 24,405 observations set as training data.\n",
      "Using 24.3% for validation.\n",
      "Data shuffled.\n",
      "Time to set data: 0.214 sec.\n"
     ]
    },
    {
     "data": {
      "application/vnd.jupyter.widget-view+json": {
       "model_id": "7251a95e64814bd4852e625b7bb01b0c",
       "version_major": 2,
       "version_minor": 0
      },
      "text/plain": [
       "0epoch [00:00, ?epoch/s]"
      ]
     },
     "metadata": {},
     "output_type": "display_data"
    },
    {
     "name": "stdout",
     "output_type": "stream",
     "text": [
      "Training time: 5.4 seconds\n",
      "Training set   :   18,469 observations (  60.59%)\n",
      "Validation set :    5,936 observations (  19.47%)\n",
      "Test set       :    6,078 observations (  19.94%)\n",
      "-------------------------------------------------\n",
      "Total dataset  :   30,483 observations ( 100.00%)\n",
      "\n",
      "training model 2 ...\n",
      "N = 24,405 observations set as training data.\n",
      "Using 24.3% for validation.\n",
      "Data shuffled.\n",
      "Time to set data: 0.215 sec.\n"
     ]
    },
    {
     "data": {
      "application/vnd.jupyter.widget-view+json": {
       "model_id": "00d0508605494aa983cf8a3870f9f062",
       "version_major": 2,
       "version_minor": 0
      },
      "text/plain": [
       "0epoch [00:00, ?epoch/s]"
      ]
     },
     "metadata": {},
     "output_type": "display_data"
    },
    {
     "name": "stdout",
     "output_type": "stream",
     "text": [
      "Training time: 4.2 seconds\n",
      "Training set   :   18,469 observations (  60.59%)\n",
      "Validation set :    5,936 observations (  19.47%)\n",
      "Test set       :    6,078 observations (  19.94%)\n",
      "-------------------------------------------------\n",
      "Total dataset  :   30,483 observations ( 100.00%)\n",
      "\n",
      "training model 3 ...\n",
      "N = 24,405 observations set as training data.\n",
      "Using 24.3% for validation.\n",
      "Data shuffled.\n",
      "Time to set data: 0.216 sec.\n"
     ]
    },
    {
     "data": {
      "application/vnd.jupyter.widget-view+json": {
       "model_id": "bdbe5127ce9746da96afc5b3818f6583",
       "version_major": 2,
       "version_minor": 0
      },
      "text/plain": [
       "0epoch [00:00, ?epoch/s]"
      ]
     },
     "metadata": {},
     "output_type": "display_data"
    },
    {
     "name": "stdout",
     "output_type": "stream",
     "text": [
      "Training time: 7.8 seconds\n",
      "Training set   :   18,469 observations (  60.59%)\n",
      "Validation set :    5,936 observations (  19.47%)\n",
      "Test set       :    6,078 observations (  19.94%)\n",
      "-------------------------------------------------\n",
      "Total dataset  :   30,483 observations ( 100.00%)\n",
      "\n",
      "training model 4 ...\n",
      "N = 24,405 observations set as training data.\n",
      "Using 24.3% for validation.\n",
      "Data shuffled.\n",
      "Time to set data: 0.213 sec.\n"
     ]
    },
    {
     "data": {
      "application/vnd.jupyter.widget-view+json": {
       "model_id": "76aabfc52a6c4f9899f711845fc85830",
       "version_major": 2,
       "version_minor": 0
      },
      "text/plain": [
       "0epoch [00:00, ?epoch/s]"
      ]
     },
     "metadata": {},
     "output_type": "display_data"
    },
    {
     "name": "stdout",
     "output_type": "stream",
     "text": [
      "Training time: 5.5 seconds\n",
      "Training set   :   18,469 observations (  60.59%)\n",
      "Validation set :    5,936 observations (  19.47%)\n",
      "Test set       :    6,078 observations (  19.94%)\n",
      "-------------------------------------------------\n",
      "Total dataset  :   30,483 observations ( 100.00%)\n",
      "\n",
      "training model 5 ...\n",
      "N = 24,405 observations set as training data.\n",
      "Using 24.3% for validation.\n",
      "Data shuffled.\n",
      "Time to set data: 0.215 sec.\n"
     ]
    },
    {
     "data": {
      "application/vnd.jupyter.widget-view+json": {
       "model_id": "541d6631903d4ca0b5383812fae540da",
       "version_major": 2,
       "version_minor": 0
      },
      "text/plain": [
       "0epoch [00:00, ?epoch/s]"
      ]
     },
     "metadata": {},
     "output_type": "display_data"
    },
    {
     "name": "stdout",
     "output_type": "stream",
     "text": [
      "Training time: 6.7 seconds\n",
      "Training set   :   18,469 observations (  60.59%)\n",
      "Validation set :    5,936 observations (  19.47%)\n",
      "Test set       :    6,078 observations (  19.94%)\n",
      "-------------------------------------------------\n",
      "Total dataset  :   30,483 observations ( 100.00%)\n",
      "\n",
      "training model 6 ...\n",
      "N = 24,405 observations set as training data.\n",
      "Using 24.3% for validation.\n",
      "Data shuffled.\n",
      "Time to set data: 0.218 sec.\n"
     ]
    },
    {
     "data": {
      "application/vnd.jupyter.widget-view+json": {
       "model_id": "4f69143596a94b859a4cfee0405b6666",
       "version_major": 2,
       "version_minor": 0
      },
      "text/plain": [
       "0epoch [00:00, ?epoch/s]"
      ]
     },
     "metadata": {},
     "output_type": "display_data"
    },
    {
     "name": "stdout",
     "output_type": "stream",
     "text": [
      "Training time: 5.3 seconds\n",
      "Training set   :   18,469 observations (  60.59%)\n",
      "Validation set :    5,936 observations (  19.47%)\n",
      "Test set       :    6,078 observations (  19.94%)\n",
      "-------------------------------------------------\n",
      "Total dataset  :   30,483 observations ( 100.00%)\n",
      "\n",
      "training model 7 ...\n",
      "N = 24,405 observations set as training data.\n",
      "Using 24.3% for validation.\n",
      "Data shuffled.\n",
      "Time to set data: 0.216 sec.\n"
     ]
    },
    {
     "data": {
      "application/vnd.jupyter.widget-view+json": {
       "model_id": "d4f3e4692e154f9cb6d55285d8671b5b",
       "version_major": 2,
       "version_minor": 0
      },
      "text/plain": [
       "0epoch [00:00, ?epoch/s]"
      ]
     },
     "metadata": {},
     "output_type": "display_data"
    },
    {
     "name": "stdout",
     "output_type": "stream",
     "text": [
      "Training time: 5.2 seconds\n",
      "Training set   :   18,469 observations (  60.59%)\n",
      "Validation set :    5,936 observations (  19.47%)\n",
      "Test set       :    6,078 observations (  19.94%)\n",
      "-------------------------------------------------\n",
      "Total dataset  :   30,483 observations ( 100.00%)\n",
      "\n",
      "training model 8 ...\n",
      "N = 24,405 observations set as training data.\n",
      "Using 24.3% for validation.\n",
      "Data shuffled.\n",
      "Time to set data: 0.217 sec.\n"
     ]
    },
    {
     "data": {
      "application/vnd.jupyter.widget-view+json": {
       "model_id": "b1416a2da9bf42ca8a63a8f0281fabba",
       "version_major": 2,
       "version_minor": 0
      },
      "text/plain": [
       "0epoch [00:00, ?epoch/s]"
      ]
     },
     "metadata": {},
     "output_type": "display_data"
    },
    {
     "name": "stdout",
     "output_type": "stream",
     "text": [
      "Training time: 4.6 seconds\n",
      "Training set   :   18,469 observations (  60.59%)\n",
      "Validation set :    5,936 observations (  19.47%)\n",
      "Test set       :    6,078 observations (  19.94%)\n",
      "-------------------------------------------------\n",
      "Total dataset  :   30,483 observations ( 100.00%)\n",
      "\n",
      "training model 9 ...\n",
      "N = 24,405 observations set as training data.\n",
      "Using 24.3% for validation.\n",
      "Data shuffled.\n",
      "Time to set data: 0.215 sec.\n"
     ]
    },
    {
     "data": {
      "application/vnd.jupyter.widget-view+json": {
       "model_id": "c41ea2086fe0486881c424a953627da2",
       "version_major": 2,
       "version_minor": 0
      },
      "text/plain": [
       "0epoch [00:00, ?epoch/s]"
      ]
     },
     "metadata": {},
     "output_type": "display_data"
    },
    {
     "name": "stdout",
     "output_type": "stream",
     "text": [
      "Training time: 5.2 seconds\n",
      "Training set   :   18,469 observations (  60.59%)\n",
      "Validation set :    5,936 observations (  19.47%)\n",
      "Test set       :    6,078 observations (  19.94%)\n",
      "-------------------------------------------------\n",
      "Total dataset  :   30,483 observations ( 100.00%)\n",
      "\n",
      "training model 10 ...\n",
      "N = 24,405 observations set as training data.\n",
      "Using 24.3% for validation.\n",
      "Data shuffled.\n",
      "Time to set data: 0.219 sec.\n"
     ]
    },
    {
     "data": {
      "application/vnd.jupyter.widget-view+json": {
       "model_id": "aaab9220d1d24adcb804de7ad71f0818",
       "version_major": 2,
       "version_minor": 0
      },
      "text/plain": [
       "0epoch [00:00, ?epoch/s]"
      ]
     },
     "metadata": {},
     "output_type": "display_data"
    },
    {
     "name": "stdout",
     "output_type": "stream",
     "text": [
      "Training time: 4.4 seconds\n",
      "Training set   :   18,469 observations (  60.59%)\n",
      "Validation set :    5,936 observations (  19.47%)\n",
      "Test set       :    6,078 observations (  19.94%)\n",
      "-------------------------------------------------\n",
      "Total dataset  :   30,483 observations ( 100.00%)\n",
      "\n",
      "training model 11 ...\n",
      "N = 24,405 observations set as training data.\n",
      "Using 24.3% for validation.\n",
      "Data shuffled.\n",
      "Time to set data: 0.214 sec.\n"
     ]
    },
    {
     "data": {
      "application/vnd.jupyter.widget-view+json": {
       "model_id": "cc11e8178bc745548830dde9e08dc643",
       "version_major": 2,
       "version_minor": 0
      },
      "text/plain": [
       "0epoch [00:00, ?epoch/s]"
      ]
     },
     "metadata": {},
     "output_type": "display_data"
    },
    {
     "name": "stdout",
     "output_type": "stream",
     "text": [
      "Training time: 5.8 seconds\n",
      "Training set   :   18,469 observations (  60.59%)\n",
      "Validation set :    5,936 observations (  19.47%)\n",
      "Test set       :    6,078 observations (  19.94%)\n",
      "-------------------------------------------------\n",
      "Total dataset  :   30,483 observations ( 100.00%)\n",
      "\n",
      "training model 12 ...\n",
      "N = 24,405 observations set as training data.\n",
      "Using 24.3% for validation.\n",
      "Data shuffled.\n",
      "Time to set data: 0.217 sec.\n"
     ]
    },
    {
     "data": {
      "application/vnd.jupyter.widget-view+json": {
       "model_id": "4382f0caa4e94b5abf8ac03afb43ab0b",
       "version_major": 2,
       "version_minor": 0
      },
      "text/plain": [
       "0epoch [00:00, ?epoch/s]"
      ]
     },
     "metadata": {},
     "output_type": "display_data"
    },
    {
     "name": "stdout",
     "output_type": "stream",
     "text": [
      "Training time: 5.1 seconds\n",
      "Training set   :   18,469 observations (  60.59%)\n",
      "Validation set :    5,936 observations (  19.47%)\n",
      "Test set       :    6,078 observations (  19.94%)\n",
      "-------------------------------------------------\n",
      "Total dataset  :   30,483 observations ( 100.00%)\n",
      "\n",
      "training model 13 ...\n",
      "N = 24,405 observations set as training data.\n",
      "Using 24.3% for validation.\n",
      "Data shuffled.\n",
      "Time to set data: 0.217 sec.\n"
     ]
    },
    {
     "data": {
      "application/vnd.jupyter.widget-view+json": {
       "model_id": "ee35bdf113174f889c9913c2cc2ce5b2",
       "version_major": 2,
       "version_minor": 0
      },
      "text/plain": [
       "0epoch [00:00, ?epoch/s]"
      ]
     },
     "metadata": {},
     "output_type": "display_data"
    },
    {
     "name": "stdout",
     "output_type": "stream",
     "text": [
      "Training time: 4.5 seconds\n",
      "Training set   :   18,469 observations (  60.59%)\n",
      "Validation set :    5,936 observations (  19.47%)\n",
      "Test set       :    6,078 observations (  19.94%)\n",
      "-------------------------------------------------\n",
      "Total dataset  :   30,483 observations ( 100.00%)\n",
      "\n",
      "training model 14 ...\n",
      "N = 24,405 observations set as training data.\n",
      "Using 24.3% for validation.\n",
      "Data shuffled.\n",
      "Time to set data: 0.215 sec.\n"
     ]
    },
    {
     "data": {
      "application/vnd.jupyter.widget-view+json": {
       "model_id": "b4dd92a8c27044de86310ab1ae8b8dae",
       "version_major": 2,
       "version_minor": 0
      },
      "text/plain": [
       "0epoch [00:00, ?epoch/s]"
      ]
     },
     "metadata": {},
     "output_type": "display_data"
    },
    {
     "name": "stdout",
     "output_type": "stream",
     "text": [
      "Training time: 5.5 seconds\n",
      "Training set   :   18,469 observations (  60.59%)\n",
      "Validation set :    5,936 observations (  19.47%)\n",
      "Test set       :    6,078 observations (  19.94%)\n",
      "-------------------------------------------------\n",
      "Total dataset  :   30,483 observations ( 100.00%)\n",
      "\n",
      "training model 15 ...\n",
      "N = 24,405 observations set as training data.\n",
      "Using 24.3% for validation.\n",
      "Data shuffled.\n",
      "Time to set data: 0.216 sec.\n"
     ]
    },
    {
     "data": {
      "application/vnd.jupyter.widget-view+json": {
       "model_id": "d01eb4e607854e778b1f70cbac7fcc1b",
       "version_major": 2,
       "version_minor": 0
      },
      "text/plain": [
       "0epoch [00:00, ?epoch/s]"
      ]
     },
     "metadata": {},
     "output_type": "display_data"
    },
    {
     "name": "stdout",
     "output_type": "stream",
     "text": [
      "Training time: 4.6 seconds\n",
      "Training set   :   18,469 observations (  60.59%)\n",
      "Validation set :    5,936 observations (  19.47%)\n",
      "Test set       :    6,078 observations (  19.94%)\n",
      "-------------------------------------------------\n",
      "Total dataset  :   30,483 observations ( 100.00%)\n",
      "\n",
      "training model 16 ...\n",
      "N = 24,405 observations set as training data.\n",
      "Using 24.3% for validation.\n",
      "Data shuffled.\n",
      "Time to set data: 0.216 sec.\n"
     ]
    },
    {
     "data": {
      "application/vnd.jupyter.widget-view+json": {
       "model_id": "7e3734575cb94f05890dfa9340e381bc",
       "version_major": 2,
       "version_minor": 0
      },
      "text/plain": [
       "0epoch [00:00, ?epoch/s]"
      ]
     },
     "metadata": {},
     "output_type": "display_data"
    },
    {
     "name": "stdout",
     "output_type": "stream",
     "text": [
      "Training time: 6.2 seconds\n",
      "Training set   :   18,469 observations (  60.59%)\n",
      "Validation set :    5,936 observations (  19.47%)\n",
      "Test set       :    6,078 observations (  19.94%)\n",
      "-------------------------------------------------\n",
      "Total dataset  :   30,483 observations ( 100.00%)\n",
      "\n",
      "training model 17 ...\n",
      "N = 24,405 observations set as training data.\n",
      "Using 24.3% for validation.\n",
      "Data shuffled.\n",
      "Time to set data: 0.216 sec.\n"
     ]
    },
    {
     "data": {
      "application/vnd.jupyter.widget-view+json": {
       "model_id": "f92414bf700643c481ecee177b2e45d3",
       "version_major": 2,
       "version_minor": 0
      },
      "text/plain": [
       "0epoch [00:00, ?epoch/s]"
      ]
     },
     "metadata": {},
     "output_type": "display_data"
    },
    {
     "name": "stdout",
     "output_type": "stream",
     "text": [
      "Training time: 5.0 seconds\n",
      "Training set   :   18,469 observations (  60.59%)\n",
      "Validation set :    5,936 observations (  19.47%)\n",
      "Test set       :    6,078 observations (  19.94%)\n",
      "-------------------------------------------------\n",
      "Total dataset  :   30,483 observations ( 100.00%)\n",
      "\n",
      "training model 18 ...\n",
      "N = 24,405 observations set as training data.\n",
      "Using 24.3% for validation.\n",
      "Data shuffled.\n",
      "Time to set data: 0.216 sec.\n"
     ]
    },
    {
     "data": {
      "application/vnd.jupyter.widget-view+json": {
       "model_id": "040a73d47c0440278d709b3de491896a",
       "version_major": 2,
       "version_minor": 0
      },
      "text/plain": [
       "0epoch [00:00, ?epoch/s]"
      ]
     },
     "metadata": {},
     "output_type": "display_data"
    },
    {
     "name": "stdout",
     "output_type": "stream",
     "text": [
      "Training time: 5.2 seconds\n",
      "Training set   :   18,469 observations (  60.59%)\n",
      "Validation set :    5,936 observations (  19.47%)\n",
      "Test set       :    6,078 observations (  19.94%)\n",
      "-------------------------------------------------\n",
      "Total dataset  :   30,483 observations ( 100.00%)\n",
      "\n",
      "training model 19 ...\n",
      "N = 24,405 observations set as training data.\n",
      "Using 24.3% for validation.\n",
      "Data shuffled.\n",
      "Time to set data: 0.217 sec.\n"
     ]
    },
    {
     "data": {
      "application/vnd.jupyter.widget-view+json": {
       "model_id": "d8c8e98f19834d09b51964ed536b047d",
       "version_major": 2,
       "version_minor": 0
      },
      "text/plain": [
       "0epoch [00:00, ?epoch/s]"
      ]
     },
     "metadata": {},
     "output_type": "display_data"
    },
    {
     "name": "stdout",
     "output_type": "stream",
     "text": [
      "Training time: 5.4 seconds\n"
     ]
    }
   ],
   "source": [
    "#uncertainty_dict = model.compute_parameter_uncertainties(num_simulations=2)\n",
    "sim_models = model.sample_plausible_models(data_df=data_df,\n",
    "                                           num_models=20,\n",
    "                                           initialize_from_fit_model=True,)"
   ]
  },
  {
   "cell_type": "code",
   "execution_count": 15,
   "metadata": {
    "ExecuteTime": {
     "end_time": "2021-12-27T04:28:40.735410Z",
     "start_time": "2021-12-27T04:28:40.732226Z"
    }
   },
   "outputs": [
    {
     "data": {
      "text/plain": [
       "[<mavenn.src.model.Model at 0x1766733d0>,\n",
       " <mavenn.src.model.Model at 0x2800b7580>,\n",
       " <mavenn.src.model.Model at 0x176673400>,\n",
       " <mavenn.src.model.Model at 0x286c93940>,\n",
       " <mavenn.src.model.Model at 0x2b4baa640>,\n",
       " <mavenn.src.model.Model at 0x28506cc40>,\n",
       " <mavenn.src.model.Model at 0x285086220>,\n",
       " <mavenn.src.model.Model at 0x2b070e820>,\n",
       " <mavenn.src.model.Model at 0x2b490fdf0>,\n",
       " <mavenn.src.model.Model at 0x2c0e9c970>,\n",
       " <mavenn.src.model.Model at 0x2c0e753a0>,\n",
       " <mavenn.src.model.Model at 0x2b7146d90>,\n",
       " <mavenn.src.model.Model at 0x2c248d580>,\n",
       " <mavenn.src.model.Model at 0x2c6416190>,\n",
       " <mavenn.src.model.Model at 0x2c8356fa0>,\n",
       " <mavenn.src.model.Model at 0x2cd395f10>,\n",
       " <mavenn.src.model.Model at 0x2c59ee070>,\n",
       " <mavenn.src.model.Model at 0x2d1a19df0>,\n",
       " <mavenn.src.model.Model at 0x2db6d30d0>,\n",
       " <mavenn.src.model.Model at 0x2de1b4850>]"
      ]
     },
     "execution_count": 15,
     "metadata": {},
     "output_type": "execute_result"
    }
   ],
   "source": [
    "sim_models"
   ]
  },
  {
   "cell_type": "code",
   "execution_count": 16,
   "metadata": {
    "ExecuteTime": {
     "end_time": "2021-12-27T04:28:40.739301Z",
     "start_time": "2021-12-27T04:28:40.736892Z"
    }
   },
   "outputs": [
    {
     "data": {
      "text/plain": [
       "36"
      ]
     },
     "execution_count": 16,
     "metadata": {},
     "output_type": "execute_result"
    }
   ],
   "source": [
    "L = model.L\n",
    "C = model.C\n",
    "K = len(sim_models)\n",
    "\n",
    "L*(C)"
   ]
  },
  {
   "cell_type": "code",
   "execution_count": 17,
   "metadata": {
    "ExecuteTime": {
     "end_time": "2021-12-27T04:28:40.754399Z",
     "start_time": "2021-12-27T04:28:40.740019Z"
    }
   },
   "outputs": [
    {
     "name": "stdout",
     "output_type": "stream",
     "text": [
      "(9, 4)\n"
     ]
    },
    {
     "data": {
      "text/html": [
       "<div>\n",
       "<style scoped>\n",
       "    .dataframe tbody tr th:only-of-type {\n",
       "        vertical-align: middle;\n",
       "    }\n",
       "\n",
       "    .dataframe tbody tr th {\n",
       "        vertical-align: top;\n",
       "    }\n",
       "\n",
       "    .dataframe thead th {\n",
       "        text-align: right;\n",
       "    }\n",
       "</style>\n",
       "<table border=\"1\" class=\"dataframe\">\n",
       "  <thead>\n",
       "    <tr style=\"text-align: right;\">\n",
       "      <th></th>\n",
       "      <th>true</th>\n",
       "      <th>mean</th>\n",
       "      <th>std</th>\n",
       "    </tr>\n",
       "  </thead>\n",
       "  <tbody>\n",
       "    <tr>\n",
       "      <th>0</th>\n",
       "      <td>-0.472896</td>\n",
       "      <td>-0.496482</td>\n",
       "      <td>0.028030</td>\n",
       "    </tr>\n",
       "    <tr>\n",
       "      <th>1</th>\n",
       "      <td>-0.444595</td>\n",
       "      <td>-0.449934</td>\n",
       "      <td>0.019768</td>\n",
       "    </tr>\n",
       "    <tr>\n",
       "      <th>2</th>\n",
       "      <td>-0.413034</td>\n",
       "      <td>-0.412944</td>\n",
       "      <td>0.020125</td>\n",
       "    </tr>\n",
       "    <tr>\n",
       "      <th>3</th>\n",
       "      <td>-0.397992</td>\n",
       "      <td>-0.378135</td>\n",
       "      <td>0.051755</td>\n",
       "    </tr>\n",
       "    <tr>\n",
       "      <th>4</th>\n",
       "      <td>-0.383792</td>\n",
       "      <td>-0.355717</td>\n",
       "      <td>0.051492</td>\n",
       "    </tr>\n",
       "    <tr>\n",
       "      <th>5</th>\n",
       "      <td>-0.345341</td>\n",
       "      <td>-0.444104</td>\n",
       "      <td>0.060430</td>\n",
       "    </tr>\n",
       "    <tr>\n",
       "      <th>6</th>\n",
       "      <td>-0.234120</td>\n",
       "      <td>-0.212741</td>\n",
       "      <td>0.057012</td>\n",
       "    </tr>\n",
       "    <tr>\n",
       "      <th>7</th>\n",
       "      <td>-0.232937</td>\n",
       "      <td>-0.323704</td>\n",
       "      <td>0.050094</td>\n",
       "    </tr>\n",
       "    <tr>\n",
       "      <th>8</th>\n",
       "      <td>-0.221480</td>\n",
       "      <td>-0.225808</td>\n",
       "      <td>0.005891</td>\n",
       "    </tr>\n",
       "    <tr>\n",
       "      <th>9</th>\n",
       "      <td>-0.185930</td>\n",
       "      <td>-0.180715</td>\n",
       "      <td>0.004110</td>\n",
       "    </tr>\n",
       "    <tr>\n",
       "      <th>10</th>\n",
       "      <td>-0.121623</td>\n",
       "      <td>-0.127669</td>\n",
       "      <td>0.014442</td>\n",
       "    </tr>\n",
       "    <tr>\n",
       "      <th>11</th>\n",
       "      <td>-0.053362</td>\n",
       "      <td>-0.045706</td>\n",
       "      <td>0.013059</td>\n",
       "    </tr>\n",
       "    <tr>\n",
       "      <th>12</th>\n",
       "      <td>-0.052812</td>\n",
       "      <td>-0.045565</td>\n",
       "      <td>0.007922</td>\n",
       "    </tr>\n",
       "    <tr>\n",
       "      <th>13</th>\n",
       "      <td>-0.046235</td>\n",
       "      <td>-0.047914</td>\n",
       "      <td>0.010456</td>\n",
       "    </tr>\n",
       "    <tr>\n",
       "      <th>14</th>\n",
       "      <td>-0.022873</td>\n",
       "      <td>-0.052949</td>\n",
       "      <td>0.052038</td>\n",
       "    </tr>\n",
       "    <tr>\n",
       "      <th>15</th>\n",
       "      <td>-0.014730</td>\n",
       "      <td>-0.016322</td>\n",
       "      <td>0.007259</td>\n",
       "    </tr>\n",
       "    <tr>\n",
       "      <th>16</th>\n",
       "      <td>0.010433</td>\n",
       "      <td>0.043709</td>\n",
       "      <td>0.040980</td>\n",
       "    </tr>\n",
       "    <tr>\n",
       "      <th>17</th>\n",
       "      <td>0.023382</td>\n",
       "      <td>0.024765</td>\n",
       "      <td>0.004756</td>\n",
       "    </tr>\n",
       "    <tr>\n",
       "      <th>18</th>\n",
       "      <td>0.092300</td>\n",
       "      <td>0.089959</td>\n",
       "      <td>0.004278</td>\n",
       "    </tr>\n",
       "    <tr>\n",
       "      <th>19</th>\n",
       "      <td>0.092949</td>\n",
       "      <td>0.087720</td>\n",
       "      <td>0.003136</td>\n",
       "    </tr>\n",
       "    <tr>\n",
       "      <th>20</th>\n",
       "      <td>0.205480</td>\n",
       "      <td>0.208581</td>\n",
       "      <td>0.039148</td>\n",
       "    </tr>\n",
       "    <tr>\n",
       "      <th>21</th>\n",
       "      <td>0.209996</td>\n",
       "      <td>0.209637</td>\n",
       "      <td>0.041538</td>\n",
       "    </tr>\n",
       "    <tr>\n",
       "      <th>22</th>\n",
       "      <td>0.214990</td>\n",
       "      <td>0.215220</td>\n",
       "      <td>0.013113</td>\n",
       "    </tr>\n",
       "    <tr>\n",
       "      <th>23</th>\n",
       "      <td>0.268256</td>\n",
       "      <td>0.300647</td>\n",
       "      <td>0.043685</td>\n",
       "    </tr>\n",
       "    <tr>\n",
       "      <th>24</th>\n",
       "      <td>0.273988</td>\n",
       "      <td>0.282277</td>\n",
       "      <td>0.018808</td>\n",
       "    </tr>\n",
       "    <tr>\n",
       "      <th>25</th>\n",
       "      <td>0.278865</td>\n",
       "      <td>0.278495</td>\n",
       "      <td>0.007762</td>\n",
       "    </tr>\n",
       "    <tr>\n",
       "      <th>26</th>\n",
       "      <td>0.307977</td>\n",
       "      <td>0.352331</td>\n",
       "      <td>0.043909</td>\n",
       "    </tr>\n",
       "    <tr>\n",
       "      <th>27</th>\n",
       "      <td>0.425925</td>\n",
       "      <td>0.425833</td>\n",
       "      <td>0.020753</td>\n",
       "    </tr>\n",
       "    <tr>\n",
       "      <th>28</th>\n",
       "      <td>0.623384</td>\n",
       "      <td>0.662126</td>\n",
       "      <td>0.051508</td>\n",
       "    </tr>\n",
       "    <tr>\n",
       "      <th>29</th>\n",
       "      <td>0.672855</td>\n",
       "      <td>0.694412</td>\n",
       "      <td>0.022536</td>\n",
       "    </tr>\n",
       "  </tbody>\n",
       "</table>\n",
       "</div>"
      ],
      "text/plain": [
       "        true      mean       std\n",
       "0  -0.472896 -0.496482  0.028030\n",
       "1  -0.444595 -0.449934  0.019768\n",
       "2  -0.413034 -0.412944  0.020125\n",
       "3  -0.397992 -0.378135  0.051755\n",
       "4  -0.383792 -0.355717  0.051492\n",
       "5  -0.345341 -0.444104  0.060430\n",
       "6  -0.234120 -0.212741  0.057012\n",
       "7  -0.232937 -0.323704  0.050094\n",
       "8  -0.221480 -0.225808  0.005891\n",
       "9  -0.185930 -0.180715  0.004110\n",
       "10 -0.121623 -0.127669  0.014442\n",
       "11 -0.053362 -0.045706  0.013059\n",
       "12 -0.052812 -0.045565  0.007922\n",
       "13 -0.046235 -0.047914  0.010456\n",
       "14 -0.022873 -0.052949  0.052038\n",
       "15 -0.014730 -0.016322  0.007259\n",
       "16  0.010433  0.043709  0.040980\n",
       "17  0.023382  0.024765  0.004756\n",
       "18  0.092300  0.089959  0.004278\n",
       "19  0.092949  0.087720  0.003136\n",
       "20  0.205480  0.208581  0.039148\n",
       "21  0.209996  0.209637  0.041538\n",
       "22  0.214990  0.215220  0.013113\n",
       "23  0.268256  0.300647  0.043685\n",
       "24  0.273988  0.282277  0.018808\n",
       "25  0.278865  0.278495  0.007762\n",
       "26  0.307977  0.352331  0.043909\n",
       "27  0.425925  0.425833  0.020753\n",
       "28  0.623384  0.662126  0.051508\n",
       "29  0.672855  0.694412  0.022536"
      ]
     },
     "execution_count": 17,
     "metadata": {},
     "output_type": "execute_result"
    }
   ],
   "source": [
    "# Compute additive parameter uncertainties \n",
    "sim_theta_lck = np.zeros([L,C,K])\n",
    "for k, sim_model in enumerate(sim_models):\n",
    "    sim_theta_lck[:,:,k] = sim_model.get_theta()['theta_lc']\n",
    "    \n",
    "theta_lc = sim_model.get_theta()['theta_lc']\n",
    "print(theta_lc.shape)\n",
    "\n",
    "theta_lc_df = pd.DataFrame()\n",
    "theta_lc_df['true'] = theta_lc.ravel()\n",
    "theta_lc_df['mean'] = sim_theta_lck.mean(axis=2).ravel()\n",
    "theta_lc_df['std'] = sim_theta_lck.std(axis=2).ravel()\n",
    "theta_lc_df = theta_lc_df.dropna().sort_values(by='true')\n",
    "theta_lc_df = theta_lc_df[~np.isclose(theta_lc_df['true'],0)].reset_index(drop=True)\n",
    "\n",
    "theta_lc_df"
   ]
  },
  {
   "cell_type": "code",
   "execution_count": 18,
   "metadata": {
    "ExecuteTime": {
     "end_time": "2021-12-27T04:28:40.770302Z",
     "start_time": "2021-12-27T04:28:40.755392Z"
    }
   },
   "outputs": [
    {
     "name": "stdout",
     "output_type": "stream",
     "text": [
      "(9, 4, 9, 4)\n"
     ]
    },
    {
     "data": {
      "text/html": [
       "<div>\n",
       "<style scoped>\n",
       "    .dataframe tbody tr th:only-of-type {\n",
       "        vertical-align: middle;\n",
       "    }\n",
       "\n",
       "    .dataframe tbody tr th {\n",
       "        vertical-align: top;\n",
       "    }\n",
       "\n",
       "    .dataframe thead th {\n",
       "        text-align: right;\n",
       "    }\n",
       "</style>\n",
       "<table border=\"1\" class=\"dataframe\">\n",
       "  <thead>\n",
       "    <tr style=\"text-align: right;\">\n",
       "      <th></th>\n",
       "      <th>true</th>\n",
       "      <th>mean</th>\n",
       "      <th>std</th>\n",
       "    </tr>\n",
       "  </thead>\n",
       "  <tbody>\n",
       "    <tr>\n",
       "      <th>0</th>\n",
       "      <td>-0.880217</td>\n",
       "      <td>-0.831176</td>\n",
       "      <td>0.043176</td>\n",
       "    </tr>\n",
       "    <tr>\n",
       "      <th>1</th>\n",
       "      <td>-0.765995</td>\n",
       "      <td>-0.635977</td>\n",
       "      <td>0.047558</td>\n",
       "    </tr>\n",
       "    <tr>\n",
       "      <th>2</th>\n",
       "      <td>-0.729372</td>\n",
       "      <td>-0.711101</td>\n",
       "      <td>0.031249</td>\n",
       "    </tr>\n",
       "    <tr>\n",
       "      <th>3</th>\n",
       "      <td>-0.697302</td>\n",
       "      <td>-0.706110</td>\n",
       "      <td>0.027125</td>\n",
       "    </tr>\n",
       "    <tr>\n",
       "      <th>4</th>\n",
       "      <td>-0.687983</td>\n",
       "      <td>-0.686030</td>\n",
       "      <td>0.026900</td>\n",
       "    </tr>\n",
       "    <tr>\n",
       "      <th>...</th>\n",
       "      <td>...</td>\n",
       "      <td>...</td>\n",
       "      <td>...</td>\n",
       "    </tr>\n",
       "    <tr>\n",
       "      <th>387</th>\n",
       "      <td>0.599263</td>\n",
       "      <td>0.570069</td>\n",
       "      <td>0.036427</td>\n",
       "    </tr>\n",
       "    <tr>\n",
       "      <th>388</th>\n",
       "      <td>0.638254</td>\n",
       "      <td>0.616059</td>\n",
       "      <td>0.035182</td>\n",
       "    </tr>\n",
       "    <tr>\n",
       "      <th>389</th>\n",
       "      <td>0.804116</td>\n",
       "      <td>0.770841</td>\n",
       "      <td>0.027157</td>\n",
       "    </tr>\n",
       "    <tr>\n",
       "      <th>390</th>\n",
       "      <td>0.826860</td>\n",
       "      <td>0.857511</td>\n",
       "      <td>0.029757</td>\n",
       "    </tr>\n",
       "    <tr>\n",
       "      <th>391</th>\n",
       "      <td>0.907690</td>\n",
       "      <td>0.857118</td>\n",
       "      <td>0.044524</td>\n",
       "    </tr>\n",
       "  </tbody>\n",
       "</table>\n",
       "<p>392 rows × 3 columns</p>\n",
       "</div>"
      ],
      "text/plain": [
       "         true      mean       std\n",
       "0   -0.880217 -0.831176  0.043176\n",
       "1   -0.765995 -0.635977  0.047558\n",
       "2   -0.729372 -0.711101  0.031249\n",
       "3   -0.697302 -0.706110  0.027125\n",
       "4   -0.687983 -0.686030  0.026900\n",
       "..        ...       ...       ...\n",
       "387  0.599263  0.570069  0.036427\n",
       "388  0.638254  0.616059  0.035182\n",
       "389  0.804116  0.770841  0.027157\n",
       "390  0.826860  0.857511  0.029757\n",
       "391  0.907690  0.857118  0.044524\n",
       "\n",
       "[392 rows x 3 columns]"
      ]
     },
     "execution_count": 18,
     "metadata": {},
     "output_type": "execute_result"
    }
   ],
   "source": [
    "# Compute parameter uncertainties\n",
    "sim_theta_lclck = np.zeros([L,C,L,C,K])\n",
    "for k, sim_model in enumerate(sim_models):\n",
    "    sim_theta_lclck[:,:,:,:,k] = sim_model.get_theta()['theta_lclc']\n",
    "    \n",
    "theta_lclc = sim_model.get_theta()['theta_lclc']\n",
    "print(theta_lclc.shape)\n",
    "\n",
    "theta_lclc_df = pd.DataFrame()\n",
    "theta_lclc_df['true'] = theta_lclc.ravel()\n",
    "theta_lclc_df['mean'] = sim_theta_lclck.mean(axis=-1).ravel()\n",
    "theta_lclc_df['std'] = sim_theta_lclck.std(axis=-1).ravel()\n",
    "theta_lclc_df = theta_lclc_df.dropna().sort_values(by='true')\n",
    "theta_lclc_df = theta_lclc_df[~np.isclose(theta_lclc_df['true'],0)].reset_index(drop=True)\n",
    "theta_lclc_df"
   ]
  },
  {
   "cell_type": "code",
   "execution_count": 27,
   "metadata": {
    "ExecuteTime": {
     "end_time": "2021-12-27T04:36:21.851879Z",
     "start_time": "2021-12-27T04:36:21.588879Z"
    }
   },
   "outputs": [
    {
     "data": {
      "image/png": "[encoded data removed]",
      "text/plain": [
       "<Figure size 468x216 with 2 Axes>"
      ]
     },
     "metadata": {
      "needs_background": "light"
     },
     "output_type": "display_data"
    }
   ],
   "source": [
    "fig, axs = plt.subplots(1,2,figsize=[6.5,3])\n",
    "\n",
    "ax = axs[0]\n",
    "ax.errorbar(x=theta_lc_df.index,\n",
    "            y=theta_lc_df['mean'],\n",
    "            yerr=theta_lc_df['std'],\n",
    "            label='estimated',\n",
    "            linewidth=0,\n",
    "            elinewidth=1,\n",
    "            marker='.',\n",
    "            markersize=5)\n",
    "ax.plot(theta_lc_df.index,\n",
    "        theta_lc_df['true'].values,\n",
    "        label='true',\n",
    "        linewidth=1,\n",
    "        zorder=10)\n",
    "#ax.set_xticks([])\n",
    "ax.legend()\n",
    "ax.set_title(f'{len(theta_lc_df)} additive parameters')\n",
    "ax.set_xlabel('rank')\n",
    "ax.set_ylabel(r'$\\theta_{l:c}$')\n",
    "\n",
    "ax = axs[1]\n",
    "ax.errorbar(x=theta_lclc_df.index,\n",
    "            y=theta_lclc_df['mean'],\n",
    "            yerr=theta_lclc_df['std'],\n",
    "            label='estimated',\n",
    "            linewidth=0,\n",
    "            elinewidth=1,\n",
    "            marker='.',\n",
    "            markersize=5)\n",
    "ax.plot(theta_lclc_df.index,\n",
    "        theta_lclc_df['true'].values,\n",
    "        label='true',\n",
    "        linewidth=1,\n",
    "        zorder=10)\n",
    "#ax.set_xticks([])\n",
    "ax.legend()\n",
    "ax.set_title(f'{len(theta_lclc_df)} pairwise parameters')\n",
    "ax.set_xlabel('rank')\n",
    "ax.set_ylabel(r'$\\theta_{l:c,l:c}$')\n",
    "\n",
    "fig.tight_layout()\n",
    "fig.savefig('21.12.26_mpsa_theta_uncertainties.png', dpi=300)"
   ]
  },
  {
   "cell_type": "code",
   "execution_count": null,
   "metadata": {},
   "outputs": [],
   "source": []
  }
 ],
 "metadata": {
  "kernelspec": {
   "display_name": "Python 3",
   "language": "python",
   "name": "python3"
  },
  "language_info": {
   "codemirror_mode": {
    "name": "ipython",
    "version": 3
   },
   "file_extension": ".py",
   "mimetype": "text/x-python",
   "name": "python",
   "nbconvert_exporter": "python",
   "pygments_lexer": "ipython3",
   "version": "3.9.2"
  },
  "varInspector": {
   "cols": {
    "lenName": 16,
    "lenType": 16,
    "lenVar": 40
   },
   "kernels_config": {
    "python": {
     "delete_cmd_postfix": "",
     "delete_cmd_prefix": "del ",
     "library": "var_list.py",
     "varRefreshCmd": "print(var_dic_list())"
    },
    "r": {
     "delete_cmd_postfix": ") ",
     "delete_cmd_prefix": "rm(",
     "library": "var_list.r",
     "varRefreshCmd": "cat(var_dic_list()) "
    }
   },
   "types_to_exclude": [
    "module",
    "function",
    "builtin_function_or_method",
    "instance",
    "_Feature"
   ],
   "window_display": false
  }
 },
 "nbformat": 4,
 "nbformat_minor": 2
}
