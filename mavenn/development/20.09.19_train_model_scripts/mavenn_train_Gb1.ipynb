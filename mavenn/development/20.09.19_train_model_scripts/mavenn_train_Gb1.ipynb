{
 "cells": [
  {
   "cell_type": "code",
   "execution_count": 1,
   "metadata": {
    "collapsed": true
   },
   "outputs": [],
   "source": [
    "# Standard imports\n",
    "import pandas as pd\n",
    "import matplotlib.pyplot as plt\n",
    "import numpy as np\n",
    "\n",
    "# Insert path to mavenn beginning of path\n",
    "import os\n",
    "import sys\n",
    "abs_path_to_mavenn = os.path.abspath('../../../')\n",
    "sys.path.insert(0, abs_path_to_mavenn)\n",
    "\n",
    "# Load mavenn\n",
    "import mavenn"
   ]
  },
  {
   "cell_type": "code",
   "execution_count": 2,
   "metadata": {},
   "outputs": [
    {
     "data": {
      "text/plain": [
       "['/Users/tareen/Desktop/Research_Projects/2020_mavenn_github/mavenn_local/mavenn']"
      ]
     },
     "execution_count": 2,
     "metadata": {},
     "output_type": "execute_result"
    }
   ],
   "source": [
    "mavenn.__path__"
   ]
  },
  {
   "cell_type": "code",
   "execution_count": 3,
   "metadata": {
    "collapsed": true
   },
   "outputs": [],
   "source": [
    "# load data\n",
    "gb1_df = mavenn.load_example(which='training_data',name='gb1')"
   ]
  },
  {
   "cell_type": "code",
   "execution_count": 4,
   "metadata": {},
   "outputs": [
    {
     "data": {
      "text/html": [
       "<div>\n",
       "<style scoped>\n",
       "    .dataframe tbody tr th:only-of-type {\n",
       "        vertical-align: middle;\n",
       "    }\n",
       "\n",
       "    .dataframe tbody tr th {\n",
       "        vertical-align: top;\n",
       "    }\n",
       "\n",
       "    .dataframe thead th {\n",
       "        text-align: right;\n",
       "    }\n",
       "</style>\n",
       "<table border=\"1\" class=\"dataframe\">\n",
       "  <thead>\n",
       "    <tr style=\"text-align: right;\">\n",
       "      <th></th>\n",
       "      <th>input_ct</th>\n",
       "      <th>selected_ct</th>\n",
       "      <th>hamming_dist</th>\n",
       "      <th>training_set</th>\n",
       "      <th>y</th>\n",
       "      <th>dy</th>\n",
       "      <th>x</th>\n",
       "    </tr>\n",
       "  </thead>\n",
       "  <tbody>\n",
       "    <tr>\n",
       "      <th>0</th>\n",
       "      <td>1759616.0</td>\n",
       "      <td>3041819.0</td>\n",
       "      <td>0</td>\n",
       "      <td>True</td>\n",
       "      <td>0.000000</td>\n",
       "      <td>0.001366</td>\n",
       "      <td>QYKLILNGKTLKGETTTEAVDAATAEKVFKQYANDNGVDGEWTYDD...</td>\n",
       "    </tr>\n",
       "    <tr>\n",
       "      <th>1</th>\n",
       "      <td>14663.0</td>\n",
       "      <td>38476.0</td>\n",
       "      <td>1</td>\n",
       "      <td>True</td>\n",
       "      <td>0.602044</td>\n",
       "      <td>0.014001</td>\n",
       "      <td>AYKLILNGKTLKGETTTEAVDAATAEKVFKQYANDNGVDGEWTYDD...</td>\n",
       "    </tr>\n",
       "    <tr>\n",
       "      <th>2</th>\n",
       "      <td>13001.0</td>\n",
       "      <td>23023.0</td>\n",
       "      <td>1</td>\n",
       "      <td>True</td>\n",
       "      <td>0.034732</td>\n",
       "      <td>0.015827</td>\n",
       "      <td>CYKLILNGKTLKGETTTEAVDAATAEKVFKQYANDNGVDGEWTYDD...</td>\n",
       "    </tr>\n",
       "    <tr>\n",
       "      <th>3</th>\n",
       "      <td>11488.0</td>\n",
       "      <td>18085.0</td>\n",
       "      <td>1</td>\n",
       "      <td>True</td>\n",
       "      <td>-0.135053</td>\n",
       "      <td>0.017212</td>\n",
       "      <td>DYKLILNGKTLKGETTTEAVDAATAEKVFKQYANDNGVDGEWTYDD...</td>\n",
       "    </tr>\n",
       "    <tr>\n",
       "      <th>4</th>\n",
       "      <td>9501.0</td>\n",
       "      <td>15629.0</td>\n",
       "      <td>1</td>\n",
       "      <td>True</td>\n",
       "      <td>-0.071659</td>\n",
       "      <td>0.018767</td>\n",
       "      <td>EYKLILNGKTLKGETTTEAVDAATAEKVFKQYANDNGVDGEWTYDD...</td>\n",
       "    </tr>\n",
       "    <tr>\n",
       "      <th>...</th>\n",
       "      <td>...</td>\n",
       "      <td>...</td>\n",
       "      <td>...</td>\n",
       "      <td>...</td>\n",
       "      <td>...</td>\n",
       "      <td>...</td>\n",
       "      <td>...</td>\n",
       "    </tr>\n",
       "    <tr>\n",
       "      <th>536956</th>\n",
       "      <td>130.0</td>\n",
       "      <td>9.0</td>\n",
       "      <td>2</td>\n",
       "      <td>True</td>\n",
       "      <td>-4.501168</td>\n",
       "      <td>0.473313</td>\n",
       "      <td>QYKLILNGKTLKGETTTEAVDAATAEKVFKQYANDNGVDGEWTYDD...</td>\n",
       "    </tr>\n",
       "    <tr>\n",
       "      <th>536957</th>\n",
       "      <td>151.0</td>\n",
       "      <td>30.0</td>\n",
       "      <td>2</td>\n",
       "      <td>True</td>\n",
       "      <td>-3.083405</td>\n",
       "      <td>0.284313</td>\n",
       "      <td>QYKLILNGKTLKGETTTEAVDAATAEKVFKQYANDNGVDGEWTYDD...</td>\n",
       "    </tr>\n",
       "    <tr>\n",
       "      <th>536959</th>\n",
       "      <td>317.0</td>\n",
       "      <td>84.0</td>\n",
       "      <td>2</td>\n",
       "      <td>True</td>\n",
       "      <td>-2.693165</td>\n",
       "      <td>0.176159</td>\n",
       "      <td>QYKLILNGKTLKGETTTEAVDAATAEKVFKQYANDNGVDGEWTYDD...</td>\n",
       "    </tr>\n",
       "    <tr>\n",
       "      <th>536960</th>\n",
       "      <td>335.0</td>\n",
       "      <td>77.0</td>\n",
       "      <td>2</td>\n",
       "      <td>True</td>\n",
       "      <td>-2.896589</td>\n",
       "      <td>0.181325</td>\n",
       "      <td>QYKLILNGKTLKGETTTEAVDAATAEKVFKQYANDNGVDGEWTYDD...</td>\n",
       "    </tr>\n",
       "    <tr>\n",
       "      <th>536961</th>\n",
       "      <td>148.0</td>\n",
       "      <td>28.0</td>\n",
       "      <td>2</td>\n",
       "      <td>True</td>\n",
       "      <td>-3.150861</td>\n",
       "      <td>0.292814</td>\n",
       "      <td>QYKLILNGKTLKGETTTEAVDAATAEKVFKQYANDNGVDGEWTYDD...</td>\n",
       "    </tr>\n",
       "  </tbody>\n",
       "</table>\n",
       "<p>429674 rows × 7 columns</p>\n",
       "</div>"
      ],
      "text/plain": [
       "         input_ct  selected_ct  hamming_dist  training_set         y  \\\n",
       "0       1759616.0    3041819.0             0          True  0.000000   \n",
       "1         14663.0      38476.0             1          True  0.602044   \n",
       "2         13001.0      23023.0             1          True  0.034732   \n",
       "3         11488.0      18085.0             1          True -0.135053   \n",
       "4          9501.0      15629.0             1          True -0.071659   \n",
       "...           ...          ...           ...           ...       ...   \n",
       "536956      130.0          9.0             2          True -4.501168   \n",
       "536957      151.0         30.0             2          True -3.083405   \n",
       "536959      317.0         84.0             2          True -2.693165   \n",
       "536960      335.0         77.0             2          True -2.896589   \n",
       "536961      148.0         28.0             2          True -3.150861   \n",
       "\n",
       "              dy                                                  x  \n",
       "0       0.001366  QYKLILNGKTLKGETTTEAVDAATAEKVFKQYANDNGVDGEWTYDD...  \n",
       "1       0.014001  AYKLILNGKTLKGETTTEAVDAATAEKVFKQYANDNGVDGEWTYDD...  \n",
       "2       0.015827  CYKLILNGKTLKGETTTEAVDAATAEKVFKQYANDNGVDGEWTYDD...  \n",
       "3       0.017212  DYKLILNGKTLKGETTTEAVDAATAEKVFKQYANDNGVDGEWTYDD...  \n",
       "4       0.018767  EYKLILNGKTLKGETTTEAVDAATAEKVFKQYANDNGVDGEWTYDD...  \n",
       "...          ...                                                ...  \n",
       "536956  0.473313  QYKLILNGKTLKGETTTEAVDAATAEKVFKQYANDNGVDGEWTYDD...  \n",
       "536957  0.284313  QYKLILNGKTLKGETTTEAVDAATAEKVFKQYANDNGVDGEWTYDD...  \n",
       "536959  0.176159  QYKLILNGKTLKGETTTEAVDAATAEKVFKQYANDNGVDGEWTYDD...  \n",
       "536960  0.181325  QYKLILNGKTLKGETTTEAVDAATAEKVFKQYANDNGVDGEWTYDD...  \n",
       "536961  0.292814  QYKLILNGKTLKGETTTEAVDAATAEKVFKQYANDNGVDGEWTYDD...  \n",
       "\n",
       "[429674 rows x 7 columns]"
      ]
     },
     "execution_count": 4,
     "metadata": {},
     "output_type": "execute_result"
    }
   ],
   "source": [
    "gb1_df"
   ]
  },
  {
   "cell_type": "code",
   "execution_count": 5,
   "metadata": {
    "collapsed": true
   },
   "outputs": [],
   "source": [
    "x_train = gb1_df['x'].values\n",
    "y_train = gb1_df['y'].values"
   ]
  },
  {
   "cell_type": "code",
   "execution_count": 6,
   "metadata": {
    "collapsed": true
   },
   "outputs": [],
   "source": [
    "# load mavenn's GE model\n",
    "gpmap_type = 'additive'\n",
    "ge_noise_model_type = 'Gaussian'\n",
    "GER = mavenn.Model(regression_type='GE',\n",
    "                   x=x_train,\n",
    "                   y=y_train,\n",
    "                   gpmap_type=gpmap_type,\n",
    "                   ge_noise_model_type=ge_noise_model_type,\n",
    "                   ge_nonlinearity_monotonic=True,\n",
    "                   alphabet='protein',\n",
    "                  theta_regularization=0.0005,\n",
    "                  eta_regularization=0.0005,\n",
    "                   ge_heteroskedasticity_order=0,\n",
    "                   ohe_batch_size=420000)"
   ]
  },
  {
   "cell_type": "code",
   "execution_count": 7,
   "metadata": {},
   "outputs": [
    {
     "name": "stdout",
     "output_type": "stream",
     "text": [
      "Model: \"functional_1\"\n",
      "__________________________________________________________________________________________________\n",
      "Layer (type)                    Output Shape         Param #     Connected to                     \n",
      "==================================================================================================\n",
      "Sequence_labels_input (InputLay [(None, 1101)]       0                                            \n",
      "__________________________________________________________________________________________________\n",
      "Sequence_only (Lambda)          (None, 1100)         0           Sequence_labels_input[0][0]      \n",
      "__________________________________________________________________________________________________\n",
      "phi (Dense)                     (None, 1)            1101        Sequence_only[0][0]              \n",
      "__________________________________________________________________________________________________\n",
      "dense (Dense)                   (None, 50)           100         phi[0][0]                        \n",
      "__________________________________________________________________________________________________\n",
      "y_hat (Dense)                   (None, 1)            51          dense[0][0]                      \n",
      "__________________________________________________________________________________________________\n",
      "Labels_input (Lambda)           (None, 1)            0           Sequence_labels_input[0][0]      \n",
      "__________________________________________________________________________________________________\n",
      "yhat_and_y_to_ll (Concatenate)  (None, 2)            0           y_hat[0][0]                      \n",
      "                                                                 Labels_input[0][0]               \n",
      "__________________________________________________________________________________________________\n",
      "gaussian_likelihood_layer (Gaus (None,)              1           yhat_and_y_to_ll[0][0]           \n",
      "==================================================================================================\n",
      "Total params: 1,253\n",
      "Trainable params: 1,253\n",
      "Non-trainable params: 0\n",
      "__________________________________________________________________________________________________\n"
     ]
    }
   ],
   "source": [
    "GER.model.model.summary()"
   ]
  },
  {
   "cell_type": "code",
   "execution_count": 8,
   "metadata": {
    "scrolled": false
   },
   "outputs": [
    {
     "name": "stdout",
     "output_type": "stream",
     "text": [
      "Epoch 1/40\n",
      "7735/7735 [==============================] - 8s 977us/step - loss: 214.3336 - val_loss: 135.6266\n",
      "Epoch 2/40\n",
      "7735/7735 [==============================] - 7s 938us/step - loss: 128.7868 - val_loss: 127.4827\n",
      "Epoch 3/40\n",
      "7735/7735 [==============================] - 8s 1ms/step - loss: 88.7949 - val_loss: 66.1559\n",
      "Epoch 4/40\n",
      "7735/7735 [==============================] - 8s 979us/step - loss: 60.3375 - val_loss: 60.6890\n",
      "Epoch 5/40\n",
      "7735/7735 [==============================] - 8s 995us/step - loss: 59.5970 - val_loss: 59.5630\n",
      "Epoch 6/40\n",
      "7735/7735 [==============================] - 8s 1ms/step - loss: 59.5253 - val_loss: 60.5053\n",
      "Epoch 7/40\n",
      "7735/7735 [==============================] - 7s 945us/step - loss: 59.5236 - val_loss: 59.2460\n",
      "Epoch 8/40\n",
      "7735/7735 [==============================] - 8s 1ms/step - loss: 59.4967 - val_loss: 59.6944\n",
      "Epoch 9/40\n",
      "7735/7735 [==============================] - 7s 968us/step - loss: 59.4965 - val_loss: 59.2880\n",
      "Epoch 10/40\n",
      "7735/7735 [==============================] - 7s 952us/step - loss: 59.4905 - val_loss: 59.3113\n",
      "Epoch 11/40\n",
      "7735/7735 [==============================] - 8s 981us/step - loss: 59.4811 - val_loss: 59.2991\n",
      "Epoch 12/40\n",
      "7735/7735 [==============================] - 8s 972us/step - loss: 59.4692 - val_loss: 59.9403\n",
      "Epoch 13/40\n",
      "7735/7735 [==============================] - 7s 968us/step - loss: 59.4774 - val_loss: 59.1723\n",
      "Epoch 14/40\n",
      "7735/7735 [==============================] - 7s 932us/step - loss: 59.4682 - val_loss: 59.4312\n",
      "Epoch 15/40\n",
      "7735/7735 [==============================] - 8s 991us/step - loss: 59.4592 - val_loss: 59.3174\n",
      "Epoch 16/40\n",
      "7735/7735 [==============================] - 8s 1ms/step - loss: 59.4509 - val_loss: 59.3533\n",
      "Epoch 17/40\n",
      "7735/7735 [==============================] - 7s 966us/step - loss: 59.4483 - val_loss: 59.9567\n",
      "Epoch 18/40\n",
      "7735/7735 [==============================] - 8s 987us/step - loss: 59.4474 - val_loss: 59.7086\n",
      "Epoch 19/40\n",
      "7735/7735 [==============================] - 7s 960us/step - loss: 59.4314 - val_loss: 59.3343\n",
      "Epoch 20/40\n",
      "7735/7735 [==============================] - 7s 950us/step - loss: 59.4163 - val_loss: 59.2346\n",
      "Epoch 21/40\n",
      "7735/7735 [==============================] - 7s 945us/step - loss: 59.4185 - val_loss: 59.3754\n",
      "Epoch 22/40\n",
      "7735/7735 [==============================] - 8s 1ms/step - loss: 59.4132 - val_loss: 59.3499\n",
      "Epoch 23/40\n",
      "7735/7735 [==============================] - 7s 917us/step - loss: 59.4211 - val_loss: 59.3494\n",
      "Epoch 24/40\n",
      "7735/7735 [==============================] - 8s 1ms/step - loss: 59.4066 - val_loss: 59.3619\n",
      "Epoch 25/40\n",
      "7735/7735 [==============================] - 9s 1ms/step - loss: 59.4221 - val_loss: 59.3747\n",
      "Epoch 26/40\n",
      "7735/7735 [==============================] - 8s 1ms/step - loss: 59.4234 - val_loss: 59.3818\n",
      "Epoch 27/40\n",
      "7735/7735 [==============================] - 7s 937us/step - loss: 59.4123 - val_loss: 59.2184\n",
      "Epoch 28/40\n",
      "7735/7735 [==============================] - 8s 1ms/step - loss: 59.3867 - val_loss: 59.8753\n",
      "Epoch 29/40\n",
      "7735/7735 [==============================] - 7s 956us/step - loss: 59.4031 - val_loss: 59.5208\n",
      "Epoch 30/40\n",
      "7735/7735 [==============================] - 8s 1ms/step - loss: 59.3942 - val_loss: 59.6274\n",
      "Epoch 31/40\n",
      "7735/7735 [==============================] - 8s 1ms/step - loss: 59.3770 - val_loss: 59.3927\n",
      "Epoch 32/40\n",
      "7735/7735 [==============================] - 8s 997us/step - loss: 59.3779 - val_loss: 59.7406\n",
      "Epoch 33/40\n",
      "7735/7735 [==============================] - 8s 1ms/step - loss: 59.3839 - val_loss: 59.2230\n",
      "Epoch 34/40\n",
      "7735/7735 [==============================] - 9s 1ms/step - loss: 59.3724 - val_loss: 59.4069\n",
      "Epoch 35/40\n",
      "7735/7735 [==============================] - 10s 1ms/step - loss: 59.3666 - val_loss: 59.4405\n",
      "Epoch 36/40\n",
      "7735/7735 [==============================] - 8s 1ms/step - loss: 59.3710 - val_loss: 59.9360\n",
      "Epoch 37/40\n",
      "7735/7735 [==============================] - 9s 1ms/step - loss: 59.3718 - val_loss: 59.4065\n",
      "Epoch 38/40\n",
      "7735/7735 [==============================] - 9s 1ms/step - loss: 59.3538 - val_loss: 59.1972\n",
      "Epoch 39/40\n",
      "7735/7735 [==============================] - 9s 1ms/step - loss: 59.3470 - val_loss: 59.6356\n",
      "Epoch 40/40\n",
      "7735/7735 [==============================] - 9s 1ms/step - loss: 59.3369 - val_loss: 60.3225\n"
     ]
    },
    {
     "data": {
      "text/plain": [
       "<tensorflow.python.keras.callbacks.History at 0x1568bdeb8>"
      ]
     },
     "execution_count": 8,
     "metadata": {},
     "output_type": "execute_result"
    }
   ],
   "source": [
    "GER.fit(epochs=40,\n",
    "        #optimizer='Adam',\n",
    "        learning_rate=0.0005,\n",
    "        early_stopping=False,\n",
    "        #early_stopping_patience=15,\n",
    "        validation_split=0.1,\n",
    "        verbose=True)"
   ]
  },
  {
   "cell_type": "code",
   "execution_count": 9,
   "metadata": {
    "collapsed": true
   },
   "outputs": [],
   "source": [
    "loss_history = GER.model.history"
   ]
  },
  {
   "cell_type": "code",
   "execution_count": 10,
   "metadata": {},
   "outputs": [
    {
     "data": {
      "text/plain": [
       "<matplotlib.legend.Legend at 0x14374af28>"
      ]
     },
     "execution_count": 10,
     "metadata": {},
     "output_type": "execute_result"
    },
    {
     "data": {
      "image/png": "[encoded data removed]",
      "text/plain": [
       "<Figure size 432x288 with 1 Axes>"
      ]
     },
     "metadata": {
      "needs_background": "light"
     },
     "output_type": "display_data"
    }
   ],
   "source": [
    "plt.plot(loss_history.history['loss'], color='blue')\n",
    "plt.plot(loss_history.history['val_loss'], color='orange')\n",
    "plt.title('Model loss', fontsize=12)\n",
    "plt.ylabel('loss', fontsize=12)\n",
    "plt.xlabel('epoch', fontsize=12)\n",
    "plt.legend(['train', 'validation'])"
   ]
  },
  {
   "cell_type": "code",
   "execution_count": 11,
   "metadata": {
    "collapsed": true
   },
   "outputs": [],
   "source": [
    "# load data\n",
    "gb1_df_test = mavenn.load_example(which='test_data',name='gb1')\n",
    "\n",
    "x_test = gb1_df_test['x'].values\n",
    "y_test = gb1_df_test['y'].values"
   ]
  },
  {
   "cell_type": "code",
   "execution_count": null,
   "metadata": {
    "collapsed": true
   },
   "outputs": [],
   "source": []
  },
  {
   "cell_type": "code",
   "execution_count": 12,
   "metadata": {
    "collapsed": true
   },
   "outputs": [],
   "source": [
    "yhat = GER.x_to_yhat(x_test)\n",
    "phi = GER.x_to_phi(x_test)\n"
   ]
  },
  {
   "cell_type": "code",
   "execution_count": 13,
   "metadata": {},
   "outputs": [
    {
     "name": "stdout",
     "output_type": "stream",
     "text": [
      "Model: \"functional_5\"\n",
      "__________________________________________________________________________________________________\n",
      "Layer (type)                    Output Shape         Param #     Connected to                     \n",
      "==================================================================================================\n",
      "Sequence_labels_input (InputLay [(None, 1101)]       0                                            \n",
      "__________________________________________________________________________________________________\n",
      "lambda (Lambda)                 (None, 1100)         0           Sequence_labels_input[0][0]      \n",
      "__________________________________________________________________________________________________\n",
      "phiPrime (Dense)                (None, 1)            1101        lambda[0][0]                     \n",
      "__________________________________________________________________________________________________\n",
      "phi (Dense)                     (None, 1)            2           phiPrime[0][0]                   \n",
      "__________________________________________________________________________________________________\n",
      "dense_1 (Dense)                 (None, 50)           100         phi[0][0]                        \n",
      "__________________________________________________________________________________________________\n",
      "dense_2 (Dense)                 (None, 1)            51          dense_1[0][0]                    \n",
      "__________________________________________________________________________________________________\n",
      "lambda_1 (Lambda)               (None, 1)            0           Sequence_labels_input[0][0]      \n",
      "__________________________________________________________________________________________________\n",
      "yhat_and_y_to_ll (Concatenate)  (None, 2)            0           dense_2[0][0]                    \n",
      "                                                                 lambda_1[0][0]                   \n",
      "__________________________________________________________________________________________________\n",
      "gaussian_likelihood_layer_1 (Ga (None,)              1           yhat_and_y_to_ll[0][0]           \n",
      "==================================================================================================\n",
      "Total params: 1,255\n",
      "Trainable params: 1,255\n",
      "Non-trainable params: 0\n",
      "__________________________________________________________________________________________________\n"
     ]
    }
   ],
   "source": [
    "GER.get_nn().summary()"
   ]
  },
  {
   "cell_type": "code",
   "execution_count": 14,
   "metadata": {},
   "outputs": [
    {
     "data": {
      "text/plain": [
       "9"
      ]
     },
     "execution_count": 14,
     "metadata": {},
     "output_type": "execute_result"
    }
   ],
   "source": [
    "len(GER.get_nn().layers)"
   ]
  },
  {
   "cell_type": "code",
   "execution_count": 15,
   "metadata": {
    "collapsed": true
   },
   "outputs": [],
   "source": [
    "phi_range = np.linspace(min(phi),max(phi),1000)"
   ]
  },
  {
   "cell_type": "code",
   "execution_count": 16,
   "metadata": {},
   "outputs": [
    {
     "data": {
      "image/png": "[encoded data removed]",
      "text/plain": [
       "<Figure size 288x288 with 1 Axes>"
      ]
     },
     "metadata": {
      "needs_background": "light"
     },
     "output_type": "display_data"
    }
   ],
   "source": [
    "plt.figure(figsize=(4,4))\n",
    "Rsq = np.corrcoef(yhat.ravel(),y_test)[0][1]**2\n",
    "plt.scatter(yhat,y_test,s=0.5,alpha=0.04)\n",
    "plt.xlabel('Predictions (test)')\n",
    "plt.ylabel('Observations (test)')\n",
    "plt.title('$R^2$: '+str(Rsq)[0:5])\n",
    "plt.tick_params(labelsize=7.5)\n",
    "plt.show()"
   ]
  },
  {
   "cell_type": "code",
   "execution_count": 17,
   "metadata": {
    "collapsed": true
   },
   "outputs": [],
   "source": [
    "y_hat_GE = GER.phi_to_yhat(phi_range)"
   ]
  },
  {
   "cell_type": "code",
   "execution_count": 18,
   "metadata": {
    "collapsed": true
   },
   "outputs": [],
   "source": [
    "qs = GER.yhat_to_yq(y_hat_GE,np.array([0.16,0.84]))"
   ]
  },
  {
   "cell_type": "code",
   "execution_count": 19,
   "metadata": {},
   "outputs": [
    {
     "data": {
      "image/png": "[encoded data removed]",
      "text/plain": [
       "<Figure size 360x360 with 1 Axes>"
      ]
     },
     "metadata": {
      "needs_background": "light"
     },
     "output_type": "display_data"
    }
   ],
   "source": [
    "\n",
    "\n",
    "plt.figure(figsize=(5,5))\n",
    "phi_range = np.linspace(min(phi),max(phi),1000)\n",
    "plt.plot(phi_range,GER.phi_to_yhat(phi_range))\n",
    "plt.scatter(phi,y_test,s=0.25, alpha=0.4, label='Observations')\n",
    "plt.plot(phi_range,GER.phi_to_yhat(phi_range),lw=2,label='$\\hat{y}$',alpha=1.0,color='black')\n",
    "\n",
    "plt.plot(phi_range,qs[:,0],color='orange',lw=2,alpha=0.85,label='$\\hat{y} \\pm \\sigma(\\hat{y})$')\n",
    "plt.plot(phi_range,qs[:,1],color='orange',lw=2,alpha=0.85)\n",
    "\n",
    "plt.tick_params(labelsize=7.5)\n",
    "\n",
    "# leg = plt.legend(fontsize=7,prop={'size': 5})\n",
    "# for lh in leg.legendHandles: \n",
    "#     lh.set_alpha(1)\n",
    "#     #lh.set_sizes([5.0])\n",
    "      \n",
    "#plt.ylim(-2,4)\n",
    "# plt.yticks([-1,0,1,2,3])\n",
    "plt.xticks([-2,0,2])\n",
    "plt.ylabel('Observations',fontsize=7.5)\n",
    "plt.xlabel('Latent phenotype ($\\phi$)',fontsize=7.5)\n",
    "#plt.title(noise_model+' Likelihood',fontsize=7.5)\n",
    "plt.title('MAVE-NN GE',fontsize=7.5)\n",
    "#plt.savefig('mpsa_additive_gaussian.png',bbox_inches='tight',dpi=600)\n",
    "plt.show()\n"
   ]
  },
  {
   "cell_type": "code",
   "execution_count": 20,
   "metadata": {
    "collapsed": true,
    "scrolled": false
   },
   "outputs": [],
   "source": [
    "#GER.save('gaussian_GB1_model_ho_2')"
   ]
  },
  {
   "cell_type": "code",
   "execution_count": null,
   "metadata": {
    "collapsed": true
   },
   "outputs": [],
   "source": []
  }
 ],
 "metadata": {
  "kernelspec": {
   "display_name": "Python 3",
   "language": "python",
   "name": "python3"
  },
  "language_info": {
   "codemirror_mode": {
    "name": "ipython",
    "version": 3
   },
   "file_extension": ".py",
   "mimetype": "text/x-python",
   "name": "python",
   "nbconvert_exporter": "python",
   "pygments_lexer": "ipython3",
   "version": "3.6.7"
  }
 },
 "nbformat": 4,
 "nbformat_minor": 2
}
