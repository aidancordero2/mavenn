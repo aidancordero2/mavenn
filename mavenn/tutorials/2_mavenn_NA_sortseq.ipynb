{
 "cells": [
  {
   "cell_type": "markdown",
   "metadata": {},
   "source": [
    "This tutorial notebook shows how to fit a noise agnostic model to massively parallel assay (Sort-Seq) data. "
   ]
  },
  {
   "cell_type": "code",
   "execution_count": 10,
   "metadata": {},
   "outputs": [],
   "source": [
    "# necessary imports\n",
    "import pandas as pd\n",
    "import matplotlib.pyplot as plt\n",
    "import numpy as np\n",
    "from sklearn.model_selection import train_test_split\n",
    "import mavenn\n",
    "from mavenn.src.utils import get_example_dataset\n",
    "import logomaker\n",
    "import seaborn as sns"
   ]
  },
  {
   "cell_type": "markdown",
   "metadata": {},
   "source": [
    "Load data using mavenn's helper method. "
   ]
  },
  {
   "cell_type": "code",
   "execution_count": 2,
   "metadata": {},
   "outputs": [],
   "source": [
    "sequences, bin_counts = get_example_dataset(name='Sort-Seq')"
   ]
  },
  {
   "cell_type": "code",
   "execution_count": 3,
   "metadata": {},
   "outputs": [
    {
     "data": {
      "text/plain": [
       "array(['CGCTTTATAGTTTTTGCTTCCGGCTCGTATGTTGTGTGG',\n",
       "       'GGCTTGACACATTATCCGTTCCGCTCGTATGTTGTCTGG',\n",
       "       'GTCTTTACACTTTATGCTTCCGGCTCGTATGTTGTGTGG',\n",
       "       'GGCTTTACAATTTATGCTTCTGGCTCGTATGTTGTTTGG',\n",
       "       'GGCTTTACACCTTATGCTTCTTGCTCGTATATTGTGTGG'], dtype='<U39')"
      ]
     },
     "execution_count": 3,
     "metadata": {},
     "output_type": "execute_result"
    }
   ],
   "source": [
    "# sequences is an array of 39-nt sequences\n",
    "sequences[0:5]"
   ]
  },
  {
   "cell_type": "code",
   "execution_count": 4,
   "metadata": {},
   "outputs": [
    {
     "data": {
      "text/plain": [
       "array([[0., 2., 0., 0., 0., 0., 0., 0., 0., 0.],\n",
       "       [0., 0., 0., 0., 0., 0., 0., 0., 1., 0.],\n",
       "       [0., 0., 0., 0., 0., 0., 1., 0., 0., 0.],\n",
       "       [0., 0., 0., 0., 0., 0., 0., 0., 0., 1.],\n",
       "       [0., 0., 0., 0., 0., 0., 0., 0., 0., 1.]])"
      ]
     },
     "execution_count": 4,
     "metadata": {},
     "output_type": "execute_result"
    }
   ],
   "source": [
    "# bin_counts = counts in bins (1-9) that sequences got sorted into\n",
    "# bin-0 represents counts of the library\n",
    "bin_counts[0:5]"
   ]
  },
  {
   "cell_type": "markdown",
   "metadata": {},
   "source": [
    "## Fit NA model to data"
   ]
  },
  {
   "cell_type": "code",
   "execution_count": 5,
   "metadata": {},
   "outputs": [
    {
     "name": "stdout",
     "output_type": "stream",
     "text": [
      "One-hot encoding...\n",
      "Train on 40414 samples, validate on 10104 samples\n",
      "Epoch 1/200\n",
      "40414/40414 [==============================] - 1s 35us/step - loss: 1.0911 - categorical_accuracy: 0.1314 - val_loss: 1.0896 - val_categorical_accuracy: 0.1590\n",
      "Epoch 2/200\n",
      "40414/40414 [==============================] - 1s 28us/step - loss: 1.0892 - categorical_accuracy: 0.1709 - val_loss: 1.0891 - val_categorical_accuracy: 0.1618\n",
      "Epoch 3/200\n",
      "40414/40414 [==============================] - 1s 28us/step - loss: 1.0889 - categorical_accuracy: 0.1770 - val_loss: 1.0889 - val_categorical_accuracy: 0.1743\n",
      "Epoch 4/200\n",
      "40414/40414 [==============================] - 1s 28us/step - loss: 1.0888 - categorical_accuracy: 0.1781 - val_loss: 1.0887 - val_categorical_accuracy: 0.1698\n",
      "Epoch 5/200\n",
      "40414/40414 [==============================] - 1s 28us/step - loss: 1.0887 - categorical_accuracy: 0.1808 - val_loss: 1.0886 - val_categorical_accuracy: 0.1711\n",
      "Epoch 6/200\n",
      "40414/40414 [==============================] - 1s 28us/step - loss: 1.0886 - categorical_accuracy: 0.1799 - val_loss: 1.0886 - val_categorical_accuracy: 0.1767\n",
      "Epoch 7/200\n",
      "40414/40414 [==============================] - 1s 29us/step - loss: 1.0886 - categorical_accuracy: 0.1818 - val_loss: 1.0885 - val_categorical_accuracy: 0.1772\n",
      "Epoch 8/200\n",
      "40414/40414 [==============================] - 1s 31us/step - loss: 1.0885 - categorical_accuracy: 0.1819 - val_loss: 1.0885 - val_categorical_accuracy: 0.1767\n",
      "Epoch 9/200\n",
      "40414/40414 [==============================] - 1s 29us/step - loss: 1.0885 - categorical_accuracy: 0.1842 - val_loss: 1.0885 - val_categorical_accuracy: 0.1762\n",
      "Epoch 10/200\n",
      "40414/40414 [==============================] - 1s 32us/step - loss: 1.0884 - categorical_accuracy: 0.1841 - val_loss: 1.0885 - val_categorical_accuracy: 0.1771\n",
      "Epoch 11/200\n",
      "40414/40414 [==============================] - 1s 29us/step - loss: 1.0884 - categorical_accuracy: 0.1811 - val_loss: 1.0884 - val_categorical_accuracy: 0.1756\n",
      "Epoch 12/200\n",
      "40414/40414 [==============================] - 1s 29us/step - loss: 1.0884 - categorical_accuracy: 0.1827 - val_loss: 1.0884 - val_categorical_accuracy: 0.1787\n",
      "Epoch 13/200\n",
      "40414/40414 [==============================] - 1s 29us/step - loss: 1.0884 - categorical_accuracy: 0.1824 - val_loss: 1.0883 - val_categorical_accuracy: 0.1824\n",
      "Epoch 14/200\n",
      "40414/40414 [==============================] - 1s 29us/step - loss: 1.0884 - categorical_accuracy: 0.1807 - val_loss: 1.0883 - val_categorical_accuracy: 0.1815\n",
      "Epoch 15/200\n",
      "40414/40414 [==============================] - 1s 29us/step - loss: 1.0883 - categorical_accuracy: 0.1819 - val_loss: 1.0883 - val_categorical_accuracy: 0.1832\n",
      "Epoch 16/200\n",
      "40414/40414 [==============================] - 1s 29us/step - loss: 1.0883 - categorical_accuracy: 0.1846 - val_loss: 1.0883 - val_categorical_accuracy: 0.1731\n",
      "Epoch 17/200\n",
      "40414/40414 [==============================] - 1s 29us/step - loss: 1.0883 - categorical_accuracy: 0.1825 - val_loss: 1.0883 - val_categorical_accuracy: 0.1817\n",
      "Epoch 18/200\n",
      "40414/40414 [==============================] - 1s 30us/step - loss: 1.0883 - categorical_accuracy: 0.1839 - val_loss: 1.0884 - val_categorical_accuracy: 0.1821\n",
      "Epoch 19/200\n",
      "40414/40414 [==============================] - 1s 36us/step - loss: 1.0883 - categorical_accuracy: 0.1810 - val_loss: 1.0882 - val_categorical_accuracy: 0.1763\n",
      "Epoch 20/200\n",
      "40414/40414 [==============================] - 1s 29us/step - loss: 1.0883 - categorical_accuracy: 0.1810 - val_loss: 1.0885 - val_categorical_accuracy: 0.1759\n",
      "Epoch 21/200\n",
      "40414/40414 [==============================] - 1s 33us/step - loss: 1.0883 - categorical_accuracy: 0.1805 - val_loss: 1.0882 - val_categorical_accuracy: 0.1831\n",
      "Epoch 22/200\n",
      "40414/40414 [==============================] - 1s 37us/step - loss: 1.0883 - categorical_accuracy: 0.1819 - val_loss: 1.0882 - val_categorical_accuracy: 0.1815\n",
      "Epoch 23/200\n",
      "40414/40414 [==============================] - 2s 39us/step - loss: 1.0883 - categorical_accuracy: 0.1805 - val_loss: 1.0883 - val_categorical_accuracy: 0.1800\n",
      "Epoch 24/200\n",
      "40414/40414 [==============================] - 1s 35us/step - loss: 1.0883 - categorical_accuracy: 0.1832 - val_loss: 1.0885 - val_categorical_accuracy: 0.1752\n",
      "Epoch 25/200\n",
      "40414/40414 [==============================] - 1s 29us/step - loss: 1.0883 - categorical_accuracy: 0.1839 - val_loss: 1.0883 - val_categorical_accuracy: 0.1763\n",
      "Epoch 26/200\n",
      "40414/40414 [==============================] - 1s 29us/step - loss: 1.0883 - categorical_accuracy: 0.1826 - val_loss: 1.0883 - val_categorical_accuracy: 0.1776\n",
      "Epoch 27/200\n",
      "40414/40414 [==============================] - 1s 29us/step - loss: 1.0883 - categorical_accuracy: 0.1823 - val_loss: 1.0882 - val_categorical_accuracy: 0.1857\n",
      "Epoch 28/200\n",
      "40414/40414 [==============================] - 1s 29us/step - loss: 1.0883 - categorical_accuracy: 0.1830 - val_loss: 1.0882 - val_categorical_accuracy: 0.1800\n",
      "Epoch 29/200\n",
      "40414/40414 [==============================] - 1s 29us/step - loss: 1.0882 - categorical_accuracy: 0.1840 - val_loss: 1.0882 - val_categorical_accuracy: 0.1829\n",
      "Epoch 30/200\n",
      "40414/40414 [==============================] - 1s 37us/step - loss: 1.0882 - categorical_accuracy: 0.1830 - val_loss: 1.0884 - val_categorical_accuracy: 0.1793\n",
      "Epoch 31/200\n",
      "40414/40414 [==============================] - 1s 33us/step - loss: 1.0882 - categorical_accuracy: 0.1837 - val_loss: 1.0882 - val_categorical_accuracy: 0.1790\n",
      "Epoch 32/200\n",
      "40414/40414 [==============================] - 1s 31us/step - loss: 1.0882 - categorical_accuracy: 0.1826 - val_loss: 1.0884 - val_categorical_accuracy: 0.1786\n",
      "Epoch 33/200\n",
      "40414/40414 [==============================] - 1s 34us/step - loss: 1.0882 - categorical_accuracy: 0.1828 - val_loss: 1.0882 - val_categorical_accuracy: 0.1783\n",
      "Epoch 34/200\n",
      "40414/40414 [==============================] - 2s 39us/step - loss: 1.0882 - categorical_accuracy: 0.1834 - val_loss: 1.0882 - val_categorical_accuracy: 0.1773\n",
      "Epoch 35/200\n",
      "40414/40414 [==============================] - 2s 38us/step - loss: 1.0882 - categorical_accuracy: 0.1835 - val_loss: 1.0882 - val_categorical_accuracy: 0.1799\n",
      "Epoch 36/200\n",
      "40414/40414 [==============================] - 1s 36us/step - loss: 1.0882 - categorical_accuracy: 0.1810 - val_loss: 1.0882 - val_categorical_accuracy: 0.1875\n",
      "Epoch 37/200\n",
      "40414/40414 [==============================] - 2s 44us/step - loss: 1.0882 - categorical_accuracy: 0.1855 - val_loss: 1.0882 - val_categorical_accuracy: 0.1810\n",
      "Epoch 38/200\n",
      "40414/40414 [==============================] - 2s 38us/step - loss: 1.0882 - categorical_accuracy: 0.1829 - val_loss: 1.0881 - val_categorical_accuracy: 0.1851\n",
      "Epoch 39/200\n",
      "40414/40414 [==============================] - 2s 47us/step - loss: 1.0882 - categorical_accuracy: 0.1854 - val_loss: 1.0881 - val_categorical_accuracy: 0.1835\n",
      "Epoch 40/200\n",
      "40414/40414 [==============================] - 1s 33us/step - loss: 1.0882 - categorical_accuracy: 0.1839 - val_loss: 1.0884 - val_categorical_accuracy: 0.1795\n",
      "Epoch 41/200\n",
      "40414/40414 [==============================] - 1s 31us/step - loss: 1.0882 - categorical_accuracy: 0.1824 - val_loss: 1.0881 - val_categorical_accuracy: 0.1827\n",
      "Epoch 42/200\n",
      "40414/40414 [==============================] - 1s 30us/step - loss: 1.0882 - categorical_accuracy: 0.1841 - val_loss: 1.0883 - val_categorical_accuracy: 0.1797\n",
      "Epoch 43/200\n",
      "40414/40414 [==============================] - 1s 29us/step - loss: 1.0882 - categorical_accuracy: 0.1822 - val_loss: 1.0883 - val_categorical_accuracy: 0.1769\n",
      "Epoch 44/200\n",
      "40414/40414 [==============================] - 1s 29us/step - loss: 1.0882 - categorical_accuracy: 0.1841 - val_loss: 1.0881 - val_categorical_accuracy: 0.1830\n",
      "Epoch 45/200\n",
      "40414/40414 [==============================] - 1s 33us/step - loss: 1.0882 - categorical_accuracy: 0.1850 - val_loss: 1.0881 - val_categorical_accuracy: 0.1770\n",
      "Epoch 46/200\n",
      "40414/40414 [==============================] - 1s 30us/step - loss: 1.0882 - categorical_accuracy: 0.1843 - val_loss: 1.0882 - val_categorical_accuracy: 0.1763\n",
      "Epoch 47/200\n",
      "40414/40414 [==============================] - 1s 30us/step - loss: 1.0882 - categorical_accuracy: 0.1803 - val_loss: 1.0881 - val_categorical_accuracy: 0.1858\n",
      "Epoch 48/200\n"
     ]
    },
    {
     "name": "stdout",
     "output_type": "stream",
     "text": [
      "40414/40414 [==============================] - 1s 30us/step - loss: 1.0882 - categorical_accuracy: 0.1848 - val_loss: 1.0881 - val_categorical_accuracy: 0.1818\n",
      "Epoch 49/200\n",
      "40414/40414 [==============================] - 1s 31us/step - loss: 1.0882 - categorical_accuracy: 0.1850 - val_loss: 1.0881 - val_categorical_accuracy: 0.1824\n",
      "Epoch 50/200\n",
      "40414/40414 [==============================] - 1s 29us/step - loss: 1.0881 - categorical_accuracy: 0.1833 - val_loss: 1.0881 - val_categorical_accuracy: 0.1855\n",
      "Epoch 51/200\n",
      "40414/40414 [==============================] - 1s 28us/step - loss: 1.0881 - categorical_accuracy: 0.1830 - val_loss: 1.0882 - val_categorical_accuracy: 0.1820\n",
      "Epoch 52/200\n",
      "40414/40414 [==============================] - 1s 29us/step - loss: 1.0882 - categorical_accuracy: 0.1854 - val_loss: 1.0881 - val_categorical_accuracy: 0.1860\n",
      "Epoch 53/200\n",
      "40414/40414 [==============================] - 1s 28us/step - loss: 1.0881 - categorical_accuracy: 0.1835 - val_loss: 1.0882 - val_categorical_accuracy: 0.1807\n",
      "Epoch 54/200\n",
      "40414/40414 [==============================] - 1s 28us/step - loss: 1.0881 - categorical_accuracy: 0.1832 - val_loss: 1.0881 - val_categorical_accuracy: 0.1812\n",
      "Epoch 55/200\n",
      "40414/40414 [==============================] - 1s 28us/step - loss: 1.0881 - categorical_accuracy: 0.1836 - val_loss: 1.0882 - val_categorical_accuracy: 0.1771\n",
      "Epoch 56/200\n",
      "40414/40414 [==============================] - 1s 31us/step - loss: 1.0881 - categorical_accuracy: 0.1845 - val_loss: 1.0882 - val_categorical_accuracy: 0.1829\n",
      "Epoch 57/200\n",
      "40414/40414 [==============================] - 1s 34us/step - loss: 1.0882 - categorical_accuracy: 0.1810 - val_loss: 1.0881 - val_categorical_accuracy: 0.1815\n",
      "Epoch 58/200\n",
      "40414/40414 [==============================] - 1s 30us/step - loss: 1.0881 - categorical_accuracy: 0.1833 - val_loss: 1.0882 - val_categorical_accuracy: 0.1824\n",
      "Epoch 59/200\n",
      "40414/40414 [==============================] - 1s 32us/step - loss: 1.0881 - categorical_accuracy: 0.1836 - val_loss: 1.0881 - val_categorical_accuracy: 0.1843\n",
      "Epoch 60/200\n",
      "40414/40414 [==============================] - 1s 31us/step - loss: 1.0881 - categorical_accuracy: 0.1837 - val_loss: 1.0881 - val_categorical_accuracy: 0.1829\n",
      "Epoch 61/200\n",
      "40414/40414 [==============================] - 1s 33us/step - loss: 1.0881 - categorical_accuracy: 0.1837 - val_loss: 1.0882 - val_categorical_accuracy: 0.1784\n",
      "Epoch 62/200\n",
      "40414/40414 [==============================] - 2s 37us/step - loss: 1.0881 - categorical_accuracy: 0.1856 - val_loss: 1.0881 - val_categorical_accuracy: 0.1886\n",
      "Epoch 63/200\n",
      "40414/40414 [==============================] - 2s 40us/step - loss: 1.0881 - categorical_accuracy: 0.1844 - val_loss: 1.0882 - val_categorical_accuracy: 0.1779\n",
      "Epoch 64/200\n",
      "40414/40414 [==============================] - 2s 40us/step - loss: 1.0881 - categorical_accuracy: 0.1839 - val_loss: 1.0881 - val_categorical_accuracy: 0.1839\n",
      "Epoch 65/200\n",
      "40414/40414 [==============================] - 2s 51us/step - loss: 1.0881 - categorical_accuracy: 0.1834 - val_loss: 1.0882 - val_categorical_accuracy: 0.1813\n",
      "Epoch 66/200\n",
      "40414/40414 [==============================] - 2s 37us/step - loss: 1.0881 - categorical_accuracy: 0.1819 - val_loss: 1.0881 - val_categorical_accuracy: 0.1829\n",
      "Epoch 67/200\n",
      "40414/40414 [==============================] - 1s 32us/step - loss: 1.0881 - categorical_accuracy: 0.1857 - val_loss: 1.0882 - val_categorical_accuracy: 0.1807\n",
      "Epoch 68/200\n",
      "40414/40414 [==============================] - 1s 32us/step - loss: 1.0881 - categorical_accuracy: 0.1840 - val_loss: 1.0882 - val_categorical_accuracy: 0.1841\n",
      "Epoch 69/200\n",
      "40414/40414 [==============================] - 2s 37us/step - loss: 1.0881 - categorical_accuracy: 0.1850 - val_loss: 1.0881 - val_categorical_accuracy: 0.1837\n"
     ]
    },
    {
     "data": {
      "text/plain": [
       "<tensorflow.python.keras.callbacks.History at 0x134e97a90>"
      ]
     },
     "execution_count": 5,
     "metadata": {},
     "output_type": "execute_result"
    }
   ],
   "source": [
    "# load mavenn's NA model\n",
    "NAR = mavenn.Model(regression_type='NA',\n",
    "                   X=sequences,\n",
    "                   y=bin_counts,\n",
    "                   learning_rate=0.0025,\n",
    "                   model_type='additive',\n",
    "                   alphabet_dict='dna',\n",
    "                   ohe_single_batch_size=50000)\n",
    "\n",
    "NAR.fit(epochs=200, use_early_stopping=True, early_stopping_patience=20, verbose=1)"
   ]
  },
  {
   "cell_type": "markdown",
   "metadata": {},
   "source": [
    "## evaluate loss"
   ]
  },
  {
   "cell_type": "code",
   "execution_count": 8,
   "metadata": {},
   "outputs": [],
   "source": [
    "loss_history =  NAR.model.return_loss()\n",
    "\n",
    "# evaluate the inferred noise model for a given input range\n",
    "phi_range = np.linspace(-20, 20,1000)\n",
    "noise_model = NAR.na_noisemodel(sequences,\n",
    "                                input_range=phi_range)\n"
   ]
  },
  {
   "cell_type": "markdown",
   "metadata": {},
   "source": [
    "## Plot results"
   ]
  },
  {
   "cell_type": "code",
   "execution_count": 9,
   "metadata": {},
   "outputs": [
    {
     "data": {
      "image/png": "[encoded data removed]",
      "text/plain": [
       "<Figure size 432x288 with 1 Axes>"
      ]
     },
     "metadata": {
      "needs_background": "light"
     },
     "output_type": "display_data"
    },
    {
     "data": {
      "image/png": "[encoded data removed]",
      "text/plain": [
       "<Figure size 576x216 with 3 Axes>"
      ]
     },
     "metadata": {
      "needs_background": "light"
     },
     "output_type": "display_data"
    }
   ],
   "source": [
    "plt.plot(loss_history.history['loss'], color='blue')\n",
    "plt.plot(loss_history.history['val_loss'], color='orange')\n",
    "plt.title('Model loss', fontsize=12)\n",
    "plt.ylabel('loss', fontsize=12)\n",
    "plt.xlabel('epoch', fontsize=12)\n",
    "plt.legend(['train', 'validation'])\n",
    "plt.show()\n",
    "\n",
    "fig, ax = plt.subplots(1, 2, figsize=(8, 3))\n",
    "\n",
    "# make logo to visualize additive parameters\n",
    "ax[0].set_ylabel('additive parameters')\n",
    "ax[0].set_xlabel('position')\n",
    "\n",
    "theta_df = pd.DataFrame(NAR.nn_model().layers[1].get_weights()[0].reshape(39, 4),columns=['A', 'C', 'G', 'T'])\n",
    "\n",
    "additive_logo = logomaker.Logo(theta_df/np.sqrt(np.sum(theta_df.values.ravel()**2)),\n",
    "                               center_values=True,\n",
    "                               ax=ax[0])\n",
    "\n",
    "# view the inferred noise model as a heatmap\n",
    "noise_model_heatmap = sns.heatmap(noise_model.T, cmap='Greens', ax=ax[1])\n",
    "ax[1].invert_yaxis()\n",
    "ax[1].set_xticks(([0,int(len(phi_range)/2), len(phi_range)-2]), minor=False)\n",
    "ax[1].set_xticklabels(([str(phi_range[0]), 0, str(phi_range[len(phi_range)-1])]), minor=False)\n",
    "ax[1].set_ylabel(' bin numbers')\n",
    "ax[1].set_xlabel('latent trait ($\\phi$)')\n",
    "\n",
    "plt.tight_layout()\n",
    "plt.show()"
   ]
  }
 ],
 "metadata": {
  "kernelspec": {
   "display_name": "Python 3",
   "language": "python",
   "name": "python3"
  },
  "language_info": {
   "codemirror_mode": {
    "name": "ipython",
    "version": 3
   },
   "file_extension": ".py",
   "mimetype": "text/x-python",
   "name": "python",
   "nbconvert_exporter": "python",
   "pygments_lexer": "ipython3",
   "version": "3.6.7"
  }
 },
 "nbformat": 4,
 "nbformat_minor": 2
}
