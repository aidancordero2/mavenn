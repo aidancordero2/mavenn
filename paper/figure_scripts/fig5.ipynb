{
 "cells": [
  {
   "cell_type": "code",
   "execution_count": 1,
   "metadata": {
    "ExecuteTime": {
     "end_time": "2021-12-30T02:41:49.142997Z",
     "start_time": "2021-12-30T02:41:47.226196Z"
    },
    "collapsed": true
   },
   "outputs": [],
   "source": [
    "# Standard imports\n",
    "import pandas as pd\n",
    "import matplotlib.pyplot as plt\n",
    "import matplotlib as mpl\n",
    "import numpy as np\n",
    "import seaborn as sns\n",
    "\n",
    "# Load MAVE-NN\n",
    "import sys\n",
    "path_to_mavenn = '/Users/tareen/Desktop/Research_Projects/2020_mavenn_github/mavenn_git_ssh/'\n",
    "sys.path.insert(0, path_to_mavenn)\n",
    "import mavenn\n",
    "\n",
    "# Other\n",
    "import logomaker\n",
    "from scipy.stats import norm\n",
    "from matplotlib.colors import TwoSlopeNorm, Normalize\n",
    "from mpl_toolkits.axes_grid1 import make_axes_locatable\n",
    "import matplotlib.gridspec as gridspec"
   ]
  },
  {
   "cell_type": "code",
   "execution_count": 2,
   "metadata": {},
   "outputs": [
    {
     "data": {
      "text/plain": [
       "['/Users/tareen/Desktop/Research_Projects/2020_mavenn_github/mavenn_git_ssh/mavenn']"
      ]
     },
     "execution_count": 2,
     "metadata": {},
     "output_type": "execute_result"
    }
   ],
   "source": [
    "mavenn.__path__"
   ]
  },
  {
   "cell_type": "code",
   "execution_count": 3,
   "metadata": {
    "ExecuteTime": {
     "end_time": "2021-12-30T02:41:49.147433Z",
     "start_time": "2021-12-30T02:41:49.144543Z"
    },
    "collapsed": true
   },
   "outputs": [],
   "source": [
    "style_file_name = 'fig5.style'\n",
    "s = \"\"\"\n",
    "axes.linewidth:     0.5     # edge linewidth\n",
    "font.size:          7.0\n",
    "axes.labelsize:     7.0  # fontsize of the x any y labels\n",
    "axes.titlesize:     7.0\n",
    "xtick.labelsize:    7.0  # fontsize of the tick labels\n",
    "ytick.labelsize:    7.0  # fontsize of the tick labels\n",
    "legend.fontsize:      7.0\n",
    "legend.borderpad:     0.2  # border whitespace\n",
    "legend.labelspacing:  0.2  # the vertical space between the legend entries\n",
    "legend.borderaxespad: 0.2  # the border between the axes and legend edge\n",
    "legend.framealpha:    1.0 \n",
    "lines.dash_capstyle:   round        # {butt, round, projecting}\n",
    "lines.solid_capstyle:   round        # {butt, round, projecting}\n",
    "\"\"\"\n",
    "with open(style_file_name, 'w') as f:\n",
    "    f.write(s)\n",
    "    \n",
    "plt.style.use(style_file_name)"
   ]
  },
  {
   "cell_type": "code",
   "execution_count": 4,
   "metadata": {
    "ExecuteTime": {
     "end_time": "2021-12-30T02:41:49.806166Z",
     "start_time": "2021-12-30T02:41:49.148341Z"
    }
   },
   "outputs": [],
   "source": [
    "# Load trained models\n",
    "models = {}\n",
    "models['additive'] = mavenn.load('fig5_models/mpsa_ge_additive', verbose=False)\n",
    "models['neighbor']= mavenn.load('fig5_models/mpsa_ge_neighbor', verbose=False)\n",
    "models['pairwise'] = mavenn.load('fig5_models/mpsa_ge_pairwise', verbose=False)\n",
    "models['blackbox'] = mavenn.load('fig5_models/mpsa_ge_blackbox', verbose=False)"
   ]
  },
  {
   "cell_type": "code",
   "execution_count": 5,
   "metadata": {
    "ExecuteTime": {
     "end_time": "2021-12-30T02:41:49.835510Z",
     "start_time": "2021-12-30T02:41:49.806900Z"
    }
   },
   "outputs": [
    {
     "name": "stdout",
     "output_type": "stream",
     "text": [
      "test N: 6,249\n",
      "training + validation N: 24,234\n"
     ]
    }
   ],
   "source": [
    "# Download mpsa dataset from master branch\n",
    "url = 'https://github.com/jbkinney/mavenn/blob/master/mavenn/examples/datasets/mpsa_data.csv.gz?raw=true'\n",
    "\n",
    "data_df = pd.read_csv(url,  \n",
    "                      compression='gzip',\n",
    "                      index_col=[0])\n",
    "\n",
    "data_df = data_df.reset_index().copy()\n",
    "\n",
    "# Separate test from data_df\n",
    "ix_test = data_df['set']=='test'\n",
    "test_df = data_df[ix_test].reset_index(drop=True)\n",
    "print(f'test N: {len(test_df):,}')\n",
    "\n",
    "# Remove test data from data_df\n",
    "data_df = data_df[~ix_test].reset_index(drop=True)\n",
    "print(f'training + validation N: {len(data_df):,}')\n",
    "data_df.head(10)\n",
    "\n",
    "# Get test_df x and y values\n",
    "x_test = test_df['x'].values\n",
    "y_test = test_df['y'].values"
   ]
  },
  {
   "cell_type": "code",
   "execution_count": 6,
   "metadata": {
    "ExecuteTime": {
     "end_time": "2021-12-30T02:41:51.113554Z",
     "start_time": "2021-12-30T02:41:49.836408Z"
    }
   },
   "outputs": [
    {
     "data": {
      "text/html": [
       "<div>\n",
       "<style scoped>\n",
       "    .dataframe tbody tr th:only-of-type {\n",
       "        vertical-align: middle;\n",
       "    }\n",
       "\n",
       "    .dataframe tbody tr th {\n",
       "        vertical-align: top;\n",
       "    }\n",
       "\n",
       "    .dataframe thead th {\n",
       "        text-align: right;\n",
       "    }\n",
       "</style>\n",
       "<table border=\"1\" class=\"dataframe\">\n",
       "  <thead>\n",
       "    <tr style=\"text-align: right;\">\n",
       "      <th></th>\n",
       "      <th>name</th>\n",
       "      <th>level_1</th>\n",
       "      <th>I</th>\n",
       "      <th>dI</th>\n",
       "    </tr>\n",
       "  </thead>\n",
       "  <tbody>\n",
       "    <tr>\n",
       "      <th>0</th>\n",
       "      <td>additive\\n(epistasis package)</td>\n",
       "      <td>$I_{\\rm var}$</td>\n",
       "      <td>0.000000</td>\n",
       "      <td>0.000000</td>\n",
       "    </tr>\n",
       "    <tr>\n",
       "      <th>1</th>\n",
       "      <td>additive\\n(epistasis package)</td>\n",
       "      <td>$I_{\\rm pred}$</td>\n",
       "      <td>0.220371</td>\n",
       "      <td>0.012467</td>\n",
       "    </tr>\n",
       "    <tr>\n",
       "      <th>2</th>\n",
       "      <td>additive</td>\n",
       "      <td>$I_{\\rm var}$</td>\n",
       "      <td>0.219940</td>\n",
       "      <td>0.023779</td>\n",
       "    </tr>\n",
       "    <tr>\n",
       "      <th>3</th>\n",
       "      <td>additive</td>\n",
       "      <td>$I_{\\rm pred}$</td>\n",
       "      <td>0.264783</td>\n",
       "      <td>0.009106</td>\n",
       "    </tr>\n",
       "    <tr>\n",
       "      <th>4</th>\n",
       "      <td>neighbor</td>\n",
       "      <td>$I_{\\rm var}$</td>\n",
       "      <td>0.318125</td>\n",
       "      <td>0.033603</td>\n",
       "    </tr>\n",
       "    <tr>\n",
       "      <th>5</th>\n",
       "      <td>neighbor</td>\n",
       "      <td>$I_{\\rm pred}$</td>\n",
       "      <td>0.354124</td>\n",
       "      <td>0.014924</td>\n",
       "    </tr>\n",
       "    <tr>\n",
       "      <th>6</th>\n",
       "      <td>pairwise</td>\n",
       "      <td>$I_{\\rm var}$</td>\n",
       "      <td>0.320436</td>\n",
       "      <td>0.020865</td>\n",
       "    </tr>\n",
       "    <tr>\n",
       "      <th>7</th>\n",
       "      <td>pairwise</td>\n",
       "      <td>$I_{\\rm pred}$</td>\n",
       "      <td>0.390859</td>\n",
       "      <td>0.012461</td>\n",
       "    </tr>\n",
       "    <tr>\n",
       "      <th>8</th>\n",
       "      <td>black box</td>\n",
       "      <td>$I_{\\rm var}$</td>\n",
       "      <td>0.390800</td>\n",
       "      <td>0.026343</td>\n",
       "    </tr>\n",
       "    <tr>\n",
       "      <th>9</th>\n",
       "      <td>black box</td>\n",
       "      <td>$I_{\\rm pred}$</td>\n",
       "      <td>0.448621</td>\n",
       "      <td>0.014800</td>\n",
       "    </tr>\n",
       "  </tbody>\n",
       "</table>\n",
       "</div>"
      ],
      "text/plain": [
       "                            name         level_1         I        dI\n",
       "0  additive\\n(epistasis package)   $I_{\\rm var}$  0.000000  0.000000\n",
       "1  additive\\n(epistasis package)  $I_{\\rm pred}$  0.220371  0.012467\n",
       "2                       additive   $I_{\\rm var}$  0.219940  0.023779\n",
       "3                       additive  $I_{\\rm pred}$  0.264783  0.009106\n",
       "4                       neighbor   $I_{\\rm var}$  0.318125  0.033603\n",
       "5                       neighbor  $I_{\\rm pred}$  0.354124  0.014924\n",
       "6                       pairwise   $I_{\\rm var}$  0.320436  0.020865\n",
       "7                       pairwise  $I_{\\rm pred}$  0.390859  0.012461\n",
       "8                      black box   $I_{\\rm var}$  0.390800  0.026343\n",
       "9                      black box  $I_{\\rm pred}$  0.448621  0.014800"
      ]
     },
     "execution_count": 6,
     "metadata": {},
     "output_type": "execute_result"
    }
   ],
   "source": [
    "# Creat dict to hold information values\n",
    "info_dict = {}\n",
    "info_dict['additive\\n(epistasis package)','$I_{\\\\rm var}$'] = {'I':0.000000,'dI':0.000000}\n",
    "info_dict['additive\\n(epistasis package)','$I_{\\\\rm pred}$'] = {'I':0.220371,'dI':0.012467}\n",
    "\n",
    "for model_name,model in models.items():\n",
    "    \n",
    "    # Compute likelihood information\n",
    "    I_var, dI_var =  model.I_variational(x=x_test, y=y_test)\n",
    "    \n",
    "    # Compute predictive information\n",
    "    I_pred, dI_pred = model.I_predictive(x=x_test, y=y_test)\n",
    "    \n",
    "    # Add to info_dict\n",
    "    info_dict[model_name,'$I_{\\\\rm var}$']  = {'I':I_var,'dI':dI_var}\n",
    "    info_dict[model_name,'$I_{\\\\rm pred}$'] = {'I':I_pred,'dI':dI_pred} \n",
    "\n",
    "# Transform info_dict into info_df\n",
    "info_df = pd.DataFrame(info_dict).T\n",
    "info_df = info_df[['I','dI']].reset_index().copy()\n",
    "info_df.rename(columns={'level_0':'name'}, inplace=True)\n",
    "info_df.loc[8:10,'name'] = 'black box'\n",
    "info_df"
   ]
  },
  {
   "cell_type": "code",
   "execution_count": 7,
   "metadata": {
    "ExecuteTime": {
     "end_time": "2021-12-30T02:41:51.115379Z",
     "start_time": "2021-12-30T02:41:51.114223Z"
    },
    "collapsed": true
   },
   "outputs": [],
   "source": [
    "# I_intrinsic bound computed from replicates\n",
    "I_rep = 0.46067406"
   ]
  },
  {
   "cell_type": "code",
   "execution_count": 8,
   "metadata": {
    "ExecuteTime": {
     "end_time": "2021-12-30T02:41:51.120049Z",
     "start_time": "2021-12-30T02:41:51.116939Z"
    },
    "collapsed": true
   },
   "outputs": [],
   "source": [
    "# Load results of Sailer-Harms inference\n",
    "fig5npz = np.load('fig5_SH_data/fig5_data_dict.npz')\n",
    "phi_sh = fig5npz['phi_sh']\n",
    "yhat_sh = fig5npz['yhat_sh']\n",
    "y_sh = fig5npz['y_sh']\n",
    "phi_grid_sh=fig5npz['phi_grid_sh']\n",
    "yhat_grid_sh = fig5npz['yhat_grid_sh']"
   ]
  },
  {
   "cell_type": "code",
   "execution_count": 9,
   "metadata": {
    "ExecuteTime": {
     "end_time": "2021-12-30T02:41:52.429773Z",
     "start_time": "2021-12-30T02:41:51.121242Z"
    }
   },
   "outputs": [
    {
     "name": "stdout",
     "output_type": "stream",
     "text": [
      "I_epistasis: 0.22037 +- 0.01247 bits\n",
      "I_mavenn: 0.26478 +- 0.00911 bits\n",
      "z: 2.88\n",
      "p-value: 0.0020\n"
     ]
    },
    {
     "data": {
      "image/png": "[encoded data removed]",
      "text/plain": [
       "<Figure size 468x504 with 7 Axes>"
      ]
     },
     "metadata": {
      "needs_background": "light"
     },
     "output_type": "display_data"
    }
   ],
   "source": [
    "# Create figure\n",
    "fig = plt.figure(figsize=[6.5, 7])\n",
    "gs = gridspec.GridSpec(3, 3, figure=fig)\n",
    "\n",
    "\n",
    "# Set lims and ticks\n",
    "ylim = [-2.5, 2.5]\n",
    "yticks = [-6,-4,-2,0,2,4]\n",
    "philim = [-3,5]\n",
    "phiticks = [-2,0,2,4]\n",
    "\n",
    "#\n",
    "# Panel A: Bar chart\n",
    "#\n",
    "ax = fig.add_subplot(gs[0,:])\n",
    "\n",
    "# Plot I_int region\n",
    "K = len(info_df)\n",
    "xlim = [-.5, 4.5]\n",
    "ylim = [0, 0.6]\n",
    "ax.fill_between(xlim, [I_rep, I_rep], [.6, .6], color='gray', alpha=.2, zorder=-100, linewidth=0,\n",
    "                label='$I_\\mathrm{int}$')\n",
    "\n",
    "# Plot bars\n",
    "sns.barplot(ax=ax, data=info_df, hue='level_1', x='name', y='I')\n",
    "\n",
    "# Plot 95% confidence intervals\n",
    "x = np.array([[x-.2,x+.2] for x in range(5)]).ravel()\n",
    "yerr = info_df['dI'].values\n",
    "y = info_df['I'].values \n",
    "ax.errorbar(x=x[1:], y=y[1:], yerr=yerr[1:], color='k', capsize=3, linestyle='none', \n",
    "            elinewidth=1, capthick=1, solid_capstyle='round')\n",
    "ax.set_ylabel('information (bits)')\n",
    "ax.set_xlabel('')\n",
    "ax.set_xlim(xlim)\n",
    "ax.set_ylim(ylim)\n",
    "\n",
    "# Reorder legend\n",
    "handles, labels = ax.get_legend_handles_labels()\n",
    "handles = [handles[1], handles[2], handles[0]]\n",
    "labels = [labels[1], labels[2], labels[0]]\n",
    "ax.legend(handles, labels, loc='upper left')\n",
    "\n",
    "# Compute a p-value for additive epistasis vs. MAVE-NN I_pred\n",
    "I_epistasis = info_df.loc[1,'I']\n",
    "dI_epistasis = info_df.loc[1,'dI']\n",
    "print(f'I_epistasis: {I_epistasis:.5f} +- {dI_epistasis:.5f} bits')\n",
    "I_mavenn = info_df.loc[3,'I']\n",
    "dI_mavenn = info_df.loc[3,'dI']\n",
    "print(f'I_mavenn: {I_mavenn:.5f} +- {dI_mavenn:.5f} bits')\n",
    "z = (I_mavenn - I_epistasis)/np.sqrt(dI_epistasis**2 + dI_mavenn**2)\n",
    "print(f'z: {z:.2f}')\n",
    "dist = norm()\n",
    "p = norm.cdf(-z)\n",
    "print(f'p-value: {p:.4f}')\n",
    "\n",
    "# Plot significance line\n",
    "ax.plot([0.2, 1.2], [.3, .3], '-k')\n",
    "\n",
    "# Plot text \n",
    "ax.text(x=.7, y=.31, s=f'p = {p:.4f}', ha='center', va='bottom')\n",
    "\n",
    "\n",
    "#\n",
    "# Panel B: GE plot for Sailer & Harms model\n",
    "#\n",
    "\n",
    "ylim = [-1.5, 2.5]\n",
    "yticks = [-1, 0, 1, 2]\n",
    "\n",
    "# Show results from Sailer & Harms\n",
    "# Set ax\n",
    "ax = fig.add_subplot(gs[1,0])\n",
    "\n",
    "ax.scatter(phi_sh, \n",
    "           y_sh, \n",
    "           s=1,\n",
    "           alpha=.2,\n",
    "           color='C0')\n",
    "\n",
    "ax.plot(phi_grid_sh, \n",
    "        yhat_grid_sh, \n",
    "        color='C1', \n",
    "        alpha=1, \n",
    "        linestyle='-', \n",
    "        linewidth=2, \n",
    "        label='$\\hat{y}$')\n",
    "\n",
    "# Style plot\n",
    "ax.set_xlim(philim)\n",
    "ax.set_ylim(ylim)\n",
    "ax.set_yticks(yticks)\n",
    "ax.set_xlabel(f'$\\phi$, additive (epistasis package)', labelpad=-1)\n",
    "ax.set_ylabel('$\\log_{10}$ PSI ($y$)', labelpad=-2)\n",
    "\n",
    "# Show predictive information\n",
    "ax.text(x=-2.7, y=2.4, fontsize=7, ha='left', va='top',\n",
    "        s=f'$I_\\mathrm{{pre}}: {I_epistasis:.3f}\\pm{dI_epistasis:.3f}$ bits');\n",
    "\n",
    "#\n",
    "# Panel C,D: GE plots for MAVE-NN models\n",
    "#\n",
    "\n",
    "# Choose phi grid for plotting curves\n",
    "for i, name in enumerate(['additive', 'pairwise']):\n",
    "    \n",
    "    # Set ax\n",
    "    ax = fig.add_subplot(gs[1,i+1])\n",
    "    mpsa_model = models[name]\n",
    "    phi = mpsa_model.x_to_phi(x_test)\n",
    "    \n",
    "    phi_grid = np.linspace(philim[0], philim[1], 1000)\n",
    "    yhat_grid = mpsa_model.phi_to_yhat(phi_grid)\n",
    "    yqs_grid = mpsa_model.yhat_to_yq(yhat_grid, q=[.16,.84])\n",
    "    I_pred = info_df[info_df['name']==name].reset_index(drop=True)['I'][1]\n",
    "    dI_pred = info_df[info_df['name']==name].reset_index(drop=True)['dI'][1]\n",
    "\n",
    "    # Draw scatter plot\n",
    "    ax.scatter(phi, \n",
    "               y_test, \n",
    "               s=1,\n",
    "               alpha=.2,\n",
    "               color='C0')\n",
    "\n",
    "    # Draw GE curve & confidence intervals\n",
    "    ax.plot(phi_grid, \n",
    "            yhat_grid, \n",
    "            color='C1', \n",
    "            alpha=1, \n",
    "            linestyle='-', \n",
    "            linewidth=2, \n",
    "            label='$\\hat{y}$')\n",
    "    ax.plot(phi_grid, \n",
    "            yqs_grid[:,0], \n",
    "            color='C1', \n",
    "            alpha=1, \n",
    "            linestyle=':', \n",
    "            linewidth=1, \n",
    "            label='95% CI')\n",
    "    ax.plot(phi_grid, \n",
    "            yqs_grid[:,1], \n",
    "            color='C1', \n",
    "            alpha=1, \n",
    "            linestyle=':', \n",
    "            linewidth=1)\n",
    "    \n",
    "    # Show predictive information\n",
    "    ax.text(x=-2.7, y=2.4, fontsize=7, ha='left', va='top',\n",
    "        s=f'$I_\\mathrm{{pre}}: {I_pred:.3f}\\pm{dI_pred:.3f}$ bits');\n",
    "    \n",
    "    # Style plot\n",
    "    ax.set_xlim(philim)\n",
    "    ax.set_ylim(ylim)\n",
    "    ax.set_yticks(yticks)\n",
    "    ax.set_yticklabels([])\n",
    "    ax.set_xlabel(f'$\\phi$, {name}', labelpad=0)\n",
    "\n",
    "#\n",
    "# Panel E: Logo\n",
    "#   \n",
    "\n",
    "# Make axes\n",
    "ax = fig.add_subplot(gs[2,0])\n",
    "\n",
    "# Draw logo\n",
    "logo_df = models['pairwise'].get_theta()['logomaker_df'].fillna(0)\n",
    "logo = logomaker.Logo(df=logo_df, ax=ax, fade_below=.5, shade_below=.5, width=.9, font_name='Arial Rounded MT Bold')\n",
    "\n",
    "# Style logo\n",
    "ylim = ax.get_ylim()\n",
    "logo.highlight_position_range(pmin=3, pmax=4, color='w', alpha=1, zorder=10)\n",
    "logo.highlight_position_range(pmin=3, pmax=4, color='gray', alpha=.1, zorder=11)\n",
    "logo.style_single_glyph(p=3, c='G', floor=ylim[0], ceiling=ylim[1], color='gray', zorder=30, alpha=.5)\n",
    "logo.style_single_glyph(p=4, c='U', color='k', zorder=30)\n",
    "logo.style_single_glyph(p=4, c='C', color='k', zorder=30)\n",
    "logo.style_spines(visible=False)\n",
    "\n",
    "# Sytle axes\n",
    "ax.axvline(2.5, linestyle=':', color='k', zorder=30)\n",
    "ax.set_ylabel('additive effect ($\\Delta \\phi$)', labelpad=-1)\n",
    "ax.set_xticks([0,1,2,3,4,5,6,7,8])\n",
    "ax.set_xticklabels([f'{x:+d}' for x in range(-3,7) if x!=0])\n",
    "ax.set_xlabel('nucleotide position', labelpad=5)\n",
    "\n",
    "#\n",
    "# Panel E: Pairwise heatmap\n",
    "#  \n",
    "\n",
    "# Make axes\n",
    "ax = fig.add_subplot(gs[2,-2:])\n",
    "\n",
    "# Draw heatmap\n",
    "theta = models['pairwise'].get_theta()['theta_lclc']\n",
    "ax, cb = mavenn.heatmap_pairwise(values=theta,\n",
    "                          alphabet='rna',\n",
    "                          ax=ax,\n",
    "                          gpmap_type='pairwise',\n",
    "                          cmap_size='3%')\n",
    "\n",
    "# Style axes\n",
    "ax.set_xticks([0,1,2,3,4,5,6,7,8])\n",
    "ax.set_xticklabels([f'{x:+d}' for x in range(-3,7) if x!=0])\n",
    "ax.set_xlabel('nucleotide position', labelpad=5)\n",
    "cb.set_label('pairwise effect ($\\Delta \\Delta \\phi$)', labelpad=5, ha='center', va='center', rotation=-90)\n",
    "cb.outline.set_visible(False)\n",
    "cb.ax.tick_params(direction='in', size=10, color='white')\n",
    "\n",
    "# Clean tighten layout and save\n",
    "fig.tight_layout(h_pad=2)\n",
    "fig.savefig('png/fig5_ipynb.png',dpi=400,facecolor='w')"
   ]
  },
  {
   "cell_type": "code",
   "execution_count": null,
   "metadata": {
    "collapsed": true
   },
   "outputs": [],
   "source": []
  }
 ],
 "metadata": {
  "kernelspec": {
   "display_name": "Python 3",
   "language": "python",
   "name": "python3"
  },
  "language_info": {
   "codemirror_mode": {
    "name": "ipython",
    "version": 3
   },
   "file_extension": ".py",
   "mimetype": "text/x-python",
   "name": "python",
   "nbconvert_exporter": "python",
   "pygments_lexer": "ipython3",
   "version": "3.6.7"
  },
  "toc": {
   "base_numbering": 1,
   "nav_menu": {},
   "number_sections": true,
   "sideBar": true,
   "skip_h1_title": false,
   "title_cell": "Table of Contents",
   "title_sidebar": "Contents",
   "toc_cell": false,
   "toc_position": {},
   "toc_section_display": true,
   "toc_window_display": false
  },
  "varInspector": {
   "cols": {
    "lenName": 16,
    "lenType": 16,
    "lenVar": 40
   },
   "kernels_config": {
    "python": {
     "delete_cmd_postfix": "",
     "delete_cmd_prefix": "del ",
     "library": "var_list.py",
     "varRefreshCmd": "print(var_dic_list())"
    },
    "r": {
     "delete_cmd_postfix": ") ",
     "delete_cmd_prefix": "rm(",
     "library": "var_list.r",
     "varRefreshCmd": "cat(var_dic_list()) "
    }
   },
   "oldHeight": 961.7333639999999,
   "position": {
    "height": "983.722px",
    "left": "39.2528px",
    "right": "20px",
    "top": "125.994px",
    "width": "537.003px"
   },
   "types_to_exclude": [
    "module",
    "function",
    "builtin_function_or_method",
    "instance",
    "_Feature"
   ],
   "varInspector_section_display": "block",
   "window_display": false
  }
 },
 "nbformat": 4,
 "nbformat_minor": 2
}
