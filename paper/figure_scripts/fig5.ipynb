{
 "cells": [
  {
   "cell_type": "code",
   "execution_count": 1,
   "metadata": {
    "ExecuteTime": {
     "end_time": "2021-12-31T23:19:19.261611Z",
     "start_time": "2021-12-31T23:19:16.815260Z"
    }
   },
   "outputs": [],
   "source": [
    "# Standard imports\n",
    "import pandas as pd\n",
    "import matplotlib.pyplot as plt\n",
    "import matplotlib as mpl\n",
    "import seaborn as sns\n",
    "import numpy as np\n",
    "%matplotlib notebook\n",
    "\n",
    "# Load mavenn and check path\n",
    "import mavenn\n",
    "\n",
    "# Other imports\n",
    "import logomaker\n",
    "from scipy.stats import norm\n",
    "import matplotlib.gridspec as gridspec\n",
    "\n",
    "# Import helper functions\n",
    "from helper_functions import my_rsquared, save_fig_with_date_stamp, set_xticks\n",
    "\n",
    "# Set random seed\n",
    "np.random.seed(0)\n",
    "\n",
    "# Set figure name\n",
    "fig_name = 'fig5'"
   ]
  },
  {
   "cell_type": "code",
   "execution_count": 2,
   "metadata": {
    "ExecuteTime": {
     "end_time": "2021-12-31T23:19:19.264920Z",
     "start_time": "2021-12-31T23:19:19.262711Z"
    }
   },
   "outputs": [],
   "source": [
    "style_file_name = f'{fig_name}.style'\n",
    "s = \"\"\"\n",
    "axes.linewidth:     0.5     # edge linewidth\n",
    "font.size:          7.0\n",
    "axes.labelsize:     7.0  # fontsize of the x any y labels\n",
    "axes.titlesize:     7.0\n",
    "xtick.labelsize:    7.0  # fontsize of the tick labels\n",
    "ytick.labelsize:    7.0  # fontsize of the tick labels\n",
    "legend.fontsize:      7.0\n",
    "legend.borderpad:     0.2  # border whitespace\n",
    "legend.labelspacing:  0.2  # the vertical space between the legend entries\n",
    "legend.borderaxespad: 0.2  # the border between the axes and legend edge\n",
    "legend.framealpha:    1.0 \n",
    "lines.dash_capstyle:   round        # {butt, round, projecting}\n",
    "lines.solid_capstyle:   round        # {butt, round, projecting}\n",
    "\"\"\"\n",
    "with open(style_file_name, 'w') as f:\n",
    "    f.write(s)\n",
    "    \n",
    "plt.style.use(style_file_name)"
   ]
  },
  {
   "cell_type": "code",
   "execution_count": 3,
   "metadata": {
    "ExecuteTime": {
     "end_time": "2021-12-31T23:19:19.865804Z",
     "start_time": "2021-12-31T23:19:19.265836Z"
    }
   },
   "outputs": [
    {
     "name": "stdout",
     "output_type": "stream",
     "text": [
      "WARNING:tensorflow:From /Users/jkinney/miniforge3_arm64/lib/python3.9/site-packages/tensorflow/python/ops/array_ops.py:5043: calling gather (from tensorflow.python.ops.array_ops) with validate_indices is deprecated and will be removed in a future version.\n",
      "Instructions for updating:\n",
      "The `validate_indices` argument has no effect. Indices are always validated on CPU and never validated on GPU.\n"
     ]
    }
   ],
   "source": [
    "# Load trained models\n",
    "models = {}\n",
    "models['additive'] = mavenn.load('../models/mpsa_additive_ge_2021.12.30.21h.07m', verbose=False)\n",
    "models['neighbor']= mavenn.load('../models/mpsa_neighbor_ge_2021.12.30.21h.07m', verbose=False)\n",
    "models['pairwise'] = mavenn.load('../models/mpsa_pairwise_ge_2021.12.30.21h.07m', verbose=False)\n",
    "models['blackbox'] = mavenn.load('../models/mpsa_blackbox_ge_2021.12.30.21h.07m', verbose=False)"
   ]
  },
  {
   "cell_type": "code",
   "execution_count": 4,
   "metadata": {
    "ExecuteTime": {
     "end_time": "2021-12-31T23:19:19.894474Z",
     "start_time": "2021-12-31T23:19:19.866482Z"
    }
   },
   "outputs": [
    {
     "name": "stdout",
     "output_type": "stream",
     "text": [
      "Training set   :   18,215 observations (  59.75%)\n",
      "Validation set :    6,019 observations (  19.75%)\n",
      "Test set       :    6,249 observations (  20.50%)\n",
      "-------------------------------------------------\n",
      "Total dataset  :   30,483 observations ( 100.00%)\n",
      "\n"
     ]
    }
   ],
   "source": [
    "# Load MPSA data\n",
    "data_df = data_df = pd.read_csv('../datasets/mpsa_data.csv.gz', compression='gzip')\n",
    "\n",
    "# Split into training+validation and test sets\n",
    "trainval_df, test_df = mavenn.split_dataset(data_df)\n",
    "\n",
    "# Get test_df x and y values\n",
    "x_test = test_df['x'].values\n",
    "y_test = test_df['y'].values"
   ]
  },
  {
   "cell_type": "code",
   "execution_count": 5,
   "metadata": {
    "ExecuteTime": {
     "end_time": "2021-12-31T23:19:21.289495Z",
     "start_time": "2021-12-31T23:19:19.895250Z"
    }
   },
   "outputs": [
    {
     "name": "stdout",
     "output_type": "stream",
     "text": [
      "Num x in both mpsa_data.csv and mpsa_replicate_data.csv: 29,593\n",
      "I_intr >= 0.462 +- 0.009 bits\n"
     ]
    }
   ],
   "source": [
    "# Load replicate dataset\n",
    "rep_data_df = pd.read_csv('../datasets/mpsa_replicate_data.csv.gz', compression='gzip')\n",
    "      \n",
    "# merge datasets\n",
    "cols = ['x','y']\n",
    "intersection_df = pd.merge(left=data_df[cols], right=rep_data_df[cols], on='x', how='inner')\n",
    "intersection_df.columns = ['x','y1','y2']\n",
    "print(f'Num x in both mpsa_data.csv and mpsa_replicate_data.csv: {len(intersection_df):,}')\n",
    "\n",
    "# Compute mutual information\n",
    "I_intr, dI_intr = mavenn.src.entropy.mi_continuous(intersection_df['y1'], intersection_df['y2'])\n",
    "print(f'I_intr >= {I_intr:.3f} +- {dI_intr:.3f} bits')"
   ]
  },
  {
   "cell_type": "code",
   "execution_count": 6,
   "metadata": {
    "ExecuteTime": {
     "end_time": "2021-12-31T23:19:21.778982Z",
     "start_time": "2021-12-31T23:19:21.290215Z"
    }
   },
   "outputs": [],
   "source": [
    "# Load results of Sailer-Harms inference. See folder fig5_SH_data for inference script.\n",
    "SH_df = pd.read_excel('fig5_SH_data/Sailer_Harms_powerlaw_fit_MPSA_data.xlsx',sheet_name='test')\n",
    "SH_line = pd.read_excel('fig5_SH_data/Sailer_Harms_powerlaw_fit_MPSA_data.xlsx',sheet_name='line')\n",
    "phi_sh = SH_df['y_add_fixed_test']\n",
    "y_sh = SH_df['y_obs_test']\n",
    "phi_grid_sh = SH_line['y_add_line_fixed']\n",
    "yhat_grid_sh = SH_line['y_obs_line']"
   ]
  },
  {
   "cell_type": "code",
   "execution_count": 7,
   "metadata": {
    "ExecuteTime": {
     "end_time": "2021-12-31T23:19:21.994658Z",
     "start_time": "2021-12-31T23:19:21.780610Z"
    }
   },
   "outputs": [],
   "source": [
    "# Estimate I_pred for S&H epsistasis model\n",
    "from mavenn.src.entropy import mi_continuous\n",
    "knn_fuzz = 0.01  # Default vaue used in Model.I_predictive\n",
    "phi_sh_fuzz = phi_sh.copy()\n",
    "phi_sh_fuzz += knn_fuzz * phi_sh_fuzz.std(ddof=1) * np.random.randn(len(phi_sh_fuzz))\n",
    "I_pred_SH, dI_pred_SH = mi_continuous(phi_sh_fuzz,y_sh)"
   ]
  },
  {
   "cell_type": "code",
   "execution_count": 8,
   "metadata": {
    "ExecuteTime": {
     "end_time": "2021-12-31T23:19:23.306599Z",
     "start_time": "2021-12-31T23:19:21.996022Z"
    }
   },
   "outputs": [
    {
     "data": {
      "text/plain": "                            name          metric         I        dI\n0  additive\\n(epistasis package)   $I_{\\rm var}$  0.000000  0.000000\n1  additive\\n(epistasis package)  $I_{\\rm pred}$  0.179863  0.011398\n2                       additive   $I_{\\rm var}$  0.195117  0.029810\n3                       additive  $I_{\\rm pred}$  0.256769  0.012866\n4                       neighbor   $I_{\\rm var}$  0.305341  0.027773\n5                       neighbor  $I_{\\rm pred}$  0.351850  0.016126\n6                       pairwise   $I_{\\rm var}$  0.328253  0.026102\n7                       pairwise  $I_{\\rm pred}$  0.374056  0.014040\n8                      black box   $I_{\\rm var}$  0.408747  0.026136\n9                      black box  $I_{\\rm pred}$  0.457523  0.015222",
      "text/html": "<div>\n<style scoped>\n    .dataframe tbody tr th:only-of-type {\n        vertical-align: middle;\n    }\n\n    .dataframe tbody tr th {\n        vertical-align: top;\n    }\n\n    .dataframe thead th {\n        text-align: right;\n    }\n</style>\n<table border=\"1\" class=\"dataframe\">\n  <thead>\n    <tr style=\"text-align: right;\">\n      <th></th>\n      <th>name</th>\n      <th>metric</th>\n      <th>I</th>\n      <th>dI</th>\n    </tr>\n  </thead>\n  <tbody>\n    <tr>\n      <th>0</th>\n      <td>additive\\n(epistasis package)</td>\n      <td>$I_{\\rm var}$</td>\n      <td>0.000000</td>\n      <td>0.000000</td>\n    </tr>\n    <tr>\n      <th>1</th>\n      <td>additive\\n(epistasis package)</td>\n      <td>$I_{\\rm pred}$</td>\n      <td>0.179863</td>\n      <td>0.011398</td>\n    </tr>\n    <tr>\n      <th>2</th>\n      <td>additive</td>\n      <td>$I_{\\rm var}$</td>\n      <td>0.195117</td>\n      <td>0.029810</td>\n    </tr>\n    <tr>\n      <th>3</th>\n      <td>additive</td>\n      <td>$I_{\\rm pred}$</td>\n      <td>0.256769</td>\n      <td>0.012866</td>\n    </tr>\n    <tr>\n      <th>4</th>\n      <td>neighbor</td>\n      <td>$I_{\\rm var}$</td>\n      <td>0.305341</td>\n      <td>0.027773</td>\n    </tr>\n    <tr>\n      <th>5</th>\n      <td>neighbor</td>\n      <td>$I_{\\rm pred}$</td>\n      <td>0.351850</td>\n      <td>0.016126</td>\n    </tr>\n    <tr>\n      <th>6</th>\n      <td>pairwise</td>\n      <td>$I_{\\rm var}$</td>\n      <td>0.328253</td>\n      <td>0.026102</td>\n    </tr>\n    <tr>\n      <th>7</th>\n      <td>pairwise</td>\n      <td>$I_{\\rm pred}$</td>\n      <td>0.374056</td>\n      <td>0.014040</td>\n    </tr>\n    <tr>\n      <th>8</th>\n      <td>black box</td>\n      <td>$I_{\\rm var}$</td>\n      <td>0.408747</td>\n      <td>0.026136</td>\n    </tr>\n    <tr>\n      <th>9</th>\n      <td>black box</td>\n      <td>$I_{\\rm pred}$</td>\n      <td>0.457523</td>\n      <td>0.015222</td>\n    </tr>\n  </tbody>\n</table>\n</div>"
     },
     "execution_count": 8,
     "metadata": {},
     "output_type": "execute_result"
    }
   ],
   "source": [
    "# Creat dict to hold information values\n",
    "info_dict = {}\n",
    "\n",
    "# Create dataframe to hold info\n",
    "info_df = pd.DataFrame(columns=['name','metric','I','dI'])\n",
    "row_dicts = []\n",
    "row_dicts.append({'name':'additive\\n(epistasis package)',\n",
    "                  'metric':'$I_{\\\\rm var}$',\n",
    "                  'I':0.000000,\n",
    "                  'dI':0.000000})\n",
    "\n",
    "row_dicts.append({'name':'additive\\n(epistasis package)',\n",
    "                  'metric':'$I_{\\\\rm pred}$',\n",
    "                  'I':I_pred_SH,\n",
    "                  'dI':dI_pred_SH})\n",
    "\n",
    "# Compute variational and predictive information on test data\n",
    "for model_name, model in models.items():\n",
    "    \n",
    "    # Compute and record likelihood information\n",
    "    I_var, dI_var =  model.I_variational(x=x_test, y=y_test)\n",
    "    row_dicts.append({'name':model_name,\n",
    "                      'metric':'$I_{\\\\rm var}$',\n",
    "                      'I':I_var,\n",
    "                      'dI':dI_var})\n",
    "    \n",
    "    # Compute and record predictive information\n",
    "    I_pred, dI_pred = model.I_predictive(x=x_test, y=y_test, num_subsamples=1000)\n",
    "    row_dicts.append({'name':model_name,\n",
    "                      'metric':'$I_{\\\\rm pred}$',\n",
    "                      'I':I_pred,\n",
    "                      'dI':dI_pred})\n",
    "    \n",
    "# Add rows to dataframe \n",
    "for row_dict in row_dicts:\n",
    "    info_df = info_df.append(row_dict, ignore_index=True)\n",
    "    \n",
    "# Put space in black box\n",
    "info_df['name'] = info_df['name'].str.replace('blackbox', 'black box')   \n",
    "info_df"
   ]
  },
  {
   "cell_type": "code",
   "execution_count": 9,
   "metadata": {
    "ExecuteTime": {
     "end_time": "2021-12-31T23:19:24.315699Z",
     "start_time": "2021-12-31T23:19:23.307342Z"
    }
   },
   "outputs": [
    {
     "data": {
      "text/plain": "<IPython.core.display.Javascript object>",
      "application/javascript": "/* Put everything inside the global mpl namespace */\n/* global mpl */\nwindow.mpl = {};\n\nmpl.get_websocket_type = function () {\n    if (typeof WebSocket !== 'undefined') {\n        return WebSocket;\n    } else if (typeof MozWebSocket !== 'undefined') {\n        return MozWebSocket;\n    } else {\n        alert(\n            'Your browser does not have WebSocket support. ' +\n                'Please try Chrome, Safari or Firefox ≥ 6. ' +\n                'Firefox 4 and 5 are also supported but you ' +\n                'have to enable WebSockets in about:config.'\n        );\n    }\n};\n\nmpl.figure = function (figure_id, websocket, ondownload, parent_element) {\n    this.id = figure_id;\n\n    this.ws = websocket;\n\n    this.supports_binary = this.ws.binaryType !== undefined;\n\n    if (!this.supports_binary) {\n        var warnings = document.getElementById('mpl-warnings');\n        if (warnings) {\n            warnings.style.display = 'block';\n            warnings.textContent =\n                'This browser does not support binary websocket messages. ' +\n                'Performance may be slow.';\n        }\n    }\n\n    this.imageObj = new Image();\n\n    this.context = undefined;\n    this.message = undefined;\n    this.canvas = undefined;\n    this.rubberband_canvas = undefined;\n    this.rubberband_context = undefined;\n    this.format_dropdown = undefined;\n\n    this.image_mode = 'full';\n\n    this.root = document.createElement('div');\n    this.root.setAttribute('style', 'display: inline-block');\n    this._root_extra_style(this.root);\n\n    parent_element.appendChild(this.root);\n\n    this._init_header(this);\n    this._init_canvas(this);\n    this._init_toolbar(this);\n\n    var fig = this;\n\n    this.waiting = false;\n\n    this.ws.onopen = function () {\n        fig.send_message('supports_binary', { value: fig.supports_binary });\n        fig.send_message('send_image_mode', {});\n        if (fig.ratio !== 1) {\n            fig.send_message('set_dpi_ratio', { dpi_ratio: fig.ratio });\n        }\n        fig.send_message('refresh', {});\n    };\n\n    this.imageObj.onload = function () {\n        if (fig.image_mode === 'full') {\n            // Full images could contain transparency (where diff images\n            // almost always do), so we need to clear the canvas so that\n            // there is no ghosting.\n            fig.context.clearRect(0, 0, fig.canvas.width, fig.canvas.height);\n        }\n        fig.context.drawImage(fig.imageObj, 0, 0);\n    };\n\n    this.imageObj.onunload = function () {\n        fig.ws.close();\n    };\n\n    this.ws.onmessage = this._make_on_message_function(this);\n\n    this.ondownload = ondownload;\n};\n\nmpl.figure.prototype._init_header = function () {\n    var titlebar = document.createElement('div');\n    titlebar.classList =\n        'ui-dialog-titlebar ui-widget-header ui-corner-all ui-helper-clearfix';\n    var titletext = document.createElement('div');\n    titletext.classList = 'ui-dialog-title';\n    titletext.setAttribute(\n        'style',\n        'width: 100%; text-align: center; padding: 3px;'\n    );\n    titlebar.appendChild(titletext);\n    this.root.appendChild(titlebar);\n    this.header = titletext;\n};\n\nmpl.figure.prototype._canvas_extra_style = function (_canvas_div) {};\n\nmpl.figure.prototype._root_extra_style = function (_canvas_div) {};\n\nmpl.figure.prototype._init_canvas = function () {\n    var fig = this;\n\n    var canvas_div = (this.canvas_div = document.createElement('div'));\n    canvas_div.setAttribute(\n        'style',\n        'border: 1px solid #ddd;' +\n            'box-sizing: content-box;' +\n            'clear: both;' +\n            'min-height: 1px;' +\n            'min-width: 1px;' +\n            'outline: 0;' +\n            'overflow: hidden;' +\n            'position: relative;' +\n            'resize: both;'\n    );\n\n    function on_keyboard_event_closure(name) {\n        return function (event) {\n            return fig.key_event(event, name);\n        };\n    }\n\n    canvas_div.addEventListener(\n        'keydown',\n        on_keyboard_event_closure('key_press')\n    );\n    canvas_div.addEventListener(\n        'keyup',\n        on_keyboard_event_closure('key_release')\n    );\n\n    this._canvas_extra_style(canvas_div);\n    this.root.appendChild(canvas_div);\n\n    var canvas = (this.canvas = document.createElement('canvas'));\n    canvas.classList.add('mpl-canvas');\n    canvas.setAttribute('style', 'box-sizing: content-box;');\n\n    this.context = canvas.getContext('2d');\n\n    var backingStore =\n        this.context.backingStorePixelRatio ||\n        this.context.webkitBackingStorePixelRatio ||\n        this.context.mozBackingStorePixelRatio ||\n        this.context.msBackingStorePixelRatio ||\n        this.context.oBackingStorePixelRatio ||\n        this.context.backingStorePixelRatio ||\n        1;\n\n    this.ratio = (window.devicePixelRatio || 1) / backingStore;\n\n    var rubberband_canvas = (this.rubberband_canvas = document.createElement(\n        'canvas'\n    ));\n    rubberband_canvas.setAttribute(\n        'style',\n        'box-sizing: content-box; position: absolute; left: 0; top: 0; z-index: 1;'\n    );\n\n    // Apply a ponyfill if ResizeObserver is not implemented by browser.\n    if (this.ResizeObserver === undefined) {\n        if (window.ResizeObserver !== undefined) {\n            this.ResizeObserver = window.ResizeObserver;\n        } else {\n            var obs = _JSXTOOLS_RESIZE_OBSERVER({});\n            this.ResizeObserver = obs.ResizeObserver;\n        }\n    }\n\n    this.resizeObserverInstance = new this.ResizeObserver(function (entries) {\n        var nentries = entries.length;\n        for (var i = 0; i < nentries; i++) {\n            var entry = entries[i];\n            var width, height;\n            if (entry.contentBoxSize) {\n                if (entry.contentBoxSize instanceof Array) {\n                    // Chrome 84 implements new version of spec.\n                    width = entry.contentBoxSize[0].inlineSize;\n                    height = entry.contentBoxSize[0].blockSize;\n                } else {\n                    // Firefox implements old version of spec.\n                    width = entry.contentBoxSize.inlineSize;\n                    height = entry.contentBoxSize.blockSize;\n                }\n            } else {\n                // Chrome <84 implements even older version of spec.\n                width = entry.contentRect.width;\n                height = entry.contentRect.height;\n            }\n\n            // Keep the size of the canvas and rubber band canvas in sync with\n            // the canvas container.\n            if (entry.devicePixelContentBoxSize) {\n                // Chrome 84 implements new version of spec.\n                canvas.setAttribute(\n                    'width',\n                    entry.devicePixelContentBoxSize[0].inlineSize\n                );\n                canvas.setAttribute(\n                    'height',\n                    entry.devicePixelContentBoxSize[0].blockSize\n                );\n            } else {\n                canvas.setAttribute('width', width * fig.ratio);\n                canvas.setAttribute('height', height * fig.ratio);\n            }\n            canvas.setAttribute(\n                'style',\n                'width: ' + width + 'px; height: ' + height + 'px;'\n            );\n\n            rubberband_canvas.setAttribute('width', width);\n            rubberband_canvas.setAttribute('height', height);\n\n            // And update the size in Python. We ignore the initial 0/0 size\n            // that occurs as the element is placed into the DOM, which should\n            // otherwise not happen due to the minimum size styling.\n            if (fig.ws.readyState == 1 && width != 0 && height != 0) {\n                fig.request_resize(width, height);\n            }\n        }\n    });\n    this.resizeObserverInstance.observe(canvas_div);\n\n    function on_mouse_event_closure(name) {\n        return function (event) {\n            return fig.mouse_event(event, name);\n        };\n    }\n\n    rubberband_canvas.addEventListener(\n        'mousedown',\n        on_mouse_event_closure('button_press')\n    );\n    rubberband_canvas.addEventListener(\n        'mouseup',\n        on_mouse_event_closure('button_release')\n    );\n    rubberband_canvas.addEventListener(\n        'dblclick',\n        on_mouse_event_closure('dblclick')\n    );\n    // Throttle sequential mouse events to 1 every 20ms.\n    rubberband_canvas.addEventListener(\n        'mousemove',\n        on_mouse_event_closure('motion_notify')\n    );\n\n    rubberband_canvas.addEventListener(\n        'mouseenter',\n        on_mouse_event_closure('figure_enter')\n    );\n    rubberband_canvas.addEventListener(\n        'mouseleave',\n        on_mouse_event_closure('figure_leave')\n    );\n\n    canvas_div.addEventListener('wheel', function (event) {\n        if (event.deltaY < 0) {\n            event.step = 1;\n        } else {\n            event.step = -1;\n        }\n        on_mouse_event_closure('scroll')(event);\n    });\n\n    canvas_div.appendChild(canvas);\n    canvas_div.appendChild(rubberband_canvas);\n\n    this.rubberband_context = rubberband_canvas.getContext('2d');\n    this.rubberband_context.strokeStyle = '#000000';\n\n    this._resize_canvas = function (width, height, forward) {\n        if (forward) {\n            canvas_div.style.width = width + 'px';\n            canvas_div.style.height = height + 'px';\n        }\n    };\n\n    // Disable right mouse context menu.\n    this.rubberband_canvas.addEventListener('contextmenu', function (_e) {\n        event.preventDefault();\n        return false;\n    });\n\n    function set_focus() {\n        canvas.focus();\n        canvas_div.focus();\n    }\n\n    window.setTimeout(set_focus, 100);\n};\n\nmpl.figure.prototype._init_toolbar = function () {\n    var fig = this;\n\n    var toolbar = document.createElement('div');\n    toolbar.classList = 'mpl-toolbar';\n    this.root.appendChild(toolbar);\n\n    function on_click_closure(name) {\n        return function (_event) {\n            return fig.toolbar_button_onclick(name);\n        };\n    }\n\n    function on_mouseover_closure(tooltip) {\n        return function (event) {\n            if (!event.currentTarget.disabled) {\n                return fig.toolbar_button_onmouseover(tooltip);\n            }\n        };\n    }\n\n    fig.buttons = {};\n    var buttonGroup = document.createElement('div');\n    buttonGroup.classList = 'mpl-button-group';\n    for (var toolbar_ind in mpl.toolbar_items) {\n        var name = mpl.toolbar_items[toolbar_ind][0];\n        var tooltip = mpl.toolbar_items[toolbar_ind][1];\n        var image = mpl.toolbar_items[toolbar_ind][2];\n        var method_name = mpl.toolbar_items[toolbar_ind][3];\n\n        if (!name) {\n            /* Instead of a spacer, we start a new button group. */\n            if (buttonGroup.hasChildNodes()) {\n                toolbar.appendChild(buttonGroup);\n            }\n            buttonGroup = document.createElement('div');\n            buttonGroup.classList = 'mpl-button-group';\n            continue;\n        }\n\n        var button = (fig.buttons[name] = document.createElement('button'));\n        button.classList = 'mpl-widget';\n        button.setAttribute('role', 'button');\n        button.setAttribute('aria-disabled', 'false');\n        button.addEventListener('click', on_click_closure(method_name));\n        button.addEventListener('mouseover', on_mouseover_closure(tooltip));\n\n        var icon_img = document.createElement('img');\n        icon_img.src = '_images/' + image + '.png';\n        icon_img.srcset = '_images/' + image + '_large.png 2x';\n        icon_img.alt = tooltip;\n        button.appendChild(icon_img);\n\n        buttonGroup.appendChild(button);\n    }\n\n    if (buttonGroup.hasChildNodes()) {\n        toolbar.appendChild(buttonGroup);\n    }\n\n    var fmt_picker = document.createElement('select');\n    fmt_picker.classList = 'mpl-widget';\n    toolbar.appendChild(fmt_picker);\n    this.format_dropdown = fmt_picker;\n\n    for (var ind in mpl.extensions) {\n        var fmt = mpl.extensions[ind];\n        var option = document.createElement('option');\n        option.selected = fmt === mpl.default_extension;\n        option.innerHTML = fmt;\n        fmt_picker.appendChild(option);\n    }\n\n    var status_bar = document.createElement('span');\n    status_bar.classList = 'mpl-message';\n    toolbar.appendChild(status_bar);\n    this.message = status_bar;\n};\n\nmpl.figure.prototype.request_resize = function (x_pixels, y_pixels) {\n    // Request matplotlib to resize the figure. Matplotlib will then trigger a resize in the client,\n    // which will in turn request a refresh of the image.\n    this.send_message('resize', { width: x_pixels, height: y_pixels });\n};\n\nmpl.figure.prototype.send_message = function (type, properties) {\n    properties['type'] = type;\n    properties['figure_id'] = this.id;\n    this.ws.send(JSON.stringify(properties));\n};\n\nmpl.figure.prototype.send_draw_message = function () {\n    if (!this.waiting) {\n        this.waiting = true;\n        this.ws.send(JSON.stringify({ type: 'draw', figure_id: this.id }));\n    }\n};\n\nmpl.figure.prototype.handle_save = function (fig, _msg) {\n    var format_dropdown = fig.format_dropdown;\n    var format = format_dropdown.options[format_dropdown.selectedIndex].value;\n    fig.ondownload(fig, format);\n};\n\nmpl.figure.prototype.handle_resize = function (fig, msg) {\n    var size = msg['size'];\n    if (size[0] !== fig.canvas.width || size[1] !== fig.canvas.height) {\n        fig._resize_canvas(size[0], size[1], msg['forward']);\n        fig.send_message('refresh', {});\n    }\n};\n\nmpl.figure.prototype.handle_rubberband = function (fig, msg) {\n    var x0 = msg['x0'] / fig.ratio;\n    var y0 = (fig.canvas.height - msg['y0']) / fig.ratio;\n    var x1 = msg['x1'] / fig.ratio;\n    var y1 = (fig.canvas.height - msg['y1']) / fig.ratio;\n    x0 = Math.floor(x0) + 0.5;\n    y0 = Math.floor(y0) + 0.5;\n    x1 = Math.floor(x1) + 0.5;\n    y1 = Math.floor(y1) + 0.5;\n    var min_x = Math.min(x0, x1);\n    var min_y = Math.min(y0, y1);\n    var width = Math.abs(x1 - x0);\n    var height = Math.abs(y1 - y0);\n\n    fig.rubberband_context.clearRect(\n        0,\n        0,\n        fig.canvas.width / fig.ratio,\n        fig.canvas.height / fig.ratio\n    );\n\n    fig.rubberband_context.strokeRect(min_x, min_y, width, height);\n};\n\nmpl.figure.prototype.handle_figure_label = function (fig, msg) {\n    // Updates the figure title.\n    fig.header.textContent = msg['label'];\n};\n\nmpl.figure.prototype.handle_cursor = function (fig, msg) {\n    var cursor = msg['cursor'];\n    switch (cursor) {\n        case 0:\n            cursor = 'pointer';\n            break;\n        case 1:\n            cursor = 'default';\n            break;\n        case 2:\n            cursor = 'crosshair';\n            break;\n        case 3:\n            cursor = 'move';\n            break;\n    }\n    fig.rubberband_canvas.style.cursor = cursor;\n};\n\nmpl.figure.prototype.handle_message = function (fig, msg) {\n    fig.message.textContent = msg['message'];\n};\n\nmpl.figure.prototype.handle_draw = function (fig, _msg) {\n    // Request the server to send over a new figure.\n    fig.send_draw_message();\n};\n\nmpl.figure.prototype.handle_image_mode = function (fig, msg) {\n    fig.image_mode = msg['mode'];\n};\n\nmpl.figure.prototype.handle_history_buttons = function (fig, msg) {\n    for (var key in msg) {\n        if (!(key in fig.buttons)) {\n            continue;\n        }\n        fig.buttons[key].disabled = !msg[key];\n        fig.buttons[key].setAttribute('aria-disabled', !msg[key]);\n    }\n};\n\nmpl.figure.prototype.handle_navigate_mode = function (fig, msg) {\n    if (msg['mode'] === 'PAN') {\n        fig.buttons['Pan'].classList.add('active');\n        fig.buttons['Zoom'].classList.remove('active');\n    } else if (msg['mode'] === 'ZOOM') {\n        fig.buttons['Pan'].classList.remove('active');\n        fig.buttons['Zoom'].classList.add('active');\n    } else {\n        fig.buttons['Pan'].classList.remove('active');\n        fig.buttons['Zoom'].classList.remove('active');\n    }\n};\n\nmpl.figure.prototype.updated_canvas_event = function () {\n    // Called whenever the canvas gets updated.\n    this.send_message('ack', {});\n};\n\n// A function to construct a web socket function for onmessage handling.\n// Called in the figure constructor.\nmpl.figure.prototype._make_on_message_function = function (fig) {\n    return function socket_on_message(evt) {\n        if (evt.data instanceof Blob) {\n            var img = evt.data;\n            if (img.type !== 'image/png') {\n                /* FIXME: We get \"Resource interpreted as Image but\n                 * transferred with MIME type text/plain:\" errors on\n                 * Chrome.  But how to set the MIME type?  It doesn't seem\n                 * to be part of the websocket stream */\n                img.type = 'image/png';\n            }\n\n            /* Free the memory for the previous frames */\n            if (fig.imageObj.src) {\n                (window.URL || window.webkitURL).revokeObjectURL(\n                    fig.imageObj.src\n                );\n            }\n\n            fig.imageObj.src = (window.URL || window.webkitURL).createObjectURL(\n                img\n            );\n            fig.updated_canvas_event();\n            fig.waiting = false;\n            return;\n        } else if (\n            typeof evt.data === 'string' &&\n            evt.data.slice(0, 21) === 'data:image/png;base64'\n        ) {\n            fig.imageObj.src = evt.data;\n            fig.updated_canvas_event();\n            fig.waiting = false;\n            return;\n        }\n\n        var msg = JSON.parse(evt.data);\n        var msg_type = msg['type'];\n\n        // Call the  \"handle_{type}\" callback, which takes\n        // the figure and JSON message as its only arguments.\n        try {\n            var callback = fig['handle_' + msg_type];\n        } catch (e) {\n            console.log(\n                \"No handler for the '\" + msg_type + \"' message type: \",\n                msg\n            );\n            return;\n        }\n\n        if (callback) {\n            try {\n                // console.log(\"Handling '\" + msg_type + \"' message: \", msg);\n                callback(fig, msg);\n            } catch (e) {\n                console.log(\n                    \"Exception inside the 'handler_\" + msg_type + \"' callback:\",\n                    e,\n                    e.stack,\n                    msg\n                );\n            }\n        }\n    };\n};\n\n// from http://stackoverflow.com/questions/1114465/getting-mouse-location-in-canvas\nmpl.findpos = function (e) {\n    //this section is from http://www.quirksmode.org/js/events_properties.html\n    var targ;\n    if (!e) {\n        e = window.event;\n    }\n    if (e.target) {\n        targ = e.target;\n    } else if (e.srcElement) {\n        targ = e.srcElement;\n    }\n    if (targ.nodeType === 3) {\n        // defeat Safari bug\n        targ = targ.parentNode;\n    }\n\n    // pageX,Y are the mouse positions relative to the document\n    var boundingRect = targ.getBoundingClientRect();\n    var x = e.pageX - (boundingRect.left + document.body.scrollLeft);\n    var y = e.pageY - (boundingRect.top + document.body.scrollTop);\n\n    return { x: x, y: y };\n};\n\n/*\n * return a copy of an object with only non-object keys\n * we need this to avoid circular references\n * http://stackoverflow.com/a/24161582/3208463\n */\nfunction simpleKeys(original) {\n    return Object.keys(original).reduce(function (obj, key) {\n        if (typeof original[key] !== 'object') {\n            obj[key] = original[key];\n        }\n        return obj;\n    }, {});\n}\n\nmpl.figure.prototype.mouse_event = function (event, name) {\n    var canvas_pos = mpl.findpos(event);\n\n    if (name === 'button_press') {\n        this.canvas.focus();\n        this.canvas_div.focus();\n    }\n\n    var x = canvas_pos.x * this.ratio;\n    var y = canvas_pos.y * this.ratio;\n\n    this.send_message(name, {\n        x: x,\n        y: y,\n        button: event.button,\n        step: event.step,\n        guiEvent: simpleKeys(event),\n    });\n\n    /* This prevents the web browser from automatically changing to\n     * the text insertion cursor when the button is pressed.  We want\n     * to control all of the cursor setting manually through the\n     * 'cursor' event from matplotlib */\n    event.preventDefault();\n    return false;\n};\n\nmpl.figure.prototype._key_event_extra = function (_event, _name) {\n    // Handle any extra behaviour associated with a key event\n};\n\nmpl.figure.prototype.key_event = function (event, name) {\n    // Prevent repeat events\n    if (name === 'key_press') {\n        if (event.key === this._key) {\n            return;\n        } else {\n            this._key = event.key;\n        }\n    }\n    if (name === 'key_release') {\n        this._key = null;\n    }\n\n    var value = '';\n    if (event.ctrlKey && event.key !== 'Control') {\n        value += 'ctrl+';\n    }\n    else if (event.altKey && event.key !== 'Alt') {\n        value += 'alt+';\n    }\n    else if (event.shiftKey && event.key !== 'Shift') {\n        value += 'shift+';\n    }\n\n    value += 'k' + event.key;\n\n    this._key_event_extra(event, name);\n\n    this.send_message(name, { key: value, guiEvent: simpleKeys(event) });\n    return false;\n};\n\nmpl.figure.prototype.toolbar_button_onclick = function (name) {\n    if (name === 'download') {\n        this.handle_save(this, null);\n    } else {\n        this.send_message('toolbar_button', { name: name });\n    }\n};\n\nmpl.figure.prototype.toolbar_button_onmouseover = function (tooltip) {\n    this.message.textContent = tooltip;\n};\n\n///////////////// REMAINING CONTENT GENERATED BY embed_js.py /////////////////\n// prettier-ignore\nvar _JSXTOOLS_RESIZE_OBSERVER=function(A){var t,i=new WeakMap,n=new WeakMap,a=new WeakMap,r=new WeakMap,o=new Set;function s(e){if(!(this instanceof s))throw new TypeError(\"Constructor requires 'new' operator\");i.set(this,e)}function h(){throw new TypeError(\"Function is not a constructor\")}function c(e,t,i,n){e=0 in arguments?Number(arguments[0]):0,t=1 in arguments?Number(arguments[1]):0,i=2 in arguments?Number(arguments[2]):0,n=3 in arguments?Number(arguments[3]):0,this.right=(this.x=this.left=e)+(this.width=i),this.bottom=(this.y=this.top=t)+(this.height=n),Object.freeze(this)}function d(){t=requestAnimationFrame(d);var s=new WeakMap,p=new Set;o.forEach((function(t){r.get(t).forEach((function(i){var r=t instanceof window.SVGElement,o=a.get(t),d=r?0:parseFloat(o.paddingTop),f=r?0:parseFloat(o.paddingRight),l=r?0:parseFloat(o.paddingBottom),u=r?0:parseFloat(o.paddingLeft),g=r?0:parseFloat(o.borderTopWidth),m=r?0:parseFloat(o.borderRightWidth),w=r?0:parseFloat(o.borderBottomWidth),b=u+f,F=d+l,v=(r?0:parseFloat(o.borderLeftWidth))+m,W=g+w,y=r?0:t.offsetHeight-W-t.clientHeight,E=r?0:t.offsetWidth-v-t.clientWidth,R=b+v,z=F+W,M=r?t.width:parseFloat(o.width)-R-E,O=r?t.height:parseFloat(o.height)-z-y;if(n.has(t)){var k=n.get(t);if(k[0]===M&&k[1]===O)return}n.set(t,[M,O]);var S=Object.create(h.prototype);S.target=t,S.contentRect=new c(u,d,M,O),s.has(i)||(s.set(i,[]),p.add(i)),s.get(i).push(S)}))})),p.forEach((function(e){i.get(e).call(e,s.get(e),e)}))}return s.prototype.observe=function(i){if(i instanceof window.Element){r.has(i)||(r.set(i,new Set),o.add(i),a.set(i,window.getComputedStyle(i)));var n=r.get(i);n.has(this)||n.add(this),cancelAnimationFrame(t),t=requestAnimationFrame(d)}},s.prototype.unobserve=function(i){if(i instanceof window.Element&&r.has(i)){var n=r.get(i);n.has(this)&&(n.delete(this),n.size||(r.delete(i),o.delete(i))),n.size||r.delete(i),o.size||cancelAnimationFrame(t)}},A.DOMRectReadOnly=c,A.ResizeObserver=s,A.ResizeObserverEntry=h,A}; // eslint-disable-line\nmpl.toolbar_items = [[\"Home\", \"Reset original view\", \"fa fa-home icon-home\", \"home\"], [\"Back\", \"Back to previous view\", \"fa fa-arrow-left icon-arrow-left\", \"back\"], [\"Forward\", \"Forward to next view\", \"fa fa-arrow-right icon-arrow-right\", \"forward\"], [\"\", \"\", \"\", \"\"], [\"Pan\", \"Left button pans, Right button zooms\\nx/y fixes axis, CTRL fixes aspect\", \"fa fa-arrows icon-move\", \"pan\"], [\"Zoom\", \"Zoom to rectangle\\nx/y fixes axis, CTRL fixes aspect\", \"fa fa-square-o icon-check-empty\", \"zoom\"], [\"\", \"\", \"\", \"\"], [\"Download\", \"Download plot\", \"fa fa-floppy-o icon-save\", \"download\"]];\n\nmpl.extensions = [\"eps\", \"jpeg\", \"pgf\", \"pdf\", \"png\", \"ps\", \"raw\", \"svg\", \"tif\"];\n\nmpl.default_extension = \"png\";/* global mpl */\n\nvar comm_websocket_adapter = function (comm) {\n    // Create a \"websocket\"-like object which calls the given IPython comm\n    // object with the appropriate methods. Currently this is a non binary\n    // socket, so there is still some room for performance tuning.\n    var ws = {};\n\n    ws.binaryType = comm.kernel.ws.binaryType;\n    ws.readyState = comm.kernel.ws.readyState;\n    function updateReadyState(_event) {\n        if (comm.kernel.ws) {\n            ws.readyState = comm.kernel.ws.readyState;\n        } else {\n            ws.readyState = 3; // Closed state.\n        }\n    }\n    comm.kernel.ws.addEventListener('open', updateReadyState);\n    comm.kernel.ws.addEventListener('close', updateReadyState);\n    comm.kernel.ws.addEventListener('error', updateReadyState);\n\n    ws.close = function () {\n        comm.close();\n    };\n    ws.send = function (m) {\n        //console.log('sending', m);\n        comm.send(m);\n    };\n    // Register the callback with on_msg.\n    comm.on_msg(function (msg) {\n        //console.log('receiving', msg['content']['data'], msg);\n        var data = msg['content']['data'];\n        if (data['blob'] !== undefined) {\n            data = {\n                data: new Blob(msg['buffers'], { type: data['blob'] }),\n            };\n        }\n        // Pass the mpl event to the overridden (by mpl) onmessage function.\n        ws.onmessage(data);\n    });\n    return ws;\n};\n\nmpl.mpl_figure_comm = function (comm, msg) {\n    // This is the function which gets called when the mpl process\n    // starts-up an IPython Comm through the \"matplotlib\" channel.\n\n    var id = msg.content.data.id;\n    // Get hold of the div created by the display call when the Comm\n    // socket was opened in Python.\n    var element = document.getElementById(id);\n    var ws_proxy = comm_websocket_adapter(comm);\n\n    function ondownload(figure, _format) {\n        window.open(figure.canvas.toDataURL());\n    }\n\n    var fig = new mpl.figure(id, ws_proxy, ondownload, element);\n\n    // Call onopen now - mpl needs it, as it is assuming we've passed it a real\n    // web socket which is closed, not our websocket->open comm proxy.\n    ws_proxy.onopen();\n\n    fig.parent_element = element;\n    fig.cell_info = mpl.find_output_cell(\"<div id='\" + id + \"'></div>\");\n    if (!fig.cell_info) {\n        console.error('Failed to find cell for figure', id, fig);\n        return;\n    }\n    fig.cell_info[0].output_area.element.on(\n        'cleared',\n        { fig: fig },\n        fig._remove_fig_handler\n    );\n};\n\nmpl.figure.prototype.handle_close = function (fig, msg) {\n    var width = fig.canvas.width / fig.ratio;\n    fig.cell_info[0].output_area.element.off(\n        'cleared',\n        fig._remove_fig_handler\n    );\n    fig.resizeObserverInstance.unobserve(fig.canvas_div);\n\n    // Update the output cell to use the data from the current canvas.\n    fig.push_to_output();\n    var dataURL = fig.canvas.toDataURL();\n    // Re-enable the keyboard manager in IPython - without this line, in FF,\n    // the notebook keyboard shortcuts fail.\n    IPython.keyboard_manager.enable();\n    fig.parent_element.innerHTML =\n        '<img src=\"' + dataURL + '\" width=\"' + width + '\">';\n    fig.close_ws(fig, msg);\n};\n\nmpl.figure.prototype.close_ws = function (fig, msg) {\n    fig.send_message('closing', msg);\n    // fig.ws.close()\n};\n\nmpl.figure.prototype.push_to_output = function (_remove_interactive) {\n    // Turn the data on the canvas into data in the output cell.\n    var width = this.canvas.width / this.ratio;\n    var dataURL = this.canvas.toDataURL();\n    this.cell_info[1]['text/html'] =\n        '<img src=\"' + dataURL + '\" width=\"' + width + '\">';\n};\n\nmpl.figure.prototype.updated_canvas_event = function () {\n    // Tell IPython that the notebook contents must change.\n    IPython.notebook.set_dirty(true);\n    this.send_message('ack', {});\n    var fig = this;\n    // Wait a second, then push the new image to the DOM so\n    // that it is saved nicely (might be nice to debounce this).\n    setTimeout(function () {\n        fig.push_to_output();\n    }, 1000);\n};\n\nmpl.figure.prototype._init_toolbar = function () {\n    var fig = this;\n\n    var toolbar = document.createElement('div');\n    toolbar.classList = 'btn-toolbar';\n    this.root.appendChild(toolbar);\n\n    function on_click_closure(name) {\n        return function (_event) {\n            return fig.toolbar_button_onclick(name);\n        };\n    }\n\n    function on_mouseover_closure(tooltip) {\n        return function (event) {\n            if (!event.currentTarget.disabled) {\n                return fig.toolbar_button_onmouseover(tooltip);\n            }\n        };\n    }\n\n    fig.buttons = {};\n    var buttonGroup = document.createElement('div');\n    buttonGroup.classList = 'btn-group';\n    var button;\n    for (var toolbar_ind in mpl.toolbar_items) {\n        var name = mpl.toolbar_items[toolbar_ind][0];\n        var tooltip = mpl.toolbar_items[toolbar_ind][1];\n        var image = mpl.toolbar_items[toolbar_ind][2];\n        var method_name = mpl.toolbar_items[toolbar_ind][3];\n\n        if (!name) {\n            /* Instead of a spacer, we start a new button group. */\n            if (buttonGroup.hasChildNodes()) {\n                toolbar.appendChild(buttonGroup);\n            }\n            buttonGroup = document.createElement('div');\n            buttonGroup.classList = 'btn-group';\n            continue;\n        }\n\n        button = fig.buttons[name] = document.createElement('button');\n        button.classList = 'btn btn-default';\n        button.href = '#';\n        button.title = name;\n        button.innerHTML = '<i class=\"fa ' + image + ' fa-lg\"></i>';\n        button.addEventListener('click', on_click_closure(method_name));\n        button.addEventListener('mouseover', on_mouseover_closure(tooltip));\n        buttonGroup.appendChild(button);\n    }\n\n    if (buttonGroup.hasChildNodes()) {\n        toolbar.appendChild(buttonGroup);\n    }\n\n    // Add the status bar.\n    var status_bar = document.createElement('span');\n    status_bar.classList = 'mpl-message pull-right';\n    toolbar.appendChild(status_bar);\n    this.message = status_bar;\n\n    // Add the close button to the window.\n    var buttongrp = document.createElement('div');\n    buttongrp.classList = 'btn-group inline pull-right';\n    button = document.createElement('button');\n    button.classList = 'btn btn-mini btn-primary';\n    button.href = '#';\n    button.title = 'Stop Interaction';\n    button.innerHTML = '<i class=\"fa fa-power-off icon-remove icon-large\"></i>';\n    button.addEventListener('click', function (_evt) {\n        fig.handle_close(fig, {});\n    });\n    button.addEventListener(\n        'mouseover',\n        on_mouseover_closure('Stop Interaction')\n    );\n    buttongrp.appendChild(button);\n    var titlebar = this.root.querySelector('.ui-dialog-titlebar');\n    titlebar.insertBefore(buttongrp, titlebar.firstChild);\n};\n\nmpl.figure.prototype._remove_fig_handler = function (event) {\n    var fig = event.data.fig;\n    if (event.target !== this) {\n        // Ignore bubbled events from children.\n        return;\n    }\n    fig.close_ws(fig, {});\n};\n\nmpl.figure.prototype._root_extra_style = function (el) {\n    el.style.boxSizing = 'content-box'; // override notebook setting of border-box.\n};\n\nmpl.figure.prototype._canvas_extra_style = function (el) {\n    // this is important to make the div 'focusable\n    el.setAttribute('tabindex', 0);\n    // reach out to IPython and tell the keyboard manager to turn it's self\n    // off when our div gets focus\n\n    // location in version 3\n    if (IPython.notebook.keyboard_manager) {\n        IPython.notebook.keyboard_manager.register_events(el);\n    } else {\n        // location in version 2\n        IPython.keyboard_manager.register_events(el);\n    }\n};\n\nmpl.figure.prototype._key_event_extra = function (event, _name) {\n    var manager = IPython.notebook.keyboard_manager;\n    if (!manager) {\n        manager = IPython.keyboard_manager;\n    }\n\n    // Check for shift+enter\n    if (event.shiftKey && event.which === 13) {\n        this.canvas_div.blur();\n        // select the cell after this one\n        var index = IPython.notebook.find_cell_index(this.cell_info[0]);\n        IPython.notebook.select(index + 1);\n    }\n};\n\nmpl.figure.prototype.handle_save = function (fig, _msg) {\n    fig.ondownload(fig, null);\n};\n\nmpl.find_output_cell = function (html_output) {\n    // Return the cell and output element which can be found *uniquely* in the notebook.\n    // Note - this is a bit hacky, but it is done because the \"notebook_saving.Notebook\"\n    // IPython event is triggered only after the cells have been serialised, which for\n    // our purposes (turning an active figure into a static one), is too late.\n    var cells = IPython.notebook.get_cells();\n    var ncells = cells.length;\n    for (var i = 0; i < ncells; i++) {\n        var cell = cells[i];\n        if (cell.cell_type === 'code') {\n            for (var j = 0; j < cell.output_area.outputs.length; j++) {\n                var data = cell.output_area.outputs[j];\n                if (data.data) {\n                    // IPython >= 3 moved mimebundle to data attribute of output\n                    data = data.data;\n                }\n                if (data['text/html'] === html_output) {\n                    return [cell, data, j];\n                }\n            }\n        }\n    }\n};\n\n// Register the function which deals with the matplotlib target/channel.\n// The kernel may be null if the page has been refreshed.\nif (IPython.notebook.kernel !== null) {\n    IPython.notebook.kernel.comm_manager.register_target(\n        'matplotlib',\n        mpl.mpl_figure_comm\n    );\n}\n"
     },
     "metadata": {},
     "output_type": "display_data"
    },
    {
     "data": {
      "text/plain": "<IPython.core.display.HTML object>",
      "text/html": "<div id='2932f590-5a5a-4a30-8a4a-2e594be2b40d'></div>"
     },
     "metadata": {},
     "output_type": "display_data"
    },
    {
     "name": "stdout",
     "output_type": "stream",
     "text": [
      "I_intr >= 0.462 +- 0.009 bits\n",
      "I_epistasis: 0.180 +- 0.011 bits\n",
      "I_mavenn: 0.257 +- 0.013 bits\n",
      "z: 4.47\n",
      "p-value: 3.8354e-06\n",
      "Figure saved figure to png/fig5_ipynb_2022.03.10.07h.53m.11s.png.\n"
     ]
    }
   ],
   "source": [
    "# Create figure\n",
    "fig = plt.figure(figsize=[6.5, 7])\n",
    "gs = gridspec.GridSpec(3, 3, figure=fig)\n",
    "\n",
    "# Set lims and ticks\n",
    "ylim = [-2.5, 2.5]\n",
    "yticks = [-6,-4,-2,0,2,4]\n",
    "philim = [-3,5]\n",
    "phiticks = [-2,0,2,4]\n",
    "\n",
    "#\n",
    "# Panel A: Bar chart\n",
    "#\n",
    "ax = fig.add_subplot(gs[0,:])\n",
    "\n",
    "# Plot I_int region\n",
    "K = len(info_df)\n",
    "xlim = [-.5, 4.5]\n",
    "ylim = [0, 0.6]\n",
    "ax.fill_between(xlim, [I_intr, I_intr], [.6, .6], color='gray', alpha=.2, zorder=-100, linewidth=0,\n",
    "                label='$I_\\mathrm{int}$')\n",
    "\n",
    "# Plot bars\n",
    "sns.barplot(ax=ax, data=info_df, hue='metric', x='name', y='I')\n",
    "\n",
    "# Plot 95% confidence intervals\n",
    "x = np.array([[x-.2,x+.2] for x in range(5)]).ravel()\n",
    "yerr = info_df['dI'].values\n",
    "y = info_df['I'].values \n",
    "ax.errorbar(x=x[1:], y=y[1:], yerr=yerr[1:], color='k', capsize=3, linestyle='none', \n",
    "            elinewidth=1, capthick=1, solid_capstyle='round')\n",
    "ax.set_ylabel('information (bits)')\n",
    "ax.set_xlabel('')\n",
    "ax.set_xlim(xlim)\n",
    "ax.set_ylim(ylim)\n",
    "\n",
    "# Reorder legend\n",
    "handles, labels = ax.get_legend_handles_labels()\n",
    "handles = [handles[1], handles[2], handles[0]]\n",
    "labels = [labels[1], labels[2], labels[0]]\n",
    "ax.legend(handles, labels, loc='upper left')\n",
    "\n",
    "# Remind user of intrinsic information\n",
    "print(f'I_intr >= {I_intr:.3f} +- {dI_intr:.3f} bits')\n",
    "\n",
    "# Compute a p-value for additive epistasis vs. MAVE-NN I_pred\n",
    "I_epistasis = info_df.loc[1,'I']\n",
    "dI_epistasis = info_df.loc[1,'dI']\n",
    "print(f'I_epistasis: {I_epistasis:.3f} +- {dI_epistasis:.3f} bits')\n",
    "I_mavenn = info_df.loc[3,'I']\n",
    "dI_mavenn = info_df.loc[3,'dI']\n",
    "print(f'I_mavenn: {I_mavenn:.3f} +- {dI_mavenn:.3f} bits')\n",
    "z = (I_mavenn - I_epistasis)/np.sqrt(dI_epistasis**2 + dI_mavenn**2)\n",
    "print(f'z: {z:.2f}')\n",
    "dist = norm()\n",
    "p = norm.cdf(-z)\n",
    "print(f'p-value: {p:.4e}')\n",
    "\n",
    "# Plot significance line\n",
    "ax.plot([0.2, 1.2], [.3, .3], '-k')\n",
    "\n",
    "# Plot text \n",
    "ax.text(x=.7, y=.31, s=f'p = {p:.1e}', ha='center', va='bottom')\n",
    "\n",
    "\n",
    "#\n",
    "# Panel B: GE plot for Sailer & Harms model\n",
    "#\n",
    "\n",
    "ylim = [-1.5, 2.5]\n",
    "yticks = [-1, 0, 1, 2]\n",
    "\n",
    "# Show results from Sailer & Harms\n",
    "# Set ax\n",
    "ax = fig.add_subplot(gs[1,0])\n",
    "\n",
    "ax.scatter(phi_sh, \n",
    "           y_sh, \n",
    "           s=1,\n",
    "           alpha=.2,\n",
    "           color='C0')\n",
    "\n",
    "ax.plot(phi_grid_sh, \n",
    "        yhat_grid_sh, \n",
    "        color='C1', \n",
    "        alpha=1, \n",
    "        linestyle='-', \n",
    "        linewidth=2, \n",
    "        label='$\\hat{y}$')\n",
    "\n",
    "# Style plot\n",
    "ax.set_xlim(philim)\n",
    "ax.set_ylim(ylim)\n",
    "ax.set_yticks(yticks)\n",
    "ax.set_xlabel(f'$\\phi$, additive (epistasis package)', labelpad=-1)\n",
    "ax.set_ylabel('$\\log_{10}$ PSI ($y$)', labelpad=-2)\n",
    "\n",
    "# Show predictive information\n",
    "ax.set_title(f'$I_\\mathrm{{pre}}: {I_epistasis:.3f}\\pm{dI_epistasis:.3f}$ bits', fontsize=7)\n",
    "\n",
    "#\n",
    "# Panel C,D: GE plots for MAVE-NN models\n",
    "#\n",
    "\n",
    "# Choose phi grid for plotting curves\n",
    "for i, name in enumerate(['additive', 'pairwise']):\n",
    "    \n",
    "    # Set ax\n",
    "    ax = fig.add_subplot(gs[1,i+1])\n",
    "    mpsa_model = models[name]\n",
    "    phi = mpsa_model.x_to_phi(x_test)\n",
    "    \n",
    "    phi_grid = np.linspace(philim[0], philim[1], 1000)\n",
    "    yhat_grid = mpsa_model.phi_to_yhat(phi_grid)\n",
    "    yqs_grid = mpsa_model.yhat_to_yq(yhat_grid, q=[.025,.975])\n",
    "    I_pred = info_df[info_df['name']==name].reset_index(drop=True)['I'][1]\n",
    "    dI_pred = info_df[info_df['name']==name].reset_index(drop=True)['dI'][1]\n",
    "\n",
    "    # Draw scatter plot\n",
    "    ax.scatter(phi, \n",
    "               y_test, \n",
    "               s=1,\n",
    "               alpha=.2,\n",
    "               color='C0')\n",
    "\n",
    "    # Draw GE curve & confidence intervals\n",
    "    ax.plot(phi_grid, \n",
    "            yhat_grid, \n",
    "            color='C1', \n",
    "            alpha=1, \n",
    "            linestyle='-', \n",
    "            linewidth=2, \n",
    "            label='$\\hat{y}$')\n",
    "    ax.plot(phi_grid, \n",
    "            yqs_grid[:,0], \n",
    "            color='C1', \n",
    "            alpha=1, \n",
    "            linestyle=':', \n",
    "            linewidth=1, \n",
    "            label='95% CI')\n",
    "    ax.plot(phi_grid, \n",
    "            yqs_grid[:,1], \n",
    "            color='C1', \n",
    "            alpha=1, \n",
    "            linestyle=':', \n",
    "            linewidth=1)\n",
    "    \n",
    "    # Show predictive information\n",
    "    ax.set_title(f'$I_\\mathrm{{pre}}: {I_pred:.3f}\\pm{dI_pred:.3f}$ bits', fontsize=7)\n",
    "    \n",
    "    # Style plot\n",
    "    ax.set_xlim(philim)\n",
    "    ax.set_ylim(ylim)\n",
    "    ax.set_yticks(yticks)\n",
    "    ax.set_yticklabels([])\n",
    "    ax.set_xlabel(f'$\\phi$, {name}', labelpad=0)\n",
    "\n",
    "#\n",
    "# Panel E: Logo\n",
    "#   \n",
    "\n",
    "# Make axes\n",
    "ax = fig.add_subplot(gs[2,0])\n",
    "\n",
    "# Draw logo\n",
    "logo_df = models['pairwise'].get_theta()['logomaker_df'].fillna(0)\n",
    "logo = logomaker.Logo(df=logo_df, ax=ax, fade_below=.5, shade_below=.5, width=.9, \n",
    "                      font_name='Arial Rounded MT Bold')\n",
    "\n",
    "# Style logo\n",
    "ylim = ax.get_ylim()\n",
    "logo.highlight_position_range(pmin=3, pmax=4, color='w', alpha=1, zorder=10)\n",
    "logo.highlight_position_range(pmin=3, pmax=4, color='gray', alpha=.1, zorder=11)\n",
    "logo.style_single_glyph(p=3, c='G', floor=ylim[0], \n",
    "                        ceiling=ylim[1], color='gray', zorder=30, alpha=.5, flip=False)\n",
    "logo.style_single_glyph(p=4, c='U', color='k', zorder=30)\n",
    "logo.style_single_glyph(p=4, c='C', color='k', zorder=30)\n",
    "logo.style_spines(visible=False)\n",
    "\n",
    "# Sytle axes\n",
    "ax.axvline(2.5, linestyle=':', color='k', zorder=30)\n",
    "ax.set_ylabel('additive effect ($\\Delta \\phi$)', labelpad=-1)\n",
    "ax.set_xticks([0,1,2,3,4,5,6,7,8])\n",
    "ax.set_xticklabels([f'{x:+d}' for x in range(-3,7) if x!=0])\n",
    "ax.set_xlabel('nucleotide position', labelpad=5)\n",
    "\n",
    "#\n",
    "# Panel E: Pairwise heatmap\n",
    "#  \n",
    "\n",
    "# Make axes\n",
    "ax = fig.add_subplot(gs[2,-2:])\n",
    "\n",
    "# Draw heatmap\n",
    "theta = models['pairwise'].get_theta()['theta_lclc']\n",
    "ax, cb = mavenn.heatmap_pairwise(values=theta,\n",
    "                          alphabet='rna',\n",
    "                          ax=ax,\n",
    "                          gpmap_type='pairwise',\n",
    "                          cmap_size='3%')\n",
    "\n",
    "# Style axes\n",
    "ax.set_xticks([0,1,2,3,4,5,6,7,8])\n",
    "ax.set_xticklabels([f'{x:+d}' for x in range(-3,7) if x!=0])\n",
    "ax.set_xlabel('nucleotide position', labelpad=5)\n",
    "cb.set_label('pairwise effect ($\\Delta \\Delta \\phi$)', labelpad=5, ha='center', va='center', rotation=-90)\n",
    "cb.outline.set_visible(False)\n",
    "cb.ax.tick_params(direction='in', size=10, color='white')\n",
    "\n",
    "# Tighten figure\n",
    "fig.tight_layout(h_pad=2)\n",
    "\n",
    "# Save figure\n",
    "save_fig_with_date_stamp(fig, fig_name)"
   ]
  },
  {
   "cell_type": "code",
   "execution_count": 9,
   "metadata": {},
   "outputs": [],
   "source": []
  }
 ],
 "metadata": {
  "kernelspec": {
   "display_name": "Python 3",
   "language": "python",
   "name": "python3"
  },
  "language_info": {
   "codemirror_mode": {
    "name": "ipython",
    "version": 3
   },
   "file_extension": ".py",
   "mimetype": "text/x-python",
   "name": "python",
   "nbconvert_exporter": "python",
   "pygments_lexer": "ipython3",
   "version": "3.9.2"
  },
  "toc": {
   "base_numbering": 1,
   "nav_menu": {},
   "number_sections": true,
   "sideBar": true,
   "skip_h1_title": false,
   "title_cell": "Table of Contents",
   "title_sidebar": "Contents",
   "toc_cell": false,
   "toc_position": {},
   "toc_section_display": true,
   "toc_window_display": false
  },
  "varInspector": {
   "cols": {
    "lenName": 16,
    "lenType": 16,
    "lenVar": 40
   },
   "kernels_config": {
    "python": {
     "delete_cmd_postfix": "",
     "delete_cmd_prefix": "del ",
     "library": "var_list.py",
     "varRefreshCmd": "print(var_dic_list())"
    },
    "r": {
     "delete_cmd_postfix": ") ",
     "delete_cmd_prefix": "rm(",
     "library": "var_list.r",
     "varRefreshCmd": "cat(var_dic_list()) "
    }
   },
   "oldHeight": 961.7333639999999,
   "position": {
    "height": "983.722px",
    "left": "39.2528px",
    "right": "20px",
    "top": "125.994px",
    "width": "537.003px"
   },
   "types_to_exclude": [
    "module",
    "function",
    "builtin_function_or_method",
    "instance",
    "_Feature"
   ],
   "varInspector_section_display": "block",
   "window_display": false
  }
 },
 "nbformat": 4,
 "nbformat_minor": 2
}