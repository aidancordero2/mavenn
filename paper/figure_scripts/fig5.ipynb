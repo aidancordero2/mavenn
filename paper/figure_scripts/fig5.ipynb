{
 "cells": [
  {
   "cell_type": "code",
   "execution_count": 1,
   "metadata": {
    "ExecuteTime": {
     "end_time": "2021-12-30T22:45:17.549990Z",
     "start_time": "2021-12-30T22:45:15.342676Z"
    },
    "collapsed": true
   },
   "outputs": [],
   "source": [
    "# Standard imports\n",
    "import pandas as pd\n",
    "import matplotlib.pyplot as plt\n",
    "import matplotlib as mpl\n",
    "import numpy as np\n",
    "import seaborn as sns\n",
    "\n",
    "# Load MAVE-NN\n",
    "import mavenn\n",
    "\n",
    "# Other\n",
    "import logomaker\n",
    "from scipy.stats import norm\n",
    "from matplotlib.colors import TwoSlopeNorm, Normalize\n",
    "from mpl_toolkits.axes_grid1 import make_axes_locatable\n",
    "import matplotlib.gridspec as gridspec\n",
    "\n",
    "# Set seed\n",
    "np.random.seed(0)"
   ]
  },
  {
   "cell_type": "code",
   "execution_count": 2,
   "metadata": {
    "ExecuteTime": {
     "end_time": "2021-12-30T22:45:17.554068Z",
     "start_time": "2021-12-30T22:45:17.551292Z"
    },
    "collapsed": true
   },
   "outputs": [],
   "source": [
    "style_file_name = 'fig5.style'\n",
    "s = \"\"\"\n",
    "axes.linewidth:     0.5     # edge linewidth\n",
    "font.size:          7.0\n",
    "axes.labelsize:     7.0  # fontsize of the x any y labels\n",
    "axes.titlesize:     7.0\n",
    "xtick.labelsize:    7.0  # fontsize of the tick labels\n",
    "ytick.labelsize:    7.0  # fontsize of the tick labels\n",
    "legend.fontsize:      7.0\n",
    "legend.borderpad:     0.2  # border whitespace\n",
    "legend.labelspacing:  0.2  # the vertical space between the legend entries\n",
    "legend.borderaxespad: 0.2  # the border between the axes and legend edge\n",
    "legend.framealpha:    1.0 \n",
    "lines.dash_capstyle:   round        # {butt, round, projecting}\n",
    "lines.solid_capstyle:   round        # {butt, round, projecting}\n",
    "\"\"\"\n",
    "with open(style_file_name, 'w') as f:\n",
    "    f.write(s)\n",
    "    \n",
    "plt.style.use(style_file_name)"
   ]
  },
  {
   "cell_type": "code",
   "execution_count": 3,
   "metadata": {
    "ExecuteTime": {
     "end_time": "2021-12-30T22:45:18.247131Z",
     "start_time": "2021-12-30T22:45:17.554977Z"
    }
   },
   "outputs": [
    {
     "name": "stderr",
     "output_type": "stream",
     "text": [
      "2021-12-31 00:29:57.157494: I tensorflow/core/platform/cpu_feature_guard.cc:151] This TensorFlow binary is optimized with oneAPI Deep Neural Network Library (oneDNN) to use the following CPU instructions in performance-critical operations:  AVX2 FMA\n",
      "To enable them in other operations, rebuild TensorFlow with the appropriate compiler flags.\n"
     ]
    }
   ],
   "source": [
    "# Load trained models\n",
    "models = {}\n",
    "models['additive'] = mavenn.load('../models/mpsa_additive_ge_2021.12.30.21h.07m', verbose=False)\n",
    "models['neighbor']= mavenn.load('../models/mpsa_neighbor_ge_2021.12.30.21h.07m', verbose=False)\n",
    "models['pairwise'] = mavenn.load('../models/mpsa_pairwise_ge_2021.12.30.21h.07m', verbose=False)\n",
    "models['blackbox'] = mavenn.load('../models/mpsa_blackbox_ge_2021.12.30.21h.07m', verbose=False)"
   ]
  },
  {
   "cell_type": "code",
   "execution_count": 4,
   "metadata": {
    "ExecuteTime": {
     "end_time": "2021-12-30T22:45:18.279438Z",
     "start_time": "2021-12-30T22:45:18.248009Z"
    }
   },
   "outputs": [
    {
     "name": "stdout",
     "output_type": "stream",
     "text": [
      "Training set   :   18,215 observations (  59.75%)\n",
      "Validation set :    6,019 observations (  19.75%)\n",
      "Test set       :    6,249 observations (  20.50%)\n",
      "-------------------------------------------------\n",
      "Total dataset  :   30,483 observations ( 100.00%)\n",
      "\n"
     ]
    }
   ],
   "source": [
    "# Load MPSA data\n",
    "data_df = data_df = pd.read_csv('../datasets/mpsa_data.csv.gz', compression='gzip')\n",
    "\n",
    "# Split into training+validation and test sets\n",
    "trainval_df, test_df = mavenn.split_dataset(data_df)\n",
    "\n",
    "# Get test_df x and y values\n",
    "x_test = test_df['x'].values\n",
    "y_test = test_df['y'].values"
   ]
  },
  {
   "cell_type": "code",
   "execution_count": 5,
   "metadata": {
    "ExecuteTime": {
     "end_time": "2021-12-30T22:45:19.676061Z",
     "start_time": "2021-12-30T22:45:18.280372Z"
    }
   },
   "outputs": [
    {
     "name": "stdout",
     "output_type": "stream",
     "text": [
      "Num x in both mpsa_data.csv and mpsa_replicate_data.csv: 29,593\n",
      "I_intr >= 0.4619 +- 0.0172 bits\n"
     ]
    }
   ],
   "source": [
    "# Load replicate dataset\n",
    "rep_data_df = pd.read_csv('../datasets/mpsa_replicate_data.csv.gz', compression='gzip')\n",
    "      \n",
    "# merge datasets\n",
    "cols = ['x','y']\n",
    "intersection_df = pd.merge(left=data_df[cols], right=rep_data_df[cols], on='x', how='inner')\n",
    "intersection_df.columns = ['x','y1','y2']\n",
    "print(f'Num x in both mpsa_data.csv and mpsa_replicate_data.csv: {len(intersection_df):,}')\n",
    "\n",
    "# Compute mutual information\n",
    "I_intr, dI_intr = mavenn.src.entropy.mi_continuous(intersection_df['y1'], intersection_df['y2'])\n",
    "print(f'I_intr >= {I_intr:.4f} +- {1.96*dI_intr:.4f} bits')"
   ]
  },
  {
   "cell_type": "code",
   "execution_count": 6,
   "metadata": {
    "collapsed": true
   },
   "outputs": [],
   "source": [
    "# Load results of Sailer-Harms inference. See folder fig5_SH_data for inference script.\n",
    "\n",
    "SH_df = pd.read_excel('fig5_SH_data/Sailer_Harms_powerlaw_fit_MPSA_data.xlsx',sheet_name='test')\n",
    "SH_line = pd.read_excel('fig5_SH_data/Sailer_Harms_powerlaw_fit_MPSA_data.xlsx',sheet_name='line')\n",
    "phi_sh = SH_df['y_add_fixed_test']\n",
    "y_sh = SH_df['y_obs_test']\n",
    "phi_grid_sh = SH_line['y_add_line_fixed']\n",
    "yhat_grid_sh = SH_line['y_obs_line']"
   ]
  },
  {
   "cell_type": "code",
   "execution_count": 7,
   "metadata": {
    "collapsed": true
   },
   "outputs": [],
   "source": [
    "from mavenn.src.entropy import mi_continuous\n",
    "\n",
    "knn_fuzz = 0.01\n",
    "\n",
    "phi_sh_fuzz = phi_sh.copy()\n",
    "phi_sh_fuzz += knn_fuzz * phi_sh_fuzz.std(ddof=1) * np.random.randn(len(phi_sh_fuzz))\n",
    "\n",
    "I_pred_SH, dI_pred_SH = mi_continuous(phi_sh_fuzz,y_sh)"
   ]
  },
  {
   "cell_type": "code",
   "execution_count": 8,
   "metadata": {
    "ExecuteTime": {
     "end_time": "2021-12-30T22:45:21.008323Z",
     "start_time": "2021-12-30T22:45:19.676854Z"
    }
   },
   "outputs": [
    {
     "data": {
      "text/html": [
       "<div>\n",
       "<style scoped>\n",
       "    .dataframe tbody tr th:only-of-type {\n",
       "        vertical-align: middle;\n",
       "    }\n",
       "\n",
       "    .dataframe tbody tr th {\n",
       "        vertical-align: top;\n",
       "    }\n",
       "\n",
       "    .dataframe thead th {\n",
       "        text-align: right;\n",
       "    }\n",
       "</style>\n",
       "<table border=\"1\" class=\"dataframe\">\n",
       "  <thead>\n",
       "    <tr style=\"text-align: right;\">\n",
       "      <th></th>\n",
       "      <th>name</th>\n",
       "      <th>metric</th>\n",
       "      <th>I</th>\n",
       "      <th>dI</th>\n",
       "    </tr>\n",
       "  </thead>\n",
       "  <tbody>\n",
       "    <tr>\n",
       "      <th>0</th>\n",
       "      <td>additive\\n(epistasis package)</td>\n",
       "      <td>$I_{\\rm var}$</td>\n",
       "      <td>0.000000</td>\n",
       "      <td>0.000000</td>\n",
       "    </tr>\n",
       "    <tr>\n",
       "      <th>1</th>\n",
       "      <td>additive\\n(epistasis package)</td>\n",
       "      <td>$I_{\\rm pred}$</td>\n",
       "      <td>0.179863</td>\n",
       "      <td>0.011398</td>\n",
       "    </tr>\n",
       "    <tr>\n",
       "      <th>2</th>\n",
       "      <td>additive</td>\n",
       "      <td>$I_{\\rm var}$</td>\n",
       "      <td>0.189924</td>\n",
       "      <td>0.029464</td>\n",
       "    </tr>\n",
       "    <tr>\n",
       "      <th>3</th>\n",
       "      <td>additive</td>\n",
       "      <td>$I_{\\rm pred}$</td>\n",
       "      <td>0.256775</td>\n",
       "      <td>0.012866</td>\n",
       "    </tr>\n",
       "    <tr>\n",
       "      <th>4</th>\n",
       "      <td>neighbor</td>\n",
       "      <td>$I_{\\rm var}$</td>\n",
       "      <td>0.296221</td>\n",
       "      <td>0.027539</td>\n",
       "    </tr>\n",
       "    <tr>\n",
       "      <th>5</th>\n",
       "      <td>neighbor</td>\n",
       "      <td>$I_{\\rm pred}$</td>\n",
       "      <td>0.351855</td>\n",
       "      <td>0.016127</td>\n",
       "    </tr>\n",
       "    <tr>\n",
       "      <th>6</th>\n",
       "      <td>pairwise</td>\n",
       "      <td>$I_{\\rm var}$</td>\n",
       "      <td>0.328262</td>\n",
       "      <td>0.026102</td>\n",
       "    </tr>\n",
       "    <tr>\n",
       "      <th>7</th>\n",
       "      <td>pairwise</td>\n",
       "      <td>$I_{\\rm pred}$</td>\n",
       "      <td>0.374044</td>\n",
       "      <td>0.014041</td>\n",
       "    </tr>\n",
       "    <tr>\n",
       "      <th>8</th>\n",
       "      <td>black box</td>\n",
       "      <td>$I_{\\rm var}$</td>\n",
       "      <td>0.408747</td>\n",
       "      <td>0.026136</td>\n",
       "    </tr>\n",
       "    <tr>\n",
       "      <th>9</th>\n",
       "      <td>black box</td>\n",
       "      <td>$I_{\\rm pred}$</td>\n",
       "      <td>0.457529</td>\n",
       "      <td>0.015223</td>\n",
       "    </tr>\n",
       "  </tbody>\n",
       "</table>\n",
       "</div>"
      ],
      "text/plain": [
       "                            name          metric         I        dI\n",
       "0  additive\\n(epistasis package)   $I_{\\rm var}$  0.000000  0.000000\n",
       "1  additive\\n(epistasis package)  $I_{\\rm pred}$  0.179863  0.011398\n",
       "2                       additive   $I_{\\rm var}$  0.189924  0.029464\n",
       "3                       additive  $I_{\\rm pred}$  0.256775  0.012866\n",
       "4                       neighbor   $I_{\\rm var}$  0.296221  0.027539\n",
       "5                       neighbor  $I_{\\rm pred}$  0.351855  0.016127\n",
       "6                       pairwise   $I_{\\rm var}$  0.328262  0.026102\n",
       "7                       pairwise  $I_{\\rm pred}$  0.374044  0.014041\n",
       "8                      black box   $I_{\\rm var}$  0.408747  0.026136\n",
       "9                      black box  $I_{\\rm pred}$  0.457529  0.015223"
      ]
     },
     "execution_count": 8,
     "metadata": {},
     "output_type": "execute_result"
    }
   ],
   "source": [
    "# Creat dict to hold information values\n",
    "info_dict = {}\n",
    "\n",
    "# Create dataframe to hold info\n",
    "info_df = pd.DataFrame(columns=['name','metric','I','dI'])\n",
    "row_dicts = []\n",
    "row_dicts.append({'name':'additive\\n(epistasis package)',\n",
    "                  'metric':'$I_{\\\\rm var}$',\n",
    "                  'I':0.000000,\n",
    "                  'dI':0.000000})\n",
    "\n",
    "row_dicts.append({'name':'additive\\n(epistasis package)',\n",
    "                  'metric':'$I_{\\\\rm pred}$',\n",
    "                  'I':I_pred_SH,\n",
    "                  'dI':dI_pred_SH})\n",
    "\n",
    "# Compute variational and predictive information on test data\n",
    "for model_name, model in models.items():\n",
    "    \n",
    "    # Compute and record likelihood information\n",
    "    I_var, dI_var =  model.I_variational(x=x_test, y=y_test)\n",
    "    row_dicts.append({'name':model_name,\n",
    "                      'metric':'$I_{\\\\rm var}$',\n",
    "                      'I':I_var,\n",
    "                      'dI':dI_var})\n",
    "    \n",
    "    # Compute and record predictive information\n",
    "    I_pred, dI_pred = model.I_predictive(x=x_test, y=y_test, num_subsamples=1000)\n",
    "    row_dicts.append({'name':model_name,\n",
    "                      'metric':'$I_{\\\\rm pred}$',\n",
    "                      'I':I_pred,\n",
    "                      'dI':dI_pred})\n",
    "    \n",
    "# Add rows to dataframe \n",
    "for row_dict in row_dicts:\n",
    "    info_df = info_df.append(row_dict, ignore_index=True)\n",
    "    \n",
    "# Put space in black box\n",
    "info_df['name'] = info_df['name'].str.replace('blackbox', 'black box')   \n",
    "info_df"
   ]
  },
  {
   "cell_type": "code",
   "execution_count": 9,
   "metadata": {
    "ExecuteTime": {
     "end_time": "2021-12-30T22:45:22.313214Z",
     "start_time": "2021-12-30T22:45:21.014839Z"
    }
   },
   "outputs": [
    {
     "name": "stdout",
     "output_type": "stream",
     "text": [
      "I_intr >= 0.46188 +- 0.01720 bits\n",
      "I_epistasis: 0.17986 +- 0.01140 bits\n",
      "I_mavenn: 0.25678 +- 0.01287 bits\n",
      "z: 4.47\n",
      "p-value: 0.0000\n"
     ]
    },
    {
     "data": {
      "image/png": "[encoded data removed]",
      "text/plain": [
       "<Figure size 468x504 with 7 Axes>"
      ]
     },
     "metadata": {
      "needs_background": "light"
     },
     "output_type": "display_data"
    }
   ],
   "source": [
    "# Create figure\n",
    "fig = plt.figure(figsize=[6.5, 7])\n",
    "gs = gridspec.GridSpec(3, 3, figure=fig)\n",
    "\n",
    "# Set lims and ticks\n",
    "ylim = [-2.5, 2.5]\n",
    "yticks = [-6,-4,-2,0,2,4]\n",
    "philim = [-3,5]\n",
    "phiticks = [-2,0,2,4]\n",
    "\n",
    "#\n",
    "# Panel A: Bar chart\n",
    "#\n",
    "ax = fig.add_subplot(gs[0,:])\n",
    "\n",
    "# Plot I_int region\n",
    "K = len(info_df)\n",
    "xlim = [-.5, 4.5]\n",
    "ylim = [0, 0.6]\n",
    "ax.fill_between(xlim, [I_intr, I_intr], [.6, .6], color='gray', alpha=.2, zorder=-100, linewidth=0,\n",
    "                label='$I_\\mathrm{int}$')\n",
    "\n",
    "# Plot bars\n",
    "sns.barplot(ax=ax, data=info_df, hue='metric', x='name', y='I')\n",
    "\n",
    "# Plot 95% confidence intervals\n",
    "x = np.array([[x-.2,x+.2] for x in range(5)]).ravel()\n",
    "yerr = info_df['dI'].values\n",
    "y = info_df['I'].values \n",
    "ax.errorbar(x=x[1:], y=y[1:], yerr=yerr[1:], color='k', capsize=3, linestyle='none', \n",
    "            elinewidth=1, capthick=1, solid_capstyle='round')\n",
    "ax.set_ylabel('information (bits)')\n",
    "ax.set_xlabel('')\n",
    "ax.set_xlim(xlim)\n",
    "ax.set_ylim(ylim)\n",
    "\n",
    "# Reorder legend\n",
    "handles, labels = ax.get_legend_handles_labels()\n",
    "handles = [handles[1], handles[2], handles[0]]\n",
    "labels = [labels[1], labels[2], labels[0]]\n",
    "ax.legend(handles, labels, loc='upper left')\n",
    "\n",
    "# Remind user of intrinsic information\n",
    "print(f'I_intr >= {I_intr:.5f} +- {1.96*dI_intr:.5f} bits')\n",
    "\n",
    "# Compute a p-value for additive epistasis vs. MAVE-NN I_pred\n",
    "I_epistasis = info_df.loc[1,'I']\n",
    "dI_epistasis = info_df.loc[1,'dI']\n",
    "print(f'I_epistasis: {I_epistasis:.5f} +- {dI_epistasis:.5f} bits')\n",
    "I_mavenn = info_df.loc[3,'I']\n",
    "dI_mavenn = info_df.loc[3,'dI']\n",
    "print(f'I_mavenn: {I_mavenn:.5f} +- {dI_mavenn:.5f} bits')\n",
    "z = (I_mavenn - I_epistasis)/np.sqrt(dI_epistasis**2 + dI_mavenn**2)\n",
    "print(f'z: {z:.2f}')\n",
    "dist = norm()\n",
    "p = norm.cdf(-z)\n",
    "print(f'p-value: {p:.4f}')\n",
    "\n",
    "# Plot significance line\n",
    "ax.plot([0.2, 1.2], [.3, .3], '-k')\n",
    "\n",
    "# Plot text \n",
    "ax.text(x=.7, y=.31, s=f'p = {p:.4f}', ha='center', va='bottom')\n",
    "\n",
    "\n",
    "#\n",
    "# Panel B: GE plot for Sailer & Harms model\n",
    "#\n",
    "\n",
    "ylim = [-1.5, 2.5]\n",
    "yticks = [-1, 0, 1, 2]\n",
    "\n",
    "# Show results from Sailer & Harms\n",
    "# Set ax\n",
    "ax = fig.add_subplot(gs[1,0])\n",
    "\n",
    "ax.scatter(phi_sh, \n",
    "           y_sh, \n",
    "           s=1,\n",
    "           alpha=.2,\n",
    "           color='C0')\n",
    "\n",
    "ax.plot(phi_grid_sh, \n",
    "        yhat_grid_sh, \n",
    "        color='C1', \n",
    "        alpha=1, \n",
    "        linestyle='-', \n",
    "        linewidth=2, \n",
    "        label='$\\hat{y}$')\n",
    "\n",
    "# Style plot\n",
    "ax.set_xlim(philim)\n",
    "ax.set_ylim(ylim)\n",
    "ax.set_yticks(yticks)\n",
    "ax.set_xlabel(f'$\\phi$, additive (epistasis package)', labelpad=-1)\n",
    "ax.set_ylabel('$\\log_{10}$ PSI ($y$)', labelpad=-2)\n",
    "\n",
    "# Show predictive information\n",
    "#ax.text(x=-2.7, y=2.4, fontsize=7, ha='left', va='top',\n",
    "#        s=f'$I_\\mathrm{{pre}}: {I_epistasis:.3f}\\pm{dI_epistasis:.3f}$ bits');\n",
    "ax.set_title(f'$I_\\mathrm{{pre}}: {I_epistasis:.3f}\\pm{dI_epistasis:.3f}$ bits')\n",
    "\n",
    "#\n",
    "# Panel C,D: GE plots for MAVE-NN models\n",
    "#\n",
    "\n",
    "# Choose phi grid for plotting curves\n",
    "for i, name in enumerate(['additive', 'pairwise']):\n",
    "    \n",
    "    # Set ax\n",
    "    ax = fig.add_subplot(gs[1,i+1])\n",
    "    mpsa_model = models[name]\n",
    "    phi = mpsa_model.x_to_phi(x_test)\n",
    "    \n",
    "    phi_grid = np.linspace(philim[0], philim[1], 1000)\n",
    "    yhat_grid = mpsa_model.phi_to_yhat(phi_grid)\n",
    "    yqs_grid = mpsa_model.yhat_to_yq(yhat_grid, q=[.025,.975])\n",
    "    I_pred = info_df[info_df['name']==name].reset_index(drop=True)['I'][1]\n",
    "    dI_pred = info_df[info_df['name']==name].reset_index(drop=True)['dI'][1]\n",
    "\n",
    "    # Draw scatter plot\n",
    "    ax.scatter(phi, \n",
    "               y_test, \n",
    "               s=1,\n",
    "               alpha=.2,\n",
    "               color='C0')\n",
    "\n",
    "    # Draw GE curve & confidence intervals\n",
    "    ax.plot(phi_grid, \n",
    "            yhat_grid, \n",
    "            color='C1', \n",
    "            alpha=1, \n",
    "            linestyle='-', \n",
    "            linewidth=2, \n",
    "            label='$\\hat{y}$')\n",
    "    ax.plot(phi_grid, \n",
    "            yqs_grid[:,0], \n",
    "            color='C1', \n",
    "            alpha=1, \n",
    "            linestyle=':', \n",
    "            linewidth=1, \n",
    "            label='95% CI')\n",
    "    ax.plot(phi_grid, \n",
    "            yqs_grid[:,1], \n",
    "            color='C1', \n",
    "            alpha=1, \n",
    "            linestyle=':', \n",
    "            linewidth=1)\n",
    "    \n",
    "    # Show predictive information\n",
    "    #ax.text(x=-2.7, y=2.4, fontsize=7, ha='left', va='top',\n",
    "    #    s=f'$I_\\mathrm{{pre}}: {I_pred:.3f}\\pm{dI_pred:.3f}$ bits');\n",
    "    ax.set_title(f'$I_\\mathrm{{pre}}: {I_pred:.3f}\\pm{dI_pred:.3f}$ bits')\n",
    "    \n",
    "    # Style plot\n",
    "    ax.set_xlim(philim)\n",
    "    ax.set_ylim(ylim)\n",
    "    ax.set_yticks(yticks)\n",
    "    ax.set_yticklabels([])\n",
    "    ax.set_xlabel(f'$\\phi$, {name}', labelpad=0)\n",
    "\n",
    "#\n",
    "# Panel E: Logo\n",
    "#   \n",
    "\n",
    "# Make axes\n",
    "ax = fig.add_subplot(gs[2,0])\n",
    "\n",
    "# Draw logo\n",
    "logo_df = models['pairwise'].get_theta()['logomaker_df'].fillna(0)\n",
    "logo = logomaker.Logo(df=logo_df, ax=ax, fade_below=.5, shade_below=.5, width=.9, \n",
    "                      font_name='Arial Rounded MT Bold')\n",
    "\n",
    "# Style logo\n",
    "ylim = ax.get_ylim()\n",
    "logo.highlight_position_range(pmin=3, pmax=4, color='w', alpha=1, zorder=10)\n",
    "logo.highlight_position_range(pmin=3, pmax=4, color='gray', alpha=.1, zorder=11)\n",
    "logo.style_single_glyph(p=3, c='G', floor=ylim[0], \n",
    "                        ceiling=ylim[1], color='gray', zorder=30, alpha=.5, flip=False)\n",
    "logo.style_single_glyph(p=4, c='U', color='k', zorder=30)\n",
    "logo.style_single_glyph(p=4, c='C', color='k', zorder=30)\n",
    "logo.style_spines(visible=False)\n",
    "\n",
    "# Sytle axes\n",
    "ax.axvline(2.5, linestyle=':', color='k', zorder=30)\n",
    "ax.set_ylabel('additive effect ($\\Delta \\phi$)', labelpad=-1)\n",
    "ax.set_xticks([0,1,2,3,4,5,6,7,8])\n",
    "ax.set_xticklabels([f'{x:+d}' for x in range(-3,7) if x!=0])\n",
    "ax.set_xlabel('nucleotide position', labelpad=5)\n",
    "\n",
    "#\n",
    "# Panel E: Pairwise heatmap\n",
    "#  \n",
    "\n",
    "# Make axes\n",
    "ax = fig.add_subplot(gs[2,-2:])\n",
    "\n",
    "# Draw heatmap\n",
    "theta = models['pairwise'].get_theta()['theta_lclc']\n",
    "ax, cb = mavenn.heatmap_pairwise(values=theta,\n",
    "                          alphabet='rna',\n",
    "                          ax=ax,\n",
    "                          gpmap_type='pairwise',\n",
    "                          cmap_size='3%')\n",
    "\n",
    "# Style axes\n",
    "ax.set_xticks([0,1,2,3,4,5,6,7,8])\n",
    "ax.set_xticklabels([f'{x:+d}' for x in range(-3,7) if x!=0])\n",
    "ax.set_xlabel('nucleotide position', labelpad=5)\n",
    "cb.set_label('pairwise effect ($\\Delta \\Delta \\phi$)', labelpad=5, ha='center', va='center', rotation=-90)\n",
    "cb.outline.set_visible(False)\n",
    "cb.ax.tick_params(direction='in', size=10, color='white')\n",
    "\n",
    "# Clean tighten layout and save\n",
    "fig.tight_layout(h_pad=2)\n",
    "fig.savefig('png/fig5_ipynb.png', dpi=400, facecolor='w')"
   ]
  },
  {
   "cell_type": "code",
   "execution_count": null,
   "metadata": {
    "collapsed": true
   },
   "outputs": [],
   "source": []
  }
 ],
 "metadata": {
  "kernelspec": {
   "display_name": "Python 3 (ipykernel)",
   "language": "python",
   "name": "python3"
  },
  "language_info": {
   "codemirror_mode": {
    "name": "ipython",
    "version": 3
   },
   "file_extension": ".py",
   "mimetype": "text/x-python",
   "name": "python",
   "nbconvert_exporter": "python",
   "pygments_lexer": "ipython3",
   "version": "3.9.7"
  },
  "toc": {
   "base_numbering": 1,
   "nav_menu": {},
   "number_sections": true,
   "sideBar": true,
   "skip_h1_title": false,
   "title_cell": "Table of Contents",
   "title_sidebar": "Contents",
   "toc_cell": false,
   "toc_position": {},
   "toc_section_display": true,
   "toc_window_display": false
  },
  "varInspector": {
   "cols": {
    "lenName": 16,
    "lenType": 16,
    "lenVar": 40
   },
   "kernels_config": {
    "python": {
     "delete_cmd_postfix": "",
     "delete_cmd_prefix": "del ",
     "library": "var_list.py",
     "varRefreshCmd": "print(var_dic_list())"
    },
    "r": {
     "delete_cmd_postfix": ") ",
     "delete_cmd_prefix": "rm(",
     "library": "var_list.r",
     "varRefreshCmd": "cat(var_dic_list()) "
    }
   },
   "oldHeight": 961.7333639999999,
   "position": {
    "height": "983.722px",
    "left": "39.2528px",
    "right": "20px",
    "top": "125.994px",
    "width": "537.003px"
   },
   "types_to_exclude": [
    "module",
    "function",
    "builtin_function_or_method",
    "instance",
    "_Feature"
   ],
   "varInspector_section_display": "block",
   "window_display": false
  }
 },
 "nbformat": 4,
 "nbformat_minor": 2
}
