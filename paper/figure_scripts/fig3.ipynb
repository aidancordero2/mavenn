{
 "cells": [
  {
   "cell_type": "code",
   "execution_count": 1,
   "metadata": {
    "ExecuteTime": {
     "end_time": "2021-12-31T22:05:15.005592Z",
     "start_time": "2021-12-31T22:05:13.402300Z"
    },
    "scrolled": false
   },
   "outputs": [],
   "source": [
    "# Standard imports\n",
    "import numpy as np\n",
    "import pandas as pd\n",
    "import matplotlib.pyplot as plt\n",
    "import matplotlib as mpl\n",
    "%matplotlib inline\n",
    "\n",
    "# Load mavenn and check path\n",
    "import mavenn\n",
    "\n",
    "# Import helper functions\n",
    "from helper_functions import my_rsquared, save_fig_with_date_stamp, set_xticks\n",
    "\n",
    "# Set random seed\n",
    "np.random.seed(0)\n",
    "\n",
    "# Set figure name\n",
    "fig_name = 'fig3'"
   ]
  },
  {
   "cell_type": "code",
   "execution_count": 2,
   "metadata": {
    "ExecuteTime": {
     "end_time": "2021-12-31T22:05:15.009341Z",
     "start_time": "2021-12-31T22:05:15.006623Z"
    }
   },
   "outputs": [
    {
     "name": "stderr",
     "output_type": "stream",
     "text": [
      "\n",
      "Bad key title.size in file fig3.style, line 4 ('title.size:         7.0')\n",
      "You probably need to get an updated matplotlibrc file from\n",
      "https://github.com/matplotlib/matplotlib/blob/v3.4.2/matplotlibrc.template\n",
      "or from the matplotlib source distribution\n"
     ]
    }
   ],
   "source": [
    "style_file_name = f'{fig_name}.style'\n",
    "s = \"\"\"\n",
    "axes.linewidth:     0.5     # edge linewidth\n",
    "font.size:          7.0\n",
    "title.size:         7.0\n",
    "axes.labelsize:     7.0  # fontsize of the x any y labels\n",
    "xtick.labelsize:    7.0  # fontsize of the tick labels\n",
    "ytick.labelsize:    7.0  # fontsize of the tick labels\n",
    "legend.fontsize:      7.0\n",
    "legend.borderpad:     0.2  # border whitespace\n",
    "legend.labelspacing:  0.2  # the vertical space between the legend entries\n",
    "legend.borderaxespad: 0.2  # the border between the axes and legend edge\n",
    "legend.framealpha:    1.0 \n",
    "\"\"\"\n",
    "with open(style_file_name, 'w') as f:\n",
    "    f.write(s)\n",
    "    \n",
    "plt.style.use(style_file_name)"
   ]
  },
  {
   "cell_type": "code",
   "execution_count": 3,
   "metadata": {
    "ExecuteTime": {
     "end_time": "2021-12-31T22:05:15.543473Z",
     "start_time": "2021-12-31T22:05:15.010242Z"
    }
   },
   "outputs": [
    {
     "name": "stdout",
     "output_type": "stream",
     "text": [
      "Model loaded from these files:\n",
      "\t../models/gb1_ge_additive_2021.12.30.21h.07m.pickle\n",
      "\t../models/gb1_ge_additive_2021.12.30.21h.07m.h5\n",
      "Model loaded from these files:\n",
      "\t../models/gb1_ge_additive_sub_500_2021.12.30.21h.07m.pickle\n",
      "\t../models/gb1_ge_additive_sub_500_2021.12.30.21h.07m.h5\n",
      "Model loaded from these files:\n",
      "\t../models/gb1_ge_additive_sub_5000_2021.12.30.21h.07m.pickle\n",
      "\t../models/gb1_ge_additive_sub_5000_2021.12.30.21h.07m.h5\n",
      "Model loaded from these files:\n",
      "\t../models/gb1_ge_additive_sub_50000_2021.12.30.21h.07m.pickle\n",
      "\t../models/gb1_ge_additive_sub_50000_2021.12.30.21h.07m.h5\n"
     ]
    }
   ],
   "source": [
    "# Load full GB1 model\n",
    "gb1_additive_full_model = mavenn.load('../models/gb1_ge_additive_2021.12.30.21h.07m')\n",
    "\n",
    "# load subsampled models \n",
    "subsampled_models = {}\n",
    "for subsampled_double_mutants in [500, 5000, 50000]:\n",
    "    file_name = f'../models/gb1_ge_additive_sub_{subsampled_double_mutants:d}_2021.12.30.21h.07m'\n",
    "    subsampled_models[subsampled_double_mutants] =  mavenn.load(file_name)"
   ]
  },
  {
   "cell_type": "code",
   "execution_count": 4,
   "metadata": {
    "ExecuteTime": {
     "end_time": "2021-12-31T22:05:16.178753Z",
     "start_time": "2021-12-31T22:05:15.544147Z"
    }
   },
   "outputs": [
    {
     "name": "stdout",
     "output_type": "stream",
     "text": [
      "Training set   :  477,854 observations (  90.04%)\n",
      "Validation set :   26,519 observations (   5.00%)\n",
      "Test set       :   26,364 observations (   4.97%)\n",
      "-------------------------------------------------\n",
      "Total dataset  :  530,737 observations ( 100.00%)\n",
      "\n"
     ]
    }
   ],
   "source": [
    "# Load training data\n",
    "data_df = pd.read_csv('../datasets/gb1_data.csv.gz')\n",
    "trainval_df, test_df = mavenn.split_dataset(data_df)\n",
    "\n",
    "# Get test x and y for 5000 randomly chosen points\n",
    "ix = np.random.choice(a=len(test_df), size=5000, replace=False)\n",
    "x_test = test_df['x'].values[ix]\n",
    "y_test = test_df['y'].values[ix]"
   ]
  },
  {
   "cell_type": "code",
   "execution_count": 5,
   "metadata": {
    "ExecuteTime": {
     "end_time": "2021-12-31T22:05:16.552532Z",
     "start_time": "2021-12-31T22:05:16.179501Z"
    }
   },
   "outputs": [
    {
     "name": "stdout",
     "output_type": "stream",
     "text": [
      "Model loaded from these files:\n",
      "\t/Users/jkinney/github/mavenn/mavenn/examples/models/gb1_ge_blackbox.pickle\n",
      "\t/Users/jkinney/github/mavenn/mavenn/examples/models/gb1_ge_blackbox.h5\n",
      "I_int >= 2.8145 +- 0.0323 bits\n"
     ]
    }
   ],
   "source": [
    "# Compute lower bound on intrinsic information\n",
    "\n",
    "# Load blackbox model\n",
    "model_bb = mavenn.load_example_model('gb1_ge_blackbox')\n",
    "\n",
    "# Compute blackbox predictive information\n",
    "I_int_lb, dI_int_lb = model_bb.I_predictive(x_test, y_test)\n",
    "print(f'I_int >= {I_int_lb:.4f} +- {1.96*dI_int_lb:.4f} bits')"
   ]
  },
  {
   "cell_type": "code",
   "execution_count": 6,
   "metadata": {
    "ExecuteTime": {
     "end_time": "2021-12-31T22:05:17.712677Z",
     "start_time": "2021-12-31T22:05:16.553259Z"
    }
   },
   "outputs": [
    {
     "name": "stdout",
     "output_type": "stream",
     "text": [
      "I_int <= 3.2146 +- 0.0130 bits\n"
     ]
    }
   ],
   "source": [
    "# Compute upper bound on intrinsic information\n",
    "N = len(data_df)\n",
    "c_s = data_df['selected_ct']\n",
    "c_i = data_df['input_ct']\n",
    "\n",
    "# Compute H_y and uncertainty therein\n",
    "ys = np.log2((c_s+1)/(c_i+1))\n",
    "ix = np.random.choice(a=N, size=20000, replace=False)\n",
    "H_y, dH_y = mavenn.src.entropy.entropy_continuous(x=ys[ix], num_subsamples=100)\n",
    "\n",
    "# Compute H_y_given_x and uncertainty therein\n",
    "dys = np.log2(np.exp(1))*np.sqrt(1/(c_s+1) + 1/(c_i+1))\n",
    "H_ys = 0.5*np.log2(2*np.pi*np.exp(1)*dys**2)\n",
    "H_y_given_x = H_ys.mean()\n",
    "dH_y_given_x = H_ys.std(ddof=1)/np.sqrt(N)\n",
    "\n",
    "# Show resulting intrinsic information\n",
    "I_int_ub = H_y - H_ys.mean()\n",
    "dI_int_ub = np.sqrt(dH_y**2 + dH_y_given_x**2)\n",
    "print(f'I_int <= {I_int_ub:.4f} +- {1.96*dI_int_ub:.4f} bits')"
   ]
  },
  {
   "cell_type": "code",
   "execution_count": 7,
   "metadata": {
    "ExecuteTime": {
     "end_time": "2021-12-31T22:05:18.139194Z",
     "start_time": "2021-12-31T22:05:17.714337Z"
    }
   },
   "outputs": [],
   "source": [
    "# Load model contents\n",
    "alphabet = gb1_additive_full_model.alphabet\n",
    "L = gb1_additive_full_model.L\n",
    "wt_seq = gb1_additive_full_model.x_stats['consensus_seq']\n",
    "theta_lc = gb1_additive_full_model.get_theta(gauge='consensus')['theta_lc']\n",
    "\n",
    "# Compute test phi and yhat for panel b\n",
    "phi_b = gb1_additive_full_model.x_to_phi(x_test)\n",
    "yhat_test_b = gb1_additive_full_model.phi_to_yhat(phi_b)\n",
    "\n",
    "# Compute grid values for panel b\n",
    "phi_lim = [-5,4]\n",
    "phi_grid_b = np.linspace(phi_lim[0], phi_lim[1], 1000)\n",
    "yhat_grid_b = gb1_additive_full_model.phi_to_yhat(phi_grid_b)\n",
    "yq_grid_b = gb1_additive_full_model.yhat_to_yq(yhat_grid_b, q=[.025, .975])\n",
    "\n",
    "# Compute wt seq values\n",
    "phi_wt_full = gb1_additive_full_model.x_to_phi(wt_seq)\n",
    "yhat_c = yhat_test_b\n",
    "yhat_wt_full = gb1_additive_full_model.x_to_yhat(wt_seq)\n",
    "\n",
    "# Get trianing history\n",
    "train_I_var_d = gb1_additive_full_model.history['I_var']\n",
    "\n",
    "# Compute information metrics\n",
    "I_var, dI_var =  gb1_additive_full_model.I_variational(x=x_test, y=y_test)\n",
    "I_pred, dI_pred = gb1_additive_full_model.I_predictive(x=x_test, y=y_test)"
   ]
  },
  {
   "cell_type": "code",
   "execution_count": 8,
   "metadata": {
    "ExecuteTime": {
     "end_time": "2021-12-31T22:05:18.143342Z",
     "start_time": "2021-12-31T22:05:18.140470Z"
    }
   },
   "outputs": [
    {
     "data": {
      "text/plain": [
       "array(['E', 'D', 'R', 'K', 'H', 'Q', 'N', 'S', 'T', 'P', 'G', 'C', 'A',\n",
       "       'V', 'I', 'L', 'M', 'F', 'Y', 'W'], dtype='<U1')"
      ]
     },
     "execution_count": 8,
     "metadata": {},
     "output_type": "execute_result"
    }
   ],
   "source": [
    "# Get indices for aa order used in Olson et al.\n",
    "ordered_aa = np.array(list('EDRKHQNSTPGCAVILMFYW'))\n",
    "ix = ordered_aa.argsort()\n",
    "sorted_aa = ordered_aa[ix]\n",
    "ixx = ix.argsort()\n",
    "alphabet[ixx]"
   ]
  },
  {
   "cell_type": "code",
   "execution_count": 9,
   "metadata": {
    "ExecuteTime": {
     "end_time": "2021-12-31T22:05:19.672277Z",
     "start_time": "2021-12-31T22:05:18.144053Z"
    }
   },
   "outputs": [
    {
     "name": "stdout",
     "output_type": "stream",
     "text": [
      "Figure saved figure to png/fig3_ipynb_2021.12.31.17h.05m.18s.png.\n"
     ]
    },
    {
     "data": {
      "image/png": "[encoded data removed]",
      "text/plain": [
       "<Figure size 468x482.4 with 8 Axes>"
      ]
     },
     "metadata": {
      "needs_background": "light"
     },
     "output_type": "display_data"
    }
   ],
   "source": [
    "# Draw figure\n",
    "fig = plt.figure(figsize=[6.5, 6.7])\n",
    "gs = fig.add_gridspec(3, 3, height_ratios=[1.2,1,1])\n",
    "\n",
    "# Set lims and ticks\n",
    "ylim = [-10.3, 3] \n",
    "yticks = [-10,-8,-6,-4,-2,0,2]\n",
    "phi_ticks = [-4,-2,0,2,4]\n",
    "I_lim = [0, 3.5]\n",
    "I_ticks = [0,1,2,3]\n",
    "\n",
    "# Define panels\n",
    "ax_a = fig.add_subplot(gs[0, :])\n",
    "ax_b = fig.add_subplot(gs[1, 0])\n",
    "ax_c = fig.add_subplot(gs[1, 1])\n",
    "ax_d = fig.add_subplot(gs[1, 2])\n",
    "ax_e = fig.add_subplot(gs[2, 0])\n",
    "ax_f = fig.add_subplot(gs[2, 1])\n",
    "ax_g = fig.add_subplot(gs[2, 2])\n",
    "\n",
    "\n",
    "#\n",
    "# Panel A: Heatmap\n",
    "#\n",
    "ax = ax_a\n",
    "\n",
    "# Draw heatmap\n",
    "ax, cb = mavenn.heatmap(theta_lc[:,ixx], \n",
    "                        alphabet[ixx],\n",
    "                        ax=ax, \n",
    "                        seq=wt_seq, \n",
    "                        seq_kwargs={'s':4, 'color':'gray'},\n",
    "                        ccenter=0,\n",
    "                        clim=[-1,1],\n",
    "                        cmap_size=\"2%\",\n",
    "                        cmap='coolwarm')\n",
    "\n",
    "# Style axes\n",
    "set_xticks(ax=ax, L=L, pos_start=2, pos_spacing=5)\n",
    "ax.set_ylabel('amino acid')\n",
    "ax.set_xlabel('position')\n",
    "ax.spines['top'].set_visible(False)\n",
    "ax.spines['right'].set_visible(False)\n",
    "ax.spines['bottom'].set_visible(False)\n",
    "ax.spines['left'].set_visible(False)\n",
    "ax.tick_params(rotation=0, size=2)\n",
    "ax.tick_params(axis='y', size=0, pad=6, labelsize=6)\n",
    "\n",
    "# Style colorbar\n",
    "cb.outline.set_visible(False)\n",
    "cb.ax.tick_params(direction='in', size=10, color='white')\n",
    "cb.set_ticks([-1,-.5,0,.5,1])\n",
    "cb.set_label('additive effect ($\\Delta \\phi$)', labelpad=5, rotation=-90, ha='center', va='center')\n",
    "\n",
    "\n",
    "#\n",
    "# Panel B: GE plot\n",
    "#\n",
    "ax = ax_b\n",
    "\n",
    "# Draw GE scatter\n",
    "ax.scatter(phi_b, \n",
    "           y_test, \n",
    "           s=2,\n",
    "           alpha=.1,\n",
    "           label='test data',\n",
    "           color='C0')\n",
    "\n",
    "# Draw GE curves\n",
    "ax.plot(phi_grid_b, yhat_grid_b,    color='C1', alpha=1, linewidth=2, linestyle='-', label='$\\hat{y}$')\n",
    "ax.plot(phi_grid_b, yq_grid_b[:,0], color='C1', linestyle=':', linewidth=1,  label='95% CI')\n",
    "ax.plot(phi_grid_b, yq_grid_b[:,1], color='C1', linestyle=':', linewidth=1)\n",
    "\n",
    "# Draw wt phi\n",
    "ax.axvline(phi_wt_full, color='lightgray', zorder=-1, label='WT $\\phi$')\n",
    "\n",
    "# Style axes\n",
    "ax.set_xticks(phi_ticks)\n",
    "ax.set_yticks(yticks)\n",
    "ax.set_xlabel('latent phenotype ($\\phi$)')\n",
    "ax.set_ylabel('$\\log_2$ enrichment ($y$)', labelpad=-3)\n",
    "ax.set_xlim(phi_lim)\n",
    "ax.set_ylim(ylim)\n",
    "\n",
    "# ax.legend()\n",
    "leg = ax.legend()\n",
    "for lh in leg.legendHandles: \n",
    "    lh.set_alpha(1)\n",
    "\n",
    "    \n",
    "#\n",
    "# Panel C: Scatter plot\n",
    "#\n",
    "ax = ax_c\n",
    "xlim = [min(yhat_c), ylim[1]]\n",
    "\n",
    "# Draw GE scatter\n",
    "ax.scatter(yhat_c, \n",
    "           y_test, \n",
    "           s=2,\n",
    "           label='test data',\n",
    "           alpha=.1,\n",
    "           color='C0')\n",
    "\n",
    "# Draw diagonal and CIs\n",
    "ax.plot(xlim, xlim, linestyle='-', color='C1', linewidth=2, label='$\\hat{y}$')\n",
    "ax.plot(yhat_grid_b, yq_grid_b[:,0], linestyle=':', color='C1', linewidth=1, label='95% CI')\n",
    "ax.plot(yhat_grid_b, yq_grid_b[:,1], linestyle=':', color='C1', linewidth=1)\n",
    "\n",
    "# Draw wt phi\n",
    "ax.axvline(yhat_wt_full, color='lightgray', zorder=-1)\n",
    "\n",
    "# Style plot\n",
    "ax.set_xticks(yticks)\n",
    "ax.set_yticks(yticks)\n",
    "ax.set_xlabel('prediction ($\\hat{y}$)')\n",
    "ax.set_ylabel('$\\log_2$ enrichment ($y$)', labelpad=-3)\n",
    "ax.set_xlim(ylim)\n",
    "ax.set_ylim(ylim)\n",
    "\n",
    "# Compute and show R^2\n",
    "r2, dr2 = my_rsquared(yhat_c, y_test)\n",
    "ax.text(x=-10, y=2, s=f'$R^2: {r2:.3f} \\pm {dr2:.3f}$', ha='left', va='center', fontsize=6.5)\n",
    "\n",
    "\n",
    "#\n",
    "# Panel D: Training plot\n",
    "#\n",
    "ax = ax_d\n",
    "\n",
    "# Plot training I_var\n",
    "epochs = np.arange(len(train_I_var_d))\n",
    "ax.plot(epochs, train_I_var_d, '-', label='$I_\\mathrm{var}$ (training)', color='C0', linewidth=2)\n",
    "\n",
    "# Draw information lines\n",
    "xlim = [0, max(epochs)]\n",
    "ax.axhline(I_var,  label='$I_\\mathrm{{var}}$', color='C2', linestyle='-', linewidth=2, alpha=1)\n",
    "ax.axhline(I_pred, label='$I_\\mathrm{{pre}}$', color='C3', linestyle='-', linewidth=2, alpha=1)\n",
    "\n",
    "# Draw intrinsic information area\n",
    "ax.fill_between(xlim, \n",
    "                [I_int_ub, I_int_ub], \n",
    "                [I_int_lb, I_int_lb], \n",
    "                linewidth=0,\n",
    "                color='gray', \n",
    "                alpha=.5, \n",
    "                zorder=-100, \n",
    "                label='$I_\\mathrm{int}$')\n",
    "\n",
    "# Style plot\n",
    "ax.set_ylim(I_lim)\n",
    "ax.set_yticks(I_ticks)\n",
    "ax.set_xlim(xlim)\n",
    "ax.set_xlabel('epoch')\n",
    "ax.set_ylabel('information (bits)', labelpad=3)\n",
    "ax.legend(loc='lower right')\n",
    "\n",
    "\n",
    "#\n",
    "# Panels E, F, G: Subsampled models\n",
    "#\n",
    "\n",
    "# Function to draw panels for subsampled models\n",
    "def draw(ax, model_s, legend_loc=None):\n",
    "    model = subsampled_models[model_s]\n",
    "    phi = model.x_to_phi(x_test)\n",
    "    yhat= model.x_to_yhat(x_test)\n",
    "    \n",
    "    # Create grid yhat\n",
    "    phi_grid = np.linspace(phi_lim[0], phi_lim[1], 1000)\n",
    "    yhat_grid = model.phi_to_yhat(phi_grid)\n",
    "\n",
    "    # Show scatter\n",
    "    ax.scatter(phi, y_test, color='C0', s=2, alpha=.1, label='data (sub)')\n",
    "    \n",
    "    # Plot curve from panel b\n",
    "    ax.plot(phi_grid_b, yhat_grid_b, linewidth=2, color='C8', label='$\\hat{y}$ (full)')\n",
    "    \n",
    "    # Plot curve for subsampled model\n",
    "    ax.plot(phi_grid, yhat_grid, linewidth=2, color='C1',\n",
    "            label='$\\hat{y}$ (sub)')\n",
    "\n",
    "    # Draw wt phi\n",
    "    phi_wt_sub = model.x_to_phi(wt_seq)\n",
    "    ax.axvline(phi_wt_sub, color='lightgray', zorder=-1, label='WT $\\phi$ (sub)')\n",
    "    \n",
    "    # Style plot\n",
    "    ax.set_xlim(phi_lim)\n",
    "    ax.set_xlabel('latent phenotype ($\\phi$)')\n",
    "    ax.set_ylabel('$\\log_2$ enrichment ($y$)', labelpad=-3)\n",
    "    ax.set_title(f'{model_s:,d} double mutants', fontsize=7)\n",
    "    ax.set_xticks(phi_ticks)\n",
    "    ax.set_yticks(yticks)\n",
    "    ax.set_ylim(ylim)\n",
    "    \n",
    "    if legend_loc:      \n",
    "        leg = ax.legend(loc=legend_loc)\n",
    "        for lh in leg.legendHandles: \n",
    "            lh.set_alpha(1)\n",
    "            \n",
    "# Draw panels with subsampled models\n",
    "draw(ax=ax_e, model_s=50000, legend_loc='upper left')\n",
    "draw(ax=ax_f, model_s=5000)\n",
    "draw(ax=ax_g, model_s=500)\n",
    "\n",
    "# Tight layout\n",
    "fig.tight_layout(h_pad=2)\n",
    "            \n",
    "# Save figure\n",
    "save_fig_with_date_stamp(fig, fig_name)"
   ]
  },
  {
   "cell_type": "code",
   "execution_count": 10,
   "metadata": {
    "ExecuteTime": {
     "end_time": "2021-12-31T22:05:19.674744Z",
     "start_time": "2021-12-31T22:05:19.673003Z"
    }
   },
   "outputs": [
    {
     "name": "stdout",
     "output_type": "stream",
     "text": [
      "I_var = 2.1780 +- 0.0524 bits\n",
      "I_pred = 2.2248 +- 0.0334 bits\n",
      "I_int >= 2.8145 +- 0.0323 bits\n",
      "I_int <= 3.2146 +- 0.0130 bits\n"
     ]
    }
   ],
   "source": [
    "# Repeat information metrics\n",
    "print(f'I_var = {I_var:.4f} +- {1.96*dI_var:.4f} bits')\n",
    "print(f'I_pred = {I_pred:.4f} +- {1.96*dI_pred:.4f} bits')\n",
    "print(f'I_int >= {I_int_lb:.4f} +- {1.96*dI_int_lb:.4f} bits')\n",
    "print(f'I_int <= {I_int_ub:.4f} +- {1.96*dI_int_ub:.4f} bits')"
   ]
  },
  {
   "cell_type": "code",
   "execution_count": null,
   "metadata": {},
   "outputs": [],
   "source": []
  }
 ],
 "metadata": {
  "kernelspec": {
   "display_name": "Python 3",
   "language": "python",
   "name": "python3"
  },
  "language_info": {
   "codemirror_mode": {
    "name": "ipython",
    "version": 3
   },
   "file_extension": ".py",
   "mimetype": "text/x-python",
   "name": "python",
   "nbconvert_exporter": "python",
   "pygments_lexer": "ipython3",
   "version": "3.9.2"
  },
  "toc": {
   "base_numbering": 1,
   "nav_menu": {},
   "number_sections": true,
   "sideBar": true,
   "skip_h1_title": false,
   "title_cell": "Table of Contents",
   "title_sidebar": "Contents",
   "toc_cell": false,
   "toc_position": {},
   "toc_section_display": true,
   "toc_window_display": false
  },
  "varInspector": {
   "cols": {
    "lenName": 16,
    "lenType": 16,
    "lenVar": 40
   },
   "kernels_config": {
    "python": {
     "delete_cmd_postfix": "",
     "delete_cmd_prefix": "del ",
     "library": "var_list.py",
     "varRefreshCmd": "print(var_dic_list())"
    },
    "r": {
     "delete_cmd_postfix": ") ",
     "delete_cmd_prefix": "rm(",
     "library": "var_list.r",
     "varRefreshCmd": "cat(var_dic_list()) "
    }
   },
   "position": {
    "height": "458px",
    "left": "953px",
    "right": "20px",
    "top": "120px",
    "width": "307px"
   },
   "types_to_exclude": [
    "module",
    "function",
    "builtin_function_or_method",
    "instance",
    "_Feature"
   ],
   "window_display": false
  }
 },
 "nbformat": 4,
 "nbformat_minor": 2
}
