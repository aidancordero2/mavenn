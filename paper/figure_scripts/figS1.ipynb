{
 "cells": [
  {
   "cell_type": "code",
   "execution_count": null,
   "metadata": {
    "collapsed": true
   },
   "outputs": [],
   "source": [
    "# Standard imports\n",
    "import pandas as pd\n",
    "import matplotlib.pyplot as plt\n",
    "import numpy as np\n",
    "import time\n",
    "\n",
    "import sys\n",
    "path_to_mavenn = '/Users/tareen/Desktop/Research_Projects/2020_mavenn_github/mavenn_git_ssh/'\n",
    "sys.path.insert(0, path_to_mavenn)\n",
    "\n",
    "# import mavenn\n",
    "import mavenn"
   ]
  },
  {
   "cell_type": "code",
   "execution_count": null,
   "metadata": {},
   "outputs": [],
   "source": [
    "# Load GB1 MAVE-NN models\n",
    "model = mavenn.load('figS1_models_and_data/gb1_ge_additive')\n",
    "sim_model = mavenn.load('figS1_models_and_data/bootstrapped_gb1_model/gb1_ge_sim_0')"
   ]
  },
  {
   "cell_type": "code",
   "execution_count": null,
   "metadata": {},
   "outputs": [],
   "source": [
    "# load data to compare ground-truth model\n",
    "# Load example data (WHICH CONTAINS DOUBLE MUTANTS ONLY!)\n",
    "data_df = mavenn.load_example_dataset('gb1')\n",
    "\n",
    "# Separate test from data_df\n",
    "ix_test = data_df['set']=='test'\n",
    "test_df = data_df[ix_test].reset_index(drop=True)\n",
    "print(f'test N: {len(test_df):,}')\n",
    "\n",
    "# Remove test data from data_df\n",
    "data_df = data_df[~ix_test].reset_index(drop=True)\n",
    "print(f'training + validation N: {len(data_df):,}')\n",
    "\n",
    "# load data to compare ground-truth model\n",
    "x_test = test_df['x'].values\n",
    "y_test = test_df['y'].values\n",
    "phi_test = model.x_to_phi(x_test)\n",
    "yhat_test = model.x_to_yhat(x_test)\n",
    "phi_lim = [min(phi_test)-.5, max(phi_test)+.5]\n",
    "phi_grid = np.linspace(phi_lim[0], phi_lim[1], 1000)\n",
    "yhat_grid = model.phi_to_yhat(phi_grid)"
   ]
  },
  {
   "cell_type": "code",
   "execution_count": null,
   "metadata": {
    "collapsed": true
   },
   "outputs": [],
   "source": [
    "# get pairwise theta from model trained on experimental data\n",
    "theta_lc = model.get_theta()['theta_lc']\n",
    "# drop nans to plotting\n",
    "theta_lc = theta_lc[~np.isnan(theta_lc)]"
   ]
  },
  {
   "cell_type": "code",
   "execution_count": null,
   "metadata": {
    "collapsed": true
   },
   "outputs": [],
   "source": [
    "sim_theta_lc = sim_model.get_theta()['theta_lc']\n",
    "sim_theta_lc = sim_theta_lc[~np.isnan(sim_theta_lc)]"
   ]
  },
  {
   "cell_type": "code",
   "execution_count": null,
   "metadata": {
    "collapsed": true
   },
   "outputs": [],
   "source": [
    "# load model training times and Rsq for each simulated dataset size.\n",
    "training_times = []\n",
    "model_Rsqs = []\n",
    "#data_sizes = [1000,3000,1000,10000,30000,100000,300000,1000000]\n",
    "data_sizes = [1000,3000,10000,30000,100000,300000]\n",
    "for data_size in data_sizes:\n",
    "    training_times.append(np.loadtxt(f'figS1_models_and_data/gb1_sim_models_and_times/N_{data_size}/training_times.txt'))\n",
    "    model_Rsqs.append(np.loadtxt(f'figS1_models_and_data/gb1_sim_models_and_times/N_{data_size}/model_Rsqs.txt'))"
   ]
  },
  {
   "cell_type": "code",
   "execution_count": null,
   "metadata": {},
   "outputs": [],
   "source": [
    "model_Rsqs[0]"
   ]
  },
  {
   "cell_type": "code",
   "execution_count": null,
   "metadata": {},
   "outputs": [],
   "source": [
    "for model_index in range(len(data_sizes)):\n",
    "    \n",
    "    mean = np.mean(training_times[model_index])\n",
    "    for time in training_times[model_index]:\n",
    "        #print(time)\n",
    "        plt.scatter(data_sizes[model_index],time/60,s=5,color='gray',alpha=0.5)\n",
    "        plt.scatter(data_sizes[model_index],mean/60,s=20,color='black',alpha=1)        \n",
    "\n",
    "plt.xscale('log')    \n",
    "plt.yscale('log') \n",
    "plt.show()"
   ]
  },
  {
   "cell_type": "code",
   "execution_count": null,
   "metadata": {
    "collapsed": true
   },
   "outputs": [],
   "source": [
    "# Predict latent phentoype values (phi) on test data\n",
    "sim_phi_test = sim_model.x_to_phi(x_test)\n",
    "\n",
    "# Predict measurement values (yhat) on test data\n",
    "sim_yhat_test = sim_model.x_to_yhat(x_test)"
   ]
  },
  {
   "cell_type": "code",
   "execution_count": null,
   "metadata": {
    "collapsed": true
   },
   "outputs": [],
   "source": [
    "def estimate_Rsq_error_from_boostrap(data_array_1,\n",
    "                                     data_array_2,\n",
    "                                     number_of_bs_trials=1000):\n",
    "\n",
    "    number_data = data_array_1.shape[0]\n",
    "\n",
    "    Rsq_bs = np.zeros(shape=number_of_bs_trials)\n",
    "    size_of_drawn_samples = int(number_data*0.25)\n",
    "\n",
    "    for trial in range(number_of_bs_trials):\n",
    "\n",
    "        # sample quarter of the data with replacement\n",
    "        ix = np.random.choice(number_data, size=size_of_drawn_samples, replace=True)\n",
    "\n",
    "        # compute individual R values for the current bs sample\n",
    "        R_sq_sub = np.corrcoef(data_array_1[ix], data_array_2[ix])[0][1]**2        \n",
    "        Rsq_bs[trial] = R_sq_sub\n",
    "        \n",
    "    std_error = np.std(Rsq_bs)\n",
    "    return std_error "
   ]
  },
  {
   "cell_type": "code",
   "execution_count": null,
   "metadata": {},
   "outputs": [],
   "source": [
    "fig, ax = plt.subplots(2, 3, figsize=[6.69291,4.75])\n",
    "\n",
    "subpanel_letter_pos_x = -0.11\n",
    "subpanel_letter_pos_y = 1.1\n",
    "\n",
    "# Compute yhat each phi gridpoint\n",
    "sim_yhat_grid = sim_model.phi_to_yhat(phi_grid)\n",
    "\n",
    "ax[0,0].plot(phi_grid,yhat_grid, lw=2, label='true $g$')\n",
    "ax[0,0].plot(phi_grid,sim_yhat_grid, linestyle='--',lw=2, label='inferred $g$')\n",
    "ax[0,0].scatter(sim_phi_test, y_test, color='silver', s=0.25, alpha=0.25, label ='simulated $y$')\n",
    "\n",
    "ax[0,0].set_xlabel('latent phenotype ($\\phi$)',fontsize=7.5)\n",
    "leg = ax[0,0].legend(fontsize=7,prop={'size': 6}, loc='upper left')\n",
    "\n",
    "for lh in leg.legendHandles: \n",
    "    lh.set_alpha(1)\n",
    "\n",
    "ax[0,0].set_ylabel('observation ($y$)',fontsize=7.5)\n",
    "ax[0,0].tick_params(labelsize=7.5)\n",
    "ax[0,0].text(subpanel_letter_pos_x, subpanel_letter_pos_y, 'a',fontsize=11.5, fontweight='bold',transform=ax[0,0].transAxes)\n",
    "ax[0,0].set_xticks([-4,-2,0,2])\n",
    "ax[0,0].set_yticks([-8,-4,0,4])\n",
    "\n",
    "Rsq_sim = np.corrcoef(sim_yhat_test, yhat_test)[0][1]**2\n",
    "ax[0,1].scatter(sim_yhat_test,yhat_test,s=0.25,alpha=0.25)\n",
    "lims = list(ax[0,1].get_xlim())\n",
    "lims[0]-=1\n",
    "lims[1]+=1\n",
    "ax[0,1].plot(lims, lims, linestyle=':', color='k', label='$y=\\hat{y}$', lw=2)\n",
    "\n",
    "delta_Rsq_sim = f'{estimate_Rsq_error_from_boostrap(sim_yhat_test, yhat_test):.3e}'\n",
    "\n",
    "ax[0,1].text(0.05,0.9,'$R^2: $'+str(Rsq_sim)[0:5]+'$\\pm$ '+delta_Rsq_sim, fontsize=7.5, fontweight='regular',transform=ax[0,1].transAxes)\n",
    "\n",
    "ax[0,1].set_xlabel('true model prediction ($\\hat{y}$)',fontsize=7.5)\n",
    "ax[0,1].set_ylabel('inferred model prediction ($\\hat{y}$)',fontsize=7.5)\n",
    "ax[0,1].tick_params(labelsize=7.5)\n",
    "ax[0,1].set_xticks([-8,-4,0,4])\n",
    "ax[0,1].set_yticks([-8,-4,0,4])\n",
    "\n",
    "ax[0,1].text(subpanel_letter_pos_x, subpanel_letter_pos_y, 'b',fontsize=11.5, fontweight='bold',transform=ax[0,1].transAxes)\n",
    "\n",
    "Rsq_phi_sim = np.corrcoef(phi_test, sim_phi_test)[0][1]**2\n",
    "delta_Rsq_phi_sim = f'{estimate_Rsq_error_from_boostrap(phi_test, sim_phi_test):.3e}'\n",
    "\n",
    "ax[0,2].scatter(phi_test,sim_phi_test,s=1.5,alpha=0.25)\n",
    "lims = list(ax[0,2].get_xlim())\n",
    "lims[0]-=1\n",
    "lims[1]+=1\n",
    "ax[0,2].plot(lims, lims, linestyle=':', color='k', lw=2)\n",
    "ax[0,2].text(0.05, 0.9,'$R^2: $'+str(Rsq_phi_sim)[0:5]+'$\\pm$ '+delta_Rsq_phi_sim, fontsize=7.5, fontweight='regular',transform=ax[0,2].transAxes)\n",
    "ax[0,2].set_ylabel('inferred latent phenotype ($\\phi$)', fontsize=7.5)\n",
    "ax[0,2].set_xlabel('true latent phenotype ($\\phi$)', fontsize=7.5)\n",
    "ax[0,2].text(subpanel_letter_pos_x, subpanel_letter_pos_y, 'c',fontsize=11.5, fontweight='bold',transform=ax[0,2].transAxes)\n",
    "ax[0,2].tick_params(labelsize=7.5)\n",
    "ax[0,2].set_xticks([-4,-2,0,2])\n",
    "ax[0,2].set_yticks([-4,-2,0,2])\n",
    "\n",
    "Rsq_theta_sim = np.corrcoef(theta_lc, sim_theta_lc)[0][1]**2\n",
    "delta_Rsq_theta_sim = f'{estimate_Rsq_error_from_boostrap(theta_lc, sim_theta_lc):.3e}'\n",
    "\n",
    "ax[1,0].scatter(theta_lc,sim_theta_lc,s=0.5,alpha=0.5)\n",
    "lims = list(ax[1,0].get_xlim())\n",
    "# #lims[0]-=1\n",
    "lims[1]+=0.25\n",
    "\n",
    "ax[1,0].plot(lims, lims, linestyle=':', color='k', lw=2)\n",
    "#ax[1,0].text(-0.75, 0.8,'$R^2: $'+str(Rsq_theta_sim)[0:5])\n",
    "ax[1,0].text(0.05, 0.9,'$R^2: $'+str(Rsq_theta_sim)[0:5]+'$\\pm$ '+delta_Rsq_theta_sim, fontsize=7.5, fontweight='regular',transform=ax[1,0].transAxes)\n",
    "ax[1,0].text(subpanel_letter_pos_x, subpanel_letter_pos_y, 'd',fontsize=11.5, fontweight='bold',transform=ax[1,0].transAxes)\n",
    "ax[1,0].set_ylabel('inferred parameters (${\\\\theta}$)',fontsize=7.5)\n",
    "ax[1,0].set_xlabel('true parameters (${\\\\theta}$)',fontsize=7.5)\n",
    "ax[1,0].tick_params(labelsize=7.5)\n",
    "ax[1,0].set_yticks([-2,0,2])\n",
    "ax[1,0].set_xticks([-2,0,2])\n",
    "\n",
    "for model_index in range(len(data_sizes)):\n",
    "    \n",
    "    mean = np.mean(training_times[model_index])\n",
    "    for time in training_times[model_index]:\n",
    "        #print(time)\n",
    "        ax[1,1].scatter(data_sizes[model_index],time/60,s=1,color='gray',alpha=0.5)\n",
    "        ax[1,1].scatter(data_sizes[model_index],mean/60,s=3,color='black',alpha=1)        \n",
    "\n",
    "ax[1,1].scatter([len(data_df)],[271.9/60],color='blue',s=2.5)\n",
    "ax[1,1].scatter([len(data_df)],[346.1/60],color='springgreen',s=2.5,zorder=2) # bootstrap model time\n",
    "ax[1,1].set_xscale('log')    \n",
    "ax[1,1].set_yscale('log') \n",
    "ax[1,1].text(subpanel_letter_pos_x, subpanel_letter_pos_y, 'e',fontsize=11.5, fontweight='bold',transform=ax[1,1].transAxes)\n",
    "ax[1,1].set_xlabel('dataset size',fontsize=7.5)\n",
    "ax[1,1].set_ylabel('inference time [min]',fontsize=7.5)\n",
    "ax[1,1].tick_params(labelsize=7.5)\n",
    "ax[1,1].set_xticks([1e3,1e4,1e5])\n",
    "\n",
    "for model_index in range(len(data_sizes)):\n",
    "    \n",
    "    mean = np.mean(model_Rsqs[model_index])\n",
    "    for rsq in model_Rsqs[model_index]:\n",
    "        #print(time)\n",
    "        ax[1,2].scatter(data_sizes[model_index],rsq,s=1,color='gray',alpha=0.5)\n",
    "        ax[1,2].scatter(data_sizes[model_index],mean,s=3,color='black',alpha=1)        \n",
    "\n",
    "ax[1,2].set_xscale('log')    \n",
    "#ax[1,2].set_yscale('log') \n",
    "ax[1,2].set_xlabel('dataset size',fontsize=7.5)\n",
    "ax[1,2].set_ylabel('$R^2$ (inferred $\\hat{y}$ vs. true $\\hat{y}$)',fontsize=7.5)\n",
    "ax[1,2].text(subpanel_letter_pos_x, subpanel_letter_pos_y, 'f',fontsize=11.5, fontweight='bold',transform=ax[1,2].transAxes)\n",
    "ax[1,2].tick_params(labelsize=7.5)\n",
    "ax[1,2].set_xticks([1e3,1e4,1e5])\n",
    "\n",
    "plt.tight_layout()\n",
    "fig.savefig('png/figS1_ipynb.png', dpi=300,bbox_inches='tight')"
   ]
  },
  {
   "cell_type": "code",
   "execution_count": null,
   "metadata": {
    "collapsed": true
   },
   "outputs": [],
   "source": []
  }
 ],
 "metadata": {
  "kernelspec": {
   "display_name": "Python 3",
   "language": "python",
   "name": "python3"
  },
  "language_info": {
   "codemirror_mode": {
    "name": "ipython",
    "version": 3
   },
   "file_extension": ".py",
   "mimetype": "text/x-python",
   "name": "python",
   "nbconvert_exporter": "python",
   "pygments_lexer": "ipython3",
   "version": "3.6.7"
  }
 },
 "nbformat": 4,
 "nbformat_minor": 2
}
