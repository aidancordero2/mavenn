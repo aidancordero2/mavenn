{
 "cells": [
  {
   "cell_type": "code",
   "execution_count": 1,
   "metadata": {
    "ExecuteTime": {
     "end_time": "2021-12-28T17:30:39.982611Z",
     "start_time": "2021-12-28T17:30:39.225287Z"
    },
    "scrolled": false
   },
   "outputs": [],
   "source": [
    "import pandas as pd\n",
    "import matplotlib.pyplot as plt\n",
    "import numpy as np\n",
    "import matplotlib as mpl\n",
    "import logomaker"
   ]
  },
  {
   "cell_type": "code",
   "execution_count": 2,
   "metadata": {
    "ExecuteTime": {
     "end_time": "2021-12-28T17:30:46.678375Z",
     "start_time": "2021-12-28T17:30:46.672576Z"
    }
   },
   "outputs": [],
   "source": [
    "style_file_name = 'fig6.style'\n",
    "s = \"\"\"\n",
    "axes.linewidth:     0.5     # edge linewidth\n",
    "font.size:          7.0\n",
    "axes.labelsize:     7.0  # fontsize of the x any y labels\n",
    "xtick.labelsize:    7.0  # fontsize of the tick labels\n",
    "ytick.labelsize:    7.0  # fontsize of the tick labels\n",
    "legend.fontsize:      7.0\n",
    "legend.borderpad:     0.2  # border whitespace\n",
    "legend.labelspacing:  0.2  # the vertical space between the legend entries\n",
    "legend.borderaxespad: 0.2  # the border between the axes and legend edge\n",
    "legend.framealpha:    1.0 \n",
    "\"\"\"\n",
    "with open(style_file_name, 'w') as f:\n",
    "    f.write(s)\n",
    "    \n",
    "plt.style.use(style_file_name)"
   ]
  },
  {
   "cell_type": "markdown",
   "metadata": {},
   "source": [
    "#### Load data and define helper functions required to plot GB1 heatmaps"
   ]
  },
  {
   "cell_type": "code",
   "execution_count": 5,
   "metadata": {
    "ExecuteTime": {
     "end_time": "2021-12-28T17:31:53.796012Z",
     "start_time": "2021-12-28T17:31:53.789393Z"
    }
   },
   "outputs": [],
   "source": [
    "gb1_seq = 'QYKLILNGKTLKGETTTEAVDAATAEKVFKQYANDNGVDGEWTYDDATKTFTVTE'\n",
    "alphabet = np.array(['A', 'C', 'D', 'E', 'F', 'G', 'H', 'I', 'K', 'L', 'M', 'N', 'P','Q', 'R', 'S', 'T', 'V', 'W', 'Y'])\n",
    "\n",
    "theta_folding_lc_gf = np.load('../old/GB1_emats/neg_theta_folding_gf_kcal.npy')\n",
    "theta_binding_lc_gf = np.load('../old/GB1_emats/neg_theta_binding_gf_kcal.npy')"
   ]
  },
  {
   "cell_type": "code",
   "execution_count": 6,
   "metadata": {
    "ExecuteTime": {
     "end_time": "2021-12-28T17:31:56.601821Z",
     "start_time": "2021-12-28T17:31:56.580118Z"
    },
    "code_folding": []
   },
   "outputs": [],
   "source": [
    "# Function to draw heatmap\n",
    "from matplotlib.colors import TwoSlopeNorm, Normalize\n",
    "from mpl_toolkits.axes_grid1 import make_axes_locatable\n",
    "\n",
    "def heatmap(values,\n",
    "            alphabet,\n",
    "            seq=None,\n",
    "            seq_kwargs=None,\n",
    "            ax=None,\n",
    "            show_spines=False,\n",
    "            cbar=True,\n",
    "            cax=None,\n",
    "            clim=None,\n",
    "            clim_quantile=1,\n",
    "            ccenter=None,\n",
    "            cmap='coolwarm',\n",
    "            cmap_size=\"5%\",\n",
    "            cmap_pad=0.1,\n",
    "            first_pos=1):\n",
    "    \"\"\"\n",
    "    Draw a heatmap illustrating an ``L`` x ``C`` matrix of values, where ``L`` is\n",
    "    sequence length and ``C`` is the alphabet size.\n",
    "\n",
    "    Parameters\n",
    "    ----------\n",
    "    values: (np.ndarray)\n",
    "        Array of shape ``(L,C)`` that contains values to plot.\n",
    "\n",
    "    alphabet: (str, np.ndarray)\n",
    "        Alphabet name ``'dna'``, ``'rna'``, or ``'protein'``, or 1D array\n",
    "        containing characters in the alphabet.\n",
    "\n",
    "    seq: (str, None)\n",
    "        The sequence to show, if any, using dots plotted on top of the heatmap.\n",
    "        Must have length ``L`` and be comprised of characters in ``alphabet``.\n",
    "\n",
    "    seq_kwargs: (dict)\n",
    "        Arguments to pass to ``Axes.scatter()`` when drawing dots to illustrate\n",
    "        the characters in ``seq``.\n",
    "\n",
    "    ax: (matplotlib.axes.Axes)\n",
    "        The ``Axes`` object on which the heatmap will be drawn.\n",
    "        If ``None``, one will be created. If specified, ``cbar=True``,\n",
    "        and ``cax=None``, ``ax`` will be split in two to make room for a\n",
    "        colorbar.\n",
    "\n",
    "    show_spines: (bool)\n",
    "        Whether to show spines around the edges of the heatmap.\n",
    "\n",
    "    cbar: (bool)\n",
    "        Whether to draw a colorbar next to the heatmap.\n",
    "\n",
    "    cax: (matplotlib.axes.Axes, None)\n",
    "        The ``Axes`` object on which the colorbar will be drawn,\n",
    "        if requested. If ``None``, one will be created by splitting\n",
    "        ``ax`` in two according to ``cmap_size`` and ``cmap_pad``.\n",
    "\n",
    "    clim: (list, None)\n",
    "        List of the form ``[cmin, cmax]``, specifying the maximum ``cmax``\n",
    "        and minimum ``cmin`` values spanned by the colormap. Overrides\n",
    "        ``clim_quantile``.\n",
    "\n",
    "    clim_quantile: (float)\n",
    "        Must be a float in the range [0,1]. ``clim`` will be automatically\n",
    "        chosen to include this central quantile of values.\n",
    "\n",
    "    ccenter: (float)\n",
    "        Value at which to position the center of a diverging\n",
    "        colormap. Setting ``ccenter=0`` often makes sense.\n",
    "\n",
    "    cmap: (str, matplotlib.colors.Colormap)\n",
    "        Colormap to use.\n",
    "\n",
    "    cmap_size: (str)\n",
    "        Fraction of ``ax`` width to be used for the colorbar. For formatting\n",
    "        requirements, see the documentation for\n",
    "        ``mpl_toolkits.axes_grid1.make_axes_locatable()``.\n",
    "\n",
    "    cmap_pad: (float)\n",
    "        Space between colorbar and the shrunken heatmap ``Axes``. For formatting\n",
    "        requirements, see the documentation for\n",
    "        ``mpl_toolkits.axes_grid1.make_axes_locatable()``.\n",
    "        \n",
    "    first_pos: (int)\n",
    "        Value of first position. \n",
    "\n",
    "    Returns\n",
    "    -------\n",
    "    ax: (matplotlib.axes.Axes)\n",
    "        ``Axes`` object containing the heatmap.\n",
    "\n",
    "    cb: (matplotlib.colorbar.Colorbar, None)\n",
    "        Colorbar object linked to ``ax``, or ``None`` if no colorbar was drawn.\n",
    "    \"\"\"\n",
    "    #alphabet = validate_alphabet(alphabet)\n",
    "    L, C = values.shape\n",
    "\n",
    "    # Set extent\n",
    "    #xlim = [-.5, L - .5]\n",
    "    xlim = [first_pos - .5, L + first_pos - .5]\n",
    "    ylim = [-.5, C - .5]\n",
    "\n",
    "    # If wt_seq is set, validate it.\n",
    "    #if seq:\n",
    "    #    seq = validate_seqs(seq, alphabet)\n",
    "\n",
    "    # Set color lims to central 95% quantile\n",
    "    if clim is None:\n",
    "        vals = values.ravel()\n",
    "        vals = vals[np.isfinite(vals)]\n",
    "        clim = np.quantile(vals, q=[(1 - clim_quantile) / 2,\n",
    "                                    1 - (1 - clim_quantile) / 2])\n",
    "\n",
    "    # Create axis if none already exists\n",
    "    if ax is None:\n",
    "        fig, ax = plt.subplots()\n",
    "    else:\n",
    "        fig = ax.figure\n",
    "\n",
    "    # Needed to center colormap at zero\n",
    "    if ccenter is not None:\n",
    "\n",
    "        # Reset ccenter if is not compatible with clim\n",
    "        if (clim[0] > ccenter) or (clim[1] < ccenter):\n",
    "            ccenter = 0.5 * (clim[0] + clim[1])\n",
    "\n",
    "        norm = TwoSlopeNorm(vmin=clim[0], vcenter=ccenter, vmax=clim[1])\n",
    "\n",
    "    # Otherwise, use uncentered colormap\n",
    "    else:\n",
    "        norm = Normalize(vmin=clim[0], vmax=clim[1])\n",
    "\n",
    "    # Plot heatmap\n",
    "    #x_edges = np.arange(L + 1) - .5\n",
    "    x_edges = np.arange(L + 1) + first_pos - 0.5\n",
    "    y_edges = np.arange(C + 1) - .5\n",
    "    im = ax.pcolormesh(x_edges,\n",
    "                       y_edges,\n",
    "                       values.T,\n",
    "                       shading='flat',\n",
    "                       cmap=cmap,\n",
    "                       clim=clim,\n",
    "                       norm=norm)\n",
    "\n",
    "    # Mark wt sequence\n",
    "    _ = np.newaxis\n",
    "    if seq:\n",
    "        \n",
    "        seq = [seq]\n",
    "        # Set marker style\n",
    "        if seq_kwargs is None:\n",
    "            seq_kwargs = {'marker': '.', 'color': 'k', 's': 2}\n",
    "\n",
    "        # Get xy coords to plot\n",
    "        seq_arr = np.array(list(seq[0]))\n",
    "        xy = np.argwhere(seq_arr[:, _] == alphabet[_, :])\n",
    "\n",
    "        # Mark sequence\n",
    "        ax.scatter(xy[:, 0] + first_pos, xy[:, 1], **seq_kwargs)\n",
    "        #pdb.set_trace()\n",
    "\n",
    "    # Style plot\n",
    "    ax.set_ylim(ylim)\n",
    "    ax.set_xlim(xlim)\n",
    "    ax.set_yticks(range(C))\n",
    "    ax.set_yticklabels(alphabet, ha='center')\n",
    "    ax.invert_yaxis()\n",
    "\n",
    "    if not show_spines:\n",
    "        for loc, spine in ax.spines.items():\n",
    "            spine.set_visible(False)\n",
    "\n",
    "    # Create colorbar if requested, make one\n",
    "    if cbar:\n",
    "        if cax is None:\n",
    "            cax = make_axes_locatable(ax).new_horizontal(size=cmap_size,\n",
    "                                                         pad=cmap_pad)\n",
    "            fig.add_axes(cax)\n",
    "        cb = plt.colorbar(im, cax=cax)\n",
    "\n",
    "        # Otherwise, return None for cb\n",
    "    else:\n",
    "        cb = None\n",
    "\n",
    "    return ax, cb"
   ]
  },
  {
   "cell_type": "markdown",
   "metadata": {},
   "source": [
    "# Draw panel b (GB1 energy matrices)"
   ]
  },
  {
   "cell_type": "code",
   "execution_count": 7,
   "metadata": {
    "ExecuteTime": {
     "end_time": "2021-12-28T17:31:58.148994Z",
     "start_time": "2021-12-28T17:31:58.140231Z"
    },
    "code_folding": [
     0
    ]
   },
   "outputs": [
    {
     "data": {
      "text/plain": [
       "array(['E', 'D', 'R', 'K', 'H', 'Q', 'N', 'S', 'T', 'P', 'G', 'C', 'A',\n",
       "       'V', 'I', 'L', 'M', 'F', 'Y', 'W'], dtype='<U1')"
      ]
     },
     "execution_count": 7,
     "metadata": {},
     "output_type": "execute_result"
    }
   ],
   "source": [
    "# Get indices for aa order used in Olson et al.\n",
    "ordered_aa = np.array(list('EDRKHQNSTPGCAVILMFYW'))\n",
    "ix = ordered_aa.argsort()\n",
    "sorted_aa = ordered_aa[ix]\n",
    "ixx = ix.argsort()\n",
    "sorted_aa[ixx]"
   ]
  },
  {
   "cell_type": "code",
   "execution_count": 9,
   "metadata": {
    "ExecuteTime": {
     "end_time": "2021-12-28T17:32:15.482059Z",
     "start_time": "2021-12-28T17:32:15.215197Z"
    },
    "code_folding": []
   },
   "outputs": [
    {
     "data": {
      "image/png": "[encoded data removed]",
      "text/plain": [
       "<Figure size 345.6x144 with 3 Axes>"
      ]
     },
     "metadata": {
      "needs_background": "light"
     },
     "output_type": "display_data"
    }
   ],
   "source": [
    "## heatmaps\n",
    "\n",
    "# Create two panels\n",
    "fig, axs = plt.subplots(1, 2, figsize=[4.8,2.0])\n",
    "fontsize=8.0\n",
    "\n",
    "# Left panel: draw heatmap illustrating 1pt mutation effects\n",
    "ax = axs[0]\n",
    "ax, cb = heatmap(-theta_binding_lc_gf[:,ixx],\n",
    "                    alphabet=alphabet[ixx],\n",
    "                    seq=gb1_seq,\n",
    "                    clim=[-3,3],\n",
    "                    cbar=False,\n",
    "                    seq_kwargs={'s':1,'c':'black'},\n",
    "                    cmap='PiYG',\n",
    "                    ccenter=0,\n",
    "                    ax=ax,\n",
    "                    first_pos=2)\n",
    "ax.tick_params(labelsize=5, rotation=0, axis='y', length=0, pad=5)\n",
    "ax.tick_params(rotation=0, axis='x')\n",
    "ax.set_xticks(range(10,60,10))\n",
    "\n",
    "#ax.set_xlabel('position',fontsize=fontsize)\n",
    "ax.set_ylabel('amino acid',fontsize=fontsize,labelpad=3)\n",
    "#cb.set_label('-$\\Delta\\Delta G$', rotation=-90, va=\"bottom\",fontsize=fontsize)\n",
    "ax.set_title('binding energy ($\\Delta G_\\mathrm{B}$)',fontsize=fontsize)\n",
    "\n",
    "\n",
    "ax = axs[1]\n",
    "# Left panel: draw heatmap illustrating 1pt mutation effects\n",
    "ax, cb1 = heatmap(-theta_folding_lc_gf,\n",
    "                        alphabet=alphabet,\n",
    "                        seq=gb1_seq,\n",
    "                        clim=[-3,3],\n",
    "                        cmap='PiYG',\n",
    "                        seq_kwargs={'s':1,'c':'black'},                         \n",
    "                        ccenter=0,\n",
    "                        ax=ax,\n",
    "                        first_pos=2)\n",
    "#ax.set_xlabel('position',fontsize=fontsize)\n",
    "#ax.set_ylabel('amino acid ($c$)',fontsize=fontsize)\n",
    "cb1.set_label('$\\Delta\\Delta G$ (kcal/mol)', rotation=90, fontsize=fontsize, labelpad=0)\n",
    "cb1.set_ticks([-3, -2, -1, 0, 1, 2, 3])\n",
    "cb1.outline.set_visible(False)\n",
    "cb1.ax.tick_params(direction='in', size=10, color='white')\n",
    "ax.set_title('   folding energy ($\\Delta G_\\mathrm{F}$)',fontsize=fontsize)\n",
    "ax.tick_params(labelsize=5, rotation=0, axis='y')\n",
    "ax.set_yticks([])\n",
    "ax.tick_params(rotation=0, axis='x')\n",
    "ax.set_xticks(range(10,60,10))\n",
    "\n",
    "#fig.subplots_adjust(left=3, bottom=1, right=5, top=2, wspace=5, hspace=None)\n",
    "# Fix up plot\n",
    "fig.tight_layout(h_pad=1,w_pad=2)\n",
    "fig.savefig('png/panel_b.png', bbox_inches='tight', dpi=300, facecolor='white')\n",
    "plt.show()"
   ]
  },
  {
   "cell_type": "markdown",
   "metadata": {},
   "source": [
    "#### Load xylE data"
   ]
  },
  {
   "cell_type": "code",
   "execution_count": 10,
   "metadata": {
    "ExecuteTime": {
     "end_time": "2021-12-28T17:32:19.921964Z",
     "start_time": "2021-12-28T17:32:19.917210Z"
    }
   },
   "outputs": [],
   "source": [
    "style_file_name = 'fig6.style'\n",
    "s = \"\"\"\n",
    "axes.linewidth:     0.5     # edge linewidth\n",
    "font.size:          7.0\n",
    "axes.labelsize:     7.0  # fontsize of the x any y labels\n",
    "axes.titlesize:     7.0\n",
    "xtick.labelsize:    7.0  # fontsize of the tick labels\n",
    "ytick.labelsize:    7.0  # fontsize of the tick labels\n",
    "legend.fontsize:      8.0\n",
    "legend.borderpad:     0.2  # border whitespace\n",
    "legend.labelspacing:  0.2  # the vertical space between the legend entries\n",
    "legend.borderaxespad: 0.2  # the border between the axes and legend edge\n",
    "legend.framealpha:    1.0 \n",
    "\"\"\"\n",
    "with open(style_file_name, 'w') as f:\n",
    "    f.write(s)\n",
    "    \n",
    "plt.style.use(style_file_name)"
   ]
  },
  {
   "cell_type": "code",
   "execution_count": 11,
   "metadata": {
    "ExecuteTime": {
     "end_time": "2021-12-28T17:32:21.753026Z",
     "start_time": "2021-12-28T17:32:21.745154Z"
    }
   },
   "outputs": [],
   "source": [
    "# Function to draw logos\n",
    "def draw_logo(ax, df, ylim=[-1,1], highlight_color='#9981B3', highlight_alpha=0.1):\n",
    "    xmin = int(df.index.min())\n",
    "    xmax = int(df.index.max())\n",
    "    xlim = [xmin-.5, xmax+.5]\n",
    "    logo = logomaker.Logo(-0.62*df, ax=ax, center_values=True, font_name='Arial Rounded MT Bold')\n",
    "    ax.set_ylim(ylim)\n",
    "    ax.set_yticks([ylim[0], 0, ylim[1]])\n",
    "    logo.style_xticks(anchor=0, spacing=10)\n",
    "    logo.style_spines(visible=False)\n",
    "    logo.highlight_position_range(xmin, xmax, alpha=highlight_alpha, color=highlight_color)  \n",
    "    ax.set_ylabel('$-\\Delta \\Delta G$ (kcal/mol)', labelpad=-1)\n",
    "    return logo\n"
   ]
  },
  {
   "cell_type": "code",
   "execution_count": 12,
   "metadata": {
    "ExecuteTime": {
     "end_time": "2021-12-28T17:32:39.309227Z",
     "start_time": "2021-12-28T17:32:35.873543Z"
    }
   },
   "outputs": [
    {
     "data": {
      "image/png": "[encoded data removed]",
      "text/plain": [
       "<Figure size 342x180 with 4 Axes>"
      ]
     },
     "metadata": {
      "needs_background": "light"
     },
     "output_type": "display_data"
    }
   ],
   "source": [
    "###\n",
    "### Panel i\n",
    "###\n",
    "\n",
    "fig, axs = plt.subplots(2,2,figsize=[4.75,2.5])\n",
    "\n",
    "# CRP logo\n",
    "ax=axs[0,0]\n",
    "xylE_crp_df = pd.read_csv('../old/xylE_emats/crp_df_x.csv',index_col=[0])\n",
    "xylE_crp_logo = draw_logo(ax=ax, df=xylE_crp_df, highlight_color='#9981B3', highlight_alpha=0.1)\n",
    "ax.set_title(\"CRP-DNA\", fontsize=8)\n",
    "\n",
    "# RNAP logo\n",
    "ax=axs[0,1]\n",
    "xylE_rnap_df = pd.read_csv('../old/xylE_emats/rnap_df_x.csv',index_col=[0])\n",
    "xylE_rnap_logo = draw_logo(ax=ax, df=xylE_rnap_df, highlight_color='lightcyan', highlight_alpha=0.7)\n",
    "ax.set_title(\"RNAP-DNA\", fontsize=8)\n",
    "\n",
    "# XylR logo\n",
    "ax=axs[1,0]\n",
    "xylE_xylR_df = pd.read_csv('../old/xylE_emats/xylR_df.csv',index_col=[0])\n",
    "xylE_xylR_df = draw_logo(ax=ax, df=xylE_xylR_df, highlight_color='#b6cc34', highlight_alpha=0.1)\n",
    "ax.set_title(\"XylR-DNA\", fontsize=8)\n",
    "\n",
    "# Adjust figure\n",
    "axs[1,1].axis('off')\n",
    "fig.tight_layout(w_pad=2, h_pad=1)\n",
    "\n",
    "# Save and show figure\n",
    "fig.savefig('png/panel_g.png',dpi=300, facecolor='white')\n",
    "plt.show()"
   ]
  },
  {
   "cell_type": "code",
   "execution_count": 13,
   "metadata": {
    "ExecuteTime": {
     "end_time": "2021-12-28T17:32:43.783261Z",
     "start_time": "2021-12-28T17:32:43.761171Z"
    }
   },
   "outputs": [
    {
     "name": "stdout",
     "output_type": "stream",
     "text": [
      "26\n"
     ]
    },
    {
     "data": {
      "text/html": [
       "<div>\n",
       "<style scoped>\n",
       "    .dataframe tbody tr th:only-of-type {\n",
       "        vertical-align: middle;\n",
       "    }\n",
       "\n",
       "    .dataframe tbody tr th {\n",
       "        vertical-align: top;\n",
       "    }\n",
       "\n",
       "    .dataframe thead th {\n",
       "        text-align: right;\n",
       "    }\n",
       "</style>\n",
       "<table border=\"1\" class=\"dataframe\">\n",
       "  <thead>\n",
       "    <tr style=\"text-align: right;\">\n",
       "      <th></th>\n",
       "      <th>A</th>\n",
       "      <th>C</th>\n",
       "      <th>G</th>\n",
       "      <th>T</th>\n",
       "    </tr>\n",
       "  </thead>\n",
       "  <tbody>\n",
       "    <tr>\n",
       "      <th>-74</th>\n",
       "      <td>-0.025452</td>\n",
       "      <td>-0.418974</td>\n",
       "      <td>-0.424680</td>\n",
       "      <td>-0.163769</td>\n",
       "    </tr>\n",
       "    <tr>\n",
       "      <th>-73</th>\n",
       "      <td>0.149639</td>\n",
       "      <td>-0.626404</td>\n",
       "      <td>-0.410417</td>\n",
       "      <td>-0.152081</td>\n",
       "    </tr>\n",
       "    <tr>\n",
       "      <th>-72</th>\n",
       "      <td>0.084692</td>\n",
       "      <td>-0.672206</td>\n",
       "      <td>-0.483802</td>\n",
       "      <td>0.040955</td>\n",
       "    </tr>\n",
       "    <tr>\n",
       "      <th>-71</th>\n",
       "      <td>0.086436</td>\n",
       "      <td>-0.647273</td>\n",
       "      <td>-0.697609</td>\n",
       "      <td>0.235782</td>\n",
       "    </tr>\n",
       "    <tr>\n",
       "      <th>-70</th>\n",
       "      <td>-0.183843</td>\n",
       "      <td>-0.471936</td>\n",
       "      <td>-0.301144</td>\n",
       "      <td>-0.074583</td>\n",
       "    </tr>\n",
       "    <tr>\n",
       "      <th>-69</th>\n",
       "      <td>-0.588518</td>\n",
       "      <td>-0.160174</td>\n",
       "      <td>-0.774618</td>\n",
       "      <td>0.474204</td>\n",
       "    </tr>\n",
       "    <tr>\n",
       "      <th>-68</th>\n",
       "      <td>-0.622455</td>\n",
       "      <td>-0.769516</td>\n",
       "      <td>0.823621</td>\n",
       "      <td>-0.481826</td>\n",
       "    </tr>\n",
       "    <tr>\n",
       "      <th>-67</th>\n",
       "      <td>-0.263655</td>\n",
       "      <td>-0.533477</td>\n",
       "      <td>-0.642228</td>\n",
       "      <td>0.403680</td>\n",
       "    </tr>\n",
       "    <tr>\n",
       "      <th>-66</th>\n",
       "      <td>-0.676017</td>\n",
       "      <td>-0.898767</td>\n",
       "      <td>0.987678</td>\n",
       "      <td>-0.460553</td>\n",
       "    </tr>\n",
       "    <tr>\n",
       "      <th>-65</th>\n",
       "      <td>0.534701</td>\n",
       "      <td>-0.193370</td>\n",
       "      <td>-0.669382</td>\n",
       "      <td>-0.706789</td>\n",
       "    </tr>\n",
       "    <tr>\n",
       "      <th>-64</th>\n",
       "      <td>-0.613160</td>\n",
       "      <td>0.014642</td>\n",
       "      <td>-0.388420</td>\n",
       "      <td>-0.047438</td>\n",
       "    </tr>\n",
       "    <tr>\n",
       "      <th>-63</th>\n",
       "      <td>-0.392092</td>\n",
       "      <td>0.038684</td>\n",
       "      <td>-0.220428</td>\n",
       "      <td>-0.454069</td>\n",
       "    </tr>\n",
       "    <tr>\n",
       "      <th>-62</th>\n",
       "      <td>-0.458768</td>\n",
       "      <td>-0.147731</td>\n",
       "      <td>-0.365430</td>\n",
       "      <td>-0.050380</td>\n",
       "    </tr>\n",
       "    <tr>\n",
       "      <th>-61</th>\n",
       "      <td>-0.061512</td>\n",
       "      <td>-0.374881</td>\n",
       "      <td>-0.154380</td>\n",
       "      <td>-0.424578</td>\n",
       "    </tr>\n",
       "    <tr>\n",
       "      <th>-60</th>\n",
       "      <td>-0.453466</td>\n",
       "      <td>-0.223108</td>\n",
       "      <td>-0.023694</td>\n",
       "      <td>-0.331549</td>\n",
       "    </tr>\n",
       "    <tr>\n",
       "      <th>-59</th>\n",
       "      <td>0.164915</td>\n",
       "      <td>-0.398503</td>\n",
       "      <td>-0.288916</td>\n",
       "      <td>-0.500378</td>\n",
       "    </tr>\n",
       "    <tr>\n",
       "      <th>-58</th>\n",
       "      <td>-0.737936</td>\n",
       "      <td>-0.651560</td>\n",
       "      <td>-0.293195</td>\n",
       "      <td>0.636034</td>\n",
       "    </tr>\n",
       "    <tr>\n",
       "      <th>-57</th>\n",
       "      <td>-0.549156</td>\n",
       "      <td>0.926500</td>\n",
       "      <td>-0.768273</td>\n",
       "      <td>-0.667758</td>\n",
       "    </tr>\n",
       "    <tr>\n",
       "      <th>-56</th>\n",
       "      <td>0.507500</td>\n",
       "      <td>-0.682780</td>\n",
       "      <td>-0.487866</td>\n",
       "      <td>-0.377539</td>\n",
       "    </tr>\n",
       "    <tr>\n",
       "      <th>-55</th>\n",
       "      <td>-0.175387</td>\n",
       "      <td>0.610186</td>\n",
       "      <td>-0.928359</td>\n",
       "      <td>-0.542338</td>\n",
       "    </tr>\n",
       "    <tr>\n",
       "      <th>-54</th>\n",
       "      <td>0.704380</td>\n",
       "      <td>-0.890691</td>\n",
       "      <td>0.000260</td>\n",
       "      <td>-0.847979</td>\n",
       "    </tr>\n",
       "    <tr>\n",
       "      <th>-53</th>\n",
       "      <td>0.027904</td>\n",
       "      <td>-0.570685</td>\n",
       "      <td>-0.263117</td>\n",
       "      <td>-0.218793</td>\n",
       "    </tr>\n",
       "    <tr>\n",
       "      <th>-52</th>\n",
       "      <td>-0.203848</td>\n",
       "      <td>-0.473690</td>\n",
       "      <td>-0.829348</td>\n",
       "      <td>0.477570</td>\n",
       "    </tr>\n",
       "    <tr>\n",
       "      <th>-51</th>\n",
       "      <td>-0.014172</td>\n",
       "      <td>-0.474647</td>\n",
       "      <td>-0.590480</td>\n",
       "      <td>0.038881</td>\n",
       "    </tr>\n",
       "    <tr>\n",
       "      <th>-50</th>\n",
       "      <td>-0.457006</td>\n",
       "      <td>-0.154946</td>\n",
       "      <td>-0.622717</td>\n",
       "      <td>0.216316</td>\n",
       "    </tr>\n",
       "    <tr>\n",
       "      <th>-49</th>\n",
       "      <td>-0.484605</td>\n",
       "      <td>-0.292134</td>\n",
       "      <td>-0.323142</td>\n",
       "      <td>0.071407</td>\n",
       "    </tr>\n",
       "  </tbody>\n",
       "</table>\n",
       "</div>"
      ],
      "text/plain": [
       "            A         C         G         T\n",
       "-74 -0.025452 -0.418974 -0.424680 -0.163769\n",
       "-73  0.149639 -0.626404 -0.410417 -0.152081\n",
       "-72  0.084692 -0.672206 -0.483802  0.040955\n",
       "-71  0.086436 -0.647273 -0.697609  0.235782\n",
       "-70 -0.183843 -0.471936 -0.301144 -0.074583\n",
       "-69 -0.588518 -0.160174 -0.774618  0.474204\n",
       "-68 -0.622455 -0.769516  0.823621 -0.481826\n",
       "-67 -0.263655 -0.533477 -0.642228  0.403680\n",
       "-66 -0.676017 -0.898767  0.987678 -0.460553\n",
       "-65  0.534701 -0.193370 -0.669382 -0.706789\n",
       "-64 -0.613160  0.014642 -0.388420 -0.047438\n",
       "-63 -0.392092  0.038684 -0.220428 -0.454069\n",
       "-62 -0.458768 -0.147731 -0.365430 -0.050380\n",
       "-61 -0.061512 -0.374881 -0.154380 -0.424578\n",
       "-60 -0.453466 -0.223108 -0.023694 -0.331549\n",
       "-59  0.164915 -0.398503 -0.288916 -0.500378\n",
       "-58 -0.737936 -0.651560 -0.293195  0.636034\n",
       "-57 -0.549156  0.926500 -0.768273 -0.667758\n",
       "-56  0.507500 -0.682780 -0.487866 -0.377539\n",
       "-55 -0.175387  0.610186 -0.928359 -0.542338\n",
       "-54  0.704380 -0.890691  0.000260 -0.847979\n",
       "-53  0.027904 -0.570685 -0.263117 -0.218793\n",
       "-52 -0.203848 -0.473690 -0.829348  0.477570\n",
       "-51 -0.014172 -0.474647 -0.590480  0.038881\n",
       "-50 -0.457006 -0.154946 -0.622717  0.216316\n",
       "-49 -0.484605 -0.292134 -0.323142  0.071407"
      ]
     },
     "execution_count": 13,
     "metadata": {},
     "output_type": "execute_result"
    }
   ],
   "source": [
    "lac_crp_df = pd.read_csv('../old/lac_emats/crp_df_ss.csv',index_col=[0])\n",
    "lac_crp_df.index = lac_crp_df.index - 74\n",
    "print(len(lac_crp_df))\n",
    "lac_crp_df"
   ]
  },
  {
   "cell_type": "code",
   "execution_count": 14,
   "metadata": {
    "ExecuteTime": {
     "end_time": "2021-12-28T17:33:00.278846Z",
     "start_time": "2021-12-28T17:32:57.484111Z"
    }
   },
   "outputs": [
    {
     "data": {
      "image/png": "[encoded data removed]",
      "text/plain": [
       "<Figure size 162x162 with 2 Axes>"
      ]
     },
     "metadata": {
      "needs_background": "light"
     },
     "output_type": "display_data"
    }
   ],
   "source": [
    "###\n",
    "### Panel f\n",
    "###\n",
    "\n",
    "fig, axs = plt.subplots(2,1,figsize=[2.25,2.25])\n",
    "\n",
    "# CRP logo\n",
    "ax = axs[0]\n",
    "lac_crp_df = pd.read_csv('../old/lac_emats/crp_df_ss.csv',index_col=[0])\n",
    "lac_crp_df.index = lac_crp_df.index - 74\n",
    "lac_crp_logo = draw_logo(ax=ax, df=-lac_crp_df, highlight_color='#9981B3', highlight_alpha=0.1)\n",
    "ax.set_title(\"CRP-DNA ($\\Delta G_\\mathrm{C}$)\", fontsize=8)\n",
    "\n",
    "# RNAP logo\n",
    "ax = axs[1]\n",
    "lac_rnap_df = pd.read_csv('../old/lac_emats/rnap_df_ss.csv',index_col=[0])\n",
    "lac_rnap_logo = draw_logo(ax=ax, df=-lac_rnap_df, highlight_color='lightcyan', highlight_alpha=0.7)\n",
    "ax.set_title(\"RNAP-DNA ($\\Delta G_\\mathrm{R}$)\", fontsize=8)\n",
    "\n",
    "# Save and show figure\n",
    "fig.tight_layout(h_pad=1)\n",
    "fig.savefig('png/panel_e.png',dpi=300, facecolor='white')\n",
    "plt.show()"
   ]
  },
  {
   "cell_type": "code",
   "execution_count": 15,
   "metadata": {
    "ExecuteTime": {
     "end_time": "2021-12-28T17:33:09.849423Z",
     "start_time": "2021-12-28T17:33:09.662498Z"
    }
   },
   "outputs": [
    {
     "data": {
      "image/png": "[encoded data removed]",
      "text/plain": [
       "<Figure size 180x201.6 with 2 Axes>"
      ]
     },
     "metadata": {
      "needs_background": "light"
     },
     "output_type": "display_data"
    }
   ],
   "source": [
    "###\n",
    "### Panel e\n",
    "###\n",
    "\n",
    "fig, ax = plt.subplots(figsize=(2.5,2.8))\n",
    "\n",
    "# Define helper variables\n",
    "phi_lim = [-5, 4]\n",
    "phi_grid = np.linspace(phi_lim[0], phi_lim[1], 1000)\n",
    "\n",
    "# Create array of allowable y values\n",
    "Y = 10\n",
    "y_lim = [-.5, Y-.5]\n",
    "y_all = range(Y)\n",
    "\n",
    "# Load measurement process\n",
    "measurement_process_ss = np.load('../old/lac_emats/measurement_process_ss.npy')\n",
    "\n",
    "# Plot measurement process\n",
    "tick_spacing=10\n",
    "fontsize = 8\n",
    "im = ax.imshow(measurement_process_ss,\n",
    "               cmap='Greens',\n",
    "               extent=phi_lim+y_lim,\n",
    "               vmin=0,\n",
    "               vmax=1.0,\n",
    "               origin='lower',\n",
    "               interpolation='nearest',)\n",
    "ax.set_yticks(y_all)\n",
    "ax.set_ylabel('measurement ($y$)',fontsize=fontsize)\n",
    "ax.set_xlabel('latent phenotype ($\\phi$)',fontsize=fontsize,labelpad=-1)\n",
    "ax.set_xticks([-4, -2,  0, 2, 4])\n",
    "cb = plt.colorbar(im, **{'format': '%0.1f','ticks': [0, 1],}, ax=ax)\n",
    "cb.ax.tick_params(labelsize=7.5)\n",
    "ax.set_aspect('auto')\n",
    "cb.set_label('$p(y|\\phi)$', rotation=-90, va=\"bottom\", fontsize=fontsize, labelpad=-15)\n",
    "cb.ax.tick_params(labelsize=fontsize)\n",
    "ax.tick_params(labelsize=fontsize)\n",
    "\n",
    "fig.tight_layout()\n",
    "fig.savefig('png/panel_d.png',dpi=300, facecolor='white')"
   ]
  },
  {
   "cell_type": "code",
   "execution_count": null,
   "metadata": {},
   "outputs": [],
   "source": []
  }
 ],
 "metadata": {
  "kernelspec": {
   "display_name": "Python 3",
   "language": "python",
   "name": "python3"
  },
  "language_info": {
   "codemirror_mode": {
    "name": "ipython",
    "version": 3
   },
   "file_extension": ".py",
   "mimetype": "text/x-python",
   "name": "python",
   "nbconvert_exporter": "python",
   "pygments_lexer": "ipython3",
   "version": "3.9.2"
  },
  "toc": {
   "base_numbering": 1,
   "nav_menu": {},
   "number_sections": true,
   "sideBar": true,
   "skip_h1_title": false,
   "title_cell": "Table of Contents",
   "title_sidebar": "Contents",
   "toc_cell": false,
   "toc_position": {},
   "toc_section_display": true,
   "toc_window_display": false
  },
  "varInspector": {
   "cols": {
    "lenName": 16,
    "lenType": 16,
    "lenVar": 40
   },
   "kernels_config": {
    "python": {
     "delete_cmd_postfix": "",
     "delete_cmd_prefix": "del ",
     "library": "var_list.py",
     "varRefreshCmd": "print(var_dic_list())"
    },
    "r": {
     "delete_cmd_postfix": ") ",
     "delete_cmd_prefix": "rm(",
     "library": "var_list.r",
     "varRefreshCmd": "cat(var_dic_list()) "
    }
   },
   "position": {
    "height": "458px",
    "left": "953px",
    "right": "20px",
    "top": "120px",
    "width": "307px"
   },
   "types_to_exclude": [
    "module",
    "function",
    "builtin_function_or_method",
    "instance",
    "_Feature"
   ],
   "window_display": false
  }
 },
 "nbformat": 4,
 "nbformat_minor": 2
}
