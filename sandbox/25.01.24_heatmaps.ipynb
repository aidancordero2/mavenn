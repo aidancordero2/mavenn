{
 "cells": [
  {
   "cell_type": "code",
   "execution_count": 1,
   "metadata": {},
   "outputs": [],
   "source": [
    "import numpy as np\n",
    "import pandas as pd\n",
    "import sys  \n",
    "sys.path.append('/Users/jkinney/github/mavenn')\n",
    "import mavenn"
   ]
  },
  {
   "cell_type": "code",
   "execution_count": 2,
   "metadata": {},
   "outputs": [],
   "source": [
    "df = pd.DataFrame(columns=['x', 'y', 'z'], data=np.random.rand(10, 3))"
   ]
  },
  {
   "cell_type": "code",
   "execution_count": 6,
   "metadata": {},
   "outputs": [
    {
     "name": "stdout",
     "output_type": "stream",
     "text": [
      "test_heatmap: test 1\n",
      "Testing heatmap() parameter df ...\n",
      "Test # 72: Expected error: values must be provided if df is not provided\n",
      "Test # 73: Expected error: df must be a pandas DataFrame\n",
      "Test # 74: Expected error: df must be a pandas DataFrame\n",
      "Test # 75: Expected success.\n",
      "Tests passed: 76. Tests failed: 0.\n",
      "\n",
      "test_heatmap: test 2\n",
      "Testing heatmap() parameter df ...\n",
      "Test # 76: Expected error: values must be None if df is provided\n",
      "Test # 77: Expected error: df must be a pandas DataFrame\n",
      "Test # 78: Expected error: df must be a pandas DataFrame\n",
      "Test # 79: Expected success.\n",
      "Tests passed: 80. Tests failed: 0.\n",
      "\n",
      "test_heatmap: test 3\n",
      "Testing heatmap() parameter df ...\n",
      "Test # 80: Expected error: alphabet must be provided if df is not provided\n",
      "Test # 81: Expected error: values must be None if df is provided\n",
      "Test # 82: Expected error: df must be a pandas DataFrame\n",
      "Test # 83: Expected error: df must be a pandas DataFrame\n",
      "Tests passed: 84. Tests failed: 0.\n",
      "\n",
      "test_heatmap: test 4\n",
      "Testing heatmap() parameter df ...\n",
      "Test # 84: Expected error: values must be provided if df is not provided\n",
      "Test # 85: Expected error: alphabet must be None if df is provided\n",
      "Test # 86: Expected error: df must be a pandas DataFrame\n",
      "Test # 87: Expected error: df must be a pandas DataFrame\n",
      "Tests passed: 88. Tests failed: 0.\n",
      "\n",
      "test_heatmap: test 5\n",
      "Testing heatmap() parameter values ...\n",
      "Test # 88: Expected error: values must be provided if df is not provided\n",
      "Test # 89: Expected error: values=1 must be a 2D numpy array\n",
      "Test # 90: Expected error: values=hi must be a 2D numpy array\n",
      "Test # 91: Expected error: len(alphabet)=4 does not match C=3\n",
      "Test # 92: Expected success.\n",
      "Test # 93: Expected success.\n",
      "Tests passed: 94. Tests failed: 0.\n",
      "\n",
      "test_heatmap: test 6\n",
      "Testing heatmap() parameter alphabet ...\n",
      "Test # 94: Expected error: alphabet must be provided if df is not provided\n",
      "Test # 95: Expected error: type(alphabet)=<class 'int'> is invalid. Must be one of (<class 'str'>, <class 'list'>, <class 'set'>, <class 'numpy.ndarray'>, <class 'pandas.core.series.Series'>, <class 'pandas.core.indexes.base.Index'>).\n",
      "Test # 96: Expected error: Unknown alphabet=hi. Must be one of [dict_keys(['dna', 'rna', 'protein', 'protein*'])].\n",
      "Test # 97: Expected success.\n",
      "Test # 98: Expected success.\n",
      "Test # 99: Expected success.\n",
      "Tests passed: 100. Tests failed: 0.\n",
      "\n"
     ]
    }
   ],
   "source": [
    "from mavenn.tests.testing_utils import test_parameter_values\n",
    "import inspect\n",
    "\n",
    "def test_heatmap():\n",
    "    \"\"\"\n",
    "    Test the mavenn.heatmap function with different parameter values.\n",
    "    \"\"\"\n",
    "    df = pd.DataFrame(columns=['x', 'y', 'z', 'q'], data=np.random.rand(10, 4))\n",
    "    values = df.values\n",
    "    alphabet = df.columns\n",
    "    function_name = inspect.currentframe().f_code.co_name\n",
    "\n",
    "    # Test df\n",
    "    print(f'{function_name}: test 1')\n",
    "    test_parameter_values(mavenn.heatmap, var_name='df', success_list=[df], fail_list=[None, 1, 'hi'], values=None, alphabet=None)\n",
    "    print(f'{function_name}: test 2')\n",
    "    test_parameter_values(mavenn.heatmap, var_name='df', success_list=[None], fail_list=[df, 1, 'hi'], values=values, alphabet=alphabet)\n",
    "    print(f'{function_name}: test 3')\n",
    "    test_parameter_values(mavenn.heatmap, var_name='df', success_list=[], fail_list=[None, df, 1, 'hi'], values=values, alphabet=None)\n",
    "    print(f'{function_name}: test 4')\n",
    "    test_parameter_values(mavenn.heatmap, var_name='df', success_list=[], fail_list=[None, df, 1, 'hi'], values=None, alphabet=alphabet)\n",
    "    \n",
    "    # Test values\n",
    "    print(f'{function_name}: test 5')\n",
    "    test_parameter_values(mavenn.heatmap, var_name='values', success_list=[values, df.values], fail_list=[None, 1, 'hi', values[:,:-1]], df=None, alphabet=alphabet)\n",
    "\n",
    "    # Test alphabet\n",
    "    print(f'{function_name}: test 6')\n",
    "    test_parameter_values(mavenn.heatmap, var_name='alphabet', success_list=[df.columns, list(df.columns), 'dna'], fail_list=[None, 1, 'hi'], df=None, values=values)\n",
    "    \n",
    "test_heatmap()"
   ]
  },
  {
   "cell_type": "code",
   "execution_count": null,
   "metadata": {},
   "outputs": [],
   "source": []
  }
 ],
 "metadata": {
  "kernelspec": {
   "display_name": "test_mavenn",
   "language": "python",
   "name": "python3"
  },
  "language_info": {
   "codemirror_mode": {
    "name": "ipython",
    "version": 3
   },
   "file_extension": ".py",
   "mimetype": "text/x-python",
   "name": "python",
   "nbconvert_exporter": "python",
   "pygments_lexer": "ipython3",
   "version": "3.12.8"
  }
 },
 "nbformat": 4,
 "nbformat_minor": 2
}
